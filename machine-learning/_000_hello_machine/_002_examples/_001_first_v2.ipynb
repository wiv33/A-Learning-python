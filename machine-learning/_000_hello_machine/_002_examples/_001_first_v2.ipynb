{
  "nbformat": 4,
  "nbformat_minor": 0,
  "metadata": {
    "colab": {
      "name": "programmers/_v2_submit.ipynb",
      "provenance": [],
      "collapsed_sections": [],
      "authorship_tag": "ABX9TyPdZ7waX+RRSjr57+V1wZuz",
      "include_colab_link": true
    },
    "kernelspec": {
      "name": "python3",
      "display_name": "Python 3"
    }
  },
  "cells": [
    {
      "cell_type": "markdown",
      "metadata": {
        "id": "view-in-github",
        "colab_type": "text"
      },
      "source": [
        "<a href=\"https://colab.research.google.com/github/wiv33/A-Learning-python/blob/master/machine-learning/_000_hello_machine/_002_examples/_001_first_v2.ipynb\" target=\"_parent\"><img src=\"https://colab.research.google.com/assets/colab-badge.svg\" alt=\"Open In Colab\"/></a>"
      ]
    },
    {
      "cell_type": "code",
      "metadata": {
        "id": "rynsdL9eKBSN",
        "outputId": "36909a48-f4be-4247-9fbf-ba7ad89e1522",
        "colab": {
          "base_uri": "https://localhost:8080/",
          "height": 35
        }
      },
      "source": [
        "from google.colab import drive\n",
        "drive.mount(\"/content/drive\")"
      ],
      "execution_count": 4,
      "outputs": [
        {
          "output_type": "stream",
          "text": [
            "Mounted at /content/drive\n"
          ],
          "name": "stdout"
        }
      ]
    },
    {
      "cell_type": "code",
      "metadata": {
        "id": "hQijNsTkL6Ca"
      },
      "source": [
        "# !unzip '/content/drive/My Drive/Colab Notebooks/data/programmers_v2/train_job.zip' -d '/content/drive/My Drive/Colab Notebooks/data/programmers_v2/'"
      ],
      "execution_count": 5,
      "outputs": []
    },
    {
      "cell_type": "code",
      "metadata": {
        "id": "8PeXkd2NPTru",
        "outputId": "cb704c78-8783-45f7-8b6b-98f98ae85649",
        "colab": {
          "base_uri": "https://localhost:8080/",
          "height": 52
        }
      },
      "source": [
        "!nvidia-smi"
      ],
      "execution_count": 6,
      "outputs": [
        {
          "output_type": "stream",
          "text": [
            "NVIDIA-SMI has failed because it couldn't communicate with the NVIDIA driver. Make sure that the latest NVIDIA driver is installed and running.\n",
            "\n"
          ],
          "name": "stdout"
        }
      ]
    },
    {
      "cell_type": "code",
      "metadata": {
        "id": "7zyeECy6M1aP"
      },
      "source": [
        "data_dir_path = '/content/drive/My Drive/Colab Notebooks/data/programmers_v2/'"
      ],
      "execution_count": 7,
      "outputs": []
    },
    {
      "cell_type": "code",
      "metadata": {
        "id": "CBXZUnSHMuhU"
      },
      "source": [
        "import pandas as pd\n",
        "\n",
        "def cp(s):\n",
        "  return \"{}{}\".format(data_dir_path, s)\n",
        "\n",
        "tags_df = pd.read_csv(cp('tags.csv'))\n",
        "train_df = pd.read_csv(cp('train.csv'))\n",
        "user_tag_df = pd.read_csv(cp('user_tags.csv'))\n",
        "job_companies_df = pd.read_csv(cp('job_companies.csv'))\n",
        "job_tag_df = pd.read_csv(cp('job_tags.csv'))"
      ],
      "execution_count": 8,
      "outputs": []
    },
    {
      "cell_type": "code",
      "metadata": {
        "id": "Pn5v4cT5NN7u",
        "outputId": "33a630ff-5bb8-43e4-fe1b-80c72cdd9670",
        "colab": {
          "base_uri": "https://localhost:8080/",
          "height": 202
        }
      },
      "source": [
        "tags_df.sample(5)"
      ],
      "execution_count": 51,
      "outputs": [
        {
          "output_type": "execute_result",
          "data": {
            "text/html": [
              "<div>\n",
              "<style scoped>\n",
              "    .dataframe tbody tr th:only-of-type {\n",
              "        vertical-align: middle;\n",
              "    }\n",
              "\n",
              "    .dataframe tbody tr th {\n",
              "        vertical-align: top;\n",
              "    }\n",
              "\n",
              "    .dataframe thead th {\n",
              "        text-align: right;\n",
              "    }\n",
              "</style>\n",
              "<table border=\"1\" class=\"dataframe\">\n",
              "  <thead>\n",
              "    <tr style=\"text-align: right;\">\n",
              "      <th></th>\n",
              "      <th>tagID</th>\n",
              "      <th>keyword</th>\n",
              "    </tr>\n",
              "  </thead>\n",
              "  <tbody>\n",
              "    <tr>\n",
              "      <th>31</th>\n",
              "      <td>8e2cfdc275761edc592f73a076197c33</td>\n",
              "      <td>Webpack</td>\n",
              "    </tr>\n",
              "    <tr>\n",
              "      <th>233</th>\n",
              "      <td>56468d5607a5aaf1604ff5e15593b003</td>\n",
              "      <td>AWS ElastiCache</td>\n",
              "    </tr>\n",
              "    <tr>\n",
              "      <th>446</th>\n",
              "      <td>24146db4eb48c718b84cae0a0799dcfc</td>\n",
              "      <td>Protocol Buffers</td>\n",
              "    </tr>\n",
              "    <tr>\n",
              "      <th>624</th>\n",
              "      <td>573eec40e4ef4f2089531dd5cbf629f8</td>\n",
              "      <td>Knockout.js</td>\n",
              "    </tr>\n",
              "    <tr>\n",
              "      <th>884</th>\n",
              "      <td>c2aee86157b4a40b78132f1e71a9e6f1</td>\n",
              "      <td>*</td>\n",
              "    </tr>\n",
              "  </tbody>\n",
              "</table>\n",
              "</div>"
            ],
            "text/plain": [
              "                                tagID           keyword\n",
              "31   8e2cfdc275761edc592f73a076197c33           Webpack\n",
              "233  56468d5607a5aaf1604ff5e15593b003   AWS ElastiCache\n",
              "446  24146db4eb48c718b84cae0a0799dcfc  Protocol Buffers\n",
              "624  573eec40e4ef4f2089531dd5cbf629f8       Knockout.js\n",
              "884  c2aee86157b4a40b78132f1e71a9e6f1                 *"
            ]
          },
          "metadata": {
            "tags": []
          },
          "execution_count": 51
        }
      ]
    },
    {
      "cell_type": "code",
      "metadata": {
        "id": "7IpYWGqGD5Wj",
        "outputId": "bb4f50ed-f59c-40b4-d6bb-b3099942132e",
        "colab": {
          "base_uri": "https://localhost:8080/",
          "height": 407
        }
      },
      "source": [
        "import seaborn as sns\n",
        "import matplotlib.pyplot as plt\n",
        "\n",
        "fig, ax = plt.subplots(1, 1, figsize=(12, 5))\n",
        "sns.countplot(train_df['applied'])"
      ],
      "execution_count": 10,
      "outputs": [
        {
          "output_type": "stream",
          "text": [
            "/usr/local/lib/python3.6/dist-packages/seaborn/_decorators.py:43: FutureWarning: Pass the following variable as a keyword arg: x. From version 0.12, the only valid positional argument will be `data`, and passing other arguments without an explicit keyword will result in an error or misinterpretation.\n",
            "  FutureWarning\n"
          ],
          "name": "stderr"
        },
        {
          "output_type": "execute_result",
          "data": {
            "text/plain": [
              "<matplotlib.axes._subplots.AxesSubplot at 0x7fc2be037dd8>"
            ]
          },
          "metadata": {
            "tags": []
          },
          "execution_count": 10
        },
        {
          "output_type": "display_data",
          "data": {
            "image/png": "[encoded data removed]",
            "text/plain": [
              "<Figure size 864x360 with 1 Axes>"
            ]
          },
          "metadata": {
            "tags": [],
            "needs_background": "light"
          }
        }
      ]
    },
    {
      "cell_type": "code",
      "metadata": {
        "id": "e77Aetg3A_aO"
      },
      "source": [
        ""
      ],
      "execution_count": null,
      "outputs": []
    },
    {
      "cell_type": "code",
      "metadata": {
        "id": "dWHtyMBhEPL1",
        "outputId": "18cd7d2c-a142-477e-d16a-167063def7e7",
        "colab": {
          "base_uri": "https://localhost:8080/",
          "height": 247
        }
      },
      "source": [
        "a = job_tag_df.groupby('jobID')\n",
        "a.jobID.value_counts()"
      ],
      "execution_count": 11,
      "outputs": [
        {
          "output_type": "execute_result",
          "data": {
            "text/plain": [
              "jobID                             jobID                           \n",
              "00ac8ed3b4327bdd4ebbebcb2ba10a00  00ac8ed3b4327bdd4ebbebcb2ba10a00     7\n",
              "00e26af6ac3b1c1c49d7c3d79c60d000  00e26af6ac3b1c1c49d7c3d79c60d000    12\n",
              "00ec53c4682d36f5c4359f4ae7bd7ba1  00ec53c4682d36f5c4359f4ae7bd7ba1     4\n",
              "013a006f03dbc5392effeb8f18fda755  013a006f03dbc5392effeb8f18fda755     3\n",
              "0188e8b8b014829e2fa0f430f0a95961  0188e8b8b014829e2fa0f430f0a95961     3\n",
              "                                                                      ..\n",
              "fed33392d3a48aa149a87a38b875ba4a  fed33392d3a48aa149a87a38b875ba4a     5\n",
              "ff4d5fbbafdf976cfdc032e3bde78de5  ff4d5fbbafdf976cfdc032e3bde78de5     4\n",
              "ffd52f3c7e12435a724a8f30fddadd9c  ffd52f3c7e12435a724a8f30fddadd9c     4\n",
              "ffeabd223de0d4eacb9a3e6e53e5448d  ffeabd223de0d4eacb9a3e6e53e5448d     3\n",
              "ffeed84c7cb1ae7bf4ec4bd78275bb98  ffeed84c7cb1ae7bf4ec4bd78275bb98     2\n",
              "Name: jobID, Length: 733, dtype: int64"
            ]
          },
          "metadata": {
            "tags": []
          },
          "execution_count": 11
        }
      ]
    },
    {
      "cell_type": "code",
      "metadata": {
        "id": "_7r3LM62Nvus",
        "outputId": "3a651888-aae1-421a-b231-ef8607079f33",
        "colab": {
          "base_uri": "https://localhost:8080/",
          "height": 35
        }
      },
      "source": [
        "tags_df[tags_df['tagID'] == '8e2cfdc275761edc592f73a076197c33']['keyword'].values[0]"
      ],
      "execution_count": 58,
      "outputs": [
        {
          "output_type": "execute_result",
          "data": {
            "application/vnd.google.colaboratory.intrinsic+json": {
              "type": "string"
            },
            "text/plain": [
              "'Webpack'"
            ]
          },
          "metadata": {
            "tags": []
          },
          "execution_count": 58
        }
      ]
    },
    {
      "cell_type": "code",
      "metadata": {
        "id": "cVbC_sMsMedz"
      },
      "source": [
        "def grouping_tags(df: pd.DataFrame, id: str) -> {}:\n",
        "    result = []\n",
        "    for u, t in df.groupby(id):\n",
        "      temp = {}\n",
        "      temp[id] = u\n",
        "      temp['{}_tags'.format(id)] = \",\".join(df[df[id] == u]['tagID'].apply(lambda x: tags_df[tags_df['tagID'] == x]['keyword'].values[0]))\n",
        "      result.append(temp)\n",
        "\n",
        "    return pd.DataFrame(result)"
      ],
      "execution_count": 63,
      "outputs": []
    },
    {
      "cell_type": "code",
      "metadata": {
        "id": "RdFrWz6aMxl4",
        "outputId": "3ac88c6d-597e-4c2f-c1a4-4ea24e628610",
        "colab": {
          "base_uri": "https://localhost:8080/",
          "height": 110
        }
      },
      "source": [
        "job_match_df = grouping_tags(job_tag_df, 'jobID')\n",
        "job_match_df.head(2)"
      ],
      "execution_count": 64,
      "outputs": [
        {
          "output_type": "execute_result",
          "data": {
            "text/html": [
              "<div>\n",
              "<style scoped>\n",
              "    .dataframe tbody tr th:only-of-type {\n",
              "        vertical-align: middle;\n",
              "    }\n",
              "\n",
              "    .dataframe tbody tr th {\n",
              "        vertical-align: top;\n",
              "    }\n",
              "\n",
              "    .dataframe thead th {\n",
              "        text-align: right;\n",
              "    }\n",
              "</style>\n",
              "<table border=\"1\" class=\"dataframe\">\n",
              "  <thead>\n",
              "    <tr style=\"text-align: right;\">\n",
              "      <th></th>\n",
              "      <th>jobID</th>\n",
              "      <th>jobID_tags</th>\n",
              "    </tr>\n",
              "  </thead>\n",
              "  <tbody>\n",
              "    <tr>\n",
              "      <th>0</th>\n",
              "      <td>00ac8ed3b4327bdd4ebbebcb2ba10a00</td>\n",
              "      <td>Git,Android,Java,Firebase,REST API,Kotlin,RxJava</td>\n",
              "    </tr>\n",
              "    <tr>\n",
              "      <th>1</th>\n",
              "      <td>00e26af6ac3b1c1c49d7c3d79c60d000</td>\n",
              "      <td>Kotlin,Python,iOS,Node.js,Java,Angular,Android...</td>\n",
              "    </tr>\n",
              "  </tbody>\n",
              "</table>\n",
              "</div>"
            ],
            "text/plain": [
              "                              jobID                                         jobID_tags\n",
              "0  00ac8ed3b4327bdd4ebbebcb2ba10a00   Git,Android,Java,Firebase,REST API,Kotlin,RxJava\n",
              "1  00e26af6ac3b1c1c49d7c3d79c60d000  Kotlin,Python,iOS,Node.js,Java,Angular,Android..."
            ]
          },
          "metadata": {
            "tags": []
          },
          "execution_count": 64
        }
      ]
    },
    {
      "cell_type": "code",
      "metadata": {
        "id": "KvdNAWJKVkfS",
        "outputId": "87e38475-2d5b-4968-beb4-df86f1c58522",
        "colab": {
          "base_uri": "https://localhost:8080/",
          "height": 110
        }
      },
      "source": [
        "user_match_df = grouping_tags(user_tag_df, 'userID')\n",
        "user_match_df.sample(2)"
      ],
      "execution_count": 66,
      "outputs": [
        {
          "output_type": "execute_result",
          "data": {
            "text/html": [
              "<div>\n",
              "<style scoped>\n",
              "    .dataframe tbody tr th:only-of-type {\n",
              "        vertical-align: middle;\n",
              "    }\n",
              "\n",
              "    .dataframe tbody tr th {\n",
              "        vertical-align: top;\n",
              "    }\n",
              "\n",
              "    .dataframe thead th {\n",
              "        text-align: right;\n",
              "    }\n",
              "</style>\n",
              "<table border=\"1\" class=\"dataframe\">\n",
              "  <thead>\n",
              "    <tr style=\"text-align: right;\">\n",
              "      <th></th>\n",
              "      <th>userID</th>\n",
              "      <th>userID_tags</th>\n",
              "    </tr>\n",
              "  </thead>\n",
              "  <tbody>\n",
              "    <tr>\n",
              "      <th>62</th>\n",
              "      <td>5bfbe18286921673dbb4c9fa80f0734b</td>\n",
              "      <td>Java,JavaScript,Apache Struts,Java,Java,Apache...</td>\n",
              "    </tr>\n",
              "    <tr>\n",
              "      <th>94</th>\n",
              "      <td>7e5c43aee3b770da0c9be62c298971cc</td>\n",
              "      <td>MySQL,JavaScript,JavaScript,JavaScript,Java,Ja...</td>\n",
              "    </tr>\n",
              "  </tbody>\n",
              "</table>\n",
              "</div>"
            ],
            "text/plain": [
              "                              userID                                        userID_tags\n",
              "62  5bfbe18286921673dbb4c9fa80f0734b  Java,JavaScript,Apache Struts,Java,Java,Apache...\n",
              "94  7e5c43aee3b770da0c9be62c298971cc  MySQL,JavaScript,JavaScript,JavaScript,Java,Ja..."
            ]
          },
          "metadata": {
            "tags": []
          },
          "execution_count": 66
        }
      ]
    },
    {
      "cell_type": "markdown",
      "metadata": {
        "id": "d4FxX-Z_V-oB"
      },
      "source": [
        "# train 데이터에 job과 user tag 삽입"
      ]
    },
    {
      "cell_type": "code",
      "metadata": {
        "id": "I-Ub7tbbV-Lu"
      },
      "source": [
        "merge_user = pd.merge(train_df, user_match_df, how='left')\n",
        "complete_merge = pd.merge(merge_user, job_match_df, how='left')"
      ],
      "execution_count": 67,
      "outputs": []
    },
    {
      "cell_type": "markdown",
      "metadata": {
        "id": "27z8wUkYS-P_"
      },
      "source": [
        "# 정규화 필요"
      ]
    },
    {
      "cell_type": "code",
      "metadata": {
        "id": "vDGL8xThL0Jp",
        "outputId": "61da667d-75ab-4b66-c709-fadad34ab0f6",
        "colab": {
          "base_uri": "https://localhost:8080/",
          "height": 551
        }
      },
      "source": [
        "complete_merge[complete_merge['applied'] == 1]"
      ],
      "execution_count": 70,
      "outputs": [
        {
          "output_type": "execute_result",
          "data": {
            "text/html": [
              "<div>\n",
              "<style scoped>\n",
              "    .dataframe tbody tr th:only-of-type {\n",
              "        vertical-align: middle;\n",
              "    }\n",
              "\n",
              "    .dataframe tbody tr th {\n",
              "        vertical-align: top;\n",
              "    }\n",
              "\n",
              "    .dataframe thead th {\n",
              "        text-align: right;\n",
              "    }\n",
              "</style>\n",
              "<table border=\"1\" class=\"dataframe\">\n",
              "  <thead>\n",
              "    <tr style=\"text-align: right;\">\n",
              "      <th></th>\n",
              "      <th>userID</th>\n",
              "      <th>jobID</th>\n",
              "      <th>applied</th>\n",
              "      <th>userID_tags</th>\n",
              "      <th>jobID_tags</th>\n",
              "    </tr>\n",
              "  </thead>\n",
              "  <tbody>\n",
              "    <tr>\n",
              "      <th>2</th>\n",
              "      <td>8ec0888a5b04139be0dfe942c7eb4199</td>\n",
              "      <td>0fcbc61acd0479dc77e3cccc0f5ffca7</td>\n",
              "      <td>1</td>\n",
              "      <td>Raspberry Pi,Android,Cuckoo Sandbox,Facebook A...</td>\n",
              "      <td>Swift,Android,iOS</td>\n",
              "    </tr>\n",
              "    <tr>\n",
              "      <th>23</th>\n",
              "      <td>b052e2e0c0ad1b2d5036bd56e27d061c</td>\n",
              "      <td>4a213d37242bdcad8e7300e202e7caa4</td>\n",
              "      <td>1</td>\n",
              "      <td>Spring Data,Apache Maven,H2 Database,CSS,JSP,A...</td>\n",
              "      <td>Node.js,MySQL,Redis,MongoDB,Java,Git</td>\n",
              "    </tr>\n",
              "    <tr>\n",
              "      <th>24</th>\n",
              "      <td>a35af76a1c0bb174a3cfc66592804848</td>\n",
              "      <td>e820a45f1dfc7b95282d10b6087e11c0</td>\n",
              "      <td>1</td>\n",
              "      <td>Responsive Web,Java,Responsive Web,Java,Google...</td>\n",
              "      <td>HTML,Vue.js,AngularJS,JavaScript,CSS,ReactJS</td>\n",
              "    </tr>\n",
              "    <tr>\n",
              "      <th>29</th>\n",
              "      <td>cb08b2c94dbb772324444bb4ed7cc1a4</td>\n",
              "      <td>9b70e8fe62e40c570a322f1b0b659098</td>\n",
              "      <td>1</td>\n",
              "      <td>AngularJS,jQuery,AngularJS,jQuery,JavaScript,G...</td>\n",
              "      <td>GCP(Google Cloud Platform),Elasticsearch,Java,...</td>\n",
              "    </tr>\n",
              "    <tr>\n",
              "      <th>35</th>\n",
              "      <td>688da39dcb1131d0d91b348653850d08</td>\n",
              "      <td>b534ba68236ba543ae44b22bd110a1d6</td>\n",
              "      <td>1</td>\n",
              "      <td>ReactJS,Linux,jQuery,PHP,JavaScript,jQuery,PHP...</td>\n",
              "      <td>Linux,PostgreSQL,ReactJS,JavaScript,Git,React ...</td>\n",
              "    </tr>\n",
              "    <tr>\n",
              "      <th>...</th>\n",
              "      <td>...</td>\n",
              "      <td>...</td>\n",
              "      <td>...</td>\n",
              "      <td>...</td>\n",
              "      <td>...</td>\n",
              "    </tr>\n",
              "    <tr>\n",
              "      <th>5976</th>\n",
              "      <td>e3979074cac4d9393ebbd4c2a534a851</td>\n",
              "      <td>58d4d1e7b1e97b258c9ed0b37e02d087</td>\n",
              "      <td>1</td>\n",
              "      <td>ExpressJS,PHP,HTML,Mongoose,MySQL,Raspberry Pi...</td>\n",
              "      <td>Node.js,Microservice Architecture,AWS Lambda,J...</td>\n",
              "    </tr>\n",
              "    <tr>\n",
              "      <th>5981</th>\n",
              "      <td>6da6479250104018131de61655f1f385</td>\n",
              "      <td>851ddf5058cf22df63d3344ad89919cf</td>\n",
              "      <td>1</td>\n",
              "      <td>Django,Selenium,Bootstrap,Ubuntu,Django,Seleni...</td>\n",
              "      <td>Ruby,JavaScript,Aurora DB,Vue.js,GitHub,Sass(S...</td>\n",
              "    </tr>\n",
              "    <tr>\n",
              "      <th>5983</th>\n",
              "      <td>6bd22a86b1f7a3a11de928d301f86d67</td>\n",
              "      <td>758874998f5bd0c393da094e1967a72b</td>\n",
              "      <td>1</td>\n",
              "      <td>Java,JavaScript,Node.js,Kotlin,Android,Android...</td>\n",
              "      <td>Java,Kotlin</td>\n",
              "    </tr>\n",
              "    <tr>\n",
              "      <th>5985</th>\n",
              "      <td>2eeb9064f7f5b2569912cbb772a96438</td>\n",
              "      <td>24b16fede9a67c9251d3e7c7161c83ac</td>\n",
              "      <td>1</td>\n",
              "      <td>JavaScript,SQLite,Python,JavaScript,JavaScript...</td>\n",
              "      <td>PostgreSQL,Redis,Ruby on Rails,Memcached,Datab...</td>\n",
              "    </tr>\n",
              "    <tr>\n",
              "      <th>5993</th>\n",
              "      <td>5585082ed1ea25eaf73052029f2161ce</td>\n",
              "      <td>9cc138f8dc04cbf16240daa92d8d50e2</td>\n",
              "      <td>1</td>\n",
              "      <td>Android,GitLab,MQTT,Git,SQLite,Raspberry Pi,ce...</td>\n",
              "      <td>Oracle,Spring,MySQL,Java</td>\n",
              "    </tr>\n",
              "  </tbody>\n",
              "</table>\n",
              "<p>857 rows × 5 columns</p>\n",
              "</div>"
            ],
            "text/plain": [
              "                                userID  ...                                         jobID_tags\n",
              "2     8ec0888a5b04139be0dfe942c7eb4199  ...                                  Swift,Android,iOS\n",
              "23    b052e2e0c0ad1b2d5036bd56e27d061c  ...               Node.js,MySQL,Redis,MongoDB,Java,Git\n",
              "24    a35af76a1c0bb174a3cfc66592804848  ...       HTML,Vue.js,AngularJS,JavaScript,CSS,ReactJS\n",
              "29    cb08b2c94dbb772324444bb4ed7cc1a4  ...  GCP(Google Cloud Platform),Elasticsearch,Java,...\n",
              "35    688da39dcb1131d0d91b348653850d08  ...  Linux,PostgreSQL,ReactJS,JavaScript,Git,React ...\n",
              "...                                ...  ...                                                ...\n",
              "5976  e3979074cac4d9393ebbd4c2a534a851  ...  Node.js,Microservice Architecture,AWS Lambda,J...\n",
              "5981  6da6479250104018131de61655f1f385  ...  Ruby,JavaScript,Aurora DB,Vue.js,GitHub,Sass(S...\n",
              "5983  6bd22a86b1f7a3a11de928d301f86d67  ...                                        Java,Kotlin\n",
              "5985  2eeb9064f7f5b2569912cbb772a96438  ...  PostgreSQL,Redis,Ruby on Rails,Memcached,Datab...\n",
              "5993  5585082ed1ea25eaf73052029f2161ce  ...                           Oracle,Spring,MySQL,Java\n",
              "\n",
              "[857 rows x 5 columns]"
            ]
          },
          "metadata": {
            "tags": []
          },
          "execution_count": 70
        }
      ]
    },
    {
      "cell_type": "code",
      "metadata": {
        "id": "N2zulkKwegmM"
      },
      "source": [
        "complete_merge['job_tags_split'] = complete_merge['jobID_tags'].apply(lambda x: x.split(\",\"))\n",
        "complete_merge['user_tags_split'] = complete_merge['userID_tags'].apply(lambda x: x.split(\",\"))"
      ],
      "execution_count": 71,
      "outputs": []
    },
    {
      "cell_type": "code",
      "metadata": {
        "id": "xA-voeRbfEVq",
        "outputId": "74cda0ae-8e8e-4f36-9f8e-6e9eaf1c8b14",
        "colab": {
          "base_uri": "https://localhost:8080/",
          "height": 859
        }
      },
      "source": [
        "complete_merge"
      ],
      "execution_count": 72,
      "outputs": [
        {
          "output_type": "execute_result",
          "data": {
            "text/html": [
              "<div>\n",
              "<style scoped>\n",
              "    .dataframe tbody tr th:only-of-type {\n",
              "        vertical-align: middle;\n",
              "    }\n",
              "\n",
              "    .dataframe tbody tr th {\n",
              "        vertical-align: top;\n",
              "    }\n",
              "\n",
              "    .dataframe thead th {\n",
              "        text-align: right;\n",
              "    }\n",
              "</style>\n",
              "<table border=\"1\" class=\"dataframe\">\n",
              "  <thead>\n",
              "    <tr style=\"text-align: right;\">\n",
              "      <th></th>\n",
              "      <th>userID</th>\n",
              "      <th>jobID</th>\n",
              "      <th>applied</th>\n",
              "      <th>userID_tags</th>\n",
              "      <th>jobID_tags</th>\n",
              "      <th>job_tags_split</th>\n",
              "      <th>user_tags_split</th>\n",
              "    </tr>\n",
              "  </thead>\n",
              "  <tbody>\n",
              "    <tr>\n",
              "      <th>0</th>\n",
              "      <td>fe292163d06253b716e9a0099b42031d</td>\n",
              "      <td>15de21c670ae7c3f6f3f1f37029303c9</td>\n",
              "      <td>0</td>\n",
              "      <td>MongoDB,Docker,Java,Jenkins,ExpressJS,OpenCV,S...</td>\n",
              "      <td>Ruby on Rails,Ruby</td>\n",
              "      <td>[Ruby on Rails, Ruby]</td>\n",
              "      <td>[MongoDB, Docker, Java, Jenkins, ExpressJS, Op...</td>\n",
              "    </tr>\n",
              "    <tr>\n",
              "      <th>1</th>\n",
              "      <td>6377fa90618fae77571e8dc90d98d409</td>\n",
              "      <td>55b37c5c270e5d84c793e486d798c01d</td>\n",
              "      <td>0</td>\n",
              "      <td>Java,Apache Tomcat,HTML5,ReactJS,Apache Spark,...</td>\n",
              "      <td>AWS DynamoDB,Python,MySQL</td>\n",
              "      <td>[AWS DynamoDB, Python, MySQL]</td>\n",
              "      <td>[Java, Apache Tomcat, HTML5, ReactJS, Apache S...</td>\n",
              "    </tr>\n",
              "    <tr>\n",
              "      <th>2</th>\n",
              "      <td>8ec0888a5b04139be0dfe942c7eb4199</td>\n",
              "      <td>0fcbc61acd0479dc77e3cccc0f5ffca7</td>\n",
              "      <td>1</td>\n",
              "      <td>Raspberry Pi,Android,Cuckoo Sandbox,Facebook A...</td>\n",
              "      <td>Swift,Android,iOS</td>\n",
              "      <td>[Swift, Android, iOS]</td>\n",
              "      <td>[Raspberry Pi, Android, Cuckoo Sandbox, Facebo...</td>\n",
              "    </tr>\n",
              "    <tr>\n",
              "      <th>3</th>\n",
              "      <td>f862b39f767d3a1991bdeb2ea1401c9c</td>\n",
              "      <td>3b5dca501ee1e6d8cd7b905f4e1bf723</td>\n",
              "      <td>0</td>\n",
              "      <td>MariaDB,Raspberry Pi,HTML,TypeScript,Flask,And...</td>\n",
              "      <td>JavaScript,React Native,ReactJS,TypeScript,Vue.js</td>\n",
              "      <td>[JavaScript, React Native, ReactJS, TypeScript...</td>\n",
              "      <td>[MariaDB, Raspberry Pi, HTML, TypeScript, Flas...</td>\n",
              "    </tr>\n",
              "    <tr>\n",
              "      <th>4</th>\n",
              "      <td>cac14930c65d72c16efac2c51a6b7f71</td>\n",
              "      <td>287e03db1d99e0ec2edb90d079e142f3</td>\n",
              "      <td>0</td>\n",
              "      <td>Spring,AWS EC2,CSS3,KakaoPay API,Spring Data J...</td>\n",
              "      <td>Python,ReactJS,JavaScript,Webpack</td>\n",
              "      <td>[Python, ReactJS, JavaScript, Webpack]</td>\n",
              "      <td>[Spring, AWS EC2, CSS3, KakaoPay API, Spring D...</td>\n",
              "    </tr>\n",
              "    <tr>\n",
              "      <th>...</th>\n",
              "      <td>...</td>\n",
              "      <td>...</td>\n",
              "      <td>...</td>\n",
              "      <td>...</td>\n",
              "      <td>...</td>\n",
              "      <td>...</td>\n",
              "      <td>...</td>\n",
              "    </tr>\n",
              "    <tr>\n",
              "      <th>5995</th>\n",
              "      <td>68cb94b97d00979f4e8127915885b641</td>\n",
              "      <td>b9228e0962a78b84f3d5d92f4faa000b</td>\n",
              "      <td>0</td>\n",
              "      <td>Apache Maven,Java,Redux.js,MongoDB,ES6,MySQL,P...</td>\n",
              "      <td>Java,JavaScript</td>\n",
              "      <td>[Java, JavaScript]</td>\n",
              "      <td>[Apache Maven, Java, Redux.js, MongoDB, ES6, M...</td>\n",
              "    </tr>\n",
              "    <tr>\n",
              "      <th>5996</th>\n",
              "      <td>c0b199d73bdf390c2f4c3150b6ee1574</td>\n",
              "      <td>e3796ae838835da0b6f6ea37bcf8bcb7</td>\n",
              "      <td>0</td>\n",
              "      <td>GitHub,Node.js,Redux.js,CSS,JavaScript,ReactJS...</td>\n",
              "      <td>ReactJS,Git,React Native,Objective-C,Android,J...</td>\n",
              "      <td>[ReactJS, Git, React Native, Objective-C, Andr...</td>\n",
              "      <td>[GitHub, Node.js, Redux.js, CSS, JavaScript, R...</td>\n",
              "    </tr>\n",
              "    <tr>\n",
              "      <th>5997</th>\n",
              "      <td>3ab88dd28f749fe4ec90c0b6f9896eb5</td>\n",
              "      <td>e2a2dcc36a08a345332c751b2f2e476c</td>\n",
              "      <td>0</td>\n",
              "      <td>JavaScript,Spring,Java,MySQL,JSP,MySQL,JSP,CSS...</td>\n",
              "      <td>Apache Kafka,MySQL,Java,Linux,CI/CD,AWS RDS,El...</td>\n",
              "      <td>[Apache Kafka, MySQL, Java, Linux, CI/CD, AWS ...</td>\n",
              "      <td>[JavaScript, Spring, Java, MySQL, JSP, MySQL, ...</td>\n",
              "    </tr>\n",
              "    <tr>\n",
              "      <th>5998</th>\n",
              "      <td>75b4af0dacbc119eadf4eeb096738405</td>\n",
              "      <td>3b712de48137572f3849aabd5666a4e3</td>\n",
              "      <td>0</td>\n",
              "      <td>ReactJS,TypeScript,Git,Git,ReactJS,TypeScript,...</td>\n",
              "      <td>JavaScript,ReactJS,Node.js,Webpack</td>\n",
              "      <td>[JavaScript, ReactJS, Node.js, Webpack]</td>\n",
              "      <td>[ReactJS, TypeScript, Git, Git, ReactJS, TypeS...</td>\n",
              "    </tr>\n",
              "    <tr>\n",
              "      <th>5999</th>\n",
              "      <td>67adefb430df142b099bed89bd491524</td>\n",
              "      <td>65cc2c8205a05d7379fa3a6386f710e1</td>\n",
              "      <td>0</td>\n",
              "      <td>Spring Data JPA,MySQL,Java,AWS S3,Swagger,MyBa...</td>\n",
              "      <td>JavaScript,Docker,Kotlin,Spring Boot</td>\n",
              "      <td>[JavaScript, Docker, Kotlin, Spring Boot]</td>\n",
              "      <td>[Spring Data JPA, MySQL, Java, AWS S3, Swagger...</td>\n",
              "    </tr>\n",
              "  </tbody>\n",
              "</table>\n",
              "<p>6000 rows × 7 columns</p>\n",
              "</div>"
            ],
            "text/plain": [
              "                                userID  ...                                    user_tags_split\n",
              "0     fe292163d06253b716e9a0099b42031d  ...  [MongoDB, Docker, Java, Jenkins, ExpressJS, Op...\n",
              "1     6377fa90618fae77571e8dc90d98d409  ...  [Java, Apache Tomcat, HTML5, ReactJS, Apache S...\n",
              "2     8ec0888a5b04139be0dfe942c7eb4199  ...  [Raspberry Pi, Android, Cuckoo Sandbox, Facebo...\n",
              "3     f862b39f767d3a1991bdeb2ea1401c9c  ...  [MariaDB, Raspberry Pi, HTML, TypeScript, Flas...\n",
              "4     cac14930c65d72c16efac2c51a6b7f71  ...  [Spring, AWS EC2, CSS3, KakaoPay API, Spring D...\n",
              "...                                ...  ...                                                ...\n",
              "5995  68cb94b97d00979f4e8127915885b641  ...  [Apache Maven, Java, Redux.js, MongoDB, ES6, M...\n",
              "5996  c0b199d73bdf390c2f4c3150b6ee1574  ...  [GitHub, Node.js, Redux.js, CSS, JavaScript, R...\n",
              "5997  3ab88dd28f749fe4ec90c0b6f9896eb5  ...  [JavaScript, Spring, Java, MySQL, JSP, MySQL, ...\n",
              "5998  75b4af0dacbc119eadf4eeb096738405  ...  [ReactJS, TypeScript, Git, Git, ReactJS, TypeS...\n",
              "5999  67adefb430df142b099bed89bd491524  ...  [Spring Data JPA, MySQL, Java, AWS S3, Swagger...\n",
              "\n",
              "[6000 rows x 7 columns]"
            ]
          },
          "metadata": {
            "tags": []
          },
          "execution_count": 72
        }
      ]
    },
    {
      "cell_type": "code",
      "metadata": {
        "id": "IVcfJaUJN9eZ",
        "outputId": "f4bfa5c5-12e0-4562-f16b-7c60c3b0f154",
        "colab": {
          "base_uri": "https://localhost:8080/",
          "height": 55
        }
      },
      "source": [
        "complete_merge['userID_tags'].sample().apply(lambda x: x.split(\",\")).tolist()\n"
      ],
      "execution_count": 20,
      "outputs": [
        {
          "output_type": "execute_result",
          "data": {
            "text/plain": [
              "[['4e8412ad48562e3c9934f45c3e144d48 2ba8698b79439589fdd2b0f7218d8b07 452bf208bf901322968557227b8f6efe c8ba76c279269b1c6bc8a07e38e78fa4 f47330643ae134ca204bf6b2481fec47 f47330643ae134ca204bf6b2481fec47 4e8412ad48562e3c9934f45c3e144d48 2ba8698b79439589fdd2b0f7218d8b07 452bf208bf901322968557227b8f6efe 4e8412ad48562e3c9934f45c3e144d48 f47330643ae134ca204bf6b2481fec47 c8ba76c279269b1c6bc8a07e38e78fa4 c8ba76c279269b1c6bc8a07e38e78fa4 2ba8698b79439589fdd2b0f7218d8b07 452bf208bf901322968557227b8f6efe f47330643ae134ca204bf6b2481fec47 4e8412ad48562e3c9934f45c3e144d48 2ba8698b79439589fdd2b0f7218d8b07 452bf208bf901322968557227b8f6efe 8f1d43620bc6bb580df6e80b0dc05c48 03f544613917945245041ea1581df0c2 f47330643ae134ca204bf6b2481fec47 4e8412ad48562e3c9934f45c3e144d48 c8ba76c279269b1c6bc8a07e38e78fa4 8f1d43620bc6bb580df6e80b0dc05c48 03f544613917945245041ea1581df0c2 2ba8698b79439589fdd2b0f7218d8b07 452bf208bf901322968557227b8f6efe c8ba76c279269b1c6bc8a07e38e78fa4']]"
            ]
          },
          "metadata": {
            "tags": []
          },
          "execution_count": 20
        }
      ]
    },
    {
      "cell_type": "code",
      "metadata": {
        "id": "JXTbVuD9LDKT"
      },
      "source": [
        "from sklearn.metrics.pairwise import euclidean_distances\n",
        "\n",
        "def l1_normalize(v):\n",
        "    return v / np.sum(v)\n",
        "\n",
        "# euclidean_distances(tfidf_metric[:, :, 2], tfidf_metric[:, :, 1])"
      ],
      "execution_count": 21,
      "outputs": []
    },
    {
      "cell_type": "markdown",
      "metadata": {
        "id": "AJFz4JKc4oTC"
      },
      "source": [
        "## 첫 번째 시도\n",
        "\n"
      ]
    },
    {
      "cell_type": "code",
      "metadata": {
        "id": "CnCwW2V2NUHz"
      },
      "source": [
        "from tensorflow.python.keras.preprocessing.sequence import pad_sequences\n",
        "from tensorflow.python.keras.preprocessing.text import Tokenizer\n",
        "import numpy as np "
      ],
      "execution_count": 22,
      "outputs": []
    },
    {
      "cell_type": "code",
      "metadata": {
        "id": "brcvRpJpSQll",
        "outputId": "0f2b9df5-0694-4edf-d8c5-fe42b1c39ae6",
        "colab": {
          "base_uri": "https://localhost:8080/",
          "height": 35
        }
      },
      "source": [
        "tokenizer = Tokenizer()\n",
        "tokenizer.fit_on_texts(user_tag_df['userID'])\n",
        "tokenizer.fit_on_texts(tags_df['tagID'])\n",
        "tokenizer.fit_on_texts(job_companies_df['companyID'])\n",
        "tokenizer.fit_on_texts(job_companies_df['jobID'])\n",
        "tokenizer.fit_on_texts(job_companies_df['companySize'].fillna('0'))\n",
        "# tag_sequences = tokenizer.texts_to_sequences(tags_df['tagID'])\n",
        "tag_vocab = tokenizer.word_index\n",
        "\n",
        "len(tag_vocab)\n",
        "# tokenizer.texts_to_sequences()"
      ],
      "execution_count": 23,
      "outputs": [
        {
          "output_type": "execute_result",
          "data": {
            "text/plain": [
              "1583"
            ]
          },
          "metadata": {
            "tags": []
          },
          "execution_count": 23
        }
      ]
    },
    {
      "cell_type": "markdown",
      "metadata": {
        "id": "W7TcvsTn4ufH"
      },
      "source": [
        "## 두 번째 시도\n"
      ]
    },
    {
      "cell_type": "code",
      "metadata": {
        "id": "1jScKPzGg2wu",
        "outputId": "e603bed1-70f2-4f92-db10-ae1e67513194",
        "colab": {
          "base_uri": "https://localhost:8080/",
          "height": 229
        }
      },
      "source": [
        "df_fit = complete_merge['userID_tags'].append(complete_merge['jobID_tags'])\n",
        "df_fit"
      ],
      "execution_count": 24,
      "outputs": [
        {
          "output_type": "execute_result",
          "data": {
            "text/plain": [
              "0       285ab9448d2751ee57ece7f762c39095 a1d50185e7426...\n",
              "1       f47330643ae134ca204bf6b2481fec47 8f1d43620bc6b...\n",
              "2       f91e24dfe80012e2a7984afa4480a6d6 aace49c7d8076...\n",
              "3       7501e5d4da87ac39d782741cd794002d f91e24dfe8001...\n",
              "4       2ba8698b79439589fdd2b0f7218d8b07 4e2545f819e67...\n",
              "                              ...                        \n",
              "5995    f47330643ae134ca204bf6b2481fec47 0e095e054ee94...\n",
              "5996    81dc9bdb52d04dc20036dbd8313ed055 884d79963bd8b...\n",
              "5997    b20bb95ab626d93fd976af958fbc61ba c8ba76c279269...\n",
              "5998    0e095e054ee94774d6a496099eb1cf6a 81dc9bdb52d04...\n",
              "5999    0e095e054ee94774d6a496099eb1cf6a a1d50185e7426...\n",
              "Length: 12000, dtype: object"
            ]
          },
          "metadata": {
            "tags": []
          },
          "execution_count": 24
        }
      ]
    },
    {
      "cell_type": "code",
      "metadata": {
        "id": "eMxlTImd4vUL",
        "outputId": "4ef0a92c-6fd4-47a3-aa36-3f4397fe7b5f",
        "colab": {
          "base_uri": "https://localhost:8080/",
          "height": 108
        }
      },
      "source": [
        "from sklearn.feature_extraction.text import TfidfVectorizer\n",
        "\n",
        "vectorizer = TfidfVectorizer()\n",
        "count_train = vectorizer.fit(df_fit)\n",
        "bag_of_words = vectorizer.fit_transform(df_fit)\n",
        "print(vectorizer.get_feature_names())\n",
        "vocab = vectorizer.vocabulary_\n",
        "print(bag_of_words.shape)\n",
        "print(vocab)\n"
      ],
      "execution_count": 29,
      "outputs": [
        {
          "output_type": "stream",
          "text": [
            "['03e7ef47cee6fa4ae7567394b99912b7', '03f544613917945245041ea1581df0c2', '045117b0e0a11a242b9765e79cbf113f', '063e26c670d07bb7c4d30e6fc69fe056', '06eb61b839a0cefee4967c67ccb099dc', '07042ac7d03d3b9911a00da43ce0079a', '07563a3fe3bbe7e3ba84431ad9d055af', '076023edc9187cf1ac1f1163470e479a', '07cb5f86508f146774a2fac4373a8e50', '0a09c8844ba8f0936c20bd791130d6b6', '0c048b3a434e49e655c1247efb389cec', '0c8ce55163055c4da50a81e0a273468c', '0ce2ffd21fc958d9ef0ee9ba5336e357', '0d7de1aca9299fe63f3e0041f02638a3', '0e095e054ee94774d6a496099eb1cf6a', '0e9fa1f3e9e66792401a6972d477dcc3', '0eec27c419d0fe24e53c90338cdc8bc6', '0efe32849d230d7f53049ddc4a4b0c60', '0f2c9a93eea6f38fabb3acb1c31488c6', '109d2dd3608f669ca17920c511c2a41e', '1113d7a76ffceca1bb350bfe145467c6', '11c484ea9305ea4c7bb6b2e6d570d466', '123b7f02433572a0a560e620311a469c', '130f1a8e9e102707f3f91b010f151b0b', '1368ba1ab6ed38bb1f26f36673739d54', '144a3f71a03ab7c4f46f9656608efdb2', '147702db07145348245dc5a2f2fe5683', '149815eb972b3c370dee3b89d645ae14', '1579779b98ce9edb98dd85606f2c119d', '160c88652d47d0be60bfbfed25111412', '1651cf0d2f737d7adeab84d339dbabd3', '16e6a3326dd7d868cbc926602a61e4d0', '17fafe5f6ce2f1904eb09d2e80a4cbf6', '184260348236f9554fe9375772ff966e', '18ead4c77c3f40dabf9735432ac9d97a', '1943102704f8f8f3302c2b730728e023', '19bc916108fc6938f52cb96f7e087941', '1a0a283bfe7c549dee6c638a05200e32', '1bb91f73e9d31ea2830a5e73ce3ed328', '1bc0249a6412ef49b07fe6f62e6dc8de', '1c54985e4f95b7819ca0357c0cb9a09f', '1c65cef3dfd1e00c0b03923a1c591db4', '1cd3882394520876dc88d1472aa2a93f', '1d72310edc006dadf2190caad5802983', '1e1d184167ca7676cf665225e236a3d2', '1e6e0a04d20f50967c64dac2d639a577', '204da255aea2cd4a75ace6018fad6b4d', '208e43f0e45c4c78cafadb83d2888cb6', '20d135f0f28185b84a4cf7aa51f29500', '217c0e01c1828e7279051f1b6675745d', '217eedd1ba8c592db97d0dbe54c7adfc', '228499b55310264a8ea0e27b6e7c6ab6', '24146db4eb48c718b84cae0a0799dcfc', '2421fcb1263b9530df88f7f002e78ea5', '242c100dc94f871b6d7215b868a875f8', '24e27b869b66e9e62724bd7725d5d9c1', '250413d2982f1f83aa62a3a323cd2a87', '25b2822c2f5a3230abfadd476e8b04c9', '26588e932c7ccfa1df309280702fe1b5', '2715518c875999308842e3455eda2fe3', '277281aada22045c03945dcb2ca6f2ec', '2812e5cf6d8f21d69c91dddeefb792a7', '285ab9448d2751ee57ece7f762c39095', '285f89b802bcb2651801455c86d78f2a', '286674e3082feb7e5afb92777e48821f', '291597a100aadd814d197af4f4bab3a7', '297fa7777981f402dbba17e9f29e292d', '2ac2406e835bd49c70469acae337d292', '2b3bf3eee2475e03885a110e9acaab61', '2b6d65b9a9445c4271ab9076ead5605a', '2ba8698b79439589fdd2b0f7218d8b07', '2c6ae45a3e88aee548c0714fad7f8269', '2c89109d42178de8a367c0228f169bf8', '2cfd4560539f887a5e420412b370b361', '2d2ca7eedf739ef4c3800713ec482e1a', '2de5d16682c3c35007e4e92982f1a2ba', '2df45244f09369e16ea3f9117ca45157', '2dffbc474aa176b6dc957938c15d0c8b', '2f29b6e3abc6ebdefb55456ea6ca5dc8', '309a8e73b2cdb95fc1affa8845504e87', '309fee4e541e51de2e41f21bebb342aa', '310ce61c90f3a46e340ee8257bc70e93', '325995af77a0e8b06d1204a171010b3a', '32b991e5d77ad140559ffb95522992d0', '351b33587c5fdd93bd42ef7ac9995a28', '35464c848f410e55a13bb9d78e7fddd0', '365d17770080c807a0e47ae9118d8641', '36a1694bce9815b7e38a9dad05ad42e0', '372d3f309fef061977fb2f7ba36d74d2', '38ca89564b2259401518960f7a06f94b', '3948ead63a9f2944218de038d8934305', '39e4973ba3321b80f37d9b55f63ed8b8', '3a029f04d76d32e79367c4b3255dda4d', '3a15c7d0bbe60300a39f76f8a5ba6896', '3a20f62a0af1aa152670bab3c602feed', '3b712de48137572f3849aabd5666a4e3', '3bf55bbad370a8fcad1d09b005e278c2', '3c1e4bd67169b8153e0047536c9f541e', '3d2d8ccb37df977cb6d9da15b76c3f3a', '3e89ebdb49f712c7d90d1b39e348bbbf', '3eb71f6293a2a31f3569e10af6552658', '3fe78a8acf5fda99de95303940a2420c', '4079016d940210b4ae9ae7d41c4a2065', '4122cb13c7a474c1976c9706ae36521d', '41a60377ba920919939d83326ebee5a1', '41ae36ecb9b3eee609d05b90c14222fb', '41bfd20a38bb1b0bec75acf0845530a7', '42d6c7d61481d1c21bd1635f59edae05', '43351f7bf9a215be70c2c2caa7555002', '43cca4b3de2097b9558efefd0ecc3588', '452bf208bf901322968557227b8f6efe', '45f31d16b1058d586fc3be7207b58053', '46515dcd99ea50dd0671bc6840830404', '47a658229eb2368a99f1d032c8848542', '489d0396e6826eb0c1e611d82ca8b215', '491442df5f88c6aa018e86dac21d3606', '495dabfd0ca768a3c3abd672079f48b6', '49af6c4e558a7569d80eee2e035e2bd7', '4a06d868d044c50af0cf9bc82d2fc19f', '4c27cea8526af8cfee3be5e183ac9605', '4da04049a062f5adfe81b67dd755cecc', '4dcf435435894a4d0972046fc566af76', '4e2545f819e67f0615003dd7e04a6087', '4e4e53aa080247bc31d0eb4e7aeb07a0', '4e6cd95227cb0c280e99a195be5f6615', '4e8412ad48562e3c9934f45c3e144d48', '4f398cb9d6bc79ae567298335b51ba8a', '4f6ffe13a5d75b2d6a3923922b3922e5', '50abc3e730e36b387ca8e02c26dc0a22', '50c3d7614917b24303ee6a220679dab3', '5129a5ddcd0dcd755232baa04c231698', '515ab26c135e92ed8bf3a594d67e4ade', '51de85ddd068f0bc787691d356176df9', '52292e0c763fd027c6eba6b8f494d2eb', '52d080a3e172c33fd6886a37e7288491', '539fd53b59e3bb12d203f45a912eeaf2', '53f0d7c537d99b3824f0f99d62ea2428', '54f5f4071faca32ad5285fef87b78646', '55b1927fdafef39c48e5b73b5d61ea60', '55b37c5c270e5d84c793e486d798c01d', '5607fe8879e4fd269e88387e8cb30b7e', '56468d5607a5aaf1604ff5e15593b003', '5680522b8e2bb01943234bce7bf84534', '5751ec3e9a4feab575962e78e006250d', '57bafb2c2dfeefba931bb03a835b1fa9', '58ae749f25eded36f486bc85feb3f0ab', '5b4130c9e891d39891289001cc97d86b', '5c50b4df4b176845cd235b6a510c6903', '5caf41d62364d5b41a893adc1a9dd5d4', '5cbdfd0dfa22a3fca7266376887f549b', '5dec707028b05bcbd3a1db5640f842c5', '5ef059938ba799aaa845e1c2e8a762bd', '5f2c22cb4a5380af7ca75622a6426917', '5fa9e41bfec0725742cc9d15ef594120', '602d1305678a8d5fdb372271e980da6a', '61b4a64be663682e8cb037d9719ad8cd', '6211080fa89981f66b1a0c9d55c61d0f', '63dc7ed1010d3c3b8269faf0ba7491d4', '6602294be910b1e3c4571bd98c4d5484', '66808e327dc79d135ba18e051673d906', '66be31e4c40d676991f2405aaecc6934', '6766aa2750c19aad2fa1b32f36ed4aee', '67e103b0761e60683e83c559be18d40c', '68a83eeb494a308fe5295da69428a507', '68b1fbe7f16e4ae3024973f12f3cb313', '6974ce5ac660610b44d9b9fed0ff9548', '69a5b5995110b36a9a347898d97a610e', '69d658d0b2859e32cd4dc3b970c8496c', '6a2feef8ed6a9fe76d6b3f30f02150b4', '6a5889bb0190d0211a991f47bb19a777', '6a61d423d02a1c56250dc23ae7ff12f3', '6b8eba43551742214453411664a0dcc8', '6ba3af5d7b2790e73f0de32e5c8c1798', '6c14da109e294d1e8155be8aa4b1ce8e', '6c524f9d5d7027454a783c841250ba71', '6c8dba7d0df1c4a79dd07646be9a26c8', '6cd67d9b6f0150c77bda2eda01ae484c', '6cdd60ea0045eb7a6ec44c54d29ed402', '6d3a1e06d6a06349436bc054313b648c', '6d9cb7de5e8ac30bd5e8734bc96a35c1', '6e7d2da6d3953058db75714ac400b584', '6eb6e75fddec0218351dc5c0c8464104', '6ecbdd6ec859d284dc13885a37ce8d81', '6f3e29a35278d71c7f65495871231324', '70efba66d3d8d53194fb1a8446ae07fa', '70fcb77e6349f4467edd7227baa73222', '71a58e8cb75904f24cde464161c3e766', '71e09b16e21f7b6919bbfc43f6a5b2f0', '72e6d3238361fe70f22fb0ac624a7072', '735b90b4568125ed6c3f678819b6e058', '7437d136770f5b35194cb46c1653efaa', '7501e5d4da87ac39d782741cd794002d', '754dda4b1ba34c6fa89716b85d68532b', '77f959f119f4fb2321e9ce801e2f5163', '7810ccd41bf26faaa2c4e1f20db70a71', '7a6a74cbe87bc60030a4bd041dd47b78', '7bccfde7714a1ebadf06c5f4cea752c1', '7bd28f15a49d5e5848d6ec70e584e625', '7c590f01490190db0ed02a5070e20f01', '7cc532d783a7461f227a5da8ea80bfe1', '7cf64379eb6f29a4d25c4b6a2df713e4', '7d04bbbe5494ae9d2f5a76aa1c00fa2f', '7d12b66d3df6af8d429c1a357d8b9e1a', '7d771e0e8f3633ab54856925ecdefc5d', '7e1d842d0f7ee600116ffc6b2d87d83f', '7e3b7a5bafcb0fa8e8dfe3ea6aca9186', '7eb3c8be3d411e8ebfab08eba5f49632', '801c14f07f9724229175b8ef8b4585a8', '819c9fbfb075d62a16393b9fe4fcbaa5', '81b073de9370ea873f548e31b8adc081', '81dc9bdb52d04dc20036dbd8313ed055', '81e5f81db77c596492e6f1a5a792ed53', '81e74d678581a3bb7a720b019f4f1a93', '8248a99e81e752cb9b41da3fc43fbe7f', '82c2559140b95ccda9c6ca4a8b981f1e', '82cec96096d4281b7c95cd7e74623496', '8303a79b1e19a194f1875981be5bdb6f', '838e8afb1ca34354ac209f53d90c3a43', '83f97f4825290be4cb794ec6a234595f', '8597a6cfa74defcbde3047c891d78f90', '861dc9bd7f4e7dd3cccd534d0ae2a2e9', '8698ff92115213ab187d31d4ee5da8ea', '86d7c8a08b4aaa1bc7c599473f5dddda', '87ec2f451208df97228105657edb717f', '883e881bb4d22a7add958f2d6b052c9f', '884ce4bb65d328ecb03c598409e2b168', '884d79963bd8bc0ae9b13a1aa71add73', '894b77f805bd94d292574c38c5d628d5', '8a3363abe792db2d8761d6403605aeb7', '8b0d268963dd0cfb808aac48a549829f', '8c9f32e03aeb2e3000825c8c875c4edd', '8e2cfdc275761edc592f73a076197c33', '8f19793b2671094e63a15ab883d50137', '8f1d43620bc6bb580df6e80b0dc05c48', '905056c1ac1dad141560467e0a99e1cf', '9185f3ec501c674c7c788464a36e7fb3', '93fb9d4b16aa750c7475b6d601c35c2c', '941e1aaaba585b952b62c14a3a175a61', '944bdd9636749a0801c39b6e449dbedc', '95151403b0db4f75bfd8da0b393af853', '9597353e41e6957b5e7aa79214fcb256', '959a557f5f6beb411fd954f3f34b21c3', '962e56a8a0b0420d87272a682bfd1e53', '9683cc5f89562ea48e72bb321d9f03fb', '96da2f590cd7246bbde0051047b0d6f7', '9701a1c165dd9420816bfec5edd6c2b1', '9766527f2b5d3e95d4a733fcfb77bd7e', '97af4fb322bb5c8973ade16764156bed', '97d98119037c5b8a9663cb21fb8ebf47', '995665640dc319973d3173a74a03860c', '996009f2374006606f4c0b0fda878af1', '996a7fa078cc36c46d02f9af3bef918b', '9996535e07258a7bbfd8b132435c5962', '9a3d458322d70046f63dfd8b0153ece4', '9ad6aaed513b73148b7d49f70afcfb32', '9adeb82fffb5444e81fa0ce8ad8afe7a', '9af76329c78e28c977ab1bcd1c3fe9b8', '9b698eb3105bd82528f23d0c92dedfc0', '9bf31c7ff062936a96d3c8bd1f8f2ff3', '9c3b1830513cc3b8fc4b76635d32e692', '9d7311ba459f9e45ed746755a32dcd11', 'a0160709701140704575d499c997b6ca', 'a01610228fe998f515a72dd730294d87', 'a0833c8a1817526ac555f8d67727caf6', 'a0f3601dc682036423013a5d965db9aa', 'a113c1ecd3cace2237256f4c712f61b5', 'a1d50185e7426cbb0acad1e6ca74b9aa', 'a223c6b3710f85df22e9377d6c4f7553', 'a2557a7b2e94197ff767970b67041697', 'a26398dca6f47b49876cbaffbc9954f9', 'a2cc63e065705fe938a4dda49092966f', 'a368b0de8b91cfb3f91892fbf1ebd4b2', 'a3fb4fbf9a6f9cf09166aa9c20cbc1ad', 'a42a596fc71e17828440030074d15e74', 'a49e9411d64ff53eccfdd09ad10a15b3', 'a4d2f0d23dcc84ce983ff9157f8b7f88', 'a58149d355f02887dfbe55ebb2b64ba3', 'a70dc40477bc2adceef4d2c90f47eb82', 'a7d8ae4569120b5bec12e7b6e9648b86', 'a8c88a0055f636e4a163a5e3d16adab7', 'a8f15eda80c50adb0e71943adc8015cf', 'a9078e8653368c9c291ae2f8b74012e7', 'a9be4c2a4041cadbf9d61ae16dd1389e', 'aace49c7d80767cffec0e513ae886df0', 'ab1a4d0dd4d48a2ba1077c4494791306', 'ab8aa05e782481f55fc1412a97e7ac34', 'abea47ba24142ed16b7d8fbf2c740e0d', 'ad71c82b22f4f65b9398f76d8be4c615', 'ad972f10e0800b49d76fed33a21f6698', 'ae5e3ce40e0404a45ecacaaf05e5f735', 'afe434653a898da20044041262b3ac74', 'aff0a6a4521232970b2c1cf539ad0a19', 'b1c00bcd4b5183705c134b3365f8c45e', 'b20bb95ab626d93fd976af958fbc61ba', 'b23975176653284f1f7356ba5539cfcb', 'b24d516bb65a5a58079f0f3526c87c57', 'b3b43aeeacb258365cc69cdaf42a68af', 'b427426b8acd2c2e53827970f2c2f526', 'b495ce63ede0f4efc9eec62cb947c162', 'b51a15f382ac914391a58850ab343b00', 'b5488aeff42889188d03c9895255cecc', 'b571ecea16a9824023ee1af16897a582', 'b59c67bf196a4758191e42f76670ceba', 'b710915795b9e9c02cf10d6d2bdb688c', 'b7b16ecf8ca53723593894116071700c', 'b7f1f29db7c23648f2bb8d6a8ee0469b', 'b9f94c77652c9a76fc8a442748cd54bd', 'bb03e43ffe34eeb242a2ee4a4f125e56', 'bb04af0f7ecaee4aae62035497da1387', 'bb7946e7d85c81a9e69fee1cea4a087c', 'bcc0d400288793e8bdcd7c19a8ac0c2b', 'bd4c9ab730f5513206b999ec0d90d1fb', 'bf424cb7b0dea050a42b9739eb261a3a', 'bffc98347ee35b3ead06728d6f073c68', 'c0e190d8267e36708f955d7ab048990d', 'c15da1f2b5e5ed6e6837a3802f0d1593', 'c1e39d912d21c91dce811d6da9929ae8', 'c1fea270c48e8079d8ddf7d06d26ab52', 'c20ad4d76fe97759aa27a0c99bff6710', 'c21002f464c5fc5bee3b98ced83963b8', 'c4851e8e264415c4094e4e85b0baa7cc', 'c4de8ced6214345614d33fb0b16a8acd', 'c54e7837e0cd0ced286cb5995327d1ab', 'c6036a69be21cb660499b75718a3ef24', 'c60d060b946d6dd6145dcbad5c4ccf6f', 'c65d7bd70fe3e5e3a2f3de681edc193d', 'c6bff625bdb0393992c9d4db0c6bbe45', 'c6e19e830859f2cb9f7c8f8cacb8d2a6', 'c7635bfd99248a2cdef8249ef7bfbef4', 'c850371fda6892fbfd1c5a5b457e5777', 'c88d8d0a6097754525e02c2246d8d27f', 'c8ba76c279269b1c6bc8a07e38e78fa4', 'c8ed21db4f678f3b13b9d5ee16489088', 'c913303f392ffc643f7240b180602652', 'c9f95a0a5af052bffce5c89917335f67', 'cd10c7f376188a4a2ca3e8fea2c03aeb', 'cd758e8f59dfdf06a852adad277986ca', 'cda72177eba360ff16b7f836e2754370', 'cee8d6b7ce52554fd70354e37bbf44a2', 'cfa5301358b9fcbe7aa45b1ceea088c6', 'd16509f6eaca1022bd8f28d6bc582cae', 'd282ef263719ab842e05382dc235f69e', 'd2ed45a52bc0edfa11c2064e9edee8bf', 'd38901788c533e8286cb6400b40b386d', 'd6288499d0083cc34e60a077b7c4b3e1', 'd6723e7cd6735df68d1ce4c704c29a04', 'd82118376df344b0010f53909b961db3', 'd88518acbcc3d08d1f18da62f9bb26ec', 'd8e1344e27a5b08cdfd5d027d9b8d6de', 'da11e8cd1811acb79ccf0fd62cd58f86', 'daa96d9681a21445772454cbddf0cac1', 'db2b4182156b2f1f817860ac9f409ad7', 'db85e2590b6109813dafa101ceb2faeb', 'db957c626a8cd7a27231adfbf51e20eb', 'dbe272bab69f8e13f14b405e038deb64', 'dc09c97fd73d7a324bdbfe7c79525f64', 'dc513ea4fbdaa7a14786ffdebc4ef64e', 'dd77279f7d325eec933f05b1672f6a1f', 'de7092ba6df4276921d27a3704c57998', 'df0aab058ce179e4f7ab135ed4e641a9', 'e00406144c1e7e35240afed70f34166a', 'e034fb6b66aacc1d48f445ddfb08da98', 'e1d5be1c7f2f456670de3d53c7b54f4a', 'e22312179bf43e61576081a2f250f845', 'e3251075554389fe91d17a794861d47b', 'e4873aa9a05cc5ed839561d121516766', 'e4dd5528f7596dcdf871aa55cfccc53c', 'e53a0a2978c28872a4505bdb51db06dc', 'e555ebe0ce426f7f9b2bef0706315e0c', 'e58aea67b01fa747687f038dfde066f6', 'e58cc5ca94270acaceed13bc82dfedf7', 'e60e81c4cbe5171cd654662d9887aec2', 'e6c2dc3dee4a51dcec3a876aa2339a78', 'e6d8545daa42d5ced125a4bf747b3688', 'e702e51da2c0f5be4dd354bb3e295d37', 'e82c4b19b8151ddc25d4d93baf7b908f', 'e8b1cbd05f6e6a358a81dee52493dd06', 'e92d74ccacdc984afa0c517ad0d557a6', 'e94f63f579e05cb49c05c2d050ead9c0', 'e9fd7c2c6623306db59b6aef5c0d5cac', 'eb86d510361fc23b59f18c1bc9802cc6', 'ebb71045453f38676c40deb9864f811d', 'ebd6d2f5d60ff9afaeda1a81fc53e2d0', 'f09696910bdd874a99cd74c8f05b5c44', 'f18a6d1cde4b205199de8729a6637b42', 'f3173935ed8ac4bf073c1bcd63171f8a', 'f3f1b7fc5a8779a9e618e1f23a7b7860', 'f4573fc71c731d5c362f0d7860945b88', 'f47330643ae134ca204bf6b2481fec47', 'f499d34bd87b42948b3960b8f6b82e74', 'f52378e14237225a6f6c7d802dc6abbd', 'f6c79f4af478638c39b206ec30ab166b', 'f7cade80b7cc92b991cf4d2806d6bd78', 'f7e0b956540676a129760a3eae309294', 'f7f580e11d00a75814d2ded41fe8e8fe', 'f8bf09f5fceaea80e1f864a1b48938bf', 'f91e24dfe80012e2a7984afa4480a6d6', 'f976b57bb9dd27aa2e7e7df2825893a6', 'f9be311e65d81a9ad8150a60844bb94c', 'fa2431bf9d65058fe34e9713e32d60e6', 'faafda66202d234463057972460c04f5', 'fae0b27c451c728867a567e8c1bb4e53', 'fb89705ae6d743bf1e848c206e16a1d7', 'fb89fd138b104dcf8e2077ad2a23954d', 'fc3cf452d3da8402bebb765225ce8c0e', 'fc528592c3858f90196fbfacc814f235', 'fc9b003bb003a298c2ad0d05e4342bdc', 'fccb3cdc9acc14a6e70a12f74560c026', 'fd2c5e4680d9a01dba3aada5ece22270', 'fddd7938a71db5f81fcc621673ab67b7', 'fe2d010308a6b3799a3d9c728ee74244', 'fe709c654eac84d5239d1a12a4f71877', 'fe70c36866add1572a8e2b96bfede7bf', 'feab05aa91085b7a8012516bc3533958', 'fec87a37cdeec1c6ecf8181c0aa2d3bf', 'ffeabd223de0d4eacb9a3e6e53e5448d', 'ffeed84c7cb1ae7bf4ec4bd78275bb98']\n",
            "(12000, 417)\n",
            "{'285ab9448d2751ee57ece7f762c39095': 62, 'a1d50185e7426cbb0acad1e6ca74b9aa': 266, 'f47330643ae134ca204bf6b2481fec47': 388, '5680522b8e2bb01943234bce7bf84534': 142, '285f89b802bcb2651801455c86d78f2a': 63, 'b24d516bb65a5a58079f0f3526c87c57': 295, '7810ccd41bf26faaa2c4e1f20db70a71': 194, '81dc9bdb52d04dc20036dbd8313ed055': 210, 'fe2d010308a6b3799a3d9c728ee74244': 410, 'aace49c7d80767cffec0e513ae886df0': 283, '9adeb82fffb5444e81fa0ce8ad8afe7a': 255, '3948ead63a9f2944218de038d8934305': 90, '4122cb13c7a474c1976c9706ae36521d': 103, '8f1d43620bc6bb580df6e80b0dc05c48': 233, '95151403b0db4f75bfd8da0b393af853': 239, '39e4973ba3321b80f37d9b55f63ed8b8': 91, 'b710915795b9e9c02cf10d6d2bdb688c': 303, '5129a5ddcd0dcd755232baa04c231698': 130, '0e095e054ee94774d6a496099eb1cf6a': 14, '9701a1c165dd9420816bfec5edd6c2b1': 245, 'e92d74ccacdc984afa0c517ad0d557a6': 377, 'c8ba76c279269b1c6bc8a07e38e78fa4': 331, '36a1694bce9815b7e38a9dad05ad42e0': 87, 'fe70c36866add1572a8e2b96bfede7bf': 412, 'f3f1b7fc5a8779a9e618e1f23a7b7860': 386, '1e6e0a04d20f50967c64dac2d639a577': 45, '2b6d65b9a9445c4271ab9076ead5605a': 69, 'f52378e14237225a6f6c7d802dc6abbd': 390, '6ba3af5d7b2790e73f0de32e5c8c1798': 172, '2ba8698b79439589fdd2b0f7218d8b07': 70, '8597a6cfa74defcbde3047c891d78f90': 219, '42d6c7d61481d1c21bd1635f59edae05': 107, '43cca4b3de2097b9558efefd0ecc3588': 109, '9683cc5f89562ea48e72bb321d9f03fb': 243, '81e5f81db77c596492e6f1a5a792ed53': 211, 'f91e24dfe80012e2a7984afa4480a6d6': 396, 'd2ed45a52bc0edfa11c2064e9edee8bf': 342, '58ae749f25eded36f486bc85feb3f0ab': 145, '4e2545f819e67f0615003dd7e04a6087': 122, '26588e932c7ccfa1df309280702fe1b5': 58, '7501e5d4da87ac39d782741cd794002d': 191, '7d771e0e8f3633ab54856925ecdefc5d': 203, 'cd758e8f59dfdf06a852adad277986ca': 336, '16e6a3326dd7d868cbc926602a61e4d0': 31, 'e3251075554389fe91d17a794861d47b': 364, '1e1d184167ca7676cf665225e236a3d2': 44, '7c590f01490190db0ed02a5070e20f01': 198, '9996535e07258a7bbfd8b132435c5962': 252, '2df45244f09369e16ea3f9117ca45157': 76, '801c14f07f9724229175b8ef8b4585a8': 207, '250413d2982f1f83aa62a3a323cd2a87': 56, 'aff0a6a4521232970b2c1cf539ad0a19': 291, 'c88d8d0a6097754525e02c2246d8d27f': 330, 'bd4c9ab730f5513206b999ec0d90d1fb': 311, '8f19793b2671094e63a15ab883d50137': 232, 'ffeed84c7cb1ae7bf4ec4bd78275bb98': 416, 'db2b4182156b2f1f817860ac9f409ad7': 351, '03f544613917945245041ea1581df0c2': 1, 'f499d34bd87b42948b3960b8f6b82e74': 389, '1368ba1ab6ed38bb1f26f36673739d54': 24, 'ad71c82b22f4f65b9398f76d8be4c615': 287, 'c4851e8e264415c4094e4e85b0baa7cc': 320, '489d0396e6826eb0c1e611d82ca8b215': 114, 'eb86d510361fc23b59f18c1bc9802cc6': 380, '0c8ce55163055c4da50a81e0a273468c': 11, '49af6c4e558a7569d80eee2e035e2bd7': 117, 'cda72177eba360ff16b7f836e2754370': 337, '06eb61b839a0cefee4967c67ccb099dc': 4, '3fe78a8acf5fda99de95303940a2420c': 101, '68a83eeb494a308fe5295da69428a507': 163, '61b4a64be663682e8cb037d9719ad8cd': 155, 'e702e51da2c0f5be4dd354bb3e295d37': 374, 'bb04af0f7ecaee4aae62035497da1387': 308, '20d135f0f28185b84a4cf7aa51f29500': 48, '7eb3c8be3d411e8ebfab08eba5f49632': 206, 'f7e0b956540676a129760a3eae309294': 393, 'e6c2dc3dee4a51dcec3a876aa2339a78': 372, 'b23975176653284f1f7356ba5539cfcb': 294, '6c8dba7d0df1c4a79dd07646be9a26c8': 175, 'f9be311e65d81a9ad8150a60844bb94c': 398, '19bc916108fc6938f52cb96f7e087941': 36, '8a3363abe792db2d8761d6403605aeb7': 228, '905056c1ac1dad141560467e0a99e1cf': 234, '277281aada22045c03945dcb2ca6f2ec': 60, '4a06d868d044c50af0cf9bc82d2fc19f': 118, '1c54985e4f95b7819ca0357c0cb9a09f': 40, '9b698eb3105bd82528f23d0c92dedfc0': 257, 'ebd6d2f5d60ff9afaeda1a81fc53e2d0': 382, 'e6d8545daa42d5ced125a4bf747b3688': 373, '884ce4bb65d328ecb03c598409e2b168': 225, '602d1305678a8d5fdb372271e980da6a': 154, 'b571ecea16a9824023ee1af16897a582': 301, '883e881bb4d22a7add958f2d6b052c9f': 224, '944bdd9636749a0801c39b6e449dbedc': 238, 'afe434653a898da20044041262b3ac74': 290, 'dbe272bab69f8e13f14b405e038deb64': 354, 'a0833c8a1817526ac555f8d67727caf6': 263, '184260348236f9554fe9375772ff966e': 33, 'f6c79f4af478638c39b206ec30ab166b': 391, 'a58149d355f02887dfbe55ebb2b64ba3': 276, 'c65d7bd70fe3e5e3a2f3de681edc193d': 325, 'bffc98347ee35b3ead06728d6f073c68': 313, '286674e3082feb7e5afb92777e48821f': 64, 'b495ce63ede0f4efc9eec62cb947c162': 298, '53f0d7c537d99b3824f0f99d62ea2428': 136, '5c50b4df4b176845cd235b6a510c6903': 147, 'e82c4b19b8151ddc25d4d93baf7b908f': 375, '7cf64379eb6f29a4d25c4b6a2df713e4': 200, '6974ce5ac660610b44d9b9fed0ff9548': 165, 'a3fb4fbf9a6f9cf09166aa9c20cbc1ad': 272, 'e58cc5ca94270acaceed13bc82dfedf7': 370, '4da04049a062f5adfe81b67dd755cecc': 120, '309fee4e541e51de2e41f21bebb342aa': 80, 'db957c626a8cd7a27231adfbf51e20eb': 353, 'db85e2590b6109813dafa101ceb2faeb': 352, '884d79963bd8bc0ae9b13a1aa71add73': 226, '452bf208bf901322968557227b8f6efe': 110, '35464c848f410e55a13bb9d78e7fddd0': 85, '941e1aaaba585b952b62c14a3a175a61': 237, '24e27b869b66e9e62724bd7725d5d9c1': 55, '4f398cb9d6bc79ae567298335b51ba8a': 126, '71a58e8cb75904f24cde464161c3e766': 186, '38ca89564b2259401518960f7a06f94b': 89, '894b77f805bd94d292574c38c5d628d5': 227, '9766527f2b5d3e95d4a733fcfb77bd7e': 246, 'a8c88a0055f636e4a163a5e3d16adab7': 279, 'b20bb95ab626d93fd976af958fbc61ba': 293, '0efe32849d230d7f53049ddc4a4b0c60': 17, 'a01610228fe998f515a72dd730294d87': 262, '83f97f4825290be4cb794ec6a234595f': 218, '1bb91f73e9d31ea2830a5e73ce3ed328': 38, '11c484ea9305ea4c7bb6b2e6d570d466': 21, 'a42a596fc71e17828440030074d15e74': 273, '6eb6e75fddec0218351dc5c0c8464104': 181, '1cd3882394520876dc88d1472aa2a93f': 42, '838e8afb1ca34354ac209f53d90c3a43': 217, '109d2dd3608f669ca17920c511c2a41e': 19, '735b90b4568125ed6c3f678819b6e058': 189, '0c048b3a434e49e655c1247efb389cec': 10, '3bf55bbad370a8fcad1d09b005e278c2': 96, 'b59c67bf196a4758191e42f76670ceba': 302, '045117b0e0a11a242b9765e79cbf113f': 2, '5dec707028b05bcbd3a1db5640f842c5': 150, 'a0160709701140704575d499c997b6ca': 261, 'faafda66202d234463057972460c04f5': 400, 'c6bff625bdb0393992c9d4db0c6bbe45': 326, 'e034fb6b66aacc1d48f445ddfb08da98': 361, '4e6cd95227cb0c280e99a195be5f6615': 124, '6c524f9d5d7027454a783c841250ba71': 174, 'd282ef263719ab842e05382dc235f69e': 341, '372d3f309fef061977fb2f7ba36d74d2': 88, 'fc9b003bb003a298c2ad0d05e4342bdc': 406, 'b427426b8acd2c2e53827970f2c2f526': 297, '52292e0c763fd027c6eba6b8f494d2eb': 133, '66be31e4c40d676991f2405aaecc6934': 160, '8c9f32e03aeb2e3000825c8c875c4edd': 230, '2421fcb1263b9530df88f7f002e78ea5': 53, '160c88652d47d0be60bfbfed25111412': 29, '0a09c8844ba8f0936c20bd791130d6b6': 9, 'a7d8ae4569120b5bec12e7b6e9648b86': 278, '82c2559140b95ccda9c6ca4a8b981f1e': 214, '8b0d268963dd0cfb808aac48a549829f': 229, '1bc0249a6412ef49b07fe6f62e6dc8de': 39, 'f3173935ed8ac4bf073c1bcd63171f8a': 385, '45f31d16b1058d586fc3be7207b58053': 111, '07042ac7d03d3b9911a00da43ce0079a': 5, 'e22312179bf43e61576081a2f250f845': 363, '5607fe8879e4fd269e88387e8cb30b7e': 140, 'e53a0a2978c28872a4505bdb51db06dc': 367, '6211080fa89981f66b1a0c9d55c61d0f': 156, '4e8412ad48562e3c9934f45c3e144d48': 125, 'c1fea270c48e8079d8ddf7d06d26ab52': 317, 'abea47ba24142ed16b7d8fbf2c740e0d': 286, '2dffbc474aa176b6dc957938c15d0c8b': 77, '495dabfd0ca768a3c3abd672079f48b6': 116, '8e2cfdc275761edc592f73a076197c33': 231, 'fb89705ae6d743bf1e848c206e16a1d7': 402, 'fc528592c3858f90196fbfacc814f235': 405, '70efba66d3d8d53194fb1a8446ae07fa': 184, '7bccfde7714a1ebadf06c5f4cea752c1': 196, '96da2f590cd7246bbde0051047b0d6f7': 244, '4dcf435435894a4d0972046fc566af76': 121, 'c60d060b946d6dd6145dcbad5c4ccf6f': 324, '6a2feef8ed6a9fe76d6b3f30f02150b4': 168, 'b5488aeff42889188d03c9895255cecc': 300, 'bcc0d400288793e8bdcd7c19a8ac0c2b': 310, '93fb9d4b16aa750c7475b6d601c35c2c': 236, '0eec27c419d0fe24e53c90338cdc8bc6': 16, '2de5d16682c3c35007e4e92982f1a2ba': 75, '50c3d7614917b24303ee6a220679dab3': 129, 'fec87a37cdeec1c6ecf8181c0aa2d3bf': 414, '3a20f62a0af1aa152670bab3c602feed': 94, '7a6a74cbe87bc60030a4bd041dd47b78': 195, '6b8eba43551742214453411664a0dcc8': 171, '7e1d842d0f7ee600116ffc6b2d87d83f': 204, 'ad972f10e0800b49d76fed33a21f6698': 288, '52d080a3e172c33fd6886a37e7288491': 134, '2b3bf3eee2475e03885a110e9acaab61': 68, 'd6288499d0083cc34e60a077b7c4b3e1': 344, 'ffeabd223de0d4eacb9a3e6e53e5448d': 415, '242c100dc94f871b6d7215b868a875f8': 54, 'fae0b27c451c728867a567e8c1bb4e53': 401, 'c4de8ced6214345614d33fb0b16a8acd': 321, '9597353e41e6957b5e7aa79214fcb256': 240, '204da255aea2cd4a75ace6018fad6b4d': 46, '86d7c8a08b4aaa1bc7c599473f5dddda': 222, 'fc3cf452d3da8402bebb765225ce8c0e': 404, 'bb03e43ffe34eeb242a2ee4a4f125e56': 307, 'a9078e8653368c9c291ae2f8b74012e7': 281, 'c7635bfd99248a2cdef8249ef7bfbef4': 328, 'cee8d6b7ce52554fd70354e37bbf44a2': 338, '87ec2f451208df97228105657edb717f': 223, 'bf424cb7b0dea050a42b9739eb261a3a': 312, '9c3b1830513cc3b8fc4b76635d32e692': 259, '7e3b7a5bafcb0fa8e8dfe3ea6aca9186': 205, '5751ec3e9a4feab575962e78e006250d': 143, 'e60e81c4cbe5171cd654662d9887aec2': 371, 'd16509f6eaca1022bd8f28d6bc582cae': 340, 'd6723e7cd6735df68d1ce4c704c29a04': 345, 'dd77279f7d325eec933f05b1672f6a1f': 357, 'fb89fd138b104dcf8e2077ad2a23954d': 403, 'f18a6d1cde4b205199de8729a6637b42': 384, '2c6ae45a3e88aee548c0714fad7f8269': 71, 'ebb71045453f38676c40deb9864f811d': 381, 'feab05aa91085b7a8012516bc3533958': 413, 'c6036a69be21cb660499b75718a3ef24': 323, 'e00406144c1e7e35240afed70f34166a': 360, '55b1927fdafef39c48e5b73b5d61ea60': 138, '77f959f119f4fb2321e9ce801e2f5163': 193, '5cbdfd0dfa22a3fca7266376887f549b': 149, '41bfd20a38bb1b0bec75acf0845530a7': 106, '69d658d0b2859e32cd4dc3b970c8496c': 167, '68b1fbe7f16e4ae3024973f12f3cb313': 164, 'daa96d9681a21445772454cbddf0cac1': 350, 'd8e1344e27a5b08cdfd5d027d9b8d6de': 348, '81b073de9370ea873f548e31b8adc081': 209, '56468d5607a5aaf1604ff5e15593b003': 141, 'e4873aa9a05cc5ed839561d121516766': 365, 'cd10c7f376188a4a2ca3e8fea2c03aeb': 335, 'b7f1f29db7c23648f2bb8d6a8ee0469b': 305, 'a368b0de8b91cfb3f91892fbf1ebd4b2': 271, '6cd67d9b6f0150c77bda2eda01ae484c': 176, '9a3d458322d70046f63dfd8b0153ece4': 253, 'ab8aa05e782481f55fc1412a97e7ac34': 285, '2d2ca7eedf739ef4c3800713ec482e1a': 74, 'a2cc63e065705fe938a4dda49092966f': 270, 'c54e7837e0cd0ced286cb5995327d1ab': 322, '819c9fbfb075d62a16393b9fe4fcbaa5': 208, '2f29b6e3abc6ebdefb55456ea6ca5dc8': 78, 'c8ed21db4f678f3b13b9d5ee16489088': 332, '6cdd60ea0045eb7a6ec44c54d29ed402': 177, 'c15da1f2b5e5ed6e6837a3802f0d1593': 315, '9ad6aaed513b73148b7d49f70afcfb32': 254, '351b33587c5fdd93bd42ef7ac9995a28': 84, 'bb7946e7d85c81a9e69fee1cea4a087c': 309, '6d9cb7de5e8ac30bd5e8734bc96a35c1': 179, '5ef059938ba799aaa845e1c2e8a762bd': 151, '291597a100aadd814d197af4f4bab3a7': 65, '67e103b0761e60683e83c559be18d40c': 162, 'd38901788c533e8286cb6400b40b386d': 343, 'f7cade80b7cc92b991cf4d2806d6bd78': 392, '861dc9bd7f4e7dd3cccd534d0ae2a2e9': 220, '9af76329c78e28c977ab1bcd1c3fe9b8': 256, '1651cf0d2f737d7adeab84d339dbabd3': 30, 'a4d2f0d23dcc84ce983ff9157f8b7f88': 275, 'df0aab058ce179e4f7ab135ed4e641a9': 359, '297fa7777981f402dbba17e9f29e292d': 66, '66808e327dc79d135ba18e051673d906': 159, 'fa2431bf9d65058fe34e9713e32d60e6': 399, '995665640dc319973d3173a74a03860c': 249, '3d2d8ccb37df977cb6d9da15b76c3f3a': 98, '07563a3fe3bbe7e3ba84431ad9d055af': 6, '1a0a283bfe7c549dee6c638a05200e32': 37, '2ac2406e835bd49c70469acae337d292': 67, 'a26398dca6f47b49876cbaffbc9954f9': 269, '5b4130c9e891d39891289001cc97d86b': 146, '754dda4b1ba34c6fa89716b85d68532b': 192, '6e7d2da6d3953058db75714ac400b584': 180, '0e9fa1f3e9e66792401a6972d477dcc3': 15, 'a8f15eda80c50adb0e71943adc8015cf': 280, '97d98119037c5b8a9663cb21fb8ebf47': 248, 'ae5e3ce40e0404a45ecacaaf05e5f735': 289, '310ce61c90f3a46e340ee8257bc70e93': 81, '7437d136770f5b35194cb46c1653efaa': 190, '4f6ffe13a5d75b2d6a3923922b3922e5': 127, '32b991e5d77ad140559ffb95522992d0': 83, '217c0e01c1828e7279051f1b6675745d': 49, '208e43f0e45c4c78cafadb83d2888cb6': 47, '1d72310edc006dadf2190caad5802983': 43, '149815eb972b3c370dee3b89d645ae14': 27, '82cec96096d4281b7c95cd7e74623496': 215, 'b7b16ecf8ca53723593894116071700c': 304, '996a7fa078cc36c46d02f9af3bef918b': 251, '0d7de1aca9299fe63f3e0041f02638a3': 13, 'ab1a4d0dd4d48a2ba1077c4494791306': 284, '41ae36ecb9b3eee609d05b90c14222fb': 105, '962e56a8a0b0420d87272a682bfd1e53': 242, 'e9fd7c2c6623306db59b6aef5c0d5cac': 379, 'c0e190d8267e36708f955d7ab048990d': 314, '70fcb77e6349f4467edd7227baa73222': 185, '3c1e4bd67169b8153e0047536c9f541e': 97, '57bafb2c2dfeefba931bb03a835b1fa9': 144, 'e58aea67b01fa747687f038dfde066f6': 369, '3e89ebdb49f712c7d90d1b39e348bbbf': 99, 'cfa5301358b9fcbe7aa45b1ceea088c6': 339, '5fa9e41bfec0725742cc9d15ef594120': 153, 'd82118376df344b0010f53909b961db3': 346, '24146db4eb48c718b84cae0a0799dcfc': 52, 'dc09c97fd73d7a324bdbfe7c79525f64': 355, 'fddd7938a71db5f81fcc621673ab67b7': 409, 'f09696910bdd874a99cd74c8f05b5c44': 383, '8698ff92115213ab187d31d4ee5da8ea': 221, '6d3a1e06d6a06349436bc054313b648c': 178, 'f976b57bb9dd27aa2e7e7df2825893a6': 397, '0f2c9a93eea6f38fabb3acb1c31488c6': 18, 'de7092ba6df4276921d27a3704c57998': 358, '147702db07145348245dc5a2f2fe5683': 26, '515ab26c135e92ed8bf3a594d67e4ade': 131, '959a557f5f6beb411fd954f3f34b21c3': 241, 'fe709c654eac84d5239d1a12a4f71877': 411, '18ead4c77c3f40dabf9735432ac9d97a': 34, '4c27cea8526af8cfee3be5e183ac9605': 119, 'c20ad4d76fe97759aa27a0c99bff6710': 318, '6766aa2750c19aad2fa1b32f36ed4aee': 161, '9bf31c7ff062936a96d3c8bd1f8f2ff3': 258, 'c9f95a0a5af052bffce5c89917335f67': 334, '5f2c22cb4a5380af7ca75622a6426917': 152, '7d12b66d3df6af8d429c1a357d8b9e1a': 202, '539fd53b59e3bb12d203f45a912eeaf2': 135, '7cc532d783a7461f227a5da8ea80bfe1': 199, '228499b55310264a8ea0e27b6e7c6ab6': 51, '4e4e53aa080247bc31d0eb4e7aeb07a0': 123, 'dc513ea4fbdaa7a14786ffdebc4ef64e': 356, '1113d7a76ffceca1bb350bfe145467c6': 20, '03e7ef47cee6fa4ae7567394b99912b7': 0, '8303a79b1e19a194f1875981be5bdb6f': 216, '2c89109d42178de8a367c0228f169bf8': 72, '25b2822c2f5a3230abfadd476e8b04c9': 57, '55b37c5c270e5d84c793e486d798c01d': 139, '7d04bbbe5494ae9d2f5a76aa1c00fa2f': 201, 'e8b1cbd05f6e6a358a81dee52493dd06': 376, '217eedd1ba8c592db97d0dbe54c7adfc': 50, '6602294be910b1e3c4571bd98c4d5484': 158, 'c850371fda6892fbfd1c5a5b457e5777': 329, 'c6e19e830859f2cb9f7c8f8cacb8d2a6': 327, 'a0f3601dc682036423013a5d965db9aa': 264, '6c14da109e294d1e8155be8aa4b1ce8e': 173, 'e1d5be1c7f2f456670de3d53c7b54f4a': 362, '3a029f04d76d32e79367c4b3255dda4d': 92, '6a61d423d02a1c56250dc23ae7ff12f3': 170, 'fccb3cdc9acc14a6e70a12f74560c026': 407, '996009f2374006606f4c0b0fda878af1': 250, '9d7311ba459f9e45ed746755a32dcd11': 260, '144a3f71a03ab7c4f46f9656608efdb2': 25, '2812e5cf6d8f21d69c91dddeefb792a7': 61, '076023edc9187cf1ac1f1163470e479a': 7, '2715518c875999308842e3455eda2fe3': 59, 'a113c1ecd3cace2237256f4c712f61b5': 265, '0ce2ffd21fc958d9ef0ee9ba5336e357': 12, 'da11e8cd1811acb79ccf0fd62cd58f86': 349, '6f3e29a35278d71c7f65495871231324': 183, 'a9be4c2a4041cadbf9d61ae16dd1389e': 282, '72e6d3238361fe70f22fb0ac624a7072': 188, 'e4dd5528f7596dcdf871aa55cfccc53c': 366, 'c913303f392ffc643f7240b180602652': 333, 'f7f580e11d00a75814d2ded41fe8e8fe': 394, '1c65cef3dfd1e00c0b03923a1c591db4': 41, 'f8bf09f5fceaea80e1f864a1b48938bf': 395, '491442df5f88c6aa018e86dac21d3606': 115, '8248a99e81e752cb9b41da3fc43fbe7f': 213, '2cfd4560539f887a5e420412b370b361': 73, 'a223c6b3710f85df22e9377d6c4f7553': 267, '1579779b98ce9edb98dd85606f2c119d': 28, '63dc7ed1010d3c3b8269faf0ba7491d4': 157, '17fafe5f6ce2f1904eb09d2e80a4cbf6': 32, '365d17770080c807a0e47ae9118d8641': 86, '7bd28f15a49d5e5848d6ec70e584e625': 197, '07cb5f86508f146774a2fac4373a8e50': 8, '46515dcd99ea50dd0671bc6840830404': 112, '123b7f02433572a0a560e620311a469c': 22, '41a60377ba920919939d83326ebee5a1': 104, '69a5b5995110b36a9a347898d97a610e': 166, '3b712de48137572f3849aabd5666a4e3': 95, '43351f7bf9a215be70c2c2caa7555002': 108, 'c21002f464c5fc5bee3b98ced83963b8': 319, 'b1c00bcd4b5183705c134b3365f8c45e': 292, 'fd2c5e4680d9a01dba3aada5ece22270': 408, 'a49e9411d64ff53eccfdd09ad10a15b3': 274, 'd88518acbcc3d08d1f18da62f9bb26ec': 347, 'e94f63f579e05cb49c05c2d050ead9c0': 378, 'c1e39d912d21c91dce811d6da9929ae8': 316, '3eb71f6293a2a31f3569e10af6552658': 100, '71e09b16e21f7b6919bbfc43f6a5b2f0': 187, '6ecbdd6ec859d284dc13885a37ce8d81': 182, '6a5889bb0190d0211a991f47bb19a777': 169, '3a15c7d0bbe60300a39f76f8a5ba6896': 93, '1943102704f8f8f3302c2b730728e023': 35, '81e74d678581a3bb7a720b019f4f1a93': 212, 'a70dc40477bc2adceef4d2c90f47eb82': 277, '325995af77a0e8b06d1204a171010b3a': 82, 'b9f94c77652c9a76fc8a442748cd54bd': 306, '51de85ddd068f0bc787691d356176df9': 132, 'f4573fc71c731d5c362f0d7860945b88': 387, 'b3b43aeeacb258365cc69cdaf42a68af': 296, '063e26c670d07bb7c4d30e6fc69fe056': 3, 'b51a15f382ac914391a58850ab343b00': 299, '4079016d940210b4ae9ae7d41c4a2065': 102, '5caf41d62364d5b41a893adc1a9dd5d4': 148, '50abc3e730e36b387ca8e02c26dc0a22': 128, '47a658229eb2368a99f1d032c8848542': 113, '97af4fb322bb5c8973ade16764156bed': 247, '130f1a8e9e102707f3f91b010f151b0b': 23, 'e555ebe0ce426f7f9b2bef0706315e0c': 368, '309a8e73b2cdb95fc1affa8845504e87': 79, 'a2557a7b2e94197ff767970b67041697': 268, '9185f3ec501c674c7c788464a36e7fb3': 235, '54f5f4071faca32ad5285fef87b78646': 137}\n"
          ],
          "name": "stdout"
        },
        {
          "output_type": "execute_result",
          "data": {
            "text/plain": [
              "15"
            ]
          },
          "metadata": {
            "tags": []
          },
          "execution_count": 29
        }
      ]
    },
    {
      "cell_type": "code",
      "metadata": {
        "id": "nxquYMjlKrk6",
        "outputId": "8deb7bd6-fb60-436e-de90-66e386e237ad",
        "colab": {
          "base_uri": "https://localhost:8080/",
          "height": 52
        }
      },
      "source": [
        "bag_of_words.data"
      ],
      "execution_count": 34,
      "outputs": [
        {
          "output_type": "execute_result",
          "data": {
            "text/plain": [
              "array([0.187183  , 0.16919437, 0.27042496, ..., 0.50194255, 0.25669354,\n",
              "       0.50613193])"
            ]
          },
          "metadata": {
            "tags": []
          },
          "execution_count": 34
        }
      ]
    },
    {
      "cell_type": "code",
      "metadata": {
        "id": "0wb3Fl96JqLi"
      },
      "source": [
        "from sklearn.model_selection import train_test_split\n",
        "from sklearn.metrics import accuracy_score\n",
        "from sklearn.tree import DecisionTreeClassifier\n",
        "\n",
        "decision = DecisionTreeClassifier()\n",
        "decision.fit()"
      ],
      "execution_count": 26,
      "outputs": []
    },
    {
      "cell_type": "markdown",
      "metadata": {
        "id": "zxcbxpAeWFaa"
      },
      "source": [
        "유저의 태그를 문자열로 붙여 `새로운 컬럼`에 추가한다.\n",
        "\n",
        "job의 태그를 문자열로 붙여 `새로운 컬럼`에 추가한다.\n",
        "\n",
        "companies를 벡터화에 추가한다.\n",
        "\n",
        "job의 `새로운 컬럼`에 company를 덧붙인다."
      ]
    },
    {
      "cell_type": "code",
      "metadata": {
        "id": "fDtA-ofZsh3o"
      },
      "source": [
        ""
      ],
      "execution_count": null,
      "outputs": []
    }
  ]
}
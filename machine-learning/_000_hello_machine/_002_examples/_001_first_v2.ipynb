{
  "nbformat": 4,
  "nbformat_minor": 0,
  "metadata": {
    "colab": {
      "name": "programmers/_v2_submit.ipynb",
      "provenance": [],
      "collapsed_sections": [],
      "authorship_tag": "ABX9TyOHM5NwcFKoYEA3uCi4lScW",
      "include_colab_link": true
    },
    "kernelspec": {
      "name": "python3",
      "display_name": "Python 3"
    }
  },
  "cells": [
    {
      "cell_type": "markdown",
      "metadata": {
        "id": "view-in-github",
        "colab_type": "text"
      },
      "source": [
        "<a href=\"https://colab.research.google.com/github/wiv33/A-Learning-python/blob/master/machine-learning/_000_hello_machine/_002_examples/_001_first_v2.ipynb\" target=\"_parent\"><img src=\"https://colab.research.google.com/assets/colab-badge.svg\" alt=\"Open In Colab\"/></a>"
      ]
    },
    {
      "cell_type": "code",
      "metadata": {
        "id": "rynsdL9eKBSN",
        "outputId": "11e12f0f-6e3c-4707-a8d3-5eba87a1fd12",
        "colab": {
          "base_uri": "https://localhost:8080/",
          "height": 35
        }
      },
      "source": [
        "from google.colab import drive\n",
        "drive.mount(\"/content/drive\")"
      ],
      "execution_count": 1,
      "outputs": [
        {
          "output_type": "stream",
          "text": [
            "Mounted at /content/drive\n"
          ],
          "name": "stdout"
        }
      ]
    },
    {
      "cell_type": "code",
      "metadata": {
        "id": "hQijNsTkL6Ca"
      },
      "source": [
        "# !unzip '/content/drive/My Drive/Colab Notebooks/data/programmers_v2/train_job.zip' -d '/content/drive/My Drive/Colab Notebooks/data/programmers_v2/'"
      ],
      "execution_count": 2,
      "outputs": []
    },
    {
      "cell_type": "code",
      "metadata": {
        "id": "8PeXkd2NPTru",
        "outputId": "e3a42aae-281e-42de-dccd-59ae5075d74c",
        "colab": {
          "base_uri": "https://localhost:8080/",
          "height": 53
        }
      },
      "source": [
        "!nvidia-smi"
      ],
      "execution_count": 3,
      "outputs": [
        {
          "output_type": "stream",
          "text": [
            "NVIDIA-SMI has failed because it couldn't communicate with the NVIDIA driver. Make sure that the latest NVIDIA driver is installed and running.\n",
            "\n"
          ],
          "name": "stdout"
        }
      ]
    },
    {
      "cell_type": "code",
      "metadata": {
        "id": "7zyeECy6M1aP"
      },
      "source": [
        "data_dir_path = '/content/drive/My Drive/Colab Notebooks/data/programmers_v2/'"
      ],
      "execution_count": 4,
      "outputs": []
    },
    {
      "cell_type": "code",
      "metadata": {
        "id": "CBXZUnSHMuhU"
      },
      "source": [
        "import pandas as pd\n",
        "\n",
        "def cp(s):\n",
        "  return \"{}{}\".format(data_dir_path, s)\n",
        "\n",
        "tags_df = pd.read_csv(cp('tags.csv'))\n",
        "train_df = pd.read_csv(cp('train.csv'))\n",
        "user_tag_df = pd.read_csv(cp('user_tags.csv'))\n",
        "job_companies_df = pd.read_csv(cp('job_companies.csv'))\n",
        "job_tag_df = pd.read_csv(cp('job_tags.csv'))"
      ],
      "execution_count": 5,
      "outputs": []
    },
    {
      "cell_type": "code",
      "metadata": {
        "id": "Pn5v4cT5NN7u",
        "outputId": "9f801703-2f4e-4455-8c3a-09c77816bdfa",
        "colab": {
          "base_uri": "https://localhost:8080/",
          "height": 204
        }
      },
      "source": [
        "tags_df.sample(5)"
      ],
      "execution_count": 6,
      "outputs": [
        {
          "output_type": "execute_result",
          "data": {
            "text/html": [
              "<div>\n",
              "<style scoped>\n",
              "    .dataframe tbody tr th:only-of-type {\n",
              "        vertical-align: middle;\n",
              "    }\n",
              "\n",
              "    .dataframe tbody tr th {\n",
              "        vertical-align: top;\n",
              "    }\n",
              "\n",
              "    .dataframe thead th {\n",
              "        text-align: right;\n",
              "    }\n",
              "</style>\n",
              "<table border=\"1\" class=\"dataframe\">\n",
              "  <thead>\n",
              "    <tr style=\"text-align: right;\">\n",
              "      <th></th>\n",
              "      <th>tagID</th>\n",
              "      <th>keyword</th>\n",
              "    </tr>\n",
              "  </thead>\n",
              "  <tbody>\n",
              "    <tr>\n",
              "      <th>121</th>\n",
              "      <td>a113c1ecd3cace2237256f4c712f61b5</td>\n",
              "      <td>gulp</td>\n",
              "    </tr>\n",
              "    <tr>\n",
              "      <th>288</th>\n",
              "      <td>1113d7a76ffceca1bb350bfe145467c6</td>\n",
              "      <td>AWS Amplify</td>\n",
              "    </tr>\n",
              "    <tr>\n",
              "      <th>413</th>\n",
              "      <td>26751be1181460baf78db8d5eb7aad39</td>\n",
              "      <td>Google Cloud Text-to-Speech</td>\n",
              "    </tr>\n",
              "    <tr>\n",
              "      <th>675</th>\n",
              "      <td>3d2d8ccb37df977cb6d9da15b76c3f3a</td>\n",
              "      <td>konlpy</td>\n",
              "    </tr>\n",
              "    <tr>\n",
              "      <th>372</th>\n",
              "      <td>b2531e7bb29bf22e1daae486fae3417a</td>\n",
              "      <td>Netlify</td>\n",
              "    </tr>\n",
              "  </tbody>\n",
              "</table>\n",
              "</div>"
            ],
            "text/plain": [
              "                                tagID                      keyword\n",
              "121  a113c1ecd3cace2237256f4c712f61b5                         gulp\n",
              "288  1113d7a76ffceca1bb350bfe145467c6                  AWS Amplify\n",
              "413  26751be1181460baf78db8d5eb7aad39  Google Cloud Text-to-Speech\n",
              "675  3d2d8ccb37df977cb6d9da15b76c3f3a                       konlpy\n",
              "372  b2531e7bb29bf22e1daae486fae3417a                      Netlify"
            ]
          },
          "metadata": {
            "tags": []
          },
          "execution_count": 6
        }
      ]
    },
    {
      "cell_type": "code",
      "metadata": {
        "id": "7IpYWGqGD5Wj",
        "outputId": "7fe7b1e1-980b-4cfa-8d9d-6c2027b49490",
        "colab": {
          "base_uri": "https://localhost:8080/",
          "height": 408
        }
      },
      "source": [
        "import seaborn as sns\n",
        "import matplotlib.pyplot as plt\n",
        "\n",
        "fig, ax = plt.subplots(1, 1, figsize=(12, 5))\n",
        "sns.countplot(train_df['applied'])"
      ],
      "execution_count": 7,
      "outputs": [
        {
          "output_type": "stream",
          "text": [
            "/usr/local/lib/python3.6/dist-packages/seaborn/_decorators.py:43: FutureWarning: Pass the following variable as a keyword arg: x. From version 0.12, the only valid positional argument will be `data`, and passing other arguments without an explicit keyword will result in an error or misinterpretation.\n",
            "  FutureWarning\n"
          ],
          "name": "stderr"
        },
        {
          "output_type": "execute_result",
          "data": {
            "text/plain": [
              "<matplotlib.axes._subplots.AxesSubplot at 0x7fefe5c16320>"
            ]
          },
          "metadata": {
            "tags": []
          },
          "execution_count": 7
        },
        {
          "output_type": "display_data",
          "data": {
            "image/png": "[encoded data removed]",
            "text/plain": [
              "<Figure size 864x360 with 1 Axes>"
            ]
          },
          "metadata": {
            "tags": [],
            "needs_background": "light"
          }
        }
      ]
    },
    {
      "cell_type": "code",
      "metadata": {
        "id": "dWHtyMBhEPL1",
        "outputId": "f143cea8-e22f-4ca5-a280-db64870de8bf",
        "colab": {
          "base_uri": "https://localhost:8080/",
          "height": 251
        }
      },
      "source": [
        "a = job_tag_df.groupby('jobID')\n",
        "a.jobID.value_counts()"
      ],
      "execution_count": 8,
      "outputs": [
        {
          "output_type": "execute_result",
          "data": {
            "text/plain": [
              "jobID                             jobID                           \n",
              "00ac8ed3b4327bdd4ebbebcb2ba10a00  00ac8ed3b4327bdd4ebbebcb2ba10a00     7\n",
              "00e26af6ac3b1c1c49d7c3d79c60d000  00e26af6ac3b1c1c49d7c3d79c60d000    12\n",
              "00ec53c4682d36f5c4359f4ae7bd7ba1  00ec53c4682d36f5c4359f4ae7bd7ba1     4\n",
              "013a006f03dbc5392effeb8f18fda755  013a006f03dbc5392effeb8f18fda755     3\n",
              "0188e8b8b014829e2fa0f430f0a95961  0188e8b8b014829e2fa0f430f0a95961     3\n",
              "                                                                      ..\n",
              "fed33392d3a48aa149a87a38b875ba4a  fed33392d3a48aa149a87a38b875ba4a     5\n",
              "ff4d5fbbafdf976cfdc032e3bde78de5  ff4d5fbbafdf976cfdc032e3bde78de5     4\n",
              "ffd52f3c7e12435a724a8f30fddadd9c  ffd52f3c7e12435a724a8f30fddadd9c     4\n",
              "ffeabd223de0d4eacb9a3e6e53e5448d  ffeabd223de0d4eacb9a3e6e53e5448d     3\n",
              "ffeed84c7cb1ae7bf4ec4bd78275bb98  ffeed84c7cb1ae7bf4ec4bd78275bb98     2\n",
              "Name: jobID, Length: 733, dtype: int64"
            ]
          },
          "metadata": {
            "tags": []
          },
          "execution_count": 8
        }
      ]
    },
    {
      "cell_type": "code",
      "metadata": {
        "id": "_7r3LM62Nvus",
        "outputId": "cf7c93bb-9b3b-4273-f81b-a1fffb09ff3c",
        "colab": {
          "base_uri": "https://localhost:8080/",
          "height": 35
        }
      },
      "source": [
        "tags_df[tags_df['tagID'] == '8e2cfdc275761edc592f73a076197c33']['keyword'].values[0]"
      ],
      "execution_count": 9,
      "outputs": [
        {
          "output_type": "execute_result",
          "data": {
            "application/vnd.google.colaboratory.intrinsic+json": {
              "type": "string"
            },
            "text/plain": [
              "'Webpack'"
            ]
          },
          "metadata": {
            "tags": []
          },
          "execution_count": 9
        }
      ]
    },
    {
      "cell_type": "code",
      "metadata": {
        "id": "cVbC_sMsMedz"
      },
      "source": [
        "def grouping_tags(df: pd.DataFrame, id: str) -> {}:\n",
        "    result = []\n",
        "    for u, t in df.groupby(id):\n",
        "      temp = {}\n",
        "      temp[id] = u\n",
        "      temp['{}_tags'.format(id)] = \" \".join(set(df[df[id] == u]['tagID'].apply(lambda x: tags_df[tags_df['tagID'] == x]['keyword'].values[0])))\n",
        "      result.append(temp)\n",
        "\n",
        "    return pd.DataFrame(result)"
      ],
      "execution_count": 10,
      "outputs": []
    },
    {
      "cell_type": "code",
      "metadata": {
        "id": "RdFrWz6aMxl4",
        "outputId": "c4638711-53fc-4c87-9ccb-9e4e27f4e5db",
        "colab": {
          "base_uri": "https://localhost:8080/",
          "height": 111
        }
      },
      "source": [
        "job_match_df = grouping_tags(job_tag_df, 'jobID')\n",
        "job_match_df.head(2)"
      ],
      "execution_count": 11,
      "outputs": [
        {
          "output_type": "execute_result",
          "data": {
            "text/html": [
              "<div>\n",
              "<style scoped>\n",
              "    .dataframe tbody tr th:only-of-type {\n",
              "        vertical-align: middle;\n",
              "    }\n",
              "\n",
              "    .dataframe tbody tr th {\n",
              "        vertical-align: top;\n",
              "    }\n",
              "\n",
              "    .dataframe thead th {\n",
              "        text-align: right;\n",
              "    }\n",
              "</style>\n",
              "<table border=\"1\" class=\"dataframe\">\n",
              "  <thead>\n",
              "    <tr style=\"text-align: right;\">\n",
              "      <th></th>\n",
              "      <th>jobID</th>\n",
              "      <th>jobID_tags</th>\n",
              "    </tr>\n",
              "  </thead>\n",
              "  <tbody>\n",
              "    <tr>\n",
              "      <th>0</th>\n",
              "      <td>00ac8ed3b4327bdd4ebbebcb2ba10a00</td>\n",
              "      <td>Git RxJava Android Java Firebase Kotlin REST API</td>\n",
              "    </tr>\n",
              "    <tr>\n",
              "      <th>1</th>\n",
              "      <td>00e26af6ac3b1c1c49d7c3d79c60d000</td>\n",
              "      <td>Angular AngularJS Java Android MySQL Node.js P...</td>\n",
              "    </tr>\n",
              "  </tbody>\n",
              "</table>\n",
              "</div>"
            ],
            "text/plain": [
              "                              jobID                                         jobID_tags\n",
              "0  00ac8ed3b4327bdd4ebbebcb2ba10a00   Git RxJava Android Java Firebase Kotlin REST API\n",
              "1  00e26af6ac3b1c1c49d7c3d79c60d000  Angular AngularJS Java Android MySQL Node.js P..."
            ]
          },
          "metadata": {
            "tags": []
          },
          "execution_count": 11
        }
      ]
    },
    {
      "cell_type": "code",
      "metadata": {
        "id": "KvdNAWJKVkfS",
        "outputId": "1467e623-fb0f-43b0-acf4-a75bd9614402",
        "colab": {
          "base_uri": "https://localhost:8080/",
          "height": 111
        }
      },
      "source": [
        "user_match_df = grouping_tags(user_tag_df, 'userID')\n",
        "user_match_df.sample(2)"
      ],
      "execution_count": 12,
      "outputs": [
        {
          "output_type": "execute_result",
          "data": {
            "text/html": [
              "<div>\n",
              "<style scoped>\n",
              "    .dataframe tbody tr th:only-of-type {\n",
              "        vertical-align: middle;\n",
              "    }\n",
              "\n",
              "    .dataframe tbody tr th {\n",
              "        vertical-align: top;\n",
              "    }\n",
              "\n",
              "    .dataframe thead th {\n",
              "        text-align: right;\n",
              "    }\n",
              "</style>\n",
              "<table border=\"1\" class=\"dataframe\">\n",
              "  <thead>\n",
              "    <tr style=\"text-align: right;\">\n",
              "      <th></th>\n",
              "      <th>userID</th>\n",
              "      <th>userID_tags</th>\n",
              "    </tr>\n",
              "  </thead>\n",
              "  <tbody>\n",
              "    <tr>\n",
              "      <th>6</th>\n",
              "      <td>078dd365ebc98784af7f8df76a98f53a</td>\n",
              "      <td>Moment.js Java MySQL Spring Vue.js Spring Secu...</td>\n",
              "    </tr>\n",
              "    <tr>\n",
              "      <th>80</th>\n",
              "      <td>6ff9a855e440fa3a54807a91fdf82da4</td>\n",
              "      <td>Apache Tomcat AWS Lightsail BitBucket MySQL Ja...</td>\n",
              "    </tr>\n",
              "  </tbody>\n",
              "</table>\n",
              "</div>"
            ],
            "text/plain": [
              "                              userID                                        userID_tags\n",
              "6   078dd365ebc98784af7f8df76a98f53a  Moment.js Java MySQL Spring Vue.js Spring Secu...\n",
              "80  6ff9a855e440fa3a54807a91fdf82da4  Apache Tomcat AWS Lightsail BitBucket MySQL Ja..."
            ]
          },
          "metadata": {
            "tags": []
          },
          "execution_count": 12
        }
      ]
    },
    {
      "cell_type": "markdown",
      "metadata": {
        "id": "d4FxX-Z_V-oB"
      },
      "source": [
        "# train 데이터에 job과 user tag 삽입"
      ]
    },
    {
      "cell_type": "code",
      "metadata": {
        "id": "I-Ub7tbbV-Lu"
      },
      "source": [
        "merge_user = pd.merge(train_df, user_match_df, how='left')\n",
        "complete_merge = pd.merge(merge_user, job_match_df, how='left')"
      ],
      "execution_count": 13,
      "outputs": []
    },
    {
      "cell_type": "markdown",
      "metadata": {
        "id": "27z8wUkYS-P_"
      },
      "source": [
        "# 정규화 필요"
      ]
    },
    {
      "cell_type": "code",
      "metadata": {
        "id": "vDGL8xThL0Jp",
        "outputId": "641f7ec5-0c27-4696-8e9c-9b54c1b536b1",
        "colab": {
          "base_uri": "https://localhost:8080/",
          "height": 419
        }
      },
      "source": [
        "complete_merge[complete_merge['applied'] == 1]"
      ],
      "execution_count": 14,
      "outputs": [
        {
          "output_type": "execute_result",
          "data": {
            "text/html": [
              "<div>\n",
              "<style scoped>\n",
              "    .dataframe tbody tr th:only-of-type {\n",
              "        vertical-align: middle;\n",
              "    }\n",
              "\n",
              "    .dataframe tbody tr th {\n",
              "        vertical-align: top;\n",
              "    }\n",
              "\n",
              "    .dataframe thead th {\n",
              "        text-align: right;\n",
              "    }\n",
              "</style>\n",
              "<table border=\"1\" class=\"dataframe\">\n",
              "  <thead>\n",
              "    <tr style=\"text-align: right;\">\n",
              "      <th></th>\n",
              "      <th>userID</th>\n",
              "      <th>jobID</th>\n",
              "      <th>applied</th>\n",
              "      <th>userID_tags</th>\n",
              "      <th>jobID_tags</th>\n",
              "    </tr>\n",
              "  </thead>\n",
              "  <tbody>\n",
              "    <tr>\n",
              "      <th>2</th>\n",
              "      <td>8ec0888a5b04139be0dfe942c7eb4199</td>\n",
              "      <td>0fcbc61acd0479dc77e3cccc0f5ffca7</td>\n",
              "      <td>1</td>\n",
              "      <td>Ubuntu Android Facebook API Node.js AWS EC2 Ra...</td>\n",
              "      <td>Android iOS Swift</td>\n",
              "    </tr>\n",
              "    <tr>\n",
              "      <th>23</th>\n",
              "      <td>b052e2e0c0ad1b2d5036bd56e27d061c</td>\n",
              "      <td>4a213d37242bdcad8e7300e202e7caa4</td>\n",
              "      <td>1</td>\n",
              "      <td>Apache Tomcat HTML5 MySQL Hibernate Spring Dat...</td>\n",
              "      <td>Git MongoDB MySQL Redis Java Node.js</td>\n",
              "    </tr>\n",
              "    <tr>\n",
              "      <th>24</th>\n",
              "      <td>a35af76a1c0bb174a3cfc66592804848</td>\n",
              "      <td>e820a45f1dfc7b95282d10b6087e11c0</td>\n",
              "      <td>1</td>\n",
              "      <td>Laravel Responsive Web Java Android Vue.js Nod...</td>\n",
              "      <td>AngularJS CSS ReactJS Vue.js HTML JavaScript</td>\n",
              "    </tr>\n",
              "    <tr>\n",
              "      <th>29</th>\n",
              "      <td>cb08b2c94dbb772324444bb4ed7cc1a4</td>\n",
              "      <td>9b70e8fe62e40c570a322f1b0b659098</td>\n",
              "      <td>1</td>\n",
              "      <td>Git AngularJS Java Spring SQL JavaScript jQuer...</td>\n",
              "      <td>JPA(Java Persistent API) Java ReactJS OpenStac...</td>\n",
              "    </tr>\n",
              "    <tr>\n",
              "      <th>35</th>\n",
              "      <td>688da39dcb1131d0d91b348653850d08</td>\n",
              "      <td>b534ba68236ba543ae44b22bd110a1d6</td>\n",
              "      <td>1</td>\n",
              "      <td>CSS ReactJS MySQL Linux Node.js HTML JavaScrip...</td>\n",
              "      <td>Git PostgreSQL ReactJS Linux Node.js JavaScrip...</td>\n",
              "    </tr>\n",
              "    <tr>\n",
              "      <th>...</th>\n",
              "      <td>...</td>\n",
              "      <td>...</td>\n",
              "      <td>...</td>\n",
              "      <td>...</td>\n",
              "      <td>...</td>\n",
              "    </tr>\n",
              "    <tr>\n",
              "      <th>5976</th>\n",
              "      <td>e3979074cac4d9393ebbd4c2a534a851</td>\n",
              "      <td>58d4d1e7b1e97b258c9ed0b37e02d087</td>\n",
              "      <td>1</td>\n",
              "      <td>CSS MySQL GCP(Google Cloud Platform) Node.js M...</td>\n",
              "      <td>AWS Lambda Node.js AWS RDS AWS DynamoDB JavaSc...</td>\n",
              "    </tr>\n",
              "    <tr>\n",
              "      <th>5981</th>\n",
              "      <td>6da6479250104018131de61655f1f385</td>\n",
              "      <td>851ddf5058cf22df63d3344ad89919cf</td>\n",
              "      <td>1</td>\n",
              "      <td>Django BeautifulSoup HTML5 Ubuntu Tensorflow B...</td>\n",
              "      <td>Aurora DB Ruby MySQL GitHub Vue.js Sass(SCSS) ...</td>\n",
              "    </tr>\n",
              "    <tr>\n",
              "      <th>5983</th>\n",
              "      <td>6bd22a86b1f7a3a11de928d301f86d67</td>\n",
              "      <td>758874998f5bd0c393da094e1967a72b</td>\n",
              "      <td>1</td>\n",
              "      <td>Java Android Node.js JavaScript Kotlin</td>\n",
              "      <td>Java Kotlin</td>\n",
              "    </tr>\n",
              "    <tr>\n",
              "      <th>5985</th>\n",
              "      <td>2eeb9064f7f5b2569912cbb772a96438</td>\n",
              "      <td>24b16fede9a67c9251d3e7c7161c83ac</td>\n",
              "      <td>1</td>\n",
              "      <td>Django SQLite Python JavaScript C</td>\n",
              "      <td>Ruby Database PostgreSQL Redis Ruby on Rails M...</td>\n",
              "    </tr>\n",
              "    <tr>\n",
              "      <th>5993</th>\n",
              "      <td>5585082ed1ea25eaf73052029f2161ce</td>\n",
              "      <td>9cc138f8dc04cbf16240daa92d8d50e2</td>\n",
              "      <td>1</td>\n",
              "      <td>Git centOS MongoDB BitBucket Android Java Orac...</td>\n",
              "      <td>MySQL Java Spring Oracle</td>\n",
              "    </tr>\n",
              "  </tbody>\n",
              "</table>\n",
              "<p>857 rows × 5 columns</p>\n",
              "</div>"
            ],
            "text/plain": [
              "                                userID  ...                                         jobID_tags\n",
              "2     8ec0888a5b04139be0dfe942c7eb4199  ...                                  Android iOS Swift\n",
              "23    b052e2e0c0ad1b2d5036bd56e27d061c  ...               Git MongoDB MySQL Redis Java Node.js\n",
              "24    a35af76a1c0bb174a3cfc66592804848  ...       AngularJS CSS ReactJS Vue.js HTML JavaScript\n",
              "29    cb08b2c94dbb772324444bb4ed7cc1a4  ...  JPA(Java Persistent API) Java ReactJS OpenStac...\n",
              "35    688da39dcb1131d0d91b348653850d08  ...  Git PostgreSQL ReactJS Linux Node.js JavaScrip...\n",
              "...                                ...  ...                                                ...\n",
              "5976  e3979074cac4d9393ebbd4c2a534a851  ...  AWS Lambda Node.js AWS RDS AWS DynamoDB JavaSc...\n",
              "5981  6da6479250104018131de61655f1f385  ...  Aurora DB Ruby MySQL GitHub Vue.js Sass(SCSS) ...\n",
              "5983  6bd22a86b1f7a3a11de928d301f86d67  ...                                        Java Kotlin\n",
              "5985  2eeb9064f7f5b2569912cbb772a96438  ...  Ruby Database PostgreSQL Redis Ruby on Rails M...\n",
              "5993  5585082ed1ea25eaf73052029f2161ce  ...                           MySQL Java Spring Oracle\n",
              "\n",
              "[857 rows x 5 columns]"
            ]
          },
          "metadata": {
            "tags": []
          },
          "execution_count": 14
        }
      ]
    },
    {
      "cell_type": "code",
      "metadata": {
        "id": "N2zulkKwegmM"
      },
      "source": [
        "complete_merge['job_tags_split'] = complete_merge['jobID_tags'].apply(lambda x: x.split(\",\"))\n",
        "complete_merge['user_tags_split'] = complete_merge['userID_tags'].apply(lambda x: x.split(\",\"))"
      ],
      "execution_count": 15,
      "outputs": []
    },
    {
      "cell_type": "code",
      "metadata": {
        "id": "xA-voeRbfEVq",
        "outputId": "1f1df812-a96d-4e59-aaea-32bf10d32101",
        "colab": {
          "base_uri": "https://localhost:8080/",
          "height": 589
        }
      },
      "source": [
        "complete_merge"
      ],
      "execution_count": 16,
      "outputs": [
        {
          "output_type": "execute_result",
          "data": {
            "text/html": [
              "<div>\n",
              "<style scoped>\n",
              "    .dataframe tbody tr th:only-of-type {\n",
              "        vertical-align: middle;\n",
              "    }\n",
              "\n",
              "    .dataframe tbody tr th {\n",
              "        vertical-align: top;\n",
              "    }\n",
              "\n",
              "    .dataframe thead th {\n",
              "        text-align: right;\n",
              "    }\n",
              "</style>\n",
              "<table border=\"1\" class=\"dataframe\">\n",
              "  <thead>\n",
              "    <tr style=\"text-align: right;\">\n",
              "      <th></th>\n",
              "      <th>userID</th>\n",
              "      <th>jobID</th>\n",
              "      <th>applied</th>\n",
              "      <th>userID_tags</th>\n",
              "      <th>jobID_tags</th>\n",
              "      <th>job_tags_split</th>\n",
              "      <th>user_tags_split</th>\n",
              "    </tr>\n",
              "  </thead>\n",
              "  <tbody>\n",
              "    <tr>\n",
              "      <th>0</th>\n",
              "      <td>fe292163d06253b716e9a0099b42031d</td>\n",
              "      <td>15de21c670ae7c3f6f3f1f37029303c9</td>\n",
              "      <td>0</td>\n",
              "      <td>MongoDB Machine Learning Java ReactJS Android ...</td>\n",
              "      <td>Ruby on Rails Ruby</td>\n",
              "      <td>[Ruby on Rails Ruby]</td>\n",
              "      <td>[MongoDB Machine Learning Java ReactJS Android...</td>\n",
              "    </tr>\n",
              "    <tr>\n",
              "      <th>1</th>\n",
              "      <td>6377fa90618fae77571e8dc90d98d409</td>\n",
              "      <td>55b37c5c270e5d84c793e486d798c01d</td>\n",
              "      <td>0</td>\n",
              "      <td>Apache Tomcat HTML5 Google API MySQL Azure CSS...</td>\n",
              "      <td>MySQL AWS DynamoDB Python</td>\n",
              "      <td>[MySQL AWS DynamoDB Python]</td>\n",
              "      <td>[Apache Tomcat HTML5 Google API MySQL Azure CS...</td>\n",
              "    </tr>\n",
              "    <tr>\n",
              "      <th>2</th>\n",
              "      <td>8ec0888a5b04139be0dfe942c7eb4199</td>\n",
              "      <td>0fcbc61acd0479dc77e3cccc0f5ffca7</td>\n",
              "      <td>1</td>\n",
              "      <td>Ubuntu Android Facebook API Node.js AWS EC2 Ra...</td>\n",
              "      <td>Android iOS Swift</td>\n",
              "      <td>[Android iOS Swift]</td>\n",
              "      <td>[Ubuntu Android Facebook API Node.js AWS EC2 R...</td>\n",
              "    </tr>\n",
              "    <tr>\n",
              "      <th>3</th>\n",
              "      <td>f862b39f767d3a1991bdeb2ea1401c9c</td>\n",
              "      <td>3b5dca501ee1e6d8cd7b905f4e1bf723</td>\n",
              "      <td>0</td>\n",
              "      <td>GraphQL CSS Android ReactJS Flask Redis Tensor...</td>\n",
              "      <td>ReactJS Vue.js JavaScript React Native TypeScript</td>\n",
              "      <td>[ReactJS Vue.js JavaScript React Native TypeSc...</td>\n",
              "      <td>[GraphQL CSS Android ReactJS Flask Redis Tenso...</td>\n",
              "    </tr>\n",
              "    <tr>\n",
              "      <th>4</th>\n",
              "      <td>cac14930c65d72c16efac2c51a6b7f71</td>\n",
              "      <td>287e03db1d99e0ec2edb90d079e142f3</td>\n",
              "      <td>0</td>\n",
              "      <td>JPA(Java Persistent API) Toss API KakaoPay API...</td>\n",
              "      <td>ReactJS Webpack JavaScript Python</td>\n",
              "      <td>[ReactJS Webpack JavaScript Python]</td>\n",
              "      <td>[JPA(Java Persistent API) Toss API KakaoPay AP...</td>\n",
              "    </tr>\n",
              "    <tr>\n",
              "      <th>...</th>\n",
              "      <td>...</td>\n",
              "      <td>...</td>\n",
              "      <td>...</td>\n",
              "      <td>...</td>\n",
              "      <td>...</td>\n",
              "      <td>...</td>\n",
              "      <td>...</td>\n",
              "    </tr>\n",
              "    <tr>\n",
              "      <th>5995</th>\n",
              "      <td>68cb94b97d00979f4e8127915885b641</td>\n",
              "      <td>b9228e0962a78b84f3d5d92f4faa000b</td>\n",
              "      <td>0</td>\n",
              "      <td>GraphQL MySQL Node.js MongoDB Vuetify.js Sprin...</td>\n",
              "      <td>Java JavaScript</td>\n",
              "      <td>[Java JavaScript]</td>\n",
              "      <td>[GraphQL MySQL Node.js MongoDB Vuetify.js Spri...</td>\n",
              "    </tr>\n",
              "    <tr>\n",
              "      <th>5996</th>\n",
              "      <td>c0b199d73bdf390c2f4c3150b6ee1574</td>\n",
              "      <td>e3796ae838835da0b6f6ea37bcf8bcb7</td>\n",
              "      <td>0</td>\n",
              "      <td>Google API Node.js Google Maps API Sequelize.j...</td>\n",
              "      <td>Git ReactJS Android Objective-C React Native J...</td>\n",
              "      <td>[Git ReactJS Android Objective-C React Native ...</td>\n",
              "      <td>[Google API Node.js Google Maps API Sequelize....</td>\n",
              "    </tr>\n",
              "    <tr>\n",
              "      <th>5997</th>\n",
              "      <td>3ab88dd28f749fe4ec90c0b6f9896eb5</td>\n",
              "      <td>e2a2dcc36a08a345332c751b2f2e476c</td>\n",
              "      <td>0</td>\n",
              "      <td>MongoDB CSS HTML5 Java MySQL Java Servlet Spri...</td>\n",
              "      <td>Go CI/CD MySQL Java Linux Apache Kafka Elastic...</td>\n",
              "      <td>[Go CI/CD MySQL Java Linux Apache Kafka Elasti...</td>\n",
              "      <td>[MongoDB CSS HTML5 Java MySQL Java Servlet Spr...</td>\n",
              "    </tr>\n",
              "    <tr>\n",
              "      <th>5998</th>\n",
              "      <td>75b4af0dacbc119eadf4eeb096738405</td>\n",
              "      <td>3b712de48137572f3849aabd5666a4e3</td>\n",
              "      <td>0</td>\n",
              "      <td>GraphQL Git ReactJS styled-components Sass(SCS...</td>\n",
              "      <td>ReactJS Webpack JavaScript Node.js</td>\n",
              "      <td>[ReactJS Webpack JavaScript Node.js]</td>\n",
              "      <td>[GraphQL Git ReactJS styled-components Sass(SC...</td>\n",
              "    </tr>\n",
              "    <tr>\n",
              "      <th>5999</th>\n",
              "      <td>67adefb430df142b099bed89bd491524</td>\n",
              "      <td>65cc2c8205a05d7379fa3a6386f710e1</td>\n",
              "      <td>0</td>\n",
              "      <td>AWS CLI(AWS Command Line Interface) HTML5 MySQ...</td>\n",
              "      <td>Spring Boot Kotlin Docker JavaScript</td>\n",
              "      <td>[Spring Boot Kotlin Docker JavaScript]</td>\n",
              "      <td>[AWS CLI(AWS Command Line Interface) HTML5 MyS...</td>\n",
              "    </tr>\n",
              "  </tbody>\n",
              "</table>\n",
              "<p>6000 rows × 7 columns</p>\n",
              "</div>"
            ],
            "text/plain": [
              "                                userID  ...                                    user_tags_split\n",
              "0     fe292163d06253b716e9a0099b42031d  ...  [MongoDB Machine Learning Java ReactJS Android...\n",
              "1     6377fa90618fae77571e8dc90d98d409  ...  [Apache Tomcat HTML5 Google API MySQL Azure CS...\n",
              "2     8ec0888a5b04139be0dfe942c7eb4199  ...  [Ubuntu Android Facebook API Node.js AWS EC2 R...\n",
              "3     f862b39f767d3a1991bdeb2ea1401c9c  ...  [GraphQL CSS Android ReactJS Flask Redis Tenso...\n",
              "4     cac14930c65d72c16efac2c51a6b7f71  ...  [JPA(Java Persistent API) Toss API KakaoPay AP...\n",
              "...                                ...  ...                                                ...\n",
              "5995  68cb94b97d00979f4e8127915885b641  ...  [GraphQL MySQL Node.js MongoDB Vuetify.js Spri...\n",
              "5996  c0b199d73bdf390c2f4c3150b6ee1574  ...  [Google API Node.js Google Maps API Sequelize....\n",
              "5997  3ab88dd28f749fe4ec90c0b6f9896eb5  ...  [MongoDB CSS HTML5 Java MySQL Java Servlet Spr...\n",
              "5998  75b4af0dacbc119eadf4eeb096738405  ...  [GraphQL Git ReactJS styled-components Sass(SC...\n",
              "5999  67adefb430df142b099bed89bd491524  ...  [AWS CLI(AWS Command Line Interface) HTML5 MyS...\n",
              "\n",
              "[6000 rows x 7 columns]"
            ]
          },
          "metadata": {
            "tags": []
          },
          "execution_count": 16
        }
      ]
    },
    {
      "cell_type": "code",
      "metadata": {
        "id": "IVcfJaUJN9eZ",
        "outputId": "c0cba9c3-c0d9-4f1f-8cbb-d8a5343a7509",
        "colab": {
          "base_uri": "https://localhost:8080/",
          "height": 35
        }
      },
      "source": [
        "complete_merge['userID_tags'].sample().apply(lambda x: x.split(\",\")).tolist()"
      ],
      "execution_count": 17,
      "outputs": [
        {
          "output_type": "execute_result",
          "data": {
            "text/plain": [
              "[['MyBatis MySQL Node.js Firebase MariaDB Ajax Axios Spring Google Analytics Next.js Java Persistence API ReactJS Elasticsearch Vuex jQuery Amazon Web Services(AWS) Java Bootstrap Vue.js Python JavaScript JSP Spring Boot Redux.js']]"
            ]
          },
          "metadata": {
            "tags": []
          },
          "execution_count": 17
        }
      ]
    },
    {
      "cell_type": "code",
      "metadata": {
        "id": "JXTbVuD9LDKT"
      },
      "source": [
        "from sklearn.metrics.pairwise import euclidean_distances\n",
        "\n",
        "def l1_normalize(v):\n",
        "    return v / np.sum(v)\n",
        "\n",
        "# euclidean_distances(tfidf_metric[:, :, 2], tfidf_metric[:, :, 1])"
      ],
      "execution_count": 18,
      "outputs": []
    },
    {
      "cell_type": "markdown",
      "metadata": {
        "id": "AJFz4JKc4oTC"
      },
      "source": [
        "## 첫 번째 시도\n",
        "\n"
      ]
    },
    {
      "cell_type": "code",
      "metadata": {
        "id": "CnCwW2V2NUHz"
      },
      "source": [
        "from tensorflow.python.keras.preprocessing.sequence import pad_sequences\n",
        "from tensorflow.python.keras.preprocessing.text import Tokenizer\n",
        "import numpy as np "
      ],
      "execution_count": 19,
      "outputs": []
    },
    {
      "cell_type": "code",
      "metadata": {
        "id": "brcvRpJpSQll"
      },
      "source": [
        "tokenizer = Tokenizer()\n",
        "tokenizer.fit_on_texts(complete_merge['userID_tags'])\n",
        "tag_sequences = tokenizer.texts_to_sequences(complete_merge['userID_tags'])\n",
        "tag_vocab = tokenizer.word_index\n",
        "\n",
        "\n",
        "tag_vocab\n",
        "# tokenizer.texts_to_sequences()"
      ],
      "execution_count": null,
      "outputs": []
    },
    {
      "cell_type": "code",
      "metadata": {
        "id": "GD4uGJxIK6dj",
        "outputId": "9e20f9b7-7848-4e72-fef4-72eecc6d692a",
        "colab": {
          "base_uri": "https://localhost:8080/",
          "height": 589
        }
      },
      "source": [
        "complete_merge"
      ],
      "execution_count": 21,
      "outputs": [
        {
          "output_type": "execute_result",
          "data": {
            "text/html": [
              "<div>\n",
              "<style scoped>\n",
              "    .dataframe tbody tr th:only-of-type {\n",
              "        vertical-align: middle;\n",
              "    }\n",
              "\n",
              "    .dataframe tbody tr th {\n",
              "        vertical-align: top;\n",
              "    }\n",
              "\n",
              "    .dataframe thead th {\n",
              "        text-align: right;\n",
              "    }\n",
              "</style>\n",
              "<table border=\"1\" class=\"dataframe\">\n",
              "  <thead>\n",
              "    <tr style=\"text-align: right;\">\n",
              "      <th></th>\n",
              "      <th>userID</th>\n",
              "      <th>jobID</th>\n",
              "      <th>applied</th>\n",
              "      <th>userID_tags</th>\n",
              "      <th>jobID_tags</th>\n",
              "      <th>job_tags_split</th>\n",
              "      <th>user_tags_split</th>\n",
              "    </tr>\n",
              "  </thead>\n",
              "  <tbody>\n",
              "    <tr>\n",
              "      <th>0</th>\n",
              "      <td>fe292163d06253b716e9a0099b42031d</td>\n",
              "      <td>15de21c670ae7c3f6f3f1f37029303c9</td>\n",
              "      <td>0</td>\n",
              "      <td>MongoDB Machine Learning Java ReactJS Android ...</td>\n",
              "      <td>Ruby on Rails Ruby</td>\n",
              "      <td>[Ruby on Rails Ruby]</td>\n",
              "      <td>[MongoDB Machine Learning Java ReactJS Android...</td>\n",
              "    </tr>\n",
              "    <tr>\n",
              "      <th>1</th>\n",
              "      <td>6377fa90618fae77571e8dc90d98d409</td>\n",
              "      <td>55b37c5c270e5d84c793e486d798c01d</td>\n",
              "      <td>0</td>\n",
              "      <td>Apache Tomcat HTML5 Google API MySQL Azure CSS...</td>\n",
              "      <td>MySQL AWS DynamoDB Python</td>\n",
              "      <td>[MySQL AWS DynamoDB Python]</td>\n",
              "      <td>[Apache Tomcat HTML5 Google API MySQL Azure CS...</td>\n",
              "    </tr>\n",
              "    <tr>\n",
              "      <th>2</th>\n",
              "      <td>8ec0888a5b04139be0dfe942c7eb4199</td>\n",
              "      <td>0fcbc61acd0479dc77e3cccc0f5ffca7</td>\n",
              "      <td>1</td>\n",
              "      <td>Ubuntu Android Facebook API Node.js AWS EC2 Ra...</td>\n",
              "      <td>Android iOS Swift</td>\n",
              "      <td>[Android iOS Swift]</td>\n",
              "      <td>[Ubuntu Android Facebook API Node.js AWS EC2 R...</td>\n",
              "    </tr>\n",
              "    <tr>\n",
              "      <th>3</th>\n",
              "      <td>f862b39f767d3a1991bdeb2ea1401c9c</td>\n",
              "      <td>3b5dca501ee1e6d8cd7b905f4e1bf723</td>\n",
              "      <td>0</td>\n",
              "      <td>GraphQL CSS Android ReactJS Flask Redis Tensor...</td>\n",
              "      <td>ReactJS Vue.js JavaScript React Native TypeScript</td>\n",
              "      <td>[ReactJS Vue.js JavaScript React Native TypeSc...</td>\n",
              "      <td>[GraphQL CSS Android ReactJS Flask Redis Tenso...</td>\n",
              "    </tr>\n",
              "    <tr>\n",
              "      <th>4</th>\n",
              "      <td>cac14930c65d72c16efac2c51a6b7f71</td>\n",
              "      <td>287e03db1d99e0ec2edb90d079e142f3</td>\n",
              "      <td>0</td>\n",
              "      <td>JPA(Java Persistent API) Toss API KakaoPay API...</td>\n",
              "      <td>ReactJS Webpack JavaScript Python</td>\n",
              "      <td>[ReactJS Webpack JavaScript Python]</td>\n",
              "      <td>[JPA(Java Persistent API) Toss API KakaoPay AP...</td>\n",
              "    </tr>\n",
              "    <tr>\n",
              "      <th>...</th>\n",
              "      <td>...</td>\n",
              "      <td>...</td>\n",
              "      <td>...</td>\n",
              "      <td>...</td>\n",
              "      <td>...</td>\n",
              "      <td>...</td>\n",
              "      <td>...</td>\n",
              "    </tr>\n",
              "    <tr>\n",
              "      <th>5995</th>\n",
              "      <td>68cb94b97d00979f4e8127915885b641</td>\n",
              "      <td>b9228e0962a78b84f3d5d92f4faa000b</td>\n",
              "      <td>0</td>\n",
              "      <td>GraphQL MySQL Node.js MongoDB Vuetify.js Sprin...</td>\n",
              "      <td>Java JavaScript</td>\n",
              "      <td>[Java JavaScript]</td>\n",
              "      <td>[GraphQL MySQL Node.js MongoDB Vuetify.js Spri...</td>\n",
              "    </tr>\n",
              "    <tr>\n",
              "      <th>5996</th>\n",
              "      <td>c0b199d73bdf390c2f4c3150b6ee1574</td>\n",
              "      <td>e3796ae838835da0b6f6ea37bcf8bcb7</td>\n",
              "      <td>0</td>\n",
              "      <td>Google API Node.js Google Maps API Sequelize.j...</td>\n",
              "      <td>Git ReactJS Android Objective-C React Native J...</td>\n",
              "      <td>[Git ReactJS Android Objective-C React Native ...</td>\n",
              "      <td>[Google API Node.js Google Maps API Sequelize....</td>\n",
              "    </tr>\n",
              "    <tr>\n",
              "      <th>5997</th>\n",
              "      <td>3ab88dd28f749fe4ec90c0b6f9896eb5</td>\n",
              "      <td>e2a2dcc36a08a345332c751b2f2e476c</td>\n",
              "      <td>0</td>\n",
              "      <td>MongoDB CSS HTML5 Java MySQL Java Servlet Spri...</td>\n",
              "      <td>Go CI/CD MySQL Java Linux Apache Kafka Elastic...</td>\n",
              "      <td>[Go CI/CD MySQL Java Linux Apache Kafka Elasti...</td>\n",
              "      <td>[MongoDB CSS HTML5 Java MySQL Java Servlet Spr...</td>\n",
              "    </tr>\n",
              "    <tr>\n",
              "      <th>5998</th>\n",
              "      <td>75b4af0dacbc119eadf4eeb096738405</td>\n",
              "      <td>3b712de48137572f3849aabd5666a4e3</td>\n",
              "      <td>0</td>\n",
              "      <td>GraphQL Git ReactJS styled-components Sass(SCS...</td>\n",
              "      <td>ReactJS Webpack JavaScript Node.js</td>\n",
              "      <td>[ReactJS Webpack JavaScript Node.js]</td>\n",
              "      <td>[GraphQL Git ReactJS styled-components Sass(SC...</td>\n",
              "    </tr>\n",
              "    <tr>\n",
              "      <th>5999</th>\n",
              "      <td>67adefb430df142b099bed89bd491524</td>\n",
              "      <td>65cc2c8205a05d7379fa3a6386f710e1</td>\n",
              "      <td>0</td>\n",
              "      <td>AWS CLI(AWS Command Line Interface) HTML5 MySQ...</td>\n",
              "      <td>Spring Boot Kotlin Docker JavaScript</td>\n",
              "      <td>[Spring Boot Kotlin Docker JavaScript]</td>\n",
              "      <td>[AWS CLI(AWS Command Line Interface) HTML5 MyS...</td>\n",
              "    </tr>\n",
              "  </tbody>\n",
              "</table>\n",
              "<p>6000 rows × 7 columns</p>\n",
              "</div>"
            ],
            "text/plain": [
              "                                userID  ...                                    user_tags_split\n",
              "0     fe292163d06253b716e9a0099b42031d  ...  [MongoDB Machine Learning Java ReactJS Android...\n",
              "1     6377fa90618fae77571e8dc90d98d409  ...  [Apache Tomcat HTML5 Google API MySQL Azure CS...\n",
              "2     8ec0888a5b04139be0dfe942c7eb4199  ...  [Ubuntu Android Facebook API Node.js AWS EC2 R...\n",
              "3     f862b39f767d3a1991bdeb2ea1401c9c  ...  [GraphQL CSS Android ReactJS Flask Redis Tenso...\n",
              "4     cac14930c65d72c16efac2c51a6b7f71  ...  [JPA(Java Persistent API) Toss API KakaoPay AP...\n",
              "...                                ...  ...                                                ...\n",
              "5995  68cb94b97d00979f4e8127915885b641  ...  [GraphQL MySQL Node.js MongoDB Vuetify.js Spri...\n",
              "5996  c0b199d73bdf390c2f4c3150b6ee1574  ...  [Google API Node.js Google Maps API Sequelize....\n",
              "5997  3ab88dd28f749fe4ec90c0b6f9896eb5  ...  [MongoDB CSS HTML5 Java MySQL Java Servlet Spr...\n",
              "5998  75b4af0dacbc119eadf4eeb096738405  ...  [GraphQL Git ReactJS styled-components Sass(SC...\n",
              "5999  67adefb430df142b099bed89bd491524  ...  [AWS CLI(AWS Command Line Interface) HTML5 MyS...\n",
              "\n",
              "[6000 rows x 7 columns]"
            ]
          },
          "metadata": {
            "tags": []
          },
          "execution_count": 21
        }
      ]
    },
    {
      "cell_type": "markdown",
      "metadata": {
        "id": "W7TcvsTn4ufH"
      },
      "source": [
        "## 두 번째 시도\n"
      ]
    },
    {
      "cell_type": "code",
      "metadata": {
        "id": "1jScKPzGg2wu",
        "outputId": "5fd1aa1f-be50-4306-b7ce-b19b40daf93e",
        "colab": {
          "base_uri": "https://localhost:8080/",
          "height": 233
        }
      },
      "source": [
        "df_fit = complete_merge['userID_tags'].append(complete_merge['jobID_tags'])\n",
        "df_fit"
      ],
      "execution_count": 22,
      "outputs": [
        {
          "output_type": "execute_result",
          "data": {
            "text/plain": [
              "0       MongoDB Machine Learning Java ReactJS Android ...\n",
              "1       Apache Tomcat HTML5 Google API MySQL Azure CSS...\n",
              "2       Ubuntu Android Facebook API Node.js AWS EC2 Ra...\n",
              "3       GraphQL CSS Android ReactJS Flask Redis Tensor...\n",
              "4       JPA(Java Persistent API) Toss API KakaoPay API...\n",
              "                              ...                        \n",
              "5995                                      Java JavaScript\n",
              "5996    Git ReactJS Android Objective-C React Native J...\n",
              "5997    Go CI/CD MySQL Java Linux Apache Kafka Elastic...\n",
              "5998                   ReactJS Webpack JavaScript Node.js\n",
              "5999                 Spring Boot Kotlin Docker JavaScript\n",
              "Length: 12000, dtype: object"
            ]
          },
          "metadata": {
            "tags": []
          },
          "execution_count": 22
        }
      ]
    },
    {
      "cell_type": "code",
      "metadata": {
        "id": "Slu5mbrjZgRY",
        "outputId": "18ffec90-9ff4-49e7-c419-a73c14271fca",
        "colab": {
          "base_uri": "https://localhost:8080/",
          "height": 128
        }
      },
      "source": [
        "complete_merge.head(2)"
      ],
      "execution_count": 23,
      "outputs": [
        {
          "output_type": "execute_result",
          "data": {
            "text/html": [
              "<div>\n",
              "<style scoped>\n",
              "    .dataframe tbody tr th:only-of-type {\n",
              "        vertical-align: middle;\n",
              "    }\n",
              "\n",
              "    .dataframe tbody tr th {\n",
              "        vertical-align: top;\n",
              "    }\n",
              "\n",
              "    .dataframe thead th {\n",
              "        text-align: right;\n",
              "    }\n",
              "</style>\n",
              "<table border=\"1\" class=\"dataframe\">\n",
              "  <thead>\n",
              "    <tr style=\"text-align: right;\">\n",
              "      <th></th>\n",
              "      <th>userID</th>\n",
              "      <th>jobID</th>\n",
              "      <th>applied</th>\n",
              "      <th>userID_tags</th>\n",
              "      <th>jobID_tags</th>\n",
              "      <th>job_tags_split</th>\n",
              "      <th>user_tags_split</th>\n",
              "    </tr>\n",
              "  </thead>\n",
              "  <tbody>\n",
              "    <tr>\n",
              "      <th>0</th>\n",
              "      <td>fe292163d06253b716e9a0099b42031d</td>\n",
              "      <td>15de21c670ae7c3f6f3f1f37029303c9</td>\n",
              "      <td>0</td>\n",
              "      <td>MongoDB Machine Learning Java ReactJS Android ...</td>\n",
              "      <td>Ruby on Rails Ruby</td>\n",
              "      <td>[Ruby on Rails Ruby]</td>\n",
              "      <td>[MongoDB Machine Learning Java ReactJS Android...</td>\n",
              "    </tr>\n",
              "    <tr>\n",
              "      <th>1</th>\n",
              "      <td>6377fa90618fae77571e8dc90d98d409</td>\n",
              "      <td>55b37c5c270e5d84c793e486d798c01d</td>\n",
              "      <td>0</td>\n",
              "      <td>Apache Tomcat HTML5 Google API MySQL Azure CSS...</td>\n",
              "      <td>MySQL AWS DynamoDB Python</td>\n",
              "      <td>[MySQL AWS DynamoDB Python]</td>\n",
              "      <td>[Apache Tomcat HTML5 Google API MySQL Azure CS...</td>\n",
              "    </tr>\n",
              "  </tbody>\n",
              "</table>\n",
              "</div>"
            ],
            "text/plain": [
              "                             userID  ...                                    user_tags_split\n",
              "0  fe292163d06253b716e9a0099b42031d  ...  [MongoDB Machine Learning Java ReactJS Android...\n",
              "1  6377fa90618fae77571e8dc90d98d409  ...  [Apache Tomcat HTML5 Google API MySQL Azure CS...\n",
              "\n",
              "[2 rows x 7 columns]"
            ]
          },
          "metadata": {
            "tags": []
          },
          "execution_count": 23
        }
      ]
    },
    {
      "cell_type": "code",
      "metadata": {
        "id": "eMxlTImd4vUL",
        "outputId": "fd0d8cfd-98ef-4377-bc7c-d4abaa59ebed",
        "colab": {
          "base_uri": "https://localhost:8080/",
          "height": 91
        }
      },
      "source": [
        "from sklearn.feature_extraction.text import TfidfVectorizer\n",
        "\n",
        "vectorizer = TfidfVectorizer()\n",
        "vectorizer.fit(df_fit)\n",
        "print(vectorizer.get_feature_names())\n",
        "vocab = vectorizer.vocabulary_\n",
        "print(vocab)"
      ],
      "execution_count": 29,
      "outputs": [
        {
          "output_type": "stream",
          "text": [
            "['53', 'actionscript', 'activemq', 'adobe', 'ai', 'ajax', 'akka', 'algolia', 'amazon', 'amplify', 'analysys', 'analytics', 'android', 'angular', 'angular5', 'angularjs', 'ansible', 'ant', 'apache', 'api', 'apis', 'apollo', 'app', 'ar', 'architecture', 'arcmap', 'arduino', 'arm', 'asp', 'atl', 'atlas', 'aurora', 'aws', 'axios', 'azure', 'babel', 'backbone', 'backup', 'balancing', 'bamboo', 'batch', 'beanstalk', 'beautifulsoup', 'big', 'bigquery', 'bitbucket', 'ble', 'blender', 'blockchain', 'bluetooth', 'boot', 'bootstrap', 'buffers', 'butter', 'cad', 'canvas', 'capistrano', 'cd', 'celery', 'centos', 'ceph', 'chai', 'chart', 'chrome', 'ci', 'circleci', 'cli', 'client', 'cloud', 'cloudfront', 'cloudwatch', 'clova', 'cocoa', 'cocoapods', 'cocos2d', 'codedeploy', 'codeigniter', 'cognitive', 'cognito', 'command', 'components', 'composer', 'compute', 'connectivity', 'consul', 'cordova', 'couchbase', 'crashlytics', 'css', 'css3', 'cuckoo', 'cuda', 'cypress', 'd3', 'data', 'database', 'datadog', 'datalab', 'db', 'dedicated', 'deep', 'dependency', 'design', 'dialogflow', 'digital', 'digitalocean', 'directx', 'discord', 'django', 'dk', 'docker', 'docs', 'drf', 'dsp', 'dynamodb', 'ec2', 'eclipse', 'ecs', 'ejs', 'eks', 'elastic', 'elasticache', 'elasticbeanstalk', 'elasticsearch', 'electron', 'email', 'embedded', 'energy', 'engine', 'entity', 'enzyme', 'es6', 'eslint', 'ethereum', 'expo', 'expression', 'expressjs', 'extension', 'extjs', 'facebook', 'fcm', 'firebase', 'firestore', 'flask', 'flex', 'fluentd', 'for', 'framework', 'fxjs', 'gateway', 'gatsbyjs', 'gcp', 'gensim', 'geolocation', 'git', 'github', 'gitlab', 'glide', 'go', 'google', 'gpuimage', 'gradle', 'graphql', 'grpc', 'grunt', 'gulp', 'h2', 'hadoop', 'handlebars', 'hat', 'heroku', 'hibernate', 'hive', 'hooks', 'hsm', 'html', 'html5', 'http', 'hub', 'i18n', 'iam', 'ibatis', 'idf', 'iis', 'image', 'infrastructure', 'interface', 'invision', 'io', 'iocp', 'ionic', 'ios', 'iot', 'ip', 'java', 'javafx', 'javascript', 'jdbc', 'jekyll', 'jenkins', 'jest', 'jeus', 'jira', 'jni', 'jpa', 'jquery', 'js', 'json', 'jsoup', 'jsp', 'jstl', 'jsx', 'junit', 'jupyter', 'jwt', 'kafka', 'kakaolink', 'kakaopay', 'kakaotalk', 'kendo', 'keras', 'kernel', 'key', 'kibana', 'kinect', 'klaytn', 'knife', 'konlpy', 'kotlin', 'kubernetes', 'lambda', 'language', 'laravel', 'learn', 'learning', 'less', 'lightsail', 'line', 'linux', 'lisp', 'load', 'logback', 'logstash', 'lookup', 'low', 'lua', 'machine', 'machines', 'map', 'maps', 'mariadb', 'material', 'matlab', 'maven', 'memcached', 'messaging', 'metamask', 'meteorjs', 'mfc', 'microservice', 'microsoft', 'mobx', 'mocha', 'mockito', 'model', 'moment', 'mongodb', 'mongoose', 'mqtt', 'msql', 'mssql', 'mvc', 'mvp', 'mvvm', 'mybatis', 'mysql', 'native', 'natural', 'naver', 'ncp', 'ncurses', 'nestjs', 'net', 'netty', 'next', 'nexus', 'nginx', 'nlp', 'node', 'nosql', 'nsis', 'numpy', 'nuxt', 'oauth', 'objective', 'observable', 'okhttp', 'on', 'oop', 'opencv', 'opengl', 'openlayers', 'openstack', 'oracle', 'packer', 'pandas', 'parse', 'passport', 'pattern', 'persistence', 'persistent', 'phaser', 'photon', 'photoshop', 'php', 'pi', 'pig', 'pki', 'platform', 'poi', 'polymer', 'postcss', 'postgresql', 'premiere', 'prisma', 'processing', 'progressive', 'project', 'prolog', 'protocol', 'public', 'pug', 'puppeteer', 'pwa', 'python', 'pytorch', 'qt', 'querydsl', 'queue', 'rabbitmq', 'rails', 'raspberry', 'ray', 'rds', 'react', 'reactjs', 'realm', 'realtime', 'red', 'redis', 'redux', 'regular', 'responsive', 'rest', 'retrofit', 'ros', 'route', 'ruby', 'rust', 'rxandroid', 'rxjava', 'rxjs', 'rxkotlin', 'rxswift', 's3', 'saga', 'sandbox', 'sass', 'scala', 'scikit', 'script', 'scss', 'sdk', 'seaborn', 'security', 'selenium', 'semantic', 'sequelize', 'server', 'service', 'services', 'servlet', 'ses', 'shell', 'signal', 'simple', 'sketch', 'slack', 'socket', 'sockjs', 'solidity', 'spark', 'spring', 'sql', 'sqlalchemy', 'sqlite', 'sqs', 'stack', 'storage', 'struts', 'styled', 'subversion', 'svn', 'swagger', 'swift', 'swing', 'system', 'tableau', 'tcp', 'tensorflow', 'terraform', 'text', 'tf', 'threejs', 'thymeleaf', 'tiles', 'tkinter', 'tomcat', 'tools', 'toss', 'transcoder', 'transformation', 'travis', 'trello', 'typeorm', 'typescript', 'ubuntu', 'ui', 'uml', 'unity', 'unix', 'unreal', 'uwsgi', 'vagrant', 'vanilla', 'verilog', 'view', 'viewmodel', 'virtual', 'vision', 'volley', 'vr', 'vue', 'vuetify', 'vuex', 'web', 'web3', 'webgl', 'weblogic', 'webpack', 'webrtc', 'websocket', 'webtob', 'windows', 'wordpress', 'wpf', 'xml', 'yarn', 'yolo', 'zeplin', 'zeppelin', 'zookeeper', 'zuul', 'zxing', '공공데이터', '소켓']\n",
            "(12000, 466)\n",
            "{'mongodb': 266, 'machine': 246, 'learning': 234, 'java': 194, 'reactjs': 345, 'android': 12, 'opencv': 299, 'sqlite': 395, 'linux': 238, 'node': 288, 'js': 206, 'python': 334, 'docker': 110, 'jenkins': 199, 'expressjs': 136, 'apache': 18, 'tomcat': 417, 'html5': 176, 'google': 159, 'api': 19, 'mysql': 275, 'azure': 34, 'css3': 89, 'centos': 59, 'spring': 392, 'nginx': 286, 'elastic': 120, 'stack': 397, 'aws': 32, 's3': 364, 'jquery': 205, 'kibana': 223, 'spark': 391, 'hadoop': 167, 'sockjs': 389, 'oracle': 303, 'hive': 172, 'logstash': 242, 'javascript': 196, 'jsp': 209, 'boot': 50, 'ubuntu': 426, 'facebook': 139, 'ec2': 115, 'raspberry': 341, 'pi': 315, 'cuckoo': 90, 'sandbox': 366, 'graphql': 162, 'css': 88, 'flask': 143, 'redis': 349, 'tensorflow': 409, 'tkinter': 416, 'html': 175, 'typescript': 425, 'mariadb': 250, 'tf': 412, 'idf': 182, 'jpa': 204, 'persistent': 310, 'toss': 419, 'kakaopay': 217, 'ajax': 5, 'bootstrap': 51, 'rds': 343, 'data': 94, 'rest': 353, 'mybatis': 274, 'wordpress': 454, 'postgresql': 322, 'dedicated': 99, 'hsm': 174, 'php': 314, 'codeigniter': 76, 'elasticbeanstalk': 122, 'docs': 111, 'security': 374, 'phaser': 311, 'unity': 429, 'socket': 388, 'io': 188, 'vr': 441, 'map': 248, 'arduino': 26, 'swagger': 403, 'vue': 442, 'cli': 66, 'verilog': 435, 'mfc': 258, 'django': 108, 'beautifulsoup': 42, 'selenium': 375, 'drf': 112, 'framework': 147, 'shell': 383, 'script': 370, 'subversion': 401, 'svn': 402, 'batch': 40, 'rabbitmq': 339, 'nsis': 290, 'amazon': 8, 'web': 445, 'services': 380, 'cypress': 92, 'actionscript': 1, 'wpf': 455, 'meteorjs': 257, 'atl': 29, 'transformation': 421, 'language': 231, 'iocp': 189, 'arm': 27, 'mssql': 270, 'microsoft': 260, 'sql': 393, 'server': 378, 'image': 184, 'processing': 325, 'ibatis': 181, 'tiles': 415, 'geolocation': 153, 'kakaotalk': 218, 'struts': 399, 'javafx': 195, 'axios': 33, 'jsoup': 208, 'analytics': 11, 'uml': 428, 'retrofit': 354, 'angularjs': 15, 'ant': 17, 'git': 154, 'jdbc': 197, 'database': 95, 'connectivity': 83, 'maven': 253, 'mqtt': 268, 'zxing': 463, 'hibernate': 171, 'h2': 166, 'github': 155, 'jstl': 210, 'mvc': 271, 'kafka': 215, 'jwt': 214, 'microservice': 259, 'architecture': 24, 'regular': 351, 'expression': 135, 'logback': 241, 'laravel': 232, 'responsive': 352, 'webrtc': 450, 'ai': 4, 'hub': 178, 'ios': 191, 'd3': 93, 'netty': 283, 'app': 22, 'engine': 128, 'ar': 23, 'firebase': 141, 'swift': 404, 'photon': 312, 'route': 356, '53': 0, 'servlet': 381, 'simple': 385, 'email': 125, 'service': 379, 'ses': 382, 'react': 344, 'native': 276, 'ncp': 279, 'naver': 278, 'cloud': 68, 'platform': 318, 'jupyter': 213, 'pandas': 305, 'sqlalchemy': 394, 'firestore': 142, 'seaborn': 373, 'keras': 220, 'compute': 82, 'kubernetes': 229, 'ejs': 118, 'heroku': 170, 'persistence': 309, 'junit': 212, 'extjs': 138, 'es6': 131, 'puppeteer': 332, 'polymer': 320, 'project': 327, 'flex': 144, 'handlebars': 168, 'vanilla': 434, 'maps': 249, 'angular': 13, 'gitlab': 156, 'mongoose': 267, 'chrome': 63, 'extension': 137, 'webpack': 449, 'pug': 331, 'redux': 350, 'saga': 365, 'next': 284, 'cordova': 85, 'iam': 180, 'lambda': 230, 'jira': 202, 'nuxt': 292, 'couchbase': 86, 'gateway': 149, 'vuetify': 443, 'sass': 367, 'scss': 371, 'gatsbyjs': 150, 'kendo': 219, 'ui': 427, 'chart': 62, 'vuex': 444, 'semantic': 376, 'uwsgi': 432, 'apis': 20, 'ros': 355, 'yolo': 458, 'trello': 423, 'embedded': 126, 'system': 406, 'cognito': 78, 'bigquery': 44, 'sequelize': 377, 'weblogic': 448, 'unix': 430, 'ruby': 357, 'on': 297, 'rails': 340, 'lightsail': 236, 'bitbucket': 45, 'gcp': 151, 'cognitive': 77, 'asp': 28, 'directx': 106, 'mobx': 261, 'styled': 400, 'components': 80, 'dynamodb': 114, 'load': 240, 'balancing': 38, 'slack': 387, 'zeplin': 459, 'apollo': 21, 'client': 67, 'digitalocean': 105, 'jest': 200, 'babel': 35, 'xml': 456, 'eslint': 132, 'parse': 306, 'cloudfront': 69, 'rxjava': 360, 'beanstalk': 41, 'gpuimage': 160, 'cloudwatch': 70, 'oauth': 293, 'atlas': 30, 'travis': 422, 'ci': 64, 'material': 251, 'hooks': 173, 'elasticache': 121, 'passport': 307, 'kotlin': 228, 'lua': 245, 'swing': 405, 'jeus': 201, 'cocos2d': 74, 'command': 79, 'line': 237, 'interface': 186, 'gradle': 161, 'codedeploy': 75, 'adobe': 3, 'photoshop': 313, 'premiere': 323, 'blender': 47, 'zuul': 462, 'i18n': 179, 'websocket': 451, '소켓': 465, 'ncurses': 280, 'mocha': 262, 'angular5': 14, 'fxjs': 148, 'elasticsearch': 123, 'mockito': 263, 'nlp': 287, 'konlpy': 227, 'solidity': 390, 'klaytn': 225, 'kinect': 224, 'dk': 109, 'net': 282, 'iot': 192, 'moment': 265, 'go': 158, 'algolia': 7, 'realm': 346, 'tableau': 407, 'tools': 418, 'for': 146, 'eclipse': 116, 'prolog': 328, 'lisp': 239, 'jsx': 211, 'bluetooth': 49, 'nestjs': 281, 'discord': 107, 'opengl': 300, 'deep': 100, 'okhttp': 296, 'butter': 53, 'knife': 226, 'glide': 157, 'volley': 440, 'tcp': 408, 'ip': 193, 'composer': 81, 'typeorm': 424, 'vagrant': 433, 'fcm': 140, 'messaging': 255, 'nosql': 289, 'celery': 58, 'querydsl': 337, 'kakaolink': 216, 'pwa': 333, 'progressive': 326, 'pig': 316, 'zeppelin': 460, 'grpc': 163, 'protocol': 329, 'buffers': 52, 'dialogflow': 103, 'realtime': 347, 'qt': 336, 'clova': 71, 'akka': 6, 'matlab': 252, 'storage': 398, 'circleci': 65, 'sketch': 386, 'prisma': 324, '공공데이터': 464, 'poi': 319, 'http': 177, 'json': 207, 'jni': 203, 'chai': 61, 'thymeleaf': 414, 'webtob': 452, 'iis': 183, 'design': 102, 'pattern': 308, 'amplify': 9, 'transcoder': 420, 'scikit': 369, 'learn': 233, 'numpy': 291, 'datalab': 97, 'arcmap': 25, 'ble': 46, 'low': 244, 'energy': 127, 'ethereum': 133, 'web3': 446, 'yarn': 457, 'metamask': 256, 'enzyme': 130, 'rxjs': 361, 'cd': 57, 'pytorch': 335, 'scala': 368, 'openstack': 302, 'objective': 294, 'rxswift': 363, 'terraform': 410, 'eks': 119, 'ansible': 16, 'kernel': 221, 'oop': 298, 'gulp': 165, 'webgl': 447, 'vision': 439, 'aurora': 31, 'db': 98, 'observable': 295, 'backup': 37, 'fluentd': 145, 'datadog': 96, 'rust': 358, 'memcached': 254, 'ray': 342, 'big': 43, 'analysys': 10, 'electron': 124, 'msql': 269, 'gensim': 152, 'queue': 338, 'sqs': 396, 'activemq': 2, 'red': 348, 'hat': 169, 'ceph': 60, 'openlayers': 301, 'less': 235, 'pki': 317, 'public': 330, 'key': 222, 'infrastructure': 185, 'ecs': 117, 'capistrano': 56, 'bamboo': 39, 'mvp': 272, 'blockchain': 48, 'dsp': 113, 'digital': 104, 'signal': 384, 'cocoa': 72, 'ionic': 190, 'canvas': 55, 'threejs': 413, 'zookeeper': 461, 'grunt': 164, 'cad': 54, 'postcss': 321, 'backbone': 36, 'virtual': 438, 'machines': 247, 'cuda': 91, 'mvvm': 273, 'model': 264, 'view': 436, 'viewmodel': 437, 'cocoapods': 73, 'crashlytics': 87, 'windows': 453, 'unreal': 431, 'sdk': 372, 'rxandroid': 359, 'entity': 129, 'consul': 84, 'packer': 304, 'nexus': 285, 'jekyll': 198, 'rxkotlin': 362, 'dependency': 101, 'lookup': 243, 'expo': 134, 'invision': 187, 'text': 411, 'natural': 277}\n"
          ],
          "name": "stdout"
        }
      ]
    },
    {
      "cell_type": "code",
      "metadata": {
        "id": "MEV00H3OMGL0"
      },
      "source": [
        "def trans(col):\n",
        "  return vectorizer.transform([col]).toarray()"
      ],
      "execution_count": 83,
      "outputs": []
    },
    {
      "cell_type": "code",
      "metadata": {
        "id": "nxquYMjlKrk6"
      },
      "source": [
        "complete_merge['job_tag'] = complete_merge['jobID_tags'].apply(trans)\n",
        "complete_merge['user_tag'] = complete_merge['userID_tags'].apply(trans)"
      ],
      "execution_count": 84,
      "outputs": []
    },
    {
      "cell_type": "code",
      "metadata": {
        "id": "9tXdOloWOx3U"
      },
      "source": [
        "df_train = complete_merge.iloc[:, 7:]\n",
        "df_train['applied'] = complete_merge.iloc[:, 2]"
      ],
      "execution_count": 85,
      "outputs": []
    },
    {
      "cell_type": "code",
      "metadata": {
        "id": "0ZzqAgy0Sbto",
        "outputId": "c88a3dbe-af5b-4833-8c8e-46fda699d650",
        "colab": {
          "base_uri": "https://localhost:8080/",
          "height": 1000
        }
      },
      "source": [
        "np.array(df_train['job_tag'].sample(1)) * np.array(df_train['user_tag'].sample(1))"
      ],
      "execution_count": 88,
      "outputs": [
        {
          "output_type": "execute_result",
          "data": {
            "text/plain": [
              "array([array([[0.        , 0.        , 0.        , 0.        , 0.        ,\n",
              "        0.        , 0.        , 0.        , 0.        , 0.        ,\n",
              "        0.        , 0.        , 0.        , 0.        , 0.        ,\n",
              "        0.        , 0.        , 0.        , 0.        , 0.        ,\n",
              "        0.        , 0.        , 0.        , 0.        , 0.        ,\n",
              "        0.        , 0.        , 0.        , 0.        , 0.        ,\n",
              "        0.        , 0.        , 0.        , 0.        , 0.        ,\n",
              "        0.        , 0.        , 0.        , 0.        , 0.        ,\n",
              "        0.        , 0.        , 0.        , 0.        , 0.        ,\n",
              "        0.        , 0.        , 0.        , 0.        , 0.        ,\n",
              "        0.        , 0.        , 0.        , 0.        , 0.        ,\n",
              "        0.        , 0.        , 0.        , 0.        , 0.        ,\n",
              "        0.        , 0.        , 0.        , 0.        , 0.        ,\n",
              "        0.        , 0.        , 0.        , 0.        , 0.        ,\n",
              "        0.        , 0.        , 0.        , 0.        , 0.        ,\n",
              "        0.        , 0.        , 0.        , 0.        , 0.        ,\n",
              "        0.        , 0.        , 0.        , 0.        , 0.        ,\n",
              "        0.        , 0.        , 0.        , 0.        , 0.        ,\n",
              "        0.        , 0.        , 0.        , 0.        , 0.        ,\n",
              "        0.        , 0.        , 0.        , 0.        , 0.        ,\n",
              "        0.        , 0.        , 0.        , 0.        , 0.        ,\n",
              "        0.        , 0.        , 0.        , 0.        , 0.        ,\n",
              "        0.        , 0.        , 0.        , 0.        , 0.        ,\n",
              "        0.        , 0.        , 0.        , 0.        , 0.        ,\n",
              "        0.        , 0.        , 0.        , 0.        , 0.        ,\n",
              "        0.        , 0.        , 0.        , 0.        , 0.        ,\n",
              "        0.        , 0.        , 0.        , 0.        , 0.        ,\n",
              "        0.        , 0.        , 0.        , 0.        , 0.        ,\n",
              "        0.        , 0.        , 0.        , 0.        , 0.        ,\n",
              "        0.        , 0.        , 0.        , 0.        , 0.        ,\n",
              "        0.        , 0.        , 0.        , 0.        , 0.        ,\n",
              "        0.        , 0.        , 0.        , 0.        , 0.        ,\n",
              "        0.        , 0.        , 0.        , 0.        , 0.        ,\n",
              "        0.        , 0.        , 0.        , 0.        , 0.        ,\n",
              "        0.        , 0.        , 0.        , 0.        , 0.        ,\n",
              "        0.        , 0.        , 0.        , 0.        , 0.        ,\n",
              "        0.        , 0.        , 0.        , 0.        , 0.        ,\n",
              "        0.        , 0.        , 0.        , 0.        , 0.        ,\n",
              "        0.        , 0.        , 0.        , 0.        , 0.        ,\n",
              "        0.        , 0.0200559 , 0.        , 0.        , 0.        ,\n",
              "        0.        , 0.        , 0.        , 0.        , 0.        ,\n",
              "        0.        , 0.04156364, 0.        , 0.        , 0.        ,\n",
              "        0.        , 0.        , 0.        , 0.        , 0.        ,\n",
              "        0.        , 0.        , 0.        , 0.        , 0.        ,\n",
              "        0.        , 0.        , 0.        , 0.        , 0.        ,\n",
              "        0.        , 0.        , 0.        , 0.        , 0.        ,\n",
              "        0.        , 0.        , 0.        , 0.        , 0.        ,\n",
              "        0.        , 0.        , 0.        , 0.        , 0.        ,\n",
              "        0.        , 0.        , 0.        , 0.        , 0.        ,\n",
              "        0.        , 0.        , 0.        , 0.        , 0.        ,\n",
              "        0.        , 0.        , 0.        , 0.        , 0.        ,\n",
              "        0.        , 0.        , 0.        , 0.        , 0.        ,\n",
              "        0.        , 0.        , 0.        , 0.        , 0.        ,\n",
              "        0.        , 0.06740346, 0.        , 0.        , 0.        ,\n",
              "        0.        , 0.        , 0.        , 0.        , 0.        ,\n",
              "        0.        , 0.        , 0.        , 0.        , 0.        ,\n",
              "        0.        , 0.        , 0.        , 0.        , 0.        ,\n",
              "        0.        , 0.        , 0.        , 0.02772348, 0.        ,\n",
              "        0.        , 0.        , 0.        , 0.        , 0.        ,\n",
              "        0.        , 0.        , 0.        , 0.        , 0.        ,\n",
              "        0.        , 0.        , 0.        , 0.        , 0.        ,\n",
              "        0.        , 0.        , 0.        , 0.        , 0.        ,\n",
              "        0.        , 0.        , 0.        , 0.        , 0.        ,\n",
              "        0.        , 0.        , 0.        , 0.        , 0.        ,\n",
              "        0.        , 0.        , 0.        , 0.        , 0.        ,\n",
              "        0.        , 0.        , 0.        , 0.        , 0.        ,\n",
              "        0.        , 0.        , 0.        , 0.        , 0.        ,\n",
              "        0.        , 0.        , 0.        , 0.        , 0.        ,\n",
              "        0.        , 0.        , 0.        , 0.        , 0.        ,\n",
              "        0.04085623, 0.        , 0.        , 0.        , 0.        ,\n",
              "        0.        , 0.        , 0.        , 0.        , 0.        ,\n",
              "        0.        , 0.        , 0.        , 0.        , 0.        ,\n",
              "        0.        , 0.        , 0.        , 0.        , 0.        ,\n",
              "        0.        , 0.        , 0.        , 0.        , 0.        ,\n",
              "        0.        , 0.        , 0.        , 0.        , 0.        ,\n",
              "        0.        , 0.        , 0.        , 0.        , 0.        ,\n",
              "        0.        , 0.        , 0.        , 0.        , 0.        ,\n",
              "        0.        , 0.        , 0.        , 0.        , 0.        ,\n",
              "        0.        , 0.        , 0.        , 0.        , 0.        ,\n",
              "        0.        , 0.        , 0.        , 0.        , 0.        ,\n",
              "        0.        , 0.        , 0.        , 0.        , 0.        ,\n",
              "        0.        , 0.        , 0.        , 0.        , 0.        ,\n",
              "        0.        , 0.        , 0.        , 0.        , 0.        ,\n",
              "        0.        , 0.        , 0.        , 0.        , 0.        ,\n",
              "        0.        , 0.        , 0.        , 0.        , 0.        ,\n",
              "        0.        , 0.        , 0.        , 0.        , 0.        ,\n",
              "        0.        , 0.        , 0.        , 0.        , 0.        ,\n",
              "        0.        , 0.        , 0.        , 0.        , 0.        ,\n",
              "        0.        , 0.        , 0.        , 0.        , 0.        ,\n",
              "        0.        , 0.        , 0.        , 0.        , 0.        ,\n",
              "        0.        , 0.        , 0.        , 0.        , 0.        ,\n",
              "        0.        , 0.        , 0.        , 0.        , 0.        ,\n",
              "        0.        , 0.        , 0.        , 0.        , 0.        ,\n",
              "        0.        ]])], dtype=object)"
            ]
          },
          "metadata": {
            "tags": []
          },
          "execution_count": 88
        }
      ]
    },
    {
      "cell_type": "code",
      "metadata": {
        "id": "0wb3Fl96JqLi"
      },
      "source": [
        "from sklearn.model_selection import train_test_split\n",
        "from sklearn.metrics import accuracy_score\n",
        "from sklearn.tree import DecisionTreeClassifier\n",
        "\n",
        "decision = DecisionTreeClassifier()\n",
        "decision.fit(complete_merge.iloc[:, 5:], complete_merge.iloc[:, 2])\n"
      ],
      "execution_count": null,
      "outputs": []
    },
    {
      "cell_type": "markdown",
      "metadata": {
        "id": "zxcbxpAeWFaa"
      },
      "source": [
        "유저의 태그를 문자열로 붙여 `새로운 컬럼`에 추가한다.\n",
        "\n",
        "job의 태그를 문자열로 붙여 `새로운 컬럼`에 추가한다.\n",
        "\n",
        "companies를 벡터화에 추가한다.\n",
        "\n",
        "job의 `새로운 컬럼`에 company를 덧붙인다."
      ]
    },
    {
      "cell_type": "code",
      "metadata": {
        "id": "fDtA-ofZsh3o"
      },
      "source": [
        ""
      ],
      "execution_count": null,
      "outputs": []
    }
  ]
}
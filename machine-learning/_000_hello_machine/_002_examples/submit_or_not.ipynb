{
  "nbformat": 4,
  "nbformat_minor": 0,
  "metadata": {
    "colab": {
      "name": "programmers/submit_or_not.ipynb",
      "provenance": [],
      "collapsed_sections": [],
      "mount_file_id": "1-PzUaUH0j7PuzbqR6lr6JtbsEFnoIYmg",
      "authorship_tag": "ABX9TyMlOa79tGujai3E9pnYWwAe",
      "include_colab_link": true
    },
    "kernelspec": {
      "name": "python3",
      "display_name": "Python 3"
    },
    "accelerator": "GPU"
  },
  "cells": [
    {
      "cell_type": "markdown",
      "metadata": {
        "id": "view-in-github",
        "colab_type": "text"
      },
      "source": [
        "<a href=\"https://colab.research.google.com/github/wiv33/A-Learning-python/blob/master/machine-learning/_000_hello_machine/_002_examples/submit_or_not.ipynb\" target=\"_parent\"><img src=\"https://colab.research.google.com/assets/colab-badge.svg\" alt=\"Open In Colab\"/></a>"
      ]
    },
    {
      "cell_type": "code",
      "metadata": {
        "id": "C-rTvY6gKwnD",
        "outputId": "f1b0346a-8b54-4c12-8e96-9f9cbb67b5ff",
        "colab": {
          "base_uri": "https://localhost:8080/",
          "height": 35
        }
      },
      "source": [
        "from google.colab import drive\n",
        "\n",
        "drive.mount(\"/content/drive\")"
      ],
      "execution_count": 1,
      "outputs": [
        {
          "output_type": "stream",
          "text": [
            "Drive already mounted at /content/drive; to attempt to forcibly remount, call drive.mount(\"/content/drive\", force_remount=True).\n"
          ],
          "name": "stdout"
        }
      ]
    },
    {
      "cell_type": "code",
      "metadata": {
        "id": "-hkCG_B2XrpO",
        "outputId": "3001dd67-e3e0-4034-8a2f-b409da035ff2",
        "colab": {
          "base_uri": "https://localhost:8080/",
          "height": 35
        }
      },
      "source": [
        "!ls"
      ],
      "execution_count": 2,
      "outputs": [
        {
          "output_type": "stream",
          "text": [
            "drive  sample_data\n"
          ],
          "name": "stdout"
        }
      ]
    },
    {
      "cell_type": "code",
      "metadata": {
        "id": "vSoq7-LFHprg"
      },
      "source": [
        "import numpy as np"
      ],
      "execution_count": 3,
      "outputs": []
    },
    {
      "cell_type": "code",
      "metadata": {
        "id": "xcjXPamcX0bR"
      },
      "source": [
        "import pandas as pd\n",
        "\n",
        "df_tag_map = pd.read_csv('/content/drive/My Drive/Colab Notebooks/data/programmers/tags.csv')"
      ],
      "execution_count": 4,
      "outputs": []
    },
    {
      "cell_type": "code",
      "metadata": {
        "id": "Ya0HsizTYVd2"
      },
      "source": [
        "train = pd.read_csv('/content/drive/My Drive/Colab Notebooks/data/programmers/train.csv')"
      ],
      "execution_count": 5,
      "outputs": []
    },
    {
      "cell_type": "code",
      "metadata": {
        "id": "AW2sNnbqYzIQ"
      },
      "source": [
        "user_tag = pd.read_csv('/content/drive/My Drive/Colab Notebooks/data/programmers/user_tags.csv')"
      ],
      "execution_count": 6,
      "outputs": []
    },
    {
      "cell_type": "code",
      "metadata": {
        "id": "4zJD09E8Y3Ri"
      },
      "source": [
        "job_companies = pd.read_csv('/content/drive/My Drive/Colab Notebooks/data/programmers/job_companies.csv')"
      ],
      "execution_count": 7,
      "outputs": []
    },
    {
      "cell_type": "code",
      "metadata": {
        "id": "WONk_zBKYZ0x"
      },
      "source": [
        "job_tag = pd.read_csv('/content/drive/My Drive/Colab Notebooks/data/programmers/job_tags.csv')"
      ],
      "execution_count": 8,
      "outputs": []
    },
    {
      "cell_type": "markdown",
      "metadata": {
        "id": "9m5G_Cwa1lwn"
      },
      "source": [
        "# 내부로 사용할 함수"
      ]
    },
    {
      "cell_type": "code",
      "metadata": {
        "id": "CM_hXi_lSsUd"
      },
      "source": [
        "def find_column_seq(df_data, target):\n",
        "  for i, x in enumerate(df_data.columns):\n",
        "    if target == x:\n",
        "      return i, x"
      ],
      "execution_count": 9,
      "outputs": []
    },
    {
      "cell_type": "code",
      "metadata": {
        "id": "6PNMC3wnYUV3"
      },
      "source": [
        "def update_col_in_df(update_df: pd.DataFrame, id: str, tags: []):\n",
        "  for i in range(len(update_df[id])):\n",
        "    if len(tags[update_df[id][i]]) > 0:\n",
        "      for j in tags[update_df[id][i]]:\n",
        "        j_idx = find_column_seq(update_df, j)[0]\n",
        "        update_df.iloc[i: i+1, j_idx:j_idx + 1] += 1\n"
      ],
      "execution_count": 10,
      "outputs": []
    },
    {
      "cell_type": "markdown",
      "metadata": {
        "id": "hZWDC23du3cu"
      },
      "source": [
        "# User Tag와 Job Tag Grouping\n"
      ]
    },
    {
      "cell_type": "code",
      "metadata": {
        "id": "-L8pK6E2aFsw"
      },
      "source": [
        "def grouping_tags(df: pd.DataFrame, id:str) -> {}:\n",
        "  result = {}\n",
        "  for u, t in df.groupby(id):\n",
        "    result[u] = df[df[id] == u]['tagID'].values\n",
        "\n",
        "  return result"
      ],
      "execution_count": 11,
      "outputs": []
    },
    {
      "cell_type": "markdown",
      "metadata": {
        "id": "O3_dU6Aq1cFI"
      },
      "source": [
        "# preprocessing Interface ( 데이터 전처리 ) "
      ]
    },
    {
      "cell_type": "code",
      "metadata": {
        "id": "zG1K9Yrkc1Na"
      },
      "source": [
        "def submit_preprocessing(data: pd.DataFrame, \n",
        "                         _tag_map: pd.DataFrame, \n",
        "                         _user_tag: pd.DataFrame,\n",
        "                         _job_tag: pd.DataFrame,\n",
        "                         _job_companies: pd.DataFrame) -> pd.DataFrame:\n",
        "  tt = _tag_map.transpose()\n",
        "  tt.columns = tt.values[0]\n",
        "  df_merge = pd.merge(data, _job_companies[:][['jobID', 'companyID']])\n",
        "  df_concat = pd.concat([df_merge, tt], ignore_index=True)\n",
        "  df_concat.drop(df_concat.index[-2:, ], inplace=True)\n",
        "\n",
        "  result =  df_concat.fillna(0)\n",
        "  update_col_in_df(result, 'userID', grouping_tags(_user_tag.drop_duplicates(), 'userID'))\n",
        "  # df_independent\n",
        "  update_col_in_df(result, 'jobID', grouping_tags(_job_tag.drop_duplicates(), 'jobID'))\n",
        "  return result.iloc[:, 3:]"
      ],
      "execution_count": 12,
      "outputs": []
    },
    {
      "cell_type": "markdown",
      "metadata": {
        "id": "SCQKXWb8c2xW"
      },
      "source": [
        "# tagID 원-핫 인코딩 base df 초기화\n",
        "\n",
        "\n",
        "*   모든 tag transpose\n",
        "*   train data에 concat\n",
        "*   companyID merge\n",
        "*   nan to 0\n",
        "\n"
      ]
    },
    {
      "cell_type": "code",
      "metadata": {
        "id": "WA4v7Lp5fkAJ"
      },
      "source": [
        "독립 = train[:][['userID', 'jobID']]\n",
        "df_train = submit_preprocessing(독립, \n",
        "                                _tag_map=df_tag_map,\n",
        "                                _user_tag=user_tag,\n",
        "                                _job_tag=job_tag,\n",
        "                                _job_companies=job_companies)"
      ],
      "execution_count": 13,
      "outputs": []
    },
    {
      "cell_type": "code",
      "metadata": {
        "id": "Kkjq5tOgjv3o"
      },
      "source": [
        "df_y = train[['applied']]"
      ],
      "execution_count": 14,
      "outputs": []
    },
    {
      "cell_type": "code",
      "metadata": {
        "id": "AdIXQfuij7l1",
        "outputId": "8be59660-9ec2-4ef0-d454-9e824a61cd8f",
        "colab": {
          "base_uri": "https://localhost:8080/",
          "height": 52
        }
      },
      "source": [
        "print(df_train.shape)\n",
        "print(df_y.shape)\n",
        "# from sklearn.decomposition import PCA\n",
        "\n",
        "# pca = PCA(n_components=3)\n",
        "# df_train = pca.fit_transform(df_train)\n",
        "# print(df_train.shape)"
      ],
      "execution_count": 15,
      "outputs": [
        {
          "output_type": "stream",
          "text": [
            "(6000, 887)\n",
            "(6000, 1)\n"
          ],
          "name": "stdout"
        }
      ]
    },
    {
      "cell_type": "markdown",
      "metadata": {
        "id": "HWo3HsOvjOpF"
      },
      "source": [
        "# 모델 선언"
      ]
    },
    {
      "cell_type": "code",
      "metadata": {
        "id": "YVsSbyd8jOSX",
        "outputId": "35526cc1-9525-4c41-e028-d8c67943ce83",
        "colab": {
          "base_uri": "https://localhost:8080/",
          "height": 35
        }
      },
      "source": [
        "import tensorflow as tf\n",
        "from tensorflow.keras.callbacks import EarlyStopping\n",
        "tf.__version__"
      ],
      "execution_count": 45,
      "outputs": [
        {
          "output_type": "execute_result",
          "data": {
            "application/vnd.google.colaboratory.intrinsic+json": {
              "type": "string"
            },
            "text/plain": [
              "'2.3.0'"
            ]
          },
          "metadata": {
            "tags": []
          },
          "execution_count": 45
        }
      ]
    },
    {
      "cell_type": "markdown",
      "metadata": {
        "id": "_7DYRm96hO-L"
      },
      "source": [
        "# 모델 훈련"
      ]
    },
    {
      "cell_type": "code",
      "metadata": {
        "id": "8BeG-6qtGfe5"
      },
      "source": [
        "train_data = df_train[:2000]\n",
        "train_y = df_y[:2000]\n",
        "\n",
        "test_data = df_train[2000:]\n",
        "test_y = df_y[2000:]"
      ],
      "execution_count": 42,
      "outputs": []
    },
    {
      "cell_type": "code",
      "metadata": {
        "id": "w6qzl81LPoii",
        "outputId": "7e7660bb-a29f-42f9-c332-8554fe314013",
        "colab": {
          "base_uri": "https://localhost:8080/",
          "height": 35
        }
      },
      "source": [
        "test_data.shape, test_y.shape"
      ],
      "execution_count": 43,
      "outputs": [
        {
          "output_type": "execute_result",
          "data": {
            "text/plain": [
              "((4000, 887), (4000, 1))"
            ]
          },
          "metadata": {
            "tags": []
          },
          "execution_count": 43
        }
      ]
    },
    {
      "cell_type": "code",
      "metadata": {
        "id": "JklT3zVajcxC",
        "outputId": "e2b662c2-f5b4-441d-8b93-bda2d9f1ec28",
        "colab": {
          "base_uri": "https://localhost:8080/",
          "height": 318
        }
      },
      "source": [
        "X = tf.keras.layers.Input(shape=[887])\n",
        "H = tf.keras.layers.Flatten()(X)\n",
        "H = tf.keras.layers.Dropout(rate=0.3)(H)\n",
        "\n",
        "# H = tf.keras.layers.Dense(units=650)(H)\n",
        "# H = tf.keras.layers.BatchNormalization()(H)\n",
        "# H = tf.keras.layers.Activation(activation='swish')(H)\n",
        "\n",
        "# H = tf.keras.layers.Dense(units=300)(H)\n",
        "# H = tf.keras.layers.BatchNormalization()(H)\n",
        "# H = tf.keras.layers.Activation(activation='swish')(H)\n",
        "\n",
        "# H = tf.keras.layers.Dense(units=30)(H)\n",
        "# H = tf.keras.layers.BatchNormalization()(H)\n",
        "# H = tf.keras.layers.Activation(activation='swish')(H)\n",
        "\n",
        "# H = tf.keras.layers.Dense(units=12)(H)\n",
        "# H = tf.keras.layers.BatchNormalization()(H)\n",
        "# H = tf.keras.layers.Activation(activation='swish')(H)\n",
        "\n",
        "Y = tf.keras.layers.Dense(units=1, activation='sigmoid')(H)\n",
        "\n",
        "model = tf.keras.Model(X, Y)\n",
        "\n",
        "early_stopping_callback = EarlyStopping(monitor='val_loss', \n",
        "                                        patience=10, \n",
        "                                        restore_best_weights=True)\n",
        "\n",
        "model.compile(optimizer='adam',\n",
        "              loss='binary_crossentropy',\n",
        "              metrics=['accuracy'])\n",
        "\n",
        "model.summary()\n",
        "print(df_train.shape, df_y.shape)\n",
        "\n",
        "history = model.fit(train_data, \n",
        "                    train_y, \n",
        "                    batch_size=300, \n",
        "                    epochs=1000,\n",
        "                    verbose=0,\n",
        "                    validation_split=0.1,\n",
        "                    validation_data=(test_data, test_y),\n",
        "                    callbacks=early_stopping_callback)\n",
        "\n"
      ],
      "execution_count": 208,
      "outputs": [
        {
          "output_type": "stream",
          "text": [
            "Model: \"functional_119\"\n",
            "_________________________________________________________________\n",
            "Layer (type)                 Output Shape              Param #   \n",
            "=================================================================\n",
            "input_60 (InputLayer)        [(None, 887)]             0         \n",
            "_________________________________________________________________\n",
            "flatten_59 (Flatten)         (None, 887)               0         \n",
            "_________________________________________________________________\n",
            "dropout_59 (Dropout)         (None, 887)               0         \n",
            "_________________________________________________________________\n",
            "dense_324 (Dense)            (None, 1)                 888       \n",
            "=================================================================\n",
            "Total params: 888\n",
            "Trainable params: 888\n",
            "Non-trainable params: 0\n",
            "_________________________________________________________________\n",
            "(6000, 887) (6000, 1)\n"
          ],
          "name": "stdout"
        }
      ]
    },
    {
      "cell_type": "code",
      "metadata": {
        "id": "U0J5F1KGSg8c",
        "outputId": "0a7555c9-e750-45e8-e1c9-f1a7c9b4812c",
        "colab": {
          "base_uri": "https://localhost:8080/",
          "height": 35
        }
      },
      "source": [
        "test_loss, test_acc = model.evaluate(test_data, test_y, batch_size=30, verbose=2)"
      ],
      "execution_count": 209,
      "outputs": [
        {
          "output_type": "stream",
          "text": [
            "134/134 - 0s - loss: 0.4341 - accuracy: 0.8565\n"
          ],
          "name": "stdout"
        }
      ]
    },
    {
      "cell_type": "code",
      "metadata": {
        "id": "IJpoe_4dS6PJ",
        "outputId": "95301314-c2ca-474f-fc9d-b71fd1a4d82c",
        "colab": {
          "base_uri": "https://localhost:8080/",
          "height": 416
        }
      },
      "source": [
        "test_y[test_y['applied'] == True]"
      ],
      "execution_count": 85,
      "outputs": [
        {
          "output_type": "execute_result",
          "data": {
            "text/html": [
              "<div>\n",
              "<style scoped>\n",
              "    .dataframe tbody tr th:only-of-type {\n",
              "        vertical-align: middle;\n",
              "    }\n",
              "\n",
              "    .dataframe tbody tr th {\n",
              "        vertical-align: top;\n",
              "    }\n",
              "\n",
              "    .dataframe thead th {\n",
              "        text-align: right;\n",
              "    }\n",
              "</style>\n",
              "<table border=\"1\" class=\"dataframe\">\n",
              "  <thead>\n",
              "    <tr style=\"text-align: right;\">\n",
              "      <th></th>\n",
              "      <th>applied</th>\n",
              "    </tr>\n",
              "  </thead>\n",
              "  <tbody>\n",
              "    <tr>\n",
              "      <th>2001</th>\n",
              "      <td>1</td>\n",
              "    </tr>\n",
              "    <tr>\n",
              "      <th>2010</th>\n",
              "      <td>1</td>\n",
              "    </tr>\n",
              "    <tr>\n",
              "      <th>2013</th>\n",
              "      <td>1</td>\n",
              "    </tr>\n",
              "    <tr>\n",
              "      <th>2017</th>\n",
              "      <td>1</td>\n",
              "    </tr>\n",
              "    <tr>\n",
              "      <th>2018</th>\n",
              "      <td>1</td>\n",
              "    </tr>\n",
              "    <tr>\n",
              "      <th>...</th>\n",
              "      <td>...</td>\n",
              "    </tr>\n",
              "    <tr>\n",
              "      <th>5976</th>\n",
              "      <td>1</td>\n",
              "    </tr>\n",
              "    <tr>\n",
              "      <th>5981</th>\n",
              "      <td>1</td>\n",
              "    </tr>\n",
              "    <tr>\n",
              "      <th>5983</th>\n",
              "      <td>1</td>\n",
              "    </tr>\n",
              "    <tr>\n",
              "      <th>5985</th>\n",
              "      <td>1</td>\n",
              "    </tr>\n",
              "    <tr>\n",
              "      <th>5993</th>\n",
              "      <td>1</td>\n",
              "    </tr>\n",
              "  </tbody>\n",
              "</table>\n",
              "<p>574 rows × 1 columns</p>\n",
              "</div>"
            ],
            "text/plain": [
              "      applied\n",
              "2001        1\n",
              "2010        1\n",
              "2013        1\n",
              "2017        1\n",
              "2018        1\n",
              "...       ...\n",
              "5976        1\n",
              "5981        1\n",
              "5983        1\n",
              "5985        1\n",
              "5993        1\n",
              "\n",
              "[574 rows x 1 columns]"
            ]
          },
          "metadata": {
            "tags": []
          },
          "execution_count": 85
        }
      ]
    },
    {
      "cell_type": "code",
      "metadata": {
        "id": "XUZmZMoXLdZc",
        "outputId": "3ab3c067-bffe-405e-bd71-e9d7581032f8",
        "colab": {
          "base_uri": "https://localhost:8080/",
          "height": 265
        }
      },
      "source": [
        "import matplotlib.pyplot as plt\n",
        "\n",
        "y_vloss = history.history['val_loss']\n",
        "\n",
        "# y_acc 에 학습셋으로 측정한 정확도의 값을 저장\n",
        "y_acc = history.history['val_accuracy']\n",
        "\n",
        "# x 값을 지정하고 정확도를 파란색으로, 오차를 빨간색으로 표시\n",
        "x_len = np.arange(len(y_acc))\n",
        "plt.plot(x_len, y_vloss, 'o', c='red', markersize=3)\n",
        "plt.plot(x_len, y_acc, '^', c='blue', markersize=3)\n",
        "\n",
        "plt.show()"
      ],
      "execution_count": 210,
      "outputs": [
        {
          "output_type": "display_data",
          "data": {
            "image/png": "[encoded data removed]",
            "text/plain": [
              "<Figure size 432x288 with 1 Axes>"
            ]
          },
          "metadata": {
            "tags": [],
            "needs_background": "light"
          }
        }
      ]
    },
    {
      "cell_type": "markdown",
      "metadata": {
        "id": "VZwMaSrKhRRB"
      },
      "source": [
        "# 테스트 데이터 로딩"
      ]
    },
    {
      "cell_type": "code",
      "metadata": {
        "id": "vqQ-brApgEgN"
      },
      "source": [
        "df_test_job = pd.read_csv('/content/drive/My Drive/Colab Notebooks/data/programmers/test_data/test_job.csv')"
      ],
      "execution_count": 158,
      "outputs": []
    },
    {
      "cell_type": "code",
      "metadata": {
        "id": "daCDukEUiY4h",
        "outputId": "f72def5e-9fb5-4bdf-ee69-c9d3b322dd04",
        "colab": {
          "base_uri": "https://localhost:8080/",
          "height": 35
        }
      },
      "source": [
        "test_job = df_test_job.iloc[:, 0:2]\n",
        "test_job.shape"
      ],
      "execution_count": 159,
      "outputs": [
        {
          "output_type": "execute_result",
          "data": {
            "text/plain": [
              "(2435, 2)"
            ]
          },
          "metadata": {
            "tags": []
          },
          "execution_count": 159
        }
      ]
    },
    {
      "cell_type": "code",
      "metadata": {
        "id": "mEc0G77CLH2P"
      },
      "source": [
        "test_predict = submit_preprocessing(df_test_job, \n",
        "                                _tag_map=df_tag_map,\n",
        "                                _user_tag=user_tag,\n",
        "                                _job_tag=job_tag,\n",
        "                                _job_companies=job_companies)"
      ],
      "execution_count": 160,
      "outputs": []
    },
    {
      "cell_type": "code",
      "metadata": {
        "id": "v1N9yKAEN5SG",
        "outputId": "85f612bf-9480-4a9e-e94b-0966496f5afc",
        "colab": {
          "base_uri": "https://localhost:8080/",
          "height": 581
        }
      },
      "source": [
        ""
      ],
      "execution_count": 214,
      "outputs": [
        {
          "output_type": "error",
          "ename": "KeyError",
          "evalue": "ignored",
          "traceback": [
            "\u001b[0;31m---------------------------------------------------------------------------\u001b[0m",
            "\u001b[0;31mKeyError\u001b[0m                                  Traceback (most recent call last)",
            "\u001b[0;32m/usr/local/lib/python3.6/dist-packages/pandas/core/indexes/base.py\u001b[0m in \u001b[0;36mget_loc\u001b[0;34m(self, key, method, tolerance)\u001b[0m\n\u001b[1;32m   2890\u001b[0m             \u001b[0;32mtry\u001b[0m\u001b[0;34m:\u001b[0m\u001b[0;34m\u001b[0m\u001b[0;34m\u001b[0m\u001b[0m\n\u001b[0;32m-> 2891\u001b[0;31m                 \u001b[0;32mreturn\u001b[0m \u001b[0mself\u001b[0m\u001b[0;34m.\u001b[0m\u001b[0m_engine\u001b[0m\u001b[0;34m.\u001b[0m\u001b[0mget_loc\u001b[0m\u001b[0;34m(\u001b[0m\u001b[0mcasted_key\u001b[0m\u001b[0;34m)\u001b[0m\u001b[0;34m\u001b[0m\u001b[0;34m\u001b[0m\u001b[0m\n\u001b[0m\u001b[1;32m   2892\u001b[0m             \u001b[0;32mexcept\u001b[0m \u001b[0mKeyError\u001b[0m \u001b[0;32mas\u001b[0m \u001b[0merr\u001b[0m\u001b[0;34m:\u001b[0m\u001b[0;34m\u001b[0m\u001b[0;34m\u001b[0m\u001b[0m\n",
            "\u001b[0;32mpandas/_libs/index.pyx\u001b[0m in \u001b[0;36mpandas._libs.index.IndexEngine.get_loc\u001b[0;34m()\u001b[0m\n",
            "\u001b[0;32mpandas/_libs/index.pyx\u001b[0m in \u001b[0;36mpandas._libs.index.IndexEngine.get_loc\u001b[0;34m()\u001b[0m\n",
            "\u001b[0;32mpandas/_libs/hashtable_class_helper.pxi\u001b[0m in \u001b[0;36mpandas._libs.hashtable.PyObjectHashTable.get_item\u001b[0;34m()\u001b[0m\n",
            "\u001b[0;32mpandas/_libs/hashtable_class_helper.pxi\u001b[0m in \u001b[0;36mpandas._libs.hashtable.PyObjectHashTable.get_item\u001b[0;34m()\u001b[0m\n",
            "\u001b[0;31mKeyError\u001b[0m: 'applied'",
            "\nThe above exception was the direct cause of the following exception:\n",
            "\u001b[0;31mKeyError\u001b[0m                                  Traceback (most recent call last)",
            "\u001b[0;32m<ipython-input-214-086a48c424d5>\u001b[0m in \u001b[0;36m<module>\u001b[0;34m()\u001b[0m\n\u001b[0;32m----> 1\u001b[0;31m \u001b[0mtest_predict\u001b[0m\u001b[0;34m[\u001b[0m\u001b[0;34m:\u001b[0m\u001b[0;36m1\u001b[0m\u001b[0;34m,\u001b[0m \u001b[0mtest_predict\u001b[0m\u001b[0;34m[\u001b[0m\u001b[0;34m'applied'\u001b[0m\u001b[0;34m]\u001b[0m \u001b[0;34m==\u001b[0m \u001b[0;32mTrue\u001b[0m\u001b[0;34m]\u001b[0m\u001b[0;34m\u001b[0m\u001b[0;34m\u001b[0m\u001b[0m\n\u001b[0m",
            "\u001b[0;32m/usr/local/lib/python3.6/dist-packages/pandas/core/frame.py\u001b[0m in \u001b[0;36m__getitem__\u001b[0;34m(self, key)\u001b[0m\n\u001b[1;32m   2900\u001b[0m             \u001b[0;32mif\u001b[0m \u001b[0mself\u001b[0m\u001b[0;34m.\u001b[0m\u001b[0mcolumns\u001b[0m\u001b[0;34m.\u001b[0m\u001b[0mnlevels\u001b[0m \u001b[0;34m>\u001b[0m \u001b[0;36m1\u001b[0m\u001b[0;34m:\u001b[0m\u001b[0;34m\u001b[0m\u001b[0;34m\u001b[0m\u001b[0m\n\u001b[1;32m   2901\u001b[0m                 \u001b[0;32mreturn\u001b[0m \u001b[0mself\u001b[0m\u001b[0;34m.\u001b[0m\u001b[0m_getitem_multilevel\u001b[0m\u001b[0;34m(\u001b[0m\u001b[0mkey\u001b[0m\u001b[0;34m)\u001b[0m\u001b[0;34m\u001b[0m\u001b[0;34m\u001b[0m\u001b[0m\n\u001b[0;32m-> 2902\u001b[0;31m             \u001b[0mindexer\u001b[0m \u001b[0;34m=\u001b[0m \u001b[0mself\u001b[0m\u001b[0;34m.\u001b[0m\u001b[0mcolumns\u001b[0m\u001b[0;34m.\u001b[0m\u001b[0mget_loc\u001b[0m\u001b[0;34m(\u001b[0m\u001b[0mkey\u001b[0m\u001b[0;34m)\u001b[0m\u001b[0;34m\u001b[0m\u001b[0;34m\u001b[0m\u001b[0m\n\u001b[0m\u001b[1;32m   2903\u001b[0m             \u001b[0;32mif\u001b[0m \u001b[0mis_integer\u001b[0m\u001b[0;34m(\u001b[0m\u001b[0mindexer\u001b[0m\u001b[0;34m)\u001b[0m\u001b[0;34m:\u001b[0m\u001b[0;34m\u001b[0m\u001b[0;34m\u001b[0m\u001b[0m\n\u001b[1;32m   2904\u001b[0m                 \u001b[0mindexer\u001b[0m \u001b[0;34m=\u001b[0m \u001b[0;34m[\u001b[0m\u001b[0mindexer\u001b[0m\u001b[0;34m]\u001b[0m\u001b[0;34m\u001b[0m\u001b[0;34m\u001b[0m\u001b[0m\n",
            "\u001b[0;32m/usr/local/lib/python3.6/dist-packages/pandas/core/indexes/base.py\u001b[0m in \u001b[0;36mget_loc\u001b[0;34m(self, key, method, tolerance)\u001b[0m\n\u001b[1;32m   2891\u001b[0m                 \u001b[0;32mreturn\u001b[0m \u001b[0mself\u001b[0m\u001b[0;34m.\u001b[0m\u001b[0m_engine\u001b[0m\u001b[0;34m.\u001b[0m\u001b[0mget_loc\u001b[0m\u001b[0;34m(\u001b[0m\u001b[0mcasted_key\u001b[0m\u001b[0;34m)\u001b[0m\u001b[0;34m\u001b[0m\u001b[0;34m\u001b[0m\u001b[0m\n\u001b[1;32m   2892\u001b[0m             \u001b[0;32mexcept\u001b[0m \u001b[0mKeyError\u001b[0m \u001b[0;32mas\u001b[0m \u001b[0merr\u001b[0m\u001b[0;34m:\u001b[0m\u001b[0;34m\u001b[0m\u001b[0;34m\u001b[0m\u001b[0m\n\u001b[0;32m-> 2893\u001b[0;31m                 \u001b[0;32mraise\u001b[0m \u001b[0mKeyError\u001b[0m\u001b[0;34m(\u001b[0m\u001b[0mkey\u001b[0m\u001b[0;34m)\u001b[0m \u001b[0;32mfrom\u001b[0m \u001b[0merr\u001b[0m\u001b[0;34m\u001b[0m\u001b[0;34m\u001b[0m\u001b[0m\n\u001b[0m\u001b[1;32m   2894\u001b[0m \u001b[0;34m\u001b[0m\u001b[0m\n\u001b[1;32m   2895\u001b[0m         \u001b[0;32mif\u001b[0m \u001b[0mtolerance\u001b[0m \u001b[0;32mis\u001b[0m \u001b[0;32mnot\u001b[0m \u001b[0;32mNone\u001b[0m\u001b[0;34m:\u001b[0m\u001b[0;34m\u001b[0m\u001b[0;34m\u001b[0m\u001b[0m\n",
            "\u001b[0;31mKeyError\u001b[0m: 'applied'"
          ]
        }
      ]
    },
    {
      "cell_type": "code",
      "metadata": {
        "id": "3fNoeXT3LAXh",
        "outputId": "91a037a4-a69b-4e19-a65e-a0e7ad4d069c",
        "colab": {
          "base_uri": "https://localhost:8080/",
          "height": 141
        }
      },
      "source": [
        "predictions = model.predict(test_predict)"
      ],
      "execution_count": 218,
      "outputs": [
        {
          "output_type": "execute_result",
          "data": {
            "text/plain": [
              "array([[0.11912674],\n",
              "       [0.13014908],\n",
              "       [0.18704477],\n",
              "       ...,\n",
              "       [0.21621384],\n",
              "       [0.33833304],\n",
              "       [0.26585218]], dtype=float32)"
            ]
          },
          "metadata": {
            "tags": []
          },
          "execution_count": 218
        }
      ]
    },
    {
      "cell_type": "code",
      "metadata": {
        "id": "TFekR5FMepik",
        "outputId": "78c6969a-22d1-4122-f9b9-ae75d3006e39",
        "colab": {
          "base_uri": "https://localhost:8080/",
          "height": 35
        }
      },
      "source": [
        "predictions[predictions == 1]"
      ],
      "execution_count": 217,
      "outputs": [
        {
          "output_type": "execute_result",
          "data": {
            "text/plain": [
              "array([], dtype=float32)"
            ]
          },
          "metadata": {
            "tags": []
          },
          "execution_count": 217
        }
      ]
    }
  ]
}
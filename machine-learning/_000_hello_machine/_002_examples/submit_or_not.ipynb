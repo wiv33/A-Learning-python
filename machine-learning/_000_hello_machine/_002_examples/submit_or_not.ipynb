{
  "nbformat": 4,
  "nbformat_minor": 0,
  "metadata": {
    "colab": {
      "name": "programmers/submit_or_not.ipynb",
      "provenance": [],
      "collapsed_sections": [],
      "mount_file_id": "1-PzUaUH0j7PuzbqR6lr6JtbsEFnoIYmg",
      "authorship_tag": "ABX9TyNB9khGTrJLk5Gwl0ZKyi0l",
      "include_colab_link": true
    },
    "kernelspec": {
      "name": "python3",
      "display_name": "Python 3"
    },
    "accelerator": "GPU"
  },
  "cells": [
    {
      "cell_type": "markdown",
      "metadata": {
        "id": "view-in-github",
        "colab_type": "text"
      },
      "source": [
        "<a href=\"https://colab.research.google.com/github/wiv33/A-Learning-python/blob/master/machine-learning/_000_hello_machine/_002_examples/submit_or_not.ipynb\" target=\"_parent\"><img src=\"https://colab.research.google.com/assets/colab-badge.svg\" alt=\"Open In Colab\"/></a>"
      ]
    },
    {
      "cell_type": "code",
      "metadata": {
        "id": "C-rTvY6gKwnD",
        "outputId": "151e2e07-cdf6-49b1-d45e-06eaf44a959b",
        "colab": {
          "base_uri": "https://localhost:8080/",
          "height": 55
        }
      },
      "source": [
        "from google.colab import drive\n",
        "\n",
        "drive.mount(\"/content/drive\")"
      ],
      "execution_count": 1,
      "outputs": [
        {
          "output_type": "stream",
          "text": [
            "Drive already mounted at /content/drive; to attempt to forcibly remount, call drive.mount(\"/content/drive\", force_remount=True).\n"
          ],
          "name": "stdout"
        }
      ]
    },
    {
      "cell_type": "code",
      "metadata": {
        "id": "-hkCG_B2XrpO",
        "outputId": "585bcca2-c42d-428a-afc1-e3d5790c2ae7",
        "colab": {
          "base_uri": "https://localhost:8080/",
          "height": 35
        }
      },
      "source": [
        "!ls"
      ],
      "execution_count": 2,
      "outputs": [
        {
          "output_type": "stream",
          "text": [
            "drive  sample_data\n"
          ],
          "name": "stdout"
        }
      ]
    },
    {
      "cell_type": "code",
      "metadata": {
        "id": "vSoq7-LFHprg"
      },
      "source": [
        "import numpy as np"
      ],
      "execution_count": 3,
      "outputs": []
    },
    {
      "cell_type": "code",
      "metadata": {
        "id": "xcjXPamcX0bR"
      },
      "source": [
        "import pandas as pd\n",
        "\n",
        "df_tag_map = pd.read_csv('/content/drive/My Drive/Colab Notebooks/data/programmers/tags.csv')"
      ],
      "execution_count": 4,
      "outputs": []
    },
    {
      "cell_type": "code",
      "metadata": {
        "id": "Ya0HsizTYVd2"
      },
      "source": [
        "train = pd.read_csv('/content/drive/My Drive/Colab Notebooks/data/programmers/train.csv')"
      ],
      "execution_count": 5,
      "outputs": []
    },
    {
      "cell_type": "code",
      "metadata": {
        "id": "AW2sNnbqYzIQ"
      },
      "source": [
        "user_tag = pd.read_csv('/content/drive/My Drive/Colab Notebooks/data/programmers/user_tags.csv')"
      ],
      "execution_count": 6,
      "outputs": []
    },
    {
      "cell_type": "code",
      "metadata": {
        "id": "4zJD09E8Y3Ri"
      },
      "source": [
        "job_companies = pd.read_csv('/content/drive/My Drive/Colab Notebooks/data/programmers/job_companies.csv')"
      ],
      "execution_count": 7,
      "outputs": []
    },
    {
      "cell_type": "code",
      "metadata": {
        "id": "WONk_zBKYZ0x"
      },
      "source": [
        "job_tag = pd.read_csv('/content/drive/My Drive/Colab Notebooks/data/programmers/job_tags.csv')"
      ],
      "execution_count": 8,
      "outputs": []
    },
    {
      "cell_type": "markdown",
      "metadata": {
        "id": "SCQKXWb8c2xW"
      },
      "source": [
        "# tagID 원-핫 인코딩 base df 초기화\n",
        "\n",
        "\n",
        "*   모든 tag transpose\n",
        "*   train data에 concat\n",
        "*   companyID merge\n",
        "*   nan to 0\n",
        "\n"
      ]
    },
    {
      "cell_type": "code",
      "metadata": {
        "id": "WA4v7Lp5fkAJ"
      },
      "source": [
        "독립 = train[:][['userID', 'jobID']]\n",
        "독립"
      ],
      "execution_count": null,
      "outputs": []
    },
    {
      "cell_type": "code",
      "metadata": {
        "id": "zG1K9Yrkc1Na"
      },
      "source": [
        "tt = df_tag_map.transpose()\n",
        "tt.columns = tt.values[0]\n",
        "df_merge = pd.merge(독립, job_companies[:][['jobID', 'companyID']])\n",
        "df_concat = pd.concat([df_merge, tt], ignore_index=True)\n",
        "df_concat.drop(df_concat.index[[6000, 6001]], inplace=True)\n",
        "df_independent = df_concat.fillna(0)\n",
        "\n"
      ],
      "execution_count": null,
      "outputs": []
    },
    {
      "cell_type": "code",
      "metadata": {
        "id": "CM_hXi_lSsUd"
      },
      "source": [
        "def find_column_seq(col):\n",
        "  for i, x in enumerate(df_independent.columns):\n",
        "    if col == x:\n",
        "      return i, x"
      ],
      "execution_count": 11,
      "outputs": []
    },
    {
      "cell_type": "code",
      "metadata": {
        "id": "xNL2XgouT4ji",
        "outputId": "d485498e-9332-4ad4-cf01-502c36df950b",
        "colab": {
          "base_uri": "https://localhost:8080/",
          "height": 35
        }
      },
      "source": [
        "find_column_seq('e3251075554389fe91d17a794861d47b')"
      ],
      "execution_count": 12,
      "outputs": [
        {
          "output_type": "execute_result",
          "data": {
            "text/plain": [
              "(4, 'e3251075554389fe91d17a794861d47b')"
            ]
          },
          "metadata": {
            "tags": []
          },
          "execution_count": 12
        }
      ]
    },
    {
      "cell_type": "code",
      "metadata": {
        "id": "6PNMC3wnYUV3"
      },
      "source": [
        "def update_col_in_df(update_df: pd.DataFrame, id: str, tags: []):\n",
        "  for i in range(len(update_df[id])):\n",
        "    if len(tags[update_df[id][i]]) > 0:\n",
        "      for j in tags[update_df[id][i]]:\n",
        "        j_idx = find_column_seq(j)[0]\n",
        "        update_df.iloc[i: i+1, j_idx:j_idx + 1] += 1\n"
      ],
      "execution_count": 13,
      "outputs": []
    },
    {
      "cell_type": "code",
      "metadata": {
        "id": "i7xRCucJWz9X",
        "outputId": "fc1c15e5-92fe-4e8f-8baf-c9e8f14636a8",
        "colab": {
          "base_uri": "https://localhost:8080/",
          "height": 79
        }
      },
      "source": [
        "# df_independent['userID'][1]\n",
        "df_independent.iloc[0: 1, 3:4]"
      ],
      "execution_count": 14,
      "outputs": [
        {
          "output_type": "execute_result",
          "data": {
            "text/html": [
              "<div>\n",
              "<style scoped>\n",
              "    .dataframe tbody tr th:only-of-type {\n",
              "        vertical-align: middle;\n",
              "    }\n",
              "\n",
              "    .dataframe tbody tr th {\n",
              "        vertical-align: top;\n",
              "    }\n",
              "\n",
              "    .dataframe thead th {\n",
              "        text-align: right;\n",
              "    }\n",
              "</style>\n",
              "<table border=\"1\" class=\"dataframe\">\n",
              "  <thead>\n",
              "    <tr style=\"text-align: right;\">\n",
              "      <th></th>\n",
              "      <th>602d1305678a8d5fdb372271e980da6a</th>\n",
              "    </tr>\n",
              "  </thead>\n",
              "  <tbody>\n",
              "    <tr>\n",
              "      <th>0</th>\n",
              "      <td>0</td>\n",
              "    </tr>\n",
              "  </tbody>\n",
              "</table>\n",
              "</div>"
            ],
            "text/plain": [
              "   602d1305678a8d5fdb372271e980da6a\n",
              "0                                 0"
            ]
          },
          "metadata": {
            "tags": []
          },
          "execution_count": 14
        }
      ]
    },
    {
      "cell_type": "markdown",
      "metadata": {
        "id": "hZWDC23du3cu"
      },
      "source": [
        "# User Tag와 Job Tag Grouping\n"
      ]
    },
    {
      "cell_type": "code",
      "metadata": {
        "id": "-L8pK6E2aFsw"
      },
      "source": [
        "def grouping_tags(df: pd.DataFrame, id:str) -> {}:\n",
        "  result = {}\n",
        "  for u, t in df.groupby(id):\n",
        "    result[u] = df[df[id] == u]['tagID'].values\n",
        "\n",
        "  return result"
      ],
      "execution_count": 15,
      "outputs": []
    },
    {
      "cell_type": "markdown",
      "metadata": {
        "id": "aGzlsTioceO_"
      },
      "source": [
        "# job_companies\n",
        "## jobID 기준으로 Company 컬럼 추가,"
      ]
    },
    {
      "cell_type": "code",
      "metadata": {
        "id": "QgDYKjpPcdsO"
      },
      "source": [
        "df_test = pd.merge(df_independent, job_companies[:][['jobID', 'companyID']])\n",
        "df_test"
      ],
      "execution_count": null,
      "outputs": []
    },
    {
      "cell_type": "markdown",
      "metadata": {
        "id": "d5Qx77F0cp6m"
      },
      "source": [
        "# 데이터 전처리 시작"
      ]
    },
    {
      "cell_type": "code",
      "metadata": {
        "id": "Vyuw74mYSBc-"
      },
      "source": [
        "# Try using .loc[row_indexer,col_indexer] = value instead\n",
        "\n",
        "update_col_in_df(df_independent, 'userID', grouping_tags(user_tag.drop_duplicates(), 'userID'))\n",
        "# df_independent\n",
        "update_col_in_df(df_independent, 'jobID', grouping_tags(job_tag.drop_duplicates(), 'jobID'))"
      ],
      "execution_count": null,
      "outputs": []
    },
    {
      "cell_type": "code",
      "metadata": {
        "id": "Kkjq5tOgjv3o"
      },
      "source": [
        "df_train = df_independent\n",
        "df_y = train[['applied']]"
      ],
      "execution_count": 18,
      "outputs": []
    },
    {
      "cell_type": "code",
      "metadata": {
        "id": "158gN5OPKsrF"
      },
      "source": [
        "# df_train = df_train[['userID', 'jobID', 'companyID']]"
      ],
      "execution_count": 19,
      "outputs": []
    },
    {
      "cell_type": "code",
      "metadata": {
        "id": "AdIXQfuij7l1",
        "outputId": "f2f3f916-e703-437d-fb74-2b68596e8760",
        "colab": {
          "base_uri": "https://localhost:8080/",
          "height": 52
        }
      },
      "source": [
        "print(df_train.shape)\n",
        "print(df_y.shape)\n",
        "# from sklearn.decomposition import PCA\n",
        "\n",
        "# pca = PCA(n_components=3)\n",
        "# df_train = pca.fit_transform(df_train)\n",
        "# print(df_train.shape)"
      ],
      "execution_count": 20,
      "outputs": [
        {
          "output_type": "stream",
          "text": [
            "(6000, 890)\n",
            "(6000, 1)\n"
          ],
          "name": "stdout"
        }
      ]
    },
    {
      "cell_type": "markdown",
      "metadata": {
        "id": "HWo3HsOvjOpF"
      },
      "source": [
        "# 모델 선언"
      ]
    },
    {
      "cell_type": "code",
      "metadata": {
        "id": "YVsSbyd8jOSX",
        "outputId": "2e086027-1e0b-4689-cad2-1496cfce950d",
        "colab": {
          "base_uri": "https://localhost:8080/",
          "height": 35
        }
      },
      "source": [
        "import tensorflow as tf\n",
        "tf.__version__"
      ],
      "execution_count": 21,
      "outputs": [
        {
          "output_type": "execute_result",
          "data": {
            "application/vnd.google.colaboratory.intrinsic+json": {
              "type": "string"
            },
            "text/plain": [
              "'2.3.0'"
            ]
          },
          "metadata": {
            "tags": []
          },
          "execution_count": 21
        }
      ]
    },
    {
      "cell_type": "code",
      "metadata": {
        "id": "JklT3zVajcxC"
      },
      "source": [
        "X = tf.keras.layers.Input(shape=[890])\n",
        "H = tf.keras.layers.Flatten()(X)\n",
        "H = tf.keras.layers.Dropout(rate=0.2)(H)\n",
        "\n",
        "\n",
        "H = tf.keras.layers.Activation(activation='swish')(H)\n",
        "H = tf.keras.layers.BatchNormalization()(H)\n",
        "H = tf.keras.layers.Dense(units=1000)(H)\n",
        "\n",
        "H = tf.keras.layers.Activation(activation='swish')(H)\n",
        "H = tf.keras.layers.BatchNormalization()(H)\n",
        "H = tf.keras.layers.Dense(units=300)(H)\n",
        "\n",
        "Y = tf.keras.layers.Dense(units=1, activation='sigmoid')(H)\n",
        "\n",
        "model = tf.keras.Model(X, Y)\n",
        "model.compile(optimizer='adam',\n",
        "              loss='binary_crossentropy',\n",
        "              metrics=['accuracy'])\n",
        "\n",
        "model.summary()\n",
        "print(df_train.shape, df_y.shape)\n",
        "model.fit(df_train, df_y, batch_size=128, epochs=33)\n",
        "\n"
      ],
      "execution_count": null,
      "outputs": []
    }
  ]
}
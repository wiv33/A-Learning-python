{
  "nbformat": 4,
  "nbformat_minor": 0,
  "metadata": {
    "colab": {
      "name": "programmers/submit_or_not.ipynb",
      "provenance": [],
      "collapsed_sections": [],
      "toc_visible": true,
      "mount_file_id": "1-PzUaUH0j7PuzbqR6lr6JtbsEFnoIYmg",
      "authorship_tag": "ABX9TyNLQ3Qhi20KvHYi941g5hdt",
      "include_colab_link": true
    },
    "kernelspec": {
      "name": "python3",
      "display_name": "Python 3"
    },
    "accelerator": "GPU"
  },
  "cells": [
    {
      "cell_type": "markdown",
      "metadata": {
        "id": "view-in-github",
        "colab_type": "text"
      },
      "source": [
        "<a href=\"https://colab.research.google.com/github/wiv33/A-Learning-python/blob/master/machine-learning/_000_hello_machine/_002_examples/submit_or_not.ipynb\" target=\"_parent\"><img src=\"https://colab.research.google.com/assets/colab-badge.svg\" alt=\"Open In Colab\"/></a>"
      ]
    },
    {
      "cell_type": "code",
      "metadata": {
        "id": "C-rTvY6gKwnD",
        "outputId": "b5bd7e6b-957b-4a1e-f0bb-f3b6f5aa2a94",
        "colab": {
          "base_uri": "https://localhost:8080/",
          "height": 55
        }
      },
      "source": [
        "from google.colab import drive\n",
        "\n",
        "drive.mount(\"/content/drive\")"
      ],
      "execution_count": 2,
      "outputs": [
        {
          "output_type": "stream",
          "text": [
            "Drive already mounted at /content/drive; to attempt to forcibly remount, call drive.mount(\"/content/drive\", force_remount=True).\n"
          ],
          "name": "stdout"
        }
      ]
    },
    {
      "cell_type": "code",
      "metadata": {
        "id": "-hkCG_B2XrpO",
        "outputId": "5562d765-0da0-4e60-c950-2a8ceaade7de",
        "colab": {
          "base_uri": "https://localhost:8080/",
          "height": 35
        }
      },
      "source": [
        "!ls"
      ],
      "execution_count": 3,
      "outputs": [
        {
          "output_type": "stream",
          "text": [
            "drive  sample_data\n"
          ],
          "name": "stdout"
        }
      ]
    },
    {
      "cell_type": "code",
      "metadata": {
        "id": "vSoq7-LFHprg"
      },
      "source": [
        "import numpy as np"
      ],
      "execution_count": 4,
      "outputs": []
    },
    {
      "cell_type": "code",
      "metadata": {
        "id": "xcjXPamcX0bR"
      },
      "source": [
        "import pandas as pd\n",
        "\n",
        "df_tag_map = pd.read_csv('/content/drive/My Drive/Colab Notebooks/data/programmers/tags.csv')"
      ],
      "execution_count": 5,
      "outputs": []
    },
    {
      "cell_type": "code",
      "metadata": {
        "id": "Ya0HsizTYVd2"
      },
      "source": [
        "train = pd.read_csv('/content/drive/My Drive/Colab Notebooks/data/programmers/train.csv')"
      ],
      "execution_count": 6,
      "outputs": []
    },
    {
      "cell_type": "code",
      "metadata": {
        "id": "AW2sNnbqYzIQ"
      },
      "source": [
        "user_tag = pd.read_csv('/content/drive/My Drive/Colab Notebooks/data/programmers/user_tags.csv')"
      ],
      "execution_count": 7,
      "outputs": []
    },
    {
      "cell_type": "code",
      "metadata": {
        "id": "4zJD09E8Y3Ri"
      },
      "source": [
        "job_companies = pd.read_csv('/content/drive/My Drive/Colab Notebooks/data/programmers/job_companies.csv')"
      ],
      "execution_count": 8,
      "outputs": []
    },
    {
      "cell_type": "code",
      "metadata": {
        "id": "WONk_zBKYZ0x"
      },
      "source": [
        "job_tag = pd.read_csv('/content/drive/My Drive/Colab Notebooks/data/programmers/job_tags.csv')"
      ],
      "execution_count": 9,
      "outputs": []
    },
    {
      "cell_type": "markdown",
      "metadata": {
        "id": "9m5G_Cwa1lwn"
      },
      "source": [
        "# 내부로 사용할 함수"
      ]
    },
    {
      "cell_type": "code",
      "metadata": {
        "id": "CM_hXi_lSsUd"
      },
      "source": [
        "def find_column_seq(df_data, target):\n",
        "  for i, x in enumerate(df_data.columns):\n",
        "    if target == x:\n",
        "      return i, x"
      ],
      "execution_count": 10,
      "outputs": []
    },
    {
      "cell_type": "code",
      "metadata": {
        "id": "6PNMC3wnYUV3"
      },
      "source": [
        "def update_col_in_df(update_df: pd.DataFrame, id: str, tags: []):\n",
        "  for i in range(len(update_df[id])):\n",
        "    if len(tags[update_df[id][i]]) > 0:\n",
        "      for j in tags[update_df[id][i]]:\n",
        "        j_idx = find_column_seq(update_df, j)[0]\n",
        "        update_df.iloc[i: i+1, j_idx:j_idx + 1] += 1\n"
      ],
      "execution_count": 11,
      "outputs": []
    },
    {
      "cell_type": "markdown",
      "metadata": {
        "id": "hZWDC23du3cu"
      },
      "source": [
        "# User Tag와 Job Tag Grouping\n"
      ]
    },
    {
      "cell_type": "code",
      "metadata": {
        "id": "-L8pK6E2aFsw"
      },
      "source": [
        "def grouping_tags(df: pd.DataFrame, id:str) -> {}:\n",
        "  result = {}\n",
        "  for u, t in df.groupby(id):\n",
        "    result[u] = df[df[id] == u]['tagID'].values\n",
        "\n",
        "  return result"
      ],
      "execution_count": 12,
      "outputs": []
    },
    {
      "cell_type": "markdown",
      "metadata": {
        "id": "O3_dU6Aq1cFI"
      },
      "source": [
        "# preprocessing Interface ( 데이터 전처리 ) "
      ]
    },
    {
      "cell_type": "code",
      "metadata": {
        "id": "zG1K9Yrkc1Na"
      },
      "source": [
        "def submit_preprocessing(data: pd.DataFrame, \n",
        "                         _tag_map: pd.DataFrame, \n",
        "                         _user_tag: pd.DataFrame,\n",
        "                         _job_tag: pd.DataFrame,\n",
        "                         _job_companies: pd.DataFrame) -> pd.DataFrame:\n",
        "  tt = _tag_map.transpose()\n",
        "  tt.columns = tt.values[0]\n",
        "  df_merge = pd.merge(data, _job_companies[:][['jobID', 'companyID']])\n",
        "  df_concat = pd.concat([df_merge, tt], ignore_index=True)\n",
        "  df_concat.drop(df_concat.index[-2:, ], inplace=True)\n",
        "\n",
        "  result =  df_concat.fillna(0)\n",
        "  update_col_in_df(result, 'userID', grouping_tags(_user_tag.drop_duplicates(), 'userID'))\n",
        "  # df_independent\n",
        "  update_col_in_df(result, 'jobID', grouping_tags(_job_tag.drop_duplicates(), 'jobID'))\n",
        "  return result.iloc[:, 3:]"
      ],
      "execution_count": 418,
      "outputs": []
    },
    {
      "cell_type": "markdown",
      "metadata": {
        "id": "SCQKXWb8c2xW"
      },
      "source": [
        "# tagID 원-핫 인코딩 base df 초기화\n",
        "\n",
        "\n",
        "*   모든 tag transpose\n",
        "*   train data에 concat\n",
        "*   companyID merge\n",
        "*   nan to 0\n",
        "\n"
      ]
    },
    {
      "cell_type": "code",
      "metadata": {
        "id": "WA4v7Lp5fkAJ"
      },
      "source": [
        "독립 = train[:][['userID', 'jobID']]\n",
        "df_train = submit_preprocessing(독립, \n",
        "                                _tag_map=df_tag_map,\n",
        "                                _user_tag=user_tag,\n",
        "                                _job_tag=job_tag,\n",
        "                                _job_companies=job_companies)"
      ],
      "execution_count": 419,
      "outputs": []
    },
    {
      "cell_type": "code",
      "metadata": {
        "id": "Kkjq5tOgjv3o"
      },
      "source": [
        "df_y = train[['applied']]"
      ],
      "execution_count": 420,
      "outputs": []
    },
    {
      "cell_type": "code",
      "metadata": {
        "id": "AdIXQfuij7l1",
        "outputId": "57b87718-bce8-4713-8f41-c5a398535552",
        "colab": {
          "base_uri": "https://localhost:8080/",
          "height": 52
        }
      },
      "source": [
        "print(df_train.shape)\n",
        "print(df_y.shape)"
      ],
      "execution_count": 421,
      "outputs": [
        {
          "output_type": "stream",
          "text": [
            "(6000, 887)\n",
            "(6000, 1)\n"
          ],
          "name": "stdout"
        }
      ]
    },
    {
      "cell_type": "markdown",
      "metadata": {
        "id": "HWo3HsOvjOpF"
      },
      "source": [
        "# 모델 선언"
      ]
    },
    {
      "cell_type": "code",
      "metadata": {
        "id": "YVsSbyd8jOSX",
        "outputId": "81106659-e24d-45ee-c8cd-6e8d13344161",
        "colab": {
          "base_uri": "https://localhost:8080/",
          "height": 35
        }
      },
      "source": [
        "import tensorflow as tf\n",
        "from tensorflow.keras.callbacks import EarlyStopping\n",
        "tf.__version__"
      ],
      "execution_count": 105,
      "outputs": [
        {
          "output_type": "execute_result",
          "data": {
            "application/vnd.google.colaboratory.intrinsic+json": {
              "type": "string"
            },
            "text/plain": [
              "'2.3.0'"
            ]
          },
          "metadata": {
            "tags": []
          },
          "execution_count": 105
        }
      ]
    },
    {
      "cell_type": "markdown",
      "metadata": {
        "id": "_7DYRm96hO-L"
      },
      "source": [
        "# 모델 훈련"
      ]
    },
    {
      "cell_type": "markdown",
      "metadata": {
        "id": "OoxHs_HfkQ4J"
      },
      "source": [
        "## 887개 "
      ]
    },
    {
      "cell_type": "code",
      "metadata": {
        "id": "8BeG-6qtGfe5",
        "outputId": "f44c8fe3-3aa1-42d6-88c3-c471be5198c2",
        "colab": {
          "base_uri": "https://localhost:8080/",
          "height": 35
        }
      },
      "source": [
        "INPUTS = 887\n",
        "train_data = df_train[2000:]\n",
        "train_y = df_y[2000:]\n",
        "\n",
        "val_data = df_train[:2000]\n",
        "val_y = df_y[:2000]\n",
        "train_data.shape, val_data.shape"
      ],
      "execution_count": 445,
      "outputs": [
        {
          "output_type": "execute_result",
          "data": {
            "text/plain": [
              "((4000, 887), (2000, 887))"
            ]
          },
          "metadata": {
            "tags": []
          },
          "execution_count": 445
        }
      ]
    },
    {
      "cell_type": "markdown",
      "metadata": {
        "id": "0Mzwv68kkVN6"
      },
      "source": [
        "## PCA 적용"
      ]
    },
    {
      "cell_type": "code",
      "metadata": {
        "id": "VUmvPXmwkUJJ",
        "outputId": "8e4e0991-d76e-4f4f-8236-a5bb161782c3",
        "colab": {
          "base_uri": "https://localhost:8080/",
          "height": 35
        }
      },
      "source": [
        "from sklearn.decomposition import PCA\n",
        "\n",
        "INPUTS = 2\n",
        "pca = PCA(n_components=INPUTS)\n",
        "df_train_test = pca.fit_transform(df_train)\n",
        "print(df_train_test.shape)\n",
        "\n",
        "train_data = df_train_test[2000:]\n",
        "train_y = df_y[2000:]\n",
        "\n",
        "val_data = df_train_test[:2000]\n",
        "val_y = df_y[:2000]"
      ],
      "execution_count": 436,
      "outputs": [
        {
          "output_type": "stream",
          "text": [
            "(6000, 2)\n"
          ],
          "name": "stdout"
        }
      ]
    },
    {
      "cell_type": "markdown",
      "metadata": {
        "id": "NUVnAOtUkY_G"
      },
      "source": [
        "### shape 확인"
      ]
    },
    {
      "cell_type": "code",
      "metadata": {
        "id": "0iJbd0EtlOCs",
        "outputId": "360acd0c-58c7-44b1-b40c-96886cf829a3",
        "colab": {
          "base_uri": "https://localhost:8080/",
          "height": 35
        }
      },
      "source": [
        "test_data = val_data\n",
        "test_y = val_y\n",
        "\n",
        "test_data.shape, test_y.shape"
      ],
      "execution_count": 446,
      "outputs": [
        {
          "output_type": "execute_result",
          "data": {
            "text/plain": [
              "((2000, 887), (2000, 1))"
            ]
          },
          "metadata": {
            "tags": []
          },
          "execution_count": 446
        }
      ]
    },
    {
      "cell_type": "code",
      "metadata": {
        "id": "w6qzl81LPoii",
        "outputId": "167b6d3c-bead-4ae0-e16a-47b5c8c9028e",
        "colab": {
          "base_uri": "https://localhost:8080/",
          "height": 35
        }
      },
      "source": [
        "train_data.shape, train_y.shape"
      ],
      "execution_count": 447,
      "outputs": [
        {
          "output_type": "execute_result",
          "data": {
            "text/plain": [
              "((4000, 887), (4000, 1))"
            ]
          },
          "metadata": {
            "tags": []
          },
          "execution_count": 447
        }
      ]
    },
    {
      "cell_type": "markdown",
      "metadata": {
        "id": "cgCup_YpkbRo"
      },
      "source": [
        "# 모델 정의"
      ]
    },
    {
      "cell_type": "code",
      "metadata": {
        "id": "JklT3zVajcxC",
        "outputId": "7747625d-bafe-4006-bf89-2e9ef43cdd61",
        "colab": {
          "base_uri": "https://localhost:8080/",
          "height": 406
        }
      },
      "source": [
        "X = tf.keras.layers.Input(shape=[INPUTS])\n",
        "H = tf.keras.layers.Flatten()(X)\n",
        "H = tf.keras.layers.Dropout(rate=0.3)(H)\n",
        "\n",
        "# H = tf.keras.layers.Dense(units=650)(H)\n",
        "# H = tf.keras.layers.BatchNormalization()(H)\n",
        "# H = tf.keras.layers.Activation(activation='swish')(H)\n",
        "\n",
        "# H = tf.keras.layers.Dense(units=300)(H)\n",
        "# H = tf.keras.layers.BatchNormalization()(H)\n",
        "# H = tf.keras.layers.Activation(activation='swish')(H)\n",
        "\n",
        "# H = tf.keras.layers.Dense(units=30)(H)\n",
        "# H = tf.keras.layers.BatchNormalization()(H)\n",
        "# H = tf.keras.layers.Activation(activation='swish')(H)\n",
        "\n",
        "H = tf.keras.layers.Dense(units=12)(H)\n",
        "H = tf.keras.layers.BatchNormalization()(H)\n",
        "H = tf.keras.layers.Activation(activation='swish')(H)\n",
        "\n",
        "Y = tf.keras.layers.Dense(units=1, activation='sigmoid')(H)\n",
        "\n",
        "model = tf.keras.Model(X, Y)\n",
        "\n",
        "early_stopping_callback = EarlyStopping(monitor='val_loss', \n",
        "                                        patience=10, \n",
        "                                        restore_best_weights=True)\n",
        "\n",
        "model.compile(optimizer='adam',\n",
        "              loss='binary_crossentropy',\n",
        "              metrics=['accuracy'])\n",
        "\n",
        "model.summary()\n",
        "# print(df_train.shape, df_y.shape)\n",
        "\n",
        "history = model.fit(train_data, \n",
        "                    train_y, \n",
        "                    batch_size=300, \n",
        "                    epochs=1000,\n",
        "                    verbose=0,\n",
        "                    validation_split=0.1,\n",
        "                    validation_data=(val_data, val_y),\n",
        "                    callbacks=early_stopping_callback)\n",
        "\n"
      ],
      "execution_count": 449,
      "outputs": [
        {
          "output_type": "stream",
          "text": [
            "Model: \"functional_53\"\n",
            "_________________________________________________________________\n",
            "Layer (type)                 Output Shape              Param #   \n",
            "=================================================================\n",
            "input_27 (InputLayer)        [(None, 887)]             0         \n",
            "_________________________________________________________________\n",
            "flatten_26 (Flatten)         (None, 887)               0         \n",
            "_________________________________________________________________\n",
            "dropout_26 (Dropout)         (None, 887)               0         \n",
            "_________________________________________________________________\n",
            "dense_84 (Dense)             (None, 12)                10656     \n",
            "_________________________________________________________________\n",
            "batch_normalization_58 (Batc (None, 12)                48        \n",
            "_________________________________________________________________\n",
            "activation_58 (Activation)   (None, 12)                0         \n",
            "_________________________________________________________________\n",
            "dense_85 (Dense)             (None, 1)                 13        \n",
            "=================================================================\n",
            "Total params: 10,717\n",
            "Trainable params: 10,693\n",
            "Non-trainable params: 24\n",
            "_________________________________________________________________\n"
          ],
          "name": "stdout"
        }
      ]
    },
    {
      "cell_type": "code",
      "metadata": {
        "id": "U0J5F1KGSg8c",
        "outputId": "ff15b8d0-fa19-4d33-b964-322a8ef8a944",
        "colab": {
          "base_uri": "https://localhost:8080/",
          "height": 35
        }
      },
      "source": [
        "test_loss, test_acc = model.evaluate(test_data, test_y, batch_size=30, verbose=2)"
      ],
      "execution_count": 450,
      "outputs": [
        {
          "output_type": "stream",
          "text": [
            "67/67 - 0s - loss: 0.4228 - accuracy: 0.8580\n"
          ],
          "name": "stdout"
        }
      ]
    },
    {
      "cell_type": "code",
      "metadata": {
        "id": "IJpoe_4dS6PJ"
      },
      "source": [
        "# test_y[test_y['applied'] == True]"
      ],
      "execution_count": 354,
      "outputs": []
    },
    {
      "cell_type": "code",
      "metadata": {
        "id": "XUZmZMoXLdZc",
        "outputId": "7e305a1d-181a-4972-e8e1-2eb336f0acc7",
        "colab": {
          "base_uri": "https://localhost:8080/",
          "height": 265
        }
      },
      "source": [
        "import matplotlib.pyplot as plt\n",
        "\n",
        "y_vloss = history.history['val_loss']\n",
        "\n",
        "# y_acc 에 학습셋으로 측정한 정확도의 값을 저장\n",
        "y_acc = history.history['val_accuracy']\n",
        "\n",
        "# x 값을 지정하고 정확도를 파란색으로, 오차를 빨간색으로 표시\n",
        "x_len = np.arange(len(y_acc))\n",
        "plt.plot(x_len, y_vloss, 'o', c='red', markersize=3)\n",
        "plt.plot(x_len, y_acc, '^', c='blue', markersize=3)\n",
        "\n",
        "plt.show()"
      ],
      "execution_count": 451,
      "outputs": [
        {
          "output_type": "display_data",
          "data": {
            "image/png": "[encoded data removed]",
            "text/plain": [
              "<Figure size 432x288 with 1 Axes>"
            ]
          },
          "metadata": {
            "tags": [],
            "needs_background": "light"
          }
        }
      ]
    },
    {
      "cell_type": "markdown",
      "metadata": {
        "id": "VZwMaSrKhRRB"
      },
      "source": [
        "# 테스트 데이터 로딩"
      ]
    },
    {
      "cell_type": "code",
      "metadata": {
        "id": "vqQ-brApgEgN"
      },
      "source": [
        "df_test_job = pd.read_csv('/content/drive/My Drive/Colab Notebooks/data/programmers/test_data/test_job.csv')"
      ],
      "execution_count": 113,
      "outputs": []
    },
    {
      "cell_type": "code",
      "metadata": {
        "id": "daCDukEUiY4h",
        "outputId": "f8794cb0-c3b0-456f-a149-feb51bd7ed89",
        "colab": {
          "base_uri": "https://localhost:8080/",
          "height": 35
        }
      },
      "source": [
        "test_job = df_test_job.iloc[:, 0:2]\n",
        "test_job.shape"
      ],
      "execution_count": 213,
      "outputs": [
        {
          "output_type": "execute_result",
          "data": {
            "text/plain": [
              "(2435, 2)"
            ]
          },
          "metadata": {
            "tags": []
          },
          "execution_count": 213
        }
      ]
    },
    {
      "cell_type": "code",
      "metadata": {
        "id": "mEc0G77CLH2P"
      },
      "source": [
        "test_predict = submit_preprocessing(df_test_job, \n",
        "                                _tag_map=df_tag_map,\n",
        "                                _user_tag=user_tag,\n",
        "                                _job_tag=job_tag,\n",
        "                                _job_companies=job_companies)"
      ],
      "execution_count": 452,
      "outputs": []
    },
    {
      "cell_type": "code",
      "metadata": {
        "id": "_pX8yGARmtMD"
      },
      "source": [
        "predictions = model.predict(test_predict)"
      ],
      "execution_count": 453,
      "outputs": []
    },
    {
      "cell_type": "code",
      "metadata": {
        "id": "3fNoeXT3LAXh"
      },
      "source": [
        "prediction_pca = pca.fit_transform(test_predict)\n",
        "predictions = model.predict(prediction_pca)"
      ],
      "execution_count": 428,
      "outputs": []
    },
    {
      "cell_type": "code",
      "metadata": {
        "id": "TFekR5FMepik",
        "outputId": "812a1299-d537-40d6-8e77-5fb398910bf2",
        "colab": {
          "base_uri": "https://localhost:8080/",
          "height": 141
        }
      },
      "source": [
        "predictions"
      ],
      "execution_count": 454,
      "outputs": [
        {
          "output_type": "execute_result",
          "data": {
            "text/plain": [
              "array([[0.32073444],\n",
              "       [0.07590979],\n",
              "       [0.08372414],\n",
              "       ...,\n",
              "       [0.17709696],\n",
              "       [0.07122764],\n",
              "       [0.24688369]], dtype=float32)"
            ]
          },
          "metadata": {
            "tags": []
          },
          "execution_count": 454
        }
      ]
    },
    {
      "cell_type": "code",
      "metadata": {
        "id": "T8M1HJbHThLJ",
        "outputId": "4421cf16-face-43dc-ccb1-0fb28ed8130e",
        "colab": {
          "base_uri": "https://localhost:8080/",
          "height": 35
        }
      },
      "source": [
        "len(predictions[predictions > 0.3]), len(predictions[predictions < 0.3])  "
      ],
      "execution_count": 481,
      "outputs": [
        {
          "output_type": "execute_result",
          "data": {
            "text/plain": [
              "(11, 2424)"
            ]
          },
          "metadata": {
            "tags": []
          },
          "execution_count": 481
        }
      ]
    },
    {
      "cell_type": "code",
      "metadata": {
        "id": "qspjQXbkm7Yw"
      },
      "source": [
        "res = predictions > 0.3"
      ],
      "execution_count": 482,
      "outputs": []
    },
    {
      "cell_type": "code",
      "metadata": {
        "id": "MS2UlBuda1yY"
      },
      "source": [
        "cc = res.astype('int')\n",
        "df_predictions = pd.Series(cc.flatten(), index=None, name='applied')\n",
        "df_predictions.describe()"
      ],
      "execution_count": null,
      "outputs": []
    },
    {
      "cell_type": "code",
      "metadata": {
        "id": "mRjgMNmMbUcP"
      },
      "source": [
        "df_predictions.to_csv('predictions.csv', index=None)"
      ],
      "execution_count": 484,
      "outputs": []
    },
    {
      "cell_type": "markdown",
      "metadata": {
        "id": "emdaXWKjcjMK"
      },
      "source": [
        ""
      ]
    }
  ]
}
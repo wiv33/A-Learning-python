{
  "nbformat": 4,
  "nbformat_minor": 0,
  "metadata": {
    "colab": {
      "name": "mentoring/_004_mentoring/mnist.ipynb",
      "provenance": [],
      "authorship_tag": "ABX9TyN7mN6lDfVylrmtpxh69yD1",
      "include_colab_link": true
    },
    "kernelspec": {
      "name": "python3",
      "display_name": "Python 3"
    },
    "language_info": {
      "name": "python"
    }
  },
  "cells": [
    {
      "cell_type": "markdown",
      "metadata": {
        "id": "view-in-github",
        "colab_type": "text"
      },
      "source": [
        "<a href=\"https://colab.research.google.com/github/wiv33/A-Learning-python/blob/master/machine-learning/_000_hello_machine/_003_study_essential/_004_mentoring/_000_mnist.ipynb\" target=\"_parent\"><img src=\"https://colab.research.google.com/assets/colab-badge.svg\" alt=\"Open In Colab\"/></a>"
      ]
    },
    {
      "cell_type": "code",
      "metadata": {
        "id": "uMyJonXgOrWO"
      },
      "source": [
        "from keras.utils import np_utils\n",
        "from keras.datasets import mnist # 손글씨 데이터 import\n",
        "from keras.models import Sequential\n",
        "from keras.layers import Dense, Activation\n",
        "import numpy as np"
      ],
      "execution_count": null,
      "outputs": []
    },
    {
      "cell_type": "code",
      "metadata": {
        "id": "b7jzPediRlEk"
      },
      "source": [
        "np.random.seed(3)"
      ],
      "execution_count": null,
      "outputs": []
    },
    {
      "cell_type": "code",
      "metadata": {
        "id": "mMVie3WqR5-W"
      },
      "source": [
        "(x_train, y_train), (x_test, y_test) = mnist.load_data()"
      ],
      "execution_count": null,
      "outputs": []
    },
    {
      "cell_type": "code",
      "metadata": {
        "colab": {
          "base_uri": "https://localhost:8080/"
        },
        "id": "g3BrQ_qTSRxR",
        "outputId": "e870d5a0-7715-4e3d-e6dd-340cbacddfca"
      },
      "source": [
        "x_train.shape # 첫 번째 인자 row 개수, 두 번째 인자 x, 세 번째 인자 y"
      ],
      "execution_count": null,
      "outputs": [
        {
          "output_type": "execute_result",
          "data": {
            "text/plain": [
              "(60000, 28, 28)"
            ]
          },
          "metadata": {
            "tags": []
          },
          "execution_count": 67
        }
      ]
    },
    {
      "cell_type": "code",
      "metadata": {
        "colab": {
          "base_uri": "https://localhost:8080/",
          "height": 282
        },
        "id": "v19fqyprVOC2",
        "outputId": "baf48a21-2ca0-40db-9a8b-4c40d2de0db1"
      },
      "source": [
        "import matplotlib.pyplot as plt\n",
        "\n",
        "plt.imshow(x_train[0])"
      ],
      "execution_count": null,
      "outputs": [
        {
          "output_type": "execute_result",
          "data": {
            "text/plain": [
              "<matplotlib.image.AxesImage at 0x7f199c4a7990>"
            ]
          },
          "metadata": {
            "tags": []
          },
          "execution_count": 68
        },
        {
          "output_type": "display_data",
          "data": {
            "image/png": "[encoded data removed]",
            "text/plain": [
              "<Figure size 432x288 with 1 Axes>"
            ]
          },
          "metadata": {
            "tags": [],
            "needs_background": "light"
          }
        }
      ]
    },
    {
      "cell_type": "code",
      "metadata": {
        "colab": {
          "base_uri": "https://localhost:8080/"
        },
        "id": "cfn4QeyES32N",
        "outputId": "f9f02390-6a5b-4310-a2c0-c67c4daa5feb"
      },
      "source": [
        "x_val = x_train[50000:] # val == validation\n",
        "y_val = y_train[50000:] \n",
        "\n",
        "length = len(x_train)\n",
        "print_text = 'before len: {}'.format(length)\n",
        "print(print_text)\n",
        "\n",
        "x_train = x_train[:50000]\n",
        "y_train = y_train[:50000]\n",
        "print('after len: {}'.format(len(x_train)))"
      ],
      "execution_count": null,
      "outputs": [
        {
          "output_type": "stream",
          "text": [
            "before len: 60000\n",
            "after len: 50000\n"
          ],
          "name": "stdout"
        }
      ]
    },
    {
      "cell_type": "code",
      "metadata": {
        "id": "V87Jm6xBUUX4"
      },
      "source": [
        "x_train = x_train.reshape(50000, 784).astype('float32') / 255.\n",
        "x_val = x_val.reshape(10000, 784).astype('float32') / 255.\n",
        "x_test = x_test.reshape(10000, 784).astype('float32') / 255."
      ],
      "execution_count": null,
      "outputs": []
    },
    {
      "cell_type": "code",
      "metadata": {
        "colab": {
          "base_uri": "https://localhost:8080/"
        },
        "id": "-oogwdsKVqZ5",
        "outputId": "3f3b148f-2df9-44d4-83cf-fe46a284b921"
      },
      "source": [
        "255 / 255."
      ],
      "execution_count": null,
      "outputs": [
        {
          "output_type": "execute_result",
          "data": {
            "text/plain": [
              "1.0"
            ]
          },
          "metadata": {
            "tags": []
          },
          "execution_count": 71
        }
      ]
    },
    {
      "cell_type": "code",
      "metadata": {
        "colab": {
          "base_uri": "https://localhost:8080/"
        },
        "id": "48g_yls7VtOT",
        "outputId": "03cacf53-b107-4dce-8113-d55e2496a7c0"
      },
      "source": [
        "235 / 255."
      ],
      "execution_count": null,
      "outputs": [
        {
          "output_type": "execute_result",
          "data": {
            "text/plain": [
              "0.9215686274509803"
            ]
          },
          "metadata": {
            "tags": []
          },
          "execution_count": 72
        }
      ]
    },
    {
      "cell_type": "code",
      "metadata": {
        "colab": {
          "base_uri": "https://localhost:8080/"
        },
        "id": "fzC6-tpTWTJM",
        "outputId": "c72a4b22-059c-4a85-b04e-50a62d6b2430"
      },
      "source": [
        "target_arr = np.random.choice(50000, 700)\n",
        "print('{}개의 원소를, 총 {} row로 추출'.format(len(np.unique(target_arr)), len(target_arr)))"
      ],
      "execution_count": null,
      "outputs": [
        {
          "output_type": "stream",
          "text": [
            "693개의 원소를, 총 700 row로 추출\n"
          ],
          "name": "stdout"
        }
      ]
    },
    {
      "cell_type": "code",
      "metadata": {
        "colab": {
          "base_uri": "https://localhost:8080/"
        },
        "id": "Z4MT0Q0uWwQs",
        "outputId": "356e0622-48d0-4c8d-a5df-2b0b68c01389"
      },
      "source": [
        "train_random_indexs = np.random.choice(50000, 700)\n",
        "val_random_indexs = np.random.choice(10000, 300)\n",
        "\n",
        "train_random_indexs[:5], val_random_indexs[:5]"
      ],
      "execution_count": null,
      "outputs": [
        {
          "output_type": "execute_result",
          "data": {
            "text/plain": [
              "(array([ 3464, 25781, 32426, 16398,  3808]),\n",
              " array([7260, 2026, 8615, 3810, 1306]))"
            ]
          },
          "metadata": {
            "tags": []
          },
          "execution_count": 74
        }
      ]
    },
    {
      "cell_type": "code",
      "metadata": {
        "id": "5JX5ODWqXXRP"
      },
      "source": [
        "x_train = x_train[train_random_indexs]\n",
        "y_train = y_train[train_random_indexs]\n",
        "\n",
        "x_val = x_val[val_random_indexs]\n",
        "y_val = y_val[val_random_indexs]"
      ],
      "execution_count": null,
      "outputs": []
    },
    {
      "cell_type": "code",
      "metadata": {
        "colab": {
          "base_uri": "https://localhost:8080/"
        },
        "id": "BOSZi4otXoEF",
        "outputId": "f49b9272-6fcd-4670-acab-b49a5d130394"
      },
      "source": [
        "x_train.shape, y_train.shape, x_val.shape, y_val.shape"
      ],
      "execution_count": null,
      "outputs": [
        {
          "output_type": "execute_result",
          "data": {
            "text/plain": [
              "((700, 784), (700,), (300, 784), (300,))"
            ]
          },
          "metadata": {
            "tags": []
          },
          "execution_count": 76
        }
      ]
    },
    {
      "cell_type": "code",
      "metadata": {
        "colab": {
          "base_uri": "https://localhost:8080/",
          "height": 282
        },
        "id": "tm2_ADp8X5Qu",
        "outputId": "e566a4b9-91dc-4e7f-8c8d-53cd737c00f0"
      },
      "source": [
        "plt.imshow(x_val[1].reshape(28, 28))"
      ],
      "execution_count": null,
      "outputs": [
        {
          "output_type": "execute_result",
          "data": {
            "text/plain": [
              "<matplotlib.image.AxesImage at 0x7f199c41ead0>"
            ]
          },
          "metadata": {
            "tags": []
          },
          "execution_count": 77
        },
        {
          "output_type": "display_data",
          "data": {
            "image/png": "[encoded data removed]",
            "text/plain": [
              "<Figure size 432x288 with 1 Axes>"
            ]
          },
          "metadata": {
            "tags": [],
            "needs_background": "light"
          }
        }
      ]
    },
    {
      "cell_type": "code",
      "metadata": {
        "colab": {
          "base_uri": "https://localhost:8080/"
        },
        "id": "xAi2k9eNafX_",
        "outputId": "6812cb65-e1b3-4255-be2c-bfc487430458"
      },
      "source": [
        "y_val[0], y_val[1]"
      ],
      "execution_count": null,
      "outputs": [
        {
          "output_type": "execute_result",
          "data": {
            "text/plain": [
              "(6, 5)"
            ]
          },
          "metadata": {
            "tags": []
          },
          "execution_count": 78
        }
      ]
    },
    {
      "cell_type": "code",
      "metadata": {
        "id": "hPps_j4kfjTg"
      },
      "source": [
        "# 라벨링 전환\n",
        "y_train = np_utils.to_categorical(y_train)\n",
        "y_val = np_utils.to_categorical(y_val)\n",
        "y_test = np_utils.to_categorical(y_test)"
      ],
      "execution_count": null,
      "outputs": []
    },
    {
      "cell_type": "code",
      "metadata": {
        "colab": {
          "base_uri": "https://localhost:8080/"
        },
        "id": "ZOldCppMZy5G",
        "outputId": "1d6baaa4-3c98-4e96-d5f2-320b2ebbdcab"
      },
      "source": [
        "temp = np_utils.to_categorical(y_val)\n",
        "temp[0], temp[1]"
      ],
      "execution_count": null,
      "outputs": [
        {
          "output_type": "execute_result",
          "data": {
            "text/plain": [
              "(array([0., 0., 0., 0., 0., 0., 1., 0., 0., 0.], dtype=float32),\n",
              " array([0., 0., 0., 0., 0., 1., 0., 0., 0., 0.], dtype=float32))"
            ]
          },
          "metadata": {
            "tags": []
          },
          "execution_count": 79
        }
      ]
    },
    {
      "cell_type": "code",
      "metadata": {
        "id": "RlGSTGsUa5PL"
      },
      "source": [
        "model = Sequential()\n",
        "\n",
        "# 3 개의 축약된 문법으로 풀어서 작성하면. 아래와 같다.\n",
        "\"\"\"\n",
        "1. Input layer\n",
        "2. Dense layer\n",
        "3. Activation layer\n",
        "\"\"\"\n",
        "\n",
        "model.add(Dense(units=2, input_dim=28 * 28, activation='relu'))\n",
        "model.add(Dense(units=10, activation='softmax'))"
      ],
      "execution_count": null,
      "outputs": []
    },
    {
      "cell_type": "code",
      "metadata": {
        "id": "ttyv947jdaQe"
      },
      "source": [
        "model.compile(loss='categorical_crossentropy',\n",
        "              optimizer='sgd',\n",
        "              metrics=['accuracy'])"
      ],
      "execution_count": null,
      "outputs": []
    },
    {
      "cell_type": "code",
      "metadata": {
        "id": "cLiXiCgyevKe"
      },
      "source": [
        "hist = model.fit(x_train,\n",
        "                 y_train,\n",
        "                 epochs=100,\n",
        "                 batch_size=64,\n",
        "                 validation_data=(x_val, y_val))"
      ],
      "execution_count": null,
      "outputs": []
    },
    {
      "cell_type": "code",
      "metadata": {
        "id": "baxo7aLmf1Ei"
      },
      "source": [
        "import matplotlib.pyplot as plt  # 시각화 라이브러리"
      ],
      "execution_count": null,
      "outputs": []
    },
    {
      "cell_type": "code",
      "metadata": {
        "id": "3OdXuzMJg5Vh"
      },
      "source": [
        "hist.history['accuracy'], len(hist.history['accuracy'])"
      ],
      "execution_count": null,
      "outputs": []
    },
    {
      "cell_type": "code",
      "metadata": {
        "id": "oCXoVKJYhHrd"
      },
      "source": [
        "hist.history"
      ],
      "execution_count": null,
      "outputs": []
    },
    {
      "cell_type": "code",
      "metadata": {
        "colab": {
          "base_uri": "https://localhost:8080/",
          "height": 279
        },
        "id": "sAwBTWMUgJxB",
        "outputId": "6212b457-d35f-4542-8ee7-1ea0bf5fcf48"
      },
      "source": [
        "flg, loss_ax = plt.subplots()\n",
        "\n",
        "acc_ax = loss_ax.twinx()\n",
        "\n",
        "loss_ax.plot(hist.history['loss'], 'y', label='tarin loss')\n",
        "loss_ax.plot(hist.history['val_loss'], 'r', label='val loss')\n",
        "\n",
        "acc_ax.plot(hist.history['accuracy'], 'b', label='train accuracy')\n",
        "acc_ax.plot(hist.history['val_accuracy'], 'g', label='val accuracy')\n",
        "\n",
        "loss_ax.set_xlabel('epoch')\n",
        "loss_ax.set_ylabel('loss')\n",
        "acc_ax.set_ylabel('accuracy')\n",
        "\n",
        "loss_ax.legend(loc='upper left')\n",
        "acc_ax.legend(loc='lower left')\n",
        "\n",
        "plt.show()"
      ],
      "execution_count": null,
      "outputs": [
        {
          "output_type": "display_data",
          "data": {
            "image/png": "[encoded data removed]",
            "text/plain": [
              "<Figure size 432x288 with 2 Axes>"
            ]
          },
          "metadata": {
            "tags": [],
            "needs_background": "light"
          }
        }
      ]
    }
  ]
}
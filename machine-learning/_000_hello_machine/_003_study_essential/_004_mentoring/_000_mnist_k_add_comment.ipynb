{
  "nbformat": 4,
  "nbformat_minor": 0,
  "metadata": {
    "colab": {
      "name": "_000_mnist_k_add_comment.ipynb",
      "provenance": [],
      "collapsed_sections": [],
      "authorship_tag": "ABX9TyM4egjUx38corHv6g+4ulaR",
      "include_colab_link": true
    },
    "kernelspec": {
      "name": "python3",
      "display_name": "Python 3"
    },
    "language_info": {
      "name": "python"
    }
  },
  "cells": [
    {
      "cell_type": "markdown",
      "metadata": {
        "id": "view-in-github",
        "colab_type": "text"
      },
      "source": [
        "<a href=\"https://colab.research.google.com/github/wiv33/A-Learning-python/blob/master/machine-learning/_000_hello_machine/_003_study_essential/_004_mentoring/_000_mnist_k_add_comment.ipynb\" target=\"_parent\"><img src=\"https://colab.research.google.com/assets/colab-badge.svg\" alt=\"Open In Colab\"/></a>"
      ]
    },
    {
      "cell_type": "markdown",
      "metadata": {
        "id": "9omAHqOWWM0Z"
      },
      "source": [
        "# mnist 교수님 작성 코드\n",
        "\n",
        "\n",
        "## 주석 추가 버전"
      ]
    },
    {
      "cell_type": "code",
      "metadata": {
        "id": "T8UDNUR1VJw4"
      },
      "source": [
        "from keras.utils import np_utils  # numpy utils \n",
        "from keras.datasets import mnist # mnist 데이터 셋 로드\n",
        "from keras.models import Sequential  # layer를 순차적으로 적재해주는 모델\n",
        "from keras.layers import Dense, Activation  # 사용할 layer \n",
        "import numpy as np  # numpy"
      ],
      "execution_count": null,
      "outputs": []
    },
    {
      "cell_type": "code",
      "metadata": {
        "id": "x3oxiqLbXxss"
      },
      "source": [
        "np.random.seed(3)"
      ],
      "execution_count": null,
      "outputs": []
    },
    {
      "cell_type": "markdown",
      "metadata": {
        "id": "NzYxTks-X3TQ"
      },
      "source": [
        "- numpy random 값을 일정하게 설정\n",
        "\n",
        "  ex) 한 번 3이 나오면 다음 실행에도 3이 나옴"
      ]
    },
    {
      "cell_type": "markdown",
      "metadata": {
        "id": "wKwTlZnuYGPM"
      },
      "source": [
        "## 데이터셋 준비"
      ]
    },
    {
      "cell_type": "code",
      "metadata": {
        "id": "KdyACpAvX1ot"
      },
      "source": [
        "# 훈련셋과 시험셋 로딩\n",
        "(x_train, y_train), (x_test, y_test) = mnist.load_data()"
      ],
      "execution_count": null,
      "outputs": []
    },
    {
      "cell_type": "markdown",
      "metadata": {
        "id": "fIcLuTsJYST6"
      },
      "source": [
        "- 두 가지로 분류\n",
        "  * **x**\n",
        "    + train\n",
        "    + test\n",
        "    \n",
        "  * **y**\n",
        "    + train\n",
        "    + test\n"
      ]
    },
    {
      "cell_type": "markdown",
      "metadata": {
        "id": "RCuk9stDhFTo"
      },
      "source": [
        "## train 데이터 개수를 분리해서 validation 값을 추출한다.\n",
        "\n",
        "해당 작업을 끝낸 후 총 세 개의 형태가 나온다.\n",
        "\n",
        "- train\n",
        "  + x\n",
        "  + y\n",
        "\n",
        "- test\n",
        "  + x\n",
        "  + y\n",
        "\n",
        "- val (validation)\n",
        "  + x\n",
        "  + y"
      ]
    },
    {
      "cell_type": "code",
      "metadata": {
        "colab": {
          "base_uri": "https://localhost:8080/"
        },
        "id": "KThrlq_DYQ_B",
        "outputId": "59b125e2-c699-4095-9c9a-b8ed5402e273"
      },
      "source": [
        "x_val = x_train[50000:] # validation\n",
        "y_val = y_train[50000:] # validation\n",
        "\n",
        "print('before len: {}'.format(len(x_train)))\n",
        "x_train = x_train[:50000] # \n",
        "y_train = y_train[:50000]\n",
        "print('after len: {}'.format(len(x_train)))"
      ],
      "execution_count": null,
      "outputs": [
        {
          "output_type": "stream",
          "text": [
            "before len: 60000\n",
            "after len: 50000\n"
          ],
          "name": "stdout"
        }
      ]
    },
    {
      "cell_type": "markdown",
      "metadata": {
        "id": "1DYyR92YmU_1"
      },
      "source": [
        "## scaling\n",
        "\n",
        "최대값 255 -> 최대값 1.0 으로 변경\n",
        "--\n",
        "\n",
        "ex) \n",
        "\n",
        "255 -> 1.0\n",
        "\n",
        "244 -> 0.9568627450980393\n"
      ]
    },
    {
      "cell_type": "code",
      "metadata": {
        "id": "t7_ruKROlmvW"
      },
      "source": [
        "x_train = x_train.reshape(50000, 784).astype('float32') / 255.\n",
        "x_val = x_val.reshape(10000, 784).astype('float32') / 255.\n",
        "x_test = x_test.reshape(10000, 784).astype('float32') / 255."
      ],
      "execution_count": null,
      "outputs": []
    },
    {
      "cell_type": "markdown",
      "metadata": {
        "id": "zpy8VyzFogpg"
      },
      "source": [
        "- 최대값이 1.0으로 변경됨"
      ]
    },
    {
      "cell_type": "markdown",
      "metadata": {
        "id": "QM1kGnnAokLW"
      },
      "source": [
        "## 훈련, 검증셋 랜덤으로 추출하기"
      ]
    },
    {
      "cell_type": "markdown",
      "metadata": {
        "id": "BW0fqlIcpZ2m"
      },
      "source": [
        ""
      ]
    },
    {
      "cell_type": "code",
      "metadata": {
        "colab": {
          "base_uri": "https://localhost:8080/"
        },
        "id": "iGaDF3t-pbi4",
        "outputId": "56ac92a5-cee7-448a-ffde-5f735e680d10"
      },
      "source": [
        "target_arr = np.random.choice(50000, 700)\n",
        "print('{}개의 원소를, 총 {} row로 추출'.format(len(np.unique(target_arr)), len(target_arr)))"
      ],
      "execution_count": null,
      "outputs": [
        {
          "output_type": "stream",
          "text": [
            "693개의 원소를, 총 700 row로 추출\n"
          ],
          "name": "stdout"
        }
      ]
    },
    {
      "cell_type": "code",
      "metadata": {
        "id": "UOmlM7h-nB5i",
        "colab": {
          "base_uri": "https://localhost:8080/"
        },
        "outputId": "728b42ed-d5fe-4f13-9c55-03ca0fb2b538"
      },
      "source": [
        "train_random_indexs = np.random.choice(50000, 700)\n",
        "val_random_indexs = np.random.choice(10000, 300)\n",
        "train_random_indexs[:5], val_random_indexs[:5]"
      ],
      "execution_count": null,
      "outputs": [
        {
          "output_type": "execute_result",
          "data": {
            "text/plain": [
              "(array([ 3464, 25781, 32426, 16398,  3808]),\n",
              " array([7260, 2026, 8615, 3810, 1306]))"
            ]
          },
          "metadata": {
            "tags": []
          },
          "execution_count": 73
        }
      ]
    },
    {
      "cell_type": "markdown",
      "metadata": {
        "id": "oETYu0z_qwPz"
      },
      "source": [
        "- 랜덤한 인덱스 값들을 추출"
      ]
    },
    {
      "cell_type": "code",
      "metadata": {
        "id": "WRd8f9Gkq15w"
      },
      "source": [
        "x_train = x_train[train_random_indexs]\n",
        "y_train = y_train[train_random_indexs]\n",
        "\n",
        "x_val = x_val[val_random_indexs]\n",
        "y_val = y_val[val_random_indexs]"
      ],
      "execution_count": null,
      "outputs": []
    },
    {
      "cell_type": "markdown",
      "metadata": {
        "id": "Dn-GRn0rrKSY"
      },
      "source": [
        "## one hot encoding"
      ]
    },
    {
      "cell_type": "code",
      "metadata": {
        "id": "wkZso0ogrJCQ"
      },
      "source": [
        "# 라벨링 전환\n",
        "y_train = np_utils.to_categorical(y_train)\n",
        "y_val = np_utils.to_categorical(y_val)\n",
        "y_test = np_utils.to_categorical(y_test)"
      ],
      "execution_count": null,
      "outputs": []
    },
    {
      "cell_type": "markdown",
      "metadata": {
        "id": "s2mJcUTerq66"
      },
      "source": [
        "현재 정답이 7일 경우 정답의 '인덱스' 자리에 1로 표기, 나머지 0의 (np)array가 반환됨.\n",
        "\n",
        "    [6] -> [0 0 0 0 0 0 1 0 0 0]\n",
        "\n"
      ]
    },
    {
      "cell_type": "markdown",
      "metadata": {
        "id": "XYFRc9aysQB0"
      },
      "source": [
        "## build model (모델 구성하기)"
      ]
    },
    {
      "cell_type": "code",
      "metadata": {
        "id": "L1Kk1AS3rnve"
      },
      "source": [
        "model = Sequential() # Sequential 인스턴스 생성의 키워드 ()\n",
        "# 3 개의 축약된 문법으로 풀어서 작성하면. 아래와 같다.\n",
        "\"\"\"\n",
        "1. Input layer\n",
        "2. Dense layer\n",
        "3. Activation layer\n",
        "\"\"\"\n",
        "model.add(Dense(units=2, input_dim=28 * 28, activation='relu'))\n",
        "\n",
        "\"\"\"\n",
        "1. Dense layer\n",
        "2. Activation layer\n",
        "\"\"\"\n",
        "model.add(Dense(units=10, activation='softmax'))"
      ],
      "execution_count": null,
      "outputs": []
    },
    {
      "cell_type": "markdown",
      "metadata": {
        "id": "JtfSIDIAtBW2"
      },
      "source": [
        "## stand by model ( compile model )"
      ]
    },
    {
      "cell_type": "code",
      "metadata": {
        "id": "ZXN8vhXzs9WU"
      },
      "source": [
        "# 손실함수, 최적화 객체, 출력할 평가 지표 등록\n",
        "model.compile(loss='categorical_crossentropy',\n",
        "              optimizer='sgd',\n",
        "              metrics=['accuracy'])"
      ],
      "execution_count": null,
      "outputs": []
    },
    {
      "cell_type": "markdown",
      "metadata": {
        "id": "4NM4YsJEtXh0"
      },
      "source": [
        "## train model"
      ]
    },
    {
      "cell_type": "code",
      "metadata": {
        "id": "jeD0B8H9tWYs"
      },
      "source": [
        "# 모델 학습시키기\n",
        "hist = model.fit(x_train,  # 훈련할 데이터 수치\n",
        "                 y_train,  # 훈련 데이터의 정답\n",
        "                 epochs=100,  # 반복할 횟수\n",
        "                 batch_size=64,  # 반복 사이즈 크기\n",
        "                 validation_data=(x_val, y_val))  # 훈련 중간마다 검증할 데이터(검증할 데이터 + 검증할 데이터의 정답)"
      ],
      "execution_count": null,
      "outputs": []
    },
    {
      "cell_type": "code",
      "metadata": {
        "id": "Sg2a72PqtxY3"
      },
      "source": [
        "import matplotlib.pyplot as plt  # 시각화 라이브러리"
      ],
      "execution_count": null,
      "outputs": []
    },
    {
      "cell_type": "code",
      "metadata": {
        "colab": {
          "base_uri": "https://localhost:8080/",
          "height": 296
        },
        "id": "glWJZqsMu8k2",
        "outputId": "80a864f4-8481-4ec6-cc53-573f0b3f81f8"
      },
      "source": [
        "fig, loss_ax = plt.subplots()  # 1. 이미지 박스 생성\n",
        "\n",
        "acc_ax = loss_ax.twinx()  # 2. 한 개의 이미지 박스에 여러 라인을 그리기 위해 참조 주소를 복제한다.\n",
        "\n",
        "\"\"\"\n",
        "hist 객체에 담긴 history 객체의 값을 시각화 한다.\n",
        "\n",
        "1. loss\n",
        "2. val_loss\n",
        "\n",
        "3. accuracy\n",
        "4. val_accuracy\n",
        "\n",
        "\"\"\"\n",
        "\n",
        "loss_ax.plot(hist.history['loss'], 'y', label='train loss')  # 3. 훈련 데이터의 손실 (오류) plot 차트 그리기\n",
        "loss_ax.plot(hist.history['val_loss'], 'r', label='val loss')  # 4. 검증 데이터의 손실 plot 차트 그리기\n",
        "\n",
        "acc_ax.plot(hist.history['accuracy'], 'b', label='train accuracy')  # 5. 검증 데이터의 정확도 plot 차트 그리기\n",
        "acc_ax.plot(hist.history['val_accuracy'], 'g', label='val accuracy')  # 6. 검증 데이터의 정확도 plot 차트 그리기\n",
        "\n",
        "\n",
        "loss_ax.set_xlabel('epoch')  # x: 반복 label 추가\n",
        "loss_ax.set_ylabel('loss')  # y: 손실 label 추가\n",
        "acc_ax.set_ylabel('accuracy') # y: 정확도 label 추가\n",
        "\n",
        "loss_ax.legend(loc='upper left') # 범례 위치 지정 (위, 왼쪽)\n",
        "acc_ax.legend(loc='lower left')  # 범례 위치 (아래, 왼쪽)\n",
        "\n",
        "# plt.show()  # 시각화 실행 (colab은 호출하지 않아도 됨.)"
      ],
      "execution_count": null,
      "outputs": [
        {
          "output_type": "execute_result",
          "data": {
            "text/plain": [
              "<matplotlib.legend.Legend at 0x7febbf4439d0>"
            ]
          },
          "metadata": {
            "tags": []
          },
          "execution_count": 82
        },
        {
          "output_type": "display_data",
          "data": {
            "image/png": "[encoded data removed]",
            "text/plain": [
              "<Figure size 432x288 with 2 Axes>"
            ]
          },
          "metadata": {
            "tags": [],
            "needs_background": "light"
          }
        }
      ]
    }
  ]
}
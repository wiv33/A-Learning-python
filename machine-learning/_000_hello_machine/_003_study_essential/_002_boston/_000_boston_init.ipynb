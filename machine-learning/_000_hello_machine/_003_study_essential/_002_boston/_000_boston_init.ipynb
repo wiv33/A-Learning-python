{
  "nbformat": 4,
  "nbformat_minor": 0,
  "metadata": {
    "colab": {
      "name": "edu/_002_boston/_000_boston_init.ipynb",
      "provenance": [],
      "collapsed_sections": [],
      "authorship_tag": "ABX9TyOjg8mtqr/d0TNCFcCF7NFp",
      "include_colab_link": true
    },
    "kernelspec": {
      "name": "python3",
      "display_name": "Python 3"
    }
  },
  "cells": [
    {
      "cell_type": "markdown",
      "metadata": {
        "id": "view-in-github",
        "colab_type": "text"
      },
      "source": [
        "<a href=\"https://colab.research.google.com/github/wiv33/A-Learning-python/blob/master/machine-learning/_000_hello_machine/_003_study_essential/_002_boston/_000_boston_init.ipynb\" target=\"_parent\"><img src=\"https://colab.research.google.com/assets/colab-badge.svg\" alt=\"Open In Colab\"/></a>"
      ]
    },
    {
      "cell_type": "markdown",
      "metadata": {
        "id": "5qAYocoMpaNg"
      },
      "source": [
        "# Predict price of boston housing"
      ]
    },
    {
      "cell_type": "markdown",
      "metadata": {
        "id": "NuYYO4Hk1gqS"
      },
      "source": [
        "## 데이터 로드"
      ]
    },
    {
      "cell_type": "code",
      "metadata": {
        "id": "vj0w4YY3otqU"
      },
      "source": [
        "from tensorflow.keras.datasets import boston_housing\r\n",
        "\r\n",
        "(x_train, y_train), (x_test, y_test) = boston_housing.load_data()"
      ],
      "execution_count": 1,
      "outputs": []
    },
    {
      "cell_type": "markdown",
      "metadata": {
        "id": "PrSsXWOS4Wwa"
      },
      "source": [
        "## 데이터 모양 확인"
      ]
    },
    {
      "cell_type": "code",
      "metadata": {
        "colab": {
          "base_uri": "https://localhost:8080/"
        },
        "id": "qYO-t1MXpHgA",
        "outputId": "71893473-7dbd-4893-b074-342e45ceb731"
      },
      "source": [
        "x_train.shape, y_train.shape,  x_test.shape, y_test.shape"
      ],
      "execution_count": 2,
      "outputs": [
        {
          "output_type": "execute_result",
          "data": {
            "text/plain": [
              "((404, 13), (404,), (102, 13), (102,))"
            ]
          },
          "metadata": {
            "tags": []
          },
          "execution_count": 2
        }
      ]
    },
    {
      "cell_type": "markdown",
      "metadata": {
        "id": "IrqrC_g43_5T"
      },
      "source": [
        "## 아래 컬럼의 의미 분석하기\r\n"
      ]
    },
    {
      "cell_type": "code",
      "metadata": {
        "id": "FqgnUipP392W"
      },
      "source": [
        "# ['CRIM', 'ZN', 'INDUS', 'CHAS', 'NOX', 'RM', 'AGE', 'DIS', 'RAD', 'TAX', 'PTRATIO', 'B', 'LSTAT']"
      ],
      "execution_count": 3,
      "outputs": []
    },
    {
      "cell_type": "markdown",
      "metadata": {
        "id": "vKJ2pDKl4crj"
      },
      "source": [
        "- CRIM: \r\n",
        "- ZN:\r\n",
        "- INDUS:\r\n",
        "- NOX:\r\n",
        "- RM:\r\n",
        "- AGE:\r\n",
        "- DIS:\r\n",
        "- RAD:\r\n",
        "- TAX:\r\n",
        "- PTRATIO:\r\n",
        "- B:\r\n",
        "- LSTAT:\r\n"
      ]
    },
    {
      "cell_type": "markdown",
      "metadata": {
        "id": "y1EfDQHV5FAI"
      },
      "source": [
        "## 의미 분석 후 x와 y의 관계 생각하기"
      ]
    },
    {
      "cell_type": "code",
      "metadata": {
        "colab": {
          "base_uri": "https://localhost:8080/"
        },
        "id": "3FLSGM1D4Z9X",
        "outputId": "bce34088-4b6e-4502-88af-955275e7ce14"
      },
      "source": [
        "print('x = ', x_train[0])\r\n",
        "print(\"{0} 경계선 {0}\".format('=' * 33))\r\n",
        "print('y = ', y_train[0])"
      ],
      "execution_count": 4,
      "outputs": [
        {
          "output_type": "stream",
          "text": [
            "x =  [  1.23247   0.        8.14      0.        0.538     6.142    91.7\n",
            "   3.9769    4.      307.       21.      396.9      18.72   ]\n",
            "================================= 경계선 =================================\n",
            "y =  15.2\n"
          ],
          "name": "stdout"
        }
      ]
    },
    {
      "cell_type": "markdown",
      "metadata": {
        "id": "vrVtmQlw5o1X"
      },
      "source": [
        "Q. 사람의 지능과 인공 지능의 분석 기준은 비슷한가?\r\n",
        "\r\n",
        "\r\n",
        "---\r\n",
        "\r\n",
        "A. "
      ]
    }
  ]
}
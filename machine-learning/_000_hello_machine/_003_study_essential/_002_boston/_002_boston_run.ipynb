{
  "nbformat": 4,
  "nbformat_minor": 0,
  "metadata": {
    "colab": {
      "name": "edu/_001_boston/_002_boston_run.ipynb",
      "provenance": [],
      "collapsed_sections": [],
      "authorship_tag": "ABX9TyPeNeUPmjBJv7Y6ieGhTw6q",
      "include_colab_link": true
    },
    "kernelspec": {
      "name": "python3",
      "display_name": "Python 3"
    }
  },
  "cells": [
    {
      "cell_type": "markdown",
      "metadata": {
        "id": "view-in-github",
        "colab_type": "text"
      },
      "source": [
        "<a href=\"https://colab.research.google.com/github/wiv33/A-Learning-python/blob/master/machine-learning/_000_hello_machine/_003_study_essential/_002_boston/_002_boston_run.ipynb\" target=\"_parent\"><img src=\"https://colab.research.google.com/assets/colab-badge.svg\" alt=\"Open In Colab\"/></a>"
      ]
    },
    {
      "cell_type": "markdown",
      "metadata": {
        "id": "Gnt65VKgTIpe"
      },
      "source": [
        "# Predict price of boston housing"
      ]
    },
    {
      "cell_type": "markdown",
      "metadata": {
        "id": "EFVLABHLTMfK"
      },
      "source": [
        "# 들어가기 전\r\n",
        "\r\n",
        "## Comma: [  **,**  ]\r\n",
        "\r\n",
        "- 구분자\r\n",
        "\r\n",
        "ex) 예를 들어,\r\n",
        "\r\n",
        "    문장에서의 콤마는 `쉼표` 또는 `구두점`\r\n",
        "\r\n",
        "**# Ex) 1,2,3,4,5**\r\n",
        "\r\n",
        "    `요소 나열의 구분`\r\n",
        "\r\n",
        "\r\n",
        "---\r\n",
        "\r\n",
        "\r\n",
        "## Dot: [ **.** ]\r\n",
        "\r\n",
        "- 접근 제어자\r\n",
        "\r\n",
        "\r\n",
        "ex) 오늘도 공부하는 나는 발전하는 것이다.\r\n",
        "\r\n",
        "    문장에서의 점은 `쉼표` 또는 `구두점`\r\n",
        "\r\n",
        "\r\n",
        "    \r\n",
        "**# Ex) tensorflow.keras**\r\n",
        "    \r\n",
        "    `접근 제어자`로 \r\n",
        "    1. tensorflow 안에 존재하는\r\n",
        "    2. keras 모듈에 `접근`할 때 사용하는 `키워드`\r\n"
      ]
    },
    {
      "cell_type": "markdown",
      "metadata": {
        "id": "X8OJaMRWyCqq"
      },
      "source": [
        "# load data"
      ]
    },
    {
      "cell_type": "code",
      "metadata": {
        "colab": {
          "base_uri": "https://localhost:8080/"
        },
        "id": "mS9-9DOPTCkj",
        "outputId": "a8e218dc-17d1-4645-c219-01cfacbcae6e"
      },
      "source": [
        "from tensorflow.keras.datasets import boston_housing\r\n",
        "import numpy as np\r\n",
        "\r\n",
        "(x_train, y_train), (x_test, y_test) = boston_housing.load_data()"
      ],
      "execution_count": 1,
      "outputs": [
        {
          "output_type": "stream",
          "text": [
            "Downloading data from https://storage.googleapis.com/tensorflow/tf-keras-datasets/boston_housing.npz\n",
            "57344/57026 [==============================] - 0s 0us/step\n"
          ],
          "name": "stdout"
        }
      ]
    },
    {
      "cell_type": "markdown",
      "metadata": {
        "id": "v_nAey6cyKsQ"
      },
      "source": [
        "## shape 확인하기"
      ]
    },
    {
      "cell_type": "code",
      "metadata": {
        "colab": {
          "base_uri": "https://localhost:8080/"
        },
        "id": "_rdQTUk6YFEW",
        "outputId": "c29592b7-5e13-4ba9-e705-9e31be3e4b63"
      },
      "source": [
        "x_train.shape, y_train.shape , x_test.shape, y_test.shape"
      ],
      "execution_count": 3,
      "outputs": [
        {
          "output_type": "execute_result",
          "data": {
            "text/plain": [
              "((404, 13), (404,), (102, 13), (102,))"
            ]
          },
          "metadata": {
            "tags": []
          },
          "execution_count": 3
        }
      ]
    },
    {
      "cell_type": "code",
      "metadata": {
        "colab": {
          "base_uri": "https://localhost:8080/"
        },
        "id": "ANAcxtiZYS-r",
        "outputId": "b778a387-d159-41df-f69c-787767c3a0e7"
      },
      "source": [
        "x_train[0]"
      ],
      "execution_count": 12,
      "outputs": [
        {
          "output_type": "execute_result",
          "data": {
            "text/plain": [
              "array([  1.23247,   0.     ,   8.14   ,   0.     ,   0.538  ,   6.142  ,\n",
              "        91.7    ,   3.9769 ,   4.     , 307.     ,  21.     , 396.9    ,\n",
              "        18.72   ])"
            ]
          },
          "metadata": {
            "tags": []
          },
          "execution_count": 12
        }
      ]
    },
    {
      "cell_type": "code",
      "metadata": {
        "colab": {
          "base_uri": "https://localhost:8080/"
        },
        "id": "gmZINFGwdqmM",
        "outputId": "c3e1849a-1003-400c-cd87-d087f556ef15"
      },
      "source": [
        "y_train[0], y_train[1]"
      ],
      "execution_count": 10,
      "outputs": [
        {
          "output_type": "execute_result",
          "data": {
            "text/plain": [
              "(15.2, 42.3)"
            ]
          },
          "metadata": {
            "tags": []
          },
          "execution_count": 10
        }
      ]
    },
    {
      "cell_type": "markdown",
      "metadata": {
        "id": "jSl8bQy9yNWS"
      },
      "source": [
        "# 사용할 패키지 import"
      ]
    },
    {
      "cell_type": "code",
      "metadata": {
        "id": "MTShwHb7Yb95"
      },
      "source": [
        "import tensorflow as tf\r\n",
        "from tensorflow.keras import models, layers"
      ],
      "execution_count": 49,
      "outputs": []
    },
    {
      "cell_type": "markdown",
      "metadata": {
        "id": "UxZIw9ZthYoX"
      },
      "source": [
        "# 복습: build model"
      ]
    },
    {
      "cell_type": "code",
      "metadata": {
        "id": "7wwA-_vDYlQk"
      },
      "source": [
        "# relu\r\n",
        "# xw + b 값이 0보다 작으면  0을 다음 layer에 보낸다.\r\n",
        "# xw + b 값 0보다 크면 해당 값을 다음 layer에 보낸다.\r\n",
        "model = models.Sequential([\r\n",
        "                           layers.Input(shape=(13)), \r\n",
        "\r\n",
        "                           layers.Dense(units=32), \r\n",
        "                           layers.Activation(activation='relu'),\r\n",
        "                           \r\n",
        "                           layers.Dense(units=8),\r\n",
        "                           layers.Activation(activation='relu'),\r\n",
        "\r\n",
        "                           layers.Dense(units=1)\r\n",
        "])\r\n",
        "\r\n",
        "model.compile(loss='mse',\r\n",
        "              optimizer='adam',\r\n",
        "              metrics='accuracy')"
      ],
      "execution_count": 25,
      "outputs": []
    },
    {
      "cell_type": "markdown",
      "metadata": {
        "id": "_X3qXQax5tGP"
      },
      "source": [
        "# train model"
      ]
    },
    {
      "cell_type": "code",
      "metadata": {
        "colab": {
          "base_uri": "https://localhost:8080/"
        },
        "id": "uqZYHt2IhSrF",
        "outputId": "9d2a270c-7092-45a7-e105-0c21132b7091"
      },
      "source": [
        "history = model.fit(x_train, \r\n",
        "                    y_train,\r\n",
        "                    batch_size=64,\r\n",
        "                    epochs=400,\r\n",
        "                    validation_data=(x_test, y_test))"
      ],
      "execution_count": 28,
      "outputs": [
        {
          "output_type": "stream",
          "text": [
            "Epoch 1/400\n",
            "7/7 [==============================] - 0s 15ms/step - loss: 25.8807 - accuracy: 0.0000e+00 - val_loss: 27.6855 - val_accuracy: 0.0000e+00\n",
            "Epoch 2/400\n",
            "7/7 [==============================] - 0s 14ms/step - loss: 25.9003 - accuracy: 0.0000e+00 - val_loss: 31.2334 - val_accuracy: 0.0000e+00\n",
            "Epoch 3/400\n",
            "7/7 [==============================] - 0s 15ms/step - loss: 26.1657 - accuracy: 0.0000e+00 - val_loss: 34.4697 - val_accuracy: 0.0000e+00\n",
            "Epoch 4/400\n",
            "7/7 [==============================] - 0s 14ms/step - loss: 27.9776 - accuracy: 0.0000e+00 - val_loss: 35.7827 - val_accuracy: 0.0000e+00\n",
            "Epoch 5/400\n",
            "7/7 [==============================] - 0s 14ms/step - loss: 27.5474 - accuracy: 0.0000e+00 - val_loss: 34.0878 - val_accuracy: 0.0000e+00\n",
            "Epoch 6/400\n",
            "7/7 [==============================] - 0s 14ms/step - loss: 25.8251 - accuracy: 0.0000e+00 - val_loss: 29.3893 - val_accuracy: 0.0000e+00\n",
            "Epoch 7/400\n",
            "7/7 [==============================] - 0s 15ms/step - loss: 25.9123 - accuracy: 0.0000e+00 - val_loss: 28.0115 - val_accuracy: 0.0000e+00\n",
            "Epoch 8/400\n",
            "7/7 [==============================] - 0s 14ms/step - loss: 24.7839 - accuracy: 0.0000e+00 - val_loss: 29.3831 - val_accuracy: 0.0000e+00\n",
            "Epoch 9/400\n",
            "7/7 [==============================] - 0s 14ms/step - loss: 26.3942 - accuracy: 0.0000e+00 - val_loss: 32.0898 - val_accuracy: 0.0000e+00\n",
            "Epoch 10/400\n",
            "7/7 [==============================] - 0s 15ms/step - loss: 30.9271 - accuracy: 0.0000e+00 - val_loss: 30.3679 - val_accuracy: 0.0000e+00\n",
            "Epoch 11/400\n",
            "7/7 [==============================] - 0s 15ms/step - loss: 33.6229 - accuracy: 0.0000e+00 - val_loss: 31.3747 - val_accuracy: 0.0000e+00\n",
            "Epoch 12/400\n",
            "7/7 [==============================] - 0s 15ms/step - loss: 33.7141 - accuracy: 0.0000e+00 - val_loss: 27.4554 - val_accuracy: 0.0000e+00\n",
            "Epoch 13/400\n",
            "7/7 [==============================] - 0s 14ms/step - loss: 32.5386 - accuracy: 0.0000e+00 - val_loss: 28.6091 - val_accuracy: 0.0000e+00\n",
            "Epoch 14/400\n",
            "7/7 [==============================] - 0s 13ms/step - loss: 34.3808 - accuracy: 0.0000e+00 - val_loss: 30.0894 - val_accuracy: 0.0000e+00\n",
            "Epoch 15/400\n",
            "7/7 [==============================] - 0s 14ms/step - loss: 33.2470 - accuracy: 0.0000e+00 - val_loss: 33.9069 - val_accuracy: 0.0000e+00\n",
            "Epoch 16/400\n",
            "7/7 [==============================] - 0s 14ms/step - loss: 27.2936 - accuracy: 0.0000e+00 - val_loss: 36.4518 - val_accuracy: 0.0000e+00\n",
            "Epoch 17/400\n",
            "7/7 [==============================] - 0s 15ms/step - loss: 25.4394 - accuracy: 0.0000e+00 - val_loss: 27.4344 - val_accuracy: 0.0000e+00\n",
            "Epoch 18/400\n",
            "7/7 [==============================] - 0s 42ms/step - loss: 25.4544 - accuracy: 0.0000e+00 - val_loss: 27.8472 - val_accuracy: 0.0000e+00\n",
            "Epoch 19/400\n",
            "7/7 [==============================] - 0s 14ms/step - loss: 25.2923 - accuracy: 0.0000e+00 - val_loss: 27.3783 - val_accuracy: 0.0000e+00\n",
            "Epoch 20/400\n",
            "7/7 [==============================] - 0s 14ms/step - loss: 26.0726 - accuracy: 0.0000e+00 - val_loss: 33.7482 - val_accuracy: 0.0000e+00\n",
            "Epoch 21/400\n",
            "7/7 [==============================] - 0s 15ms/step - loss: 28.8350 - accuracy: 0.0000e+00 - val_loss: 39.3633 - val_accuracy: 0.0000e+00\n",
            "Epoch 22/400\n",
            "7/7 [==============================] - 0s 14ms/step - loss: 29.1065 - accuracy: 0.0000e+00 - val_loss: 28.4296 - val_accuracy: 0.0000e+00\n",
            "Epoch 23/400\n",
            "7/7 [==============================] - 0s 15ms/step - loss: 26.0622 - accuracy: 0.0000e+00 - val_loss: 26.8337 - val_accuracy: 0.0000e+00\n",
            "Epoch 24/400\n",
            "7/7 [==============================] - 0s 14ms/step - loss: 24.4440 - accuracy: 0.0000e+00 - val_loss: 28.6598 - val_accuracy: 0.0000e+00\n",
            "Epoch 25/400\n",
            "7/7 [==============================] - 0s 15ms/step - loss: 24.9898 - accuracy: 0.0000e+00 - val_loss: 27.6218 - val_accuracy: 0.0000e+00\n",
            "Epoch 26/400\n",
            "7/7 [==============================] - 0s 14ms/step - loss: 25.1260 - accuracy: 0.0000e+00 - val_loss: 30.0208 - val_accuracy: 0.0000e+00\n",
            "Epoch 27/400\n",
            "7/7 [==============================] - 0s 15ms/step - loss: 25.4257 - accuracy: 0.0000e+00 - val_loss: 29.1240 - val_accuracy: 0.0000e+00\n",
            "Epoch 28/400\n",
            "7/7 [==============================] - 0s 14ms/step - loss: 25.3871 - accuracy: 0.0000e+00 - val_loss: 28.7261 - val_accuracy: 0.0000e+00\n",
            "Epoch 29/400\n",
            "7/7 [==============================] - 0s 14ms/step - loss: 24.8239 - accuracy: 0.0000e+00 - val_loss: 27.7299 - val_accuracy: 0.0000e+00\n",
            "Epoch 30/400\n",
            "7/7 [==============================] - 0s 13ms/step - loss: 26.9074 - accuracy: 0.0000e+00 - val_loss: 30.3124 - val_accuracy: 0.0000e+00\n",
            "Epoch 31/400\n",
            "7/7 [==============================] - 0s 14ms/step - loss: 26.3723 - accuracy: 0.0000e+00 - val_loss: 28.0534 - val_accuracy: 0.0000e+00\n",
            "Epoch 32/400\n",
            "7/7 [==============================] - 0s 15ms/step - loss: 24.8550 - accuracy: 0.0000e+00 - val_loss: 26.9618 - val_accuracy: 0.0000e+00\n",
            "Epoch 33/400\n",
            "7/7 [==============================] - 0s 14ms/step - loss: 26.1018 - accuracy: 0.0000e+00 - val_loss: 30.7439 - val_accuracy: 0.0000e+00\n",
            "Epoch 34/400\n",
            "7/7 [==============================] - 0s 14ms/step - loss: 26.5368 - accuracy: 0.0000e+00 - val_loss: 27.5931 - val_accuracy: 0.0000e+00\n",
            "Epoch 35/400\n",
            "7/7 [==============================] - 0s 14ms/step - loss: 25.1229 - accuracy: 0.0000e+00 - val_loss: 27.5380 - val_accuracy: 0.0000e+00\n",
            "Epoch 36/400\n",
            "7/7 [==============================] - 0s 14ms/step - loss: 25.4850 - accuracy: 0.0000e+00 - val_loss: 36.6850 - val_accuracy: 0.0000e+00\n",
            "Epoch 37/400\n",
            "7/7 [==============================] - 0s 16ms/step - loss: 28.2770 - accuracy: 0.0000e+00 - val_loss: 45.3724 - val_accuracy: 0.0000e+00\n",
            "Epoch 38/400\n",
            "7/7 [==============================] - 0s 15ms/step - loss: 40.0917 - accuracy: 0.0000e+00 - val_loss: 36.2452 - val_accuracy: 0.0000e+00\n",
            "Epoch 39/400\n",
            "7/7 [==============================] - 0s 14ms/step - loss: 38.1678 - accuracy: 0.0000e+00 - val_loss: 28.0403 - val_accuracy: 0.0000e+00\n",
            "Epoch 40/400\n",
            "7/7 [==============================] - 0s 15ms/step - loss: 32.1728 - accuracy: 0.0000e+00 - val_loss: 27.5975 - val_accuracy: 0.0000e+00\n",
            "Epoch 41/400\n",
            "7/7 [==============================] - 0s 15ms/step - loss: 27.6110 - accuracy: 0.0000e+00 - val_loss: 28.1192 - val_accuracy: 0.0000e+00\n",
            "Epoch 42/400\n",
            "7/7 [==============================] - 0s 16ms/step - loss: 27.9027 - accuracy: 0.0000e+00 - val_loss: 36.1352 - val_accuracy: 0.0000e+00\n",
            "Epoch 43/400\n",
            "7/7 [==============================] - 0s 14ms/step - loss: 33.1761 - accuracy: 0.0000e+00 - val_loss: 35.1184 - val_accuracy: 0.0000e+00\n",
            "Epoch 44/400\n",
            "7/7 [==============================] - 0s 14ms/step - loss: 28.6605 - accuracy: 0.0000e+00 - val_loss: 27.2382 - val_accuracy: 0.0000e+00\n",
            "Epoch 45/400\n",
            "7/7 [==============================] - 0s 14ms/step - loss: 27.0354 - accuracy: 0.0000e+00 - val_loss: 28.3754 - val_accuracy: 0.0000e+00\n",
            "Epoch 46/400\n",
            "7/7 [==============================] - 0s 14ms/step - loss: 26.3987 - accuracy: 0.0000e+00 - val_loss: 27.5246 - val_accuracy: 0.0000e+00\n",
            "Epoch 47/400\n",
            "7/7 [==============================] - 0s 14ms/step - loss: 26.3530 - accuracy: 0.0000e+00 - val_loss: 28.0665 - val_accuracy: 0.0000e+00\n",
            "Epoch 48/400\n",
            "7/7 [==============================] - 0s 15ms/step - loss: 25.3397 - accuracy: 0.0000e+00 - val_loss: 26.6701 - val_accuracy: 0.0000e+00\n",
            "Epoch 49/400\n",
            "7/7 [==============================] - 0s 17ms/step - loss: 25.9886 - accuracy: 0.0000e+00 - val_loss: 28.4805 - val_accuracy: 0.0000e+00\n",
            "Epoch 50/400\n",
            "7/7 [==============================] - 0s 16ms/step - loss: 25.4372 - accuracy: 0.0000e+00 - val_loss: 42.3582 - val_accuracy: 0.0000e+00\n",
            "Epoch 51/400\n",
            "7/7 [==============================] - 0s 18ms/step - loss: 28.7411 - accuracy: 0.0000e+00 - val_loss: 30.8780 - val_accuracy: 0.0000e+00\n",
            "Epoch 52/400\n",
            "7/7 [==============================] - 0s 15ms/step - loss: 25.0999 - accuracy: 0.0000e+00 - val_loss: 26.9946 - val_accuracy: 0.0000e+00\n",
            "Epoch 53/400\n",
            "7/7 [==============================] - 0s 14ms/step - loss: 25.7285 - accuracy: 0.0000e+00 - val_loss: 29.1501 - val_accuracy: 0.0000e+00\n",
            "Epoch 54/400\n",
            "7/7 [==============================] - 0s 15ms/step - loss: 24.7915 - accuracy: 0.0000e+00 - val_loss: 29.2469 - val_accuracy: 0.0000e+00\n",
            "Epoch 55/400\n",
            "7/7 [==============================] - 0s 14ms/step - loss: 27.2297 - accuracy: 0.0000e+00 - val_loss: 27.3715 - val_accuracy: 0.0000e+00\n",
            "Epoch 56/400\n",
            "7/7 [==============================] - 0s 14ms/step - loss: 25.3994 - accuracy: 0.0000e+00 - val_loss: 28.8877 - val_accuracy: 0.0000e+00\n",
            "Epoch 57/400\n",
            "7/7 [==============================] - 0s 14ms/step - loss: 26.9255 - accuracy: 0.0000e+00 - val_loss: 26.5088 - val_accuracy: 0.0000e+00\n",
            "Epoch 58/400\n",
            "7/7 [==============================] - 0s 14ms/step - loss: 24.7097 - accuracy: 0.0000e+00 - val_loss: 28.0786 - val_accuracy: 0.0000e+00\n",
            "Epoch 59/400\n",
            "7/7 [==============================] - 0s 14ms/step - loss: 24.4008 - accuracy: 0.0000e+00 - val_loss: 26.8894 - val_accuracy: 0.0000e+00\n",
            "Epoch 60/400\n",
            "7/7 [==============================] - 0s 15ms/step - loss: 24.1468 - accuracy: 0.0000e+00 - val_loss: 32.1551 - val_accuracy: 0.0000e+00\n",
            "Epoch 61/400\n",
            "7/7 [==============================] - 0s 15ms/step - loss: 24.7682 - accuracy: 0.0000e+00 - val_loss: 26.7498 - val_accuracy: 0.0000e+00\n",
            "Epoch 62/400\n",
            "7/7 [==============================] - 0s 14ms/step - loss: 25.5409 - accuracy: 0.0000e+00 - val_loss: 26.9696 - val_accuracy: 0.0000e+00\n",
            "Epoch 63/400\n",
            "7/7 [==============================] - 0s 44ms/step - loss: 27.9194 - accuracy: 0.0000e+00 - val_loss: 35.7285 - val_accuracy: 0.0000e+00\n",
            "Epoch 64/400\n",
            "7/7 [==============================] - 0s 15ms/step - loss: 30.1480 - accuracy: 0.0000e+00 - val_loss: 32.3752 - val_accuracy: 0.0000e+00\n",
            "Epoch 65/400\n",
            "7/7 [==============================] - 0s 14ms/step - loss: 25.7051 - accuracy: 0.0000e+00 - val_loss: 31.0029 - val_accuracy: 0.0000e+00\n",
            "Epoch 66/400\n",
            "7/7 [==============================] - 0s 16ms/step - loss: 24.3421 - accuracy: 0.0000e+00 - val_loss: 26.6009 - val_accuracy: 0.0000e+00\n",
            "Epoch 67/400\n",
            "7/7 [==============================] - 0s 13ms/step - loss: 25.4110 - accuracy: 0.0000e+00 - val_loss: 28.5884 - val_accuracy: 0.0000e+00\n",
            "Epoch 68/400\n",
            "7/7 [==============================] - 0s 17ms/step - loss: 25.2815 - accuracy: 0.0000e+00 - val_loss: 28.3018 - val_accuracy: 0.0000e+00\n",
            "Epoch 69/400\n",
            "7/7 [==============================] - 0s 14ms/step - loss: 25.3921 - accuracy: 0.0000e+00 - val_loss: 27.1504 - val_accuracy: 0.0000e+00\n",
            "Epoch 70/400\n",
            "7/7 [==============================] - 0s 15ms/step - loss: 26.8892 - accuracy: 0.0000e+00 - val_loss: 31.3193 - val_accuracy: 0.0000e+00\n",
            "Epoch 71/400\n",
            "7/7 [==============================] - 0s 16ms/step - loss: 25.5390 - accuracy: 0.0000e+00 - val_loss: 38.1863 - val_accuracy: 0.0000e+00\n",
            "Epoch 72/400\n",
            "7/7 [==============================] - 0s 16ms/step - loss: 27.5245 - accuracy: 0.0000e+00 - val_loss: 30.4329 - val_accuracy: 0.0000e+00\n",
            "Epoch 73/400\n",
            "7/7 [==============================] - 0s 15ms/step - loss: 25.3311 - accuracy: 0.0000e+00 - val_loss: 27.9335 - val_accuracy: 0.0000e+00\n",
            "Epoch 74/400\n",
            "7/7 [==============================] - 0s 16ms/step - loss: 25.1693 - accuracy: 0.0000e+00 - val_loss: 27.6701 - val_accuracy: 0.0000e+00\n",
            "Epoch 75/400\n",
            "7/7 [==============================] - 0s 17ms/step - loss: 25.4686 - accuracy: 0.0000e+00 - val_loss: 27.0386 - val_accuracy: 0.0000e+00\n",
            "Epoch 76/400\n",
            "7/7 [==============================] - 0s 16ms/step - loss: 24.7415 - accuracy: 0.0000e+00 - val_loss: 28.7941 - val_accuracy: 0.0000e+00\n",
            "Epoch 77/400\n",
            "7/7 [==============================] - 0s 14ms/step - loss: 26.2616 - accuracy: 0.0000e+00 - val_loss: 26.6693 - val_accuracy: 0.0000e+00\n",
            "Epoch 78/400\n",
            "7/7 [==============================] - 0s 14ms/step - loss: 26.8724 - accuracy: 0.0000e+00 - val_loss: 28.7416 - val_accuracy: 0.0000e+00\n",
            "Epoch 79/400\n",
            "7/7 [==============================] - 0s 15ms/step - loss: 25.9823 - accuracy: 0.0000e+00 - val_loss: 28.2776 - val_accuracy: 0.0000e+00\n",
            "Epoch 80/400\n",
            "7/7 [==============================] - 0s 16ms/step - loss: 24.0894 - accuracy: 0.0000e+00 - val_loss: 35.9164 - val_accuracy: 0.0000e+00\n",
            "Epoch 81/400\n",
            "7/7 [==============================] - 0s 14ms/step - loss: 30.4287 - accuracy: 0.0000e+00 - val_loss: 32.4653 - val_accuracy: 0.0000e+00\n",
            "Epoch 82/400\n",
            "7/7 [==============================] - 0s 17ms/step - loss: 29.4477 - accuracy: 0.0000e+00 - val_loss: 27.7625 - val_accuracy: 0.0000e+00\n",
            "Epoch 83/400\n",
            "7/7 [==============================] - 0s 15ms/step - loss: 24.3150 - accuracy: 0.0000e+00 - val_loss: 28.6906 - val_accuracy: 0.0000e+00\n",
            "Epoch 84/400\n",
            "7/7 [==============================] - 0s 14ms/step - loss: 24.0369 - accuracy: 0.0000e+00 - val_loss: 26.8552 - val_accuracy: 0.0000e+00\n",
            "Epoch 85/400\n",
            "7/7 [==============================] - 0s 18ms/step - loss: 24.0811 - accuracy: 0.0000e+00 - val_loss: 29.9152 - val_accuracy: 0.0000e+00\n",
            "Epoch 86/400\n",
            "7/7 [==============================] - 0s 16ms/step - loss: 24.9008 - accuracy: 0.0000e+00 - val_loss: 33.5769 - val_accuracy: 0.0000e+00\n",
            "Epoch 87/400\n",
            "7/7 [==============================] - 0s 16ms/step - loss: 26.2320 - accuracy: 0.0000e+00 - val_loss: 31.4576 - val_accuracy: 0.0000e+00\n",
            "Epoch 88/400\n",
            "7/7 [==============================] - 0s 15ms/step - loss: 26.3535 - accuracy: 0.0000e+00 - val_loss: 32.5299 - val_accuracy: 0.0000e+00\n",
            "Epoch 89/400\n",
            "7/7 [==============================] - 0s 15ms/step - loss: 26.6427 - accuracy: 0.0000e+00 - val_loss: 28.6700 - val_accuracy: 0.0000e+00\n",
            "Epoch 90/400\n",
            "7/7 [==============================] - 0s 16ms/step - loss: 27.3048 - accuracy: 0.0000e+00 - val_loss: 30.1517 - val_accuracy: 0.0000e+00\n",
            "Epoch 91/400\n",
            "7/7 [==============================] - 0s 15ms/step - loss: 29.2744 - accuracy: 0.0000e+00 - val_loss: 37.4054 - val_accuracy: 0.0000e+00\n",
            "Epoch 92/400\n",
            "7/7 [==============================] - 0s 18ms/step - loss: 28.6773 - accuracy: 0.0000e+00 - val_loss: 32.8306 - val_accuracy: 0.0000e+00\n",
            "Epoch 93/400\n",
            "7/7 [==============================] - 0s 14ms/step - loss: 28.4670 - accuracy: 0.0000e+00 - val_loss: 30.5211 - val_accuracy: 0.0000e+00\n",
            "Epoch 94/400\n",
            "7/7 [==============================] - 0s 15ms/step - loss: 29.7990 - accuracy: 0.0000e+00 - val_loss: 31.9637 - val_accuracy: 0.0000e+00\n",
            "Epoch 95/400\n",
            "7/7 [==============================] - 0s 15ms/step - loss: 27.9446 - accuracy: 0.0000e+00 - val_loss: 50.2280 - val_accuracy: 0.0000e+00\n",
            "Epoch 96/400\n",
            "7/7 [==============================] - 0s 16ms/step - loss: 29.8585 - accuracy: 0.0000e+00 - val_loss: 40.8558 - val_accuracy: 0.0000e+00\n",
            "Epoch 97/400\n",
            "7/7 [==============================] - 0s 15ms/step - loss: 33.0293 - accuracy: 0.0000e+00 - val_loss: 33.8022 - val_accuracy: 0.0000e+00\n",
            "Epoch 98/400\n",
            "7/7 [==============================] - 0s 15ms/step - loss: 30.2394 - accuracy: 0.0000e+00 - val_loss: 26.7037 - val_accuracy: 0.0000e+00\n",
            "Epoch 99/400\n",
            "7/7 [==============================] - 0s 15ms/step - loss: 30.5683 - accuracy: 0.0000e+00 - val_loss: 30.4674 - val_accuracy: 0.0000e+00\n",
            "Epoch 100/400\n",
            "7/7 [==============================] - 0s 16ms/step - loss: 26.5124 - accuracy: 0.0000e+00 - val_loss: 26.9162 - val_accuracy: 0.0000e+00\n",
            "Epoch 101/400\n",
            "7/7 [==============================] - 0s 15ms/step - loss: 23.9441 - accuracy: 0.0000e+00 - val_loss: 27.9533 - val_accuracy: 0.0000e+00\n",
            "Epoch 102/400\n",
            "7/7 [==============================] - 0s 16ms/step - loss: 24.7376 - accuracy: 0.0000e+00 - val_loss: 28.0388 - val_accuracy: 0.0000e+00\n",
            "Epoch 103/400\n",
            "7/7 [==============================] - 0s 15ms/step - loss: 23.7184 - accuracy: 0.0000e+00 - val_loss: 27.6533 - val_accuracy: 0.0000e+00\n",
            "Epoch 104/400\n",
            "7/7 [==============================] - 0s 16ms/step - loss: 24.4854 - accuracy: 0.0000e+00 - val_loss: 29.3518 - val_accuracy: 0.0000e+00\n",
            "Epoch 105/400\n",
            "7/7 [==============================] - 0s 18ms/step - loss: 24.5141 - accuracy: 0.0000e+00 - val_loss: 27.2392 - val_accuracy: 0.0000e+00\n",
            "Epoch 106/400\n",
            "7/7 [==============================] - 0s 15ms/step - loss: 25.2777 - accuracy: 0.0000e+00 - val_loss: 27.6889 - val_accuracy: 0.0000e+00\n",
            "Epoch 107/400\n",
            "7/7 [==============================] - 0s 16ms/step - loss: 25.3841 - accuracy: 0.0000e+00 - val_loss: 32.9428 - val_accuracy: 0.0000e+00\n",
            "Epoch 108/400\n",
            "7/7 [==============================] - 0s 16ms/step - loss: 28.6490 - accuracy: 0.0000e+00 - val_loss: 31.2663 - val_accuracy: 0.0000e+00\n",
            "Epoch 109/400\n",
            "7/7 [==============================] - 0s 44ms/step - loss: 26.9213 - accuracy: 0.0000e+00 - val_loss: 30.8881 - val_accuracy: 0.0000e+00\n",
            "Epoch 110/400\n",
            "7/7 [==============================] - 0s 16ms/step - loss: 29.5399 - accuracy: 0.0000e+00 - val_loss: 34.8292 - val_accuracy: 0.0000e+00\n",
            "Epoch 111/400\n",
            "7/7 [==============================] - 0s 15ms/step - loss: 25.4227 - accuracy: 0.0000e+00 - val_loss: 31.6842 - val_accuracy: 0.0000e+00\n",
            "Epoch 112/400\n",
            "7/7 [==============================] - 0s 16ms/step - loss: 24.5543 - accuracy: 0.0000e+00 - val_loss: 28.2181 - val_accuracy: 0.0000e+00\n",
            "Epoch 113/400\n",
            "7/7 [==============================] - 0s 16ms/step - loss: 24.2458 - accuracy: 0.0000e+00 - val_loss: 29.7323 - val_accuracy: 0.0000e+00\n",
            "Epoch 114/400\n",
            "7/7 [==============================] - 0s 18ms/step - loss: 23.8559 - accuracy: 0.0000e+00 - val_loss: 27.8789 - val_accuracy: 0.0000e+00\n",
            "Epoch 115/400\n",
            "7/7 [==============================] - 0s 14ms/step - loss: 25.2261 - accuracy: 0.0000e+00 - val_loss: 28.2407 - val_accuracy: 0.0000e+00\n",
            "Epoch 116/400\n",
            "7/7 [==============================] - 0s 17ms/step - loss: 24.9101 - accuracy: 0.0000e+00 - val_loss: 27.1529 - val_accuracy: 0.0000e+00\n",
            "Epoch 117/400\n",
            "7/7 [==============================] - 0s 15ms/step - loss: 24.0964 - accuracy: 0.0000e+00 - val_loss: 27.9607 - val_accuracy: 0.0000e+00\n",
            "Epoch 118/400\n",
            "7/7 [==============================] - 0s 16ms/step - loss: 24.9699 - accuracy: 0.0000e+00 - val_loss: 26.6631 - val_accuracy: 0.0000e+00\n",
            "Epoch 119/400\n",
            "7/7 [==============================] - 0s 16ms/step - loss: 25.9603 - accuracy: 0.0000e+00 - val_loss: 27.5245 - val_accuracy: 0.0000e+00\n",
            "Epoch 120/400\n",
            "7/7 [==============================] - 0s 16ms/step - loss: 23.5438 - accuracy: 0.0000e+00 - val_loss: 27.7781 - val_accuracy: 0.0000e+00\n",
            "Epoch 121/400\n",
            "7/7 [==============================] - 0s 18ms/step - loss: 24.2591 - accuracy: 0.0000e+00 - val_loss: 27.7522 - val_accuracy: 0.0000e+00\n",
            "Epoch 122/400\n",
            "7/7 [==============================] - 0s 17ms/step - loss: 26.1226 - accuracy: 0.0000e+00 - val_loss: 28.9715 - val_accuracy: 0.0000e+00\n",
            "Epoch 123/400\n",
            "7/7 [==============================] - 0s 16ms/step - loss: 24.8995 - accuracy: 0.0000e+00 - val_loss: 28.0811 - val_accuracy: 0.0000e+00\n",
            "Epoch 124/400\n",
            "7/7 [==============================] - 0s 15ms/step - loss: 23.7125 - accuracy: 0.0000e+00 - val_loss: 27.6447 - val_accuracy: 0.0000e+00\n",
            "Epoch 125/400\n",
            "7/7 [==============================] - 0s 15ms/step - loss: 24.4944 - accuracy: 0.0000e+00 - val_loss: 36.6746 - val_accuracy: 0.0000e+00\n",
            "Epoch 126/400\n",
            "7/7 [==============================] - 0s 16ms/step - loss: 27.7807 - accuracy: 0.0000e+00 - val_loss: 53.5970 - val_accuracy: 0.0000e+00\n",
            "Epoch 127/400\n",
            "7/7 [==============================] - 0s 17ms/step - loss: 32.1047 - accuracy: 0.0000e+00 - val_loss: 33.3545 - val_accuracy: 0.0000e+00\n",
            "Epoch 128/400\n",
            "7/7 [==============================] - 0s 16ms/step - loss: 26.8411 - accuracy: 0.0000e+00 - val_loss: 28.8468 - val_accuracy: 0.0000e+00\n",
            "Epoch 129/400\n",
            "7/7 [==============================] - 0s 17ms/step - loss: 27.0284 - accuracy: 0.0000e+00 - val_loss: 27.6325 - val_accuracy: 0.0000e+00\n",
            "Epoch 130/400\n",
            "7/7 [==============================] - 0s 15ms/step - loss: 24.2199 - accuracy: 0.0000e+00 - val_loss: 26.9434 - val_accuracy: 0.0000e+00\n",
            "Epoch 131/400\n",
            "7/7 [==============================] - 0s 15ms/step - loss: 23.8780 - accuracy: 0.0000e+00 - val_loss: 29.7704 - val_accuracy: 0.0000e+00\n",
            "Epoch 132/400\n",
            "7/7 [==============================] - 0s 17ms/step - loss: 25.4159 - accuracy: 0.0000e+00 - val_loss: 28.2896 - val_accuracy: 0.0000e+00\n",
            "Epoch 133/400\n",
            "7/7 [==============================] - 0s 16ms/step - loss: 23.8955 - accuracy: 0.0000e+00 - val_loss: 28.9953 - val_accuracy: 0.0000e+00\n",
            "Epoch 134/400\n",
            "7/7 [==============================] - 0s 15ms/step - loss: 23.9919 - accuracy: 0.0000e+00 - val_loss: 29.0523 - val_accuracy: 0.0000e+00\n",
            "Epoch 135/400\n",
            "7/7 [==============================] - 0s 18ms/step - loss: 24.2071 - accuracy: 0.0000e+00 - val_loss: 28.6822 - val_accuracy: 0.0000e+00\n",
            "Epoch 136/400\n",
            "7/7 [==============================] - 0s 15ms/step - loss: 25.6450 - accuracy: 0.0000e+00 - val_loss: 32.5561 - val_accuracy: 0.0000e+00\n",
            "Epoch 137/400\n",
            "7/7 [==============================] - 0s 15ms/step - loss: 25.4043 - accuracy: 0.0000e+00 - val_loss: 27.9711 - val_accuracy: 0.0000e+00\n",
            "Epoch 138/400\n",
            "7/7 [==============================] - 0s 20ms/step - loss: 24.0367 - accuracy: 0.0000e+00 - val_loss: 28.2277 - val_accuracy: 0.0000e+00\n",
            "Epoch 139/400\n",
            "7/7 [==============================] - 0s 16ms/step - loss: 23.6506 - accuracy: 0.0000e+00 - val_loss: 28.0322 - val_accuracy: 0.0000e+00\n",
            "Epoch 140/400\n",
            "7/7 [==============================] - 0s 16ms/step - loss: 24.2938 - accuracy: 0.0000e+00 - val_loss: 34.7986 - val_accuracy: 0.0000e+00\n",
            "Epoch 141/400\n",
            "7/7 [==============================] - 0s 15ms/step - loss: 25.9843 - accuracy: 0.0000e+00 - val_loss: 28.6966 - val_accuracy: 0.0000e+00\n",
            "Epoch 142/400\n",
            "7/7 [==============================] - 0s 15ms/step - loss: 24.0275 - accuracy: 0.0000e+00 - val_loss: 26.8429 - val_accuracy: 0.0000e+00\n",
            "Epoch 143/400\n",
            "7/7 [==============================] - 0s 18ms/step - loss: 23.9607 - accuracy: 0.0000e+00 - val_loss: 29.3226 - val_accuracy: 0.0000e+00\n",
            "Epoch 144/400\n",
            "7/7 [==============================] - 0s 17ms/step - loss: 23.5101 - accuracy: 0.0000e+00 - val_loss: 28.4778 - val_accuracy: 0.0000e+00\n",
            "Epoch 145/400\n",
            "7/7 [==============================] - 0s 16ms/step - loss: 23.6840 - accuracy: 0.0000e+00 - val_loss: 27.7259 - val_accuracy: 0.0000e+00\n",
            "Epoch 146/400\n",
            "7/7 [==============================] - 0s 15ms/step - loss: 23.5181 - accuracy: 0.0000e+00 - val_loss: 30.4769 - val_accuracy: 0.0000e+00\n",
            "Epoch 147/400\n",
            "7/7 [==============================] - 0s 15ms/step - loss: 23.9588 - accuracy: 0.0000e+00 - val_loss: 38.6418 - val_accuracy: 0.0000e+00\n",
            "Epoch 148/400\n",
            "7/7 [==============================] - 0s 16ms/step - loss: 26.4810 - accuracy: 0.0000e+00 - val_loss: 28.1761 - val_accuracy: 0.0000e+00\n",
            "Epoch 149/400\n",
            "7/7 [==============================] - 0s 15ms/step - loss: 23.4550 - accuracy: 0.0000e+00 - val_loss: 26.5269 - val_accuracy: 0.0000e+00\n",
            "Epoch 150/400\n",
            "7/7 [==============================] - 0s 15ms/step - loss: 23.2952 - accuracy: 0.0000e+00 - val_loss: 28.5656 - val_accuracy: 0.0000e+00\n",
            "Epoch 151/400\n",
            "7/7 [==============================] - 0s 16ms/step - loss: 24.7718 - accuracy: 0.0000e+00 - val_loss: 27.4020 - val_accuracy: 0.0000e+00\n",
            "Epoch 152/400\n",
            "7/7 [==============================] - 0s 18ms/step - loss: 23.2796 - accuracy: 0.0000e+00 - val_loss: 29.1206 - val_accuracy: 0.0000e+00\n",
            "Epoch 153/400\n",
            "7/7 [==============================] - 0s 14ms/step - loss: 24.1116 - accuracy: 0.0000e+00 - val_loss: 27.2535 - val_accuracy: 0.0000e+00\n",
            "Epoch 154/400\n",
            "7/7 [==============================] - 0s 15ms/step - loss: 23.3703 - accuracy: 0.0000e+00 - val_loss: 28.2193 - val_accuracy: 0.0000e+00\n",
            "Epoch 155/400\n",
            "7/7 [==============================] - 0s 45ms/step - loss: 23.6960 - accuracy: 0.0000e+00 - val_loss: 29.9398 - val_accuracy: 0.0000e+00\n",
            "Epoch 156/400\n",
            "7/7 [==============================] - 0s 16ms/step - loss: 25.0013 - accuracy: 0.0000e+00 - val_loss: 38.5638 - val_accuracy: 0.0000e+00\n",
            "Epoch 157/400\n",
            "7/7 [==============================] - 0s 20ms/step - loss: 27.2968 - accuracy: 0.0000e+00 - val_loss: 39.0449 - val_accuracy: 0.0000e+00\n",
            "Epoch 158/400\n",
            "7/7 [==============================] - 0s 15ms/step - loss: 27.7678 - accuracy: 0.0000e+00 - val_loss: 31.5863 - val_accuracy: 0.0000e+00\n",
            "Epoch 159/400\n",
            "7/7 [==============================] - 0s 15ms/step - loss: 24.0732 - accuracy: 0.0000e+00 - val_loss: 26.7661 - val_accuracy: 0.0000e+00\n",
            "Epoch 160/400\n",
            "7/7 [==============================] - 0s 15ms/step - loss: 24.3404 - accuracy: 0.0000e+00 - val_loss: 29.2916 - val_accuracy: 0.0000e+00\n",
            "Epoch 161/400\n",
            "7/7 [==============================] - 0s 18ms/step - loss: 25.3059 - accuracy: 0.0000e+00 - val_loss: 26.8028 - val_accuracy: 0.0000e+00\n",
            "Epoch 162/400\n",
            "7/7 [==============================] - 0s 18ms/step - loss: 23.1713 - accuracy: 0.0000e+00 - val_loss: 27.4322 - val_accuracy: 0.0000e+00\n",
            "Epoch 163/400\n",
            "7/7 [==============================] - 0s 19ms/step - loss: 23.6444 - accuracy: 0.0000e+00 - val_loss: 26.9571 - val_accuracy: 0.0000e+00\n",
            "Epoch 164/400\n",
            "7/7 [==============================] - 0s 15ms/step - loss: 23.5434 - accuracy: 0.0000e+00 - val_loss: 28.2422 - val_accuracy: 0.0000e+00\n",
            "Epoch 165/400\n",
            "7/7 [==============================] - 0s 15ms/step - loss: 24.0915 - accuracy: 0.0000e+00 - val_loss: 26.6411 - val_accuracy: 0.0000e+00\n",
            "Epoch 166/400\n",
            "7/7 [==============================] - 0s 18ms/step - loss: 25.5178 - accuracy: 0.0000e+00 - val_loss: 30.4765 - val_accuracy: 0.0000e+00\n",
            "Epoch 167/400\n",
            "7/7 [==============================] - 0s 15ms/step - loss: 27.7814 - accuracy: 0.0000e+00 - val_loss: 31.8784 - val_accuracy: 0.0000e+00\n",
            "Epoch 168/400\n",
            "7/7 [==============================] - 0s 16ms/step - loss: 25.3720 - accuracy: 0.0000e+00 - val_loss: 29.7453 - val_accuracy: 0.0000e+00\n",
            "Epoch 169/400\n",
            "7/7 [==============================] - 0s 16ms/step - loss: 24.2123 - accuracy: 0.0000e+00 - val_loss: 32.9180 - val_accuracy: 0.0000e+00\n",
            "Epoch 170/400\n",
            "7/7 [==============================] - 0s 17ms/step - loss: 25.6635 - accuracy: 0.0000e+00 - val_loss: 40.8504 - val_accuracy: 0.0000e+00\n",
            "Epoch 171/400\n",
            "7/7 [==============================] - 0s 16ms/step - loss: 27.5240 - accuracy: 0.0000e+00 - val_loss: 38.1129 - val_accuracy: 0.0000e+00\n",
            "Epoch 172/400\n",
            "7/7 [==============================] - 0s 16ms/step - loss: 28.1934 - accuracy: 0.0000e+00 - val_loss: 32.4564 - val_accuracy: 0.0000e+00\n",
            "Epoch 173/400\n",
            "7/7 [==============================] - 0s 15ms/step - loss: 25.3990 - accuracy: 0.0000e+00 - val_loss: 28.0838 - val_accuracy: 0.0000e+00\n",
            "Epoch 174/400\n",
            "7/7 [==============================] - 0s 15ms/step - loss: 25.6248 - accuracy: 0.0000e+00 - val_loss: 26.8312 - val_accuracy: 0.0000e+00\n",
            "Epoch 175/400\n",
            "7/7 [==============================] - 0s 19ms/step - loss: 24.6617 - accuracy: 0.0000e+00 - val_loss: 27.0137 - val_accuracy: 0.0000e+00\n",
            "Epoch 176/400\n",
            "7/7 [==============================] - 0s 16ms/step - loss: 24.9165 - accuracy: 0.0000e+00 - val_loss: 27.2502 - val_accuracy: 0.0000e+00\n",
            "Epoch 177/400\n",
            "7/7 [==============================] - 0s 15ms/step - loss: 24.5987 - accuracy: 0.0000e+00 - val_loss: 26.7102 - val_accuracy: 0.0000e+00\n",
            "Epoch 178/400\n",
            "7/7 [==============================] - 0s 14ms/step - loss: 23.6094 - accuracy: 0.0000e+00 - val_loss: 28.0852 - val_accuracy: 0.0000e+00\n",
            "Epoch 179/400\n",
            "7/7 [==============================] - 0s 17ms/step - loss: 23.5872 - accuracy: 0.0000e+00 - val_loss: 40.5702 - val_accuracy: 0.0000e+00\n",
            "Epoch 180/400\n",
            "7/7 [==============================] - 0s 16ms/step - loss: 25.5975 - accuracy: 0.0000e+00 - val_loss: 31.3212 - val_accuracy: 0.0000e+00\n",
            "Epoch 181/400\n",
            "7/7 [==============================] - 0s 16ms/step - loss: 26.2547 - accuracy: 0.0000e+00 - val_loss: 39.8965 - val_accuracy: 0.0000e+00\n",
            "Epoch 182/400\n",
            "7/7 [==============================] - 0s 16ms/step - loss: 30.7781 - accuracy: 0.0000e+00 - val_loss: 29.2940 - val_accuracy: 0.0000e+00\n",
            "Epoch 183/400\n",
            "7/7 [==============================] - 0s 16ms/step - loss: 24.1420 - accuracy: 0.0000e+00 - val_loss: 26.4645 - val_accuracy: 0.0000e+00\n",
            "Epoch 184/400\n",
            "7/7 [==============================] - 0s 15ms/step - loss: 24.3097 - accuracy: 0.0000e+00 - val_loss: 30.0737 - val_accuracy: 0.0000e+00\n",
            "Epoch 185/400\n",
            "7/7 [==============================] - 0s 15ms/step - loss: 25.9191 - accuracy: 0.0000e+00 - val_loss: 35.3357 - val_accuracy: 0.0000e+00\n",
            "Epoch 186/400\n",
            "7/7 [==============================] - 0s 21ms/step - loss: 25.9729 - accuracy: 0.0000e+00 - val_loss: 28.2375 - val_accuracy: 0.0000e+00\n",
            "Epoch 187/400\n",
            "7/7 [==============================] - 0s 15ms/step - loss: 23.4141 - accuracy: 0.0000e+00 - val_loss: 27.4269 - val_accuracy: 0.0000e+00\n",
            "Epoch 188/400\n",
            "7/7 [==============================] - 0s 15ms/step - loss: 23.1453 - accuracy: 0.0000e+00 - val_loss: 27.6890 - val_accuracy: 0.0000e+00\n",
            "Epoch 189/400\n",
            "7/7 [==============================] - 0s 15ms/step - loss: 23.4346 - accuracy: 0.0000e+00 - val_loss: 27.2241 - val_accuracy: 0.0000e+00\n",
            "Epoch 190/400\n",
            "7/7 [==============================] - 0s 19ms/step - loss: 23.0042 - accuracy: 0.0000e+00 - val_loss: 27.3911 - val_accuracy: 0.0000e+00\n",
            "Epoch 191/400\n",
            "7/7 [==============================] - 0s 18ms/step - loss: 26.0541 - accuracy: 0.0000e+00 - val_loss: 26.2983 - val_accuracy: 0.0000e+00\n",
            "Epoch 192/400\n",
            "7/7 [==============================] - 0s 16ms/step - loss: 23.7387 - accuracy: 0.0000e+00 - val_loss: 31.2701 - val_accuracy: 0.0000e+00\n",
            "Epoch 193/400\n",
            "7/7 [==============================] - 0s 15ms/step - loss: 25.3844 - accuracy: 0.0000e+00 - val_loss: 27.1116 - val_accuracy: 0.0000e+00\n",
            "Epoch 194/400\n",
            "7/7 [==============================] - 0s 19ms/step - loss: 24.4997 - accuracy: 0.0000e+00 - val_loss: 27.8288 - val_accuracy: 0.0000e+00\n",
            "Epoch 195/400\n",
            "7/7 [==============================] - 0s 16ms/step - loss: 23.7848 - accuracy: 0.0000e+00 - val_loss: 26.8459 - val_accuracy: 0.0000e+00\n",
            "Epoch 196/400\n",
            "7/7 [==============================] - 0s 15ms/step - loss: 23.0014 - accuracy: 0.0000e+00 - val_loss: 28.6912 - val_accuracy: 0.0000e+00\n",
            "Epoch 197/400\n",
            "7/7 [==============================] - 0s 16ms/step - loss: 27.0896 - accuracy: 0.0000e+00 - val_loss: 39.7948 - val_accuracy: 0.0000e+00\n",
            "Epoch 198/400\n",
            "7/7 [==============================] - 0s 15ms/step - loss: 33.0385 - accuracy: 0.0000e+00 - val_loss: 37.4023 - val_accuracy: 0.0000e+00\n",
            "Epoch 199/400\n",
            "7/7 [==============================] - 0s 15ms/step - loss: 30.9669 - accuracy: 0.0000e+00 - val_loss: 31.3825 - val_accuracy: 0.0000e+00\n",
            "Epoch 200/400\n",
            "7/7 [==============================] - 0s 18ms/step - loss: 26.9892 - accuracy: 0.0000e+00 - val_loss: 32.7267 - val_accuracy: 0.0000e+00\n",
            "Epoch 201/400\n",
            "7/7 [==============================] - 0s 44ms/step - loss: 29.6033 - accuracy: 0.0000e+00 - val_loss: 26.5373 - val_accuracy: 0.0000e+00\n",
            "Epoch 202/400\n",
            "7/7 [==============================] - 0s 14ms/step - loss: 25.8267 - accuracy: 0.0000e+00 - val_loss: 29.4684 - val_accuracy: 0.0000e+00\n",
            "Epoch 203/400\n",
            "7/7 [==============================] - 0s 15ms/step - loss: 22.9811 - accuracy: 0.0000e+00 - val_loss: 29.8762 - val_accuracy: 0.0000e+00\n",
            "Epoch 204/400\n",
            "7/7 [==============================] - 0s 18ms/step - loss: 24.6366 - accuracy: 0.0000e+00 - val_loss: 29.1688 - val_accuracy: 0.0000e+00\n",
            "Epoch 205/400\n",
            "7/7 [==============================] - 0s 15ms/step - loss: 23.3806 - accuracy: 0.0000e+00 - val_loss: 27.7903 - val_accuracy: 0.0000e+00\n",
            "Epoch 206/400\n",
            "7/7 [==============================] - 0s 18ms/step - loss: 23.7216 - accuracy: 0.0000e+00 - val_loss: 27.8989 - val_accuracy: 0.0000e+00\n",
            "Epoch 207/400\n",
            "7/7 [==============================] - 0s 19ms/step - loss: 24.1225 - accuracy: 0.0000e+00 - val_loss: 30.7974 - val_accuracy: 0.0000e+00\n",
            "Epoch 208/400\n",
            "7/7 [==============================] - 0s 16ms/step - loss: 25.5941 - accuracy: 0.0000e+00 - val_loss: 29.3365 - val_accuracy: 0.0000e+00\n",
            "Epoch 209/400\n",
            "7/7 [==============================] - 0s 16ms/step - loss: 23.7726 - accuracy: 0.0000e+00 - val_loss: 27.5382 - val_accuracy: 0.0000e+00\n",
            "Epoch 210/400\n",
            "7/7 [==============================] - 0s 16ms/step - loss: 24.1777 - accuracy: 0.0000e+00 - val_loss: 27.3483 - val_accuracy: 0.0000e+00\n",
            "Epoch 211/400\n",
            "7/7 [==============================] - 0s 18ms/step - loss: 23.6928 - accuracy: 0.0000e+00 - val_loss: 28.0731 - val_accuracy: 0.0000e+00\n",
            "Epoch 212/400\n",
            "7/7 [==============================] - 0s 16ms/step - loss: 23.7965 - accuracy: 0.0000e+00 - val_loss: 28.1605 - val_accuracy: 0.0000e+00\n",
            "Epoch 213/400\n",
            "7/7 [==============================] - 0s 17ms/step - loss: 24.2501 - accuracy: 0.0000e+00 - val_loss: 27.7878 - val_accuracy: 0.0000e+00\n",
            "Epoch 214/400\n",
            "7/7 [==============================] - 0s 16ms/step - loss: 23.7307 - accuracy: 0.0000e+00 - val_loss: 31.3954 - val_accuracy: 0.0000e+00\n",
            "Epoch 215/400\n",
            "7/7 [==============================] - 0s 15ms/step - loss: 28.9336 - accuracy: 0.0000e+00 - val_loss: 28.6694 - val_accuracy: 0.0000e+00\n",
            "Epoch 216/400\n",
            "7/7 [==============================] - 0s 16ms/step - loss: 25.7972 - accuracy: 0.0000e+00 - val_loss: 28.5045 - val_accuracy: 0.0000e+00\n",
            "Epoch 217/400\n",
            "7/7 [==============================] - 0s 16ms/step - loss: 24.1930 - accuracy: 0.0000e+00 - val_loss: 26.5801 - val_accuracy: 0.0000e+00\n",
            "Epoch 218/400\n",
            "7/7 [==============================] - 0s 16ms/step - loss: 24.5266 - accuracy: 0.0000e+00 - val_loss: 26.6964 - val_accuracy: 0.0000e+00\n",
            "Epoch 219/400\n",
            "7/7 [==============================] - 0s 17ms/step - loss: 23.6578 - accuracy: 0.0000e+00 - val_loss: 27.4605 - val_accuracy: 0.0000e+00\n",
            "Epoch 220/400\n",
            "7/7 [==============================] - 0s 20ms/step - loss: 22.7480 - accuracy: 0.0000e+00 - val_loss: 27.6743 - val_accuracy: 0.0000e+00\n",
            "Epoch 221/400\n",
            "7/7 [==============================] - 0s 15ms/step - loss: 23.2148 - accuracy: 0.0000e+00 - val_loss: 31.7095 - val_accuracy: 0.0000e+00\n",
            "Epoch 222/400\n",
            "7/7 [==============================] - 0s 16ms/step - loss: 22.4559 - accuracy: 0.0000e+00 - val_loss: 26.8282 - val_accuracy: 0.0000e+00\n",
            "Epoch 223/400\n",
            "7/7 [==============================] - 0s 18ms/step - loss: 23.1503 - accuracy: 0.0000e+00 - val_loss: 27.8689 - val_accuracy: 0.0000e+00\n",
            "Epoch 224/400\n",
            "7/7 [==============================] - 0s 16ms/step - loss: 25.4803 - accuracy: 0.0000e+00 - val_loss: 32.7994 - val_accuracy: 0.0000e+00\n",
            "Epoch 225/400\n",
            "7/7 [==============================] - 0s 15ms/step - loss: 28.5157 - accuracy: 0.0000e+00 - val_loss: 32.6723 - val_accuracy: 0.0000e+00\n",
            "Epoch 226/400\n",
            "7/7 [==============================] - 0s 16ms/step - loss: 31.3855 - accuracy: 0.0000e+00 - val_loss: 27.0779 - val_accuracy: 0.0000e+00\n",
            "Epoch 227/400\n",
            "7/7 [==============================] - 0s 18ms/step - loss: 32.3449 - accuracy: 0.0000e+00 - val_loss: 28.4525 - val_accuracy: 0.0000e+00\n",
            "Epoch 228/400\n",
            "7/7 [==============================] - 0s 15ms/step - loss: 27.9851 - accuracy: 0.0000e+00 - val_loss: 25.6229 - val_accuracy: 0.0000e+00\n",
            "Epoch 229/400\n",
            "7/7 [==============================] - 0s 17ms/step - loss: 25.9818 - accuracy: 0.0000e+00 - val_loss: 29.8036 - val_accuracy: 0.0000e+00\n",
            "Epoch 230/400\n",
            "7/7 [==============================] - 0s 16ms/step - loss: 23.4429 - accuracy: 0.0000e+00 - val_loss: 25.9679 - val_accuracy: 0.0000e+00\n",
            "Epoch 231/400\n",
            "7/7 [==============================] - 0s 16ms/step - loss: 22.6873 - accuracy: 0.0000e+00 - val_loss: 30.5270 - val_accuracy: 0.0000e+00\n",
            "Epoch 232/400\n",
            "7/7 [==============================] - 0s 18ms/step - loss: 24.5865 - accuracy: 0.0000e+00 - val_loss: 27.7373 - val_accuracy: 0.0000e+00\n",
            "Epoch 233/400\n",
            "7/7 [==============================] - 0s 14ms/step - loss: 25.7150 - accuracy: 0.0000e+00 - val_loss: 27.0330 - val_accuracy: 0.0000e+00\n",
            "Epoch 234/400\n",
            "7/7 [==============================] - 0s 16ms/step - loss: 22.9742 - accuracy: 0.0000e+00 - val_loss: 27.2943 - val_accuracy: 0.0000e+00\n",
            "Epoch 235/400\n",
            "7/7 [==============================] - 0s 18ms/step - loss: 23.1022 - accuracy: 0.0000e+00 - val_loss: 26.3169 - val_accuracy: 0.0000e+00\n",
            "Epoch 236/400\n",
            "7/7 [==============================] - 0s 16ms/step - loss: 22.9327 - accuracy: 0.0000e+00 - val_loss: 27.7350 - val_accuracy: 0.0000e+00\n",
            "Epoch 237/400\n",
            "7/7 [==============================] - 0s 18ms/step - loss: 24.5157 - accuracy: 0.0000e+00 - val_loss: 29.7018 - val_accuracy: 0.0000e+00\n",
            "Epoch 238/400\n",
            "7/7 [==============================] - 0s 15ms/step - loss: 27.7303 - accuracy: 0.0000e+00 - val_loss: 34.0571 - val_accuracy: 0.0000e+00\n",
            "Epoch 239/400\n",
            "7/7 [==============================] - 0s 15ms/step - loss: 24.5470 - accuracy: 0.0000e+00 - val_loss: 30.2143 - val_accuracy: 0.0000e+00\n",
            "Epoch 240/400\n",
            "7/7 [==============================] - 0s 18ms/step - loss: 24.4265 - accuracy: 0.0000e+00 - val_loss: 26.8816 - val_accuracy: 0.0000e+00\n",
            "Epoch 241/400\n",
            "7/7 [==============================] - 0s 17ms/step - loss: 25.1586 - accuracy: 0.0000e+00 - val_loss: 26.0830 - val_accuracy: 0.0000e+00\n",
            "Epoch 242/400\n",
            "7/7 [==============================] - 0s 16ms/step - loss: 25.0823 - accuracy: 0.0000e+00 - val_loss: 31.2273 - val_accuracy: 0.0000e+00\n",
            "Epoch 243/400\n",
            "7/7 [==============================] - 0s 17ms/step - loss: 23.0930 - accuracy: 0.0000e+00 - val_loss: 27.4811 - val_accuracy: 0.0000e+00\n",
            "Epoch 244/400\n",
            "7/7 [==============================] - 0s 16ms/step - loss: 23.3127 - accuracy: 0.0000e+00 - val_loss: 26.8352 - val_accuracy: 0.0000e+00\n",
            "Epoch 245/400\n",
            "7/7 [==============================] - 0s 16ms/step - loss: 23.2299 - accuracy: 0.0000e+00 - val_loss: 27.2591 - val_accuracy: 0.0000e+00\n",
            "Epoch 246/400\n",
            "7/7 [==============================] - 0s 18ms/step - loss: 23.6869 - accuracy: 0.0000e+00 - val_loss: 28.1975 - val_accuracy: 0.0000e+00\n",
            "Epoch 247/400\n",
            "7/7 [==============================] - 0s 45ms/step - loss: 26.8677 - accuracy: 0.0000e+00 - val_loss: 29.4513 - val_accuracy: 0.0000e+00\n",
            "Epoch 248/400\n",
            "7/7 [==============================] - 0s 16ms/step - loss: 26.8167 - accuracy: 0.0000e+00 - val_loss: 30.6855 - val_accuracy: 0.0000e+00\n",
            "Epoch 249/400\n",
            "7/7 [==============================] - 0s 18ms/step - loss: 29.3936 - accuracy: 0.0000e+00 - val_loss: 29.7342 - val_accuracy: 0.0000e+00\n",
            "Epoch 250/400\n",
            "7/7 [==============================] - 0s 15ms/step - loss: 25.1358 - accuracy: 0.0000e+00 - val_loss: 32.0376 - val_accuracy: 0.0000e+00\n",
            "Epoch 251/400\n",
            "7/7 [==============================] - 0s 17ms/step - loss: 23.5923 - accuracy: 0.0000e+00 - val_loss: 26.7553 - val_accuracy: 0.0000e+00\n",
            "Epoch 252/400\n",
            "7/7 [==============================] - 0s 20ms/step - loss: 24.6104 - accuracy: 0.0000e+00 - val_loss: 30.8847 - val_accuracy: 0.0000e+00\n",
            "Epoch 253/400\n",
            "7/7 [==============================] - 0s 15ms/step - loss: 23.9282 - accuracy: 0.0000e+00 - val_loss: 26.2494 - val_accuracy: 0.0000e+00\n",
            "Epoch 254/400\n",
            "7/7 [==============================] - 0s 19ms/step - loss: 22.7298 - accuracy: 0.0000e+00 - val_loss: 32.8396 - val_accuracy: 0.0000e+00\n",
            "Epoch 255/400\n",
            "7/7 [==============================] - 0s 17ms/step - loss: 27.3384 - accuracy: 0.0000e+00 - val_loss: 29.7133 - val_accuracy: 0.0000e+00\n",
            "Epoch 256/400\n",
            "7/7 [==============================] - 0s 19ms/step - loss: 23.1999 - accuracy: 0.0000e+00 - val_loss: 37.0645 - val_accuracy: 0.0000e+00\n",
            "Epoch 257/400\n",
            "7/7 [==============================] - 0s 19ms/step - loss: 26.2762 - accuracy: 0.0000e+00 - val_loss: 27.4702 - val_accuracy: 0.0000e+00\n",
            "Epoch 258/400\n",
            "7/7 [==============================] - 0s 18ms/step - loss: 23.9880 - accuracy: 0.0000e+00 - val_loss: 26.4153 - val_accuracy: 0.0000e+00\n",
            "Epoch 259/400\n",
            "7/7 [==============================] - 0s 17ms/step - loss: 24.4272 - accuracy: 0.0000e+00 - val_loss: 26.4995 - val_accuracy: 0.0000e+00\n",
            "Epoch 260/400\n",
            "7/7 [==============================] - 0s 16ms/step - loss: 22.7542 - accuracy: 0.0000e+00 - val_loss: 25.8868 - val_accuracy: 0.0000e+00\n",
            "Epoch 261/400\n",
            "7/7 [==============================] - 0s 17ms/step - loss: 22.4015 - accuracy: 0.0000e+00 - val_loss: 27.5210 - val_accuracy: 0.0000e+00\n",
            "Epoch 262/400\n",
            "7/7 [==============================] - 0s 19ms/step - loss: 22.9079 - accuracy: 0.0000e+00 - val_loss: 25.5402 - val_accuracy: 0.0000e+00\n",
            "Epoch 263/400\n",
            "7/7 [==============================] - 0s 17ms/step - loss: 22.4165 - accuracy: 0.0000e+00 - val_loss: 26.7388 - val_accuracy: 0.0000e+00\n",
            "Epoch 264/400\n",
            "7/7 [==============================] - 0s 18ms/step - loss: 23.4828 - accuracy: 0.0000e+00 - val_loss: 25.8668 - val_accuracy: 0.0000e+00\n",
            "Epoch 265/400\n",
            "7/7 [==============================] - 0s 17ms/step - loss: 25.0530 - accuracy: 0.0000e+00 - val_loss: 36.7288 - val_accuracy: 0.0000e+00\n",
            "Epoch 266/400\n",
            "7/7 [==============================] - 0s 20ms/step - loss: 27.7168 - accuracy: 0.0000e+00 - val_loss: 49.1811 - val_accuracy: 0.0000e+00\n",
            "Epoch 267/400\n",
            "7/7 [==============================] - 0s 18ms/step - loss: 32.9192 - accuracy: 0.0000e+00 - val_loss: 61.2428 - val_accuracy: 0.0000e+00\n",
            "Epoch 268/400\n",
            "7/7 [==============================] - 0s 15ms/step - loss: 41.5704 - accuracy: 0.0000e+00 - val_loss: 43.3281 - val_accuracy: 0.0000e+00\n",
            "Epoch 269/400\n",
            "7/7 [==============================] - 0s 20ms/step - loss: 33.9450 - accuracy: 0.0000e+00 - val_loss: 28.2923 - val_accuracy: 0.0000e+00\n",
            "Epoch 270/400\n",
            "7/7 [==============================] - 0s 15ms/step - loss: 23.8588 - accuracy: 0.0000e+00 - val_loss: 26.3889 - val_accuracy: 0.0000e+00\n",
            "Epoch 271/400\n",
            "7/7 [==============================] - 0s 18ms/step - loss: 24.6308 - accuracy: 0.0000e+00 - val_loss: 26.0035 - val_accuracy: 0.0000e+00\n",
            "Epoch 272/400\n",
            "7/7 [==============================] - 0s 15ms/step - loss: 26.8069 - accuracy: 0.0000e+00 - val_loss: 27.4392 - val_accuracy: 0.0000e+00\n",
            "Epoch 273/400\n",
            "7/7 [==============================] - 0s 18ms/step - loss: 24.4983 - accuracy: 0.0000e+00 - val_loss: 27.4832 - val_accuracy: 0.0000e+00\n",
            "Epoch 274/400\n",
            "7/7 [==============================] - 0s 16ms/step - loss: 24.3091 - accuracy: 0.0000e+00 - val_loss: 26.1616 - val_accuracy: 0.0000e+00\n",
            "Epoch 275/400\n",
            "7/7 [==============================] - 0s 19ms/step - loss: 22.7849 - accuracy: 0.0000e+00 - val_loss: 28.1800 - val_accuracy: 0.0000e+00\n",
            "Epoch 276/400\n",
            "7/7 [==============================] - 0s 15ms/step - loss: 22.4814 - accuracy: 0.0000e+00 - val_loss: 32.4183 - val_accuracy: 0.0000e+00\n",
            "Epoch 277/400\n",
            "7/7 [==============================] - 0s 18ms/step - loss: 26.8803 - accuracy: 0.0000e+00 - val_loss: 25.3120 - val_accuracy: 0.0000e+00\n",
            "Epoch 278/400\n",
            "7/7 [==============================] - 0s 17ms/step - loss: 24.4081 - accuracy: 0.0000e+00 - val_loss: 38.4492 - val_accuracy: 0.0000e+00\n",
            "Epoch 279/400\n",
            "7/7 [==============================] - 0s 17ms/step - loss: 27.9091 - accuracy: 0.0000e+00 - val_loss: 62.2366 - val_accuracy: 0.0000e+00\n",
            "Epoch 280/400\n",
            "7/7 [==============================] - 0s 15ms/step - loss: 37.1079 - accuracy: 0.0000e+00 - val_loss: 26.2964 - val_accuracy: 0.0000e+00\n",
            "Epoch 281/400\n",
            "7/7 [==============================] - 0s 17ms/step - loss: 27.9045 - accuracy: 0.0000e+00 - val_loss: 30.6196 - val_accuracy: 0.0000e+00\n",
            "Epoch 282/400\n",
            "7/7 [==============================] - 0s 16ms/step - loss: 23.6916 - accuracy: 0.0000e+00 - val_loss: 27.3003 - val_accuracy: 0.0000e+00\n",
            "Epoch 283/400\n",
            "7/7 [==============================] - 0s 16ms/step - loss: 22.4988 - accuracy: 0.0000e+00 - val_loss: 26.6725 - val_accuracy: 0.0000e+00\n",
            "Epoch 284/400\n",
            "7/7 [==============================] - 0s 16ms/step - loss: 22.5032 - accuracy: 0.0000e+00 - val_loss: 26.5516 - val_accuracy: 0.0000e+00\n",
            "Epoch 285/400\n",
            "7/7 [==============================] - 0s 16ms/step - loss: 22.9509 - accuracy: 0.0000e+00 - val_loss: 26.3288 - val_accuracy: 0.0000e+00\n",
            "Epoch 286/400\n",
            "7/7 [==============================] - 0s 16ms/step - loss: 23.1806 - accuracy: 0.0000e+00 - val_loss: 30.3607 - val_accuracy: 0.0000e+00\n",
            "Epoch 287/400\n",
            "7/7 [==============================] - 0s 15ms/step - loss: 24.1612 - accuracy: 0.0000e+00 - val_loss: 26.2236 - val_accuracy: 0.0000e+00\n",
            "Epoch 288/400\n",
            "7/7 [==============================] - 0s 15ms/step - loss: 22.7160 - accuracy: 0.0000e+00 - val_loss: 30.5927 - val_accuracy: 0.0000e+00\n",
            "Epoch 289/400\n",
            "7/7 [==============================] - 0s 18ms/step - loss: 25.2547 - accuracy: 0.0000e+00 - val_loss: 26.1483 - val_accuracy: 0.0000e+00\n",
            "Epoch 290/400\n",
            "7/7 [==============================] - 0s 17ms/step - loss: 23.0499 - accuracy: 0.0000e+00 - val_loss: 27.7691 - val_accuracy: 0.0000e+00\n",
            "Epoch 291/400\n",
            "7/7 [==============================] - 0s 16ms/step - loss: 22.7233 - accuracy: 0.0000e+00 - val_loss: 28.8987 - val_accuracy: 0.0000e+00\n",
            "Epoch 292/400\n",
            "7/7 [==============================] - 0s 15ms/step - loss: 23.0241 - accuracy: 0.0000e+00 - val_loss: 37.5658 - val_accuracy: 0.0000e+00\n",
            "Epoch 293/400\n",
            "7/7 [==============================] - 0s 45ms/step - loss: 27.8542 - accuracy: 0.0000e+00 - val_loss: 25.5444 - val_accuracy: 0.0000e+00\n",
            "Epoch 294/400\n",
            "7/7 [==============================] - 0s 14ms/step - loss: 22.6146 - accuracy: 0.0000e+00 - val_loss: 26.3540 - val_accuracy: 0.0000e+00\n",
            "Epoch 295/400\n",
            "7/7 [==============================] - 0s 16ms/step - loss: 22.5885 - accuracy: 0.0000e+00 - val_loss: 27.2105 - val_accuracy: 0.0000e+00\n",
            "Epoch 296/400\n",
            "7/7 [==============================] - 0s 15ms/step - loss: 25.3140 - accuracy: 0.0000e+00 - val_loss: 33.7139 - val_accuracy: 0.0000e+00\n",
            "Epoch 297/400\n",
            "7/7 [==============================] - 0s 16ms/step - loss: 23.8430 - accuracy: 0.0000e+00 - val_loss: 27.8718 - val_accuracy: 0.0000e+00\n",
            "Epoch 298/400\n",
            "7/7 [==============================] - 0s 17ms/step - loss: 23.1194 - accuracy: 0.0000e+00 - val_loss: 26.8919 - val_accuracy: 0.0000e+00\n",
            "Epoch 299/400\n",
            "7/7 [==============================] - 0s 17ms/step - loss: 24.3962 - accuracy: 0.0000e+00 - val_loss: 28.2263 - val_accuracy: 0.0000e+00\n",
            "Epoch 300/400\n",
            "7/7 [==============================] - 0s 16ms/step - loss: 27.7863 - accuracy: 0.0000e+00 - val_loss: 28.1208 - val_accuracy: 0.0000e+00\n",
            "Epoch 301/400\n",
            "7/7 [==============================] - 0s 15ms/step - loss: 23.7214 - accuracy: 0.0000e+00 - val_loss: 30.4814 - val_accuracy: 0.0000e+00\n",
            "Epoch 302/400\n",
            "7/7 [==============================] - 0s 16ms/step - loss: 21.9141 - accuracy: 0.0000e+00 - val_loss: 26.4523 - val_accuracy: 0.0000e+00\n",
            "Epoch 303/400\n",
            "7/7 [==============================] - 0s 17ms/step - loss: 21.8081 - accuracy: 0.0000e+00 - val_loss: 26.5551 - val_accuracy: 0.0000e+00\n",
            "Epoch 304/400\n",
            "7/7 [==============================] - 0s 16ms/step - loss: 21.8632 - accuracy: 0.0000e+00 - val_loss: 25.6100 - val_accuracy: 0.0000e+00\n",
            "Epoch 305/400\n",
            "7/7 [==============================] - 0s 16ms/step - loss: 22.2054 - accuracy: 0.0000e+00 - val_loss: 28.0670 - val_accuracy: 0.0000e+00\n",
            "Epoch 306/400\n",
            "7/7 [==============================] - 0s 16ms/step - loss: 24.1262 - accuracy: 0.0000e+00 - val_loss: 26.7356 - val_accuracy: 0.0000e+00\n",
            "Epoch 307/400\n",
            "7/7 [==============================] - 0s 18ms/step - loss: 23.7834 - accuracy: 0.0000e+00 - val_loss: 27.3913 - val_accuracy: 0.0000e+00\n",
            "Epoch 308/400\n",
            "7/7 [==============================] - 0s 16ms/step - loss: 25.3469 - accuracy: 0.0000e+00 - val_loss: 36.5752 - val_accuracy: 0.0000e+00\n",
            "Epoch 309/400\n",
            "7/7 [==============================] - 0s 16ms/step - loss: 24.3317 - accuracy: 0.0000e+00 - val_loss: 32.6221 - val_accuracy: 0.0000e+00\n",
            "Epoch 310/400\n",
            "7/7 [==============================] - 0s 15ms/step - loss: 24.2057 - accuracy: 0.0000e+00 - val_loss: 30.0983 - val_accuracy: 0.0000e+00\n",
            "Epoch 311/400\n",
            "7/7 [==============================] - 0s 15ms/step - loss: 24.7123 - accuracy: 0.0000e+00 - val_loss: 31.8089 - val_accuracy: 0.0000e+00\n",
            "Epoch 312/400\n",
            "7/7 [==============================] - 0s 16ms/step - loss: 23.9273 - accuracy: 0.0000e+00 - val_loss: 28.3125 - val_accuracy: 0.0000e+00\n",
            "Epoch 313/400\n",
            "7/7 [==============================] - 0s 15ms/step - loss: 21.9093 - accuracy: 0.0000e+00 - val_loss: 30.1505 - val_accuracy: 0.0000e+00\n",
            "Epoch 314/400\n",
            "7/7 [==============================] - 0s 17ms/step - loss: 25.0271 - accuracy: 0.0000e+00 - val_loss: 32.8212 - val_accuracy: 0.0000e+00\n",
            "Epoch 315/400\n",
            "7/7 [==============================] - 0s 17ms/step - loss: 28.9283 - accuracy: 0.0000e+00 - val_loss: 27.8931 - val_accuracy: 0.0000e+00\n",
            "Epoch 316/400\n",
            "7/7 [==============================] - 0s 15ms/step - loss: 31.1972 - accuracy: 0.0000e+00 - val_loss: 30.8887 - val_accuracy: 0.0000e+00\n",
            "Epoch 317/400\n",
            "7/7 [==============================] - 0s 16ms/step - loss: 23.5347 - accuracy: 0.0000e+00 - val_loss: 27.0690 - val_accuracy: 0.0000e+00\n",
            "Epoch 318/400\n",
            "7/7 [==============================] - 0s 17ms/step - loss: 21.9326 - accuracy: 0.0000e+00 - val_loss: 26.3051 - val_accuracy: 0.0000e+00\n",
            "Epoch 319/400\n",
            "7/7 [==============================] - 0s 15ms/step - loss: 21.8445 - accuracy: 0.0000e+00 - val_loss: 28.6640 - val_accuracy: 0.0000e+00\n",
            "Epoch 320/400\n",
            "7/7 [==============================] - 0s 15ms/step - loss: 22.5132 - accuracy: 0.0000e+00 - val_loss: 27.5752 - val_accuracy: 0.0000e+00\n",
            "Epoch 321/400\n",
            "7/7 [==============================] - 0s 15ms/step - loss: 24.0524 - accuracy: 0.0000e+00 - val_loss: 31.0060 - val_accuracy: 0.0000e+00\n",
            "Epoch 322/400\n",
            "7/7 [==============================] - 0s 17ms/step - loss: 22.4894 - accuracy: 0.0000e+00 - val_loss: 26.3360 - val_accuracy: 0.0000e+00\n",
            "Epoch 323/400\n",
            "7/7 [==============================] - 0s 18ms/step - loss: 21.6152 - accuracy: 0.0000e+00 - val_loss: 25.7853 - val_accuracy: 0.0000e+00\n",
            "Epoch 324/400\n",
            "7/7 [==============================] - 0s 18ms/step - loss: 21.9154 - accuracy: 0.0000e+00 - val_loss: 26.3369 - val_accuracy: 0.0000e+00\n",
            "Epoch 325/400\n",
            "7/7 [==============================] - 0s 15ms/step - loss: 22.8249 - accuracy: 0.0000e+00 - val_loss: 28.8671 - val_accuracy: 0.0000e+00\n",
            "Epoch 326/400\n",
            "7/7 [==============================] - 0s 17ms/step - loss: 22.4809 - accuracy: 0.0000e+00 - val_loss: 27.9262 - val_accuracy: 0.0000e+00\n",
            "Epoch 327/400\n",
            "7/7 [==============================] - 0s 15ms/step - loss: 24.0160 - accuracy: 0.0000e+00 - val_loss: 26.8542 - val_accuracy: 0.0000e+00\n",
            "Epoch 328/400\n",
            "7/7 [==============================] - 0s 16ms/step - loss: 22.9289 - accuracy: 0.0000e+00 - val_loss: 26.5551 - val_accuracy: 0.0000e+00\n",
            "Epoch 329/400\n",
            "7/7 [==============================] - 0s 18ms/step - loss: 22.1431 - accuracy: 0.0000e+00 - val_loss: 29.4685 - val_accuracy: 0.0000e+00\n",
            "Epoch 330/400\n",
            "7/7 [==============================] - 0s 15ms/step - loss: 26.0559 - accuracy: 0.0000e+00 - val_loss: 31.8703 - val_accuracy: 0.0000e+00\n",
            "Epoch 331/400\n",
            "7/7 [==============================] - 0s 18ms/step - loss: 31.1650 - accuracy: 0.0000e+00 - val_loss: 27.5508 - val_accuracy: 0.0000e+00\n",
            "Epoch 332/400\n",
            "7/7 [==============================] - 0s 15ms/step - loss: 27.2355 - accuracy: 0.0000e+00 - val_loss: 29.3930 - val_accuracy: 0.0000e+00\n",
            "Epoch 333/400\n",
            "7/7 [==============================] - 0s 16ms/step - loss: 21.8048 - accuracy: 0.0000e+00 - val_loss: 28.8094 - val_accuracy: 0.0000e+00\n",
            "Epoch 334/400\n",
            "7/7 [==============================] - 0s 17ms/step - loss: 22.4581 - accuracy: 0.0000e+00 - val_loss: 27.0450 - val_accuracy: 0.0000e+00\n",
            "Epoch 335/400\n",
            "7/7 [==============================] - 0s 16ms/step - loss: 23.3815 - accuracy: 0.0000e+00 - val_loss: 25.4939 - val_accuracy: 0.0000e+00\n",
            "Epoch 336/400\n",
            "7/7 [==============================] - 0s 15ms/step - loss: 22.3780 - accuracy: 0.0000e+00 - val_loss: 26.2651 - val_accuracy: 0.0000e+00\n",
            "Epoch 337/400\n",
            "7/7 [==============================] - 0s 14ms/step - loss: 23.8430 - accuracy: 0.0000e+00 - val_loss: 25.7954 - val_accuracy: 0.0000e+00\n",
            "Epoch 338/400\n",
            "7/7 [==============================] - 0s 16ms/step - loss: 23.0074 - accuracy: 0.0000e+00 - val_loss: 29.5795 - val_accuracy: 0.0000e+00\n",
            "Epoch 339/400\n",
            "7/7 [==============================] - 0s 46ms/step - loss: 22.9581 - accuracy: 0.0000e+00 - val_loss: 29.8800 - val_accuracy: 0.0000e+00\n",
            "Epoch 340/400\n",
            "7/7 [==============================] - 0s 15ms/step - loss: 22.4062 - accuracy: 0.0000e+00 - val_loss: 26.8330 - val_accuracy: 0.0000e+00\n",
            "Epoch 341/400\n",
            "7/7 [==============================] - 0s 15ms/step - loss: 22.5482 - accuracy: 0.0000e+00 - val_loss: 26.2274 - val_accuracy: 0.0000e+00\n",
            "Epoch 342/400\n",
            "7/7 [==============================] - 0s 17ms/step - loss: 21.8859 - accuracy: 0.0000e+00 - val_loss: 27.3400 - val_accuracy: 0.0000e+00\n",
            "Epoch 343/400\n",
            "7/7 [==============================] - 0s 19ms/step - loss: 22.2103 - accuracy: 0.0000e+00 - val_loss: 31.3491 - val_accuracy: 0.0000e+00\n",
            "Epoch 344/400\n",
            "7/7 [==============================] - 0s 15ms/step - loss: 25.1742 - accuracy: 0.0000e+00 - val_loss: 32.4236 - val_accuracy: 0.0000e+00\n",
            "Epoch 345/400\n",
            "7/7 [==============================] - 0s 17ms/step - loss: 28.1558 - accuracy: 0.0000e+00 - val_loss: 31.0255 - val_accuracy: 0.0000e+00\n",
            "Epoch 346/400\n",
            "7/7 [==============================] - 0s 19ms/step - loss: 29.6737 - accuracy: 0.0000e+00 - val_loss: 30.0205 - val_accuracy: 0.0000e+00\n",
            "Epoch 347/400\n",
            "7/7 [==============================] - 0s 17ms/step - loss: 23.3022 - accuracy: 0.0000e+00 - val_loss: 25.5369 - val_accuracy: 0.0000e+00\n",
            "Epoch 348/400\n",
            "7/7 [==============================] - 0s 17ms/step - loss: 22.6257 - accuracy: 0.0000e+00 - val_loss: 31.7382 - val_accuracy: 0.0000e+00\n",
            "Epoch 349/400\n",
            "7/7 [==============================] - 0s 16ms/step - loss: 25.9678 - accuracy: 0.0000e+00 - val_loss: 31.3805 - val_accuracy: 0.0000e+00\n",
            "Epoch 350/400\n",
            "7/7 [==============================] - 0s 18ms/step - loss: 27.1090 - accuracy: 0.0000e+00 - val_loss: 28.7611 - val_accuracy: 0.0000e+00\n",
            "Epoch 351/400\n",
            "7/7 [==============================] - 0s 17ms/step - loss: 28.9649 - accuracy: 0.0000e+00 - val_loss: 33.9997 - val_accuracy: 0.0000e+00\n",
            "Epoch 352/400\n",
            "7/7 [==============================] - 0s 16ms/step - loss: 25.5602 - accuracy: 0.0000e+00 - val_loss: 37.3680 - val_accuracy: 0.0000e+00\n",
            "Epoch 353/400\n",
            "7/7 [==============================] - 0s 16ms/step - loss: 26.4592 - accuracy: 0.0000e+00 - val_loss: 31.2276 - val_accuracy: 0.0000e+00\n",
            "Epoch 354/400\n",
            "7/7 [==============================] - 0s 18ms/step - loss: 27.6132 - accuracy: 0.0000e+00 - val_loss: 31.0645 - val_accuracy: 0.0000e+00\n",
            "Epoch 355/400\n",
            "7/7 [==============================] - 0s 17ms/step - loss: 24.2513 - accuracy: 0.0000e+00 - val_loss: 26.7958 - val_accuracy: 0.0000e+00\n",
            "Epoch 356/400\n",
            "7/7 [==============================] - 0s 16ms/step - loss: 23.0514 - accuracy: 0.0000e+00 - val_loss: 25.6396 - val_accuracy: 0.0000e+00\n",
            "Epoch 357/400\n",
            "7/7 [==============================] - 0s 16ms/step - loss: 22.7759 - accuracy: 0.0000e+00 - val_loss: 27.7674 - val_accuracy: 0.0000e+00\n",
            "Epoch 358/400\n",
            "7/7 [==============================] - 0s 18ms/step - loss: 22.2449 - accuracy: 0.0000e+00 - val_loss: 30.0149 - val_accuracy: 0.0000e+00\n",
            "Epoch 359/400\n",
            "7/7 [==============================] - 0s 17ms/step - loss: 22.4260 - accuracy: 0.0000e+00 - val_loss: 33.1569 - val_accuracy: 0.0000e+00\n",
            "Epoch 360/400\n",
            "7/7 [==============================] - 0s 16ms/step - loss: 24.9893 - accuracy: 0.0000e+00 - val_loss: 27.5032 - val_accuracy: 0.0000e+00\n",
            "Epoch 361/400\n",
            "7/7 [==============================] - 0s 16ms/step - loss: 21.6990 - accuracy: 0.0000e+00 - val_loss: 37.9725 - val_accuracy: 0.0000e+00\n",
            "Epoch 362/400\n",
            "7/7 [==============================] - 0s 17ms/step - loss: 29.1667 - accuracy: 0.0000e+00 - val_loss: 37.3275 - val_accuracy: 0.0000e+00\n",
            "Epoch 363/400\n",
            "7/7 [==============================] - 0s 16ms/step - loss: 27.3071 - accuracy: 0.0000e+00 - val_loss: 26.1507 - val_accuracy: 0.0000e+00\n",
            "Epoch 364/400\n",
            "7/7 [==============================] - 0s 18ms/step - loss: 23.6566 - accuracy: 0.0000e+00 - val_loss: 25.9698 - val_accuracy: 0.0000e+00\n",
            "Epoch 365/400\n",
            "7/7 [==============================] - 0s 19ms/step - loss: 21.6789 - accuracy: 0.0000e+00 - val_loss: 26.2223 - val_accuracy: 0.0000e+00\n",
            "Epoch 366/400\n",
            "7/7 [==============================] - 0s 15ms/step - loss: 21.7280 - accuracy: 0.0000e+00 - val_loss: 25.9722 - val_accuracy: 0.0000e+00\n",
            "Epoch 367/400\n",
            "7/7 [==============================] - 0s 18ms/step - loss: 21.7616 - accuracy: 0.0000e+00 - val_loss: 25.9863 - val_accuracy: 0.0000e+00\n",
            "Epoch 368/400\n",
            "7/7 [==============================] - 0s 16ms/step - loss: 22.4402 - accuracy: 0.0000e+00 - val_loss: 28.8237 - val_accuracy: 0.0000e+00\n",
            "Epoch 369/400\n",
            "7/7 [==============================] - 0s 16ms/step - loss: 25.5403 - accuracy: 0.0000e+00 - val_loss: 25.9341 - val_accuracy: 0.0000e+00\n",
            "Epoch 370/400\n",
            "7/7 [==============================] - 0s 17ms/step - loss: 23.7711 - accuracy: 0.0000e+00 - val_loss: 25.8923 - val_accuracy: 0.0000e+00\n",
            "Epoch 371/400\n",
            "7/7 [==============================] - 0s 15ms/step - loss: 21.3316 - accuracy: 0.0000e+00 - val_loss: 26.3227 - val_accuracy: 0.0000e+00\n",
            "Epoch 372/400\n",
            "7/7 [==============================] - 0s 16ms/step - loss: 21.9657 - accuracy: 0.0000e+00 - val_loss: 26.4865 - val_accuracy: 0.0000e+00\n",
            "Epoch 373/400\n",
            "7/7 [==============================] - 0s 16ms/step - loss: 21.8509 - accuracy: 0.0000e+00 - val_loss: 28.4294 - val_accuracy: 0.0000e+00\n",
            "Epoch 374/400\n",
            "7/7 [==============================] - 0s 16ms/step - loss: 23.2309 - accuracy: 0.0000e+00 - val_loss: 26.3975 - val_accuracy: 0.0000e+00\n",
            "Epoch 375/400\n",
            "7/7 [==============================] - 0s 16ms/step - loss: 23.2875 - accuracy: 0.0000e+00 - val_loss: 26.3480 - val_accuracy: 0.0000e+00\n",
            "Epoch 376/400\n",
            "7/7 [==============================] - 0s 17ms/step - loss: 21.5260 - accuracy: 0.0000e+00 - val_loss: 27.8128 - val_accuracy: 0.0000e+00\n",
            "Epoch 377/400\n",
            "7/7 [==============================] - 0s 17ms/step - loss: 22.5763 - accuracy: 0.0000e+00 - val_loss: 38.3879 - val_accuracy: 0.0000e+00\n",
            "Epoch 378/400\n",
            "7/7 [==============================] - 0s 18ms/step - loss: 27.8125 - accuracy: 0.0000e+00 - val_loss: 33.1031 - val_accuracy: 0.0000e+00\n",
            "Epoch 379/400\n",
            "7/7 [==============================] - 0s 16ms/step - loss: 24.7802 - accuracy: 0.0000e+00 - val_loss: 28.4413 - val_accuracy: 0.0000e+00\n",
            "Epoch 380/400\n",
            "7/7 [==============================] - 0s 16ms/step - loss: 22.2190 - accuracy: 0.0000e+00 - val_loss: 27.7540 - val_accuracy: 0.0000e+00\n",
            "Epoch 381/400\n",
            "7/7 [==============================] - 0s 16ms/step - loss: 23.1923 - accuracy: 0.0000e+00 - val_loss: 29.8703 - val_accuracy: 0.0000e+00\n",
            "Epoch 382/400\n",
            "7/7 [==============================] - 0s 16ms/step - loss: 25.9617 - accuracy: 0.0000e+00 - val_loss: 28.0913 - val_accuracy: 0.0000e+00\n",
            "Epoch 383/400\n",
            "7/7 [==============================] - 0s 18ms/step - loss: 21.4005 - accuracy: 0.0000e+00 - val_loss: 25.8775 - val_accuracy: 0.0000e+00\n",
            "Epoch 384/400\n",
            "7/7 [==============================] - 0s 17ms/step - loss: 21.6194 - accuracy: 0.0000e+00 - val_loss: 26.4108 - val_accuracy: 0.0000e+00\n",
            "Epoch 385/400\n",
            "7/7 [==============================] - 0s 45ms/step - loss: 23.3570 - accuracy: 0.0000e+00 - val_loss: 25.0295 - val_accuracy: 0.0000e+00\n",
            "Epoch 386/400\n",
            "7/7 [==============================] - 0s 17ms/step - loss: 27.4347 - accuracy: 0.0000e+00 - val_loss: 29.4676 - val_accuracy: 0.0000e+00\n",
            "Epoch 387/400\n",
            "7/7 [==============================] - 0s 17ms/step - loss: 26.1401 - accuracy: 0.0000e+00 - val_loss: 30.7142 - val_accuracy: 0.0000e+00\n",
            "Epoch 388/400\n",
            "7/7 [==============================] - 0s 16ms/step - loss: 25.3604 - accuracy: 0.0000e+00 - val_loss: 33.8007 - val_accuracy: 0.0000e+00\n",
            "Epoch 389/400\n",
            "7/7 [==============================] - 0s 15ms/step - loss: 25.6327 - accuracy: 0.0000e+00 - val_loss: 24.8014 - val_accuracy: 0.0000e+00\n",
            "Epoch 390/400\n",
            "7/7 [==============================] - 0s 16ms/step - loss: 21.7199 - accuracy: 0.0000e+00 - val_loss: 26.4259 - val_accuracy: 0.0000e+00\n",
            "Epoch 391/400\n",
            "7/7 [==============================] - 0s 15ms/step - loss: 22.8161 - accuracy: 0.0000e+00 - val_loss: 25.1165 - val_accuracy: 0.0000e+00\n",
            "Epoch 392/400\n",
            "7/7 [==============================] - 0s 18ms/step - loss: 21.4248 - accuracy: 0.0000e+00 - val_loss: 26.6203 - val_accuracy: 0.0000e+00\n",
            "Epoch 393/400\n",
            "7/7 [==============================] - 0s 15ms/step - loss: 22.6799 - accuracy: 0.0000e+00 - val_loss: 27.0448 - val_accuracy: 0.0000e+00\n",
            "Epoch 394/400\n",
            "7/7 [==============================] - 0s 18ms/step - loss: 24.2518 - accuracy: 0.0000e+00 - val_loss: 26.7923 - val_accuracy: 0.0000e+00\n",
            "Epoch 395/400\n",
            "7/7 [==============================] - 0s 18ms/step - loss: 22.0129 - accuracy: 0.0000e+00 - val_loss: 26.0272 - val_accuracy: 0.0000e+00\n",
            "Epoch 396/400\n",
            "7/7 [==============================] - 0s 16ms/step - loss: 22.9694 - accuracy: 0.0000e+00 - val_loss: 41.5593 - val_accuracy: 0.0000e+00\n",
            "Epoch 397/400\n",
            "7/7 [==============================] - 0s 15ms/step - loss: 25.8227 - accuracy: 0.0000e+00 - val_loss: 31.9973 - val_accuracy: 0.0000e+00\n",
            "Epoch 398/400\n",
            "7/7 [==============================] - 0s 15ms/step - loss: 26.3789 - accuracy: 0.0000e+00 - val_loss: 27.1372 - val_accuracy: 0.0000e+00\n",
            "Epoch 399/400\n",
            "7/7 [==============================] - 0s 16ms/step - loss: 25.0908 - accuracy: 0.0000e+00 - val_loss: 24.9357 - val_accuracy: 0.0000e+00\n",
            "Epoch 400/400\n",
            "7/7 [==============================] - 0s 19ms/step - loss: 22.9990 - accuracy: 0.0000e+00 - val_loss: 26.0804 - val_accuracy: 0.0000e+00\n"
          ],
          "name": "stdout"
        }
      ]
    },
    {
      "cell_type": "markdown",
      "metadata": {
        "id": "cZXeJrHrz92E"
      },
      "source": [
        "# Sequetial.add 사용하기"
      ]
    },
    {
      "cell_type": "code",
      "metadata": {
        "colab": {
          "base_uri": "https://localhost:8080/"
        },
        "id": "xSnMFXzlz80i",
        "outputId": "d241907a-c9c0-42de-e0a3-623d89e07b15"
      },
      "source": [
        "model2 = models.Sequential()\r\n",
        "\r\n",
        "model2.add(layers.Input(shape=(13)))\r\n",
        "\r\n",
        "print(model2.summary())\r\n",
        "model2.add(layers.Dense(units=64))\r\n",
        "model2.add(layers.Activation(activation='relu'))\r\n",
        "\r\n",
        "print(model2.summary())\r\n",
        "model2.add(layers.Dense(units=8))\r\n",
        "model2.add(layers.Activation(activation='relu'))\r\n",
        "\r\n",
        "# output의 변화 확인하기\r\n",
        "print(model2.outputs)\r\n",
        "model2.add(layers.Dense(1))\r\n",
        "\r\n",
        "# output의 변화 확인하기\r\n",
        "print(model2.outputs)\r\n",
        "# 마지막 summary 확인하기\r\n",
        "print(\"=\"*100)\r\n",
        "print(model2.summary())\r\n",
        "\r\n",
        "model2.compile(loss='mse',\r\n",
        "               optimizer='adam',\r\n",
        "               metrics='accuracy')"
      ],
      "execution_count": 61,
      "outputs": [
        {
          "output_type": "stream",
          "text": [
            "Model: \"sequential_3\"\n",
            "_________________________________________________________________\n",
            "Layer (type)                 Output Shape              Param #   \n",
            "=================================================================\n",
            "Total params: 0\n",
            "Trainable params: 0\n",
            "Non-trainable params: 0\n",
            "_________________________________________________________________\n",
            "None\n",
            "Model: \"sequential_3\"\n",
            "_________________________________________________________________\n",
            "Layer (type)                 Output Shape              Param #   \n",
            "=================================================================\n",
            "dense_27 (Dense)             (None, 64)                896       \n",
            "_________________________________________________________________\n",
            "activation_17 (Activation)   (None, 64)                0         \n",
            "=================================================================\n",
            "Total params: 896\n",
            "Trainable params: 896\n",
            "Non-trainable params: 0\n",
            "_________________________________________________________________\n",
            "None\n",
            "[<KerasTensor: shape=(None, 8) dtype=float32 (created by layer 'activation_18')>]\n",
            "[<KerasTensor: shape=(None, 1) dtype=float32 (created by layer 'dense_29')>]\n",
            "====================================================================================================\n",
            "Model: \"sequential_3\"\n",
            "_________________________________________________________________\n",
            "Layer (type)                 Output Shape              Param #   \n",
            "=================================================================\n",
            "dense_27 (Dense)             (None, 64)                896       \n",
            "_________________________________________________________________\n",
            "activation_17 (Activation)   (None, 64)                0         \n",
            "_________________________________________________________________\n",
            "dense_28 (Dense)             (None, 8)                 520       \n",
            "_________________________________________________________________\n",
            "activation_18 (Activation)   (None, 8)                 0         \n",
            "_________________________________________________________________\n",
            "dense_29 (Dense)             (None, 1)                 9         \n",
            "=================================================================\n",
            "Total params: 1,425\n",
            "Trainable params: 1,425\n",
            "Non-trainable params: 0\n",
            "_________________________________________________________________\n",
            "None\n"
          ],
          "name": "stdout"
        }
      ]
    },
    {
      "cell_type": "markdown",
      "metadata": {
        "id": "CIuisX552YFR"
      },
      "source": [
        "## tarin sequential model"
      ]
    },
    {
      "cell_type": "code",
      "metadata": {
        "colab": {
          "base_uri": "https://localhost:8080/"
        },
        "id": "bOYq7LOZ1QFi",
        "outputId": "b16532f8-f794-4513-9a23-76c0df50fe7f"
      },
      "source": [
        "model2.fit(x_train,\r\n",
        "           y_train,\r\n",
        "           batch_size=64,\r\n",
        "           epochs=300,\r\n",
        "           verbose=0,\r\n",
        "           validation_data=(x_test, y_test),\r\n",
        "           validation_split=.3)"
      ],
      "execution_count": 64,
      "outputs": [
        {
          "output_type": "execute_result",
          "data": {
            "text/plain": [
              "<tensorflow.python.keras.callbacks.History at 0x7f831bcff588>"
            ]
          },
          "metadata": {
            "tags": []
          },
          "execution_count": 64
        }
      ]
    },
    {
      "cell_type": "markdown",
      "metadata": {
        "id": "tQwOBCd82d4c"
      },
      "source": [
        "## 검증"
      ]
    },
    {
      "cell_type": "code",
      "metadata": {
        "colab": {
          "base_uri": "https://localhost:8080/"
        },
        "id": "6sMsWHvq2FPA",
        "outputId": "f6c8f978-c34f-4951-e68b-51c905258d6d"
      },
      "source": [
        "score = model2.evaluate(x_test, y_test)\r\n",
        "print(score)"
      ],
      "execution_count": 66,
      "outputs": [
        {
          "output_type": "stream",
          "text": [
            "4/4 [==============================] - 0s 3ms/step - loss: 30.5835 - accuracy: 0.0000e+00\n",
            "[30.583515167236328, 0.0]\n"
          ],
          "name": "stdout"
        }
      ]
    },
    {
      "cell_type": "markdown",
      "metadata": {
        "id": "QZjtFWhszYqo"
      },
      "source": [
        "# 복습: 시각화 추가"
      ]
    },
    {
      "cell_type": "code",
      "metadata": {
        "id": "neYMj21sj4nD"
      },
      "source": [
        "import matplotlib.pyplot as plt\r\n",
        "\r\n",
        "def plot_graphs(history, string):  # 그래프로 만들 함수\r\n",
        "    plt.plot(history.history[string])\r\n",
        "    plt.plot(history.history['val_' + string], '')\r\n",
        "    plt.xlabel(\"Epochs\")\r\n",
        "    plt.ylabel(string)\r\n",
        "    plt.legend([string, 'val_' + string])\r\n",
        "    plt.show()"
      ],
      "execution_count": 30,
      "outputs": []
    },
    {
      "cell_type": "code",
      "metadata": {
        "colab": {
          "base_uri": "https://localhost:8080/",
          "height": 279
        },
        "id": "RcYb6tJOj4_6",
        "outputId": "17e29a33-dcaf-4a1c-a342-ab93bf54e940"
      },
      "source": [
        "plot_graphs(history, 'loss')"
      ],
      "execution_count": 36,
      "outputs": [
        {
          "output_type": "display_data",
          "data": {
            "image/png": "[encoded data removed]",
            "text/plain": [
              "<Figure size 432x288 with 1 Axes>"
            ]
          },
          "metadata": {
            "tags": [],
            "needs_background": "light"
          }
        }
      ]
    },
    {
      "cell_type": "code",
      "metadata": {
        "colab": {
          "base_uri": "https://localhost:8080/",
          "height": 279
        },
        "id": "Ca2lFO9jkiVk",
        "outputId": "aec0f9b3-6318-4360-8df7-135e4506928a"
      },
      "source": [
        "plot_graphs(history, 'accuracy')"
      ],
      "execution_count": 37,
      "outputs": [
        {
          "output_type": "display_data",
          "data": {
            "image/png": "[encoded data removed]",
            "text/plain": [
              "<Figure size 432x288 with 1 Axes>"
            ]
          },
          "metadata": {
            "tags": [],
            "needs_background": "light"
          }
        }
      ]
    },
    {
      "cell_type": "markdown",
      "metadata": {
        "id": "Y9pabVHLj3EL"
      },
      "source": [
        "# history 객체 확인하기"
      ]
    },
    {
      "cell_type": "code",
      "metadata": {
        "colab": {
          "base_uri": "https://localhost:8080/"
        },
        "id": "PsjiwMNmkAfc",
        "outputId": "c28eaadd-86f4-44f5-c8f5-55d8187f0998"
      },
      "source": [
        "type(history.history)"
      ],
      "execution_count": 32,
      "outputs": [
        {
          "output_type": "execute_result",
          "data": {
            "text/plain": [
              "dict"
            ]
          },
          "metadata": {
            "tags": []
          },
          "execution_count": 32
        }
      ]
    },
    {
      "cell_type": "markdown",
      "metadata": {
        "id": "x_YQ_DRhzjbs"
      },
      "source": [
        "dictionary"
      ]
    },
    {
      "cell_type": "code",
      "metadata": {
        "colab": {
          "base_uri": "https://localhost:8080/"
        },
        "id": "q3y8abeAlaO0",
        "outputId": "530a0057-8e32-46fd-d89f-312bc8736ce7"
      },
      "source": [
        "x_test[0]"
      ],
      "execution_count": 48,
      "outputs": [
        {
          "output_type": "execute_result",
          "data": {
            "text/plain": [
              "array([ 18.0846,   0.    ,  18.1   ,   0.    ,   0.679 ,   6.434 ,\n",
              "       100.    ,   1.8347,  24.    , 666.    ,  20.2   ,  27.25  ,\n",
              "        29.05  ])"
            ]
          },
          "metadata": {
            "tags": []
          },
          "execution_count": 48
        }
      ]
    },
    {
      "cell_type": "markdown",
      "metadata": {
        "id": "DICbpl3czt_z"
      },
      "source": [
        "## 첫 번째 모델 - 예측 확인하기"
      ]
    },
    {
      "cell_type": "code",
      "metadata": {
        "id": "c8U4sdXOkAo_"
      },
      "source": [
        "pred = model.predict(x_test)"
      ],
      "execution_count": 72,
      "outputs": []
    },
    {
      "cell_type": "code",
      "metadata": {
        "colab": {
          "base_uri": "https://localhost:8080/"
        },
        "id": "Fpdi1F1Qk87k",
        "outputId": "1d2eb1ff-bd5d-4e23-a4c7-3bbdcbac8818"
      },
      "source": [
        "y_test[0], pred[0]"
      ],
      "execution_count": 45,
      "outputs": [
        {
          "output_type": "execute_result",
          "data": {
            "text/plain": [
              "(7.2, array([10.882268], dtype=float32))"
            ]
          },
          "metadata": {
            "tags": []
          },
          "execution_count": 45
        }
      ]
    },
    {
      "cell_type": "code",
      "metadata": {
        "colab": {
          "base_uri": "https://localhost:8080/"
        },
        "id": "rmbSJnLtlDKB",
        "outputId": "08061933-84d7-43b3-a89f-6683dc10c325"
      },
      "source": [
        "y_test[1], pred[1]"
      ],
      "execution_count": 46,
      "outputs": [
        {
          "output_type": "execute_result",
          "data": {
            "text/plain": [
              "(18.8, array([18.684893], dtype=float32))"
            ]
          },
          "metadata": {
            "tags": []
          },
          "execution_count": 46
        }
      ]
    },
    {
      "cell_type": "code",
      "metadata": {
        "colab": {
          "base_uri": "https://localhost:8080/"
        },
        "id": "uxgd6ytUlIkA",
        "outputId": "f23a234f-377c-432c-9b13-f1c67585f493"
      },
      "source": [
        "y_test[3], pred[3]"
      ],
      "execution_count": 47,
      "outputs": [
        {
          "output_type": "execute_result",
          "data": {
            "text/plain": [
              "(27.0, array([27.912283], dtype=float32))"
            ]
          },
          "metadata": {
            "tags": []
          },
          "execution_count": 47
        }
      ]
    },
    {
      "cell_type": "markdown",
      "metadata": {
        "id": "DF1cqCls2hVs"
      },
      "source": [
        "## 두 번째 모델 - 예측 확인하기"
      ]
    },
    {
      "cell_type": "code",
      "metadata": {
        "id": "NZtpE9eH2g2m"
      },
      "source": [
        "pred2 = model2.predict(x_test)"
      ],
      "execution_count": 67,
      "outputs": []
    },
    {
      "cell_type": "code",
      "metadata": {
        "colab": {
          "base_uri": "https://localhost:8080/"
        },
        "id": "HewSzKvu2R8H",
        "outputId": "0f68863f-9af9-47bd-aa32-8136abeac848"
      },
      "source": [
        "y_test[1], pred2[1]"
      ],
      "execution_count": 69,
      "outputs": [
        {
          "output_type": "execute_result",
          "data": {
            "text/plain": [
              "(18.8, array([19.66149], dtype=float32))"
            ]
          },
          "metadata": {
            "tags": []
          },
          "execution_count": 69
        }
      ]
    },
    {
      "cell_type": "code",
      "metadata": {
        "colab": {
          "base_uri": "https://localhost:8080/"
        },
        "id": "JyjXdMUd2ve4",
        "outputId": "9dd19e2b-cb6f-4e19-9896-5a52ebf151a2"
      },
      "source": [
        "y_test[2], pred2[2]"
      ],
      "execution_count": 70,
      "outputs": [
        {
          "output_type": "execute_result",
          "data": {
            "text/plain": [
              "(19.0, array([22.638556], dtype=float32))"
            ]
          },
          "metadata": {
            "tags": []
          },
          "execution_count": 70
        }
      ]
    },
    {
      "cell_type": "code",
      "metadata": {
        "colab": {
          "base_uri": "https://localhost:8080/"
        },
        "id": "Kzjq9Xi_2xpc",
        "outputId": "8441111d-a70a-4056-ae32-954b82ea9b83"
      },
      "source": [
        "y_test[7], pred[7]"
      ],
      "execution_count": 71,
      "outputs": [
        {
          "output_type": "execute_result",
          "data": {
            "text/plain": [
              "(22.9, array([23.76822], dtype=float32))"
            ]
          },
          "metadata": {
            "tags": []
          },
          "execution_count": 71
        }
      ]
    }
  ]
}
{
  "nbformat": 4,
  "nbformat_minor": 0,
  "metadata": {
    "colab": {
      "name": "edu/_000_iris_손글씨.ipynb",
      "provenance": [],
      "collapsed_sections": [],
      "authorship_tag": "ABX9TyMvVl60oxsnkXU8qT/G3wln",
      "include_colab_link": true
    },
    "kernelspec": {
      "name": "python3",
      "display_name": "Python 3"
    }
  },
  "cells": [
    {
      "cell_type": "markdown",
      "metadata": {
        "id": "view-in-github",
        "colab_type": "text"
      },
      "source": [
        "<a href=\"https://colab.research.google.com/github/wiv33/A-Learning-python/blob/master/machine-learning/_000_hello_machine/_003_study_essential/_000_mnist/_000_mnist.ipynb\" target=\"_parent\"><img src=\"https://colab.research.google.com/assets/colab-badge.svg\" alt=\"Open In Colab\"/></a>"
      ]
    },
    {
      "cell_type": "markdown",
      "metadata": {
        "id": "OffU6jbjLMyp"
      },
      "source": [
        "# 아이리스 손글씨 데이터로 시작하는 Hello machine learning"
      ]
    },
    {
      "cell_type": "code",
      "metadata": {
        "colab": {
          "base_uri": "https://localhost:8080/"
        },
        "id": "1Q87aFBdK2zM",
        "outputId": "bf0d4108-f34d-478d-c99a-8627b8ea544c"
      },
      "source": [
        "from tensorflow.keras.datasets import mnist\r\n",
        "\r\n",
        "(x_train, y_train), (x_test, y_test) = mnist.load_data('iris')"
      ],
      "execution_count": null,
      "outputs": [
        {
          "output_type": "stream",
          "text": [
            "Downloading data from https://storage.googleapis.com/tensorflow/tf-keras-datasets/mnist.npz\n",
            "11493376/11490434 [==============================] - 0s 0us/step\n"
          ],
          "name": "stdout"
        }
      ]
    },
    {
      "cell_type": "markdown",
      "metadata": {
        "id": "q8vVjAsFLLXe"
      },
      "source": [
        "## ***데이터***엔 **무엇**이 있습니까? ~~(교수님 버전)~~"
      ]
    },
    {
      "cell_type": "code",
      "metadata": {
        "id": "F8Z5ZRutLGdP"
      },
      "source": [
        "# 코드와 주석을 작성해주세요!"
      ],
      "execution_count": null,
      "outputs": []
    }
  ]
}
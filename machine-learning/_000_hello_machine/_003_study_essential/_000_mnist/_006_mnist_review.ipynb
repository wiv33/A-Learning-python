{
  "nbformat": 4,
  "nbformat_minor": 0,
  "metadata": {
    "colab": {
      "name": "aEduExample/_006_mnist_review.ipynb",
      "provenance": [],
      "toc_visible": true,
      "authorship_tag": "ABX9TyNih/0ybSGKgHJeQQ6OurrH",
      "include_colab_link": true
    },
    "kernelspec": {
      "name": "python3",
      "display_name": "Python 3"
    },
    "accelerator": "GPU"
  },
  "cells": [
    {
      "cell_type": "markdown",
      "metadata": {
        "id": "view-in-github",
        "colab_type": "text"
      },
      "source": [
        "<a href=\"https://colab.research.google.com/github/wiv33/A-Learning-python/blob/master/machine-learning/_000_hello_machine/_003_study_essential/_000_mnist/_006_mnist_review.ipynb\" target=\"_parent\"><img src=\"https://colab.research.google.com/assets/colab-badge.svg\" alt=\"Open In Colab\"/></a>"
      ]
    },
    {
      "cell_type": "markdown",
      "metadata": {
        "id": "BzRylDA2pMcT"
      },
      "source": [
        "# Load data"
      ]
    },
    {
      "cell_type": "code",
      "metadata": {
        "id": "3pxzW7OUmmoy"
      },
      "source": [
        "import numpy as np\r\n",
        "from keras.datasets import mnist\r\n",
        "from tensorflow.keras import layers, models, utils\r\n",
        "import matplotlib.pyplot as plt"
      ],
      "execution_count": 1,
      "outputs": []
    },
    {
      "cell_type": "code",
      "metadata": {
        "colab": {
          "base_uri": "https://localhost:8080/"
        },
        "id": "lqQjq4DVn59f",
        "outputId": "c3731815-a7c2-419a-ccc5-e7c6cae5a580"
      },
      "source": [
        "# tag::load data[]\r\n",
        "(x_train, y_train), (x_test, y_test) = mnist.load_data()\r\n",
        "# end::load data[]"
      ],
      "execution_count": 2,
      "outputs": [
        {
          "output_type": "stream",
          "text": [
            "Downloading data from https://storage.googleapis.com/tensorflow/tf-keras-datasets/mnist.npz\n",
            "11493376/11490434 [==============================] - 0s 0us/step\n"
          ],
          "name": "stdout"
        }
      ]
    },
    {
      "cell_type": "markdown",
      "metadata": {
        "id": "Fady5KnZpQ11"
      },
      "source": [
        "## shape 확인"
      ]
    },
    {
      "cell_type": "code",
      "metadata": {
        "colab": {
          "base_uri": "https://localhost:8080/"
        },
        "id": "xfJDbonpoptr",
        "outputId": "6b0769b8-f142-4789-da1e-0bbd1af957fd"
      },
      "source": [
        "x_train.shape, y_train.shape"
      ],
      "execution_count": 3,
      "outputs": [
        {
          "output_type": "execute_result",
          "data": {
            "text/plain": [
              "((60000, 28, 28), (60000,))"
            ]
          },
          "metadata": {
            "tags": []
          },
          "execution_count": 3
        }
      ]
    },
    {
      "cell_type": "code",
      "metadata": {
        "colab": {
          "base_uri": "https://localhost:8080/"
        },
        "id": "7Jo7iwlNpjrv",
        "outputId": "45e281ed-4422-4e6b-9f17-409c9758c6ab"
      },
      "source": [
        "x_test.shape, y_test.shape"
      ],
      "execution_count": 4,
      "outputs": [
        {
          "output_type": "execute_result",
          "data": {
            "text/plain": [
              "((10000, 28, 28), (10000,))"
            ]
          },
          "metadata": {
            "tags": []
          },
          "execution_count": 4
        }
      ]
    },
    {
      "cell_type": "code",
      "metadata": {
        "colab": {
          "base_uri": "https://localhost:8080/",
          "height": 283
        },
        "id": "X_HQaYGHp5R9",
        "outputId": "014ece15-0d4f-4cb8-a992-db4ee352d011"
      },
      "source": [
        "plt.imshow(x_train[5], cmap='gray')"
      ],
      "execution_count": 5,
      "outputs": [
        {
          "output_type": "execute_result",
          "data": {
            "text/plain": [
              "<matplotlib.image.AxesImage at 0x7f018b5d1cf8>"
            ]
          },
          "metadata": {
            "tags": []
          },
          "execution_count": 5
        },
        {
          "output_type": "display_data",
          "data": {
            "image/png": "[encoded data removed]",
            "text/plain": [
              "<Figure size 432x288 with 1 Axes>"
            ]
          },
          "metadata": {
            "tags": [],
            "needs_background": "light"
          }
        }
      ]
    },
    {
      "cell_type": "markdown",
      "metadata": {
        "id": "t_tKk4hcqyrw"
      },
      "source": [
        "## 정답 확인"
      ]
    },
    {
      "cell_type": "code",
      "metadata": {
        "colab": {
          "base_uri": "https://localhost:8080/"
        },
        "id": "CuXUjNhqqvQS",
        "outputId": "30f9ded4-f75f-4fd8-da5d-57af62839c72"
      },
      "source": [
        "y_train[5]"
      ],
      "execution_count": 6,
      "outputs": [
        {
          "output_type": "execute_result",
          "data": {
            "text/plain": [
              "2"
            ]
          },
          "metadata": {
            "tags": []
          },
          "execution_count": 6
        }
      ]
    },
    {
      "cell_type": "markdown",
      "metadata": {
        "id": "tXfpncYdq7dW"
      },
      "source": [
        "# 수치 낮추기"
      ]
    },
    {
      "cell_type": "code",
      "metadata": {
        "id": "GapWjinkq6gc"
      },
      "source": [
        "x_train, x_test = x_train / 255.0 , x_test / 255.0"
      ],
      "execution_count": 7,
      "outputs": []
    },
    {
      "cell_type": "markdown",
      "metadata": {
        "id": "trcIgZKvr0tn"
      },
      "source": [
        "# build model by functional"
      ]
    },
    {
      "cell_type": "code",
      "metadata": {
        "id": "YKEM0epVrylE"
      },
      "source": [
        "input = layers.Input(shape=(28, 28))\r\n",
        "H = layers.Flatten()(input)  #  평평하게 만들기\r\n",
        "H = layers.Dense(units=256, activation='relu')(H)\r\n",
        "H = layers.Dropout(rate=0.5)(H)\r\n",
        "H = layers.Dense(128, activation='relu')(H)\r\n",
        "H = layers.Dense(32, activation='relu')(H)\r\n",
        "output = layers.Dense(10, activation='softmax')(H)  # 숫자가 0-9  == 10개\r\n",
        "\r\n",
        "model = models.Model(input, output)"
      ],
      "execution_count": 8,
      "outputs": []
    },
    {
      "cell_type": "code",
      "metadata": {
        "colab": {
          "base_uri": "https://localhost:8080/"
        },
        "id": "964hHYPjtIz3",
        "outputId": "54207728-6f49-4911-de56-d4d9b7ec4368"
      },
      "source": [
        "model.summary()"
      ],
      "execution_count": 9,
      "outputs": [
        {
          "output_type": "stream",
          "text": [
            "Model: \"model\"\n",
            "_________________________________________________________________\n",
            "Layer (type)                 Output Shape              Param #   \n",
            "=================================================================\n",
            "input_1 (InputLayer)         [(None, 28, 28)]          0         \n",
            "_________________________________________________________________\n",
            "flatten (Flatten)            (None, 784)               0         \n",
            "_________________________________________________________________\n",
            "dense (Dense)                (None, 256)               200960    \n",
            "_________________________________________________________________\n",
            "dropout (Dropout)            (None, 256)               0         \n",
            "_________________________________________________________________\n",
            "dense_1 (Dense)              (None, 128)               32896     \n",
            "_________________________________________________________________\n",
            "dense_2 (Dense)              (None, 32)                4128      \n",
            "_________________________________________________________________\n",
            "dense_3 (Dense)              (None, 10)                330       \n",
            "=================================================================\n",
            "Total params: 238,314\n",
            "Trainable params: 238,314\n",
            "Non-trainable params: 0\n",
            "_________________________________________________________________\n"
          ],
          "name": "stdout"
        }
      ]
    },
    {
      "cell_type": "markdown",
      "metadata": {
        "id": "dQv-0lnRuZNa"
      },
      "source": [
        "# compile model"
      ]
    },
    {
      "cell_type": "code",
      "metadata": {
        "id": "P6bsQLVpuYwM"
      },
      "source": [
        "from tensorflow.keras import optimizers\r\n",
        "\r\n",
        "model.compile(optimizer=optimizers.Adam(learning_rate=0.001),\r\n",
        "              loss='sparse_categorical_crossentropy',\r\n",
        "              metrics=['accuracy'])"
      ],
      "execution_count": 10,
      "outputs": []
    },
    {
      "cell_type": "markdown",
      "metadata": {
        "id": "9exZd_duuUQg"
      },
      "source": [
        "# train model"
      ]
    },
    {
      "cell_type": "code",
      "metadata": {
        "colab": {
          "base_uri": "https://localhost:8080/"
        },
        "id": "RvdxB-mtsSoI",
        "outputId": "a27238a8-8a95-42aa-bd4e-7c8843e29863"
      },
      "source": [
        "history = model.fit(x_train, \r\n",
        "                    y_train,\r\n",
        "                    epochs=10,\r\n",
        "                    batch_size=64,\r\n",
        "                    validation_data=(x_test, y_test))"
      ],
      "execution_count": 11,
      "outputs": [
        {
          "output_type": "stream",
          "text": [
            "Epoch 1/10\n",
            "938/938 [==============================] - 5s 3ms/step - loss: 0.6077 - accuracy: 0.8108 - val_loss: 0.1273 - val_accuracy: 0.9601\n",
            "Epoch 2/10\n",
            "938/938 [==============================] - 2s 2ms/step - loss: 0.1870 - accuracy: 0.9433 - val_loss: 0.0988 - val_accuracy: 0.9683\n",
            "Epoch 3/10\n",
            "938/938 [==============================] - 2s 2ms/step - loss: 0.1456 - accuracy: 0.9551 - val_loss: 0.0884 - val_accuracy: 0.9738\n",
            "Epoch 4/10\n",
            "938/938 [==============================] - 2s 2ms/step - loss: 0.1271 - accuracy: 0.9594 - val_loss: 0.0828 - val_accuracy: 0.9737\n",
            "Epoch 5/10\n",
            "938/938 [==============================] - 2s 2ms/step - loss: 0.1093 - accuracy: 0.9654 - val_loss: 0.0901 - val_accuracy: 0.9711\n",
            "Epoch 6/10\n",
            "938/938 [==============================] - 2s 2ms/step - loss: 0.0981 - accuracy: 0.9691 - val_loss: 0.0685 - val_accuracy: 0.9782\n",
            "Epoch 7/10\n",
            "938/938 [==============================] - 2s 2ms/step - loss: 0.0964 - accuracy: 0.9715 - val_loss: 0.0735 - val_accuracy: 0.9774\n",
            "Epoch 8/10\n",
            "938/938 [==============================] - 2s 2ms/step - loss: 0.0888 - accuracy: 0.9718 - val_loss: 0.0653 - val_accuracy: 0.9791\n",
            "Epoch 9/10\n",
            "938/938 [==============================] - 2s 2ms/step - loss: 0.0826 - accuracy: 0.9741 - val_loss: 0.0671 - val_accuracy: 0.9796\n",
            "Epoch 10/10\n",
            "938/938 [==============================] - 2s 2ms/step - loss: 0.0793 - accuracy: 0.9746 - val_loss: 0.0631 - val_accuracy: 0.9817\n"
          ],
          "name": "stdout"
        }
      ]
    },
    {
      "cell_type": "code",
      "metadata": {
        "colab": {
          "base_uri": "https://localhost:8080/",
          "height": 460
        },
        "id": "3oviGRvav_4c",
        "outputId": "6906f749-0c49-4159-ec30-d0f86fb8a627"
      },
      "source": [
        "plt.subplots(figsize=(12, 7))\r\n",
        "plt.plot(history.history['accuracy'], 'g--')\r\n",
        "plt.plot(history.history['val_accuracy'], 'p--')\r\n",
        "\r\n",
        "legend = ['accruacy', 'val_accuracy']\r\n",
        "\r\n",
        "plt.legend(legend)\r\n",
        "plt.xlabel('epochs')\r\n",
        "plt.ylabel('accuracy')"
      ],
      "execution_count": 12,
      "outputs": [
        {
          "output_type": "execute_result",
          "data": {
            "text/plain": [
              "Text(0, 0.5, 'accuracy')"
            ]
          },
          "metadata": {
            "tags": []
          },
          "execution_count": 12
        },
        {
          "output_type": "display_data",
          "data": {
            "image/png": "[encoded data removed]",
            "text/plain": [
              "<Figure size 864x504 with 1 Axes>"
            ]
          },
          "metadata": {
            "tags": [],
            "needs_background": "light"
          }
        }
      ]
    },
    {
      "cell_type": "code",
      "metadata": {
        "colab": {
          "base_uri": "https://localhost:8080/",
          "height": 446
        },
        "id": "QIDZoxYHxEVr",
        "outputId": "99643a90-13e7-48a7-cd5c-bbe1d886a63c"
      },
      "source": [
        "plt.subplots(figsize=(12, 7))\r\n",
        "plt.plot(history.history['loss'])\r\n",
        "plt.plot(history.history['val_loss'])"
      ],
      "execution_count": 13,
      "outputs": [
        {
          "output_type": "execute_result",
          "data": {
            "text/plain": [
              "[<matplotlib.lines.Line2D at 0x7f01321d1a90>]"
            ]
          },
          "metadata": {
            "tags": []
          },
          "execution_count": 13
        },
        {
          "output_type": "display_data",
          "data": {
            "image/png": "[encoded data removed]",
            "text/plain": [
              "<Figure size 864x504 with 1 Axes>"
            ]
          },
          "metadata": {
            "tags": [],
            "needs_background": "light"
          }
        }
      ]
    },
    {
      "cell_type": "markdown",
      "metadata": {
        "id": "pYpnAq6j3hR9"
      },
      "source": [
        "# Chap.2"
      ]
    },
    {
      "cell_type": "markdown",
      "metadata": {
        "id": "Wp2rzEmf3yrZ"
      },
      "source": [
        "# Convnet - Convolutaion Neural network"
      ]
    },
    {
      "cell_type": "code",
      "metadata": {
        "colab": {
          "base_uri": "https://localhost:8080/"
        },
        "id": "ZOnnJetL3g-i",
        "outputId": "5db19fad-7b09-4692-fe3f-a839da9cbf22"
      },
      "source": [
        "x_train.shape, x_test.shape"
      ],
      "execution_count": 14,
      "outputs": [
        {
          "output_type": "execute_result",
          "data": {
            "text/plain": [
              "((60000, 28, 28), (10000, 28, 28))"
            ]
          },
          "metadata": {
            "tags": []
          },
          "execution_count": 14
        }
      ]
    },
    {
      "cell_type": "code",
      "metadata": {
        "colab": {
          "base_uri": "https://localhost:8080/"
        },
        "id": "pmWFdMgI4Tc3",
        "outputId": "00691aff-4200-40c5-f519-2ff56dc2b4a3"
      },
      "source": [
        "y_train.shape"
      ],
      "execution_count": 15,
      "outputs": [
        {
          "output_type": "execute_result",
          "data": {
            "text/plain": [
              "(60000,)"
            ]
          },
          "metadata": {
            "tags": []
          },
          "execution_count": 15
        }
      ]
    },
    {
      "cell_type": "code",
      "metadata": {
        "colab": {
          "base_uri": "https://localhost:8080/"
        },
        "id": "B3I0AFm14n6E",
        "outputId": "3402fa27-6686-45c8-ecf1-7607981dc3bf"
      },
      "source": [
        "unique_list = np.unique(y_test)  # y_test 안에 존재하는 유일값 생성\r\n",
        "num_classes = len(unique_list)  # 유일한 값의 개수 (길이)\r\n",
        "num_classes"
      ],
      "execution_count": 16,
      "outputs": [
        {
          "output_type": "execute_result",
          "data": {
            "text/plain": [
              "10"
            ]
          },
          "metadata": {
            "tags": []
          },
          "execution_count": 16
        }
      ]
    },
    {
      "cell_type": "markdown",
      "metadata": {
        "id": "lDpLfk_g5X06"
      },
      "source": [
        "## to one hot encoding"
      ]
    },
    {
      "cell_type": "code",
      "metadata": {
        "id": "CulbQOFG5G1Q"
      },
      "source": [
        "y_train = utils.to_categorical(y_train, num_classes)\r\n",
        "y_test = utils.to_categorical(y_test, num_classes)"
      ],
      "execution_count": 17,
      "outputs": []
    },
    {
      "cell_type": "code",
      "metadata": {
        "colab": {
          "base_uri": "https://localhost:8080/"
        },
        "id": "659-gs7i5ebi",
        "outputId": "df5e0345-301e-4cbc-b046-b58adb34c715"
      },
      "source": [
        "y_train.shape, y_test.shape"
      ],
      "execution_count": 18,
      "outputs": [
        {
          "output_type": "execute_result",
          "data": {
            "text/plain": [
              "((60000, 10), (10000, 10))"
            ]
          },
          "metadata": {
            "tags": []
          },
          "execution_count": 18
        }
      ]
    },
    {
      "cell_type": "markdown",
      "metadata": {
        "id": "yUD2PgB56PwE"
      },
      "source": [
        "## 차원 증가 (이미지 학습을 위한)"
      ]
    },
    {
      "cell_type": "code",
      "metadata": {
        "id": "TdgPOHHL7CDA"
      },
      "source": [
        "# tag::load data[]\r\n",
        "(x_train, y_train), (x_test, y_test) = mnist.load_data()\r\n",
        "x_train, x_test = x_train / 255. , x_test / 255.\r\n",
        "\r\n",
        "y_train = utils.to_categorical(y_train, num_classes)\r\n",
        "y_test = utils.to_categorical(y_test, num_classes)\r\n",
        "# end::load data[]"
      ],
      "execution_count": 19,
      "outputs": []
    },
    {
      "cell_type": "code",
      "metadata": {
        "id": "OT5heQmj5liP"
      },
      "source": [
        "x_train = np.expand_dims(x_train, -1)\r\n",
        "x_test = np.expand_dims(x_test, -1)"
      ],
      "execution_count": 20,
      "outputs": []
    },
    {
      "cell_type": "code",
      "metadata": {
        "colab": {
          "base_uri": "https://localhost:8080/"
        },
        "id": "qKvN4-cJ6thl",
        "outputId": "c1d645fc-8c03-486e-d192-0260ab499bc7"
      },
      "source": [
        "x_train.shape[1:]"
      ],
      "execution_count": 21,
      "outputs": [
        {
          "output_type": "execute_result",
          "data": {
            "text/plain": [
              "(28, 28, 1)"
            ]
          },
          "metadata": {
            "tags": []
          },
          "execution_count": 21
        }
      ]
    },
    {
      "cell_type": "code",
      "metadata": {
        "id": "aylIpAyi6Paj"
      },
      "source": [
        "data_shape = x_train.shape[1:]"
      ],
      "execution_count": 22,
      "outputs": []
    },
    {
      "cell_type": "markdown",
      "metadata": {
        "id": "uW9zPHcq7dPF"
      },
      "source": [
        "## build model - Conv2D"
      ]
    },
    {
      "cell_type": "code",
      "metadata": {
        "id": "ZSK2FA9U6jnL"
      },
      "source": [
        "input = layers.Input( data_shape )\r\n",
        "H = layers.Conv2D(filters=32, kernel_size=(3, 3))(input)\r\n",
        "H = layers.Activation('relu')(H)\r\n",
        "H = layers.MaxPooling2D(pool_size=(2, 2))(H)\r\n",
        "\r\n",
        "H = layers.Conv2D(64, kernel_size=(3, 3))(H)\r\n",
        "H = layers.Activation('relu')(H)\r\n",
        "H = layers.MaxPooling2D(pool_size=(2, 2), \r\n",
        "                        strides=(3, 3))(H)\r\n",
        "\r\n",
        "H = layers.Flatten()(H)\r\n",
        "\r\n",
        "H = layers.Dropout(.3)(H)\r\n",
        "H = layers.Dense(units=10)(H)\r\n",
        "\r\n",
        "output = layers.Activation('softmax')(H)\r\n",
        "\r\n",
        "model = models.Model(input, output)"
      ],
      "execution_count": 23,
      "outputs": []
    },
    {
      "cell_type": "markdown",
      "metadata": {
        "id": "DUvnymeG86rN"
      },
      "source": [
        "## compile model"
      ]
    },
    {
      "cell_type": "code",
      "metadata": {
        "id": "j2YilTI688k0"
      },
      "source": [
        "model.compile(optimizer=optimizers.Adam(0.001),\r\n",
        "              loss='categorical_crossentropy',\r\n",
        "              metrics=['accuracy', 'mse'])"
      ],
      "execution_count": 24,
      "outputs": []
    },
    {
      "cell_type": "markdown",
      "metadata": {
        "id": "VTGoeKdo-akj"
      },
      "source": [
        "## train model"
      ]
    },
    {
      "cell_type": "code",
      "metadata": {
        "colab": {
          "base_uri": "https://localhost:8080/"
        },
        "id": "TpSLAR8e_Rab",
        "outputId": "51dd34af-be32-41b6-f821-61ccc007e63b"
      },
      "source": [
        "history = model.fit(x_train,\r\n",
        "                    y_train,\r\n",
        "                    epochs=10,\r\n",
        "                    batch_size=64,\r\n",
        "                    validation_data=(x_test, y_test))"
      ],
      "execution_count": 25,
      "outputs": [
        {
          "output_type": "stream",
          "text": [
            "Epoch 1/10\n",
            "938/938 [==============================] - 9s 4ms/step - loss: 0.5931 - accuracy: 0.8178 - mse: 0.0258 - val_loss: 0.0757 - val_accuracy: 0.9760 - val_mse: 0.0036\n",
            "Epoch 2/10\n",
            "938/938 [==============================] - 4s 4ms/step - loss: 0.0983 - accuracy: 0.9686 - mse: 0.0047 - val_loss: 0.0504 - val_accuracy: 0.9830 - val_mse: 0.0025\n",
            "Epoch 3/10\n",
            "938/938 [==============================] - 4s 4ms/step - loss: 0.0725 - accuracy: 0.9770 - mse: 0.0035 - val_loss: 0.0430 - val_accuracy: 0.9849 - val_mse: 0.0022\n",
            "Epoch 4/10\n",
            "938/938 [==============================] - 4s 4ms/step - loss: 0.0566 - accuracy: 0.9827 - mse: 0.0027 - val_loss: 0.0401 - val_accuracy: 0.9855 - val_mse: 0.0021\n",
            "Epoch 5/10\n",
            "938/938 [==============================] - 4s 4ms/step - loss: 0.0521 - accuracy: 0.9842 - mse: 0.0025 - val_loss: 0.0356 - val_accuracy: 0.9884 - val_mse: 0.0018\n",
            "Epoch 6/10\n",
            "938/938 [==============================] - 4s 4ms/step - loss: 0.0431 - accuracy: 0.9856 - mse: 0.0021 - val_loss: 0.0349 - val_accuracy: 0.9882 - val_mse: 0.0017\n",
            "Epoch 7/10\n",
            "938/938 [==============================] - 4s 4ms/step - loss: 0.0422 - accuracy: 0.9862 - mse: 0.0020 - val_loss: 0.0286 - val_accuracy: 0.9908 - val_mse: 0.0015\n",
            "Epoch 8/10\n",
            "938/938 [==============================] - 4s 4ms/step - loss: 0.0351 - accuracy: 0.9885 - mse: 0.0017 - val_loss: 0.0306 - val_accuracy: 0.9898 - val_mse: 0.0015\n",
            "Epoch 9/10\n",
            "938/938 [==============================] - 4s 4ms/step - loss: 0.0340 - accuracy: 0.9890 - mse: 0.0017 - val_loss: 0.0282 - val_accuracy: 0.9906 - val_mse: 0.0014\n",
            "Epoch 10/10\n",
            "938/938 [==============================] - 4s 4ms/step - loss: 0.0344 - accuracy: 0.9890 - mse: 0.0017 - val_loss: 0.0326 - val_accuracy: 0.9894 - val_mse: 0.0017\n"
          ],
          "name": "stdout"
        }
      ]
    },
    {
      "cell_type": "code",
      "metadata": {
        "colab": {
          "base_uri": "https://localhost:8080/",
          "height": 460
        },
        "id": "SuJ0IhlV_iOa",
        "outputId": "487d021a-fcd0-48b2-ca76-06f226145857"
      },
      "source": [
        "plt.subplots(figsize=(12, 7))\r\n",
        "plt.plot(history.history['accuracy'], 'g--')\r\n",
        "plt.plot(history.history['val_accuracy'], 'p--')\r\n",
        "\r\n",
        "legend = ['accruacy', 'val_accuracy']\r\n",
        "\r\n",
        "plt.legend(legend)\r\n",
        "plt.xlabel('epochs')\r\n",
        "plt.ylabel('accuracy')"
      ],
      "execution_count": 26,
      "outputs": [
        {
          "output_type": "execute_result",
          "data": {
            "text/plain": [
              "Text(0, 0.5, 'accuracy')"
            ]
          },
          "metadata": {
            "tags": []
          },
          "execution_count": 26
        },
        {
          "output_type": "display_data",
          "data": {
            "image/png": "[encoded data removed]",
            "text/plain": [
              "<Figure size 864x504 with 1 Axes>"
            ]
          },
          "metadata": {
            "tags": [],
            "needs_background": "light"
          }
        }
      ]
    },
    {
      "cell_type": "code",
      "metadata": {
        "id": "n9_uS2kMBUfk"
      },
      "source": [
        "(x_train, y_train), (x_test, y_test) = mnist.load_data()"
      ],
      "execution_count": 28,
      "outputs": []
    },
    {
      "cell_type": "code",
      "metadata": {
        "colab": {
          "base_uri": "https://localhost:8080/"
        },
        "id": "GGkuhO4QBmj-",
        "outputId": "3d6190a5-14d0-4cc0-9303-960897f93a1f"
      },
      "source": [
        "print(x_train[5].reshape(-1).tolist())"
      ],
      "execution_count": 32,
      "outputs": [
        {
          "output_type": "stream",
          "text": [
            "[0, 0, 0, 0, 0, 0, 0, 0, 0, 0, 0, 0, 0, 0, 0, 0, 0, 0, 0, 0, 0, 0, 0, 0, 0, 0, 0, 0, 0, 0, 0, 0, 0, 0, 0, 0, 0, 0, 0, 0, 0, 0, 0, 0, 0, 0, 0, 0, 0, 0, 0, 0, 0, 0, 0, 0, 0, 0, 0, 0, 0, 0, 0, 0, 0, 0, 0, 0, 0, 0, 0, 0, 0, 0, 0, 0, 0, 0, 0, 0, 0, 0, 0, 0, 0, 0, 0, 0, 0, 0, 0, 0, 0, 0, 0, 0, 0, 0, 0, 0, 0, 0, 0, 0, 0, 0, 0, 0, 0, 0, 0, 0, 0, 0, 0, 0, 0, 0, 0, 0, 0, 0, 0, 0, 0, 0, 0, 0, 0, 0, 0, 0, 0, 0, 0, 0, 0, 0, 0, 0, 0, 0, 0, 0, 0, 0, 0, 0, 0, 0, 0, 0, 0, 0, 0, 13, 25, 100, 122, 7, 0, 0, 0, 0, 0, 0, 0, 0, 0, 0, 0, 0, 0, 0, 0, 0, 0, 0, 0, 0, 0, 33, 151, 208, 252, 252, 252, 146, 0, 0, 0, 0, 0, 0, 0, 0, 0, 0, 0, 0, 0, 0, 0, 0, 0, 0, 0, 40, 152, 244, 252, 253, 224, 211, 252, 232, 40, 0, 0, 0, 0, 0, 0, 0, 0, 0, 0, 0, 0, 0, 0, 0, 0, 15, 152, 239, 252, 252, 252, 216, 31, 37, 252, 252, 60, 0, 0, 0, 0, 0, 0, 0, 0, 0, 0, 0, 0, 0, 0, 0, 0, 96, 252, 252, 252, 252, 217, 29, 0, 37, 252, 252, 60, 0, 0, 0, 0, 0, 0, 0, 0, 0, 0, 0, 0, 0, 0, 0, 0, 181, 252, 252, 220, 167, 30, 0, 0, 77, 252, 252, 60, 0, 0, 0, 0, 0, 0, 0, 0, 0, 0, 0, 0, 0, 0, 0, 0, 26, 128, 58, 22, 0, 0, 0, 0, 100, 252, 252, 60, 0, 0, 0, 0, 0, 0, 0, 0, 0, 0, 0, 0, 0, 0, 0, 0, 0, 0, 0, 0, 0, 0, 0, 0, 157, 252, 252, 60, 0, 0, 0, 0, 0, 0, 0, 0, 0, 0, 0, 0, 0, 0, 0, 0, 0, 0, 0, 0, 110, 121, 122, 121, 202, 252, 194, 3, 0, 0, 0, 0, 0, 0, 0, 0, 0, 0, 0, 0, 0, 0, 0, 0, 0, 10, 53, 179, 253, 253, 255, 253, 253, 228, 35, 0, 0, 0, 0, 0, 0, 0, 0, 0, 0, 0, 0, 0, 0, 0, 0, 5, 54, 227, 252, 243, 228, 170, 242, 252, 252, 231, 117, 6, 0, 0, 0, 0, 0, 0, 0, 0, 0, 0, 0, 0, 0, 0, 6, 78, 252, 252, 125, 59, 0, 18, 208, 252, 252, 252, 252, 87, 7, 0, 0, 0, 0, 0, 0, 0, 0, 0, 0, 0, 0, 5, 135, 252, 252, 180, 16, 0, 21, 203, 253, 247, 129, 173, 252, 252, 184, 66, 49, 49, 0, 0, 0, 0, 0, 0, 0, 0, 3, 136, 252, 241, 106, 17, 0, 53, 200, 252, 216, 65, 0, 14, 72, 163, 241, 252, 252, 223, 0, 0, 0, 0, 0, 0, 0, 0, 105, 252, 242, 88, 18, 73, 170, 244, 252, 126, 29, 0, 0, 0, 0, 0, 89, 180, 180, 37, 0, 0, 0, 0, 0, 0, 0, 0, 231, 252, 245, 205, 216, 252, 252, 252, 124, 3, 0, 0, 0, 0, 0, 0, 0, 0, 0, 0, 0, 0, 0, 0, 0, 0, 0, 0, 207, 252, 252, 252, 252, 178, 116, 36, 4, 0, 0, 0, 0, 0, 0, 0, 0, 0, 0, 0, 0, 0, 0, 0, 0, 0, 0, 0, 13, 93, 143, 121, 23, 6, 0, 0, 0, 0, 0, 0, 0, 0, 0, 0, 0, 0, 0, 0, 0, 0, 0, 0, 0, 0, 0, 0, 0, 0, 0, 0, 0, 0, 0, 0, 0, 0, 0, 0, 0, 0, 0, 0, 0, 0, 0, 0, 0, 0, 0, 0, 0, 0, 0, 0, 0, 0, 0, 0, 0, 0, 0, 0, 0, 0, 0, 0, 0, 0, 0, 0, 0, 0, 0, 0, 0, 0, 0, 0, 0, 0, 0, 0, 0, 0, 0, 0, 0, 0, 0, 0, 0, 0, 0, 0, 0, 0, 0, 0, 0, 0, 0, 0, 0, 0, 0, 0, 0, 0, 0, 0, 0, 0, 0, 0, 0, 0, 0, 0, 0, 0, 0, 0, 0, 0, 0, 0, 0, 0, 0, 0, 0, 0, 0, 0, 0, 0, 0, 0, 0, 0, 0, 0, 0, 0, 0, 0, 0, 0, 0, 0, 0, 0, 0, 0, 0, 0, 0, 0, 0, 0, 0]\n"
          ],
          "name": "stdout"
        }
      ]
    }
  ]
}
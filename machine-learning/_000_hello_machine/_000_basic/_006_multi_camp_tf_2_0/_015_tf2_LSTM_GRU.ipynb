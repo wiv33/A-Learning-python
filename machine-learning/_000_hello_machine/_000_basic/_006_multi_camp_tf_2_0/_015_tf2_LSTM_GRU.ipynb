{
  "nbformat": 4,
  "nbformat_minor": 0,
  "metadata": {
    "colab": {
      "name": "machine-learning/_000_hello_machine/_000_basic/_006_multi_camp_tf_2_0/_015_tf2_LSTM_GRU.ipynb",
      "provenance": [],
      "authorship_tag": "ABX9TyNPk7fp7tJ3r8+I7e32TptE",
      "include_colab_link": true
    },
    "kernelspec": {
      "name": "python3",
      "display_name": "Python 3"
    }
  },
  "cells": [
    {
      "cell_type": "markdown",
      "metadata": {
        "id": "view-in-github",
        "colab_type": "text"
      },
      "source": [
        "<a href=\"https://colab.research.google.com/github/wiv33/A-Learning-python/blob/master/machine-learning/_000_hello_machine/_000_basic/_006_multi_camp_tf_2_0/_015_tf2_LSTM_GRU.ipynb\" target=\"_parent\"><img src=\"https://colab.research.google.com/assets/colab-badge.svg\" alt=\"Open In Colab\"/></a>"
      ]
    },
    {
      "cell_type": "code",
      "metadata": {
        "id": "GaDfBt6n2IKW"
      },
      "source": [
        "import tensorflow as tf\n",
        "from tensorflow.keras import layers, models\n",
        "from tensorflow.keras.datasets import imdb\n",
        "from tensorflow.keras.preprocessing import sequence\n",
        "import matplotlib.pyplot as plt"
      ],
      "execution_count": 27,
      "outputs": []
    },
    {
      "cell_type": "code",
      "metadata": {
        "id": "Hvj6vILE4A9i",
        "outputId": "a71d5799-5b14-4f24-bb76-d549d6a218b4",
        "colab": {
          "base_uri": "https://localhost:8080/",
          "height": 53
        }
      },
      "source": [
        "# num_word : 전처리가 끝낸 (정렬이 되어 있는) 데이터 중 상위 10000개 데이터를 가져온다.\n",
        "(input_train, y_train), (input_test, y_test) = imdb.load_data(num_words=10000)"
      ],
      "execution_count": 7,
      "outputs": [
        {
          "output_type": "stream",
          "text": [
            "Downloading data from https://storage.googleapis.com/tensorflow/tf-keras-datasets/imdb.npz\n",
            "17465344/17464789 [==============================] - 0s 0us/step\n"
          ],
          "name": "stdout"
        }
      ]
    },
    {
      "cell_type": "code",
      "metadata": {
        "id": "SoQxOmZF4EFG",
        "outputId": "ec18ce60-d991-4912-c604-44a9545d736d",
        "colab": {
          "base_uri": "https://localhost:8080/",
          "height": 71
        }
      },
      "source": [
        "print(len(input_train[0]))\n",
        "print(len(input_train[1]))\n",
        "print(len(input_train[2]))"
      ],
      "execution_count": 8,
      "outputs": [
        {
          "output_type": "stream",
          "text": [
            "218\n",
            "189\n",
            "141\n"
          ],
          "name": "stdout"
        }
      ]
    },
    {
      "cell_type": "code",
      "metadata": {
        "id": "yZCNP5UJ4Eb_",
        "outputId": "97e1cf1a-696a-4989-cc11-e329305451fa",
        "colab": {
          "base_uri": "https://localhost:8080/",
          "height": 35
        }
      },
      "source": [
        "# 우리가 가지고 있는 모든 단어의 길이를 줄이는 작업을 한다.\n",
        "# 지정한 값보다 크다면 삭제\n",
        "# 지정한 값보다 적다면 0으로 채운다.\n",
        "input_train = sequence.pad_sequences(input_train, 800)\n",
        "input_test = sequence.pad_sequences(input_test, 800)\n",
        "len(input_train), len(input_test)"
      ],
      "execution_count": 9,
      "outputs": [
        {
          "output_type": "execute_result",
          "data": {
            "text/plain": [
              "(25000, 25000)"
            ]
          },
          "metadata": {
            "tags": []
          },
          "execution_count": 9
        }
      ]
    },
    {
      "cell_type": "code",
      "metadata": {
        "id": "fj2t-Z954GNV",
        "outputId": "3c860286-fbc1-4d23-ff3d-9e0b0a83d8cf",
        "colab": {
          "base_uri": "https://localhost:8080/",
          "height": 35
        }
      },
      "source": [
        "input_train.shape, input_test.shape"
      ],
      "execution_count": 10,
      "outputs": [
        {
          "output_type": "execute_result",
          "data": {
            "text/plain": [
              "((25000, 800), (25000, 800))"
            ]
          },
          "metadata": {
            "tags": []
          },
          "execution_count": 10
        }
      ]
    },
    {
      "cell_type": "code",
      "metadata": {
        "id": "WTKKG5lZ2P7Z"
      },
      "source": [
        "stack_model = models.Sequential()\n",
        "stack_model.add(layers.Embedding(input_dim=10000, output_dim=32))\n",
        "# True일 경우 중간 결과값을 반환한다.\n",
        "# 3차원이 됨\n",
        "stack_model.add(layers.LSTM(units=32, return_sequences=True))\n",
        "stack_model.add(layers.Dropout(rate=0.5))\n",
        "# false일 경우 마지막 결과값만 반환된다.\n",
        "stack_model.add(layers.LSTM(units=16, return_sequences=False))\n",
        "stack_model.add(layers.Dense(units=1, activation='sigmoid'))"
      ],
      "execution_count": 11,
      "outputs": []
    },
    {
      "cell_type": "code",
      "metadata": {
        "id": "nUTcJgCs23NV",
        "outputId": "ad1e4da9-7b43-46f6-cb3c-eb4c8d391647",
        "colab": {
          "base_uri": "https://localhost:8080/",
          "height": 341
        }
      },
      "source": [
        "stack_model.summary()"
      ],
      "execution_count": 12,
      "outputs": [
        {
          "output_type": "stream",
          "text": [
            "Model: \"sequential_2\"\n",
            "_________________________________________________________________\n",
            "Layer (type)                 Output Shape              Param #   \n",
            "=================================================================\n",
            "embedding_2 (Embedding)      (None, None, 32)          320000    \n",
            "_________________________________________________________________\n",
            "lstm_4 (LSTM)                (None, None, 32)          8320      \n",
            "_________________________________________________________________\n",
            "dropout_2 (Dropout)          (None, None, 32)          0         \n",
            "_________________________________________________________________\n",
            "lstm_5 (LSTM)                (None, 16)                3136      \n",
            "_________________________________________________________________\n",
            "dense_1 (Dense)              (None, 1)                 17        \n",
            "=================================================================\n",
            "Total params: 331,473\n",
            "Trainable params: 331,473\n",
            "Non-trainable params: 0\n",
            "_________________________________________________________________\n"
          ],
          "name": "stdout"
        }
      ]
    },
    {
      "cell_type": "code",
      "metadata": {
        "id": "1gNxK8y-3S-I",
        "outputId": "951b599b-870a-47e4-8b99-3a2fb54001f8",
        "colab": {
          "base_uri": "https://localhost:8080/",
          "height": 377
        }
      },
      "source": [
        "# loss : binary corssentropy / optimizer : rmsprop / metrics : accuracy\n",
        "stack_model.compile(optimizer='rmsprop',\n",
        "              loss='binary_crossentropy',\n",
        "              metrics=['accuracy'])\n",
        "\n",
        "# batch size : 128, epochs : 10, validation data ste percent : 20%\n",
        "history = stack_model.fit(x=input_train, y=y_test,\n",
        "                    batch_size=128,\n",
        "                    epochs=10,\n",
        "                    validation_split=0.2)"
      ],
      "execution_count": 15,
      "outputs": [
        {
          "output_type": "stream",
          "text": [
            "Epoch 1/10\n",
            "157/157 [==============================] - 165s 1s/step - loss: 0.6932 - accuracy: 0.5075 - val_loss: 0.6935 - val_accuracy: 0.4900\n",
            "Epoch 2/10\n",
            "157/157 [==============================] - 178s 1s/step - loss: 0.6817 - accuracy: 0.5623 - val_loss: 0.7043 - val_accuracy: 0.5004\n",
            "Epoch 3/10\n",
            "157/157 [==============================] - 184s 1s/step - loss: 0.6279 - accuracy: 0.6445 - val_loss: 0.7365 - val_accuracy: 0.4998\n",
            "Epoch 4/10\n",
            "157/157 [==============================] - 178s 1s/step - loss: 0.5678 - accuracy: 0.7043 - val_loss: 0.8272 - val_accuracy: 0.5004\n",
            "Epoch 5/10\n",
            "157/157 [==============================] - 182s 1s/step - loss: 0.5069 - accuracy: 0.7525 - val_loss: 0.8747 - val_accuracy: 0.5082\n",
            "Epoch 6/10\n",
            "157/157 [==============================] - 176s 1s/step - loss: 0.4482 - accuracy: 0.7940 - val_loss: 0.8385 - val_accuracy: 0.4962\n",
            "Epoch 7/10\n",
            "157/157 [==============================] - 181s 1s/step - loss: 0.3952 - accuracy: 0.8266 - val_loss: 1.0463 - val_accuracy: 0.5110\n",
            "Epoch 8/10\n",
            "157/157 [==============================] - 185s 1s/step - loss: 0.3493 - accuracy: 0.8514 - val_loss: 1.1228 - val_accuracy: 0.5078\n",
            "Epoch 9/10\n",
            "157/157 [==============================] - 177s 1s/step - loss: 0.3045 - accuracy: 0.8770 - val_loss: 1.3144 - val_accuracy: 0.5080\n",
            "Epoch 10/10\n",
            "157/157 [==============================] - 182s 1s/step - loss: 0.2669 - accuracy: 0.8944 - val_loss: 1.3195 - val_accuracy: 0.5030\n"
          ],
          "name": "stdout"
        }
      ]
    },
    {
      "cell_type": "code",
      "metadata": {
        "id": "lpTB5zvu4Omi",
        "outputId": "e7555a1b-e7a7-4b45-8408-1fa4b4e1429e",
        "colab": {
          "base_uri": "https://localhost:8080/",
          "height": 281
        }
      },
      "source": [
        "acc = history.history['accuracy']\n",
        "val_acc = history.history['val_accuracy']\n",
        "loss = history.history['loss']\n",
        "val_loss = history.history['val_loss']\n",
        "\n",
        "# 차트의 x축을 위한 epoch 정보 설정\n",
        "epochs = range(1, len(acc) + 1)\n",
        "\n",
        "# loss 정보 시각화\n",
        "plt.plot(epochs, loss, label='Training loss')\n",
        "plt.plot(epochs, val_loss, label='Validation val_loss')\n",
        "plt.title(\"Training and validation loss\")\n",
        "plt.legend()\n",
        "plt.show()"
      ],
      "execution_count": 31,
      "outputs": [
        {
          "output_type": "display_data",
          "data": {
            "image/png": "[encoded data removed]",
            "text/plain": [
              "<Figure size 432x288 with 1 Axes>"
            ]
          },
          "metadata": {
            "tags": [],
            "needs_background": "light"
          }
        }
      ]
    },
    {
      "cell_type": "code",
      "metadata": {
        "id": "82Q7YDcs4Ua_"
      },
      "source": [
        "# 테스트 데이터 셋을 통한 성능 측정\n",
        "test_loss, test_acc = model.evaluate(x=input_test, y=y_test)"
      ],
      "execution_count": null,
      "outputs": []
    },
    {
      "cell_type": "markdown",
      "metadata": {
        "id": "bhMN0JUO5ZAB"
      },
      "source": [
        "# GRU 모델 구조를 이용한 분류 분석\n",
        "\n",
        "## step2. GRU 모델 디자인"
      ]
    },
    {
      "cell_type": "code",
      "metadata": {
        "id": "itZt7h9R5YVa"
      },
      "source": [
        "# embedding layer : 32 차원, hidden layer: 32개, activation : tanh\n",
        "gru_model = models.Sequential()\n",
        "gru_model.add(layers.Embedding(input_dim=10000, output_dim=32))\n",
        "# GRU default activation = tanh\n",
        "gru_model.add(layers.GRU(units=32))\n",
        "gru_model.add(layers.Dense(units=1, activation='sigmoid'))"
      ],
      "execution_count": 16,
      "outputs": []
    },
    {
      "cell_type": "code",
      "metadata": {
        "id": "gASKHkB0572j",
        "outputId": "dffc0f5a-af87-4c91-a9eb-07bf79e9afd5",
        "colab": {
          "base_uri": "https://localhost:8080/",
          "height": 269
        }
      },
      "source": [
        "gru_model.summary()"
      ],
      "execution_count": 17,
      "outputs": [
        {
          "output_type": "stream",
          "text": [
            "Model: \"sequential_3\"\n",
            "_________________________________________________________________\n",
            "Layer (type)                 Output Shape              Param #   \n",
            "=================================================================\n",
            "embedding_3 (Embedding)      (None, None, 32)          320000    \n",
            "_________________________________________________________________\n",
            "gru (GRU)                    (None, 32)                6336      \n",
            "_________________________________________________________________\n",
            "dense_2 (Dense)              (None, 1)                 33        \n",
            "=================================================================\n",
            "Total params: 326,369\n",
            "Trainable params: 326,369\n",
            "Non-trainable params: 0\n",
            "_________________________________________________________________\n"
          ],
          "name": "stdout"
        }
      ]
    },
    {
      "cell_type": "code",
      "metadata": {
        "id": "6zW3Ww5B6LLt",
        "outputId": "73388061-6529-4725-ca9b-1da52b98be23",
        "colab": {
          "base_uri": "https://localhost:8080/",
          "height": 395
        }
      },
      "source": [
        "# loss binary_crossentropy / optimizer : rmsprop / metrics : accuracy\n",
        "gru_model.compile(loss='binary_crossentropy',\n",
        "                  optimizer='rmsprop',\n",
        "                  metrics=['accuracy'])\n",
        "\n",
        "# batch size : 128, epochs : 10, validation data set perceptron : 20%\n",
        "hisotry = gru_model.fit(x=input_train, y=y_test,\n",
        "              batch_size=128,\n",
        "              epochs=10,\n",
        "              validation_split=0.2)"
      ],
      "execution_count": 18,
      "outputs": [
        {
          "output_type": "stream",
          "text": [
            "Epoch 1/10\n",
            "157/157 [==============================] - 80s 509ms/step - loss: 0.6935 - accuracy: 0.4969 - val_loss: 0.6936 - val_accuracy: 0.4992\n",
            "Epoch 2/10\n",
            "157/157 [==============================] - 81s 516ms/step - loss: 0.6861 - accuracy: 0.5598 - val_loss: 0.7016 - val_accuracy: 0.5016\n",
            "Epoch 3/10\n",
            "157/157 [==============================] - 82s 519ms/step - loss: 0.6560 - accuracy: 0.6162 - val_loss: 0.7399 - val_accuracy: 0.4870\n",
            "Epoch 4/10\n",
            "157/157 [==============================] - 83s 527ms/step - loss: 0.6127 - accuracy: 0.6630 - val_loss: 0.7622 - val_accuracy: 0.4898\n",
            "Epoch 5/10\n",
            "157/157 [==============================] - 82s 519ms/step - loss: 0.5715 - accuracy: 0.6985 - val_loss: 0.8341 - val_accuracy: 0.4970\n",
            "Epoch 6/10\n",
            "157/157 [==============================] - 81s 514ms/step - loss: 0.5351 - accuracy: 0.7254 - val_loss: 0.8512 - val_accuracy: 0.4972\n",
            "Epoch 7/10\n",
            "157/157 [==============================] - 81s 517ms/step - loss: 0.4960 - accuracy: 0.7556 - val_loss: 0.9003 - val_accuracy: 0.4974\n",
            "Epoch 8/10\n",
            "157/157 [==============================] - 82s 524ms/step - loss: 0.4578 - accuracy: 0.7819 - val_loss: 0.9688 - val_accuracy: 0.4940\n",
            "Epoch 9/10\n",
            "157/157 [==============================] - 81s 516ms/step - loss: 0.4204 - accuracy: 0.8080 - val_loss: 1.1041 - val_accuracy: 0.4980\n",
            "Epoch 10/10\n",
            "157/157 [==============================] - 81s 516ms/step - loss: 0.3840 - accuracy: 0.8263 - val_loss: 1.1359 - val_accuracy: 0.4996\n"
          ],
          "name": "stdout"
        },
        {
          "output_type": "execute_result",
          "data": {
            "text/plain": [
              "<tensorflow.python.keras.callbacks.History at 0x7fc68d05eac8>"
            ]
          },
          "metadata": {
            "tags": []
          },
          "execution_count": 18
        }
      ]
    },
    {
      "cell_type": "code",
      "metadata": {
        "id": "_2ELyoV06Zlm"
      },
      "source": [
        "# 학습 과정 시각화를 위한 정보 추출\n",
        "acc = history.history['accuracy']\n",
        "val_acc = history.history['val_accuracy']\n",
        "loss = history.history['loss']\n",
        "val_loss = history.history['val_loss']\n"
      ],
      "execution_count": 22,
      "outputs": []
    },
    {
      "cell_type": "code",
      "metadata": {
        "id": "6qjJ3YzR63ky"
      },
      "source": [
        "epochs = range(1, len(acc) + 1)"
      ],
      "execution_count": 23,
      "outputs": []
    },
    {
      "cell_type": "code",
      "metadata": {
        "id": "i1M6vddU7DP3",
        "outputId": "1575062e-e6cd-48dd-c51f-108c3dc50a47",
        "colab": {
          "base_uri": "https://localhost:8080/",
          "height": 281
        }
      },
      "source": [
        "# 정합도 정보 시각화\n",
        "plt.plot(epochs, acc, label=\"Trainging acc\")\n",
        "plt.plot(epochs, val_acc, label='Validation acc')\n",
        "plt.title(\"Traning and validation accuracy\")\n",
        "plt.legend()\n",
        "plt.show()"
      ],
      "execution_count": 28,
      "outputs": [
        {
          "output_type": "display_data",
          "data": {
            "image/png": "[encoded data removed]",
            "text/plain": [
              "<Figure size 432x288 with 1 Axes>"
            ]
          },
          "metadata": {
            "tags": [],
            "needs_background": "light"
          }
        }
      ]
    },
    {
      "cell_type": "code",
      "metadata": {
        "id": "ydpqtG6v7Q0t",
        "outputId": "835fe9fa-485e-4d26-8107-9ce8e6c4ae8a",
        "colab": {
          "base_uri": "https://localhost:8080/",
          "height": 35
        }
      },
      "source": [
        "# 테스트 데이터 셋을 통한 성능 측정\n",
        "tet_loss, test_acc = gru_model.evaluate(x=input_test, y=y_test)"
      ],
      "execution_count": 29,
      "outputs": [
        {
          "output_type": "stream",
          "text": [
            "782/782 [==============================] - 42s 53ms/step - loss: 1.1296 - accuracy: 0.4936\n"
          ],
          "name": "stdout"
        }
      ]
    }
  ]
}
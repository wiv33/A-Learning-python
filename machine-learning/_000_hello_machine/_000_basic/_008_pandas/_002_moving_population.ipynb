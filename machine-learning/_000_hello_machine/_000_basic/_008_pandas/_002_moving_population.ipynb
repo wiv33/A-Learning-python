{
  "nbformat": 4,
  "nbformat_minor": 0,
  "metadata": {
    "colab": {
      "name": "test/moving_population.ipynb",
      "provenance": [],
      "collapsed_sections": [],
      "toc_visible": true,
      "mount_file_id": "1giDuwVY-Npe_TaqIM6LJApywl1GRW428",
      "authorship_tag": "ABX9TyPJQkCrmCx2+lDexnn2DB7W",
      "include_colab_link": true
    },
    "kernelspec": {
      "display_name": "Python 3",
      "name": "python3"
    }
  },
  "cells": [
    {
      "cell_type": "markdown",
      "metadata": {
        "id": "view-in-github",
        "colab_type": "text"
      },
      "source": [
        "<a href=\"https://colab.research.google.com/github/wiv33/A-Learning-python/blob/master/machine-learning/_000_hello_machine/_000_basic/_008_pandas/_002_moving_population.ipynb\" target=\"_parent\"><img src=\"https://colab.research.google.com/assets/colab-badge.svg\" alt=\"Open In Colab\"/></a>"
      ]
    },
    {
      "cell_type": "markdown",
      "metadata": {
        "id": "f2aZZqgUl0xR"
      },
      "source": [
        "시스템에 설치된 폰트 출력"
      ]
    },
    {
      "cell_type": "code",
      "metadata": {
        "id": "-ZfV3zcJl6DP",
        "outputId": "64f686c2-d3ee-42ec-e984-f812e1f29973",
        "colab": {
          "base_uri": "https://localhost:8080/"
        }
      },
      "source": [
        "!sudo apt-get install -y fonts-nanum\n",
        "!sudo fc-cache -fv\n",
        "!rm ~/.cache/matplotlib -rf"
      ],
      "execution_count": null,
      "outputs": [
        {
          "output_type": "stream",
          "text": [
            "Reading package lists... Done\n",
            "Building dependency tree       \n",
            "Reading state information... Done\n",
            "fonts-nanum is already the newest version (20170925-1).\n",
            "0 upgraded, 0 newly installed, 0 to remove and 12 not upgraded.\n",
            "/usr/share/fonts: caching, new cache contents: 0 fonts, 1 dirs\n",
            "/usr/share/fonts/truetype: caching, new cache contents: 0 fonts, 3 dirs\n",
            "/usr/share/fonts/truetype/humor-sans: caching, new cache contents: 1 fonts, 0 dirs\n",
            "/usr/share/fonts/truetype/liberation: caching, new cache contents: 16 fonts, 0 dirs\n",
            "/usr/share/fonts/truetype/nanum: caching, new cache contents: 10 fonts, 0 dirs\n",
            "/usr/local/share/fonts: caching, new cache contents: 0 fonts, 0 dirs\n",
            "/root/.local/share/fonts: skipping, no such directory\n",
            "/root/.fonts: skipping, no such directory\n",
            "/var/cache/fontconfig: cleaning cache directory\n",
            "/root/.cache/fontconfig: not cleaning non-existent cache directory\n",
            "/root/.fontconfig: not cleaning non-existent cache directory\n",
            "fc-cache: succeeded\n"
          ],
          "name": "stdout"
        }
      ]
    },
    {
      "cell_type": "markdown",
      "metadata": {
        "id": "jKqmnVNlC97T"
      },
      "source": [
        "# 코로나 확진자 데이터"
      ]
    },
    {
      "cell_type": "code",
      "metadata": {
        "id": "tVrUfTYacVmC"
      },
      "source": [
        "import pandas as pd\n",
        "import matplotlib.pyplot as plt\n",
        "import seaborn as sns\n",
        "import numpy as np\n",
        "\n",
        "plt.rc('font', family='NanumBarunGothic') "
      ],
      "execution_count": null,
      "outputs": []
    },
    {
      "cell_type": "code",
      "metadata": {
        "id": "zsox5HAUf0Mr",
        "outputId": "56bb5a81-7669-4f82-fb60-89b8b9115152",
        "colab": {
          "base_uri": "https://localhost:8080/",
          "height": 79
        }
      },
      "source": [
        "df_co = pd.read_csv('https://docs.google.com/spreadsheets/u/0/d/1P7s-aD5dYr2355iqFRX1CUxpjbHhl4SYnjT5sP4Iy10/export?format=csv&id=1P7s-aD5dYr2355iqFRX1CUxpjbHhl4SYnjT5sP4Iy10&gid=0')\n",
        "df_co.head(1)"
      ],
      "execution_count": null,
      "outputs": [
        {
          "output_type": "execute_result",
          "data": {
            "text/html": [
              "<div>\n",
              "<style scoped>\n",
              "    .dataframe tbody tr th:only-of-type {\n",
              "        vertical-align: middle;\n",
              "    }\n",
              "\n",
              "    .dataframe tbody tr th {\n",
              "        vertical-align: top;\n",
              "    }\n",
              "\n",
              "    .dataframe thead th {\n",
              "        text-align: right;\n",
              "    }\n",
              "</style>\n",
              "<table border=\"1\" class=\"dataframe\">\n",
              "  <thead>\n",
              "    <tr style=\"text-align: right;\">\n",
              "      <th></th>\n",
              "      <th>연번</th>\n",
              "      <th>확진일</th>\n",
              "      <th>지역</th>\n",
              "      <th>접촉력</th>\n",
              "      <th>노출여부</th>\n",
              "    </tr>\n",
              "  </thead>\n",
              "  <tbody>\n",
              "    <tr>\n",
              "      <th>0</th>\n",
              "      <td>6103</td>\n",
              "      <td>11.02.</td>\n",
              "      <td>동작구</td>\n",
              "      <td>감염경로 조사중</td>\n",
              "      <td>Y</td>\n",
              "    </tr>\n",
              "  </tbody>\n",
              "</table>\n",
              "</div>"
            ],
            "text/plain": [
              "     연번     확진일   지역       접촉력 노출여부\n",
              "0  6103  11.02.  동작구  감염경로 조사중    Y"
            ]
          },
          "metadata": {
            "tags": []
          },
          "execution_count": 3
        }
      ]
    },
    {
      "cell_type": "code",
      "metadata": {
        "id": "F_C5rqoBhqr-",
        "outputId": "0b79c3ff-23f8-47cd-9ed0-fcf13d2e2041",
        "colab": {
          "base_uri": "https://localhost:8080/",
          "height": 79
        }
      },
      "source": [
        "df_co.tail(1)"
      ],
      "execution_count": null,
      "outputs": [
        {
          "output_type": "execute_result",
          "data": {
            "text/html": [
              "<div>\n",
              "<style scoped>\n",
              "    .dataframe tbody tr th:only-of-type {\n",
              "        vertical-align: middle;\n",
              "    }\n",
              "\n",
              "    .dataframe tbody tr th {\n",
              "        vertical-align: top;\n",
              "    }\n",
              "\n",
              "    .dataframe thead th {\n",
              "        text-align: right;\n",
              "    }\n",
              "</style>\n",
              "<table border=\"1\" class=\"dataframe\">\n",
              "  <thead>\n",
              "    <tr style=\"text-align: right;\">\n",
              "      <th></th>\n",
              "      <th>연번</th>\n",
              "      <th>확진일</th>\n",
              "      <th>지역</th>\n",
              "      <th>접촉력</th>\n",
              "      <th>노출여부</th>\n",
              "    </tr>\n",
              "  </thead>\n",
              "  <tbody>\n",
              "    <tr>\n",
              "      <th>6102</th>\n",
              "      <td>1</td>\n",
              "      <td>1.24.</td>\n",
              "      <td>강서구</td>\n",
              "      <td>해외 접촉</td>\n",
              "      <td>Y</td>\n",
              "    </tr>\n",
              "  </tbody>\n",
              "</table>\n",
              "</div>"
            ],
            "text/plain": [
              "      연번    확진일   지역    접촉력 노출여부\n",
              "6102   1  1.24.  강서구  해외 접촉    Y"
            ]
          },
          "metadata": {
            "tags": []
          },
          "execution_count": 4
        }
      ]
    },
    {
      "cell_type": "code",
      "metadata": {
        "id": "kXNZ7wf7htIr",
        "outputId": "4f1e59e0-33e0-4f41-f83c-3a22b4c38114",
        "colab": {
          "base_uri": "https://localhost:8080/",
          "height": 752
        }
      },
      "source": [
        "s = df_co.groupby(by=['확진일', '지역'])\n",
        "\n",
        "print(s['확진일'].value_counts())\n",
        "fig, ax = plt.subplots(1, 1, figsize=(12, 7))\n",
        "\n",
        "sns.countplot(s['확진일'].value_counts(), data=pd.DataFrame(s), ax=ax)"
      ],
      "execution_count": null,
      "outputs": [
        {
          "output_type": "stream",
          "text": [
            "확진일    지역    확진일  \n",
            "1.24.  강서구   1.24.    1\n",
            "1.30.  마포구   1.30.    1\n",
            "       종로구   1.30.    1\n",
            "       중랑구   1.30.    1\n",
            "1.31.  성북구   1.31.    1\n",
            "                     ..\n",
            "9.30.  성동구   9.30.    4\n",
            "       송파구   9.30.    2\n",
            "       영등포구  9.30.    1\n",
            "       용산구   9.30.    1\n",
            "       중랑구   9.30.    1\n",
            "Name: 확진일, Length: 2523, dtype: int64\n"
          ],
          "name": "stdout"
        },
        {
          "output_type": "stream",
          "text": [
            "/usr/local/lib/python3.6/dist-packages/seaborn/_decorators.py:43: FutureWarning: Pass the following variable as a keyword arg: x. From version 0.12, the only valid positional argument will be `data`, and passing other arguments without an explicit keyword will result in an error or misinterpretation.\n",
            "  FutureWarning\n"
          ],
          "name": "stderr"
        },
        {
          "output_type": "execute_result",
          "data": {
            "text/plain": [
              "<matplotlib.axes._subplots.AxesSubplot at 0x7f8b0b4c0da0>"
            ]
          },
          "metadata": {
            "tags": []
          },
          "execution_count": 5
        },
        {
          "output_type": "display_data",
          "data": {
            "image/png": "[encoded data removed]",
            "text/plain": [
              "<Figure size 864x504 with 1 Axes>"
            ]
          },
          "metadata": {
            "tags": []
          }
        }
      ]
    },
    {
      "cell_type": "code",
      "metadata": {
        "id": "7HWAEotg1ibP",
        "outputId": "bd2abaf9-2d0a-479d-aa8c-3fe59250854b",
        "colab": {
          "base_uri": "https://localhost:8080/",
          "height": 449
        }
      },
      "source": [
        "s['확진일'].describe()"
      ],
      "execution_count": null,
      "outputs": [
        {
          "output_type": "execute_result",
          "data": {
            "text/html": [
              "<div>\n",
              "<style scoped>\n",
              "    .dataframe tbody tr th:only-of-type {\n",
              "        vertical-align: middle;\n",
              "    }\n",
              "\n",
              "    .dataframe tbody tr th {\n",
              "        vertical-align: top;\n",
              "    }\n",
              "\n",
              "    .dataframe thead th {\n",
              "        text-align: right;\n",
              "    }\n",
              "</style>\n",
              "<table border=\"1\" class=\"dataframe\">\n",
              "  <thead>\n",
              "    <tr style=\"text-align: right;\">\n",
              "      <th></th>\n",
              "      <th></th>\n",
              "      <th>count</th>\n",
              "      <th>unique</th>\n",
              "      <th>top</th>\n",
              "      <th>freq</th>\n",
              "    </tr>\n",
              "    <tr>\n",
              "      <th>확진일</th>\n",
              "      <th>지역</th>\n",
              "      <th></th>\n",
              "      <th></th>\n",
              "      <th></th>\n",
              "      <th></th>\n",
              "    </tr>\n",
              "  </thead>\n",
              "  <tbody>\n",
              "    <tr>\n",
              "      <th>1.24.</th>\n",
              "      <th>강서구</th>\n",
              "      <td>1</td>\n",
              "      <td>1</td>\n",
              "      <td>1.24.</td>\n",
              "      <td>1</td>\n",
              "    </tr>\n",
              "    <tr>\n",
              "      <th rowspan=\"3\" valign=\"top\">1.30.</th>\n",
              "      <th>마포구</th>\n",
              "      <td>1</td>\n",
              "      <td>1</td>\n",
              "      <td>1.30.</td>\n",
              "      <td>1</td>\n",
              "    </tr>\n",
              "    <tr>\n",
              "      <th>종로구</th>\n",
              "      <td>1</td>\n",
              "      <td>1</td>\n",
              "      <td>1.30.</td>\n",
              "      <td>1</td>\n",
              "    </tr>\n",
              "    <tr>\n",
              "      <th>중랑구</th>\n",
              "      <td>1</td>\n",
              "      <td>1</td>\n",
              "      <td>1.30.</td>\n",
              "      <td>1</td>\n",
              "    </tr>\n",
              "    <tr>\n",
              "      <th>1.31.</th>\n",
              "      <th>성북구</th>\n",
              "      <td>1</td>\n",
              "      <td>1</td>\n",
              "      <td>1.31.</td>\n",
              "      <td>1</td>\n",
              "    </tr>\n",
              "    <tr>\n",
              "      <th>...</th>\n",
              "      <th>...</th>\n",
              "      <td>...</td>\n",
              "      <td>...</td>\n",
              "      <td>...</td>\n",
              "      <td>...</td>\n",
              "    </tr>\n",
              "    <tr>\n",
              "      <th rowspan=\"5\" valign=\"top\">9.30.</th>\n",
              "      <th>성동구</th>\n",
              "      <td>4</td>\n",
              "      <td>1</td>\n",
              "      <td>9.30.</td>\n",
              "      <td>4</td>\n",
              "    </tr>\n",
              "    <tr>\n",
              "      <th>송파구</th>\n",
              "      <td>2</td>\n",
              "      <td>1</td>\n",
              "      <td>9.30.</td>\n",
              "      <td>2</td>\n",
              "    </tr>\n",
              "    <tr>\n",
              "      <th>영등포구</th>\n",
              "      <td>1</td>\n",
              "      <td>1</td>\n",
              "      <td>9.30.</td>\n",
              "      <td>1</td>\n",
              "    </tr>\n",
              "    <tr>\n",
              "      <th>용산구</th>\n",
              "      <td>1</td>\n",
              "      <td>1</td>\n",
              "      <td>9.30.</td>\n",
              "      <td>1</td>\n",
              "    </tr>\n",
              "    <tr>\n",
              "      <th>중랑구</th>\n",
              "      <td>1</td>\n",
              "      <td>1</td>\n",
              "      <td>9.30.</td>\n",
              "      <td>1</td>\n",
              "    </tr>\n",
              "  </tbody>\n",
              "</table>\n",
              "<p>2523 rows × 4 columns</p>\n",
              "</div>"
            ],
            "text/plain": [
              "           count unique    top freq\n",
              "확진일   지역                           \n",
              "1.24. 강서구      1      1  1.24.    1\n",
              "1.30. 마포구      1      1  1.30.    1\n",
              "      종로구      1      1  1.30.    1\n",
              "      중랑구      1      1  1.30.    1\n",
              "1.31. 성북구      1      1  1.31.    1\n",
              "...          ...    ...    ...  ...\n",
              "9.30. 성동구      4      1  9.30.    4\n",
              "      송파구      2      1  9.30.    2\n",
              "      영등포구     1      1  9.30.    1\n",
              "      용산구      1      1  9.30.    1\n",
              "      중랑구      1      1  9.30.    1\n",
              "\n",
              "[2523 rows x 4 columns]"
            ]
          },
          "metadata": {
            "tags": []
          },
          "execution_count": 6
        }
      ]
    },
    {
      "cell_type": "code",
      "metadata": {
        "id": "efRtjLzv1r8g",
        "outputId": "3136181b-4116-4835-f3d3-0841289768ab",
        "colab": {
          "base_uri": "https://localhost:8080/",
          "height": 449
        }
      },
      "source": [
        "s['지역'].describe()"
      ],
      "execution_count": null,
      "outputs": [
        {
          "output_type": "execute_result",
          "data": {
            "text/html": [
              "<div>\n",
              "<style scoped>\n",
              "    .dataframe tbody tr th:only-of-type {\n",
              "        vertical-align: middle;\n",
              "    }\n",
              "\n",
              "    .dataframe tbody tr th {\n",
              "        vertical-align: top;\n",
              "    }\n",
              "\n",
              "    .dataframe thead th {\n",
              "        text-align: right;\n",
              "    }\n",
              "</style>\n",
              "<table border=\"1\" class=\"dataframe\">\n",
              "  <thead>\n",
              "    <tr style=\"text-align: right;\">\n",
              "      <th></th>\n",
              "      <th></th>\n",
              "      <th>count</th>\n",
              "      <th>unique</th>\n",
              "      <th>top</th>\n",
              "      <th>freq</th>\n",
              "    </tr>\n",
              "    <tr>\n",
              "      <th>확진일</th>\n",
              "      <th>지역</th>\n",
              "      <th></th>\n",
              "      <th></th>\n",
              "      <th></th>\n",
              "      <th></th>\n",
              "    </tr>\n",
              "  </thead>\n",
              "  <tbody>\n",
              "    <tr>\n",
              "      <th>1.24.</th>\n",
              "      <th>강서구</th>\n",
              "      <td>1</td>\n",
              "      <td>1</td>\n",
              "      <td>강서구</td>\n",
              "      <td>1</td>\n",
              "    </tr>\n",
              "    <tr>\n",
              "      <th rowspan=\"3\" valign=\"top\">1.30.</th>\n",
              "      <th>마포구</th>\n",
              "      <td>1</td>\n",
              "      <td>1</td>\n",
              "      <td>마포구</td>\n",
              "      <td>1</td>\n",
              "    </tr>\n",
              "    <tr>\n",
              "      <th>종로구</th>\n",
              "      <td>1</td>\n",
              "      <td>1</td>\n",
              "      <td>종로구</td>\n",
              "      <td>1</td>\n",
              "    </tr>\n",
              "    <tr>\n",
              "      <th>중랑구</th>\n",
              "      <td>1</td>\n",
              "      <td>1</td>\n",
              "      <td>중랑구</td>\n",
              "      <td>1</td>\n",
              "    </tr>\n",
              "    <tr>\n",
              "      <th>1.31.</th>\n",
              "      <th>성북구</th>\n",
              "      <td>1</td>\n",
              "      <td>1</td>\n",
              "      <td>성북구</td>\n",
              "      <td>1</td>\n",
              "    </tr>\n",
              "    <tr>\n",
              "      <th>...</th>\n",
              "      <th>...</th>\n",
              "      <td>...</td>\n",
              "      <td>...</td>\n",
              "      <td>...</td>\n",
              "      <td>...</td>\n",
              "    </tr>\n",
              "    <tr>\n",
              "      <th rowspan=\"5\" valign=\"top\">9.30.</th>\n",
              "      <th>성동구</th>\n",
              "      <td>4</td>\n",
              "      <td>1</td>\n",
              "      <td>성동구</td>\n",
              "      <td>4</td>\n",
              "    </tr>\n",
              "    <tr>\n",
              "      <th>송파구</th>\n",
              "      <td>2</td>\n",
              "      <td>1</td>\n",
              "      <td>송파구</td>\n",
              "      <td>2</td>\n",
              "    </tr>\n",
              "    <tr>\n",
              "      <th>영등포구</th>\n",
              "      <td>1</td>\n",
              "      <td>1</td>\n",
              "      <td>영등포구</td>\n",
              "      <td>1</td>\n",
              "    </tr>\n",
              "    <tr>\n",
              "      <th>용산구</th>\n",
              "      <td>1</td>\n",
              "      <td>1</td>\n",
              "      <td>용산구</td>\n",
              "      <td>1</td>\n",
              "    </tr>\n",
              "    <tr>\n",
              "      <th>중랑구</th>\n",
              "      <td>1</td>\n",
              "      <td>1</td>\n",
              "      <td>중랑구</td>\n",
              "      <td>1</td>\n",
              "    </tr>\n",
              "  </tbody>\n",
              "</table>\n",
              "<p>2523 rows × 4 columns</p>\n",
              "</div>"
            ],
            "text/plain": [
              "           count unique   top freq\n",
              "확진일   지역                          \n",
              "1.24. 강서구      1      1   강서구    1\n",
              "1.30. 마포구      1      1   마포구    1\n",
              "      종로구      1      1   종로구    1\n",
              "      중랑구      1      1   중랑구    1\n",
              "1.31. 성북구      1      1   성북구    1\n",
              "...          ...    ...   ...  ...\n",
              "9.30. 성동구      4      1   성동구    4\n",
              "      송파구      2      1   송파구    2\n",
              "      영등포구     1      1  영등포구    1\n",
              "      용산구      1      1   용산구    1\n",
              "      중랑구      1      1   중랑구    1\n",
              "\n",
              "[2523 rows x 4 columns]"
            ]
          },
          "metadata": {
            "tags": []
          },
          "execution_count": 7
        }
      ]
    },
    {
      "cell_type": "markdown",
      "metadata": {
        "id": "Tyoj6r-fCc4x"
      },
      "source": [
        "# 서울시 유동인구 데이터 By SKT\n",
        "\n",
        "[SKT DATA HUB](https://www.bigdatahub.co.kr/product/list.do?menu_id=1000157)\n",
        "\n",
        "2020년 9월 ~ 2019년 3월\n",
        "\n",
        "```javascript\n",
        "const result = Array.from(document.querySelectorAll('.category_detail.clfix .title a')).reduce((acc, v) => {\n",
        "  acc.push(v.getAttribute('href').split('pid=')[1]); \n",
        "  return acc\n",
        "  }, [])\n",
        "\n",
        "  result > [\"1002332\", \"1002326\", \"1002317\", \"1002308\", \"1002302\", \"1002299\", \"1002295\", \"1002291\", \"1002286\", \"1002280\", \"1002277\", \"1002261\", \"1002260\", \"1002259\", \"1002258\", \"1002257\", \"1002256\", \"1002255\", \"1002254\"]\n",
        "\n",
        "```"
      ]
    },
    {
      "cell_type": "code",
      "metadata": {
        "id": "wmYT5-K9hzHZ"
      },
      "source": [
        "# import requests\n",
        "# import json\n",
        "# api_key = '7b3aad087b55453cd26409ab572d8407e117a28b737c2ccd19509d0f61edc161'\n",
        "# # 2020.09, 2020.08 ... 2019.03\n",
        "# pids = [\"1002332\", \"1002326\", \"1002317\", \"1002308\", \"1002302\", \"1002299\", \"1002295\", \"1002291\", \"1002286\", \"1002280\", \"1002277\", \"1002261\", \"1002260\", \"1002259\", \"1002258\", \"1002257\", \"1002256\", \"1002255\", \"1002254\"]\n",
        "\n",
        "# df = pd.DataFrame(data=None, columns=['일자', '시간(1시간단위)', '연령대(10세단위)', '성별', '시', '군구', '유동인구수'])"
      ],
      "execution_count": null,
      "outputs": []
    },
    {
      "cell_type": "markdown",
      "metadata": {
        "id": "SDpkAAlz4Tdj"
      },
      "source": [
        "## 유동인구 csv 파일 구글 드라이브로 이동 후 불러오기\n",
        "\n",
        "```javascript\n",
        "\n",
        "const dates = `2019-11 2019-12 2020-01 2020-02 2020-03 2020-04 2020-05 2020-06 2020-07 2020-08 2020-09 2019-03 2019-04 2019-05 2019-06 2019-07 2019-08 2019-09 2019-10`.split(\" \")\n",
        "\n",
        "const result = Array.from(document.querySelectorAll('div[jsname=\"LpMIEc\"].iZmuQc [data-id]'))\n",
        ".reduce((acc, v, i) => {\n",
        "  acc.push({id: v.dataset.id, date: dates[i]}); \n",
        "  return acc;\n",
        "  }, [])\n",
        "\n",
        "\n",
        "result > 0: {id: \"1lBVb8yPB5HY3XRIC1vL3T795ZB0MD6jE\", date: \"2019-11\"}\n",
        "1: {id: \"1W_b2c455hGpS84XzQdz7dmtjchyYurwU\", date: \"2019-12\"}\n",
        "2: {id: \"1F7aRc4kL8x690Zz7nevlnF3PAxCxFOFC\", date: \"2020-01\"}\n",
        "3: {id: \"12ZFfiI-br9cpt-YdfOyqr756CuoeeqX_\", date: \"2020-02\"}\n",
        "4: {id: \"1OBBYjT7tNy85J5RX7FeWY4WDqA_ASYu_\", date: \"2020-03\"}\n",
        "5: {id: \"1s576x4De8vI1Q3L-r__8s0pXiBsgJ82B\", date: \"2020-04\"}\n",
        "6: {id: \"146ncu-i1Jm025y73-YAAIh5RUm68_OMl\", date: \"2020-05\"}\n",
        "7: {id: \"1QVYdBeVYgq2ylqGOnotYNp6TCHOgHntm\", date: \"2020-06\"}\n",
        "8: {id: \"1Wq9A8UMlOXuJ6anGuh4h1u7NgtwxjO6J\", date: \"2020-07\"}\n",
        "9: {id: \"1Jer8rxhCiiBSg3uy6S-TpVufyH5nFvTm\", date: \"2020-08\"}\n",
        "10: {id: \"1j1pKavboE28ma9aR1-kW189JMy-hMnWA\", date: \"2020-09\"}\n",
        "11: {id: \"1xo-2PxlKcyKJsO9a1YMDXHHueO1i0lXH\", date: \"2019-03\"}\n",
        "12: {id: \"18f-o_mbU91s4rTfKM3eYTjVEA0xpI0q8\", date: \"2019-04\"}\n",
        "13: {id: \"1Z8RBW7pA7X4a4gMaBDHqILjgppWZAGEO\", date: \"2019-05\"}\n",
        "14: {id: \"1ZlBNZ7GMIn0hWh2bqkUst2OG0pWzeVZr\", date: \"2019-06\"}\n",
        "15: {id: \"1E78FWNsJrZJlBPeBmy9gzlSdldZa6tyE\", date: \"2019-07\"}\n",
        "16: {id: \"18p5lp7_bqns6wEZB8bLY9bOBPx1bC-SU\", date: \"2019-08\"}\n",
        "17: {id: \"1wdjos1LubTFkTAkTnbic3abA43b5rq4P\", date: \"2019-09\"}\n",
        "18: {id: \"1ZSzGW2tTneROe67Z6JHYGxX5hgLhCbtX\", date: \"2019-10\"}\n",
        "```\n",
        "result > ![결과 화면]('https://drive.google.com/file/d/1OV-uxZQCd_822FVc5R4iRCTwv9Ua4Pf6/view?usp=sharing')"
      ]
    },
    {
      "cell_type": "markdown",
      "metadata": {
        "id": "gCfE7PfhDTsU"
      },
      "source": [
        "구글 파일 id와 날짜를 손으로 매칭시킨다."
      ]
    },
    {
      "cell_type": "code",
      "metadata": {
        "id": "90S-JQAq5RDq"
      },
      "source": [
        "ids = [\n",
        "{\"id\": \"1lBVb8yPB5HY3XRIC1vL3T795ZB0MD6jE\", \"date\": \"2019-11\"},\n",
        "{\"id\": \"1W_b2c455hGpS84XzQdz7dmtjchyYurwU\", \"date\": \"2019-12\"},\n",
        "{\"id\": \"1F7aRc4kL8x690Zz7nevlnF3PAxCxFOFC\", \"date\": \"2020-01\"},\n",
        "{\"id\": \"12ZFfiI-br9cpt-YdfOyqr756CuoeeqX_\", \"date\": \"2020-02\"},\n",
        "{\"id\": \"1OBBYjT7tNy85J5RX7FeWY4WDqA_ASYu_\", \"date\": \"2020-03\"},\n",
        "{\"id\": \"1s576x4De8vI1Q3L-r__8s0pXiBsgJ82B\", \"date\": \"2020-04\"},\n",
        "{\"id\": \"146ncu-i1Jm025y73-YAAIh5RUm68_OMl\", \"date\": \"2020-05\"},\n",
        "{\"id\": \"1QVYdBeVYgq2ylqGOnotYNp6TCHOgHntm\", \"date\": \"2020-06\"},\n",
        "{\"id\": \"1Wq9A8UMlOXuJ6anGuh4h1u7NgtwxjO6J\", \"date\": \"2020-07\"},\n",
        "{\"id\": \"1Jer8rxhCiiBSg3uy6S-TpVufyH5nFvTm\", \"date\": \"2020-08\"},\n",
        "{\"id\": \"1j1pKavboE28ma9aR1-kW189JMy-hMnWA\", \"date\": \"2020-09\"},\n",
        "{\"id\": \"1xo-2PxlKcyKJsO9a1YMDXHHueO1i0lXH\", \"date\": \"2019-03\"},\n",
        "{\"id\": \"18f-o_mbU91s4rTfKM3eYTjVEA0xpI0q8\", \"date\": \"2019-04\"},\n",
        "{\"id\": \"1Z8RBW7pA7X4a4gMaBDHqILjgppWZAGEO\", \"date\": \"2019-05\"},\n",
        "{\"id\": \"1ZlBNZ7GMIn0hWh2bqkUst2OG0pWzeVZr\", \"date\": \"2019-06\"},\n",
        "{\"id\": \"1E78FWNsJrZJlBPeBmy9gzlSdldZa6tyE\", \"date\": \"2019-07\"},\n",
        "{\"id\": \"18p5lp7_bqns6wEZB8bLY9bOBPx1bC-SU\", \"date\": \"2019-08\"},\n",
        "{\"id\": \"1wdjos1LubTFkTAkTnbic3abA43b5rq4P\", \"date\": \"2019-09\"},\n",
        "{\"id\": \"1ZSzGW2tTneROe67Z6JHYGxX5hgLhCbtX\", \"date\": \"2019-10\"}]\n"
      ],
      "execution_count": null,
      "outputs": []
    },
    {
      "cell_type": "code",
      "metadata": {
        "id": "Ca2SKpWL-tis"
      },
      "source": [
        "# 날짜 기준으로 정렬하기\n",
        "ids.sort(key=lambda x: x['date'])"
      ],
      "execution_count": null,
      "outputs": []
    },
    {
      "cell_type": "code",
      "metadata": {
        "id": "09HeTsWk-uw4",
        "outputId": "0ac819a7-00f6-41fc-9d70-b06714d71ca5",
        "colab": {
          "base_uri": "https://localhost:8080/"
        }
      },
      "source": [
        "ids"
      ],
      "execution_count": null,
      "outputs": [
        {
          "output_type": "execute_result",
          "data": {
            "text/plain": [
              "[{'date': '2019-03', 'id': '1xo-2PxlKcyKJsO9a1YMDXHHueO1i0lXH'},\n",
              " {'date': '2019-04', 'id': '18f-o_mbU91s4rTfKM3eYTjVEA0xpI0q8'},\n",
              " {'date': '2019-05', 'id': '1Z8RBW7pA7X4a4gMaBDHqILjgppWZAGEO'},\n",
              " {'date': '2019-06', 'id': '1ZlBNZ7GMIn0hWh2bqkUst2OG0pWzeVZr'},\n",
              " {'date': '2019-07', 'id': '1E78FWNsJrZJlBPeBmy9gzlSdldZa6tyE'},\n",
              " {'date': '2019-08', 'id': '18p5lp7_bqns6wEZB8bLY9bOBPx1bC-SU'},\n",
              " {'date': '2019-09', 'id': '1wdjos1LubTFkTAkTnbic3abA43b5rq4P'},\n",
              " {'date': '2019-10', 'id': '1ZSzGW2tTneROe67Z6JHYGxX5hgLhCbtX'},\n",
              " {'date': '2019-11', 'id': '1lBVb8yPB5HY3XRIC1vL3T795ZB0MD6jE'},\n",
              " {'date': '2019-12', 'id': '1W_b2c455hGpS84XzQdz7dmtjchyYurwU'},\n",
              " {'date': '2020-01', 'id': '1F7aRc4kL8x690Zz7nevlnF3PAxCxFOFC'},\n",
              " {'date': '2020-02', 'id': '12ZFfiI-br9cpt-YdfOyqr756CuoeeqX_'},\n",
              " {'date': '2020-03', 'id': '1OBBYjT7tNy85J5RX7FeWY4WDqA_ASYu_'},\n",
              " {'date': '2020-04', 'id': '1s576x4De8vI1Q3L-r__8s0pXiBsgJ82B'},\n",
              " {'date': '2020-05', 'id': '146ncu-i1Jm025y73-YAAIh5RUm68_OMl'},\n",
              " {'date': '2020-06', 'id': '1QVYdBeVYgq2ylqGOnotYNp6TCHOgHntm'},\n",
              " {'date': '2020-07', 'id': '1Wq9A8UMlOXuJ6anGuh4h1u7NgtwxjO6J'},\n",
              " {'date': '2020-08', 'id': '1Jer8rxhCiiBSg3uy6S-TpVufyH5nFvTm'},\n",
              " {'date': '2020-09', 'id': '1j1pKavboE28ma9aR1-kW189JMy-hMnWA'}]"
            ]
          },
          "metadata": {
            "tags": []
          },
          "execution_count": 11
        }
      ]
    },
    {
      "cell_type": "code",
      "metadata": {
        "id": "SvnrLh3rAt7L",
        "outputId": "3312d5a5-f939-4702-a416-b5497d51f83c",
        "colab": {
          "base_uri": "https://localhost:8080/",
          "height": 425
        }
      },
      "source": [
        "def download_path_by_id(id: str) -> str:\n",
        "  return f'https://drive.google.com/uc?id={id}&authuser=0&export=download'\n",
        "\n",
        "df_origin = pd.DataFrame(data=None, columns=['일자', '시간(1시간단위)', '연령대(10세단위)', '성별', '시', '군구', '유동인구수'])\n",
        "\n",
        "for x in ids:\n",
        "  f_id = download_path_by_id(x['id'])\n",
        "  print(x['date'], f_id)\n",
        "  df_origin = df_origin.append(pd.read_csv(f_id))\n",
        "\n",
        "df_origin.tail(1)"
      ],
      "execution_count": null,
      "outputs": [
        {
          "output_type": "stream",
          "text": [
            "2019-03 https://drive.google.com/uc?id=1xo-2PxlKcyKJsO9a1YMDXHHueO1i0lXH&authuser=0&export=download\n",
            "2019-04 https://drive.google.com/uc?id=18f-o_mbU91s4rTfKM3eYTjVEA0xpI0q8&authuser=0&export=download\n",
            "2019-05 https://drive.google.com/uc?id=1Z8RBW7pA7X4a4gMaBDHqILjgppWZAGEO&authuser=0&export=download\n",
            "2019-06 https://drive.google.com/uc?id=1ZlBNZ7GMIn0hWh2bqkUst2OG0pWzeVZr&authuser=0&export=download\n",
            "2019-07 https://drive.google.com/uc?id=1E78FWNsJrZJlBPeBmy9gzlSdldZa6tyE&authuser=0&export=download\n",
            "2019-08 https://drive.google.com/uc?id=18p5lp7_bqns6wEZB8bLY9bOBPx1bC-SU&authuser=0&export=download\n",
            "2019-09 https://drive.google.com/uc?id=1wdjos1LubTFkTAkTnbic3abA43b5rq4P&authuser=0&export=download\n",
            "2019-10 https://drive.google.com/uc?id=1ZSzGW2tTneROe67Z6JHYGxX5hgLhCbtX&authuser=0&export=download\n",
            "2019-11 https://drive.google.com/uc?id=1lBVb8yPB5HY3XRIC1vL3T795ZB0MD6jE&authuser=0&export=download\n",
            "2019-12 https://drive.google.com/uc?id=1W_b2c455hGpS84XzQdz7dmtjchyYurwU&authuser=0&export=download\n",
            "2020-01 https://drive.google.com/uc?id=1F7aRc4kL8x690Zz7nevlnF3PAxCxFOFC&authuser=0&export=download\n",
            "2020-02 https://drive.google.com/uc?id=12ZFfiI-br9cpt-YdfOyqr756CuoeeqX_&authuser=0&export=download\n",
            "2020-03 https://drive.google.com/uc?id=1OBBYjT7tNy85J5RX7FeWY4WDqA_ASYu_&authuser=0&export=download\n",
            "2020-04 https://drive.google.com/uc?id=1s576x4De8vI1Q3L-r__8s0pXiBsgJ82B&authuser=0&export=download\n",
            "2020-05 https://drive.google.com/uc?id=146ncu-i1Jm025y73-YAAIh5RUm68_OMl&authuser=0&export=download\n",
            "2020-06 https://drive.google.com/uc?id=1QVYdBeVYgq2ylqGOnotYNp6TCHOgHntm&authuser=0&export=download\n",
            "2020-07 https://drive.google.com/uc?id=1Wq9A8UMlOXuJ6anGuh4h1u7NgtwxjO6J&authuser=0&export=download\n",
            "2020-08 https://drive.google.com/uc?id=1Jer8rxhCiiBSg3uy6S-TpVufyH5nFvTm&authuser=0&export=download\n",
            "2020-09 https://drive.google.com/uc?id=1j1pKavboE28ma9aR1-kW189JMy-hMnWA&authuser=0&export=download\n"
          ],
          "name": "stdout"
        },
        {
          "output_type": "execute_result",
          "data": {
            "text/html": [
              "<div>\n",
              "<style scoped>\n",
              "    .dataframe tbody tr th:only-of-type {\n",
              "        vertical-align: middle;\n",
              "    }\n",
              "\n",
              "    .dataframe tbody tr th {\n",
              "        vertical-align: top;\n",
              "    }\n",
              "\n",
              "    .dataframe thead th {\n",
              "        text-align: right;\n",
              "    }\n",
              "</style>\n",
              "<table border=\"1\" class=\"dataframe\">\n",
              "  <thead>\n",
              "    <tr style=\"text-align: right;\">\n",
              "      <th></th>\n",
              "      <th>일자</th>\n",
              "      <th>시간(1시간단위)</th>\n",
              "      <th>연령대(10세단위)</th>\n",
              "      <th>성별</th>\n",
              "      <th>시</th>\n",
              "      <th>군구</th>\n",
              "      <th>유동인구수</th>\n",
              "    </tr>\n",
              "  </thead>\n",
              "  <tbody>\n",
              "    <tr>\n",
              "      <th>215699</th>\n",
              "      <td>20200930</td>\n",
              "      <td>21</td>\n",
              "      <td>70</td>\n",
              "      <td>여성</td>\n",
              "      <td>서울</td>\n",
              "      <td>관악구</td>\n",
              "      <td>21050</td>\n",
              "    </tr>\n",
              "  </tbody>\n",
              "</table>\n",
              "</div>"
            ],
            "text/plain": [
              "              일자 시간(1시간단위) 연령대(10세단위)  성별   시   군구  유동인구수\n",
              "215699  20200930        21         70  여성  서울  관악구  21050"
            ]
          },
          "metadata": {
            "tags": []
          },
          "execution_count": 12
        }
      ]
    },
    {
      "cell_type": "code",
      "metadata": {
        "id": "R3yE--tlCzay",
        "outputId": "f97e9960-bbcd-4f43-99b2-dcfc9ab3f332",
        "colab": {
          "base_uri": "https://localhost:8080/"
        }
      },
      "source": [
        "df_origin.info()"
      ],
      "execution_count": 175,
      "outputs": [
        {
          "output_type": "stream",
          "text": [
            "<class 'pandas.core.frame.DataFrame'>\n",
            "Int64Index: 4155600 entries, 0 to 215699\n",
            "Data columns (total 7 columns):\n",
            " #   Column      Dtype \n",
            "---  ------      ----- \n",
            " 0   일자          object\n",
            " 1   시간(1시간단위)   object\n",
            " 2   연령대(10세단위)  object\n",
            " 3   성별          object\n",
            " 4   시           object\n",
            " 5   군구          object\n",
            " 6   유동인구수       object\n",
            "dtypes: object(7)\n",
            "memory usage: 253.6+ MB\n"
          ],
          "name": "stdout"
        }
      ]
    },
    {
      "cell_type": "code",
      "metadata": {
        "id": "T00f9JPJt_fm"
      },
      "source": [
        "df = df_origin.copy()"
      ],
      "execution_count": 183,
      "outputs": []
    },
    {
      "cell_type": "code",
      "metadata": {
        "id": "sq-qDQjjluuf"
      },
      "source": [
        "df['일자'] = df['일자'].apply(str)\n",
        "df['일자'] = df['일자'].apply(lambda s: '-'.join([s[:4], s[4:6], s[6:8]]))\n",
        "df['일자'] = pd.to_datetime(df['일자'], format='%Y-%m-%d')"
      ],
      "execution_count": 184,
      "outputs": []
    },
    {
      "cell_type": "code",
      "metadata": {
        "id": "oNa9uaeHseKU",
        "outputId": "b33636e7-4c5b-40a0-d4a5-147fb590100e",
        "colab": {
          "base_uri": "https://localhost:8080/",
          "height": 78
        }
      },
      "source": [
        "df.head(1)"
      ],
      "execution_count": 185,
      "outputs": [
        {
          "output_type": "execute_result",
          "data": {
            "text/html": [
              "<div>\n",
              "<style scoped>\n",
              "    .dataframe tbody tr th:only-of-type {\n",
              "        vertical-align: middle;\n",
              "    }\n",
              "\n",
              "    .dataframe tbody tr th {\n",
              "        vertical-align: top;\n",
              "    }\n",
              "\n",
              "    .dataframe thead th {\n",
              "        text-align: right;\n",
              "    }\n",
              "</style>\n",
              "<table border=\"1\" class=\"dataframe\">\n",
              "  <thead>\n",
              "    <tr style=\"text-align: right;\">\n",
              "      <th></th>\n",
              "      <th>일자</th>\n",
              "      <th>시간(1시간단위)</th>\n",
              "      <th>연령대(10세단위)</th>\n",
              "      <th>성별</th>\n",
              "      <th>시</th>\n",
              "      <th>군구</th>\n",
              "      <th>유동인구수</th>\n",
              "    </tr>\n",
              "  </thead>\n",
              "  <tbody>\n",
              "    <tr>\n",
              "      <th>0</th>\n",
              "      <td>2019-03-01</td>\n",
              "      <td>0</td>\n",
              "      <td>20</td>\n",
              "      <td>남성</td>\n",
              "      <td>서울</td>\n",
              "      <td>양천구</td>\n",
              "      <td>28720</td>\n",
              "    </tr>\n",
              "  </tbody>\n",
              "</table>\n",
              "</div>"
            ],
            "text/plain": [
              "          일자 시간(1시간단위) 연령대(10세단위)  성별   시   군구  유동인구수\n",
              "0 2019-03-01         0         20  남성  서울  양천구  28720"
            ]
          },
          "metadata": {
            "tags": []
          },
          "execution_count": 185
        }
      ]
    },
    {
      "cell_type": "code",
      "metadata": {
        "id": "F6xq8wC2NbME",
        "outputId": "1f8a4886-335d-4404-909a-7e8ef7c5fda0",
        "colab": {
          "base_uri": "https://localhost:8080/"
        }
      },
      "source": [
        "date_time = df.iloc[30000, 0]\n",
        "date_time.weekday(), date_time.day_name()"
      ],
      "execution_count": 196,
      "outputs": [
        {
          "output_type": "execute_result",
          "data": {
            "text/plain": [
              "(0, 'Monday')"
            ]
          },
          "metadata": {
            "tags": []
          },
          "execution_count": 196
        }
      ]
    },
    {
      "cell_type": "code",
      "metadata": {
        "id": "QscD7oUPsYhQ",
        "outputId": "3c73a0f4-06dd-418e-cca4-f461161ea2ae",
        "colab": {
          "base_uri": "https://localhost:8080/"
        }
      },
      "source": [
        "date_time.day"
      ],
      "execution_count": 203,
      "outputs": [
        {
          "output_type": "execute_result",
          "data": {
            "text/plain": [
              "11"
            ]
          },
          "metadata": {
            "tags": []
          },
          "execution_count": 203
        }
      ]
    },
    {
      "cell_type": "code",
      "metadata": {
        "id": "O6FC02ZAm2Si",
        "outputId": "88a9d27c-74d6-46c0-f298-a639edc2411f",
        "colab": {
          "base_uri": "https://localhost:8080/",
          "height": 78
        }
      },
      "source": [
        "df['요일'] = df['일자'].apply(lambda x: x.day_name())\n",
        "df.head(1)"
      ],
      "execution_count": 180,
      "outputs": [
        {
          "output_type": "execute_result",
          "data": {
            "text/html": [
              "<div>\n",
              "<style scoped>\n",
              "    .dataframe tbody tr th:only-of-type {\n",
              "        vertical-align: middle;\n",
              "    }\n",
              "\n",
              "    .dataframe tbody tr th {\n",
              "        vertical-align: top;\n",
              "    }\n",
              "\n",
              "    .dataframe thead th {\n",
              "        text-align: right;\n",
              "    }\n",
              "</style>\n",
              "<table border=\"1\" class=\"dataframe\">\n",
              "  <thead>\n",
              "    <tr style=\"text-align: right;\">\n",
              "      <th></th>\n",
              "      <th>일자</th>\n",
              "      <th>시간(1시간단위)</th>\n",
              "      <th>연령대(10세단위)</th>\n",
              "      <th>성별</th>\n",
              "      <th>시</th>\n",
              "      <th>군구</th>\n",
              "      <th>유동인구수</th>\n",
              "      <th>요일</th>\n",
              "    </tr>\n",
              "  </thead>\n",
              "  <tbody>\n",
              "    <tr>\n",
              "      <th>0</th>\n",
              "      <td>2019-03-01</td>\n",
              "      <td>0</td>\n",
              "      <td>20</td>\n",
              "      <td>남성</td>\n",
              "      <td>서울</td>\n",
              "      <td>양천구</td>\n",
              "      <td>28720</td>\n",
              "      <td>Friday</td>\n",
              "    </tr>\n",
              "  </tbody>\n",
              "</table>\n",
              "</div>"
            ],
            "text/plain": [
              "          일자 시간(1시간단위) 연령대(10세단위)  성별   시   군구  유동인구수      요일\n",
              "0 2019-03-01         0         20  남성  서울  양천구  28720  Friday"
            ]
          },
          "metadata": {
            "tags": []
          },
          "execution_count": 180
        }
      ]
    },
    {
      "cell_type": "code",
      "metadata": {
        "id": "GKw4_tkgsxxP"
      },
      "source": [
        "df['유동인구수'] = df['유동인구수'].apply(int)\n",
        "df['연령대(10세단위)'] = df['연령대(10세단위)'].apply(int)\n",
        "df['시간(1시간단위)'] = df['시간(1시간단위)'].apply(int)\n",
        "df['성별'] = np.where(df['성별'] == '남성', 1, 2)\n"
      ],
      "execution_count": 181,
      "outputs": []
    },
    {
      "cell_type": "code",
      "metadata": {
        "id": "uLk9Bbfuswml",
        "outputId": "deb22844-2dce-443d-ee28-16ee6c1d6c8e",
        "colab": {
          "base_uri": "https://localhost:8080/"
        }
      },
      "source": [
        "# df.drop(columns=['시'], inplace=True)\n",
        "df.info()"
      ],
      "execution_count": 182,
      "outputs": [
        {
          "output_type": "stream",
          "text": [
            "<class 'pandas.core.frame.DataFrame'>\n",
            "Int64Index: 4155600 entries, 0 to 215699\n",
            "Data columns (total 7 columns):\n",
            " #   Column      Dtype         \n",
            "---  ------      -----         \n",
            " 0   일자          datetime64[ns]\n",
            " 1   시간(1시간단위)   int64         \n",
            " 2   연령대(10세단위)  int64         \n",
            " 3   성별          int64         \n",
            " 4   군구          object        \n",
            " 5   유동인구수       int64         \n",
            " 6   요일          object        \n",
            "dtypes: datetime64[ns](1), int64(4), object(2)\n",
            "memory usage: 253.6+ MB\n"
          ],
          "name": "stdout"
        }
      ]
    },
    {
      "cell_type": "markdown",
      "metadata": {
        "id": "AKodvCJB0vYW"
      },
      "source": [
        "## 사회적 거리두기 캠페인 기간 - 작년과 비교\n",
        "\n",
        "2019-08-18 ~ 2019-09-08\n",
        "\n",
        "2020-08-16 ~ 2020-09-06\n",
        "\n",
        "월 ~ 일"
      ]
    },
    {
      "cell_type": "code",
      "metadata": {
        "id": "hxZxsp_-lJCe"
      },
      "source": [
        "df_2019 = df[df['일자'] > '2019-08-18']\n",
        "df_2019 = df_2019[df_2019['일자'] < '2019-09-08']\n",
        "df_2019_max = df_2019.groupby(['일자', '요일', '군구'])['유동인구수'].max()\n",
        "df_2019_max.groupby('군구').max()\n",
        "df_2019_max = pd.DataFrame(df_2019_max, columns=['일자', '유동인구수'])"
      ],
      "execution_count": 127,
      "outputs": []
    },
    {
      "cell_type": "code",
      "metadata": {
        "id": "5he9WR7k8YAP",
        "outputId": "f8d378f8-16a8-4241-c4d0-a8fa5e1945bd",
        "colab": {
          "base_uri": "https://localhost:8080/",
          "height": 828
        }
      },
      "source": [
        "df_2019_max.groupby('군구').std()"
      ],
      "execution_count": 86,
      "outputs": [
        {
          "output_type": "execute_result",
          "data": {
            "text/html": [
              "<div>\n",
              "<style scoped>\n",
              "    .dataframe tbody tr th:only-of-type {\n",
              "        vertical-align: middle;\n",
              "    }\n",
              "\n",
              "    .dataframe tbody tr th {\n",
              "        vertical-align: top;\n",
              "    }\n",
              "\n",
              "    .dataframe thead th {\n",
              "        text-align: right;\n",
              "    }\n",
              "</style>\n",
              "<table border=\"1\" class=\"dataframe\">\n",
              "  <thead>\n",
              "    <tr style=\"text-align: right;\">\n",
              "      <th></th>\n",
              "      <th>유동인구수</th>\n",
              "    </tr>\n",
              "    <tr>\n",
              "      <th>군구</th>\n",
              "      <th></th>\n",
              "    </tr>\n",
              "  </thead>\n",
              "  <tbody>\n",
              "    <tr>\n",
              "      <th>강남구</th>\n",
              "      <td>21799.792967</td>\n",
              "    </tr>\n",
              "    <tr>\n",
              "      <th>강동구</th>\n",
              "      <td>362.046813</td>\n",
              "    </tr>\n",
              "    <tr>\n",
              "      <th>강북구</th>\n",
              "      <td>622.680749</td>\n",
              "    </tr>\n",
              "    <tr>\n",
              "      <th>강서구</th>\n",
              "      <td>236.208539</td>\n",
              "    </tr>\n",
              "    <tr>\n",
              "      <th>관악구</th>\n",
              "      <td>542.943973</td>\n",
              "    </tr>\n",
              "    <tr>\n",
              "      <th>광진구</th>\n",
              "      <td>1186.383270</td>\n",
              "    </tr>\n",
              "    <tr>\n",
              "      <th>구로구</th>\n",
              "      <td>910.725564</td>\n",
              "    </tr>\n",
              "    <tr>\n",
              "      <th>금천구</th>\n",
              "      <td>5529.329906</td>\n",
              "    </tr>\n",
              "    <tr>\n",
              "      <th>노원구</th>\n",
              "      <td>392.609355</td>\n",
              "    </tr>\n",
              "    <tr>\n",
              "      <th>도봉구</th>\n",
              "      <td>650.399675</td>\n",
              "    </tr>\n",
              "    <tr>\n",
              "      <th>동대문구</th>\n",
              "      <td>1401.647902</td>\n",
              "    </tr>\n",
              "    <tr>\n",
              "      <th>동작구</th>\n",
              "      <td>1184.316258</td>\n",
              "    </tr>\n",
              "    <tr>\n",
              "      <th>마포구</th>\n",
              "      <td>4287.420860</td>\n",
              "    </tr>\n",
              "    <tr>\n",
              "      <th>서대문구</th>\n",
              "      <td>5620.458190</td>\n",
              "    </tr>\n",
              "    <tr>\n",
              "      <th>서초구</th>\n",
              "      <td>9048.700328</td>\n",
              "    </tr>\n",
              "    <tr>\n",
              "      <th>성동구</th>\n",
              "      <td>2306.354152</td>\n",
              "    </tr>\n",
              "    <tr>\n",
              "      <th>성북구</th>\n",
              "      <td>2029.293629</td>\n",
              "    </tr>\n",
              "    <tr>\n",
              "      <th>송파구</th>\n",
              "      <td>1789.964716</td>\n",
              "    </tr>\n",
              "    <tr>\n",
              "      <th>양천구</th>\n",
              "      <td>965.702771</td>\n",
              "    </tr>\n",
              "    <tr>\n",
              "      <th>영등포구</th>\n",
              "      <td>9166.003477</td>\n",
              "    </tr>\n",
              "    <tr>\n",
              "      <th>용산구</th>\n",
              "      <td>2040.618843</td>\n",
              "    </tr>\n",
              "    <tr>\n",
              "      <th>은평구</th>\n",
              "      <td>487.026153</td>\n",
              "    </tr>\n",
              "    <tr>\n",
              "      <th>종로구</th>\n",
              "      <td>6679.782064</td>\n",
              "    </tr>\n",
              "    <tr>\n",
              "      <th>중구</th>\n",
              "      <td>16538.992611</td>\n",
              "    </tr>\n",
              "    <tr>\n",
              "      <th>중랑구</th>\n",
              "      <td>546.339734</td>\n",
              "    </tr>\n",
              "  </tbody>\n",
              "</table>\n",
              "</div>"
            ],
            "text/plain": [
              "             유동인구수\n",
              "군구                \n",
              "강남구   21799.792967\n",
              "강동구     362.046813\n",
              "강북구     622.680749\n",
              "강서구     236.208539\n",
              "관악구     542.943973\n",
              "광진구    1186.383270\n",
              "구로구     910.725564\n",
              "금천구    5529.329906\n",
              "노원구     392.609355\n",
              "도봉구     650.399675\n",
              "동대문구   1401.647902\n",
              "동작구    1184.316258\n",
              "마포구    4287.420860\n",
              "서대문구   5620.458190\n",
              "서초구    9048.700328\n",
              "성동구    2306.354152\n",
              "성북구    2029.293629\n",
              "송파구    1789.964716\n",
              "양천구     965.702771\n",
              "영등포구   9166.003477\n",
              "용산구    2040.618843\n",
              "은평구     487.026153\n",
              "종로구    6679.782064\n",
              "중구    16538.992611\n",
              "중랑구     546.339734"
            ]
          },
          "metadata": {
            "tags": []
          },
          "execution_count": 86
        }
      ]
    },
    {
      "cell_type": "code",
      "metadata": {
        "id": "cxJsg3GPmQq1"
      },
      "source": [
        "df_2020 = df[df['일자'] > '2020-08-16']\n",
        "df_2020 = df_2020[df_2020['일자'] < '2020-09-06']\n",
        "df_2020_max = df_2020.groupby(['일자', '요일', '군구'])['유동인구수'].max()"
      ],
      "execution_count": 128,
      "outputs": []
    },
    {
      "cell_type": "code",
      "metadata": {
        "id": "rs1oY6A-qGuP"
      },
      "source": [
        "df_2020_max = pd.DataFrame(df_2020_max, columns=['일자', '유동인구수'])"
      ],
      "execution_count": 129,
      "outputs": []
    },
    {
      "cell_type": "code",
      "metadata": {
        "id": "_jTyod3roSNe",
        "outputId": "1368e1a0-cddc-4ad9-ec08-5c7e979aa6b9",
        "colab": {
          "base_uri": "https://localhost:8080/"
        }
      },
      "source": [
        "np.array(df_2019_max['유동인구수']) > np.array(df_2020_max['유동인구수'])"
      ],
      "execution_count": 130,
      "outputs": [
        {
          "output_type": "execute_result",
          "data": {
            "text/plain": [
              "array([ True, False,  True,  True,  True,  True, False,  True,  True,\n",
              "        True, False, False,  True,  True,  True,  True,  True, False,\n",
              "        True,  True,  True,  True,  True,  True,  True,  True, False,\n",
              "        True, False, False,  True, False, False, False, False, False,\n",
              "       False,  True,  True, False, False, False,  True, False,  True,\n",
              "        True, False,  True,  True, False,  True, False,  True, False,\n",
              "       False,  True, False, False,  True, False, False, False,  True,\n",
              "        True,  True, False, False, False, False,  True,  True, False,\n",
              "        True,  True, False,  True, False,  True, False, False,  True,\n",
              "       False,  True,  True, False, False, False,  True,  True,  True,\n",
              "       False, False, False, False,  True,  True, False,  True,  True,\n",
              "       False,  True, False,  True, False, False,  True, False,  True,\n",
              "        True, False, False, False,  True,  True,  True, False, False,\n",
              "        True, False,  True,  True, False,  True,  True, False,  True,\n",
              "       False,  True, False, False,  True, False, False, False, False,\n",
              "       False, False,  True,  True,  True, False, False, False, False,\n",
              "       False,  True, False,  True,  True, False,  True, False, False,\n",
              "       False, False,  True, False, False, False, False, False, False,\n",
              "        True, False,  True, False, False, False, False, False,  True,\n",
              "       False,  True,  True, False,  True, False, False, False, False,\n",
              "        True, False,  True, False, False, False, False,  True,  True,\n",
              "        True, False, False,  True,  True,  True,  True, False,  True,\n",
              "        True, False,  True, False, False, False, False,  True, False,\n",
              "        True, False, False, False, False,  True,  True,  True, False,\n",
              "        True,  True,  True,  True,  True, False,  True,  True,  True,\n",
              "        True, False, False, False, False,  True, False,  True, False,\n",
              "       False, False, False,  True,  True,  True, False, False,  True,\n",
              "        True,  True,  True, False,  True,  True, False,  True, False,\n",
              "       False, False, False,  True, False,  True, False, False, False,\n",
              "       False,  True,  True,  True, False, False, False,  True,  True,\n",
              "        True, False,  True,  True, False,  True, False, False, False,\n",
              "       False,  True, False,  True, False, False, False, False,  True,\n",
              "        True,  True, False,  True,  True, False,  True,  True, False,\n",
              "        True,  True,  True,  True,  True, False, False,  True,  True,\n",
              "        True, False, False,  True,  True,  True,  True,  True,  True,\n",
              "       False,  True,  True,  True,  True,  True, False,  True,  True,\n",
              "        True,  True, False, False, False,  True,  True, False, False,\n",
              "       False,  True,  True,  True,  True,  True,  True, False,  True,\n",
              "        True,  True,  True,  True, False,  True,  True,  True,  True,\n",
              "       False, False, False, False,  True, False,  True, False,  True,\n",
              "        True,  True,  True,  True,  True,  True,  True,  True,  True,\n",
              "        True,  True, False,  True,  True,  True,  True, False, False,\n",
              "       False, False,  True, False,  True, False,  True,  True,  True,\n",
              "        True,  True,  True,  True,  True,  True,  True,  True,  True,\n",
              "       False,  True,  True,  True,  True, False, False, False, False,\n",
              "        True, False,  True, False,  True,  True,  True,  True,  True,\n",
              "        True, False,  True,  True,  True,  True,  True, False,  True,\n",
              "        True,  True,  True, False, False, False, False,  True,  True,\n",
              "        True, False,  True,  True,  True,  True,  True,  True, False,\n",
              "        True,  True,  True,  True,  True, False,  True,  True,  True,\n",
              "        True, False, False, False, False,  True,  True,  True, False,\n",
              "        True,  True,  True,  True,  True,  True, False,  True,  True,\n",
              "        True,  True,  True, False,  True,  True,  True,  True, False,\n",
              "       False, False,  True,  True,  True,  True, False,  True,  True,\n",
              "       False,  True,  True,  True,  True,  True,  True,  True,  True,\n",
              "        True,  True,  True,  True,  True])"
            ]
          },
          "metadata": {
            "tags": []
          },
          "execution_count": 130
        }
      ]
    },
    {
      "cell_type": "code",
      "metadata": {
        "id": "VMahu-4rtVYZ"
      },
      "source": [
        "df_2020_max.drop(columns='일자', inplace=True)\n",
        "df_2019_max.drop(columns='일자', inplace=True)\n",
        "\n",
        "df_2020_max = df_2020_max.reset_index()\n",
        "df_2019_max = df_2019_max.reset_index()"
      ],
      "execution_count": 131,
      "outputs": []
    },
    {
      "cell_type": "code",
      "metadata": {
        "id": "oG1AeD0DStBs",
        "outputId": "3e596379-7428-4367-b9d1-e9f330c7deb5",
        "colab": {
          "base_uri": "https://localhost:8080/",
          "height": 78
        }
      },
      "source": [
        "df_2020_max.head(1)"
      ],
      "execution_count": 169,
      "outputs": [
        {
          "output_type": "execute_result",
          "data": {
            "text/html": [
              "<div>\n",
              "<style scoped>\n",
              "    .dataframe tbody tr th:only-of-type {\n",
              "        vertical-align: middle;\n",
              "    }\n",
              "\n",
              "    .dataframe tbody tr th {\n",
              "        vertical-align: top;\n",
              "    }\n",
              "\n",
              "    .dataframe thead th {\n",
              "        text-align: right;\n",
              "    }\n",
              "</style>\n",
              "<table border=\"1\" class=\"dataframe\">\n",
              "  <thead>\n",
              "    <tr style=\"text-align: right;\">\n",
              "      <th></th>\n",
              "      <th>일자</th>\n",
              "      <th>요일</th>\n",
              "      <th>군구</th>\n",
              "      <th>유동인구수</th>\n",
              "    </tr>\n",
              "  </thead>\n",
              "  <tbody>\n",
              "    <tr>\n",
              "      <th>0</th>\n",
              "      <td>2020-08-17</td>\n",
              "      <td>Monday</td>\n",
              "      <td>강남구</td>\n",
              "      <td>68050</td>\n",
              "    </tr>\n",
              "  </tbody>\n",
              "</table>\n",
              "</div>"
            ],
            "text/plain": [
              "          일자      요일   군구  유동인구수\n",
              "0 2020-08-17  Monday  강남구  68050"
            ]
          },
          "metadata": {
            "tags": []
          },
          "execution_count": 169
        }
      ]
    },
    {
      "cell_type": "code",
      "metadata": {
        "id": "HlXKOC2CSulT",
        "outputId": "88df6720-026a-440e-aa19-22d0a55a9a4e",
        "colab": {
          "base_uri": "https://localhost:8080/",
          "height": 78
        }
      },
      "source": [
        "df_2019_max.head(1)"
      ],
      "execution_count": 170,
      "outputs": [
        {
          "output_type": "execute_result",
          "data": {
            "text/html": [
              "<div>\n",
              "<style scoped>\n",
              "    .dataframe tbody tr th:only-of-type {\n",
              "        vertical-align: middle;\n",
              "    }\n",
              "\n",
              "    .dataframe tbody tr th {\n",
              "        vertical-align: top;\n",
              "    }\n",
              "\n",
              "    .dataframe thead th {\n",
              "        text-align: right;\n",
              "    }\n",
              "</style>\n",
              "<table border=\"1\" class=\"dataframe\">\n",
              "  <thead>\n",
              "    <tr style=\"text-align: right;\">\n",
              "      <th></th>\n",
              "      <th>일자</th>\n",
              "      <th>요일</th>\n",
              "      <th>군구</th>\n",
              "      <th>유동인구수</th>\n",
              "    </tr>\n",
              "  </thead>\n",
              "  <tbody>\n",
              "    <tr>\n",
              "      <th>0</th>\n",
              "      <td>2019-08-19</td>\n",
              "      <td>Monday</td>\n",
              "      <td>강남구</td>\n",
              "      <td>119010</td>\n",
              "    </tr>\n",
              "  </tbody>\n",
              "</table>\n",
              "</div>"
            ],
            "text/plain": [
              "          일자      요일   군구   유동인구수\n",
              "0 2019-08-19  Monday  강남구  119010"
            ]
          },
          "metadata": {
            "tags": []
          },
          "execution_count": 170
        }
      ]
    },
    {
      "cell_type": "code",
      "metadata": {
        "id": "OzZwNA08N71L"
      },
      "source": [
        "\n",
        "for ko, en in [('강남구', 'gangnam'), ('중구', 'jung')]:\n",
        "  df_2020_gangnam = df_2020_max[df_2020_max['군구'] == ko]\n",
        "  df_2019_gangnam = df_2019_max[df_2019_max['군구'] == ko]\n",
        "\n",
        "  new_df = pd.DataFrame(data=None, columns=['location', 'cnt', 'day_2019_08','day_2020_08', '2019_week', '2020_week', '2019_moving', '2020_moving'])\n",
        "  # new_df['2019_date'] = df_2019_gangnam['일자']\n",
        "  # new_df['2020_date'] = df_2020_gangnam['일자']\n",
        "  new_df['day_2019_08'] = df_2019_gangnam['일자'].apply(lambda x: x.day)\n",
        "  new_df['day_2020_08'] = df_2020_gangnam['일자'].apply(lambda x: x.day)\n",
        "  new_df['location'] = df_2019_gangnam['군구'].apply(lambda x: en)\n",
        "  new_df['2019_week'] = df_2019_gangnam['요일']\n",
        "  new_df['2020_week'] = df_2020_gangnam['요일']\n",
        "  new_df['2019_moving'] = df_2019_gangnam['유동인구수']\n",
        "  new_df['2020_moving'] = df_2020_gangnam['유동인구수']\n",
        "  new_df['cnt'] = np.arange(1, 21)\n",
        "  new_df.to_csv(f'new_{en}.csv')"
      ],
      "execution_count": 208,
      "outputs": []
    },
    {
      "cell_type": "code",
      "metadata": {
        "id": "dyamkESdj4f6"
      },
      "source": [
        "plot(X2019_week ~ X2019_moving, data=mhgang, type='b', ylab='2019-08', frame=FALSE, col='red',main = '강남구 유동인구 19vs20 비교 ', pch=19)\n",
        "lines(days:mhgang$X2020_moving, df$X2020_moving, type='b', col='green', pch=18)\n",
        "legend(0.1, 20, c('2019-08', '2020-08'), fill=c('red', 'green'))"
      ],
      "execution_count": null,
      "outputs": []
    },
    {
      "cell_type": "code",
      "metadata": {
        "id": "rMwtPA16kbpy"
      },
      "source": [
        "plot(mhgang$Xcnt, mhgang$X2019_moving, pch=20, type='b', col=\"#DC143C\", xlab=\"days\", ylab=\"08\", main=\"강남 유동인구\")\n",
        "par(new=TRUE)\n",
        "plot(mhgang$Xcnt, mhgang$X2020_moving, pch=19, type='b', col=\"skyblue\", xlab=\"days\", ylab=\"08\", main=\"강남 유동인구\")\n",
        "\n",
        "legend(0.1, 20, c('2019-08', '2020-08'), fill=c('red', 'green'))"
      ],
      "execution_count": null,
      "outputs": []
    },
    {
      "cell_type": "code",
      "metadata": {
        "id": "y577M81ZPATX",
        "outputId": "1c45e504-17b7-4911-a138-6e5e2e37f7c6",
        "colab": {
          "base_uri": "https://localhost:8080/",
          "height": 648
        }
      },
      "source": [
        "df_2020_jung = df_2020_max[df_2020_max['군구'] == '중구']\n",
        "df_2020_jung"
      ],
      "execution_count": 193,
      "outputs": [
        {
          "output_type": "execute_result",
          "data": {
            "text/html": [
              "<div>\n",
              "<style scoped>\n",
              "    .dataframe tbody tr th:only-of-type {\n",
              "        vertical-align: middle;\n",
              "    }\n",
              "\n",
              "    .dataframe tbody tr th {\n",
              "        vertical-align: top;\n",
              "    }\n",
              "\n",
              "    .dataframe thead th {\n",
              "        text-align: right;\n",
              "    }\n",
              "</style>\n",
              "<table border=\"1\" class=\"dataframe\">\n",
              "  <thead>\n",
              "    <tr style=\"text-align: right;\">\n",
              "      <th></th>\n",
              "      <th>일자</th>\n",
              "      <th>요일</th>\n",
              "      <th>군구</th>\n",
              "      <th>유동인구수</th>\n",
              "    </tr>\n",
              "  </thead>\n",
              "  <tbody>\n",
              "    <tr>\n",
              "      <th>23</th>\n",
              "      <td>2020-08-17</td>\n",
              "      <td>Monday</td>\n",
              "      <td>중구</td>\n",
              "      <td>23170</td>\n",
              "    </tr>\n",
              "    <tr>\n",
              "      <th>48</th>\n",
              "      <td>2020-08-18</td>\n",
              "      <td>Tuesday</td>\n",
              "      <td>중구</td>\n",
              "      <td>55140</td>\n",
              "    </tr>\n",
              "    <tr>\n",
              "      <th>73</th>\n",
              "      <td>2020-08-19</td>\n",
              "      <td>Wednesday</td>\n",
              "      <td>중구</td>\n",
              "      <td>53750</td>\n",
              "    </tr>\n",
              "    <tr>\n",
              "      <th>98</th>\n",
              "      <td>2020-08-20</td>\n",
              "      <td>Thursday</td>\n",
              "      <td>중구</td>\n",
              "      <td>52980</td>\n",
              "    </tr>\n",
              "    <tr>\n",
              "      <th>123</th>\n",
              "      <td>2020-08-21</td>\n",
              "      <td>Friday</td>\n",
              "      <td>중구</td>\n",
              "      <td>50760</td>\n",
              "    </tr>\n",
              "    <tr>\n",
              "      <th>148</th>\n",
              "      <td>2020-08-22</td>\n",
              "      <td>Saturday</td>\n",
              "      <td>중구</td>\n",
              "      <td>19950</td>\n",
              "    </tr>\n",
              "    <tr>\n",
              "      <th>173</th>\n",
              "      <td>2020-08-23</td>\n",
              "      <td>Sunday</td>\n",
              "      <td>중구</td>\n",
              "      <td>16780</td>\n",
              "    </tr>\n",
              "    <tr>\n",
              "      <th>198</th>\n",
              "      <td>2020-08-24</td>\n",
              "      <td>Monday</td>\n",
              "      <td>중구</td>\n",
              "      <td>54320</td>\n",
              "    </tr>\n",
              "    <tr>\n",
              "      <th>223</th>\n",
              "      <td>2020-08-25</td>\n",
              "      <td>Tuesday</td>\n",
              "      <td>중구</td>\n",
              "      <td>53800</td>\n",
              "    </tr>\n",
              "    <tr>\n",
              "      <th>248</th>\n",
              "      <td>2020-08-26</td>\n",
              "      <td>Wednesday</td>\n",
              "      <td>중구</td>\n",
              "      <td>53070</td>\n",
              "    </tr>\n",
              "    <tr>\n",
              "      <th>273</th>\n",
              "      <td>2020-08-27</td>\n",
              "      <td>Thursday</td>\n",
              "      <td>중구</td>\n",
              "      <td>52030</td>\n",
              "    </tr>\n",
              "    <tr>\n",
              "      <th>298</th>\n",
              "      <td>2020-08-28</td>\n",
              "      <td>Friday</td>\n",
              "      <td>중구</td>\n",
              "      <td>51540</td>\n",
              "    </tr>\n",
              "    <tr>\n",
              "      <th>323</th>\n",
              "      <td>2020-08-29</td>\n",
              "      <td>Saturday</td>\n",
              "      <td>중구</td>\n",
              "      <td>19430</td>\n",
              "    </tr>\n",
              "    <tr>\n",
              "      <th>348</th>\n",
              "      <td>2020-08-30</td>\n",
              "      <td>Sunday</td>\n",
              "      <td>중구</td>\n",
              "      <td>16200</td>\n",
              "    </tr>\n",
              "    <tr>\n",
              "      <th>373</th>\n",
              "      <td>2020-08-31</td>\n",
              "      <td>Monday</td>\n",
              "      <td>중구</td>\n",
              "      <td>54740</td>\n",
              "    </tr>\n",
              "    <tr>\n",
              "      <th>398</th>\n",
              "      <td>2020-09-01</td>\n",
              "      <td>Tuesday</td>\n",
              "      <td>중구</td>\n",
              "      <td>54210</td>\n",
              "    </tr>\n",
              "    <tr>\n",
              "      <th>423</th>\n",
              "      <td>2020-09-02</td>\n",
              "      <td>Wednesday</td>\n",
              "      <td>중구</td>\n",
              "      <td>52830</td>\n",
              "    </tr>\n",
              "    <tr>\n",
              "      <th>448</th>\n",
              "      <td>2020-09-03</td>\n",
              "      <td>Thursday</td>\n",
              "      <td>중구</td>\n",
              "      <td>52750</td>\n",
              "    </tr>\n",
              "    <tr>\n",
              "      <th>473</th>\n",
              "      <td>2020-09-04</td>\n",
              "      <td>Friday</td>\n",
              "      <td>중구</td>\n",
              "      <td>51160</td>\n",
              "    </tr>\n",
              "    <tr>\n",
              "      <th>498</th>\n",
              "      <td>2020-09-05</td>\n",
              "      <td>Saturday</td>\n",
              "      <td>중구</td>\n",
              "      <td>20300</td>\n",
              "    </tr>\n",
              "  </tbody>\n",
              "</table>\n",
              "</div>"
            ],
            "text/plain": [
              "            일자         요일  군구  유동인구수\n",
              "23  2020-08-17     Monday  중구  23170\n",
              "48  2020-08-18    Tuesday  중구  55140\n",
              "73  2020-08-19  Wednesday  중구  53750\n",
              "98  2020-08-20   Thursday  중구  52980\n",
              "123 2020-08-21     Friday  중구  50760\n",
              "148 2020-08-22   Saturday  중구  19950\n",
              "173 2020-08-23     Sunday  중구  16780\n",
              "198 2020-08-24     Monday  중구  54320\n",
              "223 2020-08-25    Tuesday  중구  53800\n",
              "248 2020-08-26  Wednesday  중구  53070\n",
              "273 2020-08-27   Thursday  중구  52030\n",
              "298 2020-08-28     Friday  중구  51540\n",
              "323 2020-08-29   Saturday  중구  19430\n",
              "348 2020-08-30     Sunday  중구  16200\n",
              "373 2020-08-31     Monday  중구  54740\n",
              "398 2020-09-01    Tuesday  중구  54210\n",
              "423 2020-09-02  Wednesday  중구  52830\n",
              "448 2020-09-03   Thursday  중구  52750\n",
              "473 2020-09-04     Friday  중구  51160\n",
              "498 2020-09-05   Saturday  중구  20300"
            ]
          },
          "metadata": {
            "tags": []
          },
          "execution_count": 193
        }
      ]
    },
    {
      "cell_type": "code",
      "metadata": {
        "id": "1Q4LFaDAOc23",
        "outputId": "db6e72ad-2cc5-4c98-928a-627b4e1c18cd",
        "colab": {
          "base_uri": "https://localhost:8080/",
          "height": 828
        }
      },
      "source": [
        "pd.DataFrame(df_2020_max.groupby(['군구']).min())"
      ],
      "execution_count": 145,
      "outputs": [
        {
          "output_type": "execute_result",
          "data": {
            "text/html": [
              "<div>\n",
              "<style scoped>\n",
              "    .dataframe tbody tr th:only-of-type {\n",
              "        vertical-align: middle;\n",
              "    }\n",
              "\n",
              "    .dataframe tbody tr th {\n",
              "        vertical-align: top;\n",
              "    }\n",
              "\n",
              "    .dataframe thead th {\n",
              "        text-align: right;\n",
              "    }\n",
              "</style>\n",
              "<table border=\"1\" class=\"dataframe\">\n",
              "  <thead>\n",
              "    <tr style=\"text-align: right;\">\n",
              "      <th></th>\n",
              "      <th>일자</th>\n",
              "      <th>요일</th>\n",
              "      <th>유동인구수</th>\n",
              "    </tr>\n",
              "    <tr>\n",
              "      <th>군구</th>\n",
              "      <th></th>\n",
              "      <th></th>\n",
              "      <th></th>\n",
              "    </tr>\n",
              "  </thead>\n",
              "  <tbody>\n",
              "    <tr>\n",
              "      <th>강남구</th>\n",
              "      <td>2020-08-17</td>\n",
              "      <td>Friday</td>\n",
              "      <td>54300</td>\n",
              "    </tr>\n",
              "    <tr>\n",
              "      <th>강동구</th>\n",
              "      <td>2020-08-17</td>\n",
              "      <td>Friday</td>\n",
              "      <td>38950</td>\n",
              "    </tr>\n",
              "    <tr>\n",
              "      <th>강북구</th>\n",
              "      <td>2020-08-17</td>\n",
              "      <td>Friday</td>\n",
              "      <td>26510</td>\n",
              "    </tr>\n",
              "    <tr>\n",
              "      <th>강서구</th>\n",
              "      <td>2020-08-17</td>\n",
              "      <td>Friday</td>\n",
              "      <td>50600</td>\n",
              "    </tr>\n",
              "    <tr>\n",
              "      <th>관악구</th>\n",
              "      <td>2020-08-17</td>\n",
              "      <td>Friday</td>\n",
              "      <td>51200</td>\n",
              "    </tr>\n",
              "    <tr>\n",
              "      <th>광진구</th>\n",
              "      <td>2020-08-17</td>\n",
              "      <td>Friday</td>\n",
              "      <td>31720</td>\n",
              "    </tr>\n",
              "    <tr>\n",
              "      <th>구로구</th>\n",
              "      <td>2020-08-17</td>\n",
              "      <td>Friday</td>\n",
              "      <td>38630</td>\n",
              "    </tr>\n",
              "    <tr>\n",
              "      <th>금천구</th>\n",
              "      <td>2020-08-17</td>\n",
              "      <td>Friday</td>\n",
              "      <td>22640</td>\n",
              "    </tr>\n",
              "    <tr>\n",
              "      <th>노원구</th>\n",
              "      <td>2020-08-17</td>\n",
              "      <td>Friday</td>\n",
              "      <td>50150</td>\n",
              "    </tr>\n",
              "    <tr>\n",
              "      <th>도봉구</th>\n",
              "      <td>2020-08-17</td>\n",
              "      <td>Friday</td>\n",
              "      <td>29750</td>\n",
              "    </tr>\n",
              "    <tr>\n",
              "      <th>동대문구</th>\n",
              "      <td>2020-08-17</td>\n",
              "      <td>Friday</td>\n",
              "      <td>29840</td>\n",
              "    </tr>\n",
              "    <tr>\n",
              "      <th>동작구</th>\n",
              "      <td>2020-08-17</td>\n",
              "      <td>Friday</td>\n",
              "      <td>34570</td>\n",
              "    </tr>\n",
              "    <tr>\n",
              "      <th>마포구</th>\n",
              "      <td>2020-08-17</td>\n",
              "      <td>Friday</td>\n",
              "      <td>37150</td>\n",
              "    </tr>\n",
              "    <tr>\n",
              "      <th>서대문구</th>\n",
              "      <td>2020-08-17</td>\n",
              "      <td>Friday</td>\n",
              "      <td>26870</td>\n",
              "    </tr>\n",
              "    <tr>\n",
              "      <th>서초구</th>\n",
              "      <td>2020-08-17</td>\n",
              "      <td>Friday</td>\n",
              "      <td>39160</td>\n",
              "    </tr>\n",
              "    <tr>\n",
              "      <th>성동구</th>\n",
              "      <td>2020-08-17</td>\n",
              "      <td>Friday</td>\n",
              "      <td>25670</td>\n",
              "    </tr>\n",
              "    <tr>\n",
              "      <th>성북구</th>\n",
              "      <td>2020-08-17</td>\n",
              "      <td>Friday</td>\n",
              "      <td>35850</td>\n",
              "    </tr>\n",
              "    <tr>\n",
              "      <th>송파구</th>\n",
              "      <td>2020-08-17</td>\n",
              "      <td>Friday</td>\n",
              "      <td>55520</td>\n",
              "    </tr>\n",
              "    <tr>\n",
              "      <th>양천구</th>\n",
              "      <td>2020-08-17</td>\n",
              "      <td>Friday</td>\n",
              "      <td>43300</td>\n",
              "    </tr>\n",
              "    <tr>\n",
              "      <th>영등포구</th>\n",
              "      <td>2020-08-17</td>\n",
              "      <td>Friday</td>\n",
              "      <td>39770</td>\n",
              "    </tr>\n",
              "    <tr>\n",
              "      <th>용산구</th>\n",
              "      <td>2020-08-17</td>\n",
              "      <td>Friday</td>\n",
              "      <td>21670</td>\n",
              "    </tr>\n",
              "    <tr>\n",
              "      <th>은평구</th>\n",
              "      <td>2020-08-17</td>\n",
              "      <td>Friday</td>\n",
              "      <td>38960</td>\n",
              "    </tr>\n",
              "    <tr>\n",
              "      <th>종로구</th>\n",
              "      <td>2020-08-17</td>\n",
              "      <td>Friday</td>\n",
              "      <td>18010</td>\n",
              "    </tr>\n",
              "    <tr>\n",
              "      <th>중구</th>\n",
              "      <td>2020-08-17</td>\n",
              "      <td>Friday</td>\n",
              "      <td>16200</td>\n",
              "    </tr>\n",
              "    <tr>\n",
              "      <th>중랑구</th>\n",
              "      <td>2020-08-17</td>\n",
              "      <td>Friday</td>\n",
              "      <td>34940</td>\n",
              "    </tr>\n",
              "  </tbody>\n",
              "</table>\n",
              "</div>"
            ],
            "text/plain": [
              "             일자      요일  유동인구수\n",
              "군구                            \n",
              "강남구  2020-08-17  Friday  54300\n",
              "강동구  2020-08-17  Friday  38950\n",
              "강북구  2020-08-17  Friday  26510\n",
              "강서구  2020-08-17  Friday  50600\n",
              "관악구  2020-08-17  Friday  51200\n",
              "광진구  2020-08-17  Friday  31720\n",
              "구로구  2020-08-17  Friday  38630\n",
              "금천구  2020-08-17  Friday  22640\n",
              "노원구  2020-08-17  Friday  50150\n",
              "도봉구  2020-08-17  Friday  29750\n",
              "동대문구 2020-08-17  Friday  29840\n",
              "동작구  2020-08-17  Friday  34570\n",
              "마포구  2020-08-17  Friday  37150\n",
              "서대문구 2020-08-17  Friday  26870\n",
              "서초구  2020-08-17  Friday  39160\n",
              "성동구  2020-08-17  Friday  25670\n",
              "성북구  2020-08-17  Friday  35850\n",
              "송파구  2020-08-17  Friday  55520\n",
              "양천구  2020-08-17  Friday  43300\n",
              "영등포구 2020-08-17  Friday  39770\n",
              "용산구  2020-08-17  Friday  21670\n",
              "은평구  2020-08-17  Friday  38960\n",
              "종로구  2020-08-17  Friday  18010\n",
              "중구   2020-08-17  Friday  16200\n",
              "중랑구  2020-08-17  Friday  34940"
            ]
          },
          "metadata": {
            "tags": []
          },
          "execution_count": 145
        }
      ]
    },
    {
      "cell_type": "markdown",
      "metadata": {
        "id": "5GU_EBHn1GNf"
      },
      "source": [
        "2020년도 유동인구가 줄었음을 확인할 수 있다."
      ]
    },
    {
      "cell_type": "code",
      "metadata": {
        "id": "M-hYCc59o2RA",
        "outputId": "8ebcd23e-6033-4e30-d2ad-0da1db1edb4c",
        "colab": {
          "base_uri": "https://localhost:8080/",
          "height": 270
        }
      },
      "source": [
        "sns.boxplot(y='유동인구수', data=df_2019_max)"
      ],
      "execution_count": 107,
      "outputs": [
        {
          "output_type": "execute_result",
          "data": {
            "text/plain": [
              "<matplotlib.axes._subplots.AxesSubplot at 0x7f8aeaecedd8>"
            ]
          },
          "metadata": {
            "tags": []
          },
          "execution_count": 107
        },
        {
          "output_type": "display_data",
          "data": {
            "image/png": "[encoded data removed]",
            "text/plain": [
              "<Figure size 432x288 with 1 Axes>"
            ]
          },
          "metadata": {
            "tags": [],
            "needs_background": "light"
          }
        }
      ]
    },
    {
      "cell_type": "code",
      "metadata": {
        "id": "hhxmpqGjptpv",
        "outputId": "ee50789f-678e-4b80-ee63-33907b30f961",
        "colab": {
          "base_uri": "https://localhost:8080/",
          "height": 271
        }
      },
      "source": [
        "sns.boxplot(y='유동인구수', data=df_2020_max)"
      ],
      "execution_count": 93,
      "outputs": [
        {
          "output_type": "execute_result",
          "data": {
            "text/plain": [
              "<matplotlib.axes._subplots.AxesSubplot at 0x7f8ac2c9a1d0>"
            ]
          },
          "metadata": {
            "tags": []
          },
          "execution_count": 93
        },
        {
          "output_type": "display_data",
          "data": {
            "image/png": "[encoded data removed]",
            "text/plain": [
              "<Figure size 432x288 with 1 Axes>"
            ]
          },
          "metadata": {
            "tags": [],
            "needs_background": "light"
          }
        }
      ]
    },
    {
      "cell_type": "code",
      "metadata": {
        "id": "fVilbXs8lYX-",
        "outputId": "8eb66fca-d774-422a-cbcc-cc4cefc1f64b",
        "colab": {
          "base_uri": "https://localhost:8080/",
          "height": 324
        }
      },
      "source": [
        "sns.pointplot(data=[df_2020_max['유동인구수'], df_2019_max['유동인구수']])"
      ],
      "execution_count": 112,
      "outputs": [
        {
          "output_type": "error",
          "ename": "AttributeError",
          "evalue": "ignored",
          "traceback": [
            "\u001b[0;31m---------------------------------------------------------------------------\u001b[0m",
            "\u001b[0;31mAttributeError\u001b[0m                            Traceback (most recent call last)",
            "\u001b[0;32m<ipython-input-112-f9e91958d19c>\u001b[0m in \u001b[0;36m<module>\u001b[0;34m()\u001b[0m\n\u001b[0;32m----> 1\u001b[0;31m \u001b[0msns\u001b[0m\u001b[0;34m.\u001b[0m\u001b[0mpointplot\u001b[0m\u001b[0;34m(\u001b[0m\u001b[0mdata\u001b[0m\u001b[0;34m=\u001b[0m\u001b[0;34m[\u001b[0m\u001b[0mdf_2020_max\u001b[0m\u001b[0;34m[\u001b[0m\u001b[0;34m'유동인구수'\u001b[0m\u001b[0;34m]\u001b[0m\u001b[0;34m,\u001b[0m \u001b[0mdf_2019_max\u001b[0m\u001b[0;34m[\u001b[0m\u001b[0;34m'유동인구수'\u001b[0m\u001b[0;34m]\u001b[0m\u001b[0;34m]\u001b[0m \u001b[0;34m,\u001b[0m \u001b[0mx\u001b[0m\u001b[0;34m=\u001b[0m\u001b[0;34m'1'\u001b[0m\u001b[0;34m)\u001b[0m\u001b[0;34m\u001b[0m\u001b[0;34m\u001b[0m\u001b[0m\n\u001b[0m",
            "\u001b[0;32m/usr/local/lib/python3.6/dist-packages/seaborn/_decorators.py\u001b[0m in \u001b[0;36minner_f\u001b[0;34m(*args, **kwargs)\u001b[0m\n\u001b[1;32m     44\u001b[0m             )\n\u001b[1;32m     45\u001b[0m         \u001b[0mkwargs\u001b[0m\u001b[0;34m.\u001b[0m\u001b[0mupdate\u001b[0m\u001b[0;34m(\u001b[0m\u001b[0;34m{\u001b[0m\u001b[0mk\u001b[0m\u001b[0;34m:\u001b[0m \u001b[0marg\u001b[0m \u001b[0;32mfor\u001b[0m \u001b[0mk\u001b[0m\u001b[0;34m,\u001b[0m \u001b[0marg\u001b[0m \u001b[0;32min\u001b[0m \u001b[0mzip\u001b[0m\u001b[0;34m(\u001b[0m\u001b[0msig\u001b[0m\u001b[0;34m.\u001b[0m\u001b[0mparameters\u001b[0m\u001b[0;34m,\u001b[0m \u001b[0margs\u001b[0m\u001b[0;34m)\u001b[0m\u001b[0;34m}\u001b[0m\u001b[0;34m)\u001b[0m\u001b[0;34m\u001b[0m\u001b[0;34m\u001b[0m\u001b[0m\n\u001b[0;32m---> 46\u001b[0;31m         \u001b[0;32mreturn\u001b[0m \u001b[0mf\u001b[0m\u001b[0;34m(\u001b[0m\u001b[0;34m**\u001b[0m\u001b[0mkwargs\u001b[0m\u001b[0;34m)\u001b[0m\u001b[0;34m\u001b[0m\u001b[0;34m\u001b[0m\u001b[0m\n\u001b[0m\u001b[1;32m     47\u001b[0m     \u001b[0;32mreturn\u001b[0m \u001b[0minner_f\u001b[0m\u001b[0;34m\u001b[0m\u001b[0;34m\u001b[0m\u001b[0m\n\u001b[1;32m     48\u001b[0m \u001b[0;34m\u001b[0m\u001b[0m\n",
            "\u001b[0;32m/usr/local/lib/python3.6/dist-packages/seaborn/categorical.py\u001b[0m in \u001b[0;36mpointplot\u001b[0;34m(x, y, hue, data, order, hue_order, estimator, ci, n_boot, units, seed, markers, linestyles, dodge, join, scale, orient, color, palette, errwidth, capsize, ax, **kwargs)\u001b[0m\n\u001b[1;32m   3363\u001b[0m                             \u001b[0mestimator\u001b[0m\u001b[0;34m,\u001b[0m \u001b[0mci\u001b[0m\u001b[0;34m,\u001b[0m \u001b[0mn_boot\u001b[0m\u001b[0;34m,\u001b[0m \u001b[0munits\u001b[0m\u001b[0;34m,\u001b[0m \u001b[0mseed\u001b[0m\u001b[0;34m,\u001b[0m\u001b[0;34m\u001b[0m\u001b[0;34m\u001b[0m\u001b[0m\n\u001b[1;32m   3364\u001b[0m                             \u001b[0mmarkers\u001b[0m\u001b[0;34m,\u001b[0m \u001b[0mlinestyles\u001b[0m\u001b[0;34m,\u001b[0m \u001b[0mdodge\u001b[0m\u001b[0;34m,\u001b[0m \u001b[0mjoin\u001b[0m\u001b[0;34m,\u001b[0m \u001b[0mscale\u001b[0m\u001b[0;34m,\u001b[0m\u001b[0;34m\u001b[0m\u001b[0;34m\u001b[0m\u001b[0m\n\u001b[0;32m-> 3365\u001b[0;31m                             orient, color, palette, errwidth, capsize)\n\u001b[0m\u001b[1;32m   3366\u001b[0m \u001b[0;34m\u001b[0m\u001b[0m\n\u001b[1;32m   3367\u001b[0m     \u001b[0;32mif\u001b[0m \u001b[0max\u001b[0m \u001b[0;32mis\u001b[0m \u001b[0;32mNone\u001b[0m\u001b[0;34m:\u001b[0m\u001b[0;34m\u001b[0m\u001b[0;34m\u001b[0m\u001b[0m\n",
            "\u001b[0;32m/usr/local/lib/python3.6/dist-packages/seaborn/categorical.py\u001b[0m in \u001b[0;36m__init__\u001b[0;34m(self, x, y, hue, data, order, hue_order, estimator, ci, n_boot, units, seed, markers, linestyles, dodge, join, scale, orient, color, palette, errwidth, capsize)\u001b[0m\n\u001b[1;32m   1654\u001b[0m         \u001b[0;34m\"\"\"Initialize the plotter.\"\"\"\u001b[0m\u001b[0;34m\u001b[0m\u001b[0;34m\u001b[0m\u001b[0m\n\u001b[1;32m   1655\u001b[0m         self.establish_variables(x, y, hue, data, orient,\n\u001b[0;32m-> 1656\u001b[0;31m                                  order, hue_order, units)\n\u001b[0m\u001b[1;32m   1657\u001b[0m         \u001b[0mself\u001b[0m\u001b[0;34m.\u001b[0m\u001b[0mestablish_colors\u001b[0m\u001b[0;34m(\u001b[0m\u001b[0mcolor\u001b[0m\u001b[0;34m,\u001b[0m \u001b[0mpalette\u001b[0m\u001b[0;34m,\u001b[0m \u001b[0;36m1\u001b[0m\u001b[0;34m)\u001b[0m\u001b[0;34m\u001b[0m\u001b[0;34m\u001b[0m\u001b[0m\n\u001b[1;32m   1658\u001b[0m         \u001b[0mself\u001b[0m\u001b[0;34m.\u001b[0m\u001b[0mestimate_statistic\u001b[0m\u001b[0;34m(\u001b[0m\u001b[0mestimator\u001b[0m\u001b[0;34m,\u001b[0m \u001b[0mci\u001b[0m\u001b[0;34m,\u001b[0m \u001b[0mn_boot\u001b[0m\u001b[0;34m,\u001b[0m \u001b[0mseed\u001b[0m\u001b[0;34m)\u001b[0m\u001b[0;34m\u001b[0m\u001b[0;34m\u001b[0m\u001b[0m\n",
            "\u001b[0;32m/usr/local/lib/python3.6/dist-packages/seaborn/categorical.py\u001b[0m in \u001b[0;36mestablish_variables\u001b[0;34m(self, x, y, hue, data, orient, order, hue_order, units)\u001b[0m\n\u001b[1;32m    142\u001b[0m             \u001b[0;31m# See if we need to get variables from `data`\u001b[0m\u001b[0;34m\u001b[0m\u001b[0;34m\u001b[0m\u001b[0;34m\u001b[0m\u001b[0m\n\u001b[1;32m    143\u001b[0m             \u001b[0;32mif\u001b[0m \u001b[0mdata\u001b[0m \u001b[0;32mis\u001b[0m \u001b[0;32mnot\u001b[0m \u001b[0;32mNone\u001b[0m\u001b[0;34m:\u001b[0m\u001b[0;34m\u001b[0m\u001b[0;34m\u001b[0m\u001b[0m\n\u001b[0;32m--> 144\u001b[0;31m                 \u001b[0mx\u001b[0m \u001b[0;34m=\u001b[0m \u001b[0mdata\u001b[0m\u001b[0;34m.\u001b[0m\u001b[0mget\u001b[0m\u001b[0;34m(\u001b[0m\u001b[0mx\u001b[0m\u001b[0;34m,\u001b[0m \u001b[0mx\u001b[0m\u001b[0;34m)\u001b[0m\u001b[0;34m\u001b[0m\u001b[0;34m\u001b[0m\u001b[0m\n\u001b[0m\u001b[1;32m    145\u001b[0m                 \u001b[0my\u001b[0m \u001b[0;34m=\u001b[0m \u001b[0mdata\u001b[0m\u001b[0;34m.\u001b[0m\u001b[0mget\u001b[0m\u001b[0;34m(\u001b[0m\u001b[0my\u001b[0m\u001b[0;34m,\u001b[0m \u001b[0my\u001b[0m\u001b[0;34m)\u001b[0m\u001b[0;34m\u001b[0m\u001b[0;34m\u001b[0m\u001b[0m\n\u001b[1;32m    146\u001b[0m                 \u001b[0mhue\u001b[0m \u001b[0;34m=\u001b[0m \u001b[0mdata\u001b[0m\u001b[0;34m.\u001b[0m\u001b[0mget\u001b[0m\u001b[0;34m(\u001b[0m\u001b[0mhue\u001b[0m\u001b[0;34m,\u001b[0m \u001b[0mhue\u001b[0m\u001b[0;34m)\u001b[0m\u001b[0;34m\u001b[0m\u001b[0;34m\u001b[0m\u001b[0m\n",
            "\u001b[0;31mAttributeError\u001b[0m: 'list' object has no attribute 'get'"
          ]
        }
      ]
    },
    {
      "cell_type": "code",
      "metadata": {
        "id": "0jyTo62cyxLX"
      },
      "source": [
        "df_merge = pd.DataFrame(data=None, columns=['day'])\n",
        "df_merge['day'] = df_2020_max.iloc[:, 1]\n",
        "df_merge['2020_유동'] = df_2020_max.iloc[:, 2]\n",
        "df_merge['2019_유동'] = df_2019_max.iloc[:, 2]"
      ],
      "execution_count": 95,
      "outputs": []
    },
    {
      "cell_type": "code",
      "metadata": {
        "id": "-UvO6p4t126m",
        "outputId": "b5f36df3-af06-48f3-bd5a-4428b4663045",
        "colab": {
          "base_uri": "https://localhost:8080/",
          "height": 78
        }
      },
      "source": [
        "df_merge.head(1)"
      ],
      "execution_count": 97,
      "outputs": [
        {
          "output_type": "execute_result",
          "data": {
            "text/html": [
              "<div>\n",
              "<style scoped>\n",
              "    .dataframe tbody tr th:only-of-type {\n",
              "        vertical-align: middle;\n",
              "    }\n",
              "\n",
              "    .dataframe tbody tr th {\n",
              "        vertical-align: top;\n",
              "    }\n",
              "\n",
              "    .dataframe thead th {\n",
              "        text-align: right;\n",
              "    }\n",
              "</style>\n",
              "<table border=\"1\" class=\"dataframe\">\n",
              "  <thead>\n",
              "    <tr style=\"text-align: right;\">\n",
              "      <th></th>\n",
              "      <th>day</th>\n",
              "      <th>2020_유동</th>\n",
              "      <th>2019_유동</th>\n",
              "    </tr>\n",
              "  </thead>\n",
              "  <tbody>\n",
              "    <tr>\n",
              "      <th>0</th>\n",
              "      <td>Monday</td>\n",
              "      <td>강남구</td>\n",
              "      <td>강남구</td>\n",
              "    </tr>\n",
              "  </tbody>\n",
              "</table>\n",
              "</div>"
            ],
            "text/plain": [
              "      day 2020_유동 2019_유동\n",
              "0  Monday     강남구     강남구"
            ]
          },
          "metadata": {
            "tags": []
          },
          "execution_count": 97
        }
      ]
    },
    {
      "cell_type": "code",
      "metadata": {
        "id": "vvqQR4rLz05E",
        "outputId": "5d91155e-976b-4a9c-f613-e441bdf392e1",
        "colab": {
          "base_uri": "https://localhost:8080/",
          "height": 342
        }
      },
      "source": [
        "sns.pointplot(data=df_merge, x='day', y='2019_유동', color='blue')\n",
        "sns.pointplot(data=df_merge, x='day', y='2020_유동', color='red')"
      ],
      "execution_count": 96,
      "outputs": [
        {
          "output_type": "error",
          "ename": "TypeError",
          "evalue": "ignored",
          "traceback": [
            "\u001b[0;31m---------------------------------------------------------------------------\u001b[0m",
            "\u001b[0;31mTypeError\u001b[0m                                 Traceback (most recent call last)",
            "\u001b[0;32m<ipython-input-96-2e2082f0a892>\u001b[0m in \u001b[0;36m<module>\u001b[0;34m()\u001b[0m\n\u001b[0;32m----> 1\u001b[0;31m \u001b[0msns\u001b[0m\u001b[0;34m.\u001b[0m\u001b[0mpointplot\u001b[0m\u001b[0;34m(\u001b[0m\u001b[0mdata\u001b[0m\u001b[0;34m=\u001b[0m\u001b[0mdf_merge\u001b[0m\u001b[0;34m,\u001b[0m \u001b[0mx\u001b[0m\u001b[0;34m=\u001b[0m\u001b[0;34m'day'\u001b[0m\u001b[0;34m,\u001b[0m \u001b[0my\u001b[0m\u001b[0;34m=\u001b[0m\u001b[0;34m'2019_유동'\u001b[0m\u001b[0;34m,\u001b[0m \u001b[0mcolor\u001b[0m\u001b[0;34m=\u001b[0m\u001b[0;34m'blue'\u001b[0m\u001b[0;34m)\u001b[0m\u001b[0;34m\u001b[0m\u001b[0;34m\u001b[0m\u001b[0m\n\u001b[0m\u001b[1;32m      2\u001b[0m \u001b[0msns\u001b[0m\u001b[0;34m.\u001b[0m\u001b[0mpointplot\u001b[0m\u001b[0;34m(\u001b[0m\u001b[0mdata\u001b[0m\u001b[0;34m=\u001b[0m\u001b[0mdf_merge\u001b[0m\u001b[0;34m,\u001b[0m \u001b[0mx\u001b[0m\u001b[0;34m=\u001b[0m\u001b[0;34m'day'\u001b[0m\u001b[0;34m,\u001b[0m \u001b[0my\u001b[0m\u001b[0;34m=\u001b[0m\u001b[0;34m'2020_유동'\u001b[0m\u001b[0;34m,\u001b[0m \u001b[0mcolor\u001b[0m\u001b[0;34m=\u001b[0m\u001b[0;34m'red'\u001b[0m\u001b[0;34m)\u001b[0m\u001b[0;34m\u001b[0m\u001b[0;34m\u001b[0m\u001b[0m\n",
            "\u001b[0;32m/usr/local/lib/python3.6/dist-packages/seaborn/_decorators.py\u001b[0m in \u001b[0;36minner_f\u001b[0;34m(*args, **kwargs)\u001b[0m\n\u001b[1;32m     44\u001b[0m             )\n\u001b[1;32m     45\u001b[0m         \u001b[0mkwargs\u001b[0m\u001b[0;34m.\u001b[0m\u001b[0mupdate\u001b[0m\u001b[0;34m(\u001b[0m\u001b[0;34m{\u001b[0m\u001b[0mk\u001b[0m\u001b[0;34m:\u001b[0m \u001b[0marg\u001b[0m \u001b[0;32mfor\u001b[0m \u001b[0mk\u001b[0m\u001b[0;34m,\u001b[0m \u001b[0marg\u001b[0m \u001b[0;32min\u001b[0m \u001b[0mzip\u001b[0m\u001b[0;34m(\u001b[0m\u001b[0msig\u001b[0m\u001b[0;34m.\u001b[0m\u001b[0mparameters\u001b[0m\u001b[0;34m,\u001b[0m \u001b[0margs\u001b[0m\u001b[0;34m)\u001b[0m\u001b[0;34m}\u001b[0m\u001b[0;34m)\u001b[0m\u001b[0;34m\u001b[0m\u001b[0;34m\u001b[0m\u001b[0m\n\u001b[0;32m---> 46\u001b[0;31m         \u001b[0;32mreturn\u001b[0m \u001b[0mf\u001b[0m\u001b[0;34m(\u001b[0m\u001b[0;34m**\u001b[0m\u001b[0mkwargs\u001b[0m\u001b[0;34m)\u001b[0m\u001b[0;34m\u001b[0m\u001b[0;34m\u001b[0m\u001b[0m\n\u001b[0m\u001b[1;32m     47\u001b[0m     \u001b[0;32mreturn\u001b[0m \u001b[0minner_f\u001b[0m\u001b[0;34m\u001b[0m\u001b[0;34m\u001b[0m\u001b[0m\n\u001b[1;32m     48\u001b[0m \u001b[0;34m\u001b[0m\u001b[0m\n",
            "\u001b[0;32m/usr/local/lib/python3.6/dist-packages/seaborn/categorical.py\u001b[0m in \u001b[0;36mpointplot\u001b[0;34m(x, y, hue, data, order, hue_order, estimator, ci, n_boot, units, seed, markers, linestyles, dodge, join, scale, orient, color, palette, errwidth, capsize, ax, **kwargs)\u001b[0m\n\u001b[1;32m   3363\u001b[0m                             \u001b[0mestimator\u001b[0m\u001b[0;34m,\u001b[0m \u001b[0mci\u001b[0m\u001b[0;34m,\u001b[0m \u001b[0mn_boot\u001b[0m\u001b[0;34m,\u001b[0m \u001b[0munits\u001b[0m\u001b[0;34m,\u001b[0m \u001b[0mseed\u001b[0m\u001b[0;34m,\u001b[0m\u001b[0;34m\u001b[0m\u001b[0;34m\u001b[0m\u001b[0m\n\u001b[1;32m   3364\u001b[0m                             \u001b[0mmarkers\u001b[0m\u001b[0;34m,\u001b[0m \u001b[0mlinestyles\u001b[0m\u001b[0;34m,\u001b[0m \u001b[0mdodge\u001b[0m\u001b[0;34m,\u001b[0m \u001b[0mjoin\u001b[0m\u001b[0;34m,\u001b[0m \u001b[0mscale\u001b[0m\u001b[0;34m,\u001b[0m\u001b[0;34m\u001b[0m\u001b[0;34m\u001b[0m\u001b[0m\n\u001b[0;32m-> 3365\u001b[0;31m                             orient, color, palette, errwidth, capsize)\n\u001b[0m\u001b[1;32m   3366\u001b[0m \u001b[0;34m\u001b[0m\u001b[0m\n\u001b[1;32m   3367\u001b[0m     \u001b[0;32mif\u001b[0m \u001b[0max\u001b[0m \u001b[0;32mis\u001b[0m \u001b[0;32mNone\u001b[0m\u001b[0;34m:\u001b[0m\u001b[0;34m\u001b[0m\u001b[0;34m\u001b[0m\u001b[0m\n",
            "\u001b[0;32m/usr/local/lib/python3.6/dist-packages/seaborn/categorical.py\u001b[0m in \u001b[0;36m__init__\u001b[0;34m(self, x, y, hue, data, order, hue_order, estimator, ci, n_boot, units, seed, markers, linestyles, dodge, join, scale, orient, color, palette, errwidth, capsize)\u001b[0m\n\u001b[1;32m   1654\u001b[0m         \u001b[0;34m\"\"\"Initialize the plotter.\"\"\"\u001b[0m\u001b[0;34m\u001b[0m\u001b[0;34m\u001b[0m\u001b[0m\n\u001b[1;32m   1655\u001b[0m         self.establish_variables(x, y, hue, data, orient,\n\u001b[0;32m-> 1656\u001b[0;31m                                  order, hue_order, units)\n\u001b[0m\u001b[1;32m   1657\u001b[0m         \u001b[0mself\u001b[0m\u001b[0;34m.\u001b[0m\u001b[0mestablish_colors\u001b[0m\u001b[0;34m(\u001b[0m\u001b[0mcolor\u001b[0m\u001b[0;34m,\u001b[0m \u001b[0mpalette\u001b[0m\u001b[0;34m,\u001b[0m \u001b[0;36m1\u001b[0m\u001b[0;34m)\u001b[0m\u001b[0;34m\u001b[0m\u001b[0;34m\u001b[0m\u001b[0m\n\u001b[1;32m   1658\u001b[0m         \u001b[0mself\u001b[0m\u001b[0;34m.\u001b[0m\u001b[0mestimate_statistic\u001b[0m\u001b[0;34m(\u001b[0m\u001b[0mestimator\u001b[0m\u001b[0;34m,\u001b[0m \u001b[0mci\u001b[0m\u001b[0;34m,\u001b[0m \u001b[0mn_boot\u001b[0m\u001b[0;34m,\u001b[0m \u001b[0mseed\u001b[0m\u001b[0;34m)\u001b[0m\u001b[0;34m\u001b[0m\u001b[0;34m\u001b[0m\u001b[0m\n",
            "\u001b[0;32m/usr/local/lib/python3.6/dist-packages/seaborn/categorical.py\u001b[0m in \u001b[0;36mestablish_variables\u001b[0;34m(self, x, y, hue, data, orient, order, hue_order, units)\u001b[0m\n\u001b[1;32m    155\u001b[0m             \u001b[0;31m# Figure out the plotting orientation\u001b[0m\u001b[0;34m\u001b[0m\u001b[0;34m\u001b[0m\u001b[0;34m\u001b[0m\u001b[0m\n\u001b[1;32m    156\u001b[0m             orient = infer_orient(\n\u001b[0;32m--> 157\u001b[0;31m                 \u001b[0mx\u001b[0m\u001b[0;34m,\u001b[0m \u001b[0my\u001b[0m\u001b[0;34m,\u001b[0m \u001b[0morient\u001b[0m\u001b[0;34m,\u001b[0m \u001b[0mrequire_numeric\u001b[0m\u001b[0;34m=\u001b[0m\u001b[0mself\u001b[0m\u001b[0;34m.\u001b[0m\u001b[0mrequire_numeric\u001b[0m\u001b[0;34m\u001b[0m\u001b[0;34m\u001b[0m\u001b[0m\n\u001b[0m\u001b[1;32m    158\u001b[0m             )\n\u001b[1;32m    159\u001b[0m \u001b[0;34m\u001b[0m\u001b[0m\n",
            "\u001b[0;32m/usr/local/lib/python3.6/dist-packages/seaborn/_core.py\u001b[0m in \u001b[0;36minfer_orient\u001b[0;34m(x, y, orient, require_numeric)\u001b[0m\n\u001b[1;32m   1327\u001b[0m     \u001b[0;32melif\u001b[0m \u001b[0mrequire_numeric\u001b[0m \u001b[0;32mand\u001b[0m \u001b[0;34m\"numeric\"\u001b[0m \u001b[0;32mnot\u001b[0m \u001b[0;32min\u001b[0m \u001b[0;34m(\u001b[0m\u001b[0mx_type\u001b[0m\u001b[0;34m,\u001b[0m \u001b[0my_type\u001b[0m\u001b[0;34m)\u001b[0m\u001b[0;34m:\u001b[0m\u001b[0;34m\u001b[0m\u001b[0;34m\u001b[0m\u001b[0m\n\u001b[1;32m   1328\u001b[0m         \u001b[0merr\u001b[0m \u001b[0;34m=\u001b[0m \u001b[0;34m\"Neither the `x` nor `y` variable appears to be numeric.\"\u001b[0m\u001b[0;34m\u001b[0m\u001b[0;34m\u001b[0m\u001b[0m\n\u001b[0;32m-> 1329\u001b[0;31m         \u001b[0;32mraise\u001b[0m \u001b[0mTypeError\u001b[0m\u001b[0;34m(\u001b[0m\u001b[0merr\u001b[0m\u001b[0;34m)\u001b[0m\u001b[0;34m\u001b[0m\u001b[0;34m\u001b[0m\u001b[0m\n\u001b[0m\u001b[1;32m   1330\u001b[0m \u001b[0;34m\u001b[0m\u001b[0m\n\u001b[1;32m   1331\u001b[0m     \u001b[0;32melse\u001b[0m\u001b[0;34m:\u001b[0m\u001b[0;34m\u001b[0m\u001b[0;34m\u001b[0m\u001b[0m\n",
            "\u001b[0;31mTypeError\u001b[0m: Neither the `x` nor `y` variable appears to be numeric."
          ]
        }
      ]
    },
    {
      "cell_type": "code",
      "metadata": {
        "id": "PqhIkIqatjOg",
        "outputId": "600b3b5b-0b31-4ff2-a2d4-bcc8c4fc41ec",
        "colab": {
          "base_uri": "https://localhost:8080/",
          "height": 460
        }
      },
      "source": [
        "fig, ax = plt.subplots(1, 1, figsize=(17, 7))\n",
        "\n",
        "sns.lineplot(data=df_2020_max, x='요일', y='유동인구수', ax=ax, color='red')\n",
        "sns.lineplot(data=df_2019_max, x='요일', y='유동인구수', ax=ax, color='blue')"
      ],
      "execution_count": 99,
      "outputs": [
        {
          "output_type": "execute_result",
          "data": {
            "text/plain": [
              "<matplotlib.axes._subplots.AxesSubplot at 0x7f8af071ef60>"
            ]
          },
          "metadata": {
            "tags": []
          },
          "execution_count": 99
        },
        {
          "output_type": "display_data",
          "data": {
            "image/png": "[encoded data removed]",
            "text/plain": [
              "<Figure size 1224x504 with 1 Axes>"
            ]
          },
          "metadata": {
            "tags": [],
            "needs_background": "light"
          }
        }
      ]
    },
    {
      "cell_type": "code",
      "metadata": {
        "id": "-ZQRmj6xx1Wq"
      },
      "source": [
        "grouped = df.groupby(['군구', '일자', '요일', '시간(1시간단위)'])\n"
      ],
      "execution_count": 100,
      "outputs": []
    },
    {
      "cell_type": "code",
      "metadata": {
        "id": "J9TspwZnBSNA"
      },
      "source": [
        "max = grouped[['유동인구수']].max().reset_index()\n",
        "min = grouped[['유동인구수']].min().reset_index()\n",
        "mean = grouped[['유동인구수']].mean().reset_index()\n",
        "삼사분위 = grouped[['유동인구수']].std(75).reset_index()\n"
      ],
      "execution_count": 101,
      "outputs": []
    },
    {
      "cell_type": "code",
      "metadata": {
        "id": "ksxCLtaOZ4Sa",
        "outputId": "ba183a00-0082-46a2-f33c-850be108ce0f",
        "colab": {
          "base_uri": "https://localhost:8080/",
          "height": 297
        }
      },
      "source": [
        "군구_유동_최대 = pd.DataFrame(max.groupby(['군구', '요일', '일자'])['유동인구수'].max(), columns=['유동인구수']).reset_index()\n",
        "# plt.xticks(rotation=90)\n",
        "sns.lineplot(data=군구_유동_최대, x='일자', y='유동인구수', hue='요일')"
      ],
      "execution_count": 102,
      "outputs": [
        {
          "output_type": "execute_result",
          "data": {
            "text/plain": [
              "<matplotlib.axes._subplots.AxesSubplot at 0x7f8af071e208>"
            ]
          },
          "metadata": {
            "tags": []
          },
          "execution_count": 102
        },
        {
          "output_type": "display_data",
          "data": {
            "image/png": "[encoded data removed]",
            "text/plain": [
              "<Figure size 432x288 with 1 Axes>"
            ]
          },
          "metadata": {
            "tags": [],
            "needs_background": "light"
          }
        }
      ]
    },
    {
      "cell_type": "code",
      "metadata": {
        "id": "5T6M99DVbRPH",
        "outputId": "3db5e811-7b56-48ab-9d87-637b4ec3a03e",
        "colab": {
          "base_uri": "https://localhost:8080/",
          "height": 323
        }
      },
      "source": [
        "군구_유동_최소 = pd.DataFrame(min.groupby(['군구', '요일'])['유동인구수'].min(), columns=['유동인구수']).reset_index()\n",
        "plt.xticks(rotation=90)\n",
        "sns.barplot(data=군구_유동_최소, x='군구', y='유동인구수', hue='요일')"
      ],
      "execution_count": 103,
      "outputs": [
        {
          "output_type": "execute_result",
          "data": {
            "text/plain": [
              "<matplotlib.axes._subplots.AxesSubplot at 0x7f8af07f61d0>"
            ]
          },
          "metadata": {
            "tags": []
          },
          "execution_count": 103
        },
        {
          "output_type": "display_data",
          "data": {
            "image/png": "[encoded data removed]",
            "text/plain": [
              "<Figure size 432x288 with 1 Axes>"
            ]
          },
          "metadata": {
            "tags": [],
            "needs_background": "light"
          }
        }
      ]
    },
    {
      "cell_type": "code",
      "metadata": {
        "id": "G_67aLFGZql7",
        "outputId": "3756e8cb-2ab5-4953-e5b5-7d695535cdc8",
        "colab": {
          "base_uri": "https://localhost:8080/",
          "height": 516
        }
      },
      "source": [
        "fig. ax = plt.subplots(1, 1, figsize=(13, 7))\n",
        "\n",
        "sns.boxplot(max.groupby('군구')['유동인구수'].max())"
      ],
      "execution_count": 104,
      "outputs": [
        {
          "output_type": "stream",
          "text": [
            "/usr/local/lib/python3.6/dist-packages/seaborn/_decorators.py:43: FutureWarning: Pass the following variable as a keyword arg: x. From version 0.12, the only valid positional argument will be `data`, and passing other arguments without an explicit keyword will result in an error or misinterpretation.\n",
            "  FutureWarning\n"
          ],
          "name": "stderr"
        },
        {
          "output_type": "execute_result",
          "data": {
            "text/plain": [
              "<matplotlib.axes._subplots.AxesSubplot at 0x7f8aef9b6d68>"
            ]
          },
          "metadata": {
            "tags": []
          },
          "execution_count": 104
        },
        {
          "output_type": "display_data",
          "data": {
            "image/png": "[encoded data removed]",
            "text/plain": [
              "<Figure size 936x504 with 1 Axes>"
            ]
          },
          "metadata": {
            "tags": [],
            "needs_background": "light"
          }
        }
      ]
    },
    {
      "cell_type": "markdown",
      "metadata": {
        "id": "mjF2lNxZSb9U"
      },
      "source": [
        "## 유동인구 최대 (군구, 요일)"
      ]
    },
    {
      "cell_type": "code",
      "metadata": {
        "id": "CNuXs8cOHFHn"
      },
      "source": [
        "fig, ax = plt.subplots(4, 1, figsize=(27, 30))\n",
        "\n",
        "plt.xticks(rotation=90)\n",
        "sns.barplot(data=max, x='군구', y='유동인구수', hue='요일', ax=ax[0])\n",
        "sns.scatterplot(data=max, x='군구', y='유동인구수', hue='요일', size='시간(1시간단위)', sizes=(50, 330), ax=ax[1])\n",
        "sns.lineplot(data=max, x='일자', y='유동인구수', hue='요일', ax=ax[2])\n",
        "sns.pointplot(data=max, x='일자', y='유동인구수', hue='요일', ax=ax[3])"
      ],
      "execution_count": null,
      "outputs": []
    },
    {
      "cell_type": "markdown",
      "metadata": {
        "id": "55czlp6wSjng"
      },
      "source": [
        "## 유동인구 최소 (군구, 요일)"
      ]
    },
    {
      "cell_type": "code",
      "metadata": {
        "id": "QzZfAdt-ORzS"
      },
      "source": [
        "fig, ax = plt.subplots(4, 1, figsize=(27, 30))\n",
        "\n",
        "plt.xticks(rotation=90)\n",
        "sns.barplot(data=min, x='군구', y='유동인구수', hue='요일', ax=ax[0])\n",
        "sns.scatterplot(data=min, x='군구', y='유동인구수', hue='요일', size='요일', sizes=(50, 330), ax=ax[1])\n",
        "sns.lineplot(data=min, x='일자', y='유동인구수', hue='요일', ax=ax[2])\n",
        "sns.pointplot(data=min, x='일자', y='유동인구수', hue='요일', ax=ax[3])"
      ],
      "execution_count": null,
      "outputs": []
    },
    {
      "cell_type": "markdown",
      "metadata": {
        "id": "2F5vp8g5SpuJ"
      },
      "source": [
        "## 유동인구 중간값 (일자, 요일)"
      ]
    },
    {
      "cell_type": "code",
      "metadata": {
        "id": "qWSTmN72RTWU"
      },
      "source": [
        "fig, ax = plt.subplots(4, 1, figsize=(27, 30))\n",
        "\n",
        "plt.xticks(rotation=90)\n",
        "sns.barplot(data=median, x='군구', y='유동인구수', hue='요일', ax=ax[0])\n",
        "sns.scatterplot(data=median, x='군구', y='유동인구수', hue='요일', size='요일', sizes=(50, 330), ax=ax[1])\n",
        "sns.lineplot(data=median, x='일자', y='유동인구수', hue='요일', ax=ax[2])\n",
        "sns.pointplot(data=median, x='일자', y='유동인구수', hue='요일', ax=ax[3])"
      ],
      "execution_count": null,
      "outputs": []
    },
    {
      "cell_type": "markdown",
      "metadata": {
        "id": "Qks0eZjhSx4j"
      },
      "source": [
        "## 유동인구 제삼사분위 (일자, 요일)"
      ]
    },
    {
      "cell_type": "code",
      "metadata": {
        "id": "f-_fjhVwRW0S",
        "outputId": "9897dd69-7404-4cf2-c1b5-f38d9a7ed4b3",
        "colab": {
          "base_uri": "https://localhost:8080/",
          "height": 1000
        }
      },
      "source": [
        "fig, ax = plt.subplots(4, 1, figsize=(27, 30))\n",
        "\n",
        "plt.xticks(rotation=90)\n",
        "sns.barplot(data=삼사분위, x='군구', y='유동인구수', hue='요일', ax=ax[0])\n",
        "sns.scatterplot(data=삼사분위, x='군구', y='유동인구수', hue='요일', size='요일', sizes=(50, 330), ax=ax[1])\n",
        "sns.lineplot(data=삼사분위, x='일자', y='유동인구수', hue='요일', ax=ax[2])\n",
        "sns.pointplot(data=삼사분위, x='일자', y='유동인구수', hue='요일', ax=ax[3])"
      ],
      "execution_count": 105,
      "outputs": [
        {
          "output_type": "execute_result",
          "data": {
            "text/plain": [
              "<matplotlib.axes._subplots.AxesSubplot at 0x7f8aef86ca58>"
            ]
          },
          "metadata": {
            "tags": []
          },
          "execution_count": 105
        },
        {
          "output_type": "stream",
          "text": [
            "/usr/local/lib/python3.6/dist-packages/matplotlib/backends/backend_agg.py:214: RuntimeWarning: Glyph 8722 missing from current font.\n",
            "  font.set_text(s, 0.0, flags=flags)\n",
            "/usr/local/lib/python3.6/dist-packages/matplotlib/backends/backend_agg.py:183: RuntimeWarning: Glyph 8722 missing from current font.\n",
            "  font.set_text(s, 0, flags=flags)\n"
          ],
          "name": "stderr"
        },
        {
          "output_type": "display_data",
          "data": {
            "image/png": "[encoded data removed]",
            "text/plain": [
              "<Figure size 1944x2160 with 4 Axes>"
            ]
          },
          "metadata": {
            "tags": [],
            "needs_background": "light"
          }
        }
      ]
    },
    {
      "cell_type": "code",
      "metadata": {
        "id": "DxTNgwtQRanP"
      },
      "source": [
        "import pandas as pd\n",
        "\n",
        "df_org = pd.read_csv('https://drive.google.com/uc?id=1Jer8rxhCiiBSg3uy6S-TpVufyH5nFvTm&authuser=0&export=download')\n"
      ],
      "execution_count": null,
      "outputs": []
    },
    {
      "cell_type": "code",
      "metadata": {
        "id": "k-r2NBhmuHDv"
      },
      "source": [
        "df_org = df.copy()"
      ],
      "execution_count": null,
      "outputs": []
    },
    {
      "cell_type": "code",
      "metadata": {
        "id": "CSNFic-Wrjv7"
      },
      "source": [
        "df = df_org.drop(columns=['연령대(10세단위)', '시', '성별', '시간(1시간단위)'])\n",
        "df['일자'] = df['일자'].apply(str)\n",
        "df['일자'] = df['일자'].apply(lambda s: '-'.join([s[:4], s[4:6], s[6:8]]))\n",
        "df['일자'] = pd.to_datetime(df['일자'], format='%Y-%m-%d')"
      ],
      "execution_count": null,
      "outputs": []
    },
    {
      "cell_type": "code",
      "metadata": {
        "id": "b1r4aVtorzW5"
      },
      "source": [
        "df_gangnam = df[df['군구'] == '강남구']\n",
        "df_jung = df[df['군구'] == '중구']"
      ],
      "execution_count": null,
      "outputs": []
    },
    {
      "cell_type": "code",
      "metadata": {
        "id": "DuvcN02BtUfW",
        "outputId": "1bc3badc-3513-427a-a1d6-1553b73953e4",
        "colab": {
          "base_uri": "https://localhost:8080/",
          "height": 79
        }
      },
      "source": [
        "df_gangnam.head(1)"
      ],
      "execution_count": null,
      "outputs": [
        {
          "output_type": "execute_result",
          "data": {
            "text/html": [
              "<div>\n",
              "<style scoped>\n",
              "    .dataframe tbody tr th:only-of-type {\n",
              "        vertical-align: middle;\n",
              "    }\n",
              "\n",
              "    .dataframe tbody tr th {\n",
              "        vertical-align: top;\n",
              "    }\n",
              "\n",
              "    .dataframe thead th {\n",
              "        text-align: right;\n",
              "    }\n",
              "</style>\n",
              "<table border=\"1\" class=\"dataframe\">\n",
              "  <thead>\n",
              "    <tr style=\"text-align: right;\">\n",
              "      <th></th>\n",
              "      <th>일자</th>\n",
              "      <th>군구</th>\n",
              "      <th>유동인구수</th>\n",
              "    </tr>\n",
              "  </thead>\n",
              "  <tbody>\n",
              "    <tr>\n",
              "      <th>6</th>\n",
              "      <td>2020-08-01</td>\n",
              "      <td>강남구</td>\n",
              "      <td>39950</td>\n",
              "    </tr>\n",
              "  </tbody>\n",
              "</table>\n",
              "</div>"
            ],
            "text/plain": [
              "          일자   군구  유동인구수\n",
              "6 2020-08-01  강남구  39950"
            ]
          },
          "metadata": {
            "tags": []
          },
          "execution_count": 51
        }
      ]
    },
    {
      "cell_type": "code",
      "metadata": {
        "id": "KiLLSNl7txpb",
        "outputId": "43a0d3ba-b74e-4ff7-8133-4ddc03a657c7",
        "colab": {
          "background_save": true
        }
      },
      "source": [
        "df_gangnam.head(6)"
      ],
      "execution_count": null,
      "outputs": [
        {
          "output_type": "execute_result",
          "data": {
            "text/html": [
              "<div>\n",
              "<style scoped>\n",
              "    .dataframe tbody tr th:only-of-type {\n",
              "        vertical-align: middle;\n",
              "    }\n",
              "\n",
              "    .dataframe tbody tr th {\n",
              "        vertical-align: top;\n",
              "    }\n",
              "\n",
              "    .dataframe thead th {\n",
              "        text-align: right;\n",
              "    }\n",
              "</style>\n",
              "<table border=\"1\" class=\"dataframe\">\n",
              "  <thead>\n",
              "    <tr style=\"text-align: right;\">\n",
              "      <th></th>\n",
              "      <th>일자</th>\n",
              "      <th>군구</th>\n",
              "      <th>유동인구수</th>\n",
              "    </tr>\n",
              "  </thead>\n",
              "  <tbody>\n",
              "    <tr>\n",
              "      <th>6</th>\n",
              "      <td>2020-08-01</td>\n",
              "      <td>강남구</td>\n",
              "      <td>39950</td>\n",
              "    </tr>\n",
              "    <tr>\n",
              "      <th>39</th>\n",
              "      <td>2020-08-01</td>\n",
              "      <td>강남구</td>\n",
              "      <td>15640</td>\n",
              "    </tr>\n",
              "    <tr>\n",
              "      <th>44</th>\n",
              "      <td>2020-08-01</td>\n",
              "      <td>강남구</td>\n",
              "      <td>41440</td>\n",
              "    </tr>\n",
              "    <tr>\n",
              "      <th>71</th>\n",
              "      <td>2020-08-02</td>\n",
              "      <td>강남구</td>\n",
              "      <td>23580</td>\n",
              "    </tr>\n",
              "    <tr>\n",
              "      <th>105</th>\n",
              "      <td>2020-08-02</td>\n",
              "      <td>강남구</td>\n",
              "      <td>41040</td>\n",
              "    </tr>\n",
              "    <tr>\n",
              "      <th>110</th>\n",
              "      <td>2020-08-02</td>\n",
              "      <td>강남구</td>\n",
              "      <td>15070</td>\n",
              "    </tr>\n",
              "  </tbody>\n",
              "</table>\n",
              "</div>"
            ],
            "text/plain": [
              "            일자   군구  유동인구수\n",
              "6   2020-08-01  강남구  39950\n",
              "39  2020-08-01  강남구  15640\n",
              "44  2020-08-01  강남구  41440\n",
              "71  2020-08-02  강남구  23580\n",
              "105 2020-08-02  강남구  41040\n",
              "110 2020-08-02  강남구  15070"
            ]
          },
          "metadata": {
            "tags": []
          },
          "execution_count": 0
        }
      ]
    }
  ]
}
{
  "nbformat": 4,
  "nbformat_minor": 0,
  "metadata": {
    "colab": {
      "name": "test/moving_population.ipynb",
      "provenance": [],
      "collapsed_sections": [],
      "authorship_tag": "ABX9TyM7T3IEmjYjU6uoIFC37Db2",
      "include_colab_link": true
    },
    "kernelspec": {
      "name": "python3",
      "display_name": "Python 3"
    }
  },
  "cells": [
    {
      "cell_type": "markdown",
      "metadata": {
        "id": "view-in-github",
        "colab_type": "text"
      },
      "source": [
        "<a href=\"https://colab.research.google.com/github/wiv33/A-Learning-python/blob/master/machine-learning/_000_hello_machine/_000_basic/_008_pandas/_002_moving_population.ipynb\" target=\"_parent\"><img src=\"https://colab.research.google.com/assets/colab-badge.svg\" alt=\"Open In Colab\"/></a>"
      ]
    },
    {
      "cell_type": "code",
      "metadata": {
        "id": "tVrUfTYacVmC"
      },
      "source": [
        "import pandas as pd\n",
        "import matplotlib.pyplot as plt\n",
        "import seaborn as sns\n",
        "import numpy as np"
      ],
      "execution_count": 1,
      "outputs": []
    },
    {
      "cell_type": "code",
      "metadata": {
        "id": "zsox5HAUf0Mr",
        "outputId": "2fa0e9ca-69d3-44ba-cb0c-4ae0bf71499b",
        "colab": {
          "base_uri": "https://localhost:8080/",
          "height": 204
        }
      },
      "source": [
        "df_co = pd.read_csv('https://docs.google.com/spreadsheets/u/0/d/1P7s-aD5dYr2355iqFRX1CUxpjbHhl4SYnjT5sP4Iy10/export?format=csv&id=1P7s-aD5dYr2355iqFRX1CUxpjbHhl4SYnjT5sP4Iy10&gid=0')\n",
        "df_co.head()"
      ],
      "execution_count": 2,
      "outputs": [
        {
          "output_type": "execute_result",
          "data": {
            "text/html": [
              "<div>\n",
              "<style scoped>\n",
              "    .dataframe tbody tr th:only-of-type {\n",
              "        vertical-align: middle;\n",
              "    }\n",
              "\n",
              "    .dataframe tbody tr th {\n",
              "        vertical-align: top;\n",
              "    }\n",
              "\n",
              "    .dataframe thead th {\n",
              "        text-align: right;\n",
              "    }\n",
              "</style>\n",
              "<table border=\"1\" class=\"dataframe\">\n",
              "  <thead>\n",
              "    <tr style=\"text-align: right;\">\n",
              "      <th></th>\n",
              "      <th>연번</th>\n",
              "      <th>확진일</th>\n",
              "      <th>지역</th>\n",
              "      <th>접촉력</th>\n",
              "      <th>노출여부</th>\n",
              "    </tr>\n",
              "  </thead>\n",
              "  <tbody>\n",
              "    <tr>\n",
              "      <th>0</th>\n",
              "      <td>6103</td>\n",
              "      <td>11.02.</td>\n",
              "      <td>동작구</td>\n",
              "      <td>감염경로 조사중</td>\n",
              "      <td>Y</td>\n",
              "    </tr>\n",
              "    <tr>\n",
              "      <th>1</th>\n",
              "      <td>6102</td>\n",
              "      <td>11.02.</td>\n",
              "      <td>구로구</td>\n",
              "      <td>강남구 헬스장 관련</td>\n",
              "      <td>Y</td>\n",
              "    </tr>\n",
              "    <tr>\n",
              "      <th>2</th>\n",
              "      <td>6101</td>\n",
              "      <td>11.02.</td>\n",
              "      <td>영등포구</td>\n",
              "      <td>감염경로 조사중</td>\n",
              "      <td>Y</td>\n",
              "    </tr>\n",
              "    <tr>\n",
              "      <th>3</th>\n",
              "      <td>6100</td>\n",
              "      <td>11.02.</td>\n",
              "      <td>종로구</td>\n",
              "      <td>감염경로 조사중</td>\n",
              "      <td>Y</td>\n",
              "    </tr>\n",
              "    <tr>\n",
              "      <th>4</th>\n",
              "      <td>6099</td>\n",
              "      <td>11.02.</td>\n",
              "      <td>송파구</td>\n",
              "      <td>송파구 소재 병원관련</td>\n",
              "      <td>Y</td>\n",
              "    </tr>\n",
              "  </tbody>\n",
              "</table>\n",
              "</div>"
            ],
            "text/plain": [
              "     연번     확진일    지역          접촉력 노출여부\n",
              "0  6103  11.02.   동작구     감염경로 조사중    Y\n",
              "1  6102  11.02.   구로구   강남구 헬스장 관련    Y\n",
              "2  6101  11.02.  영등포구     감염경로 조사중    Y\n",
              "3  6100  11.02.   종로구     감염경로 조사중    Y\n",
              "4  6099  11.02.   송파구  송파구 소재 병원관련    Y"
            ]
          },
          "metadata": {
            "tags": []
          },
          "execution_count": 2
        }
      ]
    },
    {
      "cell_type": "code",
      "metadata": {
        "id": "F_C5rqoBhqr-",
        "outputId": "418d9941-dfed-46c6-ab58-8bad897dff59",
        "colab": {
          "base_uri": "https://localhost:8080/",
          "height": 204
        }
      },
      "source": [
        "df_co.tail()"
      ],
      "execution_count": 3,
      "outputs": [
        {
          "output_type": "execute_result",
          "data": {
            "text/html": [
              "<div>\n",
              "<style scoped>\n",
              "    .dataframe tbody tr th:only-of-type {\n",
              "        vertical-align: middle;\n",
              "    }\n",
              "\n",
              "    .dataframe tbody tr th {\n",
              "        vertical-align: top;\n",
              "    }\n",
              "\n",
              "    .dataframe thead th {\n",
              "        text-align: right;\n",
              "    }\n",
              "</style>\n",
              "<table border=\"1\" class=\"dataframe\">\n",
              "  <thead>\n",
              "    <tr style=\"text-align: right;\">\n",
              "      <th></th>\n",
              "      <th>연번</th>\n",
              "      <th>확진일</th>\n",
              "      <th>지역</th>\n",
              "      <th>접촉력</th>\n",
              "      <th>노출여부</th>\n",
              "    </tr>\n",
              "  </thead>\n",
              "  <tbody>\n",
              "    <tr>\n",
              "      <th>6098</th>\n",
              "      <td>5</td>\n",
              "      <td>1.31.</td>\n",
              "      <td>성북구</td>\n",
              "      <td>#5 접촉</td>\n",
              "      <td>Y</td>\n",
              "    </tr>\n",
              "    <tr>\n",
              "      <th>6099</th>\n",
              "      <td>4</td>\n",
              "      <td>1.30.</td>\n",
              "      <td>마포구</td>\n",
              "      <td>해외 접촉</td>\n",
              "      <td>Y</td>\n",
              "    </tr>\n",
              "    <tr>\n",
              "      <th>6100</th>\n",
              "      <td>3</td>\n",
              "      <td>1.30.</td>\n",
              "      <td>종로구</td>\n",
              "      <td>#3 접촉</td>\n",
              "      <td>Y</td>\n",
              "    </tr>\n",
              "    <tr>\n",
              "      <th>6101</th>\n",
              "      <td>2</td>\n",
              "      <td>1.30.</td>\n",
              "      <td>중랑구</td>\n",
              "      <td>해외 접촉</td>\n",
              "      <td>Y</td>\n",
              "    </tr>\n",
              "    <tr>\n",
              "      <th>6102</th>\n",
              "      <td>1</td>\n",
              "      <td>1.24.</td>\n",
              "      <td>강서구</td>\n",
              "      <td>해외 접촉</td>\n",
              "      <td>Y</td>\n",
              "    </tr>\n",
              "  </tbody>\n",
              "</table>\n",
              "</div>"
            ],
            "text/plain": [
              "      연번    확진일   지역    접촉력 노출여부\n",
              "6098   5  1.31.  성북구  #5 접촉    Y\n",
              "6099   4  1.30.  마포구  해외 접촉    Y\n",
              "6100   3  1.30.  종로구  #3 접촉    Y\n",
              "6101   2  1.30.  중랑구  해외 접촉    Y\n",
              "6102   1  1.24.  강서구  해외 접촉    Y"
            ]
          },
          "metadata": {
            "tags": []
          },
          "execution_count": 3
        }
      ]
    },
    {
      "cell_type": "code",
      "metadata": {
        "id": "kXNZ7wf7htIr",
        "outputId": "b6f8b32e-4398-4ad0-ae3f-8c06c9df73e0",
        "colab": {
          "base_uri": "https://localhost:8080/",
          "height": 948
        }
      },
      "source": [
        "s = df_co.groupby(by=['확진일', '지역'])\n",
        "\n",
        "print(s['확진일'].value_counts())\n",
        "fig, ax = plt.subplots(1, 1, figsize=(12, 7))\n",
        "\n",
        "sns.countplot(s['확진일'].value_counts(), data=pd.DataFrame(s), ax=ax)"
      ],
      "execution_count": 37,
      "outputs": [
        {
          "output_type": "stream",
          "text": [
            "확진일    지역    확진일  \n",
            "1.24.  강서구   1.24.    1\n",
            "1.30.  마포구   1.30.    1\n",
            "       종로구   1.30.    1\n",
            "       중랑구   1.30.    1\n",
            "1.31.  성북구   1.31.    1\n",
            "                     ..\n",
            "9.30.  성동구   9.30.    4\n",
            "       송파구   9.30.    2\n",
            "       영등포구  9.30.    1\n",
            "       용산구   9.30.    1\n",
            "       중랑구   9.30.    1\n",
            "Name: 확진일, Length: 2523, dtype: int64\n"
          ],
          "name": "stdout"
        },
        {
          "output_type": "stream",
          "text": [
            "/usr/local/lib/python3.6/dist-packages/seaborn/_decorators.py:43: FutureWarning: Pass the following variable as a keyword arg: x. From version 0.12, the only valid positional argument will be `data`, and passing other arguments without an explicit keyword will result in an error or misinterpretation.\n",
            "  FutureWarning\n"
          ],
          "name": "stderr"
        },
        {
          "output_type": "execute_result",
          "data": {
            "text/plain": [
              "<matplotlib.axes._subplots.AxesSubplot at 0x7fc270e779b0>"
            ]
          },
          "metadata": {
            "tags": []
          },
          "execution_count": 37
        },
        {
          "output_type": "stream",
          "text": [
            "/usr/local/lib/python3.6/dist-packages/matplotlib/backends/backend_agg.py:214: RuntimeWarning: Glyph 54869 missing from current font.\n",
            "  font.set_text(s, 0.0, flags=flags)\n",
            "/usr/local/lib/python3.6/dist-packages/matplotlib/backends/backend_agg.py:214: RuntimeWarning: Glyph 51652 missing from current font.\n",
            "  font.set_text(s, 0.0, flags=flags)\n",
            "/usr/local/lib/python3.6/dist-packages/matplotlib/backends/backend_agg.py:214: RuntimeWarning: Glyph 51068 missing from current font.\n",
            "  font.set_text(s, 0.0, flags=flags)\n",
            "/usr/local/lib/python3.6/dist-packages/matplotlib/backends/backend_agg.py:183: RuntimeWarning: Glyph 54869 missing from current font.\n",
            "  font.set_text(s, 0, flags=flags)\n",
            "/usr/local/lib/python3.6/dist-packages/matplotlib/backends/backend_agg.py:183: RuntimeWarning: Glyph 51652 missing from current font.\n",
            "  font.set_text(s, 0, flags=flags)\n",
            "/usr/local/lib/python3.6/dist-packages/matplotlib/backends/backend_agg.py:183: RuntimeWarning: Glyph 51068 missing from current font.\n",
            "  font.set_text(s, 0, flags=flags)\n"
          ],
          "name": "stderr"
        },
        {
          "output_type": "display_data",
          "data": {
            "image/png": "[encoded data removed]",
            "text/plain": [
              "<Figure size 864x504 with 1 Axes>"
            ]
          },
          "metadata": {
            "tags": [],
            "needs_background": "light"
          }
        }
      ]
    },
    {
      "cell_type": "code",
      "metadata": {
        "id": "7HWAEotg1ibP",
        "outputId": "18e6636d-babd-427f-aedd-c89375f087b7",
        "colab": {
          "base_uri": "https://localhost:8080/",
          "height": 450
        }
      },
      "source": [
        "s['확진일'].describe()"
      ],
      "execution_count": 38,
      "outputs": [
        {
          "output_type": "execute_result",
          "data": {
            "text/html": [
              "<div>\n",
              "<style scoped>\n",
              "    .dataframe tbody tr th:only-of-type {\n",
              "        vertical-align: middle;\n",
              "    }\n",
              "\n",
              "    .dataframe tbody tr th {\n",
              "        vertical-align: top;\n",
              "    }\n",
              "\n",
              "    .dataframe thead th {\n",
              "        text-align: right;\n",
              "    }\n",
              "</style>\n",
              "<table border=\"1\" class=\"dataframe\">\n",
              "  <thead>\n",
              "    <tr style=\"text-align: right;\">\n",
              "      <th></th>\n",
              "      <th></th>\n",
              "      <th>count</th>\n",
              "      <th>unique</th>\n",
              "      <th>top</th>\n",
              "      <th>freq</th>\n",
              "    </tr>\n",
              "    <tr>\n",
              "      <th>확진일</th>\n",
              "      <th>지역</th>\n",
              "      <th></th>\n",
              "      <th></th>\n",
              "      <th></th>\n",
              "      <th></th>\n",
              "    </tr>\n",
              "  </thead>\n",
              "  <tbody>\n",
              "    <tr>\n",
              "      <th>1.24.</th>\n",
              "      <th>강서구</th>\n",
              "      <td>1</td>\n",
              "      <td>1</td>\n",
              "      <td>1.24.</td>\n",
              "      <td>1</td>\n",
              "    </tr>\n",
              "    <tr>\n",
              "      <th rowspan=\"3\" valign=\"top\">1.30.</th>\n",
              "      <th>마포구</th>\n",
              "      <td>1</td>\n",
              "      <td>1</td>\n",
              "      <td>1.30.</td>\n",
              "      <td>1</td>\n",
              "    </tr>\n",
              "    <tr>\n",
              "      <th>종로구</th>\n",
              "      <td>1</td>\n",
              "      <td>1</td>\n",
              "      <td>1.30.</td>\n",
              "      <td>1</td>\n",
              "    </tr>\n",
              "    <tr>\n",
              "      <th>중랑구</th>\n",
              "      <td>1</td>\n",
              "      <td>1</td>\n",
              "      <td>1.30.</td>\n",
              "      <td>1</td>\n",
              "    </tr>\n",
              "    <tr>\n",
              "      <th>1.31.</th>\n",
              "      <th>성북구</th>\n",
              "      <td>1</td>\n",
              "      <td>1</td>\n",
              "      <td>1.31.</td>\n",
              "      <td>1</td>\n",
              "    </tr>\n",
              "    <tr>\n",
              "      <th>...</th>\n",
              "      <th>...</th>\n",
              "      <td>...</td>\n",
              "      <td>...</td>\n",
              "      <td>...</td>\n",
              "      <td>...</td>\n",
              "    </tr>\n",
              "    <tr>\n",
              "      <th rowspan=\"5\" valign=\"top\">9.30.</th>\n",
              "      <th>성동구</th>\n",
              "      <td>4</td>\n",
              "      <td>1</td>\n",
              "      <td>9.30.</td>\n",
              "      <td>4</td>\n",
              "    </tr>\n",
              "    <tr>\n",
              "      <th>송파구</th>\n",
              "      <td>2</td>\n",
              "      <td>1</td>\n",
              "      <td>9.30.</td>\n",
              "      <td>2</td>\n",
              "    </tr>\n",
              "    <tr>\n",
              "      <th>영등포구</th>\n",
              "      <td>1</td>\n",
              "      <td>1</td>\n",
              "      <td>9.30.</td>\n",
              "      <td>1</td>\n",
              "    </tr>\n",
              "    <tr>\n",
              "      <th>용산구</th>\n",
              "      <td>1</td>\n",
              "      <td>1</td>\n",
              "      <td>9.30.</td>\n",
              "      <td>1</td>\n",
              "    </tr>\n",
              "    <tr>\n",
              "      <th>중랑구</th>\n",
              "      <td>1</td>\n",
              "      <td>1</td>\n",
              "      <td>9.30.</td>\n",
              "      <td>1</td>\n",
              "    </tr>\n",
              "  </tbody>\n",
              "</table>\n",
              "<p>2523 rows × 4 columns</p>\n",
              "</div>"
            ],
            "text/plain": [
              "           count unique    top freq\n",
              "확진일   지역                           \n",
              "1.24. 강서구      1      1  1.24.    1\n",
              "1.30. 마포구      1      1  1.30.    1\n",
              "      종로구      1      1  1.30.    1\n",
              "      중랑구      1      1  1.30.    1\n",
              "1.31. 성북구      1      1  1.31.    1\n",
              "...          ...    ...    ...  ...\n",
              "9.30. 성동구      4      1  9.30.    4\n",
              "      송파구      2      1  9.30.    2\n",
              "      영등포구     1      1  9.30.    1\n",
              "      용산구      1      1  9.30.    1\n",
              "      중랑구      1      1  9.30.    1\n",
              "\n",
              "[2523 rows x 4 columns]"
            ]
          },
          "metadata": {
            "tags": []
          },
          "execution_count": 38
        }
      ]
    },
    {
      "cell_type": "code",
      "metadata": {
        "id": "efRtjLzv1r8g",
        "outputId": "bda59ce7-5af3-4efa-d58e-6b64a8730d04",
        "colab": {
          "base_uri": "https://localhost:8080/",
          "height": 450
        }
      },
      "source": [
        "s['지역'].describe()"
      ],
      "execution_count": 39,
      "outputs": [
        {
          "output_type": "execute_result",
          "data": {
            "text/html": [
              "<div>\n",
              "<style scoped>\n",
              "    .dataframe tbody tr th:only-of-type {\n",
              "        vertical-align: middle;\n",
              "    }\n",
              "\n",
              "    .dataframe tbody tr th {\n",
              "        vertical-align: top;\n",
              "    }\n",
              "\n",
              "    .dataframe thead th {\n",
              "        text-align: right;\n",
              "    }\n",
              "</style>\n",
              "<table border=\"1\" class=\"dataframe\">\n",
              "  <thead>\n",
              "    <tr style=\"text-align: right;\">\n",
              "      <th></th>\n",
              "      <th></th>\n",
              "      <th>count</th>\n",
              "      <th>unique</th>\n",
              "      <th>top</th>\n",
              "      <th>freq</th>\n",
              "    </tr>\n",
              "    <tr>\n",
              "      <th>확진일</th>\n",
              "      <th>지역</th>\n",
              "      <th></th>\n",
              "      <th></th>\n",
              "      <th></th>\n",
              "      <th></th>\n",
              "    </tr>\n",
              "  </thead>\n",
              "  <tbody>\n",
              "    <tr>\n",
              "      <th>1.24.</th>\n",
              "      <th>강서구</th>\n",
              "      <td>1</td>\n",
              "      <td>1</td>\n",
              "      <td>강서구</td>\n",
              "      <td>1</td>\n",
              "    </tr>\n",
              "    <tr>\n",
              "      <th rowspan=\"3\" valign=\"top\">1.30.</th>\n",
              "      <th>마포구</th>\n",
              "      <td>1</td>\n",
              "      <td>1</td>\n",
              "      <td>마포구</td>\n",
              "      <td>1</td>\n",
              "    </tr>\n",
              "    <tr>\n",
              "      <th>종로구</th>\n",
              "      <td>1</td>\n",
              "      <td>1</td>\n",
              "      <td>종로구</td>\n",
              "      <td>1</td>\n",
              "    </tr>\n",
              "    <tr>\n",
              "      <th>중랑구</th>\n",
              "      <td>1</td>\n",
              "      <td>1</td>\n",
              "      <td>중랑구</td>\n",
              "      <td>1</td>\n",
              "    </tr>\n",
              "    <tr>\n",
              "      <th>1.31.</th>\n",
              "      <th>성북구</th>\n",
              "      <td>1</td>\n",
              "      <td>1</td>\n",
              "      <td>성북구</td>\n",
              "      <td>1</td>\n",
              "    </tr>\n",
              "    <tr>\n",
              "      <th>...</th>\n",
              "      <th>...</th>\n",
              "      <td>...</td>\n",
              "      <td>...</td>\n",
              "      <td>...</td>\n",
              "      <td>...</td>\n",
              "    </tr>\n",
              "    <tr>\n",
              "      <th rowspan=\"5\" valign=\"top\">9.30.</th>\n",
              "      <th>성동구</th>\n",
              "      <td>4</td>\n",
              "      <td>1</td>\n",
              "      <td>성동구</td>\n",
              "      <td>4</td>\n",
              "    </tr>\n",
              "    <tr>\n",
              "      <th>송파구</th>\n",
              "      <td>2</td>\n",
              "      <td>1</td>\n",
              "      <td>송파구</td>\n",
              "      <td>2</td>\n",
              "    </tr>\n",
              "    <tr>\n",
              "      <th>영등포구</th>\n",
              "      <td>1</td>\n",
              "      <td>1</td>\n",
              "      <td>영등포구</td>\n",
              "      <td>1</td>\n",
              "    </tr>\n",
              "    <tr>\n",
              "      <th>용산구</th>\n",
              "      <td>1</td>\n",
              "      <td>1</td>\n",
              "      <td>용산구</td>\n",
              "      <td>1</td>\n",
              "    </tr>\n",
              "    <tr>\n",
              "      <th>중랑구</th>\n",
              "      <td>1</td>\n",
              "      <td>1</td>\n",
              "      <td>중랑구</td>\n",
              "      <td>1</td>\n",
              "    </tr>\n",
              "  </tbody>\n",
              "</table>\n",
              "<p>2523 rows × 4 columns</p>\n",
              "</div>"
            ],
            "text/plain": [
              "           count unique   top freq\n",
              "확진일   지역                          \n",
              "1.24. 강서구      1      1   강서구    1\n",
              "1.30. 마포구      1      1   마포구    1\n",
              "      종로구      1      1   종로구    1\n",
              "      중랑구      1      1   중랑구    1\n",
              "1.31. 성북구      1      1   성북구    1\n",
              "...          ...    ...   ...  ...\n",
              "9.30. 성동구      4      1   성동구    4\n",
              "      송파구      2      1   송파구    2\n",
              "      영등포구     1      1  영등포구    1\n",
              "      용산구      1      1   용산구    1\n",
              "      중랑구      1      1   중랑구    1\n",
              "\n",
              "[2523 rows x 4 columns]"
            ]
          },
          "metadata": {
            "tags": []
          },
          "execution_count": 39
        }
      ]
    },
    {
      "cell_type": "markdown",
      "metadata": {
        "id": "Tyoj6r-fCc4x"
      },
      "source": [
        "서울시 유동인구 데이터\n",
        "\n",
        "[SKT DATA HUB](https://www.bigdatahub.co.kr/product/list.do?menu_id=1000157)\n",
        "\n",
        "2020년 9월 ~ 2019년 3월\n",
        "\n",
        "```javascript\n",
        "const result = Array.from(document.querySelectorAll('.category_detail.clfix .title a')).reduce((acc, v) => {\n",
        "  acc.push(v.getAttribute('href').split('pid=')[1]); \n",
        "  return acc\n",
        "  }, [])\n",
        "\n",
        "  result > [\"1002332\", \"1002326\", \"1002317\", \"1002308\", \"1002302\", \"1002299\", \"1002295\", \"1002291\", \"1002286\", \"1002280\", \"1002277\", \"1002261\", \"1002260\", \"1002259\", \"1002258\", \"1002257\", \"1002256\", \"1002255\", \"1002254\"]\n",
        "\n",
        "```"
      ]
    },
    {
      "cell_type": "code",
      "metadata": {
        "id": "wmYT5-K9hzHZ"
      },
      "source": [
        "import requests\n",
        "import json\n",
        "api_key = 'c61b5cd07c8bfaea68d1417c95619895dda597654d90c1e896a55909391a13a4'\n",
        "# 2020.09, 2020.08 ... 2019.03\n",
        "pids = [\"1002332\", \"1002326\", \"1002317\", \"1002308\", \"1002302\", \"1002299\", \"1002295\", \"1002291\", \"1002286\", \"1002280\", \"1002277\", \"1002261\", \"1002260\", \"1002259\", \"1002258\", \"1002257\", \"1002256\", \"1002255\", \"1002254\"]\n",
        "\n",
        "df = pd.DataFrame(data=None, columns=['일자', '시간(1시간단위)', '연령대(10세단위)', '성별', '시', '군구', '유동인구수'])"
      ],
      "execution_count": 49,
      "outputs": []
    },
    {
      "cell_type": "markdown",
      "metadata": {
        "id": "n3aCvZli8-Ud"
      },
      "source": [
        "# 9월"
      ]
    },
    {
      "cell_type": "code",
      "metadata": {
        "id": "lH-YwgVd1TY_",
        "outputId": "4f5aaede-3351-49df-b5d0-c852fd32f21f",
        "colab": {
          "base_uri": "https://localhost:8080/"
        }
      },
      "source": [
        "for x in range(1, 3):\n",
        "  res = requests.get(f'https://api.bigdatahub.co.kr/v1/datahub/datasets/search.json?pid=1002332&TDCAccessKey={api_key}&$count=10000&$page={x}')\n",
        "  print(res)\n",
        "  j = json.loads(res.text)\n",
        "  df = df.append(pd.DataFrame(j['entry']), ignore_index=True)\n"
      ],
      "execution_count": 50,
      "outputs": [
        {
          "output_type": "stream",
          "text": [
            "<Response [200]>\n",
            "<Response [200]>\n"
          ],
          "name": "stdout"
        }
      ]
    },
    {
      "cell_type": "code",
      "metadata": {
        "id": "UudoH9by9SW_",
        "outputId": "fb162704-402a-4ace-b46d-2fb8d61194af",
        "colab": {
          "base_uri": "https://localhost:8080/"
        }
      },
      "source": [
        "(2158 // 10)"
      ],
      "execution_count": 43,
      "outputs": [
        {
          "output_type": "execute_result",
          "data": {
            "text/plain": [
              "215"
            ]
          },
          "metadata": {
            "tags": []
          },
          "execution_count": 43
        }
      ]
    },
    {
      "cell_type": "code",
      "metadata": {
        "id": "Vqa285Gd_PVA",
        "outputId": "a4edb2b3-e1d8-4f58-d498-0725fc0b176d",
        "colab": {
          "base_uri": "https://localhost:8080/"
        }
      },
      "source": [
        "df.info()"
      ],
      "execution_count": 51,
      "outputs": [
        {
          "output_type": "stream",
          "text": [
            "<class 'pandas.core.frame.DataFrame'>\n",
            "RangeIndex: 2000 entries, 0 to 1999\n",
            "Data columns (total 7 columns):\n",
            " #   Column      Non-Null Count  Dtype \n",
            "---  ------      --------------  ----- \n",
            " 0   일자          2000 non-null   object\n",
            " 1   시간(1시간단위)   2000 non-null   object\n",
            " 2   연령대(10세단위)  2000 non-null   object\n",
            " 3   성별          2000 non-null   object\n",
            " 4   시           2000 non-null   object\n",
            " 5   군구          2000 non-null   object\n",
            " 6   유동인구수       2000 non-null   object\n",
            "dtypes: object(7)\n",
            "memory usage: 109.5+ KB\n"
          ],
          "name": "stdout"
        }
      ]
    },
    {
      "cell_type": "markdown",
      "metadata": {
        "id": "5qpJgkaF9Asd"
      },
      "source": [
        "# 8월"
      ]
    },
    {
      "cell_type": "code",
      "metadata": {
        "id": "l-iBrO5g6PGT",
        "outputId": "5dc93999-64ef-48c7-8c6d-357547e8ae7e",
        "colab": {
          "base_uri": "https://localhost:8080/",
          "height": 855
        }
      },
      "source": [
        "grouped = df.groupby('군구')\n",
        "grouped.count()"
      ],
      "execution_count": 52,
      "outputs": [
        {
          "output_type": "execute_result",
          "data": {
            "text/html": [
              "<div>\n",
              "<style scoped>\n",
              "    .dataframe tbody tr th:only-of-type {\n",
              "        vertical-align: middle;\n",
              "    }\n",
              "\n",
              "    .dataframe tbody tr th {\n",
              "        vertical-align: top;\n",
              "    }\n",
              "\n",
              "    .dataframe thead th {\n",
              "        text-align: right;\n",
              "    }\n",
              "</style>\n",
              "<table border=\"1\" class=\"dataframe\">\n",
              "  <thead>\n",
              "    <tr style=\"text-align: right;\">\n",
              "      <th></th>\n",
              "      <th>일자</th>\n",
              "      <th>시간(1시간단위)</th>\n",
              "      <th>연령대(10세단위)</th>\n",
              "      <th>성별</th>\n",
              "      <th>시</th>\n",
              "      <th>유동인구수</th>\n",
              "    </tr>\n",
              "    <tr>\n",
              "      <th>군구</th>\n",
              "      <th></th>\n",
              "      <th></th>\n",
              "      <th></th>\n",
              "      <th></th>\n",
              "      <th></th>\n",
              "      <th></th>\n",
              "    </tr>\n",
              "  </thead>\n",
              "  <tbody>\n",
              "    <tr>\n",
              "      <th>강남구</th>\n",
              "      <td>93</td>\n",
              "      <td>93</td>\n",
              "      <td>93</td>\n",
              "      <td>93</td>\n",
              "      <td>93</td>\n",
              "      <td>93</td>\n",
              "    </tr>\n",
              "    <tr>\n",
              "      <th>강동구</th>\n",
              "      <td>80</td>\n",
              "      <td>80</td>\n",
              "      <td>80</td>\n",
              "      <td>80</td>\n",
              "      <td>80</td>\n",
              "      <td>80</td>\n",
              "    </tr>\n",
              "    <tr>\n",
              "      <th>강북구</th>\n",
              "      <td>79</td>\n",
              "      <td>79</td>\n",
              "      <td>79</td>\n",
              "      <td>79</td>\n",
              "      <td>79</td>\n",
              "      <td>79</td>\n",
              "    </tr>\n",
              "    <tr>\n",
              "      <th>강서구</th>\n",
              "      <td>75</td>\n",
              "      <td>75</td>\n",
              "      <td>75</td>\n",
              "      <td>75</td>\n",
              "      <td>75</td>\n",
              "      <td>75</td>\n",
              "    </tr>\n",
              "    <tr>\n",
              "      <th>관악구</th>\n",
              "      <td>71</td>\n",
              "      <td>71</td>\n",
              "      <td>71</td>\n",
              "      <td>71</td>\n",
              "      <td>71</td>\n",
              "      <td>71</td>\n",
              "    </tr>\n",
              "    <tr>\n",
              "      <th>광진구</th>\n",
              "      <td>83</td>\n",
              "      <td>83</td>\n",
              "      <td>83</td>\n",
              "      <td>83</td>\n",
              "      <td>83</td>\n",
              "      <td>83</td>\n",
              "    </tr>\n",
              "    <tr>\n",
              "      <th>구로구</th>\n",
              "      <td>76</td>\n",
              "      <td>76</td>\n",
              "      <td>76</td>\n",
              "      <td>76</td>\n",
              "      <td>76</td>\n",
              "      <td>76</td>\n",
              "    </tr>\n",
              "    <tr>\n",
              "      <th>금천구</th>\n",
              "      <td>68</td>\n",
              "      <td>68</td>\n",
              "      <td>68</td>\n",
              "      <td>68</td>\n",
              "      <td>68</td>\n",
              "      <td>68</td>\n",
              "    </tr>\n",
              "    <tr>\n",
              "      <th>노원구</th>\n",
              "      <td>94</td>\n",
              "      <td>94</td>\n",
              "      <td>94</td>\n",
              "      <td>94</td>\n",
              "      <td>94</td>\n",
              "      <td>94</td>\n",
              "    </tr>\n",
              "    <tr>\n",
              "      <th>도봉구</th>\n",
              "      <td>84</td>\n",
              "      <td>84</td>\n",
              "      <td>84</td>\n",
              "      <td>84</td>\n",
              "      <td>84</td>\n",
              "      <td>84</td>\n",
              "    </tr>\n",
              "    <tr>\n",
              "      <th>동대문구</th>\n",
              "      <td>82</td>\n",
              "      <td>82</td>\n",
              "      <td>82</td>\n",
              "      <td>82</td>\n",
              "      <td>82</td>\n",
              "      <td>82</td>\n",
              "    </tr>\n",
              "    <tr>\n",
              "      <th>동작구</th>\n",
              "      <td>74</td>\n",
              "      <td>74</td>\n",
              "      <td>74</td>\n",
              "      <td>74</td>\n",
              "      <td>74</td>\n",
              "      <td>74</td>\n",
              "    </tr>\n",
              "    <tr>\n",
              "      <th>마포구</th>\n",
              "      <td>82</td>\n",
              "      <td>82</td>\n",
              "      <td>82</td>\n",
              "      <td>82</td>\n",
              "      <td>82</td>\n",
              "      <td>82</td>\n",
              "    </tr>\n",
              "    <tr>\n",
              "      <th>서대문구</th>\n",
              "      <td>93</td>\n",
              "      <td>93</td>\n",
              "      <td>93</td>\n",
              "      <td>93</td>\n",
              "      <td>93</td>\n",
              "      <td>93</td>\n",
              "    </tr>\n",
              "    <tr>\n",
              "      <th>서초구</th>\n",
              "      <td>80</td>\n",
              "      <td>80</td>\n",
              "      <td>80</td>\n",
              "      <td>80</td>\n",
              "      <td>80</td>\n",
              "      <td>80</td>\n",
              "    </tr>\n",
              "    <tr>\n",
              "      <th>성동구</th>\n",
              "      <td>74</td>\n",
              "      <td>74</td>\n",
              "      <td>74</td>\n",
              "      <td>74</td>\n",
              "      <td>74</td>\n",
              "      <td>74</td>\n",
              "    </tr>\n",
              "    <tr>\n",
              "      <th>성북구</th>\n",
              "      <td>76</td>\n",
              "      <td>76</td>\n",
              "      <td>76</td>\n",
              "      <td>76</td>\n",
              "      <td>76</td>\n",
              "      <td>76</td>\n",
              "    </tr>\n",
              "    <tr>\n",
              "      <th>송파구</th>\n",
              "      <td>87</td>\n",
              "      <td>87</td>\n",
              "      <td>87</td>\n",
              "      <td>87</td>\n",
              "      <td>87</td>\n",
              "      <td>87</td>\n",
              "    </tr>\n",
              "    <tr>\n",
              "      <th>양천구</th>\n",
              "      <td>77</td>\n",
              "      <td>77</td>\n",
              "      <td>77</td>\n",
              "      <td>77</td>\n",
              "      <td>77</td>\n",
              "      <td>77</td>\n",
              "    </tr>\n",
              "    <tr>\n",
              "      <th>영등포구</th>\n",
              "      <td>81</td>\n",
              "      <td>81</td>\n",
              "      <td>81</td>\n",
              "      <td>81</td>\n",
              "      <td>81</td>\n",
              "      <td>81</td>\n",
              "    </tr>\n",
              "    <tr>\n",
              "      <th>용산구</th>\n",
              "      <td>71</td>\n",
              "      <td>71</td>\n",
              "      <td>71</td>\n",
              "      <td>71</td>\n",
              "      <td>71</td>\n",
              "      <td>71</td>\n",
              "    </tr>\n",
              "    <tr>\n",
              "      <th>은평구</th>\n",
              "      <td>76</td>\n",
              "      <td>76</td>\n",
              "      <td>76</td>\n",
              "      <td>76</td>\n",
              "      <td>76</td>\n",
              "      <td>76</td>\n",
              "    </tr>\n",
              "    <tr>\n",
              "      <th>종로구</th>\n",
              "      <td>92</td>\n",
              "      <td>92</td>\n",
              "      <td>92</td>\n",
              "      <td>92</td>\n",
              "      <td>92</td>\n",
              "      <td>92</td>\n",
              "    </tr>\n",
              "    <tr>\n",
              "      <th>중구</th>\n",
              "      <td>65</td>\n",
              "      <td>65</td>\n",
              "      <td>65</td>\n",
              "      <td>65</td>\n",
              "      <td>65</td>\n",
              "      <td>65</td>\n",
              "    </tr>\n",
              "    <tr>\n",
              "      <th>중랑구</th>\n",
              "      <td>87</td>\n",
              "      <td>87</td>\n",
              "      <td>87</td>\n",
              "      <td>87</td>\n",
              "      <td>87</td>\n",
              "      <td>87</td>\n",
              "    </tr>\n",
              "  </tbody>\n",
              "</table>\n",
              "</div>"
            ],
            "text/plain": [
              "      일자  시간(1시간단위)  연령대(10세단위)  성별   시  유동인구수\n",
              "군구                                            \n",
              "강남구   93         93          93  93  93     93\n",
              "강동구   80         80          80  80  80     80\n",
              "강북구   79         79          79  79  79     79\n",
              "강서구   75         75          75  75  75     75\n",
              "관악구   71         71          71  71  71     71\n",
              "광진구   83         83          83  83  83     83\n",
              "구로구   76         76          76  76  76     76\n",
              "금천구   68         68          68  68  68     68\n",
              "노원구   94         94          94  94  94     94\n",
              "도봉구   84         84          84  84  84     84\n",
              "동대문구  82         82          82  82  82     82\n",
              "동작구   74         74          74  74  74     74\n",
              "마포구   82         82          82  82  82     82\n",
              "서대문구  93         93          93  93  93     93\n",
              "서초구   80         80          80  80  80     80\n",
              "성동구   74         74          74  74  74     74\n",
              "성북구   76         76          76  76  76     76\n",
              "송파구   87         87          87  87  87     87\n",
              "양천구   77         77          77  77  77     77\n",
              "영등포구  81         81          81  81  81     81\n",
              "용산구   71         71          71  71  71     71\n",
              "은평구   76         76          76  76  76     76\n",
              "종로구   92         92          92  92  92     92\n",
              "중구    65         65          65  65  65     65\n",
              "중랑구   87         87          87  87  87     87"
            ]
          },
          "metadata": {
            "tags": []
          },
          "execution_count": 52
        }
      ]
    },
    {
      "cell_type": "code",
      "metadata": {
        "id": "7GI8ako15xsw",
        "outputId": "ce591a20-0ce8-4109-c94b-8ad2f9a21101",
        "colab": {
          "base_uri": "https://localhost:8080/",
          "height": 642
        }
      },
      "source": [
        "fig, ax = plt.subplots(1, 1, figsize=(12, 7))\n",
        "\n",
        "sns.countplot(grouped['군구'].count(), ax=ax)"
      ],
      "execution_count": 53,
      "outputs": [
        {
          "output_type": "stream",
          "text": [
            "/usr/local/lib/python3.6/dist-packages/seaborn/_decorators.py:43: FutureWarning: Pass the following variable as a keyword arg: x. From version 0.12, the only valid positional argument will be `data`, and passing other arguments without an explicit keyword will result in an error or misinterpretation.\n",
            "  FutureWarning\n"
          ],
          "name": "stderr"
        },
        {
          "output_type": "execute_result",
          "data": {
            "text/plain": [
              "<matplotlib.axes._subplots.AxesSubplot at 0x7fc270b1be48>"
            ]
          },
          "metadata": {
            "tags": []
          },
          "execution_count": 53
        },
        {
          "output_type": "stream",
          "text": [
            "/usr/local/lib/python3.6/dist-packages/matplotlib/backends/backend_agg.py:214: RuntimeWarning: Glyph 44400 missing from current font.\n",
            "  font.set_text(s, 0.0, flags=flags)\n",
            "/usr/local/lib/python3.6/dist-packages/matplotlib/backends/backend_agg.py:214: RuntimeWarning: Glyph 44396 missing from current font.\n",
            "  font.set_text(s, 0.0, flags=flags)\n",
            "/usr/local/lib/python3.6/dist-packages/matplotlib/backends/backend_agg.py:183: RuntimeWarning: Glyph 44400 missing from current font.\n",
            "  font.set_text(s, 0, flags=flags)\n",
            "/usr/local/lib/python3.6/dist-packages/matplotlib/backends/backend_agg.py:183: RuntimeWarning: Glyph 44396 missing from current font.\n",
            "  font.set_text(s, 0, flags=flags)\n"
          ],
          "name": "stderr"
        },
        {
          "output_type": "display_data",
          "data": {
            "image/png": "[encoded data removed]",
            "text/plain": [
              "<Figure size 864x504 with 1 Axes>"
            ]
          },
          "metadata": {
            "tags": [],
            "needs_background": "light"
          }
        }
      ]
    },
    {
      "cell_type": "code",
      "metadata": {
        "id": "56m5qkmu2GI5",
        "outputId": "3d853b2d-781a-4a68-993c-153ae865ae43",
        "colab": {
          "base_uri": "https://localhost:8080/",
          "height": 855
        }
      },
      "source": [
        "pd.DataFrame(df.groupby(['군구'])['유동인구수'].max())"
      ],
      "execution_count": 54,
      "outputs": [
        {
          "output_type": "execute_result",
          "data": {
            "text/html": [
              "<div>\n",
              "<style scoped>\n",
              "    .dataframe tbody tr th:only-of-type {\n",
              "        vertical-align: middle;\n",
              "    }\n",
              "\n",
              "    .dataframe tbody tr th {\n",
              "        vertical-align: top;\n",
              "    }\n",
              "\n",
              "    .dataframe thead th {\n",
              "        text-align: right;\n",
              "    }\n",
              "</style>\n",
              "<table border=\"1\" class=\"dataframe\">\n",
              "  <thead>\n",
              "    <tr style=\"text-align: right;\">\n",
              "      <th></th>\n",
              "      <th>유동인구수</th>\n",
              "    </tr>\n",
              "    <tr>\n",
              "      <th>군구</th>\n",
              "      <th></th>\n",
              "    </tr>\n",
              "  </thead>\n",
              "  <tbody>\n",
              "    <tr>\n",
              "      <th>강남구</th>\n",
              "      <td>99550</td>\n",
              "    </tr>\n",
              "    <tr>\n",
              "      <th>강동구</th>\n",
              "      <td>39810</td>\n",
              "    </tr>\n",
              "    <tr>\n",
              "      <th>강북구</th>\n",
              "      <td>26050</td>\n",
              "    </tr>\n",
              "    <tr>\n",
              "      <th>강서구</th>\n",
              "      <td>50260</td>\n",
              "    </tr>\n",
              "    <tr>\n",
              "      <th>관악구</th>\n",
              "      <td>52170</td>\n",
              "    </tr>\n",
              "    <tr>\n",
              "      <th>광진구</th>\n",
              "      <td>9930</td>\n",
              "    </tr>\n",
              "    <tr>\n",
              "      <th>구로구</th>\n",
              "      <td>40440</td>\n",
              "    </tr>\n",
              "    <tr>\n",
              "      <th>금천구</th>\n",
              "      <td>7930</td>\n",
              "    </tr>\n",
              "    <tr>\n",
              "      <th>노원구</th>\n",
              "      <td>50510</td>\n",
              "    </tr>\n",
              "    <tr>\n",
              "      <th>도봉구</th>\n",
              "      <td>30310</td>\n",
              "    </tr>\n",
              "    <tr>\n",
              "      <th>동대문구</th>\n",
              "      <td>32090</td>\n",
              "    </tr>\n",
              "    <tr>\n",
              "      <th>동작구</th>\n",
              "      <td>36460</td>\n",
              "    </tr>\n",
              "    <tr>\n",
              "      <th>마포구</th>\n",
              "      <td>45100</td>\n",
              "    </tr>\n",
              "    <tr>\n",
              "      <th>서대문구</th>\n",
              "      <td>30210</td>\n",
              "    </tr>\n",
              "    <tr>\n",
              "      <th>서초구</th>\n",
              "      <td>66670</td>\n",
              "    </tr>\n",
              "    <tr>\n",
              "      <th>성동구</th>\n",
              "      <td>9850</td>\n",
              "    </tr>\n",
              "    <tr>\n",
              "      <th>성북구</th>\n",
              "      <td>37230</td>\n",
              "    </tr>\n",
              "    <tr>\n",
              "      <th>송파구</th>\n",
              "      <td>57270</td>\n",
              "    </tr>\n",
              "    <tr>\n",
              "      <th>양천구</th>\n",
              "      <td>44240</td>\n",
              "    </tr>\n",
              "    <tr>\n",
              "      <th>영등포구</th>\n",
              "      <td>59480</td>\n",
              "    </tr>\n",
              "    <tr>\n",
              "      <th>용산구</th>\n",
              "      <td>8960</td>\n",
              "    </tr>\n",
              "    <tr>\n",
              "      <th>은평구</th>\n",
              "      <td>40290</td>\n",
              "    </tr>\n",
              "    <tr>\n",
              "      <th>종로구</th>\n",
              "      <td>9890</td>\n",
              "    </tr>\n",
              "    <tr>\n",
              "      <th>중구</th>\n",
              "      <td>9590</td>\n",
              "    </tr>\n",
              "    <tr>\n",
              "      <th>중랑구</th>\n",
              "      <td>35430</td>\n",
              "    </tr>\n",
              "  </tbody>\n",
              "</table>\n",
              "</div>"
            ],
            "text/plain": [
              "      유동인구수\n",
              "군구         \n",
              "강남구   99550\n",
              "강동구   39810\n",
              "강북구   26050\n",
              "강서구   50260\n",
              "관악구   52170\n",
              "광진구    9930\n",
              "구로구   40440\n",
              "금천구    7930\n",
              "노원구   50510\n",
              "도봉구   30310\n",
              "동대문구  32090\n",
              "동작구   36460\n",
              "마포구   45100\n",
              "서대문구  30210\n",
              "서초구   66670\n",
              "성동구    9850\n",
              "성북구   37230\n",
              "송파구   57270\n",
              "양천구   44240\n",
              "영등포구  59480\n",
              "용산구    8960\n",
              "은평구   40290\n",
              "종로구    9890\n",
              "중구     9590\n",
              "중랑구   35430"
            ]
          },
          "metadata": {
            "tags": []
          },
          "execution_count": 54
        }
      ]
    },
    {
      "cell_type": "code",
      "metadata": {
        "id": "eCsKgWYt2VH4"
      },
      "source": [
        ""
      ],
      "execution_count": 54,
      "outputs": []
    }
  ]
}
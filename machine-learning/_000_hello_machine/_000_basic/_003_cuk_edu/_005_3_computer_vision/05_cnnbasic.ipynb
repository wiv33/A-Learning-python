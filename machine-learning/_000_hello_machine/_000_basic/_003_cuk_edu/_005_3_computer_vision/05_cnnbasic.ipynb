{
 "nbformat": 4,
 "nbformat_minor": 0,
 "metadata": {
  "colab": {
   "name": "05-cnnbasic.ipynb",
   "provenance": []
  },
  "kernelspec": {
   "name": "python3",
   "display_name": "Python 3"
  },
  "accelerator": "GPU"
 },
 "cells": [
  {
   "cell_type": "markdown",
   "metadata": {
    "id": "8DqvLLwicOfv"
   },
   "source": [
    "# Errata\n",
    "\n",
    "  1. 3차시 실습 동영상에서 bios는 bias의 오타입니다. "
   ]
  },
  {
   "cell_type": "markdown",
   "metadata": {
    "id": "TIx-nFxYnhkG"
   },
   "source": [
    "#크로스 엔트로피#"
   ]
  },
  {
   "cell_type": "markdown",
   "metadata": {
    "id": "-pqo85YBny75"
   },
   "source": [
    "동전을 100번 던져서 51번이 앞면, 49번이 뒷면이 나왔다고 가정합니다.  \n",
    "앞면과 뒷면이 나올 확률을 각각 (0.5, 0.5)라고 가정했을 때 Likelyhood는 얼마인가요?  \n",
    "\n",
    "$\n",
    "\\text{Likelyhood} =\n",
    "\\prod q_i^{N_i} \n",
    "= q_1^{51}q_2^{49}=0.5^{51}\\cdot0.5^{49}\n",
    "$\n"
   ]
  },
  {
   "cell_type": "code",
   "metadata": {
    "id": "WYCP90DAoW4g",
    "colab": {
     "base_uri": "https://localhost:8080/"
    },
    "outputId": "50fe862e-b592-419d-d30a-e7bac560293a"
   },
   "source": [
    "print(0.5 ** 51 * 0.5 ** 49)"
   ],
   "execution_count": 1,
   "outputs": [
    {
     "name": "stdout",
     "output_type": "stream",
     "text": [
      "7.888609052210118e-31\n"
     ]
    }
   ]
  },
  {
   "cell_type": "markdown",
   "metadata": {
    "id": "rZKuhAOxrVaF"
   },
   "source": [
    "이 경우 실제 확률 $p_1=51/100, p_2=49/100$ 이라고 하면,  \n",
    "교차 엔트로피(Cross Entropy)는 얼마입니까?  \n",
    "\n",
    "$\n",
    "H = -\\sum p_i\\log q_i = -0.51\\log0.5-0.49\\log0.5\n",
    "$"
   ]
  },
  {
   "cell_type": "code",
   "metadata": {
    "id": "3tQFUSR5s5UW",
    "colab": {
     "base_uri": "https://localhost:8080/"
    },
    "outputId": "2cd8def0-e3fb-4504-e674-4c11fe396793"
   },
   "source": [
    "import numpy as np\n",
    "\n",
    "print(-0.51 * np.log(0.5) - 0.49 * np.log(0.5))"
   ],
   "execution_count": null,
   "outputs": [
    {
     "output_type": "stream",
     "name": "stdout",
     "text": [
      "0.6931471805599453\n"
     ]
    }
   ]
  },
  {
   "cell_type": "markdown",
   "metadata": {
    "id": "DNuV1DXYqwvF"
   },
   "source": [
    "앞면과 뒷면이 나올 확률을 $q_1 = 0.51, q_2 = 0.49$ 로 가정했을 때 Likelyhood는 얼마인가요?   \n",
    "  \n",
    "$\n",
    "q_1^{51}q_2^{49}=0.51^{51}\\cdot0.49^{49}\n",
    "$ "
   ]
  },
  {
   "cell_type": "code",
   "metadata": {
    "id": "CG-0s3p1p-qd",
    "colab": {
     "base_uri": "https://localhost:8080/"
    },
    "outputId": "cf965467-b6a9-4a8c-c8bf-64424baf9915"
   },
   "source": [
    "print(0.51 ** 51 * 0.49 ** 49)"
   ],
   "execution_count": 2,
   "outputs": [
    {
     "name": "stdout",
     "output_type": "stream",
     "text": [
      "8.047980258362417e-31\n"
     ]
    }
   ]
  },
  {
   "cell_type": "markdown",
   "metadata": {
    "id": "3xai_owathfx"
   },
   "source": [
    "이 경우 교차 엔트로피는 얼마입니까?  \n",
    "\n",
    "$\n",
    "H = -\\sum p_i\\log q_i = -0.51\\log0.51-0.49\\log0.49\n",
    "$"
   ]
  },
  {
   "cell_type": "code",
   "metadata": {
    "id": "-8loqzYTtw1N",
    "colab": {
     "base_uri": "https://localhost:8080/"
    },
    "outputId": "8d44b04d-9e6b-434c-f1bc-d69ae392076c"
   },
   "source": [
    "import numpy as np\n",
    "\n",
    "print(-0.51 * np.log(0.51) - 0.49 * np.log(0.49))"
   ],
   "execution_count": 3,
   "outputs": [
    {
     "name": "stdout",
     "output_type": "stream",
     "text": [
      "0.6929471672244782\n"
     ]
    }
   ]
  },
  {
   "cell_type": "markdown",
   "metadata": {
    "id": "csFTN5Y_wgJX"
   },
   "source": [
    "두 경우에 대해 mse (평균 제곱오차)를 계산해 봅시다.  \n",
    "\n",
    "$\n",
    "\\text{mse} = {1\\over N}\\sum\\left(\\hat{y}-y\\right)^2\n",
    "= {1\\over 2} \\sum\\left(q_i-p_i\\right)^2\n",
    "$"
   ]
  },
  {
   "cell_type": "code",
   "metadata": {
    "id": "wD5alIH8wKeh",
    "colab": {
     "base_uri": "https://localhost:8080/"
    },
    "outputId": "9b198ba1-7803-48c6-995d-c53accd8ee77"
   },
   "source": [
    "print(((0.5 - 0.51) ** 2 + (0.5 - 0.49) ** 2) / 2)\n",
    "print(((0.51 - 0.51) ** 2 + (0.49 - 0.49) ** 2) / 2)"
   ],
   "execution_count": 4,
   "outputs": [
    {
     "name": "stdout",
     "output_type": "stream",
     "text": [
      "0.00010000000000000018\n",
      "0.0\n"
     ]
    }
   ]
  },
  {
   "cell_type": "markdown",
   "metadata": {
    "id": "D_w_0_n7xlub"
   },
   "source": [
    "cross entropy와 mse의 차이를 비교해봅시다.  \n",
    "(cross entropy의 차이가 더 크기 때문에 손실함수로 유용하다고 할 수 있다.)"
   ]
  },
  {
   "cell_type": "code",
   "metadata": {
    "id": "ijlM0bbTxs7N",
    "colab": {
     "base_uri": "https://localhost:8080/"
    },
    "outputId": "8e88de0a-c93c-49af-e8ac-1537d409f0f3"
   },
   "source": [
    "print('cross entropy difference = ',\n",
    "      -0.51 * np.log(0.5) - 0.49 * np.log(0.5) - (-0.51 * np.log(0.51) - 0.49 * np.log(0.49)))\n",
    "print('mse difference = ',\n",
    "      ((0.51 - 0.5) ** 2 + (0.49 - 0.5) ** 2) / 2 - ((0.51 - 0.51) ** 2 + (0.49 - 0.49) ** 2) / 2)"
   ],
   "execution_count": 5,
   "outputs": [
    {
     "name": "stdout",
     "output_type": "stream",
     "text": [
      "cross entropy difference =  0.00020001333546704192\n",
      "mse difference =  0.00010000000000000018\n"
     ]
    }
   ]
  },
  {
   "cell_type": "markdown",
   "metadata": {
    "id": "zNYjX0vQyrbJ"
   },
   "source": [
    "참 값이 $p_1 = 1, p_2 = 0$ 입니다.  \n",
    "예측값이 $q_1 = 0.9, q_2 = 0.1$ 인 경우와, $q_1 = 1, q_2=0$ 인 경우의 각각에 대해  \n",
    "cross entropy의 차이와 mse의 차이를 비교해봅시다."
   ]
  },
  {
   "cell_type": "code",
   "metadata": {
    "id": "0DhoUiYx0aGy",
    "colab": {
     "base_uri": "https://localhost:8080/"
    },
    "outputId": "0dd3a263-dabd-492a-f116-443de010e442"
   },
   "source": [
    "def cross_entropy(p, q):\n",
    "    p2 = p[p != 0]  # p_i가 0일 경우에는 log(0)계산을 피하기 위해 제거하고 계산함.\n",
    "    q2 = q[p != 0]\n",
    "    return (-p2 * np.log(q2)).sum()\n",
    "\n",
    "\n",
    "def mse(p, q):\n",
    "    return ((p - q) ** 2).sum() / len(p)\n",
    "\n",
    "\n",
    "p = np.array([1., 0.])\n",
    "q = np.array([0.9, 0.1])\n",
    "\n",
    "h_a = cross_entropy(p, q)\n",
    "h_b = cross_entropy(p, p)\n",
    "print('cross entropy difference = ', h_a - h_b)\n",
    "l_a = mse(p, q)\n",
    "l_b = mse(p, p)\n",
    "print('mse difference = ', l_a - l_b)"
   ],
   "execution_count": 6,
   "outputs": [
    {
     "name": "stdout",
     "output_type": "stream",
     "text": [
      "cross entropy difference =  0.10536051565782628\n",
      "mse difference =  0.009999999999999998\n"
     ]
    }
   ]
  },
  {
   "cell_type": "markdown",
   "metadata": {
    "id": "JirZErQG7ENL"
   },
   "source": [
    "cross entropy와 mse의 손실함수 비교"
   ]
  },
  {
   "cell_type": "code",
   "metadata": {
    "id": "Nh18qZb46CCk",
    "colab": {
     "base_uri": "https://localhost:8080/",
     "height": 483
    },
    "outputId": "06a9369c-2729-4388-e0ea-63f97d8c0aea"
   },
   "source": [
    "from matplotlib import pyplot as plt\n",
    "\n",
    "q1 = np.linspace(0.2, 1, 50)\n",
    "q2 = 1 - q1\n",
    "q = np.vstack((q1.flatten(), q2.flatten())).T\n",
    "h = [cross_entropy(p, q[i]) for i in range(0, 50)]\n",
    "l = [mse(p, q[i]) for i in range(0, 50)]\n",
    "\n",
    "fig, ax = plt.subplots(figsize=(8, 8))\n",
    "ax.set_aspect('equal')\n",
    "ax.grid(True, which='both')\n",
    "ax.axhline(y=0, color='k')\n",
    "ax.axvline(x=0, color='k')\n",
    "\n",
    "ax.plot(q1, h, label='cross entropy', color='red')\n",
    "ax.plot(q1, l, label='mse')\n",
    "ax.legend()\n",
    "plt.show()"
   ],
   "execution_count": 7,
   "outputs": [
    {
     "data": {
      "text/plain": "<Figure size 576x576 with 1 Axes>",
      "image/png": "[encoded data removed]"
     },
     "metadata": {
      "needs_background": "light"
     },
     "output_type": "display_data"
    }
   ]
  },
  {
   "cell_type": "markdown",
   "metadata": {
    "id": "m3TN8z_qEkPL"
   },
   "source": [
    "**연습 과제**  \n",
    "1. 실제 출현 확률 $p_i$가 1/2, 1/4, 1/8, 1/16, 1/16인 5종류 데이터의 엔트로피를  계산하십시오. \n",
    "2. 위와 같은 출현 확률을 같는 5종을 표현할 수 있는 이진 데이터를 만들어 보십시오.  \n",
    "3. 각 종류의 비트 수가 $-\\log_2p_i$와 같아졌나요?  \n",
    "4. 128번 출현했다고 할때 각 종류의 평균 출현 수는 얼마입니까?  \n",
    "   $N_i = Np_i$\n",
    "5. 5종의 예측 출현 확률 $q_i$를 1/5, 1/5, 1/5, 1/5, 1/5라고 할 때  \n",
    "   Likelyhood는 얼마입니까?  \n",
    "   $\\text{Likelyhood} = \\prod q_i^{N_i}=\\prod q_i^{Np_i}$  \n",
    "6. 교차 엔트로피를 계산하십시오.  \n",
    "   $H = -\\sum p_i\\log q_i$  \n",
    "7. 5종의 예측 출현 확률 $q_i$를 $p_i$와 같은 1/2, 1/4, 1/8, 1/16, 1/16 이라고 할 때  \n",
    "   가능도와 교차 엔트로피를 계산하십시오.  \n",
    "8. 계산 하기 전에 어느 쪽이 크거나 작은지 예측해 봅시다."
   ]
  },
  {
   "cell_type": "markdown",
   "metadata": {
    "id": "W-pNiD_pRGaN"
   },
   "source": [
    "# CNN을 이용한 MNIST 인식"
   ]
  },
  {
   "cell_type": "code",
   "metadata": {
    "id": "G_HxRasTomtZ",
    "colab": {
     "base_uri": "https://localhost:8080/"
    },
    "outputId": "61fa603b-b2af-46f7-dda1-43ffa9fe7ebc"
   },
   "source": [
    "# tensorflow와 tf.keras를 임포트합니다\n",
    "from tensorflow import keras\n",
    "\n",
    "# 헬퍼(helper) 라이브러리를 임포트합니다\n",
    "import numpy as np\n",
    "import matplotlib.pyplot as plt\n",
    "\n",
    "mnist = keras.datasets.mnist\n",
    "\n",
    "(train_images, train_labels), (test_images, test_labels) = mnist.load_data()\n",
    "(x_train, y_train), (x_test, y_test) = (train_images, train_labels), (test_images, test_labels)\n",
    "\n",
    "class_names = ['0', '1', '2', '3', '4', '5', '6', '7', '8', '9']\n",
    "NUM_CLASSES = len(class_names)"
   ],
   "execution_count": 14,
   "outputs": []
  },
  {
   "cell_type": "code",
   "metadata": {
    "id": "SJ64diTEo5K5",
    "colab": {
     "base_uri": "https://localhost:8080/"
    },
    "outputId": "302e6cb0-febc-4112-a75f-07cd171a87ba"
   },
   "source": [
    "from tensorflow.keras.utils import to_categorical\n",
    "\n",
    "# cnn을 위한 전처리 (channel을 위한 shape 추가)\n",
    "x_train = x_train.reshape((60000, 28, 28, 1))\n",
    "x_test = x_test.reshape((10000, 28, 28, 1))\n",
    "\n",
    "x_train = x_train / 255.\n",
    "x_test = x_test / 255.\n",
    "\n",
    "y_train = to_categorical(y_train, NUM_CLASSES)\n",
    "y_test = to_categorical(y_test, NUM_CLASSES)\n",
    "print(\"converted x.shape = \", x_train.shape)"
   ],
   "execution_count": 15,
   "outputs": [
    {
     "name": "stdout",
     "output_type": "stream",
     "text": [
      "converted x.shape =  (60000, 28, 28, 1)\n"
     ]
    }
   ]
  },
  {
   "cell_type": "code",
   "metadata": {
    "id": "tdAxDNHwxwGT",
    "colab": {
     "base_uri": "https://localhost:8080/"
    },
    "outputId": "bde32603-585c-481f-b906-d37822fcf80d"
   },
   "source": [
    "model = keras.Sequential([\n",
    "    keras.layers.Conv2D(32, (3, 3), activation='relu', input_shape=(28, 28, 1)),\n",
    "    keras.layers.MaxPooling2D((2, 2)),\n",
    "    keras.layers.Conv2D(64, (3, 3), activation='relu'),\n",
    "    keras.layers.MaxPooling2D((2, 2)),\n",
    "    keras.layers.Conv2D(64, (3, 3), activation='relu'),\n",
    "    keras.layers.Flatten(),\n",
    "    keras.layers.Dense(64, activation='relu'),\n",
    "    keras.layers.Dense(10, activation='softmax')\n",
    "])\n",
    "\n",
    "model.summary()\n",
    "\n",
    "#from keras.utils.vis_utils import plot_model\n",
    "#plot_model(model, to_file='model_plot.png', show_shapes=True, show_layer_names=True)"
   ],
   "execution_count": 16,
   "outputs": [
    {
     "name": "stdout",
     "output_type": "stream",
     "text": [
      "Model: \"sequential\"\n",
      "_________________________________________________________________\n",
      " Layer (type)                Output Shape              Param #   \n",
      "=================================================================\n",
      " conv2d (Conv2D)             (None, 26, 26, 32)        320       \n",
      "                                                                 \n",
      " max_pooling2d (MaxPooling2D  (None, 13, 13, 32)       0         \n",
      " )                                                               \n",
      "                                                                 \n",
      " conv2d_1 (Conv2D)           (None, 11, 11, 64)        18496     \n",
      "                                                                 \n",
      " max_pooling2d_1 (MaxPooling  (None, 5, 5, 64)         0         \n",
      " 2D)                                                             \n",
      "                                                                 \n",
      " conv2d_2 (Conv2D)           (None, 3, 3, 64)          36928     \n",
      "                                                                 \n",
      " flatten (Flatten)           (None, 576)               0         \n",
      "                                                                 \n",
      " dense (Dense)               (None, 64)                36928     \n",
      "                                                                 \n",
      " dense_1 (Dense)             (None, 10)                650       \n",
      "                                                                 \n",
      "=================================================================\n",
      "Total params: 93,322\n",
      "Trainable params: 93,322\n",
      "Non-trainable params: 0\n",
      "_________________________________________________________________\n"
     ]
    },
    {
     "name": "stderr",
     "output_type": "stream",
     "text": [
      "2022-06-19 22:19:50.618477: I tensorflow/core/platform/cpu_feature_guard.cc:193] This TensorFlow binary is optimized with oneAPI Deep Neural Network Library (oneDNN) to use the following CPU instructions in performance-critical operations:  AVX2 FMA\n",
      "To enable them in other operations, rebuild TensorFlow with the appropriate compiler flags.\n"
     ]
    }
   ]
  },
  {
   "cell_type": "markdown",
   "metadata": {
    "id": "kDkpwQXndJ1O"
   },
   "source": [
    "**학습 전 컨볼루션 커널**"
   ]
  },
  {
   "cell_type": "code",
   "metadata": {
    "id": "GbOMfAnshtFo",
    "colab": {
     "base_uri": "https://localhost:8080/"
    },
    "outputId": "96511ba7-ae11-4c87-c831-3f741abd5397"
   },
   "source": [
    "conv2d_1 = model.layers[0]\n",
    "weights = conv2d_1.get_weights()\n",
    "w = weights[0]\n",
    "b = weights[1]\n",
    "print(w.shape, b.shape)\n",
    "filter_id = 0\n",
    "kernel = w[:, :, :, filter_id:filter_id + 1]\n",
    "kernel = kernel.reshape(3, 3)\n",
    "print(kernel)"
   ],
   "execution_count": 17,
   "outputs": [
    {
     "name": "stdout",
     "output_type": "stream",
     "text": [
      "(3, 3, 1, 32) (32,)\n",
      "[[ 0.09222586 -0.12072098  0.10376531]\n",
      " [-0.08463022  0.11711021 -0.0327203 ]\n",
      " [ 0.0411372  -0.11636557  0.13363613]]\n"
     ]
    }
   ]
  },
  {
   "cell_type": "markdown",
   "metadata": {
    "id": "kjnmQSQ3dR_L"
   },
   "source": [
    "**모델 학습**"
   ]
  },
  {
   "cell_type": "code",
   "metadata": {
    "id": "u1RjZOMeyFa0",
    "colab": {
     "base_uri": "https://localhost:8080/"
    },
    "outputId": "9f95ea91-08b7-4f28-b243-7a149e2d6f77"
   },
   "source": [
    "model.compile(optimizer='sgd',\n",
    "              loss='categorical_crossentropy',\n",
    "              metrics=['accuracy'])\n",
    "history = model.fit(x_train, y_train, epochs=10)"
   ],
   "execution_count": 18,
   "outputs": [
    {
     "name": "stdout",
     "output_type": "stream",
     "text": [
      "Epoch 1/10\n",
      "1875/1875 [==============================] - 23s 12ms/step - loss: 0.5979 - accuracy: 0.8154\n",
      "Epoch 2/10\n",
      "1875/1875 [==============================] - 22s 12ms/step - loss: 0.1326 - accuracy: 0.9595\n",
      "Epoch 3/10\n",
      "1875/1875 [==============================] - 22s 12ms/step - loss: 0.0890 - accuracy: 0.9727\n",
      "Epoch 4/10\n",
      "1875/1875 [==============================] - 22s 12ms/step - loss: 0.0708 - accuracy: 0.9783\n",
      "Epoch 5/10\n",
      "1875/1875 [==============================] - 22s 12ms/step - loss: 0.0598 - accuracy: 0.9810\n",
      "Epoch 6/10\n",
      "1875/1875 [==============================] - 22s 12ms/step - loss: 0.0531 - accuracy: 0.9837\n",
      "Epoch 7/10\n",
      "1875/1875 [==============================] - 22s 12ms/step - loss: 0.0472 - accuracy: 0.9851\n",
      "Epoch 8/10\n",
      "1875/1875 [==============================] - 22s 12ms/step - loss: 0.0426 - accuracy: 0.9864\n",
      "Epoch 9/10\n",
      "1875/1875 [==============================] - 23s 12ms/step - loss: 0.0396 - accuracy: 0.9877\n",
      "Epoch 10/10\n",
      "1875/1875 [==============================] - 25s 14ms/step - loss: 0.0364 - accuracy: 0.9887\n"
     ]
    }
   ]
  },
  {
   "cell_type": "code",
   "metadata": {
    "id": "hsxHtZYkzmxe",
    "colab": {
     "base_uri": "https://localhost:8080/",
     "height": 295
    },
    "outputId": "cebacce1-f3cb-4e03-ffaf-af624261060f"
   },
   "source": [
    "# summarize history for accuracy\n",
    "plt.plot(history.history['accuracy'])\n",
    "plt.plot(history.history['loss'])\n",
    "plt.title('train history')\n",
    "plt.ylabel('accuracy')\n",
    "plt.xlabel('epoch')\n",
    "plt.legend(['accuracy', 'loss'], loc='upper left')\n",
    "plt.show()"
   ],
   "execution_count": 19,
   "outputs": [
    {
     "data": {
      "text/plain": "<Figure size 432x288 with 1 Axes>",
      "image/png": "[encoded data removed]"
     },
     "metadata": {
      "needs_background": "light"
     },
     "output_type": "display_data"
    }
   ]
  },
  {
   "cell_type": "markdown",
   "metadata": {
    "id": "VqejRC9xJbtP"
   },
   "source": [
    "**테스트 셋 결과 확인**"
   ]
  },
  {
   "cell_type": "code",
   "metadata": {
    "id": "w7tLMknJyiAb",
    "colab": {
     "base_uri": "https://localhost:8080/"
    },
    "outputId": "9e088481-18f0-49e9-e07b-d50796f0b18c"
   },
   "source": [
    "loss, accuracy = model.evaluate(x_test, y_test)"
   ],
   "execution_count": 20,
   "outputs": [
    {
     "name": "stdout",
     "output_type": "stream",
     "text": [
      "313/313 [==============================] - 1s 2ms/step - loss: 0.0352 - accuracy: 0.9876\n"
     ]
    }
   ]
  },
  {
   "cell_type": "markdown",
   "metadata": {
    "id": "WlO1EqIzJfra"
   },
   "source": [
    "**softmax 결과 학인**\n"
   ]
  },
  {
   "cell_type": "code",
   "metadata": {
    "id": "DI9eplm2JlGa",
    "colab": {
     "base_uri": "https://localhost:8080/"
    },
    "outputId": "e77e78dc-7b4a-4660-d731-8d0ff44f86e3"
   },
   "source": [
    "preds = model.predict(x_train[0:1])\n",
    "print(preds[0])\n",
    "print(preds[0].sum())"
   ],
   "execution_count": 21,
   "outputs": [
    {
     "name": "stdout",
     "output_type": "stream",
     "text": [
      "1/1 [==============================] - 0s 73ms/step\n",
      "[1.3695372e-09 6.5944874e-07 1.1147226e-08 1.5636470e-02 9.7343529e-11\n",
      " 9.8435891e-01 1.1474581e-09 1.6033082e-06 1.3478463e-06 1.0507154e-06]\n",
      "1.0000001\n"
     ]
    }
   ]
  },
  {
   "cell_type": "markdown",
   "metadata": {
    "id": "zGpJ2gL9lwtI"
   },
   "source": [
    "**Fully Connected Network과의 비교**"
   ]
  },
  {
   "cell_type": "code",
   "metadata": {
    "id": "xWmIwOH7l2f7",
    "colab": {
     "base_uri": "https://localhost:8080/",
     "height": 935
    },
    "outputId": "716fc060-f8f4-42b5-c391-75413cadebde"
   },
   "source": [
    "modelfc = keras.Sequential([\n",
    "    keras.layers.Flatten(input_shape=(28, 28, 1)),\n",
    "    keras.layers.Dense(128, activation='relu'),\n",
    "    keras.layers.Dense(10, activation='softmax')\n",
    "])\n",
    "\n",
    "modelfc.summary()\n",
    "\n",
    "modelfc.compile(optimizer='sgd',\n",
    "                loss='categorical_crossentropy',\n",
    "                metrics=['accuracy'])\n",
    "history = modelfc.fit(x_train, y_train, epochs=10)\n",
    "\n",
    "# summarize history for accuracy\n",
    "plt.plot(history.history['accuracy'])\n",
    "plt.plot(history.history['loss'])\n",
    "plt.title('train history')\n",
    "plt.ylabel('accuracy')\n",
    "plt.xlabel('epoch')\n",
    "plt.legend(['accuracy', 'loss'], loc='upper left')\n",
    "plt.show()\n",
    "\n",
    "loss, accuracy = modelfc.evaluate(x_test, y_test)"
   ],
   "execution_count": 22,
   "outputs": [
    {
     "name": "stdout",
     "output_type": "stream",
     "text": [
      "Model: \"sequential_1\"\n",
      "_________________________________________________________________\n",
      " Layer (type)                Output Shape              Param #   \n",
      "=================================================================\n",
      " flatten_1 (Flatten)         (None, 784)               0         \n",
      "                                                                 \n",
      " dense_2 (Dense)             (None, 128)               100480    \n",
      "                                                                 \n",
      " dense_3 (Dense)             (None, 10)                1290      \n",
      "                                                                 \n",
      "=================================================================\n",
      "Total params: 101,770\n",
      "Trainable params: 101,770\n",
      "Non-trainable params: 0\n",
      "_________________________________________________________________\n",
      "Epoch 1/10\n",
      "1875/1875 [==============================] - 2s 855us/step - loss: 0.6408 - accuracy: 0.8391\n",
      "Epoch 2/10\n",
      "1875/1875 [==============================] - 2s 864us/step - loss: 0.3348 - accuracy: 0.9069\n",
      "Epoch 3/10\n",
      "1875/1875 [==============================] - 2s 898us/step - loss: 0.2864 - accuracy: 0.9194\n",
      "Epoch 4/10\n",
      "1875/1875 [==============================] - 2s 922us/step - loss: 0.2557 - accuracy: 0.9280\n",
      "Epoch 5/10\n",
      "1875/1875 [==============================] - 2s 894us/step - loss: 0.2323 - accuracy: 0.9344\n",
      "Epoch 6/10\n",
      "1875/1875 [==============================] - 2s 848us/step - loss: 0.2135 - accuracy: 0.9399\n",
      "Epoch 7/10\n",
      "1875/1875 [==============================] - 2s 883us/step - loss: 0.1975 - accuracy: 0.9445\n",
      "Epoch 8/10\n",
      "1875/1875 [==============================] - 2s 899us/step - loss: 0.1842 - accuracy: 0.9485\n",
      "Epoch 9/10\n",
      "1875/1875 [==============================] - 2s 892us/step - loss: 0.1728 - accuracy: 0.9511\n",
      "Epoch 10/10\n",
      "1875/1875 [==============================] - 2s 886us/step - loss: 0.1630 - accuracy: 0.9543\n"
     ]
    },
    {
     "data": {
      "text/plain": "<Figure size 432x288 with 1 Axes>",
      "image/png": "[encoded data removed]"
     },
     "metadata": {
      "needs_background": "light"
     },
     "output_type": "display_data"
    },
    {
     "name": "stdout",
     "output_type": "stream",
     "text": [
      "313/313 [==============================] - 0s 1ms/step - loss: 0.1583 - accuracy: 0.9545\n"
     ]
    }
   ]
  },
  {
   "cell_type": "markdown",
   "metadata": {
    "id": "RTkxWR9_7FZU"
   },
   "source": [
    "**모델의 레이어 출력값 확인**"
   ]
  },
  {
   "cell_type": "markdown",
   "metadata": {
    "id": "70U2VWCG-TqM"
   },
   "source": [
    "모델로 부터 각 레이어의 값을 출력하는 fuctors생성"
   ]
  },
  {
   "cell_type": "code",
   "metadata": {
    "id": "KvHG2FaJzjcT",
    "colab": {
     "base_uri": "https://localhost:8080/",
     "height": 375
    },
    "outputId": "e5ba9625-0350-49f8-a787-34ac2e35403e"
   },
   "source": [
    "from tensorflow.keras import backend as K\n",
    "\n",
    "inp = model.input  # input placeholder\n",
    "outputs = [layer.output for layer in model.layers]  # all layer outputs\n",
    "functors = [K.function([inp, keras.Input(shape=())], [out]) for out in outputs]  # evaluation functions\n",
    "\n",
    "layer_id = 0\n",
    "filter_id = 0\n",
    "layerfn = functors[layer_id]\n",
    "learning_phase = 0  # 학습시 1, 추론시 0\n",
    "out = layerfn([x_train[0:2], learning_phase])  # 첫 이미지 두개만 추론\n",
    "# out[출력 parameter 순서][데이터 id][height, width, channel]\n",
    "print('out[0].shape =', out[0].shape)\n",
    "result = out[0][0][:, :, filter_id:filter_id + 1]\n",
    "# 채널결과가 포함되어 있다.\n",
    "print('model result shape (with channel) = ', result.shape)\n",
    "# 간편한 형식을 위해서 채널 dimension을 삭제\n",
    "result_as_img = result.reshape((result.shape[0], result.shape[1]))\n",
    "print(result_as_img.shape)\n",
    "\n",
    "# 첫번째 입력 이미지 확인\n",
    "plt.imshow(x_train[0].reshape((28, 28)), cmap=plt.cm.binary)\n",
    "plt.show()\n",
    "x_pos = 10\n",
    "y_pos = 5\n",
    "img3x3 = x_train[0][y_pos:y_pos + 3, x_pos:x_pos + 3, :].reshape((3, 3))\n",
    "print(img3x3)\n"
   ],
   "execution_count": 23,
   "outputs": [
    {
     "name": "stdout",
     "output_type": "stream",
     "text": [
      "out[0].shape = (2, 26, 26, 32)\n",
      "model result shape (with channel) =  (26, 26, 1)\n",
      "(26, 26)\n"
     ]
    },
    {
     "data": {
      "text/plain": "<Figure size 432x288 with 1 Axes>",
      "image/png": "[encoded data removed]"
     },
     "metadata": {
      "needs_background": "light"
     },
     "output_type": "display_data"
    },
    {
     "name": "stdout",
     "output_type": "stream",
     "text": [
      "[[0.         0.         0.01176471]\n",
      " [0.36862745 0.60392157 0.66666667]\n",
      " [0.99215686 0.99215686 0.99215686]]\n"
     ]
    }
   ]
  },
  {
   "cell_type": "markdown",
   "metadata": {
    "id": "rbmqF3l7dXjZ"
   },
   "source": [
    "**학습 후 커널 확인**"
   ]
  },
  {
   "cell_type": "code",
   "metadata": {
    "id": "PaIXG0Xc0Vdt",
    "colab": {
     "base_uri": "https://localhost:8080/"
    },
    "outputId": "8435e916-b14c-4dbd-b3c8-cc297da489de"
   },
   "source": [
    "conv2d_1 = model.layers[0]\n",
    "weights = conv2d_1.get_weights()\n",
    "w = weights[0]\n",
    "b = weights[1]\n",
    "print(w.shape, b.shape)\n",
    "filter_id = 0\n",
    "kernel = w[:, :, :, filter_id:filter_id + 1]\n",
    "kernel = kernel.reshape(3, 3)\n",
    "print(kernel)\n",
    "bias = b[0]\n",
    "print(bias)\n",
    "print(img3x3)"
   ],
   "execution_count": 26,
   "outputs": [
    {
     "name": "stdout",
     "output_type": "stream",
     "text": [
      "(3, 3, 1, 32) (32,)\n",
      "[[ 0.06593606  0.36245456  0.35239425]\n",
      " [ 0.00491957  0.3097698   0.12227701]\n",
      " [-0.00309852 -0.12500475 -0.02674983]]\n",
      "-0.00018368747\n",
      "[[0.         0.         0.01176471]\n",
      " [0.36862745 0.60392157 0.66666667]\n",
      " [0.99215686 0.99215686 0.99215686]]\n"
     ]
    }
   ]
  },
  {
   "cell_type": "code",
   "metadata": {
    "id": "nMKUKD_H0ojf",
    "colab": {
     "base_uri": "https://localhost:8080/"
    },
    "outputId": "e574a035-8838-466a-fbf4-a21079baba03"
   },
   "source": [
    "y = (kernel * img3x3).sum() + bias\n",
    "if y < 0:  # activation = ReLU\n",
    "    y = 0\n",
    "print(y)\n",
    "print(result[y_pos][x_pos])"
   ],
   "execution_count": 25,
   "outputs": [
    {
     "name": "stdout",
     "output_type": "stream",
     "text": [
      "0.33962723391795957\n",
      "[0.33962724]\n"
     ]
    }
   ]
  },
  {
   "cell_type": "markdown",
   "metadata": {
    "id": "e0tAtgJFIWql"
   },
   "source": [
    "**연습과제**  \n",
    "1. MNIST CNN인식에서 이미지와 결과를 표시하는 것을 다시 한번 연습합시다.  \n",
    "2. CNN에서 epoch을 증가시켜 가면서 인식률이 최대 치가 되는 지점을 찾아봅시다.  \n",
    "3. epoch에 따른 test set의 손실과 인식률도 같이 확인해 봅시다.  \n",
    "4. 손실함수를 교차 엔트로피 대신에 mse를 사용하고 epoch에 따른 인식률의 변화를 실험해 봅시다.  \n",
    "   (교차 엔트로피 쪽이 더 빨리 인식률이 좋아졌습니까? 그 이유는 무엇입니까?)  \n",
    "\n"
   ]
  },
  {
   "cell_type": "code",
   "metadata": {
    "id": "-fY2zvrhIZU7"
   },
   "source": [
    ""
   ],
   "execution_count": null,
   "outputs": []
  }
 ]
}
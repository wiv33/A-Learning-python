{
  "nbformat": 4,
  "nbformat_minor": 0,
  "metadata": {
    "colab": {
      "name": "cuk_text/_004_ko_embedding.ipynb",
      "provenance": [],
      "authorship_tag": "ABX9TyP8S3MiJB8SqBI0zbi9GWWy",
      "include_colab_link": true
    },
    "kernelspec": {
      "name": "python3",
      "display_name": "Python 3"
    },
    "language_info": {
      "name": "python"
    }
  },
  "cells": [
    {
      "cell_type": "markdown",
      "metadata": {
        "id": "view-in-github",
        "colab_type": "text"
      },
      "source": [
        "<a href=\"https://colab.research.google.com/github/wiv33/A-Learning-python/blob/master/machine-learning/_000_hello_machine/_000_basic/_003_cuk_edu/_004_3_text_processing/_002_ko_embedding.ipynb\" target=\"_parent\"><img src=\"https://colab.research.google.com/assets/colab-badge.svg\" alt=\"Open In Colab\"/></a>"
      ]
    },
    {
      "cell_type": "markdown",
      "metadata": {
        "id": "9slEUfkaOk-V"
      },
      "source": [
        "# 케라스 임베딩 층을 이용한 워드 임베딩\n",
        "출처 https://wikidocs.net/33793\n",
        "케라스는 훈련 데이터의 단어들에 대해 워드 임베딩을 수행하는 도구 Embedding()을 제공합니다. Embedding()은 인공 신경망 구조 관점에서 임베딩 층(embedding layer)을 구현합니다.\n",
        "\n",
        "1) 임베딩 층은 룩업 테이블이다.\n",
        "임베딩 층의 입력으로 사용하기 위해서 입력 시퀀스의 각 단어들은 모두 정수 인코딩이 되어있어야 합니다.\n",
        "\n",
        "어떤 단어 → 단어에 부여된 고유한 정수값 → 임베딩 층 통과 → 밀집 벡터\n",
        "\n",
        "임베딩 층은 입력 정수에 대해 밀집 벡터(dense vector)로 맵핑하고 이 밀집 벡터는 인공 신경망의 학습 과정에서 가중치가 학습되는 것과 같은 방식으로 훈련됩니다. 훈련 과정에서 단어는 모델이 풀고자하는 작업에 맞는 값으로 업데이트 됩니다. 그리고 이 밀집 벡터를 임베딩 벡터라고 부릅니다.\n",
        "\n",
        "정수를 밀집 벡터 또는 임베딩 벡터로 맵핑한다는 것은 어떤 의미일까요? 특정 단어와 맵핑되는 정수를 인덱스로 가지는 테이블로부터 임베딩 벡터 값을 가져오는 룩업 테이블이라고 볼 수 있습니다. 그리고 이 테이블은 단어 집합의 크기만큼의 행을 가지므로 모든 단어는 고유한 임베딩 벡터를 가집니다.\n",
        "\n",
        "\n",
        "\n",
        "위의 그림은 단어 great이 정수 인코딩 된 후 테이블로부터 해당 인덱스에 위치한 임베딩 벡터를 꺼내오는 모습을 보여줍니다. 위의 그림에서는 임베딩 벡터의 차원이 4로 설정되어져 있습니다. 그리고 단어 great은 정수 인코딩 과정에서 1,918의 정수로 인코딩이 되었고 그에 따라 단어 집합의 크기만큼의 행을 가지는 테이블에서 인덱스 1,918번에 위치한 행을 단어 great의 임베딩 벡터로 사용합니다. 이 임베딩 벡터는 모델의 입력이 되고, 역전파 과정에서 단어 great의 임베딩 벡터값이 학습됩니다.\n",
        "\n",
        "룩업 테이블의 개념을 이론적으로 우선 접하고, 처음 케라스를 배울 때 어떤 분들은 임베딩 층의 입력이 원-핫 벡터가 아니어도 동작한다는 점에 헷갈려 합니다. 케라스는 단어를 정수 인덱스로 바꾸고 원-핫 벡터로 한번 더 바꾸고나서 임베딩 층의 입력으로 사용하는 것이 아니라, 단어를 정수 인덱스로만 바꾼채로 임베딩 층의 입력으로 사용해도 룩업 테이블 된 결과인 임베딩 벡터를 리턴합니다.\n",
        "\n",
        "케라스의 임베딩 층 구현 코드를 봅시다.\n",
        "\n",
        "# 아래의 각 인자는 저자가 임의로 선정한 숫자들이며 의미있는 선정 기준이 아님.\n",
        "v = Embedding(20000, 128, input_length=500)\n",
        "# vocab_size = 20000\n",
        "# output_dim = 128\n",
        "# input_length = 500\n",
        "임베딩 층은 다음과 같은 세 개의 인자를 받습니다.\n",
        "\n",
        "vocab_size : 텍스트 데이터의 전체 단어 집합의 크기입니다.\n",
        "output_dim : 워드 임베딩 후의 임베딩 벡터의 차원입니다.\n",
        "input_length : 입력 시퀀스의 길이입니다. 만약 갖고있는 각 샘플의 길이가 500개의 단어로 구성되어있다면 이 값은 500이 됩니다.\n",
        "\n",
        "Embedding()은 (number of samples, input_length)인 2D 정수 텐서를 입력받습니다. 이 때 각 sample은 정수 인코딩이 된 결과로, 정수의 시퀀스입니다. Embedding()은 워드 임베딩 작업을 수행하고 (number of samples, input_length, embedding word dimentionality)인 3D 실수 텐서를 리턴합니다. 케라스의 임베딩 층(embedding layer)을 사용하는 간단한 실습을 진행해보겠습니다.\n",
        "\n",
        "2) 임베딩 층 사용하기\n",
        "RNN 챕터에서 이미 사용한 바 있지만, 임베딩 층을 복습해보겠습니다. 문장의 긍, 부정을 판단하는 감성 분류 모델을 만들어봅시다."
      ]
    },
    {
      "cell_type": "code",
      "metadata": {
        "id": "Ez6hblFkOezR"
      },
      "source": [
        "from tensorflow.keras.preprocessing.text import Tokenizer\n",
        "from tensorflow.keras.preprocessing.sequence import pad_sequences\n",
        "import numpy as np"
      ],
      "execution_count": 2,
      "outputs": []
    },
    {
      "cell_type": "code",
      "metadata": {
        "id": "hgp2f4R0O0rf"
      },
      "source": [
        "sentences = ['nice great best amazing', 'stop lies', 'pitiful nerd','excellent work','supreme quality', 'bad','highly respect']\n",
        "y_train = [1,0,0,1,1,0,1]"
      ],
      "execution_count": 3,
      "outputs": []
    },
    {
      "cell_type": "code",
      "metadata": {
        "id": "J4b_siHcO6UI"
      },
      "source": [
        "t = Tokenizer()\n",
        "t.fit_on_texts(sentences)\n",
        "\n",
        "vocab_size = len(t.word_index) + 1"
      ],
      "execution_count": 5,
      "outputs": []
    },
    {
      "cell_type": "code",
      "metadata": {
        "colab": {
          "base_uri": "https://localhost:8080/"
        },
        "id": "Sly7fP7CPD7I",
        "outputId": "19962790-7fd4-457a-b055-31294861bd39"
      },
      "source": [
        "x_encodded = t.texts_to_sequences(sentences)\n",
        "x_encodded"
      ],
      "execution_count": 8,
      "outputs": [
        {
          "output_type": "execute_result",
          "data": {
            "text/plain": [
              "[[1, 2, 3, 4], [5, 6], [7, 8], [9, 10], [11, 12], [13], [14, 15]]"
            ]
          },
          "metadata": {
            "tags": []
          },
          "execution_count": 8
        }
      ]
    },
    {
      "cell_type": "code",
      "metadata": {
        "colab": {
          "base_uri": "https://localhost:8080/"
        },
        "id": "n7uLhTSHPKp2",
        "outputId": "9e20781e-7401-461b-ff56-dd1afcb80629"
      },
      "source": [
        "max_len = max(len(l) for l in x_encodded)\n",
        "max_len"
      ],
      "execution_count": 9,
      "outputs": [
        {
          "output_type": "execute_result",
          "data": {
            "text/plain": [
              "4"
            ]
          },
          "metadata": {
            "tags": []
          },
          "execution_count": 9
        }
      ]
    },
    {
      "cell_type": "code",
      "metadata": {
        "id": "88YUGaNvPUpn"
      },
      "source": [
        "x_train = pad_sequences(x_encodded, maxlen=max_len, padding='post')\n",
        "y_train = np.array(y_train)"
      ],
      "execution_count": 10,
      "outputs": []
    },
    {
      "cell_type": "code",
      "metadata": {
        "colab": {
          "base_uri": "https://localhost:8080/"
        },
        "id": "Zy__YlvLPaPg",
        "outputId": "1f58a0cc-9e4c-43f9-8d34-773148c0fe7a"
      },
      "source": [
        "x_train.shape"
      ],
      "execution_count": 11,
      "outputs": [
        {
          "output_type": "execute_result",
          "data": {
            "text/plain": [
              "(7, 4)"
            ]
          },
          "metadata": {
            "tags": []
          },
          "execution_count": 11
        }
      ]
    },
    {
      "cell_type": "code",
      "metadata": {
        "colab": {
          "base_uri": "https://localhost:8080/"
        },
        "id": "CED3VtHKPbsz",
        "outputId": "079ac70b-991d-4b85-c205-9feeda6ae039"
      },
      "source": [
        "from tensorflow.keras.models import Sequential\n",
        "from tensorflow.keras.layers import Dense, Embedding, Flatten, Input\n",
        "\n",
        "\n",
        "model = Sequential()\n",
        "model.add(Embedding(vocab_size, 4, input_length=max_len))\n",
        "model.add(Flatten())\n",
        "model.add(Dense(1, activation='sigmoid'))\n",
        "model.summary()\n"
      ],
      "execution_count": 13,
      "outputs": [
        {
          "output_type": "stream",
          "text": [
            "Model: \"sequential\"\n",
            "_________________________________________________________________\n",
            "Layer (type)                 Output Shape              Param #   \n",
            "=================================================================\n",
            "embedding (Embedding)        (None, 4, 4)              64        \n",
            "_________________________________________________________________\n",
            "flatten (Flatten)            (None, 16)                0         \n",
            "_________________________________________________________________\n",
            "dense (Dense)                (None, 1)                 17        \n",
            "=================================================================\n",
            "Total params: 81\n",
            "Trainable params: 81\n",
            "Non-trainable params: 0\n",
            "_________________________________________________________________\n"
          ],
          "name": "stdout"
        }
      ]
    },
    {
      "cell_type": "code",
      "metadata": {
        "colab": {
          "base_uri": "https://localhost:8080/"
        },
        "id": "AeAzkFpcVgVk",
        "outputId": "a18990d6-ee94-4fd5-8021-61123ed48521"
      },
      "source": [
        "model.compile(optimizer='adam',\n",
        "              loss='binary_crossentropy',\n",
        "              metrics='accuracy')\n",
        "model.fit(x=x_train,\n",
        "          y=y_train,\n",
        "          epochs=20,\n",
        "          batch_size=64)"
      ],
      "execution_count": 14,
      "outputs": [
        {
          "output_type": "stream",
          "text": [
            "Epoch 1/20\n",
            "1/1 [==============================] - 1s 778ms/step - loss: 0.6892 - accuracy: 0.5714\n",
            "Epoch 2/20\n",
            "1/1 [==============================] - 0s 8ms/step - loss: 0.6878 - accuracy: 0.5714\n",
            "Epoch 3/20\n",
            "1/1 [==============================] - 0s 7ms/step - loss: 0.6864 - accuracy: 0.5714\n",
            "Epoch 4/20\n",
            "1/1 [==============================] - 0s 5ms/step - loss: 0.6849 - accuracy: 0.5714\n",
            "Epoch 5/20\n",
            "1/1 [==============================] - 0s 6ms/step - loss: 0.6835 - accuracy: 0.8571\n",
            "Epoch 6/20\n",
            "1/1 [==============================] - 0s 5ms/step - loss: 0.6820 - accuracy: 0.8571\n",
            "Epoch 7/20\n",
            "1/1 [==============================] - 0s 5ms/step - loss: 0.6806 - accuracy: 0.8571\n",
            "Epoch 8/20\n",
            "1/1 [==============================] - 0s 7ms/step - loss: 0.6791 - accuracy: 0.8571\n",
            "Epoch 9/20\n",
            "1/1 [==============================] - 0s 5ms/step - loss: 0.6777 - accuracy: 0.8571\n",
            "Epoch 10/20\n",
            "1/1 [==============================] - 0s 7ms/step - loss: 0.6762 - accuracy: 0.8571\n",
            "Epoch 11/20\n",
            "1/1 [==============================] - 0s 6ms/step - loss: 0.6748 - accuracy: 0.8571\n",
            "Epoch 12/20\n",
            "1/1 [==============================] - 0s 8ms/step - loss: 0.6733 - accuracy: 0.8571\n",
            "Epoch 13/20\n",
            "1/1 [==============================] - 0s 6ms/step - loss: 0.6718 - accuracy: 0.8571\n",
            "Epoch 14/20\n",
            "1/1 [==============================] - 0s 6ms/step - loss: 0.6704 - accuracy: 0.8571\n",
            "Epoch 15/20\n",
            "1/1 [==============================] - 0s 4ms/step - loss: 0.6689 - accuracy: 0.8571\n",
            "Epoch 16/20\n",
            "1/1 [==============================] - 0s 3ms/step - loss: 0.6674 - accuracy: 0.8571\n",
            "Epoch 17/20\n",
            "1/1 [==============================] - 0s 5ms/step - loss: 0.6659 - accuracy: 0.8571\n",
            "Epoch 18/20\n",
            "1/1 [==============================] - 0s 5ms/step - loss: 0.6644 - accuracy: 0.8571\n",
            "Epoch 19/20\n",
            "1/1 [==============================] - 0s 8ms/step - loss: 0.6629 - accuracy: 0.8571\n",
            "Epoch 20/20\n",
            "1/1 [==============================] - 0s 5ms/step - loss: 0.6614 - accuracy: 0.8571\n"
          ],
          "name": "stdout"
        },
        {
          "output_type": "execute_result",
          "data": {
            "text/plain": [
              "<tensorflow.python.keras.callbacks.History at 0x7fb00820c490>"
            ]
          },
          "metadata": {
            "tags": []
          },
          "execution_count": 14
        }
      ]
    },
    {
      "cell_type": "code",
      "metadata": {
        "colab": {
          "base_uri": "https://localhost:8080/"
        },
        "id": "nGIMwlW5V1IN",
        "outputId": "95ee0fba-c2ac-4f57-9894-0df5f56a2859"
      },
      "source": [
        "model.predict(x_train)"
      ],
      "execution_count": 15,
      "outputs": [
        {
          "output_type": "execute_result",
          "data": {
            "text/plain": [
              "array([[0.53141105],\n",
              "       [0.49934337],\n",
              "       [0.48979473],\n",
              "       [0.52755046],\n",
              "       [0.50979954],\n",
              "       [0.48515627],\n",
              "       [0.5244583 ]], dtype=float32)"
            ]
          },
          "metadata": {
            "tags": []
          },
          "execution_count": 15
        }
      ]
    },
    {
      "cell_type": "code",
      "metadata": {
        "colab": {
          "base_uri": "https://localhost:8080/"
        },
        "id": "RClEB2OjV3wA",
        "outputId": "f0313ed7-d785-4718-fa44-3c004aef1ad7"
      },
      "source": [
        "import gensim\n",
        "!wget \"https://s3.amazonaws.com/dl4j-distribution/GoogleNews-vectors-negative300.bin.gz\""
      ],
      "execution_count": 18,
      "outputs": [
        {
          "output_type": "stream",
          "text": [
            "--2021-05-13 15:28:51--  https://s3.amazonaws.com/dl4j-distribution/GoogleNews-vectors-negative300.bin.gz\n",
            "Resolving s3.amazonaws.com (s3.amazonaws.com)... 52.216.230.205\n",
            "Connecting to s3.amazonaws.com (s3.amazonaws.com)|52.216.230.205|:443... connected.\n",
            "HTTP request sent, awaiting response... 200 OK\n",
            "Length: 1647046227 (1.5G) [application/x-gzip]\n",
            "Saving to: ‘GoogleNews-vectors-negative300.bin.gz’\n",
            "\n",
            "GoogleNews-vectors- 100%[===================>]   1.53G  67.0MB/s    in 22s     \n",
            "\n",
            "2021-05-13 15:29:13 (72.2 MB/s) - ‘GoogleNews-vectors-negative300.bin.gz’ saved [1647046227/1647046227]\n",
            "\n"
          ],
          "name": "stdout"
        }
      ]
    },
    {
      "cell_type": "code",
      "metadata": {
        "id": "jZmlNkSpWARv"
      },
      "source": [
        "# 구글의 사전 훈련된 Word2vec 모델을 로드합니다.\n",
        "word2vec_model = gensim.models.KeyedVectors.load_word2vec_format('GoogleNews-vectors-negative300.bin.gz', binary=True)"
      ],
      "execution_count": 19,
      "outputs": []
    },
    {
      "cell_type": "code",
      "metadata": {
        "colab": {
          "base_uri": "https://localhost:8080/"
        },
        "id": "OiSbXA4RWKya",
        "outputId": "887ecfde-ec74-45c4-ca26-c80e4e2a2707"
      },
      "source": [
        "print(word2vec_model.vectors.shape)"
      ],
      "execution_count": 20,
      "outputs": [
        {
          "output_type": "stream",
          "text": [
            "(3000000, 300)\n"
          ],
          "name": "stdout"
        }
      ]
    },
    {
      "cell_type": "code",
      "metadata": {
        "colab": {
          "base_uri": "https://localhost:8080/"
        },
        "id": "3tprXGn8WN0o",
        "outputId": "b6c03d96-c9ec-498b-caa5-c608e8e69c5a"
      },
      "source": [
        "embedding_matrix = np.zeros((vocab_size, 300))\n",
        "np.shape(embedding_matrix)"
      ],
      "execution_count": 21,
      "outputs": [
        {
          "output_type": "execute_result",
          "data": {
            "text/plain": [
              "(16, 300)"
            ]
          },
          "metadata": {
            "tags": []
          },
          "execution_count": 21
        }
      ]
    },
    {
      "cell_type": "code",
      "metadata": {
        "id": "EZM7hib2WPev"
      },
      "source": [
        "def get_vector(word):\n",
        "    if word in word2vec_model:\n",
        "        return word2vec_model[word]\n",
        "    else:\n",
        "        return None"
      ],
      "execution_count": 22,
      "outputs": []
    },
    {
      "cell_type": "code",
      "metadata": {
        "colab": {
          "base_uri": "https://localhost:8080/"
        },
        "id": "EnvRa2WVWU-_",
        "outputId": "1c7df5d7-e475-44ea-9684-742684efe886"
      },
      "source": [
        "for word, i in t.word_index.items(): # 훈련 데이터의 단어 집합에서 단어와 정수 인덱스를 1개씩 꺼내온다.\n",
        "    print(word, 1 )\n",
        "    temp = get_vector(word) # 단어(key) 해당되는 임베딩 벡터의 300개의 값(value)를 임시 변수에 저장\n",
        "    if temp is not None: # 만약 None이 아니라면 임베딩 벡터의 값을 리턴받은 것이므로\n",
        "        embedding_matrix[i] = temp # 해당 단어 위치의 행에 벡터의 값을 저장한다."
      ],
      "execution_count": 23,
      "outputs": [
        {
          "output_type": "stream",
          "text": [
            "nice 1\n",
            "great 1\n",
            "best 1\n",
            "amazing 1\n",
            "stop 1\n",
            "lies 1\n",
            "pitiful 1\n",
            "nerd 1\n",
            "excellent 1\n",
            "work 1\n",
            "supreme 1\n",
            "quality 1\n",
            "bad 1\n",
            "highly 1\n",
            "respect 1\n"
          ],
          "name": "stdout"
        }
      ]
    },
    {
      "cell_type": "code",
      "metadata": {
        "colab": {
          "base_uri": "https://localhost:8080/"
        },
        "id": "d-qkrxMqWWmt",
        "outputId": "14b6d04b-cada-4dfe-f9f5-a3f0ebf0fe64"
      },
      "source": [
        "print(embedding_matrix[1])\n",
        "print('단어 nice의 정수 인덱스 :', t.word_index['nice'])"
      ],
      "execution_count": 24,
      "outputs": [
        {
          "output_type": "stream",
          "text": [
            "[ 0.15820312  0.10595703 -0.18945312  0.38671875  0.08349609 -0.26757812\n",
            "  0.08349609  0.11328125 -0.10400391  0.17871094 -0.12353516 -0.22265625\n",
            " -0.01806641 -0.25390625  0.13183594  0.0859375   0.16113281  0.11083984\n",
            " -0.11083984 -0.0859375   0.0267334   0.34570312  0.15136719 -0.00415039\n",
            "  0.10498047  0.04907227 -0.06982422  0.08642578  0.03198242 -0.02844238\n",
            " -0.15722656  0.11865234  0.36132812  0.00173187  0.05297852 -0.234375\n",
            "  0.11767578  0.08642578 -0.01123047  0.25976562  0.28515625 -0.11669922\n",
            "  0.38476562  0.07275391  0.01147461  0.03466797  0.18164062 -0.03955078\n",
            "  0.04199219  0.01013184 -0.06054688  0.09765625  0.06689453  0.14648438\n",
            " -0.12011719  0.08447266 -0.06152344  0.06347656  0.3046875  -0.35546875\n",
            " -0.2890625   0.19628906 -0.33203125 -0.07128906  0.12792969  0.09619141\n",
            " -0.12158203 -0.08691406 -0.12890625  0.27734375  0.265625    0.1796875\n",
            "  0.12695312  0.06298828 -0.34375    -0.05908203  0.0456543   0.171875\n",
            "  0.08935547  0.14648438 -0.04638672 -0.00842285 -0.0279541   0.234375\n",
            " -0.07470703 -0.13574219  0.00378418  0.19433594  0.05664062 -0.05419922\n",
            "  0.06176758  0.14160156 -0.24121094  0.02539062 -0.15917969 -0.10595703\n",
            "  0.11865234  0.24707031 -0.13574219 -0.20410156 -0.30078125  0.07910156\n",
            " -0.04394531  0.02026367 -0.05786133  0.2109375   0.13574219  0.08349609\n",
            " -0.0098877  -0.10546875 -0.08105469  0.03735352 -0.10351562 -0.10205078\n",
            "  0.23925781 -0.21875     0.05151367  0.06738281  0.07617188  0.04638672\n",
            "  0.03198242 -0.07275391  0.14550781  0.04858398 -0.05664062 -0.07470703\n",
            " -0.0030365  -0.09277344 -0.11083984 -0.03320312 -0.15234375 -0.12207031\n",
            "  0.09814453  0.375       0.00454712 -0.10009766  0.02734375  0.30078125\n",
            " -0.0390625   0.30078125 -0.04541016 -0.00424194  0.13671875 -0.18945312\n",
            " -0.21777344  0.12695312 -0.02746582 -0.18164062  0.08984375 -0.23339844\n",
            "  0.203125    0.2734375  -0.26953125  0.15332031 -0.20703125 -0.01153564\n",
            "  0.12451172  0.05395508 -0.23535156 -0.01409912 -0.09765625  0.20800781\n",
            "  0.19335938  0.14746094  0.28710938 -0.23046875  0.01965332 -0.09619141\n",
            " -0.0703125  -0.04174805 -0.17578125  0.0007019   0.10546875  0.10351562\n",
            "  0.02478027  0.35742188  0.17382812 -0.09570312 -0.18359375  0.23242188\n",
            " -0.14453125 -0.20410156 -0.01867676  0.06640625 -0.2265625  -0.00582886\n",
            " -0.08642578  0.02416992 -0.07324219 -0.29882812 -0.15625     0.07666016\n",
            "  0.19628906 -0.20410156  0.09863281 -0.01672363 -0.18652344 -0.12353516\n",
            " -0.16015625 -0.10058594  0.21777344  0.09375    -0.10058594 -0.03637695\n",
            "  0.15136719 -0.02526855 -0.23730469  0.03417969 -0.00604248  0.15625\n",
            " -0.14257812  0.18066406 -0.35351562  0.25        0.13085938 -0.04296875\n",
            "  0.17089844  0.20507812  0.00680542 -0.08251953 -0.06738281  0.22167969\n",
            " -0.16308594 -0.16699219 -0.02087402  0.11035156  0.06054688 -0.04223633\n",
            " -0.17285156  0.05029297 -0.19824219  0.01495361  0.06542969  0.03271484\n",
            "  0.14453125 -0.08691406 -0.11035156 -0.1484375   0.09667969  0.22363281\n",
            "  0.23535156  0.08398438  0.18164062 -0.10595703 -0.04296875  0.11572266\n",
            " -0.00153351  0.0534668  -0.1328125  -0.33203125 -0.08251953  0.30664062\n",
            "  0.22363281  0.27929688  0.09082031 -0.18066406 -0.00613403 -0.09423828\n",
            " -0.21289062  0.01965332 -0.08105469 -0.06689453 -0.31835938 -0.08447266\n",
            "  0.13574219  0.0625      0.07080078 -0.14257812 -0.11279297  0.01452637\n",
            " -0.06689453  0.03881836  0.19433594  0.09521484  0.11376953 -0.12451172\n",
            "  0.13769531 -0.18847656 -0.05224609  0.15820312  0.09863281 -0.04370117\n",
            " -0.06054688  0.21679688  0.04077148 -0.14648438 -0.18945312 -0.25195312\n",
            " -0.16894531 -0.08642578 -0.08544922  0.18945312 -0.14648438  0.13476562\n",
            " -0.04077148  0.03271484  0.08935547 -0.26757812  0.00836182 -0.21386719]\n",
            "단어 nice의 정수 인덱스 : 1\n"
          ],
          "name": "stdout"
        }
      ]
    },
    {
      "cell_type": "code",
      "metadata": {
        "colab": {
          "base_uri": "https://localhost:8080/"
        },
        "id": "vYG_i1CxWaS-",
        "outputId": "e97250bb-5808-403f-d3b3-26a2689ac13a"
      },
      "source": [
        "model = Sequential()\n",
        "e = Embedding(vocab_size, 300, weights=[embedding_matrix], input_length=max_len, trainable=False)\n",
        "model.add(e)\n",
        "model.add(Flatten())\n",
        "model.add(Dense(1, activation='sigmoid'))\n",
        "\n",
        "model.compile(optimizer='adam', \n",
        "              loss='binary_crossentropy',\n",
        "              metrics='accuracy')\n",
        "\n",
        "model.fit(x_train, \n",
        "          y_train, \n",
        "          epochs=100, \n",
        "          verbose=2)"
      ],
      "execution_count": 25,
      "outputs": [
        {
          "output_type": "stream",
          "text": [
            "Epoch 1/100\n",
            "1/1 - 0s - loss: 0.7276 - accuracy: 0.4286\n",
            "Epoch 2/100\n",
            "1/1 - 0s - loss: 0.7085 - accuracy: 0.5714\n",
            "Epoch 3/100\n",
            "1/1 - 0s - loss: 0.6899 - accuracy: 0.5714\n",
            "Epoch 4/100\n",
            "1/1 - 0s - loss: 0.6719 - accuracy: 0.7143\n",
            "Epoch 5/100\n",
            "1/1 - 0s - loss: 0.6544 - accuracy: 0.7143\n",
            "Epoch 6/100\n",
            "1/1 - 0s - loss: 0.6374 - accuracy: 0.7143\n",
            "Epoch 7/100\n",
            "1/1 - 0s - loss: 0.6210 - accuracy: 0.8571\n",
            "Epoch 8/100\n",
            "1/1 - 0s - loss: 0.6051 - accuracy: 0.8571\n",
            "Epoch 9/100\n",
            "1/1 - 0s - loss: 0.5897 - accuracy: 0.8571\n",
            "Epoch 10/100\n",
            "1/1 - 0s - loss: 0.5748 - accuracy: 1.0000\n",
            "Epoch 11/100\n",
            "1/1 - 0s - loss: 0.5604 - accuracy: 1.0000\n",
            "Epoch 12/100\n",
            "1/1 - 0s - loss: 0.5465 - accuracy: 1.0000\n",
            "Epoch 13/100\n",
            "1/1 - 0s - loss: 0.5330 - accuracy: 1.0000\n",
            "Epoch 14/100\n",
            "1/1 - 0s - loss: 0.5199 - accuracy: 1.0000\n",
            "Epoch 15/100\n",
            "1/1 - 0s - loss: 0.5073 - accuracy: 1.0000\n",
            "Epoch 16/100\n",
            "1/1 - 0s - loss: 0.4950 - accuracy: 1.0000\n",
            "Epoch 17/100\n",
            "1/1 - 0s - loss: 0.4832 - accuracy: 1.0000\n",
            "Epoch 18/100\n",
            "1/1 - 0s - loss: 0.4717 - accuracy: 1.0000\n",
            "Epoch 19/100\n",
            "1/1 - 0s - loss: 0.4606 - accuracy: 1.0000\n",
            "Epoch 20/100\n",
            "1/1 - 0s - loss: 0.4498 - accuracy: 1.0000\n",
            "Epoch 21/100\n",
            "1/1 - 0s - loss: 0.4394 - accuracy: 1.0000\n",
            "Epoch 22/100\n",
            "1/1 - 0s - loss: 0.4293 - accuracy: 1.0000\n",
            "Epoch 23/100\n",
            "1/1 - 0s - loss: 0.4195 - accuracy: 1.0000\n",
            "Epoch 24/100\n",
            "1/1 - 0s - loss: 0.4100 - accuracy: 1.0000\n",
            "Epoch 25/100\n",
            "1/1 - 0s - loss: 0.4008 - accuracy: 1.0000\n",
            "Epoch 26/100\n",
            "1/1 - 0s - loss: 0.3919 - accuracy: 1.0000\n",
            "Epoch 27/100\n",
            "1/1 - 0s - loss: 0.3833 - accuracy: 1.0000\n",
            "Epoch 28/100\n",
            "1/1 - 0s - loss: 0.3749 - accuracy: 1.0000\n",
            "Epoch 29/100\n",
            "1/1 - 0s - loss: 0.3667 - accuracy: 1.0000\n",
            "Epoch 30/100\n",
            "1/1 - 0s - loss: 0.3588 - accuracy: 1.0000\n",
            "Epoch 31/100\n",
            "1/1 - 0s - loss: 0.3511 - accuracy: 1.0000\n",
            "Epoch 32/100\n",
            "1/1 - 0s - loss: 0.3437 - accuracy: 1.0000\n",
            "Epoch 33/100\n",
            "1/1 - 0s - loss: 0.3365 - accuracy: 1.0000\n",
            "Epoch 34/100\n",
            "1/1 - 0s - loss: 0.3295 - accuracy: 1.0000\n",
            "Epoch 35/100\n",
            "1/1 - 0s - loss: 0.3227 - accuracy: 1.0000\n",
            "Epoch 36/100\n",
            "1/1 - 0s - loss: 0.3161 - accuracy: 1.0000\n",
            "Epoch 37/100\n",
            "1/1 - 0s - loss: 0.3097 - accuracy: 1.0000\n",
            "Epoch 38/100\n",
            "1/1 - 0s - loss: 0.3034 - accuracy: 1.0000\n",
            "Epoch 39/100\n",
            "1/1 - 0s - loss: 0.2974 - accuracy: 1.0000\n",
            "Epoch 40/100\n",
            "1/1 - 0s - loss: 0.2915 - accuracy: 1.0000\n",
            "Epoch 41/100\n",
            "1/1 - 0s - loss: 0.2858 - accuracy: 1.0000\n",
            "Epoch 42/100\n",
            "1/1 - 0s - loss: 0.2802 - accuracy: 1.0000\n",
            "Epoch 43/100\n",
            "1/1 - 0s - loss: 0.2748 - accuracy: 1.0000\n",
            "Epoch 44/100\n",
            "1/1 - 0s - loss: 0.2696 - accuracy: 1.0000\n",
            "Epoch 45/100\n",
            "1/1 - 0s - loss: 0.2645 - accuracy: 1.0000\n",
            "Epoch 46/100\n",
            "1/1 - 0s - loss: 0.2595 - accuracy: 1.0000\n",
            "Epoch 47/100\n",
            "1/1 - 0s - loss: 0.2547 - accuracy: 1.0000\n",
            "Epoch 48/100\n",
            "1/1 - 0s - loss: 0.2500 - accuracy: 1.0000\n",
            "Epoch 49/100\n",
            "1/1 - 0s - loss: 0.2455 - accuracy: 1.0000\n",
            "Epoch 50/100\n",
            "1/1 - 0s - loss: 0.2411 - accuracy: 1.0000\n",
            "Epoch 51/100\n",
            "1/1 - 0s - loss: 0.2367 - accuracy: 1.0000\n",
            "Epoch 52/100\n",
            "1/1 - 0s - loss: 0.2325 - accuracy: 1.0000\n",
            "Epoch 53/100\n",
            "1/1 - 0s - loss: 0.2285 - accuracy: 1.0000\n",
            "Epoch 54/100\n",
            "1/1 - 0s - loss: 0.2245 - accuracy: 1.0000\n",
            "Epoch 55/100\n",
            "1/1 - 0s - loss: 0.2206 - accuracy: 1.0000\n",
            "Epoch 56/100\n",
            "1/1 - 0s - loss: 0.2168 - accuracy: 1.0000\n",
            "Epoch 57/100\n",
            "1/1 - 0s - loss: 0.2131 - accuracy: 1.0000\n",
            "Epoch 58/100\n",
            "1/1 - 0s - loss: 0.2096 - accuracy: 1.0000\n",
            "Epoch 59/100\n",
            "1/1 - 0s - loss: 0.2061 - accuracy: 1.0000\n",
            "Epoch 60/100\n",
            "1/1 - 0s - loss: 0.2027 - accuracy: 1.0000\n",
            "Epoch 61/100\n",
            "1/1 - 0s - loss: 0.1993 - accuracy: 1.0000\n",
            "Epoch 62/100\n",
            "1/1 - 0s - loss: 0.1961 - accuracy: 1.0000\n",
            "Epoch 63/100\n",
            "1/1 - 0s - loss: 0.1930 - accuracy: 1.0000\n",
            "Epoch 64/100\n",
            "1/1 - 0s - loss: 0.1899 - accuracy: 1.0000\n",
            "Epoch 65/100\n",
            "1/1 - 0s - loss: 0.1869 - accuracy: 1.0000\n",
            "Epoch 66/100\n",
            "1/1 - 0s - loss: 0.1840 - accuracy: 1.0000\n",
            "Epoch 67/100\n",
            "1/1 - 0s - loss: 0.1811 - accuracy: 1.0000\n",
            "Epoch 68/100\n",
            "1/1 - 0s - loss: 0.1783 - accuracy: 1.0000\n",
            "Epoch 69/100\n",
            "1/1 - 0s - loss: 0.1756 - accuracy: 1.0000\n",
            "Epoch 70/100\n",
            "1/1 - 0s - loss: 0.1729 - accuracy: 1.0000\n",
            "Epoch 71/100\n",
            "1/1 - 0s - loss: 0.1703 - accuracy: 1.0000\n",
            "Epoch 72/100\n",
            "1/1 - 0s - loss: 0.1678 - accuracy: 1.0000\n",
            "Epoch 73/100\n",
            "1/1 - 0s - loss: 0.1653 - accuracy: 1.0000\n",
            "Epoch 74/100\n",
            "1/1 - 0s - loss: 0.1629 - accuracy: 1.0000\n",
            "Epoch 75/100\n",
            "1/1 - 0s - loss: 0.1605 - accuracy: 1.0000\n",
            "Epoch 76/100\n",
            "1/1 - 0s - loss: 0.1582 - accuracy: 1.0000\n",
            "Epoch 77/100\n",
            "1/1 - 0s - loss: 0.1559 - accuracy: 1.0000\n",
            "Epoch 78/100\n",
            "1/1 - 0s - loss: 0.1537 - accuracy: 1.0000\n",
            "Epoch 79/100\n",
            "1/1 - 0s - loss: 0.1516 - accuracy: 1.0000\n",
            "Epoch 80/100\n",
            "1/1 - 0s - loss: 0.1495 - accuracy: 1.0000\n",
            "Epoch 81/100\n",
            "1/1 - 0s - loss: 0.1474 - accuracy: 1.0000\n",
            "Epoch 82/100\n",
            "1/1 - 0s - loss: 0.1454 - accuracy: 1.0000\n",
            "Epoch 83/100\n",
            "1/1 - 0s - loss: 0.1434 - accuracy: 1.0000\n",
            "Epoch 84/100\n",
            "1/1 - 0s - loss: 0.1414 - accuracy: 1.0000\n",
            "Epoch 85/100\n",
            "1/1 - 0s - loss: 0.1395 - accuracy: 1.0000\n",
            "Epoch 86/100\n",
            "1/1 - 0s - loss: 0.1377 - accuracy: 1.0000\n",
            "Epoch 87/100\n",
            "1/1 - 0s - loss: 0.1359 - accuracy: 1.0000\n",
            "Epoch 88/100\n",
            "1/1 - 0s - loss: 0.1341 - accuracy: 1.0000\n",
            "Epoch 89/100\n",
            "1/1 - 0s - loss: 0.1323 - accuracy: 1.0000\n",
            "Epoch 90/100\n",
            "1/1 - 0s - loss: 0.1306 - accuracy: 1.0000\n",
            "Epoch 91/100\n",
            "1/1 - 0s - loss: 0.1290 - accuracy: 1.0000\n",
            "Epoch 92/100\n",
            "1/1 - 0s - loss: 0.1273 - accuracy: 1.0000\n",
            "Epoch 93/100\n",
            "1/1 - 0s - loss: 0.1257 - accuracy: 1.0000\n",
            "Epoch 94/100\n",
            "1/1 - 0s - loss: 0.1241 - accuracy: 1.0000\n",
            "Epoch 95/100\n",
            "1/1 - 0s - loss: 0.1226 - accuracy: 1.0000\n",
            "Epoch 96/100\n",
            "1/1 - 0s - loss: 0.1211 - accuracy: 1.0000\n",
            "Epoch 97/100\n",
            "1/1 - 0s - loss: 0.1196 - accuracy: 1.0000\n",
            "Epoch 98/100\n",
            "1/1 - 0s - loss: 0.1181 - accuracy: 1.0000\n",
            "Epoch 99/100\n",
            "1/1 - 0s - loss: 0.1167 - accuracy: 1.0000\n",
            "Epoch 100/100\n",
            "1/1 - 0s - loss: 0.1153 - accuracy: 1.0000\n"
          ],
          "name": "stdout"
        },
        {
          "output_type": "execute_result",
          "data": {
            "text/plain": [
              "<tensorflow.python.keras.callbacks.History at 0x7fafc03323d0>"
            ]
          },
          "metadata": {
            "tags": []
          },
          "execution_count": 25
        }
      ]
    },
    {
      "cell_type": "code",
      "metadata": {
        "id": "a-ZVyCVjWkFt"
      },
      "source": [
        ""
      ],
      "execution_count": null,
      "outputs": []
    }
  ]
}
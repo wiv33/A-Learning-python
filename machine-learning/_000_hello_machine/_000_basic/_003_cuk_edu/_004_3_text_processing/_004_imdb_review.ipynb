{
  "nbformat": 4,
  "nbformat_minor": 0,
  "metadata": {
    "colab": {
      "name": "cuk_edu/_004_imdb_review.ipynb",
      "provenance": [],
      "toc_visible": true,
      "authorship_tag": "ABX9TyMiMQl2HSBxcYmF83YauKpW",
      "include_colab_link": true
    },
    "kernelspec": {
      "name": "python3",
      "display_name": "Python 3"
    },
    "language_info": {
      "name": "python"
    },
    "accelerator": "GPU"
  },
  "cells": [
    {
      "cell_type": "markdown",
      "metadata": {
        "id": "view-in-github",
        "colab_type": "text"
      },
      "source": [
        "<a href=\"https://colab.research.google.com/github/wiv33/A-Learning-python/blob/master/machine-learning/_000_hello_machine/_000_basic/_003_cuk_edu/_004_3_text_processing/_004_imdb_review.ipynb\" target=\"_parent\"><img src=\"https://colab.research.google.com/assets/colab-badge.svg\" alt=\"Open In Colab\"/></a>"
      ]
    },
    {
      "cell_type": "code",
      "metadata": {
        "id": "L_BXET_W7R85",
        "colab": {
          "base_uri": "https://localhost:8080/"
        },
        "outputId": "6d0ef8a8-71fb-4bff-f356-557c30e33401"
      },
      "source": [
        "from tensorflow.keras import datasets\n",
        "from tensorflow.keras.preprocessing.sequence import pad_sequences\n",
        "\n",
        "import tensorflow as tf\n",
        "import matplotlib.pyplot as plt\n",
        "\n",
        "from tensorflow.keras.models import Sequential\n",
        "from tensorflow.keras.layers import Embedding, Dropout, Conv1D, GlobalMaxPooling1D, Dense, BatchNormalization, SpatialDropout1D, Activation\n",
        "from tensorflow.keras import layers, models, optimizers\n",
        "from tensorflow.keras.callbacks import EarlyStopping, ModelCheckpoint\n",
        "from tensorflow.keras.models import load_model\n",
        "\n",
        "vocab_size = 10000  # final field\n",
        "(X_train, y_train), (X_test, y_test) = datasets.imdb.load_data(num_words = vocab_size)\n",
        "print(X_train.shape)\n",
        "#0th sentence\n",
        "\n",
        "print(len(X_train[0]))\n",
        "\n",
        "#1th sentence\n",
        "print(len(X_train[1]))\n",
        "\n",
        "max_len = 200\n",
        "X_train = pad_sequences(X_train, maxlen = max_len)\n",
        "X_test = pad_sequences(X_test, maxlen = max_len)\n",
        "\n",
        "print('X_train의 크기(shape) :',X_train.shape)\n",
        "print('X_test의 크기(shape) :',X_test.shape)\n",
        "print(y_train[:5])\n"
      ],
      "execution_count": 11,
      "outputs": [
        {
          "output_type": "stream",
          "text": [
            "<string>:6: VisibleDeprecationWarning: Creating an ndarray from ragged nested sequences (which is a list-or-tuple of lists-or-tuples-or ndarrays with different lengths or shapes) is deprecated. If you meant to do this, you must specify 'dtype=object' when creating the ndarray\n",
            "/usr/local/lib/python3.7/dist-packages/tensorflow/python/keras/datasets/imdb.py:155: VisibleDeprecationWarning: Creating an ndarray from ragged nested sequences (which is a list-or-tuple of lists-or-tuples-or ndarrays with different lengths or shapes) is deprecated. If you meant to do this, you must specify 'dtype=object' when creating the ndarray\n",
            "  x_train, y_train = np.array(xs[:idx]), np.array(labels[:idx])\n",
            "/usr/local/lib/python3.7/dist-packages/tensorflow/python/keras/datasets/imdb.py:156: VisibleDeprecationWarning: Creating an ndarray from ragged nested sequences (which is a list-or-tuple of lists-or-tuples-or ndarrays with different lengths or shapes) is deprecated. If you meant to do this, you must specify 'dtype=object' when creating the ndarray\n",
            "  x_test, y_test = np.array(xs[idx:]), np.array(labels[idx:])\n"
          ],
          "name": "stderr"
        },
        {
          "output_type": "stream",
          "text": [
            "(25000,)\n",
            "218\n",
            "189\n",
            "X_train의 크기(shape) : (25000, 200)\n",
            "X_test의 크기(shape) : (25000, 200)\n",
            "[1 0 0 1 0]\n"
          ],
          "name": "stdout"
        }
      ]
    },
    {
      "cell_type": "markdown",
      "metadata": {
        "id": "DsKj8BACPKF4"
      },
      "source": [
        "# 모델 결과 출력"
      ]
    },
    {
      "cell_type": "code",
      "metadata": {
        "id": "9-U2m_NcPHJ6"
      },
      "source": [
        "def exec(m, is_subclass = False):\n",
        "  model_name = m.name \n",
        "  ext = '' if is_subclass else '.h5'\n",
        "  es = EarlyStopping(monitor='val_loss', \n",
        "                   mode='min', \n",
        "                   verbose = 1, \n",
        "                   patience = 3)\n",
        "\n",
        "  mc = ModelCheckpoint(f'{model_name}{ext}', \n",
        "                      monitor='val_acc', \n",
        "                      mode='max', \n",
        "                      verbose=1, \n",
        "                      save_best_only=True,\n",
        "                      save_weights_only=is_subclass,\n",
        "                      save_format='tf' if is_subclass else 'h5')\n",
        "  \n",
        "  m.compile(optimizer=optimizers.Adam(1e-3), \n",
        "              loss='binary_crossentropy',\n",
        "              metrics=['acc'])\n",
        "\n",
        "  history = m.fit(X_train,\n",
        "                  y_train,\n",
        "                  epochs=3, \n",
        "                  validation_data=(X_test, y_test), \n",
        "                  callbacks=[es, mc])\n",
        "  loaded_model = load_model(f'{model_name}{ext}')\n",
        "  \n",
        "  print(\"\\n %s의 테스트 정확도: %.4f\" % (model_name, loaded_model.evaluate(X_test, y_test)[1]))\n"
      ],
      "execution_count": 17,
      "outputs": []
    },
    {
      "cell_type": "markdown",
      "metadata": {
        "id": "x24bPrieemtK"
      },
      "source": [
        "# RNN 모델"
      ]
    },
    {
      "cell_type": "code",
      "metadata": {
        "id": "IbdxK52hJNlV",
        "colab": {
          "base_uri": "https://localhost:8080/"
        },
        "outputId": "27a5e1e1-d7e4-4da5-870f-0659befb46cb"
      },
      "source": [
        "class RNNClassifier(tf.keras.Model):\n",
        "  def __init__(self, vocab_size, max_seq_len, **kargs):\n",
        "    super(RNNClassifier, self).__init__(**kargs)\n",
        "    self.embedding = layers.Embedding(input_dim=vocab_size, output_dim=max_seq_len)\n",
        "    self.lstm_1_layer = layers.Bidirectional(tf.keras.layers.LSTM(64, return_sequences=True))\n",
        "    self.lstm_2_layer = layers.Bidirectional(tf.keras.layers.LSTM(64))\n",
        "    self.dropout = layers.Dropout(0.3)\n",
        "    self.fc1 = layers.Dense(units=128)\n",
        "    self.batch = layers.BatchNormalization()\n",
        "    self.act1 = layers.Activation(activation='tanh')\n",
        "    self.fc2 = layers.Dense(units=1, activation=tf.keras.activations.sigmoid)\n",
        "\n",
        "  def call(self, x):\n",
        "    x = self.embedding(x)\n",
        "    x = self.dropout(x)\n",
        "    x = self.lstm_1_layer(x)\n",
        "    x = self.lstm_2_layer(x)\n",
        "    x = self.dropout(x)\n",
        "    x = self.fc1(x)\n",
        "    x = self.batch(x)\n",
        "    x = self.act1(x)\n",
        "    x = self.dropout(x)\n",
        "    x = self.fc2(x)\n",
        "    return x\n",
        "\n",
        "\n",
        "# model = RNNClassifier(vocab_size, max_len)\n",
        "# model.build(input_shape=(128, max_len))\n",
        "\n",
        "model = Sequential()\n",
        "model.add(Embedding(vocab_size, 256))\n",
        "model.add(layers.Bidirectional(layers.LSTM(64, return_sequences=True)))\n",
        "model.add(layers.Bidirectional(layers.LSTM(64)))\n",
        "model.add(layers.Dropout(0.3))\n",
        "model.add(Dense(128))\n",
        "model.add(layers.BatchNormalization())\n",
        "model.add(layers.Activation('tanh'))\n",
        "model.add(Dense(1, activation=tf.keras.activations.sigmoid))\n",
        "\n",
        "model.summary()\n",
        "exec(model, False)"
      ],
      "execution_count": 19,
      "outputs": [
        {
          "output_type": "stream",
          "text": [
            "Model: \"sequential\"\n",
            "_________________________________________________________________\n",
            "Layer (type)                 Output Shape              Param #   \n",
            "=================================================================\n",
            "embedding_8 (Embedding)      (None, None, 256)         2560000   \n",
            "_________________________________________________________________\n",
            "bidirectional_16 (Bidirectio (None, None, 128)         164352    \n",
            "_________________________________________________________________\n",
            "bidirectional_17 (Bidirectio (None, 128)               98816     \n",
            "_________________________________________________________________\n",
            "dropout_8 (Dropout)          (None, 128)               0         \n",
            "_________________________________________________________________\n",
            "dense_16 (Dense)             (None, 128)               16512     \n",
            "_________________________________________________________________\n",
            "batch_normalization_8 (Batch (None, 128)               512       \n",
            "_________________________________________________________________\n",
            "activation_8 (Activation)    (None, 128)               0         \n",
            "_________________________________________________________________\n",
            "dense_17 (Dense)             (None, 1)                 129       \n",
            "=================================================================\n",
            "Total params: 2,840,321\n",
            "Trainable params: 2,840,065\n",
            "Non-trainable params: 256\n",
            "_________________________________________________________________\n",
            "Epoch 1/3\n",
            "782/782 [==============================] - 62s 73ms/step - loss: 0.4047 - acc: 0.8166 - val_loss: 0.3462 - val_acc: 0.8496\n",
            "\n",
            "Epoch 00001: val_acc improved from -inf to 0.84960, saving model to sequential.h5\n",
            "Epoch 2/3\n",
            "782/782 [==============================] - 56s 72ms/step - loss: 0.2640 - acc: 0.8948 - val_loss: 0.3719 - val_acc: 0.8549\n",
            "\n",
            "Epoch 00002: val_acc improved from 0.84960 to 0.85488, saving model to sequential.h5\n",
            "Epoch 3/3\n",
            "782/782 [==============================] - 56s 72ms/step - loss: 0.2159 - acc: 0.9171 - val_loss: 0.3333 - val_acc: 0.8592\n",
            "\n",
            "Epoch 00003: val_acc improved from 0.85488 to 0.85924, saving model to sequential.h5\n",
            "782/782 [==============================] - 13s 15ms/step - loss: 0.3333 - acc: 0.8592\n",
            "\n",
            " sequential의 테스트 정확도: 0.8592\n"
          ],
          "name": "stdout"
        }
      ]
    },
    {
      "cell_type": "markdown",
      "metadata": {
        "id": "qCCtICItepiD"
      },
      "source": [
        "# CNN + LSTM"
      ]
    },
    {
      "cell_type": "code",
      "metadata": {
        "colab": {
          "base_uri": "https://localhost:8080/"
        },
        "id": "IIeriJYDGNnC",
        "outputId": "ced8efb0-1d08-4f6b-c070-e1f948fde9b4"
      },
      "source": [
        "# 예측 모델 CNN 또는 RNN 사용 가능\n",
        "\n",
        "# model = Sequential()\n",
        "# model.add(Embedding(vocab_size, 256))\n",
        "# model.add(SpatialDropout1D(0.3))\n",
        "# model.add(Conv1D(256, 3, padding='valid', activation='relu'))\n",
        "# model.add(GlobalMaxPooling1D())\n",
        "# model.add(Dense(128, activation='relu'))\n",
        "# model.add(BatchNormalization())\n",
        "# model.add(Dropout(0.5))\n",
        "# model.add(Dense(1, activation='sigmoid'))\n",
        "\n",
        "\n",
        "\n",
        "class SentimentAnalysisModel(tf.keras.Model):\n",
        "  def __init__(self, vocab_size, max_seq_len, **kwargs):\n",
        "    super(SentimentAnalysisModel, self).__init__(name = 'SentimentAnalysis', **kwargs)\n",
        "    self.embedding = layers.Embedding(vocab_size, max_seq_len)\n",
        "    self.drop = layers.SpatialDropout1D(0.3)\n",
        "    \n",
        "    self.cv1 = layers.Conv1D(256, 3, padding='valid')\n",
        "    self.act1 = layers.Activation(activation='swish')\n",
        "    self.bat1 = layers.BatchNormalization()\n",
        "\n",
        "    self.ds = layers.Dense(128)\n",
        "    self.bat2 = layers.BatchNormalization()\n",
        "    self.act2 = layers.Activation(activation='swish')\n",
        "\n",
        "    self.bilstm = layers.Bidirectional(layers.LSTM(max_seq_len))\n",
        "    self.ds2 = layers.Dense(64, activation='relu')\n",
        "    self.out = layers.Dense(1, activation='sigmoid')\n",
        "\n",
        "  def call(self, x):\n",
        "    x = self.embedding(x)\n",
        "    x = self.drop(x)\n",
        "\n",
        "    x = self.cv1(x)\n",
        "    x = self.bat1(x)\n",
        "    x = self.act1(x)\n",
        "\n",
        "    x = self.ds(x)\n",
        "    x = self.bat2(x)\n",
        "    x = self.act2(x)\n",
        "\n",
        "    x = self.bilstm(x)\n",
        "    x = self.ds2(x)\n",
        "    x = self.out(x)\n",
        "    return x\n",
        "\n",
        "# model = SentimentAnalysisModel(vocab_size, max_len)\n",
        "# model.build(input_shape=(128, max_len))\n",
        "\n",
        "model = models.Sequential()\n",
        "model.add(Embedding(vocab_size, max_len))\n",
        "model.add(layers.SpatialDropout1D(0.3))\n",
        "model.add(layers.Conv1D(256, 3, padding='valid'))\n",
        "model.add(layers.BatchNormalization())\n",
        "model.add(layers.Activation('swish'))\n",
        "model.add(layers.Dense(128))\n",
        "model.add(layers.BatchNormalization())\n",
        "model.add(layers.Activation('swish'))\n",
        "model.add(layers.Bidirectional(layers.LSTM(max_len)))\n",
        "model.add(Dense(1, activation='sigmoid'))\n",
        "\n",
        "\n",
        "model.summary()\n",
        "\n",
        "\n",
        "\n",
        "\n",
        "# 모델 실행\n",
        "exec(model)\n"
      ],
      "execution_count": 22,
      "outputs": [
        {
          "output_type": "stream",
          "text": [
            "Model: \"sequential_3\"\n",
            "_________________________________________________________________\n",
            "Layer (type)                 Output Shape              Param #   \n",
            "=================================================================\n",
            "embedding_10 (Embedding)     (None, None, 200)         2000000   \n",
            "_________________________________________________________________\n",
            "spatial_dropout1d_1 (Spatial (None, None, 200)         0         \n",
            "_________________________________________________________________\n",
            "conv1d_1 (Conv1D)            (None, None, 256)         153856    \n",
            "_________________________________________________________________\n",
            "batch_normalization_11 (Batc (None, None, 256)         1024      \n",
            "_________________________________________________________________\n",
            "activation_11 (Activation)   (None, None, 256)         0         \n",
            "_________________________________________________________________\n",
            "dense_19 (Dense)             (None, None, 128)         32896     \n",
            "_________________________________________________________________\n",
            "batch_normalization_12 (Batc (None, None, 128)         512       \n",
            "_________________________________________________________________\n",
            "activation_12 (Activation)   (None, None, 128)         0         \n",
            "_________________________________________________________________\n",
            "bidirectional_18 (Bidirectio (None, 400)               526400    \n",
            "_________________________________________________________________\n",
            "dense_20 (Dense)             (None, 1)                 401       \n",
            "=================================================================\n",
            "Total params: 2,715,089\n",
            "Trainable params: 2,714,321\n",
            "Non-trainable params: 768\n",
            "_________________________________________________________________\n",
            "Epoch 1/3\n",
            "782/782 [==============================] - 76s 59ms/step - loss: 0.4370 - acc: 0.7886 - val_loss: 0.2976 - val_acc: 0.8749\n",
            "\n",
            "Epoch 00001: val_acc improved from -inf to 0.87492, saving model to sequential_3.h5\n",
            "Epoch 2/3\n",
            "782/782 [==============================] - 45s 57ms/step - loss: 0.2442 - acc: 0.9019 - val_loss: 0.2937 - val_acc: 0.8804\n",
            "\n",
            "Epoch 00002: val_acc improved from 0.87492 to 0.88036, saving model to sequential_3.h5\n",
            "Epoch 3/3\n",
            "782/782 [==============================] - 45s 57ms/step - loss: 0.1600 - acc: 0.9392 - val_loss: 0.3473 - val_acc: 0.8659\n",
            "\n",
            "Epoch 00003: val_acc did not improve from 0.88036\n",
            "782/782 [==============================] - 10s 12ms/step - loss: 0.2937 - acc: 0.8804\n",
            "\n",
            " sequential_3의 테스트 정확도: 0.8804\n"
          ],
          "name": "stdout"
        }
      ]
    },
    {
      "cell_type": "markdown",
      "metadata": {
        "id": "1KqJdfHRQMmH"
      },
      "source": [
        "# CNN 모델"
      ]
    },
    {
      "cell_type": "code",
      "metadata": {
        "colab": {
          "base_uri": "https://localhost:8080/"
        },
        "id": "wADm1o3FS-54",
        "outputId": "6928801d-41b8-4c66-c7db-a4708bb9c25b"
      },
      "source": [
        "inputs = layers.Input(shape=(None,), dtype='int64')\n",
        "\n",
        "embedded_sequences = layers.Embedding(vocab_size, 256)(inputs)\n",
        "\n",
        "x = layers.Dropout(0.3)(embedded_sequences)\n",
        "x = layers.Conv1D(256, 3, padding='valid')(x)\n",
        "x = layers.BatchNormalization()(x)\n",
        "x = layers.Activation('relu')(x)\n",
        "x = layers.MaxPooling1D(7)(x)\n",
        "\n",
        "x = layers.Conv1D(256, 3, padding='valid')(x)\n",
        "x = layers.BatchNormalization()(x)\n",
        "x = layers.Activation('relu')(x)\n",
        "x = layers.MaxPooling1D(7)(x)\n",
        "\n",
        "x = layers.Conv1D(256, 3, padding='valid')(x)\n",
        "x = layers.BatchNormalization()(x)\n",
        "x = layers.Activation('relu')(x)\n",
        "x = layers.GlobalMaxPool1D()(x)\n",
        "\n",
        "x = layers.Dense(128)(x)\n",
        "x = layers.BatchNormalization()(x)\n",
        "x = layers.Activation('relu')(x)\n",
        "\n",
        "x = layers.Dropout(0.5)(x)\n",
        "\n",
        "outputs = layers.Dense(1, activation='sigmoid')(x)\n",
        "\n",
        "model = models.Model(inputs, outputs)\n",
        "\n",
        "model.summary()\n",
        "\n",
        "# 모델 실행\n",
        "exec(model)"
      ],
      "execution_count": 25,
      "outputs": [
        {
          "output_type": "stream",
          "text": [
            "Model: \"model_1\"\n",
            "_________________________________________________________________\n",
            "Layer (type)                 Output Shape              Param #   \n",
            "=================================================================\n",
            "input_3 (InputLayer)         [(None, None)]            0         \n",
            "_________________________________________________________________\n",
            "embedding_13 (Embedding)     (None, None, 256)         2560000   \n",
            "_________________________________________________________________\n",
            "dropout_12 (Dropout)         (None, None, 256)         0         \n",
            "_________________________________________________________________\n",
            "conv1d_8 (Conv1D)            (None, None, 256)         196864    \n",
            "_________________________________________________________________\n",
            "batch_normalization_20 (Batc (None, None, 256)         1024      \n",
            "_________________________________________________________________\n",
            "activation_19 (Activation)   (None, None, 256)         0         \n",
            "_________________________________________________________________\n",
            "max_pooling1d_4 (MaxPooling1 (None, None, 256)         0         \n",
            "_________________________________________________________________\n",
            "conv1d_9 (Conv1D)            (None, None, 256)         196864    \n",
            "_________________________________________________________________\n",
            "batch_normalization_21 (Batc (None, None, 256)         1024      \n",
            "_________________________________________________________________\n",
            "activation_20 (Activation)   (None, None, 256)         0         \n",
            "_________________________________________________________________\n",
            "max_pooling1d_5 (MaxPooling1 (None, None, 256)         0         \n",
            "_________________________________________________________________\n",
            "conv1d_10 (Conv1D)           (None, None, 256)         196864    \n",
            "_________________________________________________________________\n",
            "batch_normalization_22 (Batc (None, None, 256)         1024      \n",
            "_________________________________________________________________\n",
            "activation_21 (Activation)   (None, None, 256)         0         \n",
            "_________________________________________________________________\n",
            "global_max_pooling1d_1 (Glob (None, 256)               0         \n",
            "_________________________________________________________________\n",
            "dense_23 (Dense)             (None, 128)               32896     \n",
            "_________________________________________________________________\n",
            "batch_normalization_23 (Batc (None, 128)               512       \n",
            "_________________________________________________________________\n",
            "activation_22 (Activation)   (None, 128)               0         \n",
            "_________________________________________________________________\n",
            "dropout_13 (Dropout)         (None, 128)               0         \n",
            "_________________________________________________________________\n",
            "dense_24 (Dense)             (None, 1)                 129       \n",
            "=================================================================\n",
            "Total params: 3,187,201\n",
            "Trainable params: 3,185,409\n",
            "Non-trainable params: 1,792\n",
            "_________________________________________________________________\n",
            "Epoch 1/3\n",
            "782/782 [==============================] - 34s 42ms/step - loss: 0.5183 - acc: 0.7432 - val_loss: 0.3720 - val_acc: 0.8314\n",
            "\n",
            "Epoch 00001: val_acc improved from -inf to 0.83136, saving model to model_1.h5\n",
            "Epoch 2/3\n",
            "782/782 [==============================] - 32s 41ms/step - loss: 0.2997 - acc: 0.8736 - val_loss: 0.4216 - val_acc: 0.8237\n",
            "\n",
            "Epoch 00002: val_acc did not improve from 0.83136\n",
            "Epoch 3/3\n",
            "782/782 [==============================] - 32s 41ms/step - loss: 0.2107 - acc: 0.9145 - val_loss: 0.5900 - val_acc: 0.7935\n",
            "\n",
            "Epoch 00003: val_acc did not improve from 0.83136\n",
            "782/782 [==============================] - 4s 5ms/step - loss: 0.3720 - acc: 0.8314\n",
            "\n",
            " model_1의 테스트 정확도: 0.8314\n"
          ],
          "name": "stdout"
        }
      ]
    },
    {
      "cell_type": "code",
      "metadata": {
        "id": "kr7ns9mkLy9s"
      },
      "source": [
        ""
      ],
      "execution_count": null,
      "outputs": []
    }
  ]
}
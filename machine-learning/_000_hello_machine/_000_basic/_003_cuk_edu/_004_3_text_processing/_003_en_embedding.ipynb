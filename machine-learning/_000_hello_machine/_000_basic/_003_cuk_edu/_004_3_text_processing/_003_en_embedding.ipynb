{
  "nbformat": 4,
  "nbformat_minor": 0,
  "metadata": {
    "colab": {
      "name": "cuk_text/_003_en_embedding.ipynb",
      "provenance": [],
      "authorship_tag": "ABX9TyOhfvgs7jMdI34tSNktVzAP",
      "include_colab_link": true
    },
    "kernelspec": {
      "name": "python3",
      "display_name": "Python 3"
    },
    "language_info": {
      "name": "python"
    }
  },
  "cells": [
    {
      "cell_type": "markdown",
      "metadata": {
        "id": "view-in-github",
        "colab_type": "text"
      },
      "source": [
        "<a href=\"https://colab.research.google.com/github/wiv33/A-Learning-python/blob/master/machine-learning/_000_hello_machine/_000_basic/_003_cuk_edu/_004_3_text_processing/_003_en_embedding.ipynb\" target=\"_parent\"><img src=\"https://colab.research.google.com/assets/colab-badge.svg\" alt=\"Open In Colab\"/></a>"
      ]
    },
    {
      "cell_type": "code",
      "metadata": {
        "id": "K0etU7yOHcAU"
      },
      "source": [
        "import tensorflow as tf\n",
        "from tensorflow.keras.layers import Embedding, Flatten, Input, Dense\n",
        "from tensorflow.keras.utils import to_categorical\n",
        "from tensorflow.keras.preprocessing.text import one_hot\n",
        "from tensorflow.keras.preprocessing.sequence import pad_sequences\n",
        "from tensorflow.keras.models import Model\n",
        "import numpy as np"
      ],
      "execution_count": 9,
      "outputs": []
    },
    {
      "cell_type": "code",
      "metadata": {
        "id": "fi_hMqTbIKdv"
      },
      "source": [
        "docs = ['안 녕!',\n",
        "        '잘했어!',\n",
        "        '잘 자, 오늘 고생했어',\n",
        "        '일 잘하는데?',\n",
        "        '훌륭해',\n",
        "        '약해',\n",
        "        '노력 좀 해!',\n",
        "        '별로다',\n",
        "        '일을 너무 못 해',\n",
        "        '잘할 수 있었잖아.']\n",
        "\n",
        "labels = np.array([1,1,1,1,1,0,0,0,0,0])  # 긍정과 부정"
      ],
      "execution_count": 5,
      "outputs": []
    },
    {
      "cell_type": "code",
      "metadata": {
        "colab": {
          "base_uri": "https://localhost:8080/"
        },
        "id": "1-nuhTqBJgcY",
        "outputId": "d974c9f7-3a9e-4a04-d47c-c0ba17cf7218"
      },
      "source": [
        "# one hot vector\n",
        "encoded_docs = [one_hot(doc, 50) for doc in docs]\n",
        "encoded_docs"
      ],
      "execution_count": 6,
      "outputs": [
        {
          "output_type": "execute_result",
          "data": {
            "text/plain": [
              "[[40, 26],\n",
              " [36],\n",
              " [15, 40, 9, 1],\n",
              " [25, 49],\n",
              " [7],\n",
              " [49],\n",
              " [6, 42, 20],\n",
              " [13],\n",
              " [20, 34, 41, 20],\n",
              " [34, 41, 34]]"
            ]
          },
          "metadata": {
            "tags": []
          },
          "execution_count": 6
        }
      ]
    },
    {
      "cell_type": "code",
      "metadata": {
        "id": "lrILCuqaJvaT"
      },
      "source": [
        "# padding zero to one hot vector\n",
        "padded_docs = pad_sequences(encoded_docs, maxlen=6, padding='post')"
      ],
      "execution_count": 8,
      "outputs": []
    },
    {
      "cell_type": "code",
      "metadata": {
        "id": "-iC82_LBJ7jk"
      },
      "source": [
        "# model\n",
        "import tensorflow.keras.backend as K\n",
        "K.clear_session()\n",
        "\n",
        "inputs = Input(shape=6)\n",
        "layer = Embedding(input_dim=50, output_dim=8)(inputs)\n",
        "layer = Flatten()(layer)\n",
        "layer = Dense(1, activation='sigmoid')(layer)\n",
        "\n",
        "model = Model(inputs, layer)"
      ],
      "execution_count": 46,
      "outputs": []
    },
    {
      "cell_type": "code",
      "metadata": {
        "id": "4afcB4AlMu6g"
      },
      "source": [
        "model.compile(optimizer='adam',\n",
        "              loss='binary_crossentropy',\n",
        "              metrics=['accuracy'])"
      ],
      "execution_count": 47,
      "outputs": []
    },
    {
      "cell_type": "code",
      "metadata": {
        "colab": {
          "base_uri": "https://localhost:8080/"
        },
        "id": "sguj71GmM25i",
        "outputId": "9c42c9c7-e836-40f0-ccf8-5474c44ba022"
      },
      "source": [
        "model.fit(x=padded_docs,\n",
        "          y=labels,\n",
        "          epochs=20,\n",
        "          verbose=1)"
      ],
      "execution_count": 48,
      "outputs": [
        {
          "output_type": "stream",
          "text": [
            "Epoch 1/20\n",
            "1/1 [==============================] - 1s 527ms/step - loss: 0.7014 - accuracy: 0.5000\n",
            "Epoch 2/20\n",
            "1/1 [==============================] - 0s 6ms/step - loss: 0.6999 - accuracy: 0.5000\n",
            "Epoch 3/20\n",
            "1/1 [==============================] - 0s 5ms/step - loss: 0.6985 - accuracy: 0.5000\n",
            "Epoch 4/20\n",
            "1/1 [==============================] - 0s 5ms/step - loss: 0.6971 - accuracy: 0.5000\n",
            "Epoch 5/20\n",
            "1/1 [==============================] - 0s 8ms/step - loss: 0.6957 - accuracy: 0.5000\n",
            "Epoch 6/20\n",
            "1/1 [==============================] - 0s 14ms/step - loss: 0.6943 - accuracy: 0.5000\n",
            "Epoch 7/20\n",
            "1/1 [==============================] - 0s 14ms/step - loss: 0.6929 - accuracy: 0.5000\n",
            "Epoch 8/20\n",
            "1/1 [==============================] - 0s 8ms/step - loss: 0.6915 - accuracy: 0.5000\n",
            "Epoch 9/20\n",
            "1/1 [==============================] - 0s 5ms/step - loss: 0.6901 - accuracy: 0.5000\n",
            "Epoch 10/20\n",
            "1/1 [==============================] - 0s 7ms/step - loss: 0.6887 - accuracy: 0.6000\n",
            "Epoch 11/20\n",
            "1/1 [==============================] - 0s 7ms/step - loss: 0.6873 - accuracy: 0.7000\n",
            "Epoch 12/20\n",
            "1/1 [==============================] - 0s 4ms/step - loss: 0.6859 - accuracy: 0.8000\n",
            "Epoch 13/20\n",
            "1/1 [==============================] - 0s 5ms/step - loss: 0.6846 - accuracy: 0.7000\n",
            "Epoch 14/20\n",
            "1/1 [==============================] - 0s 5ms/step - loss: 0.6832 - accuracy: 0.7000\n",
            "Epoch 15/20\n",
            "1/1 [==============================] - 0s 6ms/step - loss: 0.6818 - accuracy: 0.8000\n",
            "Epoch 16/20\n",
            "1/1 [==============================] - 0s 6ms/step - loss: 0.6804 - accuracy: 0.9000\n",
            "Epoch 17/20\n",
            "1/1 [==============================] - 0s 11ms/step - loss: 0.6791 - accuracy: 0.9000\n",
            "Epoch 18/20\n",
            "1/1 [==============================] - 0s 9ms/step - loss: 0.6777 - accuracy: 0.9000\n",
            "Epoch 19/20\n",
            "1/1 [==============================] - 0s 7ms/step - loss: 0.6763 - accuracy: 0.8000\n",
            "Epoch 20/20\n",
            "1/1 [==============================] - 0s 4ms/step - loss: 0.6749 - accuracy: 0.8000\n"
          ],
          "name": "stdout"
        },
        {
          "output_type": "execute_result",
          "data": {
            "text/plain": [
              "<tensorflow.python.keras.callbacks.History at 0x7fbbe0631590>"
            ]
          },
          "metadata": {
            "tags": []
          },
          "execution_count": 48
        }
      ]
    },
    {
      "cell_type": "code",
      "metadata": {
        "colab": {
          "base_uri": "https://localhost:8080/"
        },
        "id": "k8-uCOXDMoXH",
        "outputId": "1aea48d1-d426-4446-ca87-3bf76773a125"
      },
      "source": [
        "model.predict(padded_docs)"
      ],
      "execution_count": 49,
      "outputs": [
        {
          "output_type": "stream",
          "text": [
            "WARNING:tensorflow:5 out of the last 6 calls to <function Model.make_predict_function.<locals>.predict_function at 0x7fbbe06b0950> triggered tf.function retracing. Tracing is expensive and the excessive number of tracings could be due to (1) creating @tf.function repeatedly in a loop, (2) passing tensors with different shapes, (3) passing Python objects instead of tensors. For (1), please define your @tf.function outside of the loop. For (2), @tf.function has experimental_relax_shapes=True option that relaxes argument shapes that can avoid unnecessary retracing. For (3), please refer to https://www.tensorflow.org/guide/function#controlling_retracing and https://www.tensorflow.org/api_docs/python/tf/function for  more details.\n"
          ],
          "name": "stdout"
        },
        {
          "output_type": "execute_result",
          "data": {
            "text/plain": [
              "array([[0.5136125 ],\n",
              "       [0.50698096],\n",
              "       [0.5113176 ],\n",
              "       [0.51299584],\n",
              "       [0.51410687],\n",
              "       [0.50622594],\n",
              "       [0.48392665],\n",
              "       [0.5012793 ],\n",
              "       [0.47529897],\n",
              "       [0.49258953]], dtype=float32)"
            ]
          },
          "metadata": {
            "tags": []
          },
          "execution_count": 49
        }
      ]
    },
    {
      "cell_type": "code",
      "metadata": {
        "colab": {
          "base_uri": "https://localhost:8080/"
        },
        "id": "27h1cQd_Kcrb",
        "outputId": "ab0176ff-1f01-4f38-bb2e-885c3a395ccb"
      },
      "source": [
        "model.layers[1].get_weights()[0]"
      ],
      "execution_count": 37,
      "outputs": [
        {
          "output_type": "execute_result",
          "data": {
            "text/plain": [
              "array([[-0.01885519, -0.01091791, -0.03616605, -0.02317302, -0.04351425,\n",
              "         0.03969439,  0.02844207,  0.04189774],\n",
              "       [-0.01251173,  0.01534185,  0.03996464, -0.01551222, -0.02925817,\n",
              "         0.03462544, -0.00736972, -0.02151651],\n",
              "       [ 0.01036209,  0.00282185, -0.00072233,  0.01340958, -0.01509308,\n",
              "         0.04946368,  0.0417848 ,  0.04892895],\n",
              "       [-0.04015672, -0.03305737, -0.03740739,  0.03161499, -0.01644246,\n",
              "        -0.03841694, -0.03615393,  0.01298783],\n",
              "       [ 0.02190259, -0.03464351,  0.02711003, -0.03480168,  0.01968309,\n",
              "        -0.046192  , -0.00241842, -0.03006525],\n",
              "       [ 0.02427432, -0.0189677 , -0.02822081, -0.00523179, -0.00440508,\n",
              "        -0.04198921,  0.03577704, -0.00240671],\n",
              "       [-0.02335697,  0.02970469, -0.00662454,  0.00427003, -0.03219987,\n",
              "        -0.01933762,  0.02426061,  0.00541779],\n",
              "       [ 0.00564641,  0.03831062, -0.01629349,  0.01383264,  0.00746034,\n",
              "        -0.02105585,  0.00320023, -0.02718769],\n",
              "       [ 0.0374694 ,  0.04652485, -0.01891254, -0.01216466,  0.03343501,\n",
              "         0.04641109, -0.00635992,  0.01902051],\n",
              "       [-0.02397431,  0.00767843,  0.03219915,  0.03095945, -0.04658916,\n",
              "        -0.02337394,  0.0090772 ,  0.0200491 ],\n",
              "       [ 0.03480815, -0.00597256,  0.02915229, -0.01106986,  0.01672773,\n",
              "        -0.02854265,  0.01640621,  0.00072738],\n",
              "       [ 0.00330361,  0.03051913,  0.01711253, -0.03717763,  0.01311615,\n",
              "        -0.00118846,  0.03902134, -0.03287537],\n",
              "       [ 0.02089644,  0.00305439,  0.04257586,  0.00926876, -0.02799126,\n",
              "        -0.04247398,  0.00055299,  0.04245696],\n",
              "       [ 0.02922514, -0.04628096, -0.03069984, -0.04271374, -0.0283735 ,\n",
              "         0.04806465, -0.03099184, -0.04096127],\n",
              "       [ 0.020282  ,  0.04135138, -0.02721635,  0.00381719,  0.0453029 ,\n",
              "        -0.02321944,  0.02908568,  0.04279449],\n",
              "       [ 0.04030185,  0.02747036,  0.01929158,  0.03420727, -0.02797558,\n",
              "        -0.02065146,  0.01978761, -0.04393338],\n",
              "       [ 0.02247182, -0.04022137, -0.04600345, -0.04187404, -0.04257562,\n",
              "        -0.03127513,  0.00388688,  0.03689696],\n",
              "       [-0.03971393, -0.0292878 , -0.01203281, -0.01510089,  0.04183305,\n",
              "         0.03491062,  0.04678264,  0.02990261],\n",
              "       [-0.03356056,  0.00698204, -0.03556418,  0.02152462, -0.04263086,\n",
              "         0.02478633, -0.02700408, -0.01178039],\n",
              "       [-0.00467981,  0.04802561, -0.02577257,  0.01525978,  0.00030665,\n",
              "        -0.00861553,  0.04321582,  0.00941044],\n",
              "       [-0.00757362, -0.03715269, -0.03960777, -0.0217605 , -0.00240537,\n",
              "        -0.01719996,  0.01625616, -0.02875498],\n",
              "       [-0.02936569, -0.01131418,  0.0187686 , -0.01519419,  0.01013533,\n",
              "         0.02909173, -0.01966231, -0.03416474],\n",
              "       [ 0.0129209 ,  0.02770254, -0.00681639,  0.01027624,  0.0171814 ,\n",
              "        -0.00639261,  0.04258287,  0.02333704],\n",
              "       [-0.02349197,  0.01926137,  0.02613858, -0.03840089,  0.02208314,\n",
              "         0.02300385,  0.04923474,  0.01349768],\n",
              "       [ 0.00706818,  0.00897544,  0.03690693, -0.02461114, -0.04933944,\n",
              "        -0.03546649, -0.01519655, -0.0422602 ],\n",
              "       [ 0.02369184,  0.02412215, -0.0058561 , -0.01845192, -0.04301549,\n",
              "         0.04248406,  0.03942316, -0.01285015],\n",
              "       [-0.03044607, -0.04364307,  0.01972964, -0.02550497, -0.00182502,\n",
              "        -0.02708025,  0.01711967, -0.00385941],\n",
              "       [ 0.01891125,  0.0366243 ,  0.00407367,  0.02737624, -0.00399841,\n",
              "        -0.00836979, -0.01601714,  0.01292899],\n",
              "       [-0.00240212, -0.03955637,  0.00558301, -0.00367264, -0.04913669,\n",
              "         0.03640541, -0.00777059,  0.00263716],\n",
              "       [ 0.02419735, -0.044124  ,  0.04572492, -0.03998065,  0.03717108,\n",
              "         0.04756669,  0.02547801,  0.00175414],\n",
              "       [-0.03899076,  0.03140464, -0.04741126, -0.04633007, -0.04270469,\n",
              "        -0.04734025,  0.01356563,  0.02179683],\n",
              "       [ 0.02689007, -0.01479629,  0.04717833, -0.02986072,  0.04231311,\n",
              "         0.00882772, -0.02630571, -0.00561022],\n",
              "       [-0.01902328,  0.04323326,  0.03616191, -0.02045267,  0.02919704,\n",
              "        -0.01975759,  0.00408237, -0.04049351],\n",
              "       [ 0.01193981,  0.01308752, -0.02449465,  0.0077071 , -0.00724248,\n",
              "         0.04039463, -0.04071766,  0.02776391],\n",
              "       [ 0.03708274,  0.03547789,  0.0055032 ,  0.00418565, -0.01378619,\n",
              "        -0.03563937, -0.01477658, -0.03234216],\n",
              "       [-0.0079229 ,  0.04902453, -0.02834798, -0.02115612, -0.04021697,\n",
              "         0.03147237, -0.0333543 ,  0.04002627],\n",
              "       [-0.01964059, -0.02611594,  0.0414729 ,  0.02385548,  0.00521582,\n",
              "         0.00827745, -0.02230604, -0.00306567],\n",
              "       [ 0.02760757, -0.02453647,  0.04897496, -0.04581943,  0.01270277,\n",
              "         0.01341225, -0.03079947, -0.01482869],\n",
              "       [ 0.00683976,  0.04707465,  0.01253262, -0.0376564 ,  0.02973736,\n",
              "        -0.03026574,  0.04868802, -0.0236092 ],\n",
              "       [-0.03167494,  0.01636693, -0.03039619, -0.01567465, -0.04747606,\n",
              "         0.03652772,  0.0414429 ,  0.04357364],\n",
              "       [ 0.01428023, -0.00897773, -0.00588251,  0.03230324,  0.01192995,\n",
              "         0.04827828, -0.04484472, -0.03204586],\n",
              "       [-0.03062228, -0.02343651, -0.04296645, -0.02568562, -0.00819491,\n",
              "        -0.02965809, -0.03957757, -0.00073599],\n",
              "       [ 0.02827391, -0.02342494,  0.01246629, -0.0092394 , -0.00361917,\n",
              "        -0.01223878,  0.0416807 , -0.02256285],\n",
              "       [-0.01467227, -0.01323402, -0.00380402, -0.03728496,  0.00101369,\n",
              "         0.0441684 ,  0.03482408, -0.04652716],\n",
              "       [ 0.04968536, -0.04721349,  0.00075126,  0.04129853, -0.00861176,\n",
              "         0.01398369,  0.03925702, -0.02328638],\n",
              "       [ 0.0148857 ,  0.04758973, -0.01923599,  0.02783513, -0.04089701,\n",
              "         0.00358772,  0.04064384, -0.00510067],\n",
              "       [-0.00798067,  0.00571716, -0.03717897,  0.02668193,  0.02983406,\n",
              "         0.03804413,  0.0126054 ,  0.00852311],\n",
              "       [ 0.00289488,  0.04216841, -0.04268981,  0.0397892 , -0.04994558,\n",
              "        -0.02262193, -0.04328995, -0.04413958],\n",
              "       [ 0.02453394,  0.02085512,  0.01662197,  0.0062686 ,  0.03152342,\n",
              "         0.04834067, -0.00493091,  0.04006983],\n",
              "       [-0.04873352,  0.03977003,  0.04804322, -0.03109311, -0.00468965,\n",
              "        -0.04012698, -0.00617518,  0.00348635]], dtype=float32)"
            ]
          },
          "metadata": {
            "tags": []
          },
          "execution_count": 37
        }
      ]
    },
    {
      "cell_type": "code",
      "metadata": {
        "colab": {
          "base_uri": "https://localhost:8080/"
        },
        "id": "rGtUQMynKwFw",
        "outputId": "38d34e7e-590a-4096-e3c3-187204f8a0af"
      },
      "source": [
        "sample_weights = np.arange(0.1, 1.1, 0.1)\n",
        "sample_weights = np.array([sample_weights] * 4).T\n",
        "\n",
        "# put sample_weights to embedding layer\n",
        "model.layers[1].set_weights([sample_weights])\n",
        "model.layers[1].get_weights()"
      ],
      "execution_count": 32,
      "outputs": [
        {
          "output_type": "execute_result",
          "data": {
            "text/plain": [
              "[array([[0.1, 0.1, 0.1, 0.1],\n",
              "        [0.2, 0.2, 0.2, 0.2],\n",
              "        [0.3, 0.3, 0.3, 0.3],\n",
              "        [0.4, 0.4, 0.4, 0.4],\n",
              "        [0.5, 0.5, 0.5, 0.5],\n",
              "        [0.6, 0.6, 0.6, 0.6],\n",
              "        [0.7, 0.7, 0.7, 0.7],\n",
              "        [0.8, 0.8, 0.8, 0.8],\n",
              "        [0.9, 0.9, 0.9, 0.9],\n",
              "        [1. , 1. , 1. , 1. ]], dtype=float32)]"
            ]
          },
          "metadata": {
            "tags": []
          },
          "execution_count": 32
        }
      ]
    },
    {
      "cell_type": "code",
      "metadata": {
        "colab": {
          "base_uri": "https://localhost:8080/"
        },
        "id": "JCW5pyuwLdsR",
        "outputId": "f50989b5-e5d1-40f5-a444-609ad21f45d8"
      },
      "source": [
        "sample_input = np.arange(1, 10, 1)\n",
        "model.predict(sample_input)"
      ],
      "execution_count": 35,
      "outputs": [
        {
          "output_type": "execute_result",
          "data": {
            "text/plain": [
              "array([[[0.2, 0.2, 0.2, 0.2]],\n",
              "\n",
              "       [[0.3, 0.3, 0.3, 0.3]],\n",
              "\n",
              "       [[0.4, 0.4, 0.4, 0.4]],\n",
              "\n",
              "       [[0.5, 0.5, 0.5, 0.5]],\n",
              "\n",
              "       [[0.6, 0.6, 0.6, 0.6]],\n",
              "\n",
              "       [[0.7, 0.7, 0.7, 0.7]],\n",
              "\n",
              "       [[0.8, 0.8, 0.8, 0.8]],\n",
              "\n",
              "       [[0.9, 0.9, 0.9, 0.9]],\n",
              "\n",
              "       [[1. , 1. , 1. , 1. ]]], dtype=float32)"
            ]
          },
          "metadata": {
            "tags": []
          },
          "execution_count": 35
        }
      ]
    }
  ]
}
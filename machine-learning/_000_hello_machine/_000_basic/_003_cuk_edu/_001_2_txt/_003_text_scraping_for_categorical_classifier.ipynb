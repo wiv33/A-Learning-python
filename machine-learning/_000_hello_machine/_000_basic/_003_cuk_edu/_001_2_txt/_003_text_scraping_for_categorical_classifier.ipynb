{
  "nbformat": 4,
  "nbformat_minor": 0,
  "metadata": {
    "colab": {
      "name": "cuk_edu/_003_text_scraping_for_categorical_classifier.ipynb",
      "provenance": [],
      "collapsed_sections": [],
      "toc_visible": true,
      "mount_file_id": "1JiVz2zLm_f-33LcHnNbctT2rwL_bMUoA",
      "authorship_tag": "ABX9TyOJX+HWRscTPz9UcrpdINdn",
      "include_colab_link": true
    },
    "kernelspec": {
      "name": "python3",
      "display_name": "Python 3"
    },
    "accelerator": "GPU"
  },
  "cells": [
    {
      "cell_type": "markdown",
      "metadata": {
        "id": "view-in-github",
        "colab_type": "text"
      },
      "source": [
        "<a href=\"https://colab.research.google.com/github/wiv33/A-Learning-python/blob/master/machine-learning/_000_hello_machine/_000_basic/_003_tensorflow_cuk_edu/_001_2_txt/_003_text_scraping_for_categorical_classifier.ipynb\" target=\"_parent\"><img src=\"https://colab.research.google.com/assets/colab-badge.svg\" alt=\"Open In Colab\"/></a>"
      ]
    },
    {
      "cell_type": "markdown",
      "metadata": {
        "id": "eP2m1I0ssAzw"
      },
      "source": [
        "# Web Driver install "
      ]
    },
    {
      "cell_type": "code",
      "metadata": {
        "id": "Ij9swutOLK9A",
        "colab": {
          "base_uri": "https://localhost:8080/"
        },
        "outputId": "db5352b8-6a79-4960-bb15-87b5261f1536"
      },
      "source": [
        "!pip install selenium\n",
        "!apt-get update \n",
        "!apt install chromium-chromedriver\n",
        "\n",
        "from selenium import webdriver\n",
        "chrome_options = webdriver.ChromeOptions()\n",
        "chrome_options.add_argument('--headless')\n",
        "chrome_options.add_argument('--no-sandbox')\n",
        "chrome_options.add_argument('--disable-dev-shm-usage')"
      ],
      "execution_count": 1,
      "outputs": [
        {
          "output_type": "stream",
          "text": [
            "Collecting selenium\n",
            "\u001b[?25l  Downloading https://files.pythonhosted.org/packages/80/d6/4294f0b4bce4de0abf13e17190289f9d0613b0a44e5dd6a7f5ca98459853/selenium-3.141.0-py2.py3-none-any.whl (904kB)\n",
            "\u001b[K     |████████████████████████████████| 911kB 6.4MB/s \n",
            "\u001b[?25hRequirement already satisfied: urllib3 in /usr/local/lib/python3.6/dist-packages (from selenium) (1.24.3)\n",
            "Installing collected packages: selenium\n",
            "Successfully installed selenium-3.141.0\n",
            "Get:1 https://cloud.r-project.org/bin/linux/ubuntu bionic-cran40/ InRelease [3,626 B]\n",
            "Ign:2 https://developer.download.nvidia.com/compute/cuda/repos/ubuntu1804/x86_64  InRelease\n",
            "Ign:3 https://developer.download.nvidia.com/compute/machine-learning/repos/ubuntu1804/x86_64  InRelease\n",
            "Hit:4 http://archive.ubuntu.com/ubuntu bionic InRelease\n",
            "Get:5 http://security.ubuntu.com/ubuntu bionic-security InRelease [88.7 kB]\n",
            "Get:6 https://developer.download.nvidia.com/compute/cuda/repos/ubuntu1804/x86_64  Release [697 B]\n",
            "Get:7 http://ppa.launchpad.net/c2d4u.team/c2d4u4.0+/ubuntu bionic InRelease [15.9 kB]\n",
            "Hit:8 https://developer.download.nvidia.com/compute/machine-learning/repos/ubuntu1804/x86_64  Release\n",
            "Get:9 https://developer.download.nvidia.com/compute/cuda/repos/ubuntu1804/x86_64  Release.gpg [836 B]\n",
            "Get:10 http://archive.ubuntu.com/ubuntu bionic-updates InRelease [88.7 kB]\n",
            "Get:11 http://ppa.launchpad.net/graphics-drivers/ppa/ubuntu bionic InRelease [21.3 kB]\n",
            "Get:12 http://archive.ubuntu.com/ubuntu bionic-backports InRelease [74.6 kB]\n",
            "Ign:14 https://developer.download.nvidia.com/compute/cuda/repos/ubuntu1804/x86_64  Packages\n",
            "Get:14 https://developer.download.nvidia.com/compute/cuda/repos/ubuntu1804/x86_64  Packages [443 kB]\n",
            "Get:15 http://ppa.launchpad.net/c2d4u.team/c2d4u4.0+/ubuntu bionic/main Sources [1,691 kB]\n",
            "Get:16 http://security.ubuntu.com/ubuntu bionic-security/main amd64 Packages [1,781 kB]\n",
            "Get:17 http://archive.ubuntu.com/ubuntu bionic-updates/main amd64 Packages [2,208 kB]\n",
            "Get:18 http://security.ubuntu.com/ubuntu bionic-security/universe amd64 Packages [1,366 kB]\n",
            "Get:19 http://ppa.launchpad.net/c2d4u.team/c2d4u4.0+/ubuntu bionic/main amd64 Packages [865 kB]\n",
            "Get:20 http://archive.ubuntu.com/ubuntu bionic-updates/restricted amd64 Packages [252 kB]\n",
            "Get:21 http://archive.ubuntu.com/ubuntu bionic-updates/multiverse amd64 Packages [54.3 kB]\n",
            "Get:22 http://archive.ubuntu.com/ubuntu bionic-updates/universe amd64 Packages [2,131 kB]\n",
            "Get:23 http://ppa.launchpad.net/graphics-drivers/ppa/ubuntu bionic/main amd64 Packages [46.5 kB]\n",
            "Fetched 11.1 MB in 3s (3,297 kB/s)\n",
            "Reading package lists... Done\n",
            "Reading package lists... Done\n",
            "Building dependency tree       \n",
            "Reading state information... Done\n",
            "The following additional packages will be installed:\n",
            "  chromium-browser chromium-browser-l10n chromium-codecs-ffmpeg-extra\n",
            "Suggested packages:\n",
            "  webaccounts-chromium-extension unity-chromium-extension adobe-flashplugin\n",
            "The following NEW packages will be installed:\n",
            "  chromium-browser chromium-browser-l10n chromium-chromedriver\n",
            "  chromium-codecs-ffmpeg-extra\n",
            "0 upgraded, 4 newly installed, 0 to remove and 64 not upgraded.\n",
            "Need to get 80.2 MB of archives.\n",
            "After this operation, 272 MB of additional disk space will be used.\n",
            "Get:1 http://archive.ubuntu.com/ubuntu bionic-updates/universe amd64 chromium-codecs-ffmpeg-extra amd64 86.0.4240.198-0ubuntu0.18.04.1 [1,126 kB]\n",
            "Get:2 http://archive.ubuntu.com/ubuntu bionic-updates/universe amd64 chromium-browser amd64 86.0.4240.198-0ubuntu0.18.04.1 [71.0 MB]\n",
            "Get:3 http://archive.ubuntu.com/ubuntu bionic-updates/universe amd64 chromium-browser-l10n all 86.0.4240.198-0ubuntu0.18.04.1 [3,585 kB]\n",
            "Get:4 http://archive.ubuntu.com/ubuntu bionic-updates/universe amd64 chromium-chromedriver amd64 86.0.4240.198-0ubuntu0.18.04.1 [4,492 kB]\n",
            "Fetched 80.2 MB in 4s (18.7 MB/s)\n",
            "Selecting previously unselected package chromium-codecs-ffmpeg-extra.\n",
            "(Reading database ... 144793 files and directories currently installed.)\n",
            "Preparing to unpack .../chromium-codecs-ffmpeg-extra_86.0.4240.198-0ubuntu0.18.04.1_amd64.deb ...\n",
            "Unpacking chromium-codecs-ffmpeg-extra (86.0.4240.198-0ubuntu0.18.04.1) ...\n",
            "Selecting previously unselected package chromium-browser.\n",
            "Preparing to unpack .../chromium-browser_86.0.4240.198-0ubuntu0.18.04.1_amd64.deb ...\n",
            "Unpacking chromium-browser (86.0.4240.198-0ubuntu0.18.04.1) ...\n",
            "Selecting previously unselected package chromium-browser-l10n.\n",
            "Preparing to unpack .../chromium-browser-l10n_86.0.4240.198-0ubuntu0.18.04.1_all.deb ...\n",
            "Unpacking chromium-browser-l10n (86.0.4240.198-0ubuntu0.18.04.1) ...\n",
            "Selecting previously unselected package chromium-chromedriver.\n",
            "Preparing to unpack .../chromium-chromedriver_86.0.4240.198-0ubuntu0.18.04.1_amd64.deb ...\n",
            "Unpacking chromium-chromedriver (86.0.4240.198-0ubuntu0.18.04.1) ...\n",
            "Setting up chromium-codecs-ffmpeg-extra (86.0.4240.198-0ubuntu0.18.04.1) ...\n",
            "Setting up chromium-browser (86.0.4240.198-0ubuntu0.18.04.1) ...\n",
            "update-alternatives: using /usr/bin/chromium-browser to provide /usr/bin/x-www-browser (x-www-browser) in auto mode\n",
            "update-alternatives: using /usr/bin/chromium-browser to provide /usr/bin/gnome-www-browser (gnome-www-browser) in auto mode\n",
            "Setting up chromium-chromedriver (86.0.4240.198-0ubuntu0.18.04.1) ...\n",
            "Setting up chromium-browser-l10n (86.0.4240.198-0ubuntu0.18.04.1) ...\n",
            "Processing triggers for hicolor-icon-theme (0.17-2) ...\n",
            "Processing triggers for mime-support (3.60ubuntu1) ...\n",
            "Processing triggers for man-db (2.8.3-2ubuntu0.1) ...\n"
          ],
          "name": "stdout"
        }
      ]
    },
    {
      "cell_type": "code",
      "metadata": {
        "id": "XsJW8a_ujKKe"
      },
      "source": [
        "from bs4 import BeautifulSoup, builder\n",
        "from selenium.webdriver.common.by import By\n",
        "from selenium.webdriver.support.ui import WebDriverWait\n",
        "from selenium.webdriver.support import expected_conditions as ec\n",
        "import requests\n",
        "import pandas as pd\n",
        "import time\n",
        "# from multiprocessing import Pool\n",
        "import numpy as np\n",
        "import os"
      ],
      "execution_count": 2,
      "outputs": []
    },
    {
      "cell_type": "code",
      "metadata": {
        "id": "u6bpJWGTQ3sY",
        "colab": {
          "base_uri": "https://localhost:8080/"
        },
        "outputId": "79544eba-f8e4-4b5c-ea84-72b130613ca9"
      },
      "source": [
        "!python --version"
      ],
      "execution_count": 3,
      "outputs": [
        {
          "output_type": "stream",
          "text": [
            "Python 3.6.9\n"
          ],
          "name": "stdout"
        }
      ]
    },
    {
      "cell_type": "markdown",
      "metadata": {
        "id": "uv7NrjDlR4Nt"
      },
      "source": [
        "## 기사 수집에 필요한 동작과 데이터 csv 파일 전환 객체 생성\n"
      ]
    },
    {
      "cell_type": "code",
      "metadata": {
        "id": "ejHnijkrMqta"
      },
      "source": [
        "# class TopicModelForArticle():\n",
        "#     def __init__(self):\n",
        "#       self.df_docs = pd.DataFrame(columns=['article', 'category'])\n",
        "#       # self.workers = 5\n",
        "#       # self.pool = Pool(processes=self.workers)\n",
        "\n",
        "#     def accumulate_article(self):\n",
        "#       self.wd = webdriver.Chrome('chromedriver',chrome_options=chrome_options)\n",
        "#       self.wd.get('https://koreajoongangdaily.joins.com/section/allArticles')\n",
        "#       for x in np.arange(5500):\n",
        "#         if x % 1000 == 0:\n",
        "#           print(len(set(self.wd.find_elements_by_xpath('//*[@id=\"main-second-content\"]/div[1]/div[*]/a'))))\n",
        "#         self.wd.execute_script(\"getMoreSectionPage()\")        \n",
        "      \n",
        "#       print(len(set(self.wd.find_elements_by_xpath('//*[@id=\"main-second-content\"]/div[1]/div[*]/a'))))\n",
        "#       print('complete acc')\n",
        "#       return np.array(set(self.wd.find_elements_by_xpath('//*[@id=\"main-second-content\"]/div[1]/div[*]/a')))\n",
        "\n",
        "#     def append_article(self):\n",
        "#       a_list = self.wd.find_elements_by_xpath('//*[@id=\"main-second-content\"]/div[1]/div[*]/a')\n",
        "#       for a in a_list:\n",
        "#         article = requests.get(a.get_attribute('href'))\n",
        "#         soup = BeautifulSoup(article.text, builder.HTML)\n",
        "#         body = soup.select_one('#article_body')\n",
        "#         body_text = body.get_text()\n",
        "#         self.df_docs = self.df_docs.append({'article': body_text, 'category': a.get_attribute(\"href\").split(\"/\")[7]}, \n",
        "#                                           ignore_index=True)\n",
        "        \n",
        "#         print(self.df_docs.info())\n",
        "\n",
        "\n",
        "#     def remove_title(self, body, title):\n",
        "#       return body.replace(title, '')\n",
        "\n",
        "#     def make_csv(self):\n",
        "#       \"\"\" csv 파일로 변환하기 \"\"\"\n",
        "#       self.df_docs.to_csv(\"recent_month_popular_{}.csv\".format(self.current_date))"
      ],
      "execution_count": 4,
      "outputs": []
    },
    {
      "cell_type": "code",
      "metadata": {
        "id": "D2DKit077aHv"
      },
      "source": [
        "# tma = TopicModelForArticle()"
      ],
      "execution_count": 5,
      "outputs": []
    },
    {
      "cell_type": "code",
      "metadata": {
        "id": "FQn6m52gMwKk"
      },
      "source": [
        "# tma.accumulate_article()"
      ],
      "execution_count": 6,
      "outputs": []
    },
    {
      "cell_type": "code",
      "metadata": {
        "colab": {
          "base_uri": "https://localhost:8080/"
        },
        "id": "mILdgecB4YUO",
        "outputId": "db45a303-adab-4b9e-bdb8-0d4021539701"
      },
      "source": [
        "wd = webdriver.Chrome('chromedriver',chrome_options=chrome_options)\n",
        "wd.get('https://koreajoongangdaily.joins.com/section/allArticles')"
      ],
      "execution_count": 7,
      "outputs": [
        {
          "output_type": "stream",
          "text": [
            "/usr/local/lib/python3.6/dist-packages/ipykernel_launcher.py:1: DeprecationWarning: use options instead of chrome_options\n",
            "  \"\"\"Entry point for launching an IPython kernel.\n"
          ],
          "name": "stderr"
        }
      ]
    },
    {
      "cell_type": "code",
      "metadata": {
        "colab": {
          "base_uri": "https://localhost:8080/"
        },
        "id": "0FFXczvkjEMh",
        "outputId": "e5f7ec16-979e-4e2b-bdc2-6e35442a3dea"
      },
      "source": [
        "%%time\n",
        "for x in np.arange(8000):\n",
        "  if x % 1000 == 0:\n",
        "    print(len(set(wd.find_elements_by_xpath('//*[@id=\"main-second-content\"]/div[1]/div[*]/a'))))\n",
        "  wd.execute_script(\"getMoreSectionPage()\")        \n",
        "\n",
        "print(len(set(wd.find_elements_by_xpath('//*[@id=\"main-second-content\"]/div[1]/div[*]/a'))))\n",
        "print('complete acc')\n"
      ],
      "execution_count": 8,
      "outputs": [
        {
          "output_type": "stream",
          "text": [
            "10\n",
            "250\n",
            "740\n",
            "1620\n",
            "3170\n",
            "5730\n",
            "8780\n",
            "10000\n",
            "10000\n",
            "complete acc\n",
            "CPU times: user 8.7 s, sys: 514 ms, total: 9.21 s\n",
            "Wall time: 11min 12s\n"
          ],
          "name": "stdout"
        }
      ]
    },
    {
      "cell_type": "code",
      "metadata": {
        "id": "wicf46Ni84xc"
      },
      "source": [
        "arr_a = wd.find_elements_by_xpath('//*[@id=\"main-second-content\"]/div[1]/div[*]/a')"
      ],
      "execution_count": 9,
      "outputs": []
    },
    {
      "cell_type": "code",
      "metadata": {
        "id": "4gPwEK6D4_XI"
      },
      "source": [
        "len(arr_a)"
      ],
      "execution_count": null,
      "outputs": []
    },
    {
      "cell_type": "markdown",
      "metadata": {
        "id": "XbZQpfRLHmwq"
      },
      "source": [
        "테스트"
      ]
    },
    {
      "cell_type": "code",
      "metadata": {
        "colab": {
          "base_uri": "https://localhost:8080/"
        },
        "id": "yQp0j5cEHfFl",
        "outputId": "14f4112d-919d-442e-b2c0-6f66dfe0220d"
      },
      "source": [
        "%%time\n",
        "def clean_text(txt: str) -> str:\n",
        "  return re.sub('[^a-zA-Z\\'\"\\.\\?]', ' ', txt)\n",
        "\n",
        "def test_one(arr_one, bt, cate, t_cates):\n",
        "  article = requests.get(arr_one.get_attribute('href'))\n",
        "  soup = BeautifulSoup(article.text, builder.HTML)\n",
        "  body = soup.select_one('#article_body')\n",
        "  body_text = body.get_text()\n",
        "  cate_list = arr_one.get_attribute(\"href\").split(\"/\")\n",
        "  \n",
        "  bt.append(body_text)\n",
        "  cate.append(cate_list[7])\n",
        "  t_cates.append((cate_list[6], cate_list[8]))\n",
        "  \n",
        "test_body = []\n",
        "test_cate = []\n",
        "test_cates = []\n",
        "\n",
        "test_one(arr_a[9], test_body, test_cate, test_cates)"
      ],
      "execution_count": 11,
      "outputs": [
        {
          "output_type": "stream",
          "text": [
            "CPU times: user 32.6 ms, sys: 1.03 ms, total: 33.6 ms\n",
            "Wall time: 1.06 s\n"
          ],
          "name": "stdout"
        }
      ]
    },
    {
      "cell_type": "code",
      "metadata": {
        "colab": {
          "base_uri": "https://localhost:8080/"
        },
        "id": "djdzg0_vLaXM",
        "outputId": "e02ab362-43f0-4245-a353-c41fadf29242"
      },
      "source": [
        "test_one(arr_a[10], test_body, test_cate, test_cates)\n",
        "len(test_body)"
      ],
      "execution_count": 12,
      "outputs": [
        {
          "output_type": "execute_result",
          "data": {
            "text/plain": [
              "2"
            ]
          },
          "metadata": {
            "tags": []
          },
          "execution_count": 12
        }
      ]
    },
    {
      "cell_type": "code",
      "metadata": {
        "colab": {
          "base_uri": "https://localhost:8080/"
        },
        "id": "bjphi0X6Nrgn",
        "outputId": "4faa2771-8434-49d5-af6d-2ddc7b2bec4b"
      },
      "source": [
        "import multiprocessing\n",
        "\n",
        "multiprocessing.cpu_count()"
      ],
      "execution_count": 13,
      "outputs": [
        {
          "output_type": "execute_result",
          "data": {
            "text/plain": [
              "2"
            ]
          },
          "metadata": {
            "tags": []
          },
          "execution_count": 13
        }
      ]
    },
    {
      "cell_type": "code",
      "metadata": {
        "colab": {
          "base_uri": "https://localhost:8080/"
        },
        "id": "YJE1Dr7lOLg2",
        "outputId": "06ffb414-9515-435a-da8b-10ae65ba934f"
      },
      "source": [
        "len(test_body), len(test_cate), len(test_cates)"
      ],
      "execution_count": 15,
      "outputs": [
        {
          "output_type": "execute_result",
          "data": {
            "text/plain": [
              "(2, 2, 2)"
            ]
          },
          "metadata": {
            "tags": []
          },
          "execution_count": 15
        }
      ]
    },
    {
      "cell_type": "code",
      "metadata": {
        "colab": {
          "base_uri": "https://localhost:8080/",
          "height": 111
        },
        "id": "7pWoyIHaN5Gj",
        "outputId": "1c7b5a2f-9dbe-4e15-af2c-96be3c8b709b"
      },
      "source": [
        "pd.DataFrame({'article': test_body, 'category':test_cate, 'cates': test_cates})"
      ],
      "execution_count": 16,
      "outputs": [
        {
          "output_type": "execute_result",
          "data": {
            "text/html": [
              "<div>\n",
              "<style scoped>\n",
              "    .dataframe tbody tr th:only-of-type {\n",
              "        vertical-align: middle;\n",
              "    }\n",
              "\n",
              "    .dataframe tbody tr th {\n",
              "        vertical-align: top;\n",
              "    }\n",
              "\n",
              "    .dataframe thead th {\n",
              "        text-align: right;\n",
              "    }\n",
              "</style>\n",
              "<table border=\"1\" class=\"dataframe\">\n",
              "  <thead>\n",
              "    <tr style=\"text-align: right;\">\n",
              "      <th></th>\n",
              "      <th>article</th>\n",
              "      <th>category</th>\n",
              "      <th>cates</th>\n",
              "    </tr>\n",
              "  </thead>\n",
              "  <tbody>\n",
              "    <tr>\n",
              "      <th>0</th>\n",
              "      <td>\\nBlue House names new foreign policy secretar...</td>\n",
              "      <td>politics</td>\n",
              "      <td>(national, Kim-Yonghyon-presidential-secretary...</td>\n",
              "    </tr>\n",
              "    <tr>\n",
              "      <th>1</th>\n",
              "      <td>\\nSeventeen to perform 'Fallin' Flower' in Kor...</td>\n",
              "      <td>kpop</td>\n",
              "      <td>(entertainment, The-Face-Music-Awards-Seventee...</td>\n",
              "    </tr>\n",
              "  </tbody>\n",
              "</table>\n",
              "</div>"
            ],
            "text/plain": [
              "                                             article  ...                                              cates\n",
              "0  \\nBlue House names new foreign policy secretar...  ...  (national, Kim-Yonghyon-presidential-secretary...\n",
              "1  \\nSeventeen to perform 'Fallin' Flower' in Kor...  ...  (entertainment, The-Face-Music-Awards-Seventee...\n",
              "\n",
              "[2 rows x 3 columns]"
            ]
          },
          "metadata": {
            "tags": []
          },
          "execution_count": 16
        }
      ]
    },
    {
      "cell_type": "markdown",
      "metadata": {
        "id": "x24ffRD7HfzU"
      },
      "source": [
        "## 실제 데이터"
      ]
    },
    {
      "cell_type": "code",
      "metadata": {
        "id": "KAamNT_CgW93"
      },
      "source": [
        "def make_docs(arr, articles, urls):\n",
        "  url_list = arr\n",
        "  for a in url_list:\n",
        "    article = requests.get(a.get_attribute('href'))\n",
        "    soup = BeautifulSoup(article.text, builder.HTML)\n",
        "    body = soup.select_one('#article_body')\n",
        "    body_text = body.get_text()\n",
        "    url = a.get_attribute(\"href\")\n",
        "    # df = df.append({'article': body_text, 'category': cate_list[7], 'category6': cate_list[6], 'category8': cate_list[8]}, \n",
        "                                      # ignore_index=True)\n",
        "    articles.append(body_text)\n",
        "    urls.append(url)"
      ],
      "execution_count": 17,
      "outputs": []
    },
    {
      "cell_type": "code",
      "metadata": {
        "colab": {
          "base_uri": "https://localhost:8080/"
        },
        "id": "YCeujTV2qIX9",
        "outputId": "0af93d3e-9b9c-460d-92ec-23054c244892"
      },
      "source": [
        "articles = []\n",
        "urls = []\n",
        "\n",
        "%time make_docs(arr_a, articles, urls)"
      ],
      "execution_count": 18,
      "outputs": [
        {
          "output_type": "stream",
          "text": [
            "CPU times: user 5min 7s, sys: 9.1 s, total: 5min 16s\n",
            "Wall time: 2h 27min 12s\n"
          ],
          "name": "stdout"
        }
      ]
    },
    {
      "cell_type": "code",
      "metadata": {
        "colab": {
          "base_uri": "https://localhost:8080/",
          "height": 419
        },
        "id": "_7UjTpVFRkEY",
        "outputId": "99ff3a9d-f52e-484b-ccb4-51c4cc0d3a1a"
      },
      "source": [
        "df_docs = pd.DataFrame({'article': articles, 'urls': urls})\n",
        "df_docs"
      ],
      "execution_count": 19,
      "outputs": [
        {
          "output_type": "execute_result",
          "data": {
            "text/html": [
              "<div>\n",
              "<style scoped>\n",
              "    .dataframe tbody tr th:only-of-type {\n",
              "        vertical-align: middle;\n",
              "    }\n",
              "\n",
              "    .dataframe tbody tr th {\n",
              "        vertical-align: top;\n",
              "    }\n",
              "\n",
              "    .dataframe thead th {\n",
              "        text-align: right;\n",
              "    }\n",
              "</style>\n",
              "<table border=\"1\" class=\"dataframe\">\n",
              "  <thead>\n",
              "    <tr style=\"text-align: right;\">\n",
              "      <th></th>\n",
              "      <th>article</th>\n",
              "      <th>urls</th>\n",
              "    </tr>\n",
              "  </thead>\n",
              "  <tbody>\n",
              "    <tr>\n",
              "      <th>0</th>\n",
              "      <td>\\nBetter to give property than to receive a bi...</td>\n",
              "      <td>https://koreajoongangdaily.joins.com/2020/11/2...</td>\n",
              "    </tr>\n",
              "    <tr>\n",
              "      <th>1</th>\n",
              "      <td>\\n[NEWS ANALYSIS] As foreigners rush back, mar...</td>\n",
              "      <td>https://koreajoongangdaily.joins.com/2020/11/2...</td>\n",
              "    </tr>\n",
              "    <tr>\n",
              "      <th>2</th>\n",
              "      <td>\\nSK Telcom merges two security services subsi...</td>\n",
              "      <td>https://koreajoongangdaily.joins.com/2020/11/2...</td>\n",
              "    </tr>\n",
              "    <tr>\n",
              "      <th>3</th>\n",
              "      <td>\\nBorder restrictions drastically cut North Ko...</td>\n",
              "      <td>https://koreajoongangdaily.joins.com/2020/11/2...</td>\n",
              "    </tr>\n",
              "    <tr>\n",
              "      <th>4</th>\n",
              "      <td>\\nBureaucracy weighs in on AI, gives it a to-d...</td>\n",
              "      <td>https://koreajoongangdaily.joins.com/2020/11/2...</td>\n",
              "    </tr>\n",
              "    <tr>\n",
              "      <th>...</th>\n",
              "      <td>...</td>\n",
              "      <td>...</td>\n",
              "    </tr>\n",
              "    <tr>\n",
              "      <th>9995</th>\n",
              "      <td>\\nExplosion at institute for defense kills one...</td>\n",
              "      <td>https://koreajoongangdaily.joins.com/2019/11/1...</td>\n",
              "    </tr>\n",
              "    <tr>\n",
              "      <th>9996</th>\n",
              "      <td>\\nReady to relax\\n\\n\\n\\n\\n\\n\\n\\nStudents who f...</td>\n",
              "      <td>https://koreajoongangdaily.joins.com/2019/11/1...</td>\n",
              "    </tr>\n",
              "    <tr>\n",
              "      <th>9997</th>\n",
              "      <td>\\nRyu Hyun-jin very nearly wins Cy Young Award...</td>\n",
              "      <td>https://koreajoongangdaily.joins.com/2019/11/1...</td>\n",
              "    </tr>\n",
              "    <tr>\n",
              "      <th>9998</th>\n",
              "      <td>\\nPark Byung-ho just isn’t hitting like Park B...</td>\n",
              "      <td>https://koreajoongangdaily.joins.com/2019/11/1...</td>\n",
              "    </tr>\n",
              "    <tr>\n",
              "      <th>9999</th>\n",
              "      <td>\\nMexico's success is all about the scouting\\n...</td>\n",
              "      <td>https://koreajoongangdaily.joins.com/2019/11/1...</td>\n",
              "    </tr>\n",
              "  </tbody>\n",
              "</table>\n",
              "<p>10000 rows × 2 columns</p>\n",
              "</div>"
            ],
            "text/plain": [
              "                                                article                                               urls\n",
              "0     \\nBetter to give property than to receive a bi...  https://koreajoongangdaily.joins.com/2020/11/2...\n",
              "1     \\n[NEWS ANALYSIS] As foreigners rush back, mar...  https://koreajoongangdaily.joins.com/2020/11/2...\n",
              "2     \\nSK Telcom merges two security services subsi...  https://koreajoongangdaily.joins.com/2020/11/2...\n",
              "3     \\nBorder restrictions drastically cut North Ko...  https://koreajoongangdaily.joins.com/2020/11/2...\n",
              "4     \\nBureaucracy weighs in on AI, gives it a to-d...  https://koreajoongangdaily.joins.com/2020/11/2...\n",
              "...                                                 ...                                                ...\n",
              "9995  \\nExplosion at institute for defense kills one...  https://koreajoongangdaily.joins.com/2019/11/1...\n",
              "9996  \\nReady to relax\\n\\n\\n\\n\\n\\n\\n\\nStudents who f...  https://koreajoongangdaily.joins.com/2019/11/1...\n",
              "9997  \\nRyu Hyun-jin very nearly wins Cy Young Award...  https://koreajoongangdaily.joins.com/2019/11/1...\n",
              "9998  \\nPark Byung-ho just isn’t hitting like Park B...  https://koreajoongangdaily.joins.com/2019/11/1...\n",
              "9999  \\nMexico's success is all about the scouting\\n...  https://koreajoongangdaily.joins.com/2019/11/1...\n",
              "\n",
              "[10000 rows x 2 columns]"
            ]
          },
          "metadata": {
            "tags": []
          },
          "execution_count": 19
        }
      ]
    },
    {
      "cell_type": "code",
      "metadata": {
        "id": "CtLbIKv2ihXl"
      },
      "source": [
        "df_docs['category'] = df_docs['urls'].apply(lambda x: x.split('/')[7])"
      ],
      "execution_count": 22,
      "outputs": []
    },
    {
      "cell_type": "code",
      "metadata": {
        "colab": {
          "base_uri": "https://localhost:8080/"
        },
        "id": "z7XeLR55MRhO",
        "outputId": "fe3ff7b3-16f6-4139-bc4e-cdf57f0b7527"
      },
      "source": [
        "len('https://koreajoongangdaily.joins.com/2019/11/14/socialAffairs/Explosion-at-institute-for-defense-kills-one-injures-6/3070273.html'.split('/'))"
      ],
      "execution_count": 29,
      "outputs": [
        {
          "output_type": "execute_result",
          "data": {
            "text/plain": [
              "9"
            ]
          },
          "metadata": {
            "tags": []
          },
          "execution_count": 29
        }
      ]
    },
    {
      "cell_type": "code",
      "metadata": {
        "colab": {
          "base_uri": "https://localhost:8080/"
        },
        "id": "G9680ZQMMYcr",
        "outputId": "6e0b5107-10e3-4caf-a130-038bf51465e2"
      },
      "source": [
        "len('https://koreajoongangdaily.joins.com/2020/11/28/business/economy/real-estate-comprehensive-real-estate-tax-capital-gains-tax/20201128070110734.html'.split(\"/\"))"
      ],
      "execution_count": 32,
      "outputs": [
        {
          "output_type": "execute_result",
          "data": {
            "text/plain": [
              "10"
            ]
          },
          "metadata": {
            "tags": []
          },
          "execution_count": 32
        }
      ]
    },
    {
      "cell_type": "code",
      "metadata": {
        "colab": {
          "base_uri": "https://localhost:8080/",
          "height": 34
        },
        "id": "RKDGiEiMObpI",
        "outputId": "9c83ce12-447c-420e-88b6-fcb13351b20b"
      },
      "source": [
        "'https://koreajoongangdaily.joins.com/2020/11/28/business/economy/real-estate-comprehensive-real-estate-tax-capital-gains-tax/20201128070110734.html'.split('/')[7]"
      ],
      "execution_count": 64,
      "outputs": [
        {
          "output_type": "execute_result",
          "data": {
            "application/vnd.google.colaboratory.intrinsic+json": {
              "type": "string"
            },
            "text/plain": [
              "'economy'"
            ]
          },
          "metadata": {
            "tags": []
          },
          "execution_count": 64
        }
      ]
    },
    {
      "cell_type": "code",
      "metadata": {
        "colab": {
          "base_uri": "https://localhost:8080/"
        },
        "id": "P8kly1QXN6nF",
        "outputId": "06984235-5c26-4588-fccd-ae88725289fa"
      },
      "source": [
        "len('https://koreajoongangdaily.joins.com//2020/05/18/industry/caption-uniform-uniforms-at//20200518200509322.html'.split('/'))"
      ],
      "execution_count": 47,
      "outputs": [
        {
          "output_type": "execute_result",
          "data": {
            "text/plain": [
              "11"
            ]
          },
          "metadata": {
            "tags": []
          },
          "execution_count": 47
        }
      ]
    },
    {
      "cell_type": "code",
      "metadata": {
        "colab": {
          "base_uri": "https://localhost:8080/",
          "height": 34
        },
        "id": "AkbN_U2DOBqC",
        "outputId": "65d35039-505a-4481-d151-0319cbc233f1"
      },
      "source": [
        "'https://koreajoongangdaily.joins.com//2020/05/18/industry/caption-uniform-uniforms-at//20200518200509322.html'.split('/')[6]"
      ],
      "execution_count": 49,
      "outputs": [
        {
          "output_type": "execute_result",
          "data": {
            "application/vnd.google.colaboratory.intrinsic+json": {
              "type": "string"
            },
            "text/plain": [
              "'18'"
            ]
          },
          "metadata": {
            "tags": []
          },
          "execution_count": 49
        }
      ]
    },
    {
      "cell_type": "code",
      "metadata": {
        "colab": {
          "base_uri": "https://localhost:8080/",
          "height": 34
        },
        "id": "CziluMNQOUSh",
        "outputId": "628a7da1-7125-48dc-8f2f-bab98d042f30"
      },
      "source": [
        "'https://koreajoongangdaily.joins.com/2020/11/12/sports/more/Teddy-LoL-T1/20201112170206914.html'.split('/')[6]"
      ],
      "execution_count": 66,
      "outputs": [
        {
          "output_type": "execute_result",
          "data": {
            "application/vnd.google.colaboratory.intrinsic+json": {
              "type": "string"
            },
            "text/plain": [
              "'sports'"
            ]
          },
          "metadata": {
            "tags": []
          },
          "execution_count": 66
        }
      ]
    },
    {
      "cell_type": "code",
      "metadata": {
        "colab": {
          "base_uri": "https://localhost:8080/"
        },
        "id": "GxXqQOvAOXb_",
        "outputId": "a0a7b085-3214-477e-a230-98abfe3ebb8e"
      },
      "source": [
        "len('https://koreajoongangdaily.joins.com/2020/11/12/sports/more/Teddy-LoL-T1/20201112170206914.html'.split('/'))"
      ],
      "execution_count": 67,
      "outputs": [
        {
          "output_type": "execute_result",
          "data": {
            "text/plain": [
              "10"
            ]
          },
          "metadata": {
            "tags": []
          },
          "execution_count": 67
        }
      ]
    },
    {
      "cell_type": "code",
      "metadata": {
        "colab": {
          "base_uri": "https://localhost:8080/",
          "height": 34
        },
        "id": "mWTlQ6iVO0MB",
        "outputId": "c80665dc-a958-4aa4-c87d-aa5044ee128a"
      },
      "source": [
        "'https://koreajoongangdaily.joins.com/2020/11/12/sports/more/Teddy-LoL-T1/20201112170206914.html'.split('/')[6]"
      ],
      "execution_count": 68,
      "outputs": [
        {
          "output_type": "execute_result",
          "data": {
            "application/vnd.google.colaboratory.intrinsic+json": {
              "type": "string"
            },
            "text/plain": [
              "'sports'"
            ]
          },
          "metadata": {
            "tags": []
          },
          "execution_count": 68
        }
      ]
    },
    {
      "cell_type": "markdown",
      "metadata": {
        "id": "YULhL9dIM-7j"
      },
      "source": [
        "카테고리 정제\n",
        "```python\n",
        "url_split = url.split('/')\n",
        "```\n",
        "- url 깊이가 9인 것  -> 6\n",
        "- url 깊이가 10인 것 -> 7"
      ]
    },
    {
      "cell_type": "code",
      "metadata": {
        "id": "GDmec0TOLnEU"
      },
      "source": [
        " def extract_category(url):\n",
        "  url_split = url.split(\"/\")\n",
        "  if len(url_split) > 10:\n",
        "    return url_split[7]\n",
        "\n",
        "  return url_split[6]"
      ],
      "execution_count": 69,
      "outputs": []
    },
    {
      "cell_type": "code",
      "metadata": {
        "id": "ZY8UhoOyMt8S"
      },
      "source": [
        "df_docs['category'] = df_docs['urls'].apply(extract_category)"
      ],
      "execution_count": 70,
      "outputs": []
    },
    {
      "cell_type": "code",
      "metadata": {
        "id": "mTjz8cX_H2K-",
        "colab": {
          "base_uri": "https://localhost:8080/"
        },
        "outputId": "c826dd87-dca6-4e64-c110-43eee5d38228"
      },
      "source": [
        "df_docs.iloc[5142, :].values"
      ],
      "execution_count": 75,
      "outputs": [
        {
          "output_type": "execute_result",
          "data": {
            "text/plain": [
              "array([\"\\nOlympic athletes' return to training center postponed \\n                  The scheduled return of Korean Olympic athletes to the national training center has been pushed back by a week in light of a recent spike in new coronavirus cases.     \\xa0     The Korean Sport & Olympic Committee (KSOC) said Monday that the first batch of athletes and coaches who had been set to re-enter the Jincheon National Training Center this week will do so next week.     \\xa0     They had cleared out of the training center in March, after the 2020 Tokyo Olympics got postponed by one year due to the coronavirus pandemic.\\xa0     \\xa0     The KSOC sent some 500 athletes and coaches home to recharge — they had been holed up inside the national center for months on end — and then sanitized Jincheon gyms and residence buildings.     \\xa0     Buoyed by a steady decline in Covid-19 cases last month, the KSOC said on April 27 that the athletes will return this week. The plan was thrown off track over the weekend, as the country saw a surge in cases connected to clubs and bars in Seoul's multicultural neighborhood of Itaewon.     \\xa0     Athletes must first undergo Covid-19 tests before returning to Jincheon.     \\xa0     Yonhap\\xa0     \\xa0   \",\n",
              "       'https://koreajoongangdaily.joins.com//2020/05/11/more/briefs-training-center-national-training//20200511164600107.html',\n",
              "       'more'], dtype=object)"
            ]
          },
          "metadata": {
            "tags": []
          },
          "execution_count": 75
        }
      ]
    },
    {
      "cell_type": "code",
      "metadata": {
        "colab": {
          "base_uri": "https://localhost:8080/"
        },
        "id": "ezBeYTYiNZr0",
        "outputId": "88a3c43a-eaaf-4116-a46a-32de9fb058e0"
      },
      "source": [
        "for group, doc in df_docs.groupby('category'):\n",
        "  print(group)\n",
        "  print(doc)\n",
        "  print('-' * 100)"
      ],
      "execution_count": 72,
      "outputs": [
        {
          "output_type": "stream",
          "text": [
            "Baseball\n",
            "                                                article  ...  category\n",
            "4629  \\nPowerful pitching keeps Dinos at the top of ...  ...  Baseball\n",
            "4633  \\nHigh school teammates find success as rival ...  ...  Baseball\n",
            "4662  \\nKang Jung-ho wants to come back to Heroes\\n ...  ...  Baseball\n",
            "4663  \\nKiwoom parts ways with Taylor Motter after a...  ...  Baseball\n",
            "4948  \\nDinos shine over weekend, continue dominatin...  ...  Baseball\n",
            "...                                                 ...  ...       ...\n",
            "9964  \\nRyu says it would be nice to play with Choo\\...  ...  Baseball\n",
            "9965  \\nTop MLB prospect watches and learns at WBSC ...  ...  Baseball\n",
            "9997  \\nRyu Hyun-jin very nearly wins Cy Young Award...  ...  Baseball\n",
            "9998  \\nPark Byung-ho just isn’t hitting like Park B...  ...  Baseball\n",
            "9999  \\nMexico's success is all about the scouting\\n...  ...  Baseball\n",
            "\n",
            "[362 rows x 3 columns]\n",
            "----------------------------------------------------------------------------------------------------\n",
            "artsDesign\n",
            "                                                article  ...    category\n",
            "4796  \\nIn times of crisis, culture is more than a l...  ...  artsDesign\n",
            "4829  \\nBiennales worldwide shift schedules due to v...  ...  artsDesign\n",
            "4993  \\n2020 Yumin Awards honor visionaries of Korea...  ...  artsDesign\n",
            "5168  \\nMuseums carefully open up as virus outbreak ...  ...  artsDesign\n",
            "5169  \\nArt celebrates anniversary of Gwangju democr...  ...  artsDesign\n",
            "5316  \\nPKM showcases later works of Yun Hyong-keun\\...  ...  artsDesign\n",
            "5317  \\nA celebration of relationships over the year...  ...  artsDesign\n",
            "5402  \\nWhimsical wall of doughnuts inspires hope\\n\\...  ...  artsDesign\n",
            "5666  \\nMuseums turn to the internet to make sure ar...  ...  artsDesign\n",
            "5667  \\n2020.4.20 Museums & Galleries\\nMenschen, Bil...  ...  artsDesign\n",
            "6027  \\nDevotional art\\n\\n\\n\\n\\n\\n\\n\\nA painting by ...  ...  artsDesign\n",
            "6244  \\nA colorful touch of light known worldwide: A...  ...  artsDesign\n",
            "6375  \\nViewers participate as democracy becomes art...  ...  artsDesign\n",
            "6376  \\nGerman artist’s unique exhibition shows ‘Som...  ...  artsDesign\n",
            "6413  \\nOnline museum tours give those stuck at home...  ...  artsDesign\n",
            "7069  \\nNational museums, libraries close doors due ...  ...  artsDesign\n",
            "7319  \\nInspiration strikes designer after emoji win...  ...  artsDesign\n",
            "7320  \\nPibi exhibits interpretations of relationshi...  ...  artsDesign\n",
            "7321  \\nGalleries Art Fair will feature over 500 art...  ...  artsDesign\n",
            "7571  \\nArt Basel cancels Hong Kong fair\\nArt Basel ...  ...  artsDesign\n",
            "7654  \\nBTS project opens NYC installation\\n        ...  ...  artsDesign\n",
            "7764  \\n2020 promises innovative art and a bit of hi...  ...  artsDesign\n",
            "7876  \\n‘CONNECT, BTS’ dances its way to Dongdaemun:...  ...  artsDesign\n",
            "7878  \\nStories from ARMY bring Yiyun Kang’s ‘Beyond...  ...  artsDesign\n",
            "8232  \\n[EXCLUSIVE] BTS unveils international art pr...  ...  artsDesign\n",
            "8328  \\nWhen inspiration strikes: Exhibit highlights...  ...  artsDesign\n",
            "8329  \\nExplore each color of the rainbow\\n\\n\\n\\n\\n\\...  ...  artsDesign\n",
            "8330  \\n2020.1.13 Museums & Galleries\\n\\n\\n\\n\\n\\n\\n\\...  ...  artsDesign\n",
            "8528  \\nLouvre cuts back on the crowds after totals ...  ...  artsDesign\n",
            "8705  \\nDaniel Boyd’s works are more than meets the ...  ...  artsDesign\n",
            "8706  \\nAbstract art pioneer Park Seo-bo returns to ...  ...  artsDesign\n",
            "8707  \\nUnderstanding the ties that connect us and m...  ...  artsDesign\n",
            "8804  \\nStepping into the shadows to see both sides:...  ...  artsDesign\n",
            "8973  \\n‘I am an artist, not a painter.’: Zhang Xiao...  ...  artsDesign\n",
            "8974  \\nJenny Holzer lets the words do the talking\\n...  ...  artsDesign\n",
            "9129  \\nCreating space for an artist’s works to live...  ...  artsDesign\n",
            "9133  \\nExhibits highlight video art history\\n\\n\\n\\n...  ...  artsDesign\n",
            "9507  \\nPutting down the pencil to pick up the paint...  ...  artsDesign\n",
            "9508  \\n‘Eternal Now’ shows us past is in the presen...  ...  artsDesign\n",
            "9675  \\nThe unparalleled ‘Universe’ of Whanki: Korea...  ...  artsDesign\n",
            "9691  \\nArt auction sets new records for Kim Whanki\\...  ...  artsDesign\n",
            "9700  \\nKim Whanki becomes first Korean artist to br...  ...  artsDesign\n",
            "9932  \\nInvestigating the entangled world we live in...  ...  artsDesign\n",
            "9933  \\nSejong Center to rebrand its museum in 2021\\...  ...  artsDesign\n",
            "9934  \\nExploring the art of lying, one work at a ti...  ...  artsDesign\n",
            "9935  \\nFallen fruit\\n\\n\\n\\n\\n\\n\\n\\nThe “Reflections...  ...  artsDesign\n",
            "9938  \\nStar photographers\\n\\n\\n\\n\\n\\n\\n\\nKukje Gall...  ...  artsDesign\n",
            "\n",
            "[47 rows x 3 columns]\n",
            "----------------------------------------------------------------------------------------------------\n",
            "books\n",
            "                                                article  ... category\n",
            "4650  \\nForget K-pop, K-literature is making waves \\...  ...    books\n",
            "4665  \\n2020.6.1 New Arrivals\\n     l  Limitless Min...  ...    books\n",
            "4668  \\nFrom detailed drawings to doodles, the new l...  ...    books\n",
            "5163  \\nSeoul International Book Fair will be reform...  ...    books\n",
            "5246  \\nKorean dermatologist demystifies K-beauty fo...  ...    books\n",
            "5253  \\n[Hyerim's Pick] Debut book offers a look int...  ...    books\n",
            "5335  \\nHe literally wrote the book on sushi\\n\\n\\n\\n...  ...    books\n",
            "5961  \\n[Hye-rim's Pick] Finding common ground in th...  ...    books\n",
            "6098  \\nBaek Heena’s ‘Cloud Bread’ brings home ALMA ...  ...    books\n",
            "6601  \\nDid a 1981 book predict Covid-19?: Local con...  ...    books\n",
            "6783  \\nDave Matthews was inspired by daughters to w...  ...    books\n",
            "6905  \\n[Hye-rim's Pick] Getting the basics right an...  ...    books\n",
            "7104  \\nTraditions of Korea examined in new book ser...  ...    books\n",
            "7613  \\nCurl up with a good book all night long: The...  ...    books\n",
            "7614  \\n2020.2.7 New Arrivals\\n\\n\\n\\n\\n\\n\\n\\nI Heard...  ...    books\n",
            "8002  \\nFrom stares to swears - realities of Korean ...  ...    books\n",
            "8116  \\n2020.1.20 New Arrivals\\n\\n\\n\\n\\n\\n\\n\\nWhat Y...  ...    books\n",
            "8532  \\n2020.1.6 New Arrivals\\n\\n\\n\\n\\n\\n\\n\\nStillne...  ...    books\n",
            "9303  \\nHiker humble as she achieves a first in Hima...  ...    books\n",
            "9304  \\n2019.12.9 New Arrivals\\n\\n\\n\\n\\n\\n\\n\\nThe Mo...  ...    books\n",
            "\n",
            "[20 rows x 3 columns]\n",
            "----------------------------------------------------------------------------------------------------\n",
            "business\n",
            "                                                article  ...  category\n",
            "0     \\nBetter to give property than to receive a bi...  ...  business\n",
            "1     \\n[NEWS ANALYSIS] As foreigners rush back, mar...  ...  business\n",
            "2     \\nSK Telcom merges two security services subsi...  ...  business\n",
            "3     \\nBorder restrictions drastically cut North Ko...  ...  business\n",
            "4     \\nBureaucracy weighs in on AI, gives it a to-d...  ...  business\n",
            "...                                                 ...  ...       ...\n",
            "4590  \\nShipbuilders sign 23.6 trillion won LNG vess...  ...  business\n",
            "4591  \\nKospi extends winning streak, jumping up 1 p...  ...  business\n",
            "4595  \\nYogiyo fined for bullying restaurants on pri...  ...  business\n",
            "4599  \\nKorea to reopen WTO complaint as Japan remai...  ...  business\n",
            "4603  \\nMonthly inflation goes negative for second t...  ...  business\n",
            "\n",
            "[1948 rows x 3 columns]\n",
            "----------------------------------------------------------------------------------------------------\n",
            "culture\n",
            "                                                article  ... category\n",
            "34    \\n2020.11.16 Hotel Events\\n      Grand InterCo...  ...  culture\n",
            "37    \\nMaster classes, meal kits and must-make reci...  ...  culture\n",
            "59    \\nGilt-bronze phoenix padlock uncovered for fi...  ...  culture\n",
            "71    \\nNCSoft's first foray into console games rece...  ...  culture\n",
            "75    \\nGame publisher Nexon to launch new arts and ...  ...  culture\n",
            "...                                                 ...  ...      ...\n",
            "4549  \\nHome décor brand Kitty Bunny Pony makes char...  ...  culture\n",
            "4555  \\nNewly unearthed head of Buddha could be 'twi...  ...  culture\n",
            "4579  \\nThe Gwangju Uprising as seen through ‘blue e...  ...  culture\n",
            "4593  \\nNew center aims to display beauty and versat...  ...  culture\n",
            "4598  \\nSeoul city offering funding to apparel compa...  ...  culture\n",
            "\n",
            "[276 rows x 3 columns]\n",
            "----------------------------------------------------------------------------------------------------\n",
            "defense\n",
            "                                                article  ... category\n",
            "4623  \\nHomage to patriots\\n                        ...  ...  defense\n",
            "4626  \\nKorea to send troops, medical supplies to So...  ...  defense\n",
            "4756  \\nTop Korean, U.S. defense officials to hold t...  ...  defense\n",
            "4947  \\nKorea provides masks, medical supplies to Na...  ...  defense\n",
            "5008  \\nThe support of the people\\n                 ...  ...  defense\n",
            "5055  \\nSouth's response to gunfire from North took ...  ...  defense\n",
            "5087  \\nTroop deployment to South Sudan offers chanc...  ...  defense\n",
            "5109  \\nSo long and farewell \\n             At a nav...  ...  defense\n",
            "5204  \\nU.S. asking Korea for 50% increase in defens...  ...  defense\n",
            "5241  \\nU.S. expects 'flexibility' from Korea on cos...  ...  defense\n",
            "5250  \\nSouth resumes excavation of remains of falle...  ...  defense\n",
            "5280  \\nEsper confident about 'readiness' of U.S. tr...  ...  defense\n",
            "5321  \\nFurloughed workers' law to help Korea's SMA ...  ...  defense\n",
            "\n",
            "[13 rows x 3 columns]\n",
            "----------------------------------------------------------------------------------------------------\n",
            "diplomacy\n",
            "                                                article  ...   category\n",
            "4631  \\nPompeo looks to Korea and other 'partners' a...  ...  diplomacy\n",
            "4694  \\nForeign residents face new restrictions retu...  ...  diplomacy\n",
            "4714  \\nBeijing consults Seoul on Hong Kong security...  ...  diplomacy\n",
            "4851  \\nKorea starts group to respond to viruses wit...  ...  diplomacy\n",
            "4887  \\nKorea named executive board member of WHO \\n...  ...  diplomacy\n",
            "4892  \\nSeoul slams Tokyo's bluebook claims over Dok...  ...  diplomacy\n",
            "4963  \\nSo long, farewell \\n                        ...  ...  diplomacy\n",
            "5051  \\nKorea-led initiative in UN launches to comba...  ...  diplomacy\n",
            "5137  \\nKorea sends 2 million masks to the United St...  ...  diplomacy\n",
            "5197  \\nCelebrating Europe Day... but virtually \\n  ...  ...  diplomacy\n",
            "5203  \\nSingapore ambassador talks Kim, corona and c...  ...  diplomacy\n",
            "5208  \\nFace masks being sent abroad to Korean War v...  ...  diplomacy\n",
            "5238  \\nSouth Sudanese girl arrives in Seoul for sur...  ...  diplomacy\n",
            "5366  \\n340 business travelers allowed into Vietnam\\...  ...  diplomacy\n",
            "7089  \\nAsean handshake\\n\\n\\n\\n\\n\\n\\n\\nAmbassadors o...  ...  diplomacy\n",
            "7603  \\nBritish ambassador dispels Brexit worries\\n\\...  ...  diplomacy\n",
            "8126  \\nPaying tribute and prose\\n\\n\\n\\n\\n\\n\\n\\nAmba...  ...  diplomacy\n",
            "\n",
            "[17 rows x 3 columns]\n",
            "----------------------------------------------------------------------------------------------------\n",
            "economy\n",
            "                                                article  ... category\n",
            "4606  \\nNo reply from Japan on Korea's call to lift ...  ...  economy\n",
            "4621  \\nMoon's Korean New Deal detailed\\n     Presid...  ...  economy\n",
            "4630  \\nExports plummet 23.7 percent in May\\n       ...  ...  economy\n",
            "4649  \\nProperty problems\\n                         ...  ...  economy\n",
            "4672  \\nIndustrial output shows sharpest decline in ...  ...  economy\n",
            "...                                                 ...  ...      ...\n",
            "9947  \\nMedical tour hotel rules are updated\\n      ...  ...  economy\n",
            "9948  \\nKorean, Japanese business leaders discuss ti...  ...  economy\n",
            "9949  \\nRail workers plan strike from next Wednesday...  ...  economy\n",
            "9970  \\nSK Innovation accused of spoiling evidence\\n...  ...  economy\n",
            "9990  \\nAsean-Korea summit to open door for innovati...  ...  economy\n",
            "\n",
            "[484 rows x 3 columns]\n",
            "----------------------------------------------------------------------------------------------------\n",
            "englishStudy\n",
            "                                                article  ...      category\n",
            "2495  \\n[THINK ENGLISH] Twice meets Once during virt...  ...  englishStudy\n",
            "\n",
            "[1 rows x 3 columns]\n",
            "----------------------------------------------------------------------------------------------------\n",
            "entertainment\n",
            "                                                article  ...       category\n",
            "7     \\nRiot Games hires 1MILLION to create dance\\n ...  ...  entertainment\n",
            "10    \\nSeventeen to perform 'Fallin' Flower' in Kor...  ...  entertainment\n",
            "11    \\nYG founder fined for gambling in Los Angeles...  ...  entertainment\n",
            "12    \\nWant a sneak preview of Kai's new album? Che...  ...  entertainment\n",
            "24    \\nTime for tea\\n     [ILGAN SPORTS]         Si...  ...  entertainment\n",
            "...                                                 ...  ...            ...\n",
            "4594  \\nGao Ming’s 'Damp Season' takes JIFF's intern...  ...  entertainment\n",
            "4600  \\n'King of the ballads' Shin Seung-hun cancels...  ...  entertainment\n",
            "4601  \\nBig Hit Entertainment opens global audition ...  ...  entertainment\n",
            "4602  \\nSuga becomes highest ranking Korean solo sin...  ...  entertainment\n",
            "4604  \\nBlackpink's Lisa conned out of over 1 billio...  ...  entertainment\n",
            "\n",
            "[844 rows x 3 columns]\n",
            "----------------------------------------------------------------------------------------------------\n",
            "etc\n",
            "                                                article  ... category\n",
            "4781  \\nAssembly speaker Moon reflects on decades in...  ...      etc\n",
            "4974  \\nFlower boys\\n     Seventeen [PLEDIS ENTERTAI...  ...      etc\n",
            "5083  \\nPresident of nursing association talks secon...  ...      etc\n",
            "5265  \\nAjou's president is preoccupied with solving...  ...      etc\n",
            "5324  \\nEastern European physicians  on the battlefi...  ...      etc\n",
            "...                                                 ...  ...      ...\n",
            "9985  \\n‘Frozen’ directors coming to Seoul\\n        ...  ...      etc\n",
            "9986  \\nCJ ENM, Disney are neck and neck\\n          ...  ...      etc\n",
            "9987  \\nKorean musical heads to theaters\\n          ...  ...      etc\n",
            "9988  \\nBlackpink makes Time 100 Next list\\n        ...  ...      etc\n",
            "9989  \\nTest time\\n\\n\\n\\n\\n\\n\\n\\nSinger Jeon So-mi s...  ...      etc\n",
            "\n",
            "[809 rows x 3 columns]\n",
            "----------------------------------------------------------------------------------------------------\n",
            "features\n",
            "                                                article  ...  category\n",
            "4966  \\nDrag and drop: Deepfakes create a new kind o...  ...  features\n",
            "5264  \\nFor Chapter1, trendsetting starts in the hom...  ...  features\n",
            "5334  \\n‘Friend fouling’ is latest battle in war aga...  ...  features\n",
            "5478  \\nBuilding up a neighborhood, one shop at a ti...  ...  features\n",
            "5711  \\nArtist adds special touch to an elegant trad...  ...  features\n",
            "5767  \\nHan Jeong-hee’s love of plums inspires a hit...  ...  features\n",
            "5840  \\nFrom a pretty face to businesswoman: Ulzzang...  ...  features\n",
            "5881  \\nMemories of living life with Alzheimer’s: Ki...  ...  features\n",
            "5964  \\nLaka finds the gender-neutral sweet spot\\n\\n...  ...  features\n",
            "6001  \\nDefying gender goes mainstream: Across enter...  ...  features\n",
            "6030  \\nScouring the globe for small treasures that ...  ...  features\n",
            "6143  \\nThe spark that ignited the ‘Nth room’ fire\\n...  ...  features\n",
            "6153  \\nWhen pets become lifelong companions: At 20 ...  ...  features\n",
            "6200  \\n[DEBRIEFING] ‘Nth room’: A digital prison of...  ...  features\n",
            "6240  \\nNurse returns to the front lines to do her p...  ...  features\n",
            "6281  \\nRebuilding their young lives after Shincheon...  ...  features\n",
            "6412  \\nUnglazed and flawed: The calming beauty of c...  ...  features\n",
            "6490  \\n[DEBRIEFING] What is the Shincheonji Church ...  ...  features\n",
            "6522  \\nShoe repairman steps up in times of need: Ki...  ...  features\n",
            "6562  \\nOnline gaming creates a whole new world: Kor...  ...  features\n",
            "6663  \\nBacklash to transgender student sparks dialo...  ...  features\n",
            "6668  \\nPani hopes to open minds, one question at a ...  ...  features\n",
            "6748  \\nHairstylist always tries to be ahead of the ...  ...  features\n",
            "6904  \\nThe dawn of a new millennium in Korea: Remem...  ...  features\n",
            "7110  \\nAre ‘real dolls’ more than a toy?: Debate ov...  ...  features\n",
            "7146  \\nCentury of Korean film: 100 years after firs...  ...  features\n",
            "7282  \\nWhere ‘Parasite’ comes to life: A visit to e...  ...  features\n",
            "7322  \\nIksan beckons for buffs of recent Korean his...  ...  features\n",
            "7497  \\nKorea’s expanding role in preserving the Arc...  ...  features\n",
            "7550  \\nOutbreak leads to rapid spread of xenophobia...  ...  features\n",
            "7609  \\nAt 100, philosopher finds joy in freedom: Ki...  ...  features\n",
            "7830  \\nCapturing Bong Joon-ho’s vision in photograp...  ...  features\n",
            "8113  \\nTaking the first steps toward sustainable fa...  ...  features\n",
            "8114  \\nHotels plan to retire those little plastic b...  ...  features\n",
            "8331  \\nParents learn to adapt to world of kid-free ...  ...  features\n",
            "8415  \\nThrough dance, a new start: Movement classes...  ...  features\n",
            "8418  \\nJury selection in Weinstein case could prove...  ...  features\n",
            "8683  \\nKorea's top culture stories of 2019: A look ...  ...  features\n",
            "8774  \\nGangwon students dive into the world of anal...  ...  features\n",
            "8861  \\n‘Produce’ series failed to deliver on its pr...  ...  features\n",
            "9083  \\nFans place blame on CJ ENM for ‘Produce’ sca...  ...  features\n",
            "9151  \\nGlobal Christmas treats come to Seoul: At ma...  ...  features\n",
            "9152  \\nThe Pacific Alliance film fest makes its way...  ...  features\n",
            "9301  \\nInclusive design gives the blind independenc...  ...  features\n",
            "9302  \\nClimate change and banana art are hot topics...  ...  features\n",
            "9367  \\nIndoor thrills offer warm ways to beat the c...  ...  features\n",
            "9485  \\nEurope’s Hallyu fans find a new home at Pari...  ...  features\n",
            "9486  \\nDemand for Korean grows in French schools\\n\\...  ...  features\n",
            "9569  \\nTwo of the three Albertos market Zumba’s mag...  ...  features\n",
            "9766  \\nKorean Culture Center in Paris reopens its d...  ...  features\n",
            "9778  \\nBrave dogs step up to make blood donations: ...  ...  features\n",
            "9911  \\nCoffee grounds find a new life as eco-friend...  ...  features\n",
            "9915  \\nPrague museum displays totalitarian-era surv...  ...  features\n",
            "9966  \\nIncheon welcomes the world’s top talent: The...  ...  features\n",
            "\n",
            "[54 rows x 3 columns]\n",
            "----------------------------------------------------------------------------------------------------\n",
            "finance\n",
            "                                                article  ... category\n",
            "4608  \\nThe market’s back \\n                        ...  ...  finance\n",
            "4609  \\nStocks jump as Moon talks budget, Trump hedg...  ...  finance\n",
            "4620  \\nHana Financial Group launches digital insura...  ...  finance\n",
            "4689  \\nJump in Covid-19 cases ends Kospi winning st...  ...  finance\n",
            "4699  \\nFintech convention held virtually this year\\...  ...  finance\n",
            "...                                                 ...  ...      ...\n",
            "9713  \\nWorries lead foreigners to unload stocks for...  ...  finance\n",
            "9736  \\n8 new financial sandboxes announced by FSC\\n...  ...  finance\n",
            "9773  \\nBanks protest planned restriction on high-ri...  ...  finance\n",
            "9972  \\nPEF minimums to be increased\\n              ...  ...  finance\n",
            "9973  \\nBond binge defended by the Finance Ministry\\...  ...  finance\n",
            "\n",
            "[203 rows x 3 columns]\n",
            "----------------------------------------------------------------------------------------------------\n",
            "foodTravel\n",
            "                                                article  ...    category\n",
            "4700  \\nThe plates might be small, but the story beh...  ...  foodTravel\n",
            "4708  \\n2020.5.28 Hotel events\\n        Park Hyatt S...  ...  foodTravel\n",
            "4856  \\nUp in the air while the world shuts down\\n  ...  ...  foodTravel\n",
            "4922  \\nYoung brewers connect the past to the presen...  ...  foodTravel\n",
            "4940  \\nSurge in plastic during virus frustrates Tha...  ...  foodTravel\n",
            "4994  \\nGourmet in a box  \\n                        ...  ...  foodTravel\n",
            "5032  \\nArtist breathes new life into disposed glass...  ...  foodTravel\n",
            "5045  \\n2020.5.14 Hotel events\\n                    ...  ...  foodTravel\n",
            "5192  \\nEnjoy a breath of fresh air from a safe dist...  ...  foodTravel\n",
            "5196  \\n2020.5.8 Hotel Events\\nGrand InterContinenta...  ...  foodTravel\n",
            "5200  \\nChef brings French pastry favorites to Seoul...  ...  foodTravel\n",
            "5383  \\nActors and others organize and post against ...  ...  foodTravel\n",
            "5384  \\nNetflix’s revenue in Korea increased 10,000 ...  ...  foodTravel\n",
            "\n",
            "[13 rows x 3 columns]\n",
            "----------------------------------------------------------------------------------------------------\n",
            "football\n",
            "                                                article  ...  category\n",
            "4697  \\nPromoted K League clubs struggle to make a m...  ...  football\n",
            "5046  \\nFormer teammates join forces to take Seongna...  ...  football\n",
            "5099  \\nRegrets? Ulsan FC's head coach has a few...\\...  ...  football\n",
            "5141  \\nJeonbuk's Lee scores winner against Suwon\\n ...  ...  football\n",
            "5209  \\nDaegu FC's 'trio' ready to prove what they'r...  ...  football\n",
            "5245  \\nK League football season to finally kick off...  ...  football\n",
            "6229  \\nDecision on 2020 Games to be based on qualit...  ...  football\n",
            "7207  \\nJays hope Ryu will galvanize the local Korea...  ...  football\n",
            "7911  \\nAFC champions\\n\\n\\n\\n\\n\\n\\n\\nNational footba...  ...  football\n",
            "7914  \\nKorea beats Saudi Arabia 1-0 for U-23 AFC ti...  ...  football\n",
            "8216  \\nAn Chang-rim seeks redemption in Tokyo\\n\\n\\n...  ...  football\n",
            "8217  \\nLPGA Tour heats up competition for Olympics\\...  ...  football\n",
            "8218  \\nLee Woo-seok aims to break his curse and hit...  ...  football\n",
            "8319  \\nRadiation concerns overshadow Tokyo\\n\\n\\n\\n\\...  ...  football\n",
            "8320  \\nGangwon to host 2024 Winter Youth Olympics\\n...  ...  football\n",
            "9371  \\nBell names squad for EAFF E-1 Tournament\\n\\n...  ...  football\n",
            "9442  \\nNo Ballon d’Or, but Son comes closer than an...  ...  football\n",
            "9444  \\nKorea U-20 team coach honored at AFC awards\\...  ...  football\n",
            "\n",
            "[18 rows x 3 columns]\n",
            "----------------------------------------------------------------------------------------------------\n",
            "golf\n",
            "                                                article  ... category\n",
            "4647  \\nLee So-young wins at South Springs with a lo...  ...     golf\n",
            "4687  \\nLee So-young out in front after Day 1 of E1 ...  ...     golf\n",
            "4973  \\n Park Hyun-kyung claims first KLPGA win as T...  ...     golf\n",
            "5004  \\nSafety first\\n                              ...  ...     golf\n",
            "5011  \\nKLPGA finally tees off with the 42nd Champio...  ...     golf\n",
            "5059  \\nKorean golf stars to face off in 'Super Matc...  ...     golf\n",
            "5216  \\nKLPGA ups purse, expands field for season's ...  ...     golf\n",
            "\n",
            "[7 rows x 3 columns]\n",
            "----------------------------------------------------------------------------------------------------\n",
            "imageNews\n",
            "                                                article  ...   category\n",
            "42    \\nBooze boom\\n                           Beer ...  ...  imageNews\n",
            "43    \\n Move over Federer \\n                       ...  ...  imageNews\n",
            "88    \\nLearning about LPs\\n     Models pose with LP...  ...  imageNews\n",
            "89    \\nJoining hands for MOU\\n                     ...  ...  imageNews\n",
            "91    \\nSaemangeum support\\n     Prime Minister Chun...  ...  imageNews\n",
            "...                                                 ...  ...        ...\n",
            "4537  \\nBack in business\\n     Visitors look at gard...  ...  imageNews\n",
            "4569  \\nReuse and recycle\\n                         ...  ...  imageNews\n",
            "4570  \\nReady for summer \\n      A worker assembles ...  ...  imageNews\n",
            "4571  \\nTesting the tests \\n                        ...  ...  imageNews\n",
            "4582  \\nBrass salute\\n     President Moon Jae-in, ri...  ...  imageNews\n",
            "\n",
            "[224 rows x 3 columns]\n",
            "----------------------------------------------------------------------------------------------------\n",
            "industry\n",
            "                                                article  ...  category\n",
            "4607  \\nNowhere to go\\n                           An...  ...  industry\n",
            "4610  \\nSKC to invest 120 billion won in new copper ...  ...  industry\n",
            "4611  \\nP2 NAND line operational in late 2021, Samsu...  ...  industry\n",
            "4612  \\nHyundai Oilbank becomes Korea's No. 2 gas st...  ...  industry\n",
            "4613  \\nVolvo Korea to offer car part warranty for l...  ...  industry\n",
            "...                                                 ...  ...       ...\n",
            "9977  \\nOver 24,000 vehicles to be recalled\\n       ...  ...  industry\n",
            "9979  \\nHyundai Motor to build Santa Cruz in Alabama...  ...  industry\n",
            "9980  \\nKorean Air blames trade war for third quarte...  ...  industry\n",
            "9981  \\nDoosan Group shows off its latest products i...  ...  industry\n",
            "9982  \\nLearning is fun\\n\\n\\n\\n\\n\\n\\n\\nA mother and ...  ...  industry\n",
            "\n",
            "[1507 rows x 3 columns]\n",
            "----------------------------------------------------------------------------------------------------\n",
            "koreanHeritage\n",
            "                                                article  ...        category\n",
            "4636  \\n[National Treasure] Gilt-bronze Standing Bud...  ...  koreanHeritage\n",
            "4637  \\nGilt-bronze shoes uncovered at Silla Dynasty...  ...  koreanHeritage\n",
            "4641  \\n[Living Tradition] Bamboo document \\n     [K...  ...  koreanHeritage\n",
            "4701  \\nKansong family offers treasures at auction, ...  ...  koreanHeritage\n",
            "4765  \\nItineraries launched to make the most of Kor...  ...  koreanHeritage\n",
            "4767  \\n[Zoom Korea] Works that burst with color and...  ...  koreanHeritage\n",
            "4800  \\nMedallions to aid return of overseas Korean ...  ...  koreanHeritage\n",
            "4836  \\nKansong family forced to sell two Korean tre...  ...  koreanHeritage\n",
            "4910  \\nExhibit shows Joseon era’s experience with e...  ...  koreanHeritage\n",
            "4977  \\nTaking a historic stroll where Korea's democ...  ...  koreanHeritage\n",
            "4981  \\nSpecial exhibition hopes to shed light on Gw...  ...  koreanHeritage\n",
            "5294  \\nBusan hospital monument is now cultural heri...  ...  koreanHeritage\n",
            "5451  \\nScientists behind ancient water clock discov...  ...  koreanHeritage\n",
            "5452  \\n[National Treasure] Transcription of The Lot...  ...  koreanHeritage\n",
            "5453  \\n[Living Tradition] Australia’s moon\\n\\n\\n\\n\\...  ...  koreanHeritage\n",
            "5626  \\nJeju’s natural wonders now globally accessib...  ...  koreanHeritage\n",
            "5628  \\n[Living Tradition] Foreign visitors\\n\\n\\n\\n\\...  ...  koreanHeritage\n",
            "5631  \\n[National Treasure] Gilt-bronze Standing Bod...  ...  koreanHeritage\n",
            "5678  \\nAccounts of the April 19 Movement may be reg...  ...  koreanHeritage\n",
            "5805  \\nSilla Dynasty horse armor requires a big lif...  ...  koreanHeritage\n",
            "5806  \\n[National Treasure] Gilt-bronze Bodhisattva ...  ...  koreanHeritage\n",
            "5807  \\nBaby beetle\\n\\n\\n\\n\\n\\n\\n\\nKorea’s Cultural ...  ...  koreanHeritage\n",
            "5916  \\nWolseong to provide foreign language info fo...  ...  koreanHeritage\n",
            "5994  \\nAR alpacas\\n\\n\\n\\n\\n\\n\\n\\nIn “Deoksu Palace ...  ...  koreanHeritage\n",
            "6102  \\nTalchum submitted to Unesco for recognition\\...  ...  koreanHeritage\n",
            "6677  \\nGimcheon home of Na Hwa-rang is named a cult...  ...  koreanHeritage\n",
            "6792  \\nWedding wear\\n\\n\\n\\n\\n\\n\\n\\nA wedding robe w...  ...  koreanHeritage\n",
            "6899  \\nSerene centers for scholars reflect Confucia...  ...  koreanHeritage\n",
            "6900  \\n[National Treasure] Certificate issued to Ja...  ...  koreanHeritage\n",
            "7080  \\nIn Norway, finding community with taekwondo:...  ...  koreanHeritage\n",
            "7081  \\n[National Treasure] Valuable Joseon-era lite...  ...  koreanHeritage\n",
            "7188  \\nSeals from Joseon era are returned to Korea\\...  ...  koreanHeritage\n",
            "7668  \\nHow to welcome the first full moon indoors: ...  ...  koreanHeritage\n",
            "7671  \\n[Living Tradition] A look up north\\n\\n\\n\\n\\n...  ...  koreanHeritage\n",
            "7673  \\n[National Treasure] Joseon-era Buncheong Fla...  ...  koreanHeritage\n",
            "7935  \\nFrom the ground up - the evolution of kitche...  ...  koreanHeritage\n",
            "7970  \\nTraditional rhythms\\n\\n\\n\\n\\n\\n\\n\\n“UHEE SKA...  ...  koreanHeritage\n",
            "8087  \\nCities mull whether to keep aging historic s...  ...  koreanHeritage\n",
            "8088  \\n[LIVING TRADITION] An old school look\\n\\n\\n\\...  ...  koreanHeritage\n",
            "8089  \\n[TREASURE] Joseon era flattened bottle with ...  ...  koreanHeritage\n",
            "8273  \\nIn Iksan, the mysteries of Baekje are uneart...  ...  koreanHeritage\n",
            "8503  \\nPreserving Korea’s declining bathhouse cultu...  ...  koreanHeritage\n",
            "8590  \\nExamining the rat’s significance in Korean h...  ...  koreanHeritage\n",
            "8591  \\n[LIVING TRADITION] Finnish craftwork\\n\\n\\n\\n...  ...  koreanHeritage\n",
            "8592  \\n[TREASURE] Buncheong jar used for umbilical ...  ...  koreanHeritage\n",
            "9060  \\nHostage princes experienced Manchu royalty: ...  ...  koreanHeritage\n",
            "9061  \\n[LIVING TRADITION] Historic images\\n\\n\\n\\n\\n...  ...  koreanHeritage\n",
            "9062  \\n[TREASURE] King Seongjong-era painted porcel...  ...  koreanHeritage\n",
            "9439  \\nEloquent beauty of Gaya finally takes center...  ...  koreanHeritage\n",
            "9440  \\n[LIVING TRADITION] Nice to meet you\\n\\n\\n\\n\\...  ...  koreanHeritage\n",
            "9441  \\n[TREASURE] Joseon-era porcelain bowl with el...  ...  koreanHeritage\n",
            "9640  \\nOld, wild and exquisitely packaged: New skin...  ...  koreanHeritage\n",
            "9641  \\nKey Unesco center to be established in Korea...  ...  koreanHeritage\n",
            "9642  \\n[Treasure] Unified Silla candlesticks shine ...  ...  koreanHeritage\n",
            "9643  \\nIsland arts\\n\\n\\n\\n\\n\\n\\n\\nA monthlong exhib...  ...  koreanHeritage\n",
            "9785  \\nUnique ondol system discovered under Gyeongb...  ...  koreanHeritage\n",
            "\n",
            "[56 rows x 3 columns]\n",
            "----------------------------------------------------------------------------------------------------\n",
            "kpop\n",
            "                                                article  ... category\n",
            "4605  \\nTwice top charts with ‘More & More’ EP\\n    ...  ...     kpop\n",
            "4638  \\nBaek A-yeon to release first single in a yea...  ...     kpop\n",
            "4639  \\nRosé, Lisa and Jisoo of Blackpink set to eac...  ...     kpop\n",
            "4640  \\nBTS's 'DNA' surpasses 1 billion views on You...  ...     kpop\n",
            "4643  \\nSuga song quoting cult leader Jim Jones crea...  ...     kpop\n",
            "...                                                 ...  ...      ...\n",
            "5375  \\nAB6IX will have meet-and-greet that follows ...  ...     kpop\n",
            "5381  \\n Coronavirus halts BTS world tour  \\n\\n\\n\\n\\...  ...     kpop\n",
            "5386  \\nOh My Girl’s ‘Nonstop’ conquers ‘Aloha’ to r...  ...     kpop\n",
            "5391  \\nIU and BTS’s Suga teaming up for single to d...  ...     kpop\n",
            "5397  \\nTomorrow X Together to release its second EP...  ...     kpop\n",
            "\n",
            "[99 rows x 3 columns]\n",
            "----------------------------------------------------------------------------------------------------\n",
            "lifeStyle\n",
            "                                                article  ...   category\n",
            "4995  \\nColorful canvas bags are fashion’s hottest s...  ...  lifeStyle\n",
            "5166  \\nHub for creative collaboration provides spac...  ...  lifeStyle\n",
            "5400  \\nWithout fashion week, a time to get creative...  ...  lifeStyle\n",
            "\n",
            "[3 rows x 3 columns]\n",
            "----------------------------------------------------------------------------------------------------\n",
            "more\n",
            "                                                article  ... category\n",
            "5142  \\nOlympic athletes' return to training center ...  ...     more\n",
            "5276  \\nAn old basketball coach always willing to le...  ...     more\n",
            "\n",
            "[2 rows x 3 columns]\n",
            "----------------------------------------------------------------------------------------------------\n",
            "movies\n",
            "                                                article  ... category\n",
            "4634  \\nJeonju International Film Festival postpones...  ...   movies\n",
            "4706  \\n\"Our Cats\" explores creating purrfect harmon...  ...   movies\n",
            "4707  \\nActivist, musician, friend... Director Jee H...  ...   movies\n",
            "4724  \\nDespite appearances, #Alive is most definite...  ...   movies\n",
            "4731  \\nYouTube film fest to stream discussion betwe...  ...   movies\n",
            "...                                                 ...  ...      ...\n",
            "9817  \\n‘Ashfall’ brings new threat to Seoul: a volc...  ...   movies\n",
            "9823  \\n[REVIEW] Disney’s ‘Frozen 2’ takes viewers o...  ...   movies\n",
            "9825  \\n2019.11.20 Now Playing\\nThe Irishman (18)\\nC...  ...   movies\n",
            "9886  \\n‘Black Money’ opens strong, but ‘Frozen’ awa...  ...   movies\n",
            "9887  \\n‘Ford v Ferrari’ speeds past the competition...  ...   movies\n",
            "\n",
            "[161 rows x 3 columns]\n",
            "----------------------------------------------------------------------------------------------------\n",
            "musicPerformance\n",
            "                                                article  ...          category\n",
            "4654  \\nRicky Martin creates an EP for quarantine\\n ...  ...  musicPerformance\n",
            "4670  \\nIt took almost a decade, but pianist Yiruma ...  ...  musicPerformance\n",
            "4889  \\n[FUTURE SOUNDS] Missing live music? Bring it...  ...  musicPerformance\n",
            "5052  \\nYoo Yeon-seok, Kyuhyun to star in 'Werther' ...  ...  musicPerformance\n",
            "5117  \\n[New Release] Lucinda Williams\\n        Luci...  ...  musicPerformance\n",
            "5118  \\n[New Release] Pam Tillis\\n        Pam Tillis...  ...  musicPerformance\n",
            "5126  \\nMusicians worldwide react to death of rock p...  ...  musicPerformance\n",
            "5127  \\n[New Release] Jason Isbell & The 400 Unit\\n ...  ...  musicPerformance\n",
            "5130  \\nVeteran actor Kim Myung-gon returns to the s...  ...  musicPerformance\n",
            "5162  \\nAriana Grande and Justin Bieber release a du...  ...  musicPerformance\n",
            "5167  \\nLittle Richard, architect of rock 'n' roll, ...  ...  musicPerformance\n",
            "5228  \\n Top national theaters set to open after two...  ...  musicPerformance\n",
            "5768  \\nVirus outbreak forces pianist Cho Seong-jin ...  ...  musicPerformance\n",
            "6029  \\nOn stage is the place to be for rookie Yang ...  ...  musicPerformance\n",
            "6105  \\nMusical cast member tests positive for coron...  ...  musicPerformance\n",
            "6108  \\n“The Phantom of the Opera” actor tests posit...  ...  musicPerformance\n",
            "6144  \\nUsing the power of music to help sick patien...  ...  musicPerformance\n",
            "6145  \\n[FUTURE SOUNDS] The key to a hit song in 202...  ...  musicPerformance\n",
            "6462  \\n[NEW RELEASE] NIALL HORAN\\n\\n\\n\\n\\n\\n\\n\\nNIA...  ...  musicPerformance\n",
            "6463  \\n[NEW RELEASE] NCT 127\\n\\n\\n\\n\\n\\n\\n\\nNCT 127...  ...  musicPerformance\n",
            "6464  \\n[NEW RELEASE] JULIANA MACDOWELL\\n\\n\\n\\n\\n\\n\\...  ...  musicPerformance\n",
            "6465  \\nKim Jun-su is at home on stage: Ten years si...  ...  musicPerformance\n",
            "6755  \\nKorean National Ballet in hot water over dan...  ...  musicPerformance\n",
            "6863  \\nCautious performers take their shows online:...  ...  musicPerformance\n",
            "6864  \\nFinding delight in the beautiful lyricism of...  ...  musicPerformance\n",
            "6943  \\n[Review] Classic family feud proves powerful...  ...  musicPerformance\n",
            "7048  \\nPerformers cancel, delay events due to virus...  ...  musicPerformance\n",
            "7217  \\nConveying the power of mothers with haegeum:...  ...  musicPerformance\n",
            "7218  \\nClimate change debate fuels performance\\n\\n\\...  ...  musicPerformance\n",
            "7219  \\n[New Release] MARCUS KING\\n\\n\\n\\n\\n\\n\\n\\nMAR...  ...  musicPerformance\n",
            "7220  \\n[New Release] MAC MILLER\\n\\n\\n\\n\\n\\n\\n\\nMAC ...  ...  musicPerformance\n",
            "7221  \\n[New Release] ALA.NI\\n\\n\\n\\n\\n\\n\\n\\nALA.NI“A...  ...  musicPerformance\n",
            "7387  \\nTheaters loosen up to appeal to a wider audi...  ...  musicPerformance\n",
            "7465  \\nTheater district hit hard by coronavirus con...  ...  musicPerformance\n",
            "7470  \\nJulian Lage will perform in Seoul\\n         ...  ...  musicPerformance\n",
            "7472  \\nSamba goes global as Carnival travels far\\n\\...  ...  musicPerformance\n",
            "7699  \\nJeongdong Theater expands its offerings in 2...  ...  musicPerformance\n",
            "7716  \\nNational Ballet reappoints director\\nThe Min...  ...  musicPerformance\n",
            "7765  \\nDiversity makes Seoul Asia’s dancing capital...  ...  musicPerformance\n",
            "7766  \\nBerlin Philharmonic’s new director puts wome...  ...  musicPerformance\n",
            "7829  \\nUnsuk Chin is awarded the Leonie Sonning Mus...  ...  musicPerformance\n",
            "8003  \\nSanghee Cheong to lecture in Vienna\\n\\n\\n\\n\\...  ...  musicPerformance\n",
            "8032  \\nK-pop group EXP Edition shakes things up: Wh...  ...  musicPerformance\n",
            "8115  \\nJumping right into ‘Gatsby’: The immersive m...  ...  musicPerformance\n",
            "8178  \\nGet ready to rock ‘n’ roll Seoul, Queen is h...  ...  musicPerformance\n",
            "8245  \\nOne man’s mission to save the classics: Bari...  ...  musicPerformance\n",
            "8464  \\nWaltzing into 2020 with the Vienna Philharmo...  ...  musicPerformance\n",
            "9005  \\n‘Phantom’ returns  and delivers a grand spec...  ...  musicPerformance\n",
            "9006  \\n[New Release] VARIOUS ARTISTS\\n\\n\\n\\n\\n\\n\\n\\...  ...  musicPerformance\n",
            "9007  \\n[New Release] THE WHO\\n\\n\\n\\n\\n\\n\\n\\nTHE WHO...  ...  musicPerformance\n",
            "9008  \\n[New Release] HARRY STYLES\\n\\n\\n\\n\\n\\n\\n\\nHA...  ...  musicPerformance\n",
            "9204  \\nFacilitating understanding at a concert hall...  ...  musicPerformance\n",
            "9450  \\nPark Ki-young finds a new voice in ‘The Body...  ...  musicPerformance\n",
            "9509  \\nIrving Burgie, songwriter of ‘Day-O’ and oth...  ...  musicPerformance\n",
            "\n",
            "[54 rows x 3 columns]\n",
            "----------------------------------------------------------------------------------------------------\n",
            "national\n",
            "                                                article  ...  category\n",
            "6     \\nNew Covid cases surpass 500 for second day i...  ...  national\n",
            "8     \\nOpposition jumps on idea of Assembly probe o...  ...  national\n",
            "9     \\nBlue House names new foreign policy secretar...  ...  national\n",
            "14    \\nChina's envoy says Xi's visit will come post...  ...  national\n",
            "17    \\nAs life is upended by the pandemic, inequali...  ...  national\n",
            "...                                                 ...  ...       ...\n",
            "4588  \\nChurch-related virus clusters continue to gr...  ...  national\n",
            "4589  \\nRuling party set to launch leadership race\\n...  ...  national\n",
            "4592  \\nNew lawmaker faces criticism for his attitud...  ...  national\n",
            "4596  \\nMoon accepts Trump's offer to join expanded ...  ...  national\n",
            "4597  \\nOnline exams lead to mass cheating of med st...  ...  national\n",
            "\n",
            "[1041 rows x 3 columns]\n",
            "----------------------------------------------------------------------------------------------------\n",
            "nationalGuestReports\n",
            "                                                article  ...              category\n",
            "5312  \\nHyundai E&C’s Daegu complex boasts convenien...  ...  nationalGuestReports\n",
            "5433  \\n[SPONSORED REPORT] Hyundai Mobis strengthens...  ...  nationalGuestReports\n",
            "5437  \\n[SPONSORED REPORT] Posco practices its own m...  ...  nationalGuestReports\n",
            "5442  \\n[SPONSORED REPORT] Chong Kun Dang offers sol...  ...  nationalGuestReports\n",
            "5652  \\n[SPONSORED REPORT] Kumho Tire successfully s...  ...  nationalGuestReports\n",
            "5803  \\n[SPONSORED REPORT] Export-Import Bank introd...  ...  nationalGuestReports\n",
            "5906  \\n[SPONSORED REPORT] Huons focuses on affordab...  ...  nationalGuestReports\n",
            "6552  \\n[Sponsored Report] Ginseng berries, green te...  ...  nationalGuestReports\n",
            "6570  \\n[Sponsored Report] Coupang’s innovative deli...  ...  nationalGuestReports\n",
            "6598  \\n[Guest Report] Hankook Tire & Technology set...  ...  nationalGuestReports\n",
            "6599  \\n[Guest Report] Hyundai Glovis aims to grow i...  ...  nationalGuestReports\n",
            "6709  \\n[Sponsored Report] Ginseng sees surge in sal...  ...  nationalGuestReports\n",
            "6986  \\n[Sponsored Report] Lotte joins fight against...  ...  nationalGuestReports\n",
            "6987  \\n[Sponsored Report] Posco gives back while bu...  ...  nationalGuestReports\n",
            "6988  \\n[Sponsored Report] Naver Webtoon riding high...  ...  nationalGuestReports\n",
            "6989  \\n[Sponsored Report] LG Chem starts ‘Year of E...  ...  nationalGuestReports\n",
            "6990  \\n[Sponsored Report] Hyundai Steel scale up pr...  ...  nationalGuestReports\n",
            "7139  \\n[Guest Report] Samsung’s latest smartphones ...  ...  nationalGuestReports\n",
            "7595  \\n[SPONSORED REPORT] Hanwha E&C finalizes relo...  ...  nationalGuestReports\n",
            "8463  \\n[Sponsored Report] Hotels top local 2019 Nat...  ...  nationalGuestReports\n",
            "8519  \\n[Sponsored Report] Bundang JS Hotel is now S...  ...  nationalGuestReports\n",
            "8684  \\n[Sponsored Report] Oriental Brewery warns of...  ...  nationalGuestReports\n",
            "8703  \\n[Sponsored Report] Ring in 2020 at Everland ...  ...  nationalGuestReports\n",
            "8704  \\n[Sponsored Report] Naver’s V Live proves its...  ...  nationalGuestReports\n",
            "8766  \\n[Sponsored Report] Hyundai Glovis offers use...  ...  nationalGuestReports\n",
            "9199  \\nMirae Asset Daewoo wins presidential prize a...  ...  nationalGuestReports\n",
            "9496  \\nK-water assists the Mekong region\\n\\n\\n\\n\\n\\...  ...  nationalGuestReports\n",
            "9549  \\n[Sponsored Report] Posco continues to suppor...  ...  nationalGuestReports\n",
            "9550  \\n[Sponsored Report] SK E&C goes beyond constr...  ...  nationalGuestReports\n",
            "9551  \\n[Sponsored Report] Korean Air employees dona...  ...  nationalGuestReports\n",
            "9596  \\n[Sponsored Report] Gasoline Evoque offers a ...  ...  nationalGuestReports\n",
            "9597  \\n[Sponsored Report] Volvo finds success with ...  ...  nationalGuestReports\n",
            "9598  \\n[Sponsored Report] Amorepacific flies flag f...  ...  nationalGuestReports\n",
            "9599  \\n[Sponsored Report] Corporate responsibility ...  ...  nationalGuestReports\n",
            "9600  \\n[Sponsored Report] Popular brands make waves...  ...  nationalGuestReports\n",
            "9669  \\n[Guest Report] Kogas recognized for win-win ...  ...  nationalGuestReports\n",
            "9670  \\n[Guest Report] LG Chem gets ahead with R&D i...  ...  nationalGuestReports\n",
            "9671  \\n[Guest Report] NCSoft releases cross-platfor...  ...  nationalGuestReports\n",
            "9835  \\n[Sponsored Report] Hyundai Rotem continues t...  ...  nationalGuestReports\n",
            "\n",
            "[39 rows x 3 columns]\n",
            "----------------------------------------------------------------------------------------------------\n",
            "northKorea\n",
            "                                                article  ...    category\n",
            "4736  \\nUNC finds fault with South and North after D...  ...  northKorea\n",
            "4794  \\nU.S. official renews calls for North to aban...  ...  northKorea\n",
            "4804  \\nKim discusses bolstering 'nuclear war deterr...  ...  northKorea\n",
            "4852  \\nSeoul tries to downplay sanctions from 2010\\...  ...  northKorea\n",
            "4877  \\nKim Jong-un disappears from public eye, agai...  ...  northKorea\n",
            "4902  \\nNorth continues to deny kidnapping of passen...  ...  northKorea\n",
            "4913  \\nNorth faces food shortage of 860,000 tons\\n ...  ...  northKorea\n",
            "5090  \\nPandemic halts vaccinations of children in N...  ...  northKorea\n",
            "5148  \\nCan Korea leverage virus fight into leadersh...  ...  northKorea\n",
            "5151  \\nXi sends verbal message to Kim in Pyongyang\\...  ...  northKorea\n",
            "5176  \\nKim lauds Xi on China's successful antivirus...  ...  northKorea\n",
            "5214  \\nSouth Korea to resume tours to DMZ next mont...  ...  northKorea\n",
            "5251  \\nICBM facility spotted near Pyongyang airport...  ...  northKorea\n",
            "5283  \\nNorth slams South's conservatives' spread of...  ...  northKorea\n",
            "5311  \\nUN Command to investigate North's gunshots a...  ...  northKorea\n",
            "5325  \\nTrump lauds reemergence of Kim, who appears ...  ...  northKorea\n",
            "5365  \\n Kim Jong-un’s yachts are spotted\\n\\n\\n\\n\\n\\...  ...  northKorea\n",
            "5415  \\nTrump says he’s aware of Kim Jong-un’s healt...  ...  northKorea\n",
            "\n",
            "[18 rows x 3 columns]\n",
            "----------------------------------------------------------------------------------------------------\n",
            "people\n",
            "                                                article  ... category\n",
            "4628  \\n'Blue-eyed angel' named Immigrant of the Yea...  ...   people\n",
            "5289  \\nCobbler to the rich gets generous \\n        ...  ...   people\n",
            "6938  \\nDoctor, nurse heed calls to lend their exper...  ...   people\n",
            "6939  \\nComplete the course and get a full refund\\n\\...  ...   people\n",
            "6991  \\n‘Chairman Hwang was determined to unify the ...  ...   people\n",
            "7120  \\nHarris offers a rare  peek behind the iron g...  ...   people\n",
            "7121  \\nIf at first you don’t succeed, fail, fail ag...  ...   people\n",
            "7173  \\nEmployment dreams come true\\n\\n\\n\\n\\n\\nNami ...  ...   people\n",
            "7338  \\nCan a cooking staple stop the coronavirus?\\n...  ...   people\n",
            "7339  \\nKAIST to give professors the freedom to flou...  ...   people\n",
            "7392  \\n‘Liberty and love!’ A Hungarian poet’s legac...  ...   people\n",
            "7615  \\nDo not repeat the mistakes of the MERS trage...  ...   people\n",
            "7787  \\nRemember death to reach success\\n\\n\\n\\n\\n\\n\\...  ...   people\n",
            "7831  \\nAI without data is the same as a bow without...  ...   people\n",
            "7857  \\nNo huge profit for the North? No problem\\n\\n...  ...   people\n",
            "7972  \\nPurely political policies can’t succeed: Pro...  ...   people\n",
            "8145  \\nYoung defector dreams of being on the silver...  ...   people\n",
            "8146  \\nGarden tools and blacksmith school\\n\\n\\n\\n\\n...  ...   people\n",
            "8184  \\n‘Wage war on vested interests, not on the re...  ...   people\n",
            "8341  \\nThis couple is generous beyond their bibimba...  ...   people\n",
            "8342  \\nLife’s a catwalk for Korea’s most senior mod...  ...   people\n",
            "8489  \\nMoon blew his big chance, says scholar\\n\\n\\n...  ...   people\n",
            "8559  \\nFirefighters face toughest times when smoke ...  ...   people\n",
            "8560  \\nIt’s never too late to learn ― and win a con...  ...   people\n",
            "8587  \\nPolitician says 70 is a good age to embark o...  ...   people\n",
            "8740  \\nHankyong National University forges its own ...  ...   people\n",
            "8773  \\nEconomic politicalization makes Korea a sink...  ...   people\n",
            "8887  \\nHow Gachon University got its tech groove\\n\\...  ...   people\n",
            "8926  \\nQuality is not the problem for Korea’s AI, i...  ...   people\n",
            "9090  \\nRaising a toast to the growth of farmers’ in...  ...   people\n",
            "9156  \\nFormer chairman, current adviser and doting ...  ...   people\n",
            "9330  \\nStrategically revitalizing the agriculture i...  ...   people\n",
            "9368  \\nPresident Moon doesn’t know\\n\\n\\n\\n\\n\\nKim J...  ...   people\n",
            "9519  \\nSharing success answer to schools’ financial...  ...   people\n",
            "9520  \\nBuilding character through moral education\\n...  ...   people\n",
            "9719  \\nThe unofficial political party pledging free...  ...   people\n",
            "9767  \\nChoosing ‘death’ rather than becoming a ‘sin...  ...   people\n",
            "9936  \\nFormer head of investigations says transpare...  ...   people\n",
            "9945  \\nAn art cinema’s role in social development\\n...  ...   people\n",
            "9946  \\nKorean conductor brings Norwegians ‘home’\\n\\...  ...   people\n",
            "\n",
            "[40 rows x 3 columns]\n",
            "----------------------------------------------------------------------------------------------------\n",
            "photos\n",
            "                                                article  ... category\n",
            "4682  \\nReady for that road trip\\n                  ...  ...   photos\n",
            "4745  \\nDollars to yuan \\n      An employee at Hana ...  ...   photos\n",
            "4747  \\nNext stop Cairo\\n     Hyundai Rotem employee...  ...   photos\n",
            "\n",
            "[3 rows x 3 columns]\n",
            "----------------------------------------------------------------------------------------------------\n",
            "politics\n",
            "                                                article  ...  category\n",
            "4625  \\nPentagon admits Thaad could have been upgrad...  ...  politics\n",
            "4644  \\nYoon takes seat, claims she is innocent of a...  ...  politics\n",
            "4656  \\nTrump wants to invite Korea to expanded G7 m...  ...  politics\n",
            "4659  \\nMoon replaces seven secretaries at the Blue ...  ...  politics\n",
            "4671  \\nYoon denies allegations, plans to keep Assem...  ...  politics\n",
            "...                                                 ...  ...       ...\n",
            "9959  \\nUN committee adopts North rights resolution\\...  ...  politics\n",
            "9991  \\nEsper rules out troop reductions\\n\\n\\n\\n\\n\\n...  ...  politics\n",
            "9992  \\nCho Kuk is questioned but media not informed...  ...  politics\n",
            "9993  \\nPyongyang’s patience wears thin\\n           ...  ...  politics\n",
            "9994  \\nBlue House turns down invite to meet Warmbie...  ...  politics\n",
            "\n",
            "[696 rows x 3 columns]\n",
            "----------------------------------------------------------------------------------------------------\n",
            "socialAffairs\n",
            "                                                article  ...       category\n",
            "4616  \\nCivic group backs allegations against Yoon M...  ...  socialAffairs\n",
            "4622  \\nGov't exempts some foreign residents from re...  ...  socialAffairs\n",
            "4624  \\nClusters break out in small churches\\n      ...  ...  socialAffairs\n",
            "4627  \\nQR codes to be required at bars, clubs to co...  ...  socialAffairs\n",
            "4651  \\nNew infections under 30 a day as clusters co...  ...  socialAffairs\n",
            "...                                                 ...  ...            ...\n",
            "9958  \\nHong Kong issue heats up on Korean campuses\\...  ...  socialAffairs\n",
            "9960  \\nGetting ready\\n\\n\\n\\n\\n\\n\\n\\nStudents and pa...  ...  socialAffairs\n",
            "9961  \\nMall fire\\n\\n\\n\\n\\n\\n\\n\\nSome 150 firefighte...  ...  socialAffairs\n",
            "9995  \\nExplosion at institute for defense kills one...  ...  socialAffairs\n",
            "9996  \\nReady to relax\\n\\n\\n\\n\\n\\n\\n\\nStudents who f...  ...  socialAffairs\n",
            "\n",
            "[630 rows x 3 columns]\n",
            "----------------------------------------------------------------------------------------------------\n",
            "sponsoredReports\n",
            "                                                article  ...          category\n",
            "4728  \\n[SPONSORED REPORT] Hyundai Steel recognized ...  ...  sponsoredReports\n",
            "4759  \\n[SPONSORED REPORT] A glimpse into Hyundai Ca...  ...  sponsoredReports\n",
            "4773  \\n[SPONSORED REPORTS] Eximbank donates W350 mi...  ...  sponsoredReports\n",
            "4774  \\n[SPONSORED REPORTS] Standard Chartered debut...  ...  sponsoredReports\n",
            "4826  \\n[SPONSORED REPORTS] CheongKwanJang’s ginseng...  ...  sponsoredReports\n",
            "4895  \\n[SPONSORED REPORT] SK Innovation’s sales set...  ...  sponsoredReports\n",
            "4925  \\n[SPONSORED REPORT] Kogas ready for hydrogen ...  ...  sponsoredReports\n",
            "4927  \\n[SPONSORED REPORT] NCSOFT offers advice to j...  ...  sponsoredReports\n",
            "5112  \\n[SPONSORED REPORT] Hansae proves that an eco...  ...  sponsoredReports\n",
            "\n",
            "[9 rows x 3 columns]\n",
            "----------------------------------------------------------------------------------------------------\n",
            "sportInterview\n",
            "                                                article  ...        category\n",
            "4762  \\n[CURVEBALL INTERVIEW] Lee Jeong-eun stays co...  ...  sportInterview\n",
            "4814  \\n[CURVEBALL INTERVIEW] Record-breaking Kim Se...  ...  sportInterview\n",
            "4853  \\n[CURVEBALL INTERVIEW] Despite delays, Park S...  ...  sportInterview\n",
            "5165  \\n[CURVEBALL INTERVIEW] You determined to make...  ...  sportInterview\n",
            "5337  \\n[CURVEBALL INTERVIEW] Cho Gue-sung breaks re...  ...  sportInterview\n",
            "\n",
            "[5 rows x 3 columns]\n",
            "----------------------------------------------------------------------------------------------------\n",
            "sports\n",
            "                                                article  ... category\n",
            "32    \\nGiants veteran Song to take on coaching resp...  ...   sports\n",
            "40    \\nSon Heung-min, Ji So-yun nominated for FIFA ...  ...   sports\n",
            "78    \\nNC Dinos claim Korean Series title with 4-2 ...  ...   sports\n",
            "107   \\nChoi Na-yeon took a tough path to the top, t...  ...   sports\n",
            "145   \\nUlsan jump to top of Group F while Jeonbuk s...  ...   sports\n",
            "...                                                 ...  ...      ...\n",
            "4541  \\nTaeguk Ladies head coach promises to work cl...  ...   sports\n",
            "4542  \\nKoo, Jokisch, Ramos and Fernández shortliste...  ...   sports\n",
            "4543  \\nOh Beom-seok rejoins Steelers after 13 years...  ...   sports\n",
            "4585  \\nKoo is becoming the lefty legend they always...  ...   sports\n",
            "4586  \\nKim Yeon-koung could return to Korea for fir...  ...   sports\n",
            "\n",
            "[271 rows x 3 columns]\n",
            "----------------------------------------------------------------------------------------------------\n",
            "tech\n",
            "                                                article  ... category\n",
            "4615  \\nInside the game\\n     Models show off the Od...  ...     tech\n",
            "4713  \\nNow that’s smart\\n                          ...  ...     tech\n",
            "4716  \\nFaker and the T1 team to exclusively use Sam...  ...     tech\n",
            "4725  \\nHanwha Techwin offers first 8K surveillance ...  ...     tech\n",
            "4742  \\nDisinfected and monitored \\n     An employee...  ...     tech\n",
            "4750  \\nIope Lab offers a high-tech glimpse into you...  ...     tech\n",
            "4832  \\nSeeing stars\\n     An official discusses a t...  ...     tech\n",
            "4845  \\nGo ahead, take my biometric data, many Korea...  ...     tech\n",
            "4863  \\nMaddening Yessign authentication to lose its...  ...     tech\n",
            "4897  \\nKakao Enterprise growing fast in the AI mark...  ...     tech\n",
            "4999  \\nTesting booth\\n     Under the brand name ’K-...  ...     tech\n",
            "5006  \\nOrdering gets easier for hungry 'Foodstagram...  ...     tech\n",
            "5018  \\nNew Galaxy phone to include quantum encrypti...  ...     tech\n",
            "5036  \\nSK, Amazon team up on mobile edge cloud serv...  ...     tech\n",
            "5076  \\nKakao Enterprise growing fast in the AI mark...  ...     tech\n",
            "5078  \\nNaver aims for sales and stickiness with new...  ...     tech\n",
            "5234  \\nBig device battle is brewing at the low end ...  ...     tech\n",
            "5336  \\nCEO of Seerslab spots an opening for AR as m...  ...     tech\n",
            "5363  \\nBudget iPhone is sold out in the first day o...  ...     tech\n",
            "5398  \\nLG Electronics’ Velvet to debut May 15\\n\\n\\n...  ...     tech\n",
            "5405  \\nThose songs before phone calls are giving wa...  ...     tech\n",
            "\n",
            "[21 rows x 3 columns]\n",
            "----------------------------------------------------------------------------------------------------\n",
            "videoNews\n",
            "                                                article  ...   category\n",
            "4984  \\nFrom Wonder Girl to CEO: Yubin makes a new d...  ...  videoNews\n",
            "5094  \\nSeoul’s secret cigarette stores\\n  Amongst S...  ...  videoNews\n",
            "5315  \\nWhat would happen if Kim Jong-un were unable...  ...  videoNews\n",
            "5373  \\nWeek 3 in Korea's coronavirus quarantine fac...  ...  videoNews\n",
            "5394  \\nThe KBO's pandemic-friendly preseason\\n     ...  ...  videoNews\n",
            "\n",
            "[5 rows x 3 columns]\n",
            "----------------------------------------------------------------------------------------------------\n"
          ],
          "name": "stdout"
        }
      ]
    },
    {
      "cell_type": "markdown",
      "metadata": {
        "id": "MWL3cnwGsiym"
      },
      "source": [
        "## 기사 url을 가져와 pandas DataFrame 만들기"
      ]
    },
    {
      "cell_type": "markdown",
      "metadata": {
        "id": "Ikqafnh3s6_F"
      },
      "source": [
        "## 특수문자 제거를 위한 정규표현 모듈 선언"
      ]
    },
    {
      "cell_type": "code",
      "metadata": {
        "id": "miz6EPo2duu5"
      },
      "source": [
        "import re"
      ],
      "execution_count": 76,
      "outputs": []
    },
    {
      "cell_type": "markdown",
      "metadata": {
        "id": "6klUg1b2j6vt"
      },
      "source": [
        "정규식 테스트"
      ]
    },
    {
      "cell_type": "code",
      "metadata": {
        "id": "JahbL0ooKTUz",
        "colab": {
          "base_uri": "https://localhost:8080/",
          "height": 34
        },
        "outputId": "b53dca92-6c51-4913-93d2-49ca023c5982"
      },
      "source": [
        "testx = \"['mybody'] is not good \\\"Sum\\\" one\"\n",
        "v = re.sub('[^a-zA-Z\\'\"]', \"\", testx)\n",
        "v"
      ],
      "execution_count": 77,
      "outputs": [
        {
          "output_type": "execute_result",
          "data": {
            "application/vnd.google.colaboratory.intrinsic+json": {
              "type": "string"
            },
            "text/plain": [
              "'\\'mybody\\'isnotgood\"Sum\"one'"
            ]
          },
          "metadata": {
            "tags": []
          },
          "execution_count": 77
        }
      ]
    },
    {
      "cell_type": "markdown",
      "metadata": {
        "id": "fsjk76RWtC0D"
      },
      "source": [
        "## 문장의 word count 생성"
      ]
    },
    {
      "cell_type": "code",
      "metadata": {
        "id": "lVIb9OBVWKfO"
      },
      "source": [
        "df_docs['word_count'] = df_docs['article'].apply(lambda x: len(x.split()))"
      ],
      "execution_count": 78,
      "outputs": []
    },
    {
      "cell_type": "code",
      "metadata": {
        "id": "B9qM55ghdJ68",
        "colab": {
          "base_uri": "https://localhost:8080/",
          "height": 204
        },
        "outputId": "cdd17802-46a0-442b-ec66-514bce4f1fe4"
      },
      "source": [
        "df_docs.head()"
      ],
      "execution_count": 79,
      "outputs": [
        {
          "output_type": "execute_result",
          "data": {
            "text/html": [
              "<div>\n",
              "<style scoped>\n",
              "    .dataframe tbody tr th:only-of-type {\n",
              "        vertical-align: middle;\n",
              "    }\n",
              "\n",
              "    .dataframe tbody tr th {\n",
              "        vertical-align: top;\n",
              "    }\n",
              "\n",
              "    .dataframe thead th {\n",
              "        text-align: right;\n",
              "    }\n",
              "</style>\n",
              "<table border=\"1\" class=\"dataframe\">\n",
              "  <thead>\n",
              "    <tr style=\"text-align: right;\">\n",
              "      <th></th>\n",
              "      <th>article</th>\n",
              "      <th>urls</th>\n",
              "      <th>category</th>\n",
              "      <th>word_count</th>\n",
              "    </tr>\n",
              "  </thead>\n",
              "  <tbody>\n",
              "    <tr>\n",
              "      <th>0</th>\n",
              "      <td>\\nBetter to give property than to receive a bi...</td>\n",
              "      <td>https://koreajoongangdaily.joins.com/2020/11/2...</td>\n",
              "      <td>business</td>\n",
              "      <td>415</td>\n",
              "    </tr>\n",
              "    <tr>\n",
              "      <th>1</th>\n",
              "      <td>\\n[NEWS ANALYSIS] As foreigners rush back, mar...</td>\n",
              "      <td>https://koreajoongangdaily.joins.com/2020/11/2...</td>\n",
              "      <td>business</td>\n",
              "      <td>930</td>\n",
              "    </tr>\n",
              "    <tr>\n",
              "      <th>2</th>\n",
              "      <td>\\nSK Telcom merges two security services subsi...</td>\n",
              "      <td>https://koreajoongangdaily.joins.com/2020/11/2...</td>\n",
              "      <td>business</td>\n",
              "      <td>211</td>\n",
              "    </tr>\n",
              "    <tr>\n",
              "      <th>3</th>\n",
              "      <td>\\nBorder restrictions drastically cut North Ko...</td>\n",
              "      <td>https://koreajoongangdaily.joins.com/2020/11/2...</td>\n",
              "      <td>business</td>\n",
              "      <td>420</td>\n",
              "    </tr>\n",
              "    <tr>\n",
              "      <th>4</th>\n",
              "      <td>\\nBureaucracy weighs in on AI, gives it a to-d...</td>\n",
              "      <td>https://koreajoongangdaily.joins.com/2020/11/2...</td>\n",
              "      <td>business</td>\n",
              "      <td>348</td>\n",
              "    </tr>\n",
              "  </tbody>\n",
              "</table>\n",
              "</div>"
            ],
            "text/plain": [
              "                                             article  ... word_count\n",
              "0  \\nBetter to give property than to receive a bi...  ...        415\n",
              "1  \\n[NEWS ANALYSIS] As foreigners rush back, mar...  ...        930\n",
              "2  \\nSK Telcom merges two security services subsi...  ...        211\n",
              "3  \\nBorder restrictions drastically cut North Ko...  ...        420\n",
              "4  \\nBureaucracy weighs in on AI, gives it a to-d...  ...        348\n",
              "\n",
              "[5 rows x 4 columns]"
            ]
          },
          "metadata": {
            "tags": []
          },
          "execution_count": 79
        }
      ]
    },
    {
      "cell_type": "code",
      "metadata": {
        "id": "KnXOGNh1TWzL",
        "colab": {
          "base_uri": "https://localhost:8080/"
        },
        "outputId": "b33bbefd-e65f-4d84-fde2-4012b199dd7a"
      },
      "source": [
        "print(f\"단어 최대 값: {df_docs['word_count'].max()}\")\n",
        "print(f\"단어 평균 값: {df_docs['word_count'].mean()}\")\n",
        "print(f\"단어 표준편차: {df_docs['word_count'].std()}\")\n",
        "print(f\"단어 중간 값: {df_docs['word_count'].median()}\")\n",
        "print(f\"단어 최소 값: {df_docs['word_count'].min()}\")"
      ],
      "execution_count": 82,
      "outputs": [
        {
          "output_type": "stream",
          "text": [
            "단어 최대 값: 5238\n",
            "단어 평균 값: 497.1842\n",
            "단어 표준편차: 404.5256654054935\n",
            "단어 중간 값: 419.0\n",
            "단어 최소 값: 3\n"
          ],
          "name": "stdout"
        }
      ]
    },
    {
      "cell_type": "markdown",
      "metadata": {
        "id": "COkKjnpohPb_"
      },
      "source": [
        "## 기사의 전체 길이 확인"
      ]
    },
    {
      "cell_type": "code",
      "metadata": {
        "id": "A9rf5cW7tEuz"
      },
      "source": [
        "df_docs['article_length'] = df_docs['article'].apply(lambda x: len(x))\n"
      ],
      "execution_count": 84,
      "outputs": []
    },
    {
      "cell_type": "code",
      "metadata": {
        "colab": {
          "base_uri": "https://localhost:8080/"
        },
        "id": "DA7JmjEVtP4A",
        "outputId": "cce56d88-4007-4453-ee16-cbddba037934"
      },
      "source": [
        "print(f\"문장 최대 길이: {df_docs['article_length'].max()}\")\n",
        "print(f\"문장 평균 길이: {df_docs['article_length'].mean()}\")\n",
        "print(f\"문장 중간 길이: {df_docs['article_length'].median()}\")\n",
        "print(f\"문장 표준편차: {df_docs['article_length'].std()}\")\n",
        "print(f\"문장 제3사분위: {np.percentile(df_docs['article_length'], 75)}\")"
      ],
      "execution_count": 85,
      "outputs": [
        {
          "output_type": "stream",
          "text": [
            "문장 최대 길이: 30218\n",
            "문장 평균 길이: 3123.2875\n",
            "문장 중간 길이: 2711.0\n",
            "문장 표준편차: 2424.492394209741\n",
            "문장 제3사분위: 4220.0\n"
          ],
          "name": "stdout"
        }
      ]
    },
    {
      "cell_type": "code",
      "metadata": {
        "id": "M8FjEpCQgaah",
        "colab": {
          "base_uri": "https://localhost:8080/",
          "height": 1000
        },
        "outputId": "8d979f5f-998c-4e35-80ea-db3c18415077"
      },
      "source": [
        "import matplotlib.pyplot as plt\n",
        "\n",
        "plt.figure(figsize=(12, 7))\n",
        "plt.yscale('log', nonposy='clip')\n",
        "plt.hist(df_docs['article_length'], bins=200)"
      ],
      "execution_count": 88,
      "outputs": [
        {
          "output_type": "execute_result",
          "data": {
            "text/plain": [
              "(array([ 46., 561., 386., 142., 168., 276., 326., 333., 331., 311., 297.,\n",
              "        285., 248., 278., 252., 266., 285., 268., 304., 293., 245., 267.,\n",
              "        255., 245., 241., 234., 190., 230., 183., 162., 172., 134., 125.,\n",
              "        117., 134., 115.,  82.,  93.,  79.,  65.,  65.,  57.,  60.,  67.,\n",
              "         48.,  46.,  49.,  40.,  29.,  32.,  34.,  27.,  19.,  23.,  23.,\n",
              "         12.,  16.,  23.,  17.,  13.,  10.,  10.,  12.,  13.,  12.,   9.,\n",
              "         14.,   5.,   6.,  10.,   6.,  10.,   9.,  12.,   9.,  11.,   4.,\n",
              "          6.,   5.,  11.,   6.,   7.,   4.,   5.,   7.,   3.,   6.,   7.,\n",
              "          2.,   4.,   1.,   5.,   2.,   0.,   4.,   1.,   1.,   0.,   0.,\n",
              "          2.,   0.,   3.,   3.,   2.,   2.,   0.,   0.,   0.,   1.,   2.,\n",
              "          0.,   0.,   1.,   1.,   0.,   1.,   1.,   2.,   0.,   1.,   0.,\n",
              "          0.,   0.,   0.,   0.,   0.,   1.,   0.,   1.,   0.,   1.,   0.,\n",
              "          0.,   0.,   0.,   0.,   0.,   0.,   0.,   1.,   0.,   0.,   0.,\n",
              "          0.,   0.,   0.,   0.,   0.,   0.,   0.,   0.,   0.,   0.,   0.,\n",
              "          0.,   0.,   0.,   0.,   0.,   0.,   0.,   0.,   0.,   0.,   0.,\n",
              "          0.,   0.,   0.,   0.,   0.,   0.,   0.,   0.,   0.,   0.,   0.,\n",
              "          0.,   0.,   0.,   0.,   0.,   0.,   0.,   0.,   0.,   0.,   0.,\n",
              "          0.,   0.,   0.,   0.,   0.,   0.,   0.,   0.,   0.,   0.,   0.,\n",
              "          0.,   1.]),\n",
              " array([2.9000000e+01, 1.7994500e+02, 3.3089000e+02, 4.8183500e+02,\n",
              "        6.3278000e+02, 7.8372500e+02, 9.3467000e+02, 1.0856150e+03,\n",
              "        1.2365600e+03, 1.3875050e+03, 1.5384500e+03, 1.6893950e+03,\n",
              "        1.8403400e+03, 1.9912850e+03, 2.1422300e+03, 2.2931750e+03,\n",
              "        2.4441200e+03, 2.5950650e+03, 2.7460100e+03, 2.8969550e+03,\n",
              "        3.0479000e+03, 3.1988450e+03, 3.3497900e+03, 3.5007350e+03,\n",
              "        3.6516800e+03, 3.8026250e+03, 3.9535700e+03, 4.1045150e+03,\n",
              "        4.2554600e+03, 4.4064050e+03, 4.5573500e+03, 4.7082950e+03,\n",
              "        4.8592400e+03, 5.0101850e+03, 5.1611300e+03, 5.3120750e+03,\n",
              "        5.4630200e+03, 5.6139650e+03, 5.7649100e+03, 5.9158550e+03,\n",
              "        6.0668000e+03, 6.2177450e+03, 6.3686900e+03, 6.5196350e+03,\n",
              "        6.6705800e+03, 6.8215250e+03, 6.9724700e+03, 7.1234150e+03,\n",
              "        7.2743600e+03, 7.4253050e+03, 7.5762500e+03, 7.7271950e+03,\n",
              "        7.8781400e+03, 8.0290850e+03, 8.1800300e+03, 8.3309750e+03,\n",
              "        8.4819200e+03, 8.6328650e+03, 8.7838100e+03, 8.9347550e+03,\n",
              "        9.0857000e+03, 9.2366450e+03, 9.3875900e+03, 9.5385350e+03,\n",
              "        9.6894800e+03, 9.8404250e+03, 9.9913700e+03, 1.0142315e+04,\n",
              "        1.0293260e+04, 1.0444205e+04, 1.0595150e+04, 1.0746095e+04,\n",
              "        1.0897040e+04, 1.1047985e+04, 1.1198930e+04, 1.1349875e+04,\n",
              "        1.1500820e+04, 1.1651765e+04, 1.1802710e+04, 1.1953655e+04,\n",
              "        1.2104600e+04, 1.2255545e+04, 1.2406490e+04, 1.2557435e+04,\n",
              "        1.2708380e+04, 1.2859325e+04, 1.3010270e+04, 1.3161215e+04,\n",
              "        1.3312160e+04, 1.3463105e+04, 1.3614050e+04, 1.3764995e+04,\n",
              "        1.3915940e+04, 1.4066885e+04, 1.4217830e+04, 1.4368775e+04,\n",
              "        1.4519720e+04, 1.4670665e+04, 1.4821610e+04, 1.4972555e+04,\n",
              "        1.5123500e+04, 1.5274445e+04, 1.5425390e+04, 1.5576335e+04,\n",
              "        1.5727280e+04, 1.5878225e+04, 1.6029170e+04, 1.6180115e+04,\n",
              "        1.6331060e+04, 1.6482005e+04, 1.6632950e+04, 1.6783895e+04,\n",
              "        1.6934840e+04, 1.7085785e+04, 1.7236730e+04, 1.7387675e+04,\n",
              "        1.7538620e+04, 1.7689565e+04, 1.7840510e+04, 1.7991455e+04,\n",
              "        1.8142400e+04, 1.8293345e+04, 1.8444290e+04, 1.8595235e+04,\n",
              "        1.8746180e+04, 1.8897125e+04, 1.9048070e+04, 1.9199015e+04,\n",
              "        1.9349960e+04, 1.9500905e+04, 1.9651850e+04, 1.9802795e+04,\n",
              "        1.9953740e+04, 2.0104685e+04, 2.0255630e+04, 2.0406575e+04,\n",
              "        2.0557520e+04, 2.0708465e+04, 2.0859410e+04, 2.1010355e+04,\n",
              "        2.1161300e+04, 2.1312245e+04, 2.1463190e+04, 2.1614135e+04,\n",
              "        2.1765080e+04, 2.1916025e+04, 2.2066970e+04, 2.2217915e+04,\n",
              "        2.2368860e+04, 2.2519805e+04, 2.2670750e+04, 2.2821695e+04,\n",
              "        2.2972640e+04, 2.3123585e+04, 2.3274530e+04, 2.3425475e+04,\n",
              "        2.3576420e+04, 2.3727365e+04, 2.3878310e+04, 2.4029255e+04,\n",
              "        2.4180200e+04, 2.4331145e+04, 2.4482090e+04, 2.4633035e+04,\n",
              "        2.4783980e+04, 2.4934925e+04, 2.5085870e+04, 2.5236815e+04,\n",
              "        2.5387760e+04, 2.5538705e+04, 2.5689650e+04, 2.5840595e+04,\n",
              "        2.5991540e+04, 2.6142485e+04, 2.6293430e+04, 2.6444375e+04,\n",
              "        2.6595320e+04, 2.6746265e+04, 2.6897210e+04, 2.7048155e+04,\n",
              "        2.7199100e+04, 2.7350045e+04, 2.7500990e+04, 2.7651935e+04,\n",
              "        2.7802880e+04, 2.7953825e+04, 2.8104770e+04, 2.8255715e+04,\n",
              "        2.8406660e+04, 2.8557605e+04, 2.8708550e+04, 2.8859495e+04,\n",
              "        2.9010440e+04, 2.9161385e+04, 2.9312330e+04, 2.9463275e+04,\n",
              "        2.9614220e+04, 2.9765165e+04, 2.9916110e+04, 3.0067055e+04,\n",
              "        3.0218000e+04]),\n",
              " <a list of 200 Patch objects>)"
            ]
          },
          "metadata": {
            "tags": []
          },
          "execution_count": 88
        },
        {
          "output_type": "display_data",
          "data": {
            "image/png": "[encoded data removed]",
            "text/plain": [
              "<Figure size 864x504 with 1 Axes>"
            ]
          },
          "metadata": {
            "tags": [],
            "needs_background": "light"
          }
        }
      ]
    },
    {
      "cell_type": "code",
      "metadata": {
        "id": "HgHZKHZYilVF",
        "colab": {
          "base_uri": "https://localhost:8080/",
          "height": 568
        },
        "outputId": "7391af16-4280-4f22-f935-3b97dbd49396"
      },
      "source": [
        "plt.figure(figsize=(12, 7))\n",
        "plt.boxplot(df_docs['article_length'], showmeans=True)"
      ],
      "execution_count": 89,
      "outputs": [
        {
          "output_type": "execute_result",
          "data": {
            "text/plain": [
              "{'boxes': [<matplotlib.lines.Line2D at 0x7fab30064b00>],\n",
              " 'caps': [<matplotlib.lines.Line2D at 0x7fab2fbd1550>,\n",
              "  <matplotlib.lines.Line2D at 0x7fab2fbd18d0>],\n",
              " 'fliers': [<matplotlib.lines.Line2D at 0x7fab2fbd7358>],\n",
              " 'means': [<matplotlib.lines.Line2D at 0x7fab2fbd1fd0>],\n",
              " 'medians': [<matplotlib.lines.Line2D at 0x7fab2fbd1c50>],\n",
              " 'whiskers': [<matplotlib.lines.Line2D at 0x7fab30064e10>,\n",
              "  <matplotlib.lines.Line2D at 0x7fab2fbd11d0>]}"
            ]
          },
          "metadata": {
            "tags": []
          },
          "execution_count": 89
        },
        {
          "output_type": "display_data",
          "data": {
            "image/png": "[encoded data removed]",
            "text/plain": [
              "<Figure size 864x504 with 1 Axes>"
            ]
          },
          "metadata": {
            "tags": [],
            "needs_background": "light"
          }
        }
      ]
    },
    {
      "cell_type": "markdown",
      "metadata": {
        "id": "7G25IiL-i4Yo"
      },
      "source": [
        "기사 길이\n",
        "- 평균은 3천개 선\n",
        "- 3만이 넘는 이상치 하나"
      ]
    },
    {
      "cell_type": "code",
      "metadata": {
        "id": "ZgDoI92XSUbb",
        "colab": {
          "base_uri": "https://localhost:8080/",
          "height": 568
        },
        "outputId": "cb85a2d7-a003-4338-814b-b840c4d367a1"
      },
      "source": [
        "plt.figure(figsize=(12, 7))\n",
        "# plt.yscale('log', nonposy='clip')\n",
        "plt.boxplot(df_docs['word_count'], showmeans=True)"
      ],
      "execution_count": 90,
      "outputs": [
        {
          "output_type": "execute_result",
          "data": {
            "text/plain": [
              "{'boxes': [<matplotlib.lines.Line2D at 0x7fab2fb96748>],\n",
              " 'caps': [<matplotlib.lines.Line2D at 0x7fab2fb9f198>,\n",
              "  <matplotlib.lines.Line2D at 0x7fab2fb9f518>],\n",
              " 'fliers': [<matplotlib.lines.Line2D at 0x7fab2fb9ff60>],\n",
              " 'means': [<matplotlib.lines.Line2D at 0x7fab2fb9fc18>],\n",
              " 'medians': [<matplotlib.lines.Line2D at 0x7fab2fb9f898>],\n",
              " 'whiskers': [<matplotlib.lines.Line2D at 0x7fab2fb96a58>,\n",
              "  <matplotlib.lines.Line2D at 0x7fab2fb96dd8>]}"
            ]
          },
          "metadata": {
            "tags": []
          },
          "execution_count": 90
        },
        {
          "output_type": "display_data",
          "data": {
            "image/png": "[encoded data removed]",
            "text/plain": [
              "<Figure size 864x504 with 1 Axes>"
            ]
          },
          "metadata": {
            "tags": [],
            "needs_background": "light"
          }
        }
      ]
    },
    {
      "cell_type": "markdown",
      "metadata": {
        "id": "TViGnSTbjdZV"
      },
      "source": [
        "단어 개수\n",
        "- 평균이 600 선\n",
        "- 제3사분위가 1200개\n",
        "- 4000 넘는 이상치 두 개"
      ]
    },
    {
      "cell_type": "markdown",
      "metadata": {
        "id": "eJ2ctEH9tFrq"
      },
      "source": [
        "## 특수문자 제거"
      ]
    },
    {
      "cell_type": "code",
      "metadata": {
        "id": "g_-OO98KfrD6"
      },
      "source": [
        "def clean_text(txt: str) -> str:\n",
        "  return \" \".join(re.sub('[^a-zA-Z]', ' ', txt).split())"
      ],
      "execution_count": 73,
      "outputs": []
    },
    {
      "cell_type": "code",
      "metadata": {
        "id": "b6_5kFO5diuD"
      },
      "source": [
        "df_docs['clean_article'] = df_docs['article'].apply(clean_text)"
      ],
      "execution_count": null,
      "outputs": []
    },
    {
      "cell_type": "markdown",
      "metadata": {
        "id": "3Gf4Tm2dQVVj"
      },
      "source": [
        "# 데이터 수집 및 전처리 작업 결과 저장"
      ]
    },
    {
      "cell_type": "code",
      "metadata": {
        "id": "T7YoEszpjP8T"
      },
      "source": [
        "df_docs.to_csv('/content/drive/MyDrive/Colab Notebooks/data/data/text_LDA.csv', sep='\\t', index=False)"
      ],
      "execution_count": 117,
      "outputs": []
    },
    {
      "cell_type": "code",
      "metadata": {
        "colab": {
          "base_uri": "https://localhost:8080/",
          "height": 419
        },
        "id": "9jgrWC1GRFMK",
        "outputId": "4027644e-ec4d-4bae-99b7-852190d99daa"
      },
      "source": [
        "df_docs"
      ],
      "execution_count": 118,
      "outputs": [
        {
          "output_type": "execute_result",
          "data": {
            "text/html": [
              "<div>\n",
              "<style scoped>\n",
              "    .dataframe tbody tr th:only-of-type {\n",
              "        vertical-align: middle;\n",
              "    }\n",
              "\n",
              "    .dataframe tbody tr th {\n",
              "        vertical-align: top;\n",
              "    }\n",
              "\n",
              "    .dataframe thead th {\n",
              "        text-align: right;\n",
              "    }\n",
              "</style>\n",
              "<table border=\"1\" class=\"dataframe\">\n",
              "  <thead>\n",
              "    <tr style=\"text-align: right;\">\n",
              "      <th></th>\n",
              "      <th>article</th>\n",
              "      <th>urls</th>\n",
              "      <th>category</th>\n",
              "      <th>word_count</th>\n",
              "      <th>article_length</th>\n",
              "      <th>clean_article</th>\n",
              "    </tr>\n",
              "  </thead>\n",
              "  <tbody>\n",
              "    <tr>\n",
              "      <th>0</th>\n",
              "      <td>\\nBetter to give property than to receive a bi...</td>\n",
              "      <td>https://koreajoongangdaily.joins.com/2020/11/2...</td>\n",
              "      <td>business</td>\n",
              "      <td>415</td>\n",
              "      <td>2596</td>\n",
              "      <td>Better to give property than to receive a big ...</td>\n",
              "    </tr>\n",
              "    <tr>\n",
              "      <th>1</th>\n",
              "      <td>\\n[NEWS ANALYSIS] As foreigners rush back, mar...</td>\n",
              "      <td>https://koreajoongangdaily.joins.com/2020/11/2...</td>\n",
              "      <td>business</td>\n",
              "      <td>930</td>\n",
              "      <td>5798</td>\n",
              "      <td>NEWS ANALYSIS As foreigners rush back market d...</td>\n",
              "    </tr>\n",
              "    <tr>\n",
              "      <th>2</th>\n",
              "      <td>\\nSK Telcom merges two security services subsi...</td>\n",
              "      <td>https://koreajoongangdaily.joins.com/2020/11/2...</td>\n",
              "      <td>business</td>\n",
              "      <td>211</td>\n",
              "      <td>1392</td>\n",
              "      <td>SK Telcom merges two security services subsidi...</td>\n",
              "    </tr>\n",
              "    <tr>\n",
              "      <th>3</th>\n",
              "      <td>\\nBorder restrictions drastically cut North Ko...</td>\n",
              "      <td>https://koreajoongangdaily.joins.com/2020/11/2...</td>\n",
              "      <td>business</td>\n",
              "      <td>420</td>\n",
              "      <td>2757</td>\n",
              "      <td>Border restrictions drastically cut North Kore...</td>\n",
              "    </tr>\n",
              "    <tr>\n",
              "      <th>4</th>\n",
              "      <td>\\nBureaucracy weighs in on AI, gives it a to-d...</td>\n",
              "      <td>https://koreajoongangdaily.joins.com/2020/11/2...</td>\n",
              "      <td>business</td>\n",
              "      <td>348</td>\n",
              "      <td>2488</td>\n",
              "      <td>Bureaucracy weighs in on AI gives it a to do l...</td>\n",
              "    </tr>\n",
              "    <tr>\n",
              "      <th>...</th>\n",
              "      <td>...</td>\n",
              "      <td>...</td>\n",
              "      <td>...</td>\n",
              "      <td>...</td>\n",
              "      <td>...</td>\n",
              "      <td>...</td>\n",
              "    </tr>\n",
              "    <tr>\n",
              "      <th>9995</th>\n",
              "      <td>\\nExplosion at institute for defense kills one...</td>\n",
              "      <td>https://koreajoongangdaily.joins.com/2019/11/1...</td>\n",
              "      <td>socialAffairs</td>\n",
              "      <td>421</td>\n",
              "      <td>2692</td>\n",
              "      <td>Explosion at institute for defense kills one i...</td>\n",
              "    </tr>\n",
              "    <tr>\n",
              "      <th>9996</th>\n",
              "      <td>\\nReady to relax\\n\\n\\n\\n\\n\\n\\n\\nStudents who f...</td>\n",
              "      <td>https://koreajoongangdaily.joins.com/2019/11/1...</td>\n",
              "      <td>socialAffairs</td>\n",
              "      <td>39</td>\n",
              "      <td>250</td>\n",
              "      <td>Ready to relax Students who finished the Colle...</td>\n",
              "    </tr>\n",
              "    <tr>\n",
              "      <th>9997</th>\n",
              "      <td>\\nRyu Hyun-jin very nearly wins Cy Young Award...</td>\n",
              "      <td>https://koreajoongangdaily.joins.com/2019/11/1...</td>\n",
              "      <td>Baseball</td>\n",
              "      <td>676</td>\n",
              "      <td>3802</td>\n",
              "      <td>Ryu Hyun jin very nearly wins Cy Young Award R...</td>\n",
              "    </tr>\n",
              "    <tr>\n",
              "      <th>9998</th>\n",
              "      <td>\\nPark Byung-ho just isn’t hitting like Park B...</td>\n",
              "      <td>https://koreajoongangdaily.joins.com/2019/11/1...</td>\n",
              "      <td>Baseball</td>\n",
              "      <td>828</td>\n",
              "      <td>4659</td>\n",
              "      <td>Park Byung ho just isn t hitting like Park Byu...</td>\n",
              "    </tr>\n",
              "    <tr>\n",
              "      <th>9999</th>\n",
              "      <td>\\nMexico's success is all about the scouting\\n...</td>\n",
              "      <td>https://koreajoongangdaily.joins.com/2019/11/1...</td>\n",
              "      <td>Baseball</td>\n",
              "      <td>499</td>\n",
              "      <td>2840</td>\n",
              "      <td>Mexico's success is all about the scouting At ...</td>\n",
              "    </tr>\n",
              "  </tbody>\n",
              "</table>\n",
              "<p>10000 rows × 6 columns</p>\n",
              "</div>"
            ],
            "text/plain": [
              "                                                article  ...                                      clean_article\n",
              "0     \\nBetter to give property than to receive a bi...  ...  Better to give property than to receive a big ...\n",
              "1     \\n[NEWS ANALYSIS] As foreigners rush back, mar...  ...  NEWS ANALYSIS As foreigners rush back market d...\n",
              "2     \\nSK Telcom merges two security services subsi...  ...  SK Telcom merges two security services subsidi...\n",
              "3     \\nBorder restrictions drastically cut North Ko...  ...  Border restrictions drastically cut North Kore...\n",
              "4     \\nBureaucracy weighs in on AI, gives it a to-d...  ...  Bureaucracy weighs in on AI gives it a to do l...\n",
              "...                                                 ...  ...                                                ...\n",
              "9995  \\nExplosion at institute for defense kills one...  ...  Explosion at institute for defense kills one i...\n",
              "9996  \\nReady to relax\\n\\n\\n\\n\\n\\n\\n\\nStudents who f...  ...  Ready to relax Students who finished the Colle...\n",
              "9997  \\nRyu Hyun-jin very nearly wins Cy Young Award...  ...  Ryu Hyun jin very nearly wins Cy Young Award R...\n",
              "9998  \\nPark Byung-ho just isn’t hitting like Park B...  ...  Park Byung ho just isn t hitting like Park Byu...\n",
              "9999  \\nMexico's success is all about the scouting\\n...  ...  Mexico's success is all about the scouting At ...\n",
              "\n",
              "[10000 rows x 6 columns]"
            ]
          },
          "metadata": {
            "tags": []
          },
          "execution_count": 118
        }
      ]
    },
    {
      "cell_type": "markdown",
      "metadata": {
        "id": "IEGxmpBgkOEv"
      },
      "source": [
        "# 불용어 제거 / stemming / lemmatization\n"
      ]
    },
    {
      "cell_type": "markdown",
      "metadata": {
        "id": "RmFHT7XItKne"
      },
      "source": [
        "## 불용어 제거를 위한 nltk install"
      ]
    },
    {
      "cell_type": "code",
      "metadata": {
        "id": "edhn21N5Qqe5"
      },
      "source": [
        "import pandas as pd\n",
        "df = pd.read_csv('/content/drive/MyDrive/Colab Notebooks/data/data/text_LDA.csv', sep='\\t', )"
      ],
      "execution_count": 4,
      "outputs": []
    },
    {
      "cell_type": "code",
      "metadata": {
        "colab": {
          "base_uri": "https://localhost:8080/",
          "height": 204
        },
        "id": "2lQz1c_KQwGm",
        "outputId": "71aee0c7-065b-4c6c-ac06-1e1376061948"
      },
      "source": [
        "df.head()"
      ],
      "execution_count": 5,
      "outputs": [
        {
          "output_type": "execute_result",
          "data": {
            "text/html": [
              "<div>\n",
              "<style scoped>\n",
              "    .dataframe tbody tr th:only-of-type {\n",
              "        vertical-align: middle;\n",
              "    }\n",
              "\n",
              "    .dataframe tbody tr th {\n",
              "        vertical-align: top;\n",
              "    }\n",
              "\n",
              "    .dataframe thead th {\n",
              "        text-align: right;\n",
              "    }\n",
              "</style>\n",
              "<table border=\"1\" class=\"dataframe\">\n",
              "  <thead>\n",
              "    <tr style=\"text-align: right;\">\n",
              "      <th></th>\n",
              "      <th>article</th>\n",
              "      <th>urls</th>\n",
              "      <th>category</th>\n",
              "      <th>word_count</th>\n",
              "      <th>article_length</th>\n",
              "      <th>clean_article</th>\n",
              "    </tr>\n",
              "  </thead>\n",
              "  <tbody>\n",
              "    <tr>\n",
              "      <th>0</th>\n",
              "      <td>\\nBetter to give property than to receive a bi...</td>\n",
              "      <td>https://koreajoongangdaily.joins.com/2020/11/2...</td>\n",
              "      <td>business</td>\n",
              "      <td>415</td>\n",
              "      <td>2596</td>\n",
              "      <td>Better to give property than to receive a big ...</td>\n",
              "    </tr>\n",
              "    <tr>\n",
              "      <th>1</th>\n",
              "      <td>\\n[NEWS ANALYSIS] As foreigners rush back, mar...</td>\n",
              "      <td>https://koreajoongangdaily.joins.com/2020/11/2...</td>\n",
              "      <td>business</td>\n",
              "      <td>930</td>\n",
              "      <td>5798</td>\n",
              "      <td>NEWS ANALYSIS As foreigners rush back market d...</td>\n",
              "    </tr>\n",
              "    <tr>\n",
              "      <th>2</th>\n",
              "      <td>\\nSK Telcom merges two security services subsi...</td>\n",
              "      <td>https://koreajoongangdaily.joins.com/2020/11/2...</td>\n",
              "      <td>business</td>\n",
              "      <td>211</td>\n",
              "      <td>1392</td>\n",
              "      <td>SK Telcom merges two security services subsidi...</td>\n",
              "    </tr>\n",
              "    <tr>\n",
              "      <th>3</th>\n",
              "      <td>\\nBorder restrictions drastically cut North Ko...</td>\n",
              "      <td>https://koreajoongangdaily.joins.com/2020/11/2...</td>\n",
              "      <td>business</td>\n",
              "      <td>420</td>\n",
              "      <td>2757</td>\n",
              "      <td>Border restrictions drastically cut North Kore...</td>\n",
              "    </tr>\n",
              "    <tr>\n",
              "      <th>4</th>\n",
              "      <td>\\nBureaucracy weighs in on AI, gives it a to-d...</td>\n",
              "      <td>https://koreajoongangdaily.joins.com/2020/11/2...</td>\n",
              "      <td>business</td>\n",
              "      <td>348</td>\n",
              "      <td>2488</td>\n",
              "      <td>Bureaucracy weighs in on AI gives it a to do l...</td>\n",
              "    </tr>\n",
              "  </tbody>\n",
              "</table>\n",
              "</div>"
            ],
            "text/plain": [
              "                                             article  ...                                      clean_article\n",
              "0  \\nBetter to give property than to receive a bi...  ...  Better to give property than to receive a big ...\n",
              "1  \\n[NEWS ANALYSIS] As foreigners rush back, mar...  ...  NEWS ANALYSIS As foreigners rush back market d...\n",
              "2  \\nSK Telcom merges two security services subsi...  ...  SK Telcom merges two security services subsidi...\n",
              "3  \\nBorder restrictions drastically cut North Ko...  ...  Border restrictions drastically cut North Kore...\n",
              "4  \\nBureaucracy weighs in on AI, gives it a to-d...  ...  Bureaucracy weighs in on AI gives it a to do l...\n",
              "\n",
              "[5 rows x 6 columns]"
            ]
          },
          "metadata": {
            "tags": []
          },
          "execution_count": 5
        }
      ]
    },
    {
      "cell_type": "code",
      "metadata": {
        "id": "BvUXxAg3qG_M",
        "colab": {
          "base_uri": "https://localhost:8080/"
        },
        "outputId": "79d2534f-1d47-4d6a-91dd-f90fd8ae0ff0"
      },
      "source": [
        "!pip install nltk"
      ],
      "execution_count": 6,
      "outputs": [
        {
          "output_type": "stream",
          "text": [
            "Requirement already satisfied: nltk in /usr/local/lib/python3.6/dist-packages (3.2.5)\n",
            "Requirement already satisfied: six in /usr/local/lib/python3.6/dist-packages (from nltk) (1.15.0)\n"
          ],
          "name": "stdout"
        }
      ]
    },
    {
      "cell_type": "code",
      "metadata": {
        "id": "OZ_LwdwwY8U2",
        "colab": {
          "base_uri": "https://localhost:8080/"
        },
        "outputId": "30748443-824e-4b7d-b718-705c072a7a92"
      },
      "source": [
        "from wordcloud import WordCloud\n",
        "import nltk\n",
        "from nltk.corpus import stopwords\n",
        "from nltk.stem import PorterStemmer\n",
        "from nltk import word_tokenize\n",
        "\n",
        "import tensorflow as tf\n",
        "from tensorflow.keras.preprocessing.sequence import pad_sequences\n",
        "from tensorflow.keras.preprocessing.text import Tokenizer\n",
        "\n",
        "from gensim.models import word2vec\n",
        "\n",
        "nltk.download('stopwords')\n",
        "nltk.download('punkt')\n"
      ],
      "execution_count": 7,
      "outputs": [
        {
          "output_type": "stream",
          "text": [
            "[nltk_data] Downloading package stopwords to /root/nltk_data...\n",
            "[nltk_data]   Package stopwords is already up-to-date!\n",
            "[nltk_data] Downloading package punkt to /root/nltk_data...\n",
            "[nltk_data]   Package punkt is already up-to-date!\n"
          ],
          "name": "stdout"
        },
        {
          "output_type": "execute_result",
          "data": {
            "text/plain": [
              "True"
            ]
          },
          "metadata": {
            "tags": []
          },
          "execution_count": 7
        }
      ]
    },
    {
      "cell_type": "markdown",
      "metadata": {
        "id": "3sCCbLWnc-w9"
      },
      "source": [
        "## stemming 작업"
      ]
    },
    {
      "cell_type": "code",
      "metadata": {
        "id": "qg98ew4jc9-n"
      },
      "source": [
        "p = PorterStemmer()\n",
        "sw = set(stopwords.words('english'))\n",
        "\n",
        "def stemming(txt):\n",
        "  return ' '.join([p.stem(w) for w in word_tokenize(txt) if not w.lower() in sw])\n",
        "\n",
        "def stemming_for_w2v(txt):\n",
        "  return [p.stem(w) for w in word_tokenize(txt)]"
      ],
      "execution_count": 19,
      "outputs": []
    },
    {
      "cell_type": "code",
      "metadata": {
        "colab": {
          "base_uri": "https://localhost:8080/",
          "height": 34
        },
        "id": "VrDp9mqRd4fr",
        "outputId": "49ff1bf7-68e9-4697-9c4a-17f6ce35792e"
      },
      "source": [
        "stemming('[nltk_data] Downloading package stopwords to /root/nltk_data...')"
      ],
      "execution_count": 7,
      "outputs": [
        {
          "output_type": "execute_result",
          "data": {
            "application/vnd.google.colaboratory.intrinsic+json": {
              "type": "string"
            },
            "text/plain": [
              "'[ nltk_data ] download packag stopword /root/nltk_data ...'"
            ]
          },
          "metadata": {
            "tags": []
          },
          "execution_count": 7
        }
      ]
    },
    {
      "cell_type": "code",
      "metadata": {
        "id": "6Yn8N4shjiYY"
      },
      "source": [
        "df_temp = df.iloc[:, [5, 2]]"
      ],
      "execution_count": 8,
      "outputs": []
    },
    {
      "cell_type": "code",
      "metadata": {
        "id": "nt_FcUPhnia_"
      },
      "source": [
        "def label_encoding(label):\n",
        "  return t.word_index[label.lower()]\n",
        "# df_categories2 = pd.get_dummies(df_temp['category'])"
      ],
      "execution_count": 9,
      "outputs": []
    },
    {
      "cell_type": "code",
      "metadata": {
        "colab": {
          "base_uri": "https://localhost:8080/"
        },
        "id": "uTc3_MzAtKyH",
        "outputId": "322cf879-f21c-4d79-e921-012ff7174b22"
      },
      "source": [
        "df_article = df_temp['clean_article'].apply(stemming_for_w2v)\n",
        "\n",
        "import logging\n",
        "\n",
        "logging.basicConfig(format='%(asctime)s : %(levelname)s : %(message)s',\n",
        "                    level=logging.INFO)\n",
        "\n",
        "num_features = 600\n",
        "min_word_count = 40\n",
        "num_workers = 4\n",
        "context = 10\n",
        "down_sampling = 1e-3\n",
        "\n",
        "model = word2vec.Word2Vec(sentences=df_article,\n",
        "                          workers=num_workers,\n",
        "                          size=num_features,\n",
        "                          min_count=min_word_count,\n",
        "                          window=context,\n",
        "                          sample=down_sampling)\n"
      ],
      "execution_count": 10,
      "outputs": [
        {
          "output_type": "stream",
          "text": [
            "2020-11-29 05:19:36,089 : INFO : collecting all words and their counts\n",
            "2020-11-29 05:19:36,090 : INFO : PROGRESS: at sentence #0, processed 0 words, keeping 0 word types\n",
            "2020-11-29 05:19:37,107 : INFO : collected 34211 word types from a corpus of 5172366 raw words and 10000 sentences\n",
            "2020-11-29 05:19:37,108 : INFO : Loading a fresh vocabulary\n",
            "2020-11-29 05:19:37,206 : INFO : effective_min_count=40 retains 5496 unique words (16% of original 34211, drops 28715)\n",
            "2020-11-29 05:19:37,207 : INFO : effective_min_count=40 leaves 5012461 word corpus (96% of original 5172366, drops 159905)\n",
            "2020-11-29 05:19:37,228 : INFO : deleting the raw counts dictionary of 34211 items\n",
            "2020-11-29 05:19:37,231 : INFO : sample=0.001 downsamples 37 most-common words\n",
            "2020-11-29 05:19:37,234 : INFO : downsampling leaves estimated 3810840 word corpus (76.0% of prior 5012461)\n",
            "2020-11-29 05:19:37,254 : INFO : estimated required memory for 5496 words and 600 dimensions: 29128800 bytes\n",
            "2020-11-29 05:19:37,255 : INFO : resetting layer weights\n",
            "2020-11-29 05:19:38,421 : INFO : training model with 4 workers on 5496 vocabulary and 600 features, using sg=0 hs=0 sample=0.001 negative=5 window=10\n",
            "2020-11-29 05:19:39,478 : INFO : EPOCH 1 - PROGRESS: at 5.45% examples, 202307 words/s, in_qsize 8, out_qsize 0\n",
            "2020-11-29 05:19:40,512 : INFO : EPOCH 1 - PROGRESS: at 10.88% examples, 207543 words/s, in_qsize 7, out_qsize 0\n",
            "2020-11-29 05:19:41,527 : INFO : EPOCH 1 - PROGRESS: at 16.58% examples, 212317 words/s, in_qsize 7, out_qsize 0\n",
            "2020-11-29 05:19:42,553 : INFO : EPOCH 1 - PROGRESS: at 22.26% examples, 212976 words/s, in_qsize 7, out_qsize 0\n",
            "2020-11-29 05:19:43,572 : INFO : EPOCH 1 - PROGRESS: at 27.90% examples, 213290 words/s, in_qsize 7, out_qsize 1\n",
            "2020-11-29 05:19:44,585 : INFO : EPOCH 1 - PROGRESS: at 33.87% examples, 213893 words/s, in_qsize 7, out_qsize 0\n",
            "2020-11-29 05:19:45,587 : INFO : EPOCH 1 - PROGRESS: at 39.32% examples, 214746 words/s, in_qsize 8, out_qsize 0\n",
            "2020-11-29 05:19:46,610 : INFO : EPOCH 1 - PROGRESS: at 44.87% examples, 214758 words/s, in_qsize 6, out_qsize 1\n",
            "2020-11-29 05:19:47,631 : INFO : EPOCH 1 - PROGRESS: at 50.35% examples, 214924 words/s, in_qsize 6, out_qsize 1\n",
            "2020-11-29 05:19:48,673 : INFO : EPOCH 1 - PROGRESS: at 56.26% examples, 215040 words/s, in_qsize 7, out_qsize 0\n",
            "2020-11-29 05:19:49,741 : INFO : EPOCH 1 - PROGRESS: at 62.04% examples, 214036 words/s, in_qsize 7, out_qsize 2\n",
            "2020-11-29 05:19:50,742 : INFO : EPOCH 1 - PROGRESS: at 67.81% examples, 214562 words/s, in_qsize 7, out_qsize 0\n",
            "2020-11-29 05:19:51,768 : INFO : EPOCH 1 - PROGRESS: at 73.70% examples, 214451 words/s, in_qsize 7, out_qsize 0\n",
            "2020-11-29 05:19:52,789 : INFO : EPOCH 1 - PROGRESS: at 79.72% examples, 214095 words/s, in_qsize 7, out_qsize 0\n",
            "2020-11-29 05:19:53,785 : INFO : EPOCH 1 - PROGRESS: at 85.13% examples, 212895 words/s, in_qsize 7, out_qsize 0\n",
            "2020-11-29 05:19:54,796 : INFO : EPOCH 1 - PROGRESS: at 90.65% examples, 212579 words/s, in_qsize 6, out_qsize 1\n",
            "2020-11-29 05:19:55,855 : INFO : EPOCH 1 - PROGRESS: at 97.03% examples, 212858 words/s, in_qsize 7, out_qsize 0\n",
            "2020-11-29 05:19:56,235 : INFO : worker thread finished; awaiting finish of 3 more threads\n",
            "2020-11-29 05:19:56,268 : INFO : worker thread finished; awaiting finish of 2 more threads\n",
            "2020-11-29 05:19:56,273 : INFO : worker thread finished; awaiting finish of 1 more threads\n",
            "2020-11-29 05:19:56,282 : INFO : worker thread finished; awaiting finish of 0 more threads\n",
            "2020-11-29 05:19:56,283 : INFO : EPOCH - 1 : training on 5172366 raw words (3811232 effective words) took 17.9s, 213450 effective words/s\n",
            "2020-11-29 05:19:57,339 : INFO : EPOCH 2 - PROGRESS: at 5.15% examples, 188830 words/s, in_qsize 7, out_qsize 0\n",
            "2020-11-29 05:19:58,353 : INFO : EPOCH 2 - PROGRESS: at 10.34% examples, 199332 words/s, in_qsize 7, out_qsize 0\n",
            "2020-11-29 05:19:59,368 : INFO : EPOCH 2 - PROGRESS: at 15.83% examples, 204776 words/s, in_qsize 7, out_qsize 0\n",
            "2020-11-29 05:20:00,389 : INFO : EPOCH 2 - PROGRESS: at 21.60% examples, 207466 words/s, in_qsize 7, out_qsize 0\n",
            "2020-11-29 05:20:01,404 : INFO : EPOCH 2 - PROGRESS: at 26.94% examples, 207603 words/s, in_qsize 7, out_qsize 0\n",
            "2020-11-29 05:20:02,430 : INFO : EPOCH 2 - PROGRESS: at 32.81% examples, 208637 words/s, in_qsize 7, out_qsize 0\n",
            "2020-11-29 05:20:03,487 : INFO : EPOCH 2 - PROGRESS: at 38.53% examples, 209746 words/s, in_qsize 7, out_qsize 0\n",
            "2020-11-29 05:20:04,492 : INFO : EPOCH 2 - PROGRESS: at 43.78% examples, 208950 words/s, in_qsize 8, out_qsize 1\n",
            "2020-11-29 05:20:05,570 : INFO : EPOCH 2 - PROGRESS: at 49.66% examples, 210095 words/s, in_qsize 7, out_qsize 0\n",
            "2020-11-29 05:20:06,589 : INFO : EPOCH 2 - PROGRESS: at 55.41% examples, 211219 words/s, in_qsize 7, out_qsize 0\n",
            "2020-11-29 05:20:07,597 : INFO : EPOCH 2 - PROGRESS: at 61.53% examples, 212351 words/s, in_qsize 7, out_qsize 0\n",
            "2020-11-29 05:20:08,634 : INFO : EPOCH 2 - PROGRESS: at 67.20% examples, 211886 words/s, in_qsize 7, out_qsize 0\n",
            "2020-11-29 05:20:09,644 : INFO : EPOCH 2 - PROGRESS: at 72.89% examples, 212108 words/s, in_qsize 7, out_qsize 0\n",
            "2020-11-29 05:20:10,658 : INFO : EPOCH 2 - PROGRESS: at 78.91% examples, 211978 words/s, in_qsize 8, out_qsize 0\n",
            "2020-11-29 05:20:11,751 : INFO : EPOCH 2 - PROGRESS: at 85.13% examples, 211474 words/s, in_qsize 7, out_qsize 0\n",
            "2020-11-29 05:20:12,754 : INFO : EPOCH 2 - PROGRESS: at 91.07% examples, 212171 words/s, in_qsize 8, out_qsize 0\n",
            "2020-11-29 05:20:13,791 : INFO : EPOCH 2 - PROGRESS: at 96.97% examples, 212033 words/s, in_qsize 7, out_qsize 0\n",
            "2020-11-29 05:20:14,221 : INFO : worker thread finished; awaiting finish of 3 more threads\n",
            "2020-11-29 05:20:14,233 : INFO : worker thread finished; awaiting finish of 2 more threads\n",
            "2020-11-29 05:20:14,240 : INFO : worker thread finished; awaiting finish of 1 more threads\n",
            "2020-11-29 05:20:14,244 : INFO : worker thread finished; awaiting finish of 0 more threads\n",
            "2020-11-29 05:20:14,245 : INFO : EPOCH - 2 : training on 5172366 raw words (3811623 effective words) took 18.0s, 212301 effective words/s\n",
            "2020-11-29 05:20:15,258 : INFO : EPOCH 3 - PROGRESS: at 5.15% examples, 196062 words/s, in_qsize 7, out_qsize 0\n",
            "2020-11-29 05:20:16,274 : INFO : EPOCH 3 - PROGRESS: at 10.54% examples, 206737 words/s, in_qsize 7, out_qsize 0\n",
            "2020-11-29 05:20:17,289 : INFO : EPOCH 3 - PROGRESS: at 15.98% examples, 209519 words/s, in_qsize 7, out_qsize 0\n",
            "2020-11-29 05:20:18,298 : INFO : EPOCH 3 - PROGRESS: at 21.60% examples, 210044 words/s, in_qsize 7, out_qsize 0\n",
            "2020-11-29 05:20:19,306 : INFO : EPOCH 3 - PROGRESS: at 27.35% examples, 212747 words/s, in_qsize 7, out_qsize 0\n",
            "2020-11-29 05:20:20,311 : INFO : EPOCH 3 - PROGRESS: at 33.06% examples, 212479 words/s, in_qsize 7, out_qsize 0\n",
            "2020-11-29 05:20:21,325 : INFO : EPOCH 3 - PROGRESS: at 38.77% examples, 214273 words/s, in_qsize 7, out_qsize 0\n",
            "2020-11-29 05:20:22,363 : INFO : EPOCH 3 - PROGRESS: at 44.19% examples, 212977 words/s, in_qsize 6, out_qsize 1\n",
            "2020-11-29 05:20:23,374 : INFO : EPOCH 3 - PROGRESS: at 49.66% examples, 213646 words/s, in_qsize 7, out_qsize 0\n",
            "2020-11-29 05:20:24,396 : INFO : EPOCH 3 - PROGRESS: at 55.41% examples, 214329 words/s, in_qsize 7, out_qsize 0\n",
            "2020-11-29 05:20:25,432 : INFO : EPOCH 3 - PROGRESS: at 61.26% examples, 214048 words/s, in_qsize 6, out_qsize 1\n",
            "2020-11-29 05:20:26,457 : INFO : EPOCH 3 - PROGRESS: at 67.39% examples, 214772 words/s, in_qsize 7, out_qsize 0\n",
            "2020-11-29 05:20:27,471 : INFO : EPOCH 3 - PROGRESS: at 73.10% examples, 214722 words/s, in_qsize 7, out_qsize 0\n",
            "2020-11-29 05:20:28,493 : INFO : EPOCH 3 - PROGRESS: at 79.30% examples, 214779 words/s, in_qsize 7, out_qsize 0\n",
            "2020-11-29 05:20:29,523 : INFO : EPOCH 3 - PROGRESS: at 85.31% examples, 214515 words/s, in_qsize 6, out_qsize 1\n",
            "2020-11-29 05:20:30,544 : INFO : EPOCH 3 - PROGRESS: at 91.24% examples, 214789 words/s, in_qsize 7, out_qsize 0\n",
            "2020-11-29 05:20:31,554 : INFO : EPOCH 3 - PROGRESS: at 97.15% examples, 214763 words/s, in_qsize 7, out_qsize 0\n",
            "2020-11-29 05:20:31,888 : INFO : worker thread finished; awaiting finish of 3 more threads\n",
            "2020-11-29 05:20:31,910 : INFO : worker thread finished; awaiting finish of 2 more threads\n",
            "2020-11-29 05:20:31,912 : INFO : worker thread finished; awaiting finish of 1 more threads\n",
            "2020-11-29 05:20:31,914 : INFO : worker thread finished; awaiting finish of 0 more threads\n",
            "2020-11-29 05:20:31,915 : INFO : EPOCH - 3 : training on 5172366 raw words (3811154 effective words) took 17.7s, 215730 effective words/s\n",
            "2020-11-29 05:20:32,962 : INFO : EPOCH 4 - PROGRESS: at 5.36% examples, 197604 words/s, in_qsize 7, out_qsize 0\n",
            "2020-11-29 05:20:34,027 : INFO : EPOCH 4 - PROGRESS: at 11.07% examples, 209257 words/s, in_qsize 7, out_qsize 0\n",
            "2020-11-29 05:20:35,034 : INFO : EPOCH 4 - PROGRESS: at 16.57% examples, 211631 words/s, in_qsize 7, out_qsize 0\n",
            "2020-11-29 05:20:36,052 : INFO : EPOCH 4 - PROGRESS: at 22.17% examples, 211127 words/s, in_qsize 8, out_qsize 0\n",
            "2020-11-29 05:20:37,128 : INFO : EPOCH 4 - PROGRESS: at 28.07% examples, 212393 words/s, in_qsize 8, out_qsize 1\n",
            "2020-11-29 05:20:38,133 : INFO : EPOCH 4 - PROGRESS: at 34.18% examples, 214311 words/s, in_qsize 7, out_qsize 0\n",
            "2020-11-29 05:20:39,223 : INFO : EPOCH 4 - PROGRESS: at 39.88% examples, 213287 words/s, in_qsize 6, out_qsize 1\n",
            "2020-11-29 05:20:40,240 : INFO : EPOCH 4 - PROGRESS: at 45.62% examples, 214624 words/s, in_qsize 7, out_qsize 0\n",
            "2020-11-29 05:20:41,289 : INFO : EPOCH 4 - PROGRESS: at 51.13% examples, 214181 words/s, in_qsize 6, out_qsize 1\n",
            "2020-11-29 05:20:42,330 : INFO : EPOCH 4 - PROGRESS: at 57.18% examples, 215135 words/s, in_qsize 7, out_qsize 0\n",
            "2020-11-29 05:20:43,350 : INFO : EPOCH 4 - PROGRESS: at 63.18% examples, 215690 words/s, in_qsize 8, out_qsize 0\n",
            "2020-11-29 05:20:44,360 : INFO : EPOCH 4 - PROGRESS: at 69.05% examples, 215925 words/s, in_qsize 7, out_qsize 0\n",
            "2020-11-29 05:20:45,368 : INFO : EPOCH 4 - PROGRESS: at 74.54% examples, 214872 words/s, in_qsize 8, out_qsize 1\n",
            "2020-11-29 05:20:46,409 : INFO : EPOCH 4 - PROGRESS: at 81.07% examples, 215627 words/s, in_qsize 7, out_qsize 0\n",
            "2020-11-29 05:20:47,439 : INFO : EPOCH 4 - PROGRESS: at 87.03% examples, 215237 words/s, in_qsize 6, out_qsize 1\n",
            "2020-11-29 05:20:48,461 : INFO : EPOCH 4 - PROGRESS: at 93.17% examples, 215430 words/s, in_qsize 7, out_qsize 0\n",
            "2020-11-29 05:20:49,485 : INFO : EPOCH 4 - PROGRESS: at 99.52% examples, 216046 words/s, in_qsize 3, out_qsize 0\n",
            "2020-11-29 05:20:49,487 : INFO : worker thread finished; awaiting finish of 3 more threads\n",
            "2020-11-29 05:20:49,510 : INFO : worker thread finished; awaiting finish of 2 more threads\n",
            "2020-11-29 05:20:49,527 : INFO : worker thread finished; awaiting finish of 1 more threads\n",
            "2020-11-29 05:20:49,538 : INFO : worker thread finished; awaiting finish of 0 more threads\n",
            "2020-11-29 05:20:49,539 : INFO : EPOCH - 4 : training on 5172366 raw words (3810648 effective words) took 17.6s, 216333 effective words/s\n",
            "2020-11-29 05:20:50,567 : INFO : EPOCH 5 - PROGRESS: at 5.33% examples, 201064 words/s, in_qsize 7, out_qsize 0\n",
            "2020-11-29 05:20:51,649 : INFO : EPOCH 5 - PROGRESS: at 11.10% examples, 209271 words/s, in_qsize 7, out_qsize 0\n",
            "2020-11-29 05:20:52,757 : INFO : EPOCH 5 - PROGRESS: at 17.11% examples, 211383 words/s, in_qsize 8, out_qsize 1\n",
            "2020-11-29 05:20:53,778 : INFO : EPOCH 5 - PROGRESS: at 22.97% examples, 214389 words/s, in_qsize 7, out_qsize 0\n",
            "2020-11-29 05:20:54,791 : INFO : EPOCH 5 - PROGRESS: at 28.81% examples, 215573 words/s, in_qsize 7, out_qsize 0\n",
            "2020-11-29 05:20:55,836 : INFO : EPOCH 5 - PROGRESS: at 34.53% examples, 213937 words/s, in_qsize 6, out_qsize 1\n",
            "2020-11-29 05:20:56,844 : INFO : EPOCH 5 - PROGRESS: at 40.41% examples, 216109 words/s, in_qsize 7, out_qsize 0\n",
            "2020-11-29 05:20:57,854 : INFO : EPOCH 5 - PROGRESS: at 45.84% examples, 215737 words/s, in_qsize 7, out_qsize 0\n",
            "2020-11-29 05:20:58,938 : INFO : EPOCH 5 - PROGRESS: at 51.48% examples, 215024 words/s, in_qsize 7, out_qsize 0\n",
            "2020-11-29 05:20:59,972 : INFO : EPOCH 5 - PROGRESS: at 57.36% examples, 215371 words/s, in_qsize 7, out_qsize 0\n",
            "2020-11-29 05:21:01,020 : INFO : EPOCH 5 - PROGRESS: at 63.42% examples, 215415 words/s, in_qsize 7, out_qsize 0\n",
            "2020-11-29 05:21:02,092 : INFO : EPOCH 5 - PROGRESS: at 69.42% examples, 215656 words/s, in_qsize 7, out_qsize 0\n",
            "2020-11-29 05:21:03,124 : INFO : EPOCH 5 - PROGRESS: at 75.82% examples, 215898 words/s, in_qsize 7, out_qsize 0\n",
            "2020-11-29 05:21:04,159 : INFO : EPOCH 5 - PROGRESS: at 82.04% examples, 216096 words/s, in_qsize 7, out_qsize 0\n",
            "2020-11-29 05:21:05,159 : INFO : EPOCH 5 - PROGRESS: at 88.04% examples, 216572 words/s, in_qsize 7, out_qsize 0\n",
            "2020-11-29 05:21:06,163 : INFO : EPOCH 5 - PROGRESS: at 93.91% examples, 216025 words/s, in_qsize 7, out_qsize 0\n",
            "2020-11-29 05:21:07,070 : INFO : worker thread finished; awaiting finish of 3 more threads\n",
            "2020-11-29 05:21:07,087 : INFO : worker thread finished; awaiting finish of 2 more threads\n",
            "2020-11-29 05:21:07,094 : INFO : worker thread finished; awaiting finish of 1 more threads\n",
            "2020-11-29 05:21:07,110 : INFO : worker thread finished; awaiting finish of 0 more threads\n",
            "2020-11-29 05:21:07,111 : INFO : EPOCH - 5 : training on 5172366 raw words (3810060 effective words) took 17.6s, 216925 effective words/s\n",
            "2020-11-29 05:21:07,112 : INFO : training on a 25861830 raw words (19054717 effective words) took 88.7s, 214847 effective words/s\n"
          ],
          "name": "stderr"
        }
      ]
    },
    {
      "cell_type": "code",
      "metadata": {
        "colab": {
          "base_uri": "https://localhost:8080/"
        },
        "id": "hp0GsFLWwAV-",
        "outputId": "74c19c69-04f5-42eb-d76d-2922e1f0477d"
      },
      "source": [
        "index2word_set = set(model.wv.index2word)\n",
        "len(index2word_set)"
      ],
      "execution_count": 11,
      "outputs": [
        {
          "output_type": "execute_result",
          "data": {
            "text/plain": [
              "5496"
            ]
          },
          "metadata": {
            "tags": []
          },
          "execution_count": 11
        }
      ]
    },
    {
      "cell_type": "code",
      "metadata": {
        "colab": {
          "base_uri": "https://localhost:8080/"
        },
        "id": "RbsKryeCvNjq",
        "outputId": "56afea00-3013-44ea-afe8-30d593cc1c5a"
      },
      "source": [
        "model_name = '/content/drive/MyDrive/Colab Notebooks/data/data/' +'600features_40minwords_10context'\n",
        "model.save(model_name)"
      ],
      "execution_count": 12,
      "outputs": [
        {
          "output_type": "stream",
          "text": [
            "2020-11-29 05:21:07,145 : INFO : saving Word2Vec object under /content/drive/MyDrive/Colab Notebooks/data/data/600features_40minwords_10context, separately None\n",
            "2020-11-29 05:21:07,148 : INFO : not storing attribute vectors_norm\n",
            "2020-11-29 05:21:07,151 : INFO : not storing attribute cum_table\n",
            "2020-11-29 05:21:09,343 : INFO : saved /content/drive/MyDrive/Colab Notebooks/data/data/600features_40minwords_10context\n"
          ],
          "name": "stderr"
        }
      ]
    },
    {
      "cell_type": "code",
      "metadata": {
        "colab": {
          "base_uri": "https://localhost:8080/"
        },
        "id": "GsemTnb9v7Eq",
        "outputId": "cdb7d4e8-ea11-493e-b1d0-0c874d8f8bff"
      },
      "source": [
        "df_article"
      ],
      "execution_count": 13,
      "outputs": [
        {
          "output_type": "execute_result",
          "data": {
            "text/plain": [
              "0       [better, to, give, properti, than, to, receiv,...\n",
              "1       [new, analysi, As, foreign, rush, back, market...\n",
              "2       [SK, telcom, merg, two, secur, servic, subsidi...\n",
              "3       [border, restrict, drastic, cut, north, korea,...\n",
              "4       [bureaucraci, weigh, in, on, AI, give, it, a, ...\n",
              "                              ...                        \n",
              "9995    [explos, at, institut, for, defens, kill, one,...\n",
              "9996    [readi, to, relax, student, who, finish, the, ...\n",
              "9997    [ryu, hyun, jin, veri, nearli, win, Cy, young,...\n",
              "9998    [park, byung, ho, just, isn, t, hit, like, par...\n",
              "9999    [mexico, 's, success, is, all, about, the, sco...\n",
              "Name: clean_article, Length: 10000, dtype: object"
            ]
          },
          "metadata": {
            "tags": []
          },
          "execution_count": 13
        }
      ]
    },
    {
      "cell_type": "code",
      "metadata": {
        "id": "JX8BvlWAeI5o"
      },
      "source": [
        "import re\n",
        "def clean_text(txt: str) -> str:\n",
        "  return \" \".join(re.sub('[^a-zA-Z]', ' ', txt).split())"
      ],
      "execution_count": 70,
      "outputs": []
    },
    {
      "cell_type": "code",
      "metadata": {
        "colab": {
          "base_uri": "https://localhost:8080/"
        },
        "id": "46t3NHkPyme1",
        "outputId": "0252b41a-642b-4e44-9ae5-e1d5b95a58a0"
      },
      "source": [
        "df_temp['clean_article'] = df_temp['clean_article'].apply(clean_text)\n",
        "%time df_article = df_temp['clean_article'].apply(stemming)"
      ],
      "execution_count": 26,
      "outputs": [
        {
          "output_type": "stream",
          "text": [
            "/usr/local/lib/python3.6/dist-packages/ipykernel_launcher.py:1: SettingWithCopyWarning: \n",
            "A value is trying to be set on a copy of a slice from a DataFrame.\n",
            "Try using .loc[row_indexer,col_indexer] = value instead\n",
            "\n",
            "See the caveats in the documentation: https://pandas.pydata.org/pandas-docs/stable/user_guide/indexing.html#returning-a-view-versus-a-copy\n",
            "  \"\"\"Entry point for launching an IPython kernel.\n"
          ],
          "name": "stderr"
        },
        {
          "output_type": "stream",
          "text": [
            "CPU times: user 1min 13s, sys: 131 ms, total: 1min 14s\n",
            "Wall time: 1min 14s\n"
          ],
          "name": "stdout"
        }
      ]
    },
    {
      "cell_type": "code",
      "metadata": {
        "id": "6tgTVWKpyrsa"
      },
      "source": [
        "t = Tokenizer()\n",
        "t.fit_on_texts(df_temp['category'].unique())\n",
        "t.fit_on_texts(df_article)"
      ],
      "execution_count": 71,
      "outputs": []
    },
    {
      "cell_type": "code",
      "metadata": {
        "colab": {
          "base_uri": "https://localhost:8080/"
        },
        "id": "d5YT8RETsV2H",
        "outputId": "2c71f491-3960-43b5-81a6-6f6d95fa8aae"
      },
      "source": [
        "t.word_counts"
      ],
      "execution_count": 72,
      "outputs": [
        {
          "output_type": "execute_result",
          "data": {
            "text/plain": [
              "OrderedDict([('business', 1),\n",
              "             ('national', 1),\n",
              "             ('entertainment', 1),\n",
              "             ('sports', 1),\n",
              "             ('culture', 1),\n",
              "             ('imagenews', 1),\n",
              "             ('englishstudy', 1),\n",
              "             ('kpop', 7),\n",
              "             ('economy', 1),\n",
              "             ('industry', 1),\n",
              "             ('finance', 1),\n",
              "             ('tech', 503),\n",
              "             ('socialaffairs', 1),\n",
              "             ('defense', 1),\n",
              "             ('politics', 1),\n",
              "             ('people', 1),\n",
              "             ('baseball', 1),\n",
              "             ('diplomacy', 1),\n",
              "             ('movies', 1),\n",
              "             ('koreanheritage', 1),\n",
              "             ('golf', 389),\n",
              "             ('books', 1),\n",
              "             ('musicperformance', 1),\n",
              "             ('photos', 1),\n",
              "             ('football', 1),\n",
              "             ('foodtravel', 1),\n",
              "             ('sponsoredreports', 1),\n",
              "             ('northkorea', 1),\n",
              "             ('sportinterview', 1),\n",
              "             ('etc', 14),\n",
              "             ('artsdesign', 1),\n",
              "             ('features', 1),\n",
              "             ('videonews', 1),\n",
              "             ('lifestyle', 1),\n",
              "             ('more', 3),\n",
              "             ('nationalguestreports', 1),\n",
              "             ('better', 1212),\n",
              "             ('give', 1737),\n",
              "             ('properti', 803),\n",
              "             ('receiv', 2710),\n",
              "             ('big', 2194),\n",
              "             ('tax', 1717),\n",
              "             ('bill', 1225),\n",
              "             ('view', 1155),\n",
              "             ('apart', 1564),\n",
              "             ('songpa', 203),\n",
              "             ('distirct', 2),\n",
              "             ('southern', 1454),\n",
              "             ('seoul', 13492),\n",
              "             ('ski', 200),\n",
              "             ('top', 3571),\n",
              "             ('lott', 1824),\n",
              "             ('world', 4620),\n",
              "             ('tower', 243),\n",
              "             ('yonhap', 4417),\n",
              "             ('new', 12796),\n",
              "             ('real', 1750),\n",
              "             ('estat', 1071),\n",
              "             ('measur', 2714),\n",
              "             ('pass', 1207),\n",
              "             ('rais', 1722),\n",
              "             ('cost', 1534),\n",
              "             ('ownership', 121),\n",
              "             ('penal', 46),\n",
              "             ('sale', 4274),\n",
              "             ('owner', 751),\n",
              "             ('choos', 397),\n",
              "             ('pay', 1778),\n",
              "             ('rather', 768),\n",
              "             ('later', 1479),\n",
              "             ('even', 3785),\n",
              "             ('gift', 409),\n",
              "             ('make', 5897),\n",
              "             ('sens', 378),\n",
              "             ('transfer', 456),\n",
              "             ('other', 894),\n",
              "             ('hold', 2411),\n",
              "             ('onto', 270),\n",
              "             ('get', 4014),\n",
              "             ('nickel', 20),\n",
              "             ('dime', 5),\n",
              "             ('etern', 66),\n",
              "             ('accord', 6464),\n",
              "             ('korea', 24407),\n",
              "             ('apprais', 79),\n",
              "             ('board', 936),\n",
              "             ('roughli', 239),\n",
              "             ('home', 3865),\n",
              "             ('given', 1115),\n",
              "             ('away', 1009),\n",
              "             ('year', 22861),\n",
              "             ('octob', 899),\n",
              "             ('highest', 814),\n",
              "             ('yearli', 76),\n",
              "             ('figur', 1161),\n",
              "             ('sinc', 6140),\n",
              "             ('relat', 2577),\n",
              "             ('statist', 574),\n",
              "             ('first', 11587),\n",
              "             ('compil', 209),\n",
              "             ('record', 2368),\n",
              "             ('high', 3609),\n",
              "             ('situat', 1555),\n",
              "             ('evid', 445),\n",
              "             ('affluent', 25),\n",
              "             ('gangnam', 789),\n",
              "             ('area', 2415),\n",
              "             ('total', 3435),\n",
              "             ('three', 5449),\n",
              "             ('district', 3683),\n",
              "             ('south', 4692),\n",
              "             ('han', 1099),\n",
              "             ('river', 336),\n",
              "             ('seocho', 231),\n",
              "             ('hand', 1461),\n",
              "             ('account', 1658),\n",
              "             ('percent', 15953),\n",
              "             ('number', 4189),\n",
              "             ('giveaway', 16),\n",
              "             ('recent', 3222),\n",
              "             ('boom', 134),\n",
              "             ('larg', 1678),\n",
              "             ('due', 3403),\n",
              "             ('govern', 10065),\n",
              "             ('continu', 3777),\n",
              "             ('attempt', 765),\n",
              "             ('increas', 4111),\n",
              "             ('rate', 2249),\n",
              "             ('moon', 4994),\n",
              "             ('administr', 1996),\n",
              "             ('juli', 2136),\n",
              "             ('announc', 4332),\n",
              "             ('maximum', 395),\n",
              "             ('capit', 1116),\n",
              "             ('gain', 1097),\n",
              "             ('profit', 1865),\n",
              "             ('made', 4675),\n",
              "             ('sell', 1721),\n",
              "             ('current', 2994),\n",
              "             ('appli', 900),\n",
              "             ('start', 7145),\n",
              "             ('june', 2340),\n",
              "             ('next', 3415),\n",
              "             ('comprehens', 303),\n",
              "             ('anoth', 2718),\n",
              "             ('drive', 1145),\n",
              "             ('forc', 2172),\n",
              "             ('plan', 5010),\n",
              "             ('also', 12840),\n",
              "             ('wire', 118),\n",
              "             ('avoid', 542),\n",
              "             ('peopl', 9787),\n",
              "             ('scrambl', 101),\n",
              "             ('famili', 2287),\n",
              "             ('still', 2663),\n",
              "             ('rang', 1003),\n",
              "             ('mani', 3272),\n",
              "             ('homeown', 81),\n",
              "             ('face', 2974),\n",
              "             ('stiffer', 4),\n",
              "             ('payment', 836),\n",
              "             ('subject', 441),\n",
              "             ('newli', 455),\n",
              "             ('transact', 545),\n",
              "             ('percentag', 471),\n",
              "             ('across', 1267),\n",
              "             ('countri', 7114),\n",
              "             ('collect', 906),\n",
              "             ('oh', 776),\n",
              "             ('seok', 1192),\n",
              "             ('chea', 438),\n",
              "             ('sarah', 1171),\n",
              "             ('joongang', 8206),\n",
              "             ('co', 7359),\n",
              "             ('kr', 6935),\n",
              "             ('analysi', 275),\n",
              "             ('foreign', 3596),\n",
              "             ('rush', 222),\n",
              "             ('back', 3642),\n",
              "             ('market', 6114),\n",
              "             ('final', 1989),\n",
              "             ('kospi', 634),\n",
              "             ('dollar', 499),\n",
              "             ('price', 3269),\n",
              "             ('display', 1048),\n",
              "             ('screen', 1440),\n",
              "             ('deal', 2321),\n",
              "             ('room', 1462),\n",
              "             ('hana', 413),\n",
              "             ('bank', 3274),\n",
              "             ('jung', 2249),\n",
              "             ('central', 3494),\n",
              "             ('friday', 2858),\n",
              "             ('benchmark', 214),\n",
              "             ('close', 3436),\n",
              "             ('point', 2723),\n",
              "             ('previou', 1681),\n",
              "             ('day', 7122),\n",
              "             ('stock', 1557),\n",
              "             ('hit', 3197),\n",
              "             ('seri', 2234),\n",
              "             ('investor', 1546),\n",
              "             ('return', 2138),\n",
              "             ('hope', 2294),\n",
              "             ('covid', 3758),\n",
              "             ('vaccin', 742),\n",
              "             ('put', 1652),\n",
              "             ('end', 3835),\n",
              "             ('pandem', 2627),\n",
              "             ('u', 5169),\n",
              "             ('help', 3143),\n",
              "             ('korean', 15805),\n",
              "             ('chines', 1728),\n",
              "             ('export', 2148),\n",
              "             ('main', 1320),\n",
              "             ('index', 424),\n",
              "             ('nov', 900),\n",
              "             ('broke', 316),\n",
              "             ('mark', 1200),\n",
              "             ('time', 9577),\n",
              "             ('trend', 680),\n",
              "             ('upward', 49),\n",
              "             ('led', 1305),\n",
              "             ('novemb', 867),\n",
              "             ('alon', 552),\n",
              "             ('purchas', 1487),\n",
              "             ('net', 1292),\n",
              "             ('trillion', 3626),\n",
              "             ('billion', 6058),\n",
              "             ('share', 3510),\n",
              "             ('th', 2264),\n",
              "             ('month', 6853),\n",
              "             ('period', 2009),\n",
              "             ('retail', 1355),\n",
              "             ('offload', 88),\n",
              "             ('institut', 1894),\n",
              "             ('sold', 1548),\n",
              "             ('low', 1129),\n",
              "             ('march', 2634),\n",
              "             ('touch', 355),\n",
              "             ('uncertainti', 311),\n",
              "             ('amid', 1319),\n",
              "             ('improv', 1273),\n",
              "             ('sentiment', 353),\n",
              "             ('part', 3290),\n",
              "             ('major', 2746),\n",
              "             ('reason', 969),\n",
              "             ('show', 4448),\n",
              "             ('quick', 156),\n",
              "             ('sign', 2265),\n",
              "             ('recoveri', 617),\n",
              "             ('august', 941),\n",
              "             ('septemb', 1017),\n",
              "             ('passiv', 28),\n",
              "             ('attitud', 109),\n",
              "             ('toward', 1128),\n",
              "             ('overal', 539),\n",
              "             ('economi', 1829),\n",
              "             ('said', 29047),\n",
              "             ('cho', 2325),\n",
              "             ('byung', 277),\n",
              "             ('hyun', 1556),\n",
              "             ('analyst', 978),\n",
              "             ('yuanta', 20),\n",
              "             ('secur', 2868),\n",
              "             ('howev', 2187),\n",
              "             ('decreas', 377),\n",
              "             ('presidenti', 1047),\n",
              "             ('elect', 2471),\n",
              "             ('develop', 3631),\n",
              "             ('local', 4335),\n",
              "             ('faster', 196),\n",
              "             ('ever', 1084),\n",
              "             ('semiconductor', 494),\n",
              "             ('maker', 700),\n",
              "             ('batteri', 1241),\n",
              "             ('firm', 1122),\n",
              "             ('particularli', 399),\n",
              "             ('popular', 1658),\n",
              "             ('bought', 328),\n",
              "             ('samsung', 3889),\n",
              "             ('electron', 1989),\n",
              "             ('compani', 12395),\n",
              "             ('jump', 851),\n",
              "             ('lg', 2416),\n",
              "             ('chem', 603),\n",
              "             ('follow', 3618),\n",
              "             ('sk', 2451),\n",
              "             ('hynix', 282),\n",
              "             ('anticip', 313),\n",
              "             ('cap', 343),\n",
              "             ('earn', 1110),\n",
              "             ('seem', 1152),\n",
              "             ('driven', 189),\n",
              "             ('outbreak', 2603),\n",
              "             ('like', 6380),\n",
              "             ('keep', 1631),\n",
              "             ('boost', 609),\n",
              "             ('demand', 2204),\n",
              "             ('chip', 649),\n",
              "             ('expert', 1069),\n",
              "             ('say', 4370),\n",
              "             ('expect', 3404),\n",
              "             ('least', 1154),\n",
              "             ('rest', 672),\n",
              "             ('possibl', 2146),\n",
              "             ('till', 101),\n",
              "             ('half', 1779),\n",
              "             ('research', 1869),\n",
              "             ('kcmi', 2),\n",
              "             ('held', 2729),\n",
              "             ('brief', 855),\n",
              "             ('prospect', 138),\n",
              "             ('financi', 2821),\n",
              "             ('invest', 3222),\n",
              "             ('center', 3996),\n",
              "             ('yeouido', 283),\n",
              "             ('western', 1093),\n",
              "             ('reach', 2068),\n",
              "             ('jang', 615),\n",
              "             ('geun', 326),\n",
              "             ('hyuk', 203),\n",
              "             ('macro', 7),\n",
              "             ('oversea', 1327),\n",
              "             ('well', 3873),\n",
              "             ('young', 3475),\n",
              "             ('enter', 1006),\n",
              "             ('recov', 652),\n",
              "             ('brokerag', 230),\n",
              "             ('hous', 3408),\n",
              "             ('agre', 1013),\n",
              "             ('forecast', 370),\n",
              "             ('heungkuk', 17),\n",
              "             ('estim', 690),\n",
              "             ('would', 5290),\n",
              "             ('predict', 376),\n",
              "             ('nh', 135),\n",
              "             ('meritz', 28),\n",
              "             ('call', 3717),\n",
              "             ('kb', 647),\n",
              "             ('ktb', 14),\n",
              "             ('db', 25),\n",
              "             ('kiwoom', 251),\n",
              "             ('remain', 2180),\n",
              "             ('around', 3666),\n",
              "             ('fast', 446),\n",
              "             ('growth', 1664),\n",
              "             ('concern', 1535),\n",
              "             ('bubbl', 64),\n",
              "             ('form', 1113),\n",
              "             ('support', 2953),\n",
              "             ('true', 403),\n",
              "             ('item', 718),\n",
              "             ('higher', 964),\n",
              "             ('consid', 1703),\n",
              "             ('begin', 1288),\n",
              "             ('lot', 1604),\n",
              "             ('park', 6373),\n",
              "             ('soo', 1305),\n",
              "             ('min', 2224),\n",
              "             ('shinyoung', 19),\n",
              "             ('enough', 867),\n",
              "             ('liquid', 380),\n",
              "             ('think', 3230),\n",
              "             ('valuat', 77),\n",
              "             ('woe', 27),\n",
              "             ('kang', 2702),\n",
              "             ('jeong', 1652),\n",
              "             ('anylyst', 1),\n",
              "             ('kyobo', 73),\n",
              "             ('joe', 112),\n",
              "             ('biden', 283),\n",
              "             ('global', 3167),\n",
              "             ('normal', 765),\n",
              "             ('intern', 3505),\n",
              "             ('trade', 2864),\n",
              "             ('eventu', 420),\n",
              "             ('lift', 469),\n",
              "             ('near', 892),\n",
              "             ('zero', 371),\n",
              "             ('interest', 1449),\n",
              "             ('find', 1528),\n",
              "             ('altern', 273),\n",
              "             ('rise', 1341),\n",
              "             ('extend', 845),\n",
              "             ('buy', 929),\n",
              "             ('spree', 36),\n",
              "             ('straight', 403),\n",
              "             ('session', 1125),\n",
              "             ('longest', 129),\n",
              "             ('streak', 290),\n",
              "             ('ad', 3435),\n",
              "             ('fresh', 393),\n",
              "             ('chipmak', 189),\n",
              "             ('lost', 958),\n",
              "             ('recharg', 92),\n",
              "             ('sdi', 156),\n",
              "             ('chemic', 430),\n",
              "             ('shed', 188),\n",
              "             ('hyundai', 3264),\n",
              "             ('motor', 2681),\n",
              "             ('largest', 1611),\n",
              "             ('carmak', 306),\n",
              "             ('rose', 1065),\n",
              "             ('steelmak', 117),\n",
              "             ('posco', 519),\n",
              "             ('untact', 157),\n",
              "             ('theme', 359),\n",
              "             ('naver', 1130),\n",
              "             ('kakao', 1223),\n",
              "             ('lose', 669),\n",
              "             ('steam', 52),\n",
              "             ('declin', 1186),\n",
              "             ('rival', 312),\n",
              "             ('kosdaq', 252),\n",
              "             ('telcom', 2),\n",
              "             ('merg', 133),\n",
              "             ('two', 9308),\n",
              "             ('servic', 5489),\n",
              "             ('subsidiari', 375),\n",
              "             ('telecom', 625),\n",
              "             ('adt', 11),\n",
              "             ('infosec', 5),\n",
              "             ('aim', 737),\n",
              "             ('take', 5440),\n",
              "             ('public', 3877),\n",
              "             ('move', 2048),\n",
              "             ('combin', 731),\n",
              "             ('entiti', 162),\n",
              "             ('domin', 426),\n",
              "             ('inform', 1959),\n",
              "             ('term', 2174),\n",
              "             ('second', 4303),\n",
              "             ('unit', 5801),\n",
              "             ('could', 4081),\n",
              "             ('earli', 1675),\n",
              "             ('process', 1738),\n",
              "             ('goe', 529),\n",
              "             ('frame', 109),\n",
              "             ('list', 1383),\n",
              "             ('offer', 3456),\n",
              "             ('own', 964),\n",
              "             ('teleom', 1),\n",
              "             ('wholli', 39),\n",
              "             ('life', 1910),\n",
              "             ('oper', 3772),\n",
              "             ('macquari', 3),\n",
              "             ('merger', 394),\n",
              "             ('directli', 448),\n",
              "             ('intend', 302),\n",
              "             ('allow', 2539),\n",
              "             ('use', 6157),\n",
              "             ('advanc', 984),\n",
              "             ('technolog', 2167),\n",
              "             ('grow', 1549),\n",
              "             ('converg', 43),\n",
              "             ('worth', 968),\n",
              "             ('within', 1342),\n",
              "             ('launch', 2074),\n",
              "             ('leverag', 54),\n",
              "             ('physic', 502),\n",
              "             ('statement', 2271),\n",
              "             ('eun', 2010),\n",
              "             ('jee', 517),\n",
              "             ('eunje', 338),\n",
              "             ('border', 579),\n",
              "             ('restrict', 1120),\n",
              "             ('drastic', 135),\n",
              "             ('cut', 1229),\n",
              "             ('north', 7009),\n",
              "             ('yalu', 8),\n",
              "             ('bridg', 238),\n",
              "             ('connect', 917),\n",
              "             ('sinuiju', 9),\n",
              "             ('dandong', 14),\n",
              "             ('china', 3461),\n",
              "             ('biggest', 950),\n",
              "             ('partner', 905),\n",
              "             ('ap', 220),\n",
              "             ('photo', 1035),\n",
              "             ('emili', 4),\n",
              "             ('wang', 125),\n",
              "             ('impos', 431),\n",
              "             ('pyongyang', 1252),\n",
              "             ('coronaviru', 6326),\n",
              "             ('sharper', 28),\n",
              "             ('round', 1057),\n",
              "             ('nation', 6680),\n",
              "             ('sanction', 591),\n",
              "             ('result', 1993),\n",
              "             ('associ', 1188),\n",
              "             ('kita', 35),\n",
              "             ('releas', 4608),\n",
              "             ('report', 5233),\n",
              "             ('third', 2408),\n",
              "             ('quarter', 1781),\n",
              "             ('drop', 1862),\n",
              "             ('ramp', 54),\n",
              "             ('cleanup', 24),\n",
              "             ('ahead', 1054),\n",
              "             ('congress', 65),\n",
              "             ('worker', 2201),\n",
              "             ('parti', 5147),\n",
              "             ('januari', 1159),\n",
              "             ('impact', 910),\n",
              "             ('slightli', 173),\n",
              "             ('may', 4969),\n",
              "             ('cumul', 39),\n",
              "             ('import', 2554),\n",
              "             ('rel', 501),\n",
              "             ('lower', 1100),\n",
              "             ('necess', 114),\n",
              "             ('cook', 294),\n",
              "             ('oil', 656),\n",
              "             ('flour', 43),\n",
              "             ('sugar', 57),\n",
              "             ('medic', 1734),\n",
              "             ('suppli', 1254),\n",
              "             ('manufactur', 1477),\n",
              "             ('watch', 851),\n",
              "             ('wig', 10),\n",
              "             ('heavili', 254),\n",
              "             ('saw', 973),\n",
              "             ('compar', 1848),\n",
              "             ('februari', 1234),\n",
              "             ('million', 6489),\n",
              "             ('less', 1064),\n",
              "             ('one', 9600),\n",
              "             ('tenth', 19),\n",
              "             ('russia', 435),\n",
              "             ('food', 1948),\n",
              "             ('specul', 437),\n",
              "             ('reli', 220),\n",
              "             ('essenti', 348),\n",
              "             ('treat', 383),\n",
              "             ('relief', 608),\n",
              "             ('aid', 836),\n",
              "             ('custom', 2413),\n",
              "             ('strengthen', 642),\n",
              "             ('control', 1681),\n",
              "             ('prepar', 1255),\n",
              "             ('anniversari', 632),\n",
              "             ('oct', 868),\n",
              "             ('henc', 30),\n",
              "             ('amount', 1077),\n",
              "             ('spokesperson', 740),\n",
              "             ('abl', 1858),\n",
              "             ('sustain', 415),\n",
              "             ('level', 2209),\n",
              "             ('blockad', 10),\n",
              "             ('expand', 1649),\n",
              "             ('product', 4803),\n",
              "             ('health', 3108),\n",
              "             ('hygien', 103),\n",
              "             ('sung', 1477),\n",
              "             ('woo', 1012),\n",
              "             ('lee', 10502),\n",
              "             ('jeeyoung', 173),\n",
              "             ('bureaucraci', 8),\n",
              "             ('weigh', 169),\n",
              "             ('ai', 700),\n",
              "             ('presid', 3970),\n",
              "             ('jae', 3282),\n",
              "             ('deliv', 825),\n",
              "             ('speech', 496),\n",
              "             ('kintex', 17),\n",
              "             ('ilsan', 28),\n",
              "             ('gyeonggi', 2067),\n",
              "             ('isaac', 11),\n",
              "             ('asimov', 1),\n",
              "             ('law', 1710),\n",
              "             ('principl', 230),\n",
              "             ('ten', 200),\n",
              "             ('requir', 1290),\n",
              "             ('base', 3297),\n",
              "             ('consult', 480),\n",
              "             ('differ', 2689),\n",
              "             ('guidelin', 574),\n",
              "             ('mayb', 147),\n",
              "             ('adjust', 384),\n",
              "             ('amend', 131),\n",
              "             ('format', 182),\n",
              "             ('bodi', 773),\n",
              "             ('preliminari', 182),\n",
              "             ('ethic', 110),\n",
              "             ('artifici', 359),\n",
              "             ('intellig', 690),\n",
              "             ('propos', 1040),\n",
              "             ('standard', 589),\n",
              "             ('set', 3004),\n",
              "             ('came', 1997),\n",
              "             ('respons', 1725),\n",
              "             ('devis', 54),\n",
              "             ('way', 2686),\n",
              "             ('compens', 515),\n",
              "             ('damag', 627),\n",
              "             ('caus', 1076),\n",
              "             ('though', 940),\n",
              "             ('legal', 756),\n",
              "             ('bind', 44),\n",
              "             ('act', 1781),\n",
              "             ('moral', 69),\n",
              "             ('ministri', 4391),\n",
              "             ('scienc', 594),\n",
              "             ('ict', 172),\n",
              "             ('featur', 1447),\n",
              "             ('fundament', 185),\n",
              "             ('pursu', 306),\n",
              "             ('common', 335),\n",
              "             ('good', 2108),\n",
              "             ('respect', 759),\n",
              "             ('human', 1103),\n",
              "             ('equal', 235),\n",
              "             ('util', 318),\n",
              "             ('purpos', 434),\n",
              "             ('key', 1284),\n",
              "             ('system', 3118),\n",
              "             ('meet', 4002),\n",
              "             ('criterion', 13),\n",
              "             ('right', 2720),\n",
              "             ('need', 3042),\n",
              "             ('protect', 1024),\n",
              "             ('privaci', 69),\n",
              "             ('endors', 47),\n",
              "             ('divers', 276),\n",
              "             ('gener', 3612),\n",
              "             ('effect', 1405),\n",
              "             ('cite', 587),\n",
              "             ('consider', 274),\n",
              "             ('includ', 6775),\n",
              "             ('transpar', 238),\n",
              "             ('safeti', 1072),\n",
              "             ('far', 1388),\n",
              "             ('absenc', 136),\n",
              "             ('issu', 2925),\n",
              "             ('protocol', 77),\n",
              "             ('kaist', 62),\n",
              "             ('scatter', 44),\n",
              "             ('sector', 702),\n",
              "             ('assembl', 1855),\n",
              "             ('provid', 2631),\n",
              "             ('come', 3929),\n",
              "             ('work', 6815),\n",
              "             ('civic', 436),\n",
              "             ('group', 7163),\n",
              "             ('academia', 31),\n",
              "             ('corpor', 1244),\n",
              "             ('creat', 2423),\n",
              "             ('task', 449),\n",
              "             ('assess', 390),\n",
              "             ('potenti', 741),\n",
              "             ('address', 537),\n",
              "             ('neg', 693),\n",
              "             ('kdb', 262),\n",
              "             ('request', 1179),\n",
              "             ('sit', 462),\n",
              "             ('asiana', 543),\n",
              "             ('union', 1090),\n",
              "             ('takeov', 49),\n",
              "             ('labor', 1174),\n",
              "             ('member', 4343),\n",
              "             ('airlin', 1180),\n",
              "             ('air', 2596),\n",
              "             ('line', 2011),\n",
              "             ('protest', 762),\n",
              "             ('latter', 180),\n",
              "             ('acquisit', 478),\n",
              "             ('former', 2613),\n",
              "             ('wednesday', 4393),\n",
              "             ('state', 5739),\n",
              "             ('discuss', 1708),\n",
              "             ('hanjin', 422),\n",
              "             ('kal', 301),\n",
              "             ('almost', 627),\n",
              "             ('indirectli', 41),\n",
              "             ('financ', 1193),\n",
              "             ('histor', 345),\n",
              "             ('reflect', 432),\n",
              "             ('opinion', 384),\n",
              "             ('employ', 1001),\n",
              "             ('stabil', 499),\n",
              "             ('schedul', 1495),\n",
              "             ('week', 4721),\n",
              "             ('post', 2002),\n",
              "             ('integr', 308),\n",
              "             ('wrote', 769),\n",
              "             ('earlier', 2371),\n",
              "             ('goal', 1629),\n",
              "             ('restructur', 166),\n",
              "             ('industri', 4594),\n",
              "             ('batter', 177),\n",
              "             ('travel', 1966),\n",
              "             ('supervis', 135),\n",
              "             ('date', 776),\n",
              "             ('dec', 659),\n",
              "             ('object', 327),\n",
              "             ('decis', 2041),\n",
              "             ('along', 1146),\n",
              "             ('host', 1036),\n",
              "             ('sharehold', 605),\n",
              "             ('critic', 1363),\n",
              "             ('chairman', 2233),\n",
              "             ('dong', 1783),\n",
              "             ('gull', 27),\n",
              "             ('argu', 471),\n",
              "             ('threaten', 342),\n",
              "             ('bankruptci', 36),\n",
              "             ('reveal', 755),\n",
              "             ('fail', 1006),\n",
              "             ('polici', 1862),\n",
              "             ('commiss', 1035),\n",
              "             ('plenari', 217),\n",
              "             ('reduc', 959),\n",
              "             ('wast', 281),\n",
              "             ('fund', 2306),\n",
              "             ('stanc', 207),\n",
              "             ('negoti', 1125),\n",
              "             ('squar', 791),\n",
              "             ('unchang', 93),\n",
              "             ('without', 1750),\n",
              "             ('meaningless', 19),\n",
              "             ('valid', 99),\n",
              "             ('question', 1258),\n",
              "             ('jin', 3031),\n",
              "             ('ji', 1363),\n",
              "             ('minji', 461),\n",
              "             ('case', 4950),\n",
              "             ('surpass', 355),\n",
              "             ('row', 252),\n",
              "             ('car', 2099),\n",
              "             ('soybean', 17),\n",
              "             ('paju', 101),\n",
              "             ('jangdan', 1),\n",
              "             ('festiv', 1227),\n",
              "             ('convert', 145),\n",
              "             ('event', 2518),\n",
              "             ('thursday', 3971),\n",
              "             ('daili', 1544),\n",
              "             ('infect', 2792),\n",
              "             ('exceed', 300),\n",
              "             ('eas', 462),\n",
              "             ('panicki', 1),\n",
              "             ('author', 1895),\n",
              "             ('wonder', 263),\n",
              "             ('greater', 454),\n",
              "             ('encompass', 48),\n",
              "             ('incheon', 1537),\n",
              "             ('elev', 151),\n",
              "             ('social', 2224),\n",
              "             ('distanc', 1259),\n",
              "             ('fourth', 1197),\n",
              "             ('five', 2648),\n",
              "             ('tier', 213),\n",
              "             ('domest', 1206),\n",
              "             ('gyeongsang', 1030),\n",
              "             ('chungcheong', 599),\n",
              "             ('busan', 1562),\n",
              "             ('jeolla', 490),\n",
              "             ('gwangju', 692),\n",
              "             ('eight', 1008),\n",
              "             ('gangwon', 559),\n",
              "             ('seven', 1358),\n",
              "             ('ulsan', 823),\n",
              "             ('daejeon', 411),\n",
              "             ('sejong', 347),\n",
              "             ('citi', 2917),\n",
              "             ('jeju', 1076),\n",
              "             ('island', 795),\n",
              "             ('among', 2080),\n",
              "             ('provinc', 646),\n",
              "             ('daegu', 1552),\n",
              "             ('region', 1544),\n",
              "             ('regist', 422),\n",
              "             ('singl', 1684),\n",
              "             ('data', 2078),\n",
              "             ('diseas', 1296),\n",
              "             ('prevent', 1616),\n",
              "             ('agenc', 3341),\n",
              "             ('kdca', 149),\n",
              "             ('austria', 63),\n",
              "             ('sweden', 181),\n",
              "             ('brazil', 132),\n",
              "             ('indonesia', 325),\n",
              "             ('gibraltar', 3),\n",
              "             ('philippin', 257),\n",
              "             ('greec', 17),\n",
              "             ('czech', 126),\n",
              "             ('republ', 311),\n",
              "             ('canada', 262),\n",
              "             ('ethiopia', 63),\n",
              "             ('patient', 2474),\n",
              "             ('die', 816),\n",
              "             ('bring', 1264),\n",
              "             ('death', 1027),\n",
              "             ('entir', 724),\n",
              "             ('midnight', 342),\n",
              "             ('count', 433),\n",
              "             ('seen', 1211),\n",
              "             ('per', 1352),\n",
              "             ('averag', 1276),\n",
              "             ('past', 1951),\n",
              "             ('afternoon', 682),\n",
              "             ('refrain', 167),\n",
              "             ('whether', 1426),\n",
              "             ('soon', 1147),\n",
              "             ('mention', 470),\n",
              "             ('sunday', 2614),\n",
              "             ('matter', 832),\n",
              "             ('sohn', 298),\n",
              "             ('rae', 110),\n",
              "             ('disast', 457),\n",
              "             ('manag', 2999),\n",
              "             ('headquart', 661),\n",
              "             ('urg', 647),\n",
              "             ('cancel', 888),\n",
              "             ('activ', 1665),\n",
              "             ('stay', 1266),\n",
              "             ('friend', 854),\n",
              "             ('eat', 468),\n",
              "             ('togeth', 1528),\n",
              "             ('especi', 1087),\n",
              "             ('risk', 789),\n",
              "             ('spread', 1508),\n",
              "             ('catch', 248),\n",
              "             ('pleas', 195),\n",
              "             ('gather', 586),\n",
              "             ('stress', 862),\n",
              "             ('numer', 213),\n",
              "             ('cluster', 934),\n",
              "             ('sever', 1286),\n",
              "             ('aerob', 9),\n",
              "             ('gangseo', 78),\n",
              "             ('noon', 171),\n",
              "             ('mostli', 491),\n",
              "             ('fastest', 87),\n",
              "             ('sungeun', 389),\n",
              "             ('riot', 33),\n",
              "             ('game', 3728),\n",
              "             ('hire', 465),\n",
              "             ('danc', 624),\n",
              "             ('choreographi', 125),\n",
              "             ('virtual', 597),\n",
              "             ('girl', 1263),\n",
              "             ('k', 2562),\n",
              "             ('da', 111),\n",
              "             ('latest', 1418),\n",
              "             ('song', 3721),\n",
              "             ('collabor', 764),\n",
              "             ('studio', 391),\n",
              "             ('american', 975),\n",
              "             ('video', 2253),\n",
              "             ('team', 3711),\n",
              "             ('tune', 87),\n",
              "             ('late', 1550),\n",
              "             ('night', 724),\n",
              "             ('four', 3378),\n",
              "             ('charact', 952),\n",
              "             ('onlin', 3457),\n",
              "             ('leagu', 1821),\n",
              "             ('legend', 142),\n",
              "             ('lol', 44),\n",
              "             ('ep', 618),\n",
              "             ('track', 1416),\n",
              "             ('sing', 421),\n",
              "             ('singer', 1434),\n",
              "             ('soyeon', 419),\n",
              "             ('miyeon', 7),\n",
              "             ('pop', 1817),\n",
              "             ('g', 1524),\n",
              "             ('dle', 94),\n",
              "             ('madison', 8),\n",
              "             ('beer', 286),\n",
              "             ('jaira', 4),\n",
              "             ('burn', 162),\n",
              "             ('lent', 24),\n",
              "             ('voic', 508),\n",
              "             ('twice', 496),\n",
              "             ('appear', 1675),\n",
              "             ('guest', 302),\n",
              "             ('jihyo', 21),\n",
              "             ('nayeon', 11),\n",
              "             ('sana', 6),\n",
              "             ('chaeyoung', 6),\n",
              "             ('took', 1947),\n",
              "             ('renown', 109),\n",
              "             ('choreograph', 62),\n",
              "             ('dancer', 122),\n",
              "             ('lia', 10),\n",
              "             ('kim', 12604),\n",
              "             ('leader', 2312),\n",
              "             ('upbeat', 43),\n",
              "             ('mastermind', 30),\n",
              "             ('tt', 15),\n",
              "             ('sunmi', 36),\n",
              "             ('gashina', 2),\n",
              "             ('garner', 127),\n",
              "             ('ago', 974),\n",
              "             ('project', 2472),\n",
              "             ('refresh', 91),\n",
              "             ('experi', 1467),\n",
              "             ('meaning', 224),\n",
              "             ('behind', 1117),\n",
              "             ('scene', 864),\n",
              "             ('avail', 1099),\n",
              "             ('offici', 5721),\n",
              "             ('youtub', 961),\n",
              "             ('channel', 866),\n",
              "             ('billboard', 498),\n",
              "             ('digit', 1441),\n",
              "             ('chart', 1132),\n",
              "             ('music', 3578),\n",
              "             ('yoon', 3187),\n",
              "             ('yeon', 1331),\n",
              "             ('opposit', 1126),\n",
              "             ('idea', 792),\n",
              "             ('probe', 667),\n",
              "             ('choo', 1098),\n",
              "             ('rep', 1026),\n",
              "             ('deputi', 485),\n",
              "             ('floor', 870),\n",
              "             ('power', 2310),\n",
              "             ('submit', 577),\n",
              "             ('motion', 177),\n",
              "             ('parliamentari', 203),\n",
              "             ('investig', 2395),\n",
              "             ('justic', 1245),\n",
              "             ('minist', 3424),\n",
              "             ('mi', 458),\n",
              "             ('ae', 278),\n",
              "             ('suspend', 751),\n",
              "             ('prosecutor', 2650),\n",
              "             ('youl', 150),\n",
              "             ('inquiri', 85),\n",
              "             ('suspens', 218),\n",
              "             ('ppp', 264),\n",
              "             ('morn', 1153),\n",
              "             ('challeng', 864),\n",
              "             ('disciplinari', 51),\n",
              "             ('action', 1130),\n",
              "             ('lawmak', 1772),\n",
              "             ('independ', 611),\n",
              "             ('feel', 1915),\n",
              "             ('uneasi', 14),\n",
              "             ('resurg', 129),\n",
              "             ('econom', 2135),\n",
              "             ('skyrocket', 117),\n",
              "             ('must', 1452),\n",
              "             ('fight', 667),\n",
              "             ('tuesday', 4407),\n",
              "             ('unpreced', 223),\n",
              "             ('duti', 759),\n",
              "             ('suspect', 817),\n",
              "             ('breach', 95),\n",
              "             ('press', 2211),\n",
              "             ('confer', 1422),\n",
              "             ('charg', 1497),\n",
              "             ('illeg', 521),\n",
              "             ('surveil', 173),\n",
              "             ('judg', 348),\n",
              "             ('polit', 1514),\n",
              "             ('neutral', 167),\n",
              "             ('unjust', 16),\n",
              "             ('file', 938),\n",
              "             ('suit', 369),\n",
              "             ('withdraw', 237),\n",
              "             ('order', 2944),\n",
              "             ('court', 1746),\n",
              "             ('assign', 257),\n",
              "             ('jo', 320),\n",
              "             ('yet', 1301),\n",
              "             ('kind', 687),\n",
              "             ('echo', 60),\n",
              "             ('rule', 2561),\n",
              "             ('pressur', 681),\n",
              "             ('resign', 420),\n",
              "             ('democrat', 1149),\n",
              "             ('dp', 2107),\n",
              "             ('nak', 153),\n",
              "             ('yon', 153),\n",
              "             ('place', 2829),\n",
              "             ('accus', 890),\n",
              "             ('step', 1205),\n",
              "             ('joo', 658),\n",
              "             ('ho', 1768),\n",
              "             ('want', 3109),\n",
              "             ('expos', 148),\n",
              "             ('destroy', 177),\n",
              "             ('definit', 353),\n",
              "             ('passion', 142),\n",
              "             ('welcom', 309),\n",
              "             ('tri', 2457),\n",
              "             ('slow', 378),\n",
              "             ('grave', 128),\n",
              "             ('incid', 286),\n",
              "             ('wait', 616),\n",
              "             ('inspect', 359),\n",
              "             ('prosecut', 1248),\n",
              "             ('appoint', 670),\n",
              "             ('maintain', 886),\n",
              "             ('silenc', 120),\n",
              "             ...])"
            ]
          },
          "metadata": {
            "tags": []
          },
          "execution_count": 72
        }
      ]
    },
    {
      "cell_type": "code",
      "metadata": {
        "colab": {
          "base_uri": "https://localhost:8080/"
        },
        "id": "pb6r0I1Fzgne",
        "outputId": "d19c245f-d773-45c1-d296-96c6c92e0da3"
      },
      "source": [
        "t.word_index"
      ],
      "execution_count": 73,
      "outputs": [
        {
          "output_type": "execute_result",
          "data": {
            "text/plain": [
              "{'said': 1,\n",
              " 'korea': 2,\n",
              " 'year': 3,\n",
              " 'percent': 4,\n",
              " 'korean': 5,\n",
              " 'seoul': 6,\n",
              " 'also': 7,\n",
              " 'new': 8,\n",
              " 'kim': 9,\n",
              " 'compani': 10,\n",
              " 'first': 11,\n",
              " 'lee': 12,\n",
              " 'govern': 13,\n",
              " 'peopl': 14,\n",
              " 'last': 15,\n",
              " 'one': 16,\n",
              " 'time': 17,\n",
              " 'two': 18,\n",
              " 'joongang': 19,\n",
              " 'co': 20,\n",
              " 'group': 21,\n",
              " 'start': 22,\n",
              " 'day': 23,\n",
              " 'countri': 24,\n",
              " 'north': 25,\n",
              " 'kr': 26,\n",
              " 'month': 27,\n",
              " 'work': 28,\n",
              " 'includ': 29,\n",
              " 'nation': 30,\n",
              " 'million': 31,\n",
              " 'accord': 32,\n",
              " 'like': 33,\n",
              " 'park': 34,\n",
              " 'coronaviru': 35,\n",
              " 'use': 36,\n",
              " 'sinc': 37,\n",
              " 'market': 38,\n",
              " 'billion': 39,\n",
              " 'make': 40,\n",
              " 'unit': 41,\n",
              " 'state': 42,\n",
              " 'offici': 43,\n",
              " 'servic': 44,\n",
              " 'three': 45,\n",
              " 'take': 46,\n",
              " 'busi': 47,\n",
              " 'would': 48,\n",
              " 'report': 49,\n",
              " 'u': 50,\n",
              " 'parti': 51,\n",
              " 'plan': 52,\n",
              " 'moon': 53,\n",
              " 'may': 54,\n",
              " 'case': 55,\n",
              " 'monday': 56,\n",
              " 'product': 57,\n",
              " 'film': 58,\n",
              " 'week': 59,\n",
              " 'south': 60,\n",
              " 'made': 61,\n",
              " 'world': 62,\n",
              " 'releas': 63,\n",
              " 'industri': 64,\n",
              " 'show': 65,\n",
              " 'yonhap': 66,\n",
              " 'tuesday': 67,\n",
              " 'wednesday': 68,\n",
              " 'ministri': 69,\n",
              " 'say': 70,\n",
              " 'member': 71,\n",
              " 'local': 72,\n",
              " 'announc': 73,\n",
              " 'second': 74,\n",
              " 'sale': 75,\n",
              " 'season': 76,\n",
              " 'number': 77,\n",
              " 'offic': 78,\n",
              " 'increas': 79,\n",
              " 'play': 80,\n",
              " 'could': 81,\n",
              " 'test': 82,\n",
              " 'get': 83,\n",
              " 'meet': 84,\n",
              " 'center': 85,\n",
              " 'thursday': 86,\n",
              " 'presid': 87,\n",
              " 'come': 88,\n",
              " 'samsung': 89,\n",
              " 'public': 90,\n",
              " 'well': 91,\n",
              " 'home': 92,\n",
              " 'end': 93,\n",
              " 'go': 94,\n",
              " 'even': 95,\n",
              " 'continu': 96,\n",
              " 'oper': 97,\n",
              " 'covid': 98,\n",
              " 'game': 99,\n",
              " 'song': 100,\n",
              " 'call': 101,\n",
              " 'team': 102,\n",
              " 'district': 103,\n",
              " 'chang': 104,\n",
              " 'around': 105,\n",
              " 'back': 106,\n",
              " 'develop': 107,\n",
              " 'trillion': 108,\n",
              " 'follow': 109,\n",
              " 'gener': 110,\n",
              " 'high': 111,\n",
              " 'foreign': 112,\n",
              " 'music': 113,\n",
              " 'top': 114,\n",
              " 'share': 115,\n",
              " 'intern': 116,\n",
              " 'central': 117,\n",
              " 'young': 118,\n",
              " 'china': 119,\n",
              " 'onlin': 120,\n",
              " 'offer': 121,\n",
              " 'close': 122,\n",
              " 'total': 123,\n",
              " 'ad': 124,\n",
              " 'minist': 125,\n",
              " 'next': 126,\n",
              " 'hous': 127,\n",
              " 'expect': 128,\n",
              " 'due': 129,\n",
              " 'four': 130,\n",
              " 'agenc': 131,\n",
              " 'base': 132,\n",
              " 'part': 133,\n",
              " 'jae': 134,\n",
              " 'bank': 135,\n",
              " 'mani': 136,\n",
              " 'price': 137,\n",
              " 'hyundai': 138,\n",
              " 'think': 139,\n",
              " 'recent': 140,\n",
              " 'invest': 141,\n",
              " 'hit': 142,\n",
              " 'run': 143,\n",
              " 'yoon': 144,\n",
              " 'global': 145,\n",
              " 'help': 146,\n",
              " 'open': 147,\n",
              " 'system': 148,\n",
              " 'live': 149,\n",
              " 'want': 150,\n",
              " 'health': 151,\n",
              " 'need': 152,\n",
              " 'jin': 153,\n",
              " 'set': 154,\n",
              " 'manag': 155,\n",
              " 'current': 156,\n",
              " 'face': 157,\n",
              " 'support': 158,\n",
              " 'order': 159,\n",
              " 'issu': 160,\n",
              " 'citi': 161,\n",
              " 'head': 162,\n",
              " 'secur': 163,\n",
              " 'trade': 164,\n",
              " 'friday': 165,\n",
              " 'perform': 166,\n",
              " 'place': 167,\n",
              " 'financi': 168,\n",
              " 'school': 169,\n",
              " 'infect': 170,\n",
              " 'major': 171,\n",
              " 'becom': 172,\n",
              " 'held': 173,\n",
              " 'point': 174,\n",
              " 'right': 175,\n",
              " 'anoth': 176,\n",
              " 'measur': 177,\n",
              " 'store': 178,\n",
              " 'win': 179,\n",
              " 'receiv': 180,\n",
              " 'japan': 181,\n",
              " 'kang': 182,\n",
              " 'differ': 183,\n",
              " 'way': 184,\n",
              " 'motor': 185,\n",
              " 'still': 186,\n",
              " 'univers': 187,\n",
              " 'entertain': 188,\n",
              " 'prosecutor': 189,\n",
              " 'five': 190,\n",
              " 'look': 191,\n",
              " 'march': 192,\n",
              " 'provid': 193,\n",
              " 'pandem': 194,\n",
              " 'sunday': 195,\n",
              " 'former': 196,\n",
              " 'outbreak': 197,\n",
              " 'air': 198,\n",
              " 'visit': 199,\n",
              " 'relat': 200,\n",
              " 'k': 201,\n",
              " 'rule': 202,\n",
              " 'import': 203,\n",
              " 'player': 204,\n",
              " 'allow': 205,\n",
              " 'april': 206,\n",
              " 'event': 207,\n",
              " 'posit': 208,\n",
              " 'patient': 209,\n",
              " 'project': 210,\n",
              " 'elect': 211,\n",
              " 'viru': 212,\n",
              " 'person': 213,\n",
              " 'tri': 214,\n",
              " 'sk': 215,\n",
              " 'creat': 216,\n",
              " 'lg': 217,\n",
              " 'area': 218,\n",
              " 'custom': 219,\n",
              " 'hold': 220,\n",
              " 'third': 221,\n",
              " 'investig': 222,\n",
              " 'earlier': 223,\n",
              " 'record': 224,\n",
              " 'june': 225,\n",
              " 'cho': 226,\n",
              " 'deal': 227,\n",
              " 'see': 228,\n",
              " 'leader': 229,\n",
              " 'power': 230,\n",
              " 'fund': 231,\n",
              " 'hope': 232,\n",
              " 'famili': 233,\n",
              " 'lead': 234,\n",
              " 'statement': 235,\n",
              " 'blue': 236,\n",
              " 'fan': 237,\n",
              " 'old': 238,\n",
              " 'sign': 239,\n",
              " 'th': 240,\n",
              " 'video': 241,\n",
              " 'name': 242,\n",
              " 'rate': 243,\n",
              " 'jung': 244,\n",
              " 'seri': 245,\n",
              " 'chairman': 246,\n",
              " 'min': 247,\n",
              " 'social': 248,\n",
              " 'director': 249,\n",
              " 'left': 250,\n",
              " 'militari': 251,\n",
              " 'press': 252,\n",
              " 'level': 253,\n",
              " 'demand': 254,\n",
              " 'worker': 255,\n",
              " 'big': 256,\n",
              " 'howev': 257,\n",
              " 'album': 258,\n",
              " 'best': 259,\n",
              " 'futur': 260,\n",
              " 'remain': 261,\n",
              " 'term': 262,\n",
              " 'forc': 263,\n",
              " 'long': 264,\n",
              " 'technolog': 265,\n",
              " 'ask': 266,\n",
              " 'employe': 267,\n",
              " 'export': 268,\n",
              " 'possibl': 269,\n",
              " 'return': 270,\n",
              " 'juli': 271,\n",
              " 'econom': 272,\n",
              " 'good': 273,\n",
              " 'dp': 274,\n",
              " 'car': 275,\n",
              " 'build': 276,\n",
              " 'among': 277,\n",
              " 'data': 278,\n",
              " 'launch': 279,\n",
              " 'reach': 280,\n",
              " 'gyeonggi': 281,\n",
              " 'program': 282,\n",
              " 'move': 283,\n",
              " 'decis': 284,\n",
              " 'much': 285,\n",
              " 'design': 286,\n",
              " 'organ': 287,\n",
              " 'line': 288,\n",
              " 'eun': 289,\n",
              " 'period': 290,\n",
              " 'special': 291,\n",
              " 'band': 292,\n",
              " 'produc': 293,\n",
              " 'post': 294,\n",
              " 'came': 295,\n",
              " 'administr': 296,\n",
              " 'result': 297,\n",
              " 'final': 298,\n",
              " 'electron': 299,\n",
              " 'student': 300,\n",
              " 'cultur': 301,\n",
              " 'travel': 302,\n",
              " 'inform': 303,\n",
              " 'decid': 304,\n",
              " 'mask': 305,\n",
              " 'past': 306,\n",
              " 'food': 307,\n",
              " 'took': 308,\n",
              " 'talk': 309,\n",
              " 'feel': 310,\n",
              " 'life': 311,\n",
              " 'author': 312,\n",
              " 'institut': 313,\n",
              " 'job': 314,\n",
              " 'polic': 315,\n",
              " 'chung': 316,\n",
              " 'research': 317,\n",
              " 'profit': 318,\n",
              " 'drop': 319,\n",
              " 'polici': 320,\n",
              " 'abl': 321,\n",
              " 'assembl': 322,\n",
              " 'compar': 323,\n",
              " 'six': 324,\n",
              " 'hospit': 325,\n",
              " 'told': 326,\n",
              " 'economi': 327,\n",
              " 'lott': 328,\n",
              " 'leagu': 329,\n",
              " 'pop': 330,\n",
              " 'son': 331,\n",
              " 'p': 332,\n",
              " 'choi': 333,\n",
              " 'found': 334,\n",
              " 'dong': 335,\n",
              " 'quarter': 336,\n",
              " 'act': 337,\n",
              " 'half': 338,\n",
              " 'pay': 339,\n",
              " 'lawmak': 340,\n",
              " 'ho': 341,\n",
              " 'actor': 342,\n",
              " 'real': 343,\n",
              " 'without': 344,\n",
              " 'commun': 345,\n",
              " 'vehicl': 346,\n",
              " 'court': 347,\n",
              " 'process': 348,\n",
              " 'give': 349,\n",
              " 'artist': 350,\n",
              " 'medic': 351,\n",
              " 'chines': 352,\n",
              " 'respons': 353,\n",
              " 'rais': 354,\n",
              " 'sell': 355,\n",
              " 'tax': 356,\n",
              " 'award': 357,\n",
              " 'law': 358,\n",
              " 'mobil': 359,\n",
              " 'discuss': 360,\n",
              " 'war': 361,\n",
              " 'bt': 362,\n",
              " 'consid': 363,\n",
              " 'free': 364,\n",
              " 'depart': 365,\n",
              " 'media': 366,\n",
              " 'effort': 367,\n",
              " 'singl': 368,\n",
              " 'art': 369,\n",
              " 'previou': 370,\n",
              " 'control': 371,\n",
              " 'hour': 372,\n",
              " 'larg': 373,\n",
              " 'club': 374,\n",
              " 'earli': 375,\n",
              " 'appear': 376,\n",
              " 'hong': 377,\n",
              " 'activ': 378,\n",
              " 'growth': 379,\n",
              " 'alreadi': 380,\n",
              " 'account': 381,\n",
              " 'popular': 382,\n",
              " 'put': 383,\n",
              " 'jeong': 384,\n",
              " 'expand': 385,\n",
              " 'contract': 386,\n",
              " 'keep': 387,\n",
              " 'although': 388,\n",
              " 'everi': 389,\n",
              " 'goal': 390,\n",
              " 'committe': 391,\n",
              " 'turn': 392,\n",
              " 'prevent': 393,\n",
              " 'largest': 394,\n",
              " 'japanes': 395,\n",
              " 'lot': 396,\n",
              " 'ceo': 397,\n",
              " 'saturday': 398,\n",
              " 'known': 399,\n",
              " 'apart': 400,\n",
              " 'busan': 401,\n",
              " 'stock': 402,\n",
              " 'hyun': 403,\n",
              " 'situat': 404,\n",
              " 'daegu': 405,\n",
              " 'late': 406,\n",
              " 'grow': 407,\n",
              " 'sold': 408,\n",
              " 'investor': 409,\n",
              " 'women': 410,\n",
              " 'daili': 411,\n",
              " 'region': 412,\n",
              " 'incheon': 413,\n",
              " 'concern': 414,\n",
              " 'cost': 415,\n",
              " 'small': 416,\n",
              " 'find': 417,\n",
              " 'togeth': 418,\n",
              " 'deliveri': 419,\n",
              " 'g': 420,\n",
              " 'believ': 421,\n",
              " 'debut': 422,\n",
              " 'model': 423,\n",
              " 'polit': 424,\n",
              " 'role': 425,\n",
              " 'spread': 426,\n",
              " 'serv': 427,\n",
              " 'charg': 428,\n",
              " 'confirm': 429,\n",
              " 'schedul': 430,\n",
              " 'purchas': 431,\n",
              " 'mean': 432,\n",
              " 'defens': 433,\n",
              " 'later': 434,\n",
              " 'cooper': 435,\n",
              " 'manufactur': 436,\n",
              " 'sung': 437,\n",
              " 'experi': 438,\n",
              " 'room': 439,\n",
              " 'agreement': 440,\n",
              " 'hand': 441,\n",
              " 'thing': 442,\n",
              " 'stori': 443,\n",
              " 'southern': 444,\n",
              " 'must': 445,\n",
              " 'interest': 446,\n",
              " 'despit': 447,\n",
              " 'featur': 448,\n",
              " 'digit': 449,\n",
              " 'screen': 450,\n",
              " 'went': 451,\n",
              " 'yoo': 452,\n",
              " 'addit': 453,\n",
              " 'success': 454,\n",
              " 'singer': 455,\n",
              " 'realli': 456,\n",
              " 'shop': 457,\n",
              " 'whether': 458,\n",
              " 'confer': 459,\n",
              " 'rank': 460,\n",
              " 'latest': 461,\n",
              " 'us': 462,\n",
              " 'loss': 463,\n",
              " 'track': 464,\n",
              " 'plant': 465,\n",
              " 'brand': 466,\n",
              " 'effect': 467,\n",
              " 'emerg': 468,\n",
              " 'complet': 469,\n",
              " 'consum': 470,\n",
              " 'far': 471,\n",
              " 'list': 472,\n",
              " 'initi': 473,\n",
              " 'tour': 474,\n",
              " 'senior': 475,\n",
              " 'promot': 476,\n",
              " 'platform': 477,\n",
              " 'star': 478,\n",
              " 'critic': 479,\n",
              " 'ji': 480,\n",
              " 'jong': 481,\n",
              " 'seven': 482,\n",
              " 'facil': 483,\n",
              " 'retail': 484,\n",
              " 'per': 485,\n",
              " 'particip': 486,\n",
              " 'care': 487,\n",
              " 'tae': 488,\n",
              " 'join': 489,\n",
              " 'within': 490,\n",
              " 'rise': 491,\n",
              " 'exhibit': 492,\n",
              " 'train': 493,\n",
              " 'match': 494,\n",
              " 'yeon': 495,\n",
              " 'establish': 496,\n",
              " 'oversea': 497,\n",
              " 'main': 498,\n",
              " 'valu': 499,\n",
              " 'amid': 500,\n",
              " 'approv': 501,\n",
              " 'content': 502,\n",
              " 'vice': 503,\n",
              " 'love': 504,\n",
              " 'full': 505,\n",
              " 'led': 506,\n",
              " 'soo': 507,\n",
              " 'restaur': 508,\n",
              " 'yet': 509,\n",
              " 'introduc': 510,\n",
              " 'diseas': 511,\n",
              " 'net': 512,\n",
              " 'know': 513,\n",
              " 'requir': 514,\n",
              " 'begin': 515,\n",
              " 'sever': 516,\n",
              " 'key': 517,\n",
              " 'vote': 518,\n",
              " 'quarantin': 519,\n",
              " 'averag': 520,\n",
              " 'improv': 521,\n",
              " 'leav': 522,\n",
              " 'across': 523,\n",
              " 'stay': 524,\n",
              " 'bring': 525,\n",
              " 'girl': 526,\n",
              " 'trump': 527,\n",
              " 'side': 528,\n",
              " 'shin': 529,\n",
              " 'distanc': 530,\n",
              " 'question': 531,\n",
              " 'book': 532,\n",
              " 'prepar': 533,\n",
              " 'suppli': 534,\n",
              " 'user': 535,\n",
              " 'pyongyang': 536,\n",
              " 'budget': 537,\n",
              " 'money': 538,\n",
              " 'prosecut': 539,\n",
              " 'stage': 540,\n",
              " 'justic': 541,\n",
              " 'corpor': 542,\n",
              " 'batteri': 543,\n",
              " 'februari': 544,\n",
              " 'finish': 545,\n",
              " 'cut': 546,\n",
              " 'age': 547,\n",
              " 'festiv': 548,\n",
              " 'bill': 549,\n",
              " 'kakao': 550,\n",
              " 'pick': 551,\n",
              " 'e': 552,\n",
              " 'boy': 553,\n",
              " 'better': 554,\n",
              " 'seen': 555,\n",
              " 'locat': 556,\n",
              " 'pass': 557,\n",
              " 'domest': 558,\n",
              " 'step': 559,\n",
              " 'got': 560,\n",
              " 'mark': 561,\n",
              " 'fourth': 562,\n",
              " 'titl': 563,\n",
              " 'limit': 564,\n",
              " 'financ': 565,\n",
              " 'claim': 566,\n",
              " 'seok': 567,\n",
              " 'sport': 568,\n",
              " 'associ': 569,\n",
              " 'declin': 570,\n",
              " 'interview': 571,\n",
              " 'airlin': 572,\n",
              " 'man': 573,\n",
              " 'request': 574,\n",
              " 'asset': 575,\n",
              " 'stand': 576,\n",
              " 'labor': 577,\n",
              " 'career': 578,\n",
              " 'sarah': 579,\n",
              " 'spot': 580,\n",
              " 'energi': 581,\n",
              " 'figur': 582,\n",
              " 'januari': 583,\n",
              " 'spend': 584,\n",
              " 'view': 585,\n",
              " 'least': 586,\n",
              " 'note': 587,\n",
              " 'morn': 588,\n",
              " 'shim': 589,\n",
              " 'seem': 590,\n",
              " 'democrat': 591,\n",
              " 'soon': 592,\n",
              " 'concert': 593,\n",
              " 'along': 594,\n",
              " 'drive': 595,\n",
              " 'airport': 596,\n",
              " 'chief': 597,\n",
              " 'chart': 598,\n",
              " 'tradit': 599,\n",
              " 'competit': 600,\n",
              " 'naver': 601,\n",
              " 'action': 602,\n",
              " 'low': 603,\n",
              " 'sourc': 604,\n",
              " 'toward': 605,\n",
              " 'opposit': 606,\n",
              " 'session': 607,\n",
              " 'negoti': 608,\n",
              " 'thought': 609,\n",
              " 'began': 610,\n",
              " 'firm': 611,\n",
              " 'restrict': 612,\n",
              " 'sang': 613,\n",
              " 'behind': 614,\n",
              " 'capit': 615,\n",
              " 'given': 616,\n",
              " 'repres': 617,\n",
              " 'form': 618,\n",
              " 'victim': 619,\n",
              " 'earn': 620,\n",
              " 'never': 621,\n",
              " 'execut': 622,\n",
              " 'treatment': 623,\n",
              " 'human': 624,\n",
              " 'push': 625,\n",
              " 'lower': 626,\n",
              " 'app': 627,\n",
              " 'washington': 628,\n",
              " 'han': 629,\n",
              " 'avail': 630,\n",
              " 'choo': 631,\n",
              " 'gain': 632,\n",
              " 'electr': 633,\n",
              " 'western': 634,\n",
              " 'secretari': 635,\n",
              " 'children': 636,\n",
              " 'hee': 637,\n",
              " 'union': 638,\n",
              " 'olymp': 639,\n",
              " 'especi': 640,\n",
              " 'educ': 641,\n",
              " 'ever': 642,\n",
              " 'church': 643,\n",
              " 'outsid': 644,\n",
              " 'amount': 645,\n",
              " 'caus': 646,\n",
              " 'jeju': 647,\n",
              " 'safeti': 648,\n",
              " 'conduct': 649,\n",
              " 'estat': 650,\n",
              " 'un': 651,\n",
              " 'expert': 652,\n",
              " 'resid': 653,\n",
              " 'land': 654,\n",
              " 'rose': 655,\n",
              " 'phone': 656,\n",
              " 'less': 657,\n",
              " 'distribut': 658,\n",
              " 'class': 659,\n",
              " 'contact': 660,\n",
              " 'round': 661,\n",
              " 'kbo': 662,\n",
              " 'ahead': 663,\n",
              " 'variou': 664,\n",
              " 'becam': 665,\n",
              " 'regul': 666,\n",
              " 'display': 667,\n",
              " 'fall': 668,\n",
              " 'presidenti': 669,\n",
              " 'water': 670,\n",
              " 'flight': 671,\n",
              " 'privat': 672,\n",
              " 'hard': 673,\n",
              " 'construct': 674,\n",
              " 'express': 675,\n",
              " 'self': 676,\n",
              " 'propos': 677,\n",
              " 'attend': 678,\n",
              " 'incom': 679,\n",
              " 'host': 680,\n",
              " 'photo': 681,\n",
              " 'commiss': 682,\n",
              " 'gyeongsang': 683,\n",
              " 'innov': 684,\n",
              " 'hotel': 685,\n",
              " 'death': 686,\n",
              " 'rep': 687,\n",
              " 'tv': 688,\n",
              " 'protect': 689,\n",
              " 'aug': 690,\n",
              " 'celebr': 691,\n",
              " 'septemb': 692,\n",
              " 'strong': 693,\n",
              " 'lim': 694,\n",
              " 'stop': 695,\n",
              " 'agre': 696,\n",
              " 'minut': 697,\n",
              " 'hwang': 698,\n",
              " 'woo': 699,\n",
              " 'alleg': 700,\n",
              " 'origin': 701,\n",
              " 'away': 702,\n",
              " 'eight': 703,\n",
              " 'enter': 704,\n",
              " 'fail': 705,\n",
              " 'throughout': 706,\n",
              " 'condit': 707,\n",
              " 'histori': 708,\n",
              " 'site': 709,\n",
              " 'rang': 710,\n",
              " 'involv': 711,\n",
              " 'employ': 712,\n",
              " 'studi': 713,\n",
              " 'short': 714,\n",
              " 'ban': 715,\n",
              " 'instead': 716,\n",
              " 'individu': 717,\n",
              " 'messag': 718,\n",
              " 'actual': 719,\n",
              " 'insur': 720,\n",
              " 'advanc': 721,\n",
              " 'annual': 722,\n",
              " 'learn': 723,\n",
              " 'analyst': 724,\n",
              " 'space': 725,\n",
              " 'fell': 726,\n",
              " 'american': 727,\n",
              " 'summit': 728,\n",
              " 'ago': 729,\n",
              " 'saw': 730,\n",
              " 'reason': 731,\n",
              " 'struggl': 732,\n",
              " 'worth': 733,\n",
              " 'insid': 734,\n",
              " 'network': 735,\n",
              " 'higher': 736,\n",
              " 'own': 737,\n",
              " 'opportun': 738,\n",
              " 'youtub': 739,\n",
              " 'campaign': 740,\n",
              " 'arriv': 741,\n",
              " 'reduc': 742,\n",
              " 'engin': 743,\n",
              " 'lost': 744,\n",
              " 'crisi': 745,\n",
              " 'joint': 746,\n",
              " 'materi': 747,\n",
              " 'affair': 748,\n",
              " 'station': 749,\n",
              " 'charact': 750,\n",
              " 'biggest': 751,\n",
              " 'field': 752,\n",
              " 'someth': 753,\n",
              " 'august': 754,\n",
              " 'littl': 755,\n",
              " 'though': 756,\n",
              " 'score': 757,\n",
              " 'fire': 758,\n",
              " 'ryu': 759,\n",
              " 'visitor': 760,\n",
              " 'file': 761,\n",
              " 'loan': 762,\n",
              " 'board': 763,\n",
              " 'meter': 764,\n",
              " 'cluster': 765,\n",
              " 'yong': 766,\n",
              " 'council': 767,\n",
              " 'ser': 768,\n",
              " 'buy': 769,\n",
              " 'factori': 770,\n",
              " 'similar': 771,\n",
              " 'front': 772,\n",
              " 'thank': 773,\n",
              " 'affect': 774,\n",
              " 'mayor': 775,\n",
              " 'jun': 776,\n",
              " 'professor': 777,\n",
              " 'today': 778,\n",
              " 'staff': 779,\n",
              " 'connect': 780,\n",
              " 'impact': 781,\n",
              " 'drama': 782,\n",
              " 'collect': 783,\n",
              " 'partner': 784,\n",
              " 'doosan': 785,\n",
              " 'sept': 786,\n",
              " 'movi': 787,\n",
              " 'appli': 788,\n",
              " 'nov': 789,\n",
              " 'octob': 790,\n",
              " 'alway': 791,\n",
              " 'tournament': 792,\n",
              " 'detail': 793,\n",
              " 'direct': 794,\n",
              " 'other': 795,\n",
              " 'heavi': 796,\n",
              " 'near': 797,\n",
              " 'focu': 798,\n",
              " 'branch': 799,\n",
              " 'accus': 800,\n",
              " 'present': 801,\n",
              " 'asian': 802,\n",
              " 'tokyo': 803,\n",
              " 'cancel': 804,\n",
              " 'candid': 805,\n",
              " 'maintain': 806,\n",
              " 'cover': 807,\n",
              " 'card': 808,\n",
              " 'ufp': 809,\n",
              " 'exchang': 810,\n",
              " 'enjoy': 811,\n",
              " 'floor': 812,\n",
              " 'oct': 813,\n",
              " 'ko': 814,\n",
              " 'equip': 815,\n",
              " 'novemb': 816,\n",
              " 'enough': 817,\n",
              " 'channel': 818,\n",
              " 'difficult': 819,\n",
              " 'theater': 820,\n",
              " 'scene': 821,\n",
              " 'challeng': 822,\n",
              " 'transport': 823,\n",
              " 'size': 824,\n",
              " 'stress': 825,\n",
              " 'problem': 826,\n",
              " 'focus': 827,\n",
              " 'review': 828,\n",
              " 'carri': 829,\n",
              " 'brief': 830,\n",
              " 'friend': 831,\n",
              " 'jump': 832,\n",
              " 'watch': 833,\n",
              " 'contribut': 834,\n",
              " 'light': 835,\n",
              " 'museum': 836,\n",
              " 'donat': 837,\n",
              " 'decemb': 838,\n",
              " 'extend': 839,\n",
              " 'taken': 840,\n",
              " 'ceremoni': 841,\n",
              " 'great': 842,\n",
              " 'payment': 843,\n",
              " 'aid': 844,\n",
              " 'compet': 845,\n",
              " 'matter': 846,\n",
              " 'seat': 847,\n",
              " 'natur': 848,\n",
              " 'nearli': 849,\n",
              " 'accept': 850,\n",
              " 'shut': 851,\n",
              " 'sent': 852,\n",
              " 'deliv': 853,\n",
              " 'ulsan': 854,\n",
              " 'coach': 855,\n",
              " 'trial': 856,\n",
              " 'suspect': 857,\n",
              " 'die': 858,\n",
              " 'highest': 859,\n",
              " 'warn': 860,\n",
              " 'audienc': 861,\n",
              " 'household': 862,\n",
              " 'achiev': 863,\n",
              " 'ambassador': 864,\n",
              " 'drug': 865,\n",
              " 'news': 866,\n",
              " 'nuclear': 867,\n",
              " 'imag': 868,\n",
              " 'properti': 869,\n",
              " 'kyung': 870,\n",
              " 'english': 871,\n",
              " 'hero': 872,\n",
              " 'practic': 873,\n",
              " 'stream': 874,\n",
              " 'prime': 875,\n",
              " 'exist': 876,\n",
              " 'island': 877,\n",
              " 'diplomat': 878,\n",
              " 'idea': 879,\n",
              " 'squar': 880,\n",
              " 'tell': 881,\n",
              " 'weekend': 882,\n",
              " 'seo': 883,\n",
              " 'gangnam': 884,\n",
              " 'risk': 885,\n",
              " 'regular': 886,\n",
              " 'violat': 887,\n",
              " 'peac': 888,\n",
              " 'carrier': 889,\n",
              " 'peninsula': 890,\n",
              " 'feb': 891,\n",
              " 'oh': 892,\n",
              " 'date': 893,\n",
              " 'break': 894,\n",
              " 'bodi': 895,\n",
              " 'smartphon': 896,\n",
              " 'understand': 897,\n",
              " 'wrote': 898,\n",
              " 'rather': 899,\n",
              " 'ilbo': 900,\n",
              " 'suffer': 901,\n",
              " 'attempt': 902,\n",
              " 'normal': 903,\n",
              " 'collabor': 904,\n",
              " 'fuel': 905,\n",
              " 'metropolitan': 906,\n",
              " 'protest': 907,\n",
              " 'mother': 908,\n",
              " 'asia': 909,\n",
              " 'recommend': 910,\n",
              " 'respond': 911,\n",
              " 'respect': 912,\n",
              " 'duti': 913,\n",
              " 'ship': 914,\n",
              " 'ev': 915,\n",
              " 'legal': 916,\n",
              " 'reveal': 917,\n",
              " 'parent': 918,\n",
              " 'target': 919,\n",
              " 'explain': 920,\n",
              " 'owner': 921,\n",
              " 'suspend': 922,\n",
              " 'contain': 923,\n",
              " 'wear': 924,\n",
              " 'jan': 925,\n",
              " 'separ': 926,\n",
              " 'type': 927,\n",
              " 'felt': 928,\n",
              " 'tie': 929,\n",
              " 'shot': 930,\n",
              " 'regard': 931,\n",
              " 'suggest': 932,\n",
              " 'kia': 933,\n",
              " 'vaccin': 934,\n",
              " 'sexual': 935,\n",
              " 'potenti': 936,\n",
              " 'spokesperson': 937,\n",
              " 'credit': 938,\n",
              " 'bond': 939,\n",
              " 'aim': 940,\n",
              " 'hye': 941,\n",
              " 'c': 942,\n",
              " 'kcdc': 943,\n",
              " 'middl': 944,\n",
              " 'revenu': 945,\n",
              " 'walk': 946,\n",
              " 'speak': 947,\n",
              " 'combin': 948,\n",
              " 'chanc': 949,\n",
              " 'nine': 950,\n",
              " 'era': 951,\n",
              " 'ki': 952,\n",
              " 'fine': 953,\n",
              " 'entir': 954,\n",
              " 'night': 955,\n",
              " 'websit': 956,\n",
              " 'read': 957,\n",
              " 'delay': 958,\n",
              " 'item': 959,\n",
              " 'check': 960,\n",
              " 'upcom': 961,\n",
              " 'sun': 962,\n",
              " 'europ': 963,\n",
              " 'clear': 964,\n",
              " 'immedi': 965,\n",
              " 'footbal': 966,\n",
              " 'ticket': 967,\n",
              " 'promis': 968,\n",
              " 'happen': 969,\n",
              " 'environ': 970,\n",
              " 'moment': 971,\n",
              " 'complex': 972,\n",
              " 'bear': 973,\n",
              " 'kt': 974,\n",
              " 'option': 975,\n",
              " 'sector': 976,\n",
              " 'memori': 977,\n",
              " 'maker': 978,\n",
              " 'ai': 979,\n",
              " 'fact': 980,\n",
              " 'suprem': 981,\n",
              " 'miss': 982,\n",
              " 'box': 983,\n",
              " 'neg': 984,\n",
              " 'ahn': 985,\n",
              " 'refer': 986,\n",
              " 'gwangju': 987,\n",
              " 'doctor': 988,\n",
              " 'estim': 989,\n",
              " 'intellig': 990,\n",
              " 'nam': 991,\n",
              " 'bar': 992,\n",
              " 'kind': 993,\n",
              " 'affili': 994,\n",
              " 'yang': 995,\n",
              " 'hoon': 996,\n",
              " 'select': 997,\n",
              " 'longer': 998,\n",
              " 'link': 999,\n",
              " 'multipl': 1000,\n",
              " ...}"
            ]
          },
          "metadata": {
            "tags": []
          },
          "execution_count": 73
        }
      ]
    },
    {
      "cell_type": "code",
      "metadata": {
        "colab": {
          "base_uri": "https://localhost:8080/"
        },
        "id": "zuBMLeH2Z_KC",
        "outputId": "9c571c26-eac9-4a25-b0c9-e6ae5b5a74a4"
      },
      "source": [
        "df_article = df_article.apply(lambda x: x.lower())\n",
        "df_article"
      ],
      "execution_count": 74,
      "outputs": [
        {
          "output_type": "execute_result",
          "data": {
            "text/plain": [
              "0       better give properti receiv big tax bill view ...\n",
              "1       new analysi foreign rush back market face fina...\n",
              "2       sk telcom merg two secur servic subsidiari sk ...\n",
              "3       border restrict drastic cut north korea trade ...\n",
              "4       bureaucraci weigh ai give list presid moon jae...\n",
              "                              ...                        \n",
              "9995    explos institut defens kill one injur year old...\n",
              "9996    readi relax student finish colleg scholast abi...\n",
              "9997    ryu hyun jin nearli win cy young award ryu hyu...\n",
              "9998    park byung ho hit like park byung ho park byun...\n",
              "9999    mexico success scout onset world basebal softb...\n",
              "Name: clean_article, Length: 10000, dtype: object"
            ]
          },
          "metadata": {
            "tags": []
          },
          "execution_count": 74
        }
      ]
    },
    {
      "cell_type": "code",
      "metadata": {
        "id": "UVpL4fE5yQJZ"
      },
      "source": [
        "art_sequences = t.texts_to_sequences(df_article.values)"
      ],
      "execution_count": 75,
      "outputs": []
    },
    {
      "cell_type": "code",
      "metadata": {
        "colab": {
          "base_uri": "https://localhost:8080/"
        },
        "id": "ddYCtIck3KKy",
        "outputId": "f982ab27-6d49-4c97-a758-624d68bb8bf4"
      },
      "source": [
        "%time df_article_t = df_article.apply(lambda x: t.texts_to_sequences(x))"
      ],
      "execution_count": 76,
      "outputs": [
        {
          "output_type": "stream",
          "text": [
            "CPU times: user 1min 39s, sys: 2.52 s, total: 1min 42s\n",
            "Wall time: 1min 42s\n"
          ],
          "name": "stdout"
        }
      ]
    },
    {
      "cell_type": "code",
      "metadata": {
        "colab": {
          "base_uri": "https://localhost:8080/"
        },
        "id": "lWOUg0pZdSsH",
        "outputId": "307783f2-c3e1-4f08-bc18-8cdab23d42a2"
      },
      "source": [
        "article_t = pad_sequences(art_sequences, maxlen=600)\n",
        "article_t"
      ],
      "execution_count": 88,
      "outputs": [
        {
          "output_type": "execute_result",
          "data": {
            "text/plain": [
              "array([[  0,   0,   0, ...,  19,  20,  26],\n",
              "       [  0,   0,   0, ...,  19,  20,  26],\n",
              "       [  0,   0,   0, ...,  19,  20,  26],\n",
              "       ...,\n",
              "       [  0,   0,   0, ...,  19,  20,  26],\n",
              "       [  0,   0,   0, ...,  19,  20,  26],\n",
              "       [  0,   0,   0, ..., 727, 102,  66]], dtype=int32)"
            ]
          },
          "metadata": {
            "tags": []
          },
          "execution_count": 88
        }
      ]
    },
    {
      "cell_type": "markdown",
      "metadata": {
        "id": "3aSI6eqP5K-i"
      },
      "source": [
        "# 문장 벡터, label 저장"
      ]
    },
    {
      "cell_type": "code",
      "metadata": {
        "id": "RjAp1_6C2Cqd"
      },
      "source": [
        "np.save(open('/content/drive/MyDrive/Colab Notebooks/data/data/' + 'train_data.npy', 'wb'), article_t)"
      ],
      "execution_count": 94,
      "outputs": []
    },
    {
      "cell_type": "code",
      "metadata": {
        "colab": {
          "base_uri": "https://localhost:8080/"
        },
        "id": "5ZvRouIwogPF",
        "outputId": "1c49e52e-c542-4c65-ab36-1caa48879e45"
      },
      "source": [
        "df_categories = df_temp['category'].apply(label_encoding)\n",
        "df_categories"
      ],
      "execution_count": 89,
      "outputs": [
        {
          "output_type": "execute_result",
          "data": {
            "text/plain": [
              "0       22187\n",
              "1       22187\n",
              "2       22187\n",
              "3       22187\n",
              "4       22187\n",
              "        ...  \n",
              "9995    22197\n",
              "9996    22197\n",
              "9997    22201\n",
              "9998    22201\n",
              "9999    22201\n",
              "Name: category, Length: 10000, dtype: int64"
            ]
          },
          "metadata": {
            "tags": []
          },
          "execution_count": 89
        }
      ]
    },
    {
      "cell_type": "code",
      "metadata": {
        "id": "Dsiao9ij2rR7"
      },
      "source": [
        "np.save(open('/content/drive/MyDrive/Colab Notebooks/data/data/' + 'label_data.npy', 'wb'), np.array(df_categories))"
      ],
      "execution_count": 96,
      "outputs": []
    },
    {
      "cell_type": "code",
      "metadata": {
        "id": "1XXNLFZl59F5"
      },
      "source": [
        "df_merge  = pd.DataFrame({'article': df_article, 'category': df_temp['category']})\n",
        "df_merge.to_csv('/content/drive/MyDrive/Colab Notebooks/data/data/cuk_txt_data.csv', sep='\\t', index=False)"
      ],
      "execution_count": 112,
      "outputs": []
    },
    {
      "cell_type": "markdown",
      "metadata": {
        "id": "oXIIvp1pOuiz"
      },
      "source": [
        "## 예측 실행을 위한 데이터 불러오기"
      ]
    },
    {
      "cell_type": "code",
      "metadata": {
        "id": "LEsKkjM3OuC0"
      },
      "source": [
        "import pandas as pd\n",
        "\n",
        "df = pd.read_csv('/content/drive/MyDrive/Colab Notebooks/data/data/cuk_txt_data.csv', sep='\\t')"
      ],
      "execution_count": 1,
      "outputs": []
    },
    {
      "cell_type": "code",
      "metadata": {
        "colab": {
          "base_uri": "https://localhost:8080/",
          "height": 111
        },
        "id": "VG3_s1qy7Hb1",
        "outputId": "1655bb48-6457-4f5a-f3c9-0323789678b0"
      },
      "source": [
        "df.head(2)"
      ],
      "execution_count": 2,
      "outputs": [
        {
          "output_type": "execute_result",
          "data": {
            "text/html": [
              "<div>\n",
              "<style scoped>\n",
              "    .dataframe tbody tr th:only-of-type {\n",
              "        vertical-align: middle;\n",
              "    }\n",
              "\n",
              "    .dataframe tbody tr th {\n",
              "        vertical-align: top;\n",
              "    }\n",
              "\n",
              "    .dataframe thead th {\n",
              "        text-align: right;\n",
              "    }\n",
              "</style>\n",
              "<table border=\"1\" class=\"dataframe\">\n",
              "  <thead>\n",
              "    <tr style=\"text-align: right;\">\n",
              "      <th></th>\n",
              "      <th>article</th>\n",
              "      <th>category</th>\n",
              "    </tr>\n",
              "  </thead>\n",
              "  <tbody>\n",
              "    <tr>\n",
              "      <th>0</th>\n",
              "      <td>better give properti receiv big tax bill view ...</td>\n",
              "      <td>business</td>\n",
              "    </tr>\n",
              "    <tr>\n",
              "      <th>1</th>\n",
              "      <td>new analysi foreign rush back market face fina...</td>\n",
              "      <td>business</td>\n",
              "    </tr>\n",
              "  </tbody>\n",
              "</table>\n",
              "</div>"
            ],
            "text/plain": [
              "                                             article  category\n",
              "0  better give properti receiv big tax bill view ...  business\n",
              "1  new analysi foreign rush back market face fina...  business"
            ]
          },
          "metadata": {
            "tags": []
          },
          "execution_count": 2
        }
      ]
    },
    {
      "cell_type": "code",
      "metadata": {
        "colab": {
          "base_uri": "https://localhost:8080/"
        },
        "id": "dTiscBZNAmQJ",
        "outputId": "87bd145b-4c20-4503-acd4-708672dd793c"
      },
      "source": [
        "df['article'].values"
      ],
      "execution_count": 4,
      "outputs": [
        {
          "output_type": "execute_result",
          "data": {
            "text/plain": [
              "array(['better give properti receiv big tax bill view apart songpa distirct southern seoul seoul ski top lott world tower yonhap new real estat measur pass rais cost ownership penal sale properti owner choos pay rather pay later even gift tax make sens transfer real estat other hold onto properti get nickel dime etern accord korea apprais board roughli home given away year octob highest yearli figur sinc relat statist first compil apart record high situat evid affluent gangnam area southern seoul octob year total apart three gangnam area district south han river gangnam district seocho district songpa district hand gift account percent number total giveaway seoul recent boom give away properti larg due govern continu attempt increas tax rate relat real estat moon administr juli announc rais maximum rate capit gain tax tax profit made sell apart percent current percent new tax appli start june next year comprehens real estat tax anoth drive forc govern plan rais maximum rate comprehens real estat tax percent current percent new tax rate also appli start next year get wire avoid new tax peopl scrambl pass properti famili other gift tax still appli transfer rang percent mani homeown face stiffer payment subject newli rais capit gain tax comprehens real estat tax real estat transact made gangnam district seocho district songpa district year roughli percent transfer seoul percentag percent percent across countri record high sinc relat statist first collect oh seok chea sarah chea sarah joongang co kr',\n",
              "       'new analysi foreign rush back market face final kospi dollar price display screen deal room hana bank jung district central seoul friday benchmark kospi close friday point percent previou day yonhap korea stock hit seri new high recent day foreign investor return market hope covid vaccin put end pandem new u administr help korean chines export main index nov broke point mark first time trend upward larg led foreign investor novemb alon foreign investor purchas net trillion billion share th month period retail investor offload trillion institut sold billion korea stock roughli percent year low hit march index touch march alon foreign investor offload roughli trillion share larg due uncertainti amid covid pandem improv sentiment part foreign investor major reason market show quick sign recoveri august septemb year foreign investor show passiv attitud toward market due uncertainti overal economi said cho byung hyun market analyst yuanta secur howev decreas uncertainti u presidenti elect hope covid vaccin develop foreign return local market faster ever semiconductor maker batteri firm particularli popular nov foreign bought trillion samsung electron share compani stock price jump percent novemb alon period foreign also bought trillion lg chem share follow sk hynix billion anticip larg cap earn next year seem driven gain covid outbreak like keep boost demand chip expert say increas kospi index expect continu least rest year possibl till first half next year nov research korea capit market institut kcmi held brief prospect next year economi stock market financi invest center yeouido western seoul research said kospi continu show upward trend follow next year like reach point end next year accord jang geun hyuk macro financi analyst kcmi oversea invest well young local retail investor expect enter stock market countri economi recov brokerag hous korea agre forecast heungkuk secur estim kospi would reach point next year hana financi invest sk secur predict would reach nh invest secur yuanta secur meritz secur call kb secur ktb invest secur call brokerag db financi invest kiwoom secur said would remain around mark fast growth also rais concern bubbl form local analyst say return foreign alon support index true item price higher consid begin year lot foreign offload share still room return said park soo min analyst shinyoung secur expect upward trend like continu least end year enough liquid market hope improv export figur main forc boost share think time consid valuat woe said kang hyun jeong anylyst kyobo secur joe biden administr global economi normal anticip improv intern trade well export figur eventu lift kospi near zero interest rate anoth drive forc peopl find altern jump stock market main index like rise benchmark kospi close friday point percent previou day foreign extend buy spree th straight session longest sinc session streak end august purchas net billion retail investor bought net billion institut offload net billion seoul larg cap stock close higher friday samsung electron ad percent fresh record chipmak sk hynix lost percent recharg batteri maker samsung sdi ad percent chemic firm lg chem shed percent hyundai motor countri largest carmak rose percent steelmak posco lost percent untact theme stock naver kakao lose steam naver declin percent rival kakao lost percent kosdaq index close point percent chea sarah chea sarah joongang co kr',\n",
              "       'sk telcom merg two secur servic subsidiari sk telecom sk telecom merg two secur relat subsidiari adt cap sk infosec aim take public move oversea market combin entiti like market domin sinc sk infosec top inform secur compani term market share adt cap second largest new unit could form earli march accord telecom compani process goe plan time frame list offer sk infosec percent own sk teleom adt cap wholli life secur hold entiti percent own telecom oper percent macquari korea merger sk telecom directli percent merg unit macquari hold percent combin intend allow increas use advanc technolog sk telecom grow merg entiti converg secur compani korea worth trillion billion within three year launch leverag advanc physic inform secur technolog adt cap sk infosec compani said statement park eun jee park eunje joongang co kr',\n",
              "       ...,\n",
              "       'ryu hyun jin nearli win cy young award ryu hyun jin korean major leaguer ryu hyun jin finish second nation leagu cy young award vote wednesday ryu may fare badli vote came one first place vote still make histori first asian pitcher major leagu earn first place vote cy young award first place vote jacob degrom new york met nation leagu cy young award win degrom took titl second straight season overal stand degrom finish well ahead ryu total point ryu finish second point look degrom season pick win eight loss era although pick less win higher era ryu degrom led nation leagu term number inning pitch strikeout ryu pitch two third inning pick win five loss leagu top era vote made member basebal writer associ america base perform regular season vote submit postseason began pitcher receiv seven point first place vote four point second place three point third place american leagu justin verland houston astro first place vote take award beat teammat gerrit cole receiv first place vote ryu best season major year toss two third inning second prolif season mound lo angel dodger back rooki season ryu pitch inning ryu start season open game arizona diamondback dodger stadium pick win becom first korean pitcher sinc park chan ho pick win open game major leagu ryu name nation leagu pitcher month may month alon ryu outstand era six game pick five win decis continu streak ryu earn star select becom fourth korean major leaguer juli ryu ad accolad becom first korean pitcher ever start star game ryu left dodger rotat twice due injuri first place day injur list due groin strain may join day list due neck sore august ad success ryu th win season game diamondback aug th career win ryu pick kbo win mlb win sinc debut hanwha eagl game ryu began short slump start game atlanta brave aug ryu pick three straight loss push era month august ryu pick pace septemb pick two win four start month ryu also hit first ever home run major month game colorado rocki sept ryu season impress consid much time spent injuri last year back ryu underw shoulder surgeri last season suffer groin injuri lead play game throughout regular season solid season also dramat increas ryu chanc continu career major season end ryu accept qualifi offer dodger contract complet ryu free agent kang yoo rim kang yoorim joongang co kr',\n",
              "       'park byung ho hit like park byung ho park byung ho walk dugout strikeout game chines taipei wbsc premier super round zozo marin stadium chiba japan tuesday yonhap korean nation basebal team cleanup hitter park byung ho struggl make mark premier look season kiwoom hero park up down finish strong top leagu home run park join nation basebal team hope continu home run streak world basebal softbal confeder wbsc premier seem case far team korea play six game throughout tournament park bat pretti silent bat averag slug percentag took korea last group c game cuba nov park final get first hit tournament ad anoth rbi follow game manag kim kyung moon said relief park byung ho seem get back shape team head japan super round park went quiet unit state monday park hit given two walk chines taipei tuesday ad hit four bat throughout park bat tournament three hit runner score posit hit walk nowher close fulfil role clutch cleanup hitter sinc park hit crucial home run hero throughout postseason perform nation team big disappoint fan hope park follow footstep former star player lee seung yuop back beij olymp time nation team manag kim assign lee korea cleanup hitter like park lee struggl begin seven game semifin lee three hit bat despit lee struggl kim continu assign team korea cleanup hitter final came realli count hit two run homer semifin game japan lead korea come behind victori lee hit anoth two run home run gold medal game cuba help korea win first ever gold basebal olymp year sinc histor moment kim took helm nation team start long road repeat success time chose former major leaguer park cleanup hitter meanwhil lee kbo legend known lion king retir keep close eye park perform comment game byung ho must distress said lee well awar pressur begin nod pain need get park byung ho batter get look park season top game toward end regular season park get inject due wrist pain hero advanc korean seri park play extra game season end relief team group stage disappoint park said thursday korea rank third super round stand two win loss japan mexico tie lead three win loss due korea pick win mexico japan next two day top stand along advanc final two win also guarante korea spot tokyo olymp though team two big game ahead like kim continu includ park lineup howev choi jeong expect return team today slug pressur lift park cautiou shake thing kim quot say yonhap thursday watch bat practic tomorrow go guy look good cage expect major chang back inaugur edit tournament park hit big home run final game unit state tokyo dome remain game park hope repeat success eventu help team defend titl rewatch scene preview clip tournament park said want make perform far kim hyo kyung kang yoorim joongang co kr',\n",
              "       'mexico success scout onset world basebal softbal confeder wbsc premier mexico consid among titl favorit ruben niebla world pleasant surpris far mexico three game group stage first two game super round streak end loss japan wednesday team pitch coach ruben niebla tell mexico win inform war behind scene mexico take korea today tokyo dome niebla said team clear idea expect oppos team lot inform came well prepar scout report niebla said wednesday mexico play japan tokyo dome niebla speak hour game korea mind immedi game ahead japan acknowledg gener idea korean hitter tendenc still break hitter hitter see go attack said go attack hitter importantli go put defens pitch strength defens set think shift team tournament infield outfield prior wednesday mexico allow five run five game five game start pitcher went beyond five inning three starter reliev made least one appear japan mexican starter horacio ram rez last one one third inning charg three earn run five reliev admir job keep mexico game held japan five hit final six two third inning strike eight niebla also assist pitch coach cleveland indian said could much stori korea like go bullpen game niebla said mean mexico would reli seri bullpen arm get out rather convent starter mound matter take mound niebla said confid team wealth inform come handi think becom lot difficult score pitch staff execut said inform get hitter play team use inform go littl bit advantag korea face mexico p tonight tokyo dome tokyo park jong hoon start korea manuel barreda first mound central american team yonhap'],\n",
              "      dtype=object)"
            ]
          },
          "metadata": {
            "tags": []
          },
          "execution_count": 4
        }
      ]
    },
    {
      "cell_type": "markdown",
      "metadata": {
        "id": "XyA9WuLP_F7j"
      },
      "source": [
        "# 문장 벡터화"
      ]
    },
    {
      "cell_type": "code",
      "metadata": {
        "id": "eZQXHkYd7mOQ"
      },
      "source": [
        "from sklearn.feature_extraction.text import TfidfVectorizer\n",
        "from tensorflow.keras.preprocessing.text import Tokenizer\n",
        "import numpy as np\n",
        "\n",
        "tfidf_vectorizer = TfidfVectorizer(min_df=.0, \n",
        "                                   analyzer='char', \n",
        "                                   sublinear_tf=True,\n",
        "                                   ngram_range=(1, 3),\n",
        "                                   max_features=5000)\n",
        "\n",
        "articles = list(df['article'].values)\n",
        "categories = list(df['category'].apply(lambda x: x.lower()).unique())\n",
        "\n",
        "tfidf_vectorizer.fit(articles + categories)\n",
        "tok = Tokenizer()\n",
        "tok.fit_on_texts(categories + articles)"
      ],
      "execution_count": 3,
      "outputs": []
    },
    {
      "cell_type": "code",
      "metadata": {
        "id": "Y_wne42QOJuB"
      },
      "source": [
        "# len(tfidf_vectorizer.vocabulary_) + 1"
      ],
      "execution_count": 6,
      "outputs": []
    },
    {
      "cell_type": "code",
      "metadata": {
        "colab": {
          "base_uri": "https://localhost:8080/"
        },
        "id": "BxYBRGbebKeQ",
        "outputId": "b825f69b-7b7a-41bf-99cd-e4123c58e352"
      },
      "source": [
        "np.array(tok.texts_to_sequences(categories)).reshape((-1, ))"
      ],
      "execution_count": 7,
      "outputs": [
        {
          "output_type": "execute_result",
          "data": {
            "text/plain": [
              "array([32366, 32367, 32368, 32369, 32370, 32371, 32372, 11712, 32373,\n",
              "       32374, 32375,  1245, 32376, 32377, 32378, 32379, 32380, 32381,\n",
              "       32382, 32383,  1511, 32384, 32385, 32386, 32387, 32388, 32389,\n",
              "       32390, 32391,  8697, 32392, 32393, 32394, 32395, 17668, 32396])"
            ]
          },
          "metadata": {
            "tags": []
          },
          "execution_count": 7
        }
      ]
    },
    {
      "cell_type": "code",
      "metadata": {
        "colab": {
          "base_uri": "https://localhost:8080/"
        },
        "id": "tXzP0clzbjSa",
        "outputId": "876c9e0e-0282-43fa-8eb0-4ab79dbeb017"
      },
      "source": [
        "y = df['category'].apply(lambda x: tok.word_index[x.lower()])\n",
        "y"
      ],
      "execution_count": 43,
      "outputs": [
        {
          "output_type": "execute_result",
          "data": {
            "text/plain": [
              "0       22187\n",
              "1       22187\n",
              "2       22187\n",
              "3       22187\n",
              "4       22187\n",
              "        ...  \n",
              "9995    22197\n",
              "9996    22197\n",
              "9997    22201\n",
              "9998    22201\n",
              "9999    22201\n",
              "Name: category, Length: 10000, dtype: int64"
            ]
          },
          "metadata": {
            "tags": []
          },
          "execution_count": 43
        }
      ]
    },
    {
      "cell_type": "code",
      "metadata": {
        "colab": {
          "base_uri": "https://localhost:8080/"
        },
        "id": "6fFyIAr6W4iF",
        "outputId": "3deb7c6e-f2bb-45a0-8564-b491d0f60c73"
      },
      "source": [
        "X = tfidf_vectorizer.transform(articles).toarray()\n",
        "X"
      ],
      "execution_count": 44,
      "outputs": [
        {
          "output_type": "execute_result",
          "data": {
            "text/plain": [
              "array([[0.06185632, 0.04023378, 0.        , ..., 0.        , 0.        ,\n",
              "        0.        ],\n",
              "       [0.04816381, 0.02932728, 0.        , ..., 0.        , 0.        ,\n",
              "        0.        ],\n",
              "       [0.07688206, 0.04299833, 0.        , ..., 0.        , 0.        ,\n",
              "        0.        ],\n",
              "       ...,\n",
              "       [0.05298002, 0.03359647, 0.        , ..., 0.        , 0.        ,\n",
              "        0.        ],\n",
              "       [0.05127745, 0.0263666 , 0.        , ..., 0.        , 0.        ,\n",
              "        0.        ],\n",
              "       [0.05919221, 0.03326158, 0.        , ..., 0.        , 0.        ,\n",
              "        0.        ]])"
            ]
          },
          "metadata": {
            "tags": []
          },
          "execution_count": 44
        }
      ]
    },
    {
      "cell_type": "code",
      "metadata": {
        "id": "dqjw8PQgQein"
      },
      "source": [
        "tX = pad_sequences(tok.texts_to_sequences(articles), maxlen=3000)"
      ],
      "execution_count": 75,
      "outputs": []
    },
    {
      "cell_type": "markdown",
      "metadata": {
        "id": "Jx_lzQgZH6rT"
      },
      "source": [
        "## 머신러닝 train, test 데이터"
      ]
    },
    {
      "cell_type": "code",
      "metadata": {
        "id": "Fn08J9u-AdJN"
      },
      "source": [
        "from sklearn.model_selection import train_test_split\n",
        "import numpy as np\n",
        "\n",
        "RANDOM_SEED = 33\n",
        "TEST_SPLIT = .3\n",
        "\n",
        "# y = np.array(df['category'])\n",
        "\n",
        "X_train, X_test, y_train, y_test = train_test_split(X, y, test_size=TEST_SPLIT, random_state=RANDOM_SEED)\n",
        "tX_train, tX_test, ty_train, ty_test = train_test_split(tX, y, test_size=TEST_SPLIT, random_state=RANDOM_SEED)"
      ],
      "execution_count": 76,
      "outputs": []
    },
    {
      "cell_type": "code",
      "metadata": {
        "colab": {
          "base_uri": "https://localhost:8080/"
        },
        "id": "cPdK9bUzLPII",
        "outputId": "54573172-6955-4b18-ba7e-9a56969ad516"
      },
      "source": [
        "X_train.shape, y_train.shape, tX_train.shape, ty_train.shape"
      ],
      "execution_count": 77,
      "outputs": [
        {
          "output_type": "execute_result",
          "data": {
            "text/plain": [
              "((7000, 5000), (7000,), (7000, 3000), (7000,))"
            ]
          },
          "metadata": {
            "tags": []
          },
          "execution_count": 77
        }
      ]
    },
    {
      "cell_type": "code",
      "metadata": {
        "colab": {
          "base_uri": "https://localhost:8080/"
        },
        "id": "Zd66RyjiODSj",
        "outputId": "bf3ea0ae-19ab-4566-b1f4-ccfca7e0f22e"
      },
      "source": [
        "y_train"
      ],
      "execution_count": 50,
      "outputs": [
        {
          "output_type": "execute_result",
          "data": {
            "text/plain": [
              "4702    22197\n",
              "2304    22192\n",
              "6243     8501\n",
              "1777    22192\n",
              "804     22191\n",
              "        ...  \n",
              "57      22187\n",
              "578     22191\n",
              "5848    22195\n",
              "2439    22187\n",
              "7188    22204\n",
              "Name: category, Length: 7000, dtype: int64"
            ]
          },
          "metadata": {
            "tags": []
          },
          "execution_count": 50
        }
      ]
    },
    {
      "cell_type": "code",
      "metadata": {
        "id": "FxK8noglV0x5"
      },
      "source": [
        "for a in X_train[0]:\n",
        "  print(type(a))\n",
        "  print(\"-\"* 100)"
      ],
      "execution_count": null,
      "outputs": []
    },
    {
      "cell_type": "code",
      "metadata": {
        "id": "KQEUitY2LWA3"
      },
      "source": [
        "import tensorflow as tf\n",
        "from tensorflow.keras import layers\n",
        "\n",
        "from tensorflow.keras.models import Sequential\n",
        "from tensorflow.keras.layers import Dense, LSTM, Embedding, Input, BatchNormalization, Flatten, Activation, Dropout, Conv1D, MaxPooling1D\n",
        "from tensorflow.keras.utils import to_categorical\n",
        "from tensorflow.keras.callbacks import EarlyStopping, ModelCheckpoint\n",
        "from tensorflow.keras.models import load_model\n",
        "from tensorflow.keras.preprocessing.sequence import pad_sequences"
      ],
      "execution_count": 10,
      "outputs": []
    },
    {
      "cell_type": "code",
      "metadata": {
        "colab": {
          "base_uri": "https://localhost:8080/"
        },
        "id": "_4tfbUXIc9Fi",
        "outputId": "8425c54e-aa2f-4584-d869-8d4a2a8a5130"
      },
      "source": [
        "X_train.shape, y_train.shape, X_test.shape, y_test.shape"
      ],
      "execution_count": 32,
      "outputs": [
        {
          "output_type": "execute_result",
          "data": {
            "text/plain": [
              "((7000, 5000), (7000,), (3000, 5000), (3000,))"
            ]
          },
          "metadata": {
            "tags": []
          },
          "execution_count": 32
        }
      ]
    },
    {
      "cell_type": "markdown",
      "metadata": {
        "id": "BUqy9U6y6y21"
      },
      "source": [
        "## SGD 분류 예측"
      ]
    },
    {
      "cell_type": "code",
      "metadata": {
        "colab": {
          "base_uri": "https://localhost:8080/"
        },
        "id": "hAzl4ot5e5et",
        "outputId": "ff67da70-1e8c-4198-b003-1f669ab98807"
      },
      "source": [
        "from sklearn.linear_model import SGDClassifier\n",
        "model = SGDClassifier()\n",
        "model.fit(X_train, y_train)\n",
        "print(model.score(X_test, y_test))"
      ],
      "execution_count": 78,
      "outputs": [
        {
          "output_type": "stream",
          "text": [
            "0.6756666666666666\n"
          ],
          "name": "stdout"
        }
      ]
    },
    {
      "cell_type": "code",
      "metadata": {
        "colab": {
          "base_uri": "https://localhost:8080/"
        },
        "id": "LCDj3odCSTaj",
        "outputId": "f03ef4af-2a0d-4382-8d64-d47a9ab1f217"
      },
      "source": [
        "model = SGDClassifier()\n",
        "model.fit(tX_train, ty_train)\n",
        "print(model.score(tX_test, ty_test))"
      ],
      "execution_count": 79,
      "outputs": [
        {
          "output_type": "stream",
          "text": [
            "0.154\n"
          ],
          "name": "stdout"
        }
      ]
    },
    {
      "cell_type": "markdown",
      "metadata": {
        "id": "A8A4njmT61BH"
      },
      "source": [
        "## RandomForest 예측"
      ]
    },
    {
      "cell_type": "code",
      "metadata": {
        "colab": {
          "base_uri": "https://localhost:8080/"
        },
        "id": "bXOFWhn_h0VC",
        "outputId": "0673fd97-852b-4909-c3f1-f25a021f94c4"
      },
      "source": [
        "# 너무 오래 걸림\n",
        "\n",
        "from sklearn import ensemble\n",
        "%time random_forest = ensemble.RandomForestRegressor(n_estimators=10)\n",
        "random_forest.fit(X_train, y_train)\n",
        "\n",
        "# 결정계수 표시\n",
        "r2 = model.score(X_test, y_test)\n",
        "print('결정계수 ', r2)"
      ],
      "execution_count": 58,
      "outputs": [
        {
          "output_type": "stream",
          "text": [
            "결정계수  0.68\n"
          ],
          "name": "stdout"
        }
      ]
    },
    {
      "cell_type": "markdown",
      "metadata": {
        "id": "siBV7UB1GamK"
      },
      "source": [
        "## 딥러닝 train, test 데이터"
      ]
    },
    {
      "cell_type": "code",
      "metadata": {
        "id": "UYRp338YExZO"
      },
      "source": [
        "X = tfidf_vectorizer.transform(articles).toarray()\n",
        "y = pd.get_dummies(df['category'])\n",
        "\n",
        "X_train, X_test, y_train, y_test = train_test_split(X, y, test_size=TEST_SPLIT, random_state=RANDOM_SEED)\n",
        "tX_train, tX_test, ty_train, ty_test = train_test_split(tX, y, test_size=TEST_SPLIT, random_state=RANDOM_SEED)"
      ],
      "execution_count": 80,
      "outputs": []
    },
    {
      "cell_type": "code",
      "metadata": {
        "colab": {
          "base_uri": "https://localhost:8080/"
        },
        "id": "7ionHZ5-A234",
        "outputId": "498bad23-bd3e-498b-e37a-10821505d306"
      },
      "source": [
        "X_train.shape, y_train.shape"
      ],
      "execution_count": 81,
      "outputs": [
        {
          "output_type": "execute_result",
          "data": {
            "text/plain": [
              "((7000, 5000), (7000, 36))"
            ]
          },
          "metadata": {
            "tags": []
          },
          "execution_count": 81
        }
      ]
    },
    {
      "cell_type": "markdown",
      "metadata": {
        "id": "9y8XNMEwVNRG"
      },
      "source": [
        "# 첫 번째 딥러닝 모델"
      ]
    },
    {
      "cell_type": "code",
      "metadata": {
        "colab": {
          "base_uri": "https://localhost:8080/"
        },
        "id": "KQjK4oa_Pe59",
        "outputId": "96b3f886-866b-4d63-ffbf-7dd063d9f073"
      },
      "source": [
        "emb_size = 128\n",
        "\n",
        "model = Sequential()\n",
        "\n",
        "model.add(Embedding(5000, emb_size))\n",
        "model.add(Dropout(.5))\n",
        "model.add(Conv1D(64, 5, padding='valid', activation='relu', strides=1))\n",
        "model.add(MaxPooling1D(pool_size=4))\n",
        "\n",
        "model.add(LSTM(100, activation='tanh', return_sequences=True))\n",
        "model.add(BatchNormalization())\n",
        "model.add(LSTM(100, activation='tanh'))\n",
        "\n",
        "model.add(Dense(36))\n",
        "model.add(BatchNormalization())\n",
        "model.add(Activation('softmax'))\n",
        "model.summary()"
      ],
      "execution_count": 82,
      "outputs": [
        {
          "output_type": "stream",
          "text": [
            "Model: \"sequential_6\"\n",
            "_________________________________________________________________\n",
            "Layer (type)                 Output Shape              Param #   \n",
            "=================================================================\n",
            "embedding_6 (Embedding)      (None, None, 128)         640000    \n",
            "_________________________________________________________________\n",
            "dropout_3 (Dropout)          (None, None, 128)         0         \n",
            "_________________________________________________________________\n",
            "conv1d_3 (Conv1D)            (None, None, 64)          41024     \n",
            "_________________________________________________________________\n",
            "max_pooling1d_3 (MaxPooling1 (None, None, 64)          0         \n",
            "_________________________________________________________________\n",
            "lstm_12 (LSTM)               (None, None, 100)         66000     \n",
            "_________________________________________________________________\n",
            "batch_normalization_8 (Batch (None, None, 100)         400       \n",
            "_________________________________________________________________\n",
            "lstm_13 (LSTM)               (None, 100)               80400     \n",
            "_________________________________________________________________\n",
            "dense_6 (Dense)              (None, 36)                3636      \n",
            "_________________________________________________________________\n",
            "batch_normalization_9 (Batch (None, 36)                144       \n",
            "_________________________________________________________________\n",
            "activation_3 (Activation)    (None, 36)                0         \n",
            "=================================================================\n",
            "Total params: 831,604\n",
            "Trainable params: 831,332\n",
            "Non-trainable params: 272\n",
            "_________________________________________________________________\n"
          ],
          "name": "stdout"
        }
      ]
    },
    {
      "cell_type": "code",
      "metadata": {
        "colab": {
          "base_uri": "https://localhost:8080/"
        },
        "id": "DWaMwTABiuSc",
        "outputId": "333592a3-e5a4-467f-d8c5-a633c085822d"
      },
      "source": [
        "model.input_shape, model.output_shape"
      ],
      "execution_count": 83,
      "outputs": [
        {
          "output_type": "execute_result",
          "data": {
            "text/plain": [
              "((None, None), (None, 36))"
            ]
          },
          "metadata": {
            "tags": []
          },
          "execution_count": 83
        }
      ]
    },
    {
      "cell_type": "markdown",
      "metadata": {
        "id": "PuNvcCDqPhpR"
      },
      "source": [
        "## optimizer adam 사용"
      ]
    },
    {
      "cell_type": "code",
      "metadata": {
        "colab": {
          "base_uri": "https://localhost:8080/"
        },
        "id": "6tuRY2yRP-rx",
        "outputId": "cd5cc693-2c80-4042-9b7f-6fd5731d7293"
      },
      "source": [
        "model.compile(loss='categorical_crossentropy', optimizer='adam', metrics=['accuracy'])\n",
        "\n",
        "history = model.fit(X_train, y_train,\n",
        "                    batch_size=128, \n",
        "                    epochs=33)"
      ],
      "execution_count": 84,
      "outputs": [
        {
          "output_type": "stream",
          "text": [
            "Epoch 1/33\n",
            "55/55 [==============================] - 20s 371ms/step - loss: 3.8139 - accuracy: 0.0530\n",
            "Epoch 2/33\n",
            "55/55 [==============================] - 20s 368ms/step - loss: 3.5051 - accuracy: 0.0979\n",
            "Epoch 3/33\n",
            "55/55 [==============================] - 20s 366ms/step - loss: 3.4460 - accuracy: 0.1106\n",
            "Epoch 4/33\n",
            "55/55 [==============================] - 20s 367ms/step - loss: 3.3909 - accuracy: 0.1303\n",
            "Epoch 5/33\n",
            "55/55 [==============================] - 20s 369ms/step - loss: 3.3414 - accuracy: 0.1241\n",
            "Epoch 6/33\n",
            "55/55 [==============================] - 20s 367ms/step - loss: 3.2912 - accuracy: 0.1354\n",
            "Epoch 7/33\n",
            "55/55 [==============================] - 20s 366ms/step - loss: 3.2525 - accuracy: 0.1279\n",
            "Epoch 8/33\n",
            "55/55 [==============================] - 20s 367ms/step - loss: 3.2059 - accuracy: 0.1366\n",
            "Epoch 9/33\n",
            "55/55 [==============================] - 20s 366ms/step - loss: 3.1650 - accuracy: 0.1499\n",
            "Epoch 10/33\n",
            "55/55 [==============================] - 20s 367ms/step - loss: 3.1280 - accuracy: 0.1657\n",
            "Epoch 11/33\n",
            "55/55 [==============================] - 20s 366ms/step - loss: 3.0936 - accuracy: 0.1630\n",
            "Epoch 12/33\n",
            "55/55 [==============================] - 20s 369ms/step - loss: 3.0603 - accuracy: 0.1583\n",
            "Epoch 13/33\n",
            "55/55 [==============================] - 20s 366ms/step - loss: 3.0318 - accuracy: 0.1646\n",
            "Epoch 14/33\n",
            "55/55 [==============================] - 20s 366ms/step - loss: 3.0034 - accuracy: 0.1643\n",
            "Epoch 15/33\n",
            "55/55 [==============================] - 20s 365ms/step - loss: 2.9751 - accuracy: 0.1706\n",
            "Epoch 16/33\n",
            "55/55 [==============================] - 20s 366ms/step - loss: 2.9510 - accuracy: 0.1709\n",
            "Epoch 17/33\n",
            "55/55 [==============================] - 20s 366ms/step - loss: 2.9276 - accuracy: 0.1771\n",
            "Epoch 18/33\n",
            "55/55 [==============================] - 20s 365ms/step - loss: 2.9065 - accuracy: 0.1769\n",
            "Epoch 19/33\n",
            "55/55 [==============================] - 20s 365ms/step - loss: 2.8862 - accuracy: 0.1817\n",
            "Epoch 20/33\n",
            "55/55 [==============================] - 20s 366ms/step - loss: 2.8673 - accuracy: 0.1879\n",
            "Epoch 21/33\n",
            "55/55 [==============================] - 20s 365ms/step - loss: 2.8523 - accuracy: 0.1810\n",
            "Epoch 22/33\n",
            "55/55 [==============================] - 20s 365ms/step - loss: 2.8326 - accuracy: 0.1836\n",
            "Epoch 23/33\n",
            "55/55 [==============================] - 20s 365ms/step - loss: 2.8175 - accuracy: 0.1889\n",
            "Epoch 24/33\n",
            "55/55 [==============================] - 20s 365ms/step - loss: 2.8083 - accuracy: 0.1860\n",
            "Epoch 25/33\n",
            "55/55 [==============================] - 20s 366ms/step - loss: 2.7918 - accuracy: 0.1861\n",
            "Epoch 26/33\n",
            "55/55 [==============================] - 20s 365ms/step - loss: 2.7782 - accuracy: 0.1909\n",
            "Epoch 27/33\n",
            "55/55 [==============================] - 20s 366ms/step - loss: 2.7672 - accuracy: 0.1887\n",
            "Epoch 28/33\n",
            "55/55 [==============================] - 20s 366ms/step - loss: 2.7559 - accuracy: 0.1886\n",
            "Epoch 29/33\n",
            "55/55 [==============================] - 20s 366ms/step - loss: 2.7455 - accuracy: 0.1914\n",
            "Epoch 30/33\n",
            "55/55 [==============================] - 20s 365ms/step - loss: 2.7369 - accuracy: 0.1937\n",
            "Epoch 31/33\n",
            "55/55 [==============================] - 20s 365ms/step - loss: 2.7317 - accuracy: 0.1879\n",
            "Epoch 32/33\n",
            "55/55 [==============================] - 20s 366ms/step - loss: 2.7229 - accuracy: 0.1981\n",
            "Epoch 33/33\n",
            "55/55 [==============================] - 20s 366ms/step - loss: 2.7136 - accuracy: 0.1933\n"
          ],
          "name": "stdout"
        }
      ]
    },
    {
      "cell_type": "markdown",
      "metadata": {
        "id": "F5g6T0MJPetK"
      },
      "source": [
        "## optimizer rmsprop 사용"
      ]
    },
    {
      "cell_type": "code",
      "metadata": {
        "colab": {
          "base_uri": "https://localhost:8080/"
        },
        "id": "C-YnBZGZPbhc",
        "outputId": "52737ebc-3f62-4252-f137-c9ce2928c396"
      },
      "source": [
        "model.compile(loss='categorical_crossentropy', optimizer='rmsprop', metrics=['accuracy'])\n",
        "\n",
        "history = model.fit(X_train, y_train,\n",
        "                    batch_size=128, \n",
        "                    epochs=33)"
      ],
      "execution_count": 85,
      "outputs": [
        {
          "output_type": "stream",
          "text": [
            "Epoch 1/33\n",
            "55/55 [==============================] - 20s 363ms/step - loss: 2.7034 - accuracy: 0.1921\n",
            "Epoch 2/33\n",
            "55/55 [==============================] - 20s 364ms/step - loss: 2.6934 - accuracy: 0.1946\n",
            "Epoch 3/33\n",
            "55/55 [==============================] - 20s 363ms/step - loss: 2.6839 - accuracy: 0.1956\n",
            "Epoch 4/33\n",
            "55/55 [==============================] - 20s 362ms/step - loss: 2.6762 - accuracy: 0.1951\n",
            "Epoch 5/33\n",
            "55/55 [==============================] - 20s 362ms/step - loss: 2.6695 - accuracy: 0.1929\n",
            "Epoch 6/33\n",
            "55/55 [==============================] - 20s 363ms/step - loss: 2.6630 - accuracy: 0.1953\n",
            "Epoch 7/33\n",
            "55/55 [==============================] - 20s 363ms/step - loss: 2.6574 - accuracy: 0.1953\n",
            "Epoch 8/33\n",
            "55/55 [==============================] - 20s 362ms/step - loss: 2.6534 - accuracy: 0.1957\n",
            "Epoch 9/33\n",
            "55/55 [==============================] - 20s 362ms/step - loss: 2.6491 - accuracy: 0.1963\n",
            "Epoch 10/33\n",
            "55/55 [==============================] - 20s 363ms/step - loss: 2.6443 - accuracy: 0.1961\n",
            "Epoch 11/33\n",
            "55/55 [==============================] - 20s 363ms/step - loss: 2.6410 - accuracy: 0.1963\n",
            "Epoch 12/33\n",
            "55/55 [==============================] - 20s 363ms/step - loss: 2.6373 - accuracy: 0.1963\n",
            "Epoch 13/33\n",
            "55/55 [==============================] - 20s 362ms/step - loss: 2.6358 - accuracy: 0.1966\n",
            "Epoch 14/33\n",
            "55/55 [==============================] - 20s 363ms/step - loss: 2.6325 - accuracy: 0.1963\n",
            "Epoch 15/33\n",
            "55/55 [==============================] - 20s 362ms/step - loss: 2.6312 - accuracy: 0.1963\n",
            "Epoch 16/33\n",
            "55/55 [==============================] - 20s 363ms/step - loss: 2.6295 - accuracy: 0.1963\n",
            "Epoch 17/33\n",
            "55/55 [==============================] - 20s 363ms/step - loss: 2.6274 - accuracy: 0.1963\n",
            "Epoch 18/33\n",
            "55/55 [==============================] - 20s 362ms/step - loss: 2.6251 - accuracy: 0.1963\n",
            "Epoch 19/33\n",
            "55/55 [==============================] - 20s 363ms/step - loss: 2.6241 - accuracy: 0.1963\n",
            "Epoch 20/33\n",
            "55/55 [==============================] - 20s 364ms/step - loss: 2.6219 - accuracy: 0.1961\n",
            "Epoch 21/33\n",
            "55/55 [==============================] - 20s 362ms/step - loss: 2.6207 - accuracy: 0.1963\n",
            "Epoch 22/33\n",
            "55/55 [==============================] - 20s 363ms/step - loss: 2.6200 - accuracy: 0.1963\n",
            "Epoch 23/33\n",
            "55/55 [==============================] - 20s 362ms/step - loss: 2.6190 - accuracy: 0.1963\n",
            "Epoch 24/33\n",
            "55/55 [==============================] - 20s 362ms/step - loss: 2.6175 - accuracy: 0.1963\n",
            "Epoch 25/33\n",
            "55/55 [==============================] - 20s 363ms/step - loss: 2.6163 - accuracy: 0.1963\n",
            "Epoch 26/33\n",
            "55/55 [==============================] - 20s 362ms/step - loss: 2.6158 - accuracy: 0.1963\n",
            "Epoch 27/33\n",
            "55/55 [==============================] - 20s 363ms/step - loss: 2.6149 - accuracy: 0.1963\n",
            "Epoch 28/33\n",
            "55/55 [==============================] - 20s 362ms/step - loss: 2.6147 - accuracy: 0.1963\n",
            "Epoch 29/33\n",
            "55/55 [==============================] - 20s 362ms/step - loss: 2.6139 - accuracy: 0.1963\n",
            "Epoch 30/33\n",
            "55/55 [==============================] - 20s 363ms/step - loss: 2.6134 - accuracy: 0.1963\n",
            "Epoch 31/33\n",
            "55/55 [==============================] - 20s 362ms/step - loss: 2.6131 - accuracy: 0.1963\n",
            "Epoch 32/33\n",
            "55/55 [==============================] - 20s 363ms/step - loss: 2.6117 - accuracy: 0.1963\n",
            "Epoch 33/33\n",
            "55/55 [==============================] - 20s 363ms/step - loss: 2.6109 - accuracy: 0.1963\n"
          ],
          "name": "stdout"
        }
      ]
    }
  ]
}
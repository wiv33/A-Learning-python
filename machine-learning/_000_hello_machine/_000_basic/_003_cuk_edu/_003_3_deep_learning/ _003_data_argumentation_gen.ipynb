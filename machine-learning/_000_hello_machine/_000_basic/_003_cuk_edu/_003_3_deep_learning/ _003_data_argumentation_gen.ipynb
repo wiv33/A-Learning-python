{
  "nbformat": 4,
  "nbformat_minor": 0,
  "metadata": {
    "colab": {
      "name": "data_argumentation_gen.ipynb",
      "provenance": [],
      "authorship_tag": "ABX9TyPR3HtzYat3dmzjJPG/zVIB",
      "include_colab_link": true
    },
    "kernelspec": {
      "name": "python3",
      "display_name": "Python 3"
    },
    "language_info": {
      "name": "python"
    }
  },
  "cells": [
    {
      "cell_type": "markdown",
      "metadata": {
        "id": "view-in-github",
        "colab_type": "text"
      },
      "source": [
        "<a href=\"https://colab.research.google.com/github/wiv33/A-Learning-python/blob/master/machine-learning/_000_hello_machine/_000_basic/_003_cuk_edu/_003_3_deep_learning/%20_003_data_argumentation_gen.ipynb\" target=\"_parent\"><img src=\"https://colab.research.google.com/assets/colab-badge.svg\" alt=\"Open In Colab\"/></a>"
      ]
    },
    {
      "cell_type": "code",
      "metadata": {
        "id": "LlGBKEYlgb4z"
      },
      "source": [
        "import tensorflow as tf\n",
        "from tensorflow import keras\n",
        "from keras.utils import to_categorical\n",
        "from keras.datasets import cifar10\n",
        "from keras.layers import Input, Dense, Activation, BatchNormalization\n",
        "from keras.models import Model\n",
        "\n",
        "import numpy as np\n",
        "\n",
        "(x_train, y_train), (x_test, y_test) = cifar10.load_data()\n",
        "\n",
        "num_classes = len(np.unique(y_train))\n",
        "\n",
        "y_train= to_categorical(y_train, num_classes)\n",
        "y_test = to_categorical(y_test, num_classes)\n",
        "\n",
        "datagen = keras.preprocessing.image.ImageDataGenerator(\n",
        "    resacle=1./255,\n",
        "    featurewise_center=True,\n",
        "    featurewise_std_normalization=True,\n",
        "    rotation_range=15,    # 지정된 각도 범위 내에서 임의로 원본 이미지 회전 : 0 ~ 90 사이\n",
        "    width_shift_range=.1, # 지정된 수평 방향 이동 범위 내에서 임의로 원본 이미지를 이동시킴. (전체 넓이가 100일 경우 0.1은 10을 의미)\n",
        "    height_shift_range=.1, # 지정된 수직 방향 이동 범위 내에서 임의로 원본 이미지 이동 시킴 (전체 높이가 100일 경우 0.1은 10을 의미)\n",
        "    fill_mode='nearest', # 채울 때의 모드\n",
        "    horizontal_flip=True,# 가로로 이미지 뒤집기\n",
        "    vertical_flip=True,  # 세로로 이미지 뒤집기\n",
        "    shear_range=.5,     # 밀림 강도 범위 내에서 임의로 원본 이미지 변형\n",
        "    zoom_range=[.8, .2] # 지정된 범위 내에서 원본 이미지를 확대/축소함\n",
        ")\n",
        "datagen.fit(x_train)"
      ],
      "execution_count": 12,
      "outputs": []
    },
    {
      "cell_type": "code",
      "metadata": {
        "colab": {
          "base_uri": "https://localhost:8080/"
        },
        "id": "vZfTRtjZmNHv",
        "outputId": "23dc61b3-08dd-4230-eb9b-1713a561a612"
      },
      "source": [
        "inputs = Input(shape=(32, 32))\n",
        "H = Dense(256)(inputs)\n",
        "H = Activation('relu')(H)\n",
        "H = BatchNormalization()(H)\n",
        "\n",
        "H = Dense(128)(inputs)\n",
        "H = Activation('relu')(H)\n",
        "H = BatchNormalization()(H)\n",
        "\n",
        "H = Dense(64)(inputs)\n",
        "H = Activation('relu')(H)\n",
        "H = BatchNormalization()(H)\n",
        "\n",
        "\n",
        "\n",
        "model = Model(inputs, outputs)\n",
        "model.fit()\n",
        "datagen.flow(x_train, y_train, batch_size=32)"
      ],
      "execution_count": 9,
      "outputs": [
        {
          "output_type": "execute_result",
          "data": {
            "text/plain": [
              "0.0"
            ]
          },
          "metadata": {
            "tags": []
          },
          "execution_count": 9
        }
      ]
    }
  ]
}
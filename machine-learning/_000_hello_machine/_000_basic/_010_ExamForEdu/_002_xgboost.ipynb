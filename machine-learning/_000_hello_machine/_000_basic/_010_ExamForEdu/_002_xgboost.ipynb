{
  "nbformat": 4,
  "nbformat_minor": 0,
  "metadata": {
    "colab": {
      "name": "aEduByExample/_002_xgboost.ipynb",
      "provenance": [],
      "collapsed_sections": [],
      "authorship_tag": "ABX9TyMumrPL3E9RWnLhwOCjVDDe",
      "include_colab_link": true
    },
    "kernelspec": {
      "name": "python3",
      "display_name": "Python 3"
    }
  },
  "cells": [
    {
      "cell_type": "markdown",
      "metadata": {
        "id": "view-in-github",
        "colab_type": "text"
      },
      "source": [
        "<a href=\"https://colab.research.google.com/github/wiv33/A-Learning-python/blob/master/machine-learning/_000_hello_machine/_000_basic/_010_ExamForEdu/_002_xgboost.ipynb\" target=\"_parent\"><img src=\"https://colab.research.google.com/assets/colab-badge.svg\" alt=\"Open In Colab\"/></a>"
      ]
    },
    {
      "cell_type": "code",
      "metadata": {
        "id": "5vsU9lg8IEvP"
      },
      "source": [
        "import xgboost as xgb\r\n",
        "from xgboost import plot_importance\r\n",
        "import pandas as pd\r\n",
        "import numpy as np\r\n",
        "from sklearn.datasets import load_breast_cancer\r\n",
        "from sklearn.model_selection import train_test_split\r\n",
        "\r\n",
        "import warnings\r\n",
        "warnings.filterwarnings('ignore')\r\n",
        "\r\n",
        "dataset = load_breast_cancer()\r\n",
        "\r\n",
        "X_features = dataset.data\r\n",
        "y_label = dataset.target\r\n"
      ],
      "execution_count": null,
      "outputs": []
    },
    {
      "cell_type": "code",
      "metadata": {
        "colab": {
          "base_uri": "https://localhost:8080/",
          "height": 134
        },
        "id": "2B68t4EzI4_-",
        "outputId": "fe013c4c-e29d-4151-c12e-99181ebfdd28"
      },
      "source": [
        "cancer_df = pd.DataFrame(data=X_features, columns=dataset.feature_names)\r\n",
        "cancer_df['target'] = y_label\r\n",
        "cancer_df.head(1)"
      ],
      "execution_count": null,
      "outputs": [
        {
          "output_type": "execute_result",
          "data": {
            "text/html": [
              "<div>\n",
              "<style scoped>\n",
              "    .dataframe tbody tr th:only-of-type {\n",
              "        vertical-align: middle;\n",
              "    }\n",
              "\n",
              "    .dataframe tbody tr th {\n",
              "        vertical-align: top;\n",
              "    }\n",
              "\n",
              "    .dataframe thead th {\n",
              "        text-align: right;\n",
              "    }\n",
              "</style>\n",
              "<table border=\"1\" class=\"dataframe\">\n",
              "  <thead>\n",
              "    <tr style=\"text-align: right;\">\n",
              "      <th></th>\n",
              "      <th>mean radius</th>\n",
              "      <th>mean texture</th>\n",
              "      <th>mean perimeter</th>\n",
              "      <th>mean area</th>\n",
              "      <th>mean smoothness</th>\n",
              "      <th>mean compactness</th>\n",
              "      <th>mean concavity</th>\n",
              "      <th>mean concave points</th>\n",
              "      <th>mean symmetry</th>\n",
              "      <th>mean fractal dimension</th>\n",
              "      <th>radius error</th>\n",
              "      <th>texture error</th>\n",
              "      <th>perimeter error</th>\n",
              "      <th>area error</th>\n",
              "      <th>smoothness error</th>\n",
              "      <th>compactness error</th>\n",
              "      <th>concavity error</th>\n",
              "      <th>concave points error</th>\n",
              "      <th>symmetry error</th>\n",
              "      <th>fractal dimension error</th>\n",
              "      <th>worst radius</th>\n",
              "      <th>worst texture</th>\n",
              "      <th>worst perimeter</th>\n",
              "      <th>worst area</th>\n",
              "      <th>worst smoothness</th>\n",
              "      <th>worst compactness</th>\n",
              "      <th>worst concavity</th>\n",
              "      <th>worst concave points</th>\n",
              "      <th>worst symmetry</th>\n",
              "      <th>worst fractal dimension</th>\n",
              "      <th>target</th>\n",
              "    </tr>\n",
              "  </thead>\n",
              "  <tbody>\n",
              "    <tr>\n",
              "      <th>0</th>\n",
              "      <td>17.99</td>\n",
              "      <td>10.38</td>\n",
              "      <td>122.8</td>\n",
              "      <td>1001.0</td>\n",
              "      <td>0.1184</td>\n",
              "      <td>0.2776</td>\n",
              "      <td>0.3001</td>\n",
              "      <td>0.1471</td>\n",
              "      <td>0.2419</td>\n",
              "      <td>0.07871</td>\n",
              "      <td>1.095</td>\n",
              "      <td>0.9053</td>\n",
              "      <td>8.589</td>\n",
              "      <td>153.4</td>\n",
              "      <td>0.006399</td>\n",
              "      <td>0.04904</td>\n",
              "      <td>0.05373</td>\n",
              "      <td>0.01587</td>\n",
              "      <td>0.03003</td>\n",
              "      <td>0.006193</td>\n",
              "      <td>25.38</td>\n",
              "      <td>17.33</td>\n",
              "      <td>184.6</td>\n",
              "      <td>2019.0</td>\n",
              "      <td>0.1622</td>\n",
              "      <td>0.6656</td>\n",
              "      <td>0.7119</td>\n",
              "      <td>0.2654</td>\n",
              "      <td>0.4601</td>\n",
              "      <td>0.1189</td>\n",
              "      <td>0</td>\n",
              "    </tr>\n",
              "  </tbody>\n",
              "</table>\n",
              "</div>"
            ],
            "text/plain": [
              "   mean radius  mean texture  ...  worst fractal dimension  target\n",
              "0        17.99         10.38  ...                   0.1189       0\n",
              "\n",
              "[1 rows x 31 columns]"
            ]
          },
          "metadata": {
            "tags": []
          },
          "execution_count": 3
        }
      ]
    },
    {
      "cell_type": "markdown",
      "metadata": {
        "id": "_YNzR-H6K6b5"
      },
      "source": [
        "## 악성 / 양성"
      ]
    },
    {
      "cell_type": "code",
      "metadata": {
        "colab": {
          "base_uri": "https://localhost:8080/"
        },
        "id": "f4n8jKQ5JOoe",
        "outputId": "5f49c5d6-d889-469a-c07d-3ee8add5da69"
      },
      "source": [
        "print(dataset.target_names)\r\n",
        "print(cancer_df['target'].value_counts())"
      ],
      "execution_count": null,
      "outputs": [
        {
          "output_type": "stream",
          "text": [
            "['malignant' 'benign']\n",
            "1    357\n",
            "0    212\n",
            "Name: target, dtype: int64\n"
          ],
          "name": "stdout"
        }
      ]
    },
    {
      "cell_type": "code",
      "metadata": {
        "colab": {
          "base_uri": "https://localhost:8080/"
        },
        "id": "sHHl1fvUK5th",
        "outputId": "cb1ae83f-9c6a-4ecc-e8cd-a500f643557f"
      },
      "source": [
        "X_train, X_test, y_train, y_test = train_test_split(X_features, y_label,\r\n",
        "                                                    test_size=.3, \r\n",
        "                                                    random_state=333)\r\n",
        "print(X_train.shape, X_test.shape)"
      ],
      "execution_count": null,
      "outputs": [
        {
          "output_type": "stream",
          "text": [
            "(398, 30) (171, 30)\n"
          ],
          "name": "stdout"
        }
      ]
    },
    {
      "cell_type": "code",
      "metadata": {
        "id": "2Pj9vvJAMEtH"
      },
      "source": [
        "dtrain = xgb.DMatrix(data=X_train, label=y_train)\r\n",
        "dtest = xgb.DMatrix(data=X_test, label=y_test)"
      ],
      "execution_count": null,
      "outputs": []
    },
    {
      "cell_type": "code",
      "metadata": {
        "id": "VNldQNObMsTS"
      },
      "source": [
        "params = {\r\n",
        "    'max_length': 3,\r\n",
        "    'eta': .1,\r\n",
        "    'objective': 'binary:logistic',\r\n",
        "    'eval_metric': 'logloss',\r\n",
        "    'early_stopping': 100\r\n",
        "}\r\n",
        "num_rounds = 333"
      ],
      "execution_count": null,
      "outputs": []
    },
    {
      "cell_type": "code",
      "metadata": {
        "colab": {
          "base_uri": "https://localhost:8080/"
        },
        "id": "JBL2IaZ0M8b0",
        "outputId": "5f323916-2f80-4b96-9366-09c96975a5ef"
      },
      "source": [
        "watch_list = [(dtrain, 'train'), (dtest, 'eval')]\r\n",
        "# 하이퍼 파라미터와 early stopping 파라미터를 train() 함수의 파라미터로 전달\r\n",
        "\r\n",
        "xgb_model = xgb.train(params=params, dtrain=dtrain, \r\n",
        "                      num_boost_round=num_rounds,\r\n",
        "                      early_stopping_rounds=100, evals=watch_list)"
      ],
      "execution_count": null,
      "outputs": [
        {
          "output_type": "stream",
          "text": [
            "[0]\ttrain-logloss:0.606382\teval-logloss:0.620963\n",
            "Multiple eval metrics have been passed: 'eval-logloss' will be used for early stopping.\n",
            "\n",
            "Will train until eval-logloss hasn't improved in 100 rounds.\n",
            "[1]\ttrain-logloss:0.535377\teval-logloss:0.561495\n",
            "[2]\ttrain-logloss:0.475709\teval-logloss:0.511867\n",
            "[3]\ttrain-logloss:0.424688\teval-logloss:0.468966\n",
            "[4]\ttrain-logloss:0.381139\teval-logloss:0.433053\n",
            "[5]\ttrain-logloss:0.343263\teval-logloss:0.401121\n",
            "[6]\ttrain-logloss:0.310341\teval-logloss:0.37486\n",
            "[7]\ttrain-logloss:0.281149\teval-logloss:0.351377\n",
            "[8]\ttrain-logloss:0.255757\teval-logloss:0.331384\n",
            "[9]\ttrain-logloss:0.232987\teval-logloss:0.313228\n",
            "[10]\ttrain-logloss:0.213298\teval-logloss:0.298809\n",
            "[11]\ttrain-logloss:0.195128\teval-logloss:0.28293\n",
            "[12]\ttrain-logloss:0.178063\teval-logloss:0.268837\n",
            "[13]\ttrain-logloss:0.16286\teval-logloss:0.257537\n",
            "[14]\ttrain-logloss:0.149183\teval-logloss:0.243602\n",
            "[15]\ttrain-logloss:0.136997\teval-logloss:0.231616\n",
            "[16]\ttrain-logloss:0.126074\teval-logloss:0.221478\n",
            "[17]\ttrain-logloss:0.116764\teval-logloss:0.2124\n",
            "[18]\ttrain-logloss:0.107907\teval-logloss:0.204432\n",
            "[19]\ttrain-logloss:0.099846\teval-logloss:0.197141\n",
            "[20]\ttrain-logloss:0.092912\teval-logloss:0.19016\n",
            "[21]\ttrain-logloss:0.086453\teval-logloss:0.186077\n",
            "[22]\ttrain-logloss:0.080708\teval-logloss:0.18096\n",
            "[23]\ttrain-logloss:0.075728\teval-logloss:0.175864\n",
            "[24]\ttrain-logloss:0.070525\teval-logloss:0.170548\n",
            "[25]\ttrain-logloss:0.066511\teval-logloss:0.167494\n",
            "[26]\ttrain-logloss:0.062683\teval-logloss:0.164597\n",
            "[27]\ttrain-logloss:0.058715\teval-logloss:0.16294\n",
            "[28]\ttrain-logloss:0.055236\teval-logloss:0.159234\n",
            "[29]\ttrain-logloss:0.052252\teval-logloss:0.156859\n",
            "[30]\ttrain-logloss:0.049189\teval-logloss:0.156013\n",
            "[31]\ttrain-logloss:0.046776\teval-logloss:0.154428\n",
            "[32]\ttrain-logloss:0.043984\teval-logloss:0.151118\n",
            "[33]\ttrain-logloss:0.041682\teval-logloss:0.148131\n",
            "[34]\ttrain-logloss:0.039356\teval-logloss:0.145174\n",
            "[35]\ttrain-logloss:0.037532\teval-logloss:0.145633\n",
            "[36]\ttrain-logloss:0.035643\teval-logloss:0.143583\n",
            "[37]\ttrain-logloss:0.033858\teval-logloss:0.141747\n",
            "[38]\ttrain-logloss:0.032212\teval-logloss:0.140225\n",
            "[39]\ttrain-logloss:0.030753\teval-logloss:0.138666\n",
            "[40]\ttrain-logloss:0.029365\teval-logloss:0.137767\n",
            "[41]\ttrain-logloss:0.028181\teval-logloss:0.136043\n",
            "[42]\ttrain-logloss:0.026965\teval-logloss:0.134698\n",
            "[43]\ttrain-logloss:0.025943\teval-logloss:0.13354\n",
            "[44]\ttrain-logloss:0.024973\teval-logloss:0.132486\n",
            "[45]\ttrain-logloss:0.024212\teval-logloss:0.132677\n",
            "[46]\ttrain-logloss:0.02335\teval-logloss:0.133277\n",
            "[47]\ttrain-logloss:0.022581\teval-logloss:0.133083\n",
            "[48]\ttrain-logloss:0.021794\teval-logloss:0.131487\n",
            "[49]\ttrain-logloss:0.021006\teval-logloss:0.131345\n",
            "[50]\ttrain-logloss:0.020359\teval-logloss:0.13049\n",
            "[51]\ttrain-logloss:0.019788\teval-logloss:0.129653\n",
            "[52]\ttrain-logloss:0.01929\teval-logloss:0.129272\n",
            "[53]\ttrain-logloss:0.018777\teval-logloss:0.12844\n",
            "[54]\ttrain-logloss:0.018277\teval-logloss:0.127877\n",
            "[55]\ttrain-logloss:0.017823\teval-logloss:0.128055\n",
            "[56]\ttrain-logloss:0.017395\teval-logloss:0.127747\n",
            "[57]\ttrain-logloss:0.01705\teval-logloss:0.12781\n",
            "[58]\ttrain-logloss:0.016666\teval-logloss:0.128054\n",
            "[59]\ttrain-logloss:0.016289\teval-logloss:0.127419\n",
            "[60]\ttrain-logloss:0.015834\teval-logloss:0.127775\n",
            "[61]\ttrain-logloss:0.015426\teval-logloss:0.126941\n",
            "[62]\ttrain-logloss:0.015084\teval-logloss:0.126828\n",
            "[63]\ttrain-logloss:0.014765\teval-logloss:0.126515\n",
            "[64]\ttrain-logloss:0.014479\teval-logloss:0.126757\n",
            "[65]\ttrain-logloss:0.014249\teval-logloss:0.126851\n",
            "[66]\ttrain-logloss:0.014001\teval-logloss:0.126795\n",
            "[67]\ttrain-logloss:0.013708\teval-logloss:0.126727\n",
            "[68]\ttrain-logloss:0.013506\teval-logloss:0.126731\n",
            "[69]\ttrain-logloss:0.013276\teval-logloss:0.126371\n",
            "[70]\ttrain-logloss:0.013043\teval-logloss:0.126667\n",
            "[71]\ttrain-logloss:0.0128\teval-logloss:0.127273\n",
            "[72]\ttrain-logloss:0.012592\teval-logloss:0.127582\n",
            "[73]\ttrain-logloss:0.012422\teval-logloss:0.127739\n",
            "[74]\ttrain-logloss:0.012231\teval-logloss:0.127026\n",
            "[75]\ttrain-logloss:0.012067\teval-logloss:0.127451\n",
            "[76]\ttrain-logloss:0.011873\teval-logloss:0.126957\n",
            "[77]\ttrain-logloss:0.011696\teval-logloss:0.127285\n",
            "[78]\ttrain-logloss:0.011555\teval-logloss:0.12748\n",
            "[79]\ttrain-logloss:0.011372\teval-logloss:0.127853\n",
            "[80]\ttrain-logloss:0.011176\teval-logloss:0.128289\n",
            "[81]\ttrain-logloss:0.011014\teval-logloss:0.128477\n",
            "[82]\ttrain-logloss:0.010878\teval-logloss:0.128652\n",
            "[83]\ttrain-logloss:0.010723\teval-logloss:0.128995\n",
            "[84]\ttrain-logloss:0.010598\teval-logloss:0.129387\n",
            "[85]\ttrain-logloss:0.010458\teval-logloss:0.12944\n",
            "[86]\ttrain-logloss:0.010311\teval-logloss:0.129052\n",
            "[87]\ttrain-logloss:0.010212\teval-logloss:0.128773\n",
            "[88]\ttrain-logloss:0.01008\teval-logloss:0.129309\n",
            "[89]\ttrain-logloss:0.009947\teval-logloss:0.129658\n",
            "[90]\ttrain-logloss:0.009828\teval-logloss:0.129821\n",
            "[91]\ttrain-logloss:0.009708\teval-logloss:0.130173\n",
            "[92]\ttrain-logloss:0.00962\teval-logloss:0.130319\n",
            "[93]\ttrain-logloss:0.009553\teval-logloss:0.13053\n",
            "[94]\ttrain-logloss:0.00944\teval-logloss:0.130605\n",
            "[95]\ttrain-logloss:0.009377\teval-logloss:0.130559\n",
            "[96]\ttrain-logloss:0.009272\teval-logloss:0.130729\n",
            "[97]\ttrain-logloss:0.009175\teval-logloss:0.130976\n",
            "[98]\ttrain-logloss:0.009068\teval-logloss:0.131332\n",
            "[99]\ttrain-logloss:0.008974\teval-logloss:0.131326\n",
            "[100]\ttrain-logloss:0.008875\teval-logloss:0.131411\n",
            "[101]\ttrain-logloss:0.008811\teval-logloss:0.131348\n",
            "[102]\ttrain-logloss:0.008717\teval-logloss:0.131707\n",
            "[103]\ttrain-logloss:0.008663\teval-logloss:0.131433\n",
            "[104]\ttrain-logloss:0.00861\teval-logloss:0.131775\n",
            "[105]\ttrain-logloss:0.008535\teval-logloss:0.131715\n",
            "[106]\ttrain-logloss:0.00845\teval-logloss:0.1318\n",
            "[107]\ttrain-logloss:0.0084\teval-logloss:0.131963\n",
            "[108]\ttrain-logloss:0.00835\teval-logloss:0.132123\n",
            "[109]\ttrain-logloss:0.008302\teval-logloss:0.132324\n",
            "[110]\ttrain-logloss:0.008255\teval-logloss:0.132069\n",
            "[111]\ttrain-logloss:0.008209\teval-logloss:0.132146\n",
            "[112]\ttrain-logloss:0.008163\teval-logloss:0.132306\n",
            "[113]\ttrain-logloss:0.008118\teval-logloss:0.132626\n",
            "[114]\ttrain-logloss:0.008073\teval-logloss:0.132789\n",
            "[115]\ttrain-logloss:0.00803\teval-logloss:0.132948\n",
            "[116]\ttrain-logloss:0.007988\teval-logloss:0.132914\n",
            "[117]\ttrain-logloss:0.007945\teval-logloss:0.133229\n",
            "[118]\ttrain-logloss:0.007906\teval-logloss:0.13339\n",
            "[119]\ttrain-logloss:0.007866\teval-logloss:0.133164\n",
            "[120]\ttrain-logloss:0.007825\teval-logloss:0.133469\n",
            "[121]\ttrain-logloss:0.007787\teval-logloss:0.133628\n",
            "[122]\ttrain-logloss:0.007749\teval-logloss:0.133819\n",
            "[123]\ttrain-logloss:0.007713\teval-logloss:0.13358\n",
            "[124]\ttrain-logloss:0.007678\teval-logloss:0.1336\n",
            "[125]\ttrain-logloss:0.007642\teval-logloss:0.133573\n",
            "[126]\ttrain-logloss:0.007608\teval-logloss:0.133859\n",
            "[127]\ttrain-logloss:0.007574\teval-logloss:0.133653\n",
            "[128]\ttrain-logloss:0.00754\teval-logloss:0.133679\n",
            "[129]\ttrain-logloss:0.007506\teval-logloss:0.133846\n",
            "[130]\ttrain-logloss:0.007474\teval-logloss:0.134144\n",
            "[131]\ttrain-logloss:0.007441\teval-logloss:0.13422\n",
            "[132]\ttrain-logloss:0.00741\teval-logloss:0.134198\n",
            "[133]\ttrain-logloss:0.007378\teval-logloss:0.134364\n",
            "[134]\ttrain-logloss:0.007346\teval-logloss:0.134541\n",
            "[135]\ttrain-logloss:0.007315\teval-logloss:0.134835\n",
            "[136]\ttrain-logloss:0.007285\teval-logloss:0.134643\n",
            "[137]\ttrain-logloss:0.007255\teval-logloss:0.134678\n",
            "[138]\ttrain-logloss:0.007225\teval-logloss:0.134847\n",
            "[139]\ttrain-logloss:0.007196\teval-logloss:0.134923\n",
            "[140]\ttrain-logloss:0.007167\teval-logloss:0.134716\n",
            "[141]\ttrain-logloss:0.007139\teval-logloss:0.134699\n",
            "[142]\ttrain-logloss:0.00711\teval-logloss:0.134873\n",
            "[143]\ttrain-logloss:0.007081\teval-logloss:0.135039\n",
            "[144]\ttrain-logloss:0.007054\teval-logloss:0.13521\n",
            "[145]\ttrain-logloss:0.007027\teval-logloss:0.135374\n",
            "[146]\ttrain-logloss:0.007\teval-logloss:0.135358\n",
            "[147]\ttrain-logloss:0.006973\teval-logloss:0.13553\n",
            "[148]\ttrain-logloss:0.006947\teval-logloss:0.135606\n",
            "[149]\ttrain-logloss:0.006922\teval-logloss:0.135769\n",
            "[150]\ttrain-logloss:0.006896\teval-logloss:0.135814\n",
            "[151]\ttrain-logloss:0.00687\teval-logloss:0.135639\n",
            "[152]\ttrain-logloss:0.006846\teval-logloss:0.135807\n",
            "[153]\ttrain-logloss:0.006821\teval-logloss:0.13597\n",
            "[154]\ttrain-logloss:0.006796\teval-logloss:0.135957\n",
            "[155]\ttrain-logloss:0.006772\teval-logloss:0.136123\n",
            "[156]\ttrain-logloss:0.006749\teval-logloss:0.136199\n",
            "[157]\ttrain-logloss:0.006725\teval-logloss:0.13636\n",
            "[158]\ttrain-logloss:0.006702\teval-logloss:0.136527\n",
            "[159]\ttrain-logloss:0.006679\teval-logloss:0.136365\n",
            "[160]\ttrain-logloss:0.006656\teval-logloss:0.136525\n",
            "[161]\ttrain-logloss:0.006634\teval-logloss:0.136459\n",
            "[162]\ttrain-logloss:0.006612\teval-logloss:0.136448\n",
            "[163]\ttrain-logloss:0.00659\teval-logloss:0.136613\n",
            "[164]\ttrain-logloss:0.006568\teval-logloss:0.136772\n",
            "[165]\ttrain-logloss:0.006547\teval-logloss:0.136598\n",
            "[166]\ttrain-logloss:0.006525\teval-logloss:0.136675\n",
            "[167]\ttrain-logloss:0.006505\teval-logloss:0.136833\n",
            "[168]\ttrain-logloss:0.006484\teval-logloss:0.136824\n",
            "[169]\ttrain-logloss:0.006464\teval-logloss:0.136765\n",
            "Stopping. Best iteration:\n",
            "[69]\ttrain-logloss:0.013276\teval-logloss:0.126371\n",
            "\n"
          ],
          "name": "stdout"
        }
      ]
    },
    {
      "cell_type": "code",
      "metadata": {
        "id": "heD81Af4kSPK"
      },
      "source": [
        "from sklearn.metrics import accuracy_score, precision_score, recall_score, confusion_matrix, f1_score, roc_auc_score"
      ],
      "execution_count": null,
      "outputs": []
    },
    {
      "cell_type": "code",
      "metadata": {
        "id": "nYDjR02GkbXX"
      },
      "source": [
        "def get_clf_eval(y_test, pred, pred_proba=None):\r\n",
        "  confusion = confusion_matrix(y_test, pred)\r\n",
        "  accuracy = accuracy_score(y_test, pred)\r\n",
        "  precision = precision_score(y_test, pred)\r\n",
        "  recall = recall_score(y_test, pred)\r\n",
        "  f1 = f1_score(y_test, pred)\r\n",
        "\r\n",
        "  roc_auc = roc_auc_score(y_test, pred_proba)\r\n",
        "\r\n",
        "  print('오차 행렬')\r\n",
        "  print(confusion, end='\\n')\r\n",
        "  print('정확도: {0:.4f}\\n정밀도: {1:.4f}\\n재현율: {2:.4f}\\nF1:{3:.4f}\\nAUC: {4:.4f}'.format(accuracy, precision, recall, f1, roc_auc))"
      ],
      "execution_count": null,
      "outputs": []
    },
    {
      "cell_type": "code",
      "metadata": {
        "colab": {
          "base_uri": "https://localhost:8080/"
        },
        "id": "U1FdtWKPN0Hy",
        "outputId": "61306026-8b63-47c0-e05f-462e7f061432"
      },
      "source": [
        "pred_probs = xgb_model.predict(dtest)\r\n",
        "print(\"수행 결괏값을 10개만 표시 - 예측 확률 값으로 표시됨\")\r\n",
        "print(np.round(pred_probs[:10], 3))\r\n",
        "\r\n",
        "# 예측 확률이 0.5보다 크면 1, 아니면 0 => sigmoid\r\n",
        "preds = [1 if x > .5 else 0 for x in pred_probs]\r\n",
        "print('예측값 : ', preds[:10])"
      ],
      "execution_count": null,
      "outputs": [
        {
          "output_type": "stream",
          "text": [
            "수행 결괏값을 10개만 표시 - 예측 확률 값으로 표시됨\n",
            "[0.993 0.001 1.    0.994 0.    1.    1.    0.999 0.001 1.   ]\n",
            "예측값 :  [1, 0, 1, 1, 0, 1, 1, 1, 0, 1]\n"
          ],
          "name": "stdout"
        }
      ]
    },
    {
      "cell_type": "code",
      "metadata": {
        "colab": {
          "base_uri": "https://localhost:8080/"
        },
        "id": "gr3x044Lk8uE",
        "outputId": "889f2925-18b2-4234-aac4-19eb942ae510"
      },
      "source": [
        "get_clf_eval(y_test, preds, pred_probs)"
      ],
      "execution_count": null,
      "outputs": [
        {
          "output_type": "stream",
          "text": [
            "오차 행렬\n",
            "[[ 56   3]\n",
            " [  3 109]]\n",
            "정확도: 0.9649\n",
            "정밀도: 0.9732\n",
            "재현율: 0.9732\n",
            "F1:0.9732\n",
            "AUC: 0.9844\n"
          ],
          "name": "stdout"
        }
      ]
    },
    {
      "cell_type": "code",
      "metadata": {
        "colab": {
          "base_uri": "https://localhost:8080/",
          "height": 638
        },
        "id": "01Saca2PolyF",
        "outputId": "7d0ebc6a-7a51-42af-d5f3-732e55957128"
      },
      "source": [
        "from xgboost import plot_importance\r\n",
        "import matplotlib.pyplot as plt\r\n",
        "\r\n",
        "fig, ax = plt.subplots(1, 1, figsize=(12, 10))\r\n",
        "plot_importance(xgb_model, ax=ax)"
      ],
      "execution_count": null,
      "outputs": [
        {
          "output_type": "execute_result",
          "data": {
            "text/plain": [
              "<matplotlib.axes._subplots.AxesSubplot at 0x7f83c0a5ed30>"
            ]
          },
          "metadata": {
            "tags": []
          },
          "execution_count": 35
        },
        {
          "output_type": "display_data",
          "data": {
            "image/png": "[encoded data removed]",
            "text/plain": [
              "<Figure size 864x720 with 1 Axes>"
            ]
          },
          "metadata": {
            "tags": [],
            "needs_background": "light"
          }
        }
      ]
    },
    {
      "cell_type": "markdown",
      "metadata": {
        "id": "k22JVPGsqamq"
      },
      "source": [
        "## xgb.cv()\r\n",
        "\r\n",
        "데이터 세트에 대한 교차 검증 수행 후 최적의 파라미터 확인\r\n",
        "\r\n",
        "*GridSearchCV*와 비슷한 기능"
      ]
    },
    {
      "cell_type": "code",
      "metadata": {
        "colab": {
          "base_uri": "https://localhost:8080/",
          "height": 359
        },
        "id": "8POIiHZUpGCD",
        "outputId": "ab16e852-b582-43b6-8679-4580503cd055"
      },
      "source": [
        "xgb.cv(params, dtrain, num_boost_round=10, nfold=3, stratified=False,\r\n",
        "      folds=None, metrics=(), obj=None, feval=None, maximize=False, early_stopping_rounds=None,\r\n",
        "      fpreproc=None, as_pandas=True,\r\n",
        "      verbose_eval=None, show_stdv=True, seed=0, callbacks=None, shuffle=True)"
      ],
      "execution_count": null,
      "outputs": [
        {
          "output_type": "execute_result",
          "data": {
            "text/html": [
              "<div>\n",
              "<style scoped>\n",
              "    .dataframe tbody tr th:only-of-type {\n",
              "        vertical-align: middle;\n",
              "    }\n",
              "\n",
              "    .dataframe tbody tr th {\n",
              "        vertical-align: top;\n",
              "    }\n",
              "\n",
              "    .dataframe thead th {\n",
              "        text-align: right;\n",
              "    }\n",
              "</style>\n",
              "<table border=\"1\" class=\"dataframe\">\n",
              "  <thead>\n",
              "    <tr style=\"text-align: right;\">\n",
              "      <th></th>\n",
              "      <th>train-logloss-mean</th>\n",
              "      <th>train-logloss-std</th>\n",
              "      <th>test-logloss-mean</th>\n",
              "      <th>test-logloss-std</th>\n",
              "    </tr>\n",
              "  </thead>\n",
              "  <tbody>\n",
              "    <tr>\n",
              "      <th>0</th>\n",
              "      <td>0.606400</td>\n",
              "      <td>0.000104</td>\n",
              "      <td>0.611583</td>\n",
              "      <td>0.033311</td>\n",
              "    </tr>\n",
              "    <tr>\n",
              "      <th>1</th>\n",
              "      <td>0.535406</td>\n",
              "      <td>0.000166</td>\n",
              "      <td>0.543317</td>\n",
              "      <td>0.056958</td>\n",
              "    </tr>\n",
              "    <tr>\n",
              "      <th>2</th>\n",
              "      <td>0.475745</td>\n",
              "      <td>0.000241</td>\n",
              "      <td>0.487226</td>\n",
              "      <td>0.080569</td>\n",
              "    </tr>\n",
              "    <tr>\n",
              "      <th>3</th>\n",
              "      <td>0.424752</td>\n",
              "      <td>0.000280</td>\n",
              "      <td>0.440580</td>\n",
              "      <td>0.100424</td>\n",
              "    </tr>\n",
              "    <tr>\n",
              "      <th>4</th>\n",
              "      <td>0.381210</td>\n",
              "      <td>0.000340</td>\n",
              "      <td>0.400921</td>\n",
              "      <td>0.122862</td>\n",
              "    </tr>\n",
              "    <tr>\n",
              "      <th>5</th>\n",
              "      <td>0.343341</td>\n",
              "      <td>0.000401</td>\n",
              "      <td>0.366539</td>\n",
              "      <td>0.140473</td>\n",
              "    </tr>\n",
              "    <tr>\n",
              "      <th>6</th>\n",
              "      <td>0.310392</td>\n",
              "      <td>0.000445</td>\n",
              "      <td>0.336555</td>\n",
              "      <td>0.159085</td>\n",
              "    </tr>\n",
              "    <tr>\n",
              "      <th>7</th>\n",
              "      <td>0.281226</td>\n",
              "      <td>0.000475</td>\n",
              "      <td>0.310879</td>\n",
              "      <td>0.175661</td>\n",
              "    </tr>\n",
              "    <tr>\n",
              "      <th>8</th>\n",
              "      <td>0.255819</td>\n",
              "      <td>0.000518</td>\n",
              "      <td>0.287704</td>\n",
              "      <td>0.191371</td>\n",
              "    </tr>\n",
              "    <tr>\n",
              "      <th>9</th>\n",
              "      <td>0.233046</td>\n",
              "      <td>0.000553</td>\n",
              "      <td>0.268163</td>\n",
              "      <td>0.203693</td>\n",
              "    </tr>\n",
              "  </tbody>\n",
              "</table>\n",
              "</div>"
            ],
            "text/plain": [
              "   train-logloss-mean  train-logloss-std  test-logloss-mean  test-logloss-std\n",
              "0            0.606400           0.000104           0.611583          0.033311\n",
              "1            0.535406           0.000166           0.543317          0.056958\n",
              "2            0.475745           0.000241           0.487226          0.080569\n",
              "3            0.424752           0.000280           0.440580          0.100424\n",
              "4            0.381210           0.000340           0.400921          0.122862\n",
              "5            0.343341           0.000401           0.366539          0.140473\n",
              "6            0.310392           0.000445           0.336555          0.159085\n",
              "7            0.281226           0.000475           0.310879          0.175661\n",
              "8            0.255819           0.000518           0.287704          0.191371\n",
              "9            0.233046           0.000553           0.268163          0.203693"
            ]
          },
          "metadata": {
            "tags": []
          },
          "execution_count": 43
        }
      ]
    },
    {
      "cell_type": "code",
      "metadata": {
        "id": "wSJXg4BTqtVj"
      },
      "source": [
        "from xgboost import XGBClassifier\r\n",
        "\r\n",
        "xgb_wrapper = XGBClassifier(n_estimators=400, learning_rate=.1, max_depth=3)\r\n",
        "xgb_wrapper.fit(X_train, y_train)\r\n",
        "\r\n",
        "w_preds =  xgb_wrapper.predict(X_test)\r\n",
        "w_pred_proba = xgb_wrapper.predict_proba(X_test)[:, 1]"
      ],
      "execution_count": null,
      "outputs": []
    },
    {
      "cell_type": "code",
      "metadata": {
        "colab": {
          "base_uri": "https://localhost:8080/"
        },
        "id": "OOFxbTrRrFEF",
        "outputId": "3a14b5ca-bede-4664-d256-c533fd6e3b7e"
      },
      "source": [
        "get_clf_eval(y_test, w_preds, w_pred_proba)"
      ],
      "execution_count": null,
      "outputs": [
        {
          "output_type": "stream",
          "text": [
            "오차 행렬\n",
            "[[ 56   3]\n",
            " [  4 108]]\n",
            "정확도: 0.9591\n",
            "정밀도: 0.9730\n",
            "재현율: 0.9643\n",
            "F1:0.9686\n",
            "AUC: 0.9856\n"
          ],
          "name": "stdout"
        }
      ]
    },
    {
      "cell_type": "markdown",
      "metadata": {
        "id": "NbS5o1Q6rsUG"
      },
      "source": [
        "# 조기 중단 코드"
      ]
    },
    {
      "cell_type": "code",
      "metadata": {
        "id": "Pb8IhLSorQ8s"
      },
      "source": [
        "def run_early_stop(early_stopping_number):\r\n",
        "  xgb_wrapper2 = XGBClassifier(n_estimators=400, learning_rate=.1, max_depth=4)\r\n",
        "  evals= [(X_test, y_test)]\r\n",
        "\r\n",
        "  xgb_wrapper2.fit(X_train, y_train,\r\n",
        "                   early_stopping_rounds=early_stopping_number, \r\n",
        "                   eval_metric='logloss',\r\n",
        "                   eval_set=evals, verbose=True)\r\n",
        "\r\n",
        "  ws100_preds= xgb_wrapper2.predict(X_test)\r\n",
        "  ws100_pred_proba = xgb_wrapper2.predict_proba(X_test)[:, 1]\r\n",
        "  get_clf_eval(y_test, ws100_preds, ws100_pred_proba)\r\n",
        "  plot_importance(xgb_wrapper2)"
      ],
      "execution_count": null,
      "outputs": []
    },
    {
      "cell_type": "code",
      "metadata": {
        "colab": {
          "base_uri": "https://localhost:8080/",
          "height": 1000
        },
        "id": "FitIracDsMUg",
        "outputId": "88032548-7f4d-4cc1-a74f-1bf039d57b7a"
      },
      "source": [
        "run_early_stop(100)"
      ],
      "execution_count": null,
      "outputs": [
        {
          "output_type": "stream",
          "text": [
            "[0]\tvalidation_0-logloss:0.620963\n",
            "Will train until validation_0-logloss hasn't improved in 100 rounds.\n",
            "[1]\tvalidation_0-logloss:0.561495\n",
            "[2]\tvalidation_0-logloss:0.511867\n",
            "[3]\tvalidation_0-logloss:0.468966\n",
            "[4]\tvalidation_0-logloss:0.433053\n",
            "[5]\tvalidation_0-logloss:0.401121\n",
            "[6]\tvalidation_0-logloss:0.37486\n",
            "[7]\tvalidation_0-logloss:0.351377\n",
            "[8]\tvalidation_0-logloss:0.331384\n",
            "[9]\tvalidation_0-logloss:0.313227\n",
            "[10]\tvalidation_0-logloss:0.298809\n",
            "[11]\tvalidation_0-logloss:0.283179\n",
            "[12]\tvalidation_0-logloss:0.269226\n",
            "[13]\tvalidation_0-logloss:0.257648\n",
            "[14]\tvalidation_0-logloss:0.243728\n",
            "[15]\tvalidation_0-logloss:0.231748\n",
            "[16]\tvalidation_0-logloss:0.221616\n",
            "[17]\tvalidation_0-logloss:0.212968\n",
            "[18]\tvalidation_0-logloss:0.204467\n",
            "[19]\tvalidation_0-logloss:0.196926\n",
            "[20]\tvalidation_0-logloss:0.191224\n",
            "[21]\tvalidation_0-logloss:0.187092\n",
            "[22]\tvalidation_0-logloss:0.181653\n",
            "[23]\tvalidation_0-logloss:0.176531\n",
            "[24]\tvalidation_0-logloss:0.171209\n",
            "[25]\tvalidation_0-logloss:0.168487\n",
            "[26]\tvalidation_0-logloss:0.164297\n",
            "[27]\tvalidation_0-logloss:0.161902\n",
            "[28]\tvalidation_0-logloss:0.16062\n",
            "[29]\tvalidation_0-logloss:0.158458\n",
            "[30]\tvalidation_0-logloss:0.154736\n",
            "[31]\tvalidation_0-logloss:0.154947\n",
            "[32]\tvalidation_0-logloss:0.151709\n",
            "[33]\tvalidation_0-logloss:0.148785\n",
            "[34]\tvalidation_0-logloss:0.14613\n",
            "[35]\tvalidation_0-logloss:0.144465\n",
            "[36]\tvalidation_0-logloss:0.142433\n",
            "[37]\tvalidation_0-logloss:0.140664\n",
            "[38]\tvalidation_0-logloss:0.139163\n",
            "[39]\tvalidation_0-logloss:0.138183\n",
            "[40]\tvalidation_0-logloss:0.13672\n",
            "[41]\tvalidation_0-logloss:0.135602\n",
            "[42]\tvalidation_0-logloss:0.136472\n",
            "[43]\tvalidation_0-logloss:0.135002\n",
            "[44]\tvalidation_0-logloss:0.134523\n",
            "[45]\tvalidation_0-logloss:0.133067\n",
            "[46]\tvalidation_0-logloss:0.132415\n",
            "[47]\tvalidation_0-logloss:0.131753\n",
            "[48]\tvalidation_0-logloss:0.131179\n",
            "[49]\tvalidation_0-logloss:0.130043\n",
            "[50]\tvalidation_0-logloss:0.129962\n",
            "[51]\tvalidation_0-logloss:0.129065\n",
            "[52]\tvalidation_0-logloss:0.128688\n",
            "[53]\tvalidation_0-logloss:0.129055\n",
            "[54]\tvalidation_0-logloss:0.128541\n",
            "[55]\tvalidation_0-logloss:0.12871\n",
            "[56]\tvalidation_0-logloss:0.128274\n",
            "[57]\tvalidation_0-logloss:0.128224\n",
            "[58]\tvalidation_0-logloss:0.127827\n",
            "[59]\tvalidation_0-logloss:0.127694\n",
            "[60]\tvalidation_0-logloss:0.12803\n",
            "[61]\tvalidation_0-logloss:0.127727\n",
            "[62]\tvalidation_0-logloss:0.127044\n",
            "[63]\tvalidation_0-logloss:0.126941\n",
            "[64]\tvalidation_0-logloss:0.126899\n",
            "[65]\tvalidation_0-logloss:0.126475\n",
            "[66]\tvalidation_0-logloss:0.126713\n",
            "[67]\tvalidation_0-logloss:0.127313\n",
            "[68]\tvalidation_0-logloss:0.12757\n",
            "[69]\tvalidation_0-logloss:0.128038\n",
            "[70]\tvalidation_0-logloss:0.128069\n",
            "[71]\tvalidation_0-logloss:0.128353\n",
            "[72]\tvalidation_0-logloss:0.127647\n",
            "[73]\tvalidation_0-logloss:0.128008\n",
            "[74]\tvalidation_0-logloss:0.127524\n",
            "[75]\tvalidation_0-logloss:0.12811\n",
            "[76]\tvalidation_0-logloss:0.128415\n",
            "[77]\tvalidation_0-logloss:0.128579\n",
            "[78]\tvalidation_0-logloss:0.129009\n",
            "[79]\tvalidation_0-logloss:0.129031\n",
            "[80]\tvalidation_0-logloss:0.128765\n",
            "[81]\tvalidation_0-logloss:0.129115\n",
            "[82]\tvalidation_0-logloss:0.129439\n",
            "[83]\tvalidation_0-logloss:0.129596\n",
            "[84]\tvalidation_0-logloss:0.129927\n",
            "[85]\tvalidation_0-logloss:0.129795\n",
            "[86]\tvalidation_0-logloss:0.129838\n",
            "[87]\tvalidation_0-logloss:0.129612\n",
            "[88]\tvalidation_0-logloss:0.129857\n",
            "[89]\tvalidation_0-logloss:0.130029\n",
            "[90]\tvalidation_0-logloss:0.130191\n",
            "[91]\tvalidation_0-logloss:0.13037\n",
            "[92]\tvalidation_0-logloss:0.130712\n",
            "[93]\tvalidation_0-logloss:0.130879\n",
            "[94]\tvalidation_0-logloss:0.130814\n",
            "[95]\tvalidation_0-logloss:0.130884\n",
            "[96]\tvalidation_0-logloss:0.130873\n",
            "[97]\tvalidation_0-logloss:0.130616\n",
            "[98]\tvalidation_0-logloss:0.13108\n",
            "[99]\tvalidation_0-logloss:0.13143\n",
            "[100]\tvalidation_0-logloss:0.131777\n",
            "[101]\tvalidation_0-logloss:0.131553\n",
            "[102]\tvalidation_0-logloss:0.131881\n",
            "[103]\tvalidation_0-logloss:0.131958\n",
            "[104]\tvalidation_0-logloss:0.132141\n",
            "[105]\tvalidation_0-logloss:0.132325\n",
            "[106]\tvalidation_0-logloss:0.132671\n",
            "[107]\tvalidation_0-logloss:0.132424\n",
            "[108]\tvalidation_0-logloss:0.132506\n",
            "[109]\tvalidation_0-logloss:0.132665\n",
            "[110]\tvalidation_0-logloss:0.132644\n",
            "[111]\tvalidation_0-logloss:0.132951\n",
            "[112]\tvalidation_0-logloss:0.133111\n",
            "[113]\tvalidation_0-logloss:0.133191\n",
            "[114]\tvalidation_0-logloss:0.132967\n",
            "[115]\tvalidation_0-logloss:0.133272\n",
            "[116]\tvalidation_0-logloss:0.13345\n",
            "[117]\tvalidation_0-logloss:0.133467\n",
            "[118]\tvalidation_0-logloss:0.133758\n",
            "[119]\tvalidation_0-logloss:0.133551\n",
            "[120]\tvalidation_0-logloss:0.133573\n",
            "[121]\tvalidation_0-logloss:0.13375\n",
            "[122]\tvalidation_0-logloss:0.133927\n",
            "[123]\tvalidation_0-logloss:0.134204\n",
            "[124]\tvalidation_0-logloss:0.134387\n",
            "[125]\tvalidation_0-logloss:0.134371\n",
            "[126]\tvalidation_0-logloss:0.134529\n",
            "[127]\tvalidation_0-logloss:0.134559\n",
            "[128]\tvalidation_0-logloss:0.134367\n",
            "[129]\tvalidation_0-logloss:0.134659\n",
            "[130]\tvalidation_0-logloss:0.134675\n",
            "[131]\tvalidation_0-logloss:0.134835\n",
            "[132]\tvalidation_0-logloss:0.135015\n",
            "[133]\tvalidation_0-logloss:0.135004\n",
            "[134]\tvalidation_0-logloss:0.135164\n",
            "[135]\tvalidation_0-logloss:0.135343\n",
            "[136]\tvalidation_0-logloss:0.135165\n",
            "[137]\tvalidation_0-logloss:0.135451\n",
            "[138]\tvalidation_0-logloss:0.135537\n",
            "[139]\tvalidation_0-logloss:0.135698\n",
            "[140]\tvalidation_0-logloss:0.135739\n",
            "[141]\tvalidation_0-logloss:0.135733\n",
            "[142]\tvalidation_0-logloss:0.135519\n",
            "[143]\tvalidation_0-logloss:0.135694\n",
            "[144]\tvalidation_0-logloss:0.135853\n",
            "[145]\tvalidation_0-logloss:0.13585\n",
            "[146]\tvalidation_0-logloss:0.136011\n",
            "[147]\tvalidation_0-logloss:0.136097\n",
            "[148]\tvalidation_0-logloss:0.136255\n",
            "[149]\tvalidation_0-logloss:0.136428\n",
            "[150]\tvalidation_0-logloss:0.136271\n",
            "[151]\tvalidation_0-logloss:0.136427\n",
            "[152]\tvalidation_0-logloss:0.136599\n",
            "[153]\tvalidation_0-logloss:0.136599\n",
            "[154]\tvalidation_0-logloss:0.136754\n",
            "[155]\tvalidation_0-logloss:0.136838\n",
            "[156]\tvalidation_0-logloss:0.136996\n",
            "[157]\tvalidation_0-logloss:0.137164\n",
            "[158]\tvalidation_0-logloss:0.137319\n",
            "[159]\tvalidation_0-logloss:0.137318\n",
            "[160]\tvalidation_0-logloss:0.137134\n",
            "[161]\tvalidation_0-logloss:0.137218\n",
            "[162]\tvalidation_0-logloss:0.137369\n",
            "[163]\tvalidation_0-logloss:0.137314\n",
            "[164]\tvalidation_0-logloss:0.137465\n",
            "[165]\tvalidation_0-logloss:0.137465\n",
            "Stopping. Best iteration:\n",
            "[65]\tvalidation_0-logloss:0.126475\n",
            "\n",
            "오차 행렬\n",
            "[[ 56   3]\n",
            " [  2 110]]\n",
            "정확도: 0.9708\n",
            "정밀도: 0.9735\n",
            "재현율: 0.9821\n",
            "F1:0.9778\n",
            "AUC: 0.9861\n"
          ],
          "name": "stdout"
        },
        {
          "output_type": "display_data",
          "data": {
            "image/png": "[encoded data removed]",
            "text/plain": [
              "<Figure size 432x288 with 1 Axes>"
            ]
          },
          "metadata": {
            "tags": [],
            "needs_background": "light"
          }
        }
      ]
    },
    {
      "cell_type": "code",
      "metadata": {
        "colab": {
          "base_uri": "https://localhost:8080/",
          "height": 1000
        },
        "id": "X-lJRstnsTwt",
        "outputId": "b4d8030e-d9d3-4cc0-b4fd-7ecd0e3b08db"
      },
      "source": [
        "run_early_stop(3)"
      ],
      "execution_count": null,
      "outputs": [
        {
          "output_type": "stream",
          "text": [
            "[0]\tvalidation_0-logloss:0.620963\n",
            "Will train until validation_0-logloss hasn't improved in 3 rounds.\n",
            "[1]\tvalidation_0-logloss:0.561495\n",
            "[2]\tvalidation_0-logloss:0.511867\n",
            "[3]\tvalidation_0-logloss:0.468966\n",
            "[4]\tvalidation_0-logloss:0.433053\n",
            "[5]\tvalidation_0-logloss:0.401121\n",
            "[6]\tvalidation_0-logloss:0.37486\n",
            "[7]\tvalidation_0-logloss:0.351377\n",
            "[8]\tvalidation_0-logloss:0.331384\n",
            "[9]\tvalidation_0-logloss:0.313227\n",
            "[10]\tvalidation_0-logloss:0.298809\n",
            "[11]\tvalidation_0-logloss:0.283179\n",
            "[12]\tvalidation_0-logloss:0.269226\n",
            "[13]\tvalidation_0-logloss:0.257648\n",
            "[14]\tvalidation_0-logloss:0.243728\n",
            "[15]\tvalidation_0-logloss:0.231748\n",
            "[16]\tvalidation_0-logloss:0.221616\n",
            "[17]\tvalidation_0-logloss:0.212968\n",
            "[18]\tvalidation_0-logloss:0.204467\n",
            "[19]\tvalidation_0-logloss:0.196926\n",
            "[20]\tvalidation_0-logloss:0.191224\n",
            "[21]\tvalidation_0-logloss:0.187092\n",
            "[22]\tvalidation_0-logloss:0.181653\n",
            "[23]\tvalidation_0-logloss:0.176531\n",
            "[24]\tvalidation_0-logloss:0.171209\n",
            "[25]\tvalidation_0-logloss:0.168487\n",
            "[26]\tvalidation_0-logloss:0.164297\n",
            "[27]\tvalidation_0-logloss:0.161902\n",
            "[28]\tvalidation_0-logloss:0.16062\n",
            "[29]\tvalidation_0-logloss:0.158458\n",
            "[30]\tvalidation_0-logloss:0.154736\n",
            "[31]\tvalidation_0-logloss:0.154947\n",
            "[32]\tvalidation_0-logloss:0.151709\n",
            "[33]\tvalidation_0-logloss:0.148785\n",
            "[34]\tvalidation_0-logloss:0.14613\n",
            "[35]\tvalidation_0-logloss:0.144465\n",
            "[36]\tvalidation_0-logloss:0.142433\n",
            "[37]\tvalidation_0-logloss:0.140664\n",
            "[38]\tvalidation_0-logloss:0.139163\n",
            "[39]\tvalidation_0-logloss:0.138183\n",
            "[40]\tvalidation_0-logloss:0.13672\n",
            "[41]\tvalidation_0-logloss:0.135602\n",
            "[42]\tvalidation_0-logloss:0.136472\n",
            "[43]\tvalidation_0-logloss:0.135002\n",
            "[44]\tvalidation_0-logloss:0.134523\n",
            "[45]\tvalidation_0-logloss:0.133067\n",
            "[46]\tvalidation_0-logloss:0.132415\n",
            "[47]\tvalidation_0-logloss:0.131753\n",
            "[48]\tvalidation_0-logloss:0.131179\n",
            "[49]\tvalidation_0-logloss:0.130043\n",
            "[50]\tvalidation_0-logloss:0.129962\n",
            "[51]\tvalidation_0-logloss:0.129065\n",
            "[52]\tvalidation_0-logloss:0.128688\n",
            "[53]\tvalidation_0-logloss:0.129055\n",
            "[54]\tvalidation_0-logloss:0.128541\n",
            "[55]\tvalidation_0-logloss:0.12871\n",
            "[56]\tvalidation_0-logloss:0.128274\n",
            "[57]\tvalidation_0-logloss:0.128224\n",
            "[58]\tvalidation_0-logloss:0.127827\n",
            "[59]\tvalidation_0-logloss:0.127694\n",
            "[60]\tvalidation_0-logloss:0.12803\n",
            "[61]\tvalidation_0-logloss:0.127727\n",
            "[62]\tvalidation_0-logloss:0.127044\n",
            "[63]\tvalidation_0-logloss:0.126941\n",
            "[64]\tvalidation_0-logloss:0.126899\n",
            "[65]\tvalidation_0-logloss:0.126475\n",
            "[66]\tvalidation_0-logloss:0.126713\n",
            "[67]\tvalidation_0-logloss:0.127313\n",
            "[68]\tvalidation_0-logloss:0.12757\n",
            "Stopping. Best iteration:\n",
            "[65]\tvalidation_0-logloss:0.126475\n",
            "\n",
            "오차 행렬\n",
            "[[ 56   3]\n",
            " [  2 110]]\n",
            "정확도: 0.9708\n",
            "정밀도: 0.9735\n",
            "재현율: 0.9821\n",
            "F1:0.9778\n",
            "AUC: 0.9861\n"
          ],
          "name": "stdout"
        },
        {
          "output_type": "display_data",
          "data": {
            "image/png": "[encoded data removed]",
            "text/plain": [
              "<Figure size 432x288 with 1 Axes>"
            ]
          },
          "metadata": {
            "tags": [],
            "needs_background": "light"
          }
        }
      ]
    },
    {
      "cell_type": "code",
      "metadata": {
        "id": "FytsrQkbs0eH"
      },
      "source": [
        ""
      ],
      "execution_count": null,
      "outputs": []
    }
  ]
}
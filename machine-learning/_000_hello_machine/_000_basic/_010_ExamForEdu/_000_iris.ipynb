{
  "nbformat": 4,
  "nbformat_minor": 0,
  "metadata": {
    "colab": {
      "name": "aEduByExample/_000_iris.ipynb",
      "provenance": [],
      "collapsed_sections": [],
      "authorship_tag": "ABX9TyNytTjXyZTRfTDqk25Sogcb",
      "include_colab_link": true
    },
    "kernelspec": {
      "name": "python3",
      "display_name": "Python 3"
    }
  },
  "cells": [
    {
      "cell_type": "markdown",
      "metadata": {
        "id": "view-in-github",
        "colab_type": "text"
      },
      "source": [
        "<a href=\"https://colab.research.google.com/github/wiv33/A-Learning-python/blob/master/machine-learning/_000_hello_machine/_000_basic/_010_ExamForEdu/_000_iris.ipynb\" target=\"_parent\"><img src=\"https://colab.research.google.com/assets/colab-badge.svg\" alt=\"Open In Colab\"/></a>"
      ]
    },
    {
      "cell_type": "markdown",
      "metadata": {
        "id": "RCdj4EKW6_VH"
      },
      "source": [
        "# 아이리스 손글씨 데이터 예측하기"
      ]
    },
    {
      "cell_type": "code",
      "metadata": {
        "id": "-2_FyiVMU5rs"
      },
      "source": [
        "import tensorflow as tf\n",
        "from tensorflow.keras import layers\n",
        "from tensorflow.keras.datasets import mnist"
      ],
      "execution_count": 163,
      "outputs": []
    },
    {
      "cell_type": "markdown",
      "metadata": {
        "id": "3KdPBz_i7t0n"
      },
      "source": [
        "- tensorflow\n",
        "- layers: \n",
        "\n",
        "  + Flatten: arg의 shape을 (-1, 1)로 reshape\n",
        "\n",
        "  + Activation: 활성화 함수\n",
        "\n",
        "  + Dropout: 네트워크의 눈을 감기는 함수\n",
        "\n",
        "  + BatchNormalization: 한 레이어마다 정규화\n",
        "\n",
        "  + Dense: \n"
      ]
    },
    {
      "cell_type": "markdown",
      "metadata": {
        "id": "zCAjH478GEPZ"
      },
      "source": [
        "## iris data"
      ]
    },
    {
      "cell_type": "code",
      "metadata": {
        "id": "0WNtaklDVsdy"
      },
      "source": [
        "(x_train, y_train), (x_test, y_test) = mnist.load_data('iris')"
      ],
      "execution_count": 164,
      "outputs": []
    },
    {
      "cell_type": "code",
      "metadata": {
        "colab": {
          "base_uri": "https://localhost:8080/"
        },
        "id": "JZakaD99be70",
        "outputId": "f9641e63-daa1-4dbe-cfea-9a63847de9e5"
      },
      "source": [
        "x_train.shape, y_train.shape"
      ],
      "execution_count": 165,
      "outputs": [
        {
          "output_type": "execute_result",
          "data": {
            "text/plain": [
              "((60000, 28, 28), (60000,))"
            ]
          },
          "metadata": {
            "tags": []
          },
          "execution_count": 165
        }
      ]
    },
    {
      "cell_type": "markdown",
      "metadata": {
        "id": "MXaxWgR7GHQb"
      },
      "source": [
        "- 6만개 행과, (28, 28) shape를 가진 데이터\n",
        "- 6만개 정답 라벨로 [0], [1], [2] ... [9]의 데이터\n",
        "  + 1번 행의 정답은 5\n",
        "  + 2번 행의 정답은 0\n",
        "  + 3번 행의 정답은 4\n"
      ]
    },
    {
      "cell_type": "markdown",
      "metadata": {
        "id": "ppKZj3mJ_req"
      },
      "source": [
        "## 값 정규화"
      ]
    },
    {
      "cell_type": "code",
      "metadata": {
        "colab": {
          "base_uri": "https://localhost:8080/"
        },
        "id": "qYJjBI2giPNL",
        "outputId": "ebd5d249-c4cd-4f89-bdba-a02b61711113"
      },
      "source": [
        "x_train[0][7]"
      ],
      "execution_count": 166,
      "outputs": [
        {
          "output_type": "execute_result",
          "data": {
            "text/plain": [
              "array([  0,   0,   0,   0,   0,   0,   0,  49, 238, 253, 253, 253, 253,\n",
              "       253, 253, 253, 253, 251,  93,  82,  82,  56,  39,   0,   0,   0,\n",
              "         0,   0], dtype=uint8)"
            ]
          },
          "metadata": {
            "tags": []
          },
          "execution_count": 166
        }
      ]
    },
    {
      "cell_type": "code",
      "metadata": {
        "id": "R1RM2_a2tovA"
      },
      "source": [
        "x_train, x_test = x_train / 255., x_test / 255."
      ],
      "execution_count": 167,
      "outputs": []
    },
    {
      "cell_type": "code",
      "metadata": {
        "colab": {
          "base_uri": "https://localhost:8080/"
        },
        "id": "9Ol5kvAwiZVN",
        "outputId": "14e2edd5-d937-4cc2-a843-5b9b0e24309c"
      },
      "source": [
        "x_train[0][7]"
      ],
      "execution_count": 168,
      "outputs": [
        {
          "output_type": "execute_result",
          "data": {
            "text/plain": [
              "array([0.        , 0.        , 0.        , 0.        , 0.        ,\n",
              "       0.        , 0.        , 0.19215686, 0.93333333, 0.99215686,\n",
              "       0.99215686, 0.99215686, 0.99215686, 0.99215686, 0.99215686,\n",
              "       0.99215686, 0.99215686, 0.98431373, 0.36470588, 0.32156863,\n",
              "       0.32156863, 0.21960784, 0.15294118, 0.        , 0.        ,\n",
              "       0.        , 0.        , 0.        ])"
            ]
          },
          "metadata": {
            "tags": []
          },
          "execution_count": 168
        }
      ]
    },
    {
      "cell_type": "markdown",
      "metadata": {
        "id": "6W8li7OaGsNv"
      },
      "source": [
        "- "
      ]
    },
    {
      "cell_type": "markdown",
      "metadata": {
        "id": "YXtY5izIj4Hp"
      },
      "source": [
        "- 최대값 255로 나누는 작업\n",
        "- 수치가 낮아짐\n",
        "- 특성은 유지됨"
      ]
    },
    {
      "cell_type": "code",
      "metadata": {
        "colab": {
          "base_uri": "https://localhost:8080/"
        },
        "id": "D9fXtqpWyCZM",
        "outputId": "ceaf2e33-f9f0-4e12-e0bd-f755975c16b9"
      },
      "source": [
        "y_train"
      ],
      "execution_count": 169,
      "outputs": [
        {
          "output_type": "execute_result",
          "data": {
            "text/plain": [
              "array([5, 0, 4, ..., 5, 6, 8], dtype=uint8)"
            ]
          },
          "metadata": {
            "tags": []
          },
          "execution_count": 169
        }
      ]
    },
    {
      "cell_type": "markdown",
      "metadata": {
        "id": "RqbcdN9NHMBF"
      },
      "source": [
        "## Model 선언"
      ]
    },
    {
      "cell_type": "code",
      "metadata": {
        "id": "4WMO0lZ-boxC"
      },
      "source": [
        "class CustomModel(tf.keras.Model):\n",
        "  def __init__(self, lr):\n",
        "    super(CustomModel, self).__init__(name='CM')\n",
        "    self.flatten = tf.keras.layers.Flatten()\n",
        "    self.hidden = layers.Dense(kwargs.get('hidden_dimension', 256), bias_initializer='ones')\n",
        "    self.bat = layers.BatchNormalization()\n",
        "    self.act = layers.Activation(activation='swish')\n",
        "    self.dropout = tf.keras.layers.Dropout(rate=lr)\n",
        "    self.hidden2 = layers.Dense(kwargs.get('hidden2_dimension', 128))\n",
        "    self.bat2 = layers.BatchNormalization()\n",
        "    self.hidden3 = layers.Dense(kwargs.get('hidden3_dimension', 10), activation='softmax')\n",
        "    \n",
        "  def call(self, x):\n",
        "    print(f'모델에 처음 들어온 shape: {x.shape}')\n",
        "    x = self.flatten(x)\n",
        "    print(f'flatten 이후 shape: {x.shape}')\n",
        "    x = self.hidden(x)\n",
        "    x = self.bat(x)\n",
        "    # print(x.shape)\n",
        "    x = self.act(x)\n",
        "    x = self.dropout(x)\n",
        "    x = self.hidden2(x)\n",
        "    # print(x.shape)\n",
        "    x = self.bat2(x)\n",
        "    x = self.act(x)\n",
        "    # print(x.shape)\n",
        "    x = self.hidden3(x)\n",
        "    return x    \n",
        "\n",
        "kwargs = {\n",
        "    'hidden_dimension': 256,\n",
        "    'hidden2_dimension': 128,\n",
        "    'hidden3_dimension': 10\n",
        "}\n",
        "\n"
      ],
      "execution_count": 170,
      "outputs": []
    },
    {
      "cell_type": "markdown",
      "metadata": {
        "id": "8WaQFNSKHKio"
      },
      "source": [
        "## model 학습\n"
      ]
    },
    {
      "cell_type": "code",
      "metadata": {
        "id": "-TbCMoiFHFW-",
        "colab": {
          "base_uri": "https://localhost:8080/"
        },
        "outputId": "c983b478-4377-4e48-a2ab-71e4d55b78b1"
      },
      "source": [
        "import numpy as np\n",
        "import pandas as pd\n",
        "\n",
        "y = {}\n",
        "df = pd.DataFrame(data=None, columns=['dropout', 'loss', 'accuracy'])\n",
        "\n",
        "for i, lr in enumerate(np.arange(0, 1, .1)):\n",
        "  learning_rate = round(lr, 1)\n",
        "  model = CustomModel(round(learning_rate, 1))\n",
        "\n",
        "  model.compile(optimizer='adam',\n",
        "                loss='sparse_categorical_crossentropy',\n",
        "                metrics=['accuracy'])\n",
        "  \n",
        "  model.fit(x_train, y_train, batch_size=256, epochs=12, verbose=0)\n",
        "  score = model.evaluate(x_test, y_test)\n",
        "  y[lr] = model.predict(x_test)\n",
        "  print('test accruacy', score[1])\n",
        "  df = df.append({'dropout': round(learning_rate, 1), 'loss': score[0], 'accuracy': score[1]}, ignore_index=True)"
      ],
      "execution_count": 171,
      "outputs": [
        {
          "output_type": "stream",
          "text": [
            "모델에 처음 들어온 shape: (None, 28, 28)\n",
            "flatten 이후 shape: (None, 784)\n",
            "모델에 처음 들어온 shape: (None, 28, 28)\n",
            "flatten 이후 shape: (None, 784)\n",
            "모델에 처음 들어온 shape: (None, 28, 28)\n",
            "flatten 이후 shape: (None, 784)\n",
            "313/313 [==============================] - 0s 1ms/step - loss: 0.0685 - accuracy: 0.9808\n",
            "모델에 처음 들어온 shape: (None, 28, 28)\n",
            "flatten 이후 shape: (None, 784)\n",
            "test accruacy 0.9807999730110168\n",
            "모델에 처음 들어온 shape: (None, 28, 28)\n",
            "flatten 이후 shape: (None, 784)\n",
            "모델에 처음 들어온 shape: (None, 28, 28)\n",
            "flatten 이후 shape: (None, 784)\n",
            "모델에 처음 들어온 shape: (None, 28, 28)\n",
            "flatten 이후 shape: (None, 784)\n",
            "313/313 [==============================] - 0s 1ms/step - loss: 0.0663 - accuracy: 0.9801\n",
            "모델에 처음 들어온 shape: (None, 28, 28)\n",
            "flatten 이후 shape: (None, 784)\n",
            "test accruacy 0.9800999760627747\n",
            "모델에 처음 들어온 shape: (None, 28, 28)\n",
            "flatten 이후 shape: (None, 784)\n",
            "모델에 처음 들어온 shape: (None, 28, 28)\n",
            "flatten 이후 shape: (None, 784)\n",
            "모델에 처음 들어온 shape: (None, 28, 28)\n",
            "flatten 이후 shape: (None, 784)\n",
            "313/313 [==============================] - 0s 1ms/step - loss: 0.0672 - accuracy: 0.9797\n",
            "모델에 처음 들어온 shape: (None, 28, 28)\n",
            "flatten 이후 shape: (None, 784)\n",
            "test accruacy 0.9797000288963318\n",
            "모델에 처음 들어온 shape: (None, 28, 28)\n",
            "flatten 이후 shape: (None, 784)\n",
            "모델에 처음 들어온 shape: (None, 28, 28)\n",
            "flatten 이후 shape: (None, 784)\n",
            "모델에 처음 들어온 shape: (None, 28, 28)\n",
            "flatten 이후 shape: (None, 784)\n",
            "313/313 [==============================] - 0s 1ms/step - loss: 0.0589 - accuracy: 0.9823\n",
            "모델에 처음 들어온 shape: (None, 28, 28)\n",
            "flatten 이후 shape: (None, 784)\n",
            "test accruacy 0.9822999835014343\n",
            "모델에 처음 들어온 shape: (None, 28, 28)\n",
            "flatten 이후 shape: (None, 784)\n",
            "모델에 처음 들어온 shape: (None, 28, 28)\n",
            "flatten 이후 shape: (None, 784)\n",
            "모델에 처음 들어온 shape: (None, 28, 28)\n",
            "flatten 이후 shape: (None, 784)\n",
            "313/313 [==============================] - 0s 1ms/step - loss: 0.0624 - accuracy: 0.9812\n",
            "모델에 처음 들어온 shape: (None, 28, 28)\n",
            "flatten 이후 shape: (None, 784)\n",
            "test accruacy 0.9811999797821045\n",
            "모델에 처음 들어온 shape: (None, 28, 28)\n",
            "flatten 이후 shape: (None, 784)\n",
            "모델에 처음 들어온 shape: (None, 28, 28)\n",
            "flatten 이후 shape: (None, 784)\n",
            "모델에 처음 들어온 shape: (None, 28, 28)\n",
            "flatten 이후 shape: (None, 784)\n",
            "313/313 [==============================] - 0s 1ms/step - loss: 0.0694 - accuracy: 0.9793\n",
            "모델에 처음 들어온 shape: (None, 28, 28)\n",
            "flatten 이후 shape: (None, 784)\n",
            "test accruacy 0.9793000221252441\n",
            "모델에 처음 들어온 shape: (None, 28, 28)\n",
            "flatten 이후 shape: (None, 784)\n",
            "모델에 처음 들어온 shape: (None, 28, 28)\n",
            "flatten 이후 shape: (None, 784)\n",
            "모델에 처음 들어온 shape: (None, 28, 28)\n",
            "flatten 이후 shape: (None, 784)\n",
            "313/313 [==============================] - 0s 1ms/step - loss: 0.0659 - accuracy: 0.9804\n",
            "모델에 처음 들어온 shape: (None, 28, 28)\n",
            "flatten 이후 shape: (None, 784)\n",
            "test accruacy 0.980400025844574\n",
            "모델에 처음 들어온 shape: (None, 28, 28)\n",
            "flatten 이후 shape: (None, 784)\n",
            "모델에 처음 들어온 shape: (None, 28, 28)\n",
            "flatten 이후 shape: (None, 784)\n",
            "모델에 처음 들어온 shape: (None, 28, 28)\n",
            "flatten 이후 shape: (None, 784)\n",
            "313/313 [==============================] - 0s 1ms/step - loss: 0.0737 - accuracy: 0.9763\n",
            "모델에 처음 들어온 shape: (None, 28, 28)\n",
            "flatten 이후 shape: (None, 784)\n",
            "test accruacy 0.9763000011444092\n",
            "모델에 처음 들어온 shape: (None, 28, 28)\n",
            "flatten 이후 shape: (None, 784)\n",
            "모델에 처음 들어온 shape: (None, 28, 28)\n",
            "flatten 이후 shape: (None, 784)\n",
            "모델에 처음 들어온 shape: (None, 28, 28)\n",
            "flatten 이후 shape: (None, 784)\n",
            "313/313 [==============================] - 0s 1ms/step - loss: 0.1018 - accuracy: 0.9692\n",
            "모델에 처음 들어온 shape: (None, 28, 28)\n",
            "flatten 이후 shape: (None, 784)\n",
            "test accruacy 0.9692000150680542\n",
            "모델에 처음 들어온 shape: (None, 28, 28)\n",
            "flatten 이후 shape: (None, 784)\n",
            "모델에 처음 들어온 shape: (None, 28, 28)\n",
            "flatten 이후 shape: (None, 784)\n",
            "모델에 처음 들어온 shape: (None, 28, 28)\n",
            "flatten 이후 shape: (None, 784)\n",
            "313/313 [==============================] - 0s 1ms/step - loss: 0.1696 - accuracy: 0.9480\n",
            "모델에 처음 들어온 shape: (None, 28, 28)\n",
            "flatten 이후 shape: (None, 784)\n",
            "test accruacy 0.9480000138282776\n"
          ],
          "name": "stdout"
        }
      ]
    },
    {
      "cell_type": "code",
      "metadata": {
        "colab": {
          "base_uri": "https://localhost:8080/",
          "height": 297
        },
        "id": "GoUElz_DU0Av",
        "outputId": "fac862ff-460c-4b2f-e50f-2276a938175c"
      },
      "source": [
        "df.describe()"
      ],
      "execution_count": 172,
      "outputs": [
        {
          "output_type": "execute_result",
          "data": {
            "text/html": [
              "<div>\n",
              "<style scoped>\n",
              "    .dataframe tbody tr th:only-of-type {\n",
              "        vertical-align: middle;\n",
              "    }\n",
              "\n",
              "    .dataframe tbody tr th {\n",
              "        vertical-align: top;\n",
              "    }\n",
              "\n",
              "    .dataframe thead th {\n",
              "        text-align: right;\n",
              "    }\n",
              "</style>\n",
              "<table border=\"1\" class=\"dataframe\">\n",
              "  <thead>\n",
              "    <tr style=\"text-align: right;\">\n",
              "      <th></th>\n",
              "      <th>dropout</th>\n",
              "      <th>loss</th>\n",
              "      <th>accuracy</th>\n",
              "    </tr>\n",
              "  </thead>\n",
              "  <tbody>\n",
              "    <tr>\n",
              "      <th>count</th>\n",
              "      <td>10.000000</td>\n",
              "      <td>10.000000</td>\n",
              "      <td>10.000000</td>\n",
              "    </tr>\n",
              "    <tr>\n",
              "      <th>mean</th>\n",
              "      <td>0.450000</td>\n",
              "      <td>0.080381</td>\n",
              "      <td>0.975730</td>\n",
              "    </tr>\n",
              "    <tr>\n",
              "      <th>std</th>\n",
              "      <td>0.302765</td>\n",
              "      <td>0.033488</td>\n",
              "      <td>0.010436</td>\n",
              "    </tr>\n",
              "    <tr>\n",
              "      <th>min</th>\n",
              "      <td>0.000000</td>\n",
              "      <td>0.058921</td>\n",
              "      <td>0.948000</td>\n",
              "    </tr>\n",
              "    <tr>\n",
              "      <th>25%</th>\n",
              "      <td>0.225000</td>\n",
              "      <td>0.065998</td>\n",
              "      <td>0.977050</td>\n",
              "    </tr>\n",
              "    <tr>\n",
              "      <th>50%</th>\n",
              "      <td>0.450000</td>\n",
              "      <td>0.067868</td>\n",
              "      <td>0.979900</td>\n",
              "    </tr>\n",
              "    <tr>\n",
              "      <th>75%</th>\n",
              "      <td>0.675000</td>\n",
              "      <td>0.072652</td>\n",
              "      <td>0.980700</td>\n",
              "    </tr>\n",
              "    <tr>\n",
              "      <th>max</th>\n",
              "      <td>0.900000</td>\n",
              "      <td>0.169615</td>\n",
              "      <td>0.982300</td>\n",
              "    </tr>\n",
              "  </tbody>\n",
              "</table>\n",
              "</div>"
            ],
            "text/plain": [
              "         dropout       loss   accuracy\n",
              "count  10.000000  10.000000  10.000000\n",
              "mean    0.450000   0.080381   0.975730\n",
              "std     0.302765   0.033488   0.010436\n",
              "min     0.000000   0.058921   0.948000\n",
              "25%     0.225000   0.065998   0.977050\n",
              "50%     0.450000   0.067868   0.979900\n",
              "75%     0.675000   0.072652   0.980700\n",
              "max     0.900000   0.169615   0.982300"
            ]
          },
          "metadata": {
            "tags": []
          },
          "execution_count": 172
        }
      ]
    },
    {
      "cell_type": "code",
      "metadata": {
        "colab": {
          "base_uri": "https://localhost:8080/",
          "height": 302
        },
        "id": "3XMEpvQMPV0m",
        "outputId": "6d993a59-a993-40c2-86cc-5acceac544ad"
      },
      "source": [
        "df.plot.bar(x='dropout', y='loss')"
      ],
      "execution_count": 173,
      "outputs": [
        {
          "output_type": "execute_result",
          "data": {
            "text/plain": [
              "<matplotlib.axes._subplots.AxesSubplot at 0x7fec74fc2278>"
            ]
          },
          "metadata": {
            "tags": []
          },
          "execution_count": 173
        },
        {
          "output_type": "display_data",
          "data": {
            "image/png": "[encoded data removed]",
            "text/plain": [
              "<Figure size 432x288 with 1 Axes>"
            ]
          },
          "metadata": {
            "tags": [],
            "needs_background": "light"
          }
        }
      ]
    },
    {
      "cell_type": "code",
      "metadata": {
        "colab": {
          "base_uri": "https://localhost:8080/",
          "height": 302
        },
        "id": "8U_q_QMuQDye",
        "outputId": "4745d146-179f-4d3e-c7d9-443d6a0a4cab"
      },
      "source": [
        "df.plot.bar(x='dropout', y='accuracy')"
      ],
      "execution_count": 174,
      "outputs": [
        {
          "output_type": "execute_result",
          "data": {
            "text/plain": [
              "<matplotlib.axes._subplots.AxesSubplot at 0x7fec65b20cc0>"
            ]
          },
          "metadata": {
            "tags": []
          },
          "execution_count": 174
        },
        {
          "output_type": "display_data",
          "data": {
            "image/png": "[encoded data removed]",
            "text/plain": [
              "<Figure size 432x288 with 1 Axes>"
            ]
          },
          "metadata": {
            "tags": [],
            "needs_background": "light"
          }
        }
      ]
    },
    {
      "cell_type": "code",
      "metadata": {
        "id": "991vPvskQJTU",
        "colab": {
          "base_uri": "https://localhost:8080/"
        },
        "outputId": "35eb93c2-5f75-4f83-cfa2-e8b745870397"
      },
      "source": [
        "print(y)"
      ],
      "execution_count": 175,
      "outputs": [
        {
          "output_type": "stream",
          "text": [
            "{0.0: array([[1.9832740e-08, 2.5582474e-09, 1.4872123e-08, ..., 9.9999964e-01,\n",
            "        9.3320085e-10, 2.1470673e-07],\n",
            "       [4.7338344e-06, 9.7109694e-07, 9.9999285e-01, ..., 2.7397863e-11,\n",
            "        8.9772909e-09, 4.8849796e-11],\n",
            "       [3.2711760e-08, 9.9998057e-01, 2.1373805e-06, ..., 1.2945330e-05,\n",
            "        2.9460289e-06, 7.4133533e-10],\n",
            "       ...,\n",
            "       [1.5702523e-12, 2.7317593e-11, 1.9478620e-12, ..., 9.7504078e-08,\n",
            "        5.5176191e-08, 5.6910631e-06],\n",
            "       [5.2647103e-10, 5.6664864e-11, 2.5033956e-11, ..., 7.8336454e-10,\n",
            "        4.6965090e-07, 2.1537688e-11],\n",
            "       [5.4523774e-08, 5.5920824e-10, 1.5642671e-08, ..., 2.0073552e-09,\n",
            "        1.2064962e-08, 4.0332249e-09]], dtype=float32), 0.1: array([[1.38216376e-06, 2.95519467e-08, 1.18050856e-07, ...,\n",
            "        9.99992371e-01, 1.30631761e-07, 3.16642445e-06],\n",
            "       [3.84742149e-09, 8.08323784e-06, 9.99991775e-01, ...,\n",
            "        6.82701454e-13, 2.20844228e-11, 2.86853413e-13],\n",
            "       [1.45350214e-06, 9.99955535e-01, 1.42654210e-06, ...,\n",
            "        2.44235835e-05, 5.42758926e-06, 7.20274116e-08],\n",
            "       ...,\n",
            "       [6.65683481e-12, 1.08375198e-10, 6.55350177e-13, ...,\n",
            "        1.55295993e-06, 2.11630375e-08, 1.09670486e-06],\n",
            "       [2.00382888e-09, 7.64478812e-13, 1.45058881e-14, ...,\n",
            "        8.17124840e-12, 2.84914279e-07, 4.77044382e-14],\n",
            "       [1.90446858e-08, 4.15774429e-11, 1.46878132e-09, ...,\n",
            "        5.61839074e-12, 5.31370954e-11, 7.55955687e-10]], dtype=float32), 0.2: array([[3.5933429e-08, 1.0762273e-07, 1.5409285e-06, ..., 9.9998844e-01,\n",
            "        7.4822445e-08, 1.0457235e-06],\n",
            "       [1.4572663e-07, 2.0410930e-06, 9.9999607e-01, ..., 3.7800032e-12,\n",
            "        6.3720229e-08, 6.3479333e-11],\n",
            "       [4.5468903e-07, 9.9983299e-01, 2.9241937e-06, ..., 9.3127681e-05,\n",
            "        5.3457006e-05, 7.8530221e-08],\n",
            "       ...,\n",
            "       [4.7585785e-13, 1.5549576e-11, 1.6479911e-12, ..., 1.6780609e-08,\n",
            "        6.5896586e-08, 8.4128033e-08],\n",
            "       [2.6439836e-10, 7.0041585e-12, 4.4580985e-11, ..., 4.1672308e-11,\n",
            "        1.3432226e-07, 2.9173294e-12],\n",
            "       [1.5802260e-10, 6.8543430e-12, 2.6344633e-11, ..., 8.0142224e-13,\n",
            "        7.6843705e-11, 3.1550687e-10]], dtype=float32), 0.30000000000000004: array([[1.2352733e-07, 5.8812111e-09, 5.6303834e-06, ..., 9.9997389e-01,\n",
            "        2.6704903e-08, 6.3115266e-07],\n",
            "       [2.1588228e-06, 2.8804088e-06, 9.9997282e-01, ..., 6.2594563e-10,\n",
            "        3.3776672e-08, 7.6203323e-12],\n",
            "       [1.8361062e-06, 9.9972481e-01, 4.5210077e-06, ..., 1.3513498e-04,\n",
            "        7.2217706e-05, 5.1408682e-07],\n",
            "       ...,\n",
            "       [1.9225762e-12, 6.3466926e-11, 1.3606913e-13, ..., 4.0218652e-07,\n",
            "        1.9022910e-07, 2.4523642e-06],\n",
            "       [3.5810390e-09, 9.5684025e-12, 6.2333129e-12, ..., 5.3708132e-10,\n",
            "        1.5416261e-05, 5.8596747e-13],\n",
            "       [2.0313642e-08, 4.2671373e-11, 6.2160305e-11, ..., 1.3566981e-11,\n",
            "        2.3852123e-10, 3.2546879e-10]], dtype=float32), 0.4: array([[6.52221900e-07, 3.70879172e-09, 2.94993151e-06, ...,\n",
            "        9.99988317e-01, 1.11379478e-07, 1.69506006e-06],\n",
            "       [9.79435299e-07, 2.09505470e-06, 9.99994874e-01, ...,\n",
            "        2.39077837e-11, 3.96650623e-09, 1.71334752e-11],\n",
            "       [2.15104706e-06, 9.99081969e-01, 4.28793428e-05, ...,\n",
            "        5.10793063e-04, 2.28665725e-04, 3.76769526e-06],\n",
            "       ...,\n",
            "       [6.84440005e-12, 3.79244032e-11, 2.86458194e-13, ...,\n",
            "        2.93190023e-08, 1.70544219e-08, 2.11595170e-06],\n",
            "       [5.55871864e-08, 1.04796583e-09, 2.75786283e-10, ...,\n",
            "        4.12805168e-09, 2.19162976e-04, 4.79240370e-10],\n",
            "       [1.04430535e-08, 1.41534964e-10, 7.41604333e-10, ...,\n",
            "        2.32518432e-12, 4.61446742e-10, 1.22207866e-09]], dtype=float32), 0.5: array([[7.5479626e-08, 4.4701604e-08, 1.7506952e-06, ..., 9.9997652e-01,\n",
            "        2.7218439e-08, 3.7114194e-07],\n",
            "       [7.0694421e-07, 6.7036766e-05, 9.9988294e-01, ..., 1.1617701e-09,\n",
            "        5.5699485e-07, 6.5319944e-11],\n",
            "       [3.5465971e-06, 9.9954659e-01, 6.7941386e-05, ..., 1.3133718e-04,\n",
            "        1.1502099e-04, 1.7155000e-06],\n",
            "       ...,\n",
            "       [7.6201455e-11, 5.4294569e-10, 1.0898172e-10, ..., 1.9405012e-07,\n",
            "        3.8227850e-07, 2.0523189e-06],\n",
            "       [1.1957320e-09, 8.9711717e-11, 5.8826024e-09, ..., 1.7271949e-10,\n",
            "        1.0963381e-06, 2.3794463e-11],\n",
            "       [1.9468037e-07, 2.6283001e-10, 3.5511050e-08, ..., 2.6147098e-10,\n",
            "        3.7064285e-09, 6.9084488e-10]], dtype=float32), 0.6000000000000001: array([[5.64076799e-07, 2.39682777e-07, 2.78021271e-05, ...,\n",
            "        9.99914527e-01, 1.33635567e-07, 5.79972379e-07],\n",
            "       [5.90440209e-07, 6.72953183e-06, 9.99965787e-01, ...,\n",
            "        6.99177799e-11, 6.14964719e-08, 6.57344387e-11],\n",
            "       [1.48375329e-06, 9.99117196e-01, 1.18722564e-04, ...,\n",
            "        4.52440901e-04, 1.78490736e-04, 1.15310218e-06],\n",
            "       ...,\n",
            "       [4.73647857e-11, 2.64543765e-09, 3.70762282e-10, ...,\n",
            "        2.81636949e-06, 3.89498865e-07, 2.56328331e-05],\n",
            "       [7.79044811e-08, 1.17411119e-07, 2.72602296e-08, ...,\n",
            "        2.81008312e-07, 1.61173957e-04, 5.14524201e-09],\n",
            "       [1.83587616e-07, 1.14023013e-09, 1.92364507e-08, ...,\n",
            "        2.32046701e-10, 4.34127889e-09, 3.62801456e-09]], dtype=float32), 0.7000000000000001: array([[1.31056477e-05, 6.20536071e-07, 3.86215652e-05, ...,\n",
            "        9.99764979e-01, 8.86193266e-06, 1.73353092e-05],\n",
            "       [9.65357231e-06, 2.58538942e-03, 9.97188628e-01, ...,\n",
            "        1.02488094e-07, 3.05715525e-06, 1.47217349e-07],\n",
            "       [1.22272115e-06, 9.98579621e-01, 3.60177859e-04, ...,\n",
            "        7.26371247e-04, 1.78266127e-04, 1.60333127e-06],\n",
            "       ...,\n",
            "       [1.06924976e-10, 1.11221132e-09, 3.53949137e-09, ...,\n",
            "        3.55858947e-06, 1.33771582e-05, 2.97767001e-05],\n",
            "       [3.44753524e-08, 3.13276502e-07, 9.50144639e-08, ...,\n",
            "        3.85305263e-08, 5.86674651e-05, 5.16929646e-08],\n",
            "       [4.40262973e-08, 1.35419342e-10, 4.73747086e-08, ...,\n",
            "        2.70752396e-11, 4.01373379e-09, 3.04708192e-09]], dtype=float32), 0.8: array([[6.4946853e-06, 1.3746849e-07, 1.5846937e-04, ..., 9.9950826e-01,\n",
            "        1.3867310e-06, 2.0521597e-05],\n",
            "       [4.2736447e-05, 1.4418677e-03, 9.9805319e-01, ..., 1.5411229e-07,\n",
            "        6.3966741e-06, 2.1392472e-09],\n",
            "       [2.0200675e-06, 9.9847573e-01, 3.0887013e-04, ..., 6.0656242e-04,\n",
            "        3.8063625e-04, 1.3389186e-05],\n",
            "       ...,\n",
            "       [2.2286160e-09, 9.3721964e-10, 6.5664068e-08, ..., 3.7646801e-06,\n",
            "        9.3483795e-06, 4.4263125e-04],\n",
            "       [3.2057933e-06, 1.9783665e-06, 4.3821069e-07, ..., 2.6136900e-07,\n",
            "        4.5347368e-04, 3.0998034e-08],\n",
            "       [2.1682359e-07, 1.6925544e-11, 3.3648508e-08, ..., 8.9543595e-10,\n",
            "        2.2185895e-09, 3.5038918e-09]], dtype=float32), 0.9: array([[1.88817694e-06, 7.03362915e-08, 1.19705823e-04, ...,\n",
            "        9.99737203e-01, 3.29639306e-07, 1.55152957e-05],\n",
            "       [8.98434155e-05, 4.55017362e-05, 9.98887360e-01, ...,\n",
            "        3.38467629e-07, 2.81723824e-05, 2.70856737e-09],\n",
            "       [4.18827949e-06, 9.98196423e-01, 5.74273057e-04, ...,\n",
            "        3.47966241e-04, 4.21381061e-04, 2.23016341e-05],\n",
            "       ...,\n",
            "       [6.61396058e-08, 6.91632920e-08, 1.57284683e-06, ...,\n",
            "        7.94110310e-05, 2.64622155e-04, 5.71336225e-03],\n",
            "       [3.30455914e-05, 1.23931486e-05, 3.87172531e-06, ...,\n",
            "        1.27494286e-06, 1.07640335e-02, 3.39940016e-06],\n",
            "       [8.09732967e-07, 5.34125869e-11, 1.76788251e-06, ...,\n",
            "        5.69312264e-10, 5.21840242e-08, 4.51375426e-09]], dtype=float32)}\n"
          ],
          "name": "stdout"
        }
      ]
    },
    {
      "cell_type": "code",
      "metadata": {
        "colab": {
          "base_uri": "https://localhost:8080/"
        },
        "id": "mzWUZQ7PDmN0",
        "outputId": "afbdac2e-845c-4c83-c117-18b4174b53ca"
      },
      "source": [
        "model.summary()"
      ],
      "execution_count": 176,
      "outputs": [
        {
          "output_type": "stream",
          "text": [
            "Model: \"CM\"\n",
            "_________________________________________________________________\n",
            "Layer (type)                 Output Shape              Param #   \n",
            "=================================================================\n",
            "flatten_68 (Flatten)         multiple                  0         \n",
            "_________________________________________________________________\n",
            "dense_204 (Dense)            multiple                  200960    \n",
            "_________________________________________________________________\n",
            "batch_normalization_136 (Bat multiple                  1024      \n",
            "_________________________________________________________________\n",
            "activation_68 (Activation)   multiple                  0         \n",
            "_________________________________________________________________\n",
            "dropout_68 (Dropout)         multiple                  0         \n",
            "_________________________________________________________________\n",
            "dense_205 (Dense)            multiple                  32896     \n",
            "_________________________________________________________________\n",
            "batch_normalization_137 (Bat multiple                  512       \n",
            "_________________________________________________________________\n",
            "dense_206 (Dense)            multiple                  1290      \n",
            "=================================================================\n",
            "Total params: 236,682\n",
            "Trainable params: 235,914\n",
            "Non-trainable params: 768\n",
            "_________________________________________________________________\n"
          ],
          "name": "stdout"
        }
      ]
    }
  ]
}
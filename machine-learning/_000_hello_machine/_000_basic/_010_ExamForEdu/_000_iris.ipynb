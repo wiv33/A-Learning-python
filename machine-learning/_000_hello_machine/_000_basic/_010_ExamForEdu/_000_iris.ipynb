{
  "nbformat": 4,
  "nbformat_minor": 0,
  "metadata": {
    "colab": {
      "name": "aEduByExample/_000_iris.ipynb",
      "provenance": [],
      "collapsed_sections": [],
      "authorship_tag": "ABX9TyN5gXRw3kQKCsY2SqzXWqOt",
      "include_colab_link": true
    },
    "kernelspec": {
      "name": "python3",
      "display_name": "Python 3"
    }
  },
  "cells": [
    {
      "cell_type": "markdown",
      "metadata": {
        "id": "view-in-github",
        "colab_type": "text"
      },
      "source": [
        "<a href=\"https://colab.research.google.com/github/wiv33/A-Learning-python/blob/master/machine-learning/_000_hello_machine/_000_basic/_010_ExamForEdu/_000_iris.ipynb\" target=\"_parent\"><img src=\"https://colab.research.google.com/assets/colab-badge.svg\" alt=\"Open In Colab\"/></a>"
      ]
    },
    {
      "cell_type": "markdown",
      "metadata": {
        "id": "RCdj4EKW6_VH"
      },
      "source": [
        "# 아이리스 손글씨 데이터 예측하기"
      ]
    },
    {
      "cell_type": "code",
      "metadata": {
        "id": "-2_FyiVMU5rs"
      },
      "source": [
        "import tensorflow as tf\n",
        "from tensorflow.keras import layers\n",
        "from tensorflow.keras.datasets import mnist"
      ],
      "execution_count": null,
      "outputs": []
    },
    {
      "cell_type": "code",
      "metadata": {
        "id": "0WNtaklDVsdy"
      },
      "source": [
        "(x_train, y_train), (x_test, y_test) = mnist.load_data('iris')"
      ],
      "execution_count": 143,
      "outputs": []
    },
    {
      "cell_type": "code",
      "metadata": {
        "colab": {
          "base_uri": "https://localhost:8080/"
        },
        "id": "JZakaD99be70",
        "outputId": "759f2c40-77d6-4721-f17a-65ecc16db812"
      },
      "source": [
        "x_train.shape, y_train.shape"
      ],
      "execution_count": 134,
      "outputs": [
        {
          "output_type": "execute_result",
          "data": {
            "text/plain": [
              "((60000, 28, 28), (60000,))"
            ]
          },
          "metadata": {
            "tags": []
          },
          "execution_count": 134
        }
      ]
    },
    {
      "cell_type": "markdown",
      "metadata": {
        "id": "MXaxWgR7GHQb"
      },
      "source": [
        "- 6만개 행과, (28, 28) shape를 가진 데이터\n",
        "- 6만개 정답 라벨로 [0], [1], [2] ... [9]의 데이터\n",
        "  + 1번 행의 정답은 5\n",
        "  + 2번 행의 정답은 0\n",
        "  + 3번 행의 정답은 4\n"
      ]
    },
    {
      "cell_type": "markdown",
      "metadata": {
        "id": "ppKZj3mJ_req"
      },
      "source": [
        "## 값 정규화"
      ]
    },
    {
      "cell_type": "code",
      "metadata": {
        "id": "R1RM2_a2tovA"
      },
      "source": [
        "x_train, x_test = x_train / 255., x_test / 255."
      ],
      "execution_count": null,
      "outputs": []
    },
    {
      "cell_type": "markdown",
      "metadata": {
        "id": "YXtY5izIj4Hp"
      },
      "source": [
        "- 최대값 255로 나누는 작업\n",
        "- 수치가 낮아짐\n",
        "- 특성은 유지됨"
      ]
    },
    {
      "cell_type": "code",
      "metadata": {
        "colab": {
          "base_uri": "https://localhost:8080/"
        },
        "id": "D9fXtqpWyCZM",
        "outputId": "3eacc695-6e4d-4ae7-ca68-b9b617a1cc59"
      },
      "source": [
        "y_train"
      ],
      "execution_count": null,
      "outputs": [
        {
          "output_type": "execute_result",
          "data": {
            "text/plain": [
              "array([5, 0, 4, ..., 5, 6, 8], dtype=uint8)"
            ]
          },
          "metadata": {
            "tags": []
          },
          "execution_count": 7
        }
      ]
    },
    {
      "cell_type": "markdown",
      "metadata": {
        "id": "RqbcdN9NHMBF"
      },
      "source": [
        "## Model 선언"
      ]
    },
    {
      "cell_type": "code",
      "metadata": {
        "id": "4WMO0lZ-boxC"
      },
      "source": [
        "class CustomModel(tf.keras.Model):\n",
        "  def __init__(self, lr):\n",
        "    super(CustomModel, self).__init__(name='CM')\n",
        "    self.flatten = tf.keras.layers.Flatten()\n",
        "    self.hidden = layers.Dense(kwargs.get('hidden_dimension', 256))\n",
        "    self.bat = layers.BatchNormalization()\n",
        "    self.act = layers.Activation(activation='swish')\n",
        "    self.dropout = tf.keras.layers.Dropout(rate=lr)\n",
        "    self.hidden2 = layers.Dense(kwargs.get('hidden2_dimension', 128))\n",
        "    self.bat2 = layers.BatchNormalization()\n",
        "    self.hidden3 = layers.Dense(kwargs.get('hidden3_dimension', 10), activation='softmax')\n",
        "    \n",
        "  def call(self, x):\n",
        "    print(f'모델에 처음 들어온 shape: {x.shape}')\n",
        "    x = self.flatten(x)\n",
        "    print(f'flatten 이후 shape: {x.shape}')\n",
        "    x = self.dropout(x)\n",
        "    x = self.hidden(x)\n",
        "    x = self.bat(x)\n",
        "    # print(x.shape)\n",
        "    x = self.act(x)\n",
        "    x = self.dropout(x)\n",
        "    x = self.hidden2(x)\n",
        "    # print(x.shape)\n",
        "    x = self.bat2(x)\n",
        "    x = self.act(x)\n",
        "    # print(x.shape)\n",
        "    x = self.hidden3(x)\n",
        "    return x\n",
        "\n",
        "kwargs = {\n",
        "    'hidden_dimension': 256,\n",
        "    'hidden2_dimension': 128,\n",
        "    'hidden3_dimension': 10\n",
        "}\n",
        "\n"
      ],
      "execution_count": null,
      "outputs": []
    },
    {
      "cell_type": "markdown",
      "metadata": {
        "id": "8WaQFNSKHKio"
      },
      "source": [
        "## model 학습\n"
      ]
    },
    {
      "cell_type": "code",
      "metadata": {
        "id": "-TbCMoiFHFW-",
        "colab": {
          "base_uri": "https://localhost:8080/"
        },
        "outputId": "6f217077-5a7f-433f-aa48-0de062a6e7e9"
      },
      "source": [
        "import numpy as np\n",
        "import pandas as pd\n",
        "\n",
        "y = {}\n",
        "df = pd.DataFrame(data=None, columns=['dropout', 'loss', 'accuracy'])\n",
        "\n",
        "history_df = pd.DataFrame(data=None, columns=['idx', 'accuracy', 'val_accuracy', 'loss', 'val_loss'])\n",
        "for i, lr in enumerate(np.arange(0, 1, .1)):\n",
        "  learning_rate = round(lr, 1)\n",
        "  model = CustomModel(round(learning_rate, 1))\n",
        "\n",
        "  model.compile(optimizer='adam',\n",
        "                loss='sparse_categorical_crossentropy',\n",
        "                metrics=['accuracy'])\n",
        "  \n",
        "  history = model.fit(x_train, y_train, \n",
        "                      batch_size=256, \n",
        "                      epochs=12, \n",
        "                      validation_data=(x_test, y_test),\n",
        "                      verbose=0)\n",
        "  \n",
        "  history_df = history_df.append({'accuracy': np.array(history.history['accuracy']).T, \n",
        "                                'val_accuracy': np.array(history.history['val_accuracy']).T, \n",
        "                                'loss': np.array(history.history['loss']).T, \n",
        "                                'val_loss': np.array(history.history['val_loss']).T},\n",
        "                                ignore_index=True)\n",
        "  \n",
        "  score = model.evaluate(x_test, y_test)\n",
        "  y[lr] = model.predict(x_test)\n",
        "  print('test accruacy', score[1])\n",
        "  df = df.append({'dropout': round(learning_rate, 1), 'loss': score[0], 'accuracy': score[1]}, ignore_index=True)"
      ],
      "execution_count": null,
      "outputs": [
        {
          "output_type": "stream",
          "text": [
            "모델에 처음 들어온 shape: (None, 28, 28)\n",
            "flatten 이후 shape: (None, 784)\n",
            "모델에 처음 들어온 shape: (None, 28, 28)\n",
            "flatten 이후 shape: (None, 784)\n",
            "모델에 처음 들어온 shape: (None, 28, 28)\n",
            "flatten 이후 shape: (None, 784)\n",
            "313/313 [==============================] - 0s 1ms/step - loss: 0.0733 - accuracy: 0.9806\n",
            "모델에 처음 들어온 shape: (None, 28, 28)\n",
            "flatten 이후 shape: (None, 784)\n",
            "test accruacy 0.9805999994277954\n",
            "모델에 처음 들어온 shape: (None, 28, 28)\n",
            "flatten 이후 shape: (None, 784)\n",
            "모델에 처음 들어온 shape: (None, 28, 28)\n",
            "flatten 이후 shape: (None, 784)\n",
            "모델에 처음 들어온 shape: (None, 28, 28)\n",
            "flatten 이후 shape: (None, 784)\n",
            "313/313 [==============================] - 0s 1ms/step - loss: 0.0638 - accuracy: 0.9811\n",
            "모델에 처음 들어온 shape: (None, 28, 28)\n",
            "flatten 이후 shape: (None, 784)\n",
            "test accruacy 0.9811000227928162\n",
            "모델에 처음 들어온 shape: (None, 28, 28)\n",
            "flatten 이후 shape: (None, 784)\n",
            "모델에 처음 들어온 shape: (None, 28, 28)\n",
            "flatten 이후 shape: (None, 784)\n",
            "모델에 처음 들어온 shape: (None, 28, 28)\n",
            "flatten 이후 shape: (None, 784)\n",
            "313/313 [==============================] - 0s 1ms/step - loss: 0.0596 - accuracy: 0.9812\n",
            "모델에 처음 들어온 shape: (None, 28, 28)\n",
            "flatten 이후 shape: (None, 784)\n",
            "test accruacy 0.9811999797821045\n",
            "모델에 처음 들어온 shape: (None, 28, 28)\n",
            "flatten 이후 shape: (None, 784)\n",
            "모델에 처음 들어온 shape: (None, 28, 28)\n",
            "flatten 이후 shape: (None, 784)\n",
            "모델에 처음 들어온 shape: (None, 28, 28)\n",
            "flatten 이후 shape: (None, 784)\n",
            "313/313 [==============================] - 0s 1ms/step - loss: 0.0576 - accuracy: 0.9808\n",
            "모델에 처음 들어온 shape: (None, 28, 28)\n",
            "flatten 이후 shape: (None, 784)\n",
            "test accruacy 0.9807999730110168\n",
            "모델에 처음 들어온 shape: (None, 28, 28)\n",
            "flatten 이후 shape: (None, 784)\n",
            "모델에 처음 들어온 shape: (None, 28, 28)\n",
            "flatten 이후 shape: (None, 784)\n",
            "모델에 처음 들어온 shape: (None, 28, 28)\n",
            "flatten 이후 shape: (None, 784)\n",
            "313/313 [==============================] - 0s 1ms/step - loss: 0.0674 - accuracy: 0.9775\n",
            "모델에 처음 들어온 shape: (None, 28, 28)\n",
            "flatten 이후 shape: (None, 784)\n",
            "test accruacy 0.9775000214576721\n",
            "모델에 처음 들어온 shape: (None, 28, 28)\n",
            "flatten 이후 shape: (None, 784)\n",
            "모델에 처음 들어온 shape: (None, 28, 28)\n",
            "flatten 이후 shape: (None, 784)\n",
            "모델에 처음 들어온 shape: (None, 28, 28)\n",
            "flatten 이후 shape: (None, 784)\n",
            "313/313 [==============================] - 0s 1ms/step - loss: 0.0900 - accuracy: 0.9705\n",
            "모델에 처음 들어온 shape: (None, 28, 28)\n",
            "flatten 이후 shape: (None, 784)\n",
            "test accruacy 0.9704999923706055\n",
            "모델에 처음 들어온 shape: (None, 28, 28)\n",
            "flatten 이후 shape: (None, 784)\n",
            "모델에 처음 들어온 shape: (None, 28, 28)\n",
            "flatten 이후 shape: (None, 784)\n",
            "모델에 처음 들어온 shape: (None, 28, 28)\n",
            "flatten 이후 shape: (None, 784)\n",
            "313/313 [==============================] - 0s 1ms/step - loss: 0.1158 - accuracy: 0.9640\n",
            "모델에 처음 들어온 shape: (None, 28, 28)\n",
            "flatten 이후 shape: (None, 784)\n",
            "test accruacy 0.9639999866485596\n",
            "모델에 처음 들어온 shape: (None, 28, 28)\n",
            "flatten 이후 shape: (None, 784)\n",
            "모델에 처음 들어온 shape: (None, 28, 28)\n",
            "flatten 이후 shape: (None, 784)\n",
            "모델에 처음 들어온 shape: (None, 28, 28)\n",
            "flatten 이후 shape: (None, 784)\n",
            "313/313 [==============================] - 0s 1ms/step - loss: 0.1663 - accuracy: 0.9499\n",
            "모델에 처음 들어온 shape: (None, 28, 28)\n",
            "flatten 이후 shape: (None, 784)\n",
            "test accruacy 0.9498999714851379\n",
            "모델에 처음 들어온 shape: (None, 28, 28)\n",
            "flatten 이후 shape: (None, 784)\n",
            "모델에 처음 들어온 shape: (None, 28, 28)\n",
            "flatten 이후 shape: (None, 784)\n",
            "모델에 처음 들어온 shape: (None, 28, 28)\n",
            "flatten 이후 shape: (None, 784)\n",
            "313/313 [==============================] - 0s 1ms/step - loss: 0.2742 - accuracy: 0.9225\n",
            "모델에 처음 들어온 shape: (None, 28, 28)\n",
            "flatten 이후 shape: (None, 784)\n",
            "test accruacy 0.9225000143051147\n",
            "모델에 처음 들어온 shape: (None, 28, 28)\n",
            "flatten 이후 shape: (None, 784)\n",
            "모델에 처음 들어온 shape: (None, 28, 28)\n",
            "flatten 이후 shape: (None, 784)\n",
            "모델에 처음 들어온 shape: (None, 28, 28)\n",
            "flatten 이후 shape: (None, 784)\n",
            "313/313 [==============================] - 0s 1ms/step - loss: 0.5877 - accuracy: 0.8581\n",
            "모델에 처음 들어온 shape: (None, 28, 28)\n",
            "flatten 이후 shape: (None, 784)\n",
            "test accruacy 0.8580999970436096\n"
          ],
          "name": "stdout"
        }
      ]
    },
    {
      "cell_type": "code",
      "metadata": {
        "colab": {
          "base_uri": "https://localhost:8080/",
          "height": 297
        },
        "id": "GoUElz_DU0Av",
        "outputId": "6473a909-9b7b-4c89-d609-2f06aa0d9c6d"
      },
      "source": [
        "df.describe()"
      ],
      "execution_count": null,
      "outputs": [
        {
          "output_type": "execute_result",
          "data": {
            "text/html": [
              "<div>\n",
              "<style scoped>\n",
              "    .dataframe tbody tr th:only-of-type {\n",
              "        vertical-align: middle;\n",
              "    }\n",
              "\n",
              "    .dataframe tbody tr th {\n",
              "        vertical-align: top;\n",
              "    }\n",
              "\n",
              "    .dataframe thead th {\n",
              "        text-align: right;\n",
              "    }\n",
              "</style>\n",
              "<table border=\"1\" class=\"dataframe\">\n",
              "  <thead>\n",
              "    <tr style=\"text-align: right;\">\n",
              "      <th></th>\n",
              "      <th>dropout</th>\n",
              "      <th>loss</th>\n",
              "      <th>accuracy</th>\n",
              "    </tr>\n",
              "  </thead>\n",
              "  <tbody>\n",
              "    <tr>\n",
              "      <th>count</th>\n",
              "      <td>10.000000</td>\n",
              "      <td>10.000000</td>\n",
              "      <td>10.00000</td>\n",
              "    </tr>\n",
              "    <tr>\n",
              "      <th>mean</th>\n",
              "      <td>0.450000</td>\n",
              "      <td>0.156227</td>\n",
              "      <td>0.95669</td>\n",
              "    </tr>\n",
              "    <tr>\n",
              "      <th>std</th>\n",
              "      <td>0.302765</td>\n",
              "      <td>0.164378</td>\n",
              "      <td>0.03790</td>\n",
              "    </tr>\n",
              "    <tr>\n",
              "      <th>min</th>\n",
              "      <td>0.000000</td>\n",
              "      <td>0.057250</td>\n",
              "      <td>0.86120</td>\n",
              "    </tr>\n",
              "    <tr>\n",
              "      <th>25%</th>\n",
              "      <td>0.225000</td>\n",
              "      <td>0.062157</td>\n",
              "      <td>0.95240</td>\n",
              "    </tr>\n",
              "    <tr>\n",
              "      <th>50%</th>\n",
              "      <td>0.450000</td>\n",
              "      <td>0.090485</td>\n",
              "      <td>0.97285</td>\n",
              "    </tr>\n",
              "    <tr>\n",
              "      <th>75%</th>\n",
              "      <td>0.675000</td>\n",
              "      <td>0.155170</td>\n",
              "      <td>0.97920</td>\n",
              "    </tr>\n",
              "    <tr>\n",
              "      <th>max</th>\n",
              "      <td>0.900000</td>\n",
              "      <td>0.583302</td>\n",
              "      <td>0.98240</td>\n",
              "    </tr>\n",
              "  </tbody>\n",
              "</table>\n",
              "</div>"
            ],
            "text/plain": [
              "         dropout       loss  accuracy\n",
              "count  10.000000  10.000000  10.00000\n",
              "mean    0.450000   0.156227   0.95669\n",
              "std     0.302765   0.164378   0.03790\n",
              "min     0.000000   0.057250   0.86120\n",
              "25%     0.225000   0.062157   0.95240\n",
              "50%     0.450000   0.090485   0.97285\n",
              "75%     0.675000   0.155170   0.97920\n",
              "max     0.900000   0.583302   0.98240"
            ]
          },
          "metadata": {
            "tags": []
          },
          "execution_count": 100
        }
      ]
    },
    {
      "cell_type": "code",
      "metadata": {
        "colab": {
          "base_uri": "https://localhost:8080/",
          "height": 302
        },
        "id": "3XMEpvQMPV0m",
        "outputId": "752be215-7ddd-4eeb-d8e2-d3dc5746ac85"
      },
      "source": [
        "df.plot.bar(x='dropout', y='loss')"
      ],
      "execution_count": null,
      "outputs": [
        {
          "output_type": "execute_result",
          "data": {
            "text/plain": [
              "<matplotlib.axes._subplots.AxesSubplot at 0x7f303c356470>"
            ]
          },
          "metadata": {
            "tags": []
          },
          "execution_count": 101
        },
        {
          "output_type": "display_data",
          "data": {
            "image/png": "[encoded data removed]",
            "text/plain": [
              "<Figure size 432x288 with 1 Axes>"
            ]
          },
          "metadata": {
            "tags": [],
            "needs_background": "light"
          }
        }
      ]
    },
    {
      "cell_type": "code",
      "metadata": {
        "colab": {
          "base_uri": "https://localhost:8080/",
          "height": 302
        },
        "id": "8U_q_QMuQDye",
        "outputId": "c9e3083d-7dc0-4a1c-ba6f-0561f24abf17"
      },
      "source": [
        "df.plot.bar(x='dropout', y='accuracy')"
      ],
      "execution_count": null,
      "outputs": [
        {
          "output_type": "execute_result",
          "data": {
            "text/plain": [
              "<matplotlib.axes._subplots.AxesSubplot at 0x7f303cbc3e48>"
            ]
          },
          "metadata": {
            "tags": []
          },
          "execution_count": 102
        },
        {
          "output_type": "display_data",
          "data": {
            "image/png": "[encoded data removed]",
            "text/plain": [
              "<Figure size 432x288 with 1 Axes>"
            ]
          },
          "metadata": {
            "tags": [],
            "needs_background": "light"
          }
        }
      ]
    },
    {
      "cell_type": "code",
      "metadata": {
        "colab": {
          "base_uri": "https://localhost:8080/"
        },
        "id": "mzWUZQ7PDmN0",
        "outputId": "d4137ce9-0046-4e8f-ed14-146c26c8d283"
      },
      "source": [
        "model.summary()"
      ],
      "execution_count": null,
      "outputs": [
        {
          "output_type": "stream",
          "text": [
            "Model: \"CM\"\n",
            "_________________________________________________________________\n",
            "Layer (type)                 Output Shape              Param #   \n",
            "=================================================================\n",
            "flatten_19 (Flatten)         multiple                  0         \n",
            "_________________________________________________________________\n",
            "dense_57 (Dense)             multiple                  200960    \n",
            "_________________________________________________________________\n",
            "batch_normalization_38 (Batc multiple                  1024      \n",
            "_________________________________________________________________\n",
            "activation_19 (Activation)   multiple                  0         \n",
            "_________________________________________________________________\n",
            "dropout_19 (Dropout)         multiple                  0         \n",
            "_________________________________________________________________\n",
            "dense_58 (Dense)             multiple                  32896     \n",
            "_________________________________________________________________\n",
            "batch_normalization_39 (Batc multiple                  512       \n",
            "_________________________________________________________________\n",
            "dense_59 (Dense)             multiple                  1290      \n",
            "=================================================================\n",
            "Total params: 236,682\n",
            "Trainable params: 235,914\n",
            "Non-trainable params: 768\n",
            "_________________________________________________________________\n"
          ],
          "name": "stdout"
        }
      ]
    }
  ]
}
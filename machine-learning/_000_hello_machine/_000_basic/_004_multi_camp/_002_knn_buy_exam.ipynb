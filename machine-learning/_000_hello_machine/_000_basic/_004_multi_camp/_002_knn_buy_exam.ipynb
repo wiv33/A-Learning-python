{
  "nbformat": 4,
  "nbformat_minor": 0,
  "metadata": {
    "colab": {
      "name": "multicamp/_002_knn_buy_exam.ipynb",
      "provenance": [],
      "collapsed_sections": [],
      "mount_file_id": "12VxX688JTqFWVDzueoq3QW4Iq9ror5V_",
      "authorship_tag": "ABX9TyO1XblQYpP0ACS1wrqN7dSi",
      "include_colab_link": true
    },
    "kernelspec": {
      "name": "python3",
      "display_name": "Python 3"
    }
  },
  "cells": [
    {
      "cell_type": "markdown",
      "metadata": {
        "id": "view-in-github",
        "colab_type": "text"
      },
      "source": [
        "<a href=\"https://colab.research.google.com/github/wiv33/A-Learning-python/blob/master/machine-learning/_000_hello_machine/_000_basic/_004_multi_camp/_002_knn_buy_exam.ipynb\" target=\"_parent\"><img src=\"https://colab.research.google.com/assets/colab-badge.svg\" alt=\"Open In Colab\"/></a>"
      ]
    },
    {
      "cell_type": "code",
      "metadata": {
        "id": "It3CJdG7ar8w",
        "colab_type": "code",
        "colab": {
          "base_uri": "https://localhost:8080/",
          "height": 270
        },
        "outputId": "e8a09738-f07a-4462-8126-830cf0d74ad5"
      },
      "source": [
        "import pandas as pd\n",
        "%matplotlib inline\n",
        "from google.colab import drive\n",
        "drive.mount('/content/gdrive')\n",
        "\n",
        "import matplotlib.pyplot as plt\n",
        "import numpy as np\n",
        "# iso-8859-1\n",
        "buy = pd.read_csv('/content/gdrive/My Drive/Colab Notebooks/data/ps_buy.csv', encoding='utf-8')\n",
        "buy"
      ],
      "execution_count": 79,
      "outputs": [
        {
          "output_type": "stream",
          "text": [
            "Drive already mounted at /content/gdrive; to attempt to forcibly remount, call drive.mount(\"/content/gdrive\", force_remount=True).\n"
          ],
          "name": "stdout"
        },
        {
          "output_type": "execute_result",
          "data": {
            "text/html": [
              "<div>\n",
              "<style scoped>\n",
              "    .dataframe tbody tr th:only-of-type {\n",
              "        vertical-align: middle;\n",
              "    }\n",
              "\n",
              "    .dataframe tbody tr th {\n",
              "        vertical-align: top;\n",
              "    }\n",
              "\n",
              "    .dataframe thead th {\n",
              "        text-align: right;\n",
              "    }\n",
              "</style>\n",
              "<table border=\"1\" class=\"dataframe\">\n",
              "  <thead>\n",
              "    <tr style=\"text-align: right;\">\n",
              "      <th></th>\n",
              "      <th>26</th>\n",
              "      <th>1600000</th>\n",
              "      <th>구매</th>\n",
              "    </tr>\n",
              "  </thead>\n",
              "  <tbody>\n",
              "    <tr>\n",
              "      <th>0</th>\n",
              "      <td>35</td>\n",
              "      <td>2100000</td>\n",
              "      <td>비구매</td>\n",
              "    </tr>\n",
              "    <tr>\n",
              "      <th>1</th>\n",
              "      <td>26</td>\n",
              "      <td>2200000</td>\n",
              "      <td>비구매</td>\n",
              "    </tr>\n",
              "    <tr>\n",
              "      <th>2</th>\n",
              "      <td>29</td>\n",
              "      <td>2600000</td>\n",
              "      <td>구매</td>\n",
              "    </tr>\n",
              "    <tr>\n",
              "      <th>3</th>\n",
              "      <td>22</td>\n",
              "      <td>1100000</td>\n",
              "      <td>비구매</td>\n",
              "    </tr>\n",
              "    <tr>\n",
              "      <th>4</th>\n",
              "      <td>28</td>\n",
              "      <td>2500000</td>\n",
              "      <td>구매</td>\n",
              "    </tr>\n",
              "    <tr>\n",
              "      <th>5</th>\n",
              "      <td>31</td>\n",
              "      <td>1700000</td>\n",
              "      <td>비구매</td>\n",
              "    </tr>\n",
              "  </tbody>\n",
              "</table>\n",
              "</div>"
            ],
            "text/plain": [
              "   26  1600000   구매\n",
              "0  35  2100000  비구매\n",
              "1  26  2200000  비구매\n",
              "2  29  2600000   구매\n",
              "3  22  1100000  비구매\n",
              "4  28  2500000   구매\n",
              "5  31  1700000  비구매"
            ]
          },
          "metadata": {
            "tags": []
          },
          "execution_count": 79
        }
      ]
    },
    {
      "cell_type": "code",
      "metadata": {
        "id": "xSg93TKFhDGu",
        "colab_type": "code",
        "colab": {}
      },
      "source": [
        "buy.columns = ['age', 'pay', 'buy_flag']"
      ],
      "execution_count": 102,
      "outputs": []
    },
    {
      "cell_type": "code",
      "metadata": {
        "id": "fFo4VBRhhHCm",
        "colab_type": "code",
        "colab": {
          "base_uri": "https://localhost:8080/",
          "height": 202
        },
        "outputId": "dcc9dd7a-0d86-411f-924b-cff078a37782"
      },
      "source": [
        "buy.head()"
      ],
      "execution_count": 103,
      "outputs": [
        {
          "output_type": "execute_result",
          "data": {
            "text/html": [
              "<div>\n",
              "<style scoped>\n",
              "    .dataframe tbody tr th:only-of-type {\n",
              "        vertical-align: middle;\n",
              "    }\n",
              "\n",
              "    .dataframe tbody tr th {\n",
              "        vertical-align: top;\n",
              "    }\n",
              "\n",
              "    .dataframe thead th {\n",
              "        text-align: right;\n",
              "    }\n",
              "</style>\n",
              "<table border=\"1\" class=\"dataframe\">\n",
              "  <thead>\n",
              "    <tr style=\"text-align: right;\">\n",
              "      <th></th>\n",
              "      <th>age</th>\n",
              "      <th>pay</th>\n",
              "      <th>buy_flag</th>\n",
              "    </tr>\n",
              "  </thead>\n",
              "  <tbody>\n",
              "    <tr>\n",
              "      <th>0</th>\n",
              "      <td>1.612452</td>\n",
              "      <td>0.131024</td>\n",
              "      <td>-0.707107</td>\n",
              "    </tr>\n",
              "    <tr>\n",
              "      <th>1</th>\n",
              "      <td>-0.620174</td>\n",
              "      <td>0.327561</td>\n",
              "      <td>-0.707107</td>\n",
              "    </tr>\n",
              "    <tr>\n",
              "      <th>2</th>\n",
              "      <td>0.124035</td>\n",
              "      <td>1.113707</td>\n",
              "      <td>1.414214</td>\n",
              "    </tr>\n",
              "    <tr>\n",
              "      <th>3</th>\n",
              "      <td>-1.612452</td>\n",
              "      <td>-1.834341</td>\n",
              "      <td>-0.707107</td>\n",
              "    </tr>\n",
              "    <tr>\n",
              "      <th>4</th>\n",
              "      <td>-0.124035</td>\n",
              "      <td>0.917170</td>\n",
              "      <td>1.414214</td>\n",
              "    </tr>\n",
              "  </tbody>\n",
              "</table>\n",
              "</div>"
            ],
            "text/plain": [
              "        age       pay  buy_flag\n",
              "0  1.612452  0.131024 -0.707107\n",
              "1 -0.620174  0.327561 -0.707107\n",
              "2  0.124035  1.113707  1.414214\n",
              "3 -1.612452 -1.834341 -0.707107\n",
              "4 -0.124035  0.917170  1.414214"
            ]
          },
          "metadata": {
            "tags": []
          },
          "execution_count": 103
        }
      ]
    },
    {
      "cell_type": "code",
      "metadata": {
        "id": "fg0R9P9rhQD2",
        "colab_type": "code",
        "colab": {
          "base_uri": "https://localhost:8080/",
          "height": 89
        },
        "outputId": "3ca3cada-7227-4038-aec3-ddde55644353"
      },
      "source": [
        "buy_int = np.array([0] * len(buy))  # 맨 마지막 열\n",
        "buy_int[buy.buy_flag == '구매'] = 1\n",
        "buy_int[buy.buy_flag == '비구매'] = 0\n",
        "buy_int"
      ],
      "execution_count": 104,
      "outputs": [
        {
          "output_type": "stream",
          "text": [
            "/usr/local/lib/python3.6/dist-packages/pandas/core/ops/array_ops.py:253: FutureWarning: elementwise comparison failed; returning scalar instead, but in the future will perform elementwise comparison\n",
            "  res_values = method(rvalues)\n"
          ],
          "name": "stderr"
        },
        {
          "output_type": "execute_result",
          "data": {
            "text/plain": [
              "array([0, 0, 0, 0, 0, 0])"
            ]
          },
          "metadata": {
            "tags": []
          },
          "execution_count": 104
        }
      ]
    },
    {
      "cell_type": "code",
      "metadata": {
        "id": "-rBzorTnh0nE",
        "colab_type": "code",
        "colab": {
          "base_uri": "https://localhost:8080/",
          "height": 233
        },
        "outputId": "4f087145-c9ec-47ee-fe97-3b74bff0a520"
      },
      "source": [
        "buy.buy_flag = buy_int\n",
        "test_buy = buy\n",
        "test_buy"
      ],
      "execution_count": 105,
      "outputs": [
        {
          "output_type": "execute_result",
          "data": {
            "text/html": [
              "<div>\n",
              "<style scoped>\n",
              "    .dataframe tbody tr th:only-of-type {\n",
              "        vertical-align: middle;\n",
              "    }\n",
              "\n",
              "    .dataframe tbody tr th {\n",
              "        vertical-align: top;\n",
              "    }\n",
              "\n",
              "    .dataframe thead th {\n",
              "        text-align: right;\n",
              "    }\n",
              "</style>\n",
              "<table border=\"1\" class=\"dataframe\">\n",
              "  <thead>\n",
              "    <tr style=\"text-align: right;\">\n",
              "      <th></th>\n",
              "      <th>age</th>\n",
              "      <th>pay</th>\n",
              "      <th>buy_flag</th>\n",
              "    </tr>\n",
              "  </thead>\n",
              "  <tbody>\n",
              "    <tr>\n",
              "      <th>0</th>\n",
              "      <td>1.612452</td>\n",
              "      <td>0.131024</td>\n",
              "      <td>0</td>\n",
              "    </tr>\n",
              "    <tr>\n",
              "      <th>1</th>\n",
              "      <td>-0.620174</td>\n",
              "      <td>0.327561</td>\n",
              "      <td>0</td>\n",
              "    </tr>\n",
              "    <tr>\n",
              "      <th>2</th>\n",
              "      <td>0.124035</td>\n",
              "      <td>1.113707</td>\n",
              "      <td>0</td>\n",
              "    </tr>\n",
              "    <tr>\n",
              "      <th>3</th>\n",
              "      <td>-1.612452</td>\n",
              "      <td>-1.834341</td>\n",
              "      <td>0</td>\n",
              "    </tr>\n",
              "    <tr>\n",
              "      <th>4</th>\n",
              "      <td>-0.124035</td>\n",
              "      <td>0.917170</td>\n",
              "      <td>0</td>\n",
              "    </tr>\n",
              "    <tr>\n",
              "      <th>5</th>\n",
              "      <td>0.620174</td>\n",
              "      <td>-0.655122</td>\n",
              "      <td>0</td>\n",
              "    </tr>\n",
              "  </tbody>\n",
              "</table>\n",
              "</div>"
            ],
            "text/plain": [
              "        age       pay  buy_flag\n",
              "0  1.612452  0.131024         0\n",
              "1 -0.620174  0.327561         0\n",
              "2  0.124035  1.113707         0\n",
              "3 -1.612452 -1.834341         0\n",
              "4 -0.124035  0.917170         0\n",
              "5  0.620174 -0.655122         0"
            ]
          },
          "metadata": {
            "tags": []
          },
          "execution_count": 105
        }
      ]
    },
    {
      "cell_type": "code",
      "metadata": {
        "id": "iT1bfEk5iHzg",
        "colab_type": "code",
        "colab": {}
      },
      "source": [
        "from sklearn.preprocessing import StandardScaler\n",
        "scaler = StandardScaler()\n",
        "scaler.fit(buy)\n",
        "\n",
        "buy = scaler.transform(buy)\n",
        "scaler.fit(buy)\n",
        "\n",
        "buy = pd.DataFrame(buy)"
      ],
      "execution_count": 106,
      "outputs": []
    },
    {
      "cell_type": "code",
      "metadata": {
        "id": "Klhe9jCEZtOe",
        "colab_type": "code",
        "colab": {
          "base_uri": "https://localhost:8080/",
          "height": 233
        },
        "outputId": "299f4725-febf-4ddd-d84e-e1773d217312"
      },
      "source": [
        "buy.columns = ['age', 'pay', 'buy_flag']\n",
        "buy"
      ],
      "execution_count": 107,
      "outputs": [
        {
          "output_type": "execute_result",
          "data": {
            "text/html": [
              "<div>\n",
              "<style scoped>\n",
              "    .dataframe tbody tr th:only-of-type {\n",
              "        vertical-align: middle;\n",
              "    }\n",
              "\n",
              "    .dataframe tbody tr th {\n",
              "        vertical-align: top;\n",
              "    }\n",
              "\n",
              "    .dataframe thead th {\n",
              "        text-align: right;\n",
              "    }\n",
              "</style>\n",
              "<table border=\"1\" class=\"dataframe\">\n",
              "  <thead>\n",
              "    <tr style=\"text-align: right;\">\n",
              "      <th></th>\n",
              "      <th>age</th>\n",
              "      <th>pay</th>\n",
              "      <th>buy_flag</th>\n",
              "    </tr>\n",
              "  </thead>\n",
              "  <tbody>\n",
              "    <tr>\n",
              "      <th>0</th>\n",
              "      <td>1.612452</td>\n",
              "      <td>0.131024</td>\n",
              "      <td>0.0</td>\n",
              "    </tr>\n",
              "    <tr>\n",
              "      <th>1</th>\n",
              "      <td>-0.620174</td>\n",
              "      <td>0.327561</td>\n",
              "      <td>0.0</td>\n",
              "    </tr>\n",
              "    <tr>\n",
              "      <th>2</th>\n",
              "      <td>0.124035</td>\n",
              "      <td>1.113707</td>\n",
              "      <td>0.0</td>\n",
              "    </tr>\n",
              "    <tr>\n",
              "      <th>3</th>\n",
              "      <td>-1.612452</td>\n",
              "      <td>-1.834341</td>\n",
              "      <td>0.0</td>\n",
              "    </tr>\n",
              "    <tr>\n",
              "      <th>4</th>\n",
              "      <td>-0.124035</td>\n",
              "      <td>0.917170</td>\n",
              "      <td>0.0</td>\n",
              "    </tr>\n",
              "    <tr>\n",
              "      <th>5</th>\n",
              "      <td>0.620174</td>\n",
              "      <td>-0.655122</td>\n",
              "      <td>0.0</td>\n",
              "    </tr>\n",
              "  </tbody>\n",
              "</table>\n",
              "</div>"
            ],
            "text/plain": [
              "        age       pay  buy_flag\n",
              "0  1.612452  0.131024       0.0\n",
              "1 -0.620174  0.327561       0.0\n",
              "2  0.124035  1.113707       0.0\n",
              "3 -1.612452 -1.834341       0.0\n",
              "4 -0.124035  0.917170       0.0\n",
              "5  0.620174 -0.655122       0.0"
            ]
          },
          "metadata": {
            "tags": []
          },
          "execution_count": 107
        }
      ]
    },
    {
      "cell_type": "code",
      "metadata": {
        "id": "_EYHPSdziydH",
        "colab_type": "code",
        "colab": {
          "base_uri": "https://localhost:8080/",
          "height": 157
        },
        "outputId": "cdfcd143-61eb-435f-88ea-27e0a0a7563d"
      },
      "source": [
        "X = buy.iloc[:, [1,2]].values\n",
        "Y = buy.iloc[:, 0].values\n",
        "\n",
        "x_test = test_buy.iloc[:, [1,2]].values\n",
        "y_test = test_buy.iloc[:, 0].values\n",
        "\n",
        "x_test, y_test"
      ],
      "execution_count": 108,
      "outputs": [
        {
          "output_type": "execute_result",
          "data": {
            "text/plain": [
              "(array([[ 0.13102436,  0.        ],\n",
              "        [ 0.32756089,  0.        ],\n",
              "        [ 1.11370703,  0.        ],\n",
              "        [-1.83434099,  0.        ],\n",
              "        [ 0.91717049,  0.        ],\n",
              "        [-0.65512178,  0.        ]]),\n",
              " array([ 1.61245155, -0.62017367,  0.12403473, -1.61245155, -0.12403473,\n",
              "         0.62017367]))"
            ]
          },
          "metadata": {
            "tags": []
          },
          "execution_count": 108
        }
      ]
    },
    {
      "cell_type": "markdown",
      "metadata": {
        "id": "LAidAHUCkDNn",
        "colab_type": "text"
      },
      "source": [
        "- 모델을 만들고 훈련시키기 시작"
      ]
    },
    {
      "cell_type": "code",
      "metadata": {
        "id": "GQoQ2ivaj-CQ",
        "colab_type": "code",
        "colab": {
          "base_uri": "https://localhost:8080/",
          "height": 69
        },
        "outputId": "df2d3d5d-497a-48c4-c1fd-8a7eaefee12e"
      },
      "source": [
        "from sklearn import neighbors\n",
        "\n",
        "model = neighbors.KNeighborsRegressor()\n",
        "model.fit(x_test, y_test)\n"
      ],
      "execution_count": 109,
      "outputs": [
        {
          "output_type": "execute_result",
          "data": {
            "text/plain": [
              "KNeighborsRegressor(algorithm='auto', leaf_size=30, metric='minkowski',\n",
              "                    metric_params=None, n_jobs=None, n_neighbors=5, p=2,\n",
              "                    weights='uniform')"
            ]
          },
          "metadata": {
            "tags": []
          },
          "execution_count": 109
        }
      ]
    },
    {
      "cell_type": "code",
      "metadata": {
        "id": "8KqNMhwfVFtf",
        "colab_type": "code",
        "colab": {
          "base_uri": "https://localhost:8080/",
          "height": 34
        },
        "outputId": "cb6c0fbb-e427-4d04-dd7c-1f80ee129bb8"
      },
      "source": [
        "# 결정계수 표시\n",
        "r2 = model.score(x_test, y_test)\n",
        "print(\"결정계수 \", r2)\n"
      ],
      "execution_count": 110,
      "outputs": [
        {
          "output_type": "stream",
          "text": [
            "결정계수  0.04533333333333355\n"
          ],
          "name": "stdout"
        }
      ]
    },
    {
      "cell_type": "code",
      "metadata": {
        "id": "Pqken8lHbK6L",
        "colab_type": "code",
        "colab": {
          "base_uri": "https://localhost:8080/",
          "height": 52
        },
        "outputId": "67e64d4b-70af-4977-8245-11a4e171c17c"
      },
      "source": [
        "result = model.predict(x_test)\n",
        "print(result)\n",
        "print(y_test)"
      ],
      "execution_count": 111,
      "outputs": [
        {
          "output_type": "stream",
          "text": [
            "[ 0.32249031  0.32249031  0.32249031 -0.02480695  0.32249031 -0.02480695]\n",
            "[ 1.61245155 -0.62017367  0.12403473 -1.61245155 -0.12403473  0.62017367]\n"
          ],
          "name": "stdout"
        }
      ]
    },
    {
      "cell_type": "code",
      "metadata": {
        "id": "oVsFiOwvbYrI",
        "colab_type": "code",
        "colab": {
          "base_uri": "https://localhost:8080/",
          "height": 265
        },
        "outputId": "758c65f0-b396-47d3-c34d-a000e8b0c848"
      },
      "source": [
        "# 시각화\n",
        "\n",
        "plt.scatter(test_buy.pay, y_test, marker='o', c='blue')\n",
        "plt.scatter(test_buy.pay, result, marker='o', c='red')\n",
        "plt.show()"
      ],
      "execution_count": 112,
      "outputs": [
        {
          "output_type": "display_data",
          "data": {
            "image/png": "[encoded data removed]",
            "text/plain": [
              "<Figure size 432x288 with 1 Axes>"
            ]
          },
          "metadata": {
            "tags": [],
            "needs_background": "light"
          }
        }
      ]
    }
  ]
}
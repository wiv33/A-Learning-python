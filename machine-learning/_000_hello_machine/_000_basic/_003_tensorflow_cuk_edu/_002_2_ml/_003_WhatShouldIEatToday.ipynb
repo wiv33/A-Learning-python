{
  "nbformat": 4,
  "nbformat_minor": 0,
  "metadata": {
    "colab": {
      "name": "cuk_edu/_004_WhatShouldIEatToday.ipynb",
      "provenance": [],
      "collapsed_sections": [],
      "toc_visible": true,
      "mount_file_id": "12wL8vKWjFQNSs7fLuhUZImCAk0jl6uVT",
      "authorship_tag": "ABX9TyMjxz61ttukDj0M66bNrDIf",
      "include_colab_link": true
    },
    "kernelspec": {
      "name": "python3",
      "display_name": "Python 3"
    }
  },
  "cells": [
    {
      "cell_type": "markdown",
      "metadata": {
        "id": "view-in-github",
        "colab_type": "text"
      },
      "source": [
        "<a href=\"https://colab.research.google.com/github/wiv33/A-Learning-python/blob/master/machine-learning/_000_hello_machine/_000_basic/_003_tensorflow_cuk_edu/_002_2_ml/_003_WhatShouldIEatToday.ipynb\" target=\"_parent\"><img src=\"https://colab.research.google.com/assets/colab-badge.svg\" alt=\"Open In Colab\"/></a>"
      ]
    },
    {
      "cell_type": "markdown",
      "metadata": {
        "id": "v2nGZAAc24Ua"
      },
      "source": [
        "# What should I eat today?"
      ]
    },
    {
      "cell_type": "markdown",
      "metadata": {
        "id": "cPhrpcaee6d2"
      },
      "source": [
        "# 데이터 로드하기\n",
        "\n",
        "- 2019-08 ~ 2020-10\n",
        "전화 데이터 : 연령대, 성별, 음식점\n",
        "날씨 데이터 : 강수량, 눈, 최고, 최저, 평균, 기온"
      ]
    },
    {
      "cell_type": "code",
      "metadata": {
        "id": "jnB5ekd-f_-s"
      },
      "source": [
        "file_names = [\"call_1908.csv\", \"call_1909.csv\", \"call_1910.csv\", \"call_1911.csv\", \"call_1912.csv\", \"call_2001.csv\", \"call_2002.csv\", \"call_2003.csv\", \"call_2004.csv\", \"call_2005.csv\", \"call_2006.csv\", \"call_2007.csv\", \"call_2008.csv\", \"call_2009.csv\", \"call_2010.csv\", \"weahter_final.csv\"]\n",
        "data_location = [\"1AOYLpP9B6oUrlFz1S2B_-JlNXiwb2uLM\", \"1tSHjQ_Rf5H2dpLHtczVdKxX11avKovfL\", \"1gFPdMlf8tcxXMepm95I99SNRjjAlG3WQ\", \"1aqKZqEe8I8_rBB5ZP2aeJScu7rremoXG\", \"1l-_5WIDKx5f4JFMUg8SNM67foJJ6A6p6\", \"1wCnAcveLXq-v7oyAT3v3YRyCfsjkGtxG\", \"1EtbBjzwbCQ170yLQemp479z0TOZKHIOr\", \"1DBJTRHIPXmEpgas6kCwAYnnJ159sz9UV\", \"1mM-uhJtfNQ652Mo_r_eyE33RBnXl___h\", \"1IMTwqb3_jbFJ9XCYdkHkbewudG_FrNx9\", \"1AKkNRz-xt5aMqa_knBZ3XBznNoIsLAXL\", \"18xVBK0Rw1nPQfZaZ8Nzvt5gUphsbusyZ\", \"1IAMjjlFJ_B_3cHvaD-rKZfE0xU7TvDMy\", \"1bDNdRiKe14PcsMQi_jUwmBQAR0bxvio8\", \"15IBcX9TM11BEnHZ4qbdwLgN-Sus3oBVF\", \"1g-7eeYV6ok3aOrsjNwF5oiugfYmeSZHn\"]\n",
        "\n",
        "files = [(file_names[x], data_location[x]) for x in range(len(file_names))]\n",
        "calls = files[:-1]\n",
        "weather = files[-1]"
      ],
      "execution_count": 1,
      "outputs": []
    },
    {
      "cell_type": "code",
      "metadata": {
        "colab": {
          "base_uri": "https://localhost:8080/"
        },
        "id": "I0smShXVkKhm",
        "outputId": "dcae199a-8d26-4127-ba0e-658cdd1ec673"
      },
      "source": [
        "calls"
      ],
      "execution_count": 2,
      "outputs": [
        {
          "output_type": "execute_result",
          "data": {
            "text/plain": [
              "[('call_1908.csv', '1AOYLpP9B6oUrlFz1S2B_-JlNXiwb2uLM'),\n",
              " ('call_1909.csv', '1tSHjQ_Rf5H2dpLHtczVdKxX11avKovfL'),\n",
              " ('call_1910.csv', '1gFPdMlf8tcxXMepm95I99SNRjjAlG3WQ'),\n",
              " ('call_1911.csv', '1aqKZqEe8I8_rBB5ZP2aeJScu7rremoXG'),\n",
              " ('call_1912.csv', '1l-_5WIDKx5f4JFMUg8SNM67foJJ6A6p6'),\n",
              " ('call_2001.csv', '1wCnAcveLXq-v7oyAT3v3YRyCfsjkGtxG'),\n",
              " ('call_2002.csv', '1EtbBjzwbCQ170yLQemp479z0TOZKHIOr'),\n",
              " ('call_2003.csv', '1DBJTRHIPXmEpgas6kCwAYnnJ159sz9UV'),\n",
              " ('call_2004.csv', '1mM-uhJtfNQ652Mo_r_eyE33RBnXl___h'),\n",
              " ('call_2005.csv', '1IMTwqb3_jbFJ9XCYdkHkbewudG_FrNx9'),\n",
              " ('call_2006.csv', '1AKkNRz-xt5aMqa_knBZ3XBznNoIsLAXL'),\n",
              " ('call_2007.csv', '18xVBK0Rw1nPQfZaZ8Nzvt5gUphsbusyZ'),\n",
              " ('call_2008.csv', '1IAMjjlFJ_B_3cHvaD-rKZfE0xU7TvDMy'),\n",
              " ('call_2009.csv', '1bDNdRiKe14PcsMQi_jUwmBQAR0bxvio8'),\n",
              " ('call_2010.csv', '15IBcX9TM11BEnHZ4qbdwLgN-Sus3oBVF')]"
            ]
          },
          "metadata": {
            "tags": []
          },
          "execution_count": 2
        }
      ]
    },
    {
      "cell_type": "code",
      "metadata": {
        "colab": {
          "base_uri": "https://localhost:8080/"
        },
        "id": "eAjgv8IykmhA",
        "outputId": "836878e9-d58e-4e24-cbb8-f01d6bcff37d"
      },
      "source": [
        "weather"
      ],
      "execution_count": 3,
      "outputs": [
        {
          "output_type": "execute_result",
          "data": {
            "text/plain": [
              "('weahter_final.csv', '1g-7eeYV6ok3aOrsjNwF5oiugfYmeSZHn')"
            ]
          },
          "metadata": {
            "tags": []
          },
          "execution_count": 3
        }
      ]
    },
    {
      "cell_type": "markdown",
      "metadata": {
        "id": "XY4rGPCBkqXX"
      },
      "source": [
        "## 데이터 파일 읽어오기\n",
        "\n",
        "하나의 공유 파일을 불러와 column을 출력한다."
      ]
    },
    {
      "cell_type": "code",
      "metadata": {
        "id": "LZ9d65DjmKlK"
      },
      "source": [
        "import pandas as pd"
      ],
      "execution_count": 4,
      "outputs": []
    },
    {
      "cell_type": "code",
      "metadata": {
        "id": "-EXxnvPCmAmA"
      },
      "source": [
        "# id = \"1AOYLpP9B6oUrlFz1S2B_-JlNXiwb2uLM\"\n",
        "# df = pd.read_csv(f\"https://drive.google.com/uc?id={id}&authuser=0&export=download\")"
      ],
      "execution_count": 5,
      "outputs": []
    },
    {
      "cell_type": "code",
      "metadata": {
        "colab": {
          "base_uri": "https://localhost:8080/"
        },
        "id": "nfikd0RSpWAd",
        "outputId": "5898ee9f-b529-4e98-9ca2-268cb253391e"
      },
      "source": [
        "# df.columns\r\n",
        "df_columns = ['일자(YYYYMMDD)', '연령', '성별', '발신지(시도)', '발신지(시군구)', '대분류', '중분류',\r\n",
        "       '통화비율(시군구내)']\r\n",
        "df_columns"
      ],
      "execution_count": 16,
      "outputs": [
        {
          "output_type": "execute_result",
          "data": {
            "text/plain": [
              "['일자(YYYYMMDD)', '연령', '성별', '발신지(시도)', '발신지(시군구)', '대분류', '중분류', '통화비율(시군구내)']"
            ]
          },
          "metadata": {
            "tags": []
          },
          "execution_count": 16
        }
      ]
    },
    {
      "cell_type": "markdown",
      "metadata": {
        "id": "TOFH__Mtr1Yw"
      },
      "source": [
        "판다스에 축적하기"
      ]
    },
    {
      "cell_type": "code",
      "metadata": {
        "id": "6b8xJKMZizEm"
      },
      "source": [
        "import pandas as pd"
      ],
      "execution_count": 7,
      "outputs": []
    },
    {
      "cell_type": "code",
      "metadata": {
        "id": "ujt5JMgtps81"
      },
      "source": [
        "def downloadUrl(id):\n",
        "  return f\"https://drive.google.com/uc?id={id}&authuser=0&export=download\"\n",
        "\n",
        "def accumulateDataFrame(acc_df: pd.DataFrame, doc_ids: []) -> pd.DataFrame:\n",
        "  if type(doc_ids) != list:  # list 형태로 만들어서 입력받아야 함.\n",
        "    print(\"구글 ID를 모은 `리스트`가 필요합니다. ex) [ids]\")\n",
        "    return\n",
        "\n",
        "  for name, id in doc_ids:  # doc_ids file 다운로드 및 append 작업\n",
        "  # 총 세 단계\n",
        "    acc_df = acc_df.append(pd.read_csv(downloadUrl(id)),\n",
        "                           ignore_index=True)\n",
        "\n",
        "  return acc_df.copy()  # 복사본을 만들어 반환한다."
      ],
      "execution_count": 8,
      "outputs": []
    },
    {
      "cell_type": "markdown",
      "metadata": {
        "id": "A9ibo8rTsJC9"
      },
      "source": [
        "- 컬럼이 선언된 DataFrame, 구글 id 리스트를 입력받아 하나로 축적\n",
        "- 세 단계:\n",
        "  1. pd.read_csv로 파일을 불러와 DataFrame으로 만든다.\n",
        "  2. 기존 DataFrame에 추가(새로운 DataFrame 형성)하고\n",
        "  3. 새로운 DataFrame으로 교체한다."
      ]
    },
    {
      "cell_type": "code",
      "metadata": {
        "id": "7dGa_HWip9Ag"
      },
      "source": [
        "init_df = pd.DataFrame(data=None, columns=['일자(YYYYMMDD)', '연령', '성별', \n",
        "                                      '발신지(시도)', '발신지(시군구)', \n",
        "                                      '대분류', '중분류', \n",
        "                                      '통화비율(시군구내)'])\n",
        "init_df = accumulateDataFrame(init_df, calls)"
      ],
      "execution_count": 9,
      "outputs": []
    },
    {
      "cell_type": "code",
      "metadata": {
        "colab": {
          "base_uri": "https://localhost:8080/"
        },
        "id": "y4-WVsUyrXDH",
        "outputId": "a26dfada-44f2-4aed-f1a7-61dd12a74c76"
      },
      "source": [
        "init_df.info()"
      ],
      "execution_count": 10,
      "outputs": [
        {
          "output_type": "stream",
          "text": [
            "<class 'pandas.core.frame.DataFrame'>\n",
            "RangeIndex: 8471741 entries, 0 to 8471740\n",
            "Data columns (total 8 columns):\n",
            " #   Column        Dtype  \n",
            "---  ------        -----  \n",
            " 0   일자(YYYYMMDD)  object \n",
            " 1   연령            object \n",
            " 2   성별            object \n",
            " 3   발신지(시도)       object \n",
            " 4   발신지(시군구)      object \n",
            " 5   대분류           object \n",
            " 6   중분류           object \n",
            " 7   통화비율(시군구내)    float64\n",
            "dtypes: float64(1), object(7)\n",
            "memory usage: 517.1+ MB\n"
          ],
          "name": "stdout"
        }
      ]
    },
    {
      "cell_type": "code",
      "metadata": {
        "colab": {
          "base_uri": "https://localhost:8080/",
          "height": 204
        },
        "id": "N2oydsZyqYtM",
        "outputId": "cb5a06e4-6899-4cdf-f32e-21f424cf2438"
      },
      "source": [
        "init_df.head()"
      ],
      "execution_count": 11,
      "outputs": [
        {
          "output_type": "execute_result",
          "data": {
            "text/html": [
              "<div>\n",
              "<style scoped>\n",
              "    .dataframe tbody tr th:only-of-type {\n",
              "        vertical-align: middle;\n",
              "    }\n",
              "\n",
              "    .dataframe tbody tr th {\n",
              "        vertical-align: top;\n",
              "    }\n",
              "\n",
              "    .dataframe thead th {\n",
              "        text-align: right;\n",
              "    }\n",
              "</style>\n",
              "<table border=\"1\" class=\"dataframe\">\n",
              "  <thead>\n",
              "    <tr style=\"text-align: right;\">\n",
              "      <th></th>\n",
              "      <th>일자(YYYYMMDD)</th>\n",
              "      <th>연령</th>\n",
              "      <th>성별</th>\n",
              "      <th>발신지(시도)</th>\n",
              "      <th>발신지(시군구)</th>\n",
              "      <th>대분류</th>\n",
              "      <th>중분류</th>\n",
              "      <th>통화비율(시군구내)</th>\n",
              "    </tr>\n",
              "  </thead>\n",
              "  <tbody>\n",
              "    <tr>\n",
              "      <th>0</th>\n",
              "      <td>20190801</td>\n",
              "      <td>60</td>\n",
              "      <td>남성</td>\n",
              "      <td>강원</td>\n",
              "      <td>강릉시</td>\n",
              "      <td>생활편의</td>\n",
              "      <td>생활편의</td>\n",
              "      <td>0.0003</td>\n",
              "    </tr>\n",
              "    <tr>\n",
              "      <th>1</th>\n",
              "      <td>20190801</td>\n",
              "      <td>40</td>\n",
              "      <td>남성</td>\n",
              "      <td>강원</td>\n",
              "      <td>강릉시</td>\n",
              "      <td>음식점</td>\n",
              "      <td>한식</td>\n",
              "      <td>0.0004</td>\n",
              "    </tr>\n",
              "    <tr>\n",
              "      <th>2</th>\n",
              "      <td>20190801</td>\n",
              "      <td>50</td>\n",
              "      <td>남성</td>\n",
              "      <td>강원</td>\n",
              "      <td>강릉시</td>\n",
              "      <td>여행</td>\n",
              "      <td>숙박</td>\n",
              "      <td>0.0004</td>\n",
              "    </tr>\n",
              "    <tr>\n",
              "      <th>3</th>\n",
              "      <td>20190801</td>\n",
              "      <td>40</td>\n",
              "      <td>남성</td>\n",
              "      <td>강원</td>\n",
              "      <td>강릉시</td>\n",
              "      <td>서비스산업</td>\n",
              "      <td>제조업</td>\n",
              "      <td>0.0001</td>\n",
              "    </tr>\n",
              "    <tr>\n",
              "      <th>4</th>\n",
              "      <td>20190801</td>\n",
              "      <td>40</td>\n",
              "      <td>여성</td>\n",
              "      <td>강원</td>\n",
              "      <td>강릉시</td>\n",
              "      <td>서비스산업</td>\n",
              "      <td>공공기업</td>\n",
              "      <td>0.0001</td>\n",
              "    </tr>\n",
              "  </tbody>\n",
              "</table>\n",
              "</div>"
            ],
            "text/plain": [
              "  일자(YYYYMMDD)  연령  성별 발신지(시도) 발신지(시군구)    대분류   중분류  통화비율(시군구내)\n",
              "0     20190801  60  남성      강원      강릉시   생활편의  생활편의      0.0003\n",
              "1     20190801  40  남성      강원      강릉시    음식점    한식      0.0004\n",
              "2     20190801  50  남성      강원      강릉시     여행    숙박      0.0004\n",
              "3     20190801  40  남성      강원      강릉시  서비스산업   제조업      0.0001\n",
              "4     20190801  40  여성      강원      강릉시  서비스산업  공공기업      0.0001"
            ]
          },
          "metadata": {
            "tags": []
          },
          "execution_count": 11
        }
      ]
    },
    {
      "cell_type": "markdown",
      "metadata": {
        "id": "BI16PePHqbDx"
      },
      "source": [
        "+ 대분류 `음식점`인 카테고리의 `중분류` 활용"
      ]
    },
    {
      "cell_type": "code",
      "metadata": {
        "colab": {
          "base_uri": "https://localhost:8080/"
        },
        "id": "RpdJbhZg0CiW",
        "outputId": "32764758-22f7-4814-dcea-9f675265cff6"
      },
      "source": [
        "print(\"NaN 개수 확인\")\n",
        "print(f\"일시: {df_w.iloc[:, 2].isna().sum()}개\")\n",
        "print(f\"평균기온: {df_w.iloc[:, 3].isna().sum()}개\")\n",
        "print(f\"최저기온: {df_w.iloc[:, 4].isna().sum()}개\")\n",
        "print(f\"최고기온: {df_w.iloc[:, 5].isna().sum()}개\")\n",
        "print(f\"평균 풍속: {df_w.iloc[:, 8].isna().sum()}개\")\n",
        "print(f\"현지 기압: {df_w.iloc[:, 9].isna().sum()}개\")\n",
        "print(f\"합계 일조시간: {df_w.iloc[:, 10].isna().sum()}개\")"
      ],
      "execution_count": 14,
      "outputs": [
        {
          "output_type": "stream",
          "text": [
            "NaN 개수 확인\n",
            "일시: 0개\n",
            "평균기온: 53개\n",
            "최저기온: 8개\n",
            "최고기온: 5개\n",
            "평균 풍속: 52개\n",
            "현지 기압: 87개\n",
            "합계 일조시간: 78개\n"
          ],
          "name": "stdout"
        }
      ]
    },
    {
      "cell_type": "markdown",
      "metadata": {
        "id": "nWZyWnyr0wzT"
      },
      "source": [
        "- 평균, 최저, 최고 `기온` => 어제 + 내일의 평균 값으로 대체\n",
        "- 평균 풍속 => 0처리\n",
        "- 현지 기압 => 어제 + 내일의 평균 값으로 대체\n",
        "- 합계 일조시간 => 어제 + 내일의 평균 값으로 대체"
      ]
    },
    {
      "cell_type": "markdown",
      "metadata": {
        "id": "TEkatv1jv0uJ"
      },
      "source": [
        "# 통화 데이터 정제\n",
        "\n",
        "1. 통화 내역에서 음식점만 추출하기\n",
        "\n",
        "2. 음식점 데이터 가공하기\n",
        "\n",
        "3. 년월일을 날짜 형식으로 변환하기\n",
        "\n",
        "4. 일-토 추가하기\n",
        "\n",
        "5. 성별 1(남), 2(여)로 , 나이 int type으로 변환하기\n",
        "\n",
        "6. 대분류 지우기\n",
        "\n",
        "7. ~~발신지 + 날씨 지역과 합친 후 삭제하기~~"
      ]
    },
    {
      "cell_type": "markdown",
      "metadata": {
        "id": "xl-BBWZHHlnQ"
      },
      "source": [
        "## 1. 사용할 `음식점` 추출하기"
      ]
    },
    {
      "cell_type": "code",
      "metadata": {
        "colab": {
          "base_uri": "https://localhost:8080/",
          "height": 419
        },
        "id": "ikbNgpY_12e5",
        "outputId": "c594bc4a-e2a5-46d2-a1af-5b7d79f06066"
      },
      "source": [
        "df = init_df.groupby(['대분류']).get_group('음식점')\r\n",
        "df"
      ],
      "execution_count": 69,
      "outputs": [
        {
          "output_type": "execute_result",
          "data": {
            "text/html": [
              "<div>\n",
              "<style scoped>\n",
              "    .dataframe tbody tr th:only-of-type {\n",
              "        vertical-align: middle;\n",
              "    }\n",
              "\n",
              "    .dataframe tbody tr th {\n",
              "        vertical-align: top;\n",
              "    }\n",
              "\n",
              "    .dataframe thead th {\n",
              "        text-align: right;\n",
              "    }\n",
              "</style>\n",
              "<table border=\"1\" class=\"dataframe\">\n",
              "  <thead>\n",
              "    <tr style=\"text-align: right;\">\n",
              "      <th></th>\n",
              "      <th>일자(YYYYMMDD)</th>\n",
              "      <th>연령</th>\n",
              "      <th>성별</th>\n",
              "      <th>발신지(시도)</th>\n",
              "      <th>발신지(시군구)</th>\n",
              "      <th>대분류</th>\n",
              "      <th>중분류</th>\n",
              "      <th>통화비율(시군구내)</th>\n",
              "    </tr>\n",
              "  </thead>\n",
              "  <tbody>\n",
              "    <tr>\n",
              "      <th>1</th>\n",
              "      <td>20190801</td>\n",
              "      <td>40</td>\n",
              "      <td>남성</td>\n",
              "      <td>강원</td>\n",
              "      <td>강릉시</td>\n",
              "      <td>음식점</td>\n",
              "      <td>한식</td>\n",
              "      <td>0.0004</td>\n",
              "    </tr>\n",
              "    <tr>\n",
              "      <th>9</th>\n",
              "      <td>20190801</td>\n",
              "      <td>40</td>\n",
              "      <td>남성</td>\n",
              "      <td>강원</td>\n",
              "      <td>강릉시</td>\n",
              "      <td>음식점</td>\n",
              "      <td>중식</td>\n",
              "      <td>0.0002</td>\n",
              "    </tr>\n",
              "    <tr>\n",
              "      <th>10</th>\n",
              "      <td>20190801</td>\n",
              "      <td>40</td>\n",
              "      <td>여성</td>\n",
              "      <td>강원</td>\n",
              "      <td>강릉시</td>\n",
              "      <td>음식점</td>\n",
              "      <td>양식</td>\n",
              "      <td>0.0001</td>\n",
              "    </tr>\n",
              "    <tr>\n",
              "      <th>16</th>\n",
              "      <td>20190801</td>\n",
              "      <td>30</td>\n",
              "      <td>남성</td>\n",
              "      <td>강원</td>\n",
              "      <td>강릉시</td>\n",
              "      <td>음식점</td>\n",
              "      <td>중식</td>\n",
              "      <td>0.0001</td>\n",
              "    </tr>\n",
              "    <tr>\n",
              "      <th>19</th>\n",
              "      <td>20190801</td>\n",
              "      <td>60</td>\n",
              "      <td>남성</td>\n",
              "      <td>강원</td>\n",
              "      <td>강릉시</td>\n",
              "      <td>음식점</td>\n",
              "      <td>한식</td>\n",
              "      <td>0.0002</td>\n",
              "    </tr>\n",
              "    <tr>\n",
              "      <th>...</th>\n",
              "      <td>...</td>\n",
              "      <td>...</td>\n",
              "      <td>...</td>\n",
              "      <td>...</td>\n",
              "      <td>...</td>\n",
              "      <td>...</td>\n",
              "      <td>...</td>\n",
              "      <td>...</td>\n",
              "    </tr>\n",
              "    <tr>\n",
              "      <th>8471720</th>\n",
              "      <td>20201023</td>\n",
              "      <td>30</td>\n",
              "      <td>남성</td>\n",
              "      <td>충북</td>\n",
              "      <td>청주시</td>\n",
              "      <td>음식점</td>\n",
              "      <td>치킨</td>\n",
              "      <td>0.0001</td>\n",
              "    </tr>\n",
              "    <tr>\n",
              "      <th>8471725</th>\n",
              "      <td>20201023</td>\n",
              "      <td>40</td>\n",
              "      <td>여성</td>\n",
              "      <td>충북</td>\n",
              "      <td>청주시</td>\n",
              "      <td>음식점</td>\n",
              "      <td>치킨</td>\n",
              "      <td>0.0002</td>\n",
              "    </tr>\n",
              "    <tr>\n",
              "      <th>8471728</th>\n",
              "      <td>20201008</td>\n",
              "      <td>40</td>\n",
              "      <td>여성</td>\n",
              "      <td>충북</td>\n",
              "      <td>청주시</td>\n",
              "      <td>음식점</td>\n",
              "      <td>한식</td>\n",
              "      <td>0.0003</td>\n",
              "    </tr>\n",
              "    <tr>\n",
              "      <th>8471730</th>\n",
              "      <td>20201001</td>\n",
              "      <td>40</td>\n",
              "      <td>여성</td>\n",
              "      <td>충북</td>\n",
              "      <td>청주시</td>\n",
              "      <td>음식점</td>\n",
              "      <td>한식</td>\n",
              "      <td>0.0002</td>\n",
              "    </tr>\n",
              "    <tr>\n",
              "      <th>8471732</th>\n",
              "      <td>20201010</td>\n",
              "      <td>40</td>\n",
              "      <td>여성</td>\n",
              "      <td>충북</td>\n",
              "      <td>청주시</td>\n",
              "      <td>음식점</td>\n",
              "      <td>치킨</td>\n",
              "      <td>0.0002</td>\n",
              "    </tr>\n",
              "  </tbody>\n",
              "</table>\n",
              "<p>1516970 rows × 8 columns</p>\n",
              "</div>"
            ],
            "text/plain": [
              "        일자(YYYYMMDD)  연령  성별 발신지(시도) 발신지(시군구)  대분류 중분류  통화비율(시군구내)\n",
              "1           20190801  40  남성      강원      강릉시  음식점  한식      0.0004\n",
              "9           20190801  40  남성      강원      강릉시  음식점  중식      0.0002\n",
              "10          20190801  40  여성      강원      강릉시  음식점  양식      0.0001\n",
              "16          20190801  30  남성      강원      강릉시  음식점  중식      0.0001\n",
              "19          20190801  60  남성      강원      강릉시  음식점  한식      0.0002\n",
              "...              ...  ..  ..     ...      ...  ...  ..         ...\n",
              "8471720     20201023  30  남성      충북      청주시  음식점  치킨      0.0001\n",
              "8471725     20201023  40  여성      충북      청주시  음식점  치킨      0.0002\n",
              "8471728     20201008  40  여성      충북      청주시  음식점  한식      0.0003\n",
              "8471730     20201001  40  여성      충북      청주시  음식점  한식      0.0002\n",
              "8471732     20201010  40  여성      충북      청주시  음식점  치킨      0.0002\n",
              "\n",
              "[1516970 rows x 8 columns]"
            ]
          },
          "metadata": {
            "tags": []
          },
          "execution_count": 69
        }
      ]
    },
    {
      "cell_type": "markdown",
      "metadata": {
        "id": "zwVLDS-fAShr"
      },
      "source": [
        "대략 150만 건이 있다.\r\n",
        "\r\n",
        "사용할 수 있는 음식점과 임의로 변형할 데이터를 탐색해보자."
      ]
    },
    {
      "cell_type": "markdown",
      "metadata": {
        "id": "jbK-mm5VIvbz"
      },
      "source": [
        "## 2. 음식점 데이터 `가공하기`"
      ]
    },
    {
      "cell_type": "code",
      "metadata": {
        "colab": {
          "base_uri": "https://localhost:8080/"
        },
        "id": "VwyYj48h_xb0",
        "outputId": "0162e25f-b329-4144-fe2b-32e1286e8e06"
      },
      "source": [
        "df.groupby('중분류').size()"
      ],
      "execution_count": 70,
      "outputs": [
        {
          "output_type": "execute_result",
          "data": {
            "text/plain": [
              "중분류\n",
              "간식           1656\n",
              "기사식당            3\n",
              "도시락           560\n",
              "배달음식점          12\n",
              "분식          55786\n",
              "뷔페            138\n",
              "술집            269\n",
              "야식              2\n",
              "양식          17331\n",
              "음식점          1086\n",
              "일식            863\n",
              "중식         191265\n",
              "치킨         405202\n",
              "카페          19094\n",
              "패밀리레스토랑        14\n",
              "패스트푸드         757\n",
              "퓨전요리            1\n",
              "한식         822931\n",
              "dtype: int64"
            ]
          },
          "metadata": {
            "tags": []
          },
          "execution_count": 70
        }
      ]
    },
    {
      "cell_type": "markdown",
      "metadata": {
        "id": "CdCxpStnAeEi"
      },
      "source": [
        "- 애매한 표현\r\n",
        "  + 간식\r\n",
        "  + 배달음식점\r\n",
        "  + 야식\r\n",
        "  + 음식점\r\n",
        "  + 기사식당\r\n",
        "  + 술집\r\n",
        "  + 도시락\r\n",
        "\r\n",
        "위 표현들은 음식을 추천해줄 때 매우 난해하다.\r\n",
        "\r\n",
        "> ex) \r\n",
        ">\r\n",
        "> > 오늘 당신에게 추천할 음식은 **간식**입니다.\r\n",
        ">\r\n",
        "> > 오늘 당신에게 추천할 음식은 **야식**입니다.\r\n",
        "\r\n",
        "위 표현들은 임의로 변경해야 맞다고 판단.\r\n",
        "\r\n",
        "---\r\n",
        "\r\n",
        "\r\n",
        "변환될 표현\r\n",
        "\r\n",
        "+ 야식 -> `족발`\r\n",
        "+ 배달음식점 -> `족발`\r\n",
        "+ 간식 -> `패스트푸드`\r\n",
        "+ 기사식당 -> `한식`\r\n",
        "+ 술집 -> `치킨`\r\n",
        "+ 음식점 -> `파전`\r\n",
        "+ 도시락 -> `족발`\r\n",
        "\r\n"
      ]
    },
    {
      "cell_type": "code",
      "metadata": {
        "colab": {
          "base_uri": "https://localhost:8080/"
        },
        "id": "U11-ziyWDd3u",
        "outputId": "11f036bb-e3f1-4e44-d0b8-b20dee938ab2"
      },
      "source": [
        "change_map = {\r\n",
        "    '야식': '족발',\r\n",
        "    '배달음식점': '족발',\r\n",
        "    '간식': '패스트푸드',\r\n",
        "    '기사식당': '한식',\r\n",
        "    '술집': '치킨',\r\n",
        "    '음식점': '파전',\r\n",
        "    '도시락': '족발'\r\n",
        "}\r\n",
        "\r\n",
        "print(f\"야식 to {change_map['야식']}\")"
      ],
      "execution_count": 65,
      "outputs": [
        {
          "output_type": "stream",
          "text": [
            "야식 to 족발\n"
          ],
          "name": "stdout"
        }
      ]
    },
    {
      "cell_type": "code",
      "metadata": {
        "id": "eERUxjN_Edaq"
      },
      "source": [
        "def change_menu(keyword):\r\n",
        "  if keyword in change_map:\r\n",
        "    return change_map[keyword]\r\n",
        "  return keyword"
      ],
      "execution_count": 49,
      "outputs": []
    },
    {
      "cell_type": "code",
      "metadata": {
        "colab": {
          "base_uri": "https://localhost:8080/"
        },
        "id": "5MLTsTobE5Ua",
        "outputId": "2ad6050f-b9ef-4e1e-e399-226d3a3b9cd7"
      },
      "source": [
        "print(f\"변환 가능한 '야식'은 -> {change_menu('야식')}\\n변환 불가능한 '일식'은 -> {change_menu('일식')}\")"
      ],
      "execution_count": 55,
      "outputs": [
        {
          "output_type": "stream",
          "text": [
            "변환 가능한 '야식'은 -> 족발\n",
            "변환 불가능한 '일식'은 -> 일식\n"
          ],
          "name": "stdout"
        }
      ]
    },
    {
      "cell_type": "code",
      "metadata": {
        "colab": {
          "base_uri": "https://localhost:8080/",
          "height": 309
        },
        "id": "kpMc1LEaFfb0",
        "outputId": "50d8c709-a98c-48ab-b5c0-d7de2cb9875e"
      },
      "source": [
        "df.loc[:, '중분류'] = df['중분류'].apply(change_menu)\r\n",
        "df.head()"
      ],
      "execution_count": 75,
      "outputs": [
        {
          "output_type": "stream",
          "text": [
            "/usr/local/lib/python3.6/dist-packages/pandas/core/indexing.py:1743: SettingWithCopyWarning: \n",
            "A value is trying to be set on a copy of a slice from a DataFrame.\n",
            "Try using .loc[row_indexer,col_indexer] = value instead\n",
            "\n",
            "See the caveats in the documentation: https://pandas.pydata.org/pandas-docs/stable/user_guide/indexing.html#returning-a-view-versus-a-copy\n",
            "  isetter(ilocs[0], value)\n"
          ],
          "name": "stderr"
        },
        {
          "output_type": "execute_result",
          "data": {
            "text/html": [
              "<div>\n",
              "<style scoped>\n",
              "    .dataframe tbody tr th:only-of-type {\n",
              "        vertical-align: middle;\n",
              "    }\n",
              "\n",
              "    .dataframe tbody tr th {\n",
              "        vertical-align: top;\n",
              "    }\n",
              "\n",
              "    .dataframe thead th {\n",
              "        text-align: right;\n",
              "    }\n",
              "</style>\n",
              "<table border=\"1\" class=\"dataframe\">\n",
              "  <thead>\n",
              "    <tr style=\"text-align: right;\">\n",
              "      <th></th>\n",
              "      <th>일자(YYYYMMDD)</th>\n",
              "      <th>연령</th>\n",
              "      <th>성별</th>\n",
              "      <th>발신지(시도)</th>\n",
              "      <th>발신지(시군구)</th>\n",
              "      <th>대분류</th>\n",
              "      <th>중분류</th>\n",
              "      <th>통화비율(시군구내)</th>\n",
              "    </tr>\n",
              "  </thead>\n",
              "  <tbody>\n",
              "    <tr>\n",
              "      <th>1</th>\n",
              "      <td>20190801</td>\n",
              "      <td>40</td>\n",
              "      <td>남성</td>\n",
              "      <td>강원</td>\n",
              "      <td>강릉시</td>\n",
              "      <td>음식점</td>\n",
              "      <td>한식</td>\n",
              "      <td>0.0004</td>\n",
              "    </tr>\n",
              "    <tr>\n",
              "      <th>9</th>\n",
              "      <td>20190801</td>\n",
              "      <td>40</td>\n",
              "      <td>남성</td>\n",
              "      <td>강원</td>\n",
              "      <td>강릉시</td>\n",
              "      <td>음식점</td>\n",
              "      <td>중식</td>\n",
              "      <td>0.0002</td>\n",
              "    </tr>\n",
              "    <tr>\n",
              "      <th>10</th>\n",
              "      <td>20190801</td>\n",
              "      <td>40</td>\n",
              "      <td>여성</td>\n",
              "      <td>강원</td>\n",
              "      <td>강릉시</td>\n",
              "      <td>음식점</td>\n",
              "      <td>양식</td>\n",
              "      <td>0.0001</td>\n",
              "    </tr>\n",
              "    <tr>\n",
              "      <th>16</th>\n",
              "      <td>20190801</td>\n",
              "      <td>30</td>\n",
              "      <td>남성</td>\n",
              "      <td>강원</td>\n",
              "      <td>강릉시</td>\n",
              "      <td>음식점</td>\n",
              "      <td>중식</td>\n",
              "      <td>0.0001</td>\n",
              "    </tr>\n",
              "    <tr>\n",
              "      <th>19</th>\n",
              "      <td>20190801</td>\n",
              "      <td>60</td>\n",
              "      <td>남성</td>\n",
              "      <td>강원</td>\n",
              "      <td>강릉시</td>\n",
              "      <td>음식점</td>\n",
              "      <td>한식</td>\n",
              "      <td>0.0002</td>\n",
              "    </tr>\n",
              "  </tbody>\n",
              "</table>\n",
              "</div>"
            ],
            "text/plain": [
              "   일자(YYYYMMDD)  연령  성별 발신지(시도) 발신지(시군구)  대분류 중분류  통화비율(시군구내)\n",
              "1      20190801  40  남성      강원      강릉시  음식점  한식      0.0004\n",
              "9      20190801  40  남성      강원      강릉시  음식점  중식      0.0002\n",
              "10     20190801  40  여성      강원      강릉시  음식점  양식      0.0001\n",
              "16     20190801  30  남성      강원      강릉시  음식점  중식      0.0001\n",
              "19     20190801  60  남성      강원      강릉시  음식점  한식      0.0002"
            ]
          },
          "metadata": {
            "tags": []
          },
          "execution_count": 75
        }
      ]
    },
    {
      "cell_type": "code",
      "metadata": {
        "colab": {
          "base_uri": "https://localhost:8080/"
        },
        "id": "vEfSEp0SGFco",
        "outputId": "65dd121d-3af7-458c-9ebf-ee89f39c61df"
      },
      "source": [
        "df.groupby('중분류').size()"
      ],
      "execution_count": 76,
      "outputs": [
        {
          "output_type": "execute_result",
          "data": {
            "text/plain": [
              "중분류\n",
              "분식          55786\n",
              "뷔페            138\n",
              "양식          17331\n",
              "일식            863\n",
              "족발            574\n",
              "중식         191265\n",
              "치킨         405471\n",
              "카페          19094\n",
              "파전           1086\n",
              "패밀리레스토랑        14\n",
              "패스트푸드        2413\n",
              "퓨전요리            1\n",
              "한식         822934\n",
              "dtype: int64"
            ]
          },
          "metadata": {
            "tags": []
          },
          "execution_count": 76
        }
      ]
    },
    {
      "cell_type": "code",
      "metadata": {
        "colab": {
          "base_uri": "https://localhost:8080/"
        },
        "id": "wzSUJ7XDHDKy",
        "outputId": "e5145794-849c-4997-bba7-9f6e410a3ee7"
      },
      "source": [
        "df.info()"
      ],
      "execution_count": 81,
      "outputs": [
        {
          "output_type": "stream",
          "text": [
            "<class 'pandas.core.frame.DataFrame'>\n",
            "Int64Index: 1516970 entries, 1 to 8471732\n",
            "Data columns (total 8 columns):\n",
            " #   Column        Non-Null Count    Dtype  \n",
            "---  ------        --------------    -----  \n",
            " 0   일자(YYYYMMDD)  1516970 non-null  object \n",
            " 1   연령            1516970 non-null  object \n",
            " 2   성별            1516970 non-null  object \n",
            " 3   발신지(시도)       1516970 non-null  object \n",
            " 4   발신지(시군구)      1516970 non-null  object \n",
            " 5   대분류           1516970 non-null  object \n",
            " 6   중분류           1516970 non-null  object \n",
            " 7   통화비율(시군구내)    1516970 non-null  float64\n",
            "dtypes: float64(1), object(7)\n",
            "memory usage: 104.2+ MB\n"
          ],
          "name": "stdout"
        }
      ]
    },
    {
      "cell_type": "markdown",
      "metadata": {
        "id": "8DCOUc5VHRwE"
      },
      "source": [
        "## 3. 년월일 `날짜 형식`으로 변환하기"
      ]
    },
    {
      "cell_type": "markdown",
      "metadata": {
        "id": "NNN1E3bAthVH"
      },
      "source": [
        "데이터 변환 중 실수를 방지하기 위해 copy해서 사용"
      ]
    },
    {
      "cell_type": "code",
      "metadata": {
        "id": "7F7VAtw4I8qo"
      },
      "source": [
        "df_test = df.copy()"
      ],
      "execution_count": 105,
      "outputs": []
    },
    {
      "cell_type": "code",
      "metadata": {
        "colab": {
          "base_uri": "https://localhost:8080/",
          "height": 204
        },
        "id": "IkRulBW3JmDz",
        "outputId": "246ff2a7-b3c2-46ca-8d1d-af9867962316"
      },
      "source": [
        "df_test.iloc[:, 0] = df.iloc[:, 0].apply(lambda x: pd.to_datetime(str(x)))\r\n",
        "df_test.head()"
      ],
      "execution_count": 106,
      "outputs": [
        {
          "output_type": "execute_result",
          "data": {
            "text/html": [
              "<div>\n",
              "<style scoped>\n",
              "    .dataframe tbody tr th:only-of-type {\n",
              "        vertical-align: middle;\n",
              "    }\n",
              "\n",
              "    .dataframe tbody tr th {\n",
              "        vertical-align: top;\n",
              "    }\n",
              "\n",
              "    .dataframe thead th {\n",
              "        text-align: right;\n",
              "    }\n",
              "</style>\n",
              "<table border=\"1\" class=\"dataframe\">\n",
              "  <thead>\n",
              "    <tr style=\"text-align: right;\">\n",
              "      <th></th>\n",
              "      <th>일자(YYYYMMDD)</th>\n",
              "      <th>연령</th>\n",
              "      <th>성별</th>\n",
              "      <th>발신지(시도)</th>\n",
              "      <th>발신지(시군구)</th>\n",
              "      <th>대분류</th>\n",
              "      <th>중분류</th>\n",
              "      <th>통화비율(시군구내)</th>\n",
              "    </tr>\n",
              "  </thead>\n",
              "  <tbody>\n",
              "    <tr>\n",
              "      <th>1</th>\n",
              "      <td>2019-08-01</td>\n",
              "      <td>40</td>\n",
              "      <td>남성</td>\n",
              "      <td>강원</td>\n",
              "      <td>강릉시</td>\n",
              "      <td>음식점</td>\n",
              "      <td>한식</td>\n",
              "      <td>0.0004</td>\n",
              "    </tr>\n",
              "    <tr>\n",
              "      <th>9</th>\n",
              "      <td>2019-08-01</td>\n",
              "      <td>40</td>\n",
              "      <td>남성</td>\n",
              "      <td>강원</td>\n",
              "      <td>강릉시</td>\n",
              "      <td>음식점</td>\n",
              "      <td>중식</td>\n",
              "      <td>0.0002</td>\n",
              "    </tr>\n",
              "    <tr>\n",
              "      <th>10</th>\n",
              "      <td>2019-08-01</td>\n",
              "      <td>40</td>\n",
              "      <td>여성</td>\n",
              "      <td>강원</td>\n",
              "      <td>강릉시</td>\n",
              "      <td>음식점</td>\n",
              "      <td>양식</td>\n",
              "      <td>0.0001</td>\n",
              "    </tr>\n",
              "    <tr>\n",
              "      <th>16</th>\n",
              "      <td>2019-08-01</td>\n",
              "      <td>30</td>\n",
              "      <td>남성</td>\n",
              "      <td>강원</td>\n",
              "      <td>강릉시</td>\n",
              "      <td>음식점</td>\n",
              "      <td>중식</td>\n",
              "      <td>0.0001</td>\n",
              "    </tr>\n",
              "    <tr>\n",
              "      <th>19</th>\n",
              "      <td>2019-08-01</td>\n",
              "      <td>60</td>\n",
              "      <td>남성</td>\n",
              "      <td>강원</td>\n",
              "      <td>강릉시</td>\n",
              "      <td>음식점</td>\n",
              "      <td>한식</td>\n",
              "      <td>0.0002</td>\n",
              "    </tr>\n",
              "  </tbody>\n",
              "</table>\n",
              "</div>"
            ],
            "text/plain": [
              "   일자(YYYYMMDD)  연령  성별 발신지(시도) 발신지(시군구)  대분류 중분류  통화비율(시군구내)\n",
              "1    2019-08-01  40  남성      강원      강릉시  음식점  한식      0.0004\n",
              "9    2019-08-01  40  남성      강원      강릉시  음식점  중식      0.0002\n",
              "10   2019-08-01  40  여성      강원      강릉시  음식점  양식      0.0001\n",
              "16   2019-08-01  30  남성      강원      강릉시  음식점  중식      0.0001\n",
              "19   2019-08-01  60  남성      강원      강릉시  음식점  한식      0.0002"
            ]
          },
          "metadata": {
            "tags": []
          },
          "execution_count": 106
        }
      ]
    },
    {
      "cell_type": "markdown",
      "metadata": {
        "id": "BVIMdpjHr4aj"
      },
      "source": [
        "## 4. 월-일 추가하기\r\n",
        "\r\n",
        "- 월: 0\r\n",
        "- 화: 1\r\n",
        "- 수: 2\r\n",
        "\r\n",
        "...\r\n",
        "\r\n",
        "- 일: 6\r\n",
        "\r\n"
      ]
    },
    {
      "cell_type": "code",
      "metadata": {
        "colab": {
          "base_uri": "https://localhost:8080/"
        },
        "id": "LSHc6xNZyrfY",
        "outputId": "984494c6-f973-4fb8-e697-a331ca872412"
      },
      "source": [
        "pd.to_datetime('2019-08-04').dayofweek , pd.to_datetime('2019-08-04').day_name()"
      ],
      "execution_count": 162,
      "outputs": [
        {
          "output_type": "execute_result",
          "data": {
            "text/plain": [
              "(6, 'Sunday')"
            ]
          },
          "metadata": {
            "tags": []
          },
          "execution_count": 162
        }
      ]
    },
    {
      "cell_type": "code",
      "metadata": {
        "id": "DSbMSH_rqup5"
      },
      "source": [
        "df_test.insert(1, 'dayofweek', df_test.iloc[:, 0].apply(lambda x: x.dayofweek))"
      ],
      "execution_count": 164,
      "outputs": []
    },
    {
      "cell_type": "code",
      "metadata": {
        "colab": {
          "base_uri": "https://localhost:8080/"
        },
        "id": "SgkBjotPzxZb",
        "outputId": "e62793a5-f688-4bfe-9af6-93fa1af5c810"
      },
      "source": [
        "df_test.info()"
      ],
      "execution_count": 165,
      "outputs": [
        {
          "output_type": "stream",
          "text": [
            "<class 'pandas.core.frame.DataFrame'>\n",
            "Int64Index: 1516970 entries, 1 to 8471732\n",
            "Data columns (total 9 columns):\n",
            " #   Column        Non-Null Count    Dtype         \n",
            "---  ------        --------------    -----         \n",
            " 0   일자(YYYYMMDD)  1516970 non-null  datetime64[ns]\n",
            " 1   dayofweek     1516970 non-null  int64         \n",
            " 2   연령            1516970 non-null  int64         \n",
            " 3   성별            1516970 non-null  int64         \n",
            " 4   발신지(시도)       1516970 non-null  object        \n",
            " 5   발신지(시군구)      1516970 non-null  object        \n",
            " 6   대분류           1516970 non-null  object        \n",
            " 7   중분류           1516970 non-null  object        \n",
            " 8   통화비율(시군구내)    1516970 non-null  float64       \n",
            "dtypes: datetime64[ns](1), float64(1), int64(3), object(4)\n",
            "memory usage: 115.7+ MB\n"
          ],
          "name": "stdout"
        }
      ]
    },
    {
      "cell_type": "markdown",
      "metadata": {
        "id": "i2xJqU8aqS3h"
      },
      "source": [
        "## 5. 성별, 연령 int type으로 변환"
      ]
    },
    {
      "cell_type": "code",
      "metadata": {
        "colab": {
          "base_uri": "https://localhost:8080/"
        },
        "id": "rJH4mVaQMhC1",
        "outputId": "d028d0b4-e546-40ca-ba33-8449b60cbbe7"
      },
      "source": [
        "import numpy as np\r\n",
        "df_test.loc[:, ['연령']] = df_test['연령'].apply(np.int32)\r\n",
        "df_test.loc[:, ['성별']] = df_test['성별'].apply(lambda x: 1 if x == '남성' else 2)\r\n",
        "df_test.info()"
      ],
      "execution_count": 166,
      "outputs": [
        {
          "output_type": "stream",
          "text": [
            "<class 'pandas.core.frame.DataFrame'>\n",
            "Int64Index: 1516970 entries, 1 to 8471732\n",
            "Data columns (total 9 columns):\n",
            " #   Column        Non-Null Count    Dtype         \n",
            "---  ------        --------------    -----         \n",
            " 0   일자(YYYYMMDD)  1516970 non-null  datetime64[ns]\n",
            " 1   dayofweek     1516970 non-null  int64         \n",
            " 2   연령            1516970 non-null  int64         \n",
            " 3   성별            1516970 non-null  int64         \n",
            " 4   발신지(시도)       1516970 non-null  object        \n",
            " 5   발신지(시군구)      1516970 non-null  object        \n",
            " 6   대분류           1516970 non-null  object        \n",
            " 7   중분류           1516970 non-null  object        \n",
            " 8   통화비율(시군구내)    1516970 non-null  float64       \n",
            "dtypes: datetime64[ns](1), float64(1), int64(3), object(4)\n",
            "memory usage: 115.7+ MB\n"
          ],
          "name": "stdout"
        }
      ]
    },
    {
      "cell_type": "markdown",
      "metadata": {
        "id": "-ha-Igq60B9v"
      },
      "source": [
        "## 6. 대분류 지우기"
      ]
    },
    {
      "cell_type": "code",
      "metadata": {
        "id": "1CCUbTmjtZEn"
      },
      "source": [
        "df_test = df_test.drop('대분류', axis=1)"
      ],
      "execution_count": 171,
      "outputs": []
    },
    {
      "cell_type": "code",
      "metadata": {
        "colab": {
          "base_uri": "https://localhost:8080/"
        },
        "id": "jwhdi7qm0dwR",
        "outputId": "9215d46b-d355-456a-d12c-fc7f544ae75b"
      },
      "source": [
        "df_test.info()"
      ],
      "execution_count": 173,
      "outputs": [
        {
          "output_type": "stream",
          "text": [
            "<class 'pandas.core.frame.DataFrame'>\n",
            "Int64Index: 1516970 entries, 1 to 8471732\n",
            "Data columns (total 8 columns):\n",
            " #   Column        Non-Null Count    Dtype         \n",
            "---  ------        --------------    -----         \n",
            " 0   일자(YYYYMMDD)  1516970 non-null  datetime64[ns]\n",
            " 1   dayofweek     1516970 non-null  int64         \n",
            " 2   연령            1516970 non-null  int64         \n",
            " 3   성별            1516970 non-null  int64         \n",
            " 4   발신지(시도)       1516970 non-null  object        \n",
            " 5   발신지(시군구)      1516970 non-null  object        \n",
            " 6   중분류           1516970 non-null  object        \n",
            " 7   통화비율(시군구내)    1516970 non-null  float64       \n",
            "dtypes: datetime64[ns](1), float64(1), int64(3), object(3)\n",
            "memory usage: 144.2+ MB\n"
          ],
          "name": "stdout"
        }
      ]
    },
    {
      "cell_type": "markdown",
      "metadata": {
        "id": "GxEKUiT303I5"
      },
      "source": [
        "### 남아있는 과제: `지역 합치기`\r\n",
        "\r\n",
        "- 발신지(시도)\r\n",
        "- 발신지(시군구)\r\n",
        "\r\n",
        "---\r\n",
        "\r\n",
        "**스케줄**\r\n",
        "\r\n",
        "1. 날씨 데이터 정제\r\n",
        "2. 통화 데이터와 지역을 맞춘 후\r\n",
        "3. shape 맞추고\r\n",
        "4. 두 데이터 통합"
      ]
    },
    {
      "cell_type": "markdown",
      "metadata": {
        "id": "_LZl2a0yyE6d"
      },
      "source": [
        "# 날씨 데이터 정제\r\n",
        "\r\n",
        "1. 일시 timestamp로 변경\r\n",
        "2. 지점명 통화 데이터로 일치시키기\r\n",
        "3. NaN 결측치 정제\r\n",
        "  - 채우기\r\n",
        "    + 평균 기온\r\n",
        "    + 최저 기온\r\n",
        "    + 최고 기온\r\n",
        "    + 합계 일조시간\r\n",
        "    + 평균 현지기압\r\n",
        "\r\n",
        "  - 0으로 만들기\r\n",
        "    + 강수 계속시간\r\n",
        "    + 일 강수량\r\n",
        "    + 평균 풍속\r\n",
        "    + 일 최심적설\r\n",
        "\r\n",
        "4. 수치화된 지점 제거 (사용하기 어려움)"
      ]
    },
    {
      "cell_type": "code",
      "metadata": {
        "colab": {
          "base_uri": "https://localhost:8080/"
        },
        "id": "_znKryOKt3yp",
        "outputId": "071ec45d-8dfd-4e7b-da07-b0e5e48b8ae1"
      },
      "source": [
        "df_w = pd.read_csv(downloadUrl('1g-7eeYV6ok3aOrsjNwF5oiugfYmeSZHn'))\n",
        "df_w.info()"
      ],
      "execution_count": 12,
      "outputs": [
        {
          "output_type": "stream",
          "text": [
            "<class 'pandas.core.frame.DataFrame'>\n",
            "RangeIndex: 38928 entries, 0 to 38927\n",
            "Data columns (total 12 columns):\n",
            " #   Column        Non-Null Count  Dtype  \n",
            "---  ------        --------------  -----  \n",
            " 0   지점            38928 non-null  int64  \n",
            " 1   지점명           38928 non-null  object \n",
            " 2   일시            38928 non-null  object \n",
            " 3   평균기온(°C)      38875 non-null  float64\n",
            " 4   최저기온(°C)      38920 non-null  float64\n",
            " 5   최고기온(°C)      38923 non-null  float64\n",
            " 6   강수 계속시간(hr)   3746 non-null   float64\n",
            " 7   일강수량(mm)      15261 non-null  float64\n",
            " 8   평균 풍속(m/s)    38876 non-null  float64\n",
            " 9   평균 현지기압(hPa)  38841 non-null  float64\n",
            " 10  합계 일조시간(hr)   38850 non-null  float64\n",
            " 11  일 최심적설(cm)    89 non-null     float64\n",
            "dtypes: float64(9), int64(1), object(2)\n",
            "memory usage: 3.6+ MB\n"
          ],
          "name": "stdout"
        }
      ]
    },
    {
      "cell_type": "code",
      "metadata": {
        "colab": {
          "base_uri": "https://localhost:8080/",
          "height": 204
        },
        "id": "tlHc8WiQn6gA",
        "outputId": "bd10d98e-361d-43f9-a013-266188f03e6e"
      },
      "source": [
        "df_w.head()"
      ],
      "execution_count": 13,
      "outputs": [
        {
          "output_type": "execute_result",
          "data": {
            "text/html": [
              "<div>\n",
              "<style scoped>\n",
              "    .dataframe tbody tr th:only-of-type {\n",
              "        vertical-align: middle;\n",
              "    }\n",
              "\n",
              "    .dataframe tbody tr th {\n",
              "        vertical-align: top;\n",
              "    }\n",
              "\n",
              "    .dataframe thead th {\n",
              "        text-align: right;\n",
              "    }\n",
              "</style>\n",
              "<table border=\"1\" class=\"dataframe\">\n",
              "  <thead>\n",
              "    <tr style=\"text-align: right;\">\n",
              "      <th></th>\n",
              "      <th>지점</th>\n",
              "      <th>지점명</th>\n",
              "      <th>일시</th>\n",
              "      <th>평균기온(°C)</th>\n",
              "      <th>최저기온(°C)</th>\n",
              "      <th>최고기온(°C)</th>\n",
              "      <th>강수 계속시간(hr)</th>\n",
              "      <th>일강수량(mm)</th>\n",
              "      <th>평균 풍속(m/s)</th>\n",
              "      <th>평균 현지기압(hPa)</th>\n",
              "      <th>합계 일조시간(hr)</th>\n",
              "      <th>일 최심적설(cm)</th>\n",
              "    </tr>\n",
              "  </thead>\n",
              "  <tbody>\n",
              "    <tr>\n",
              "      <th>0</th>\n",
              "      <td>90</td>\n",
              "      <td>속초</td>\n",
              "      <td>2019-08-01</td>\n",
              "      <td>29.7</td>\n",
              "      <td>26.4</td>\n",
              "      <td>35.6</td>\n",
              "      <td>NaN</td>\n",
              "      <td>0.3</td>\n",
              "      <td>2.0</td>\n",
              "      <td>1007.2</td>\n",
              "      <td>8.3</td>\n",
              "      <td>NaN</td>\n",
              "    </tr>\n",
              "    <tr>\n",
              "      <th>1</th>\n",
              "      <td>90</td>\n",
              "      <td>속초</td>\n",
              "      <td>2019-08-02</td>\n",
              "      <td>29.4</td>\n",
              "      <td>25.9</td>\n",
              "      <td>33.1</td>\n",
              "      <td>NaN</td>\n",
              "      <td>NaN</td>\n",
              "      <td>1.4</td>\n",
              "      <td>1008.8</td>\n",
              "      <td>13.2</td>\n",
              "      <td>NaN</td>\n",
              "    </tr>\n",
              "    <tr>\n",
              "      <th>2</th>\n",
              "      <td>90</td>\n",
              "      <td>속초</td>\n",
              "      <td>2019-08-03</td>\n",
              "      <td>26.7</td>\n",
              "      <td>24.4</td>\n",
              "      <td>29.7</td>\n",
              "      <td>NaN</td>\n",
              "      <td>NaN</td>\n",
              "      <td>1.8</td>\n",
              "      <td>1009.7</td>\n",
              "      <td>10.3</td>\n",
              "      <td>NaN</td>\n",
              "    </tr>\n",
              "    <tr>\n",
              "      <th>3</th>\n",
              "      <td>90</td>\n",
              "      <td>속초</td>\n",
              "      <td>2019-08-04</td>\n",
              "      <td>27.0</td>\n",
              "      <td>25.3</td>\n",
              "      <td>29.6</td>\n",
              "      <td>NaN</td>\n",
              "      <td>NaN</td>\n",
              "      <td>1.2</td>\n",
              "      <td>1008.7</td>\n",
              "      <td>6.6</td>\n",
              "      <td>NaN</td>\n",
              "    </tr>\n",
              "    <tr>\n",
              "      <th>4</th>\n",
              "      <td>90</td>\n",
              "      <td>속초</td>\n",
              "      <td>2019-08-05</td>\n",
              "      <td>27.7</td>\n",
              "      <td>24.8</td>\n",
              "      <td>31.2</td>\n",
              "      <td>NaN</td>\n",
              "      <td>NaN</td>\n",
              "      <td>1.4</td>\n",
              "      <td>1008.7</td>\n",
              "      <td>12.0</td>\n",
              "      <td>NaN</td>\n",
              "    </tr>\n",
              "  </tbody>\n",
              "</table>\n",
              "</div>"
            ],
            "text/plain": [
              "   지점 지점명          일시  ...  평균 현지기압(hPa)  합계 일조시간(hr)  일 최심적설(cm)\n",
              "0  90  속초  2019-08-01  ...        1007.2          8.3         NaN\n",
              "1  90  속초  2019-08-02  ...        1008.8         13.2         NaN\n",
              "2  90  속초  2019-08-03  ...        1009.7         10.3         NaN\n",
              "3  90  속초  2019-08-04  ...        1008.7          6.6         NaN\n",
              "4  90  속초  2019-08-05  ...        1008.7         12.0         NaN\n",
              "\n",
              "[5 rows x 12 columns]"
            ]
          },
          "metadata": {
            "tags": []
          },
          "execution_count": 13
        }
      ]
    },
    {
      "cell_type": "markdown",
      "metadata": {
        "id": "mJEQvxWw3eaV"
      },
      "source": [
        "## 1. 일시 timestamp로 변경"
      ]
    },
    {
      "cell_type": "code",
      "metadata": {
        "id": "imfZwIvO3dbY"
      },
      "source": [
        "df_w.iloc[:, 2] = df_w['일시'].apply(pd.to_datetime)"
      ],
      "execution_count": null,
      "outputs": []
    },
    {
      "cell_type": "code",
      "metadata": {
        "colab": {
          "base_uri": "https://localhost:8080/"
        },
        "id": "A3llz1C03zc6",
        "outputId": "a021e8f9-ce66-4597-f6a2-793247d95460"
      },
      "source": [
        "df_w.info()"
      ],
      "execution_count": 176,
      "outputs": [
        {
          "output_type": "stream",
          "text": [
            "<class 'pandas.core.frame.DataFrame'>\n",
            "RangeIndex: 38928 entries, 0 to 38927\n",
            "Data columns (total 12 columns):\n",
            " #   Column        Non-Null Count  Dtype         \n",
            "---  ------        --------------  -----         \n",
            " 0   지점            38928 non-null  int64         \n",
            " 1   지점명           38928 non-null  object        \n",
            " 2   일시            38928 non-null  datetime64[ns]\n",
            " 3   평균기온(°C)      38875 non-null  float64       \n",
            " 4   최저기온(°C)      38920 non-null  float64       \n",
            " 5   최고기온(°C)      38923 non-null  float64       \n",
            " 6   강수 계속시간(hr)   3746 non-null   float64       \n",
            " 7   일강수량(mm)      15261 non-null  float64       \n",
            " 8   평균 풍속(m/s)    38876 non-null  float64       \n",
            " 9   평균 현지기압(hPa)  38841 non-null  float64       \n",
            " 10  합계 일조시간(hr)   38850 non-null  float64       \n",
            " 11  일 최심적설(cm)    89 non-null     float64       \n",
            "dtypes: datetime64[ns](1), float64(9), int64(1), object(1)\n",
            "memory usage: 3.6+ MB\n"
          ],
          "name": "stdout"
        }
      ]
    },
    {
      "cell_type": "markdown",
      "metadata": {
        "id": "vX1yHCMI4CXP"
      },
      "source": [
        "## 2. call 데이터 지역 이름으로 날씨 지점 이름 변경하기\r\n"
      ]
    },
    {
      "cell_type": "markdown",
      "metadata": {
        "id": "9-auECaw7xWB"
      },
      "source": [
        "데이터 손실 방지를 위해 복사본 사용"
      ]
    },
    {
      "cell_type": "code",
      "metadata": {
        "id": "_j1ykRrf7vfA"
      },
      "source": [
        "df_w_test = df_w.copy()"
      ],
      "execution_count": 197,
      "outputs": []
    },
    {
      "cell_type": "code",
      "metadata": {
        "colab": {
          "base_uri": "https://localhost:8080/"
        },
        "id": "fr_1VpMr59NR",
        "outputId": "e92d677d-dc69-4cbd-93ee-d46bf07d3d71"
      },
      "source": [
        "target_list = df_w_test['지점명'].unique()\r\n",
        "target_list"
      ],
      "execution_count": 220,
      "outputs": [
        {
          "output_type": "execute_result",
          "data": {
            "text/plain": [
              "array(['속초', '철원', '동두천', '파주', '춘천', '백령도', '강릉', '동해', '서울', '인천', '원주',\n",
              "       '울릉도', '수원', '영월', '충주', '서산', '울진', '청주', '대전', '안동', '상주', '포항',\n",
              "       '군산', '대구', '전주', '울산', '창원', '광주', '부산', '통영', '목포', '여수', '완도',\n",
              "       '순천', '홍성', '제주', '서귀포', '진주', '강화', '양평', '이천', '인제', '홍천', '태백',\n",
              "       '정선군', '제천', '보은', '천안', '보령', '부여', '금산', '세종', '부안', '임실', '정읍',\n",
              "       '남원', '장수', '고창군', '영광군', '김해시', '양산시', '보성군', '강진군', '장흥', '해남',\n",
              "       '고흥', '의령군', '함양군', '광양시', '진도군', '봉화', '영주', '문경', '청송군', '영덕',\n",
              "       '의성', '구미', '영천', '경주시', '거창', '합천', '밀양', '산청', '거제', '남해'],\n",
              "      dtype=object)"
            ]
          },
          "metadata": {
            "tags": []
          },
          "execution_count": 220
        }
      ]
    },
    {
      "cell_type": "code",
      "metadata": {
        "id": "W_6DxNSw4B36"
      },
      "source": [
        "loc_words = df_test['발신지(시군구)'].unique()\r\n",
        "loc_words"
      ],
      "execution_count": 196,
      "outputs": []
    },
    {
      "cell_type": "code",
      "metadata": {
        "colab": {
          "base_uri": "https://localhost:8080/"
        },
        "id": "BH448se6AguH",
        "outputId": "ae872264-4733-48dc-f540-6022e172a9a9"
      },
      "source": [
        "loc_words"
      ],
      "execution_count": 237,
      "outputs": [
        {
          "output_type": "execute_result",
          "data": {
            "text/plain": [
              "array(['강릉시', '동해시', '삼척시', '속초시', '양양군', '인제군', '정선군', '철원군', '태백시',\n",
              "       '고양시 일산동구', '고양시 일산서구', '과천시', '광명시', '동두천시', '부천시', '성남시 분당구',\n",
              "       '성남시 수정구', '수원시 권선구', '안성시', '안양시 동안구', '안양시 만안구', '양평군', '여주시',\n",
              "       '연천군', '오산시', '용인시 처인구', '의왕시', '평택시', '포천시', '화성시', '거제시', '거창군',\n",
              "       '밀양시', '양산시', '의령군', '진주시', '창원시 마산합포구', '창원시 성산구', '창원시 의창구',\n",
              "       '창원시 진해구', '통영시', '하동군', '함양군', '김천시', '문경시', '봉화군', '성주군', '안동시',\n",
              "       '영덕군', '영주시', '예천군', '울진군', '의성군', '청도군', '포항시 북구', '광산구', '남구',\n",
              "       '동구', '서구', '북구', '수성구', '대덕구', '유성구', '강서구', '금정구', '기장군', '동래구',\n",
              "       '사하구', '연제구', '영도구', '해운대구', '강북구', '관악구', '광진구', '노원구', '동작구',\n",
              "       '마포구', '서초구', '성북구', '영등포구', '용산구', '은평구', '종로구', '중구', '.', '울주군',\n",
              "       '남동구', '부평구', '곡성군', '광양시', '구례군', '나주시', '무안군', '순천시', '신안군',\n",
              "       '여수시', '영암군', '완도군', '함평군', '화순군', '김제시', '무주군', '부안군', '완주군',\n",
              "       '임실군', '전주시 덕진구', '전주시 완산구', '정읍시', '제주시', '계룡시', '논산시', '당진시',\n",
              "       '서산시', '서천군', '청양군', '홍성군', '단양군', '보은군', '영동군', '옥천군', '음성군',\n",
              "       '진천군', '청주시 청원구', '청주시 흥덕구', '충주시', '고성군', '양구군', '영월군', '원주시',\n",
              "       '춘천시', '평창군', '홍천군', '화천군', '횡성군', '가평군', '고양시 덕양구', '광주시', '구리시',\n",
              "       '군포시', '김포시', '남양주시', '성남시 중원구', '수원시 영통구', '수원시 장안구', '수원시 팔달구',\n",
              "       '시흥시', '안산시 단원구', '안산시 상록구', '양주시', '용인시 기흥구', '용인시 수지구', '의정부시',\n",
              "       '이천시', '파주시', '하남시', '김해시', '남해군', '사천시', '산청군', '창녕군',\n",
              "       '창원시 마산회원구', '함안군', '합천군', '경산시', '경주시', '고령군', '구미시', '군위군',\n",
              "       '상주시', '영양군', '영천시', '울릉군', '청송군', '칠곡군', '포항시 남구', '달서구', '달성군',\n",
              "       '부산진구', '사상구', '수영구', '강남구', '강동구', '구로구', '금천구', '도봉구', '동대문구',\n",
              "       '서대문구', '성동구', '송파구', '양천구', '중랑구', '세종특별자치시', '강화군', '계양구', '연수구',\n",
              "       '옹진군', '강진군', '고흥군', '담양군', '목포시', '보성군', '영광군', '장성군', '장흥군',\n",
              "       '진도군', '해남군', '고창군', '군산시', '남원시', '순창군', '익산시', '장수군', '진안군',\n",
              "       '서귀포시', '공주시', '금산군', '보령시', '부여군', '아산시', '예산군', '천안시 동남구',\n",
              "       '천안시 서북구', '태안군', '괴산군', '제천시', '증평군', '청주시 상당구', '청주시 서원구', '전주시',\n",
              "       '고양시', '안산시', '안양시', '포항시', '수원시', '미추홀구', '성남시', '용인시', '천안시',\n",
              "       '창원시', '청주시'], dtype=object)"
            ]
          },
          "metadata": {
            "tags": []
          },
          "execution_count": 237
        }
      ]
    },
    {
      "cell_type": "code",
      "metadata": {
        "id": "E3-ZeWOW8kwa"
      },
      "source": [
        "from collections import defaultdict\r\n",
        "\r\n",
        "new_mapping = defaultdict(str)\r\n",
        "\r\n",
        "for x in target_list:\r\n",
        "  length = len(x)\r\n",
        "  for y in loc_words:\r\n",
        "    if x in y[:length]:\r\n",
        "      new_mapping[x] = y\r\n",
        "      break\r\n",
        "    else:\r\n",
        "      new_mapping[x] = x"
      ],
      "execution_count": null,
      "outputs": []
    },
    {
      "cell_type": "markdown",
      "metadata": {
        "id": "8vvbXzbhBSIp"
      },
      "source": [
        "매핑 후 `일반화되지 못한 지역`은 수작업\r\n",
        "\r\n",
        "> ex)\r\n",
        "> > 수원시 권선구\r\n",
        ">\r\n",
        "> > 포항시 북구"
      ]
    },
    {
      "cell_type": "code",
      "metadata": {
        "id": "wvVE3Bgr_EWV"
      },
      "source": [
        "new_mapping['수원'] = '수원시'\r\n",
        "new_mapping['전주'] = '전주시'\r\n",
        "new_mapping['창원'] = '창원시'\r\n",
        "new_mapping['포항'] = '포항시'\r\n",
        "new_mapping['천안'] = '천안시'\r\n",
        "new_mapping['청주'] = '청주시'"
      ],
      "execution_count": 238,
      "outputs": []
    },
    {
      "cell_type": "code",
      "metadata": {
        "colab": {
          "base_uri": "https://localhost:8080/"
        },
        "id": "0GTZN81zAYaN",
        "outputId": "c3560ee1-ebde-4f7b-99d6-b6bd6999a3e2"
      },
      "source": [
        "new_mapping"
      ],
      "execution_count": 239,
      "outputs": [
        {
          "output_type": "execute_result",
          "data": {
            "text/plain": [
              "defaultdict(str,\n",
              "            {'강릉': '강릉시',\n",
              "             '강진군': '강진군',\n",
              "             '강화': '강화군',\n",
              "             '거제': '거제시',\n",
              "             '거창': '거창군',\n",
              "             '경주시': '경주시',\n",
              "             '고창군': '고창군',\n",
              "             '고흥': '고흥군',\n",
              "             '광양시': '광양시',\n",
              "             '광주': '광주시',\n",
              "             '구미': '구미시',\n",
              "             '군산': '군산시',\n",
              "             '금산': '금산군',\n",
              "             '김해시': '김해시',\n",
              "             '남원': '남원시',\n",
              "             '남해': '남해군',\n",
              "             '대구': '대구',\n",
              "             '대전': '대전',\n",
              "             '동두천': '동두천시',\n",
              "             '동해': '동해시',\n",
              "             '목포': '목포시',\n",
              "             '문경': '문경시',\n",
              "             '밀양': '밀양시',\n",
              "             '백령도': '백령도',\n",
              "             '보령': '보령시',\n",
              "             '보성군': '보성군',\n",
              "             '보은': '보은군',\n",
              "             '봉화': '봉화군',\n",
              "             '부산': '부산진구',\n",
              "             '부안': '부안군',\n",
              "             '부여': '부여군',\n",
              "             '산청': '산청군',\n",
              "             '상주': '상주시',\n",
              "             '서귀포': '서귀포시',\n",
              "             '서산': '서산시',\n",
              "             '서울': '서울',\n",
              "             '세종': '세종특별자치시',\n",
              "             '속초': '속초시',\n",
              "             '수원': '수원시',\n",
              "             '순천': '순천시',\n",
              "             '안동': '안동시',\n",
              "             '양산시': '양산시',\n",
              "             '양평': '양평군',\n",
              "             '여수': '여수시',\n",
              "             '영광군': '영광군',\n",
              "             '영덕': '영덕군',\n",
              "             '영월': '영월군',\n",
              "             '영주': '영주시',\n",
              "             '영천': '영천시',\n",
              "             '완도': '완도군',\n",
              "             '울릉도': '울릉도',\n",
              "             '울산': '울산',\n",
              "             '울진': '울진군',\n",
              "             '원주': '원주시',\n",
              "             '의령군': '의령군',\n",
              "             '의성': '의성군',\n",
              "             '이천': '이천시',\n",
              "             '인제': '인제군',\n",
              "             '인천': '인천',\n",
              "             '임실': '임실군',\n",
              "             '장수': '장수군',\n",
              "             '장흥': '장흥군',\n",
              "             '전주': '전주시',\n",
              "             '정선군': '정선군',\n",
              "             '정읍': '정읍시',\n",
              "             '제주': '제주시',\n",
              "             '제천': '제천시',\n",
              "             '진도군': '진도군',\n",
              "             '진주': '진주시',\n",
              "             '창원': '창원시',\n",
              "             '천안': '천안시',\n",
              "             '철원': '철원군',\n",
              "             '청송군': '청송군',\n",
              "             '청주': '청주시',\n",
              "             '춘천': '춘천시',\n",
              "             '충주': '충주시',\n",
              "             '태백': '태백시',\n",
              "             '통영': '통영시',\n",
              "             '파주': '파주시',\n",
              "             '포항': '포항시',\n",
              "             '함양군': '함양군',\n",
              "             '합천': '합천군',\n",
              "             '해남': '해남군',\n",
              "             '홍성': '홍성군',\n",
              "             '홍천': '홍천군'})"
            ]
          },
          "metadata": {
            "tags": []
          },
          "execution_count": 239
        }
      ]
    },
    {
      "cell_type": "markdown",
      "metadata": {
        "id": "v4l96GI3BswK"
      },
      "source": [
        "매핑된 값을 dataFrame에 반영\r\n"
      ]
    },
    {
      "cell_type": "code",
      "metadata": {
        "colab": {
          "base_uri": "https://localhost:8080/",
          "height": 419
        },
        "id": "yPeLSHgPBrum",
        "outputId": "d5d6997e-dcd5-416b-d79f-d1926cef7e0f"
      },
      "source": [
        "df_w_test.loc[:, '지점명'] = df_w_test['지점명'].apply(lambda x: new_mapping[x])\r\n",
        "df_w_test"
      ],
      "execution_count": 242,
      "outputs": [
        {
          "output_type": "execute_result",
          "data": {
            "text/html": [
              "<div>\n",
              "<style scoped>\n",
              "    .dataframe tbody tr th:only-of-type {\n",
              "        vertical-align: middle;\n",
              "    }\n",
              "\n",
              "    .dataframe tbody tr th {\n",
              "        vertical-align: top;\n",
              "    }\n",
              "\n",
              "    .dataframe thead th {\n",
              "        text-align: right;\n",
              "    }\n",
              "</style>\n",
              "<table border=\"1\" class=\"dataframe\">\n",
              "  <thead>\n",
              "    <tr style=\"text-align: right;\">\n",
              "      <th></th>\n",
              "      <th>지점</th>\n",
              "      <th>지점명</th>\n",
              "      <th>일시</th>\n",
              "      <th>평균기온(°C)</th>\n",
              "      <th>최저기온(°C)</th>\n",
              "      <th>최고기온(°C)</th>\n",
              "      <th>강수 계속시간(hr)</th>\n",
              "      <th>일강수량(mm)</th>\n",
              "      <th>평균 풍속(m/s)</th>\n",
              "      <th>평균 현지기압(hPa)</th>\n",
              "      <th>합계 일조시간(hr)</th>\n",
              "      <th>일 최심적설(cm)</th>\n",
              "    </tr>\n",
              "  </thead>\n",
              "  <tbody>\n",
              "    <tr>\n",
              "      <th>0</th>\n",
              "      <td>90</td>\n",
              "      <td>속초시</td>\n",
              "      <td>2019-08-01</td>\n",
              "      <td>29.7</td>\n",
              "      <td>26.4</td>\n",
              "      <td>35.6</td>\n",
              "      <td>NaN</td>\n",
              "      <td>0.3</td>\n",
              "      <td>2.0</td>\n",
              "      <td>1007.2</td>\n",
              "      <td>8.3</td>\n",
              "      <td>NaN</td>\n",
              "    </tr>\n",
              "    <tr>\n",
              "      <th>1</th>\n",
              "      <td>90</td>\n",
              "      <td>속초시</td>\n",
              "      <td>2019-08-02</td>\n",
              "      <td>29.4</td>\n",
              "      <td>25.9</td>\n",
              "      <td>33.1</td>\n",
              "      <td>NaN</td>\n",
              "      <td>NaN</td>\n",
              "      <td>1.4</td>\n",
              "      <td>1008.8</td>\n",
              "      <td>13.2</td>\n",
              "      <td>NaN</td>\n",
              "    </tr>\n",
              "    <tr>\n",
              "      <th>2</th>\n",
              "      <td>90</td>\n",
              "      <td>속초시</td>\n",
              "      <td>2019-08-03</td>\n",
              "      <td>26.7</td>\n",
              "      <td>24.4</td>\n",
              "      <td>29.7</td>\n",
              "      <td>NaN</td>\n",
              "      <td>NaN</td>\n",
              "      <td>1.8</td>\n",
              "      <td>1009.7</td>\n",
              "      <td>10.3</td>\n",
              "      <td>NaN</td>\n",
              "    </tr>\n",
              "    <tr>\n",
              "      <th>3</th>\n",
              "      <td>90</td>\n",
              "      <td>속초시</td>\n",
              "      <td>2019-08-04</td>\n",
              "      <td>27.0</td>\n",
              "      <td>25.3</td>\n",
              "      <td>29.6</td>\n",
              "      <td>NaN</td>\n",
              "      <td>NaN</td>\n",
              "      <td>1.2</td>\n",
              "      <td>1008.7</td>\n",
              "      <td>6.6</td>\n",
              "      <td>NaN</td>\n",
              "    </tr>\n",
              "    <tr>\n",
              "      <th>4</th>\n",
              "      <td>90</td>\n",
              "      <td>속초시</td>\n",
              "      <td>2019-08-05</td>\n",
              "      <td>27.7</td>\n",
              "      <td>24.8</td>\n",
              "      <td>31.2</td>\n",
              "      <td>NaN</td>\n",
              "      <td>NaN</td>\n",
              "      <td>1.4</td>\n",
              "      <td>1008.7</td>\n",
              "      <td>12.0</td>\n",
              "      <td>NaN</td>\n",
              "    </tr>\n",
              "    <tr>\n",
              "      <th>...</th>\n",
              "      <td>...</td>\n",
              "      <td>...</td>\n",
              "      <td>...</td>\n",
              "      <td>...</td>\n",
              "      <td>...</td>\n",
              "      <td>...</td>\n",
              "      <td>...</td>\n",
              "      <td>...</td>\n",
              "      <td>...</td>\n",
              "      <td>...</td>\n",
              "      <td>...</td>\n",
              "      <td>...</td>\n",
              "    </tr>\n",
              "    <tr>\n",
              "      <th>38923</th>\n",
              "      <td>295</td>\n",
              "      <td>남해군</td>\n",
              "      <td>2020-10-27</td>\n",
              "      <td>14.3</td>\n",
              "      <td>9.5</td>\n",
              "      <td>20.5</td>\n",
              "      <td>NaN</td>\n",
              "      <td>NaN</td>\n",
              "      <td>1.0</td>\n",
              "      <td>1015.1</td>\n",
              "      <td>9.0</td>\n",
              "      <td>NaN</td>\n",
              "    </tr>\n",
              "    <tr>\n",
              "      <th>38924</th>\n",
              "      <td>295</td>\n",
              "      <td>남해군</td>\n",
              "      <td>2020-10-28</td>\n",
              "      <td>14.6</td>\n",
              "      <td>11.4</td>\n",
              "      <td>19.6</td>\n",
              "      <td>NaN</td>\n",
              "      <td>NaN</td>\n",
              "      <td>0.8</td>\n",
              "      <td>1015.8</td>\n",
              "      <td>1.1</td>\n",
              "      <td>NaN</td>\n",
              "    </tr>\n",
              "    <tr>\n",
              "      <th>38925</th>\n",
              "      <td>295</td>\n",
              "      <td>남해군</td>\n",
              "      <td>2020-10-29</td>\n",
              "      <td>12.5</td>\n",
              "      <td>8.5</td>\n",
              "      <td>18.2</td>\n",
              "      <td>NaN</td>\n",
              "      <td>NaN</td>\n",
              "      <td>1.2</td>\n",
              "      <td>1017.1</td>\n",
              "      <td>8.6</td>\n",
              "      <td>NaN</td>\n",
              "    </tr>\n",
              "    <tr>\n",
              "      <th>38926</th>\n",
              "      <td>295</td>\n",
              "      <td>남해군</td>\n",
              "      <td>2020-10-30</td>\n",
              "      <td>13.4</td>\n",
              "      <td>8.6</td>\n",
              "      <td>18.9</td>\n",
              "      <td>NaN</td>\n",
              "      <td>NaN</td>\n",
              "      <td>1.4</td>\n",
              "      <td>1019.0</td>\n",
              "      <td>8.9</td>\n",
              "      <td>NaN</td>\n",
              "    </tr>\n",
              "    <tr>\n",
              "      <th>38927</th>\n",
              "      <td>295</td>\n",
              "      <td>남해군</td>\n",
              "      <td>2020-10-31</td>\n",
              "      <td>12.6</td>\n",
              "      <td>8.6</td>\n",
              "      <td>17.6</td>\n",
              "      <td>NaN</td>\n",
              "      <td>NaN</td>\n",
              "      <td>1.3</td>\n",
              "      <td>1020.1</td>\n",
              "      <td>8.7</td>\n",
              "      <td>NaN</td>\n",
              "    </tr>\n",
              "  </tbody>\n",
              "</table>\n",
              "<p>38928 rows × 12 columns</p>\n",
              "</div>"
            ],
            "text/plain": [
              "        지점  지점명         일시  ...  평균 현지기압(hPa)  합계 일조시간(hr)  일 최심적설(cm)\n",
              "0       90  속초시 2019-08-01  ...        1007.2          8.3         NaN\n",
              "1       90  속초시 2019-08-02  ...        1008.8         13.2         NaN\n",
              "2       90  속초시 2019-08-03  ...        1009.7         10.3         NaN\n",
              "3       90  속초시 2019-08-04  ...        1008.7          6.6         NaN\n",
              "4       90  속초시 2019-08-05  ...        1008.7         12.0         NaN\n",
              "...    ...  ...        ...  ...           ...          ...         ...\n",
              "38923  295  남해군 2020-10-27  ...        1015.1          9.0         NaN\n",
              "38924  295  남해군 2020-10-28  ...        1015.8          1.1         NaN\n",
              "38925  295  남해군 2020-10-29  ...        1017.1          8.6         NaN\n",
              "38926  295  남해군 2020-10-30  ...        1019.0          8.9         NaN\n",
              "38927  295  남해군 2020-10-31  ...        1020.1          8.7         NaN\n",
              "\n",
              "[38928 rows x 12 columns]"
            ]
          },
          "metadata": {
            "tags": []
          },
          "execution_count": 242
        }
      ]
    },
    {
      "cell_type": "markdown",
      "metadata": {
        "id": "WVPQLuuLDeLn"
      },
      "source": [
        "## 3. NaN 정제"
      ]
    },
    {
      "cell_type": "markdown",
      "metadata": {
        "id": "rpvOaH0eDhHy"
      },
      "source": [
        "### 채우기"
      ]
    },
    {
      "cell_type": "code",
      "metadata": {
        "colab": {
          "base_uri": "https://localhost:8080/"
        },
        "id": "kDcuvoTdCAw8",
        "outputId": "feb4cc79-0d38-49b7-dddc-e05d5f86c30c"
      },
      "source": [
        "# 평균기온\r\n",
        "df_w_test['평균기온(°C)'].isna().sum()"
      ],
      "execution_count": 244,
      "outputs": [
        {
          "output_type": "execute_result",
          "data": {
            "text/plain": [
              "53"
            ]
          },
          "metadata": {
            "tags": []
          },
          "execution_count": 244
        }
      ]
    },
    {
      "cell_type": "markdown",
      "metadata": {
        "id": "yElhoJXpD01Y"
      },
      "source": [
        "- 총 53개의 NaN"
      ]
    },
    {
      "cell_type": "markdown",
      "metadata": {
        "id": "9svG87VALgx-"
      },
      "source": [
        "+- 2일 데이터가 온전하지 않은 데이터는 수작업"
      ]
    },
    {
      "cell_type": "code",
      "metadata": {
        "id": "LlGawPqsJ654"
      },
      "source": [
        "df_w_test.loc[14677, '평균기온(°C)'] = 26.7\r\n",
        "df_w_test.loc[21640, '평균기온(°C)'] = 11.1\r\n",
        "df_w_test.loc[25747, '평균기온(°C)'] = 4.3\r\n",
        "df_w_test.loc[29639, '평균기온(°C)'] = 22.4\r\n",
        "df_w_test.loc[30436, '평균기온(°C)'] = 10.6\r\n",
        "df_w_test.loc[30952, '평균기온(°C)'] = 11.0\r\n",
        "df_w_test.loc[30954, '평균기온(°C)'] = 12.4\r\n",
        "df_w_test.loc[31677, '평균기온(°C)'] = 14.7\r\n",
        "df_w_test.loc[31935, '평균기온(°C)'] = 19.8\r\n",
        "df_w_test.loc[30954, '평균기온(°C)'] = 18.2\r\n",
        "df_w_test.loc[31936, '평균기온(°C)'] = 18.2\r\n",
        "df_w_test.loc[33943, '평균기온(°C)'] = -1.6\r\n",
        "df_w_test.loc[36767, '평균기온(°C)'] = 16.8"
      ],
      "execution_count": 302,
      "outputs": []
    },
    {
      "cell_type": "code",
      "metadata": {
        "id": "rzx3vW9kFgqL"
      },
      "source": [
        "def set_mean_value(update_df: pd.DataFrame, col_name) -> pd.DataFrame:\r\n",
        "  for idx in update_df[update_df[col_name].isna()].index:\r\n",
        "    # print(idx)\r\n",
        "    before = np.mean(update_df.loc[idx-2 : idx-1, col_name])\r\n",
        "    after = np.mean(update_df.loc[idx+1 : idx+2, col_name])\r\n",
        "    update_df.loc[idx, col_name] = np.divide(before + after, 2)\r\n",
        "  return update_df.copy()\r\n"
      ],
      "execution_count": 316,
      "outputs": []
    },
    {
      "cell_type": "code",
      "metadata": {
        "colab": {
          "base_uri": "https://localhost:8080/"
        },
        "id": "_tcUQI8YE8Yo",
        "outputId": "1834e44e-e52a-4faa-fe25-9227d1f67e90"
      },
      "source": [
        "df_w_test[df_w_test['평균기온(°C)'].isna()].index"
      ],
      "execution_count": 256,
      "outputs": [
        {
          "output_type": "execute_result",
          "data": {
            "text/plain": [
              "Int64Index([ 1881,  6871,  7377,  7716, 10197, 10334, 14677, 14678, 15117,\n",
              "            15173, 15230, 15282, 18979, 20332, 21640, 21641, 22346, 25086,\n",
              "            25320, 25329, 25345, 25363, 25385, 25747, 25748, 26201, 26619,\n",
              "            27144, 27674, 28415, 29639, 29640, 30436, 30437, 30609, 30952,\n",
              "            30954, 30955, 31677, 31678, 31723, 31935, 31936, 31937, 32111,\n",
              "            33943, 33944, 34712, 35478, 36767, 36768, 36779, 38260],\n",
              "           dtype='int64')"
            ]
          },
          "metadata": {
            "tags": []
          },
          "execution_count": 256
        }
      ]
    },
    {
      "cell_type": "code",
      "metadata": {
        "id": "OjZvMlCdGZ4B"
      },
      "source": [
        "test_dd = set_mean_value(df_w_test.copy(), '평균기온(°C)')"
      ],
      "execution_count": 384,
      "outputs": []
    },
    {
      "cell_type": "code",
      "metadata": {
        "colab": {
          "base_uri": "https://localhost:8080/"
        },
        "id": "weghDpTOMsag",
        "outputId": "bd2ecc45-5215-45e8-e65c-a1cef60ae709"
      },
      "source": [
        "test_dd['평균기온(°C)']"
      ],
      "execution_count": 385,
      "outputs": [
        {
          "output_type": "execute_result",
          "data": {
            "text/plain": [
              "0        29.7\n",
              "1        29.4\n",
              "2        26.7\n",
              "3        27.0\n",
              "4        27.7\n",
              "         ... \n",
              "38923    14.3\n",
              "38924    14.6\n",
              "38925    12.5\n",
              "38926    13.4\n",
              "38927    12.6\n",
              "Name: 평균기온(°C), Length: 38928, dtype: float64"
            ]
          },
          "metadata": {
            "tags": []
          },
          "execution_count": 385
        }
      ]
    },
    {
      "cell_type": "code",
      "metadata": {
        "colab": {
          "base_uri": "https://localhost:8080/"
        },
        "id": "XFXe8nEBM5VO",
        "outputId": "bc2d56a3-c82c-4b47-d95a-c807f04312c0"
      },
      "source": [
        "test_dd['평균기온(°C)'].isna().sum() == 0"
      ],
      "execution_count": 386,
      "outputs": [
        {
          "output_type": "execute_result",
          "data": {
            "text/plain": [
              "True"
            ]
          },
          "metadata": {
            "tags": []
          },
          "execution_count": 386
        }
      ]
    },
    {
      "cell_type": "code",
      "metadata": {
        "colab": {
          "base_uri": "https://localhost:8080/",
          "height": 204
        },
        "id": "bFl9GB9MNGFk",
        "outputId": "04521984-17e2-4536-fb67-7785438fd039"
      },
      "source": [
        "test_dd.head()"
      ],
      "execution_count": 387,
      "outputs": [
        {
          "output_type": "execute_result",
          "data": {
            "text/html": [
              "<div>\n",
              "<style scoped>\n",
              "    .dataframe tbody tr th:only-of-type {\n",
              "        vertical-align: middle;\n",
              "    }\n",
              "\n",
              "    .dataframe tbody tr th {\n",
              "        vertical-align: top;\n",
              "    }\n",
              "\n",
              "    .dataframe thead th {\n",
              "        text-align: right;\n",
              "    }\n",
              "</style>\n",
              "<table border=\"1\" class=\"dataframe\">\n",
              "  <thead>\n",
              "    <tr style=\"text-align: right;\">\n",
              "      <th></th>\n",
              "      <th>지점</th>\n",
              "      <th>지점명</th>\n",
              "      <th>일시</th>\n",
              "      <th>평균기온(°C)</th>\n",
              "      <th>최저기온(°C)</th>\n",
              "      <th>최고기온(°C)</th>\n",
              "      <th>강수 계속시간(hr)</th>\n",
              "      <th>일강수량(mm)</th>\n",
              "      <th>평균 풍속(m/s)</th>\n",
              "      <th>평균 현지기압(hPa)</th>\n",
              "      <th>합계 일조시간(hr)</th>\n",
              "      <th>일 최심적설(cm)</th>\n",
              "    </tr>\n",
              "  </thead>\n",
              "  <tbody>\n",
              "    <tr>\n",
              "      <th>0</th>\n",
              "      <td>90</td>\n",
              "      <td>속초시</td>\n",
              "      <td>2019-08-01</td>\n",
              "      <td>29.7</td>\n",
              "      <td>26.4</td>\n",
              "      <td>35.6</td>\n",
              "      <td>NaN</td>\n",
              "      <td>0.3</td>\n",
              "      <td>2.0</td>\n",
              "      <td>1007.2</td>\n",
              "      <td>8.3</td>\n",
              "      <td>NaN</td>\n",
              "    </tr>\n",
              "    <tr>\n",
              "      <th>1</th>\n",
              "      <td>90</td>\n",
              "      <td>속초시</td>\n",
              "      <td>2019-08-02</td>\n",
              "      <td>29.4</td>\n",
              "      <td>25.9</td>\n",
              "      <td>33.1</td>\n",
              "      <td>NaN</td>\n",
              "      <td>NaN</td>\n",
              "      <td>1.4</td>\n",
              "      <td>1008.8</td>\n",
              "      <td>13.2</td>\n",
              "      <td>NaN</td>\n",
              "    </tr>\n",
              "    <tr>\n",
              "      <th>2</th>\n",
              "      <td>90</td>\n",
              "      <td>속초시</td>\n",
              "      <td>2019-08-03</td>\n",
              "      <td>26.7</td>\n",
              "      <td>24.4</td>\n",
              "      <td>29.7</td>\n",
              "      <td>NaN</td>\n",
              "      <td>NaN</td>\n",
              "      <td>1.8</td>\n",
              "      <td>1009.7</td>\n",
              "      <td>10.3</td>\n",
              "      <td>NaN</td>\n",
              "    </tr>\n",
              "    <tr>\n",
              "      <th>3</th>\n",
              "      <td>90</td>\n",
              "      <td>속초시</td>\n",
              "      <td>2019-08-04</td>\n",
              "      <td>27.0</td>\n",
              "      <td>25.3</td>\n",
              "      <td>29.6</td>\n",
              "      <td>NaN</td>\n",
              "      <td>NaN</td>\n",
              "      <td>1.2</td>\n",
              "      <td>1008.7</td>\n",
              "      <td>6.6</td>\n",
              "      <td>NaN</td>\n",
              "    </tr>\n",
              "    <tr>\n",
              "      <th>4</th>\n",
              "      <td>90</td>\n",
              "      <td>속초시</td>\n",
              "      <td>2019-08-05</td>\n",
              "      <td>27.7</td>\n",
              "      <td>24.8</td>\n",
              "      <td>31.2</td>\n",
              "      <td>NaN</td>\n",
              "      <td>NaN</td>\n",
              "      <td>1.4</td>\n",
              "      <td>1008.7</td>\n",
              "      <td>12.0</td>\n",
              "      <td>NaN</td>\n",
              "    </tr>\n",
              "  </tbody>\n",
              "</table>\n",
              "</div>"
            ],
            "text/plain": [
              "   지점  지점명         일시  ...  평균 현지기압(hPa)  합계 일조시간(hr)  일 최심적설(cm)\n",
              "0  90  속초시 2019-08-01  ...        1007.2          8.3         NaN\n",
              "1  90  속초시 2019-08-02  ...        1008.8         13.2         NaN\n",
              "2  90  속초시 2019-08-03  ...        1009.7         10.3         NaN\n",
              "3  90  속초시 2019-08-04  ...        1008.7          6.6         NaN\n",
              "4  90  속초시 2019-08-05  ...        1008.7         12.0         NaN\n",
              "\n",
              "[5 rows x 12 columns]"
            ]
          },
          "metadata": {
            "tags": []
          },
          "execution_count": 387
        }
      ]
    },
    {
      "cell_type": "markdown",
      "metadata": {
        "id": "cDrGDD9cNAHg"
      },
      "source": [
        "나머지 값들도 변환"
      ]
    },
    {
      "cell_type": "markdown",
      "metadata": {
        "id": "jE3lSStvNTam"
      },
      "source": [
        "최저기온"
      ]
    },
    {
      "cell_type": "code",
      "metadata": {
        "colab": {
          "base_uri": "https://localhost:8080/"
        },
        "id": "amLPVu05M-uL",
        "outputId": "5b8a6cb9-8f7d-4990-bab3-d75638d51893"
      },
      "source": [
        "test_dd = set_mean_value(test_dd.copy(), '최저기온(°C)')\r\n",
        "test_dd['최저기온(°C)'].isna().sum() == 0"
      ],
      "execution_count": 388,
      "outputs": [
        {
          "output_type": "execute_result",
          "data": {
            "text/plain": [
              "True"
            ]
          },
          "metadata": {
            "tags": []
          },
          "execution_count": 388
        }
      ]
    },
    {
      "cell_type": "markdown",
      "metadata": {
        "id": "0iLDA39UNUfI"
      },
      "source": [
        "최고기온"
      ]
    },
    {
      "cell_type": "code",
      "metadata": {
        "colab": {
          "base_uri": "https://localhost:8080/"
        },
        "id": "2fhEYKIBNSU2",
        "outputId": "67de517e-ccd7-41f7-cef2-679feced42e4"
      },
      "source": [
        "print(test_dd['최고기온(°C)'].isna().sum())\r\n",
        "test_dd = set_mean_value(test_dd.copy(), '최고기온(°C)')\r\n",
        "test_dd['최고기온(°C)'].isna().sum() == 0"
      ],
      "execution_count": 389,
      "outputs": [
        {
          "output_type": "stream",
          "text": [
            "5\n"
          ],
          "name": "stdout"
        },
        {
          "output_type": "execute_result",
          "data": {
            "text/plain": [
              "True"
            ]
          },
          "metadata": {
            "tags": []
          },
          "execution_count": 389
        }
      ]
    },
    {
      "cell_type": "markdown",
      "metadata": {
        "id": "4tpynRvwPthf"
      },
      "source": [
        "평균 현지기압"
      ]
    },
    {
      "cell_type": "code",
      "metadata": {
        "colab": {
          "base_uri": "https://localhost:8080/"
        },
        "id": "CrS8FwzjPs5Q",
        "outputId": "d6603f4a-8feb-4278-9981-c72d8f179445"
      },
      "source": [
        "print(test_dd['평균 현지기압(hPa)'].isna().sum())\r\n",
        "test_dd = set_mean_value(test_dd.copy(), '평균 현지기압(hPa)')\r\n",
        "test_dd['평균 현지기압(hPa)'].isna().sum()"
      ],
      "execution_count": 390,
      "outputs": [
        {
          "output_type": "stream",
          "text": [
            "87\n"
          ],
          "name": "stdout"
        },
        {
          "output_type": "execute_result",
          "data": {
            "text/plain": [
              "24"
            ]
          },
          "metadata": {
            "tags": []
          },
          "execution_count": 390
        }
      ]
    },
    {
      "cell_type": "markdown",
      "metadata": {
        "id": "Ex6jhqZNRGi1"
      },
      "source": [
        "평균 현지기압 수작업"
      ]
    },
    {
      "cell_type": "code",
      "metadata": {
        "colab": {
          "base_uri": "https://localhost:8080/",
          "height": 793
        },
        "id": "S1H5-zExQC_Y",
        "outputId": "6fc8bda8-9a77-48e9-b0da-14af21d35778"
      },
      "source": [
        "test_dd[test_dd['평균 현지기압(hPa)'].isna()]"
      ],
      "execution_count": 391,
      "outputs": [
        {
          "output_type": "execute_result",
          "data": {
            "text/html": [
              "<div>\n",
              "<style scoped>\n",
              "    .dataframe tbody tr th:only-of-type {\n",
              "        vertical-align: middle;\n",
              "    }\n",
              "\n",
              "    .dataframe tbody tr th {\n",
              "        vertical-align: top;\n",
              "    }\n",
              "\n",
              "    .dataframe thead th {\n",
              "        text-align: right;\n",
              "    }\n",
              "</style>\n",
              "<table border=\"1\" class=\"dataframe\">\n",
              "  <thead>\n",
              "    <tr style=\"text-align: right;\">\n",
              "      <th></th>\n",
              "      <th>지점</th>\n",
              "      <th>지점명</th>\n",
              "      <th>일시</th>\n",
              "      <th>평균기온(°C)</th>\n",
              "      <th>최저기온(°C)</th>\n",
              "      <th>최고기온(°C)</th>\n",
              "      <th>강수 계속시간(hr)</th>\n",
              "      <th>일강수량(mm)</th>\n",
              "      <th>평균 풍속(m/s)</th>\n",
              "      <th>평균 현지기압(hPa)</th>\n",
              "      <th>합계 일조시간(hr)</th>\n",
              "      <th>일 최심적설(cm)</th>\n",
              "    </tr>\n",
              "  </thead>\n",
              "  <tbody>\n",
              "    <tr>\n",
              "      <th>2899</th>\n",
              "      <td>105</td>\n",
              "      <td>강릉시</td>\n",
              "      <td>2019-12-30</td>\n",
              "      <td>8.3</td>\n",
              "      <td>1.8</td>\n",
              "      <td>14.0</td>\n",
              "      <td>NaN</td>\n",
              "      <td>0.0</td>\n",
              "      <td>3.3</td>\n",
              "      <td>NaN</td>\n",
              "      <td>3.4</td>\n",
              "      <td>NaN</td>\n",
              "    </tr>\n",
              "    <tr>\n",
              "      <th>2900</th>\n",
              "      <td>105</td>\n",
              "      <td>강릉시</td>\n",
              "      <td>2019-12-31</td>\n",
              "      <td>-2.4</td>\n",
              "      <td>-5.6</td>\n",
              "      <td>1.8</td>\n",
              "      <td>NaN</td>\n",
              "      <td>NaN</td>\n",
              "      <td>4.0</td>\n",
              "      <td>NaN</td>\n",
              "      <td>8.7</td>\n",
              "      <td>NaN</td>\n",
              "    </tr>\n",
              "    <tr>\n",
              "      <th>2901</th>\n",
              "      <td>105</td>\n",
              "      <td>강릉시</td>\n",
              "      <td>2020-01-01</td>\n",
              "      <td>1.7</td>\n",
              "      <td>-3.0</td>\n",
              "      <td>6.4</td>\n",
              "      <td>NaN</td>\n",
              "      <td>NaN</td>\n",
              "      <td>4.6</td>\n",
              "      <td>NaN</td>\n",
              "      <td>8.6</td>\n",
              "      <td>NaN</td>\n",
              "    </tr>\n",
              "    <tr>\n",
              "      <th>2902</th>\n",
              "      <td>105</td>\n",
              "      <td>강릉시</td>\n",
              "      <td>2020-01-02</td>\n",
              "      <td>3.7</td>\n",
              "      <td>0.6</td>\n",
              "      <td>7.7</td>\n",
              "      <td>NaN</td>\n",
              "      <td>NaN</td>\n",
              "      <td>4.6</td>\n",
              "      <td>NaN</td>\n",
              "      <td>8.4</td>\n",
              "      <td>NaN</td>\n",
              "    </tr>\n",
              "    <tr>\n",
              "      <th>36638</th>\n",
              "      <td>285</td>\n",
              "      <td>합천군</td>\n",
              "      <td>2019-08-01</td>\n",
              "      <td>29.5</td>\n",
              "      <td>24.0</td>\n",
              "      <td>35.4</td>\n",
              "      <td>NaN</td>\n",
              "      <td>NaN</td>\n",
              "      <td>1.4</td>\n",
              "      <td>NaN</td>\n",
              "      <td>12.9</td>\n",
              "      <td>NaN</td>\n",
              "    </tr>\n",
              "    <tr>\n",
              "      <th>36639</th>\n",
              "      <td>285</td>\n",
              "      <td>합천군</td>\n",
              "      <td>2019-08-02</td>\n",
              "      <td>29.9</td>\n",
              "      <td>23.7</td>\n",
              "      <td>36.5</td>\n",
              "      <td>NaN</td>\n",
              "      <td>NaN</td>\n",
              "      <td>0.9</td>\n",
              "      <td>NaN</td>\n",
              "      <td>12.2</td>\n",
              "      <td>NaN</td>\n",
              "    </tr>\n",
              "    <tr>\n",
              "      <th>36640</th>\n",
              "      <td>285</td>\n",
              "      <td>합천군</td>\n",
              "      <td>2019-08-03</td>\n",
              "      <td>29.3</td>\n",
              "      <td>24.3</td>\n",
              "      <td>35.4</td>\n",
              "      <td>NaN</td>\n",
              "      <td>NaN</td>\n",
              "      <td>1.1</td>\n",
              "      <td>NaN</td>\n",
              "      <td>10.4</td>\n",
              "      <td>NaN</td>\n",
              "    </tr>\n",
              "    <tr>\n",
              "      <th>36641</th>\n",
              "      <td>285</td>\n",
              "      <td>합천군</td>\n",
              "      <td>2019-08-04</td>\n",
              "      <td>29.5</td>\n",
              "      <td>23.3</td>\n",
              "      <td>36.5</td>\n",
              "      <td>NaN</td>\n",
              "      <td>NaN</td>\n",
              "      <td>0.9</td>\n",
              "      <td>NaN</td>\n",
              "      <td>11.5</td>\n",
              "      <td>NaN</td>\n",
              "    </tr>\n",
              "    <tr>\n",
              "      <th>36642</th>\n",
              "      <td>285</td>\n",
              "      <td>합천군</td>\n",
              "      <td>2019-08-05</td>\n",
              "      <td>29.7</td>\n",
              "      <td>23.9</td>\n",
              "      <td>36.6</td>\n",
              "      <td>NaN</td>\n",
              "      <td>NaN</td>\n",
              "      <td>0.9</td>\n",
              "      <td>NaN</td>\n",
              "      <td>10.4</td>\n",
              "      <td>NaN</td>\n",
              "    </tr>\n",
              "    <tr>\n",
              "      <th>36643</th>\n",
              "      <td>285</td>\n",
              "      <td>합천군</td>\n",
              "      <td>2019-08-06</td>\n",
              "      <td>25.6</td>\n",
              "      <td>22.1</td>\n",
              "      <td>30.0</td>\n",
              "      <td>NaN</td>\n",
              "      <td>15.0</td>\n",
              "      <td>1.5</td>\n",
              "      <td>NaN</td>\n",
              "      <td>1.3</td>\n",
              "      <td>NaN</td>\n",
              "    </tr>\n",
              "    <tr>\n",
              "      <th>36644</th>\n",
              "      <td>285</td>\n",
              "      <td>합천군</td>\n",
              "      <td>2019-08-07</td>\n",
              "      <td>27.3</td>\n",
              "      <td>23.5</td>\n",
              "      <td>33.1</td>\n",
              "      <td>NaN</td>\n",
              "      <td>7.5</td>\n",
              "      <td>1.4</td>\n",
              "      <td>NaN</td>\n",
              "      <td>5.5</td>\n",
              "      <td>NaN</td>\n",
              "    </tr>\n",
              "    <tr>\n",
              "      <th>36645</th>\n",
              "      <td>285</td>\n",
              "      <td>합천군</td>\n",
              "      <td>2019-08-08</td>\n",
              "      <td>27.5</td>\n",
              "      <td>23.6</td>\n",
              "      <td>34.1</td>\n",
              "      <td>NaN</td>\n",
              "      <td>NaN</td>\n",
              "      <td>1.0</td>\n",
              "      <td>NaN</td>\n",
              "      <td>6.8</td>\n",
              "      <td>NaN</td>\n",
              "    </tr>\n",
              "    <tr>\n",
              "      <th>36646</th>\n",
              "      <td>285</td>\n",
              "      <td>합천군</td>\n",
              "      <td>2019-08-09</td>\n",
              "      <td>28.4</td>\n",
              "      <td>23.2</td>\n",
              "      <td>34.7</td>\n",
              "      <td>NaN</td>\n",
              "      <td>NaN</td>\n",
              "      <td>0.8</td>\n",
              "      <td>NaN</td>\n",
              "      <td>9.4</td>\n",
              "      <td>NaN</td>\n",
              "    </tr>\n",
              "    <tr>\n",
              "      <th>36648</th>\n",
              "      <td>285</td>\n",
              "      <td>합천군</td>\n",
              "      <td>2019-08-11</td>\n",
              "      <td>28.3</td>\n",
              "      <td>22.1</td>\n",
              "      <td>34.2</td>\n",
              "      <td>NaN</td>\n",
              "      <td>NaN</td>\n",
              "      <td>1.4</td>\n",
              "      <td>NaN</td>\n",
              "      <td>7.6</td>\n",
              "      <td>NaN</td>\n",
              "    </tr>\n",
              "    <tr>\n",
              "      <th>36649</th>\n",
              "      <td>285</td>\n",
              "      <td>합천군</td>\n",
              "      <td>2019-08-12</td>\n",
              "      <td>28.0</td>\n",
              "      <td>24.5</td>\n",
              "      <td>30.9</td>\n",
              "      <td>NaN</td>\n",
              "      <td>NaN</td>\n",
              "      <td>1.3</td>\n",
              "      <td>NaN</td>\n",
              "      <td>2.3</td>\n",
              "      <td>NaN</td>\n",
              "    </tr>\n",
              "    <tr>\n",
              "      <th>36650</th>\n",
              "      <td>285</td>\n",
              "      <td>합천군</td>\n",
              "      <td>2019-08-13</td>\n",
              "      <td>28.2</td>\n",
              "      <td>23.2</td>\n",
              "      <td>35.9</td>\n",
              "      <td>NaN</td>\n",
              "      <td>0.0</td>\n",
              "      <td>1.0</td>\n",
              "      <td>NaN</td>\n",
              "      <td>7.3</td>\n",
              "      <td>NaN</td>\n",
              "    </tr>\n",
              "    <tr>\n",
              "      <th>36651</th>\n",
              "      <td>285</td>\n",
              "      <td>합천군</td>\n",
              "      <td>2019-08-14</td>\n",
              "      <td>28.5</td>\n",
              "      <td>23.3</td>\n",
              "      <td>33.8</td>\n",
              "      <td>NaN</td>\n",
              "      <td>0.5</td>\n",
              "      <td>2.2</td>\n",
              "      <td>NaN</td>\n",
              "      <td>5.8</td>\n",
              "      <td>NaN</td>\n",
              "    </tr>\n",
              "    <tr>\n",
              "      <th>36655</th>\n",
              "      <td>285</td>\n",
              "      <td>합천군</td>\n",
              "      <td>2019-08-18</td>\n",
              "      <td>27.5</td>\n",
              "      <td>22.1</td>\n",
              "      <td>34.3</td>\n",
              "      <td>NaN</td>\n",
              "      <td>NaN</td>\n",
              "      <td>1.0</td>\n",
              "      <td>NaN</td>\n",
              "      <td>NaN</td>\n",
              "      <td>NaN</td>\n",
              "    </tr>\n",
              "    <tr>\n",
              "      <th>36656</th>\n",
              "      <td>285</td>\n",
              "      <td>합천군</td>\n",
              "      <td>2019-08-19</td>\n",
              "      <td>25.9</td>\n",
              "      <td>18.8</td>\n",
              "      <td>32.7</td>\n",
              "      <td>NaN</td>\n",
              "      <td>NaN</td>\n",
              "      <td>0.8</td>\n",
              "      <td>NaN</td>\n",
              "      <td>6.2</td>\n",
              "      <td>NaN</td>\n",
              "    </tr>\n",
              "    <tr>\n",
              "      <th>36657</th>\n",
              "      <td>285</td>\n",
              "      <td>합천군</td>\n",
              "      <td>2019-08-20</td>\n",
              "      <td>27.0</td>\n",
              "      <td>22.6</td>\n",
              "      <td>31.2</td>\n",
              "      <td>NaN</td>\n",
              "      <td>NaN</td>\n",
              "      <td>1.4</td>\n",
              "      <td>NaN</td>\n",
              "      <td>4.2</td>\n",
              "      <td>NaN</td>\n",
              "    </tr>\n",
              "    <tr>\n",
              "      <th>36658</th>\n",
              "      <td>285</td>\n",
              "      <td>합천군</td>\n",
              "      <td>2019-08-21</td>\n",
              "      <td>25.5</td>\n",
              "      <td>22.5</td>\n",
              "      <td>28.7</td>\n",
              "      <td>NaN</td>\n",
              "      <td>6.5</td>\n",
              "      <td>0.6</td>\n",
              "      <td>NaN</td>\n",
              "      <td>0.0</td>\n",
              "      <td>NaN</td>\n",
              "    </tr>\n",
              "    <tr>\n",
              "      <th>36659</th>\n",
              "      <td>285</td>\n",
              "      <td>합천군</td>\n",
              "      <td>2019-08-22</td>\n",
              "      <td>27.1</td>\n",
              "      <td>24.3</td>\n",
              "      <td>33.0</td>\n",
              "      <td>NaN</td>\n",
              "      <td>62.5</td>\n",
              "      <td>0.8</td>\n",
              "      <td>NaN</td>\n",
              "      <td>NaN</td>\n",
              "      <td>NaN</td>\n",
              "    </tr>\n",
              "    <tr>\n",
              "      <th>36660</th>\n",
              "      <td>285</td>\n",
              "      <td>합천군</td>\n",
              "      <td>2019-08-23</td>\n",
              "      <td>25.4</td>\n",
              "      <td>19.3</td>\n",
              "      <td>31.0</td>\n",
              "      <td>NaN</td>\n",
              "      <td>NaN</td>\n",
              "      <td>1.2</td>\n",
              "      <td>NaN</td>\n",
              "      <td>NaN</td>\n",
              "      <td>NaN</td>\n",
              "    </tr>\n",
              "    <tr>\n",
              "      <th>36661</th>\n",
              "      <td>285</td>\n",
              "      <td>합천군</td>\n",
              "      <td>2019-08-24</td>\n",
              "      <td>22.0</td>\n",
              "      <td>16.8</td>\n",
              "      <td>29.7</td>\n",
              "      <td>NaN</td>\n",
              "      <td>NaN</td>\n",
              "      <td>1.0</td>\n",
              "      <td>NaN</td>\n",
              "      <td>NaN</td>\n",
              "      <td>NaN</td>\n",
              "    </tr>\n",
              "  </tbody>\n",
              "</table>\n",
              "</div>"
            ],
            "text/plain": [
              "        지점  지점명         일시  ...  평균 현지기압(hPa)  합계 일조시간(hr)  일 최심적설(cm)\n",
              "2899   105  강릉시 2019-12-30  ...           NaN          3.4         NaN\n",
              "2900   105  강릉시 2019-12-31  ...           NaN          8.7         NaN\n",
              "2901   105  강릉시 2020-01-01  ...           NaN          8.6         NaN\n",
              "2902   105  강릉시 2020-01-02  ...           NaN          8.4         NaN\n",
              "36638  285  합천군 2019-08-01  ...           NaN         12.9         NaN\n",
              "36639  285  합천군 2019-08-02  ...           NaN         12.2         NaN\n",
              "36640  285  합천군 2019-08-03  ...           NaN         10.4         NaN\n",
              "36641  285  합천군 2019-08-04  ...           NaN         11.5         NaN\n",
              "36642  285  합천군 2019-08-05  ...           NaN         10.4         NaN\n",
              "36643  285  합천군 2019-08-06  ...           NaN          1.3         NaN\n",
              "36644  285  합천군 2019-08-07  ...           NaN          5.5         NaN\n",
              "36645  285  합천군 2019-08-08  ...           NaN          6.8         NaN\n",
              "36646  285  합천군 2019-08-09  ...           NaN          9.4         NaN\n",
              "36648  285  합천군 2019-08-11  ...           NaN          7.6         NaN\n",
              "36649  285  합천군 2019-08-12  ...           NaN          2.3         NaN\n",
              "36650  285  합천군 2019-08-13  ...           NaN          7.3         NaN\n",
              "36651  285  합천군 2019-08-14  ...           NaN          5.8         NaN\n",
              "36655  285  합천군 2019-08-18  ...           NaN          NaN         NaN\n",
              "36656  285  합천군 2019-08-19  ...           NaN          6.2         NaN\n",
              "36657  285  합천군 2019-08-20  ...           NaN          4.2         NaN\n",
              "36658  285  합천군 2019-08-21  ...           NaN          0.0         NaN\n",
              "36659  285  합천군 2019-08-22  ...           NaN          NaN         NaN\n",
              "36660  285  합천군 2019-08-23  ...           NaN          NaN         NaN\n",
              "36661  285  합천군 2019-08-24  ...           NaN          NaN         NaN\n",
              "\n",
              "[24 rows x 12 columns]"
            ]
          },
          "metadata": {
            "tags": []
          },
          "execution_count": 391
        }
      ]
    },
    {
      "cell_type": "code",
      "metadata": {
        "colab": {
          "base_uri": "https://localhost:8080/",
          "height": 576
        },
        "id": "3bJCeurQQMIu",
        "outputId": "ddf6f688-06cd-4f2e-ddcf-cc17b21dc462"
      },
      "source": [
        "test_dd.iloc[2895:2912, ]"
      ],
      "execution_count": 392,
      "outputs": [
        {
          "output_type": "execute_result",
          "data": {
            "text/html": [
              "<div>\n",
              "<style scoped>\n",
              "    .dataframe tbody tr th:only-of-type {\n",
              "        vertical-align: middle;\n",
              "    }\n",
              "\n",
              "    .dataframe tbody tr th {\n",
              "        vertical-align: top;\n",
              "    }\n",
              "\n",
              "    .dataframe thead th {\n",
              "        text-align: right;\n",
              "    }\n",
              "</style>\n",
              "<table border=\"1\" class=\"dataframe\">\n",
              "  <thead>\n",
              "    <tr style=\"text-align: right;\">\n",
              "      <th></th>\n",
              "      <th>지점</th>\n",
              "      <th>지점명</th>\n",
              "      <th>일시</th>\n",
              "      <th>평균기온(°C)</th>\n",
              "      <th>최저기온(°C)</th>\n",
              "      <th>최고기온(°C)</th>\n",
              "      <th>강수 계속시간(hr)</th>\n",
              "      <th>일강수량(mm)</th>\n",
              "      <th>평균 풍속(m/s)</th>\n",
              "      <th>평균 현지기압(hPa)</th>\n",
              "      <th>합계 일조시간(hr)</th>\n",
              "      <th>일 최심적설(cm)</th>\n",
              "    </tr>\n",
              "  </thead>\n",
              "  <tbody>\n",
              "    <tr>\n",
              "      <th>2895</th>\n",
              "      <td>105</td>\n",
              "      <td>강릉시</td>\n",
              "      <td>2019-12-26</td>\n",
              "      <td>5.7</td>\n",
              "      <td>3.1</td>\n",
              "      <td>8.0</td>\n",
              "      <td>NaN</td>\n",
              "      <td>0.0</td>\n",
              "      <td>2.8</td>\n",
              "      <td>1010.9000</td>\n",
              "      <td>0.0</td>\n",
              "      <td>NaN</td>\n",
              "    </tr>\n",
              "    <tr>\n",
              "      <th>2896</th>\n",
              "      <td>105</td>\n",
              "      <td>강릉시</td>\n",
              "      <td>2019-12-27</td>\n",
              "      <td>2.5</td>\n",
              "      <td>0.0</td>\n",
              "      <td>7.5</td>\n",
              "      <td>NaN</td>\n",
              "      <td>NaN</td>\n",
              "      <td>3.1</td>\n",
              "      <td>1018.2000</td>\n",
              "      <td>8.7</td>\n",
              "      <td>NaN</td>\n",
              "    </tr>\n",
              "    <tr>\n",
              "      <th>2897</th>\n",
              "      <td>105</td>\n",
              "      <td>강릉시</td>\n",
              "      <td>2019-12-28</td>\n",
              "      <td>3.7</td>\n",
              "      <td>-0.4</td>\n",
              "      <td>8.7</td>\n",
              "      <td>NaN</td>\n",
              "      <td>NaN</td>\n",
              "      <td>2.0</td>\n",
              "      <td>1024.4000</td>\n",
              "      <td>8.3</td>\n",
              "      <td>NaN</td>\n",
              "    </tr>\n",
              "    <tr>\n",
              "      <th>2898</th>\n",
              "      <td>105</td>\n",
              "      <td>강릉시</td>\n",
              "      <td>2019-12-29</td>\n",
              "      <td>6.7</td>\n",
              "      <td>3.1</td>\n",
              "      <td>10.3</td>\n",
              "      <td>NaN</td>\n",
              "      <td>NaN</td>\n",
              "      <td>2.0</td>\n",
              "      <td>1022.6000</td>\n",
              "      <td>0.1</td>\n",
              "      <td>NaN</td>\n",
              "    </tr>\n",
              "    <tr>\n",
              "      <th>2899</th>\n",
              "      <td>105</td>\n",
              "      <td>강릉시</td>\n",
              "      <td>2019-12-30</td>\n",
              "      <td>8.3</td>\n",
              "      <td>1.8</td>\n",
              "      <td>14.0</td>\n",
              "      <td>NaN</td>\n",
              "      <td>0.0</td>\n",
              "      <td>3.3</td>\n",
              "      <td>NaN</td>\n",
              "      <td>3.4</td>\n",
              "      <td>NaN</td>\n",
              "    </tr>\n",
              "    <tr>\n",
              "      <th>2900</th>\n",
              "      <td>105</td>\n",
              "      <td>강릉시</td>\n",
              "      <td>2019-12-31</td>\n",
              "      <td>-2.4</td>\n",
              "      <td>-5.6</td>\n",
              "      <td>1.8</td>\n",
              "      <td>NaN</td>\n",
              "      <td>NaN</td>\n",
              "      <td>4.0</td>\n",
              "      <td>NaN</td>\n",
              "      <td>8.7</td>\n",
              "      <td>NaN</td>\n",
              "    </tr>\n",
              "    <tr>\n",
              "      <th>2901</th>\n",
              "      <td>105</td>\n",
              "      <td>강릉시</td>\n",
              "      <td>2020-01-01</td>\n",
              "      <td>1.7</td>\n",
              "      <td>-3.0</td>\n",
              "      <td>6.4</td>\n",
              "      <td>NaN</td>\n",
              "      <td>NaN</td>\n",
              "      <td>4.6</td>\n",
              "      <td>NaN</td>\n",
              "      <td>8.6</td>\n",
              "      <td>NaN</td>\n",
              "    </tr>\n",
              "    <tr>\n",
              "      <th>2902</th>\n",
              "      <td>105</td>\n",
              "      <td>강릉시</td>\n",
              "      <td>2020-01-02</td>\n",
              "      <td>3.7</td>\n",
              "      <td>0.6</td>\n",
              "      <td>7.7</td>\n",
              "      <td>NaN</td>\n",
              "      <td>NaN</td>\n",
              "      <td>4.6</td>\n",
              "      <td>NaN</td>\n",
              "      <td>8.4</td>\n",
              "      <td>NaN</td>\n",
              "    </tr>\n",
              "    <tr>\n",
              "      <th>2903</th>\n",
              "      <td>105</td>\n",
              "      <td>강릉시</td>\n",
              "      <td>2020-01-03</td>\n",
              "      <td>5.6</td>\n",
              "      <td>2.9</td>\n",
              "      <td>11.4</td>\n",
              "      <td>NaN</td>\n",
              "      <td>NaN</td>\n",
              "      <td>3.5</td>\n",
              "      <td>1019.1000</td>\n",
              "      <td>8.8</td>\n",
              "      <td>NaN</td>\n",
              "    </tr>\n",
              "    <tr>\n",
              "      <th>2904</th>\n",
              "      <td>105</td>\n",
              "      <td>강릉시</td>\n",
              "      <td>2020-01-04</td>\n",
              "      <td>5.0</td>\n",
              "      <td>2.5</td>\n",
              "      <td>10.1</td>\n",
              "      <td>NaN</td>\n",
              "      <td>NaN</td>\n",
              "      <td>3.5</td>\n",
              "      <td>1019.5000</td>\n",
              "      <td>8.7</td>\n",
              "      <td>NaN</td>\n",
              "    </tr>\n",
              "    <tr>\n",
              "      <th>2905</th>\n",
              "      <td>105</td>\n",
              "      <td>강릉시</td>\n",
              "      <td>2020-01-05</td>\n",
              "      <td>4.6</td>\n",
              "      <td>0.7</td>\n",
              "      <td>10.6</td>\n",
              "      <td>NaN</td>\n",
              "      <td>NaN</td>\n",
              "      <td>2.5</td>\n",
              "      <td>1026.4000</td>\n",
              "      <td>8.1</td>\n",
              "      <td>NaN</td>\n",
              "    </tr>\n",
              "    <tr>\n",
              "      <th>2906</th>\n",
              "      <td>105</td>\n",
              "      <td>강릉시</td>\n",
              "      <td>2020-01-06</td>\n",
              "      <td>6.1</td>\n",
              "      <td>2.2</td>\n",
              "      <td>9.3</td>\n",
              "      <td>NaN</td>\n",
              "      <td>0.1</td>\n",
              "      <td>1.9</td>\n",
              "      <td>1023.2000</td>\n",
              "      <td>0.0</td>\n",
              "      <td>NaN</td>\n",
              "    </tr>\n",
              "    <tr>\n",
              "      <th>2907</th>\n",
              "      <td>105</td>\n",
              "      <td>강릉시</td>\n",
              "      <td>2020-01-07</td>\n",
              "      <td>6.5</td>\n",
              "      <td>5.1</td>\n",
              "      <td>7.9</td>\n",
              "      <td>NaN</td>\n",
              "      <td>50.0</td>\n",
              "      <td>1.3</td>\n",
              "      <td>1010.0000</td>\n",
              "      <td>0.0</td>\n",
              "      <td>NaN</td>\n",
              "    </tr>\n",
              "    <tr>\n",
              "      <th>2908</th>\n",
              "      <td>105</td>\n",
              "      <td>강릉시</td>\n",
              "      <td>2020-01-08</td>\n",
              "      <td>7.1</td>\n",
              "      <td>4.7</td>\n",
              "      <td>11.0</td>\n",
              "      <td>NaN</td>\n",
              "      <td>9.1</td>\n",
              "      <td>3.4</td>\n",
              "      <td>1016.8500</td>\n",
              "      <td>1.3</td>\n",
              "      <td>NaN</td>\n",
              "    </tr>\n",
              "    <tr>\n",
              "      <th>2909</th>\n",
              "      <td>105</td>\n",
              "      <td>강릉시</td>\n",
              "      <td>2020-01-09</td>\n",
              "      <td>3.9</td>\n",
              "      <td>2.1</td>\n",
              "      <td>6.9</td>\n",
              "      <td>NaN</td>\n",
              "      <td>NaN</td>\n",
              "      <td>3.8</td>\n",
              "      <td>1014.4875</td>\n",
              "      <td>8.9</td>\n",
              "      <td>NaN</td>\n",
              "    </tr>\n",
              "    <tr>\n",
              "      <th>2910</th>\n",
              "      <td>105</td>\n",
              "      <td>강릉시</td>\n",
              "      <td>2020-01-10</td>\n",
              "      <td>5.0</td>\n",
              "      <td>0.8</td>\n",
              "      <td>10.7</td>\n",
              "      <td>NaN</td>\n",
              "      <td>NaN</td>\n",
              "      <td>2.8</td>\n",
              "      <td>1017.1000</td>\n",
              "      <td>7.9</td>\n",
              "      <td>NaN</td>\n",
              "    </tr>\n",
              "    <tr>\n",
              "      <th>2911</th>\n",
              "      <td>105</td>\n",
              "      <td>강릉시</td>\n",
              "      <td>2020-01-11</td>\n",
              "      <td>4.2</td>\n",
              "      <td>1.7</td>\n",
              "      <td>8.6</td>\n",
              "      <td>NaN</td>\n",
              "      <td>NaN</td>\n",
              "      <td>2.7</td>\n",
              "      <td>1014.0000</td>\n",
              "      <td>9.0</td>\n",
              "      <td>NaN</td>\n",
              "    </tr>\n",
              "  </tbody>\n",
              "</table>\n",
              "</div>"
            ],
            "text/plain": [
              "       지점  지점명         일시  ...  평균 현지기압(hPa)  합계 일조시간(hr)  일 최심적설(cm)\n",
              "2895  105  강릉시 2019-12-26  ...     1010.9000          0.0         NaN\n",
              "2896  105  강릉시 2019-12-27  ...     1018.2000          8.7         NaN\n",
              "2897  105  강릉시 2019-12-28  ...     1024.4000          8.3         NaN\n",
              "2898  105  강릉시 2019-12-29  ...     1022.6000          0.1         NaN\n",
              "2899  105  강릉시 2019-12-30  ...           NaN          3.4         NaN\n",
              "2900  105  강릉시 2019-12-31  ...           NaN          8.7         NaN\n",
              "2901  105  강릉시 2020-01-01  ...           NaN          8.6         NaN\n",
              "2902  105  강릉시 2020-01-02  ...           NaN          8.4         NaN\n",
              "2903  105  강릉시 2020-01-03  ...     1019.1000          8.8         NaN\n",
              "2904  105  강릉시 2020-01-04  ...     1019.5000          8.7         NaN\n",
              "2905  105  강릉시 2020-01-05  ...     1026.4000          8.1         NaN\n",
              "2906  105  강릉시 2020-01-06  ...     1023.2000          0.0         NaN\n",
              "2907  105  강릉시 2020-01-07  ...     1010.0000          0.0         NaN\n",
              "2908  105  강릉시 2020-01-08  ...     1016.8500          1.3         NaN\n",
              "2909  105  강릉시 2020-01-09  ...     1014.4875          8.9         NaN\n",
              "2910  105  강릉시 2020-01-10  ...     1017.1000          7.9         NaN\n",
              "2911  105  강릉시 2020-01-11  ...     1014.0000          9.0         NaN\n",
              "\n",
              "[17 rows x 12 columns]"
            ]
          },
          "metadata": {
            "tags": []
          },
          "execution_count": 392
        }
      ]
    },
    {
      "cell_type": "code",
      "metadata": {
        "id": "2BYE7fRyQl6u"
      },
      "source": [
        "test_dd.iloc[2899:2903, 9] = 1017.7000"
      ],
      "execution_count": 393,
      "outputs": []
    },
    {
      "cell_type": "code",
      "metadata": {
        "colab": {
          "base_uri": "https://localhost:8080/",
          "height": 173
        },
        "id": "COmI8Jr_RBgd",
        "outputId": "b0007b53-31a4-41ab-afae-21e3edb63960"
      },
      "source": [
        "test_dd.iloc[2899:2903]"
      ],
      "execution_count": 394,
      "outputs": [
        {
          "output_type": "execute_result",
          "data": {
            "text/html": [
              "<div>\n",
              "<style scoped>\n",
              "    .dataframe tbody tr th:only-of-type {\n",
              "        vertical-align: middle;\n",
              "    }\n",
              "\n",
              "    .dataframe tbody tr th {\n",
              "        vertical-align: top;\n",
              "    }\n",
              "\n",
              "    .dataframe thead th {\n",
              "        text-align: right;\n",
              "    }\n",
              "</style>\n",
              "<table border=\"1\" class=\"dataframe\">\n",
              "  <thead>\n",
              "    <tr style=\"text-align: right;\">\n",
              "      <th></th>\n",
              "      <th>지점</th>\n",
              "      <th>지점명</th>\n",
              "      <th>일시</th>\n",
              "      <th>평균기온(°C)</th>\n",
              "      <th>최저기온(°C)</th>\n",
              "      <th>최고기온(°C)</th>\n",
              "      <th>강수 계속시간(hr)</th>\n",
              "      <th>일강수량(mm)</th>\n",
              "      <th>평균 풍속(m/s)</th>\n",
              "      <th>평균 현지기압(hPa)</th>\n",
              "      <th>합계 일조시간(hr)</th>\n",
              "      <th>일 최심적설(cm)</th>\n",
              "    </tr>\n",
              "  </thead>\n",
              "  <tbody>\n",
              "    <tr>\n",
              "      <th>2899</th>\n",
              "      <td>105</td>\n",
              "      <td>강릉시</td>\n",
              "      <td>2019-12-30</td>\n",
              "      <td>8.3</td>\n",
              "      <td>1.8</td>\n",
              "      <td>14.0</td>\n",
              "      <td>NaN</td>\n",
              "      <td>0.0</td>\n",
              "      <td>3.3</td>\n",
              "      <td>1017.7</td>\n",
              "      <td>3.4</td>\n",
              "      <td>NaN</td>\n",
              "    </tr>\n",
              "    <tr>\n",
              "      <th>2900</th>\n",
              "      <td>105</td>\n",
              "      <td>강릉시</td>\n",
              "      <td>2019-12-31</td>\n",
              "      <td>-2.4</td>\n",
              "      <td>-5.6</td>\n",
              "      <td>1.8</td>\n",
              "      <td>NaN</td>\n",
              "      <td>NaN</td>\n",
              "      <td>4.0</td>\n",
              "      <td>1017.7</td>\n",
              "      <td>8.7</td>\n",
              "      <td>NaN</td>\n",
              "    </tr>\n",
              "    <tr>\n",
              "      <th>2901</th>\n",
              "      <td>105</td>\n",
              "      <td>강릉시</td>\n",
              "      <td>2020-01-01</td>\n",
              "      <td>1.7</td>\n",
              "      <td>-3.0</td>\n",
              "      <td>6.4</td>\n",
              "      <td>NaN</td>\n",
              "      <td>NaN</td>\n",
              "      <td>4.6</td>\n",
              "      <td>1017.7</td>\n",
              "      <td>8.6</td>\n",
              "      <td>NaN</td>\n",
              "    </tr>\n",
              "    <tr>\n",
              "      <th>2902</th>\n",
              "      <td>105</td>\n",
              "      <td>강릉시</td>\n",
              "      <td>2020-01-02</td>\n",
              "      <td>3.7</td>\n",
              "      <td>0.6</td>\n",
              "      <td>7.7</td>\n",
              "      <td>NaN</td>\n",
              "      <td>NaN</td>\n",
              "      <td>4.6</td>\n",
              "      <td>1017.7</td>\n",
              "      <td>8.4</td>\n",
              "      <td>NaN</td>\n",
              "    </tr>\n",
              "  </tbody>\n",
              "</table>\n",
              "</div>"
            ],
            "text/plain": [
              "       지점  지점명         일시  ...  평균 현지기압(hPa)  합계 일조시간(hr)  일 최심적설(cm)\n",
              "2899  105  강릉시 2019-12-30  ...        1017.7          3.4         NaN\n",
              "2900  105  강릉시 2019-12-31  ...        1017.7          8.7         NaN\n",
              "2901  105  강릉시 2020-01-01  ...        1017.7          8.6         NaN\n",
              "2902  105  강릉시 2020-01-02  ...        1017.7          8.4         NaN\n",
              "\n",
              "[4 rows x 12 columns]"
            ]
          },
          "metadata": {
            "tags": []
          },
          "execution_count": 394
        }
      ]
    },
    {
      "cell_type": "code",
      "metadata": {
        "colab": {
          "base_uri": "https://localhost:8080/",
          "height": 762
        },
        "id": "ttjalmxRRQ0a",
        "outputId": "635dbcbd-8ed1-4014-e61d-8a7139f7c87e"
      },
      "source": [
        "test_dd.iloc[36638:36661]"
      ],
      "execution_count": 395,
      "outputs": [
        {
          "output_type": "execute_result",
          "data": {
            "text/html": [
              "<div>\n",
              "<style scoped>\n",
              "    .dataframe tbody tr th:only-of-type {\n",
              "        vertical-align: middle;\n",
              "    }\n",
              "\n",
              "    .dataframe tbody tr th {\n",
              "        vertical-align: top;\n",
              "    }\n",
              "\n",
              "    .dataframe thead th {\n",
              "        text-align: right;\n",
              "    }\n",
              "</style>\n",
              "<table border=\"1\" class=\"dataframe\">\n",
              "  <thead>\n",
              "    <tr style=\"text-align: right;\">\n",
              "      <th></th>\n",
              "      <th>지점</th>\n",
              "      <th>지점명</th>\n",
              "      <th>일시</th>\n",
              "      <th>평균기온(°C)</th>\n",
              "      <th>최저기온(°C)</th>\n",
              "      <th>최고기온(°C)</th>\n",
              "      <th>강수 계속시간(hr)</th>\n",
              "      <th>일강수량(mm)</th>\n",
              "      <th>평균 풍속(m/s)</th>\n",
              "      <th>평균 현지기압(hPa)</th>\n",
              "      <th>합계 일조시간(hr)</th>\n",
              "      <th>일 최심적설(cm)</th>\n",
              "    </tr>\n",
              "  </thead>\n",
              "  <tbody>\n",
              "    <tr>\n",
              "      <th>36638</th>\n",
              "      <td>285</td>\n",
              "      <td>합천군</td>\n",
              "      <td>2019-08-01</td>\n",
              "      <td>29.5</td>\n",
              "      <td>24.0</td>\n",
              "      <td>35.4</td>\n",
              "      <td>NaN</td>\n",
              "      <td>NaN</td>\n",
              "      <td>1.4</td>\n",
              "      <td>NaN</td>\n",
              "      <td>12.9</td>\n",
              "      <td>NaN</td>\n",
              "    </tr>\n",
              "    <tr>\n",
              "      <th>36639</th>\n",
              "      <td>285</td>\n",
              "      <td>합천군</td>\n",
              "      <td>2019-08-02</td>\n",
              "      <td>29.9</td>\n",
              "      <td>23.7</td>\n",
              "      <td>36.5</td>\n",
              "      <td>NaN</td>\n",
              "      <td>NaN</td>\n",
              "      <td>0.9</td>\n",
              "      <td>NaN</td>\n",
              "      <td>12.2</td>\n",
              "      <td>NaN</td>\n",
              "    </tr>\n",
              "    <tr>\n",
              "      <th>36640</th>\n",
              "      <td>285</td>\n",
              "      <td>합천군</td>\n",
              "      <td>2019-08-03</td>\n",
              "      <td>29.3</td>\n",
              "      <td>24.3</td>\n",
              "      <td>35.4</td>\n",
              "      <td>NaN</td>\n",
              "      <td>NaN</td>\n",
              "      <td>1.1</td>\n",
              "      <td>NaN</td>\n",
              "      <td>10.4</td>\n",
              "      <td>NaN</td>\n",
              "    </tr>\n",
              "    <tr>\n",
              "      <th>36641</th>\n",
              "      <td>285</td>\n",
              "      <td>합천군</td>\n",
              "      <td>2019-08-04</td>\n",
              "      <td>29.5</td>\n",
              "      <td>23.3</td>\n",
              "      <td>36.5</td>\n",
              "      <td>NaN</td>\n",
              "      <td>NaN</td>\n",
              "      <td>0.9</td>\n",
              "      <td>NaN</td>\n",
              "      <td>11.5</td>\n",
              "      <td>NaN</td>\n",
              "    </tr>\n",
              "    <tr>\n",
              "      <th>36642</th>\n",
              "      <td>285</td>\n",
              "      <td>합천군</td>\n",
              "      <td>2019-08-05</td>\n",
              "      <td>29.7</td>\n",
              "      <td>23.9</td>\n",
              "      <td>36.6</td>\n",
              "      <td>NaN</td>\n",
              "      <td>NaN</td>\n",
              "      <td>0.9</td>\n",
              "      <td>NaN</td>\n",
              "      <td>10.4</td>\n",
              "      <td>NaN</td>\n",
              "    </tr>\n",
              "    <tr>\n",
              "      <th>36643</th>\n",
              "      <td>285</td>\n",
              "      <td>합천군</td>\n",
              "      <td>2019-08-06</td>\n",
              "      <td>25.6</td>\n",
              "      <td>22.1</td>\n",
              "      <td>30.0</td>\n",
              "      <td>NaN</td>\n",
              "      <td>15.0</td>\n",
              "      <td>1.5</td>\n",
              "      <td>NaN</td>\n",
              "      <td>1.3</td>\n",
              "      <td>NaN</td>\n",
              "    </tr>\n",
              "    <tr>\n",
              "      <th>36644</th>\n",
              "      <td>285</td>\n",
              "      <td>합천군</td>\n",
              "      <td>2019-08-07</td>\n",
              "      <td>27.3</td>\n",
              "      <td>23.5</td>\n",
              "      <td>33.1</td>\n",
              "      <td>NaN</td>\n",
              "      <td>7.5</td>\n",
              "      <td>1.4</td>\n",
              "      <td>NaN</td>\n",
              "      <td>5.5</td>\n",
              "      <td>NaN</td>\n",
              "    </tr>\n",
              "    <tr>\n",
              "      <th>36645</th>\n",
              "      <td>285</td>\n",
              "      <td>합천군</td>\n",
              "      <td>2019-08-08</td>\n",
              "      <td>27.5</td>\n",
              "      <td>23.6</td>\n",
              "      <td>34.1</td>\n",
              "      <td>NaN</td>\n",
              "      <td>NaN</td>\n",
              "      <td>1.0</td>\n",
              "      <td>NaN</td>\n",
              "      <td>6.8</td>\n",
              "      <td>NaN</td>\n",
              "    </tr>\n",
              "    <tr>\n",
              "      <th>36646</th>\n",
              "      <td>285</td>\n",
              "      <td>합천군</td>\n",
              "      <td>2019-08-09</td>\n",
              "      <td>28.4</td>\n",
              "      <td>23.2</td>\n",
              "      <td>34.7</td>\n",
              "      <td>NaN</td>\n",
              "      <td>NaN</td>\n",
              "      <td>0.8</td>\n",
              "      <td>NaN</td>\n",
              "      <td>9.4</td>\n",
              "      <td>NaN</td>\n",
              "    </tr>\n",
              "    <tr>\n",
              "      <th>36647</th>\n",
              "      <td>285</td>\n",
              "      <td>합천군</td>\n",
              "      <td>2019-08-10</td>\n",
              "      <td>28.2</td>\n",
              "      <td>23.8</td>\n",
              "      <td>34.4</td>\n",
              "      <td>NaN</td>\n",
              "      <td>NaN</td>\n",
              "      <td>1.1</td>\n",
              "      <td>1002.9</td>\n",
              "      <td>10.0</td>\n",
              "      <td>NaN</td>\n",
              "    </tr>\n",
              "    <tr>\n",
              "      <th>36648</th>\n",
              "      <td>285</td>\n",
              "      <td>합천군</td>\n",
              "      <td>2019-08-11</td>\n",
              "      <td>28.3</td>\n",
              "      <td>22.1</td>\n",
              "      <td>34.2</td>\n",
              "      <td>NaN</td>\n",
              "      <td>NaN</td>\n",
              "      <td>1.4</td>\n",
              "      <td>NaN</td>\n",
              "      <td>7.6</td>\n",
              "      <td>NaN</td>\n",
              "    </tr>\n",
              "    <tr>\n",
              "      <th>36649</th>\n",
              "      <td>285</td>\n",
              "      <td>합천군</td>\n",
              "      <td>2019-08-12</td>\n",
              "      <td>28.0</td>\n",
              "      <td>24.5</td>\n",
              "      <td>30.9</td>\n",
              "      <td>NaN</td>\n",
              "      <td>NaN</td>\n",
              "      <td>1.3</td>\n",
              "      <td>NaN</td>\n",
              "      <td>2.3</td>\n",
              "      <td>NaN</td>\n",
              "    </tr>\n",
              "    <tr>\n",
              "      <th>36650</th>\n",
              "      <td>285</td>\n",
              "      <td>합천군</td>\n",
              "      <td>2019-08-13</td>\n",
              "      <td>28.2</td>\n",
              "      <td>23.2</td>\n",
              "      <td>35.9</td>\n",
              "      <td>NaN</td>\n",
              "      <td>0.0</td>\n",
              "      <td>1.0</td>\n",
              "      <td>NaN</td>\n",
              "      <td>7.3</td>\n",
              "      <td>NaN</td>\n",
              "    </tr>\n",
              "    <tr>\n",
              "      <th>36651</th>\n",
              "      <td>285</td>\n",
              "      <td>합천군</td>\n",
              "      <td>2019-08-14</td>\n",
              "      <td>28.5</td>\n",
              "      <td>23.3</td>\n",
              "      <td>33.8</td>\n",
              "      <td>NaN</td>\n",
              "      <td>0.5</td>\n",
              "      <td>2.2</td>\n",
              "      <td>NaN</td>\n",
              "      <td>5.8</td>\n",
              "      <td>NaN</td>\n",
              "    </tr>\n",
              "    <tr>\n",
              "      <th>36652</th>\n",
              "      <td>285</td>\n",
              "      <td>합천군</td>\n",
              "      <td>2019-08-15</td>\n",
              "      <td>27.9</td>\n",
              "      <td>24.1</td>\n",
              "      <td>32.3</td>\n",
              "      <td>NaN</td>\n",
              "      <td>0.5</td>\n",
              "      <td>1.4</td>\n",
              "      <td>986.9</td>\n",
              "      <td>1.2</td>\n",
              "      <td>NaN</td>\n",
              "    </tr>\n",
              "    <tr>\n",
              "      <th>36653</th>\n",
              "      <td>285</td>\n",
              "      <td>합천군</td>\n",
              "      <td>2019-08-16</td>\n",
              "      <td>27.4</td>\n",
              "      <td>23.2</td>\n",
              "      <td>33.5</td>\n",
              "      <td>NaN</td>\n",
              "      <td>0.3</td>\n",
              "      <td>1.7</td>\n",
              "      <td>992.3</td>\n",
              "      <td>7.2</td>\n",
              "      <td>NaN</td>\n",
              "    </tr>\n",
              "    <tr>\n",
              "      <th>36654</th>\n",
              "      <td>285</td>\n",
              "      <td>합천군</td>\n",
              "      <td>2019-08-17</td>\n",
              "      <td>27.3</td>\n",
              "      <td>20.3</td>\n",
              "      <td>34.6</td>\n",
              "      <td>NaN</td>\n",
              "      <td>NaN</td>\n",
              "      <td>1.6</td>\n",
              "      <td>998.7</td>\n",
              "      <td>12.0</td>\n",
              "      <td>NaN</td>\n",
              "    </tr>\n",
              "    <tr>\n",
              "      <th>36655</th>\n",
              "      <td>285</td>\n",
              "      <td>합천군</td>\n",
              "      <td>2019-08-18</td>\n",
              "      <td>27.5</td>\n",
              "      <td>22.1</td>\n",
              "      <td>34.3</td>\n",
              "      <td>NaN</td>\n",
              "      <td>NaN</td>\n",
              "      <td>1.0</td>\n",
              "      <td>NaN</td>\n",
              "      <td>NaN</td>\n",
              "      <td>NaN</td>\n",
              "    </tr>\n",
              "    <tr>\n",
              "      <th>36656</th>\n",
              "      <td>285</td>\n",
              "      <td>합천군</td>\n",
              "      <td>2019-08-19</td>\n",
              "      <td>25.9</td>\n",
              "      <td>18.8</td>\n",
              "      <td>32.7</td>\n",
              "      <td>NaN</td>\n",
              "      <td>NaN</td>\n",
              "      <td>0.8</td>\n",
              "      <td>NaN</td>\n",
              "      <td>6.2</td>\n",
              "      <td>NaN</td>\n",
              "    </tr>\n",
              "    <tr>\n",
              "      <th>36657</th>\n",
              "      <td>285</td>\n",
              "      <td>합천군</td>\n",
              "      <td>2019-08-20</td>\n",
              "      <td>27.0</td>\n",
              "      <td>22.6</td>\n",
              "      <td>31.2</td>\n",
              "      <td>NaN</td>\n",
              "      <td>NaN</td>\n",
              "      <td>1.4</td>\n",
              "      <td>NaN</td>\n",
              "      <td>4.2</td>\n",
              "      <td>NaN</td>\n",
              "    </tr>\n",
              "    <tr>\n",
              "      <th>36658</th>\n",
              "      <td>285</td>\n",
              "      <td>합천군</td>\n",
              "      <td>2019-08-21</td>\n",
              "      <td>25.5</td>\n",
              "      <td>22.5</td>\n",
              "      <td>28.7</td>\n",
              "      <td>NaN</td>\n",
              "      <td>6.5</td>\n",
              "      <td>0.6</td>\n",
              "      <td>NaN</td>\n",
              "      <td>0.0</td>\n",
              "      <td>NaN</td>\n",
              "    </tr>\n",
              "    <tr>\n",
              "      <th>36659</th>\n",
              "      <td>285</td>\n",
              "      <td>합천군</td>\n",
              "      <td>2019-08-22</td>\n",
              "      <td>27.1</td>\n",
              "      <td>24.3</td>\n",
              "      <td>33.0</td>\n",
              "      <td>NaN</td>\n",
              "      <td>62.5</td>\n",
              "      <td>0.8</td>\n",
              "      <td>NaN</td>\n",
              "      <td>NaN</td>\n",
              "      <td>NaN</td>\n",
              "    </tr>\n",
              "    <tr>\n",
              "      <th>36660</th>\n",
              "      <td>285</td>\n",
              "      <td>합천군</td>\n",
              "      <td>2019-08-23</td>\n",
              "      <td>25.4</td>\n",
              "      <td>19.3</td>\n",
              "      <td>31.0</td>\n",
              "      <td>NaN</td>\n",
              "      <td>NaN</td>\n",
              "      <td>1.2</td>\n",
              "      <td>NaN</td>\n",
              "      <td>NaN</td>\n",
              "      <td>NaN</td>\n",
              "    </tr>\n",
              "  </tbody>\n",
              "</table>\n",
              "</div>"
            ],
            "text/plain": [
              "        지점  지점명         일시  ...  평균 현지기압(hPa)  합계 일조시간(hr)  일 최심적설(cm)\n",
              "36638  285  합천군 2019-08-01  ...           NaN         12.9         NaN\n",
              "36639  285  합천군 2019-08-02  ...           NaN         12.2         NaN\n",
              "36640  285  합천군 2019-08-03  ...           NaN         10.4         NaN\n",
              "36641  285  합천군 2019-08-04  ...           NaN         11.5         NaN\n",
              "36642  285  합천군 2019-08-05  ...           NaN         10.4         NaN\n",
              "36643  285  합천군 2019-08-06  ...           NaN          1.3         NaN\n",
              "36644  285  합천군 2019-08-07  ...           NaN          5.5         NaN\n",
              "36645  285  합천군 2019-08-08  ...           NaN          6.8         NaN\n",
              "36646  285  합천군 2019-08-09  ...           NaN          9.4         NaN\n",
              "36647  285  합천군 2019-08-10  ...        1002.9         10.0         NaN\n",
              "36648  285  합천군 2019-08-11  ...           NaN          7.6         NaN\n",
              "36649  285  합천군 2019-08-12  ...           NaN          2.3         NaN\n",
              "36650  285  합천군 2019-08-13  ...           NaN          7.3         NaN\n",
              "36651  285  합천군 2019-08-14  ...           NaN          5.8         NaN\n",
              "36652  285  합천군 2019-08-15  ...         986.9          1.2         NaN\n",
              "36653  285  합천군 2019-08-16  ...         992.3          7.2         NaN\n",
              "36654  285  합천군 2019-08-17  ...         998.7         12.0         NaN\n",
              "36655  285  합천군 2019-08-18  ...           NaN          NaN         NaN\n",
              "36656  285  합천군 2019-08-19  ...           NaN          6.2         NaN\n",
              "36657  285  합천군 2019-08-20  ...           NaN          4.2         NaN\n",
              "36658  285  합천군 2019-08-21  ...           NaN          0.0         NaN\n",
              "36659  285  합천군 2019-08-22  ...           NaN          NaN         NaN\n",
              "36660  285  합천군 2019-08-23  ...           NaN          NaN         NaN\n",
              "\n",
              "[23 rows x 12 columns]"
            ]
          },
          "metadata": {
            "tags": []
          },
          "execution_count": 395
        }
      ]
    },
    {
      "cell_type": "code",
      "metadata": {
        "id": "0YFiX8I0Rf-_"
      },
      "source": [
        "test_dd.iloc[36638:36647, -3] = 1000.\r\n",
        "test_dd.iloc[36648:36652, -3] = 980.7\r\n",
        "test_dd.iloc[36655:36661, -3] = 999.7\r\n",
        "test_dd.iloc[36661, -3] = 1000.7"
      ],
      "execution_count": 405,
      "outputs": []
    },
    {
      "cell_type": "code",
      "metadata": {
        "colab": {
          "base_uri": "https://localhost:8080/"
        },
        "id": "kG5YvJGoSO1X",
        "outputId": "97ecf0c4-8fa6-4a5c-f047-36e465066310"
      },
      "source": [
        "test_dd['평균 현지기압(hPa)'].isna().sum() == 0"
      ],
      "execution_count": 407,
      "outputs": [
        {
          "output_type": "execute_result",
          "data": {
            "text/plain": [
              "True"
            ]
          },
          "metadata": {
            "tags": []
          },
          "execution_count": 407
        }
      ]
    },
    {
      "cell_type": "markdown",
      "metadata": {
        "id": "qZD2zcWMNjy5"
      },
      "source": [
        "합계 일조시간"
      ]
    },
    {
      "cell_type": "code",
      "metadata": {
        "colab": {
          "base_uri": "https://localhost:8080/"
        },
        "id": "FFTlSy5gNjSy",
        "outputId": "c1e197fd-89f3-4f90-f4f8-89fd5232ee9d"
      },
      "source": [
        "print(test_dd['합계 일조시간(hr)'].isna().sum())\r\n",
        "test_dd = set_mean_value(test_dd.copy(), '합계 일조시간(hr)')\r\n",
        "test_dd['합계 일조시간(hr)'].isna().sum()"
      ],
      "execution_count": 408,
      "outputs": [
        {
          "output_type": "stream",
          "text": [
            "22\n"
          ],
          "name": "stdout"
        },
        {
          "output_type": "execute_result",
          "data": {
            "text/plain": [
              "20"
            ]
          },
          "metadata": {
            "tags": []
          },
          "execution_count": 408
        }
      ]
    },
    {
      "cell_type": "markdown",
      "metadata": {
        "id": "0HUAplEuPYgv"
      },
      "source": [
        "### 0으로 만들기\r\n",
        "\r\n",
        "+ 합계 일조시간 22개\r\n",
        "+ 강수 계속시간 \r\n",
        "+ 일 강수량 \r\n",
        "+ 일 최심적설"
      ]
    },
    {
      "cell_type": "code",
      "metadata": {
        "colab": {
          "base_uri": "https://localhost:8080/",
          "height": 419
        },
        "id": "koo-6xGBNv_J",
        "outputId": "dee32bb3-7e2c-4fa4-b466-033756d47ae9"
      },
      "source": [
        "test_dd.fillna(0)"
      ],
      "execution_count": 409,
      "outputs": [
        {
          "output_type": "execute_result",
          "data": {
            "text/html": [
              "<div>\n",
              "<style scoped>\n",
              "    .dataframe tbody tr th:only-of-type {\n",
              "        vertical-align: middle;\n",
              "    }\n",
              "\n",
              "    .dataframe tbody tr th {\n",
              "        vertical-align: top;\n",
              "    }\n",
              "\n",
              "    .dataframe thead th {\n",
              "        text-align: right;\n",
              "    }\n",
              "</style>\n",
              "<table border=\"1\" class=\"dataframe\">\n",
              "  <thead>\n",
              "    <tr style=\"text-align: right;\">\n",
              "      <th></th>\n",
              "      <th>지점</th>\n",
              "      <th>지점명</th>\n",
              "      <th>일시</th>\n",
              "      <th>평균기온(°C)</th>\n",
              "      <th>최저기온(°C)</th>\n",
              "      <th>최고기온(°C)</th>\n",
              "      <th>강수 계속시간(hr)</th>\n",
              "      <th>일강수량(mm)</th>\n",
              "      <th>평균 풍속(m/s)</th>\n",
              "      <th>평균 현지기압(hPa)</th>\n",
              "      <th>합계 일조시간(hr)</th>\n",
              "      <th>일 최심적설(cm)</th>\n",
              "    </tr>\n",
              "  </thead>\n",
              "  <tbody>\n",
              "    <tr>\n",
              "      <th>0</th>\n",
              "      <td>90</td>\n",
              "      <td>속초시</td>\n",
              "      <td>2019-08-01</td>\n",
              "      <td>29.7</td>\n",
              "      <td>26.4</td>\n",
              "      <td>35.6</td>\n",
              "      <td>0.0</td>\n",
              "      <td>0.3</td>\n",
              "      <td>2.0</td>\n",
              "      <td>1007.2</td>\n",
              "      <td>8.3</td>\n",
              "      <td>0.0</td>\n",
              "    </tr>\n",
              "    <tr>\n",
              "      <th>1</th>\n",
              "      <td>90</td>\n",
              "      <td>속초시</td>\n",
              "      <td>2019-08-02</td>\n",
              "      <td>29.4</td>\n",
              "      <td>25.9</td>\n",
              "      <td>33.1</td>\n",
              "      <td>0.0</td>\n",
              "      <td>0.0</td>\n",
              "      <td>1.4</td>\n",
              "      <td>1008.8</td>\n",
              "      <td>13.2</td>\n",
              "      <td>0.0</td>\n",
              "    </tr>\n",
              "    <tr>\n",
              "      <th>2</th>\n",
              "      <td>90</td>\n",
              "      <td>속초시</td>\n",
              "      <td>2019-08-03</td>\n",
              "      <td>26.7</td>\n",
              "      <td>24.4</td>\n",
              "      <td>29.7</td>\n",
              "      <td>0.0</td>\n",
              "      <td>0.0</td>\n",
              "      <td>1.8</td>\n",
              "      <td>1009.7</td>\n",
              "      <td>10.3</td>\n",
              "      <td>0.0</td>\n",
              "    </tr>\n",
              "    <tr>\n",
              "      <th>3</th>\n",
              "      <td>90</td>\n",
              "      <td>속초시</td>\n",
              "      <td>2019-08-04</td>\n",
              "      <td>27.0</td>\n",
              "      <td>25.3</td>\n",
              "      <td>29.6</td>\n",
              "      <td>0.0</td>\n",
              "      <td>0.0</td>\n",
              "      <td>1.2</td>\n",
              "      <td>1008.7</td>\n",
              "      <td>6.6</td>\n",
              "      <td>0.0</td>\n",
              "    </tr>\n",
              "    <tr>\n",
              "      <th>4</th>\n",
              "      <td>90</td>\n",
              "      <td>속초시</td>\n",
              "      <td>2019-08-05</td>\n",
              "      <td>27.7</td>\n",
              "      <td>24.8</td>\n",
              "      <td>31.2</td>\n",
              "      <td>0.0</td>\n",
              "      <td>0.0</td>\n",
              "      <td>1.4</td>\n",
              "      <td>1008.7</td>\n",
              "      <td>12.0</td>\n",
              "      <td>0.0</td>\n",
              "    </tr>\n",
              "    <tr>\n",
              "      <th>...</th>\n",
              "      <td>...</td>\n",
              "      <td>...</td>\n",
              "      <td>...</td>\n",
              "      <td>...</td>\n",
              "      <td>...</td>\n",
              "      <td>...</td>\n",
              "      <td>...</td>\n",
              "      <td>...</td>\n",
              "      <td>...</td>\n",
              "      <td>...</td>\n",
              "      <td>...</td>\n",
              "      <td>...</td>\n",
              "    </tr>\n",
              "    <tr>\n",
              "      <th>38923</th>\n",
              "      <td>295</td>\n",
              "      <td>남해군</td>\n",
              "      <td>2020-10-27</td>\n",
              "      <td>14.3</td>\n",
              "      <td>9.5</td>\n",
              "      <td>20.5</td>\n",
              "      <td>0.0</td>\n",
              "      <td>0.0</td>\n",
              "      <td>1.0</td>\n",
              "      <td>1015.1</td>\n",
              "      <td>9.0</td>\n",
              "      <td>0.0</td>\n",
              "    </tr>\n",
              "    <tr>\n",
              "      <th>38924</th>\n",
              "      <td>295</td>\n",
              "      <td>남해군</td>\n",
              "      <td>2020-10-28</td>\n",
              "      <td>14.6</td>\n",
              "      <td>11.4</td>\n",
              "      <td>19.6</td>\n",
              "      <td>0.0</td>\n",
              "      <td>0.0</td>\n",
              "      <td>0.8</td>\n",
              "      <td>1015.8</td>\n",
              "      <td>1.1</td>\n",
              "      <td>0.0</td>\n",
              "    </tr>\n",
              "    <tr>\n",
              "      <th>38925</th>\n",
              "      <td>295</td>\n",
              "      <td>남해군</td>\n",
              "      <td>2020-10-29</td>\n",
              "      <td>12.5</td>\n",
              "      <td>8.5</td>\n",
              "      <td>18.2</td>\n",
              "      <td>0.0</td>\n",
              "      <td>0.0</td>\n",
              "      <td>1.2</td>\n",
              "      <td>1017.1</td>\n",
              "      <td>8.6</td>\n",
              "      <td>0.0</td>\n",
              "    </tr>\n",
              "    <tr>\n",
              "      <th>38926</th>\n",
              "      <td>295</td>\n",
              "      <td>남해군</td>\n",
              "      <td>2020-10-30</td>\n",
              "      <td>13.4</td>\n",
              "      <td>8.6</td>\n",
              "      <td>18.9</td>\n",
              "      <td>0.0</td>\n",
              "      <td>0.0</td>\n",
              "      <td>1.4</td>\n",
              "      <td>1019.0</td>\n",
              "      <td>8.9</td>\n",
              "      <td>0.0</td>\n",
              "    </tr>\n",
              "    <tr>\n",
              "      <th>38927</th>\n",
              "      <td>295</td>\n",
              "      <td>남해군</td>\n",
              "      <td>2020-10-31</td>\n",
              "      <td>12.6</td>\n",
              "      <td>8.6</td>\n",
              "      <td>17.6</td>\n",
              "      <td>0.0</td>\n",
              "      <td>0.0</td>\n",
              "      <td>1.3</td>\n",
              "      <td>1020.1</td>\n",
              "      <td>8.7</td>\n",
              "      <td>0.0</td>\n",
              "    </tr>\n",
              "  </tbody>\n",
              "</table>\n",
              "<p>38928 rows × 12 columns</p>\n",
              "</div>"
            ],
            "text/plain": [
              "        지점  지점명         일시  ...  평균 현지기압(hPa)  합계 일조시간(hr)  일 최심적설(cm)\n",
              "0       90  속초시 2019-08-01  ...        1007.2          8.3         0.0\n",
              "1       90  속초시 2019-08-02  ...        1008.8         13.2         0.0\n",
              "2       90  속초시 2019-08-03  ...        1009.7         10.3         0.0\n",
              "3       90  속초시 2019-08-04  ...        1008.7          6.6         0.0\n",
              "4       90  속초시 2019-08-05  ...        1008.7         12.0         0.0\n",
              "...    ...  ...        ...  ...           ...          ...         ...\n",
              "38923  295  남해군 2020-10-27  ...        1015.1          9.0         0.0\n",
              "38924  295  남해군 2020-10-28  ...        1015.8          1.1         0.0\n",
              "38925  295  남해군 2020-10-29  ...        1017.1          8.6         0.0\n",
              "38926  295  남해군 2020-10-30  ...        1019.0          8.9         0.0\n",
              "38927  295  남해군 2020-10-31  ...        1020.1          8.7         0.0\n",
              "\n",
              "[38928 rows x 12 columns]"
            ]
          },
          "metadata": {
            "tags": []
          },
          "execution_count": 409
        }
      ]
    },
    {
      "cell_type": "markdown",
      "metadata": {
        "id": "WQFjVWxnS7O9"
      },
      "source": [
        "# 정제 후 데이터 저장\r\n"
      ]
    },
    {
      "cell_type": "markdown",
      "metadata": {
        "id": "EBzpInSbTGbZ"
      },
      "source": [
        "- df_test : call data\r\n",
        "- test_dd : weather data"
      ]
    },
    {
      "cell_type": "code",
      "metadata": {
        "id": "MsK4p8zmS2i7"
      },
      "source": [
        "df_test.to_csv('/content/drive/MyDrive/Colab Notebooks/data/data/whatShouldIEatToday/refine/df_c.csv')\r\n",
        "test_dd.to_csv('/content/drive/MyDrive/Colab Notebooks/data/data/whatShouldIEatToday/refine/df_w.csv')"
      ],
      "execution_count": 412,
      "outputs": []
    },
    {
      "cell_type": "code",
      "metadata": {
        "colab": {
          "base_uri": "https://localhost:8080/"
        },
        "id": "jP95OjbITtxl",
        "outputId": "011e9412-8ae0-48da-c93c-57c00523d7ab"
      },
      "source": [
        "df_c = pd.read_csv('/content/drive/MyDrive/Colab Notebooks/data/data/whatShouldIEatToday/refine/df_c.csv')\r\n",
        "df_c.info()"
      ],
      "execution_count": 413,
      "outputs": [
        {
          "output_type": "stream",
          "text": [
            "<class 'pandas.core.frame.DataFrame'>\n",
            "RangeIndex: 1516970 entries, 0 to 1516969\n",
            "Data columns (total 9 columns):\n",
            " #   Column        Non-Null Count    Dtype  \n",
            "---  ------        --------------    -----  \n",
            " 0   Unnamed: 0    1516970 non-null  int64  \n",
            " 1   일자(YYYYMMDD)  1516970 non-null  object \n",
            " 2   dayofweek     1516970 non-null  int64  \n",
            " 3   연령            1516970 non-null  int64  \n",
            " 4   성별            1516970 non-null  int64  \n",
            " 5   발신지(시도)       1516970 non-null  object \n",
            " 6   발신지(시군구)      1516970 non-null  object \n",
            " 7   중분류           1516970 non-null  object \n",
            " 8   통화비율(시군구내)    1516970 non-null  float64\n",
            "dtypes: float64(1), int64(4), object(4)\n",
            "memory usage: 104.2+ MB\n"
          ],
          "name": "stdout"
        }
      ]
    },
    {
      "cell_type": "code",
      "metadata": {
        "colab": {
          "base_uri": "https://localhost:8080/"
        },
        "id": "CMyjcbKFT3FT",
        "outputId": "09e8dfb8-d214-40b8-c980-3a83c8d7c692"
      },
      "source": [
        "df_w = pd.read_csv('/content/drive/MyDrive/Colab Notebooks/data/data/whatShouldIEatToday/refine/df_w.csv')\r\n",
        "df_w.info()"
      ],
      "execution_count": 414,
      "outputs": [
        {
          "output_type": "stream",
          "text": [
            "<class 'pandas.core.frame.DataFrame'>\n",
            "RangeIndex: 38928 entries, 0 to 38927\n",
            "Data columns (total 13 columns):\n",
            " #   Column        Non-Null Count  Dtype  \n",
            "---  ------        --------------  -----  \n",
            " 0   Unnamed: 0    38928 non-null  int64  \n",
            " 1   지점            38928 non-null  int64  \n",
            " 2   지점명           38928 non-null  object \n",
            " 3   일시            38928 non-null  object \n",
            " 4   평균기온(°C)      38928 non-null  float64\n",
            " 5   최저기온(°C)      38928 non-null  float64\n",
            " 6   최고기온(°C)      38928 non-null  float64\n",
            " 7   강수 계속시간(hr)   3746 non-null   float64\n",
            " 8   일강수량(mm)      15261 non-null  float64\n",
            " 9   평균 풍속(m/s)    38876 non-null  float64\n",
            " 10  평균 현지기압(hPa)  38928 non-null  float64\n",
            " 11  합계 일조시간(hr)   38908 non-null  float64\n",
            " 12  일 최심적설(cm)    89 non-null     float64\n",
            "dtypes: float64(9), int64(2), object(2)\n",
            "memory usage: 3.9+ MB\n"
          ],
          "name": "stdout"
        }
      ]
    },
    {
      "cell_type": "code",
      "metadata": {
        "id": "Keu3GLwJT6uk"
      },
      "source": [
        ""
      ],
      "execution_count": null,
      "outputs": []
    }
  ]
}
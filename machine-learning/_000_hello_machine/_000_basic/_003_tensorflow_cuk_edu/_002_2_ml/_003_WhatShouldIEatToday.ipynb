{
  "nbformat": 4,
  "nbformat_minor": 0,
  "metadata": {
    "colab": {
      "name": "cuk_edu/_004_WhatShouldIEatToday.ipynb",
      "provenance": [],
      "collapsed_sections": [],
      "toc_visible": true,
      "mount_file_id": "12wL8vKWjFQNSs7fLuhUZImCAk0jl6uVT",
      "authorship_tag": "ABX9TyOIgXll3oaEcCeeMzTlrrnz",
      "include_colab_link": true
    },
    "kernelspec": {
      "name": "python3",
      "display_name": "Python 3"
    }
  },
  "cells": [
    {
      "cell_type": "markdown",
      "metadata": {
        "id": "view-in-github",
        "colab_type": "text"
      },
      "source": [
        "<a href=\"https://colab.research.google.com/github/wiv33/A-Learning-python/blob/master/machine-learning/_000_hello_machine/_000_basic/_003_tensorflow_cuk_edu/_002_2_ml/_003_WhatShouldIEatToday.ipynb\" target=\"_parent\"><img src=\"https://colab.research.google.com/assets/colab-badge.svg\" alt=\"Open In Colab\"/></a>"
      ]
    },
    {
      "cell_type": "markdown",
      "metadata": {
        "id": "v2nGZAAc24Ua"
      },
      "source": [
        "# What should I eat today?"
      ]
    },
    {
      "cell_type": "markdown",
      "metadata": {
        "id": "cPhrpcaee6d2"
      },
      "source": [
        "# 데이터 로드하기\n",
        "\n",
        "- 2019-08 ~ 2020-10\n",
        "전화 데이터 : 연령대, 성별, 음식점\n",
        "날씨 데이터 : 강수량, 눈, 최고, 최저, 평균, 기온"
      ]
    },
    {
      "cell_type": "code",
      "metadata": {
        "id": "jnB5ekd-f_-s"
      },
      "source": [
        "file_names = [\"call_1908.csv\", \"call_1909.csv\", \"call_1910.csv\", \"call_1911.csv\", \"call_1912.csv\", \"call_2001.csv\", \"call_2002.csv\", \"call_2003.csv\", \"call_2004.csv\", \"call_2005.csv\", \"call_2006.csv\", \"call_2007.csv\", \"call_2008.csv\", \"call_2009.csv\", \"call_2010.csv\", \"weahter_final.csv\"]\n",
        "data_location = [\"1AOYLpP9B6oUrlFz1S2B_-JlNXiwb2uLM\", \"1tSHjQ_Rf5H2dpLHtczVdKxX11avKovfL\", \"1gFPdMlf8tcxXMepm95I99SNRjjAlG3WQ\", \"1aqKZqEe8I8_rBB5ZP2aeJScu7rremoXG\", \"1l-_5WIDKx5f4JFMUg8SNM67foJJ6A6p6\", \"1wCnAcveLXq-v7oyAT3v3YRyCfsjkGtxG\", \"1EtbBjzwbCQ170yLQemp479z0TOZKHIOr\", \"1DBJTRHIPXmEpgas6kCwAYnnJ159sz9UV\", \"1mM-uhJtfNQ652Mo_r_eyE33RBnXl___h\", \"1IMTwqb3_jbFJ9XCYdkHkbewudG_FrNx9\", \"1AKkNRz-xt5aMqa_knBZ3XBznNoIsLAXL\", \"18xVBK0Rw1nPQfZaZ8Nzvt5gUphsbusyZ\", \"1IAMjjlFJ_B_3cHvaD-rKZfE0xU7TvDMy\", \"1bDNdRiKe14PcsMQi_jUwmBQAR0bxvio8\", \"15IBcX9TM11BEnHZ4qbdwLgN-Sus3oBVF\", \"1g-7eeYV6ok3aOrsjNwF5oiugfYmeSZHn\"]\n",
        "\n",
        "files = [(file_names[x], data_location[x]) for x in range(len(file_names))]\n",
        "calls = files[:-1]\n",
        "weather = files[-1]"
      ],
      "execution_count": 1,
      "outputs": []
    },
    {
      "cell_type": "code",
      "metadata": {
        "colab": {
          "base_uri": "https://localhost:8080/"
        },
        "id": "I0smShXVkKhm",
        "outputId": "e21380f3-4274-4d39-9e87-521e8fd8c0ba"
      },
      "source": [
        "calls"
      ],
      "execution_count": 2,
      "outputs": [
        {
          "output_type": "execute_result",
          "data": {
            "text/plain": [
              "[('call_1908.csv', '1AOYLpP9B6oUrlFz1S2B_-JlNXiwb2uLM'),\n",
              " ('call_1909.csv', '1tSHjQ_Rf5H2dpLHtczVdKxX11avKovfL'),\n",
              " ('call_1910.csv', '1gFPdMlf8tcxXMepm95I99SNRjjAlG3WQ'),\n",
              " ('call_1911.csv', '1aqKZqEe8I8_rBB5ZP2aeJScu7rremoXG'),\n",
              " ('call_1912.csv', '1l-_5WIDKx5f4JFMUg8SNM67foJJ6A6p6'),\n",
              " ('call_2001.csv', '1wCnAcveLXq-v7oyAT3v3YRyCfsjkGtxG'),\n",
              " ('call_2002.csv', '1EtbBjzwbCQ170yLQemp479z0TOZKHIOr'),\n",
              " ('call_2003.csv', '1DBJTRHIPXmEpgas6kCwAYnnJ159sz9UV'),\n",
              " ('call_2004.csv', '1mM-uhJtfNQ652Mo_r_eyE33RBnXl___h'),\n",
              " ('call_2005.csv', '1IMTwqb3_jbFJ9XCYdkHkbewudG_FrNx9'),\n",
              " ('call_2006.csv', '1AKkNRz-xt5aMqa_knBZ3XBznNoIsLAXL'),\n",
              " ('call_2007.csv', '18xVBK0Rw1nPQfZaZ8Nzvt5gUphsbusyZ'),\n",
              " ('call_2008.csv', '1IAMjjlFJ_B_3cHvaD-rKZfE0xU7TvDMy'),\n",
              " ('call_2009.csv', '1bDNdRiKe14PcsMQi_jUwmBQAR0bxvio8'),\n",
              " ('call_2010.csv', '15IBcX9TM11BEnHZ4qbdwLgN-Sus3oBVF')]"
            ]
          },
          "metadata": {
            "tags": []
          },
          "execution_count": 2
        }
      ]
    },
    {
      "cell_type": "code",
      "metadata": {
        "colab": {
          "base_uri": "https://localhost:8080/"
        },
        "id": "eAjgv8IykmhA",
        "outputId": "2a8e0b69-1e28-4516-a554-983de2b36d82"
      },
      "source": [
        "weather"
      ],
      "execution_count": 3,
      "outputs": [
        {
          "output_type": "execute_result",
          "data": {
            "text/plain": [
              "('weahter_final.csv', '1g-7eeYV6ok3aOrsjNwF5oiugfYmeSZHn')"
            ]
          },
          "metadata": {
            "tags": []
          },
          "execution_count": 3
        }
      ]
    },
    {
      "cell_type": "markdown",
      "metadata": {
        "id": "XY4rGPCBkqXX"
      },
      "source": [
        "## 데이터 파일 읽어오기\n",
        "\n",
        "하나의 공유 파일을 불러와 column을 출력한다."
      ]
    },
    {
      "cell_type": "code",
      "metadata": {
        "id": "LZ9d65DjmKlK"
      },
      "source": [
        "import pandas as pd"
      ],
      "execution_count": 4,
      "outputs": []
    },
    {
      "cell_type": "code",
      "metadata": {
        "id": "-EXxnvPCmAmA"
      },
      "source": [
        "# id = \"1AOYLpP9B6oUrlFz1S2B_-JlNXiwb2uLM\"\n",
        "# df = pd.read_csv(f\"https://drive.google.com/uc?id={id}&authuser=0&export=download\")"
      ],
      "execution_count": null,
      "outputs": []
    },
    {
      "cell_type": "code",
      "metadata": {
        "colab": {
          "base_uri": "https://localhost:8080/"
        },
        "id": "nfikd0RSpWAd",
        "outputId": "70fb0514-36d4-46ed-e90e-645d3eecb54c"
      },
      "source": [
        "# df.columns\r\n",
        "df_columns = ['일자(YYYYMMDD)', '연령', '성별', '발신지(시도)', '발신지(시군구)', '대분류', '중분류',\r\n",
        "       '통화비율(시군구내)']\r\n",
        "df_columns"
      ],
      "execution_count": 5,
      "outputs": [
        {
          "output_type": "execute_result",
          "data": {
            "text/plain": [
              "['일자(YYYYMMDD)', '연령', '성별', '발신지(시도)', '발신지(시군구)', '대분류', '중분류', '통화비율(시군구내)']"
            ]
          },
          "metadata": {
            "tags": []
          },
          "execution_count": 5
        }
      ]
    },
    {
      "cell_type": "markdown",
      "metadata": {
        "id": "TOFH__Mtr1Yw"
      },
      "source": [
        "판다스에 축적하기"
      ]
    },
    {
      "cell_type": "code",
      "metadata": {
        "id": "6b8xJKMZizEm"
      },
      "source": [
        "import pandas as pd"
      ],
      "execution_count": 6,
      "outputs": []
    },
    {
      "cell_type": "code",
      "metadata": {
        "id": "ujt5JMgtps81"
      },
      "source": [
        "def downloadUrl(id):\n",
        "  return f\"https://drive.google.com/uc?id={id}&authuser=0&export=download\"\n",
        "\n",
        "def accumulateDataFrame(acc_df: pd.DataFrame, doc_ids: []) -> pd.DataFrame:\n",
        "  if type(doc_ids) != list:  # list 형태로 만들어서 입력받아야 함.\n",
        "    print(\"구글 ID를 모은 `리스트`가 필요합니다. ex) [ids]\")\n",
        "    return\n",
        "\n",
        "  for name, id in doc_ids:  # doc_ids file 다운로드 및 append 작업\n",
        "  # 총 세 단계\n",
        "    acc_df = acc_df.append(pd.read_csv(downloadUrl(id)),\n",
        "                           ignore_index=True)\n",
        "\n",
        "  return acc_df.copy()  # 복사본을 만들어 반환한다."
      ],
      "execution_count": 7,
      "outputs": []
    },
    {
      "cell_type": "markdown",
      "metadata": {
        "id": "A9ibo8rTsJC9"
      },
      "source": [
        "- 컬럼이 선언된 DataFrame, 구글 id 리스트를 입력받아 하나로 축적\n",
        "- 세 단계:\n",
        "  1. pd.read_csv로 파일을 불러와 DataFrame으로 만든다.\n",
        "  2. 기존 DataFrame에 추가(새로운 DataFrame 형성)하고\n",
        "  3. 새로운 DataFrame으로 교체한다."
      ]
    },
    {
      "cell_type": "code",
      "metadata": {
        "id": "7dGa_HWip9Ag"
      },
      "source": [
        "init_df = pd.DataFrame(data=None, columns=['일자(YYYYMMDD)', '연령', '성별', \n",
        "                                      '발신지(시도)', '발신지(시군구)', \n",
        "                                      '대분류', '중분류', \n",
        "                                      '통화비율(시군구내)'])\n",
        "init_df = accumulateDataFrame(init_df, calls)"
      ],
      "execution_count": 8,
      "outputs": []
    },
    {
      "cell_type": "code",
      "metadata": {
        "colab": {
          "base_uri": "https://localhost:8080/"
        },
        "id": "y4-WVsUyrXDH",
        "outputId": "3b550a9f-fdc8-4c15-f4f4-520d02bfa081"
      },
      "source": [
        "init_df.info()"
      ],
      "execution_count": 9,
      "outputs": [
        {
          "output_type": "stream",
          "text": [
            "<class 'pandas.core.frame.DataFrame'>\n",
            "RangeIndex: 8471741 entries, 0 to 8471740\n",
            "Data columns (total 8 columns):\n",
            " #   Column        Dtype  \n",
            "---  ------        -----  \n",
            " 0   일자(YYYYMMDD)  object \n",
            " 1   연령            object \n",
            " 2   성별            object \n",
            " 3   발신지(시도)       object \n",
            " 4   발신지(시군구)      object \n",
            " 5   대분류           object \n",
            " 6   중분류           object \n",
            " 7   통화비율(시군구내)    float64\n",
            "dtypes: float64(1), object(7)\n",
            "memory usage: 517.1+ MB\n"
          ],
          "name": "stdout"
        }
      ]
    },
    {
      "cell_type": "code",
      "metadata": {
        "colab": {
          "base_uri": "https://localhost:8080/",
          "height": 204
        },
        "id": "N2oydsZyqYtM",
        "outputId": "fa434567-6c52-4279-f36d-01fbc537e21b"
      },
      "source": [
        "init_df.head()"
      ],
      "execution_count": 10,
      "outputs": [
        {
          "output_type": "execute_result",
          "data": {
            "text/html": [
              "<div>\n",
              "<style scoped>\n",
              "    .dataframe tbody tr th:only-of-type {\n",
              "        vertical-align: middle;\n",
              "    }\n",
              "\n",
              "    .dataframe tbody tr th {\n",
              "        vertical-align: top;\n",
              "    }\n",
              "\n",
              "    .dataframe thead th {\n",
              "        text-align: right;\n",
              "    }\n",
              "</style>\n",
              "<table border=\"1\" class=\"dataframe\">\n",
              "  <thead>\n",
              "    <tr style=\"text-align: right;\">\n",
              "      <th></th>\n",
              "      <th>일자(YYYYMMDD)</th>\n",
              "      <th>연령</th>\n",
              "      <th>성별</th>\n",
              "      <th>발신지(시도)</th>\n",
              "      <th>발신지(시군구)</th>\n",
              "      <th>대분류</th>\n",
              "      <th>중분류</th>\n",
              "      <th>통화비율(시군구내)</th>\n",
              "    </tr>\n",
              "  </thead>\n",
              "  <tbody>\n",
              "    <tr>\n",
              "      <th>0</th>\n",
              "      <td>20190801</td>\n",
              "      <td>60</td>\n",
              "      <td>남성</td>\n",
              "      <td>강원</td>\n",
              "      <td>강릉시</td>\n",
              "      <td>생활편의</td>\n",
              "      <td>생활편의</td>\n",
              "      <td>0.0003</td>\n",
              "    </tr>\n",
              "    <tr>\n",
              "      <th>1</th>\n",
              "      <td>20190801</td>\n",
              "      <td>40</td>\n",
              "      <td>남성</td>\n",
              "      <td>강원</td>\n",
              "      <td>강릉시</td>\n",
              "      <td>음식점</td>\n",
              "      <td>한식</td>\n",
              "      <td>0.0004</td>\n",
              "    </tr>\n",
              "    <tr>\n",
              "      <th>2</th>\n",
              "      <td>20190801</td>\n",
              "      <td>50</td>\n",
              "      <td>남성</td>\n",
              "      <td>강원</td>\n",
              "      <td>강릉시</td>\n",
              "      <td>여행</td>\n",
              "      <td>숙박</td>\n",
              "      <td>0.0004</td>\n",
              "    </tr>\n",
              "    <tr>\n",
              "      <th>3</th>\n",
              "      <td>20190801</td>\n",
              "      <td>40</td>\n",
              "      <td>남성</td>\n",
              "      <td>강원</td>\n",
              "      <td>강릉시</td>\n",
              "      <td>서비스산업</td>\n",
              "      <td>제조업</td>\n",
              "      <td>0.0001</td>\n",
              "    </tr>\n",
              "    <tr>\n",
              "      <th>4</th>\n",
              "      <td>20190801</td>\n",
              "      <td>40</td>\n",
              "      <td>여성</td>\n",
              "      <td>강원</td>\n",
              "      <td>강릉시</td>\n",
              "      <td>서비스산업</td>\n",
              "      <td>공공기업</td>\n",
              "      <td>0.0001</td>\n",
              "    </tr>\n",
              "  </tbody>\n",
              "</table>\n",
              "</div>"
            ],
            "text/plain": [
              "  일자(YYYYMMDD)  연령  성별 발신지(시도) 발신지(시군구)    대분류   중분류  통화비율(시군구내)\n",
              "0     20190801  60  남성      강원      강릉시   생활편의  생활편의      0.0003\n",
              "1     20190801  40  남성      강원      강릉시    음식점    한식      0.0004\n",
              "2     20190801  50  남성      강원      강릉시     여행    숙박      0.0004\n",
              "3     20190801  40  남성      강원      강릉시  서비스산업   제조업      0.0001\n",
              "4     20190801  40  여성      강원      강릉시  서비스산업  공공기업      0.0001"
            ]
          },
          "metadata": {
            "tags": []
          },
          "execution_count": 10
        }
      ]
    },
    {
      "cell_type": "markdown",
      "metadata": {
        "id": "BI16PePHqbDx"
      },
      "source": [
        "+ 대분류 `음식점`인 카테고리의 `중분류` 활용"
      ]
    },
    {
      "cell_type": "markdown",
      "metadata": {
        "id": "TEkatv1jv0uJ"
      },
      "source": [
        "# 통화 데이터 정제\n",
        "\n",
        "1. 통화 내역에서 음식점만 추출하기\n",
        "\n",
        "2. 음식점 데이터 가공하기\n",
        "\n",
        "3. 년월일을 날짜 형식으로 변환하기\n",
        "\n",
        "4. 일-토 추가하기\n",
        "\n",
        "5. 성별 1(남), 2(여)로 , 나이 int type으로 변환하기\n",
        "\n",
        "6. 대분류 지우기\n",
        "\n",
        "7. ~~발신지 + 날씨 지역과 합친 후 삭제하기~~"
      ]
    },
    {
      "cell_type": "markdown",
      "metadata": {
        "id": "xl-BBWZHHlnQ"
      },
      "source": [
        "## 1. 사용할 `음식점` 추출하기"
      ]
    },
    {
      "cell_type": "code",
      "metadata": {
        "colab": {
          "base_uri": "https://localhost:8080/",
          "height": 419
        },
        "id": "ikbNgpY_12e5",
        "outputId": "3a8c54f6-231a-453f-879f-5cb3e404f221"
      },
      "source": [
        "df = init_df.groupby(['대분류']).get_group('음식점')\r\n",
        "df"
      ],
      "execution_count": 11,
      "outputs": [
        {
          "output_type": "execute_result",
          "data": {
            "text/html": [
              "<div>\n",
              "<style scoped>\n",
              "    .dataframe tbody tr th:only-of-type {\n",
              "        vertical-align: middle;\n",
              "    }\n",
              "\n",
              "    .dataframe tbody tr th {\n",
              "        vertical-align: top;\n",
              "    }\n",
              "\n",
              "    .dataframe thead th {\n",
              "        text-align: right;\n",
              "    }\n",
              "</style>\n",
              "<table border=\"1\" class=\"dataframe\">\n",
              "  <thead>\n",
              "    <tr style=\"text-align: right;\">\n",
              "      <th></th>\n",
              "      <th>일자(YYYYMMDD)</th>\n",
              "      <th>연령</th>\n",
              "      <th>성별</th>\n",
              "      <th>발신지(시도)</th>\n",
              "      <th>발신지(시군구)</th>\n",
              "      <th>대분류</th>\n",
              "      <th>중분류</th>\n",
              "      <th>통화비율(시군구내)</th>\n",
              "    </tr>\n",
              "  </thead>\n",
              "  <tbody>\n",
              "    <tr>\n",
              "      <th>1</th>\n",
              "      <td>20190801</td>\n",
              "      <td>40</td>\n",
              "      <td>남성</td>\n",
              "      <td>강원</td>\n",
              "      <td>강릉시</td>\n",
              "      <td>음식점</td>\n",
              "      <td>한식</td>\n",
              "      <td>0.0004</td>\n",
              "    </tr>\n",
              "    <tr>\n",
              "      <th>9</th>\n",
              "      <td>20190801</td>\n",
              "      <td>40</td>\n",
              "      <td>남성</td>\n",
              "      <td>강원</td>\n",
              "      <td>강릉시</td>\n",
              "      <td>음식점</td>\n",
              "      <td>중식</td>\n",
              "      <td>0.0002</td>\n",
              "    </tr>\n",
              "    <tr>\n",
              "      <th>10</th>\n",
              "      <td>20190801</td>\n",
              "      <td>40</td>\n",
              "      <td>여성</td>\n",
              "      <td>강원</td>\n",
              "      <td>강릉시</td>\n",
              "      <td>음식점</td>\n",
              "      <td>양식</td>\n",
              "      <td>0.0001</td>\n",
              "    </tr>\n",
              "    <tr>\n",
              "      <th>16</th>\n",
              "      <td>20190801</td>\n",
              "      <td>30</td>\n",
              "      <td>남성</td>\n",
              "      <td>강원</td>\n",
              "      <td>강릉시</td>\n",
              "      <td>음식점</td>\n",
              "      <td>중식</td>\n",
              "      <td>0.0001</td>\n",
              "    </tr>\n",
              "    <tr>\n",
              "      <th>19</th>\n",
              "      <td>20190801</td>\n",
              "      <td>60</td>\n",
              "      <td>남성</td>\n",
              "      <td>강원</td>\n",
              "      <td>강릉시</td>\n",
              "      <td>음식점</td>\n",
              "      <td>한식</td>\n",
              "      <td>0.0002</td>\n",
              "    </tr>\n",
              "    <tr>\n",
              "      <th>...</th>\n",
              "      <td>...</td>\n",
              "      <td>...</td>\n",
              "      <td>...</td>\n",
              "      <td>...</td>\n",
              "      <td>...</td>\n",
              "      <td>...</td>\n",
              "      <td>...</td>\n",
              "      <td>...</td>\n",
              "    </tr>\n",
              "    <tr>\n",
              "      <th>8471720</th>\n",
              "      <td>20201023</td>\n",
              "      <td>30</td>\n",
              "      <td>남성</td>\n",
              "      <td>충북</td>\n",
              "      <td>청주시</td>\n",
              "      <td>음식점</td>\n",
              "      <td>치킨</td>\n",
              "      <td>0.0001</td>\n",
              "    </tr>\n",
              "    <tr>\n",
              "      <th>8471725</th>\n",
              "      <td>20201023</td>\n",
              "      <td>40</td>\n",
              "      <td>여성</td>\n",
              "      <td>충북</td>\n",
              "      <td>청주시</td>\n",
              "      <td>음식점</td>\n",
              "      <td>치킨</td>\n",
              "      <td>0.0002</td>\n",
              "    </tr>\n",
              "    <tr>\n",
              "      <th>8471728</th>\n",
              "      <td>20201008</td>\n",
              "      <td>40</td>\n",
              "      <td>여성</td>\n",
              "      <td>충북</td>\n",
              "      <td>청주시</td>\n",
              "      <td>음식점</td>\n",
              "      <td>한식</td>\n",
              "      <td>0.0003</td>\n",
              "    </tr>\n",
              "    <tr>\n",
              "      <th>8471730</th>\n",
              "      <td>20201001</td>\n",
              "      <td>40</td>\n",
              "      <td>여성</td>\n",
              "      <td>충북</td>\n",
              "      <td>청주시</td>\n",
              "      <td>음식점</td>\n",
              "      <td>한식</td>\n",
              "      <td>0.0002</td>\n",
              "    </tr>\n",
              "    <tr>\n",
              "      <th>8471732</th>\n",
              "      <td>20201010</td>\n",
              "      <td>40</td>\n",
              "      <td>여성</td>\n",
              "      <td>충북</td>\n",
              "      <td>청주시</td>\n",
              "      <td>음식점</td>\n",
              "      <td>치킨</td>\n",
              "      <td>0.0002</td>\n",
              "    </tr>\n",
              "  </tbody>\n",
              "</table>\n",
              "<p>1516970 rows × 8 columns</p>\n",
              "</div>"
            ],
            "text/plain": [
              "        일자(YYYYMMDD)  연령  성별 발신지(시도) 발신지(시군구)  대분류 중분류  통화비율(시군구내)\n",
              "1           20190801  40  남성      강원      강릉시  음식점  한식      0.0004\n",
              "9           20190801  40  남성      강원      강릉시  음식점  중식      0.0002\n",
              "10          20190801  40  여성      강원      강릉시  음식점  양식      0.0001\n",
              "16          20190801  30  남성      강원      강릉시  음식점  중식      0.0001\n",
              "19          20190801  60  남성      강원      강릉시  음식점  한식      0.0002\n",
              "...              ...  ..  ..     ...      ...  ...  ..         ...\n",
              "8471720     20201023  30  남성      충북      청주시  음식점  치킨      0.0001\n",
              "8471725     20201023  40  여성      충북      청주시  음식점  치킨      0.0002\n",
              "8471728     20201008  40  여성      충북      청주시  음식점  한식      0.0003\n",
              "8471730     20201001  40  여성      충북      청주시  음식점  한식      0.0002\n",
              "8471732     20201010  40  여성      충북      청주시  음식점  치킨      0.0002\n",
              "\n",
              "[1516970 rows x 8 columns]"
            ]
          },
          "metadata": {
            "tags": []
          },
          "execution_count": 11
        }
      ]
    },
    {
      "cell_type": "markdown",
      "metadata": {
        "id": "zwVLDS-fAShr"
      },
      "source": [
        "대략 150만 건이 있다.\r\n",
        "\r\n",
        "사용할 수 있는 음식점과 임의로 변형할 데이터를 탐색해보자."
      ]
    },
    {
      "cell_type": "markdown",
      "metadata": {
        "id": "jbK-mm5VIvbz"
      },
      "source": [
        "## 2. 음식점 데이터 `가공하기`"
      ]
    },
    {
      "cell_type": "code",
      "metadata": {
        "colab": {
          "base_uri": "https://localhost:8080/"
        },
        "id": "VwyYj48h_xb0",
        "outputId": "f59ba951-dd1d-4d1a-8597-36b28ebd1f46"
      },
      "source": [
        "df.groupby('중분류').size()"
      ],
      "execution_count": 12,
      "outputs": [
        {
          "output_type": "execute_result",
          "data": {
            "text/plain": [
              "중분류\n",
              "간식           1656\n",
              "기사식당            3\n",
              "도시락           560\n",
              "배달음식점          12\n",
              "분식          55786\n",
              "뷔페            138\n",
              "술집            269\n",
              "야식              2\n",
              "양식          17331\n",
              "음식점          1086\n",
              "일식            863\n",
              "중식         191265\n",
              "치킨         405202\n",
              "카페          19094\n",
              "패밀리레스토랑        14\n",
              "패스트푸드         757\n",
              "퓨전요리            1\n",
              "한식         822931\n",
              "dtype: int64"
            ]
          },
          "metadata": {
            "tags": []
          },
          "execution_count": 12
        }
      ]
    },
    {
      "cell_type": "markdown",
      "metadata": {
        "id": "CdCxpStnAeEi"
      },
      "source": [
        "- 애매한 표현\r\n",
        "  + 간식\r\n",
        "  + 배달음식점\r\n",
        "  + 야식\r\n",
        "  + 음식점\r\n",
        "  + 기사식당\r\n",
        "  + 술집\r\n",
        "  + 도시락\r\n",
        "\r\n",
        "위 표현들은 음식을 추천해줄 때 매우 난해하다.\r\n",
        "\r\n",
        "> ex) \r\n",
        ">\r\n",
        "> > 오늘 당신에게 추천할 음식은 **간식**입니다.\r\n",
        ">\r\n",
        "> > 오늘 당신에게 추천할 음식은 **야식**입니다.\r\n",
        "\r\n",
        "위 표현들은 임의로 변경해야 맞다고 판단.\r\n",
        "\r\n",
        "---\r\n",
        "\r\n",
        "\r\n",
        "변환될 표현\r\n",
        "\r\n",
        "+ 야식 -> `족발`\r\n",
        "+ 배달음식점 -> `족발`\r\n",
        "+ 간식 -> `패스트푸드`\r\n",
        "+ 기사식당 -> `한식`\r\n",
        "+ 술집 -> `치킨`\r\n",
        "+ 음식점 -> `파전`\r\n",
        "+ 도시락 -> `족발`\r\n",
        "\r\n"
      ]
    },
    {
      "cell_type": "code",
      "metadata": {
        "colab": {
          "base_uri": "https://localhost:8080/"
        },
        "id": "U11-ziyWDd3u",
        "outputId": "fc492b97-3643-4884-cd50-43c172ab9083"
      },
      "source": [
        "change_map = {\r\n",
        "    '야식': '족발',\r\n",
        "    '배달음식점': '족발',\r\n",
        "    '간식': '패스트푸드',\r\n",
        "    '기사식당': '한식',\r\n",
        "    '술집': '치킨',\r\n",
        "    '음식점': '파전',\r\n",
        "    '도시락': '족발'\r\n",
        "}\r\n",
        "\r\n",
        "print(f\"야식 to {change_map['야식']}\")"
      ],
      "execution_count": 13,
      "outputs": [
        {
          "output_type": "stream",
          "text": [
            "야식 to 족발\n"
          ],
          "name": "stdout"
        }
      ]
    },
    {
      "cell_type": "code",
      "metadata": {
        "id": "eERUxjN_Edaq"
      },
      "source": [
        "def change_menu(keyword):\r\n",
        "  if keyword in change_map:\r\n",
        "    return change_map[keyword]\r\n",
        "  return keyword"
      ],
      "execution_count": 14,
      "outputs": []
    },
    {
      "cell_type": "code",
      "metadata": {
        "colab": {
          "base_uri": "https://localhost:8080/"
        },
        "id": "5MLTsTobE5Ua",
        "outputId": "0812ea7e-7aad-4d72-d000-73e241206672"
      },
      "source": [
        "print(f\"변환 가능한 '야식'은 -> {change_menu('야식')}\\n변환 불가능한 '일식'은 -> {change_menu('일식')}\")"
      ],
      "execution_count": 15,
      "outputs": [
        {
          "output_type": "stream",
          "text": [
            "변환 가능한 '야식'은 -> 족발\n",
            "변환 불가능한 '일식'은 -> 일식\n"
          ],
          "name": "stdout"
        }
      ]
    },
    {
      "cell_type": "code",
      "metadata": {
        "colab": {
          "base_uri": "https://localhost:8080/",
          "height": 309
        },
        "id": "kpMc1LEaFfb0",
        "outputId": "24155ff1-2ea6-44a4-9c23-71ac61f7a11e"
      },
      "source": [
        "df.loc[:, '중분류'] = df['중분류'].apply(change_menu)\r\n",
        "df.head()"
      ],
      "execution_count": 16,
      "outputs": [
        {
          "output_type": "stream",
          "text": [
            "/usr/local/lib/python3.6/dist-packages/pandas/core/indexing.py:1743: SettingWithCopyWarning: \n",
            "A value is trying to be set on a copy of a slice from a DataFrame.\n",
            "Try using .loc[row_indexer,col_indexer] = value instead\n",
            "\n",
            "See the caveats in the documentation: https://pandas.pydata.org/pandas-docs/stable/user_guide/indexing.html#returning-a-view-versus-a-copy\n",
            "  isetter(ilocs[0], value)\n"
          ],
          "name": "stderr"
        },
        {
          "output_type": "execute_result",
          "data": {
            "text/html": [
              "<div>\n",
              "<style scoped>\n",
              "    .dataframe tbody tr th:only-of-type {\n",
              "        vertical-align: middle;\n",
              "    }\n",
              "\n",
              "    .dataframe tbody tr th {\n",
              "        vertical-align: top;\n",
              "    }\n",
              "\n",
              "    .dataframe thead th {\n",
              "        text-align: right;\n",
              "    }\n",
              "</style>\n",
              "<table border=\"1\" class=\"dataframe\">\n",
              "  <thead>\n",
              "    <tr style=\"text-align: right;\">\n",
              "      <th></th>\n",
              "      <th>일자(YYYYMMDD)</th>\n",
              "      <th>연령</th>\n",
              "      <th>성별</th>\n",
              "      <th>발신지(시도)</th>\n",
              "      <th>발신지(시군구)</th>\n",
              "      <th>대분류</th>\n",
              "      <th>중분류</th>\n",
              "      <th>통화비율(시군구내)</th>\n",
              "    </tr>\n",
              "  </thead>\n",
              "  <tbody>\n",
              "    <tr>\n",
              "      <th>1</th>\n",
              "      <td>20190801</td>\n",
              "      <td>40</td>\n",
              "      <td>남성</td>\n",
              "      <td>강원</td>\n",
              "      <td>강릉시</td>\n",
              "      <td>음식점</td>\n",
              "      <td>한식</td>\n",
              "      <td>0.0004</td>\n",
              "    </tr>\n",
              "    <tr>\n",
              "      <th>9</th>\n",
              "      <td>20190801</td>\n",
              "      <td>40</td>\n",
              "      <td>남성</td>\n",
              "      <td>강원</td>\n",
              "      <td>강릉시</td>\n",
              "      <td>음식점</td>\n",
              "      <td>중식</td>\n",
              "      <td>0.0002</td>\n",
              "    </tr>\n",
              "    <tr>\n",
              "      <th>10</th>\n",
              "      <td>20190801</td>\n",
              "      <td>40</td>\n",
              "      <td>여성</td>\n",
              "      <td>강원</td>\n",
              "      <td>강릉시</td>\n",
              "      <td>음식점</td>\n",
              "      <td>양식</td>\n",
              "      <td>0.0001</td>\n",
              "    </tr>\n",
              "    <tr>\n",
              "      <th>16</th>\n",
              "      <td>20190801</td>\n",
              "      <td>30</td>\n",
              "      <td>남성</td>\n",
              "      <td>강원</td>\n",
              "      <td>강릉시</td>\n",
              "      <td>음식점</td>\n",
              "      <td>중식</td>\n",
              "      <td>0.0001</td>\n",
              "    </tr>\n",
              "    <tr>\n",
              "      <th>19</th>\n",
              "      <td>20190801</td>\n",
              "      <td>60</td>\n",
              "      <td>남성</td>\n",
              "      <td>강원</td>\n",
              "      <td>강릉시</td>\n",
              "      <td>음식점</td>\n",
              "      <td>한식</td>\n",
              "      <td>0.0002</td>\n",
              "    </tr>\n",
              "  </tbody>\n",
              "</table>\n",
              "</div>"
            ],
            "text/plain": [
              "   일자(YYYYMMDD)  연령  성별 발신지(시도) 발신지(시군구)  대분류 중분류  통화비율(시군구내)\n",
              "1      20190801  40  남성      강원      강릉시  음식점  한식      0.0004\n",
              "9      20190801  40  남성      강원      강릉시  음식점  중식      0.0002\n",
              "10     20190801  40  여성      강원      강릉시  음식점  양식      0.0001\n",
              "16     20190801  30  남성      강원      강릉시  음식점  중식      0.0001\n",
              "19     20190801  60  남성      강원      강릉시  음식점  한식      0.0002"
            ]
          },
          "metadata": {
            "tags": []
          },
          "execution_count": 16
        }
      ]
    },
    {
      "cell_type": "code",
      "metadata": {
        "colab": {
          "base_uri": "https://localhost:8080/"
        },
        "id": "vEfSEp0SGFco",
        "outputId": "055f3919-415a-4104-b92e-42fcba2bc2de"
      },
      "source": [
        "df.groupby('중분류').size()"
      ],
      "execution_count": 17,
      "outputs": [
        {
          "output_type": "execute_result",
          "data": {
            "text/plain": [
              "중분류\n",
              "분식          55786\n",
              "뷔페            138\n",
              "양식          17331\n",
              "일식            863\n",
              "족발            574\n",
              "중식         191265\n",
              "치킨         405471\n",
              "카페          19094\n",
              "파전           1086\n",
              "패밀리레스토랑        14\n",
              "패스트푸드        2413\n",
              "퓨전요리            1\n",
              "한식         822934\n",
              "dtype: int64"
            ]
          },
          "metadata": {
            "tags": []
          },
          "execution_count": 17
        }
      ]
    },
    {
      "cell_type": "code",
      "metadata": {
        "colab": {
          "base_uri": "https://localhost:8080/"
        },
        "id": "wzSUJ7XDHDKy",
        "outputId": "fa1b68b7-c39f-407a-9a5a-6628476f4be6"
      },
      "source": [
        "df.info()"
      ],
      "execution_count": 18,
      "outputs": [
        {
          "output_type": "stream",
          "text": [
            "<class 'pandas.core.frame.DataFrame'>\n",
            "Int64Index: 1516970 entries, 1 to 8471732\n",
            "Data columns (total 8 columns):\n",
            " #   Column        Non-Null Count    Dtype  \n",
            "---  ------        --------------    -----  \n",
            " 0   일자(YYYYMMDD)  1516970 non-null  object \n",
            " 1   연령            1516970 non-null  object \n",
            " 2   성별            1516970 non-null  object \n",
            " 3   발신지(시도)       1516970 non-null  object \n",
            " 4   발신지(시군구)      1516970 non-null  object \n",
            " 5   대분류           1516970 non-null  object \n",
            " 6   중분류           1516970 non-null  object \n",
            " 7   통화비율(시군구내)    1516970 non-null  float64\n",
            "dtypes: float64(1), object(7)\n",
            "memory usage: 104.2+ MB\n"
          ],
          "name": "stdout"
        }
      ]
    },
    {
      "cell_type": "markdown",
      "metadata": {
        "id": "8DCOUc5VHRwE"
      },
      "source": [
        "## 3. 년월일 `날짜 형식`으로 변환하기"
      ]
    },
    {
      "cell_type": "markdown",
      "metadata": {
        "id": "NNN1E3bAthVH"
      },
      "source": [
        "데이터 변환 중 실수를 방지하기 위해 copy해서 사용"
      ]
    },
    {
      "cell_type": "code",
      "metadata": {
        "id": "7F7VAtw4I8qo"
      },
      "source": [
        "df_test = df.copy()"
      ],
      "execution_count": 19,
      "outputs": []
    },
    {
      "cell_type": "code",
      "metadata": {
        "colab": {
          "base_uri": "https://localhost:8080/",
          "height": 204
        },
        "id": "IkRulBW3JmDz",
        "outputId": "d5450698-0508-4581-e8a6-c2be84debe7b"
      },
      "source": [
        "df_test.iloc[:, 0] = df.iloc[:, 0].apply(lambda x: pd.to_datetime(str(x)))\r\n",
        "df_test.head()"
      ],
      "execution_count": 20,
      "outputs": [
        {
          "output_type": "execute_result",
          "data": {
            "text/html": [
              "<div>\n",
              "<style scoped>\n",
              "    .dataframe tbody tr th:only-of-type {\n",
              "        vertical-align: middle;\n",
              "    }\n",
              "\n",
              "    .dataframe tbody tr th {\n",
              "        vertical-align: top;\n",
              "    }\n",
              "\n",
              "    .dataframe thead th {\n",
              "        text-align: right;\n",
              "    }\n",
              "</style>\n",
              "<table border=\"1\" class=\"dataframe\">\n",
              "  <thead>\n",
              "    <tr style=\"text-align: right;\">\n",
              "      <th></th>\n",
              "      <th>일자(YYYYMMDD)</th>\n",
              "      <th>연령</th>\n",
              "      <th>성별</th>\n",
              "      <th>발신지(시도)</th>\n",
              "      <th>발신지(시군구)</th>\n",
              "      <th>대분류</th>\n",
              "      <th>중분류</th>\n",
              "      <th>통화비율(시군구내)</th>\n",
              "    </tr>\n",
              "  </thead>\n",
              "  <tbody>\n",
              "    <tr>\n",
              "      <th>1</th>\n",
              "      <td>2019-08-01</td>\n",
              "      <td>40</td>\n",
              "      <td>남성</td>\n",
              "      <td>강원</td>\n",
              "      <td>강릉시</td>\n",
              "      <td>음식점</td>\n",
              "      <td>한식</td>\n",
              "      <td>0.0004</td>\n",
              "    </tr>\n",
              "    <tr>\n",
              "      <th>9</th>\n",
              "      <td>2019-08-01</td>\n",
              "      <td>40</td>\n",
              "      <td>남성</td>\n",
              "      <td>강원</td>\n",
              "      <td>강릉시</td>\n",
              "      <td>음식점</td>\n",
              "      <td>중식</td>\n",
              "      <td>0.0002</td>\n",
              "    </tr>\n",
              "    <tr>\n",
              "      <th>10</th>\n",
              "      <td>2019-08-01</td>\n",
              "      <td>40</td>\n",
              "      <td>여성</td>\n",
              "      <td>강원</td>\n",
              "      <td>강릉시</td>\n",
              "      <td>음식점</td>\n",
              "      <td>양식</td>\n",
              "      <td>0.0001</td>\n",
              "    </tr>\n",
              "    <tr>\n",
              "      <th>16</th>\n",
              "      <td>2019-08-01</td>\n",
              "      <td>30</td>\n",
              "      <td>남성</td>\n",
              "      <td>강원</td>\n",
              "      <td>강릉시</td>\n",
              "      <td>음식점</td>\n",
              "      <td>중식</td>\n",
              "      <td>0.0001</td>\n",
              "    </tr>\n",
              "    <tr>\n",
              "      <th>19</th>\n",
              "      <td>2019-08-01</td>\n",
              "      <td>60</td>\n",
              "      <td>남성</td>\n",
              "      <td>강원</td>\n",
              "      <td>강릉시</td>\n",
              "      <td>음식점</td>\n",
              "      <td>한식</td>\n",
              "      <td>0.0002</td>\n",
              "    </tr>\n",
              "  </tbody>\n",
              "</table>\n",
              "</div>"
            ],
            "text/plain": [
              "   일자(YYYYMMDD)  연령  성별 발신지(시도) 발신지(시군구)  대분류 중분류  통화비율(시군구내)\n",
              "1    2019-08-01  40  남성      강원      강릉시  음식점  한식      0.0004\n",
              "9    2019-08-01  40  남성      강원      강릉시  음식점  중식      0.0002\n",
              "10   2019-08-01  40  여성      강원      강릉시  음식점  양식      0.0001\n",
              "16   2019-08-01  30  남성      강원      강릉시  음식점  중식      0.0001\n",
              "19   2019-08-01  60  남성      강원      강릉시  음식점  한식      0.0002"
            ]
          },
          "metadata": {
            "tags": []
          },
          "execution_count": 20
        }
      ]
    },
    {
      "cell_type": "markdown",
      "metadata": {
        "id": "BVIMdpjHr4aj"
      },
      "source": [
        "## 4. 월-일 추가하기\r\n",
        "\r\n",
        "- 월: 0\r\n",
        "- 화: 1\r\n",
        "- 수: 2\r\n",
        "\r\n",
        "...\r\n",
        "\r\n",
        "- 일: 6\r\n",
        "\r\n"
      ]
    },
    {
      "cell_type": "code",
      "metadata": {
        "colab": {
          "base_uri": "https://localhost:8080/"
        },
        "id": "LSHc6xNZyrfY",
        "outputId": "9f5409f1-c13f-4e68-ef7d-b4622d792d78"
      },
      "source": [
        "pd.to_datetime('2019-08-04').dayofweek , pd.to_datetime('2019-08-04').day_name()"
      ],
      "execution_count": 21,
      "outputs": [
        {
          "output_type": "execute_result",
          "data": {
            "text/plain": [
              "(6, 'Sunday')"
            ]
          },
          "metadata": {
            "tags": []
          },
          "execution_count": 21
        }
      ]
    },
    {
      "cell_type": "code",
      "metadata": {
        "id": "DSbMSH_rqup5"
      },
      "source": [
        "df_test.insert(1, 'dayofweek', df_test.iloc[:, 0].apply(lambda x: x.dayofweek))"
      ],
      "execution_count": 22,
      "outputs": []
    },
    {
      "cell_type": "code",
      "metadata": {
        "colab": {
          "base_uri": "https://localhost:8080/"
        },
        "id": "SgkBjotPzxZb",
        "outputId": "389f5752-ef50-406f-9680-fad20370b95d"
      },
      "source": [
        "df_test.info()"
      ],
      "execution_count": 23,
      "outputs": [
        {
          "output_type": "stream",
          "text": [
            "<class 'pandas.core.frame.DataFrame'>\n",
            "Int64Index: 1516970 entries, 1 to 8471732\n",
            "Data columns (total 9 columns):\n",
            " #   Column        Non-Null Count    Dtype         \n",
            "---  ------        --------------    -----         \n",
            " 0   일자(YYYYMMDD)  1516970 non-null  datetime64[ns]\n",
            " 1   dayofweek     1516970 non-null  int64         \n",
            " 2   연령            1516970 non-null  object        \n",
            " 3   성별            1516970 non-null  object        \n",
            " 4   발신지(시도)       1516970 non-null  object        \n",
            " 5   발신지(시군구)      1516970 non-null  object        \n",
            " 6   대분류           1516970 non-null  object        \n",
            " 7   중분류           1516970 non-null  object        \n",
            " 8   통화비율(시군구내)    1516970 non-null  float64       \n",
            "dtypes: datetime64[ns](1), float64(1), int64(1), object(6)\n",
            "memory usage: 115.7+ MB\n"
          ],
          "name": "stdout"
        }
      ]
    },
    {
      "cell_type": "markdown",
      "metadata": {
        "id": "i2xJqU8aqS3h"
      },
      "source": [
        "## 5. 성별, 연령 int type으로 변환"
      ]
    },
    {
      "cell_type": "code",
      "metadata": {
        "colab": {
          "base_uri": "https://localhost:8080/"
        },
        "id": "rJH4mVaQMhC1",
        "outputId": "6b74d512-a95c-4cf7-a6c1-3fea49479f9e"
      },
      "source": [
        "import numpy as np\r\n",
        "df_test.loc[:, ['연령']] = df_test['연령'].apply(np.int32)\r\n",
        "df_test.loc[:, ['성별']] = df_test['성별'].apply(lambda x: 1 if x == '남성' else 2)\r\n",
        "df_test.info()"
      ],
      "execution_count": 24,
      "outputs": [
        {
          "output_type": "stream",
          "text": [
            "<class 'pandas.core.frame.DataFrame'>\n",
            "Int64Index: 1516970 entries, 1 to 8471732\n",
            "Data columns (total 9 columns):\n",
            " #   Column        Non-Null Count    Dtype         \n",
            "---  ------        --------------    -----         \n",
            " 0   일자(YYYYMMDD)  1516970 non-null  datetime64[ns]\n",
            " 1   dayofweek     1516970 non-null  int64         \n",
            " 2   연령            1516970 non-null  int64         \n",
            " 3   성별            1516970 non-null  int64         \n",
            " 4   발신지(시도)       1516970 non-null  object        \n",
            " 5   발신지(시군구)      1516970 non-null  object        \n",
            " 6   대분류           1516970 non-null  object        \n",
            " 7   중분류           1516970 non-null  object        \n",
            " 8   통화비율(시군구내)    1516970 non-null  float64       \n",
            "dtypes: datetime64[ns](1), float64(1), int64(3), object(4)\n",
            "memory usage: 115.7+ MB\n"
          ],
          "name": "stdout"
        }
      ]
    },
    {
      "cell_type": "markdown",
      "metadata": {
        "id": "-ha-Igq60B9v"
      },
      "source": [
        "## 6. 대분류 지우기"
      ]
    },
    {
      "cell_type": "code",
      "metadata": {
        "id": "1CCUbTmjtZEn"
      },
      "source": [
        "df_test = df_test.drop('대분류', axis=1)"
      ],
      "execution_count": 25,
      "outputs": []
    },
    {
      "cell_type": "code",
      "metadata": {
        "colab": {
          "base_uri": "https://localhost:8080/"
        },
        "id": "jwhdi7qm0dwR",
        "outputId": "0bd47a34-2859-4d73-ebc1-2982a66b0e5e"
      },
      "source": [
        "df_test.info()"
      ],
      "execution_count": 26,
      "outputs": [
        {
          "output_type": "stream",
          "text": [
            "<class 'pandas.core.frame.DataFrame'>\n",
            "Int64Index: 1516970 entries, 1 to 8471732\n",
            "Data columns (total 8 columns):\n",
            " #   Column        Non-Null Count    Dtype         \n",
            "---  ------        --------------    -----         \n",
            " 0   일자(YYYYMMDD)  1516970 non-null  datetime64[ns]\n",
            " 1   dayofweek     1516970 non-null  int64         \n",
            " 2   연령            1516970 non-null  int64         \n",
            " 3   성별            1516970 non-null  int64         \n",
            " 4   발신지(시도)       1516970 non-null  object        \n",
            " 5   발신지(시군구)      1516970 non-null  object        \n",
            " 6   중분류           1516970 non-null  object        \n",
            " 7   통화비율(시군구내)    1516970 non-null  float64       \n",
            "dtypes: datetime64[ns](1), float64(1), int64(3), object(3)\n",
            "memory usage: 104.2+ MB\n"
          ],
          "name": "stdout"
        }
      ]
    },
    {
      "cell_type": "code",
      "metadata": {
        "colab": {
          "base_uri": "https://localhost:8080/",
          "height": 204
        },
        "id": "TzA5wOA8kSHa",
        "outputId": "88d861b7-f036-47a0-a285-a336d7a32cc0"
      },
      "source": [
        "df_test.head()"
      ],
      "execution_count": 27,
      "outputs": [
        {
          "output_type": "execute_result",
          "data": {
            "text/html": [
              "<div>\n",
              "<style scoped>\n",
              "    .dataframe tbody tr th:only-of-type {\n",
              "        vertical-align: middle;\n",
              "    }\n",
              "\n",
              "    .dataframe tbody tr th {\n",
              "        vertical-align: top;\n",
              "    }\n",
              "\n",
              "    .dataframe thead th {\n",
              "        text-align: right;\n",
              "    }\n",
              "</style>\n",
              "<table border=\"1\" class=\"dataframe\">\n",
              "  <thead>\n",
              "    <tr style=\"text-align: right;\">\n",
              "      <th></th>\n",
              "      <th>일자(YYYYMMDD)</th>\n",
              "      <th>dayofweek</th>\n",
              "      <th>연령</th>\n",
              "      <th>성별</th>\n",
              "      <th>발신지(시도)</th>\n",
              "      <th>발신지(시군구)</th>\n",
              "      <th>중분류</th>\n",
              "      <th>통화비율(시군구내)</th>\n",
              "    </tr>\n",
              "  </thead>\n",
              "  <tbody>\n",
              "    <tr>\n",
              "      <th>1</th>\n",
              "      <td>2019-08-01</td>\n",
              "      <td>3</td>\n",
              "      <td>40</td>\n",
              "      <td>1</td>\n",
              "      <td>강원</td>\n",
              "      <td>강릉시</td>\n",
              "      <td>한식</td>\n",
              "      <td>0.0004</td>\n",
              "    </tr>\n",
              "    <tr>\n",
              "      <th>9</th>\n",
              "      <td>2019-08-01</td>\n",
              "      <td>3</td>\n",
              "      <td>40</td>\n",
              "      <td>1</td>\n",
              "      <td>강원</td>\n",
              "      <td>강릉시</td>\n",
              "      <td>중식</td>\n",
              "      <td>0.0002</td>\n",
              "    </tr>\n",
              "    <tr>\n",
              "      <th>10</th>\n",
              "      <td>2019-08-01</td>\n",
              "      <td>3</td>\n",
              "      <td>40</td>\n",
              "      <td>2</td>\n",
              "      <td>강원</td>\n",
              "      <td>강릉시</td>\n",
              "      <td>양식</td>\n",
              "      <td>0.0001</td>\n",
              "    </tr>\n",
              "    <tr>\n",
              "      <th>16</th>\n",
              "      <td>2019-08-01</td>\n",
              "      <td>3</td>\n",
              "      <td>30</td>\n",
              "      <td>1</td>\n",
              "      <td>강원</td>\n",
              "      <td>강릉시</td>\n",
              "      <td>중식</td>\n",
              "      <td>0.0001</td>\n",
              "    </tr>\n",
              "    <tr>\n",
              "      <th>19</th>\n",
              "      <td>2019-08-01</td>\n",
              "      <td>3</td>\n",
              "      <td>60</td>\n",
              "      <td>1</td>\n",
              "      <td>강원</td>\n",
              "      <td>강릉시</td>\n",
              "      <td>한식</td>\n",
              "      <td>0.0002</td>\n",
              "    </tr>\n",
              "  </tbody>\n",
              "</table>\n",
              "</div>"
            ],
            "text/plain": [
              "   일자(YYYYMMDD)  dayofweek  연령  성별 발신지(시도) 발신지(시군구) 중분류  통화비율(시군구내)\n",
              "1    2019-08-01          3  40   1      강원      강릉시  한식      0.0004\n",
              "9    2019-08-01          3  40   1      강원      강릉시  중식      0.0002\n",
              "10   2019-08-01          3  40   2      강원      강릉시  양식      0.0001\n",
              "16   2019-08-01          3  30   1      강원      강릉시  중식      0.0001\n",
              "19   2019-08-01          3  60   1      강원      강릉시  한식      0.0002"
            ]
          },
          "metadata": {
            "tags": []
          },
          "execution_count": 27
        }
      ]
    },
    {
      "cell_type": "markdown",
      "metadata": {
        "id": "GxEKUiT303I5"
      },
      "source": [
        "### 남아있는 과제: `지역 합치기`\r\n",
        "\r\n",
        "- 발신지(시도)\r\n",
        "- 발신지(시군구)\r\n",
        "\r\n",
        "---\r\n",
        "\r\n",
        "**스케줄**\r\n",
        "\r\n",
        "1. 날씨 데이터 정제\r\n",
        "2. 통화 데이터와 지역을 맞춘 후\r\n",
        "3. shape 맞추고\r\n",
        "4. 두 데이터 통합"
      ]
    },
    {
      "cell_type": "markdown",
      "metadata": {
        "id": "_LZl2a0yyE6d"
      },
      "source": [
        "# 날씨 데이터 정제\r\n",
        "\r\n",
        "1. 일시 timestamp로 변경\r\n",
        "2. 지점명 통화 데이터로 일치시키기\r\n",
        "3. NaN 결측치 정제\r\n",
        "  - 채우기\r\n",
        "    + 평균 기온\r\n",
        "    + 최저 기온\r\n",
        "    + 최고 기온\r\n",
        "    + 합계 일조시간\r\n",
        "    + 평균 현지기압\r\n",
        "\r\n",
        "  - 0으로 만들기\r\n",
        "    + 강수 계속시간\r\n",
        "    + 일 강수량\r\n",
        "    + 평균 풍속\r\n",
        "    + 일 최심적설\r\n",
        "\r\n",
        "4. 수치화된 지점 제거 (사용하기 어려움)"
      ]
    },
    {
      "cell_type": "code",
      "metadata": {
        "colab": {
          "base_uri": "https://localhost:8080/"
        },
        "id": "_znKryOKt3yp",
        "outputId": "6d2abab2-6702-4976-f2f9-5efc6e8b2604"
      },
      "source": [
        "df_w = pd.read_csv(downloadUrl('1g-7eeYV6ok3aOrsjNwF5oiugfYmeSZHn'))\n",
        "df_w.info()"
      ],
      "execution_count": 28,
      "outputs": [
        {
          "output_type": "stream",
          "text": [
            "<class 'pandas.core.frame.DataFrame'>\n",
            "RangeIndex: 38928 entries, 0 to 38927\n",
            "Data columns (total 12 columns):\n",
            " #   Column        Non-Null Count  Dtype  \n",
            "---  ------        --------------  -----  \n",
            " 0   지점            38928 non-null  int64  \n",
            " 1   지점명           38928 non-null  object \n",
            " 2   일시            38928 non-null  object \n",
            " 3   평균기온(°C)      38875 non-null  float64\n",
            " 4   최저기온(°C)      38920 non-null  float64\n",
            " 5   최고기온(°C)      38923 non-null  float64\n",
            " 6   강수 계속시간(hr)   3746 non-null   float64\n",
            " 7   일강수량(mm)      15261 non-null  float64\n",
            " 8   평균 풍속(m/s)    38876 non-null  float64\n",
            " 9   평균 현지기압(hPa)  38841 non-null  float64\n",
            " 10  합계 일조시간(hr)   38850 non-null  float64\n",
            " 11  일 최심적설(cm)    89 non-null     float64\n",
            "dtypes: float64(9), int64(1), object(2)\n",
            "memory usage: 3.6+ MB\n"
          ],
          "name": "stdout"
        }
      ]
    },
    {
      "cell_type": "code",
      "metadata": {
        "colab": {
          "base_uri": "https://localhost:8080/"
        },
        "id": "RpdJbhZg0CiW",
        "outputId": "6e76cf57-3efe-4ba3-db14-955b02758799"
      },
      "source": [
        "print(\"NaN 개수 확인\")\n",
        "print(f\"일시: {df_w.iloc[:, 2].isna().sum()}개\")\n",
        "print(f\"평균기온: {df_w.iloc[:, 3].isna().sum()}개\")\n",
        "print(f\"최저기온: {df_w.iloc[:, 4].isna().sum()}개\")\n",
        "print(f\"최고기온: {df_w.iloc[:, 5].isna().sum()}개\")\n",
        "print(f\"평균 풍속: {df_w.iloc[:, 8].isna().sum()}개\")\n",
        "print(f\"현지 기압: {df_w.iloc[:, 9].isna().sum()}개\")\n",
        "print(f\"합계 일조시간: {df_w.iloc[:, 10].isna().sum()}개\")"
      ],
      "execution_count": 29,
      "outputs": [
        {
          "output_type": "stream",
          "text": [
            "NaN 개수 확인\n",
            "일시: 0개\n",
            "평균기온: 53개\n",
            "최저기온: 8개\n",
            "최고기온: 5개\n",
            "평균 풍속: 52개\n",
            "현지 기압: 87개\n",
            "합계 일조시간: 78개\n"
          ],
          "name": "stdout"
        }
      ]
    },
    {
      "cell_type": "markdown",
      "metadata": {
        "id": "nWZyWnyr0wzT"
      },
      "source": [
        "- 평균, 최저, 최고 `기온` => 어제 + 내일의 평균 값으로 대체\n",
        "- 평균 풍속 => 0처리\n",
        "- 현지 기압 => 어제 + 내일의 평균 값으로 대체\n",
        "- 합계 일조시간 => 어제 + 내일의 평균 값으로 대체"
      ]
    },
    {
      "cell_type": "code",
      "metadata": {
        "colab": {
          "base_uri": "https://localhost:8080/",
          "height": 204
        },
        "id": "tlHc8WiQn6gA",
        "outputId": "f25a1b3b-27be-44e2-f4ef-97a04c00053f"
      },
      "source": [
        "df_w.head()"
      ],
      "execution_count": 30,
      "outputs": [
        {
          "output_type": "execute_result",
          "data": {
            "text/html": [
              "<div>\n",
              "<style scoped>\n",
              "    .dataframe tbody tr th:only-of-type {\n",
              "        vertical-align: middle;\n",
              "    }\n",
              "\n",
              "    .dataframe tbody tr th {\n",
              "        vertical-align: top;\n",
              "    }\n",
              "\n",
              "    .dataframe thead th {\n",
              "        text-align: right;\n",
              "    }\n",
              "</style>\n",
              "<table border=\"1\" class=\"dataframe\">\n",
              "  <thead>\n",
              "    <tr style=\"text-align: right;\">\n",
              "      <th></th>\n",
              "      <th>지점</th>\n",
              "      <th>지점명</th>\n",
              "      <th>일시</th>\n",
              "      <th>평균기온(°C)</th>\n",
              "      <th>최저기온(°C)</th>\n",
              "      <th>최고기온(°C)</th>\n",
              "      <th>강수 계속시간(hr)</th>\n",
              "      <th>일강수량(mm)</th>\n",
              "      <th>평균 풍속(m/s)</th>\n",
              "      <th>평균 현지기압(hPa)</th>\n",
              "      <th>합계 일조시간(hr)</th>\n",
              "      <th>일 최심적설(cm)</th>\n",
              "    </tr>\n",
              "  </thead>\n",
              "  <tbody>\n",
              "    <tr>\n",
              "      <th>0</th>\n",
              "      <td>90</td>\n",
              "      <td>속초</td>\n",
              "      <td>2019-08-01</td>\n",
              "      <td>29.7</td>\n",
              "      <td>26.4</td>\n",
              "      <td>35.6</td>\n",
              "      <td>NaN</td>\n",
              "      <td>0.3</td>\n",
              "      <td>2.0</td>\n",
              "      <td>1007.2</td>\n",
              "      <td>8.3</td>\n",
              "      <td>NaN</td>\n",
              "    </tr>\n",
              "    <tr>\n",
              "      <th>1</th>\n",
              "      <td>90</td>\n",
              "      <td>속초</td>\n",
              "      <td>2019-08-02</td>\n",
              "      <td>29.4</td>\n",
              "      <td>25.9</td>\n",
              "      <td>33.1</td>\n",
              "      <td>NaN</td>\n",
              "      <td>NaN</td>\n",
              "      <td>1.4</td>\n",
              "      <td>1008.8</td>\n",
              "      <td>13.2</td>\n",
              "      <td>NaN</td>\n",
              "    </tr>\n",
              "    <tr>\n",
              "      <th>2</th>\n",
              "      <td>90</td>\n",
              "      <td>속초</td>\n",
              "      <td>2019-08-03</td>\n",
              "      <td>26.7</td>\n",
              "      <td>24.4</td>\n",
              "      <td>29.7</td>\n",
              "      <td>NaN</td>\n",
              "      <td>NaN</td>\n",
              "      <td>1.8</td>\n",
              "      <td>1009.7</td>\n",
              "      <td>10.3</td>\n",
              "      <td>NaN</td>\n",
              "    </tr>\n",
              "    <tr>\n",
              "      <th>3</th>\n",
              "      <td>90</td>\n",
              "      <td>속초</td>\n",
              "      <td>2019-08-04</td>\n",
              "      <td>27.0</td>\n",
              "      <td>25.3</td>\n",
              "      <td>29.6</td>\n",
              "      <td>NaN</td>\n",
              "      <td>NaN</td>\n",
              "      <td>1.2</td>\n",
              "      <td>1008.7</td>\n",
              "      <td>6.6</td>\n",
              "      <td>NaN</td>\n",
              "    </tr>\n",
              "    <tr>\n",
              "      <th>4</th>\n",
              "      <td>90</td>\n",
              "      <td>속초</td>\n",
              "      <td>2019-08-05</td>\n",
              "      <td>27.7</td>\n",
              "      <td>24.8</td>\n",
              "      <td>31.2</td>\n",
              "      <td>NaN</td>\n",
              "      <td>NaN</td>\n",
              "      <td>1.4</td>\n",
              "      <td>1008.7</td>\n",
              "      <td>12.0</td>\n",
              "      <td>NaN</td>\n",
              "    </tr>\n",
              "  </tbody>\n",
              "</table>\n",
              "</div>"
            ],
            "text/plain": [
              "   지점 지점명          일시  ...  평균 현지기압(hPa)  합계 일조시간(hr)  일 최심적설(cm)\n",
              "0  90  속초  2019-08-01  ...        1007.2          8.3         NaN\n",
              "1  90  속초  2019-08-02  ...        1008.8         13.2         NaN\n",
              "2  90  속초  2019-08-03  ...        1009.7         10.3         NaN\n",
              "3  90  속초  2019-08-04  ...        1008.7          6.6         NaN\n",
              "4  90  속초  2019-08-05  ...        1008.7         12.0         NaN\n",
              "\n",
              "[5 rows x 12 columns]"
            ]
          },
          "metadata": {
            "tags": []
          },
          "execution_count": 30
        }
      ]
    },
    {
      "cell_type": "markdown",
      "metadata": {
        "id": "mJEQvxWw3eaV"
      },
      "source": [
        "## 1. 일시 timestamp로 변경"
      ]
    },
    {
      "cell_type": "code",
      "metadata": {
        "id": "imfZwIvO3dbY"
      },
      "source": [
        "df_w.iloc[:, 2] = df_w['일시'].apply(pd.to_datetime)"
      ],
      "execution_count": 31,
      "outputs": []
    },
    {
      "cell_type": "code",
      "metadata": {
        "colab": {
          "base_uri": "https://localhost:8080/"
        },
        "id": "A3llz1C03zc6",
        "outputId": "36c5053d-527e-4e05-e79e-bf05195baf7a"
      },
      "source": [
        "df_w.info()"
      ],
      "execution_count": 32,
      "outputs": [
        {
          "output_type": "stream",
          "text": [
            "<class 'pandas.core.frame.DataFrame'>\n",
            "RangeIndex: 38928 entries, 0 to 38927\n",
            "Data columns (total 12 columns):\n",
            " #   Column        Non-Null Count  Dtype         \n",
            "---  ------        --------------  -----         \n",
            " 0   지점            38928 non-null  int64         \n",
            " 1   지점명           38928 non-null  object        \n",
            " 2   일시            38928 non-null  datetime64[ns]\n",
            " 3   평균기온(°C)      38875 non-null  float64       \n",
            " 4   최저기온(°C)      38920 non-null  float64       \n",
            " 5   최고기온(°C)      38923 non-null  float64       \n",
            " 6   강수 계속시간(hr)   3746 non-null   float64       \n",
            " 7   일강수량(mm)      15261 non-null  float64       \n",
            " 8   평균 풍속(m/s)    38876 non-null  float64       \n",
            " 9   평균 현지기압(hPa)  38841 non-null  float64       \n",
            " 10  합계 일조시간(hr)   38850 non-null  float64       \n",
            " 11  일 최심적설(cm)    89 non-null     float64       \n",
            "dtypes: datetime64[ns](1), float64(9), int64(1), object(1)\n",
            "memory usage: 3.6+ MB\n"
          ],
          "name": "stdout"
        }
      ]
    },
    {
      "cell_type": "markdown",
      "metadata": {
        "id": "vX1yHCMI4CXP"
      },
      "source": [
        "## 2. call 데이터 지역 이름으로 날씨 지점 이름 변경하기\r\n"
      ]
    },
    {
      "cell_type": "markdown",
      "metadata": {
        "id": "9-auECaw7xWB"
      },
      "source": [
        "데이터 손실 방지를 위해 복사본 사용"
      ]
    },
    {
      "cell_type": "code",
      "metadata": {
        "id": "_j1ykRrf7vfA"
      },
      "source": [
        "df_w_test = df_w.copy()"
      ],
      "execution_count": 33,
      "outputs": []
    },
    {
      "cell_type": "code",
      "metadata": {
        "id": "W_6DxNSw4B36",
        "colab": {
          "base_uri": "https://localhost:8080/"
        },
        "outputId": "1562777a-86b3-43df-a492-25708385ccf3"
      },
      "source": [
        "df_test['발신지(시도)'].unique()"
      ],
      "execution_count": 46,
      "outputs": [
        {
          "output_type": "stream",
          "text": [
            "['강원' '경기' '경남' '경북' '광주' '대구' '대전' '부산' '서울' '세종' '울산' '인천' '전남' '전북'\n",
            " '제주' '충남' '충북']\n"
          ],
          "name": "stdout"
        }
      ]
    },
    {
      "cell_type": "code",
      "metadata": {
        "id": "fr_1VpMr59NR"
      },
      "source": [
        "target_list = [(w, 'origin') for w in df_w_test['지점명'].unique()]\r\n",
        "target_list = [('속초', '강원'),\r\n",
        " ('철원', '강원'),\r\n",
        " ('동두천', '경기'),\r\n",
        " ('파주', '경기'),\r\n",
        " ('춘천', '강원'),\r\n",
        " ('백령도', '인천'),\r\n",
        " ('강릉', '강원'),\r\n",
        " ('동해', '강원'),\r\n",
        " ('서울', '서울'),\r\n",
        " ('인천', '인천'),\r\n",
        " ('원주', '강원'),\r\n",
        " ('울릉도', '경북'),\r\n",
        " ('수원', '경기'),\r\n",
        " ('영월', '강원'),\r\n",
        " ('충주', '충북'),\r\n",
        " ('서산', '충남'),\r\n",
        " ('울진', '경북'),\r\n",
        " ('청주', '충북'),\r\n",
        " ('대전', '대전'),\r\n",
        " ('안동', '경북'),\r\n",
        " ('상주', '경북'),\r\n",
        " ('포항', '경북'),\r\n",
        " ('군산', '전북'),\r\n",
        " ('대구', '대구'),\r\n",
        " ('전주', '전북'),\r\n",
        " ('울산', '울산'),\r\n",
        " ('창원', '경남'),\r\n",
        " ('광주', '광주'),\r\n",
        " ('부산', '부산'),\r\n",
        " ('통영', '경남'),\r\n",
        " ('목포', '전남'),\r\n",
        " ('여수', '전남'),\r\n",
        " ('완도', '전남'),\r\n",
        " ('순천', '전남'),\r\n",
        " ('홍성', '충남'),\r\n",
        " ('제주', '제주'),\r\n",
        " ('서귀포', '제주'),\r\n",
        " ('진주', '경남'),\r\n",
        " ('강화', '인천'),\r\n",
        " ('양평', '경기'),\r\n",
        " ('이천', '경기'),\r\n",
        " ('인제', '강원'),\r\n",
        " ('홍천', '강원'),\r\n",
        " ('태백', '강원'),\r\n",
        " ('정선군', '강원'),\r\n",
        " ('제천', '충북'),\r\n",
        " ('보은', '충북'),\r\n",
        " ('천안', '충남'),\r\n",
        " ('보령', '충남'),\r\n",
        " ('부여', '충남'),\r\n",
        " ('금산', '충남'),\r\n",
        " ('세종', '세종'),\r\n",
        " ('부안', '전북'),\r\n",
        " ('임실', '전북'),\r\n",
        " ('정읍', '전북'),\r\n",
        " ('남원', '전북'),\r\n",
        " ('장수', '전북'),\r\n",
        " ('고창군', '전북'),\r\n",
        " ('영광군', '전남'),\r\n",
        " ('김해시', '경남'),\r\n",
        " ('양산시', '경남'),\r\n",
        " ('보성군', '전남'),\r\n",
        " ('강진군', '전남'),\r\n",
        " ('장흥', '전남'),\r\n",
        " ('해남', '전남'),\r\n",
        " ('고흥', '전남'),\r\n",
        " ('의령군', '전남'),\r\n",
        " ('함양군', '전남'),\r\n",
        " ('광양시', '전남'),\r\n",
        " ('진도군', '전남'),\r\n",
        " ('봉화', '경북'),\r\n",
        " ('영주', '경북'),\r\n",
        " ('문경', '경북'),\r\n",
        " ('청송군', '경북'),\r\n",
        " ('영덕', '경북'),\r\n",
        " ('의성', '경북'),\r\n",
        " ('구미', '경북'),\r\n",
        " ('영천', '경북'),\r\n",
        " ('경주시', '경북'),\r\n",
        " ('거창', '경남'),\r\n",
        " ('합천', '경남'),\r\n",
        " ('밀양', '경남'),\r\n",
        " ('산청', '경남'),\r\n",
        " ('거제', '경남'),\r\n",
        " ('남해', '경남')]"
      ],
      "execution_count": 38,
      "outputs": []
    },
    {
      "cell_type": "code",
      "metadata": {
        "id": "E3-ZeWOW8kwa"
      },
      "source": [
        "from collections import defaultdict\r\n",
        "\r\n",
        "new_mapping = defaultdict(str)\r\n",
        "\r\n",
        "for k, v in target_list:\r\n",
        "  new_mapping[k] = v"
      ],
      "execution_count": 43,
      "outputs": []
    },
    {
      "cell_type": "markdown",
      "metadata": {
        "id": "8vvbXzbhBSIp"
      },
      "source": [
        "매핑 후 `일반화되지 못한 지역`은 수작업\r\n",
        "\r\n",
        "> ex)\r\n",
        "> > 수원시 권선구\r\n",
        ">\r\n",
        "> > 포항시 북구"
      ]
    },
    {
      "cell_type": "markdown",
      "metadata": {
        "id": "v4l96GI3BswK"
      },
      "source": [
        "매핑된 값을 dataFrame에 반영\r\n"
      ]
    },
    {
      "cell_type": "code",
      "metadata": {
        "colab": {
          "base_uri": "https://localhost:8080/",
          "height": 419
        },
        "id": "yPeLSHgPBrum",
        "outputId": "3f1b8096-39fb-4914-9e4b-8bd4d0014712"
      },
      "source": [
        "df_w_test.loc[:, '지점명'] = df_w_test['지점명'].apply(lambda x: new_mapping[x])\r\n",
        "df_w_test"
      ],
      "execution_count": 47,
      "outputs": [
        {
          "output_type": "execute_result",
          "data": {
            "text/html": [
              "<div>\n",
              "<style scoped>\n",
              "    .dataframe tbody tr th:only-of-type {\n",
              "        vertical-align: middle;\n",
              "    }\n",
              "\n",
              "    .dataframe tbody tr th {\n",
              "        vertical-align: top;\n",
              "    }\n",
              "\n",
              "    .dataframe thead th {\n",
              "        text-align: right;\n",
              "    }\n",
              "</style>\n",
              "<table border=\"1\" class=\"dataframe\">\n",
              "  <thead>\n",
              "    <tr style=\"text-align: right;\">\n",
              "      <th></th>\n",
              "      <th>지점</th>\n",
              "      <th>지점명</th>\n",
              "      <th>일시</th>\n",
              "      <th>평균기온(°C)</th>\n",
              "      <th>최저기온(°C)</th>\n",
              "      <th>최고기온(°C)</th>\n",
              "      <th>강수 계속시간(hr)</th>\n",
              "      <th>일강수량(mm)</th>\n",
              "      <th>평균 풍속(m/s)</th>\n",
              "      <th>평균 현지기압(hPa)</th>\n",
              "      <th>합계 일조시간(hr)</th>\n",
              "      <th>일 최심적설(cm)</th>\n",
              "    </tr>\n",
              "  </thead>\n",
              "  <tbody>\n",
              "    <tr>\n",
              "      <th>0</th>\n",
              "      <td>90</td>\n",
              "      <td>강원</td>\n",
              "      <td>2019-08-01</td>\n",
              "      <td>29.7</td>\n",
              "      <td>26.4</td>\n",
              "      <td>35.6</td>\n",
              "      <td>NaN</td>\n",
              "      <td>0.3</td>\n",
              "      <td>2.0</td>\n",
              "      <td>1007.2</td>\n",
              "      <td>8.3</td>\n",
              "      <td>NaN</td>\n",
              "    </tr>\n",
              "    <tr>\n",
              "      <th>1</th>\n",
              "      <td>90</td>\n",
              "      <td>강원</td>\n",
              "      <td>2019-08-02</td>\n",
              "      <td>29.4</td>\n",
              "      <td>25.9</td>\n",
              "      <td>33.1</td>\n",
              "      <td>NaN</td>\n",
              "      <td>NaN</td>\n",
              "      <td>1.4</td>\n",
              "      <td>1008.8</td>\n",
              "      <td>13.2</td>\n",
              "      <td>NaN</td>\n",
              "    </tr>\n",
              "    <tr>\n",
              "      <th>2</th>\n",
              "      <td>90</td>\n",
              "      <td>강원</td>\n",
              "      <td>2019-08-03</td>\n",
              "      <td>26.7</td>\n",
              "      <td>24.4</td>\n",
              "      <td>29.7</td>\n",
              "      <td>NaN</td>\n",
              "      <td>NaN</td>\n",
              "      <td>1.8</td>\n",
              "      <td>1009.7</td>\n",
              "      <td>10.3</td>\n",
              "      <td>NaN</td>\n",
              "    </tr>\n",
              "    <tr>\n",
              "      <th>3</th>\n",
              "      <td>90</td>\n",
              "      <td>강원</td>\n",
              "      <td>2019-08-04</td>\n",
              "      <td>27.0</td>\n",
              "      <td>25.3</td>\n",
              "      <td>29.6</td>\n",
              "      <td>NaN</td>\n",
              "      <td>NaN</td>\n",
              "      <td>1.2</td>\n",
              "      <td>1008.7</td>\n",
              "      <td>6.6</td>\n",
              "      <td>NaN</td>\n",
              "    </tr>\n",
              "    <tr>\n",
              "      <th>4</th>\n",
              "      <td>90</td>\n",
              "      <td>강원</td>\n",
              "      <td>2019-08-05</td>\n",
              "      <td>27.7</td>\n",
              "      <td>24.8</td>\n",
              "      <td>31.2</td>\n",
              "      <td>NaN</td>\n",
              "      <td>NaN</td>\n",
              "      <td>1.4</td>\n",
              "      <td>1008.7</td>\n",
              "      <td>12.0</td>\n",
              "      <td>NaN</td>\n",
              "    </tr>\n",
              "    <tr>\n",
              "      <th>...</th>\n",
              "      <td>...</td>\n",
              "      <td>...</td>\n",
              "      <td>...</td>\n",
              "      <td>...</td>\n",
              "      <td>...</td>\n",
              "      <td>...</td>\n",
              "      <td>...</td>\n",
              "      <td>...</td>\n",
              "      <td>...</td>\n",
              "      <td>...</td>\n",
              "      <td>...</td>\n",
              "      <td>...</td>\n",
              "    </tr>\n",
              "    <tr>\n",
              "      <th>38923</th>\n",
              "      <td>295</td>\n",
              "      <td>경남</td>\n",
              "      <td>2020-10-27</td>\n",
              "      <td>14.3</td>\n",
              "      <td>9.5</td>\n",
              "      <td>20.5</td>\n",
              "      <td>NaN</td>\n",
              "      <td>NaN</td>\n",
              "      <td>1.0</td>\n",
              "      <td>1015.1</td>\n",
              "      <td>9.0</td>\n",
              "      <td>NaN</td>\n",
              "    </tr>\n",
              "    <tr>\n",
              "      <th>38924</th>\n",
              "      <td>295</td>\n",
              "      <td>경남</td>\n",
              "      <td>2020-10-28</td>\n",
              "      <td>14.6</td>\n",
              "      <td>11.4</td>\n",
              "      <td>19.6</td>\n",
              "      <td>NaN</td>\n",
              "      <td>NaN</td>\n",
              "      <td>0.8</td>\n",
              "      <td>1015.8</td>\n",
              "      <td>1.1</td>\n",
              "      <td>NaN</td>\n",
              "    </tr>\n",
              "    <tr>\n",
              "      <th>38925</th>\n",
              "      <td>295</td>\n",
              "      <td>경남</td>\n",
              "      <td>2020-10-29</td>\n",
              "      <td>12.5</td>\n",
              "      <td>8.5</td>\n",
              "      <td>18.2</td>\n",
              "      <td>NaN</td>\n",
              "      <td>NaN</td>\n",
              "      <td>1.2</td>\n",
              "      <td>1017.1</td>\n",
              "      <td>8.6</td>\n",
              "      <td>NaN</td>\n",
              "    </tr>\n",
              "    <tr>\n",
              "      <th>38926</th>\n",
              "      <td>295</td>\n",
              "      <td>경남</td>\n",
              "      <td>2020-10-30</td>\n",
              "      <td>13.4</td>\n",
              "      <td>8.6</td>\n",
              "      <td>18.9</td>\n",
              "      <td>NaN</td>\n",
              "      <td>NaN</td>\n",
              "      <td>1.4</td>\n",
              "      <td>1019.0</td>\n",
              "      <td>8.9</td>\n",
              "      <td>NaN</td>\n",
              "    </tr>\n",
              "    <tr>\n",
              "      <th>38927</th>\n",
              "      <td>295</td>\n",
              "      <td>경남</td>\n",
              "      <td>2020-10-31</td>\n",
              "      <td>12.6</td>\n",
              "      <td>8.6</td>\n",
              "      <td>17.6</td>\n",
              "      <td>NaN</td>\n",
              "      <td>NaN</td>\n",
              "      <td>1.3</td>\n",
              "      <td>1020.1</td>\n",
              "      <td>8.7</td>\n",
              "      <td>NaN</td>\n",
              "    </tr>\n",
              "  </tbody>\n",
              "</table>\n",
              "<p>38928 rows × 12 columns</p>\n",
              "</div>"
            ],
            "text/plain": [
              "        지점 지점명         일시  ...  평균 현지기압(hPa)  합계 일조시간(hr)  일 최심적설(cm)\n",
              "0       90  강원 2019-08-01  ...        1007.2          8.3         NaN\n",
              "1       90  강원 2019-08-02  ...        1008.8         13.2         NaN\n",
              "2       90  강원 2019-08-03  ...        1009.7         10.3         NaN\n",
              "3       90  강원 2019-08-04  ...        1008.7          6.6         NaN\n",
              "4       90  강원 2019-08-05  ...        1008.7         12.0         NaN\n",
              "...    ...  ..        ...  ...           ...          ...         ...\n",
              "38923  295  경남 2020-10-27  ...        1015.1          9.0         NaN\n",
              "38924  295  경남 2020-10-28  ...        1015.8          1.1         NaN\n",
              "38925  295  경남 2020-10-29  ...        1017.1          8.6         NaN\n",
              "38926  295  경남 2020-10-30  ...        1019.0          8.9         NaN\n",
              "38927  295  경남 2020-10-31  ...        1020.1          8.7         NaN\n",
              "\n",
              "[38928 rows x 12 columns]"
            ]
          },
          "metadata": {
            "tags": []
          },
          "execution_count": 47
        }
      ]
    },
    {
      "cell_type": "markdown",
      "metadata": {
        "id": "WVPQLuuLDeLn"
      },
      "source": [
        "## 3. NaN 정제"
      ]
    },
    {
      "cell_type": "markdown",
      "metadata": {
        "id": "rpvOaH0eDhHy"
      },
      "source": [
        "### 채우기"
      ]
    },
    {
      "cell_type": "code",
      "metadata": {
        "colab": {
          "base_uri": "https://localhost:8080/"
        },
        "id": "kDcuvoTdCAw8",
        "outputId": "f54607fa-a203-4cff-bcab-fa3278f55ac1"
      },
      "source": [
        "# 평균기온\r\n",
        "df_w_test['평균기온(°C)'].isna().sum()"
      ],
      "execution_count": 48,
      "outputs": [
        {
          "output_type": "execute_result",
          "data": {
            "text/plain": [
              "53"
            ]
          },
          "metadata": {
            "tags": []
          },
          "execution_count": 48
        }
      ]
    },
    {
      "cell_type": "markdown",
      "metadata": {
        "id": "yElhoJXpD01Y"
      },
      "source": [
        "- 총 53개의 NaN"
      ]
    },
    {
      "cell_type": "markdown",
      "metadata": {
        "id": "s-yxTZ0BneUt"
      },
      "source": [
        "1. NaN 인덱스 +- 2 기준의 평균을 적용\r\n",
        "2. +-가 없을 경우 수작업으로 온도를 지정\r\n"
      ]
    },
    {
      "cell_type": "code",
      "metadata": {
        "id": "LlGawPqsJ654"
      },
      "source": [
        "df_w_test.loc[14677, '평균기온(°C)'] = 26.7\r\n",
        "df_w_test.loc[21640, '평균기온(°C)'] = 11.1\r\n",
        "df_w_test.loc[25747, '평균기온(°C)'] = 4.3\r\n",
        "df_w_test.loc[29639, '평균기온(°C)'] = 22.4\r\n",
        "df_w_test.loc[30436, '평균기온(°C)'] = 10.6\r\n",
        "df_w_test.loc[30952, '평균기온(°C)'] = 11.0\r\n",
        "df_w_test.loc[30954, '평균기온(°C)'] = 12.4\r\n",
        "df_w_test.loc[31677, '평균기온(°C)'] = 14.7\r\n",
        "df_w_test.loc[31935, '평균기온(°C)'] = 19.8\r\n",
        "df_w_test.loc[30954, '평균기온(°C)'] = 18.2\r\n",
        "df_w_test.loc[31936, '평균기온(°C)'] = 18.2\r\n",
        "df_w_test.loc[33943, '평균기온(°C)'] = -1.6\r\n",
        "df_w_test.loc[36767, '평균기온(°C)'] = 16.8"
      ],
      "execution_count": 49,
      "outputs": []
    },
    {
      "cell_type": "code",
      "metadata": {
        "id": "rzx3vW9kFgqL"
      },
      "source": [
        "def set_mean_value(update_df: pd.DataFrame, col_name) -> pd.DataFrame:\r\n",
        "  for idx in update_df[update_df[col_name].isna()].index:\r\n",
        "    # print(idx)\r\n",
        "    before = np.mean(update_df.loc[idx-2 : idx-1, col_name])\r\n",
        "    after = np.mean(update_df.loc[idx+1 : idx+2, col_name])\r\n",
        "    update_df.loc[idx, col_name] = np.divide(before + after, 2)\r\n",
        "  return update_df.copy()\r\n"
      ],
      "execution_count": 50,
      "outputs": []
    },
    {
      "cell_type": "code",
      "metadata": {
        "colab": {
          "base_uri": "https://localhost:8080/"
        },
        "id": "_tcUQI8YE8Yo",
        "outputId": "fc5d2cc2-ee2d-43a9-cee3-54cdc796091f"
      },
      "source": [
        "df_w_test[df_w_test['평균기온(°C)'].isna()].index"
      ],
      "execution_count": 51,
      "outputs": [
        {
          "output_type": "execute_result",
          "data": {
            "text/plain": [
              "Int64Index([ 1881,  6871,  7377,  7716, 10197, 10334, 14678, 15117, 15173,\n",
              "            15230, 15282, 18979, 20332, 21641, 22346, 25086, 25320, 25329,\n",
              "            25345, 25363, 25385, 25748, 26201, 26619, 27144, 27674, 28415,\n",
              "            29640, 30437, 30609, 30955, 31678, 31723, 31937, 32111, 33944,\n",
              "            34712, 35478, 36768, 36779, 38260],\n",
              "           dtype='int64')"
            ]
          },
          "metadata": {
            "tags": []
          },
          "execution_count": 51
        }
      ]
    },
    {
      "cell_type": "code",
      "metadata": {
        "id": "OjZvMlCdGZ4B"
      },
      "source": [
        "test_dd = set_mean_value(df_w_test.copy(), '평균기온(°C)')"
      ],
      "execution_count": 52,
      "outputs": []
    },
    {
      "cell_type": "code",
      "metadata": {
        "colab": {
          "base_uri": "https://localhost:8080/"
        },
        "id": "weghDpTOMsag",
        "outputId": "2c7bf87b-2cfe-4ad2-8e39-aafa8d1b0f21"
      },
      "source": [
        "test_dd['평균기온(°C)']"
      ],
      "execution_count": 53,
      "outputs": [
        {
          "output_type": "execute_result",
          "data": {
            "text/plain": [
              "0        29.7\n",
              "1        29.4\n",
              "2        26.7\n",
              "3        27.0\n",
              "4        27.7\n",
              "         ... \n",
              "38923    14.3\n",
              "38924    14.6\n",
              "38925    12.5\n",
              "38926    13.4\n",
              "38927    12.6\n",
              "Name: 평균기온(°C), Length: 38928, dtype: float64"
            ]
          },
          "metadata": {
            "tags": []
          },
          "execution_count": 53
        }
      ]
    },
    {
      "cell_type": "code",
      "metadata": {
        "colab": {
          "base_uri": "https://localhost:8080/"
        },
        "id": "XFXe8nEBM5VO",
        "outputId": "235fd6ec-7084-4112-9cf4-00c02caf89bd"
      },
      "source": [
        "test_dd['평균기온(°C)'].isna().sum() == 0"
      ],
      "execution_count": 54,
      "outputs": [
        {
          "output_type": "execute_result",
          "data": {
            "text/plain": [
              "True"
            ]
          },
          "metadata": {
            "tags": []
          },
          "execution_count": 54
        }
      ]
    },
    {
      "cell_type": "code",
      "metadata": {
        "colab": {
          "base_uri": "https://localhost:8080/",
          "height": 204
        },
        "id": "bFl9GB9MNGFk",
        "outputId": "5a64dd1c-bcc6-4e9e-b44a-44f39e8b8918"
      },
      "source": [
        "test_dd.head()"
      ],
      "execution_count": 55,
      "outputs": [
        {
          "output_type": "execute_result",
          "data": {
            "text/html": [
              "<div>\n",
              "<style scoped>\n",
              "    .dataframe tbody tr th:only-of-type {\n",
              "        vertical-align: middle;\n",
              "    }\n",
              "\n",
              "    .dataframe tbody tr th {\n",
              "        vertical-align: top;\n",
              "    }\n",
              "\n",
              "    .dataframe thead th {\n",
              "        text-align: right;\n",
              "    }\n",
              "</style>\n",
              "<table border=\"1\" class=\"dataframe\">\n",
              "  <thead>\n",
              "    <tr style=\"text-align: right;\">\n",
              "      <th></th>\n",
              "      <th>지점</th>\n",
              "      <th>지점명</th>\n",
              "      <th>일시</th>\n",
              "      <th>평균기온(°C)</th>\n",
              "      <th>최저기온(°C)</th>\n",
              "      <th>최고기온(°C)</th>\n",
              "      <th>강수 계속시간(hr)</th>\n",
              "      <th>일강수량(mm)</th>\n",
              "      <th>평균 풍속(m/s)</th>\n",
              "      <th>평균 현지기압(hPa)</th>\n",
              "      <th>합계 일조시간(hr)</th>\n",
              "      <th>일 최심적설(cm)</th>\n",
              "    </tr>\n",
              "  </thead>\n",
              "  <tbody>\n",
              "    <tr>\n",
              "      <th>0</th>\n",
              "      <td>90</td>\n",
              "      <td>강원</td>\n",
              "      <td>2019-08-01</td>\n",
              "      <td>29.7</td>\n",
              "      <td>26.4</td>\n",
              "      <td>35.6</td>\n",
              "      <td>NaN</td>\n",
              "      <td>0.3</td>\n",
              "      <td>2.0</td>\n",
              "      <td>1007.2</td>\n",
              "      <td>8.3</td>\n",
              "      <td>NaN</td>\n",
              "    </tr>\n",
              "    <tr>\n",
              "      <th>1</th>\n",
              "      <td>90</td>\n",
              "      <td>강원</td>\n",
              "      <td>2019-08-02</td>\n",
              "      <td>29.4</td>\n",
              "      <td>25.9</td>\n",
              "      <td>33.1</td>\n",
              "      <td>NaN</td>\n",
              "      <td>NaN</td>\n",
              "      <td>1.4</td>\n",
              "      <td>1008.8</td>\n",
              "      <td>13.2</td>\n",
              "      <td>NaN</td>\n",
              "    </tr>\n",
              "    <tr>\n",
              "      <th>2</th>\n",
              "      <td>90</td>\n",
              "      <td>강원</td>\n",
              "      <td>2019-08-03</td>\n",
              "      <td>26.7</td>\n",
              "      <td>24.4</td>\n",
              "      <td>29.7</td>\n",
              "      <td>NaN</td>\n",
              "      <td>NaN</td>\n",
              "      <td>1.8</td>\n",
              "      <td>1009.7</td>\n",
              "      <td>10.3</td>\n",
              "      <td>NaN</td>\n",
              "    </tr>\n",
              "    <tr>\n",
              "      <th>3</th>\n",
              "      <td>90</td>\n",
              "      <td>강원</td>\n",
              "      <td>2019-08-04</td>\n",
              "      <td>27.0</td>\n",
              "      <td>25.3</td>\n",
              "      <td>29.6</td>\n",
              "      <td>NaN</td>\n",
              "      <td>NaN</td>\n",
              "      <td>1.2</td>\n",
              "      <td>1008.7</td>\n",
              "      <td>6.6</td>\n",
              "      <td>NaN</td>\n",
              "    </tr>\n",
              "    <tr>\n",
              "      <th>4</th>\n",
              "      <td>90</td>\n",
              "      <td>강원</td>\n",
              "      <td>2019-08-05</td>\n",
              "      <td>27.7</td>\n",
              "      <td>24.8</td>\n",
              "      <td>31.2</td>\n",
              "      <td>NaN</td>\n",
              "      <td>NaN</td>\n",
              "      <td>1.4</td>\n",
              "      <td>1008.7</td>\n",
              "      <td>12.0</td>\n",
              "      <td>NaN</td>\n",
              "    </tr>\n",
              "  </tbody>\n",
              "</table>\n",
              "</div>"
            ],
            "text/plain": [
              "   지점 지점명         일시  ...  평균 현지기압(hPa)  합계 일조시간(hr)  일 최심적설(cm)\n",
              "0  90  강원 2019-08-01  ...        1007.2          8.3         NaN\n",
              "1  90  강원 2019-08-02  ...        1008.8         13.2         NaN\n",
              "2  90  강원 2019-08-03  ...        1009.7         10.3         NaN\n",
              "3  90  강원 2019-08-04  ...        1008.7          6.6         NaN\n",
              "4  90  강원 2019-08-05  ...        1008.7         12.0         NaN\n",
              "\n",
              "[5 rows x 12 columns]"
            ]
          },
          "metadata": {
            "tags": []
          },
          "execution_count": 55
        }
      ]
    },
    {
      "cell_type": "markdown",
      "metadata": {
        "id": "cDrGDD9cNAHg"
      },
      "source": [
        "나머지 값들도 변환"
      ]
    },
    {
      "cell_type": "markdown",
      "metadata": {
        "id": "jE3lSStvNTam"
      },
      "source": [
        "최저기온"
      ]
    },
    {
      "cell_type": "code",
      "metadata": {
        "colab": {
          "base_uri": "https://localhost:8080/"
        },
        "id": "amLPVu05M-uL",
        "outputId": "c8403adc-bfeb-4b03-9df0-4a159c6129b8"
      },
      "source": [
        "test_dd = set_mean_value(test_dd.copy(), '최저기온(°C)')\r\n",
        "test_dd['최저기온(°C)'].isna().sum() == 0"
      ],
      "execution_count": 56,
      "outputs": [
        {
          "output_type": "execute_result",
          "data": {
            "text/plain": [
              "True"
            ]
          },
          "metadata": {
            "tags": []
          },
          "execution_count": 56
        }
      ]
    },
    {
      "cell_type": "markdown",
      "metadata": {
        "id": "0iLDA39UNUfI"
      },
      "source": [
        "최고기온"
      ]
    },
    {
      "cell_type": "code",
      "metadata": {
        "colab": {
          "base_uri": "https://localhost:8080/"
        },
        "id": "2fhEYKIBNSU2",
        "outputId": "040b9580-fb84-433b-c679-c9062eb14af4"
      },
      "source": [
        "print(test_dd['최고기온(°C)'].isna().sum())\r\n",
        "test_dd = set_mean_value(test_dd.copy(), '최고기온(°C)')\r\n",
        "test_dd['최고기온(°C)'].isna().sum() == 0"
      ],
      "execution_count": 57,
      "outputs": [
        {
          "output_type": "stream",
          "text": [
            "5\n"
          ],
          "name": "stdout"
        },
        {
          "output_type": "execute_result",
          "data": {
            "text/plain": [
              "True"
            ]
          },
          "metadata": {
            "tags": []
          },
          "execution_count": 57
        }
      ]
    },
    {
      "cell_type": "markdown",
      "metadata": {
        "id": "4tpynRvwPthf"
      },
      "source": [
        "평균 현지기압"
      ]
    },
    {
      "cell_type": "code",
      "metadata": {
        "colab": {
          "base_uri": "https://localhost:8080/"
        },
        "id": "CrS8FwzjPs5Q",
        "outputId": "db461535-d647-497b-c9a4-db5420cf8601"
      },
      "source": [
        "print(test_dd['평균 현지기압(hPa)'].isna().sum())\r\n",
        "test_dd = set_mean_value(test_dd.copy(), '평균 현지기압(hPa)')\r\n",
        "test_dd['평균 현지기압(hPa)'].isna().sum()"
      ],
      "execution_count": 58,
      "outputs": [
        {
          "output_type": "stream",
          "text": [
            "87\n"
          ],
          "name": "stdout"
        },
        {
          "output_type": "execute_result",
          "data": {
            "text/plain": [
              "24"
            ]
          },
          "metadata": {
            "tags": []
          },
          "execution_count": 58
        }
      ]
    },
    {
      "cell_type": "markdown",
      "metadata": {
        "id": "Ex6jhqZNRGi1"
      },
      "source": [
        "평균 현지기압 수작업"
      ]
    },
    {
      "cell_type": "code",
      "metadata": {
        "colab": {
          "base_uri": "https://localhost:8080/",
          "height": 793
        },
        "id": "S1H5-zExQC_Y",
        "outputId": "cd30f1d9-eba9-441f-b9b4-a7523782c134"
      },
      "source": [
        "test_dd[test_dd['평균 현지기압(hPa)'].isna()]"
      ],
      "execution_count": 59,
      "outputs": [
        {
          "output_type": "execute_result",
          "data": {
            "text/html": [
              "<div>\n",
              "<style scoped>\n",
              "    .dataframe tbody tr th:only-of-type {\n",
              "        vertical-align: middle;\n",
              "    }\n",
              "\n",
              "    .dataframe tbody tr th {\n",
              "        vertical-align: top;\n",
              "    }\n",
              "\n",
              "    .dataframe thead th {\n",
              "        text-align: right;\n",
              "    }\n",
              "</style>\n",
              "<table border=\"1\" class=\"dataframe\">\n",
              "  <thead>\n",
              "    <tr style=\"text-align: right;\">\n",
              "      <th></th>\n",
              "      <th>지점</th>\n",
              "      <th>지점명</th>\n",
              "      <th>일시</th>\n",
              "      <th>평균기온(°C)</th>\n",
              "      <th>최저기온(°C)</th>\n",
              "      <th>최고기온(°C)</th>\n",
              "      <th>강수 계속시간(hr)</th>\n",
              "      <th>일강수량(mm)</th>\n",
              "      <th>평균 풍속(m/s)</th>\n",
              "      <th>평균 현지기압(hPa)</th>\n",
              "      <th>합계 일조시간(hr)</th>\n",
              "      <th>일 최심적설(cm)</th>\n",
              "    </tr>\n",
              "  </thead>\n",
              "  <tbody>\n",
              "    <tr>\n",
              "      <th>2899</th>\n",
              "      <td>105</td>\n",
              "      <td>강원</td>\n",
              "      <td>2019-12-30</td>\n",
              "      <td>8.3</td>\n",
              "      <td>1.8</td>\n",
              "      <td>14.0</td>\n",
              "      <td>NaN</td>\n",
              "      <td>0.0</td>\n",
              "      <td>3.3</td>\n",
              "      <td>NaN</td>\n",
              "      <td>3.4</td>\n",
              "      <td>NaN</td>\n",
              "    </tr>\n",
              "    <tr>\n",
              "      <th>2900</th>\n",
              "      <td>105</td>\n",
              "      <td>강원</td>\n",
              "      <td>2019-12-31</td>\n",
              "      <td>-2.4</td>\n",
              "      <td>-5.6</td>\n",
              "      <td>1.8</td>\n",
              "      <td>NaN</td>\n",
              "      <td>NaN</td>\n",
              "      <td>4.0</td>\n",
              "      <td>NaN</td>\n",
              "      <td>8.7</td>\n",
              "      <td>NaN</td>\n",
              "    </tr>\n",
              "    <tr>\n",
              "      <th>2901</th>\n",
              "      <td>105</td>\n",
              "      <td>강원</td>\n",
              "      <td>2020-01-01</td>\n",
              "      <td>1.7</td>\n",
              "      <td>-3.0</td>\n",
              "      <td>6.4</td>\n",
              "      <td>NaN</td>\n",
              "      <td>NaN</td>\n",
              "      <td>4.6</td>\n",
              "      <td>NaN</td>\n",
              "      <td>8.6</td>\n",
              "      <td>NaN</td>\n",
              "    </tr>\n",
              "    <tr>\n",
              "      <th>2902</th>\n",
              "      <td>105</td>\n",
              "      <td>강원</td>\n",
              "      <td>2020-01-02</td>\n",
              "      <td>3.7</td>\n",
              "      <td>0.6</td>\n",
              "      <td>7.7</td>\n",
              "      <td>NaN</td>\n",
              "      <td>NaN</td>\n",
              "      <td>4.6</td>\n",
              "      <td>NaN</td>\n",
              "      <td>8.4</td>\n",
              "      <td>NaN</td>\n",
              "    </tr>\n",
              "    <tr>\n",
              "      <th>36638</th>\n",
              "      <td>285</td>\n",
              "      <td>경남</td>\n",
              "      <td>2019-08-01</td>\n",
              "      <td>29.5</td>\n",
              "      <td>24.0</td>\n",
              "      <td>35.4</td>\n",
              "      <td>NaN</td>\n",
              "      <td>NaN</td>\n",
              "      <td>1.4</td>\n",
              "      <td>NaN</td>\n",
              "      <td>12.9</td>\n",
              "      <td>NaN</td>\n",
              "    </tr>\n",
              "    <tr>\n",
              "      <th>36639</th>\n",
              "      <td>285</td>\n",
              "      <td>경남</td>\n",
              "      <td>2019-08-02</td>\n",
              "      <td>29.9</td>\n",
              "      <td>23.7</td>\n",
              "      <td>36.5</td>\n",
              "      <td>NaN</td>\n",
              "      <td>NaN</td>\n",
              "      <td>0.9</td>\n",
              "      <td>NaN</td>\n",
              "      <td>12.2</td>\n",
              "      <td>NaN</td>\n",
              "    </tr>\n",
              "    <tr>\n",
              "      <th>36640</th>\n",
              "      <td>285</td>\n",
              "      <td>경남</td>\n",
              "      <td>2019-08-03</td>\n",
              "      <td>29.3</td>\n",
              "      <td>24.3</td>\n",
              "      <td>35.4</td>\n",
              "      <td>NaN</td>\n",
              "      <td>NaN</td>\n",
              "      <td>1.1</td>\n",
              "      <td>NaN</td>\n",
              "      <td>10.4</td>\n",
              "      <td>NaN</td>\n",
              "    </tr>\n",
              "    <tr>\n",
              "      <th>36641</th>\n",
              "      <td>285</td>\n",
              "      <td>경남</td>\n",
              "      <td>2019-08-04</td>\n",
              "      <td>29.5</td>\n",
              "      <td>23.3</td>\n",
              "      <td>36.5</td>\n",
              "      <td>NaN</td>\n",
              "      <td>NaN</td>\n",
              "      <td>0.9</td>\n",
              "      <td>NaN</td>\n",
              "      <td>11.5</td>\n",
              "      <td>NaN</td>\n",
              "    </tr>\n",
              "    <tr>\n",
              "      <th>36642</th>\n",
              "      <td>285</td>\n",
              "      <td>경남</td>\n",
              "      <td>2019-08-05</td>\n",
              "      <td>29.7</td>\n",
              "      <td>23.9</td>\n",
              "      <td>36.6</td>\n",
              "      <td>NaN</td>\n",
              "      <td>NaN</td>\n",
              "      <td>0.9</td>\n",
              "      <td>NaN</td>\n",
              "      <td>10.4</td>\n",
              "      <td>NaN</td>\n",
              "    </tr>\n",
              "    <tr>\n",
              "      <th>36643</th>\n",
              "      <td>285</td>\n",
              "      <td>경남</td>\n",
              "      <td>2019-08-06</td>\n",
              "      <td>25.6</td>\n",
              "      <td>22.1</td>\n",
              "      <td>30.0</td>\n",
              "      <td>NaN</td>\n",
              "      <td>15.0</td>\n",
              "      <td>1.5</td>\n",
              "      <td>NaN</td>\n",
              "      <td>1.3</td>\n",
              "      <td>NaN</td>\n",
              "    </tr>\n",
              "    <tr>\n",
              "      <th>36644</th>\n",
              "      <td>285</td>\n",
              "      <td>경남</td>\n",
              "      <td>2019-08-07</td>\n",
              "      <td>27.3</td>\n",
              "      <td>23.5</td>\n",
              "      <td>33.1</td>\n",
              "      <td>NaN</td>\n",
              "      <td>7.5</td>\n",
              "      <td>1.4</td>\n",
              "      <td>NaN</td>\n",
              "      <td>5.5</td>\n",
              "      <td>NaN</td>\n",
              "    </tr>\n",
              "    <tr>\n",
              "      <th>36645</th>\n",
              "      <td>285</td>\n",
              "      <td>경남</td>\n",
              "      <td>2019-08-08</td>\n",
              "      <td>27.5</td>\n",
              "      <td>23.6</td>\n",
              "      <td>34.1</td>\n",
              "      <td>NaN</td>\n",
              "      <td>NaN</td>\n",
              "      <td>1.0</td>\n",
              "      <td>NaN</td>\n",
              "      <td>6.8</td>\n",
              "      <td>NaN</td>\n",
              "    </tr>\n",
              "    <tr>\n",
              "      <th>36646</th>\n",
              "      <td>285</td>\n",
              "      <td>경남</td>\n",
              "      <td>2019-08-09</td>\n",
              "      <td>28.4</td>\n",
              "      <td>23.2</td>\n",
              "      <td>34.7</td>\n",
              "      <td>NaN</td>\n",
              "      <td>NaN</td>\n",
              "      <td>0.8</td>\n",
              "      <td>NaN</td>\n",
              "      <td>9.4</td>\n",
              "      <td>NaN</td>\n",
              "    </tr>\n",
              "    <tr>\n",
              "      <th>36648</th>\n",
              "      <td>285</td>\n",
              "      <td>경남</td>\n",
              "      <td>2019-08-11</td>\n",
              "      <td>28.3</td>\n",
              "      <td>22.1</td>\n",
              "      <td>34.2</td>\n",
              "      <td>NaN</td>\n",
              "      <td>NaN</td>\n",
              "      <td>1.4</td>\n",
              "      <td>NaN</td>\n",
              "      <td>7.6</td>\n",
              "      <td>NaN</td>\n",
              "    </tr>\n",
              "    <tr>\n",
              "      <th>36649</th>\n",
              "      <td>285</td>\n",
              "      <td>경남</td>\n",
              "      <td>2019-08-12</td>\n",
              "      <td>28.0</td>\n",
              "      <td>24.5</td>\n",
              "      <td>30.9</td>\n",
              "      <td>NaN</td>\n",
              "      <td>NaN</td>\n",
              "      <td>1.3</td>\n",
              "      <td>NaN</td>\n",
              "      <td>2.3</td>\n",
              "      <td>NaN</td>\n",
              "    </tr>\n",
              "    <tr>\n",
              "      <th>36650</th>\n",
              "      <td>285</td>\n",
              "      <td>경남</td>\n",
              "      <td>2019-08-13</td>\n",
              "      <td>28.2</td>\n",
              "      <td>23.2</td>\n",
              "      <td>35.9</td>\n",
              "      <td>NaN</td>\n",
              "      <td>0.0</td>\n",
              "      <td>1.0</td>\n",
              "      <td>NaN</td>\n",
              "      <td>7.3</td>\n",
              "      <td>NaN</td>\n",
              "    </tr>\n",
              "    <tr>\n",
              "      <th>36651</th>\n",
              "      <td>285</td>\n",
              "      <td>경남</td>\n",
              "      <td>2019-08-14</td>\n",
              "      <td>28.5</td>\n",
              "      <td>23.3</td>\n",
              "      <td>33.8</td>\n",
              "      <td>NaN</td>\n",
              "      <td>0.5</td>\n",
              "      <td>2.2</td>\n",
              "      <td>NaN</td>\n",
              "      <td>5.8</td>\n",
              "      <td>NaN</td>\n",
              "    </tr>\n",
              "    <tr>\n",
              "      <th>36655</th>\n",
              "      <td>285</td>\n",
              "      <td>경남</td>\n",
              "      <td>2019-08-18</td>\n",
              "      <td>27.5</td>\n",
              "      <td>22.1</td>\n",
              "      <td>34.3</td>\n",
              "      <td>NaN</td>\n",
              "      <td>NaN</td>\n",
              "      <td>1.0</td>\n",
              "      <td>NaN</td>\n",
              "      <td>NaN</td>\n",
              "      <td>NaN</td>\n",
              "    </tr>\n",
              "    <tr>\n",
              "      <th>36656</th>\n",
              "      <td>285</td>\n",
              "      <td>경남</td>\n",
              "      <td>2019-08-19</td>\n",
              "      <td>25.9</td>\n",
              "      <td>18.8</td>\n",
              "      <td>32.7</td>\n",
              "      <td>NaN</td>\n",
              "      <td>NaN</td>\n",
              "      <td>0.8</td>\n",
              "      <td>NaN</td>\n",
              "      <td>6.2</td>\n",
              "      <td>NaN</td>\n",
              "    </tr>\n",
              "    <tr>\n",
              "      <th>36657</th>\n",
              "      <td>285</td>\n",
              "      <td>경남</td>\n",
              "      <td>2019-08-20</td>\n",
              "      <td>27.0</td>\n",
              "      <td>22.6</td>\n",
              "      <td>31.2</td>\n",
              "      <td>NaN</td>\n",
              "      <td>NaN</td>\n",
              "      <td>1.4</td>\n",
              "      <td>NaN</td>\n",
              "      <td>4.2</td>\n",
              "      <td>NaN</td>\n",
              "    </tr>\n",
              "    <tr>\n",
              "      <th>36658</th>\n",
              "      <td>285</td>\n",
              "      <td>경남</td>\n",
              "      <td>2019-08-21</td>\n",
              "      <td>25.5</td>\n",
              "      <td>22.5</td>\n",
              "      <td>28.7</td>\n",
              "      <td>NaN</td>\n",
              "      <td>6.5</td>\n",
              "      <td>0.6</td>\n",
              "      <td>NaN</td>\n",
              "      <td>0.0</td>\n",
              "      <td>NaN</td>\n",
              "    </tr>\n",
              "    <tr>\n",
              "      <th>36659</th>\n",
              "      <td>285</td>\n",
              "      <td>경남</td>\n",
              "      <td>2019-08-22</td>\n",
              "      <td>27.1</td>\n",
              "      <td>24.3</td>\n",
              "      <td>33.0</td>\n",
              "      <td>NaN</td>\n",
              "      <td>62.5</td>\n",
              "      <td>0.8</td>\n",
              "      <td>NaN</td>\n",
              "      <td>NaN</td>\n",
              "      <td>NaN</td>\n",
              "    </tr>\n",
              "    <tr>\n",
              "      <th>36660</th>\n",
              "      <td>285</td>\n",
              "      <td>경남</td>\n",
              "      <td>2019-08-23</td>\n",
              "      <td>25.4</td>\n",
              "      <td>19.3</td>\n",
              "      <td>31.0</td>\n",
              "      <td>NaN</td>\n",
              "      <td>NaN</td>\n",
              "      <td>1.2</td>\n",
              "      <td>NaN</td>\n",
              "      <td>NaN</td>\n",
              "      <td>NaN</td>\n",
              "    </tr>\n",
              "    <tr>\n",
              "      <th>36661</th>\n",
              "      <td>285</td>\n",
              "      <td>경남</td>\n",
              "      <td>2019-08-24</td>\n",
              "      <td>22.0</td>\n",
              "      <td>16.8</td>\n",
              "      <td>29.7</td>\n",
              "      <td>NaN</td>\n",
              "      <td>NaN</td>\n",
              "      <td>1.0</td>\n",
              "      <td>NaN</td>\n",
              "      <td>NaN</td>\n",
              "      <td>NaN</td>\n",
              "    </tr>\n",
              "  </tbody>\n",
              "</table>\n",
              "</div>"
            ],
            "text/plain": [
              "        지점 지점명         일시  ...  평균 현지기압(hPa)  합계 일조시간(hr)  일 최심적설(cm)\n",
              "2899   105  강원 2019-12-30  ...           NaN          3.4         NaN\n",
              "2900   105  강원 2019-12-31  ...           NaN          8.7         NaN\n",
              "2901   105  강원 2020-01-01  ...           NaN          8.6         NaN\n",
              "2902   105  강원 2020-01-02  ...           NaN          8.4         NaN\n",
              "36638  285  경남 2019-08-01  ...           NaN         12.9         NaN\n",
              "36639  285  경남 2019-08-02  ...           NaN         12.2         NaN\n",
              "36640  285  경남 2019-08-03  ...           NaN         10.4         NaN\n",
              "36641  285  경남 2019-08-04  ...           NaN         11.5         NaN\n",
              "36642  285  경남 2019-08-05  ...           NaN         10.4         NaN\n",
              "36643  285  경남 2019-08-06  ...           NaN          1.3         NaN\n",
              "36644  285  경남 2019-08-07  ...           NaN          5.5         NaN\n",
              "36645  285  경남 2019-08-08  ...           NaN          6.8         NaN\n",
              "36646  285  경남 2019-08-09  ...           NaN          9.4         NaN\n",
              "36648  285  경남 2019-08-11  ...           NaN          7.6         NaN\n",
              "36649  285  경남 2019-08-12  ...           NaN          2.3         NaN\n",
              "36650  285  경남 2019-08-13  ...           NaN          7.3         NaN\n",
              "36651  285  경남 2019-08-14  ...           NaN          5.8         NaN\n",
              "36655  285  경남 2019-08-18  ...           NaN          NaN         NaN\n",
              "36656  285  경남 2019-08-19  ...           NaN          6.2         NaN\n",
              "36657  285  경남 2019-08-20  ...           NaN          4.2         NaN\n",
              "36658  285  경남 2019-08-21  ...           NaN          0.0         NaN\n",
              "36659  285  경남 2019-08-22  ...           NaN          NaN         NaN\n",
              "36660  285  경남 2019-08-23  ...           NaN          NaN         NaN\n",
              "36661  285  경남 2019-08-24  ...           NaN          NaN         NaN\n",
              "\n",
              "[24 rows x 12 columns]"
            ]
          },
          "metadata": {
            "tags": []
          },
          "execution_count": 59
        }
      ]
    },
    {
      "cell_type": "code",
      "metadata": {
        "colab": {
          "base_uri": "https://localhost:8080/",
          "height": 576
        },
        "id": "3bJCeurQQMIu",
        "outputId": "fc8e690c-7b40-408f-fe72-893ef36ee853"
      },
      "source": [
        "test_dd.iloc[2895:2912, ]"
      ],
      "execution_count": 60,
      "outputs": [
        {
          "output_type": "execute_result",
          "data": {
            "text/html": [
              "<div>\n",
              "<style scoped>\n",
              "    .dataframe tbody tr th:only-of-type {\n",
              "        vertical-align: middle;\n",
              "    }\n",
              "\n",
              "    .dataframe tbody tr th {\n",
              "        vertical-align: top;\n",
              "    }\n",
              "\n",
              "    .dataframe thead th {\n",
              "        text-align: right;\n",
              "    }\n",
              "</style>\n",
              "<table border=\"1\" class=\"dataframe\">\n",
              "  <thead>\n",
              "    <tr style=\"text-align: right;\">\n",
              "      <th></th>\n",
              "      <th>지점</th>\n",
              "      <th>지점명</th>\n",
              "      <th>일시</th>\n",
              "      <th>평균기온(°C)</th>\n",
              "      <th>최저기온(°C)</th>\n",
              "      <th>최고기온(°C)</th>\n",
              "      <th>강수 계속시간(hr)</th>\n",
              "      <th>일강수량(mm)</th>\n",
              "      <th>평균 풍속(m/s)</th>\n",
              "      <th>평균 현지기압(hPa)</th>\n",
              "      <th>합계 일조시간(hr)</th>\n",
              "      <th>일 최심적설(cm)</th>\n",
              "    </tr>\n",
              "  </thead>\n",
              "  <tbody>\n",
              "    <tr>\n",
              "      <th>2895</th>\n",
              "      <td>105</td>\n",
              "      <td>강원</td>\n",
              "      <td>2019-12-26</td>\n",
              "      <td>5.7</td>\n",
              "      <td>3.1</td>\n",
              "      <td>8.0</td>\n",
              "      <td>NaN</td>\n",
              "      <td>0.0</td>\n",
              "      <td>2.8</td>\n",
              "      <td>1010.9000</td>\n",
              "      <td>0.0</td>\n",
              "      <td>NaN</td>\n",
              "    </tr>\n",
              "    <tr>\n",
              "      <th>2896</th>\n",
              "      <td>105</td>\n",
              "      <td>강원</td>\n",
              "      <td>2019-12-27</td>\n",
              "      <td>2.5</td>\n",
              "      <td>0.0</td>\n",
              "      <td>7.5</td>\n",
              "      <td>NaN</td>\n",
              "      <td>NaN</td>\n",
              "      <td>3.1</td>\n",
              "      <td>1018.2000</td>\n",
              "      <td>8.7</td>\n",
              "      <td>NaN</td>\n",
              "    </tr>\n",
              "    <tr>\n",
              "      <th>2897</th>\n",
              "      <td>105</td>\n",
              "      <td>강원</td>\n",
              "      <td>2019-12-28</td>\n",
              "      <td>3.7</td>\n",
              "      <td>-0.4</td>\n",
              "      <td>8.7</td>\n",
              "      <td>NaN</td>\n",
              "      <td>NaN</td>\n",
              "      <td>2.0</td>\n",
              "      <td>1024.4000</td>\n",
              "      <td>8.3</td>\n",
              "      <td>NaN</td>\n",
              "    </tr>\n",
              "    <tr>\n",
              "      <th>2898</th>\n",
              "      <td>105</td>\n",
              "      <td>강원</td>\n",
              "      <td>2019-12-29</td>\n",
              "      <td>6.7</td>\n",
              "      <td>3.1</td>\n",
              "      <td>10.3</td>\n",
              "      <td>NaN</td>\n",
              "      <td>NaN</td>\n",
              "      <td>2.0</td>\n",
              "      <td>1022.6000</td>\n",
              "      <td>0.1</td>\n",
              "      <td>NaN</td>\n",
              "    </tr>\n",
              "    <tr>\n",
              "      <th>2899</th>\n",
              "      <td>105</td>\n",
              "      <td>강원</td>\n",
              "      <td>2019-12-30</td>\n",
              "      <td>8.3</td>\n",
              "      <td>1.8</td>\n",
              "      <td>14.0</td>\n",
              "      <td>NaN</td>\n",
              "      <td>0.0</td>\n",
              "      <td>3.3</td>\n",
              "      <td>NaN</td>\n",
              "      <td>3.4</td>\n",
              "      <td>NaN</td>\n",
              "    </tr>\n",
              "    <tr>\n",
              "      <th>2900</th>\n",
              "      <td>105</td>\n",
              "      <td>강원</td>\n",
              "      <td>2019-12-31</td>\n",
              "      <td>-2.4</td>\n",
              "      <td>-5.6</td>\n",
              "      <td>1.8</td>\n",
              "      <td>NaN</td>\n",
              "      <td>NaN</td>\n",
              "      <td>4.0</td>\n",
              "      <td>NaN</td>\n",
              "      <td>8.7</td>\n",
              "      <td>NaN</td>\n",
              "    </tr>\n",
              "    <tr>\n",
              "      <th>2901</th>\n",
              "      <td>105</td>\n",
              "      <td>강원</td>\n",
              "      <td>2020-01-01</td>\n",
              "      <td>1.7</td>\n",
              "      <td>-3.0</td>\n",
              "      <td>6.4</td>\n",
              "      <td>NaN</td>\n",
              "      <td>NaN</td>\n",
              "      <td>4.6</td>\n",
              "      <td>NaN</td>\n",
              "      <td>8.6</td>\n",
              "      <td>NaN</td>\n",
              "    </tr>\n",
              "    <tr>\n",
              "      <th>2902</th>\n",
              "      <td>105</td>\n",
              "      <td>강원</td>\n",
              "      <td>2020-01-02</td>\n",
              "      <td>3.7</td>\n",
              "      <td>0.6</td>\n",
              "      <td>7.7</td>\n",
              "      <td>NaN</td>\n",
              "      <td>NaN</td>\n",
              "      <td>4.6</td>\n",
              "      <td>NaN</td>\n",
              "      <td>8.4</td>\n",
              "      <td>NaN</td>\n",
              "    </tr>\n",
              "    <tr>\n",
              "      <th>2903</th>\n",
              "      <td>105</td>\n",
              "      <td>강원</td>\n",
              "      <td>2020-01-03</td>\n",
              "      <td>5.6</td>\n",
              "      <td>2.9</td>\n",
              "      <td>11.4</td>\n",
              "      <td>NaN</td>\n",
              "      <td>NaN</td>\n",
              "      <td>3.5</td>\n",
              "      <td>1019.1000</td>\n",
              "      <td>8.8</td>\n",
              "      <td>NaN</td>\n",
              "    </tr>\n",
              "    <tr>\n",
              "      <th>2904</th>\n",
              "      <td>105</td>\n",
              "      <td>강원</td>\n",
              "      <td>2020-01-04</td>\n",
              "      <td>5.0</td>\n",
              "      <td>2.5</td>\n",
              "      <td>10.1</td>\n",
              "      <td>NaN</td>\n",
              "      <td>NaN</td>\n",
              "      <td>3.5</td>\n",
              "      <td>1019.5000</td>\n",
              "      <td>8.7</td>\n",
              "      <td>NaN</td>\n",
              "    </tr>\n",
              "    <tr>\n",
              "      <th>2905</th>\n",
              "      <td>105</td>\n",
              "      <td>강원</td>\n",
              "      <td>2020-01-05</td>\n",
              "      <td>4.6</td>\n",
              "      <td>0.7</td>\n",
              "      <td>10.6</td>\n",
              "      <td>NaN</td>\n",
              "      <td>NaN</td>\n",
              "      <td>2.5</td>\n",
              "      <td>1026.4000</td>\n",
              "      <td>8.1</td>\n",
              "      <td>NaN</td>\n",
              "    </tr>\n",
              "    <tr>\n",
              "      <th>2906</th>\n",
              "      <td>105</td>\n",
              "      <td>강원</td>\n",
              "      <td>2020-01-06</td>\n",
              "      <td>6.1</td>\n",
              "      <td>2.2</td>\n",
              "      <td>9.3</td>\n",
              "      <td>NaN</td>\n",
              "      <td>0.1</td>\n",
              "      <td>1.9</td>\n",
              "      <td>1023.2000</td>\n",
              "      <td>0.0</td>\n",
              "      <td>NaN</td>\n",
              "    </tr>\n",
              "    <tr>\n",
              "      <th>2907</th>\n",
              "      <td>105</td>\n",
              "      <td>강원</td>\n",
              "      <td>2020-01-07</td>\n",
              "      <td>6.5</td>\n",
              "      <td>5.1</td>\n",
              "      <td>7.9</td>\n",
              "      <td>NaN</td>\n",
              "      <td>50.0</td>\n",
              "      <td>1.3</td>\n",
              "      <td>1010.0000</td>\n",
              "      <td>0.0</td>\n",
              "      <td>NaN</td>\n",
              "    </tr>\n",
              "    <tr>\n",
              "      <th>2908</th>\n",
              "      <td>105</td>\n",
              "      <td>강원</td>\n",
              "      <td>2020-01-08</td>\n",
              "      <td>7.1</td>\n",
              "      <td>4.7</td>\n",
              "      <td>11.0</td>\n",
              "      <td>NaN</td>\n",
              "      <td>9.1</td>\n",
              "      <td>3.4</td>\n",
              "      <td>1016.8500</td>\n",
              "      <td>1.3</td>\n",
              "      <td>NaN</td>\n",
              "    </tr>\n",
              "    <tr>\n",
              "      <th>2909</th>\n",
              "      <td>105</td>\n",
              "      <td>강원</td>\n",
              "      <td>2020-01-09</td>\n",
              "      <td>3.9</td>\n",
              "      <td>2.1</td>\n",
              "      <td>6.9</td>\n",
              "      <td>NaN</td>\n",
              "      <td>NaN</td>\n",
              "      <td>3.8</td>\n",
              "      <td>1014.4875</td>\n",
              "      <td>8.9</td>\n",
              "      <td>NaN</td>\n",
              "    </tr>\n",
              "    <tr>\n",
              "      <th>2910</th>\n",
              "      <td>105</td>\n",
              "      <td>강원</td>\n",
              "      <td>2020-01-10</td>\n",
              "      <td>5.0</td>\n",
              "      <td>0.8</td>\n",
              "      <td>10.7</td>\n",
              "      <td>NaN</td>\n",
              "      <td>NaN</td>\n",
              "      <td>2.8</td>\n",
              "      <td>1017.1000</td>\n",
              "      <td>7.9</td>\n",
              "      <td>NaN</td>\n",
              "    </tr>\n",
              "    <tr>\n",
              "      <th>2911</th>\n",
              "      <td>105</td>\n",
              "      <td>강원</td>\n",
              "      <td>2020-01-11</td>\n",
              "      <td>4.2</td>\n",
              "      <td>1.7</td>\n",
              "      <td>8.6</td>\n",
              "      <td>NaN</td>\n",
              "      <td>NaN</td>\n",
              "      <td>2.7</td>\n",
              "      <td>1014.0000</td>\n",
              "      <td>9.0</td>\n",
              "      <td>NaN</td>\n",
              "    </tr>\n",
              "  </tbody>\n",
              "</table>\n",
              "</div>"
            ],
            "text/plain": [
              "       지점 지점명         일시  ...  평균 현지기압(hPa)  합계 일조시간(hr)  일 최심적설(cm)\n",
              "2895  105  강원 2019-12-26  ...     1010.9000          0.0         NaN\n",
              "2896  105  강원 2019-12-27  ...     1018.2000          8.7         NaN\n",
              "2897  105  강원 2019-12-28  ...     1024.4000          8.3         NaN\n",
              "2898  105  강원 2019-12-29  ...     1022.6000          0.1         NaN\n",
              "2899  105  강원 2019-12-30  ...           NaN          3.4         NaN\n",
              "2900  105  강원 2019-12-31  ...           NaN          8.7         NaN\n",
              "2901  105  강원 2020-01-01  ...           NaN          8.6         NaN\n",
              "2902  105  강원 2020-01-02  ...           NaN          8.4         NaN\n",
              "2903  105  강원 2020-01-03  ...     1019.1000          8.8         NaN\n",
              "2904  105  강원 2020-01-04  ...     1019.5000          8.7         NaN\n",
              "2905  105  강원 2020-01-05  ...     1026.4000          8.1         NaN\n",
              "2906  105  강원 2020-01-06  ...     1023.2000          0.0         NaN\n",
              "2907  105  강원 2020-01-07  ...     1010.0000          0.0         NaN\n",
              "2908  105  강원 2020-01-08  ...     1016.8500          1.3         NaN\n",
              "2909  105  강원 2020-01-09  ...     1014.4875          8.9         NaN\n",
              "2910  105  강원 2020-01-10  ...     1017.1000          7.9         NaN\n",
              "2911  105  강원 2020-01-11  ...     1014.0000          9.0         NaN\n",
              "\n",
              "[17 rows x 12 columns]"
            ]
          },
          "metadata": {
            "tags": []
          },
          "execution_count": 60
        }
      ]
    },
    {
      "cell_type": "code",
      "metadata": {
        "id": "2BYE7fRyQl6u",
        "colab": {
          "base_uri": "https://localhost:8080/",
          "height": 173
        },
        "outputId": "542a3d7f-d193-47bb-fcfc-b80e89696101"
      },
      "source": [
        "test_dd.iloc[2899:2903, 9] = 1017.7000\r\n",
        "test_dd.iloc[2899:2903]"
      ],
      "execution_count": 63,
      "outputs": [
        {
          "output_type": "execute_result",
          "data": {
            "text/html": [
              "<div>\n",
              "<style scoped>\n",
              "    .dataframe tbody tr th:only-of-type {\n",
              "        vertical-align: middle;\n",
              "    }\n",
              "\n",
              "    .dataframe tbody tr th {\n",
              "        vertical-align: top;\n",
              "    }\n",
              "\n",
              "    .dataframe thead th {\n",
              "        text-align: right;\n",
              "    }\n",
              "</style>\n",
              "<table border=\"1\" class=\"dataframe\">\n",
              "  <thead>\n",
              "    <tr style=\"text-align: right;\">\n",
              "      <th></th>\n",
              "      <th>지점</th>\n",
              "      <th>지점명</th>\n",
              "      <th>일시</th>\n",
              "      <th>평균기온(°C)</th>\n",
              "      <th>최저기온(°C)</th>\n",
              "      <th>최고기온(°C)</th>\n",
              "      <th>강수 계속시간(hr)</th>\n",
              "      <th>일강수량(mm)</th>\n",
              "      <th>평균 풍속(m/s)</th>\n",
              "      <th>평균 현지기압(hPa)</th>\n",
              "      <th>합계 일조시간(hr)</th>\n",
              "      <th>일 최심적설(cm)</th>\n",
              "    </tr>\n",
              "  </thead>\n",
              "  <tbody>\n",
              "    <tr>\n",
              "      <th>2899</th>\n",
              "      <td>105</td>\n",
              "      <td>강원</td>\n",
              "      <td>2019-12-30</td>\n",
              "      <td>8.3</td>\n",
              "      <td>1.8</td>\n",
              "      <td>14.0</td>\n",
              "      <td>NaN</td>\n",
              "      <td>0.0</td>\n",
              "      <td>3.3</td>\n",
              "      <td>1017.7</td>\n",
              "      <td>3.4</td>\n",
              "      <td>NaN</td>\n",
              "    </tr>\n",
              "    <tr>\n",
              "      <th>2900</th>\n",
              "      <td>105</td>\n",
              "      <td>강원</td>\n",
              "      <td>2019-12-31</td>\n",
              "      <td>-2.4</td>\n",
              "      <td>-5.6</td>\n",
              "      <td>1.8</td>\n",
              "      <td>NaN</td>\n",
              "      <td>NaN</td>\n",
              "      <td>4.0</td>\n",
              "      <td>1017.7</td>\n",
              "      <td>8.7</td>\n",
              "      <td>NaN</td>\n",
              "    </tr>\n",
              "    <tr>\n",
              "      <th>2901</th>\n",
              "      <td>105</td>\n",
              "      <td>강원</td>\n",
              "      <td>2020-01-01</td>\n",
              "      <td>1.7</td>\n",
              "      <td>-3.0</td>\n",
              "      <td>6.4</td>\n",
              "      <td>NaN</td>\n",
              "      <td>NaN</td>\n",
              "      <td>4.6</td>\n",
              "      <td>1017.7</td>\n",
              "      <td>8.6</td>\n",
              "      <td>NaN</td>\n",
              "    </tr>\n",
              "    <tr>\n",
              "      <th>2902</th>\n",
              "      <td>105</td>\n",
              "      <td>강원</td>\n",
              "      <td>2020-01-02</td>\n",
              "      <td>3.7</td>\n",
              "      <td>0.6</td>\n",
              "      <td>7.7</td>\n",
              "      <td>NaN</td>\n",
              "      <td>NaN</td>\n",
              "      <td>4.6</td>\n",
              "      <td>1017.7</td>\n",
              "      <td>8.4</td>\n",
              "      <td>NaN</td>\n",
              "    </tr>\n",
              "  </tbody>\n",
              "</table>\n",
              "</div>"
            ],
            "text/plain": [
              "       지점 지점명         일시  ...  평균 현지기압(hPa)  합계 일조시간(hr)  일 최심적설(cm)\n",
              "2899  105  강원 2019-12-30  ...        1017.7          3.4         NaN\n",
              "2900  105  강원 2019-12-31  ...        1017.7          8.7         NaN\n",
              "2901  105  강원 2020-01-01  ...        1017.7          8.6         NaN\n",
              "2902  105  강원 2020-01-02  ...        1017.7          8.4         NaN\n",
              "\n",
              "[4 rows x 12 columns]"
            ]
          },
          "metadata": {
            "tags": []
          },
          "execution_count": 63
        }
      ]
    },
    {
      "cell_type": "code",
      "metadata": {
        "colab": {
          "base_uri": "https://localhost:8080/",
          "height": 762
        },
        "id": "ttjalmxRRQ0a",
        "outputId": "54a041c5-dfa6-42e8-839a-0d85e6967db7"
      },
      "source": [
        "test_dd.iloc[36638:36661]"
      ],
      "execution_count": 64,
      "outputs": [
        {
          "output_type": "execute_result",
          "data": {
            "text/html": [
              "<div>\n",
              "<style scoped>\n",
              "    .dataframe tbody tr th:only-of-type {\n",
              "        vertical-align: middle;\n",
              "    }\n",
              "\n",
              "    .dataframe tbody tr th {\n",
              "        vertical-align: top;\n",
              "    }\n",
              "\n",
              "    .dataframe thead th {\n",
              "        text-align: right;\n",
              "    }\n",
              "</style>\n",
              "<table border=\"1\" class=\"dataframe\">\n",
              "  <thead>\n",
              "    <tr style=\"text-align: right;\">\n",
              "      <th></th>\n",
              "      <th>지점</th>\n",
              "      <th>지점명</th>\n",
              "      <th>일시</th>\n",
              "      <th>평균기온(°C)</th>\n",
              "      <th>최저기온(°C)</th>\n",
              "      <th>최고기온(°C)</th>\n",
              "      <th>강수 계속시간(hr)</th>\n",
              "      <th>일강수량(mm)</th>\n",
              "      <th>평균 풍속(m/s)</th>\n",
              "      <th>평균 현지기압(hPa)</th>\n",
              "      <th>합계 일조시간(hr)</th>\n",
              "      <th>일 최심적설(cm)</th>\n",
              "    </tr>\n",
              "  </thead>\n",
              "  <tbody>\n",
              "    <tr>\n",
              "      <th>36638</th>\n",
              "      <td>285</td>\n",
              "      <td>경남</td>\n",
              "      <td>2019-08-01</td>\n",
              "      <td>29.5</td>\n",
              "      <td>24.0</td>\n",
              "      <td>35.4</td>\n",
              "      <td>NaN</td>\n",
              "      <td>NaN</td>\n",
              "      <td>1.4</td>\n",
              "      <td>NaN</td>\n",
              "      <td>12.9</td>\n",
              "      <td>NaN</td>\n",
              "    </tr>\n",
              "    <tr>\n",
              "      <th>36639</th>\n",
              "      <td>285</td>\n",
              "      <td>경남</td>\n",
              "      <td>2019-08-02</td>\n",
              "      <td>29.9</td>\n",
              "      <td>23.7</td>\n",
              "      <td>36.5</td>\n",
              "      <td>NaN</td>\n",
              "      <td>NaN</td>\n",
              "      <td>0.9</td>\n",
              "      <td>NaN</td>\n",
              "      <td>12.2</td>\n",
              "      <td>NaN</td>\n",
              "    </tr>\n",
              "    <tr>\n",
              "      <th>36640</th>\n",
              "      <td>285</td>\n",
              "      <td>경남</td>\n",
              "      <td>2019-08-03</td>\n",
              "      <td>29.3</td>\n",
              "      <td>24.3</td>\n",
              "      <td>35.4</td>\n",
              "      <td>NaN</td>\n",
              "      <td>NaN</td>\n",
              "      <td>1.1</td>\n",
              "      <td>NaN</td>\n",
              "      <td>10.4</td>\n",
              "      <td>NaN</td>\n",
              "    </tr>\n",
              "    <tr>\n",
              "      <th>36641</th>\n",
              "      <td>285</td>\n",
              "      <td>경남</td>\n",
              "      <td>2019-08-04</td>\n",
              "      <td>29.5</td>\n",
              "      <td>23.3</td>\n",
              "      <td>36.5</td>\n",
              "      <td>NaN</td>\n",
              "      <td>NaN</td>\n",
              "      <td>0.9</td>\n",
              "      <td>NaN</td>\n",
              "      <td>11.5</td>\n",
              "      <td>NaN</td>\n",
              "    </tr>\n",
              "    <tr>\n",
              "      <th>36642</th>\n",
              "      <td>285</td>\n",
              "      <td>경남</td>\n",
              "      <td>2019-08-05</td>\n",
              "      <td>29.7</td>\n",
              "      <td>23.9</td>\n",
              "      <td>36.6</td>\n",
              "      <td>NaN</td>\n",
              "      <td>NaN</td>\n",
              "      <td>0.9</td>\n",
              "      <td>NaN</td>\n",
              "      <td>10.4</td>\n",
              "      <td>NaN</td>\n",
              "    </tr>\n",
              "    <tr>\n",
              "      <th>36643</th>\n",
              "      <td>285</td>\n",
              "      <td>경남</td>\n",
              "      <td>2019-08-06</td>\n",
              "      <td>25.6</td>\n",
              "      <td>22.1</td>\n",
              "      <td>30.0</td>\n",
              "      <td>NaN</td>\n",
              "      <td>15.0</td>\n",
              "      <td>1.5</td>\n",
              "      <td>NaN</td>\n",
              "      <td>1.3</td>\n",
              "      <td>NaN</td>\n",
              "    </tr>\n",
              "    <tr>\n",
              "      <th>36644</th>\n",
              "      <td>285</td>\n",
              "      <td>경남</td>\n",
              "      <td>2019-08-07</td>\n",
              "      <td>27.3</td>\n",
              "      <td>23.5</td>\n",
              "      <td>33.1</td>\n",
              "      <td>NaN</td>\n",
              "      <td>7.5</td>\n",
              "      <td>1.4</td>\n",
              "      <td>NaN</td>\n",
              "      <td>5.5</td>\n",
              "      <td>NaN</td>\n",
              "    </tr>\n",
              "    <tr>\n",
              "      <th>36645</th>\n",
              "      <td>285</td>\n",
              "      <td>경남</td>\n",
              "      <td>2019-08-08</td>\n",
              "      <td>27.5</td>\n",
              "      <td>23.6</td>\n",
              "      <td>34.1</td>\n",
              "      <td>NaN</td>\n",
              "      <td>NaN</td>\n",
              "      <td>1.0</td>\n",
              "      <td>NaN</td>\n",
              "      <td>6.8</td>\n",
              "      <td>NaN</td>\n",
              "    </tr>\n",
              "    <tr>\n",
              "      <th>36646</th>\n",
              "      <td>285</td>\n",
              "      <td>경남</td>\n",
              "      <td>2019-08-09</td>\n",
              "      <td>28.4</td>\n",
              "      <td>23.2</td>\n",
              "      <td>34.7</td>\n",
              "      <td>NaN</td>\n",
              "      <td>NaN</td>\n",
              "      <td>0.8</td>\n",
              "      <td>NaN</td>\n",
              "      <td>9.4</td>\n",
              "      <td>NaN</td>\n",
              "    </tr>\n",
              "    <tr>\n",
              "      <th>36647</th>\n",
              "      <td>285</td>\n",
              "      <td>경남</td>\n",
              "      <td>2019-08-10</td>\n",
              "      <td>28.2</td>\n",
              "      <td>23.8</td>\n",
              "      <td>34.4</td>\n",
              "      <td>NaN</td>\n",
              "      <td>NaN</td>\n",
              "      <td>1.1</td>\n",
              "      <td>1002.9</td>\n",
              "      <td>10.0</td>\n",
              "      <td>NaN</td>\n",
              "    </tr>\n",
              "    <tr>\n",
              "      <th>36648</th>\n",
              "      <td>285</td>\n",
              "      <td>경남</td>\n",
              "      <td>2019-08-11</td>\n",
              "      <td>28.3</td>\n",
              "      <td>22.1</td>\n",
              "      <td>34.2</td>\n",
              "      <td>NaN</td>\n",
              "      <td>NaN</td>\n",
              "      <td>1.4</td>\n",
              "      <td>NaN</td>\n",
              "      <td>7.6</td>\n",
              "      <td>NaN</td>\n",
              "    </tr>\n",
              "    <tr>\n",
              "      <th>36649</th>\n",
              "      <td>285</td>\n",
              "      <td>경남</td>\n",
              "      <td>2019-08-12</td>\n",
              "      <td>28.0</td>\n",
              "      <td>24.5</td>\n",
              "      <td>30.9</td>\n",
              "      <td>NaN</td>\n",
              "      <td>NaN</td>\n",
              "      <td>1.3</td>\n",
              "      <td>NaN</td>\n",
              "      <td>2.3</td>\n",
              "      <td>NaN</td>\n",
              "    </tr>\n",
              "    <tr>\n",
              "      <th>36650</th>\n",
              "      <td>285</td>\n",
              "      <td>경남</td>\n",
              "      <td>2019-08-13</td>\n",
              "      <td>28.2</td>\n",
              "      <td>23.2</td>\n",
              "      <td>35.9</td>\n",
              "      <td>NaN</td>\n",
              "      <td>0.0</td>\n",
              "      <td>1.0</td>\n",
              "      <td>NaN</td>\n",
              "      <td>7.3</td>\n",
              "      <td>NaN</td>\n",
              "    </tr>\n",
              "    <tr>\n",
              "      <th>36651</th>\n",
              "      <td>285</td>\n",
              "      <td>경남</td>\n",
              "      <td>2019-08-14</td>\n",
              "      <td>28.5</td>\n",
              "      <td>23.3</td>\n",
              "      <td>33.8</td>\n",
              "      <td>NaN</td>\n",
              "      <td>0.5</td>\n",
              "      <td>2.2</td>\n",
              "      <td>NaN</td>\n",
              "      <td>5.8</td>\n",
              "      <td>NaN</td>\n",
              "    </tr>\n",
              "    <tr>\n",
              "      <th>36652</th>\n",
              "      <td>285</td>\n",
              "      <td>경남</td>\n",
              "      <td>2019-08-15</td>\n",
              "      <td>27.9</td>\n",
              "      <td>24.1</td>\n",
              "      <td>32.3</td>\n",
              "      <td>NaN</td>\n",
              "      <td>0.5</td>\n",
              "      <td>1.4</td>\n",
              "      <td>986.9</td>\n",
              "      <td>1.2</td>\n",
              "      <td>NaN</td>\n",
              "    </tr>\n",
              "    <tr>\n",
              "      <th>36653</th>\n",
              "      <td>285</td>\n",
              "      <td>경남</td>\n",
              "      <td>2019-08-16</td>\n",
              "      <td>27.4</td>\n",
              "      <td>23.2</td>\n",
              "      <td>33.5</td>\n",
              "      <td>NaN</td>\n",
              "      <td>0.3</td>\n",
              "      <td>1.7</td>\n",
              "      <td>992.3</td>\n",
              "      <td>7.2</td>\n",
              "      <td>NaN</td>\n",
              "    </tr>\n",
              "    <tr>\n",
              "      <th>36654</th>\n",
              "      <td>285</td>\n",
              "      <td>경남</td>\n",
              "      <td>2019-08-17</td>\n",
              "      <td>27.3</td>\n",
              "      <td>20.3</td>\n",
              "      <td>34.6</td>\n",
              "      <td>NaN</td>\n",
              "      <td>NaN</td>\n",
              "      <td>1.6</td>\n",
              "      <td>998.7</td>\n",
              "      <td>12.0</td>\n",
              "      <td>NaN</td>\n",
              "    </tr>\n",
              "    <tr>\n",
              "      <th>36655</th>\n",
              "      <td>285</td>\n",
              "      <td>경남</td>\n",
              "      <td>2019-08-18</td>\n",
              "      <td>27.5</td>\n",
              "      <td>22.1</td>\n",
              "      <td>34.3</td>\n",
              "      <td>NaN</td>\n",
              "      <td>NaN</td>\n",
              "      <td>1.0</td>\n",
              "      <td>NaN</td>\n",
              "      <td>NaN</td>\n",
              "      <td>NaN</td>\n",
              "    </tr>\n",
              "    <tr>\n",
              "      <th>36656</th>\n",
              "      <td>285</td>\n",
              "      <td>경남</td>\n",
              "      <td>2019-08-19</td>\n",
              "      <td>25.9</td>\n",
              "      <td>18.8</td>\n",
              "      <td>32.7</td>\n",
              "      <td>NaN</td>\n",
              "      <td>NaN</td>\n",
              "      <td>0.8</td>\n",
              "      <td>NaN</td>\n",
              "      <td>6.2</td>\n",
              "      <td>NaN</td>\n",
              "    </tr>\n",
              "    <tr>\n",
              "      <th>36657</th>\n",
              "      <td>285</td>\n",
              "      <td>경남</td>\n",
              "      <td>2019-08-20</td>\n",
              "      <td>27.0</td>\n",
              "      <td>22.6</td>\n",
              "      <td>31.2</td>\n",
              "      <td>NaN</td>\n",
              "      <td>NaN</td>\n",
              "      <td>1.4</td>\n",
              "      <td>NaN</td>\n",
              "      <td>4.2</td>\n",
              "      <td>NaN</td>\n",
              "    </tr>\n",
              "    <tr>\n",
              "      <th>36658</th>\n",
              "      <td>285</td>\n",
              "      <td>경남</td>\n",
              "      <td>2019-08-21</td>\n",
              "      <td>25.5</td>\n",
              "      <td>22.5</td>\n",
              "      <td>28.7</td>\n",
              "      <td>NaN</td>\n",
              "      <td>6.5</td>\n",
              "      <td>0.6</td>\n",
              "      <td>NaN</td>\n",
              "      <td>0.0</td>\n",
              "      <td>NaN</td>\n",
              "    </tr>\n",
              "    <tr>\n",
              "      <th>36659</th>\n",
              "      <td>285</td>\n",
              "      <td>경남</td>\n",
              "      <td>2019-08-22</td>\n",
              "      <td>27.1</td>\n",
              "      <td>24.3</td>\n",
              "      <td>33.0</td>\n",
              "      <td>NaN</td>\n",
              "      <td>62.5</td>\n",
              "      <td>0.8</td>\n",
              "      <td>NaN</td>\n",
              "      <td>NaN</td>\n",
              "      <td>NaN</td>\n",
              "    </tr>\n",
              "    <tr>\n",
              "      <th>36660</th>\n",
              "      <td>285</td>\n",
              "      <td>경남</td>\n",
              "      <td>2019-08-23</td>\n",
              "      <td>25.4</td>\n",
              "      <td>19.3</td>\n",
              "      <td>31.0</td>\n",
              "      <td>NaN</td>\n",
              "      <td>NaN</td>\n",
              "      <td>1.2</td>\n",
              "      <td>NaN</td>\n",
              "      <td>NaN</td>\n",
              "      <td>NaN</td>\n",
              "    </tr>\n",
              "  </tbody>\n",
              "</table>\n",
              "</div>"
            ],
            "text/plain": [
              "        지점 지점명         일시  ...  평균 현지기압(hPa)  합계 일조시간(hr)  일 최심적설(cm)\n",
              "36638  285  경남 2019-08-01  ...           NaN         12.9         NaN\n",
              "36639  285  경남 2019-08-02  ...           NaN         12.2         NaN\n",
              "36640  285  경남 2019-08-03  ...           NaN         10.4         NaN\n",
              "36641  285  경남 2019-08-04  ...           NaN         11.5         NaN\n",
              "36642  285  경남 2019-08-05  ...           NaN         10.4         NaN\n",
              "36643  285  경남 2019-08-06  ...           NaN          1.3         NaN\n",
              "36644  285  경남 2019-08-07  ...           NaN          5.5         NaN\n",
              "36645  285  경남 2019-08-08  ...           NaN          6.8         NaN\n",
              "36646  285  경남 2019-08-09  ...           NaN          9.4         NaN\n",
              "36647  285  경남 2019-08-10  ...        1002.9         10.0         NaN\n",
              "36648  285  경남 2019-08-11  ...           NaN          7.6         NaN\n",
              "36649  285  경남 2019-08-12  ...           NaN          2.3         NaN\n",
              "36650  285  경남 2019-08-13  ...           NaN          7.3         NaN\n",
              "36651  285  경남 2019-08-14  ...           NaN          5.8         NaN\n",
              "36652  285  경남 2019-08-15  ...         986.9          1.2         NaN\n",
              "36653  285  경남 2019-08-16  ...         992.3          7.2         NaN\n",
              "36654  285  경남 2019-08-17  ...         998.7         12.0         NaN\n",
              "36655  285  경남 2019-08-18  ...           NaN          NaN         NaN\n",
              "36656  285  경남 2019-08-19  ...           NaN          6.2         NaN\n",
              "36657  285  경남 2019-08-20  ...           NaN          4.2         NaN\n",
              "36658  285  경남 2019-08-21  ...           NaN          0.0         NaN\n",
              "36659  285  경남 2019-08-22  ...           NaN          NaN         NaN\n",
              "36660  285  경남 2019-08-23  ...           NaN          NaN         NaN\n",
              "\n",
              "[23 rows x 12 columns]"
            ]
          },
          "metadata": {
            "tags": []
          },
          "execution_count": 64
        }
      ]
    },
    {
      "cell_type": "code",
      "metadata": {
        "id": "0YFiX8I0Rf-_"
      },
      "source": [
        "test_dd.iloc[36638:36647, -3] = 1000.\r\n",
        "test_dd.iloc[36648:36652, -3] = 980.7\r\n",
        "test_dd.iloc[36655:36661, -3] = 999.7\r\n",
        "test_dd.iloc[36661, -3] = 1000.7"
      ],
      "execution_count": 65,
      "outputs": []
    },
    {
      "cell_type": "code",
      "metadata": {
        "colab": {
          "base_uri": "https://localhost:8080/"
        },
        "id": "kG5YvJGoSO1X",
        "outputId": "c904f902-c335-472d-caa8-68a6701216b3"
      },
      "source": [
        "test_dd['평균 현지기압(hPa)'].isna().sum() == 0"
      ],
      "execution_count": 66,
      "outputs": [
        {
          "output_type": "execute_result",
          "data": {
            "text/plain": [
              "True"
            ]
          },
          "metadata": {
            "tags": []
          },
          "execution_count": 66
        }
      ]
    },
    {
      "cell_type": "markdown",
      "metadata": {
        "id": "qZD2zcWMNjy5"
      },
      "source": [
        "합계 일조시간"
      ]
    },
    {
      "cell_type": "code",
      "metadata": {
        "colab": {
          "base_uri": "https://localhost:8080/"
        },
        "id": "FFTlSy5gNjSy",
        "outputId": "562a56c1-87f1-4a96-be9e-ac86e86a144f"
      },
      "source": [
        "print(test_dd['합계 일조시간(hr)'].isna().sum())\r\n",
        "test_dd = set_mean_value(test_dd.copy(), '합계 일조시간(hr)')\r\n",
        "test_dd['합계 일조시간(hr)'].isna().sum()"
      ],
      "execution_count": 67,
      "outputs": [
        {
          "output_type": "stream",
          "text": [
            "78\n"
          ],
          "name": "stdout"
        },
        {
          "output_type": "execute_result",
          "data": {
            "text/plain": [
              "22"
            ]
          },
          "metadata": {
            "tags": []
          },
          "execution_count": 67
        }
      ]
    },
    {
      "cell_type": "markdown",
      "metadata": {
        "id": "0HUAplEuPYgv"
      },
      "source": [
        "### 0으로 만들기\r\n",
        "\r\n",
        "+ ~~합계 일조시간 22개~~ => 평균인 6.0으로 치환\r\n",
        "+ 강수 계속시간 \r\n",
        "+ 일 강수량 \r\n",
        "+ 일 최심적설"
      ]
    },
    {
      "cell_type": "code",
      "metadata": {
        "colab": {
          "base_uri": "https://localhost:8080/",
          "height": 419
        },
        "id": "koo-6xGBNv_J",
        "outputId": "fe557a1b-acf9-4aa3-f6fe-7e1e26783ebb"
      },
      "source": [
        "test_dd"
      ],
      "execution_count": 68,
      "outputs": [
        {
          "output_type": "execute_result",
          "data": {
            "text/html": [
              "<div>\n",
              "<style scoped>\n",
              "    .dataframe tbody tr th:only-of-type {\n",
              "        vertical-align: middle;\n",
              "    }\n",
              "\n",
              "    .dataframe tbody tr th {\n",
              "        vertical-align: top;\n",
              "    }\n",
              "\n",
              "    .dataframe thead th {\n",
              "        text-align: right;\n",
              "    }\n",
              "</style>\n",
              "<table border=\"1\" class=\"dataframe\">\n",
              "  <thead>\n",
              "    <tr style=\"text-align: right;\">\n",
              "      <th></th>\n",
              "      <th>지점</th>\n",
              "      <th>지점명</th>\n",
              "      <th>일시</th>\n",
              "      <th>평균기온(°C)</th>\n",
              "      <th>최저기온(°C)</th>\n",
              "      <th>최고기온(°C)</th>\n",
              "      <th>강수 계속시간(hr)</th>\n",
              "      <th>일강수량(mm)</th>\n",
              "      <th>평균 풍속(m/s)</th>\n",
              "      <th>평균 현지기압(hPa)</th>\n",
              "      <th>합계 일조시간(hr)</th>\n",
              "      <th>일 최심적설(cm)</th>\n",
              "    </tr>\n",
              "  </thead>\n",
              "  <tbody>\n",
              "    <tr>\n",
              "      <th>0</th>\n",
              "      <td>90</td>\n",
              "      <td>강원</td>\n",
              "      <td>2019-08-01</td>\n",
              "      <td>29.7</td>\n",
              "      <td>26.4</td>\n",
              "      <td>35.6</td>\n",
              "      <td>NaN</td>\n",
              "      <td>0.3</td>\n",
              "      <td>2.0</td>\n",
              "      <td>1007.2</td>\n",
              "      <td>8.3</td>\n",
              "      <td>NaN</td>\n",
              "    </tr>\n",
              "    <tr>\n",
              "      <th>1</th>\n",
              "      <td>90</td>\n",
              "      <td>강원</td>\n",
              "      <td>2019-08-02</td>\n",
              "      <td>29.4</td>\n",
              "      <td>25.9</td>\n",
              "      <td>33.1</td>\n",
              "      <td>NaN</td>\n",
              "      <td>NaN</td>\n",
              "      <td>1.4</td>\n",
              "      <td>1008.8</td>\n",
              "      <td>13.2</td>\n",
              "      <td>NaN</td>\n",
              "    </tr>\n",
              "    <tr>\n",
              "      <th>2</th>\n",
              "      <td>90</td>\n",
              "      <td>강원</td>\n",
              "      <td>2019-08-03</td>\n",
              "      <td>26.7</td>\n",
              "      <td>24.4</td>\n",
              "      <td>29.7</td>\n",
              "      <td>NaN</td>\n",
              "      <td>NaN</td>\n",
              "      <td>1.8</td>\n",
              "      <td>1009.7</td>\n",
              "      <td>10.3</td>\n",
              "      <td>NaN</td>\n",
              "    </tr>\n",
              "    <tr>\n",
              "      <th>3</th>\n",
              "      <td>90</td>\n",
              "      <td>강원</td>\n",
              "      <td>2019-08-04</td>\n",
              "      <td>27.0</td>\n",
              "      <td>25.3</td>\n",
              "      <td>29.6</td>\n",
              "      <td>NaN</td>\n",
              "      <td>NaN</td>\n",
              "      <td>1.2</td>\n",
              "      <td>1008.7</td>\n",
              "      <td>6.6</td>\n",
              "      <td>NaN</td>\n",
              "    </tr>\n",
              "    <tr>\n",
              "      <th>4</th>\n",
              "      <td>90</td>\n",
              "      <td>강원</td>\n",
              "      <td>2019-08-05</td>\n",
              "      <td>27.7</td>\n",
              "      <td>24.8</td>\n",
              "      <td>31.2</td>\n",
              "      <td>NaN</td>\n",
              "      <td>NaN</td>\n",
              "      <td>1.4</td>\n",
              "      <td>1008.7</td>\n",
              "      <td>12.0</td>\n",
              "      <td>NaN</td>\n",
              "    </tr>\n",
              "    <tr>\n",
              "      <th>...</th>\n",
              "      <td>...</td>\n",
              "      <td>...</td>\n",
              "      <td>...</td>\n",
              "      <td>...</td>\n",
              "      <td>...</td>\n",
              "      <td>...</td>\n",
              "      <td>...</td>\n",
              "      <td>...</td>\n",
              "      <td>...</td>\n",
              "      <td>...</td>\n",
              "      <td>...</td>\n",
              "      <td>...</td>\n",
              "    </tr>\n",
              "    <tr>\n",
              "      <th>38923</th>\n",
              "      <td>295</td>\n",
              "      <td>경남</td>\n",
              "      <td>2020-10-27</td>\n",
              "      <td>14.3</td>\n",
              "      <td>9.5</td>\n",
              "      <td>20.5</td>\n",
              "      <td>NaN</td>\n",
              "      <td>NaN</td>\n",
              "      <td>1.0</td>\n",
              "      <td>1015.1</td>\n",
              "      <td>9.0</td>\n",
              "      <td>NaN</td>\n",
              "    </tr>\n",
              "    <tr>\n",
              "      <th>38924</th>\n",
              "      <td>295</td>\n",
              "      <td>경남</td>\n",
              "      <td>2020-10-28</td>\n",
              "      <td>14.6</td>\n",
              "      <td>11.4</td>\n",
              "      <td>19.6</td>\n",
              "      <td>NaN</td>\n",
              "      <td>NaN</td>\n",
              "      <td>0.8</td>\n",
              "      <td>1015.8</td>\n",
              "      <td>1.1</td>\n",
              "      <td>NaN</td>\n",
              "    </tr>\n",
              "    <tr>\n",
              "      <th>38925</th>\n",
              "      <td>295</td>\n",
              "      <td>경남</td>\n",
              "      <td>2020-10-29</td>\n",
              "      <td>12.5</td>\n",
              "      <td>8.5</td>\n",
              "      <td>18.2</td>\n",
              "      <td>NaN</td>\n",
              "      <td>NaN</td>\n",
              "      <td>1.2</td>\n",
              "      <td>1017.1</td>\n",
              "      <td>8.6</td>\n",
              "      <td>NaN</td>\n",
              "    </tr>\n",
              "    <tr>\n",
              "      <th>38926</th>\n",
              "      <td>295</td>\n",
              "      <td>경남</td>\n",
              "      <td>2020-10-30</td>\n",
              "      <td>13.4</td>\n",
              "      <td>8.6</td>\n",
              "      <td>18.9</td>\n",
              "      <td>NaN</td>\n",
              "      <td>NaN</td>\n",
              "      <td>1.4</td>\n",
              "      <td>1019.0</td>\n",
              "      <td>8.9</td>\n",
              "      <td>NaN</td>\n",
              "    </tr>\n",
              "    <tr>\n",
              "      <th>38927</th>\n",
              "      <td>295</td>\n",
              "      <td>경남</td>\n",
              "      <td>2020-10-31</td>\n",
              "      <td>12.6</td>\n",
              "      <td>8.6</td>\n",
              "      <td>17.6</td>\n",
              "      <td>NaN</td>\n",
              "      <td>NaN</td>\n",
              "      <td>1.3</td>\n",
              "      <td>1020.1</td>\n",
              "      <td>8.7</td>\n",
              "      <td>NaN</td>\n",
              "    </tr>\n",
              "  </tbody>\n",
              "</table>\n",
              "<p>38928 rows × 12 columns</p>\n",
              "</div>"
            ],
            "text/plain": [
              "        지점 지점명         일시  ...  평균 현지기압(hPa)  합계 일조시간(hr)  일 최심적설(cm)\n",
              "0       90  강원 2019-08-01  ...        1007.2          8.3         NaN\n",
              "1       90  강원 2019-08-02  ...        1008.8         13.2         NaN\n",
              "2       90  강원 2019-08-03  ...        1009.7         10.3         NaN\n",
              "3       90  강원 2019-08-04  ...        1008.7          6.6         NaN\n",
              "4       90  강원 2019-08-05  ...        1008.7         12.0         NaN\n",
              "...    ...  ..        ...  ...           ...          ...         ...\n",
              "38923  295  경남 2020-10-27  ...        1015.1          9.0         NaN\n",
              "38924  295  경남 2020-10-28  ...        1015.8          1.1         NaN\n",
              "38925  295  경남 2020-10-29  ...        1017.1          8.6         NaN\n",
              "38926  295  경남 2020-10-30  ...        1019.0          8.9         NaN\n",
              "38927  295  경남 2020-10-31  ...        1020.1          8.7         NaN\n",
              "\n",
              "[38928 rows x 12 columns]"
            ]
          },
          "metadata": {
            "tags": []
          },
          "execution_count": 68
        }
      ]
    },
    {
      "cell_type": "code",
      "metadata": {
        "colab": {
          "base_uri": "https://localhost:8080/"
        },
        "id": "vbphknicofxh",
        "outputId": "fbd06bb0-1a77-4cbc-bbf2-7923dff8e632"
      },
      "source": [
        "round(test_dd['합계 일조시간(hr)'].mean(), 1)"
      ],
      "execution_count": 69,
      "outputs": [
        {
          "output_type": "execute_result",
          "data": {
            "text/plain": [
              "6.0"
            ]
          },
          "metadata": {
            "tags": []
          },
          "execution_count": 69
        }
      ]
    },
    {
      "cell_type": "code",
      "metadata": {
        "id": "6KbOAUaErAUG"
      },
      "source": [
        "test_일조 = test_dd.copy()"
      ],
      "execution_count": 70,
      "outputs": []
    },
    {
      "cell_type": "markdown",
      "metadata": {
        "id": "bLuxDhuCs4Ts"
      },
      "source": [
        "22개는 전부 평균 값으로 변환."
      ]
    },
    {
      "cell_type": "code",
      "metadata": {
        "id": "xqNrE8i1qURU"
      },
      "source": [
        "test_일조['합계 일조시간(hr)'] = test_일조['합계 일조시간(hr)'].fillna(6.0)"
      ],
      "execution_count": 71,
      "outputs": []
    },
    {
      "cell_type": "code",
      "metadata": {
        "id": "rgEnvcH0tAAP"
      },
      "source": [
        "test_dd = test_일조\r\n",
        "del test_일조"
      ],
      "execution_count": 72,
      "outputs": []
    },
    {
      "cell_type": "markdown",
      "metadata": {
        "id": "_hH9IFjYvBcx"
      },
      "source": [
        "**나머지 모두 0으로**"
      ]
    },
    {
      "cell_type": "code",
      "metadata": {
        "id": "JeO9NygAtV-F"
      },
      "source": [
        "test_dd = test_dd.fillna(0)"
      ],
      "execution_count": 73,
      "outputs": []
    },
    {
      "cell_type": "code",
      "metadata": {
        "colab": {
          "base_uri": "https://localhost:8080/",
          "height": 1000
        },
        "id": "VTawAjTauWhS",
        "outputId": "8e5b5f47-5769-4f92-92b3-3dd5f46f1c5e"
      },
      "source": [
        "import missingno as msno\r\n",
        "msno.matrix(test_dd)"
      ],
      "execution_count": 74,
      "outputs": [
        {
          "output_type": "execute_result",
          "data": {
            "text/plain": [
              "<matplotlib.axes._subplots.AxesSubplot at 0x7f49b776e940>"
            ]
          },
          "metadata": {
            "tags": []
          },
          "execution_count": 74
        },
        {
          "output_type": "stream",
          "text": [
            "/usr/local/lib/python3.6/dist-packages/matplotlib/backends/backend_agg.py:214: RuntimeWarning: Glyph 51648 missing from current font.\n",
            "  font.set_text(s, 0.0, flags=flags)\n",
            "/usr/local/lib/python3.6/dist-packages/matplotlib/backends/backend_agg.py:214: RuntimeWarning: Glyph 51216 missing from current font.\n",
            "  font.set_text(s, 0.0, flags=flags)\n",
            "/usr/local/lib/python3.6/dist-packages/matplotlib/backends/backend_agg.py:214: RuntimeWarning: Glyph 47749 missing from current font.\n",
            "  font.set_text(s, 0.0, flags=flags)\n",
            "/usr/local/lib/python3.6/dist-packages/matplotlib/backends/backend_agg.py:214: RuntimeWarning: Glyph 51068 missing from current font.\n",
            "  font.set_text(s, 0.0, flags=flags)\n",
            "/usr/local/lib/python3.6/dist-packages/matplotlib/backends/backend_agg.py:214: RuntimeWarning: Glyph 49884 missing from current font.\n",
            "  font.set_text(s, 0.0, flags=flags)\n",
            "/usr/local/lib/python3.6/dist-packages/matplotlib/backends/backend_agg.py:214: RuntimeWarning: Glyph 54217 missing from current font.\n",
            "  font.set_text(s, 0.0, flags=flags)\n",
            "/usr/local/lib/python3.6/dist-packages/matplotlib/backends/backend_agg.py:214: RuntimeWarning: Glyph 44512 missing from current font.\n",
            "  font.set_text(s, 0.0, flags=flags)\n",
            "/usr/local/lib/python3.6/dist-packages/matplotlib/backends/backend_agg.py:214: RuntimeWarning: Glyph 44592 missing from current font.\n",
            "  font.set_text(s, 0.0, flags=flags)\n",
            "/usr/local/lib/python3.6/dist-packages/matplotlib/backends/backend_agg.py:214: RuntimeWarning: Glyph 50728 missing from current font.\n",
            "  font.set_text(s, 0.0, flags=flags)\n",
            "/usr/local/lib/python3.6/dist-packages/matplotlib/backends/backend_agg.py:214: RuntimeWarning: Glyph 52572 missing from current font.\n",
            "  font.set_text(s, 0.0, flags=flags)\n",
            "/usr/local/lib/python3.6/dist-packages/matplotlib/backends/backend_agg.py:214: RuntimeWarning: Glyph 51200 missing from current font.\n",
            "  font.set_text(s, 0.0, flags=flags)\n",
            "/usr/local/lib/python3.6/dist-packages/matplotlib/backends/backend_agg.py:214: RuntimeWarning: Glyph 44256 missing from current font.\n",
            "  font.set_text(s, 0.0, flags=flags)\n",
            "/usr/local/lib/python3.6/dist-packages/matplotlib/backends/backend_agg.py:214: RuntimeWarning: Glyph 44053 missing from current font.\n",
            "  font.set_text(s, 0.0, flags=flags)\n",
            "/usr/local/lib/python3.6/dist-packages/matplotlib/backends/backend_agg.py:214: RuntimeWarning: Glyph 49688 missing from current font.\n",
            "  font.set_text(s, 0.0, flags=flags)\n",
            "/usr/local/lib/python3.6/dist-packages/matplotlib/backends/backend_agg.py:214: RuntimeWarning: Glyph 44228 missing from current font.\n",
            "  font.set_text(s, 0.0, flags=flags)\n",
            "/usr/local/lib/python3.6/dist-packages/matplotlib/backends/backend_agg.py:214: RuntimeWarning: Glyph 49549 missing from current font.\n",
            "  font.set_text(s, 0.0, flags=flags)\n",
            "/usr/local/lib/python3.6/dist-packages/matplotlib/backends/backend_agg.py:214: RuntimeWarning: Glyph 44036 missing from current font.\n",
            "  font.set_text(s, 0.0, flags=flags)\n",
            "/usr/local/lib/python3.6/dist-packages/matplotlib/backends/backend_agg.py:214: RuntimeWarning: Glyph 47049 missing from current font.\n",
            "  font.set_text(s, 0.0, flags=flags)\n",
            "/usr/local/lib/python3.6/dist-packages/matplotlib/backends/backend_agg.py:214: RuntimeWarning: Glyph 54413 missing from current font.\n",
            "  font.set_text(s, 0.0, flags=flags)\n",
            "/usr/local/lib/python3.6/dist-packages/matplotlib/backends/backend_agg.py:214: RuntimeWarning: Glyph 54788 missing from current font.\n",
            "  font.set_text(s, 0.0, flags=flags)\n",
            "/usr/local/lib/python3.6/dist-packages/matplotlib/backends/backend_agg.py:214: RuntimeWarning: Glyph 50517 missing from current font.\n",
            "  font.set_text(s, 0.0, flags=flags)\n",
            "/usr/local/lib/python3.6/dist-packages/matplotlib/backends/backend_agg.py:214: RuntimeWarning: Glyph 54633 missing from current font.\n",
            "  font.set_text(s, 0.0, flags=flags)\n",
            "/usr/local/lib/python3.6/dist-packages/matplotlib/backends/backend_agg.py:214: RuntimeWarning: Glyph 51312 missing from current font.\n",
            "  font.set_text(s, 0.0, flags=flags)\n",
            "/usr/local/lib/python3.6/dist-packages/matplotlib/backends/backend_agg.py:214: RuntimeWarning: Glyph 49900 missing from current font.\n",
            "  font.set_text(s, 0.0, flags=flags)\n",
            "/usr/local/lib/python3.6/dist-packages/matplotlib/backends/backend_agg.py:214: RuntimeWarning: Glyph 51201 missing from current font.\n",
            "  font.set_text(s, 0.0, flags=flags)\n",
            "/usr/local/lib/python3.6/dist-packages/matplotlib/backends/backend_agg.py:214: RuntimeWarning: Glyph 49444 missing from current font.\n",
            "  font.set_text(s, 0.0, flags=flags)\n",
            "/usr/local/lib/python3.6/dist-packages/matplotlib/backends/backend_agg.py:183: RuntimeWarning: Glyph 51648 missing from current font.\n",
            "  font.set_text(s, 0, flags=flags)\n",
            "/usr/local/lib/python3.6/dist-packages/matplotlib/backends/backend_agg.py:183: RuntimeWarning: Glyph 51216 missing from current font.\n",
            "  font.set_text(s, 0, flags=flags)\n",
            "/usr/local/lib/python3.6/dist-packages/matplotlib/backends/backend_agg.py:183: RuntimeWarning: Glyph 47749 missing from current font.\n",
            "  font.set_text(s, 0, flags=flags)\n",
            "/usr/local/lib/python3.6/dist-packages/matplotlib/backends/backend_agg.py:183: RuntimeWarning: Glyph 51068 missing from current font.\n",
            "  font.set_text(s, 0, flags=flags)\n",
            "/usr/local/lib/python3.6/dist-packages/matplotlib/backends/backend_agg.py:183: RuntimeWarning: Glyph 49884 missing from current font.\n",
            "  font.set_text(s, 0, flags=flags)\n",
            "/usr/local/lib/python3.6/dist-packages/matplotlib/backends/backend_agg.py:183: RuntimeWarning: Glyph 54217 missing from current font.\n",
            "  font.set_text(s, 0, flags=flags)\n",
            "/usr/local/lib/python3.6/dist-packages/matplotlib/backends/backend_agg.py:183: RuntimeWarning: Glyph 44512 missing from current font.\n",
            "  font.set_text(s, 0, flags=flags)\n",
            "/usr/local/lib/python3.6/dist-packages/matplotlib/backends/backend_agg.py:183: RuntimeWarning: Glyph 44592 missing from current font.\n",
            "  font.set_text(s, 0, flags=flags)\n",
            "/usr/local/lib/python3.6/dist-packages/matplotlib/backends/backend_agg.py:183: RuntimeWarning: Glyph 50728 missing from current font.\n",
            "  font.set_text(s, 0, flags=flags)\n",
            "/usr/local/lib/python3.6/dist-packages/matplotlib/backends/backend_agg.py:183: RuntimeWarning: Glyph 52572 missing from current font.\n",
            "  font.set_text(s, 0, flags=flags)\n",
            "/usr/local/lib/python3.6/dist-packages/matplotlib/backends/backend_agg.py:183: RuntimeWarning: Glyph 51200 missing from current font.\n",
            "  font.set_text(s, 0, flags=flags)\n",
            "/usr/local/lib/python3.6/dist-packages/matplotlib/backends/backend_agg.py:183: RuntimeWarning: Glyph 44256 missing from current font.\n",
            "  font.set_text(s, 0, flags=flags)\n",
            "/usr/local/lib/python3.6/dist-packages/matplotlib/backends/backend_agg.py:183: RuntimeWarning: Glyph 44053 missing from current font.\n",
            "  font.set_text(s, 0, flags=flags)\n",
            "/usr/local/lib/python3.6/dist-packages/matplotlib/backends/backend_agg.py:183: RuntimeWarning: Glyph 49688 missing from current font.\n",
            "  font.set_text(s, 0, flags=flags)\n",
            "/usr/local/lib/python3.6/dist-packages/matplotlib/backends/backend_agg.py:183: RuntimeWarning: Glyph 44228 missing from current font.\n",
            "  font.set_text(s, 0, flags=flags)\n",
            "/usr/local/lib/python3.6/dist-packages/matplotlib/backends/backend_agg.py:183: RuntimeWarning: Glyph 49549 missing from current font.\n",
            "  font.set_text(s, 0, flags=flags)\n",
            "/usr/local/lib/python3.6/dist-packages/matplotlib/backends/backend_agg.py:183: RuntimeWarning: Glyph 44036 missing from current font.\n",
            "  font.set_text(s, 0, flags=flags)\n",
            "/usr/local/lib/python3.6/dist-packages/matplotlib/backends/backend_agg.py:183: RuntimeWarning: Glyph 47049 missing from current font.\n",
            "  font.set_text(s, 0, flags=flags)\n",
            "/usr/local/lib/python3.6/dist-packages/matplotlib/backends/backend_agg.py:183: RuntimeWarning: Glyph 54413 missing from current font.\n",
            "  font.set_text(s, 0, flags=flags)\n",
            "/usr/local/lib/python3.6/dist-packages/matplotlib/backends/backend_agg.py:183: RuntimeWarning: Glyph 54788 missing from current font.\n",
            "  font.set_text(s, 0, flags=flags)\n",
            "/usr/local/lib/python3.6/dist-packages/matplotlib/backends/backend_agg.py:183: RuntimeWarning: Glyph 50517 missing from current font.\n",
            "  font.set_text(s, 0, flags=flags)\n",
            "/usr/local/lib/python3.6/dist-packages/matplotlib/backends/backend_agg.py:183: RuntimeWarning: Glyph 54633 missing from current font.\n",
            "  font.set_text(s, 0, flags=flags)\n",
            "/usr/local/lib/python3.6/dist-packages/matplotlib/backends/backend_agg.py:183: RuntimeWarning: Glyph 51312 missing from current font.\n",
            "  font.set_text(s, 0, flags=flags)\n",
            "/usr/local/lib/python3.6/dist-packages/matplotlib/backends/backend_agg.py:183: RuntimeWarning: Glyph 49900 missing from current font.\n",
            "  font.set_text(s, 0, flags=flags)\n",
            "/usr/local/lib/python3.6/dist-packages/matplotlib/backends/backend_agg.py:183: RuntimeWarning: Glyph 51201 missing from current font.\n",
            "  font.set_text(s, 0, flags=flags)\n",
            "/usr/local/lib/python3.6/dist-packages/matplotlib/backends/backend_agg.py:183: RuntimeWarning: Glyph 49444 missing from current font.\n",
            "  font.set_text(s, 0, flags=flags)\n"
          ],
          "name": "stderr"
        },
        {
          "output_type": "display_data",
          "data": {
            "image/png": "[encoded data removed]",
            "text/plain": [
              "<Figure size 1800x720 with 2 Axes>"
            ]
          },
          "metadata": {
            "tags": [],
            "needs_background": "light"
          }
        }
      ]
    },
    {
      "cell_type": "markdown",
      "metadata": {
        "id": "WQFjVWxnS7O9"
      },
      "source": [
        "# 정제 후 데이터 저장\r\n"
      ]
    },
    {
      "cell_type": "markdown",
      "metadata": {
        "id": "EBzpInSbTGbZ"
      },
      "source": [
        "- df_test : call data\r\n",
        "- test_dd : weather data"
      ]
    },
    {
      "cell_type": "code",
      "metadata": {
        "id": "MsK4p8zmS2i7"
      },
      "source": [
        "df_test.to_csv('/content/drive/MyDrive/Colab Notebooks/data/data/whatShouldIEatToday/refine/df_c.csv', index=False)\r\n",
        "test_dd.to_csv('/content/drive/MyDrive/Colab Notebooks/data/data/whatShouldIEatToday/refine/df_w.csv', index=False)"
      ],
      "execution_count": 75,
      "outputs": []
    },
    {
      "cell_type": "markdown",
      "metadata": {
        "id": "8R80P2P_nPxx"
      },
      "source": [
        "# 이전에 정제한 데이터 로드"
      ]
    },
    {
      "cell_type": "code",
      "metadata": {
        "colab": {
          "base_uri": "https://localhost:8080/"
        },
        "id": "jP95OjbITtxl",
        "outputId": "262bbe0b-777d-4a32-9337-851bdcc6571f"
      },
      "source": [
        "import pandas as pd\r\n",
        "\r\n",
        "df_c = pd.read_csv('/content/drive/MyDrive/Colab Notebooks/data/data/whatShouldIEatToday/refine/df_c.csv')\r\n",
        "df_c.info()"
      ],
      "execution_count": 1,
      "outputs": [
        {
          "output_type": "stream",
          "text": [
            "<class 'pandas.core.frame.DataFrame'>\n",
            "RangeIndex: 1516970 entries, 0 to 1516969\n",
            "Data columns (total 8 columns):\n",
            " #   Column        Non-Null Count    Dtype  \n",
            "---  ------        --------------    -----  \n",
            " 0   일자(YYYYMMDD)  1516970 non-null  object \n",
            " 1   dayofweek     1516970 non-null  int64  \n",
            " 2   연령            1516970 non-null  int64  \n",
            " 3   성별            1516970 non-null  int64  \n",
            " 4   발신지(시도)       1516970 non-null  object \n",
            " 5   발신지(시군구)      1516970 non-null  object \n",
            " 6   중분류           1516970 non-null  object \n",
            " 7   통화비율(시군구내)    1516970 non-null  float64\n",
            "dtypes: float64(1), int64(3), object(4)\n",
            "memory usage: 92.6+ MB\n"
          ],
          "name": "stdout"
        }
      ]
    },
    {
      "cell_type": "code",
      "metadata": {
        "id": "CMyjcbKFT3FT",
        "colab": {
          "base_uri": "https://localhost:8080/"
        },
        "outputId": "88cb91bf-7889-43ac-bbd2-67fbe24f8fa7"
      },
      "source": [
        "df_w = pd.read_csv('/content/drive/MyDrive/Colab Notebooks/data/data/whatShouldIEatToday/refine/df_w.csv')\r\n",
        "df_w.info()"
      ],
      "execution_count": 2,
      "outputs": [
        {
          "output_type": "stream",
          "text": [
            "<class 'pandas.core.frame.DataFrame'>\n",
            "RangeIndex: 38928 entries, 0 to 38927\n",
            "Data columns (total 12 columns):\n",
            " #   Column        Non-Null Count  Dtype  \n",
            "---  ------        --------------  -----  \n",
            " 0   지점            38928 non-null  int64  \n",
            " 1   지점명           38928 non-null  object \n",
            " 2   일시            38928 non-null  object \n",
            " 3   평균기온(°C)      38928 non-null  float64\n",
            " 4   최저기온(°C)      38928 non-null  float64\n",
            " 5   최고기온(°C)      38928 non-null  float64\n",
            " 6   강수 계속시간(hr)   38928 non-null  float64\n",
            " 7   일강수량(mm)      38928 non-null  float64\n",
            " 8   평균 풍속(m/s)    38928 non-null  float64\n",
            " 9   평균 현지기압(hPa)  38928 non-null  float64\n",
            " 10  합계 일조시간(hr)   38928 non-null  float64\n",
            " 11  일 최심적설(cm)    38928 non-null  float64\n",
            "dtypes: float64(9), int64(1), object(2)\n",
            "memory usage: 3.6+ MB\n"
          ],
          "name": "stdout"
        }
      ]
    },
    {
      "cell_type": "code",
      "metadata": {
        "colab": {
          "base_uri": "https://localhost:8080/",
          "height": 204
        },
        "id": "lWThx8wPHgFD",
        "outputId": "a07f084e-7063-43b1-a797-44d9e861d1b6"
      },
      "source": [
        "df_c.head()"
      ],
      "execution_count": 3,
      "outputs": [
        {
          "output_type": "execute_result",
          "data": {
            "text/html": [
              "<div>\n",
              "<style scoped>\n",
              "    .dataframe tbody tr th:only-of-type {\n",
              "        vertical-align: middle;\n",
              "    }\n",
              "\n",
              "    .dataframe tbody tr th {\n",
              "        vertical-align: top;\n",
              "    }\n",
              "\n",
              "    .dataframe thead th {\n",
              "        text-align: right;\n",
              "    }\n",
              "</style>\n",
              "<table border=\"1\" class=\"dataframe\">\n",
              "  <thead>\n",
              "    <tr style=\"text-align: right;\">\n",
              "      <th></th>\n",
              "      <th>일자(YYYYMMDD)</th>\n",
              "      <th>dayofweek</th>\n",
              "      <th>연령</th>\n",
              "      <th>성별</th>\n",
              "      <th>발신지(시도)</th>\n",
              "      <th>발신지(시군구)</th>\n",
              "      <th>중분류</th>\n",
              "      <th>통화비율(시군구내)</th>\n",
              "    </tr>\n",
              "  </thead>\n",
              "  <tbody>\n",
              "    <tr>\n",
              "      <th>0</th>\n",
              "      <td>2019-08-01</td>\n",
              "      <td>3</td>\n",
              "      <td>40</td>\n",
              "      <td>1</td>\n",
              "      <td>강원</td>\n",
              "      <td>강릉시</td>\n",
              "      <td>한식</td>\n",
              "      <td>0.0004</td>\n",
              "    </tr>\n",
              "    <tr>\n",
              "      <th>1</th>\n",
              "      <td>2019-08-01</td>\n",
              "      <td>3</td>\n",
              "      <td>40</td>\n",
              "      <td>1</td>\n",
              "      <td>강원</td>\n",
              "      <td>강릉시</td>\n",
              "      <td>중식</td>\n",
              "      <td>0.0002</td>\n",
              "    </tr>\n",
              "    <tr>\n",
              "      <th>2</th>\n",
              "      <td>2019-08-01</td>\n",
              "      <td>3</td>\n",
              "      <td>40</td>\n",
              "      <td>2</td>\n",
              "      <td>강원</td>\n",
              "      <td>강릉시</td>\n",
              "      <td>양식</td>\n",
              "      <td>0.0001</td>\n",
              "    </tr>\n",
              "    <tr>\n",
              "      <th>3</th>\n",
              "      <td>2019-08-01</td>\n",
              "      <td>3</td>\n",
              "      <td>30</td>\n",
              "      <td>1</td>\n",
              "      <td>강원</td>\n",
              "      <td>강릉시</td>\n",
              "      <td>중식</td>\n",
              "      <td>0.0001</td>\n",
              "    </tr>\n",
              "    <tr>\n",
              "      <th>4</th>\n",
              "      <td>2019-08-01</td>\n",
              "      <td>3</td>\n",
              "      <td>60</td>\n",
              "      <td>1</td>\n",
              "      <td>강원</td>\n",
              "      <td>강릉시</td>\n",
              "      <td>한식</td>\n",
              "      <td>0.0002</td>\n",
              "    </tr>\n",
              "  </tbody>\n",
              "</table>\n",
              "</div>"
            ],
            "text/plain": [
              "  일자(YYYYMMDD)  dayofweek  연령  성별 발신지(시도) 발신지(시군구) 중분류  통화비율(시군구내)\n",
              "0   2019-08-01          3  40   1      강원      강릉시  한식      0.0004\n",
              "1   2019-08-01          3  40   1      강원      강릉시  중식      0.0002\n",
              "2   2019-08-01          3  40   2      강원      강릉시  양식      0.0001\n",
              "3   2019-08-01          3  30   1      강원      강릉시  중식      0.0001\n",
              "4   2019-08-01          3  60   1      강원      강릉시  한식      0.0002"
            ]
          },
          "metadata": {
            "tags": []
          },
          "execution_count": 3
        }
      ]
    },
    {
      "cell_type": "code",
      "metadata": {
        "colab": {
          "base_uri": "https://localhost:8080/",
          "height": 204
        },
        "id": "8vL_sEiHoQPZ",
        "outputId": "0a4003d0-34cd-442e-cbd3-a8d944cdc140"
      },
      "source": [
        "df_w.head()"
      ],
      "execution_count": 4,
      "outputs": [
        {
          "output_type": "execute_result",
          "data": {
            "text/html": [
              "<div>\n",
              "<style scoped>\n",
              "    .dataframe tbody tr th:only-of-type {\n",
              "        vertical-align: middle;\n",
              "    }\n",
              "\n",
              "    .dataframe tbody tr th {\n",
              "        vertical-align: top;\n",
              "    }\n",
              "\n",
              "    .dataframe thead th {\n",
              "        text-align: right;\n",
              "    }\n",
              "</style>\n",
              "<table border=\"1\" class=\"dataframe\">\n",
              "  <thead>\n",
              "    <tr style=\"text-align: right;\">\n",
              "      <th></th>\n",
              "      <th>지점</th>\n",
              "      <th>지점명</th>\n",
              "      <th>일시</th>\n",
              "      <th>평균기온(°C)</th>\n",
              "      <th>최저기온(°C)</th>\n",
              "      <th>최고기온(°C)</th>\n",
              "      <th>강수 계속시간(hr)</th>\n",
              "      <th>일강수량(mm)</th>\n",
              "      <th>평균 풍속(m/s)</th>\n",
              "      <th>평균 현지기압(hPa)</th>\n",
              "      <th>합계 일조시간(hr)</th>\n",
              "      <th>일 최심적설(cm)</th>\n",
              "    </tr>\n",
              "  </thead>\n",
              "  <tbody>\n",
              "    <tr>\n",
              "      <th>0</th>\n",
              "      <td>90</td>\n",
              "      <td>강원</td>\n",
              "      <td>2019-08-01</td>\n",
              "      <td>29.7</td>\n",
              "      <td>26.4</td>\n",
              "      <td>35.6</td>\n",
              "      <td>0.0</td>\n",
              "      <td>0.3</td>\n",
              "      <td>2.0</td>\n",
              "      <td>1007.2</td>\n",
              "      <td>8.3</td>\n",
              "      <td>0.0</td>\n",
              "    </tr>\n",
              "    <tr>\n",
              "      <th>1</th>\n",
              "      <td>90</td>\n",
              "      <td>강원</td>\n",
              "      <td>2019-08-02</td>\n",
              "      <td>29.4</td>\n",
              "      <td>25.9</td>\n",
              "      <td>33.1</td>\n",
              "      <td>0.0</td>\n",
              "      <td>0.0</td>\n",
              "      <td>1.4</td>\n",
              "      <td>1008.8</td>\n",
              "      <td>13.2</td>\n",
              "      <td>0.0</td>\n",
              "    </tr>\n",
              "    <tr>\n",
              "      <th>2</th>\n",
              "      <td>90</td>\n",
              "      <td>강원</td>\n",
              "      <td>2019-08-03</td>\n",
              "      <td>26.7</td>\n",
              "      <td>24.4</td>\n",
              "      <td>29.7</td>\n",
              "      <td>0.0</td>\n",
              "      <td>0.0</td>\n",
              "      <td>1.8</td>\n",
              "      <td>1009.7</td>\n",
              "      <td>10.3</td>\n",
              "      <td>0.0</td>\n",
              "    </tr>\n",
              "    <tr>\n",
              "      <th>3</th>\n",
              "      <td>90</td>\n",
              "      <td>강원</td>\n",
              "      <td>2019-08-04</td>\n",
              "      <td>27.0</td>\n",
              "      <td>25.3</td>\n",
              "      <td>29.6</td>\n",
              "      <td>0.0</td>\n",
              "      <td>0.0</td>\n",
              "      <td>1.2</td>\n",
              "      <td>1008.7</td>\n",
              "      <td>6.6</td>\n",
              "      <td>0.0</td>\n",
              "    </tr>\n",
              "    <tr>\n",
              "      <th>4</th>\n",
              "      <td>90</td>\n",
              "      <td>강원</td>\n",
              "      <td>2019-08-05</td>\n",
              "      <td>27.7</td>\n",
              "      <td>24.8</td>\n",
              "      <td>31.2</td>\n",
              "      <td>0.0</td>\n",
              "      <td>0.0</td>\n",
              "      <td>1.4</td>\n",
              "      <td>1008.7</td>\n",
              "      <td>12.0</td>\n",
              "      <td>0.0</td>\n",
              "    </tr>\n",
              "  </tbody>\n",
              "</table>\n",
              "</div>"
            ],
            "text/plain": [
              "   지점 지점명          일시  ...  평균 현지기압(hPa)  합계 일조시간(hr)  일 최심적설(cm)\n",
              "0  90  강원  2019-08-01  ...        1007.2          8.3         0.0\n",
              "1  90  강원  2019-08-02  ...        1008.8         13.2         0.0\n",
              "2  90  강원  2019-08-03  ...        1009.7         10.3         0.0\n",
              "3  90  강원  2019-08-04  ...        1008.7          6.6         0.0\n",
              "4  90  강원  2019-08-05  ...        1008.7         12.0         0.0\n",
              "\n",
              "[5 rows x 12 columns]"
            ]
          },
          "metadata": {
            "tags": []
          },
          "execution_count": 4
        }
      ]
    },
    {
      "cell_type": "code",
      "metadata": {
        "id": "XsLQ_LFS7p3a"
      },
      "source": [
        ""
      ],
      "execution_count": 5,
      "outputs": []
    },
    {
      "cell_type": "markdown",
      "metadata": {
        "id": "suL-f5cpv3i_"
      },
      "source": [
        "# pd merge\r\n",
        "\r\n",
        "실수 방지를 위해 복사본을 사용"
      ]
    },
    {
      "cell_type": "code",
      "metadata": {
        "id": "YJBoxseFvcu5"
      },
      "source": [
        "test_c = df_c.copy()\r\n",
        "test_w = df_w.copy()"
      ],
      "execution_count": 5,
      "outputs": []
    },
    {
      "cell_type": "markdown",
      "metadata": {
        "id": "u1T4OT4pwW9f"
      },
      "source": [
        "## column명 맞추기\r\n",
        "\r\n",
        "    일자:일시 => day\r\n",
        "\r\n",
        "    발신지(시군구):지점명 => origin\r\n",
        "\r\n",
        "    "
      ]
    },
    {
      "cell_type": "code",
      "metadata": {
        "id": "eqXevxmhwWXJ"
      },
      "source": [
        "test_c.columns = ['day', 'dayofweek', '연령', '성별', 'origin', '발신지(시군구)', '중분류',\r\n",
        "       '통화비율(시군구내)']"
      ],
      "execution_count": 6,
      "outputs": []
    },
    {
      "cell_type": "code",
      "metadata": {
        "id": "ctEMGqEAxaQ2"
      },
      "source": [
        "test_w.columns = ['지점', 'origin', 'day', '평균기온(°C)', '최저기온(°C)', '최고기온(°C)', '강수 계속시간(hr)',\r\n",
        "       '일강수량(mm)', '평균 풍속(m/s)', '평균 현지기압(hPa)', '합계 일조시간(hr)', '일 최심적설(cm)']"
      ],
      "execution_count": 7,
      "outputs": []
    },
    {
      "cell_type": "code",
      "metadata": {
        "id": "oucV8Be11_c_"
      },
      "source": [
        "test_w = test_w.drop('지점', axis=1)\r\n",
        "test_c = test_c.drop('발신지(시군구)', axis=1)"
      ],
      "execution_count": 8,
      "outputs": []
    },
    {
      "cell_type": "markdown",
      "metadata": {
        "id": "qWSdNMd31578"
      },
      "source": [
        "일자 타입 변경하기"
      ]
    },
    {
      "cell_type": "code",
      "metadata": {
        "id": "Y3p1Ntub1s45"
      },
      "source": [
        "# test_c['day'] = test_c['day'].apply(pd.to_datetime)\r\n",
        "# test_w['day'] = test_w['day'].apply(pd.to_datetime)"
      ],
      "execution_count": 9,
      "outputs": []
    },
    {
      "cell_type": "code",
      "metadata": {
        "colab": {
          "base_uri": "https://localhost:8080/"
        },
        "id": "LjKWGXlkv2kA",
        "outputId": "0ecac5a1-6ed8-42f6-ccbb-01444d39639d"
      },
      "source": [
        "test_c.info()"
      ],
      "execution_count": 10,
      "outputs": [
        {
          "output_type": "stream",
          "text": [
            "<class 'pandas.core.frame.DataFrame'>\n",
            "RangeIndex: 1516970 entries, 0 to 1516969\n",
            "Data columns (total 7 columns):\n",
            " #   Column      Non-Null Count    Dtype  \n",
            "---  ------      --------------    -----  \n",
            " 0   day         1516970 non-null  object \n",
            " 1   dayofweek   1516970 non-null  int64  \n",
            " 2   연령          1516970 non-null  int64  \n",
            " 3   성별          1516970 non-null  int64  \n",
            " 4   origin      1516970 non-null  object \n",
            " 5   중분류         1516970 non-null  object \n",
            " 6   통화비율(시군구내)  1516970 non-null  float64\n",
            "dtypes: float64(1), int64(3), object(3)\n",
            "memory usage: 81.0+ MB\n"
          ],
          "name": "stdout"
        }
      ]
    },
    {
      "cell_type": "code",
      "metadata": {
        "colab": {
          "base_uri": "https://localhost:8080/"
        },
        "id": "LYo6jPr3ymV7",
        "outputId": "fd8fc7ca-8756-4316-f99b-9e416697a0b2"
      },
      "source": [
        "test_w.info()"
      ],
      "execution_count": 11,
      "outputs": [
        {
          "output_type": "stream",
          "text": [
            "<class 'pandas.core.frame.DataFrame'>\n",
            "RangeIndex: 38928 entries, 0 to 38927\n",
            "Data columns (total 11 columns):\n",
            " #   Column        Non-Null Count  Dtype  \n",
            "---  ------        --------------  -----  \n",
            " 0   origin        38928 non-null  object \n",
            " 1   day           38928 non-null  object \n",
            " 2   평균기온(°C)      38928 non-null  float64\n",
            " 3   최저기온(°C)      38928 non-null  float64\n",
            " 4   최고기온(°C)      38928 non-null  float64\n",
            " 5   강수 계속시간(hr)   38928 non-null  float64\n",
            " 6   일강수량(mm)      38928 non-null  float64\n",
            " 7   평균 풍속(m/s)    38928 non-null  float64\n",
            " 8   평균 현지기압(hPa)  38928 non-null  float64\n",
            " 9   합계 일조시간(hr)   38928 non-null  float64\n",
            " 10  일 최심적설(cm)    38928 non-null  float64\n",
            "dtypes: float64(9), object(2)\n",
            "memory usage: 3.3+ MB\n"
          ],
          "name": "stdout"
        }
      ]
    },
    {
      "cell_type": "code",
      "metadata": {
        "colab": {
          "base_uri": "https://localhost:8080/",
          "height": 204
        },
        "id": "XZf3rooSI9E7",
        "outputId": "7b0dac80-9d81-46a6-a63e-cbd07217a393"
      },
      "source": [
        "test_c.head()"
      ],
      "execution_count": 12,
      "outputs": [
        {
          "output_type": "execute_result",
          "data": {
            "text/html": [
              "<div>\n",
              "<style scoped>\n",
              "    .dataframe tbody tr th:only-of-type {\n",
              "        vertical-align: middle;\n",
              "    }\n",
              "\n",
              "    .dataframe tbody tr th {\n",
              "        vertical-align: top;\n",
              "    }\n",
              "\n",
              "    .dataframe thead th {\n",
              "        text-align: right;\n",
              "    }\n",
              "</style>\n",
              "<table border=\"1\" class=\"dataframe\">\n",
              "  <thead>\n",
              "    <tr style=\"text-align: right;\">\n",
              "      <th></th>\n",
              "      <th>day</th>\n",
              "      <th>dayofweek</th>\n",
              "      <th>연령</th>\n",
              "      <th>성별</th>\n",
              "      <th>origin</th>\n",
              "      <th>중분류</th>\n",
              "      <th>통화비율(시군구내)</th>\n",
              "    </tr>\n",
              "  </thead>\n",
              "  <tbody>\n",
              "    <tr>\n",
              "      <th>0</th>\n",
              "      <td>2019-08-01</td>\n",
              "      <td>3</td>\n",
              "      <td>40</td>\n",
              "      <td>1</td>\n",
              "      <td>강원</td>\n",
              "      <td>한식</td>\n",
              "      <td>0.0004</td>\n",
              "    </tr>\n",
              "    <tr>\n",
              "      <th>1</th>\n",
              "      <td>2019-08-01</td>\n",
              "      <td>3</td>\n",
              "      <td>40</td>\n",
              "      <td>1</td>\n",
              "      <td>강원</td>\n",
              "      <td>중식</td>\n",
              "      <td>0.0002</td>\n",
              "    </tr>\n",
              "    <tr>\n",
              "      <th>2</th>\n",
              "      <td>2019-08-01</td>\n",
              "      <td>3</td>\n",
              "      <td>40</td>\n",
              "      <td>2</td>\n",
              "      <td>강원</td>\n",
              "      <td>양식</td>\n",
              "      <td>0.0001</td>\n",
              "    </tr>\n",
              "    <tr>\n",
              "      <th>3</th>\n",
              "      <td>2019-08-01</td>\n",
              "      <td>3</td>\n",
              "      <td>30</td>\n",
              "      <td>1</td>\n",
              "      <td>강원</td>\n",
              "      <td>중식</td>\n",
              "      <td>0.0001</td>\n",
              "    </tr>\n",
              "    <tr>\n",
              "      <th>4</th>\n",
              "      <td>2019-08-01</td>\n",
              "      <td>3</td>\n",
              "      <td>60</td>\n",
              "      <td>1</td>\n",
              "      <td>강원</td>\n",
              "      <td>한식</td>\n",
              "      <td>0.0002</td>\n",
              "    </tr>\n",
              "  </tbody>\n",
              "</table>\n",
              "</div>"
            ],
            "text/plain": [
              "          day  dayofweek  연령  성별 origin 중분류  통화비율(시군구내)\n",
              "0  2019-08-01          3  40   1     강원  한식      0.0004\n",
              "1  2019-08-01          3  40   1     강원  중식      0.0002\n",
              "2  2019-08-01          3  40   2     강원  양식      0.0001\n",
              "3  2019-08-01          3  30   1     강원  중식      0.0001\n",
              "4  2019-08-01          3  60   1     강원  한식      0.0002"
            ]
          },
          "metadata": {
            "tags": []
          },
          "execution_count": 12
        }
      ]
    },
    {
      "cell_type": "code",
      "metadata": {
        "colab": {
          "base_uri": "https://localhost:8080/",
          "height": 450
        },
        "id": "N5VvQ41qNzQy",
        "outputId": "95f95753-e359-490f-ba08-2590ab0d14fa"
      },
      "source": [
        "we = test_w.groupby(['day','origin']).median()\r\n",
        "we"
      ],
      "execution_count": 40,
      "outputs": [
        {
          "output_type": "execute_result",
          "data": {
            "text/html": [
              "<div>\n",
              "<style scoped>\n",
              "    .dataframe tbody tr th:only-of-type {\n",
              "        vertical-align: middle;\n",
              "    }\n",
              "\n",
              "    .dataframe tbody tr th {\n",
              "        vertical-align: top;\n",
              "    }\n",
              "\n",
              "    .dataframe thead th {\n",
              "        text-align: right;\n",
              "    }\n",
              "</style>\n",
              "<table border=\"1\" class=\"dataframe\">\n",
              "  <thead>\n",
              "    <tr style=\"text-align: right;\">\n",
              "      <th></th>\n",
              "      <th></th>\n",
              "      <th>평균기온(°C)</th>\n",
              "      <th>최저기온(°C)</th>\n",
              "      <th>최고기온(°C)</th>\n",
              "      <th>강수 계속시간(hr)</th>\n",
              "      <th>일강수량(mm)</th>\n",
              "      <th>평균 풍속(m/s)</th>\n",
              "      <th>평균 현지기압(hPa)</th>\n",
              "      <th>합계 일조시간(hr)</th>\n",
              "      <th>일 최심적설(cm)</th>\n",
              "    </tr>\n",
              "    <tr>\n",
              "      <th>day</th>\n",
              "      <th>origin</th>\n",
              "      <th></th>\n",
              "      <th></th>\n",
              "      <th></th>\n",
              "      <th></th>\n",
              "      <th></th>\n",
              "      <th></th>\n",
              "      <th></th>\n",
              "      <th></th>\n",
              "      <th></th>\n",
              "    </tr>\n",
              "  </thead>\n",
              "  <tbody>\n",
              "    <tr>\n",
              "      <th rowspan=\"5\" valign=\"top\">2019-08-01</th>\n",
              "      <th>강원</th>\n",
              "      <td>27.50</td>\n",
              "      <td>24.20</td>\n",
              "      <td>31.60</td>\n",
              "      <td>0.0</td>\n",
              "      <td>0.3</td>\n",
              "      <td>1.50</td>\n",
              "      <td>994.80</td>\n",
              "      <td>7.40</td>\n",
              "      <td>0.0</td>\n",
              "    </tr>\n",
              "    <tr>\n",
              "      <th>경기</th>\n",
              "      <td>27.60</td>\n",
              "      <td>23.90</td>\n",
              "      <td>31.90</td>\n",
              "      <td>0.0</td>\n",
              "      <td>26.6</td>\n",
              "      <td>1.20</td>\n",
              "      <td>1006.40</td>\n",
              "      <td>5.20</td>\n",
              "      <td>0.0</td>\n",
              "    </tr>\n",
              "    <tr>\n",
              "      <th>경남</th>\n",
              "      <td>28.70</td>\n",
              "      <td>24.20</td>\n",
              "      <td>33.90</td>\n",
              "      <td>0.0</td>\n",
              "      <td>0.0</td>\n",
              "      <td>1.40</td>\n",
              "      <td>1007.10</td>\n",
              "      <td>12.30</td>\n",
              "      <td>0.0</td>\n",
              "    </tr>\n",
              "    <tr>\n",
              "      <th>경북</th>\n",
              "      <td>29.55</td>\n",
              "      <td>25.30</td>\n",
              "      <td>34.35</td>\n",
              "      <td>0.0</td>\n",
              "      <td>0.0</td>\n",
              "      <td>1.65</td>\n",
              "      <td>1000.70</td>\n",
              "      <td>11.95</td>\n",
              "      <td>0.0</td>\n",
              "    </tr>\n",
              "    <tr>\n",
              "      <th>광주</th>\n",
              "      <td>29.20</td>\n",
              "      <td>24.90</td>\n",
              "      <td>34.60</td>\n",
              "      <td>0.0</td>\n",
              "      <td>0.0</td>\n",
              "      <td>1.40</td>\n",
              "      <td>1004.00</td>\n",
              "      <td>9.20</td>\n",
              "      <td>0.0</td>\n",
              "    </tr>\n",
              "    <tr>\n",
              "      <th>...</th>\n",
              "      <th>...</th>\n",
              "      <td>...</td>\n",
              "      <td>...</td>\n",
              "      <td>...</td>\n",
              "      <td>...</td>\n",
              "      <td>...</td>\n",
              "      <td>...</td>\n",
              "      <td>...</td>\n",
              "      <td>...</td>\n",
              "      <td>...</td>\n",
              "    </tr>\n",
              "    <tr>\n",
              "      <th rowspan=\"5\" valign=\"top\">2020-10-31</th>\n",
              "      <th>전남</th>\n",
              "      <td>12.00</td>\n",
              "      <td>5.35</td>\n",
              "      <td>19.00</td>\n",
              "      <td>0.0</td>\n",
              "      <td>0.0</td>\n",
              "      <td>1.40</td>\n",
              "      <td>1019.90</td>\n",
              "      <td>9.10</td>\n",
              "      <td>0.0</td>\n",
              "    </tr>\n",
              "    <tr>\n",
              "      <th>전북</th>\n",
              "      <td>13.15</td>\n",
              "      <td>6.10</td>\n",
              "      <td>19.85</td>\n",
              "      <td>0.0</td>\n",
              "      <td>0.0</td>\n",
              "      <td>1.10</td>\n",
              "      <td>1016.65</td>\n",
              "      <td>8.70</td>\n",
              "      <td>0.0</td>\n",
              "    </tr>\n",
              "    <tr>\n",
              "      <th>제주</th>\n",
              "      <td>16.50</td>\n",
              "      <td>14.30</td>\n",
              "      <td>19.70</td>\n",
              "      <td>0.0</td>\n",
              "      <td>0.0</td>\n",
              "      <td>2.30</td>\n",
              "      <td>1020.05</td>\n",
              "      <td>9.30</td>\n",
              "      <td>0.0</td>\n",
              "    </tr>\n",
              "    <tr>\n",
              "      <th>충남</th>\n",
              "      <td>11.40</td>\n",
              "      <td>2.20</td>\n",
              "      <td>19.20</td>\n",
              "      <td>0.0</td>\n",
              "      <td>0.0</td>\n",
              "      <td>0.90</td>\n",
              "      <td>1021.35</td>\n",
              "      <td>8.10</td>\n",
              "      <td>0.0</td>\n",
              "    </tr>\n",
              "    <tr>\n",
              "      <th>충북</th>\n",
              "      <td>9.75</td>\n",
              "      <td>1.90</td>\n",
              "      <td>18.10</td>\n",
              "      <td>0.0</td>\n",
              "      <td>0.0</td>\n",
              "      <td>0.70</td>\n",
              "      <td>1008.05</td>\n",
              "      <td>8.00</td>\n",
              "      <td>0.0</td>\n",
              "    </tr>\n",
              "  </tbody>\n",
              "</table>\n",
              "<p>7786 rows × 9 columns</p>\n",
              "</div>"
            ],
            "text/plain": [
              "                   평균기온(°C)  최저기온(°C)  ...  합계 일조시간(hr)  일 최심적설(cm)\n",
              "day        origin                      ...                         \n",
              "2019-08-01 강원         27.50     24.20  ...         7.40         0.0\n",
              "           경기         27.60     23.90  ...         5.20         0.0\n",
              "           경남         28.70     24.20  ...        12.30         0.0\n",
              "           경북         29.55     25.30  ...        11.95         0.0\n",
              "           광주         29.20     24.90  ...         9.20         0.0\n",
              "...                     ...       ...  ...          ...         ...\n",
              "2020-10-31 전남         12.00      5.35  ...         9.10         0.0\n",
              "           전북         13.15      6.10  ...         8.70         0.0\n",
              "           제주         16.50     14.30  ...         9.30         0.0\n",
              "           충남         11.40      2.20  ...         8.10         0.0\n",
              "           충북          9.75      1.90  ...         8.00         0.0\n",
              "\n",
              "[7786 rows x 9 columns]"
            ]
          },
          "metadata": {
            "tags": []
          },
          "execution_count": 40
        }
      ]
    },
    {
      "cell_type": "code",
      "metadata": {
        "id": "GxWEK7mRPXgO"
      },
      "source": [
        "test_w = we.reset_index()"
      ],
      "execution_count": 42,
      "outputs": []
    },
    {
      "cell_type": "code",
      "metadata": {
        "colab": {
          "base_uri": "https://localhost:8080/",
          "height": 204
        },
        "id": "PsRiVe78J63X",
        "outputId": "8ff7b5eb-0e73-475f-e2fa-41eef987b3b7"
      },
      "source": [
        "test_w.head()"
      ],
      "execution_count": 43,
      "outputs": [
        {
          "output_type": "execute_result",
          "data": {
            "text/html": [
              "<div>\n",
              "<style scoped>\n",
              "    .dataframe tbody tr th:only-of-type {\n",
              "        vertical-align: middle;\n",
              "    }\n",
              "\n",
              "    .dataframe tbody tr th {\n",
              "        vertical-align: top;\n",
              "    }\n",
              "\n",
              "    .dataframe thead th {\n",
              "        text-align: right;\n",
              "    }\n",
              "</style>\n",
              "<table border=\"1\" class=\"dataframe\">\n",
              "  <thead>\n",
              "    <tr style=\"text-align: right;\">\n",
              "      <th></th>\n",
              "      <th>day</th>\n",
              "      <th>origin</th>\n",
              "      <th>평균기온(°C)</th>\n",
              "      <th>최저기온(°C)</th>\n",
              "      <th>최고기온(°C)</th>\n",
              "      <th>강수 계속시간(hr)</th>\n",
              "      <th>일강수량(mm)</th>\n",
              "      <th>평균 풍속(m/s)</th>\n",
              "      <th>평균 현지기압(hPa)</th>\n",
              "      <th>합계 일조시간(hr)</th>\n",
              "      <th>일 최심적설(cm)</th>\n",
              "    </tr>\n",
              "  </thead>\n",
              "  <tbody>\n",
              "    <tr>\n",
              "      <th>0</th>\n",
              "      <td>2019-08-01</td>\n",
              "      <td>강원</td>\n",
              "      <td>27.50</td>\n",
              "      <td>24.2</td>\n",
              "      <td>31.60</td>\n",
              "      <td>0.0</td>\n",
              "      <td>0.3</td>\n",
              "      <td>1.50</td>\n",
              "      <td>994.8</td>\n",
              "      <td>7.40</td>\n",
              "      <td>0.0</td>\n",
              "    </tr>\n",
              "    <tr>\n",
              "      <th>1</th>\n",
              "      <td>2019-08-01</td>\n",
              "      <td>경기</td>\n",
              "      <td>27.60</td>\n",
              "      <td>23.9</td>\n",
              "      <td>31.90</td>\n",
              "      <td>0.0</td>\n",
              "      <td>26.6</td>\n",
              "      <td>1.20</td>\n",
              "      <td>1006.4</td>\n",
              "      <td>5.20</td>\n",
              "      <td>0.0</td>\n",
              "    </tr>\n",
              "    <tr>\n",
              "      <th>2</th>\n",
              "      <td>2019-08-01</td>\n",
              "      <td>경남</td>\n",
              "      <td>28.70</td>\n",
              "      <td>24.2</td>\n",
              "      <td>33.90</td>\n",
              "      <td>0.0</td>\n",
              "      <td>0.0</td>\n",
              "      <td>1.40</td>\n",
              "      <td>1007.1</td>\n",
              "      <td>12.30</td>\n",
              "      <td>0.0</td>\n",
              "    </tr>\n",
              "    <tr>\n",
              "      <th>3</th>\n",
              "      <td>2019-08-01</td>\n",
              "      <td>경북</td>\n",
              "      <td>29.55</td>\n",
              "      <td>25.3</td>\n",
              "      <td>34.35</td>\n",
              "      <td>0.0</td>\n",
              "      <td>0.0</td>\n",
              "      <td>1.65</td>\n",
              "      <td>1000.7</td>\n",
              "      <td>11.95</td>\n",
              "      <td>0.0</td>\n",
              "    </tr>\n",
              "    <tr>\n",
              "      <th>4</th>\n",
              "      <td>2019-08-01</td>\n",
              "      <td>광주</td>\n",
              "      <td>29.20</td>\n",
              "      <td>24.9</td>\n",
              "      <td>34.60</td>\n",
              "      <td>0.0</td>\n",
              "      <td>0.0</td>\n",
              "      <td>1.40</td>\n",
              "      <td>1004.0</td>\n",
              "      <td>9.20</td>\n",
              "      <td>0.0</td>\n",
              "    </tr>\n",
              "  </tbody>\n",
              "</table>\n",
              "</div>"
            ],
            "text/plain": [
              "          day origin  평균기온(°C)  ...  평균 현지기압(hPa)  합계 일조시간(hr)  일 최심적설(cm)\n",
              "0  2019-08-01     강원     27.50  ...         994.8         7.40         0.0\n",
              "1  2019-08-01     경기     27.60  ...        1006.4         5.20         0.0\n",
              "2  2019-08-01     경남     28.70  ...        1007.1        12.30         0.0\n",
              "3  2019-08-01     경북     29.55  ...        1000.7        11.95         0.0\n",
              "4  2019-08-01     광주     29.20  ...        1004.0         9.20         0.0\n",
              "\n",
              "[5 rows x 11 columns]"
            ]
          },
          "metadata": {
            "tags": []
          },
          "execution_count": 43
        }
      ]
    }
  ]
}
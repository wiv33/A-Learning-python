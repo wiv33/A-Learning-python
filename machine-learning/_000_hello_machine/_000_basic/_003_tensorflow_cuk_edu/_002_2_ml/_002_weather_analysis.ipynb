{
  "nbformat": 4,
  "nbformat_minor": 0,
  "metadata": {
    "colab": {
      "name": "cuk_edu/_002_weather_analysis.ipynb",
      "provenance": [],
      "collapsed_sections": [],
      "authorship_tag": "ABX9TyP4VgW5ISLPFndosdo0JRUq",
      "include_colab_link": true
    },
    "kernelspec": {
      "name": "python3",
      "display_name": "Python 3"
    }
  },
  "cells": [
    {
      "cell_type": "markdown",
      "metadata": {
        "id": "view-in-github",
        "colab_type": "text"
      },
      "source": [
        "<a href=\"https://colab.research.google.com/github/wiv33/A-Learning-python/blob/master/machine-learning/_000_hello_machine/_000_basic/_003_tensorflow_cuk_edu/_002_2_ml/_002_weather_analysis.ipynb\" target=\"_parent\"><img src=\"https://colab.research.google.com/assets/colab-badge.svg\" alt=\"Open In Colab\"/></a>"
      ]
    },
    {
      "cell_type": "markdown",
      "metadata": {
        "id": "ClpChIfKrCEz"
      },
      "source": [
        "# 기상청 날씨 데이터 분석하기\n",
        "\n",
        "## 데이터 불러오기\n",
        "\n",
        "- 컬럼 설정\n",
        "- 사람을 위한 월 시작 row 제거\n",
        "  - 12월 31일 -> | start: 201912 | -> 1월 1일"
      ]
    },
    {
      "cell_type": "code",
      "metadata": {
        "id": "eMCezc4RatYA"
      },
      "source": [
        "import pandas as pd\n",
        "path = 'https://raw.githubusercontent.com/wiv33/A-Learning-python/master/machine-learning/_000_hello_machine/_000_basic/_003_tensorflow_cuk_edu/_002_2_ml/data'\n",
        "\n",
        "df_precipitation = pd.read_csv(path + '/precipitation_201910_202009.csv')\n",
        "df_precipitation.columns = ['day', 'hour', 'precipitation']\n",
        "df_precipitation.dropna(axis=0, inplace=True)\n",
        "\n",
        "df_direction_of_the_wind = pd.read_csv(path + '/direction_of_the_wind_201910_202009.csv')\n",
        "df_direction_of_the_wind.columns = ['day', 'hour', 'wind']\n",
        "df_direction_of_the_wind.dropna(axis=0, inplace=True)\n",
        "\n",
        "df_precipitation_shape = pd.read_csv(path + '/precipitation_shape_201910_202009.csv')\n",
        "df_precipitation_shape.columns = ['day', 'hour', 'precipitation_shape']\n",
        "df_precipitation_shape.dropna(axis=0, inplace=True)\n",
        "\n",
        "df_temperature = pd.read_csv(path + '/temperature_201910_202009.csv')\n",
        "df_temperature.columns = ['day', 'hour', 'temperature'] \n",
        "df_temperature.dropna(axis=0, inplace=True)\n",
        "\n",
        "df_humidity = pd.read_csv(path + '/humidity_201910_202009.csv')\n",
        "df_humidity.columns = ['day', 'hour', 'humidity']\n",
        "df_humidity.dropna(axis=0, inplace=True)\n",
        "\n",
        "df_wind_spped = pd.read_csv(path + '/%EC%9B%94%EA%B3%A1%EC%A0%9C1%EB%8F%99_%ED%92%8D%EC%86%8D_wind_speed_201910_202009.csv')\n",
        "df_wind_spped.columns = ['day', 'hour', 'wind_speed']\n",
        "df_wind_spped.dropna(axis=0, inplace=True)\n"
      ],
      "execution_count": 118,
      "outputs": []
    },
    {
      "cell_type": "markdown",
      "metadata": {
        "id": "AjFANPTptofT"
      },
      "source": [
        "nan row 확인"
      ]
    },
    {
      "cell_type": "code",
      "metadata": {
        "id": "CrlRGvU1pdR9"
      },
      "source": [
        "df_test = pd.read_csv(path + '/temperature_201910_202009.csv')\n",
        "# df_test.iloc[3318:3340, :]"
      ],
      "execution_count": 119,
      "outputs": []
    },
    {
      "cell_type": "code",
      "metadata": {
        "id": "AQCiX1hnCP15"
      },
      "source": [
        "df_test2 = pd.read_csv(path + '/precipitation_shape_201910_202009.csv')\n",
        "# df_test2.iloc[3318:3340, :]"
      ],
      "execution_count": 120,
      "outputs": []
    },
    {
      "cell_type": "code",
      "metadata": {
        "id": "bi2te_zUCbWx"
      },
      "source": [
        "df_test3 = pd.read_csv(path + '/precipitation_201910_202009.csv')\n",
        "# df_test3.iloc[3318:3340, :]"
      ],
      "execution_count": 121,
      "outputs": []
    },
    {
      "cell_type": "code",
      "metadata": {
        "id": "uSxyD1fiTzZu",
        "outputId": "3d3e7115-8771-4028-d0d9-8c7d600a0dc0",
        "colab": {
          "base_uri": "https://localhost:8080/",
          "height": 204
        }
      },
      "source": [
        "df_test4 = pd.read_csv(path + '/precipitation_201910_202009.csv')\n",
        "df_test4.columns = ['day', 'hour', 'precipitation']\n",
        "df_test4.head()\n",
        "\n"
      ],
      "execution_count": 122,
      "outputs": [
        {
          "output_type": "execute_result",
          "data": {
            "text/html": [
              "<div>\n",
              "<style scoped>\n",
              "    .dataframe tbody tr th:only-of-type {\n",
              "        vertical-align: middle;\n",
              "    }\n",
              "\n",
              "    .dataframe tbody tr th {\n",
              "        vertical-align: top;\n",
              "    }\n",
              "\n",
              "    .dataframe thead th {\n",
              "        text-align: right;\n",
              "    }\n",
              "</style>\n",
              "<table border=\"1\" class=\"dataframe\">\n",
              "  <thead>\n",
              "    <tr style=\"text-align: right;\">\n",
              "      <th></th>\n",
              "      <th>day</th>\n",
              "      <th>hour</th>\n",
              "      <th>precipitation</th>\n",
              "    </tr>\n",
              "  </thead>\n",
              "  <tbody>\n",
              "    <tr>\n",
              "      <th>0</th>\n",
              "      <td>1</td>\n",
              "      <td>0.0</td>\n",
              "      <td>0.0</td>\n",
              "    </tr>\n",
              "    <tr>\n",
              "      <th>1</th>\n",
              "      <td>1</td>\n",
              "      <td>100.0</td>\n",
              "      <td>0.0</td>\n",
              "    </tr>\n",
              "    <tr>\n",
              "      <th>2</th>\n",
              "      <td>1</td>\n",
              "      <td>200.0</td>\n",
              "      <td>0.0</td>\n",
              "    </tr>\n",
              "    <tr>\n",
              "      <th>3</th>\n",
              "      <td>1</td>\n",
              "      <td>300.0</td>\n",
              "      <td>0.0</td>\n",
              "    </tr>\n",
              "    <tr>\n",
              "      <th>4</th>\n",
              "      <td>1</td>\n",
              "      <td>400.0</td>\n",
              "      <td>0.0</td>\n",
              "    </tr>\n",
              "  </tbody>\n",
              "</table>\n",
              "</div>"
            ],
            "text/plain": [
              "  day   hour  precipitation\n",
              "0   1    0.0            0.0\n",
              "1   1  100.0            0.0\n",
              "2   1  200.0            0.0\n",
              "3   1  300.0            0.0\n",
              "4   1  400.0            0.0"
            ]
          },
          "metadata": {
            "tags": []
          },
          "execution_count": 122
        }
      ]
    },
    {
      "cell_type": "code",
      "metadata": {
        "id": "SQYMpKShUuXm",
        "outputId": "90008df0-0a48-41a9-bf93-bf062b4bc763",
        "colab": {
          "base_uri": "https://localhost:8080/",
          "height": 157
        }
      },
      "source": [
        "df_date_test4 = pd.date_range('2019-10-01', periods=366)\n",
        "df_date_test4"
      ],
      "execution_count": 123,
      "outputs": [
        {
          "output_type": "execute_result",
          "data": {
            "text/plain": [
              "DatetimeIndex(['2019-10-01', '2019-10-02', '2019-10-03', '2019-10-04',\n",
              "               '2019-10-05', '2019-10-06', '2019-10-07', '2019-10-08',\n",
              "               '2019-10-09', '2019-10-10',\n",
              "               ...\n",
              "               '2020-09-21', '2020-09-22', '2020-09-23', '2020-09-24',\n",
              "               '2020-09-25', '2020-09-26', '2020-09-27', '2020-09-28',\n",
              "               '2020-09-29', '2020-09-30'],\n",
              "              dtype='datetime64[ns]', length=366, freq='D')"
            ]
          },
          "metadata": {
            "tags": []
          },
          "execution_count": 123
        }
      ]
    },
    {
      "cell_type": "markdown",
      "metadata": {
        "id": "SKBubLd0tj7s"
      },
      "source": [
        "nan 형태 확인 후 제거"
      ]
    },
    {
      "cell_type": "code",
      "metadata": {
        "id": "S_G-l8_QsNRD"
      },
      "source": [
        "del df_test\n",
        "del df_test2\n",
        "del df_test3\n",
        "del df_date_test4"
      ],
      "execution_count": 124,
      "outputs": []
    },
    {
      "cell_type": "markdown",
      "metadata": {
        "id": "Vks3kV4ML8a5"
      },
      "source": [
        "### 다섯 개의 DataFrame shape 확인하기"
      ]
    },
    {
      "cell_type": "code",
      "metadata": {
        "id": "GbS25-OXMBRZ",
        "outputId": "c9de143d-4fe2-48b3-cfac-e798f6b54c2f",
        "colab": {
          "base_uri": "https://localhost:8080/",
          "height": 192
        }
      },
      "source": [
        "df_direction_of_the_wind.info()"
      ],
      "execution_count": 125,
      "outputs": [
        {
          "output_type": "stream",
          "text": [
            "<class 'pandas.core.frame.DataFrame'>\n",
            "Int64Index: 8784 entries, 0 to 8794\n",
            "Data columns (total 3 columns):\n",
            " #   Column  Non-Null Count  Dtype  \n",
            "---  ------  --------------  -----  \n",
            " 0   day     8784 non-null   object \n",
            " 1   hour    8784 non-null   float64\n",
            " 2   wind    8784 non-null   float64\n",
            "dtypes: float64(2), object(1)\n",
            "memory usage: 274.5+ KB\n"
          ],
          "name": "stdout"
        }
      ]
    },
    {
      "cell_type": "code",
      "metadata": {
        "id": "0AAbN34YMKXR",
        "outputId": "d9b82c16-8129-4462-9b87-031d9ad70510",
        "colab": {
          "base_uri": "https://localhost:8080/",
          "height": 192
        }
      },
      "source": [
        "df_precipitation_shape.info()"
      ],
      "execution_count": 126,
      "outputs": [
        {
          "output_type": "stream",
          "text": [
            "<class 'pandas.core.frame.DataFrame'>\n",
            "Int64Index: 8784 entries, 0 to 8794\n",
            "Data columns (total 3 columns):\n",
            " #   Column               Non-Null Count  Dtype  \n",
            "---  ------               --------------  -----  \n",
            " 0   day                  8784 non-null   object \n",
            " 1   hour                 8784 non-null   float64\n",
            " 2   precipitation_shape  8784 non-null   float64\n",
            "dtypes: float64(2), object(1)\n",
            "memory usage: 274.5+ KB\n"
          ],
          "name": "stdout"
        }
      ]
    },
    {
      "cell_type": "code",
      "metadata": {
        "id": "YP-CFW3NMSxP",
        "outputId": "2999ea91-5564-4a24-ace2-9a9b9c907884",
        "colab": {
          "base_uri": "https://localhost:8080/",
          "height": 192
        }
      },
      "source": [
        "df_humidity.info()"
      ],
      "execution_count": 127,
      "outputs": [
        {
          "output_type": "stream",
          "text": [
            "<class 'pandas.core.frame.DataFrame'>\n",
            "Int64Index: 8784 entries, 0 to 8794\n",
            "Data columns (total 3 columns):\n",
            " #   Column    Non-Null Count  Dtype  \n",
            "---  ------    --------------  -----  \n",
            " 0   day       8784 non-null   object \n",
            " 1   hour      8784 non-null   float64\n",
            " 2   humidity  8784 non-null   float64\n",
            "dtypes: float64(2), object(1)\n",
            "memory usage: 274.5+ KB\n"
          ],
          "name": "stdout"
        }
      ]
    },
    {
      "cell_type": "code",
      "metadata": {
        "id": "SPkm6LPKMWYk",
        "outputId": "0b1d0c60-ad07-452b-b542-adf34e153f6e",
        "colab": {
          "base_uri": "https://localhost:8080/",
          "height": 192
        }
      },
      "source": [
        "df_temperature.info()"
      ],
      "execution_count": 128,
      "outputs": [
        {
          "output_type": "stream",
          "text": [
            "<class 'pandas.core.frame.DataFrame'>\n",
            "Int64Index: 8784 entries, 0 to 8794\n",
            "Data columns (total 3 columns):\n",
            " #   Column       Non-Null Count  Dtype  \n",
            "---  ------       --------------  -----  \n",
            " 0   day          8784 non-null   object \n",
            " 1   hour         8784 non-null   float64\n",
            " 2   temperature  8784 non-null   float64\n",
            "dtypes: float64(2), object(1)\n",
            "memory usage: 274.5+ KB\n"
          ],
          "name": "stdout"
        }
      ]
    },
    {
      "cell_type": "markdown",
      "metadata": {
        "id": "LEpQL-bPMZWP"
      },
      "source": [
        "8784 row와 3개의 컬럼 중 세 번째 컬럼을 하나로 만들면 될 것."
      ]
    },
    {
      "cell_type": "markdown",
      "metadata": {
        "id": "u1cfz8jNsqfe"
      },
      "source": [
        "## 각 데이터 프레임 하나로 합치기\n",
        "\n",
        "강수, 강수형태, 습도, 기온, 풍향, 풍속"
      ]
    },
    {
      "cell_type": "code",
      "metadata": {
        "id": "xr0QGNslN1Zt"
      },
      "source": [
        "df = df_precipitation.iloc[:, :2]\n",
        "df['precipitation_강수'] = df_precipitation.precipitation\n",
        "df['precipitation_shape_강수형태'] = df_precipitation_shape['precipitation_shape']\n",
        "df['temperature_기온'] = df_temperature['temperature']\n",
        "df['humidity_습도'] = df_humidity.humidity\n",
        "df['wind_풍향'] = df_direction_of_the_wind.wind\n",
        "df['wind_spped_풍속'] = df_wind_spped.wind_speed\n"
      ],
      "execution_count": 129,
      "outputs": []
    },
    {
      "cell_type": "markdown",
      "metadata": {
        "id": "39iEeLr2f7HC"
      },
      "source": [
        "### merge 결과 확인하기"
      ]
    },
    {
      "cell_type": "code",
      "metadata": {
        "id": "5_5jk_0qf--o",
        "outputId": "a0b2559b-140f-4c35-e365-309962d9aa83",
        "colab": {
          "base_uri": "https://localhost:8080/",
          "height": 204
        }
      },
      "source": [
        "df.head()"
      ],
      "execution_count": 130,
      "outputs": [
        {
          "output_type": "execute_result",
          "data": {
            "text/html": [
              "<div>\n",
              "<style scoped>\n",
              "    .dataframe tbody tr th:only-of-type {\n",
              "        vertical-align: middle;\n",
              "    }\n",
              "\n",
              "    .dataframe tbody tr th {\n",
              "        vertical-align: top;\n",
              "    }\n",
              "\n",
              "    .dataframe thead th {\n",
              "        text-align: right;\n",
              "    }\n",
              "</style>\n",
              "<table border=\"1\" class=\"dataframe\">\n",
              "  <thead>\n",
              "    <tr style=\"text-align: right;\">\n",
              "      <th></th>\n",
              "      <th>day</th>\n",
              "      <th>hour</th>\n",
              "      <th>precipitation_강수</th>\n",
              "      <th>precipitation_shape_강수형태</th>\n",
              "      <th>temperature_기온</th>\n",
              "      <th>humidity_습도</th>\n",
              "      <th>wind_풍향</th>\n",
              "      <th>wind_spped_풍속</th>\n",
              "    </tr>\n",
              "  </thead>\n",
              "  <tbody>\n",
              "    <tr>\n",
              "      <th>0</th>\n",
              "      <td>1</td>\n",
              "      <td>0.0</td>\n",
              "      <td>0.0</td>\n",
              "      <td>0.0</td>\n",
              "      <td>23.900000</td>\n",
              "      <td>63.0</td>\n",
              "      <td>29.0</td>\n",
              "      <td>0.8</td>\n",
              "    </tr>\n",
              "    <tr>\n",
              "      <th>1</th>\n",
              "      <td>1</td>\n",
              "      <td>100.0</td>\n",
              "      <td>0.0</td>\n",
              "      <td>0.0</td>\n",
              "      <td>25.400000</td>\n",
              "      <td>60.0</td>\n",
              "      <td>183.0</td>\n",
              "      <td>1.6</td>\n",
              "    </tr>\n",
              "    <tr>\n",
              "      <th>2</th>\n",
              "      <td>1</td>\n",
              "      <td>200.0</td>\n",
              "      <td>0.0</td>\n",
              "      <td>0.0</td>\n",
              "      <td>26.799999</td>\n",
              "      <td>56.0</td>\n",
              "      <td>122.0</td>\n",
              "      <td>1.6</td>\n",
              "    </tr>\n",
              "    <tr>\n",
              "      <th>3</th>\n",
              "      <td>1</td>\n",
              "      <td>300.0</td>\n",
              "      <td>0.0</td>\n",
              "      <td>0.0</td>\n",
              "      <td>26.799999</td>\n",
              "      <td>57.0</td>\n",
              "      <td>64.0</td>\n",
              "      <td>1.9</td>\n",
              "    </tr>\n",
              "    <tr>\n",
              "      <th>4</th>\n",
              "      <td>1</td>\n",
              "      <td>400.0</td>\n",
              "      <td>0.0</td>\n",
              "      <td>0.0</td>\n",
              "      <td>27.400000</td>\n",
              "      <td>59.0</td>\n",
              "      <td>127.0</td>\n",
              "      <td>1.5</td>\n",
              "    </tr>\n",
              "  </tbody>\n",
              "</table>\n",
              "</div>"
            ],
            "text/plain": [
              "  day   hour  precipitation_강수  ...  humidity_습도  wind_풍향  wind_spped_풍속\n",
              "0   1    0.0               0.0  ...         63.0     29.0            0.8\n",
              "1   1  100.0               0.0  ...         60.0    183.0            1.6\n",
              "2   1  200.0               0.0  ...         56.0    122.0            1.6\n",
              "3   1  300.0               0.0  ...         57.0     64.0            1.9\n",
              "4   1  400.0               0.0  ...         59.0    127.0            1.5\n",
              "\n",
              "[5 rows x 8 columns]"
            ]
          },
          "metadata": {
            "tags": []
          },
          "execution_count": 130
        }
      ]
    },
    {
      "cell_type": "markdown",
      "metadata": {
        "id": "MmmkCeZArb27"
      },
      "source": [
        "## 시간 데이터 타입 변환\n",
        "\n",
        "- 기존 24시의 표현 변경\n",
        "\n",
        "  0.0, 100.0, 200.0\n",
        "\n",
        "  0, 1, 2, 3\n",
        "\n",
        "- ~~day int로 변경~~\n",
        "- day를 datetime 형식으로 변경.\n",
        "\n",
        "시각화할 때 구분이 가지 않음.\n"
      ]
    },
    {
      "cell_type": "code",
      "metadata": {
        "id": "H2d-eAj6qqAP"
      },
      "source": [
        "def hour_regulation(hour: float):\n",
        "  return int(hour / 100)"
      ],
      "execution_count": 131,
      "outputs": []
    },
    {
      "cell_type": "code",
      "metadata": {
        "id": "iNdJoKgyV-KT"
      },
      "source": [
        "df_day_idx = pd.date_range('2019-10-01', periods=366)"
      ],
      "execution_count": 132,
      "outputs": []
    },
    {
      "cell_type": "code",
      "metadata": {
        "id": "zU9L8xoMWQXZ",
        "outputId": "4a735b11-b21c-47d6-f92d-970addca5096",
        "colab": {
          "base_uri": "https://localhost:8080/",
          "height": 157
        }
      },
      "source": [
        "df_day_idx"
      ],
      "execution_count": 133,
      "outputs": [
        {
          "output_type": "execute_result",
          "data": {
            "text/plain": [
              "DatetimeIndex(['2019-10-01', '2019-10-02', '2019-10-03', '2019-10-04',\n",
              "               '2019-10-05', '2019-10-06', '2019-10-07', '2019-10-08',\n",
              "               '2019-10-09', '2019-10-10',\n",
              "               ...\n",
              "               '2020-09-21', '2020-09-22', '2020-09-23', '2020-09-24',\n",
              "               '2020-09-25', '2020-09-26', '2020-09-27', '2020-09-28',\n",
              "               '2020-09-29', '2020-09-30'],\n",
              "              dtype='datetime64[ns]', length=366, freq='D')"
            ]
          },
          "metadata": {
            "tags": []
          },
          "execution_count": 133
        }
      ]
    },
    {
      "cell_type": "code",
      "metadata": {
        "id": "SKuH0uKhXxgc"
      },
      "source": [
        "\n",
        "def day_regulation(day):\n",
        "  \n",
        "  return temp"
      ],
      "execution_count": 148,
      "outputs": []
    },
    {
      "cell_type": "code",
      "metadata": {
        "id": "aHnRdNsXgvcR",
        "outputId": "ecc8dcc8-4022-4fa7-a39b-a43e338a3fe8",
        "colab": {
          "base_uri": "https://localhost:8080/",
          "height": 279
        }
      },
      "source": [
        "df.hour = df.hour.apply(hour_regulation)\n",
        "# df.index = df_day_idx\n",
        "# df.day = df.day.apply(day_regulation)\n",
        "\n",
        "df.info()"
      ],
      "execution_count": 150,
      "outputs": [
        {
          "output_type": "stream",
          "text": [
            "<class 'pandas.core.frame.DataFrame'>\n",
            "Int64Index: 8784 entries, 0 to 8794\n",
            "Data columns (total 8 columns):\n",
            " #   Column                    Non-Null Count  Dtype  \n",
            "---  ------                    --------------  -----  \n",
            " 0   day                       8784 non-null   object \n",
            " 1   hour                      8784 non-null   int64  \n",
            " 2   precipitation_강수          8784 non-null   float64\n",
            " 3   precipitation_shape_강수형태  8784 non-null   float64\n",
            " 4   temperature_기온            8784 non-null   float64\n",
            " 5   humidity_습도               8784 non-null   float64\n",
            " 6   wind_풍향                   8784 non-null   float64\n",
            " 7   wind_spped_풍속             8784 non-null   float64\n",
            "dtypes: float64(6), int64(1), object(1)\n",
            "memory usage: 617.6+ KB\n"
          ],
          "name": "stdout"
        }
      ]
    },
    {
      "cell_type": "code",
      "metadata": {
        "id": "N079Y0TuLz6a"
      },
      "source": [
        "df.describe()"
      ],
      "execution_count": null,
      "outputs": []
    },
    {
      "cell_type": "markdown",
      "metadata": {
        "id": "At0LIYNGhf8r"
      },
      "source": [
        "### 이상 데이터 확인\n",
        "\n",
        "강수, 강수 형태, 습도, 풍향, 풍속의 최소 값이 `-1`이고\n",
        "\n",
        "기온이 `-50도`인 것은 정규화가 필요하다고 판단."
      ]
    },
    {
      "cell_type": "code",
      "metadata": {
        "id": "pl6cHLidksr5"
      },
      "source": [
        "df[df['temperature_기온'] == -50].index"
      ],
      "execution_count": null,
      "outputs": []
    },
    {
      "cell_type": "markdown",
      "metadata": {
        "id": "ATALO_JlvD-u"
      },
      "source": [
        "- 이상 데이터의 인덱스 확인"
      ]
    },
    {
      "cell_type": "markdown",
      "metadata": {
        "id": "4QNIAOO8vKDb"
      },
      "source": [
        "### 이상 데이터 정규화\n",
        "\n",
        "- 습도와 기온은 +-2일 값의 평균으로 적용\n",
        "- 나머지 값은 0으로 적용"
      ]
    },
    {
      "cell_type": "code",
      "metadata": {
        "id": "cmokaZiihfU-"
      },
      "source": [
        "import numpy as np \n",
        "\n",
        "for x in df[df['wind_풍향'] <= -1].index:\n",
        "  seq = int(x)\n",
        "  df['temperature_기온'][seq] = np.mean((df.iloc[seq-2:seq, 4], df.iloc[seq+1:seq+3, 4]))\n",
        "  df['humidity_습도'][seq] = np.mean((df.iloc[seq-2:seq, 5], df.iloc[seq+1:seq+3, 5]))\n",
        "  df['wind_spped_풍속'][seq] = 0.0\n",
        "  df['precipitation_shape_강수형태'][seq] = 0.0\n",
        "  df['precipitation_강수'][seq] = 0.0\n",
        "  df['wind_풍향'][seq] = 0.0\n"
      ],
      "execution_count": null,
      "outputs": []
    },
    {
      "cell_type": "code",
      "metadata": {
        "id": "CeChrsmZmlkS"
      },
      "source": [
        "df[df['humidity_습도'] <= 10.0]"
      ],
      "execution_count": null,
      "outputs": []
    },
    {
      "cell_type": "code",
      "metadata": {
        "id": "8yYZNVqlvedE"
      },
      "source": [
        "df[df['temperature_기온'] <= -50]"
      ],
      "execution_count": null,
      "outputs": []
    },
    {
      "cell_type": "code",
      "metadata": {
        "id": "Itrqc6VulnnE"
      },
      "source": [
        "df.iloc[1055: 1057, :]"
      ],
      "execution_count": null,
      "outputs": []
    },
    {
      "cell_type": "code",
      "metadata": {
        "id": "-7q1Zungugvu"
      },
      "source": [
        "df[df['wind_풍향'] <= -1]"
      ],
      "execution_count": null,
      "outputs": []
    },
    {
      "cell_type": "code",
      "metadata": {
        "id": "U8r-QOe9ua6U"
      },
      "source": [
        "df.describe()"
      ],
      "execution_count": null,
      "outputs": []
    },
    {
      "cell_type": "code",
      "metadata": {
        "id": "YJw1aH31_9M5"
      },
      "source": [
        "df[df['precipitation_shape_강수형태'] == 3.]"
      ],
      "execution_count": null,
      "outputs": []
    },
    {
      "cell_type": "markdown",
      "metadata": {
        "id": "8DtVJx-UNC7c"
      },
      "source": [
        "# 시각화"
      ]
    },
    {
      "cell_type": "code",
      "metadata": {
        "id": "MNA2wEtk8AnV"
      },
      "source": [
        "import matplotlib as mpl\n",
        "import matplotlib.pyplot as plt\n",
        "import seaborn as sns"
      ],
      "execution_count": null,
      "outputs": []
    },
    {
      "cell_type": "markdown",
      "metadata": {
        "id": "4foZOsvZQMss"
      },
      "source": [
        "## 시간에 따른 기온의 변화"
      ]
    },
    {
      "cell_type": "code",
      "metadata": {
        "id": "95e1KJHoTbY0"
      },
      "source": [
        "df.head()"
      ],
      "execution_count": null,
      "outputs": []
    },
    {
      "cell_type": "code",
      "metadata": {
        "id": "KuuWgDoiXFuO"
      },
      "source": [
        "df.tail()"
      ],
      "execution_count": null,
      "outputs": []
    },
    {
      "cell_type": "code",
      "metadata": {
        "id": "X61LufnoHp_3"
      },
      "source": [
        "plt.figure(figsize=(12, 5))\n",
        "\n",
        "\n",
        "plt.title('Temperature variation over time')\n",
        "plt.xlabel('hour')\n",
        "plt.ylabel('temperature')\n",
        "\n",
        "sns.barplot(x=df['day'], y=df['temperature_기온'])"
      ],
      "execution_count": null,
      "outputs": []
    },
    {
      "cell_type": "code",
      "metadata": {
        "id": "_TekjTUfSB5v"
      },
      "source": [
        "sns.distplot(df['temperature_기온'],\n",
        "             hist=True,\n",
        "             kde=True,\n",
        "             rug=True)"
      ],
      "execution_count": null,
      "outputs": []
    }
  ]
}
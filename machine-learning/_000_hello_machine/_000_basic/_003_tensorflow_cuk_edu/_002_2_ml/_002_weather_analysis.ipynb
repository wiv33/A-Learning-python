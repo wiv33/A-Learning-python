{
  "nbformat": 4,
  "nbformat_minor": 0,
  "metadata": {
    "colab": {
      "name": "cuk_edu/_002_weather_analysis.ipynb",
      "provenance": [],
      "collapsed_sections": [],
      "authorship_tag": "ABX9TyOVTidUqxpgXxxcs7d39wgW",
      "include_colab_link": true
    },
    "kernelspec": {
      "name": "python3",
      "display_name": "Python 3"
    }
  },
  "cells": [
    {
      "cell_type": "markdown",
      "metadata": {
        "id": "view-in-github",
        "colab_type": "text"
      },
      "source": [
        "<a href=\"https://colab.research.google.com/github/wiv33/A-Learning-python/blob/master/machine-learning/_000_hello_machine/_000_basic/_003_tensorflow_cuk_edu/_002_2_ml/_002_weather_analysis.ipynb\" target=\"_parent\"><img src=\"https://colab.research.google.com/assets/colab-badge.svg\" alt=\"Open In Colab\"/></a>"
      ]
    },
    {
      "cell_type": "markdown",
      "metadata": {
        "id": "ClpChIfKrCEz"
      },
      "source": [
        "# 기상청 날씨 데이터 분석하기\n",
        "\n",
        "## 데이터 불러오기\n",
        "\n",
        "- 컬럼 설정\n",
        "- 사람을 위한 월 시작 row 제거\n",
        "  - 12월 31일 -> | start: 201912 | -> 1월 1일"
      ]
    },
    {
      "cell_type": "code",
      "metadata": {
        "id": "eMCezc4RatYA"
      },
      "source": [
        "import pandas as pd\n",
        "path = 'https://raw.githubusercontent.com/wiv33/A-Learning-python/master/machine-learning/_000_hello_machine/_000_basic/_003_tensorflow_cuk_edu/_002_2_ml/data'\n",
        "\n",
        "df_precipitation = pd.read_csv(path + '/precipitation_201910_202009.csv')\n",
        "df_precipitation.columns = ['day', 'hour', 'precipitation']\n",
        "df_precipitation.dropna(axis=0, inplace=True)\n",
        "\n",
        "df_direction_of_the_wind = pd.read_csv(path + '/direction_of_the_wind_201910_202009.csv')\n",
        "df_direction_of_the_wind.columns = ['day', 'hour', 'wind']\n",
        "df_direction_of_the_wind.dropna(axis=0, inplace=True)\n",
        "\n",
        "df_precipitation_shape = pd.read_csv(path + '/precipitation_shape_201910_202009.csv')\n",
        "df_precipitation_shape.columns = ['day', 'hour', 'precipitation_shape']\n",
        "df_precipitation_shape.dropna(axis=0, inplace=True)\n",
        "\n",
        "df_temperature = pd.read_csv(path + '/temperature_201910_202009.csv')\n",
        "df_temperature.columns = ['day', 'hour', 'temperature'] \n",
        "df_temperature.dropna(axis=0, inplace=True)\n",
        "\n",
        "df_humidity = pd.read_csv(path + '/humidity_201910_202009.csv')\n",
        "df_humidity.columns = ['day', 'hour', 'humidity']\n",
        "df_humidity.dropna(axis=0, inplace=True)\n",
        "\n",
        "df_wind_spped = pd.read_csv(path + '/%EC%9B%94%EA%B3%A1%EC%A0%9C1%EB%8F%99_%ED%92%8D%EC%86%8D_wind_speed_201910_202009.csv')\n",
        "df_wind_spped.columns = ['day', 'hour', 'wind_speed']\n",
        "df_wind_spped.dropna(axis=0, inplace=True)\n"
      ],
      "execution_count": 191,
      "outputs": []
    },
    {
      "cell_type": "markdown",
      "metadata": {
        "id": "AjFANPTptofT"
      },
      "source": [
        "nan row 확인"
      ]
    },
    {
      "cell_type": "code",
      "metadata": {
        "id": "CrlRGvU1pdR9"
      },
      "source": [
        "df_test = pd.read_csv(path + '/temperature_201910_202009.csv')\n",
        "# df_test.iloc[3318:3340, :]"
      ],
      "execution_count": 192,
      "outputs": []
    },
    {
      "cell_type": "code",
      "metadata": {
        "id": "AQCiX1hnCP15"
      },
      "source": [
        "df_test2 = pd.read_csv(path + '/precipitation_shape_201910_202009.csv')\n",
        "# df_test2.iloc[3318:3340, :]"
      ],
      "execution_count": 193,
      "outputs": []
    },
    {
      "cell_type": "code",
      "metadata": {
        "id": "bi2te_zUCbWx"
      },
      "source": [
        "df_test3 = pd.read_csv(path + '/precipitation_201910_202009.csv')\n",
        "# df_test3.iloc[3318:3340, :]"
      ],
      "execution_count": 194,
      "outputs": []
    },
    {
      "cell_type": "code",
      "metadata": {
        "id": "uSxyD1fiTzZu",
        "outputId": "ec1deee3-f9d6-4ebb-9599-a6c220d06fa7",
        "colab": {
          "base_uri": "https://localhost:8080/",
          "height": 204
        }
      },
      "source": [
        "df_test4 = pd.read_csv(path + '/precipitation_201910_202009.csv')\n",
        "df_test4.columns = ['day', 'hour', 'precipitation']\n",
        "df_test4.head()\n",
        "\n"
      ],
      "execution_count": 195,
      "outputs": [
        {
          "output_type": "execute_result",
          "data": {
            "text/html": [
              "<div>\n",
              "<style scoped>\n",
              "    .dataframe tbody tr th:only-of-type {\n",
              "        vertical-align: middle;\n",
              "    }\n",
              "\n",
              "    .dataframe tbody tr th {\n",
              "        vertical-align: top;\n",
              "    }\n",
              "\n",
              "    .dataframe thead th {\n",
              "        text-align: right;\n",
              "    }\n",
              "</style>\n",
              "<table border=\"1\" class=\"dataframe\">\n",
              "  <thead>\n",
              "    <tr style=\"text-align: right;\">\n",
              "      <th></th>\n",
              "      <th>day</th>\n",
              "      <th>hour</th>\n",
              "      <th>precipitation</th>\n",
              "    </tr>\n",
              "  </thead>\n",
              "  <tbody>\n",
              "    <tr>\n",
              "      <th>0</th>\n",
              "      <td>1</td>\n",
              "      <td>0.0</td>\n",
              "      <td>0.0</td>\n",
              "    </tr>\n",
              "    <tr>\n",
              "      <th>1</th>\n",
              "      <td>1</td>\n",
              "      <td>100.0</td>\n",
              "      <td>0.0</td>\n",
              "    </tr>\n",
              "    <tr>\n",
              "      <th>2</th>\n",
              "      <td>1</td>\n",
              "      <td>200.0</td>\n",
              "      <td>0.0</td>\n",
              "    </tr>\n",
              "    <tr>\n",
              "      <th>3</th>\n",
              "      <td>1</td>\n",
              "      <td>300.0</td>\n",
              "      <td>0.0</td>\n",
              "    </tr>\n",
              "    <tr>\n",
              "      <th>4</th>\n",
              "      <td>1</td>\n",
              "      <td>400.0</td>\n",
              "      <td>0.0</td>\n",
              "    </tr>\n",
              "  </tbody>\n",
              "</table>\n",
              "</div>"
            ],
            "text/plain": [
              "  day   hour  precipitation\n",
              "0   1    0.0            0.0\n",
              "1   1  100.0            0.0\n",
              "2   1  200.0            0.0\n",
              "3   1  300.0            0.0\n",
              "4   1  400.0            0.0"
            ]
          },
          "metadata": {
            "tags": []
          },
          "execution_count": 195
        }
      ]
    },
    {
      "cell_type": "code",
      "metadata": {
        "id": "SQYMpKShUuXm",
        "outputId": "80079007-4b4d-49af-a8c8-4cea97ab6f94",
        "colab": {
          "base_uri": "https://localhost:8080/",
          "height": 157
        }
      },
      "source": [
        "df_date_test4 = pd.date_range('2019-10-01', periods=366)\n",
        "df_date_test4"
      ],
      "execution_count": 196,
      "outputs": [
        {
          "output_type": "execute_result",
          "data": {
            "text/plain": [
              "DatetimeIndex(['2019-10-01', '2019-10-02', '2019-10-03', '2019-10-04',\n",
              "               '2019-10-05', '2019-10-06', '2019-10-07', '2019-10-08',\n",
              "               '2019-10-09', '2019-10-10',\n",
              "               ...\n",
              "               '2020-09-21', '2020-09-22', '2020-09-23', '2020-09-24',\n",
              "               '2020-09-25', '2020-09-26', '2020-09-27', '2020-09-28',\n",
              "               '2020-09-29', '2020-09-30'],\n",
              "              dtype='datetime64[ns]', length=366, freq='D')"
            ]
          },
          "metadata": {
            "tags": []
          },
          "execution_count": 196
        }
      ]
    },
    {
      "cell_type": "markdown",
      "metadata": {
        "id": "SKBubLd0tj7s"
      },
      "source": [
        "nan 형태 확인 후 제거"
      ]
    },
    {
      "cell_type": "code",
      "metadata": {
        "id": "S_G-l8_QsNRD"
      },
      "source": [
        "del df_test\n",
        "del df_test2\n",
        "del df_test3\n",
        "del df_date_test4"
      ],
      "execution_count": 197,
      "outputs": []
    },
    {
      "cell_type": "markdown",
      "metadata": {
        "id": "Vks3kV4ML8a5"
      },
      "source": [
        "### 다섯 개의 DataFrame shape 확인하기"
      ]
    },
    {
      "cell_type": "code",
      "metadata": {
        "id": "GbS25-OXMBRZ",
        "outputId": "aa4d4584-302c-46bf-9996-77dea58ed906",
        "colab": {
          "base_uri": "https://localhost:8080/",
          "height": 192
        }
      },
      "source": [
        "df_direction_of_the_wind.info()"
      ],
      "execution_count": 198,
      "outputs": [
        {
          "output_type": "stream",
          "text": [
            "<class 'pandas.core.frame.DataFrame'>\n",
            "Int64Index: 8784 entries, 0 to 8794\n",
            "Data columns (total 3 columns):\n",
            " #   Column  Non-Null Count  Dtype  \n",
            "---  ------  --------------  -----  \n",
            " 0   day     8784 non-null   object \n",
            " 1   hour    8784 non-null   float64\n",
            " 2   wind    8784 non-null   float64\n",
            "dtypes: float64(2), object(1)\n",
            "memory usage: 274.5+ KB\n"
          ],
          "name": "stdout"
        }
      ]
    },
    {
      "cell_type": "code",
      "metadata": {
        "id": "0AAbN34YMKXR",
        "outputId": "96814a2f-9367-4a4c-bf64-f4f5a86f15c6",
        "colab": {
          "base_uri": "https://localhost:8080/",
          "height": 192
        }
      },
      "source": [
        "df_precipitation_shape.info()"
      ],
      "execution_count": 199,
      "outputs": [
        {
          "output_type": "stream",
          "text": [
            "<class 'pandas.core.frame.DataFrame'>\n",
            "Int64Index: 8784 entries, 0 to 8794\n",
            "Data columns (total 3 columns):\n",
            " #   Column               Non-Null Count  Dtype  \n",
            "---  ------               --------------  -----  \n",
            " 0   day                  8784 non-null   object \n",
            " 1   hour                 8784 non-null   float64\n",
            " 2   precipitation_shape  8784 non-null   float64\n",
            "dtypes: float64(2), object(1)\n",
            "memory usage: 274.5+ KB\n"
          ],
          "name": "stdout"
        }
      ]
    },
    {
      "cell_type": "code",
      "metadata": {
        "id": "YP-CFW3NMSxP",
        "outputId": "95e8d257-48ab-499b-d0de-442aff7bda87",
        "colab": {
          "base_uri": "https://localhost:8080/",
          "height": 192
        }
      },
      "source": [
        "df_humidity.info()"
      ],
      "execution_count": 200,
      "outputs": [
        {
          "output_type": "stream",
          "text": [
            "<class 'pandas.core.frame.DataFrame'>\n",
            "Int64Index: 8784 entries, 0 to 8794\n",
            "Data columns (total 3 columns):\n",
            " #   Column    Non-Null Count  Dtype  \n",
            "---  ------    --------------  -----  \n",
            " 0   day       8784 non-null   object \n",
            " 1   hour      8784 non-null   float64\n",
            " 2   humidity  8784 non-null   float64\n",
            "dtypes: float64(2), object(1)\n",
            "memory usage: 274.5+ KB\n"
          ],
          "name": "stdout"
        }
      ]
    },
    {
      "cell_type": "code",
      "metadata": {
        "id": "SPkm6LPKMWYk",
        "outputId": "11305891-7196-4730-bc6c-a18f0303245e",
        "colab": {
          "base_uri": "https://localhost:8080/",
          "height": 192
        }
      },
      "source": [
        "df_temperature.info()"
      ],
      "execution_count": 201,
      "outputs": [
        {
          "output_type": "stream",
          "text": [
            "<class 'pandas.core.frame.DataFrame'>\n",
            "Int64Index: 8784 entries, 0 to 8794\n",
            "Data columns (total 3 columns):\n",
            " #   Column       Non-Null Count  Dtype  \n",
            "---  ------       --------------  -----  \n",
            " 0   day          8784 non-null   object \n",
            " 1   hour         8784 non-null   float64\n",
            " 2   temperature  8784 non-null   float64\n",
            "dtypes: float64(2), object(1)\n",
            "memory usage: 274.5+ KB\n"
          ],
          "name": "stdout"
        }
      ]
    },
    {
      "cell_type": "markdown",
      "metadata": {
        "id": "LEpQL-bPMZWP"
      },
      "source": [
        "8784 row와 3개의 컬럼 중 세 번째 컬럼을 하나로 만들면 될 것."
      ]
    },
    {
      "cell_type": "markdown",
      "metadata": {
        "id": "u1cfz8jNsqfe"
      },
      "source": [
        "## 각 데이터 프레임 하나로 합치기\n",
        "\n",
        "강수, 강수형태, 습도, 기온, 풍향, 풍속"
      ]
    },
    {
      "cell_type": "code",
      "metadata": {
        "id": "xr0QGNslN1Zt"
      },
      "source": [
        "df = df_precipitation.iloc[:, :2]\n",
        "df['precipitation_강수'] = df_precipitation.precipitation\n",
        "df['precipitation_shape_강수형태'] = df_precipitation_shape['precipitation_shape']\n",
        "df['temperature_기온'] = df_temperature['temperature']\n",
        "df['humidity_습도'] = df_humidity.humidity\n",
        "df['wind_풍향'] = df_direction_of_the_wind.wind\n",
        "df['wind_spped_풍속'] = df_wind_spped.wind_speed\n"
      ],
      "execution_count": 202,
      "outputs": []
    },
    {
      "cell_type": "markdown",
      "metadata": {
        "id": "39iEeLr2f7HC"
      },
      "source": [
        "### merge 결과 확인하기"
      ]
    },
    {
      "cell_type": "code",
      "metadata": {
        "id": "5_5jk_0qf--o",
        "outputId": "17fe7f24-4a45-4da1-9334-13ac40103422",
        "colab": {
          "base_uri": "https://localhost:8080/",
          "height": 204
        }
      },
      "source": [
        "df.head()"
      ],
      "execution_count": 203,
      "outputs": [
        {
          "output_type": "execute_result",
          "data": {
            "text/html": [
              "<div>\n",
              "<style scoped>\n",
              "    .dataframe tbody tr th:only-of-type {\n",
              "        vertical-align: middle;\n",
              "    }\n",
              "\n",
              "    .dataframe tbody tr th {\n",
              "        vertical-align: top;\n",
              "    }\n",
              "\n",
              "    .dataframe thead th {\n",
              "        text-align: right;\n",
              "    }\n",
              "</style>\n",
              "<table border=\"1\" class=\"dataframe\">\n",
              "  <thead>\n",
              "    <tr style=\"text-align: right;\">\n",
              "      <th></th>\n",
              "      <th>day</th>\n",
              "      <th>hour</th>\n",
              "      <th>precipitation_강수</th>\n",
              "      <th>precipitation_shape_강수형태</th>\n",
              "      <th>temperature_기온</th>\n",
              "      <th>humidity_습도</th>\n",
              "      <th>wind_풍향</th>\n",
              "      <th>wind_spped_풍속</th>\n",
              "    </tr>\n",
              "  </thead>\n",
              "  <tbody>\n",
              "    <tr>\n",
              "      <th>0</th>\n",
              "      <td>1</td>\n",
              "      <td>0.0</td>\n",
              "      <td>0.0</td>\n",
              "      <td>0.0</td>\n",
              "      <td>23.900000</td>\n",
              "      <td>63.0</td>\n",
              "      <td>29.0</td>\n",
              "      <td>0.8</td>\n",
              "    </tr>\n",
              "    <tr>\n",
              "      <th>1</th>\n",
              "      <td>1</td>\n",
              "      <td>100.0</td>\n",
              "      <td>0.0</td>\n",
              "      <td>0.0</td>\n",
              "      <td>25.400000</td>\n",
              "      <td>60.0</td>\n",
              "      <td>183.0</td>\n",
              "      <td>1.6</td>\n",
              "    </tr>\n",
              "    <tr>\n",
              "      <th>2</th>\n",
              "      <td>1</td>\n",
              "      <td>200.0</td>\n",
              "      <td>0.0</td>\n",
              "      <td>0.0</td>\n",
              "      <td>26.799999</td>\n",
              "      <td>56.0</td>\n",
              "      <td>122.0</td>\n",
              "      <td>1.6</td>\n",
              "    </tr>\n",
              "    <tr>\n",
              "      <th>3</th>\n",
              "      <td>1</td>\n",
              "      <td>300.0</td>\n",
              "      <td>0.0</td>\n",
              "      <td>0.0</td>\n",
              "      <td>26.799999</td>\n",
              "      <td>57.0</td>\n",
              "      <td>64.0</td>\n",
              "      <td>1.9</td>\n",
              "    </tr>\n",
              "    <tr>\n",
              "      <th>4</th>\n",
              "      <td>1</td>\n",
              "      <td>400.0</td>\n",
              "      <td>0.0</td>\n",
              "      <td>0.0</td>\n",
              "      <td>27.400000</td>\n",
              "      <td>59.0</td>\n",
              "      <td>127.0</td>\n",
              "      <td>1.5</td>\n",
              "    </tr>\n",
              "  </tbody>\n",
              "</table>\n",
              "</div>"
            ],
            "text/plain": [
              "  day   hour  precipitation_강수  ...  humidity_습도  wind_풍향  wind_spped_풍속\n",
              "0   1    0.0               0.0  ...         63.0     29.0            0.8\n",
              "1   1  100.0               0.0  ...         60.0    183.0            1.6\n",
              "2   1  200.0               0.0  ...         56.0    122.0            1.6\n",
              "3   1  300.0               0.0  ...         57.0     64.0            1.9\n",
              "4   1  400.0               0.0  ...         59.0    127.0            1.5\n",
              "\n",
              "[5 rows x 8 columns]"
            ]
          },
          "metadata": {
            "tags": []
          },
          "execution_count": 203
        }
      ]
    },
    {
      "cell_type": "markdown",
      "metadata": {
        "id": "MmmkCeZArb27"
      },
      "source": [
        "## 시간 데이터 타입 변환\n",
        "\n",
        "- 기존 24시의 표현 변경\n",
        "\n",
        "  0.0, 100.0, 200.0\n",
        "\n",
        "  0, 1, 2, 3\n",
        "\n",
        "- ~~day int로 변경~~\n",
        "- day를 datetime 형식으로 변경.\n",
        "\n",
        "시각화할 때 구분이 가지 않음.\n"
      ]
    },
    {
      "cell_type": "code",
      "metadata": {
        "id": "H2d-eAj6qqAP"
      },
      "source": [
        "def hour_regulation(hour: float):\n",
        "  return int(hour / 100)"
      ],
      "execution_count": 204,
      "outputs": []
    },
    {
      "cell_type": "code",
      "metadata": {
        "id": "iNdJoKgyV-KT"
      },
      "source": [
        "df_day_idx = pd.date_range('2019-10-01', periods=366)"
      ],
      "execution_count": 205,
      "outputs": []
    },
    {
      "cell_type": "code",
      "metadata": {
        "id": "zU9L8xoMWQXZ",
        "outputId": "dcdedf32-88e9-4ba6-a22a-bb90bc7e94a0",
        "colab": {
          "base_uri": "https://localhost:8080/",
          "height": 34
        }
      },
      "source": [
        "dates = [[str(day).split(\"T\")[0]] * 24 for day in df_day_idx.values]\n",
        "len(np.array(dates).flatten())"
      ],
      "execution_count": 206,
      "outputs": [
        {
          "output_type": "execute_result",
          "data": {
            "text/plain": [
              "8784"
            ]
          },
          "metadata": {
            "tags": []
          },
          "execution_count": 206
        }
      ]
    },
    {
      "cell_type": "code",
      "metadata": {
        "id": "aHnRdNsXgvcR",
        "outputId": "837906e9-8345-4d94-f108-cbaf0e4c1a46",
        "colab": {
          "base_uri": "https://localhost:8080/",
          "height": 279
        }
      },
      "source": [
        "df.hour = df.hour.apply(hour_regulation)\n",
        "df.index = np.array(dates).flatten()\n",
        "df.day = df.day.apply(lambda x: int(x))\n",
        "\n",
        "df.info()"
      ],
      "execution_count": 221,
      "outputs": [
        {
          "output_type": "stream",
          "text": [
            "<class 'pandas.core.frame.DataFrame'>\n",
            "Index: 8784 entries, 2019-10-01 to 2020-09-30\n",
            "Data columns (total 8 columns):\n",
            " #   Column                    Non-Null Count  Dtype  \n",
            "---  ------                    --------------  -----  \n",
            " 0   day                       8784 non-null   int64  \n",
            " 1   hour                      8784 non-null   int64  \n",
            " 2   precipitation_강수          8784 non-null   float64\n",
            " 3   precipitation_shape_강수형태  8784 non-null   float64\n",
            " 4   temperature_기온            8784 non-null   float64\n",
            " 5   humidity_습도               8784 non-null   float64\n",
            " 6   wind_풍향                   8784 non-null   float64\n",
            " 7   wind_spped_풍속             8784 non-null   float64\n",
            "dtypes: float64(6), int64(2)\n",
            "memory usage: 617.6+ KB\n"
          ],
          "name": "stdout"
        }
      ]
    },
    {
      "cell_type": "code",
      "metadata": {
        "id": "N079Y0TuLz6a",
        "outputId": "785e088b-443c-413c-dbd0-3b76deec4836",
        "colab": {
          "base_uri": "https://localhost:8080/",
          "height": 297
        }
      },
      "source": [
        "df.describe()"
      ],
      "execution_count": 222,
      "outputs": [
        {
          "output_type": "execute_result",
          "data": {
            "text/html": [
              "<div>\n",
              "<style scoped>\n",
              "    .dataframe tbody tr th:only-of-type {\n",
              "        vertical-align: middle;\n",
              "    }\n",
              "\n",
              "    .dataframe tbody tr th {\n",
              "        vertical-align: top;\n",
              "    }\n",
              "\n",
              "    .dataframe thead th {\n",
              "        text-align: right;\n",
              "    }\n",
              "</style>\n",
              "<table border=\"1\" class=\"dataframe\">\n",
              "  <thead>\n",
              "    <tr style=\"text-align: right;\">\n",
              "      <th></th>\n",
              "      <th>day</th>\n",
              "      <th>hour</th>\n",
              "      <th>precipitation_강수</th>\n",
              "      <th>precipitation_shape_강수형태</th>\n",
              "      <th>temperature_기온</th>\n",
              "      <th>humidity_습도</th>\n",
              "      <th>wind_풍향</th>\n",
              "      <th>wind_spped_풍속</th>\n",
              "    </tr>\n",
              "  </thead>\n",
              "  <tbody>\n",
              "    <tr>\n",
              "      <th>count</th>\n",
              "      <td>8784.000000</td>\n",
              "      <td>8784.000000</td>\n",
              "      <td>8784.000000</td>\n",
              "      <td>8784.000000</td>\n",
              "      <td>8784.000000</td>\n",
              "      <td>8784.000000</td>\n",
              "      <td>8784.000000</td>\n",
              "      <td>8784.000000</td>\n",
              "    </tr>\n",
              "    <tr>\n",
              "      <th>mean</th>\n",
              "      <td>15.756831</td>\n",
              "      <td>11.500000</td>\n",
              "      <td>0.196949</td>\n",
              "      <td>0.062614</td>\n",
              "      <td>14.088300</td>\n",
              "      <td>64.937642</td>\n",
              "      <td>204.207536</td>\n",
              "      <td>1.900979</td>\n",
              "    </tr>\n",
              "    <tr>\n",
              "      <th>std</th>\n",
              "      <td>8.812031</td>\n",
              "      <td>6.922581</td>\n",
              "      <td>1.323931</td>\n",
              "      <td>0.259086</td>\n",
              "      <td>9.784082</td>\n",
              "      <td>20.315112</td>\n",
              "      <td>120.908576</td>\n",
              "      <td>1.218408</td>\n",
              "    </tr>\n",
              "    <tr>\n",
              "      <th>min</th>\n",
              "      <td>1.000000</td>\n",
              "      <td>0.000000</td>\n",
              "      <td>0.000000</td>\n",
              "      <td>0.000000</td>\n",
              "      <td>-12.150000</td>\n",
              "      <td>10.000000</td>\n",
              "      <td>0.000000</td>\n",
              "      <td>0.000000</td>\n",
              "    </tr>\n",
              "    <tr>\n",
              "      <th>25%</th>\n",
              "      <td>8.000000</td>\n",
              "      <td>5.750000</td>\n",
              "      <td>0.000000</td>\n",
              "      <td>0.000000</td>\n",
              "      <td>5.800000</td>\n",
              "      <td>50.000000</td>\n",
              "      <td>82.000000</td>\n",
              "      <td>1.000000</td>\n",
              "    </tr>\n",
              "    <tr>\n",
              "      <th>50%</th>\n",
              "      <td>16.000000</td>\n",
              "      <td>11.500000</td>\n",
              "      <td>0.000000</td>\n",
              "      <td>0.000000</td>\n",
              "      <td>14.500000</td>\n",
              "      <td>65.000000</td>\n",
              "      <td>239.000000</td>\n",
              "      <td>1.600000</td>\n",
              "    </tr>\n",
              "    <tr>\n",
              "      <th>75%</th>\n",
              "      <td>23.000000</td>\n",
              "      <td>17.250000</td>\n",
              "      <td>0.000000</td>\n",
              "      <td>0.000000</td>\n",
              "      <td>22.700001</td>\n",
              "      <td>82.000000</td>\n",
              "      <td>314.000000</td>\n",
              "      <td>2.600000</td>\n",
              "    </tr>\n",
              "    <tr>\n",
              "      <th>max</th>\n",
              "      <td>31.000000</td>\n",
              "      <td>23.000000</td>\n",
              "      <td>43.000000</td>\n",
              "      <td>3.000000</td>\n",
              "      <td>36.700001</td>\n",
              "      <td>97.000000</td>\n",
              "      <td>360.000000</td>\n",
              "      <td>12.800000</td>\n",
              "    </tr>\n",
              "  </tbody>\n",
              "</table>\n",
              "</div>"
            ],
            "text/plain": [
              "               day         hour  ...      wind_풍향  wind_spped_풍속\n",
              "count  8784.000000  8784.000000  ...  8784.000000    8784.000000\n",
              "mean     15.756831    11.500000  ...   204.207536       1.900979\n",
              "std       8.812031     6.922581  ...   120.908576       1.218408\n",
              "min       1.000000     0.000000  ...     0.000000       0.000000\n",
              "25%       8.000000     5.750000  ...    82.000000       1.000000\n",
              "50%      16.000000    11.500000  ...   239.000000       1.600000\n",
              "75%      23.000000    17.250000  ...   314.000000       2.600000\n",
              "max      31.000000    23.000000  ...   360.000000      12.800000\n",
              "\n",
              "[8 rows x 8 columns]"
            ]
          },
          "metadata": {
            "tags": []
          },
          "execution_count": 222
        }
      ]
    },
    {
      "cell_type": "markdown",
      "metadata": {
        "id": "At0LIYNGhf8r"
      },
      "source": [
        "### 이상 데이터 확인\n",
        "\n",
        "강수, 강수 형태, 습도, 풍향, 풍속의 최소 값이 `-1`이고\n",
        "\n",
        "기온이 `-50도`인 것은 정규화가 필요하다고 판단."
      ]
    },
    {
      "cell_type": "code",
      "metadata": {
        "id": "pl6cHLidksr5",
        "outputId": "39b60b14-4739-4f16-daca-39c79c30d813",
        "colab": {
          "base_uri": "https://localhost:8080/",
          "height": 34
        }
      },
      "source": [
        "df[df['temperature_기온'] == -50].index"
      ],
      "execution_count": 208,
      "outputs": [
        {
          "output_type": "execute_result",
          "data": {
            "text/plain": [
              "Int64Index([514, 1057, 2271, 3468, 3475, 3481, 4183, 4661, 5487], dtype='int64')"
            ]
          },
          "metadata": {
            "tags": []
          },
          "execution_count": 208
        }
      ]
    },
    {
      "cell_type": "markdown",
      "metadata": {
        "id": "ATALO_JlvD-u"
      },
      "source": [
        "- 이상 데이터의 인덱스 확인"
      ]
    },
    {
      "cell_type": "markdown",
      "metadata": {
        "id": "4QNIAOO8vKDb"
      },
      "source": [
        "### 이상 데이터 정규화\n",
        "\n",
        "- 습도와 기온은 +-2일 값의 평균으로 적용\n",
        "- 나머지 값은 0으로 적용"
      ]
    },
    {
      "cell_type": "code",
      "metadata": {
        "id": "cmokaZiihfU-"
      },
      "source": [
        "import numpy as np \n",
        "\n",
        "for x in df[df['wind_풍향'] <= -1].index:\n",
        "  seq = int(x)\n",
        "  df['temperature_기온'][seq] = np.mean((df.iloc[seq-2:seq, 4], df.iloc[seq+1:seq+3, 4]))\n",
        "  df['humidity_습도'][seq] = np.mean((df.iloc[seq-2:seq, 5], df.iloc[seq+1:seq+3, 5]))\n",
        "  df['wind_spped_풍속'][seq] = 0.0\n",
        "  df['precipitation_shape_강수형태'][seq] = 0.0\n",
        "  df['precipitation_강수'][seq] = 0.0\n",
        "  df['wind_풍향'][seq] = 0.0\n"
      ],
      "execution_count": 223,
      "outputs": []
    },
    {
      "cell_type": "code",
      "metadata": {
        "id": "CeChrsmZmlkS",
        "outputId": "feed1cd6-91f4-473a-c4c9-90ee61381c57",
        "colab": {
          "base_uri": "https://localhost:8080/",
          "height": 80
        }
      },
      "source": [
        "df[df['humidity_습도'] <= 10.0]"
      ],
      "execution_count": 210,
      "outputs": [
        {
          "output_type": "execute_result",
          "data": {
            "text/html": [
              "<div>\n",
              "<style scoped>\n",
              "    .dataframe tbody tr th:only-of-type {\n",
              "        vertical-align: middle;\n",
              "    }\n",
              "\n",
              "    .dataframe tbody tr th {\n",
              "        vertical-align: top;\n",
              "    }\n",
              "\n",
              "    .dataframe thead th {\n",
              "        text-align: right;\n",
              "    }\n",
              "</style>\n",
              "<table border=\"1\" class=\"dataframe\">\n",
              "  <thead>\n",
              "    <tr style=\"text-align: right;\">\n",
              "      <th></th>\n",
              "      <th>day</th>\n",
              "      <th>hour</th>\n",
              "      <th>precipitation_강수</th>\n",
              "      <th>precipitation_shape_강수형태</th>\n",
              "      <th>temperature_기온</th>\n",
              "      <th>humidity_습도</th>\n",
              "      <th>wind_풍향</th>\n",
              "      <th>wind_spped_풍속</th>\n",
              "    </tr>\n",
              "  </thead>\n",
              "  <tbody>\n",
              "    <tr>\n",
              "      <th>5291</th>\n",
              "      <td>8</td>\n",
              "      <td>400.0</td>\n",
              "      <td>0.0</td>\n",
              "      <td>0.0</td>\n",
              "      <td>26.1</td>\n",
              "      <td>10.0</td>\n",
              "      <td>136.0</td>\n",
              "      <td>2.5</td>\n",
              "    </tr>\n",
              "  </tbody>\n",
              "</table>\n",
              "</div>"
            ],
            "text/plain": [
              "     day   hour  precipitation_강수  ...  humidity_습도  wind_풍향  wind_spped_풍속\n",
              "5291   8  400.0               0.0  ...         10.0    136.0            2.5\n",
              "\n",
              "[1 rows x 8 columns]"
            ]
          },
          "metadata": {
            "tags": []
          },
          "execution_count": 210
        }
      ]
    },
    {
      "cell_type": "code",
      "metadata": {
        "id": "8yYZNVqlvedE",
        "outputId": "aab20ea3-6296-450c-cecd-aa6237d73f4a",
        "colab": {
          "base_uri": "https://localhost:8080/",
          "height": 49
        }
      },
      "source": [
        "df[df['temperature_기온'] <= -50]"
      ],
      "execution_count": 211,
      "outputs": [
        {
          "output_type": "execute_result",
          "data": {
            "text/html": [
              "<div>\n",
              "<style scoped>\n",
              "    .dataframe tbody tr th:only-of-type {\n",
              "        vertical-align: middle;\n",
              "    }\n",
              "\n",
              "    .dataframe tbody tr th {\n",
              "        vertical-align: top;\n",
              "    }\n",
              "\n",
              "    .dataframe thead th {\n",
              "        text-align: right;\n",
              "    }\n",
              "</style>\n",
              "<table border=\"1\" class=\"dataframe\">\n",
              "  <thead>\n",
              "    <tr style=\"text-align: right;\">\n",
              "      <th></th>\n",
              "      <th>day</th>\n",
              "      <th>hour</th>\n",
              "      <th>precipitation_강수</th>\n",
              "      <th>precipitation_shape_강수형태</th>\n",
              "      <th>temperature_기온</th>\n",
              "      <th>humidity_습도</th>\n",
              "      <th>wind_풍향</th>\n",
              "      <th>wind_spped_풍속</th>\n",
              "    </tr>\n",
              "  </thead>\n",
              "  <tbody>\n",
              "  </tbody>\n",
              "</table>\n",
              "</div>"
            ],
            "text/plain": [
              "Empty DataFrame\n",
              "Columns: [day, hour, precipitation_강수, precipitation_shape_강수형태, temperature_기온, humidity_습도, wind_풍향, wind_spped_풍속]\n",
              "Index: []"
            ]
          },
          "metadata": {
            "tags": []
          },
          "execution_count": 211
        }
      ]
    },
    {
      "cell_type": "code",
      "metadata": {
        "id": "Itrqc6VulnnE",
        "outputId": "ac8e5308-9796-42b0-d4f0-f0150150d59b",
        "colab": {
          "base_uri": "https://localhost:8080/",
          "height": 111
        }
      },
      "source": [
        "df.iloc[1055: 1057, :]"
      ],
      "execution_count": 212,
      "outputs": [
        {
          "output_type": "execute_result",
          "data": {
            "text/html": [
              "<div>\n",
              "<style scoped>\n",
              "    .dataframe tbody tr th:only-of-type {\n",
              "        vertical-align: middle;\n",
              "    }\n",
              "\n",
              "    .dataframe tbody tr th {\n",
              "        vertical-align: top;\n",
              "    }\n",
              "\n",
              "    .dataframe thead th {\n",
              "        text-align: right;\n",
              "    }\n",
              "</style>\n",
              "<table border=\"1\" class=\"dataframe\">\n",
              "  <thead>\n",
              "    <tr style=\"text-align: right;\">\n",
              "      <th></th>\n",
              "      <th>day</th>\n",
              "      <th>hour</th>\n",
              "      <th>precipitation_강수</th>\n",
              "      <th>precipitation_shape_강수형태</th>\n",
              "      <th>temperature_기온</th>\n",
              "      <th>humidity_습도</th>\n",
              "      <th>wind_풍향</th>\n",
              "      <th>wind_spped_풍속</th>\n",
              "    </tr>\n",
              "  </thead>\n",
              "  <tbody>\n",
              "    <tr>\n",
              "      <th>1056</th>\n",
              "      <td>13</td>\n",
              "      <td>2300.0</td>\n",
              "      <td>0.0</td>\n",
              "      <td>0.0</td>\n",
              "      <td>0.40</td>\n",
              "      <td>24.00</td>\n",
              "      <td>2.0</td>\n",
              "      <td>3.2</td>\n",
              "    </tr>\n",
              "    <tr>\n",
              "      <th>1057</th>\n",
              "      <td>14</td>\n",
              "      <td>0.0</td>\n",
              "      <td>0.0</td>\n",
              "      <td>0.0</td>\n",
              "      <td>-10.55</td>\n",
              "      <td>21.25</td>\n",
              "      <td>0.0</td>\n",
              "      <td>0.0</td>\n",
              "    </tr>\n",
              "  </tbody>\n",
              "</table>\n",
              "</div>"
            ],
            "text/plain": [
              "      day    hour  precipitation_강수  ...  humidity_습도  wind_풍향  wind_spped_풍속\n",
              "1056   13  2300.0               0.0  ...        24.00      2.0            3.2\n",
              "1057   14     0.0               0.0  ...        21.25      0.0            0.0\n",
              "\n",
              "[2 rows x 8 columns]"
            ]
          },
          "metadata": {
            "tags": []
          },
          "execution_count": 212
        }
      ]
    },
    {
      "cell_type": "code",
      "metadata": {
        "id": "-7q1Zungugvu",
        "outputId": "dbcb3377-5129-4a11-fc35-6efd062f241b",
        "colab": {
          "base_uri": "https://localhost:8080/",
          "height": 49
        }
      },
      "source": [
        "df[df['wind_풍향'] <= -1]"
      ],
      "execution_count": 213,
      "outputs": [
        {
          "output_type": "execute_result",
          "data": {
            "text/html": [
              "<div>\n",
              "<style scoped>\n",
              "    .dataframe tbody tr th:only-of-type {\n",
              "        vertical-align: middle;\n",
              "    }\n",
              "\n",
              "    .dataframe tbody tr th {\n",
              "        vertical-align: top;\n",
              "    }\n",
              "\n",
              "    .dataframe thead th {\n",
              "        text-align: right;\n",
              "    }\n",
              "</style>\n",
              "<table border=\"1\" class=\"dataframe\">\n",
              "  <thead>\n",
              "    <tr style=\"text-align: right;\">\n",
              "      <th></th>\n",
              "      <th>day</th>\n",
              "      <th>hour</th>\n",
              "      <th>precipitation_강수</th>\n",
              "      <th>precipitation_shape_강수형태</th>\n",
              "      <th>temperature_기온</th>\n",
              "      <th>humidity_습도</th>\n",
              "      <th>wind_풍향</th>\n",
              "      <th>wind_spped_풍속</th>\n",
              "    </tr>\n",
              "  </thead>\n",
              "  <tbody>\n",
              "  </tbody>\n",
              "</table>\n",
              "</div>"
            ],
            "text/plain": [
              "Empty DataFrame\n",
              "Columns: [day, hour, precipitation_강수, precipitation_shape_강수형태, temperature_기온, humidity_습도, wind_풍향, wind_spped_풍속]\n",
              "Index: []"
            ]
          },
          "metadata": {
            "tags": []
          },
          "execution_count": 213
        }
      ]
    },
    {
      "cell_type": "code",
      "metadata": {
        "id": "U8r-QOe9ua6U",
        "outputId": "cdd2a78f-b4bc-4c70-a371-50ed399ab86c",
        "colab": {
          "base_uri": "https://localhost:8080/",
          "height": 297
        }
      },
      "source": [
        "df.describe()"
      ],
      "execution_count": 214,
      "outputs": [
        {
          "output_type": "execute_result",
          "data": {
            "text/html": [
              "<div>\n",
              "<style scoped>\n",
              "    .dataframe tbody tr th:only-of-type {\n",
              "        vertical-align: middle;\n",
              "    }\n",
              "\n",
              "    .dataframe tbody tr th {\n",
              "        vertical-align: top;\n",
              "    }\n",
              "\n",
              "    .dataframe thead th {\n",
              "        text-align: right;\n",
              "    }\n",
              "</style>\n",
              "<table border=\"1\" class=\"dataframe\">\n",
              "  <thead>\n",
              "    <tr style=\"text-align: right;\">\n",
              "      <th></th>\n",
              "      <th>hour</th>\n",
              "      <th>precipitation_강수</th>\n",
              "      <th>precipitation_shape_강수형태</th>\n",
              "      <th>temperature_기온</th>\n",
              "      <th>humidity_습도</th>\n",
              "      <th>wind_풍향</th>\n",
              "      <th>wind_spped_풍속</th>\n",
              "    </tr>\n",
              "  </thead>\n",
              "  <tbody>\n",
              "    <tr>\n",
              "      <th>count</th>\n",
              "      <td>8784.000000</td>\n",
              "      <td>8784.000000</td>\n",
              "      <td>8784.000000</td>\n",
              "      <td>8784.000000</td>\n",
              "      <td>8784.000000</td>\n",
              "      <td>8784.000000</td>\n",
              "      <td>8784.000000</td>\n",
              "    </tr>\n",
              "    <tr>\n",
              "      <th>mean</th>\n",
              "      <td>1150.000000</td>\n",
              "      <td>0.196949</td>\n",
              "      <td>0.062614</td>\n",
              "      <td>14.088300</td>\n",
              "      <td>64.937642</td>\n",
              "      <td>204.207536</td>\n",
              "      <td>1.900979</td>\n",
              "    </tr>\n",
              "    <tr>\n",
              "      <th>std</th>\n",
              "      <td>692.258061</td>\n",
              "      <td>1.323931</td>\n",
              "      <td>0.259086</td>\n",
              "      <td>9.784082</td>\n",
              "      <td>20.315112</td>\n",
              "      <td>120.908576</td>\n",
              "      <td>1.218408</td>\n",
              "    </tr>\n",
              "    <tr>\n",
              "      <th>min</th>\n",
              "      <td>0.000000</td>\n",
              "      <td>0.000000</td>\n",
              "      <td>0.000000</td>\n",
              "      <td>-12.150000</td>\n",
              "      <td>10.000000</td>\n",
              "      <td>0.000000</td>\n",
              "      <td>0.000000</td>\n",
              "    </tr>\n",
              "    <tr>\n",
              "      <th>25%</th>\n",
              "      <td>575.000000</td>\n",
              "      <td>0.000000</td>\n",
              "      <td>0.000000</td>\n",
              "      <td>5.800000</td>\n",
              "      <td>50.000000</td>\n",
              "      <td>82.000000</td>\n",
              "      <td>1.000000</td>\n",
              "    </tr>\n",
              "    <tr>\n",
              "      <th>50%</th>\n",
              "      <td>1150.000000</td>\n",
              "      <td>0.000000</td>\n",
              "      <td>0.000000</td>\n",
              "      <td>14.500000</td>\n",
              "      <td>65.000000</td>\n",
              "      <td>239.000000</td>\n",
              "      <td>1.600000</td>\n",
              "    </tr>\n",
              "    <tr>\n",
              "      <th>75%</th>\n",
              "      <td>1725.000000</td>\n",
              "      <td>0.000000</td>\n",
              "      <td>0.000000</td>\n",
              "      <td>22.700001</td>\n",
              "      <td>82.000000</td>\n",
              "      <td>314.000000</td>\n",
              "      <td>2.600000</td>\n",
              "    </tr>\n",
              "    <tr>\n",
              "      <th>max</th>\n",
              "      <td>2300.000000</td>\n",
              "      <td>43.000000</td>\n",
              "      <td>3.000000</td>\n",
              "      <td>36.700001</td>\n",
              "      <td>97.000000</td>\n",
              "      <td>360.000000</td>\n",
              "      <td>12.800000</td>\n",
              "    </tr>\n",
              "  </tbody>\n",
              "</table>\n",
              "</div>"
            ],
            "text/plain": [
              "              hour  precipitation_강수  ...      wind_풍향  wind_spped_풍속\n",
              "count  8784.000000       8784.000000  ...  8784.000000    8784.000000\n",
              "mean   1150.000000          0.196949  ...   204.207536       1.900979\n",
              "std     692.258061          1.323931  ...   120.908576       1.218408\n",
              "min       0.000000          0.000000  ...     0.000000       0.000000\n",
              "25%     575.000000          0.000000  ...    82.000000       1.000000\n",
              "50%    1150.000000          0.000000  ...   239.000000       1.600000\n",
              "75%    1725.000000          0.000000  ...   314.000000       2.600000\n",
              "max    2300.000000         43.000000  ...   360.000000      12.800000\n",
              "\n",
              "[8 rows x 7 columns]"
            ]
          },
          "metadata": {
            "tags": []
          },
          "execution_count": 214
        }
      ]
    },
    {
      "cell_type": "code",
      "metadata": {
        "id": "YJw1aH31_9M5",
        "outputId": "a7bf9614-ab66-4ca8-fc18-36b045151924",
        "colab": {
          "base_uri": "https://localhost:8080/",
          "height": 359
        }
      },
      "source": [
        "df[df['precipitation_shape_강수형태'] == 3.]"
      ],
      "execution_count": 215,
      "outputs": [
        {
          "output_type": "execute_result",
          "data": {
            "text/html": [
              "<div>\n",
              "<style scoped>\n",
              "    .dataframe tbody tr th:only-of-type {\n",
              "        vertical-align: middle;\n",
              "    }\n",
              "\n",
              "    .dataframe tbody tr th {\n",
              "        vertical-align: top;\n",
              "    }\n",
              "\n",
              "    .dataframe thead th {\n",
              "        text-align: right;\n",
              "    }\n",
              "</style>\n",
              "<table border=\"1\" class=\"dataframe\">\n",
              "  <thead>\n",
              "    <tr style=\"text-align: right;\">\n",
              "      <th></th>\n",
              "      <th>day</th>\n",
              "      <th>hour</th>\n",
              "      <th>precipitation_강수</th>\n",
              "      <th>precipitation_shape_강수형태</th>\n",
              "      <th>temperature_기온</th>\n",
              "      <th>humidity_습도</th>\n",
              "      <th>wind_풍향</th>\n",
              "      <th>wind_spped_풍속</th>\n",
              "    </tr>\n",
              "  </thead>\n",
              "  <tbody>\n",
              "    <tr>\n",
              "      <th>2332</th>\n",
              "      <td>6</td>\n",
              "      <td>100.0</td>\n",
              "      <td>0.0</td>\n",
              "      <td>3.0</td>\n",
              "      <td>4.0</td>\n",
              "      <td>53.0</td>\n",
              "      <td>87.0</td>\n",
              "      <td>0.6</td>\n",
              "    </tr>\n",
              "    <tr>\n",
              "      <th>3035</th>\n",
              "      <td>4</td>\n",
              "      <td>700.0</td>\n",
              "      <td>0.0</td>\n",
              "      <td>3.0</td>\n",
              "      <td>1.7</td>\n",
              "      <td>86.0</td>\n",
              "      <td>224.0</td>\n",
              "      <td>3.3</td>\n",
              "    </tr>\n",
              "    <tr>\n",
              "      <th>3039</th>\n",
              "      <td>4</td>\n",
              "      <td>1100.0</td>\n",
              "      <td>0.0</td>\n",
              "      <td>3.0</td>\n",
              "      <td>-1.0</td>\n",
              "      <td>77.0</td>\n",
              "      <td>316.0</td>\n",
              "      <td>5.6</td>\n",
              "    </tr>\n",
              "    <tr>\n",
              "      <th>3318</th>\n",
              "      <td>16</td>\n",
              "      <td>200.0</td>\n",
              "      <td>0.0</td>\n",
              "      <td>3.0</td>\n",
              "      <td>-0.3</td>\n",
              "      <td>81.0</td>\n",
              "      <td>261.0</td>\n",
              "      <td>2.9</td>\n",
              "    </tr>\n",
              "    <tr>\n",
              "      <th>3319</th>\n",
              "      <td>16</td>\n",
              "      <td>300.0</td>\n",
              "      <td>0.0</td>\n",
              "      <td>3.0</td>\n",
              "      <td>-0.2</td>\n",
              "      <td>80.0</td>\n",
              "      <td>248.0</td>\n",
              "      <td>3.4</td>\n",
              "    </tr>\n",
              "    <tr>\n",
              "      <th>3322</th>\n",
              "      <td>16</td>\n",
              "      <td>600.0</td>\n",
              "      <td>0.0</td>\n",
              "      <td>3.0</td>\n",
              "      <td>-0.8</td>\n",
              "      <td>68.0</td>\n",
              "      <td>287.0</td>\n",
              "      <td>6.1</td>\n",
              "    </tr>\n",
              "    <tr>\n",
              "      <th>3323</th>\n",
              "      <td>16</td>\n",
              "      <td>700.0</td>\n",
              "      <td>0.0</td>\n",
              "      <td>3.0</td>\n",
              "      <td>-1.8</td>\n",
              "      <td>76.0</td>\n",
              "      <td>280.0</td>\n",
              "      <td>4.5</td>\n",
              "    </tr>\n",
              "    <tr>\n",
              "      <th>3330</th>\n",
              "      <td>16</td>\n",
              "      <td>1400.0</td>\n",
              "      <td>0.0</td>\n",
              "      <td>3.0</td>\n",
              "      <td>-3.3</td>\n",
              "      <td>75.0</td>\n",
              "      <td>249.0</td>\n",
              "      <td>2.3</td>\n",
              "    </tr>\n",
              "    <tr>\n",
              "      <th>3332</th>\n",
              "      <td>16</td>\n",
              "      <td>1600.0</td>\n",
              "      <td>0.0</td>\n",
              "      <td>3.0</td>\n",
              "      <td>-3.6</td>\n",
              "      <td>84.0</td>\n",
              "      <td>281.0</td>\n",
              "      <td>1.8</td>\n",
              "    </tr>\n",
              "    <tr>\n",
              "      <th>3338</th>\n",
              "      <td>16</td>\n",
              "      <td>2200.0</td>\n",
              "      <td>0.0</td>\n",
              "      <td>3.0</td>\n",
              "      <td>-6.2</td>\n",
              "      <td>74.0</td>\n",
              "      <td>340.0</td>\n",
              "      <td>2.1</td>\n",
              "    </tr>\n",
              "  </tbody>\n",
              "</table>\n",
              "</div>"
            ],
            "text/plain": [
              "      day    hour  precipitation_강수  ...  humidity_습도  wind_풍향  wind_spped_풍속\n",
              "2332    6   100.0               0.0  ...         53.0     87.0            0.6\n",
              "3035    4   700.0               0.0  ...         86.0    224.0            3.3\n",
              "3039    4  1100.0               0.0  ...         77.0    316.0            5.6\n",
              "3318   16   200.0               0.0  ...         81.0    261.0            2.9\n",
              "3319   16   300.0               0.0  ...         80.0    248.0            3.4\n",
              "3322   16   600.0               0.0  ...         68.0    287.0            6.1\n",
              "3323   16   700.0               0.0  ...         76.0    280.0            4.5\n",
              "3330   16  1400.0               0.0  ...         75.0    249.0            2.3\n",
              "3332   16  1600.0               0.0  ...         84.0    281.0            1.8\n",
              "3338   16  2200.0               0.0  ...         74.0    340.0            2.1\n",
              "\n",
              "[10 rows x 8 columns]"
            ]
          },
          "metadata": {
            "tags": []
          },
          "execution_count": 215
        }
      ]
    },
    {
      "cell_type": "markdown",
      "metadata": {
        "id": "8DtVJx-UNC7c"
      },
      "source": [
        "# 시각화"
      ]
    },
    {
      "cell_type": "code",
      "metadata": {
        "id": "MNA2wEtk8AnV"
      },
      "source": [
        "import matplotlib as mpl\n",
        "import matplotlib.pyplot as plt\n",
        "import seaborn as sns"
      ],
      "execution_count": 216,
      "outputs": []
    },
    {
      "cell_type": "markdown",
      "metadata": {
        "id": "4foZOsvZQMss"
      },
      "source": [
        "## 시간에 따른 기온의 변화"
      ]
    },
    {
      "cell_type": "code",
      "metadata": {
        "id": "95e1KJHoTbY0",
        "outputId": "db42ef9c-33ef-4ad3-e7f3-c1a3f2b0974c",
        "colab": {
          "base_uri": "https://localhost:8080/",
          "height": 204
        }
      },
      "source": [
        "df.head()"
      ],
      "execution_count": 217,
      "outputs": [
        {
          "output_type": "execute_result",
          "data": {
            "text/html": [
              "<div>\n",
              "<style scoped>\n",
              "    .dataframe tbody tr th:only-of-type {\n",
              "        vertical-align: middle;\n",
              "    }\n",
              "\n",
              "    .dataframe tbody tr th {\n",
              "        vertical-align: top;\n",
              "    }\n",
              "\n",
              "    .dataframe thead th {\n",
              "        text-align: right;\n",
              "    }\n",
              "</style>\n",
              "<table border=\"1\" class=\"dataframe\">\n",
              "  <thead>\n",
              "    <tr style=\"text-align: right;\">\n",
              "      <th></th>\n",
              "      <th>day</th>\n",
              "      <th>hour</th>\n",
              "      <th>precipitation_강수</th>\n",
              "      <th>precipitation_shape_강수형태</th>\n",
              "      <th>temperature_기온</th>\n",
              "      <th>humidity_습도</th>\n",
              "      <th>wind_풍향</th>\n",
              "      <th>wind_spped_풍속</th>\n",
              "    </tr>\n",
              "  </thead>\n",
              "  <tbody>\n",
              "    <tr>\n",
              "      <th>0</th>\n",
              "      <td>1</td>\n",
              "      <td>0.0</td>\n",
              "      <td>0.0</td>\n",
              "      <td>0.0</td>\n",
              "      <td>23.900000</td>\n",
              "      <td>63.0</td>\n",
              "      <td>29.0</td>\n",
              "      <td>0.8</td>\n",
              "    </tr>\n",
              "    <tr>\n",
              "      <th>1</th>\n",
              "      <td>1</td>\n",
              "      <td>100.0</td>\n",
              "      <td>0.0</td>\n",
              "      <td>0.0</td>\n",
              "      <td>25.400000</td>\n",
              "      <td>60.0</td>\n",
              "      <td>183.0</td>\n",
              "      <td>1.6</td>\n",
              "    </tr>\n",
              "    <tr>\n",
              "      <th>2</th>\n",
              "      <td>1</td>\n",
              "      <td>200.0</td>\n",
              "      <td>0.0</td>\n",
              "      <td>0.0</td>\n",
              "      <td>26.799999</td>\n",
              "      <td>56.0</td>\n",
              "      <td>122.0</td>\n",
              "      <td>1.6</td>\n",
              "    </tr>\n",
              "    <tr>\n",
              "      <th>3</th>\n",
              "      <td>1</td>\n",
              "      <td>300.0</td>\n",
              "      <td>0.0</td>\n",
              "      <td>0.0</td>\n",
              "      <td>26.799999</td>\n",
              "      <td>57.0</td>\n",
              "      <td>64.0</td>\n",
              "      <td>1.9</td>\n",
              "    </tr>\n",
              "    <tr>\n",
              "      <th>4</th>\n",
              "      <td>1</td>\n",
              "      <td>400.0</td>\n",
              "      <td>0.0</td>\n",
              "      <td>0.0</td>\n",
              "      <td>27.400000</td>\n",
              "      <td>59.0</td>\n",
              "      <td>127.0</td>\n",
              "      <td>1.5</td>\n",
              "    </tr>\n",
              "  </tbody>\n",
              "</table>\n",
              "</div>"
            ],
            "text/plain": [
              "  day   hour  precipitation_강수  ...  humidity_습도  wind_풍향  wind_spped_풍속\n",
              "0   1    0.0               0.0  ...         63.0     29.0            0.8\n",
              "1   1  100.0               0.0  ...         60.0    183.0            1.6\n",
              "2   1  200.0               0.0  ...         56.0    122.0            1.6\n",
              "3   1  300.0               0.0  ...         57.0     64.0            1.9\n",
              "4   1  400.0               0.0  ...         59.0    127.0            1.5\n",
              "\n",
              "[5 rows x 8 columns]"
            ]
          },
          "metadata": {
            "tags": []
          },
          "execution_count": 217
        }
      ]
    },
    {
      "cell_type": "code",
      "metadata": {
        "id": "KuuWgDoiXFuO",
        "outputId": "6138f370-a3db-4cdb-d11f-9dffa882c2f7",
        "colab": {
          "base_uri": "https://localhost:8080/",
          "height": 204
        }
      },
      "source": [
        "df.tail()"
      ],
      "execution_count": 218,
      "outputs": [
        {
          "output_type": "execute_result",
          "data": {
            "text/html": [
              "<div>\n",
              "<style scoped>\n",
              "    .dataframe tbody tr th:only-of-type {\n",
              "        vertical-align: middle;\n",
              "    }\n",
              "\n",
              "    .dataframe tbody tr th {\n",
              "        vertical-align: top;\n",
              "    }\n",
              "\n",
              "    .dataframe thead th {\n",
              "        text-align: right;\n",
              "    }\n",
              "</style>\n",
              "<table border=\"1\" class=\"dataframe\">\n",
              "  <thead>\n",
              "    <tr style=\"text-align: right;\">\n",
              "      <th></th>\n",
              "      <th>day</th>\n",
              "      <th>hour</th>\n",
              "      <th>precipitation_강수</th>\n",
              "      <th>precipitation_shape_강수형태</th>\n",
              "      <th>temperature_기온</th>\n",
              "      <th>humidity_습도</th>\n",
              "      <th>wind_풍향</th>\n",
              "      <th>wind_spped_풍속</th>\n",
              "    </tr>\n",
              "  </thead>\n",
              "  <tbody>\n",
              "    <tr>\n",
              "      <th>8790</th>\n",
              "      <td>30</td>\n",
              "      <td>1900.0</td>\n",
              "      <td>0.0</td>\n",
              "      <td>0.0</td>\n",
              "      <td>17.000000</td>\n",
              "      <td>75.0</td>\n",
              "      <td>325.0</td>\n",
              "      <td>0.6</td>\n",
              "    </tr>\n",
              "    <tr>\n",
              "      <th>8791</th>\n",
              "      <td>30</td>\n",
              "      <td>2000.0</td>\n",
              "      <td>0.0</td>\n",
              "      <td>0.0</td>\n",
              "      <td>16.900000</td>\n",
              "      <td>77.0</td>\n",
              "      <td>344.0</td>\n",
              "      <td>0.6</td>\n",
              "    </tr>\n",
              "    <tr>\n",
              "      <th>8792</th>\n",
              "      <td>30</td>\n",
              "      <td>2100.0</td>\n",
              "      <td>0.0</td>\n",
              "      <td>0.0</td>\n",
              "      <td>17.400000</td>\n",
              "      <td>72.0</td>\n",
              "      <td>102.0</td>\n",
              "      <td>0.7</td>\n",
              "    </tr>\n",
              "    <tr>\n",
              "      <th>8793</th>\n",
              "      <td>30</td>\n",
              "      <td>2200.0</td>\n",
              "      <td>0.0</td>\n",
              "      <td>0.0</td>\n",
              "      <td>18.100000</td>\n",
              "      <td>70.0</td>\n",
              "      <td>82.0</td>\n",
              "      <td>1.1</td>\n",
              "    </tr>\n",
              "    <tr>\n",
              "      <th>8794</th>\n",
              "      <td>30</td>\n",
              "      <td>2300.0</td>\n",
              "      <td>0.0</td>\n",
              "      <td>0.0</td>\n",
              "      <td>18.799999</td>\n",
              "      <td>68.0</td>\n",
              "      <td>62.0</td>\n",
              "      <td>1.0</td>\n",
              "    </tr>\n",
              "  </tbody>\n",
              "</table>\n",
              "</div>"
            ],
            "text/plain": [
              "      day    hour  precipitation_강수  ...  humidity_습도  wind_풍향  wind_spped_풍속\n",
              "8790   30  1900.0               0.0  ...         75.0    325.0            0.6\n",
              "8791   30  2000.0               0.0  ...         77.0    344.0            0.6\n",
              "8792   30  2100.0               0.0  ...         72.0    102.0            0.7\n",
              "8793   30  2200.0               0.0  ...         70.0     82.0            1.1\n",
              "8794   30  2300.0               0.0  ...         68.0     62.0            1.0\n",
              "\n",
              "[5 rows x 8 columns]"
            ]
          },
          "metadata": {
            "tags": []
          },
          "execution_count": 218
        }
      ]
    },
    {
      "cell_type": "code",
      "metadata": {
        "id": "X61LufnoHp_3",
        "outputId": "b0acb86e-661e-4509-89c6-b38b582d76d4",
        "colab": {
          "base_uri": "https://localhost:8080/",
          "height": 1000
        }
      },
      "source": [
        "plt.figure(figsize=(25, 15))\n",
        "\n",
        "\n",
        "plt.title('Temperature variation over time')\n",
        "plt.xlabel('day')\n",
        "plt.ylabel('temperature')\n",
        "plt.xticks(rotation=90)\n",
        "sns.barplot(x=df.index, y=df['temperature_기온'])"
      ],
      "execution_count": 237,
      "outputs": [
        {
          "output_type": "execute_result",
          "data": {
            "text/plain": [
              "<matplotlib.axes._subplots.AxesSubplot at 0x7fe6683ef780>"
            ]
          },
          "metadata": {
            "tags": []
          },
          "execution_count": 237
        },
        {
          "output_type": "stream",
          "text": [
            "/usr/local/lib/python3.6/dist-packages/matplotlib/backends/backend_agg.py:214: RuntimeWarning: Glyph 44592 missing from current font.\n",
            "  font.set_text(s, 0.0, flags=flags)\n",
            "/usr/local/lib/python3.6/dist-packages/matplotlib/backends/backend_agg.py:214: RuntimeWarning: Glyph 50728 missing from current font.\n",
            "  font.set_text(s, 0.0, flags=flags)\n",
            "/usr/local/lib/python3.6/dist-packages/matplotlib/backends/backend_agg.py:183: RuntimeWarning: Glyph 44592 missing from current font.\n",
            "  font.set_text(s, 0, flags=flags)\n",
            "/usr/local/lib/python3.6/dist-packages/matplotlib/backends/backend_agg.py:183: RuntimeWarning: Glyph 50728 missing from current font.\n",
            "  font.set_text(s, 0, flags=flags)\n"
          ],
          "name": "stderr"
        },
        {
          "output_type": "display_data",
          "data": {
            "image/png": "[encoded data removed]",
            "text/plain": [
              "<Figure size 1800x1080 with 1 Axes>"
            ]
          },
          "metadata": {
            "tags": [],
            "needs_background": "light"
          }
        }
      ]
    },
    {
      "cell_type": "code",
      "metadata": {
        "id": "_TekjTUfSB5v",
        "outputId": "2d05ae50-3963-479c-b854-4765d3177a6e",
        "colab": {
          "base_uri": "https://localhost:8080/",
          "height": 510
        }
      },
      "source": [
        "sns.distplot(df['temperature_기온'],\n",
        "             hist=True,\n",
        "             kde=True,\n",
        "             rug=True)"
      ],
      "execution_count": 236,
      "outputs": [
        {
          "output_type": "stream",
          "text": [
            "/usr/local/lib/python3.6/dist-packages/seaborn/distributions.py:2551: FutureWarning: `distplot` is a deprecated function and will be removed in a future version. Please adapt your code to use either `displot` (a figure-level function with similar flexibility) or `histplot` (an axes-level function for histograms).\n",
            "  warnings.warn(msg, FutureWarning)\n",
            "/usr/local/lib/python3.6/dist-packages/seaborn/distributions.py:2055: FutureWarning: The `axis` variable is no longer used and will be removed. Instead, assign variables directly to `x` or `y`.\n",
            "  warnings.warn(msg, FutureWarning)\n"
          ],
          "name": "stderr"
        },
        {
          "output_type": "execute_result",
          "data": {
            "text/plain": [
              "<matplotlib.axes._subplots.AxesSubplot at 0x7fe6690c15f8>"
            ]
          },
          "metadata": {
            "tags": []
          },
          "execution_count": 236
        },
        {
          "output_type": "stream",
          "text": [
            "/usr/local/lib/python3.6/dist-packages/matplotlib/backends/backend_agg.py:214: RuntimeWarning: Glyph 44592 missing from current font.\n",
            "  font.set_text(s, 0.0, flags=flags)\n",
            "/usr/local/lib/python3.6/dist-packages/matplotlib/backends/backend_agg.py:214: RuntimeWarning: Glyph 50728 missing from current font.\n",
            "  font.set_text(s, 0.0, flags=flags)\n",
            "/usr/local/lib/python3.6/dist-packages/matplotlib/backends/backend_agg.py:183: RuntimeWarning: Glyph 44592 missing from current font.\n",
            "  font.set_text(s, 0, flags=flags)\n",
            "/usr/local/lib/python3.6/dist-packages/matplotlib/backends/backend_agg.py:183: RuntimeWarning: Glyph 50728 missing from current font.\n",
            "  font.set_text(s, 0, flags=flags)\n"
          ],
          "name": "stderr"
        },
        {
          "output_type": "display_data",
          "data": {
            "image/png": "[encoded data removed]",
            "text/plain": [
              "<Figure size 432x288 with 1 Axes>"
            ]
          },
          "metadata": {
            "tags": [],
            "needs_background": "light"
          }
        }
      ]
    },
    {
      "cell_type": "code",
      "metadata": {
        "id": "Xj6-G19Ikts_",
        "outputId": "51dd903a-24bb-499f-8e31-14c484abfb7e",
        "colab": {
          "base_uri": "https://localhost:8080/",
          "height": 204
        }
      },
      "source": [
        "df.head()"
      ],
      "execution_count": 226,
      "outputs": [
        {
          "output_type": "execute_result",
          "data": {
            "text/html": [
              "<div>\n",
              "<style scoped>\n",
              "    .dataframe tbody tr th:only-of-type {\n",
              "        vertical-align: middle;\n",
              "    }\n",
              "\n",
              "    .dataframe tbody tr th {\n",
              "        vertical-align: top;\n",
              "    }\n",
              "\n",
              "    .dataframe thead th {\n",
              "        text-align: right;\n",
              "    }\n",
              "</style>\n",
              "<table border=\"1\" class=\"dataframe\">\n",
              "  <thead>\n",
              "    <tr style=\"text-align: right;\">\n",
              "      <th></th>\n",
              "      <th>day</th>\n",
              "      <th>hour</th>\n",
              "      <th>precipitation_강수</th>\n",
              "      <th>precipitation_shape_강수형태</th>\n",
              "      <th>temperature_기온</th>\n",
              "      <th>humidity_습도</th>\n",
              "      <th>wind_풍향</th>\n",
              "      <th>wind_spped_풍속</th>\n",
              "    </tr>\n",
              "  </thead>\n",
              "  <tbody>\n",
              "    <tr>\n",
              "      <th>2019-10-01</th>\n",
              "      <td>1</td>\n",
              "      <td>0</td>\n",
              "      <td>0.0</td>\n",
              "      <td>0.0</td>\n",
              "      <td>23.900000</td>\n",
              "      <td>63.0</td>\n",
              "      <td>29.0</td>\n",
              "      <td>0.8</td>\n",
              "    </tr>\n",
              "    <tr>\n",
              "      <th>2019-10-01</th>\n",
              "      <td>1</td>\n",
              "      <td>1</td>\n",
              "      <td>0.0</td>\n",
              "      <td>0.0</td>\n",
              "      <td>25.400000</td>\n",
              "      <td>60.0</td>\n",
              "      <td>183.0</td>\n",
              "      <td>1.6</td>\n",
              "    </tr>\n",
              "    <tr>\n",
              "      <th>2019-10-01</th>\n",
              "      <td>1</td>\n",
              "      <td>2</td>\n",
              "      <td>0.0</td>\n",
              "      <td>0.0</td>\n",
              "      <td>26.799999</td>\n",
              "      <td>56.0</td>\n",
              "      <td>122.0</td>\n",
              "      <td>1.6</td>\n",
              "    </tr>\n",
              "    <tr>\n",
              "      <th>2019-10-01</th>\n",
              "      <td>1</td>\n",
              "      <td>3</td>\n",
              "      <td>0.0</td>\n",
              "      <td>0.0</td>\n",
              "      <td>26.799999</td>\n",
              "      <td>57.0</td>\n",
              "      <td>64.0</td>\n",
              "      <td>1.9</td>\n",
              "    </tr>\n",
              "    <tr>\n",
              "      <th>2019-10-01</th>\n",
              "      <td>1</td>\n",
              "      <td>4</td>\n",
              "      <td>0.0</td>\n",
              "      <td>0.0</td>\n",
              "      <td>27.400000</td>\n",
              "      <td>59.0</td>\n",
              "      <td>127.0</td>\n",
              "      <td>1.5</td>\n",
              "    </tr>\n",
              "  </tbody>\n",
              "</table>\n",
              "</div>"
            ],
            "text/plain": [
              "            day  hour  precipitation_강수  ...  humidity_습도  wind_풍향  wind_spped_풍속\n",
              "2019-10-01    1     0               0.0  ...         63.0     29.0            0.8\n",
              "2019-10-01    1     1               0.0  ...         60.0    183.0            1.6\n",
              "2019-10-01    1     2               0.0  ...         56.0    122.0            1.6\n",
              "2019-10-01    1     3               0.0  ...         57.0     64.0            1.9\n",
              "2019-10-01    1     4               0.0  ...         59.0    127.0            1.5\n",
              "\n",
              "[5 rows x 8 columns]"
            ]
          },
          "metadata": {
            "tags": []
          },
          "execution_count": 226
        }
      ]
    }
  ]
}
{
  "nbformat": 4,
  "nbformat_minor": 0,
  "metadata": {
    "colab": {
      "name": "cuk_edu/_middle_report.ipynb",
      "provenance": [],
      "collapsed_sections": [],
      "authorship_tag": "ABX9TyMpy0IwBQ3k7B2zaXyk+CLV",
      "include_colab_link": true
    },
    "kernelspec": {
      "name": "python3",
      "display_name": "Python 3"
    }
  },
  "cells": [
    {
      "cell_type": "markdown",
      "metadata": {
        "id": "view-in-github",
        "colab_type": "text"
      },
      "source": [
        "<a href=\"https://colab.research.google.com/github/wiv33/A-Learning-python/blob/master/machine-learning/_000_hello_machine/_000_basic/_003_tensorflow_cuk_edu/_002_2_ml/_002_weather_analysis.ipynb\" target=\"_parent\"><img src=\"https://colab.research.google.com/assets/colab-badge.svg\" alt=\"Open In Colab\"/></a>"
      ]
    },
    {
      "cell_type": "markdown",
      "metadata": {
        "id": "ClpChIfKrCEz"
      },
      "source": [
        "# 기상청 날씨 데이터 분석하기\n",
        "\n",
        "## 데이터 불러오기\n",
        "\n",
        "- 컬럼 설정\n",
        "- 사람을 위한 월 시작 row 제거\n",
        "  - 12월 31일 -> | start: 201912 | -> 1월 1일"
      ]
    },
    {
      "cell_type": "code",
      "metadata": {
        "id": "eMCezc4RatYA"
      },
      "source": [
        "import pandas as pd\n",
        "path = 'https://raw.githubusercontent.com/wiv33/A-Learning-python/master/machine-learning/_000_hello_machine/_000_basic/_003_tensorflow_cuk_edu/_002_2_ml/data'\n",
        "\n",
        "df_precipitation = pd.read_csv(path + '/precipitation_201910_202009.csv')\n",
        "df_precipitation.columns = ['day', 'hour', 'precipitation']\n",
        "df_precipitation.dropna(axis=0, inplace=True)\n",
        "\n",
        "df_direction_of_the_wind = pd.read_csv(path + '/direction_of_the_wind_201910_202009.csv')\n",
        "df_direction_of_the_wind.columns = ['day', 'hour', 'wind']\n",
        "df_direction_of_the_wind.dropna(axis=0, inplace=True)\n",
        "\n",
        "df_precipitation_shape = pd.read_csv(path + '/precipitation_shape_201910_202009.csv')\n",
        "df_precipitation_shape.columns = ['day', 'hour', 'precipitation_shape']\n",
        "df_precipitation_shape.dropna(axis=0, inplace=True)\n",
        "\n",
        "df_temperature = pd.read_csv(path + '/temperature_201910_202009.csv')\n",
        "df_temperature.columns = ['day', 'hour', 'temperature']\n",
        "df_temperature.dropna(axis=0, inplace=True)\n",
        "\n",
        "df_humidity = pd.read_csv(path + '/humidity_201910_202009.csv')\n",
        "df_humidity.columns = ['day', 'hour', 'humidity']\n",
        "df_humidity.dropna(axis=0, inplace=True)\n",
        "\n",
        "df_wind_spped = pd.read_csv(path + '/%EC%9B%94%EA%B3%A1%EC%A0%9C1%EB%8F%99_%ED%92%8D%EC%86%8D_wind_speed_201910_202009.csv')\n",
        "df_wind_spped.columns = ['day', 'hour', 'wind_speed']\n",
        "df_wind_spped.dropna(axis=0, inplace=True)\n"
      ],
      "execution_count": 162,
      "outputs": []
    },
    {
      "cell_type": "markdown",
      "metadata": {
        "id": "AjFANPTptofT"
      },
      "source": [
        "nan row 확인"
      ]
    },
    {
      "cell_type": "code",
      "metadata": {
        "id": "CrlRGvU1pdR9",
        "outputId": "906f9620-ac66-4369-c0f2-2041c37de099",
        "colab": {
          "base_uri": "https://localhost:8080/",
          "height": 141
        }
      },
      "source": [
        "df_test = pd.read_csv(path + '/temperature_201910_202009.csv')\n",
        "df_test.iloc[743:746, :]"
      ],
      "execution_count": 163,
      "outputs": [
        {
          "output_type": "execute_result",
          "data": {
            "text/html": [
              "<div>\n",
              "<style scoped>\n",
              "    .dataframe tbody tr th:only-of-type {\n",
              "        vertical-align: middle;\n",
              "    }\n",
              "\n",
              "    .dataframe tbody tr th {\n",
              "        vertical-align: top;\n",
              "    }\n",
              "\n",
              "    .dataframe thead th {\n",
              "        text-align: right;\n",
              "    }\n",
              "</style>\n",
              "<table border=\"1\" class=\"dataframe\">\n",
              "  <thead>\n",
              "    <tr style=\"text-align: right;\">\n",
              "      <th></th>\n",
              "      <th>format: day</th>\n",
              "      <th>hour</th>\n",
              "      <th>value location:61_128 Start : 20191001</th>\n",
              "    </tr>\n",
              "  </thead>\n",
              "  <tbody>\n",
              "    <tr>\n",
              "      <th>743</th>\n",
              "      <td>31</td>\n",
              "      <td>2300.0</td>\n",
              "      <td>13.0</td>\n",
              "    </tr>\n",
              "    <tr>\n",
              "      <th>744</th>\n",
              "      <td>Start : 20191101</td>\n",
              "      <td>NaN</td>\n",
              "      <td>NaN</td>\n",
              "    </tr>\n",
              "    <tr>\n",
              "      <th>745</th>\n",
              "      <td>1</td>\n",
              "      <td>0.0</td>\n",
              "      <td>15.3</td>\n",
              "    </tr>\n",
              "  </tbody>\n",
              "</table>\n",
              "</div>"
            ],
            "text/plain": [
              "            format: day    hour  value location:61_128 Start : 20191001 \n",
              "743                  31  2300.0                                     13.0\n",
              "744   Start : 20191101      NaN                                      NaN\n",
              "745                   1     0.0                                     15.3"
            ]
          },
          "metadata": {
            "tags": []
          },
          "execution_count": 163
        }
      ]
    },
    {
      "cell_type": "markdown",
      "metadata": {
        "id": "SKBubLd0tj7s"
      },
      "source": [
        "nan 형태 확인 후 제거"
      ]
    },
    {
      "cell_type": "code",
      "metadata": {
        "id": "S_G-l8_QsNRD"
      },
      "source": [
        "del df_test"
      ],
      "execution_count": 164,
      "outputs": []
    },
    {
      "cell_type": "markdown",
      "metadata": {
        "id": "Vks3kV4ML8a5"
      },
      "source": [
        "### 다섯 개의 DataFrame shape 확인하기"
      ]
    },
    {
      "cell_type": "code",
      "metadata": {
        "id": "GbS25-OXMBRZ",
        "outputId": "a4e408df-b3b7-4c4d-dad9-2296aecb0aca",
        "colab": {
          "base_uri": "https://localhost:8080/",
          "height": 194
        }
      },
      "source": [
        "df_direction_of_the_wind.info()"
      ],
      "execution_count": 165,
      "outputs": [
        {
          "output_type": "stream",
          "text": [
            "<class 'pandas.core.frame.DataFrame'>\n",
            "Int64Index: 8784 entries, 0 to 8794\n",
            "Data columns (total 3 columns):\n",
            " #   Column  Non-Null Count  Dtype  \n",
            "---  ------  --------------  -----  \n",
            " 0   day     8784 non-null   object \n",
            " 1   hour    8784 non-null   float64\n",
            " 2   wind    8784 non-null   float64\n",
            "dtypes: float64(2), object(1)\n",
            "memory usage: 274.5+ KB\n"
          ],
          "name": "stdout"
        }
      ]
    },
    {
      "cell_type": "code",
      "metadata": {
        "id": "0AAbN34YMKXR",
        "outputId": "401c9d1d-4f3c-4dc2-f3c6-f020a7d65a6e",
        "colab": {
          "base_uri": "https://localhost:8080/",
          "height": 194
        }
      },
      "source": [
        "df_precipitation_shape.info()"
      ],
      "execution_count": 166,
      "outputs": [
        {
          "output_type": "stream",
          "text": [
            "<class 'pandas.core.frame.DataFrame'>\n",
            "Int64Index: 8784 entries, 0 to 8794\n",
            "Data columns (total 3 columns):\n",
            " #   Column               Non-Null Count  Dtype  \n",
            "---  ------               --------------  -----  \n",
            " 0   day                  8784 non-null   object \n",
            " 1   hour                 8784 non-null   float64\n",
            " 2   precipitation_shape  8784 non-null   float64\n",
            "dtypes: float64(2), object(1)\n",
            "memory usage: 274.5+ KB\n"
          ],
          "name": "stdout"
        }
      ]
    },
    {
      "cell_type": "code",
      "metadata": {
        "id": "YP-CFW3NMSxP",
        "outputId": "6899c6d0-afa6-49d3-abe6-c5f1d34ba347",
        "colab": {
          "base_uri": "https://localhost:8080/",
          "height": 194
        }
      },
      "source": [
        "df_humidity.info()"
      ],
      "execution_count": 167,
      "outputs": [
        {
          "output_type": "stream",
          "text": [
            "<class 'pandas.core.frame.DataFrame'>\n",
            "Int64Index: 8784 entries, 0 to 8794\n",
            "Data columns (total 3 columns):\n",
            " #   Column    Non-Null Count  Dtype  \n",
            "---  ------    --------------  -----  \n",
            " 0   day       8784 non-null   object \n",
            " 1   hour      8784 non-null   float64\n",
            " 2   humidity  8784 non-null   float64\n",
            "dtypes: float64(2), object(1)\n",
            "memory usage: 274.5+ KB\n"
          ],
          "name": "stdout"
        }
      ]
    },
    {
      "cell_type": "code",
      "metadata": {
        "id": "SPkm6LPKMWYk",
        "outputId": "6490f956-db65-449d-d32a-0a142f317da5",
        "colab": {
          "base_uri": "https://localhost:8080/",
          "height": 194
        }
      },
      "source": [
        "df_temperature.info()"
      ],
      "execution_count": 168,
      "outputs": [
        {
          "output_type": "stream",
          "text": [
            "<class 'pandas.core.frame.DataFrame'>\n",
            "Int64Index: 8784 entries, 0 to 8794\n",
            "Data columns (total 3 columns):\n",
            " #   Column       Non-Null Count  Dtype  \n",
            "---  ------       --------------  -----  \n",
            " 0   day          8784 non-null   object \n",
            " 1   hour         8784 non-null   float64\n",
            " 2   temperature  8784 non-null   float64\n",
            "dtypes: float64(2), object(1)\n",
            "memory usage: 274.5+ KB\n"
          ],
          "name": "stdout"
        }
      ]
    },
    {
      "cell_type": "markdown",
      "metadata": {
        "id": "LEpQL-bPMZWP"
      },
      "source": [
        "8784 row와 3개의 컬럼 중 세 번째 컬럼을 하나로 만들면 될 것."
      ]
    },
    {
      "cell_type": "markdown",
      "metadata": {
        "id": "u1cfz8jNsqfe"
      },
      "source": [
        "## 각 데이터 프레임 하나로 합치기\n",
        "\n",
        "강수, 강수형태, 습도, 기온, 풍향, 풍속"
      ]
    },
    {
      "cell_type": "code",
      "metadata": {
        "id": "xr0QGNslN1Zt"
      },
      "source": [
        "df = df_precipitation.iloc[:, :2]\n",
        "df['precipitation_강수'] = df_precipitation.precipitation\n",
        "df['precipitation_shape_강수형태'] = df_precipitation_shape['precipitation_shape']\n",
        "df['temperature_기온'] = df_temperature['temperature']\n",
        "df['humidity_습도'] = df_humidity.humidity\n",
        "df['wind_풍향'] = df_direction_of_the_wind.wind\n",
        "df['wind_spped_풍속'] = df_wind_spped.wind_speed\n"
      ],
      "execution_count": 169,
      "outputs": []
    },
    {
      "cell_type": "markdown",
      "metadata": {
        "id": "39iEeLr2f7HC"
      },
      "source": [
        "### merge 결과 확인하기"
      ]
    },
    {
      "cell_type": "code",
      "metadata": {
        "id": "5_5jk_0qf--o",
        "outputId": "ffb09177-3b6d-4d86-b76f-ac0c0acb3850",
        "colab": {
          "base_uri": "https://localhost:8080/",
          "height": 202
        }
      },
      "source": [
        "df.head()"
      ],
      "execution_count": 170,
      "outputs": [
        {
          "output_type": "execute_result",
          "data": {
            "text/html": [
              "<div>\n",
              "<style scoped>\n",
              "    .dataframe tbody tr th:only-of-type {\n",
              "        vertical-align: middle;\n",
              "    }\n",
              "\n",
              "    .dataframe tbody tr th {\n",
              "        vertical-align: top;\n",
              "    }\n",
              "\n",
              "    .dataframe thead th {\n",
              "        text-align: right;\n",
              "    }\n",
              "</style>\n",
              "<table border=\"1\" class=\"dataframe\">\n",
              "  <thead>\n",
              "    <tr style=\"text-align: right;\">\n",
              "      <th></th>\n",
              "      <th>day</th>\n",
              "      <th>hour</th>\n",
              "      <th>precipitation_강수</th>\n",
              "      <th>precipitation_shape_강수형태</th>\n",
              "      <th>temperature_기온</th>\n",
              "      <th>humidity_습도</th>\n",
              "      <th>wind_풍향</th>\n",
              "      <th>wind_spped_풍속</th>\n",
              "    </tr>\n",
              "  </thead>\n",
              "  <tbody>\n",
              "    <tr>\n",
              "      <th>0</th>\n",
              "      <td>1</td>\n",
              "      <td>0.0</td>\n",
              "      <td>0.0</td>\n",
              "      <td>0.0</td>\n",
              "      <td>23.900000</td>\n",
              "      <td>63.0</td>\n",
              "      <td>29.0</td>\n",
              "      <td>0.8</td>\n",
              "    </tr>\n",
              "    <tr>\n",
              "      <th>1</th>\n",
              "      <td>1</td>\n",
              "      <td>100.0</td>\n",
              "      <td>0.0</td>\n",
              "      <td>0.0</td>\n",
              "      <td>25.400000</td>\n",
              "      <td>60.0</td>\n",
              "      <td>183.0</td>\n",
              "      <td>1.6</td>\n",
              "    </tr>\n",
              "    <tr>\n",
              "      <th>2</th>\n",
              "      <td>1</td>\n",
              "      <td>200.0</td>\n",
              "      <td>0.0</td>\n",
              "      <td>0.0</td>\n",
              "      <td>26.799999</td>\n",
              "      <td>56.0</td>\n",
              "      <td>122.0</td>\n",
              "      <td>1.6</td>\n",
              "    </tr>\n",
              "    <tr>\n",
              "      <th>3</th>\n",
              "      <td>1</td>\n",
              "      <td>300.0</td>\n",
              "      <td>0.0</td>\n",
              "      <td>0.0</td>\n",
              "      <td>26.799999</td>\n",
              "      <td>57.0</td>\n",
              "      <td>64.0</td>\n",
              "      <td>1.9</td>\n",
              "    </tr>\n",
              "    <tr>\n",
              "      <th>4</th>\n",
              "      <td>1</td>\n",
              "      <td>400.0</td>\n",
              "      <td>0.0</td>\n",
              "      <td>0.0</td>\n",
              "      <td>27.400000</td>\n",
              "      <td>59.0</td>\n",
              "      <td>127.0</td>\n",
              "      <td>1.5</td>\n",
              "    </tr>\n",
              "  </tbody>\n",
              "</table>\n",
              "</div>"
            ],
            "text/plain": [
              "  day   hour  precipitation_강수  ...  humidity_습도  wind_풍향  wind_spped_풍속\n",
              "0   1    0.0               0.0  ...         63.0     29.0            0.8\n",
              "1   1  100.0               0.0  ...         60.0    183.0            1.6\n",
              "2   1  200.0               0.0  ...         56.0    122.0            1.6\n",
              "3   1  300.0               0.0  ...         57.0     64.0            1.9\n",
              "4   1  400.0               0.0  ...         59.0    127.0            1.5\n",
              "\n",
              "[5 rows x 8 columns]"
            ]
          },
          "metadata": {
            "tags": []
          },
          "execution_count": 170
        }
      ]
    },
    {
      "cell_type": "markdown",
      "metadata": {
        "id": "MmmkCeZArb27"
      },
      "source": [
        "## 시간 데이터 타입 변환\n",
        "\n",
        "- 기존 24시의 표현 변경\n",
        "\n",
        "  0.0, 100.0, 200.0\n",
        "\n",
        "  0, 1, 2, 3\n",
        "\n",
        "- day int로 변경\n"
      ]
    },
    {
      "cell_type": "code",
      "metadata": {
        "id": "H2d-eAj6qqAP"
      },
      "source": [
        "def hour_regulation(hour: float):\n",
        "  return int(hour / 100)"
      ],
      "execution_count": 171,
      "outputs": []
    },
    {
      "cell_type": "code",
      "metadata": {
        "id": "aHnRdNsXgvcR",
        "outputId": "a81d6b6e-83d6-4196-81de-eac4c885f9da",
        "colab": {
          "base_uri": "https://localhost:8080/",
          "height": 282
        }
      },
      "source": [
        "df.hour = df.hour.apply(hour_regulation)\n",
        "df.day = df.day.apply(lambda x: int(x))\n",
        "df.info()"
      ],
      "execution_count": 172,
      "outputs": [
        {
          "output_type": "stream",
          "text": [
            "<class 'pandas.core.frame.DataFrame'>\n",
            "Int64Index: 8784 entries, 0 to 8794\n",
            "Data columns (total 8 columns):\n",
            " #   Column                    Non-Null Count  Dtype  \n",
            "---  ------                    --------------  -----  \n",
            " 0   day                       8784 non-null   int64  \n",
            " 1   hour                      8784 non-null   int64  \n",
            " 2   precipitation_강수          8784 non-null   float64\n",
            " 3   precipitation_shape_강수형태  8784 non-null   float64\n",
            " 4   temperature_기온            8784 non-null   float64\n",
            " 5   humidity_습도               8784 non-null   float64\n",
            " 6   wind_풍향                   8784 non-null   float64\n",
            " 7   wind_spped_풍속             8784 non-null   float64\n",
            "dtypes: float64(6), int64(2)\n",
            "memory usage: 617.6 KB\n"
          ],
          "name": "stdout"
        }
      ]
    },
    {
      "cell_type": "code",
      "metadata": {
        "id": "N079Y0TuLz6a",
        "outputId": "45d5640c-0a2e-45f3-a8d4-4740c4e08210",
        "colab": {
          "base_uri": "https://localhost:8080/",
          "height": 295
        }
      },
      "source": [
        "df.describe()"
      ],
      "execution_count": 173,
      "outputs": [
        {
          "output_type": "execute_result",
          "data": {
            "text/html": [
              "<div>\n",
              "<style scoped>\n",
              "    .dataframe tbody tr th:only-of-type {\n",
              "        vertical-align: middle;\n",
              "    }\n",
              "\n",
              "    .dataframe tbody tr th {\n",
              "        vertical-align: top;\n",
              "    }\n",
              "\n",
              "    .dataframe thead th {\n",
              "        text-align: right;\n",
              "    }\n",
              "</style>\n",
              "<table border=\"1\" class=\"dataframe\">\n",
              "  <thead>\n",
              "    <tr style=\"text-align: right;\">\n",
              "      <th></th>\n",
              "      <th>day</th>\n",
              "      <th>hour</th>\n",
              "      <th>precipitation_강수</th>\n",
              "      <th>precipitation_shape_강수형태</th>\n",
              "      <th>temperature_기온</th>\n",
              "      <th>humidity_습도</th>\n",
              "      <th>wind_풍향</th>\n",
              "      <th>wind_spped_풍속</th>\n",
              "    </tr>\n",
              "  </thead>\n",
              "  <tbody>\n",
              "    <tr>\n",
              "      <th>count</th>\n",
              "      <td>8784.000000</td>\n",
              "      <td>8784.000000</td>\n",
              "      <td>8784.000000</td>\n",
              "      <td>8784.000000</td>\n",
              "      <td>8784.000000</td>\n",
              "      <td>8784.000000</td>\n",
              "      <td>8784.000000</td>\n",
              "      <td>8784.000000</td>\n",
              "    </tr>\n",
              "    <tr>\n",
              "      <th>mean</th>\n",
              "      <td>15.756831</td>\n",
              "      <td>11.500000</td>\n",
              "      <td>0.195924</td>\n",
              "      <td>0.061589</td>\n",
              "      <td>14.031364</td>\n",
              "      <td>64.886043</td>\n",
              "      <td>204.206398</td>\n",
              "      <td>1.899841</td>\n",
              "    </tr>\n",
              "    <tr>\n",
              "      <th>std</th>\n",
              "      <td>8.812031</td>\n",
              "      <td>6.922581</td>\n",
              "      <td>1.324470</td>\n",
              "      <td>0.261299</td>\n",
              "      <td>9.986910</td>\n",
              "      <td>20.409870</td>\n",
              "      <td>120.910504</td>\n",
              "      <td>1.220649</td>\n",
              "    </tr>\n",
              "    <tr>\n",
              "      <th>min</th>\n",
              "      <td>1.000000</td>\n",
              "      <td>0.000000</td>\n",
              "      <td>-1.000000</td>\n",
              "      <td>-1.000000</td>\n",
              "      <td>-50.000000</td>\n",
              "      <td>-1.000000</td>\n",
              "      <td>-1.000000</td>\n",
              "      <td>-1.000000</td>\n",
              "    </tr>\n",
              "    <tr>\n",
              "      <th>25%</th>\n",
              "      <td>8.000000</td>\n",
              "      <td>5.750000</td>\n",
              "      <td>0.000000</td>\n",
              "      <td>0.000000</td>\n",
              "      <td>5.700000</td>\n",
              "      <td>50.000000</td>\n",
              "      <td>82.000000</td>\n",
              "      <td>1.000000</td>\n",
              "    </tr>\n",
              "    <tr>\n",
              "      <th>50%</th>\n",
              "      <td>16.000000</td>\n",
              "      <td>11.500000</td>\n",
              "      <td>0.000000</td>\n",
              "      <td>0.000000</td>\n",
              "      <td>14.500000</td>\n",
              "      <td>65.000000</td>\n",
              "      <td>239.000000</td>\n",
              "      <td>1.600000</td>\n",
              "    </tr>\n",
              "    <tr>\n",
              "      <th>75%</th>\n",
              "      <td>23.000000</td>\n",
              "      <td>17.250000</td>\n",
              "      <td>0.000000</td>\n",
              "      <td>0.000000</td>\n",
              "      <td>22.700001</td>\n",
              "      <td>82.000000</td>\n",
              "      <td>314.000000</td>\n",
              "      <td>2.600000</td>\n",
              "    </tr>\n",
              "    <tr>\n",
              "      <th>max</th>\n",
              "      <td>31.000000</td>\n",
              "      <td>23.000000</td>\n",
              "      <td>43.000000</td>\n",
              "      <td>3.000000</td>\n",
              "      <td>36.700001</td>\n",
              "      <td>97.000000</td>\n",
              "      <td>360.000000</td>\n",
              "      <td>12.800000</td>\n",
              "    </tr>\n",
              "  </tbody>\n",
              "</table>\n",
              "</div>"
            ],
            "text/plain": [
              "               day         hour  ...      wind_풍향  wind_spped_풍속\n",
              "count  8784.000000  8784.000000  ...  8784.000000    8784.000000\n",
              "mean     15.756831    11.500000  ...   204.206398       1.899841\n",
              "std       8.812031     6.922581  ...   120.910504       1.220649\n",
              "min       1.000000     0.000000  ...    -1.000000      -1.000000\n",
              "25%       8.000000     5.750000  ...    82.000000       1.000000\n",
              "50%      16.000000    11.500000  ...   239.000000       1.600000\n",
              "75%      23.000000    17.250000  ...   314.000000       2.600000\n",
              "max      31.000000    23.000000  ...   360.000000      12.800000\n",
              "\n",
              "[8 rows x 8 columns]"
            ]
          },
          "metadata": {
            "tags": []
          },
          "execution_count": 173
        }
      ]
    },
    {
      "cell_type": "markdown",
      "metadata": {
        "id": "At0LIYNGhf8r"
      },
      "source": [
        "### 이상 데이터 확인\n",
        "\n",
        "강수, 강수 형태, 습도, 풍향, 풍속의 최소 값이 `-1`이고\n",
        "\n",
        "기온이 `-50도`가 정상인 것 같지 않다."
      ]
    },
    {
      "cell_type": "code",
      "metadata": {
        "id": "pl6cHLidksr5",
        "outputId": "f7f65b91-df80-4c42-cd1b-614793aa8afd",
        "colab": {
          "base_uri": "https://localhost:8080/",
          "height": 325
        }
      },
      "source": [
        "df[df['temperature_기온'] == -50].index"
      ],
      "execution_count": 175,
      "outputs": [
        {
          "output_type": "execute_result",
          "data": {
            "text/html": [
              "<div>\n",
              "<style scoped>\n",
              "    .dataframe tbody tr th:only-of-type {\n",
              "        vertical-align: middle;\n",
              "    }\n",
              "\n",
              "    .dataframe tbody tr th {\n",
              "        vertical-align: top;\n",
              "    }\n",
              "\n",
              "    .dataframe thead th {\n",
              "        text-align: right;\n",
              "    }\n",
              "</style>\n",
              "<table border=\"1\" class=\"dataframe\">\n",
              "  <thead>\n",
              "    <tr style=\"text-align: right;\">\n",
              "      <th></th>\n",
              "      <th>day</th>\n",
              "      <th>hour</th>\n",
              "      <th>precipitation_강수</th>\n",
              "      <th>precipitation_shape_강수형태</th>\n",
              "      <th>temperature_기온</th>\n",
              "      <th>humidity_습도</th>\n",
              "      <th>wind_풍향</th>\n",
              "      <th>wind_spped_풍속</th>\n",
              "    </tr>\n",
              "  </thead>\n",
              "  <tbody>\n",
              "    <tr>\n",
              "      <th>514</th>\n",
              "      <td>22</td>\n",
              "      <td>10</td>\n",
              "      <td>-1.0</td>\n",
              "      <td>-1.0</td>\n",
              "      <td>-50.0</td>\n",
              "      <td>-1.0</td>\n",
              "      <td>-1.0</td>\n",
              "      <td>-1.0</td>\n",
              "    </tr>\n",
              "    <tr>\n",
              "      <th>1057</th>\n",
              "      <td>14</td>\n",
              "      <td>0</td>\n",
              "      <td>-1.0</td>\n",
              "      <td>-1.0</td>\n",
              "      <td>-50.0</td>\n",
              "      <td>-1.0</td>\n",
              "      <td>-1.0</td>\n",
              "      <td>-1.0</td>\n",
              "    </tr>\n",
              "    <tr>\n",
              "      <th>2271</th>\n",
              "      <td>3</td>\n",
              "      <td>12</td>\n",
              "      <td>-1.0</td>\n",
              "      <td>-1.0</td>\n",
              "      <td>-50.0</td>\n",
              "      <td>-1.0</td>\n",
              "      <td>-1.0</td>\n",
              "      <td>-1.0</td>\n",
              "    </tr>\n",
              "    <tr>\n",
              "      <th>3468</th>\n",
              "      <td>22</td>\n",
              "      <td>8</td>\n",
              "      <td>-1.0</td>\n",
              "      <td>-1.0</td>\n",
              "      <td>-50.0</td>\n",
              "      <td>-1.0</td>\n",
              "      <td>-1.0</td>\n",
              "      <td>-1.0</td>\n",
              "    </tr>\n",
              "    <tr>\n",
              "      <th>3475</th>\n",
              "      <td>22</td>\n",
              "      <td>15</td>\n",
              "      <td>-1.0</td>\n",
              "      <td>-1.0</td>\n",
              "      <td>-50.0</td>\n",
              "      <td>-1.0</td>\n",
              "      <td>-1.0</td>\n",
              "      <td>-1.0</td>\n",
              "    </tr>\n",
              "    <tr>\n",
              "      <th>3481</th>\n",
              "      <td>22</td>\n",
              "      <td>21</td>\n",
              "      <td>-1.0</td>\n",
              "      <td>-1.0</td>\n",
              "      <td>-50.0</td>\n",
              "      <td>-1.0</td>\n",
              "      <td>-1.0</td>\n",
              "      <td>-1.0</td>\n",
              "    </tr>\n",
              "    <tr>\n",
              "      <th>4183</th>\n",
              "      <td>23</td>\n",
              "      <td>2</td>\n",
              "      <td>-1.0</td>\n",
              "      <td>-1.0</td>\n",
              "      <td>-50.0</td>\n",
              "      <td>-1.0</td>\n",
              "      <td>-1.0</td>\n",
              "      <td>-1.0</td>\n",
              "    </tr>\n",
              "    <tr>\n",
              "      <th>4661</th>\n",
              "      <td>11</td>\n",
              "      <td>23</td>\n",
              "      <td>-1.0</td>\n",
              "      <td>-1.0</td>\n",
              "      <td>-50.0</td>\n",
              "      <td>-1.0</td>\n",
              "      <td>-1.0</td>\n",
              "      <td>-1.0</td>\n",
              "    </tr>\n",
              "    <tr>\n",
              "      <th>5487</th>\n",
              "      <td>16</td>\n",
              "      <td>8</td>\n",
              "      <td>-1.0</td>\n",
              "      <td>-1.0</td>\n",
              "      <td>-50.0</td>\n",
              "      <td>-1.0</td>\n",
              "      <td>-1.0</td>\n",
              "      <td>-1.0</td>\n",
              "    </tr>\n",
              "  </tbody>\n",
              "</table>\n",
              "</div>"
            ],
            "text/plain": [
              "      day  hour  precipitation_강수  ...  humidity_습도  wind_풍향  wind_spped_풍속\n",
              "514    22    10              -1.0  ...         -1.0     -1.0           -1.0\n",
              "1057   14     0              -1.0  ...         -1.0     -1.0           -1.0\n",
              "2271    3    12              -1.0  ...         -1.0     -1.0           -1.0\n",
              "3468   22     8              -1.0  ...         -1.0     -1.0           -1.0\n",
              "3475   22    15              -1.0  ...         -1.0     -1.0           -1.0\n",
              "3481   22    21              -1.0  ...         -1.0     -1.0           -1.0\n",
              "4183   23     2              -1.0  ...         -1.0     -1.0           -1.0\n",
              "4661   11    23              -1.0  ...         -1.0     -1.0           -1.0\n",
              "5487   16     8              -1.0  ...         -1.0     -1.0           -1.0\n",
              "\n",
              "[9 rows x 8 columns]"
            ]
          },
          "metadata": {
            "tags": []
          },
          "execution_count": 175
        }
      ]
    },
    {
      "cell_type": "markdown",
      "metadata": {
        "id": "ATALO_JlvD-u"
      },
      "source": [
        "- 이상 데이터의 인덱스 확인"
      ]
    },
    {
      "cell_type": "markdown",
      "metadata": {
        "id": "4QNIAOO8vKDb"
      },
      "source": [
        "### 이상 데이터 정규화\n",
        "\n",
        "- 습도와 기온은 +-2일 값의 평균으로 적용\n",
        "- 나머지 값은 0으로 적용"
      ]
    },
    {
      "cell_type": "code",
      "metadata": {
        "id": "cmokaZiihfU-",
        "outputId": "7cdd27cf-f0bb-471f-c81f-ae649e913c78",
        "colab": {
          "base_uri": "https://localhost:8080/",
          "height": 548
        }
      },
      "source": [
        "import numpy as np \n",
        "\n",
        "for x in df[df['wind_풍향'] <= -1].index:\n",
        "  seq = int(x)\n",
        "  df['temperature_기온'][seq] = np.mean((df.iloc[seq-2:seq, 4], df.iloc[seq+1:seq+3, 4]))\n",
        "  df['humidity_습도'][seq] = np.mean((df.iloc[seq-2:seq, 5], df.iloc[seq+1:seq+3, 5]))\n",
        "  df['wind_spped_풍속'][seq] = 0.0\n",
        "  df['precipitation_shape_강수형태'][seq] = 0.0\n",
        "  df['precipitation_강수'][seq] = 0.0\n",
        "  df['wind_풍향'][seq] = 0.0\n"
      ],
      "execution_count": 179,
      "outputs": [
        {
          "output_type": "stream",
          "text": [
            "/usr/local/lib/python3.6/dist-packages/ipykernel_launcher.py:5: SettingWithCopyWarning: \n",
            "A value is trying to be set on a copy of a slice from a DataFrame\n",
            "\n",
            "See the caveats in the documentation: https://pandas.pydata.org/pandas-docs/stable/user_guide/indexing.html#returning-a-view-versus-a-copy\n",
            "  \"\"\"\n",
            "/usr/local/lib/python3.6/dist-packages/ipykernel_launcher.py:6: SettingWithCopyWarning: \n",
            "A value is trying to be set on a copy of a slice from a DataFrame\n",
            "\n",
            "See the caveats in the documentation: https://pandas.pydata.org/pandas-docs/stable/user_guide/indexing.html#returning-a-view-versus-a-copy\n",
            "  \n",
            "/usr/local/lib/python3.6/dist-packages/ipykernel_launcher.py:7: SettingWithCopyWarning: \n",
            "A value is trying to be set on a copy of a slice from a DataFrame\n",
            "\n",
            "See the caveats in the documentation: https://pandas.pydata.org/pandas-docs/stable/user_guide/indexing.html#returning-a-view-versus-a-copy\n",
            "  import sys\n",
            "/usr/local/lib/python3.6/dist-packages/ipykernel_launcher.py:8: SettingWithCopyWarning: \n",
            "A value is trying to be set on a copy of a slice from a DataFrame\n",
            "\n",
            "See the caveats in the documentation: https://pandas.pydata.org/pandas-docs/stable/user_guide/indexing.html#returning-a-view-versus-a-copy\n",
            "  \n",
            "/usr/local/lib/python3.6/dist-packages/ipykernel_launcher.py:9: SettingWithCopyWarning: \n",
            "A value is trying to be set on a copy of a slice from a DataFrame\n",
            "\n",
            "See the caveats in the documentation: https://pandas.pydata.org/pandas-docs/stable/user_guide/indexing.html#returning-a-view-versus-a-copy\n",
            "  if __name__ == '__main__':\n",
            "/usr/local/lib/python3.6/dist-packages/ipykernel_launcher.py:10: SettingWithCopyWarning: \n",
            "A value is trying to be set on a copy of a slice from a DataFrame\n",
            "\n",
            "See the caveats in the documentation: https://pandas.pydata.org/pandas-docs/stable/user_guide/indexing.html#returning-a-view-versus-a-copy\n",
            "  # Remove the CWD from sys.path while we load stuff.\n"
          ],
          "name": "stderr"
        }
      ]
    },
    {
      "cell_type": "code",
      "metadata": {
        "id": "CeChrsmZmlkS",
        "outputId": "120341c0-713b-4a09-da3a-692596ac6e48",
        "colab": {
          "base_uri": "https://localhost:8080/",
          "height": 79
        }
      },
      "source": [
        "df[df['humidity_습도'] <= 10.0]"
      ],
      "execution_count": 180,
      "outputs": [
        {
          "output_type": "execute_result",
          "data": {
            "text/html": [
              "<div>\n",
              "<style scoped>\n",
              "    .dataframe tbody tr th:only-of-type {\n",
              "        vertical-align: middle;\n",
              "    }\n",
              "\n",
              "    .dataframe tbody tr th {\n",
              "        vertical-align: top;\n",
              "    }\n",
              "\n",
              "    .dataframe thead th {\n",
              "        text-align: right;\n",
              "    }\n",
              "</style>\n",
              "<table border=\"1\" class=\"dataframe\">\n",
              "  <thead>\n",
              "    <tr style=\"text-align: right;\">\n",
              "      <th></th>\n",
              "      <th>day</th>\n",
              "      <th>hour</th>\n",
              "      <th>precipitation_강수</th>\n",
              "      <th>precipitation_shape_강수형태</th>\n",
              "      <th>temperature_기온</th>\n",
              "      <th>humidity_습도</th>\n",
              "      <th>wind_풍향</th>\n",
              "      <th>wind_spped_풍속</th>\n",
              "    </tr>\n",
              "  </thead>\n",
              "  <tbody>\n",
              "    <tr>\n",
              "      <th>5291</th>\n",
              "      <td>8</td>\n",
              "      <td>4</td>\n",
              "      <td>0.0</td>\n",
              "      <td>0.0</td>\n",
              "      <td>26.1</td>\n",
              "      <td>10.0</td>\n",
              "      <td>136.0</td>\n",
              "      <td>2.5</td>\n",
              "    </tr>\n",
              "  </tbody>\n",
              "</table>\n",
              "</div>"
            ],
            "text/plain": [
              "      day  hour  precipitation_강수  ...  humidity_습도  wind_풍향  wind_spped_풍속\n",
              "5291    8     4               0.0  ...         10.0    136.0            2.5\n",
              "\n",
              "[1 rows x 8 columns]"
            ]
          },
          "metadata": {
            "tags": []
          },
          "execution_count": 180
        }
      ]
    },
    {
      "cell_type": "code",
      "metadata": {
        "id": "8yYZNVqlvedE",
        "outputId": "1d141ed7-0aa6-477b-91f6-6dad2d96f090",
        "colab": {
          "base_uri": "https://localhost:8080/",
          "height": 48
        }
      },
      "source": [
        "df[df['temperature_기온'] <= -50]"
      ],
      "execution_count": 181,
      "outputs": [
        {
          "output_type": "execute_result",
          "data": {
            "text/html": [
              "<div>\n",
              "<style scoped>\n",
              "    .dataframe tbody tr th:only-of-type {\n",
              "        vertical-align: middle;\n",
              "    }\n",
              "\n",
              "    .dataframe tbody tr th {\n",
              "        vertical-align: top;\n",
              "    }\n",
              "\n",
              "    .dataframe thead th {\n",
              "        text-align: right;\n",
              "    }\n",
              "</style>\n",
              "<table border=\"1\" class=\"dataframe\">\n",
              "  <thead>\n",
              "    <tr style=\"text-align: right;\">\n",
              "      <th></th>\n",
              "      <th>day</th>\n",
              "      <th>hour</th>\n",
              "      <th>precipitation_강수</th>\n",
              "      <th>precipitation_shape_강수형태</th>\n",
              "      <th>temperature_기온</th>\n",
              "      <th>humidity_습도</th>\n",
              "      <th>wind_풍향</th>\n",
              "      <th>wind_spped_풍속</th>\n",
              "    </tr>\n",
              "  </thead>\n",
              "  <tbody>\n",
              "  </tbody>\n",
              "</table>\n",
              "</div>"
            ],
            "text/plain": [
              "Empty DataFrame\n",
              "Columns: [day, hour, precipitation_강수, precipitation_shape_강수형태, temperature_기온, humidity_습도, wind_풍향, wind_spped_풍속]\n",
              "Index: []"
            ]
          },
          "metadata": {
            "tags": []
          },
          "execution_count": 181
        }
      ]
    },
    {
      "cell_type": "code",
      "metadata": {
        "id": "Itrqc6VulnnE",
        "outputId": "043e9ba8-03e7-44ec-a674-63dfa4fe3502",
        "colab": {
          "base_uri": "https://localhost:8080/",
          "height": 110
        }
      },
      "source": [
        "df.iloc[1055: 1057, :]"
      ],
      "execution_count": 182,
      "outputs": [
        {
          "output_type": "execute_result",
          "data": {
            "text/html": [
              "<div>\n",
              "<style scoped>\n",
              "    .dataframe tbody tr th:only-of-type {\n",
              "        vertical-align: middle;\n",
              "    }\n",
              "\n",
              "    .dataframe tbody tr th {\n",
              "        vertical-align: top;\n",
              "    }\n",
              "\n",
              "    .dataframe thead th {\n",
              "        text-align: right;\n",
              "    }\n",
              "</style>\n",
              "<table border=\"1\" class=\"dataframe\">\n",
              "  <thead>\n",
              "    <tr style=\"text-align: right;\">\n",
              "      <th></th>\n",
              "      <th>day</th>\n",
              "      <th>hour</th>\n",
              "      <th>precipitation_강수</th>\n",
              "      <th>precipitation_shape_강수형태</th>\n",
              "      <th>temperature_기온</th>\n",
              "      <th>humidity_습도</th>\n",
              "      <th>wind_풍향</th>\n",
              "      <th>wind_spped_풍속</th>\n",
              "    </tr>\n",
              "  </thead>\n",
              "  <tbody>\n",
              "    <tr>\n",
              "      <th>1056</th>\n",
              "      <td>13</td>\n",
              "      <td>23</td>\n",
              "      <td>0.0</td>\n",
              "      <td>0.0</td>\n",
              "      <td>0.40</td>\n",
              "      <td>24.00</td>\n",
              "      <td>2.0</td>\n",
              "      <td>3.2</td>\n",
              "    </tr>\n",
              "    <tr>\n",
              "      <th>1057</th>\n",
              "      <td>14</td>\n",
              "      <td>0</td>\n",
              "      <td>0.0</td>\n",
              "      <td>0.0</td>\n",
              "      <td>-10.55</td>\n",
              "      <td>21.25</td>\n",
              "      <td>0.0</td>\n",
              "      <td>0.0</td>\n",
              "    </tr>\n",
              "  </tbody>\n",
              "</table>\n",
              "</div>"
            ],
            "text/plain": [
              "      day  hour  precipitation_강수  ...  humidity_습도  wind_풍향  wind_spped_풍속\n",
              "1056   13    23               0.0  ...        24.00      2.0            3.2\n",
              "1057   14     0               0.0  ...        21.25      0.0            0.0\n",
              "\n",
              "[2 rows x 8 columns]"
            ]
          },
          "metadata": {
            "tags": []
          },
          "execution_count": 182
        }
      ]
    },
    {
      "cell_type": "code",
      "metadata": {
        "id": "-7q1Zungugvu",
        "outputId": "1b84f01b-d050-4c45-e6b1-6ffdb207f1b3",
        "colab": {
          "base_uri": "https://localhost:8080/",
          "height": 48
        }
      },
      "source": [
        "df[df['wind_풍향'] <= -1]"
      ],
      "execution_count": 183,
      "outputs": [
        {
          "output_type": "execute_result",
          "data": {
            "text/html": [
              "<div>\n",
              "<style scoped>\n",
              "    .dataframe tbody tr th:only-of-type {\n",
              "        vertical-align: middle;\n",
              "    }\n",
              "\n",
              "    .dataframe tbody tr th {\n",
              "        vertical-align: top;\n",
              "    }\n",
              "\n",
              "    .dataframe thead th {\n",
              "        text-align: right;\n",
              "    }\n",
              "</style>\n",
              "<table border=\"1\" class=\"dataframe\">\n",
              "  <thead>\n",
              "    <tr style=\"text-align: right;\">\n",
              "      <th></th>\n",
              "      <th>day</th>\n",
              "      <th>hour</th>\n",
              "      <th>precipitation_강수</th>\n",
              "      <th>precipitation_shape_강수형태</th>\n",
              "      <th>temperature_기온</th>\n",
              "      <th>humidity_습도</th>\n",
              "      <th>wind_풍향</th>\n",
              "      <th>wind_spped_풍속</th>\n",
              "    </tr>\n",
              "  </thead>\n",
              "  <tbody>\n",
              "  </tbody>\n",
              "</table>\n",
              "</div>"
            ],
            "text/plain": [
              "Empty DataFrame\n",
              "Columns: [day, hour, precipitation_강수, precipitation_shape_강수형태, temperature_기온, humidity_습도, wind_풍향, wind_spped_풍속]\n",
              "Index: []"
            ]
          },
          "metadata": {
            "tags": []
          },
          "execution_count": 183
        }
      ]
    },
    {
      "cell_type": "code",
      "metadata": {
        "id": "U8r-QOe9ua6U",
        "outputId": "e360d130-248f-4748-fe56-0cdc9c2d52c6",
        "colab": {
          "base_uri": "https://localhost:8080/",
          "height": 295
        }
      },
      "source": [
        "df.describe()"
      ],
      "execution_count": 184,
      "outputs": [
        {
          "output_type": "execute_result",
          "data": {
            "text/html": [
              "<div>\n",
              "<style scoped>\n",
              "    .dataframe tbody tr th:only-of-type {\n",
              "        vertical-align: middle;\n",
              "    }\n",
              "\n",
              "    .dataframe tbody tr th {\n",
              "        vertical-align: top;\n",
              "    }\n",
              "\n",
              "    .dataframe thead th {\n",
              "        text-align: right;\n",
              "    }\n",
              "</style>\n",
              "<table border=\"1\" class=\"dataframe\">\n",
              "  <thead>\n",
              "    <tr style=\"text-align: right;\">\n",
              "      <th></th>\n",
              "      <th>day</th>\n",
              "      <th>hour</th>\n",
              "      <th>precipitation_강수</th>\n",
              "      <th>precipitation_shape_강수형태</th>\n",
              "      <th>temperature_기온</th>\n",
              "      <th>humidity_습도</th>\n",
              "      <th>wind_풍향</th>\n",
              "      <th>wind_spped_풍속</th>\n",
              "    </tr>\n",
              "  </thead>\n",
              "  <tbody>\n",
              "    <tr>\n",
              "      <th>count</th>\n",
              "      <td>8784.000000</td>\n",
              "      <td>8784.000000</td>\n",
              "      <td>8784.000000</td>\n",
              "      <td>8784.000000</td>\n",
              "      <td>8784.000000</td>\n",
              "      <td>8784.000000</td>\n",
              "      <td>8784.000000</td>\n",
              "      <td>8784.000000</td>\n",
              "    </tr>\n",
              "    <tr>\n",
              "      <th>mean</th>\n",
              "      <td>15.756831</td>\n",
              "      <td>11.500000</td>\n",
              "      <td>0.196949</td>\n",
              "      <td>0.062614</td>\n",
              "      <td>14.088300</td>\n",
              "      <td>64.937642</td>\n",
              "      <td>204.207536</td>\n",
              "      <td>1.900979</td>\n",
              "    </tr>\n",
              "    <tr>\n",
              "      <th>std</th>\n",
              "      <td>8.812031</td>\n",
              "      <td>6.922581</td>\n",
              "      <td>1.323931</td>\n",
              "      <td>0.259086</td>\n",
              "      <td>9.784082</td>\n",
              "      <td>20.315112</td>\n",
              "      <td>120.908576</td>\n",
              "      <td>1.218408</td>\n",
              "    </tr>\n",
              "    <tr>\n",
              "      <th>min</th>\n",
              "      <td>1.000000</td>\n",
              "      <td>0.000000</td>\n",
              "      <td>0.000000</td>\n",
              "      <td>0.000000</td>\n",
              "      <td>-12.150000</td>\n",
              "      <td>10.000000</td>\n",
              "      <td>0.000000</td>\n",
              "      <td>0.000000</td>\n",
              "    </tr>\n",
              "    <tr>\n",
              "      <th>25%</th>\n",
              "      <td>8.000000</td>\n",
              "      <td>5.750000</td>\n",
              "      <td>0.000000</td>\n",
              "      <td>0.000000</td>\n",
              "      <td>5.800000</td>\n",
              "      <td>50.000000</td>\n",
              "      <td>82.000000</td>\n",
              "      <td>1.000000</td>\n",
              "    </tr>\n",
              "    <tr>\n",
              "      <th>50%</th>\n",
              "      <td>16.000000</td>\n",
              "      <td>11.500000</td>\n",
              "      <td>0.000000</td>\n",
              "      <td>0.000000</td>\n",
              "      <td>14.500000</td>\n",
              "      <td>65.000000</td>\n",
              "      <td>239.000000</td>\n",
              "      <td>1.600000</td>\n",
              "    </tr>\n",
              "    <tr>\n",
              "      <th>75%</th>\n",
              "      <td>23.000000</td>\n",
              "      <td>17.250000</td>\n",
              "      <td>0.000000</td>\n",
              "      <td>0.000000</td>\n",
              "      <td>22.700001</td>\n",
              "      <td>82.000000</td>\n",
              "      <td>314.000000</td>\n",
              "      <td>2.600000</td>\n",
              "    </tr>\n",
              "    <tr>\n",
              "      <th>max</th>\n",
              "      <td>31.000000</td>\n",
              "      <td>23.000000</td>\n",
              "      <td>43.000000</td>\n",
              "      <td>3.000000</td>\n",
              "      <td>36.700001</td>\n",
              "      <td>97.000000</td>\n",
              "      <td>360.000000</td>\n",
              "      <td>12.800000</td>\n",
              "    </tr>\n",
              "  </tbody>\n",
              "</table>\n",
              "</div>"
            ],
            "text/plain": [
              "               day         hour  ...      wind_풍향  wind_spped_풍속\n",
              "count  8784.000000  8784.000000  ...  8784.000000    8784.000000\n",
              "mean     15.756831    11.500000  ...   204.207536       1.900979\n",
              "std       8.812031     6.922581  ...   120.908576       1.218408\n",
              "min       1.000000     0.000000  ...     0.000000       0.000000\n",
              "25%       8.000000     5.750000  ...    82.000000       1.000000\n",
              "50%      16.000000    11.500000  ...   239.000000       1.600000\n",
              "75%      23.000000    17.250000  ...   314.000000       2.600000\n",
              "max      31.000000    23.000000  ...   360.000000      12.800000\n",
              "\n",
              "[8 rows x 8 columns]"
            ]
          },
          "metadata": {
            "tags": []
          },
          "execution_count": 184
        }
      ]
    },
    {
      "cell_type": "code",
      "metadata": {
        "id": "WdiOX-6swkVZ"
      },
      "source": [
        ""
      ],
      "execution_count": null,
      "outputs": []
    }
  ]
}
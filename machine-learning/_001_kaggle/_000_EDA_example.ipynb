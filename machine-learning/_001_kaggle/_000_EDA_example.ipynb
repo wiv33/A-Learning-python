{
  "nbformat": 4,
  "nbformat_minor": 0,
  "metadata": {
    "colab": {
      "name": "kaggle/EDA_example.ipynb",
      "provenance": [],
      "collapsed_sections": [],
      "authorship_tag": "ABX9TyNWANRLSPOuUo491VKQfpHx",
      "include_colab_link": true
    },
    "kernelspec": {
      "name": "python3",
      "display_name": "Python 3"
    }
  },
  "cells": [
    {
      "cell_type": "markdown",
      "metadata": {
        "id": "view-in-github",
        "colab_type": "text"
      },
      "source": [
        "<a href=\"https://colab.research.google.com/github/wiv33/A-Learning-python/blob/master/machine-learning/_001_kaggle/_000_EDA_example.ipynb\" target=\"_parent\"><img src=\"https://colab.research.google.com/assets/colab-badge.svg\" alt=\"Open In Colab\"/></a>"
      ]
    },
    {
      "cell_type": "code",
      "metadata": {
        "id": "QCU_8Rgye1z2",
        "outputId": "775b9451-a06c-4f9c-bdfe-3aa0e05ec5e7",
        "colab": {
          "base_uri": "https://localhost:8080/"
        }
      },
      "source": [
        "from google.colab import drive\n",
        "drive.mount(\"/content/drive\")\n",
        "ROOT = \"/content/drive/My Drive/Colab Notebooks/data\""
      ],
      "execution_count": 1,
      "outputs": [
        {
          "output_type": "stream",
          "text": [
            "Mounted at /content/drive\n"
          ],
          "name": "stdout"
        }
      ]
    },
    {
      "cell_type": "markdown",
      "metadata": {
        "id": "XQOwpkNWc9Em"
      },
      "source": [
        "# EDA - 탐색적 데이터 분석\n",
        "\n",
        "    Explortory Data Analysis\n",
        "\n",
        "    모델링 전 데이터를 살피는 모든 과정\n"
      ]
    },
    {
      "cell_type": "markdown",
      "metadata": {
        "id": "sCSV7qk4dKiT"
      },
      "source": [
        "## 탐색을 위한 라이브러리 호출 및 I/O"
      ]
    },
    {
      "cell_type": "code",
      "metadata": {
        "id": "bi-8E-3xc22b"
      },
      "source": [
        "import numpy as np\n",
        "import pandas as pd\n",
        "\n",
        "# 시각화\n",
        "import matplotlib as mpl\n",
        "import matplotlib.pyplot as plt\n",
        "import seaborn as sns\n",
        "\n",
        "import os"
      ],
      "execution_count": 2,
      "outputs": []
    },
    {
      "cell_type": "code",
      "metadata": {
        "id": "rFqA6uw0ditC",
        "outputId": "c72becc8-4f9a-4b64-b368-e0fe58d884c8",
        "colab": {
          "base_uri": "https://localhost:8080/"
        }
      },
      "source": [
        "d_path = ROOT + '/kaggle/EDA'\n",
        "\n",
        "for dirname, _, filenames in os.walk(d_path):\n",
        "  for filename in filenames:\n",
        "    print(os.path.join(dirname, filename))"
      ],
      "execution_count": 3,
      "outputs": [
        {
          "output_type": "stream",
          "text": [
            "/content/drive/My Drive/Colab Notebooks/data/kaggle/EDA/inupt/kakr-4th-competition/train.csv\n",
            "/content/drive/My Drive/Colab Notebooks/data/kaggle/EDA/inupt/kakr-4th-competition/sample_submission.csv\n",
            "/content/drive/My Drive/Colab Notebooks/data/kaggle/EDA/inupt/kakr-4th-competition/test.csv\n"
          ],
          "name": "stdout"
        }
      ]
    },
    {
      "cell_type": "code",
      "metadata": {
        "id": "YET2LHvOhyGn"
      },
      "source": [
        "def f_c(child):\n",
        "  return \"{}/inupt/kakr-4th-competition/{}\".format(d_path, child)"
      ],
      "execution_count": 4,
      "outputs": []
    },
    {
      "cell_type": "code",
      "metadata": {
        "id": "EN8QDFQagQke"
      },
      "source": [
        "train_data = pd.read_csv(f_c('/train.csv'))\n",
        "test_data = pd.read_csv(f_c('test.csv'))"
      ],
      "execution_count": 5,
      "outputs": []
    },
    {
      "cell_type": "code",
      "metadata": {
        "id": "xVN7QViqiPUe",
        "outputId": "43230de0-634c-4d66-9a14-d27b26dc60a8",
        "colab": {
          "base_uri": "https://localhost:8080/",
          "height": 198
        }
      },
      "source": [
        "train_data.head()"
      ],
      "execution_count": 6,
      "outputs": [
        {
          "output_type": "execute_result",
          "data": {
            "text/html": [
              "<div>\n",
              "<style scoped>\n",
              "    .dataframe tbody tr th:only-of-type {\n",
              "        vertical-align: middle;\n",
              "    }\n",
              "\n",
              "    .dataframe tbody tr th {\n",
              "        vertical-align: top;\n",
              "    }\n",
              "\n",
              "    .dataframe thead th {\n",
              "        text-align: right;\n",
              "    }\n",
              "</style>\n",
              "<table border=\"1\" class=\"dataframe\">\n",
              "  <thead>\n",
              "    <tr style=\"text-align: right;\">\n",
              "      <th></th>\n",
              "      <th>id</th>\n",
              "      <th>age</th>\n",
              "      <th>workclass</th>\n",
              "      <th>fnlwgt</th>\n",
              "      <th>education</th>\n",
              "      <th>education_num</th>\n",
              "      <th>marital_status</th>\n",
              "      <th>occupation</th>\n",
              "      <th>relationship</th>\n",
              "      <th>race</th>\n",
              "      <th>sex</th>\n",
              "      <th>capital_gain</th>\n",
              "      <th>capital_loss</th>\n",
              "      <th>hours_per_week</th>\n",
              "      <th>native_country</th>\n",
              "      <th>income</th>\n",
              "    </tr>\n",
              "  </thead>\n",
              "  <tbody>\n",
              "    <tr>\n",
              "      <th>0</th>\n",
              "      <td>0</td>\n",
              "      <td>40</td>\n",
              "      <td>Private</td>\n",
              "      <td>168538</td>\n",
              "      <td>HS-grad</td>\n",
              "      <td>9</td>\n",
              "      <td>Married-civ-spouse</td>\n",
              "      <td>Sales</td>\n",
              "      <td>Husband</td>\n",
              "      <td>White</td>\n",
              "      <td>Male</td>\n",
              "      <td>0</td>\n",
              "      <td>0</td>\n",
              "      <td>60</td>\n",
              "      <td>United-States</td>\n",
              "      <td>&gt;50K</td>\n",
              "    </tr>\n",
              "    <tr>\n",
              "      <th>1</th>\n",
              "      <td>1</td>\n",
              "      <td>17</td>\n",
              "      <td>Private</td>\n",
              "      <td>101626</td>\n",
              "      <td>9th</td>\n",
              "      <td>5</td>\n",
              "      <td>Never-married</td>\n",
              "      <td>Machine-op-inspct</td>\n",
              "      <td>Own-child</td>\n",
              "      <td>White</td>\n",
              "      <td>Male</td>\n",
              "      <td>0</td>\n",
              "      <td>0</td>\n",
              "      <td>20</td>\n",
              "      <td>United-States</td>\n",
              "      <td>&lt;=50K</td>\n",
              "    </tr>\n",
              "    <tr>\n",
              "      <th>2</th>\n",
              "      <td>2</td>\n",
              "      <td>18</td>\n",
              "      <td>Private</td>\n",
              "      <td>353358</td>\n",
              "      <td>Some-college</td>\n",
              "      <td>10</td>\n",
              "      <td>Never-married</td>\n",
              "      <td>Other-service</td>\n",
              "      <td>Own-child</td>\n",
              "      <td>White</td>\n",
              "      <td>Male</td>\n",
              "      <td>0</td>\n",
              "      <td>0</td>\n",
              "      <td>16</td>\n",
              "      <td>United-States</td>\n",
              "      <td>&lt;=50K</td>\n",
              "    </tr>\n",
              "    <tr>\n",
              "      <th>3</th>\n",
              "      <td>3</td>\n",
              "      <td>21</td>\n",
              "      <td>Private</td>\n",
              "      <td>151158</td>\n",
              "      <td>Some-college</td>\n",
              "      <td>10</td>\n",
              "      <td>Never-married</td>\n",
              "      <td>Prof-specialty</td>\n",
              "      <td>Own-child</td>\n",
              "      <td>White</td>\n",
              "      <td>Female</td>\n",
              "      <td>0</td>\n",
              "      <td>0</td>\n",
              "      <td>25</td>\n",
              "      <td>United-States</td>\n",
              "      <td>&lt;=50K</td>\n",
              "    </tr>\n",
              "    <tr>\n",
              "      <th>4</th>\n",
              "      <td>4</td>\n",
              "      <td>24</td>\n",
              "      <td>Private</td>\n",
              "      <td>122234</td>\n",
              "      <td>Some-college</td>\n",
              "      <td>10</td>\n",
              "      <td>Never-married</td>\n",
              "      <td>Adm-clerical</td>\n",
              "      <td>Not-in-family</td>\n",
              "      <td>Black</td>\n",
              "      <td>Female</td>\n",
              "      <td>0</td>\n",
              "      <td>0</td>\n",
              "      <td>20</td>\n",
              "      <td>?</td>\n",
              "      <td>&lt;=50K</td>\n",
              "    </tr>\n",
              "  </tbody>\n",
              "</table>\n",
              "</div>"
            ],
            "text/plain": [
              "   id  age workclass  ...  hours_per_week native_country  income\n",
              "0   0   40   Private  ...              60  United-States    >50K\n",
              "1   1   17   Private  ...              20  United-States   <=50K\n",
              "2   2   18   Private  ...              16  United-States   <=50K\n",
              "3   3   21   Private  ...              25  United-States   <=50K\n",
              "4   4   24   Private  ...              20              ?   <=50K\n",
              "\n",
              "[5 rows x 16 columns]"
            ]
          },
          "metadata": {
            "tags": []
          },
          "execution_count": 6
        }
      ]
    },
    {
      "cell_type": "markdown",
      "metadata": {
        "id": "a3KEVyNyjETr"
      },
      "source": [
        "#### .sample(cnt)\n",
        "\n",
        "- default 랜덤 5개"
      ]
    },
    {
      "cell_type": "code",
      "metadata": {
        "id": "VM-5MJcLjAK2",
        "outputId": "0ac2db3e-c5ad-4c75-83f6-fe9a9ec6d987",
        "colab": {
          "base_uri": "https://localhost:8080/",
          "height": 173
        }
      },
      "source": [
        "train_data.sample(3)"
      ],
      "execution_count": 7,
      "outputs": [
        {
          "output_type": "execute_result",
          "data": {
            "text/html": [
              "<div>\n",
              "<style scoped>\n",
              "    .dataframe tbody tr th:only-of-type {\n",
              "        vertical-align: middle;\n",
              "    }\n",
              "\n",
              "    .dataframe tbody tr th {\n",
              "        vertical-align: top;\n",
              "    }\n",
              "\n",
              "    .dataframe thead th {\n",
              "        text-align: right;\n",
              "    }\n",
              "</style>\n",
              "<table border=\"1\" class=\"dataframe\">\n",
              "  <thead>\n",
              "    <tr style=\"text-align: right;\">\n",
              "      <th></th>\n",
              "      <th>id</th>\n",
              "      <th>age</th>\n",
              "      <th>workclass</th>\n",
              "      <th>fnlwgt</th>\n",
              "      <th>education</th>\n",
              "      <th>education_num</th>\n",
              "      <th>marital_status</th>\n",
              "      <th>occupation</th>\n",
              "      <th>relationship</th>\n",
              "      <th>race</th>\n",
              "      <th>sex</th>\n",
              "      <th>capital_gain</th>\n",
              "      <th>capital_loss</th>\n",
              "      <th>hours_per_week</th>\n",
              "      <th>native_country</th>\n",
              "      <th>income</th>\n",
              "    </tr>\n",
              "  </thead>\n",
              "  <tbody>\n",
              "    <tr>\n",
              "      <th>6164</th>\n",
              "      <td>6164</td>\n",
              "      <td>34</td>\n",
              "      <td>Local-gov</td>\n",
              "      <td>353270</td>\n",
              "      <td>Assoc-voc</td>\n",
              "      <td>11</td>\n",
              "      <td>Never-married</td>\n",
              "      <td>Craft-repair</td>\n",
              "      <td>Own-child</td>\n",
              "      <td>White</td>\n",
              "      <td>Female</td>\n",
              "      <td>0</td>\n",
              "      <td>0</td>\n",
              "      <td>40</td>\n",
              "      <td>United-States</td>\n",
              "      <td>&lt;=50K</td>\n",
              "    </tr>\n",
              "    <tr>\n",
              "      <th>22749</th>\n",
              "      <td>22749</td>\n",
              "      <td>31</td>\n",
              "      <td>Self-emp-inc</td>\n",
              "      <td>83748</td>\n",
              "      <td>Some-college</td>\n",
              "      <td>10</td>\n",
              "      <td>Married-civ-spouse</td>\n",
              "      <td>Exec-managerial</td>\n",
              "      <td>Wife</td>\n",
              "      <td>Asian-Pac-Islander</td>\n",
              "      <td>Female</td>\n",
              "      <td>0</td>\n",
              "      <td>0</td>\n",
              "      <td>70</td>\n",
              "      <td>South</td>\n",
              "      <td>&lt;=50K</td>\n",
              "    </tr>\n",
              "    <tr>\n",
              "      <th>728</th>\n",
              "      <td>728</td>\n",
              "      <td>46</td>\n",
              "      <td>Private</td>\n",
              "      <td>368561</td>\n",
              "      <td>Bachelors</td>\n",
              "      <td>13</td>\n",
              "      <td>Married-civ-spouse</td>\n",
              "      <td>Sales</td>\n",
              "      <td>Husband</td>\n",
              "      <td>White</td>\n",
              "      <td>Male</td>\n",
              "      <td>0</td>\n",
              "      <td>0</td>\n",
              "      <td>55</td>\n",
              "      <td>United-States</td>\n",
              "      <td>&gt;50K</td>\n",
              "    </tr>\n",
              "  </tbody>\n",
              "</table>\n",
              "</div>"
            ],
            "text/plain": [
              "          id  age     workclass  ...  hours_per_week native_country  income\n",
              "6164    6164   34     Local-gov  ...              40  United-States   <=50K\n",
              "22749  22749   31  Self-emp-inc  ...              70          South   <=50K\n",
              "728      728   46       Private  ...              55  United-States    >50K\n",
              "\n",
              "[3 rows x 16 columns]"
            ]
          },
          "metadata": {
            "tags": []
          },
          "execution_count": 7
        }
      ]
    },
    {
      "cell_type": "markdown",
      "metadata": {
        "id": "n9asgTzdxAdW"
      },
      "source": [
        "결측치가 있는가?\n",
        "Non-Null Count 정보를 보여준다.\n",
        "\n",
        "int는 머신에 바로 넣을 수 있지만 Object 같은 값은 변환과 같은 정제가 필요하다."
      ]
    },
    {
      "cell_type": "code",
      "metadata": {
        "id": "IqFVtqY5jdKV",
        "outputId": "914d901f-e3ca-4c94-e70e-155f40c1c114",
        "colab": {
          "base_uri": "https://localhost:8080/"
        }
      },
      "source": [
        "train_data.info()"
      ],
      "execution_count": 8,
      "outputs": [
        {
          "output_type": "stream",
          "text": [
            "<class 'pandas.core.frame.DataFrame'>\n",
            "RangeIndex: 26049 entries, 0 to 26048\n",
            "Data columns (total 16 columns):\n",
            " #   Column          Non-Null Count  Dtype \n",
            "---  ------          --------------  ----- \n",
            " 0   id              26049 non-null  int64 \n",
            " 1   age             26049 non-null  int64 \n",
            " 2   workclass       26049 non-null  object\n",
            " 3   fnlwgt          26049 non-null  int64 \n",
            " 4   education       26049 non-null  object\n",
            " 5   education_num   26049 non-null  int64 \n",
            " 6   marital_status  26049 non-null  object\n",
            " 7   occupation      26049 non-null  object\n",
            " 8   relationship    26049 non-null  object\n",
            " 9   race            26049 non-null  object\n",
            " 10  sex             26049 non-null  object\n",
            " 11  capital_gain    26049 non-null  int64 \n",
            " 12  capital_loss    26049 non-null  int64 \n",
            " 13  hours_per_week  26049 non-null  int64 \n",
            " 14  native_country  26049 non-null  object\n",
            " 15  income          26049 non-null  object\n",
            "dtypes: int64(7), object(9)\n",
            "memory usage: 3.2+ MB\n"
          ],
          "name": "stdout"
        }
      ]
    },
    {
      "cell_type": "markdown",
      "metadata": {
        "id": "4YtYtwxkxNZO"
      },
      "source": [
        "미싱 값을 시각화 하는 라이브러리\n",
        "\n",
        "아래 그래프는 빈 값이 없다는 것을 확인할 있다."
      ]
    },
    {
      "cell_type": "code",
      "metadata": {
        "id": "m75A6CG2xMqR",
        "outputId": "e0b4217f-1312-4698-f8b2-fa43252e22dd",
        "colab": {
          "base_uri": "https://localhost:8080/",
          "height": 715
        }
      },
      "source": [
        "import missingno as msno\n",
        "msno.matrix(train_data)"
      ],
      "execution_count": 9,
      "outputs": [
        {
          "output_type": "execute_result",
          "data": {
            "text/plain": [
              "<matplotlib.axes._subplots.AxesSubplot at 0x7f0b4282d438>"
            ]
          },
          "metadata": {
            "tags": []
          },
          "execution_count": 9
        },
        {
          "output_type": "display_data",
          "data": {
            "image/png": "[encoded data removed]",
            "text/plain": [
              "<Figure size 1800x720 with 2 Axes>"
            ]
          },
          "metadata": {
            "tags": [],
            "needs_background": "light"
          }
        }
      ]
    },
    {
      "cell_type": "markdown",
      "metadata": {
        "id": "oq1YXDLkxwZD"
      },
      "source": [
        "value_counts\n",
        "시각화"
      ]
    },
    {
      "cell_type": "code",
      "metadata": {
        "id": "crxI3jJLxvLb",
        "outputId": "a114a079-2740-4387-db6d-03625b90299d",
        "colab": {
          "base_uri": "https://localhost:8080/",
          "height": 442
        }
      },
      "source": [
        "fig, ax = plt.subplots(1, 1, figsize=(12, 7))\n",
        "sns.countplot(data=train_data, x='workclass', ax=ax)\n",
        "plt.show()"
      ],
      "execution_count": 10,
      "outputs": [
        {
          "output_type": "display_data",
          "data": {
            "image/png": "[encoded data removed]",
            "text/plain": [
              "<Figure size 864x504 with 1 Axes>"
            ]
          },
          "metadata": {
            "tags": [],
            "needs_background": "light"
          }
        }
      ]
    },
    {
      "cell_type": "markdown",
      "metadata": {
        "id": "wLn6mILoyYTm"
      },
      "source": [
        "인종도 백인이 더 많은 것을 혹인할 수 있다.\n",
        "\n",
        "hue: 색상\n",
        "\n",
        "hue='sex'\n",
        "\n",
        "race(인종)의 **색상**을 sex(성별)로 **나누어서** 본다."
      ]
    },
    {
      "cell_type": "code",
      "metadata": {
        "id": "1y6aZHX8yVrM",
        "outputId": "a8e37ff0-0d27-45d1-e45f-57a4e8921837",
        "colab": {
          "base_uri": "https://localhost:8080/",
          "height": 442
        }
      },
      "source": [
        "fig, ax = plt.subplots(1, 1, figsize=(12, 7))\n",
        "sns.countplot(data=train_data, x='race', ax=ax, hue='sex')\n",
        "plt.show()"
      ],
      "execution_count": 11,
      "outputs": [
        {
          "output_type": "display_data",
          "data": {
            "image/png": "[encoded data removed]",
            "text/plain": [
              "<Figure size 864x504 with 1 Axes>"
            ]
          },
          "metadata": {
            "tags": [],
            "needs_background": "light"
          }
        }
      ]
    },
    {
      "cell_type": "markdown",
      "metadata": {
        "id": "JTG35ui2jSQG"
      },
      "source": [
        "데이터의 각 feature는 다음과 같은 의미를 가지고 있습니다. (data description에서 제공)\n",
        "\n",
        "* age : 나이\n",
        "* workclass : 고용 형태\n",
        "* fnlwgt : 사람 대표성을 나타내는 가중치 * (final weight의 약자)\n",
        "* education : 교육 수준\n",
        "* education_num : 교육 수준 수치\n",
        "* marital_status: 결혼 상태\n",
        "* occupation : 업종\n",
        "* relationship : 가족 관계\n",
        "* race : 인종\n",
        "* sex : 성별\n",
        "* capital_gain : 양도 소득\n",
        "* capital_loss : 양도 손실\n",
        "* hours_per_week : 주당 근무 시간\n",
        "* native_country : 국적\n",
        "* income : 수익 (예측해야 하는 값)"
      ]
    },
    {
      "cell_type": "code",
      "metadata": {
        "id": "iBrM47WUjiNq",
        "outputId": "9e8d3f4d-5a25-4879-bae3-857fffd444bc",
        "colab": {
          "base_uri": "https://localhost:8080/",
          "height": 168
        }
      },
      "source": [
        "train_data.describe(include='O')"
      ],
      "execution_count": 12,
      "outputs": [
        {
          "output_type": "execute_result",
          "data": {
            "text/html": [
              "<div>\n",
              "<style scoped>\n",
              "    .dataframe tbody tr th:only-of-type {\n",
              "        vertical-align: middle;\n",
              "    }\n",
              "\n",
              "    .dataframe tbody tr th {\n",
              "        vertical-align: top;\n",
              "    }\n",
              "\n",
              "    .dataframe thead th {\n",
              "        text-align: right;\n",
              "    }\n",
              "</style>\n",
              "<table border=\"1\" class=\"dataframe\">\n",
              "  <thead>\n",
              "    <tr style=\"text-align: right;\">\n",
              "      <th></th>\n",
              "      <th>workclass</th>\n",
              "      <th>education</th>\n",
              "      <th>marital_status</th>\n",
              "      <th>occupation</th>\n",
              "      <th>relationship</th>\n",
              "      <th>race</th>\n",
              "      <th>sex</th>\n",
              "      <th>native_country</th>\n",
              "      <th>income</th>\n",
              "    </tr>\n",
              "  </thead>\n",
              "  <tbody>\n",
              "    <tr>\n",
              "      <th>count</th>\n",
              "      <td>26049</td>\n",
              "      <td>26049</td>\n",
              "      <td>26049</td>\n",
              "      <td>26049</td>\n",
              "      <td>26049</td>\n",
              "      <td>26049</td>\n",
              "      <td>26049</td>\n",
              "      <td>26049</td>\n",
              "      <td>26049</td>\n",
              "    </tr>\n",
              "    <tr>\n",
              "      <th>unique</th>\n",
              "      <td>9</td>\n",
              "      <td>16</td>\n",
              "      <td>7</td>\n",
              "      <td>15</td>\n",
              "      <td>6</td>\n",
              "      <td>5</td>\n",
              "      <td>2</td>\n",
              "      <td>41</td>\n",
              "      <td>2</td>\n",
              "    </tr>\n",
              "    <tr>\n",
              "      <th>top</th>\n",
              "      <td>Private</td>\n",
              "      <td>HS-grad</td>\n",
              "      <td>Married-civ-spouse</td>\n",
              "      <td>Prof-specialty</td>\n",
              "      <td>Husband</td>\n",
              "      <td>White</td>\n",
              "      <td>Male</td>\n",
              "      <td>United-States</td>\n",
              "      <td>&lt;=50K</td>\n",
              "    </tr>\n",
              "    <tr>\n",
              "      <th>freq</th>\n",
              "      <td>18123</td>\n",
              "      <td>8433</td>\n",
              "      <td>11970</td>\n",
              "      <td>3304</td>\n",
              "      <td>10541</td>\n",
              "      <td>22315</td>\n",
              "      <td>17482</td>\n",
              "      <td>23371</td>\n",
              "      <td>19744</td>\n",
              "    </tr>\n",
              "  </tbody>\n",
              "</table>\n",
              "</div>"
            ],
            "text/plain": [
              "       workclass education      marital_status  ...    sex native_country income\n",
              "count      26049     26049               26049  ...  26049          26049  26049\n",
              "unique         9        16                   7  ...      2             41      2\n",
              "top      Private   HS-grad  Married-civ-spouse  ...   Male  United-States  <=50K\n",
              "freq       18123      8433               11970  ...  17482          23371  19744\n",
              "\n",
              "[4 rows x 9 columns]"
            ]
          },
          "metadata": {
            "tags": []
          },
          "execution_count": 12
        }
      ]
    },
    {
      "cell_type": "markdown",
      "metadata": {
        "id": "JA6p9STGjo2M"
      },
      "source": [
        "describe을 사용하면 **수치형 데이터**의 다음 통계값을 추출할 수 있습니다.\n",
        "\n",
        "* count : 개수\n",
        "* mean : 평균\n",
        "* std : 표준 편차\n",
        "* min : 최솟값\n",
        "* 25% : 제 1사분위값\n",
        "* 50% : 중앙값, 중위값\n",
        "* 75% : 제 3사분위값\n",
        "* max : 최댓값\n",
        "\n",
        "\n",
        "범주형 데이터의 경우 include='O'를 * 추가하여 확인할 수 있습니다."
      ]
    },
    {
      "cell_type": "code",
      "metadata": {
        "id": "JbotNS1xk7GO",
        "outputId": "786bc747-40fc-4497-cd68-ab15dfcf75c3",
        "colab": {
          "base_uri": "https://localhost:8080/"
        }
      },
      "source": [
        "for col in train_data.columns:\n",
        "  if train_data[col].dtype == 'object':\n",
        "    categories = train_data[col].unique()\n",
        "    print(f'[{col}], ({len(categories)})')\n",
        "    print('\\n'.join(categories))\n",
        "    print()"
      ],
      "execution_count": 13,
      "outputs": [
        {
          "output_type": "stream",
          "text": [
            "[workclass], (9)\n",
            "Private\n",
            "State-gov\n",
            "?\n",
            "Self-emp-not-inc\n",
            "Local-gov\n",
            "Federal-gov\n",
            "Self-emp-inc\n",
            "Without-pay\n",
            "Never-worked\n",
            "\n",
            "[education], (16)\n",
            "HS-grad\n",
            "9th\n",
            "Some-college\n",
            "Bachelors\n",
            "11th\n",
            "1st-4th\n",
            "5th-6th\n",
            "Assoc-acdm\n",
            "10th\n",
            "Prof-school\n",
            "7th-8th\n",
            "Masters\n",
            "Assoc-voc\n",
            "Doctorate\n",
            "12th\n",
            "Preschool\n",
            "\n",
            "[marital_status], (7)\n",
            "Married-civ-spouse\n",
            "Never-married\n",
            "Separated\n",
            "Married-spouse-absent\n",
            "Divorced\n",
            "Widowed\n",
            "Married-AF-spouse\n",
            "\n",
            "[occupation], (15)\n",
            "Sales\n",
            "Machine-op-inspct\n",
            "Other-service\n",
            "Prof-specialty\n",
            "Adm-clerical\n",
            "Craft-repair\n",
            "?\n",
            "Handlers-cleaners\n",
            "Farming-fishing\n",
            "Exec-managerial\n",
            "Transport-moving\n",
            "Protective-serv\n",
            "Tech-support\n",
            "Priv-house-serv\n",
            "Armed-Forces\n",
            "\n",
            "[relationship], (6)\n",
            "Husband\n",
            "Own-child\n",
            "Not-in-family\n",
            "Unmarried\n",
            "Wife\n",
            "Other-relative\n",
            "\n",
            "[race], (5)\n",
            "White\n",
            "Black\n",
            "Asian-Pac-Islander\n",
            "Other\n",
            "Amer-Indian-Eskimo\n",
            "\n",
            "[sex], (2)\n",
            "Male\n",
            "Female\n",
            "\n",
            "[native_country], (41)\n",
            "United-States\n",
            "?\n",
            "Mexico\n",
            "Poland\n",
            "Philippines\n",
            "Puerto-Rico\n",
            "Vietnam\n",
            "Germany\n",
            "Cuba\n",
            "France\n",
            "Ireland\n",
            "El-Salvador\n",
            "Guatemala\n",
            "Haiti\n",
            "Trinadad&Tobago\n",
            "Jamaica\n",
            "Canada\n",
            "Taiwan\n",
            "South\n",
            "Columbia\n",
            "Peru\n",
            "Japan\n",
            "Dominican-Republic\n",
            "China\n",
            "England\n",
            "Iran\n",
            "India\n",
            "Nicaragua\n",
            "Italy\n",
            "Honduras\n",
            "Thailand\n",
            "Ecuador\n",
            "Portugal\n",
            "Hungary\n",
            "Greece\n",
            "Hong\n",
            "Outlying-US(Guam-USVI-etc)\n",
            "Cambodia\n",
            "Scotland\n",
            "Yugoslavia\n",
            "Laos\n",
            "\n",
            "[income], (2)\n",
            ">50K\n",
            "<=50K\n",
            "\n"
          ],
          "name": "stdout"
        }
      ]
    },
    {
      "cell_type": "markdown",
      "metadata": {
        "id": "s0x9qFGOwg8b"
      },
      "source": [
        "## 데이터 분포를 살피기 위한 시각화\n",
        "\n",
        "* 범주형: bar\n",
        "\n",
        "* 수치형\n",
        "  - 이산형: bar\n",
        "  - 연속형: kdeplot, histogram\n",
        "\n",
        "* 범주형 + 수치형: boxplot, violinplot, etc\n",
        "* 수치형 + 수치형: scatter\n",
        "\n",
        "> 이 외에도 다양한 방법이 존재한다.\n"
      ]
    },
    {
      "cell_type": "markdown",
      "metadata": {
        "id": "cATNevN5w53G"
      },
      "source": [
        "### 범주형 데이터 분포\n",
        "\n",
        "분포를 확인하기 전 범주형 feature의 unique한 범주 개수를 세어본다.\n"
      ]
    },
    {
      "cell_type": "code",
      "metadata": {
        "id": "ToR0EJSSlOYS",
        "outputId": "d9f0f959-d991-49de-d146-3ac346ab01e7",
        "colab": {
          "base_uri": "https://localhost:8080/"
        }
      },
      "source": [
        "for col in train_data.columns:\n",
        "  if train_data[col].dtype == 'object':\n",
        "    categories = train_data[col].unique()\n",
        "    print(f'[{col}] ({len(categories)})]')"
      ],
      "execution_count": 14,
      "outputs": [
        {
          "output_type": "stream",
          "text": [
            "[workclass] (9)]\n",
            "[education] (16)]\n",
            "[marital_status] (7)]\n",
            "[occupation] (15)]\n",
            "[relationship] (6)]\n",
            "[race] (5)]\n",
            "[sex] (2)]\n",
            "[native_country] (41)]\n",
            "[income] (2)]\n"
          ],
          "name": "stdout"
        }
      ]
    },
    {
      "cell_type": "markdown",
      "metadata": {
        "id": "twDTiC8mxYj3"
      },
      "source": [
        "workclass : 9개\n",
        "\n",
        "education : 16개\n",
        "\n",
        "marital_status : 7개\n",
        "\n",
        "..."
      ]
    },
    {
      "cell_type": "code",
      "metadata": {
        "id": "AO0V_CfYxUhj",
        "outputId": "4201413a-e775-4a72-93b4-4c075112dda8",
        "colab": {
          "base_uri": "https://localhost:8080/"
        }
      },
      "source": [
        "train_data['sex'].value_counts()"
      ],
      "execution_count": 15,
      "outputs": [
        {
          "output_type": "execute_result",
          "data": {
            "text/plain": [
              "Male      17482\n",
              "Female     8567\n",
              "Name: sex, dtype: int64"
            ]
          },
          "metadata": {
            "tags": []
          },
          "execution_count": 15
        }
      ]
    },
    {
      "cell_type": "markdown",
      "metadata": {
        "id": "E2C3Pc0Gy8A_"
      },
      "source": [
        "seaborn"
      ]
    },
    {
      "cell_type": "code",
      "metadata": {
        "id": "nDQSK3-Fy7Jf",
        "outputId": "2516e872-50e4-4f30-ceb8-5d8dd73b60d1",
        "colab": {
          "base_uri": "https://localhost:8080/",
          "height": 406
        }
      },
      "source": [
        "fig, ax = plt.subplots(1, 1, figsize=(8, 6))\n",
        "sns.countplot(x='sex', data=train_data)"
      ],
      "execution_count": 16,
      "outputs": [
        {
          "output_type": "execute_result",
          "data": {
            "text/plain": [
              "<matplotlib.axes._subplots.AxesSubplot at 0x7f0b3f76ac88>"
            ]
          },
          "metadata": {
            "tags": []
          },
          "execution_count": 16
        },
        {
          "output_type": "display_data",
          "data": {
            "image/png": "[encoded data removed]",
            "text/plain": [
              "<Figure size 576x432 with 1 Axes>"
            ]
          },
          "metadata": {
            "tags": [],
            "needs_background": "light"
          }
        }
      ]
    },
    {
      "cell_type": "markdown",
      "metadata": {
        "id": "n4j376N6zRFp"
      },
      "source": [
        "### Custom\n",
        "\n",
        "- EDA의 핵심은 본인, 그리고 타인의 가독성을 생각하며 작성하는 것\n",
        "\n",
        "- 여백, 축, 공간, 텍스트 등의 내용을 활용하면 됨\n"
      ]
    },
    {
      "cell_type": "code",
      "metadata": {
        "id": "SxDJz0g7zQfD",
        "outputId": "fcc0e46e-bf1b-429a-88c8-659966442bde",
        "colab": {
          "base_uri": "https://localhost:8080/",
          "height": 554
        }
      },
      "source": [
        "fig, axes = plt.subplots(1, 3, figsize=(13, 7), sharey=True)\n",
        "\n",
        "sns.countplot(x='sex', \n",
        "              data=train_data, \n",
        "              ax=axes[0],\n",
        "              palette='Set2',\n",
        "              edgecolor='black')\n",
        "\n",
        "sns.countplot(x='income', \n",
        "              data=train_data, \n",
        "              ax=axes[1],\n",
        "              color='gray',\n",
        "              edgecolor='black')\n",
        "\n",
        "# 위에 복제\n",
        "sns.countplot(x='income', \n",
        "              data=train_data, \n",
        "              ax=axes[2],\n",
        "              color='yellow',\n",
        "              edgecolor='black')\n",
        "\n",
        "# Margin & Label 조정\n",
        "for ax in axes:\n",
        "  ax.margins(.12, .15)\n",
        "  ax.xaxis.label.set_size(12)\n",
        "  ax.xaxis.label.set_weight('bold')\n",
        "\n",
        "# figure title\n",
        "plt.suptitle('Categorical Distribution',\n",
        "             fontsize=17,\n",
        "             fontweight='bold',\n",
        "             x=.5,\n",
        "             y=1.06,\n",
        "             ha='left' # horizontal alignment\n",
        "             )\n",
        "plt.tight_layout()\n",
        "plt.show()"
      ],
      "execution_count": 17,
      "outputs": [
        {
          "output_type": "display_data",
          "data": {
            "image/png": "[encoded data removed]",
            "text/plain": [
              "<Figure size 936x504 with 3 Axes>"
            ]
          },
          "metadata": {
            "tags": [],
            "needs_background": "light"
          }
        }
      ]
    },
    {
      "cell_type": "markdown",
      "metadata": {
        "id": "w0LvpONo0_I3"
      },
      "source": [
        "* 남성과 여성의 비율 2:1 정도의 불균형\n",
        "\n",
        "* 타겟값인 income도 약 3:1 정도의 불균형\n",
        "\n",
        "인종과 국적도 어느정도 유사한 feature로 보인다.\n",
        "\n",
        "하지만 미국 국적이 너무 많아 유의미한 시각적인 분석은 전처리를 거친 후 진행해야 할 것 같다."
      ]
    },
    {
      "cell_type": "code",
      "metadata": {
        "id": "mbfuV3U50YRz",
        "outputId": "47026208-2eee-4b72-e16a-ae166ff3ae55",
        "colab": {
          "base_uri": "https://localhost:8080/",
          "height": 554
        }
      },
      "source": [
        "fig, axes = plt.subplots(1, 2, figsize=(20, 7), sharey=True)\n",
        "\n",
        "sns.countplot(x='race', data=train_data, ax=axes[0], color='gray', edgecolor='black')\n",
        "sns.countplot(x='native_country', data=train_data, ax=axes[1], color='gray', edgecolor='black')\n",
        "\n",
        "# Margin & label 조정\n",
        "for ax in axes:\n",
        "  ax.margins(.12, .15)\n",
        "  ax.xaxis.label.set_size(12)\n",
        "  ax.xaxis.label.set_weight('bold')\n",
        "\n",
        "plt.setp(axes[1].xaxis.get_majorticklabels(), rotation=90)\n",
        "\n",
        "# figure title\n",
        "\n",
        "plt.suptitle('Categorical Distribution 2',\n",
        "             fontsize=17,\n",
        "             fontweight='bold',\n",
        "             x=.5,\n",
        "             y=1.06,\n",
        "             ha='left'  # horizontal alignment\n",
        "             )\n",
        "\n",
        "plt.tight_layout()\n",
        "plt.show()"
      ],
      "execution_count": 18,
      "outputs": [
        {
          "output_type": "display_data",
          "data": {
            "image/png": "[encoded data removed]",
            "text/plain": [
              "<Figure size 1440x504 with 2 Axes>"
            ]
          },
          "metadata": {
            "tags": [],
            "needs_background": "light"
          }
        }
      ]
    },
    {
      "cell_type": "markdown",
      "metadata": {
        "id": "IL8rb_YMDhrT"
      },
      "source": [
        "이런 특성을 하나씩 살펴보며 후에 어떤 인코딩, 어떤 feature selection, feature engineering을 할 수 있을지 생각해보아야 한다.\n",
        "\n",
        "비슷한 방식으로 `relationship`과 `marital_status`도 살펴볼 수 있다."
      ]
    },
    {
      "cell_type": "code",
      "metadata": {
        "id": "ClsP8l-72Fkj",
        "outputId": "0b7b695d-cd9a-43a8-9f8d-360cc32c64cd",
        "colab": {
          "base_uri": "https://localhost:8080/",
          "height": 554
        }
      },
      "source": [
        "fig, axes = plt.subplots(1, 2, figsize=(20, 7), sharey=True)\n",
        "\n",
        "sns.countplot(x='relationship',\n",
        "              data=train_data,\n",
        "              ax=axes[0],\n",
        "              palette='Set2',\n",
        "              edgecolor='black')\n",
        "\n",
        "sns.countplot(x='marital_status',\n",
        "              data=train_data,\n",
        "              ax=axes[1],\n",
        "              palette='Set2',\n",
        "              edgecolor='black')\n",
        "\n",
        "# Margin & Label 조정\n",
        "for ax in axes:\n",
        "  ax.margins(.12, .15)\n",
        "  ax.xaxis.label.set_size(12)\n",
        "  ax.xaxis.label.set_weight('bold')\n",
        "\n",
        "# figure title\n",
        "plt.suptitle('Categorical Distribution 3',\n",
        "             fontsize=17,\n",
        "             fontweight='bold',\n",
        "             x=.05,\n",
        "             y=1.06,\n",
        "             ha='left'  # horizontal alignment\n",
        "             )\n",
        "\n",
        "plt.tight_layout()\n",
        "plt.show()"
      ],
      "execution_count": 19,
      "outputs": [
        {
          "output_type": "display_data",
          "data": {
            "image/png": "[encoded data removed]",
            "text/plain": [
              "<Figure size 1440x504 with 2 Axes>"
            ]
          },
          "metadata": {
            "tags": [],
            "needs_background": "light"
          }
        }
      ]
    },
    {
      "cell_type": "markdown",
      "metadata": {
        "id": "3A2Mig2jEy1Z"
      },
      "source": [
        "둘의 **관계**를 살피는 것도 유의미할 것"
      ]
    },
    {
      "cell_type": "code",
      "metadata": {
        "id": "5IRI7U6aEli4",
        "outputId": "940502d5-08a3-492e-d690-6a604599d592",
        "colab": {
          "base_uri": "https://localhost:8080/",
          "height": 554
        }
      },
      "source": [
        "fig, axes = plt.subplots(1, 3, figsize=(20, 7), sharey=True)\n",
        "\n",
        "sns.countplot(x='workclass', data=train_data, ax=axes[0], palette='Set2', edgecolor='black')\n",
        "sns.countplot(x='occupation', data=train_data, ax=axes[1], palette='Set2', edgecolor='black')\n",
        "sns.countplot(x='education', data=train_data, ax=axes[2], palette='Set2', edgecolor='black')\n",
        "\n",
        "# Margin & Label  조정\n",
        "for idx, ax in enumerate(axes):\n",
        "  ax.margins(.12, .15)\n",
        "  ax.xaxis.label.set_size(12)\n",
        "  ax.xaxis.label.set_weight('bold')\n",
        "  # label의 rotation 변경\n",
        "  plt.setp(axes[idx].xaxis.get_majorticklabels(), rotation=90)\n",
        "\n",
        "#figure title\n",
        "plt.suptitle('Categorical Distribution 3',\n",
        "             fontsize=17,\n",
        "             fontweight='bold',\n",
        "             x=.05,\n",
        "             y=1.06,\n",
        "             ha='left' # horizontal alignment\n",
        "             )\n",
        "plt.tight_layout()\n",
        "plt.show()"
      ],
      "execution_count": 20,
      "outputs": [
        {
          "output_type": "display_data",
          "data": {
            "image/png": "[encoded data removed]",
            "text/plain": [
              "<Figure size 1440x504 with 3 Axes>"
            ]
          },
          "metadata": {
            "tags": [],
            "needs_background": "light"
          }
        }
      ]
    },
    {
      "cell_type": "markdown",
      "metadata": {
        "id": "dJ4bZYJMgbUp"
      },
      "source": [
        "* education은 education_nun 순서가 유의미한 데이터로 축을 변경한다\n",
        "\n",
        "* occupation의 경우, workclass와 연결할 수 있을 것 같다.\n",
        "\n",
        "* education과 occupation은 영향이 있지 않을까?\n",
        "\n",
        "다음과 같은 내용을 살펴보며 모델링에 신경써보자\n"
      ]
    },
    {
      "cell_type": "markdown",
      "metadata": {
        "id": "kabmXeZ6hC4g"
      },
      "source": [
        "## 수치형 데이터의 시각화\n",
        "\n",
        "다음과 같은 수치형 데이터에서 일부만 살펴본다.\n",
        "\n",
        "* age\n",
        "* education_num\n",
        "* capital_gain\n",
        "* capital_loss\n",
        "* hours_per_week\n",
        "* fnlwgt"
      ]
    },
    {
      "cell_type": "code",
      "metadata": {
        "id": "4wy1zAIFgZIK",
        "outputId": "23c7f939-f052-477a-ba14-bc6e349a2391",
        "colab": {
          "base_uri": "https://localhost:8080/",
          "height": 336
        }
      },
      "source": [
        "fig, ax = plt.subplots(1, 1, figsize=(10, 5))\n",
        "\n",
        "ax.hist(train_data['age'], bins=10)\n",
        "ax.set_ylim(0, 6000)\n",
        "ax.set_title('Age Distribution')\n",
        "plt.show()"
      ],
      "execution_count": 21,
      "outputs": [
        {
          "output_type": "display_data",
          "data": {
            "image/png": "[encoded data removed]",
            "text/plain": [
              "<Figure size 720x360 with 1 Axes>"
            ]
          },
          "metadata": {
            "tags": [],
            "needs_background": "light"
          }
        }
      ]
    },
    {
      "cell_type": "markdown",
      "metadata": {
        "id": "V-aPNEiTkwQ6"
      },
      "source": [
        "인구조사인 만큼 17세부터 데이터가 시작하고 90세가 최고령임을 알 수 있다.\n",
        " 45세 부근에서 수가 급격하게 줄어드는 것을 볼 수 있다.\n",
        "\n",
        "나이는 어떤 식으로 인코딩하면 좋을까?\n",
        "타이타닉 대회에서 사용하는 age_band로 나이 구간을 만들 수 있고, 다양한 방식을 생각해보자\n",
        "\n",
        "---\n",
        "\n",
        "나머지 데이터도 이런 방식으로 EDA 해보자.\n",
        "\n",
        "* 더 깔끔하고\n",
        "* 더 많은 내용을 담고\n",
        "* 더 좋은 인사이트를 담는\n",
        "\n",
        "EDA 노트북을 만들어 보는 것부터 데이터 분석의 시작.\n",
        "\n"
      ]
    },
    {
      "cell_type": "code",
      "metadata": {
        "id": "JsdTYAmxhV0J"
      },
      "source": [
        ""
      ],
      "execution_count": 21,
      "outputs": []
    }
  ]
}
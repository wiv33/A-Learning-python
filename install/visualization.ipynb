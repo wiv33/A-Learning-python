{
  "nbformat": 4,
  "nbformat_minor": 0,
  "metadata": {
    "colab": {
      "name": "install/visualization.ipynb",
      "provenance": [],
      "collapsed_sections": [],
      "authorship_tag": "ABX9TyPEJUfL34qwuZ0fTJBeWTa4",
      "include_colab_link": true
    },
    "kernelspec": {
      "name": "python3",
      "display_name": "Python 3"
    }
  },
  "cells": [
    {
      "cell_type": "markdown",
      "metadata": {
        "id": "view-in-github",
        "colab_type": "text"
      },
      "source": [
        "<a href=\"https://colab.research.google.com/github/wiv33/A-Learning-python/blob/master/install/visualization.ipynb\" target=\"_parent\"><img src=\"https://colab.research.google.com/assets/colab-badge.svg\" alt=\"Open In Colab\"/></a>"
      ]
    },
    {
      "cell_type": "markdown",
      "metadata": {
        "id": "Gyct2r73KgnC"
      },
      "source": [
        "# [실행 후 재시작]"
      ]
    },
    {
      "cell_type": "code",
      "metadata": {
        "id": "4bpAHif9KapQ"
      },
      "source": [
        "!sudo apt-get install -y fonts-nanum\r\n",
        "!sudo fc-cache -fv\r\n",
        "!rm ~/.cache/matplotlib -rf\r\n",
        "!clear"
      ],
      "execution_count": null,
      "outputs": []
    },
    {
      "cell_type": "markdown",
      "metadata": {
        "id": "zVUziERbKvIp"
      },
      "source": [
        "# 자주 사용하는 시각화 패키지"
      ]
    },
    {
      "cell_type": "code",
      "metadata": {
        "id": "nIrk2lUpKmI8"
      },
      "source": [
        "import matplotlib.pyplot as plt\r\n",
        "import seaborn as sns\r\n",
        "import warnings\r\n",
        "\r\n",
        "import missingno as msno # NaN 데이터 확인하기\r\n",
        "# msno.matrix(DataFrame)\r\n",
        "warnings.filterwarnings('ignore')\r\n",
        "\r\n",
        "\r\n",
        "plt.rc('font', family='NanumBarunGothic') "
      ],
      "execution_count": null,
      "outputs": []
    }
  ]
}
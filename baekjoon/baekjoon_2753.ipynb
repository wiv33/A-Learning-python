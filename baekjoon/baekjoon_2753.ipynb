{
  "nbformat": 4,
  "nbformat_minor": 0,
  "metadata": {
    "colab": {
      "name": "baekjoon/2753.ipynb",
      "provenance": [],
      "authorship_tag": "ABX9TyPujvQrD9C9904AeFob9hiB",
      "include_colab_link": true
    },
    "kernelspec": {
      "name": "python3",
      "display_name": "Python 3"
    }
  },
  "cells": [
    {
      "cell_type": "markdown",
      "metadata": {
        "id": "view-in-github",
        "colab_type": "text"
      },
      "source": [
        "<a href=\"https://colab.research.google.com/github/wiv33/learning-python/blob/master/testPython/baekjoon_2753.ipynb\" target=\"_parent\"><img src=\"https://colab.research.google.com/assets/colab-badge.svg\" alt=\"Open In Colab\"/></a>"
      ]
    },
    {
      "cell_type": "markdown",
      "metadata": {
        "id": "NVPC4oKYejb8",
        "colab_type": "text"
      },
      "source": [
        "연도가 주어졌을 때,** 윤년이면 1, 아니면 0**을 출력하는 프로그램을 작성하시오.\n",
        "\n",
        "윤년은 연도가 4의 배수이면서, 100의 배수가 아닐 때 또는 400의 배수일 때이다.\n",
        "\n",
        "예를 들어, 2012년은 4의 배수이면서 100의 배수가 아니라서 윤년이다. 1900년은 100의 배수이고 400의 배수는 아니기 때문에 윤년이 아니다. 하지만, 2000년은 400의 배수이기 때문에 윤년이다."
      ]
    },
    {
      "cell_type": "code",
      "metadata": {
        "id": "8CB6ZjiRedDd",
        "colab_type": "code",
        "colab": {
          "base_uri": "https://localhost:8080/",
          "height": 35
        },
        "outputId": "a94c9c8b-0bbe-4786-a5b6-26e044ecb396"
      },
      "source": [
        "def isLeapYear(year):\n",
        "    year = int(year)\n",
        "    return (year % 4 == 0 and year % 100 != 0) or year % 400 == 0 if 1 else 0\n",
        "\n",
        "assert isLeapYear(400) == 1\n",
        "\n",
        "assert isLeapYear(2000) == 1\n",
        "\n",
        "assert isLeapYear(1999) == 0\n",
        "\n",
        "assert isLeapYear(1900) == 0\n",
        "\n",
        "assert isLeapYear(7) == 0\n",
        "\n",
        "if isLeapYear(400):\n",
        "  print(1)\n",
        "else:\n",
        "  print(0)"
      ],
      "execution_count": 16,
      "outputs": [
        {
          "output_type": "stream",
          "text": [
            "1\n"
          ],
          "name": "stdout"
        }
      ]
    }
  ]
}
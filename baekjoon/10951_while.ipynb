{
  "nbformat": 4,
  "nbformat_minor": 0,
  "metadata": {
    "colab": {
      "name": "10951_while.ipynb",
      "provenance": [],
      "authorship_tag": "ABX9TyP6ZI+Q0KZg/FIfS1u5yBkC",
      "include_colab_link": true
    },
    "kernelspec": {
      "name": "python3",
      "display_name": "Python 3"
    }
  },
  "cells": [
    {
      "cell_type": "markdown",
      "metadata": {
        "id": "view-in-github",
        "colab_type": "text"
      },
      "source": [
        "<a href=\"https://colab.research.google.com/github/wiv33/learning-python/blob/master/baekjoon/10951_while.ipynb\" target=\"_parent\"><img src=\"https://colab.research.google.com/assets/colab-badge.svg\" alt=\"Open In Colab\"/></a>"
      ]
    },
    {
      "cell_type": "code",
      "metadata": {
        "id": "xTf6itX6aFbL",
        "colab_type": "code",
        "colab": {}
      },
      "source": [
        "from sys import stdin\n",
        "\n",
        "while True:\n",
        "  line = stdin.readline().rstrip()\n",
        "  if line == None or line == \"\":\n",
        "    break\n",
        "  a, b = map(int, line.split(\" \"))\n",
        "  print(a + b)"
      ],
      "execution_count": 0,
      "outputs": []
    }
  ]
}